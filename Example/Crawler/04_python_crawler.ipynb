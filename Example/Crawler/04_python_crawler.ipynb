{
 "cells": [
  {
   "cell_type": "markdown",
   "metadata": {
    "id": "UsZSmAj47LXm",
    "slideshow": {
     "slide_type": "slide"
    }
   },
   "source": [
    "# **데이터 크롤링**"
   ]
  },
  {
   "cell_type": "markdown",
   "metadata": {
    "id": "qGMeSCoV7QTQ",
    "slideshow": {
     "slide_type": "slide"
    }
   },
   "source": [
    "## **크롤링이란?**\n",
    "> 크롤러(crawler)는 자동화된 방법으로 웹을 탐색하는 컴퓨터 프로그램  \n",
    "'웹 크롤링'(web crawling)??  \n",
    "'데이터 크롤링'(data crawling)!!  "
   ]
  },
  {
   "cell_type": "markdown",
   "metadata": {
    "id": "WboqZ6A47Yqe",
    "slideshow": {
     "slide_type": "slide"
    }
   },
   "source": [
    "우리는 매일 크롤러도 사용하고 있습니다."
   ]
  },
  {
   "cell_type": "markdown",
   "metadata": {
    "id": "5PfW0HG17td5",
    "slideshow": {
     "slide_type": "slide"
    }
   },
   "source": [
    "## **웹 크롤링**\n",
    "> 웹 서비스 내 정보를 수집하는 일\n",
    "\n",
    ">> 필요한 정보가 있다면?  \n",
    "API 확인 -> 없으면 직접 크롤링  \n",
    "    \n",
    "> 다만 서비스 제공자의 입장에서는??"
   ]
  },
  {
   "cell_type": "markdown",
   "metadata": {
    "id": "e0ITGMAN70Da",
    "slideshow": {
     "slide_type": "slide"
    }
   },
   "source": [
    "### 웹 서핑을 하는 의식의 흐름\n",
    "> - 브라우저 오픈  \n",
    "> - 원하는 인터넷페이지 주소 입력  \n",
    "> - 화면이 열리면 찾고자 하는 정보를 스크롤 하면서 찾기  \n",
    "> - 문자, 그림, 동영상 조회  "
   ]
  },
  {
   "cell_type": "markdown",
   "metadata": {
    "id": "AWcggzcG728P",
    "slideshow": {
     "slide_type": "slide"
    }
   },
   "source": [
    "### 웹 크롤링 하는 의식의 흐름\n",
    "> - 정보를 가져오고자 하는 url 정의\n",
    "> - url 정보로 requests로 정보 요청\n",
    "> - text 정보를 html로 변환\n",
    "> - html에서 우리가 필요한 정보만 선별"
   ]
  },
  {
   "cell_type": "markdown",
   "metadata": {
    "id": "XT464CpR75Uh",
    "slideshow": {
     "slide_type": "slide"
    }
   },
   "source": [
    "### 웹 크롤링을 위해 BeautifulSoup 사용\n",
    "> - requests는 요청을 받기는 하지만 text로만 받음  \n",
    "> - API는 통신을 위해 정형화 된 데이터 형태의 text  \n",
    "> - 우리가 원하는 데이터로 가공하기 위해 편의상 html로 변환  \n",
    "> - text를 html로 변환하는 모듈이 beautifulSoup"
   ]
  },
  {
   "cell_type": "markdown",
   "metadata": {
    "id": "5j1oR5fO78FW",
    "slideshow": {
     "slide_type": "slide"
    }
   },
   "source": [
    "### 간단한 데이터 크롤링으로 기본 개념잡기"
   ]
  },
  {
   "cell_type": "code",
   "execution_count": 1,
   "metadata": {
    "ExecuteTime": {
     "end_time": "2022-04-25T00:31:33.972025Z",
     "start_time": "2022-04-25T00:31:33.736367Z"
    }
   },
   "outputs": [],
   "source": [
    "# 필요패키지 import\n",
    "import numpy as np\n",
    "import pandas as pd\n",
    "import requests # 크롤링에 사용하는 패키지\n",
    "from bs4 import BeautifulSoup # html 변환에 사용함"
   ]
  },
  {
   "cell_type": "markdown",
   "metadata": {},
   "source": [
    "#### 네이버 메인페이지 크롤링"
   ]
  },
  {
   "cell_type": "code",
   "execution_count": null,
   "metadata": {
    "ExecuteTime": {
     "end_time": "2022-04-25T01:14:10.597369Z",
     "start_time": "2022-04-25T01:14:10.125746Z"
    },
    "scrolled": false
   },
   "outputs": [],
   "source": [
    "'''\n",
    "정보를 가져오고자 하는 url 정의\n",
    "url 정보로 requests로 정보 요청\n",
    "text 정보를 html로 변환\n",
    "html에서 우리가 필요한 정보만 선별\n",
    "'''\n",
    "# 네이버 메인페이지\n",
    "# url정의(문자열 형식으로 전달, https:// 포함)\n",
    "url = 'https://www.naver.com'\n",
    "\n",
    "# requsts로 url에 정보요청\n",
    "# requests 파이썬이 컴퓨터간 통신체계에 해당하는 명령어들을 사용하도록 만든 패키지\n",
    "# 해당코드를 실행시키는 순간 서비스제공자에게 정보요청을 함.\n",
    "\n",
    "resp = requests.get(url)\n",
    "\n",
    "# 정보를 html 변환 (보기 쉽게)\n",
    "html = BeautifulSoup(resp.text, 'html.parser')\n",
    "\n",
    "# html 내에서 우리가 보고 싶은 정보만 선별\n",
    "html.select('img')"
   ]
  },
  {
   "cell_type": "markdown",
   "metadata": {},
   "source": [
    "#### 다음 뉴스페이지 크롤링"
   ]
  },
  {
   "cell_type": "code",
   "execution_count": 14,
   "metadata": {
    "ExecuteTime": {
     "end_time": "2022-04-25T01:41:49.452012Z",
     "start_time": "2022-04-25T01:41:49.216802Z"
    }
   },
   "outputs": [],
   "source": [
    "# 다음 뉴스 페이지 크롤링\n",
    "# url정의\n",
    "url = 'https://news.daum.net/'\n",
    "\n",
    "# requsts로 url에 정보요청\n",
    "resp = requests.get(url)\n",
    "\n",
    "# 정보를 html 변환 (보기 쉽게)\n",
    "html = BeautifulSoup(resp.text, 'html.parser')\n",
    "\n",
    "# html 내에서 뉴스헤더 선별\n",
    "for news in html.select('a.link_txt')[:-13]:\n",
    "    print(news.text.strip())"
   ]
  },
  {
   "cell_type": "code",
   "execution_count": 17,
   "metadata": {
    "ExecuteTime": {
     "end_time": "2022-04-25T01:43:25.293692Z",
     "start_time": "2022-04-25T01:43:25.259294Z"
    }
   },
   "outputs": [],
   "source": [
    "html = BeautifulSoup(resp.text, 'html.parser')"
   ]
  },
  {
   "cell_type": "code",
   "execution_count": 37,
   "metadata": {
    "ExecuteTime": {
     "end_time": "2022-04-25T02:06:26.078374Z",
     "start_time": "2022-04-25T02:06:26.060863Z"
    }
   },
   "outputs": [
    {
     "name": "stdout",
     "output_type": "stream",
     "text": [
      "우크라 침공 60일..러, 마리우폴·동부 공세에 민간인 피해\n",
      "700억원 낸 우주정거장 체류 민간인 닷새 '덤' 끝내고 귀환 중\n",
      "니카라과, OAS 사무소 폐쇄..직원들 추방\n",
      "김오수 \"검찰, 중재안 동의할 수 없다\"..'수사권 박탈 동조' 의혹 부인\n",
      "최교진 세종시교육감 3선 도전 선언 \"교육수도 완성\"\n",
      "지금 우크라와 겹치는 120년 전 러시아 고전 뮤지컬\n",
      "상상 그 이상의 '도발'.. 韓 여성작가 이미래의 '미래'에 기대감\n",
      "인수위, 코로나 피해 손실보상안 이번 주 발표\n",
      "인수위 막바지..이번주 국정과제 확정·대통령실 인선 마무리\n",
      "전국 버스 2만대 멈춰서나..9개 지역 노조 오늘 막판 협상\n",
      "코로나19 유행 감소세지만 고령층 확진 비중↑..'안심은 금물'\n",
      "우크라 부총리 \"부활절 기간 대피로 열리지 않아\"\n",
      "은평구, 1인가구 맞춤형 집중지원..안심마을보안관 등 추진\n",
      "대검 넘버3 \"검수완박 너무 걱정돼.. 공청회라도 열라\"인터뷰\n",
      "공정위 \"재벌 물류·IT 계열사 내부거래 공시로 영업전략 노출 없어\"\n",
      "원주시 '제1호 역사공원' 준공..원주향교 도시문화사업으로 추진\n",
      "인니 아낙 크라카타우 화산 '으르렁'..경보단계 격상\n",
      "제주도, 보호감시원 투입 동물 학대 행위 현장점검\n",
      "송영길 피습 피의자 극단 선택..법무부, 남부구치소 관리 소홀 점검 나서\n",
      "전국 버스노조 '총파업 예고'..순천, 이미 운행 중단\n",
      "현장영상+ 김오수 \"중재안, 검수완박 시행시기만 잠시 늦춘 것에 불과\"\n",
      "뉴스라이브 이준석 \"검수완박 합의 재검토\"..'뒤집기' 시도?\n",
      "입술 깨물며 안절부절..'푸틴 건강 이상' 의심되는 영상 또 나와\n",
      "인터뷰대검 넘버3 \"검수완박 너무 걱정돼.. 공청회라도 열라\"\n",
      "뉴스킹 '미리 보는' 한덕수 인사청문회..'론스타'부터 '임대왕'까지 6가지 법리적 쟁점\n",
      "유형재의 새록새록 귀향 않고 경포에 머물던 백조의 안타까운 소식\n",
      "시선집중 하태경 \"검수완박 중재안, 국민의힘 내서 사실상 파기.. 尹 입장 반영된 것\"\n",
      "'알코올 사용장애', 그 사람을 탓하기 전에\n",
      "문재인 대통령, 코로나19 백신 4차 접종\n",
      "김오수 검찰총장 \"'검수완박' 중재안 명확히 반대\"\n",
      "목성에 드리운 '달 그림자'..신비로운 '일식쇼' 포착\n",
      "국민의힘, 최고위서 '검수완박' 중재안 논의\n"
     ]
    }
   ],
   "source": [
    "for news in html.select('a.link_txt')[:-13]:\n",
    "    print(news.text.strip().replace('[', '').replace(']', ''))"
   ]
  },
  {
   "cell_type": "code",
   "execution_count": 42,
   "metadata": {
    "ExecuteTime": {
     "end_time": "2022-04-25T02:23:42.427477Z",
     "start_time": "2022-04-25T02:23:41.440803Z"
    }
   },
   "outputs": [],
   "source": [
    "# 다음에서 로또번호 혹은 로또로 검색해서 표시되는 로또번호 크롤링 해오기\n",
    "url = 'https://search.naver.com/search.naver?where=nexearch&sm=top_hty&fbm=1&ie=utf8&query=%EB%A1%9C%EB%98%90%EB%B2%88%ED%98%B8'\n",
    "\n",
    "# requsts로 url에 정보요청\n",
    "resp = requests.get(url)\n",
    "\n",
    "# 정보를 html 변환 (보기 쉽게)\n",
    "html = BeautifulSoup(resp.text, 'html.parser')"
   ]
  },
  {
   "cell_type": "code",
   "execution_count": 55,
   "metadata": {
    "ExecuteTime": {
     "end_time": "2022-04-25T02:37:53.855895Z",
     "start_time": "2022-04-25T02:37:53.826990Z"
    }
   },
   "outputs": [
    {
     "name": "stdout",
     "output_type": "stream",
     "text": [
      "5\n",
      "11\n",
      "18\n",
      "20\n",
      "35\n",
      "45\n",
      "3\n"
     ]
    }
   ],
   "source": [
    "for ball_nm in html.select('span.ball'):\n",
    "    print(ball_nm.text)"
   ]
  },
  {
   "cell_type": "code",
   "execution_count": 47,
   "metadata": {
    "ExecuteTime": {
     "end_time": "2022-04-25T02:27:59.078968Z",
     "start_time": "2022-04-25T02:27:59.046767Z"
    }
   },
   "outputs": [
    {
     "name": "stdout",
     "output_type": "stream",
     "text": [
      "5\n",
      "11\n",
      "18\n",
      "20\n",
      "35\n",
      "45\n",
      "3\n"
     ]
    }
   ],
   "source": [
    "for ball_nm in html.select('span.ball'):\n",
    "    print(ball_nm.text)"
   ]
  },
  {
   "cell_type": "markdown",
   "metadata": {
    "id": "leESHsnF8kMy",
    "slideshow": {
     "slide_type": "slide"
    }
   },
   "source": [
    "### 실제 개발자가 작성한 코드로 확인된다\n",
    "> 정제되지 않은 데이터로 가독성이 좋지 않음  \n",
    "우리는 이 중에서 우리가 원하는 정보를 선별해서 가져오는 작업을 진행합니다.  \n",
    "그러기에 html의 기본 구성을 살펴보도록 하겠습니다.  "
   ]
  },
  {
   "cell_type": "markdown",
   "metadata": {
    "id": "ijN26CQi8oSa",
    "slideshow": {
     "slide_type": "slide"
    }
   },
   "source": [
    "#### 웹 페이지의 구성\n",
    "> **HTML(Hyper Text Markup Language)**  \n",
    "www 를 구성하는데 사용하는 국제표준 언어로서 컨텐츠와 레이아웃을 담고 있다\n",
    "\n",
    "> **<태그>** 내용 **</태그>**  \n",
    "<tag이름 class=\"class이름1 class이름2\" id=\"주민번호\" href=\"주소\"></tag이름>\n",
    "\n",
    "> 형태나 속성을 묘사하기 위한 구조적 언어 : HTML, CSS (계층이 있음)  \n",
    "웹의 작동 및 제어를 위한 프로그래밍 언어 :  Js"
   ]
  },
  {
   "cell_type": "markdown",
   "metadata": {
    "id": "7caqQS1q8xE9",
    "slideshow": {
     "slide_type": "slide"
    }
   },
   "source": [
    "#### 셀렉터\n",
    "> 용도 : html에서 내가 원하는 내용을 찾아내기 위해서  \n",
    "<span class=\"news\" id=\"1234\">비비고 왕교자</span>\n",
    "<span class=\"product\" id=\"1235\">비비고 볶음밥</span>\n",
    "\n",
    ">> 단일 셀렉터  \n",
    "html.select('span')  # 태그 이름이 span인 친구들을 다 들고옴  \n",
    "<span class=\"news\" id=\"1234\">비비고 왕교자</span>\n",
    "<span class=\"product\" id=\"1235\">비비고 볶음밥</span>\n",
    "\n",
    ">> 클래스 포함 셀렉터\n",
    "html.select('span.product')\n",
    "<span class=\"product\" id=\"1235\">비비고 볶음밥</span>\n",
    "\n",
    ">> id 포함 셀렉터\n",
    "id(고유값) : #1234\n",
    "html.select('span#1234')\n",
    "<span class=\"news\" id=\"1234\">비비고 왕교자</span>"
   ]
  },
  {
   "cell_type": "markdown",
   "metadata": {
    "id": "U-JjMflT80sS",
    "slideshow": {
     "slide_type": "slide"
    }
   },
   "source": [
    "#### 복합 셀렉터\n",
    "    1. 조합 셀렉터\n",
    "    <span>1</span>\n",
    "    <span class=\"txt\">2</span>\n",
    "    <em class=\"txt\">3</em>\n",
    "    \n",
    "    태그 이름이 span이고 클래스 이름은 txt인 라인을 찾고 싶다. : span.txt \n",
    "    em 태그 중에서 class가 txt 인 라인을 찾고\\ 싶다. : em.txt\n",
    "\n",
    "    2. 경로 셀렉터\n",
    "    \n",
    "    <span>이걸 찾으려면?</span>\n",
    "    <span>이걸 찾으려면?</span>\n",
    "    <span>이걸 찾으려면?</span>\n",
    "    <ul>\n",
    "        <li><span>이걸 찾으려면?</span></li>\n",
    "    </ul>\n",
    "    <span>이건 아님</span>\n",
    "\n",
    "    ul 태그안 li 태그 안 span 라인을 찾는다\n",
    "    ul > li > span 혹은 ul li span"
   ]
  },
  {
   "cell_type": "code",
   "execution_count": 48,
   "metadata": {
    "ExecuteTime": {
     "end_time": "2022-04-25T02:31:42.266538Z",
     "start_time": "2022-04-25T02:31:42.261370Z"
    }
   },
   "outputs": [],
   "source": [
    "import time"
   ]
  },
  {
   "cell_type": "code",
   "execution_count": 51,
   "metadata": {
    "ExecuteTime": {
     "end_time": "2022-04-25T02:32:32.386652Z",
     "start_time": "2022-04-25T02:32:22.366731Z"
    }
   },
   "outputs": [
    {
     "name": "stdout",
     "output_type": "stream",
     "text": [
      "0\n",
      "1\n",
      "2\n",
      "3\n",
      "4\n"
     ]
    }
   ],
   "source": [
    "for i in range(5):\n",
    "    time.sleep(2)\n",
    "    print(i)"
   ]
  },
  {
   "cell_type": "code",
   "execution_count": 63,
   "metadata": {
    "ExecuteTime": {
     "end_time": "2022-04-25T02:48:28.017099Z",
     "start_time": "2022-04-25T02:48:27.997354Z"
    }
   },
   "outputs": [
    {
     "name": "stdout",
     "output_type": "stream",
     "text": [
      "슬기로운의사생활, 도깨비, 오징어게임\n"
     ]
    }
   ],
   "source": [
    "key_list = ['슬기로운의사생활, 도깨비, 오징어게임']\n",
    "for item in key_list:\n",
    "    print(item)"
   ]
  },
  {
   "cell_type": "code",
   "execution_count": 64,
   "metadata": {
    "ExecuteTime": {
     "end_time": "2022-04-25T02:50:46.501397Z",
     "start_time": "2022-04-25T02:50:38.815096Z"
    }
   },
   "outputs": [
    {
     "name": "stdout",
     "output_type": "stream",
     "text": [
      "슬기로운의사생활 누군가는 태어나고 누군가는 삶을 끝내는, 인생의 축소판이라 불리는 병원에서 평범한 듯 특별한 하루하루를 살아가는 사람들과 눈빛만 봐도 알 수 있는 20년지기 친구들의 케미스토리를 담은 드라마\n",
      "도깨비 불멸의 삶을 끝내기 위해 인간 신부가 필요한 도깨비, 그와 기묘한 동거를 시작한 기억상실증 저승사자. 그런 그들 앞에 '도깨비 신부'라 주장하는 '죽었어야 할 운명'의 소녀가 나타나며 벌어지는 신비로운 낭만 설화\n",
      "오징어게임 456억 원의 상금이 걸린 의문의 서바이벌에 참가한 사람들이 최후의 승자가 되기 위해 목숨을 걸고 극한의 게임에 도전하는 이야기를 담은 넷플릭스 시리즈\n"
     ]
    }
   ],
   "source": [
    "# 슬의생, 도깨비, 오징어게임\n",
    "# 드라마 하나 정해서 크롤링 완료 된 것 확인하시고 # 슬의생, 도깨비, 오징어게임 리스트 만들어서 완성\n",
    "# 슬의생 드라마소개 크롤링\n",
    "# url 정의\n",
    "key_list = ['슬기로운의사생활', '도깨비', '오징어게임']\n",
    "for key_word in key_list:\n",
    "    \n",
    "    time.sleep(2)\n",
    "    url = f'https://search.naver.com/search.naver?where=nexearch&sm=top_hty&fbm=1&ie=utf8&query={key_word}'\n",
    "\n",
    "    # requsts로 url에 정보요청\n",
    "    resp = requests.get(url)\n",
    "\n",
    "    # 정보를 html 변환 (보기 쉽게)\n",
    "    html = BeautifulSoup(resp.text, 'html.parser')\n",
    "\n",
    "    print(key_word, html.select('span.desc')[0].text)"
   ]
  },
  {
   "cell_type": "code",
   "execution_count": 30,
   "metadata": {
    "ExecuteTime": {
     "end_time": "2021-09-17T05:09:38.607132Z",
     "start_time": "2021-09-17T05:09:38.072909Z"
    }
   },
   "outputs": [],
   "source": [
    "# 해당 드라마 뉴스 제목 크롤링\n"
   ]
  },
  {
   "cell_type": "markdown",
   "metadata": {},
   "source": [
    "## 다음에서 로또번호 가져오기"
   ]
  },
  {
   "cell_type": "code",
   "execution_count": 39,
   "metadata": {
    "ExecuteTime": {
     "end_time": "2021-09-17T05:32:20.587620Z",
     "start_time": "2021-09-17T05:32:20.580519Z"
    }
   },
   "outputs": [],
   "source": [
    "# url 설정\n",
    "\n",
    "# requests로 데이터 요청하기\n",
    "\n",
    "# html로 변환\n",
    "\n",
    "# 데이터 선별\n"
   ]
  },
  {
   "cell_type": "markdown",
   "metadata": {},
   "source": [
    "## 다음에서 로또번호 가져와 볼께요 몽땅 다 가져옵니다"
   ]
  },
  {
   "cell_type": "code",
   "execution_count": 47,
   "metadata": {
    "ExecuteTime": {
     "end_time": "2021-09-17T05:45:45.733830Z",
     "start_time": "2021-09-17T05:45:23.489576Z"
    }
   },
   "outputs": [
    {
     "name": "stdout",
     "output_type": "stream",
     "text": [
      "1회차 크롤링 중\n",
      "2회차 크롤링 중\n",
      "3회차 크롤링 중\n",
      "4회차 크롤링 중\n",
      "5회차 크롤링 중\n",
      "6회차 크롤링 중\n",
      "7회차 크롤링 중\n",
      "8회차 크롤링 중\n",
      "9회차 크롤링 중\n",
      "크롤링 완료\n"
     ]
    }
   ],
   "source": [
    "# url 설정\n",
    "    \n",
    "# requests로 데이터 요청하기\n",
    "\n",
    "# html로 변환\n",
    "\n",
    "# 데이터 선별\n"
   ]
  },
  {
   "cell_type": "code",
   "execution_count": 48,
   "metadata": {
    "ExecuteTime": {
     "end_time": "2021-09-17T05:46:06.821213Z",
     "start_time": "2021-09-17T05:46:06.813058Z"
    }
   },
   "outputs": [
    {
     "data": {
      "text/plain": [
       "[['10', '23', '29', '33', '37', '40'],\n",
       " ['9', '13', '21', '25', '32', '42'],\n",
       " ['11', '16', '19', '21', '27', '31'],\n",
       " ['14', '27', '30', '31', '40', '42'],\n",
       " ['16', '24', '29', '40', '41', '42'],\n",
       " ['14', '15', '26', '27', '40', '42'],\n",
       " ['2', '9', '16', '25', '26', '40'],\n",
       " ['8', '19', '25', '34', '37', '39'],\n",
       " ['2', '4', '16', '17', '36', '39']]"
      ]
     },
     "execution_count": 48,
     "metadata": {},
     "output_type": "execute_result"
    }
   ],
   "source": []
  },
  {
   "cell_type": "code",
   "execution_count": 62,
   "metadata": {
    "ExecuteTime": {
     "end_time": "2021-09-17T06:03:34.219100Z",
     "start_time": "2021-09-17T06:03:33.856448Z"
    }
   },
   "outputs": [
    {
     "data": {
      "text/plain": [
       "<matplotlib.axes._subplots.AxesSubplot at 0x12b8595c0>"
      ]
     },
     "execution_count": 62,
     "metadata": {},
     "output_type": "execute_result"
    },
    {
     "data": {
      "image/png": "[encoded data removed]",
      "text/plain": [
       "<Figure size 432x288 with 1 Axes>"
      ]
     },
     "metadata": {
      "needs_background": "light"
     },
     "output_type": "display_data"
    }
   ],
   "source": [
    "# 데이터 시각화까지\n"
   ]
  },
  {
   "cell_type": "code",
   "execution_count": 64,
   "metadata": {
    "ExecuteTime": {
     "end_time": "2021-09-17T06:06:22.488545Z",
     "start_time": "2021-09-17T06:06:22.472281Z"
    }
   },
   "outputs": [],
   "source": [
    "# 로또데이터 저장\n"
   ]
  },
  {
   "cell_type": "code",
   "execution_count": 50,
   "metadata": {
    "ExecuteTime": {
     "end_time": "2021-02-03T05:41:05.583999Z",
     "start_time": "2021-02-03T05:41:05.579960Z"
    }
   },
   "outputs": [
    {
     "data": {
      "text/plain": [
       "200"
      ]
     },
     "execution_count": 50,
     "metadata": {},
     "output_type": "execute_result"
    }
   ],
   "source": [
    "requests.codes.ok\n",
    "# 100 우리 이런정보 내주는거야\n",
    "# 200 성공\n",
    "# 300 우리 이 사이트 이리루 이사했어 일루가\n",
    "# 400 유저가 요청을 잘못한경우\n",
    "# 500 서버 문제"
   ]
  },
  {
   "cell_type": "code",
   "execution_count": null,
   "metadata": {},
   "outputs": [],
   "source": [
    "# 차단막는 코드\n",
    "seed = np.random.randint(100)\n",
    "np.random.seed(seed)\n",
    "a = np.random.randint(5)\n",
    "time.sleep(a)"
   ]
  },
  {
   "cell_type": "markdown",
   "metadata": {
    "id": "L--NnRPK9LAN",
    "slideshow": {
     "slide_type": "slide"
    }
   },
   "source": [
    "## **네이버 키워드로 검색한 결과를 크롤링(속성 접근)**"
   ]
  },
  {
   "cell_type": "code",
   "execution_count": 71,
   "metadata": {
    "ExecuteTime": {
     "end_time": "2021-09-17T06:25:03.059504Z",
     "start_time": "2021-09-17T06:24:56.730548Z"
    }
   },
   "outputs": [
    {
     "name": "stdout",
     "output_type": "stream",
     "text": [
      "키워드를 입력하세요 :세탁기\n",
      "설치까지 완벽한 위닉스 세탁기건조기 환영해 https://blog.naver.com/dngusghk/222470214924\n",
      "LG 트윈워시 드럼세탁기 분해 청소 비용, 가격 및 후기 https://blog.naver.com/aejiniyam/222473577816\n",
      "드럼세탁기세탁조클리너 아직도 안써봄? https://blog.naver.com/marianne40/222503916107\n",
      "김포세탁기청소 퀴퀴한 냄새 제거하기 https://blog.naver.com/totos1207/222478318008\n",
      "세탁기통세척 이젠 상쾌한 향만~ https://cafe.naver.com/ungsangjang/414104\n",
      "이사하시나요? 세탁기 냉장고등 가전이 필요하신가요? https://adcr.naver.com/adcr?x=+xSggTaUcCgQ0eFc2ofgF////w==knepf8CUnClIzu9/1nfMfX1Cj0F8ax5MpvwF6NX0olR8kW70YnxK+PuMJutWUKherYGsYTgLM0QRH/oYiHyDSQIIUR2dtqqWUXGKhnMiBhcPlzpm6wKLONbolvFw7Zs/dW8Vv/Kg3v7T4ssLONVvWunPUyq8feJTl3IpLizLcL8RATbwyfZFb+W9QgRIiHbp1Nx16Em3ZtCsxl5CO+pMi3HkcarL9Gcc87QLc0z3CGrIZ9OiIx4DaTzGYgGY9hNlP01mKSRUr+i/qnHzCExjXA51IJJPtlriGnjEkTD0oghW1atKcEWfl2lLgHd15A3Pwfr2zHJaZfeJpaw3m+ceAxIaOVJ5N4hqlbcvK+x9PAxhjCtOztg8hewYme/5cQpl1i3ADGUrwFnS4VQwTFg3ATugZsPeqs8mfTLomrG+W8oVgqD9bQnr2+9tcYDQZSyih84rQSugvGv1RtH070Kn0CPS5nHQ3PyCqFrtFR6fDmkGjUzo/j+80vluHQINcY8Eodo3naTeFQ4UwanD8v9mTF0gcFsghGbLloJvHbXL2ToN2fWfxIp2cIFhE38EHYkys\n",
      "세탁기렌탈 사는거보다 훨씬 싸게 장만한 후기! https://adcr.naver.com/adcr?x=zVZE5iC+R+KaPSRZc3U6Of///w==kRJ0v0g3i6gyqEjhlcdDuPjOu0fFuEeKTe8FfKpO0RSSTUI7hDNl/EHv0cFkaQvzL8zpzKVmWTw6sE3mewUMdmUS2M1eDHo/GS5r/b/NdjFarYTJr+BVtx+oRn+DcVxp42NcxODcaPZxVkfqjdJ3V+Xmt7PJt1LZFnzMlOOUqdf4v2qJt+DRVMItZ1GfAEEbvaWj0tdTaEGS9VxIfXJH6oirfB3LQ3qZPALj9m3He2RZEdYGX27ROZ/P96hXsg9ujYlIcZBlKHwkQEN7FqWT/84yr9Gyr8Ez8Wuvt+cA8p3pX0zm6ydkYMu/UrblhcJilvzyBIlxxjNhe97htdbBMwcUnS3HLAU7f4/3nM6swN6rk91PXRt+n9nTHWYBpvOZ7FJAZBtczpk44lpQwecGfvMcqundW69CDwyET2wj25D87OaIFA0lcp19p2VF6Oz1Z7NhPlrCZWTxrn3B4eo+bNXppVETVM4ogA9NGSYGCmigHvVGcq9ddLDzDGUkO8qngilR5sIfPmXyGgKEyVh+0xIsOW7IOtT20YEzXt3OPgS3biREyi9R0yKE+MqNfWBTdK/MnM3JB+UZMn+keyImMbA==\n",
      "세탁기 이물질 세탁기 2년 안됬는데 최근들어 계속 먼지랑 같이 이물질이 나와요 ㅠㅠ 먼지망도 청소 해보고 무세제 통세척도 해봤는데 먼지망에도 쌓이고 흰옷에도 계속 묻어나와요 어떻게해야될까요?? https://kin.naver.com/qna/detail.naver?d1id=8&dirId=80903&docId=398932087&qb=7IS47YOB6riw&enc=utf8§ion=kin.ext&rank=1&search_sort=0&spq=0\n",
      "... 세탁기 내부에 오염물질이 단단하게 굳어있거나 이미 곰팡이가... 이런 경우에는 세탁기 내부를 완전히 분해하여 고압으로 세척하는... 전문 장비 없이 세탁기를 직접 분해할 경우 파손 및 고장의 위험이... 세탁기 클리닝을 통해 1~2년 주기로 관리하는 것이 좋으며, 특히 습한 날씨에는... https://kin.naver.com/qna/detail.naver?d1id=8&dirId=80903&docId=398932087&qb=7IS47YOB6riw&enc=utf8§ion=kin.ext&rank=1&search_sort=0&spq=0\n",
      "세탁기 설치 가능한가요? 온수 없고 냉수만 나오게 되있는 구존데 여기 말고는 세탁기를 설치할 수 있는 곳이 없는데 여기 설치해도 되나요?? 저 벽에 까만게 혹시 배수관..? 오수관..? 그 세탁기 물 배수하도록 뭐 꽂는 그런건가요? 오수관 우수관 구분해야한다는데 그런거 구분할줄 몰라서요... 제발 답좀 해주세요ㅠㅠㅠ https://kin.naver.com/qna/detail.naver?d1id=5&dirId=50104&docId=396225411&qb=7IS47YOB6riw&enc=utf8§ion=kin.ext&rank=2&search_sort=0&spq=0\n",
      "... 그곳이 세탁기를 설치하게끔 만들어진 공간인 것 같습니다. 배관도 우수관이 맞고요. 이전에도 그 공간에서 세탁기를 사용했었지 않을까 싶은데요. 세탁기 배수 호프는 노란색... 결론은 말씀하신 공간에 세탁기 설치하여 사용하셔도 무방하니 잘 사용하시길 바라겠습니다. 답변 참고 바랍니다. https://kin.naver.com/qna/detail.naver?d1id=5&dirId=50104&docId=396225411&qb=7IS47YOB6riw&enc=utf8§ion=kin.ext&rank=2&search_sort=0&spq=0\n",
      "인천세탁기청소? 집에 아기때문에 ( 아토피 알레르기) 세탁기 청소를 할려고 하는데... 성의껏 청소하는 업체 소개시켜주세요? 제가 집에서 세탁세제용으로 했는데... tv이나 지인들에게 들어보니 세탁기 분해청소가 효과적 같다고 해서 글올립니다. https://kin.naver.com/qna/detail.naver?d1id=7&dirId=70111&docId=27417225&qb=7IS47YOB6riw&enc=utf8§ion=kin.ext&rank=3&search_sort=0&spq=0\n",
      "... 인천 세탁기 청소 업체를 찾고 계시네요, 수많은 청소 업체가 있지만 클린앤제이는 소비자의 입장에서 고객 중심으로 운영 되어 정직한... 세탁기 청소 전, 작동 상태를 확인하고 제품의 오염도를 측정합니다. 세탁기 분해 후 오염도를 파악하여 고온 스팀 시공으로 찌든때와 미세 세균... https://kin.naver.com/qna/detail.naver?d1id=7&dirId=70111&docId=27417225&qb=7IS47YOB6riw&enc=utf8§ion=kin.ext&rank=3&search_sort=0&spq=0\n"
     ]
    }
   ],
   "source": []
  },
  {
   "cell_type": "markdown",
   "metadata": {
    "id": "P_ssRYoV88a7",
    "slideshow": {
     "slide_type": "slide"
    }
   },
   "source": [
    "    가져온 데이터에 접근을 하는 방식 자체는 판다스 색인처럼 결과값을 확인하며 진행하는 것이 가장 좋습니다."
   ]
  },
  {
   "cell_type": "markdown",
   "metadata": {
    "ExecuteTime": {
     "end_time": "2021-09-27T00:05:01.376165Z",
     "start_time": "2021-09-27T00:05:01.368066Z"
    }
   },
   "source": [
    "#### 관심있는 개별종목의 시가총액, 외국인 소진률, PER, PBR 가져오기"
   ]
  },
  {
   "cell_type": "code",
   "execution_count": 6,
   "metadata": {
    "ExecuteTime": {
     "end_time": "2021-09-27T00:30:39.851651Z",
     "start_time": "2021-09-27T00:30:39.758248Z"
    }
   },
   "outputs": [],
   "source": [
    "# url 정의\n",
    "\n",
    "# requests 요청\n",
    "\n",
    "# html 변환\n",
    "\n",
    "# 시가총액, 외국인 소진률, PER, PBR\n"
   ]
  },
  {
   "cell_type": "markdown",
   "metadata": {},
   "source": [
    "#### 여러 종목의 시가총액, 외국인 소진률, PER, PBR 한꺼번에 가져오기"
   ]
  },
  {
   "cell_type": "code",
   "execution_count": 30,
   "metadata": {
    "ExecuteTime": {
     "end_time": "2021-09-27T00:52:30.940704Z",
     "start_time": "2021-09-27T00:52:27.088491Z"
    }
   },
   "outputs": [
    {
     "name": "stdout",
     "output_type": "stream",
     "text": [
      "005930 크롤링 중입니다.\n",
      "002020 크롤링 중입니다.\n",
      "323410 크롤링 중입니다.\n",
      "크롤링 종료\n"
     ]
    }
   ],
   "source": [
    "# 종목리스트 정의\n",
    "\n",
    "# url 정의\n",
    "\n",
    "# requests 요청\n",
    "\n",
    "# html 변환\n",
    "\n",
    "# 데이터 선별\n"
   ]
  },
  {
   "cell_type": "code",
   "execution_count": 31,
   "metadata": {
    "ExecuteTime": {
     "end_time": "2021-09-27T00:52:31.106062Z",
     "start_time": "2021-09-27T00:52:31.101316Z"
    }
   },
   "outputs": [
    {
     "data": {
      "text/plain": [
       "[['462조6,581', '51.98%', '16.32', '1.92'],\n",
       " ['5,145', '11.36%', '3.64', '0.67'],\n",
       " ['32조2,118', '5.45%', '219.42', '9.55']]"
      ]
     },
     "execution_count": 31,
     "metadata": {},
     "output_type": "execute_result"
    }
   ],
   "source": []
  },
  {
   "cell_type": "code",
   "execution_count": 32,
   "metadata": {
    "ExecuteTime": {
     "end_time": "2021-09-27T00:53:55.646061Z",
     "start_time": "2021-09-27T00:53:55.619928Z"
    }
   },
   "outputs": [
    {
     "data": {
      "text/html": [
       "<div>\n",
       "<style scoped>\n",
       "    .dataframe tbody tr th:only-of-type {\n",
       "        vertical-align: middle;\n",
       "    }\n",
       "\n",
       "    .dataframe tbody tr th {\n",
       "        vertical-align: top;\n",
       "    }\n",
       "\n",
       "    .dataframe thead th {\n",
       "        text-align: right;\n",
       "    }\n",
       "</style>\n",
       "<table border=\"1\" class=\"dataframe\">\n",
       "  <thead>\n",
       "    <tr style=\"text-align: right;\">\n",
       "      <th></th>\n",
       "      <th>시가총액</th>\n",
       "      <th>외국인소진률</th>\n",
       "      <th>PER</th>\n",
       "      <th>PBR</th>\n",
       "    </tr>\n",
       "  </thead>\n",
       "  <tbody>\n",
       "    <tr>\n",
       "      <th>삼성전자</th>\n",
       "      <td>462조6,581</td>\n",
       "      <td>51.98%</td>\n",
       "      <td>16.32</td>\n",
       "      <td>1.92</td>\n",
       "    </tr>\n",
       "    <tr>\n",
       "      <th>코오롱</th>\n",
       "      <td>5,145</td>\n",
       "      <td>11.36%</td>\n",
       "      <td>3.64</td>\n",
       "      <td>0.67</td>\n",
       "    </tr>\n",
       "    <tr>\n",
       "      <th>카카오뱅크</th>\n",
       "      <td>32조2,118</td>\n",
       "      <td>5.45%</td>\n",
       "      <td>219.42</td>\n",
       "      <td>9.55</td>\n",
       "    </tr>\n",
       "  </tbody>\n",
       "</table>\n",
       "</div>"
      ],
      "text/plain": [
       "            시가총액  외국인소진률     PER   PBR\n",
       "삼성전자   462조6,581  51.98%   16.32  1.92\n",
       "코오롱        5,145  11.36%    3.64  0.67\n",
       "카카오뱅크   32조2,118   5.45%  219.42  9.55"
      ]
     },
     "execution_count": 32,
     "metadata": {},
     "output_type": "execute_result"
    }
   ],
   "source": [
    "# 데이터프레임 제작\n"
   ]
  },
  {
   "cell_type": "markdown",
   "metadata": {
    "id": "XYhXePUPB7FF",
    "slideshow": {
     "slide_type": "slide"
    }
   },
   "source": [
    "## **동적페이지 크롤링**\n",
    "> 최근에는 Js로 변경이 되며 일반적인 크롤링이 되지 않는 경우가 많음  \n",
    "동적페이지와 숨겨진 url을 가져오는 방법을 알아봅니다"
   ]
  },
  {
   "cell_type": "markdown",
   "metadata": {},
   "source": [
    "### 네이버 주식 시세 데이터 크롤링"
   ]
  },
  {
   "cell_type": "code",
   "execution_count": 119,
   "metadata": {
    "ExecuteTime": {
     "end_time": "2021-09-27T04:40:51.702675Z",
     "start_time": "2021-09-27T04:40:51.640301Z"
    }
   },
   "outputs": [],
   "source": [
    "# 동적페이지의 숨은 URL\n",
    "# 동적페이지에 요청을 할 때 웹 정책에 필요한 정보를 같이 전달을 해줘야 함.\n",
    "# requests 요청시에 헤더정보 추가\n"
   ]
  },
  {
   "cell_type": "code",
   "execution_count": 89,
   "metadata": {
    "ExecuteTime": {
     "end_time": "2021-09-27T02:10:25.851465Z",
     "start_time": "2021-09-27T02:10:25.837996Z"
    }
   },
   "outputs": [
    {
     "data": {
      "text/html": [
       "<div>\n",
       "<style scoped>\n",
       "    .dataframe tbody tr th:only-of-type {\n",
       "        vertical-align: middle;\n",
       "    }\n",
       "\n",
       "    .dataframe tbody tr th {\n",
       "        vertical-align: top;\n",
       "    }\n",
       "\n",
       "    .dataframe thead th {\n",
       "        text-align: right;\n",
       "    }\n",
       "</style>\n",
       "<table border=\"1\" class=\"dataframe\">\n",
       "  <thead>\n",
       "    <tr style=\"text-align: right;\">\n",
       "      <th></th>\n",
       "      <th>종가</th>\n",
       "      <th>전일비</th>\n",
       "      <th>시가</th>\n",
       "      <th>고가</th>\n",
       "      <th>저가</th>\n",
       "      <th>거래량</th>\n",
       "    </tr>\n",
       "  </thead>\n",
       "  <tbody>\n",
       "    <tr>\n",
       "      <th>2021.09.27</th>\n",
       "      <td>41,100</td>\n",
       "      <td>800</td>\n",
       "      <td>40,250</td>\n",
       "      <td>41,450</td>\n",
       "      <td>40,100</td>\n",
       "      <td>79,654</td>\n",
       "    </tr>\n",
       "    <tr>\n",
       "      <th>2021.09.24</th>\n",
       "      <td>40,300</td>\n",
       "      <td>1,650</td>\n",
       "      <td>42,500</td>\n",
       "      <td>42,750</td>\n",
       "      <td>40,100</td>\n",
       "      <td>316,511</td>\n",
       "    </tr>\n",
       "    <tr>\n",
       "      <th>2021.09.23</th>\n",
       "      <td>41,950</td>\n",
       "      <td>2,050</td>\n",
       "      <td>42,700</td>\n",
       "      <td>43,800</td>\n",
       "      <td>41,700</td>\n",
       "      <td>335,625</td>\n",
       "    </tr>\n",
       "    <tr>\n",
       "      <th>2021.09.17</th>\n",
       "      <td>44,000</td>\n",
       "      <td>1,150</td>\n",
       "      <td>42,500</td>\n",
       "      <td>46,350</td>\n",
       "      <td>41,650</td>\n",
       "      <td>1,094,420</td>\n",
       "    </tr>\n",
       "    <tr>\n",
       "      <th>2021.09.16</th>\n",
       "      <td>42,850</td>\n",
       "      <td>3,000</td>\n",
       "      <td>40,200</td>\n",
       "      <td>42,850</td>\n",
       "      <td>39,400</td>\n",
       "      <td>514,556</td>\n",
       "    </tr>\n",
       "    <tr>\n",
       "      <th>2021.09.15</th>\n",
       "      <td>39,850</td>\n",
       "      <td>1,450</td>\n",
       "      <td>41,250</td>\n",
       "      <td>42,550</td>\n",
       "      <td>39,350</td>\n",
       "      <td>491,878</td>\n",
       "    </tr>\n",
       "    <tr>\n",
       "      <th>2021.09.14</th>\n",
       "      <td>41,300</td>\n",
       "      <td>200</td>\n",
       "      <td>41,100</td>\n",
       "      <td>42,250</td>\n",
       "      <td>40,200</td>\n",
       "      <td>546,760</td>\n",
       "    </tr>\n",
       "    <tr>\n",
       "      <th>2021.09.13</th>\n",
       "      <td>41,500</td>\n",
       "      <td>3,750</td>\n",
       "      <td>44,850</td>\n",
       "      <td>45,800</td>\n",
       "      <td>41,200</td>\n",
       "      <td>1,164,685</td>\n",
       "    </tr>\n",
       "    <tr>\n",
       "      <th>2021.09.10</th>\n",
       "      <td>45,250</td>\n",
       "      <td>9,350</td>\n",
       "      <td>36,050</td>\n",
       "      <td>46,650</td>\n",
       "      <td>36,050</td>\n",
       "      <td>3,800,508</td>\n",
       "    </tr>\n",
       "    <tr>\n",
       "      <th>2021.09.09</th>\n",
       "      <td>35,900</td>\n",
       "      <td>1,700</td>\n",
       "      <td>34,700</td>\n",
       "      <td>36,600</td>\n",
       "      <td>34,550</td>\n",
       "      <td>511,021</td>\n",
       "    </tr>\n",
       "  </tbody>\n",
       "</table>\n",
       "</div>"
      ],
      "text/plain": [
       "                종가    전일비      시가      고가      저가        거래량\n",
       "2021.09.27  41,100    800  40,250  41,450  40,100     79,654\n",
       "2021.09.24  40,300  1,650  42,500  42,750  40,100    316,511\n",
       "2021.09.23  41,950  2,050  42,700  43,800  41,700    335,625\n",
       "2021.09.17  44,000  1,150  42,500  46,350  41,650  1,094,420\n",
       "2021.09.16  42,850  3,000  40,200  42,850  39,400    514,556\n",
       "2021.09.15  39,850  1,450  41,250  42,550  39,350    491,878\n",
       "2021.09.14  41,300    200  41,100  42,250  40,200    546,760\n",
       "2021.09.13  41,500  3,750  44,850  45,800  41,200  1,164,685\n",
       "2021.09.10  45,250  9,350  36,050  46,650  36,050  3,800,508\n",
       "2021.09.09  35,900  1,700  34,700  36,600  34,550    511,021"
      ]
     },
     "execution_count": 89,
     "metadata": {},
     "output_type": "execute_result"
    }
   ],
   "source": []
  },
  {
   "cell_type": "code",
   "execution_count": 90,
   "metadata": {
    "ExecuteTime": {
     "end_time": "2021-09-27T02:10:40.153165Z",
     "start_time": "2021-09-27T02:10:40.149987Z"
    }
   },
   "outputs": [],
   "source": [
    "# 콤마 제거\n",
    "\n",
    "# 함수 적용\n",
    "\n",
    "# 타입 변환\n",
    "\n",
    "# 종가 그래프\n"
   ]
  },
  {
   "cell_type": "markdown",
   "metadata": {},
   "source": [
    "### 20페이지 주가 정보 크롤링 해서 종가 그래프 출력"
   ]
  },
  {
   "cell_type": "code",
   "execution_count": 100,
   "metadata": {
    "ExecuteTime": {
     "end_time": "2021-09-27T04:10:31.778681Z",
     "start_time": "2021-09-27T04:09:40.133778Z"
    }
   },
   "outputs": [
    {
     "name": "stdout",
     "output_type": "stream",
     "text": [
      "1페이지 크롤링 중\n",
      "2페이지 크롤링 중\n",
      "3페이지 크롤링 중\n",
      "4페이지 크롤링 중\n",
      "5페이지 크롤링 중\n",
      "6페이지 크롤링 중\n",
      "7페이지 크롤링 중\n",
      "8페이지 크롤링 중\n",
      "9페이지 크롤링 중\n",
      "10페이지 크롤링 중\n",
      "11페이지 크롤링 중\n",
      "12페이지 크롤링 중\n",
      "13페이지 크롤링 중\n",
      "14페이지 크롤링 중\n",
      "15페이지 크롤링 중\n",
      "16페이지 크롤링 중\n",
      "17페이지 크롤링 중\n",
      "18페이지 크롤링 중\n",
      "19페이지 크롤링 중\n",
      "20페이지 크롤링 중\n"
     ]
    }
   ],
   "source": [
    "# 헤더정보 정의\n",
    "\n",
    "# 인덱스 정의\n",
    "\n",
    "\n",
    "# 전체 가격 데이터\n",
    "\n",
    "# requests 요청시에 헤더정보 추가\n",
    "\n",
    "# html 변환\n",
    "\n",
    "# 날짜 인덱스 살려서 활용하기\n",
    "\n",
    "# 가격정보 추출\n",
    "\n",
    "# 데이터프레임 제작\n"
   ]
  },
  {
   "cell_type": "code",
   "execution_count": 101,
   "metadata": {
    "ExecuteTime": {
     "end_time": "2021-09-27T04:10:35.321839Z",
     "start_time": "2021-09-27T04:10:35.085392Z"
    }
   },
   "outputs": [
    {
     "data": {
      "text/plain": [
       "<matplotlib.axes._subplots.AxesSubplot at 0x118451c18>"
      ]
     },
     "execution_count": 101,
     "metadata": {},
     "output_type": "execute_result"
    },
    {
     "data": {
      "image/png": "[encoded data removed]",
      "text/plain": [
       "<Figure size 432x288 with 1 Axes>"
      ]
     },
     "metadata": {
      "needs_background": "light"
     },
     "output_type": "display_data"
    }
   ],
   "source": []
  },
  {
   "cell_type": "markdown",
   "metadata": {},
   "source": [
    "### 종목도 여러개 순환시키고 각 개별종목 데이터 csv 저장하는 연습"
   ]
  },
  {
   "cell_type": "markdown",
   "metadata": {
    "id": "GIvAIByBCAz1",
    "slideshow": {
     "slide_type": "slide"
    }
   },
   "source": [
    "### 네이버 데이터랩 인기검색어 크롤링"
   ]
  },
  {
   "cell_type": "code",
   "execution_count": 102,
   "metadata": {
    "ExecuteTime": {
     "end_time": "2021-09-27T04:19:58.288553Z",
     "start_time": "2021-09-27T04:19:58.285196Z"
    }
   },
   "outputs": [],
   "source": [
    "# json 데이터 파싱\n"
   ]
  },
  {
   "cell_type": "code",
   "execution_count": 118,
   "metadata": {
    "ExecuteTime": {
     "end_time": "2021-09-27T04:39:58.598313Z",
     "start_time": "2021-09-27T04:39:58.594118Z"
    }
   },
   "outputs": [
    {
     "data": {
      "text/plain": [
       "'[{\"message\":null,\"statusCode\":200,\"returnCode\":0,\"date\":\"2021/09/15\",\"datetime\":\"2021.09.15.(수)\",\"range\":\"\",\"ranks\":[{\"rank\":1,\"keyword\":\"나이키운동화\",\"linkId\":\"나이키운동화\"},{\"rank\":2,\"keyword\":\"크록스\",\"linkId\":\"크록스\"},{\"rank\":3,\"keyword\":\"운동화\",\"linkId\":\"운동화\"},{\"rank\":4,\"keyword\":\"모자\",\"linkId\":\"모자\"},{\"rank\":5,\"keyword\":\"뉴발란스327\",\"linkId\":\"뉴발란스327\"},{\"rank\":6,\"keyword\":\"나이키데이브레이크\",\"linkId\":\"나이키데이브레이크\"},{\"rank\":7,\"keyword\":\"핸드폰가방\",\"linkId\":\"핸드폰가방\"},{\"rank\":8,\"keyword\":\"나이키에어포스\",\"linkId\":\"나이키에어포스\"},{\"rank\":9,\"keyword\":\"카드지갑\",\"linkId\":\"카드지갑\"},{\"rank\":10,\"keyword\":\"gwf-a1000\",\"linkId\":\"gwf-a1000\"}]},{\"message\":null,\"statusCode\":200,\"returnCode\":0,\"date\":\"2021/09/16\",\"datetime\":\"2021.09.16.(목)\",\"range\":\"\",\"ranks\":[{\"rank\":1,\"keyword\":\"나이키운동화\",\"linkId\":\"나이키운동화\"},{\"rank\":2,\"keyword\":\"크록스\",\"linkId\":\"크록스\"},{\"rank\":3,\"keyword\":\"운동화\",\"linkId\":\"운동화\"},{\"rank\":4,\"keyword\":\"모자\",\"linkId\":\"모자\"},{\"rank\":5,\"keyword\":\"카드지갑\",\"linkId\":\"카드지갑\"},{\"rank\":6,\"keyword\":\"뉴발란스327\",\"linkId\":\"뉴발란스327\"},{\"rank\":7,\"keyword\":\"나이키에어포스\",\"linkId\":\"나이키에어포스\"},{\"rank\":8,\"keyword\":\"나이키데이브레이크\",\"linkId\":\"나이키데이브레이크\"},{\"rank\":9,\"keyword\":\"gwf-a1000\",\"linkId\":\"gwf-a1000\"},{\"rank\":10,\"keyword\":\"핸드폰가방\",\"linkId\":\"핸드폰가방\"}]},{\"message\":null,\"statusCode\":200,\"returnCode\":0,\"date\":\"2021/09/17\",\"datetime\":\"2021.09.17.(금)\",\"range\":\"\",\"ranks\":[{\"rank\":1,\"keyword\":\"나이키운동화\",\"linkId\":\"나이키운동화\"},{\"rank\":2,\"keyword\":\"크록스\",\"linkId\":\"크록스\"},{\"rank\":3,\"keyword\":\"모자\",\"linkId\":\"모자\"},{\"rank\":4,\"keyword\":\"나이키에어포스\",\"linkId\":\"나이키에어포스\"},{\"rank\":5,\"keyword\":\"운동화\",\"linkId\":\"운동화\"},{\"rank\":6,\"keyword\":\"뉴발란스327\",\"linkId\":\"뉴발란스327\"},{\"rank\":7,\"keyword\":\"카드지갑\",\"linkId\":\"카드지갑\"},{\"rank\":8,\"keyword\":\"gwf-a1000\",\"linkId\":\"gwf-a1000\"},{\"rank\":9,\"keyword\":\"루이비통가방\",\"linkId\":\"루이비통가방\"},{\"rank\":10,\"keyword\":\"핸드폰가방\",\"linkId\":\"핸드폰가방\"}]},{\"message\":null,\"statusCode\":200,\"returnCode\":0,\"date\":\"2021/09/18\",\"datetime\":\"2021.09.18.(토)\",\"range\":\"\",\"ranks\":[{\"rank\":1,\"keyword\":\"나이키운동화\",\"linkId\":\"나이키운동화\"},{\"rank\":2,\"keyword\":\"크록스\",\"linkId\":\"크록스\"},{\"rank\":3,\"keyword\":\"운동화\",\"linkId\":\"운동화\"},{\"rank\":4,\"keyword\":\"나이키에어포스\",\"linkId\":\"나이키에어포스\"},{\"rank\":5,\"keyword\":\"뉴발란스327\",\"linkId\":\"뉴발란스327\"},{\"rank\":6,\"keyword\":\"나이키데이브레이크\",\"linkId\":\"나이키데이브레이크\"},{\"rank\":7,\"keyword\":\"모자\",\"linkId\":\"모자\"},{\"rank\":8,\"keyword\":\"카드지갑\",\"linkId\":\"카드지갑\"},{\"rank\":9,\"keyword\":\"핸드폰가방\",\"linkId\":\"핸드폰가방\"},{\"rank\":10,\"keyword\":\"루이비통가방\",\"linkId\":\"루이비통가방\"}]},{\"message\":null,\"statusCode\":200,\"returnCode\":0,\"date\":\"2021/09/19\",\"datetime\":\"2021.09.19.(일)\",\"range\":\"\",\"ranks\":[{\"rank\":1,\"keyword\":\"나이키운동화\",\"linkId\":\"나이키운동화\"},{\"rank\":2,\"keyword\":\"크록스\",\"linkId\":\"크록스\"},{\"rank\":3,\"keyword\":\"나이키에어포스\",\"linkId\":\"나이키에어포스\"},{\"rank\":4,\"keyword\":\"뉴발란스327\",\"linkId\":\"뉴발란스327\"},{\"rank\":5,\"keyword\":\"나이키데이브레이크\",\"linkId\":\"나이키데이브레이크\"},{\"rank\":6,\"keyword\":\"운동화\",\"linkId\":\"운동화\"},{\"rank\":7,\"keyword\":\"모자\",\"linkId\":\"모자\"},{\"rank\":8,\"keyword\":\"루이비통가방\",\"linkId\":\"루이비통가방\"},{\"rank\":9,\"keyword\":\"카드지갑\",\"linkId\":\"카드지갑\"},{\"rank\":10,\"keyword\":\"핸드폰가방\",\"linkId\":\"핸드폰가방\"}]},{\"message\":null,\"statusCode\":200,\"returnCode\":0,\"date\":\"2021/09/20\",\"datetime\":\"2021.09.20.(월)\",\"range\":\"\",\"ranks\":[{\"rank\":1,\"keyword\":\"나이키운동화\",\"linkId\":\"나이키운동화\"},{\"rank\":2,\"keyword\":\"크록스\",\"linkId\":\"크록스\"},{\"rank\":3,\"keyword\":\"나이키에어포스\",\"linkId\":\"나이키에어포스\"},{\"rank\":4,\"keyword\":\"뉴발란스327\",\"linkId\":\"뉴발란스327\"},{\"rank\":5,\"keyword\":\"나이키데이브레이크\",\"linkId\":\"나이키데이브레이크\"},{\"rank\":6,\"keyword\":\"운동화\",\"linkId\":\"운동화\"},{\"rank\":7,\"keyword\":\"카드지갑\",\"linkId\":\"카드지갑\"},{\"rank\":8,\"keyword\":\"셀린느가방\",\"linkId\":\"셀린느가방\"},{\"rank\":9,\"keyword\":\"루이비통가방\",\"linkId\":\"루이비통가방\"},{\"rank\":10,\"keyword\":\"핸드폰가방\",\"linkId\":\"핸드폰가방\"}]},{\"message\":null,\"statusCode\":200,\"returnCode\":0,\"date\":\"2021/09/21\",\"datetime\":\"2021.09.21.(화)\",\"range\":\"\",\"ranks\":[{\"rank\":1,\"keyword\":\"나이키운동화\",\"linkId\":\"나이키운동화\"},{\"rank\":2,\"keyword\":\"크록스\",\"linkId\":\"크록스\"},{\"rank\":3,\"keyword\":\"나이키에어포스\",\"linkId\":\"나이키에어포스\"},{\"rank\":4,\"keyword\":\"뉴발란스327\",\"linkId\":\"뉴발란스327\"},{\"rank\":5,\"keyword\":\"나이키데이브레이크\",\"linkId\":\"나이키데이브레이크\"},{\"rank\":6,\"keyword\":\"운동화\",\"linkId\":\"운동화\"},{\"rank\":7,\"keyword\":\"카드지갑\",\"linkId\":\"카드지갑\"},{\"rank\":8,\"keyword\":\"루이비통가방\",\"linkId\":\"루이비통가방\"},{\"rank\":9,\"keyword\":\"핸드폰가방\",\"linkId\":\"핸드폰가방\"},{\"rank\":10,\"keyword\":\"셀린느가방\",\"linkId\":\"셀린느가방\"}]},{\"message\":null,\"statusCode\":200,\"returnCode\":0,\"date\":\"2021/09/22\",\"datetime\":\"2021.09.22.(수)\",\"range\":\"\",\"ranks\":[{\"rank\":1,\"keyword\":\"나이키운동화\",\"linkId\":\"나이키운동화\"},{\"rank\":2,\"keyword\":\"크록스\",\"linkId\":\"크록스\"},{\"rank\":3,\"keyword\":\"뉴발란스327\",\"linkId\":\"뉴발란스327\"},{\"rank\":4,\"keyword\":\"나이키에어포스\",\"linkId\":\"나이키에어포스\"},{\"rank\":5,\"keyword\":\"나이키데이브레이크\",\"linkId\":\"나이키데이브레이크\"},{\"rank\":6,\"keyword\":\"운동화\",\"linkId\":\"운동화\"},{\"rank\":7,\"keyword\":\"카드지갑\",\"linkId\":\"카드지갑\"},{\"rank\":8,\"keyword\":\"모자\",\"linkId\":\"모자\"},{\"rank\":9,\"keyword\":\"핸드폰가방\",\"linkId\":\"핸드폰가방\"},{\"rank\":10,\"keyword\":\"아디다스운동화\",\"linkId\":\"아디다스운동화\"}]},{\"message\":null,\"statusCode\":200,\"returnCode\":0,\"date\":\"2021/09/23\",\"datetime\":\"2021.09.23.(목)\",\"range\":\"\",\"ranks\":[{\"rank\":1,\"keyword\":\"나이키운동화\",\"linkId\":\"나이키운동화\"},{\"rank\":2,\"keyword\":\"크록스\",\"linkId\":\"크록스\"},{\"rank\":3,\"keyword\":\"운동화\",\"linkId\":\"운동화\"},{\"rank\":4,\"keyword\":\"뉴발란스327\",\"linkId\":\"뉴발란스327\"},{\"rank\":5,\"keyword\":\"나이키에어포스\",\"linkId\":\"나이키에어포스\"},{\"rank\":6,\"keyword\":\"나이키데이브레이크\",\"linkId\":\"나이키데이브레이크\"},{\"rank\":7,\"keyword\":\"카드지갑\",\"linkId\":\"카드지갑\"},{\"rank\":8,\"keyword\":\"아디다스운동화\",\"linkId\":\"아디다스운동화\"},{\"rank\":9,\"keyword\":\"핸드폰가방\",\"linkId\":\"핸드폰가방\"},{\"rank\":10,\"keyword\":\"루이비통가방\",\"linkId\":\"루이비통가방\"}]},{\"message\":null,\"statusCode\":200,\"returnCode\":0,\"date\":\"2021/09/24\",\"datetime\":\"2021.09.24.(금)\",\"range\":\"\",\"ranks\":[{\"rank\":1,\"keyword\":\"나이키운동화\",\"linkId\":\"나이키운동화\"},{\"rank\":2,\"keyword\":\"크록스\",\"linkId\":\"크록스\"},{\"rank\":3,\"keyword\":\"뉴발란스327\",\"linkId\":\"뉴발란스327\"},{\"rank\":4,\"keyword\":\"운동화\",\"linkId\":\"운동화\"},{\"rank\":5,\"keyword\":\"나이키에어포스\",\"linkId\":\"나이키에어포스\"},{\"rank\":6,\"keyword\":\"나이키데이브레이크\",\"linkId\":\"나이키데이브레이크\"},{\"rank\":7,\"keyword\":\"카드지갑\",\"linkId\":\"카드지갑\"},{\"rank\":8,\"keyword\":\"핸드폰가방\",\"linkId\":\"핸드폰가방\"},{\"rank\":9,\"keyword\":\"루이비통가방\",\"linkId\":\"루이비통가방\"},{\"rank\":10,\"keyword\":\"아디다스운동화\",\"linkId\":\"아디다스운동화\"}]},{\"message\":null,\"statusCode\":200,\"returnCode\":0,\"date\":\"2021/09/25\",\"datetime\":\"2021.09.25.(토)\",\"range\":\"\",\"ranks\":[{\"rank\":1,\"keyword\":\"나이키운동화\",\"linkId\":\"나이키운동화\"},{\"rank\":2,\"keyword\":\"크록스\",\"linkId\":\"크록스\"},{\"rank\":3,\"keyword\":\"뉴발란스327\",\"linkId\":\"뉴발란스327\"},{\"rank\":4,\"keyword\":\"운동화\",\"linkId\":\"운동화\"},{\"rank\":5,\"keyword\":\"나이키데이브레이크\",\"linkId\":\"나이키데이브레이크\"},{\"rank\":6,\"keyword\":\"나이키에어포스\",\"linkId\":\"나이키에어포스\"},{\"rank\":7,\"keyword\":\"루이비통가방\",\"linkId\":\"루이비통가방\"},{\"rank\":8,\"keyword\":\"카드지갑\",\"linkId\":\"카드지갑\"},{\"rank\":9,\"keyword\":\"핸드폰가방\",\"linkId\":\"핸드폰가방\"},{\"rank\":10,\"keyword\":\"아디다스운동화\",\"linkId\":\"아디다스운동화\"}]},{\"message\":null,\"statusCode\":200,\"returnCode\":0,\"date\":\"2021/09/26\",\"datetime\":\"2021.09.26.(일)\",\"range\":\"\",\"ranks\":[{\"rank\":1,\"keyword\":\"나이키운동화\",\"linkId\":\"나이키운동화\"},{\"rank\":2,\"keyword\":\"크록스\",\"linkId\":\"크록스\"},{\"rank\":3,\"keyword\":\"운동화\",\"linkId\":\"운동화\"},{\"rank\":4,\"keyword\":\"뉴발란스327\",\"linkId\":\"뉴발란스327\"},{\"rank\":5,\"keyword\":\"나이키데이브레이크\",\"linkId\":\"나이키데이브레이크\"},{\"rank\":6,\"keyword\":\"나이키에어포스\",\"linkId\":\"나이키에어포스\"},{\"rank\":7,\"keyword\":\"카드지갑\",\"linkId\":\"카드지갑\"},{\"rank\":8,\"keyword\":\"루이비통가방\",\"linkId\":\"루이비통가방\"},{\"rank\":9,\"keyword\":\"아디다스운동화\",\"linkId\":\"아디다스운동화\"},{\"rank\":10,\"keyword\":\"핸드폰가방\",\"linkId\":\"핸드폰가방\"}]}]'"
      ]
     },
     "execution_count": 118,
     "metadata": {},
     "output_type": "execute_result"
    }
   ],
   "source": []
  },
  {
   "cell_type": "markdown",
   "metadata": {
    "id": "N3NtfdJNMWM6",
    "slideshow": {
     "slide_type": "slide"
    }
   },
   "source": [
    "### 다음 주식 일자별 주가 데이터 크롤링 연습"
   ]
  },
  {
   "cell_type": "code",
   "execution_count": 121,
   "metadata": {
    "ExecuteTime": {
     "end_time": "2021-09-27T04:44:39.616007Z",
     "start_time": "2021-09-27T04:44:39.527153Z"
    },
    "id": "9txT7yVwMehO"
   },
   "outputs": [],
   "source": []
  },
  {
   "cell_type": "markdown",
   "metadata": {},
   "source": [
    "## 파파고 API"
   ]
  },
  {
   "cell_type": "code",
   "execution_count": 142,
   "metadata": {
    "ExecuteTime": {
     "end_time": "2021-09-27T06:28:22.848595Z",
     "start_time": "2021-09-27T06:28:22.843144Z"
    }
   },
   "outputs": [],
   "source": []
  },
  {
   "cell_type": "code",
   "execution_count": 143,
   "metadata": {
    "ExecuteTime": {
     "end_time": "2021-09-27T06:29:01.713731Z",
     "start_time": "2021-09-27T06:28:35.496861Z"
    }
   },
   "outputs": [
    {
     "name": "stdout",
     "output_type": "stream",
     "text": [
      "번역이 필요한 한국어를 입력하세요 : 강의시작하겠습니다 카메라를 켜주시고 참석바랍니다.\n",
      "Let's begin the lecture. Please turn on the camera and attend.\n"
     ]
    }
   ],
   "source": [
    "papago()"
   ]
  },
  {
   "cell_type": "markdown",
   "metadata": {},
   "source": [
    "## 공공데이터 API"
   ]
  },
  {
   "cell_type": "code",
   "execution_count": null,
   "metadata": {
    "ExecuteTime": {
     "end_time": "2021-09-27T06:36:42.325807Z",
     "start_time": "2021-09-27T06:36:42.185832Z"
    }
   },
   "outputs": [],
   "source": []
  },
  {
   "cell_type": "code",
   "execution_count": 147,
   "metadata": {
    "ExecuteTime": {
     "end_time": "2021-09-27T06:37:15.172214Z",
     "start_time": "2021-09-27T06:37:15.168369Z"
    }
   },
   "outputs": [],
   "source": []
  },
  {
   "cell_type": "code",
   "execution_count": 160,
   "metadata": {
    "ExecuteTime": {
     "end_time": "2021-09-27T06:40:57.325082Z",
     "start_time": "2021-09-27T06:40:57.320112Z"
    }
   },
   "outputs": [
    {
     "name": "stdout",
     "output_type": "stream",
     "text": [
      "서울특별시 중구 퇴계로36길 10(필동2가 80-2)\n",
      "서울특별시 중구 퇴계로34길 28(필동2가 84-1)\n",
      "서울특별시 중구 퇴계로34길 28(필동2가 84-1)\n",
      "서울특별시 중구 소월로 91(남대문로5가 471)\n",
      "서울특별시 중구 장충동2가 산14-21\n",
      "서울특별시 중구 남산공원길 125-72(예장동 산5-6)\n",
      "서울특별시 중구 예장동 8-1\n",
      "서울특별시 중구 예장동 8-1\n",
      "서울특별시 중구 필동로1길 30(장충동2가 192-5)\n",
      "서울특별시 중구 장충단로 72(장충동2가 201-6)\n"
     ]
    }
   ],
   "source": []
  }
 ],
 "metadata": {
  "colab": {
   "authorship_tag": "ABX9TyMM9bcGMQdkO/nwIX0kAuhm",
   "collapsed_sections": [],
   "name": "08_crawler.ipynb",
   "provenance": []
  },
  "kernelspec": {
   "display_name": "Python 3 (ipykernel)",
   "language": "python",
   "name": "python3"
  },
  "language_info": {
   "codemirror_mode": {
    "name": "ipython",
    "version": 3
   },
   "file_extension": ".py",
   "mimetype": "text/x-python",
   "name": "python",
   "nbconvert_exporter": "python",
   "pygments_lexer": "ipython3",
   "version": "3.8.12"
  },
  "toc": {
   "base_numbering": 1,
   "nav_menu": {},
   "number_sections": true,
   "sideBar": true,
   "skip_h1_title": true,
   "title_cell": "Table of Contents",
   "title_sidebar": "Contents",
   "toc_cell": false,
   "toc_position": {},
   "toc_section_display": true,
   "toc_window_display": false
  },
  "varInspector": {
   "cols": {
    "lenName": 16,
    "lenType": 16,
    "lenVar": 40
   },
   "kernels_config": {
    "python": {
     "delete_cmd_postfix": "",
     "delete_cmd_prefix": "del ",
     "library": "var_list.py",
     "varRefreshCmd": "print(var_dic_list())"
    },
    "r": {
     "delete_cmd_postfix": ") ",
     "delete_cmd_prefix": "rm(",
     "library": "var_list.r",
     "varRefreshCmd": "cat(var_dic_list()) "
    }
   },
   "types_to_exclude": [
    "module",
    "function",
    "builtin_function_or_method",
    "instance",
    "_Feature"
   ],
   "window_display": false
  }
 },
 "nbformat": 4,
 "nbformat_minor": 1
}
