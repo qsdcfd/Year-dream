{
  "nbformat": 4,
  "nbformat_minor": 0,
  "metadata": {
    "colab": {
      "name": "시그모이드 함수",
      "provenance": [],
      "authorship_tag": "ABX9TyNk0pDgRkBexcZ1zsMztNB8"
    },
    "kernelspec": {
      "name": "python3",
      "display_name": "Python 3"
    },
    "language_info": {
      "name": "python"
    }
  },
  "cells": [
    {
      "cell_type": "markdown",
      "source": [
        "### 로지스틱 시그모이드 함수\n",
        "\n",
        "- s자 형태\n",
        "\n",
        "- 정의역: 실수 전체\n",
        "\n",
        "- 함숫값: 0~1사이\n",
        "\n",
        "   - 어떤 함수가 입력이 되어도 0과1사이의 값으로 변경된다.\n",
        "\n",
        "   - 스쿼싱함수로 불린다.\n",
        "\n",
        "   - 0과1사이의 값을 가지기에 확률로 해석이 가능하다\n",
        "\n",
        "   \n",
        "![image.png](data:image/png;base64,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)"
      ],
      "metadata": {
        "id": "kRvjhkkMwC1N"
      }
    },
    {
      "cell_type": "code",
      "execution_count": 1,
      "metadata": {
        "id": "tZd3Yaco_VaG"
      },
      "outputs": [],
      "source": [
        "import numpy as np\n",
        "import pandas as pd\n",
        "import matplotlib.pyplot as plt\n",
        "import seaborn as sns"
      ]
    },
    {
      "cell_type": "code",
      "source": [
        "def arrowed_spines(fig, ax, remove_ticks=False):\n",
        "    \"\"\"\n",
        "    좌표축 화살표를 그리기 위한 함수\n",
        "    https://stackoverflow.com/questions/33737736/matplotlib-axis-arrow-tip\n",
        "    \"\"\"\n",
        "    xmin, xmax = ax.get_xlim() \n",
        "    ymin, ymax = ax.get_ylim()\n",
        "\n",
        "    # removing the default axis on all sides:\n",
        "    for side in ['bottom','right','top','left']:\n",
        "        ax.spines[side].set_visible(False)\n",
        "\n",
        "    if remove_ticks == True: \n",
        "        # removing the axis ticks\n",
        "        plt.xticks([]) # labels \n",
        "        plt.yticks([])\n",
        "        ax.xaxis.set_ticks_position('none') # tick markers\n",
        "        ax.yaxis.set_ticks_position('none')\n",
        "\n",
        "    # get width and height of axes object to compute \n",
        "    # matching arrowhead length and width\n",
        "    dps = fig.dpi_scale_trans.inverted()\n",
        "    bbox = ax.get_window_extent().transformed(dps)\n",
        "    width, height = bbox.width, bbox.height\n",
        "\n",
        "    # manual arrowhead width and length\n",
        "    hw = 1./50.*(ymax-ymin) \n",
        "    hl = 1./25.*(xmax-xmin)\n",
        "    lw = 1. # axis line width\n",
        "    ohg = 0.4 # arrow overhang\n",
        "\n",
        "    # compute matching arrowhead length and width\n",
        "    yhw = hw/(ymax-ymin)*(xmax-xmin)* height/width \n",
        "    yhl = hl/(xmax-xmin)*(ymax-ymin)* width/height\n",
        "\n",
        "    # draw x and y axis\n",
        "    ax.arrow(xmin, 0, xmax-xmin, 0., fc='k', ec='k', lw = lw, \n",
        "             head_width=hw, head_length=hl, #overhang = ohg, \n",
        "             length_includes_head= True, clip_on = False) \n",
        "\n",
        "    ax.arrow(0, ymin, 0., ymax-ymin, fc='k', ec='k', lw = lw, \n",
        "             head_width=yhw, head_length=yhl, #overhang = ohg, \n",
        "             length_includes_head= True, clip_on = False)"
      ],
      "metadata": {
        "id": "k_YJRiJNx32Y"
      },
      "execution_count": 4,
      "outputs": []
    },
    {
      "cell_type": "code",
      "source": [
        "#로지스틱 시그모이드 그려보기\n",
        "\n",
        "fig = plt.figure(figsize=(10,7))\n",
        "ax = fig.add_subplot(1,1,1)\n",
        "\n",
        "ax.xaxis.set_tick_params(labelsize=18)\n",
        "ax.yaxis.set_tick_params(labelsize=18)\n",
        "\n",
        "z = np.linspace(-6,6,100)\n",
        "sigma = 1/(1+np.exp(-z))\n",
        "\n",
        "ax.plot(z, sigma, color='k')\n",
        "\n",
        "ax.set_xlabel('$z$', fontsize=25)\n",
        "ax.set_ylabel(r'$\\sigma(z)$', fontsize=25)\n",
        "\n",
        "arrowed_spines(fig, ax)\n",
        "\n",
        "plt.show()"
      ],
      "metadata": {
        "colab": {
          "base_uri": "https://localhost:8080/",
          "height": 464
        },
        "id": "j1cWOD5rwMv2",
        "outputId": "8f677e99-7948-4ce7-9dc3-15f117edb4b7"
      },
      "execution_count": 5,
      "outputs": [
        {
          "output_type": "display_data",
          "data": {
            "text/plain": [
              "<Figure size 720x504 with 1 Axes>"
            ],
            "image/png": "[encoded data removed]"
          },
          "metadata": {
            "needs_background": "light"
          }
        }
      ]
    },
    {
      "cell_type": "code",
      "source": [
        ""
      ],
      "metadata": {
        "id": "OtdUJERmxrfB"
      },
      "execution_count": null,
      "outputs": []
    }
  ]
}