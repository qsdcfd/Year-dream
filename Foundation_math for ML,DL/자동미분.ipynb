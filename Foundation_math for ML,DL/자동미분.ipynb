{
  "nbformat": 4,
  "nbformat_minor": 0,
  "metadata": {
    "colab": {
      "name": "자동미분",
      "provenance": [],
      "authorship_tag": "ABX9TyNpnS2cyEXB8fL8Dao6Ewi/"
    },
    "kernelspec": {
      "name": "python3",
      "display_name": "Python 3"
    },
    "language_info": {
      "name": "python"
    },
    "accelerator": "GPU"
  },
  "cells": [
    {
      "cell_type": "markdown",
      "source": [
        "## 수치미분"
      ],
      "metadata": {
        "id": "qs9kjwbOf8Gg"
      }
    },
    {
      "cell_type": "markdown",
      "source": [
        "**파이토치로하는 자동미분**"
      ],
      "metadata": {
        "id": "YV4nmlghgKPs"
      }
    },
    {
      "cell_type": "markdown",
      "source": [
        "**Tensor**\n",
        "\n",
        "- 넘파이에서 제공하는 다차원 어레이\n",
        "\n",
        "- 데이터를 텐서 자료형에 넣어야 파이토치에서 제공하는 자동미분 기능 사용 가능"
      ],
      "metadata": {
        "id": "PLdqGyVZgT_M"
      }
    },
    {
      "cell_type": "code",
      "execution_count": null,
      "metadata": {
        "id": "zlo_0COIfY6L"
      },
      "outputs": [],
      "source": [
        "import torch\n"
      ]
    },
    {
      "cell_type": "code",
      "source": [
        "import pandas as pd\n",
        "import numpy as np\n"
      ],
      "metadata": {
        "id": "_FQOsMjsf_tY"
      },
      "execution_count": null,
      "outputs": []
    },
    {
      "cell_type": "code",
      "source": [
        "np.random.seed(0) #랜덤 어레이 생성해서 늘 같은 결과가 나오게 하기 위해서 설정\n",
        "\n",
        "x = np.random.rand(6).reshape(2,3) #크기가 (2,3)인 넘파이 어레이를 랜덤 생성\n",
        "\n",
        "x_tensor = torch.tensor(x) #자주 사용하는 몇 가지 방법으로 넘파이 어레이를 텐서로 바꾸기\n",
        "x_from_numpy = torch.from_numpy(x)\n",
        "x_Tensor = torch.Tensor(x)\n",
        "x_as_tensor = torch.as_tensor(x)\n",
        "\n",
        "print(x, x.dtype)#원 데이터인 넘파이 어레이와 변환된 텐서 출력\n",
        "print(x_tensor, x_tensor.dtype, x_tensor.requires_grad)\n",
        "print(x_from_numpy, x_from_numpy.dtype, x_from_numpy.requires_grad)\n",
        "print(x_Tensor, x_Tensor.dtype, x_Tensor.requires_grad)\n",
        "print(x_as_tensor, x_as_tensor.dtype, x_as_tensor.requires_grad)"
      ],
      "metadata": {
        "colab": {
          "base_uri": "https://localhost:8080/"
        },
        "id": "HIwX1SGNhBOw",
        "outputId": "aabec72c-8aeb-455b-9b36-41b54896445b"
      },
      "execution_count": null,
      "outputs": [
        {
          "output_type": "stream",
          "name": "stdout",
          "text": [
            "[[0.5488135  0.71518937 0.60276338]\n",
            " [0.54488318 0.4236548  0.64589411]] float64\n",
            "tensor([[0.5488, 0.7152, 0.6028],\n",
            "        [0.5449, 0.4237, 0.6459]], dtype=torch.float64) torch.float64 False\n",
            "tensor([[0.5488, 0.7152, 0.6028],\n",
            "        [0.5449, 0.4237, 0.6459]], dtype=torch.float64) torch.float64 False\n",
            "tensor([[0.5488, 0.7152, 0.6028],\n",
            "        [0.5449, 0.4237, 0.6459]]) torch.float32 False\n",
            "tensor([[0.5488, 0.7152, 0.6028],\n",
            "        [0.5449, 0.4237, 0.6459]], dtype=torch.float64) torch.float64 False\n"
          ]
        }
      ]
    },
    {
      "cell_type": "code",
      "source": [
        "x[0,0] =100 #원 데이터인 넘파이 어레이에서 요소 하나를 바꿨을 때 텐서에 어떤 현상이 일어남\n",
        "\n",
        "print(x, x.dtype)\n",
        "print(x_tensor, x_tensor.dtype, x_tensor.requires_grad)\n",
        "print(x_from_numpy, x_from_numpy.dtype, x_from_numpy.requires_grad)\n",
        "print(x_Tensor, x_Tensor.dtype, x_Tensor.requires_grad)\n",
        "print(x_as_tensor, x_as_tensor.dtype, x_as_tensor.requires_grad)"
      ],
      "metadata": {
        "colab": {
          "base_uri": "https://localhost:8080/"
        },
        "id": "ChLp0-STh8Ww",
        "outputId": "0662860a-6764-47d3-ce14-5c51321f18d4"
      },
      "execution_count": null,
      "outputs": [
        {
          "output_type": "stream",
          "name": "stdout",
          "text": [
            "[[100.           0.71518937   0.60276338]\n",
            " [  0.54488318   0.4236548    0.64589411]] float64\n",
            "tensor([[0.5488, 0.7152, 0.6028],\n",
            "        [0.5449, 0.4237, 0.6459]], dtype=torch.float64) torch.float64 False\n",
            "tensor([[100.0000,   0.7152,   0.6028],\n",
            "        [  0.5449,   0.4237,   0.6459]], dtype=torch.float64) torch.float64 False\n",
            "tensor([[0.5488, 0.7152, 0.6028],\n",
            "        [0.5449, 0.4237, 0.6459]]) torch.float32 False\n",
            "tensor([[100.0000,   0.7152,   0.6028],\n",
            "        [  0.5449,   0.4237,   0.6459]], dtype=torch.float64) torch.float64 False\n"
          ]
        }
      ]
    },
    {
      "cell_type": "markdown",
      "source": [
        "torch.from_numpy()와 torch.as_tensor()만 값이 함께 바뀌기에 이 두 방식만 넘파이 어레이와 데이터를 공유하고 나머지는 데이터를 복사하여 새롭게 텐서를 만듭니다.\n",
        "\n"
      ],
      "metadata": {
        "id": "pCe3l72Fjbgo"
      }
    },
    {
      "cell_type": "code",
      "source": [
        "#requires_grad의 값이 모두 false\n",
        "#독립변수로 입력받는 함수를 해당 텐서로 자동 미분하려면  True\n",
        "\n",
        "x_tensor_grad =  torch.tensor(x, requires_grad=True)\n",
        "print(x_tensor_grad, x_tensor_grad.dtype, x_tensor_grad.requires_grad)"
      ],
      "metadata": {
        "colab": {
          "base_uri": "https://localhost:8080/"
        },
        "id": "2UFYtQGuiDQ7",
        "outputId": "836accce-6368-4fdd-97a9-cc0e9793d2d3"
      },
      "execution_count": null,
      "outputs": [
        {
          "output_type": "stream",
          "name": "stdout",
          "text": [
            "tensor([[100.0000,   0.7152,   0.6028],\n",
            "        [  0.5449,   0.4237,   0.6459]], dtype=torch.float64,\n",
            "       requires_grad=True) torch.float64 True\n"
          ]
        }
      ]
    },
    {
      "cell_type": "code",
      "source": [
        "x = torch.tensor([1.0], requires_grad=True)\n",
        "f = (x**2 + 2*x) * torch.log(x)\n",
        "\n",
        "print(x)\n",
        "print(f)\n",
        "print(x.grad)\n",
        "\n",
        "print(x.grad_fn)\n",
        "print(f.grad_fn)"
      ],
      "metadata": {
        "colab": {
          "base_uri": "https://localhost:8080/"
        },
        "id": "nEL5mdvPkOfy",
        "outputId": "43b5e059-b8dc-400e-8c34-db871be7a16d"
      },
      "execution_count": null,
      "outputs": [
        {
          "output_type": "stream",
          "name": "stdout",
          "text": [
            "tensor([1.], requires_grad=True)\n",
            "tensor([0.], grad_fn=<MulBackward0>)\n",
            "None\n",
            "None\n",
            "<MulBackward0 object at 0x7fe0f7b8d750>\n"
          ]
        }
      ]
    },
    {
      "cell_type": "code",
      "source": [
        "#x가 마지막 노드인가\n",
        "#backward()함수는 마지막 노드까지 역전파하면서 미분계수 구한다.\n",
        "print(x.is_leaf)"
      ],
      "metadata": {
        "colab": {
          "base_uri": "https://localhost:8080/"
        },
        "id": "XCqZb_ClkwIO",
        "outputId": "e1575802-a737-452e-dfa7-af7faedb15fb"
      },
      "execution_count": null,
      "outputs": [
        {
          "output_type": "stream",
          "name": "stdout",
          "text": [
            "True\n"
          ]
        }
      ]
    },
    {
      "cell_type": "code",
      "source": [
        ""
      ],
      "metadata": {
        "id": "zlw_V1TUk3SU"
      },
      "execution_count": null,
      "outputs": []
    },
    {
      "cell_type": "markdown",
      "source": [
        "#### torch.autograd.backward\n",
        "\n",
        "- torch.autograd\n",
        "\n",
        "   - 스칼라함수를 자동미분\n",
        "\n",
        "- torch.autograd.backward\n",
        "\n",
        "   - 계산 그래프의 끝에서 거꾸로 계산하여 그래프의 시작으로 거슬러 올라간다.\n",
        "\n",
        "   - 사용자가 만든 변수들에 대한 미분계수를 구해주는 함수\n",
        "\n",
        "   "
      ],
      "metadata": {
        "id": "WSyeXl-uk_ax"
      }
    },
    {
      "cell_type": "code",
      "source": [
        "#계산 그래프를 유지하기 위해서 retain_graph = True\n",
        "#미분계수 : 3\n",
        "torch.autograd.backward(f,grad_tensors = torch.tensor([1.]), retain_graph=True)\n",
        "print(x.grad)\n"
      ],
      "metadata": {
        "colab": {
          "base_uri": "https://localhost:8080/"
        },
        "id": "dEBZ0giWlX74",
        "outputId": "2589c2bc-8fb5-4d36-d1d8-b60dd41eaa5e"
      },
      "execution_count": null,
      "outputs": [
        {
          "output_type": "stream",
          "name": "stdout",
          "text": [
            "tensor([3.])\n"
          ]
        }
      ]
    },
    {
      "cell_type": "markdown",
      "source": [
        "**torch.autograd.grad**\n",
        "\n",
        "- 종속변수와 미분할 변수를 모두 명시적으로 지정 후 반환값으로 바로 미분계수를 돌려받는다."
      ],
      "metadata": {
        "id": "WQUqOGmamZEa"
      }
    },
    {
      "cell_type": "code",
      "source": [
        "df = torch.autograd.grad(f,x, retain_graph=True) #f와 미분할 변수 x 넘기기, 여러 개 미분도 가능\n",
        "print(df)\n",
        "print(x.grad)"
      ],
      "metadata": {
        "colab": {
          "base_uri": "https://localhost:8080/"
        },
        "id": "KhqRy9x5mD-f",
        "outputId": "87e3f666-822c-44ba-a13e-6e521dab7b27"
      },
      "execution_count": null,
      "outputs": [
        {
          "output_type": "stream",
          "name": "stdout",
          "text": [
            "(tensor([3.]),)\n",
            "tensor([3.])\n"
          ]
        }
      ]
    },
    {
      "cell_type": "code",
      "source": [
        "x = torch.tensor([1.0], requires_grad=True)\n",
        "y = torch.tensor([2.0], requires_grad= True)\n",
        "f_xy = (x**2 + 2*x) * torch.log(y)\n",
        "\n",
        "torch.autograd.backward(f_xy, retain_graph=True)\n",
        "print(x.grad)\n",
        "print(y.grad)\n",
        "\n",
        "df = torch.autograd.grad(f_xy, (x,y), retain_graph=True)\n",
        "print(df)"
      ],
      "metadata": {
        "colab": {
          "base_uri": "https://localhost:8080/"
        },
        "id": "HGsqgKu4movC",
        "outputId": "9c8e8789-7ab9-4263-878c-f830c80130ec"
      },
      "execution_count": null,
      "outputs": [
        {
          "output_type": "stream",
          "name": "stdout",
          "text": [
            "tensor([2.7726])\n",
            "tensor([1.5000])\n",
            "(tensor([2.7726]), tensor([1.5000]))\n"
          ]
        }
      ]
    },
    {
      "cell_type": "code",
      "source": [
        ""
      ],
      "metadata": {
        "id": "17GKpKEOoH1I"
      },
      "execution_count": null,
      "outputs": []
    },
    {
      "cell_type": "markdown",
      "source": [
        "### 자동미분 구현\n",
        "\n",
        "- 구현 방법: 포워드모드 와 리버스 모두\n",
        "\n",
        "- 목적: 미분하고자 하는 함수를 계산 그래프로 만들어서 미분계수를 계산\n",
        "\n",
        "- 포워드모드\n",
        "\n",
        "   - 각 변수에 대해서 편미분계수를 구하려면 그만큼 순전파를 시켜야하므로 비효율적이다.\n",
        "\n",
        "   - 그러므로, 편미분계수를 구하는 목적이면 사용안함\n",
        "\n",
        "   \n",
        "- 리버스모드\n",
        "\n",
        "   - 순전파, 역전파 각각 한번으로도 편미분계수를 모두 구할 수 있다."
      ],
      "metadata": {
        "id": "cEcKy4scoJEr"
      }
    },
    {
      "cell_type": "code",
      "source": [
        "def times(x,y):\n",
        "    return x*y, (x,y)\n",
        "\n",
        "def times_deriv(cache, dout=1):\n",
        "    return cache[1]*dout, cache[0]*dout\n",
        "\n",
        "TIMES = {'f': times, 'df': times_deriv}\n",
        "\n",
        "v, cache = TIMES['f'](2,3)\n",
        "dx,dy = TIMES['df'](cache)\n",
        "\n",
        "print(\"dx={}. dy={}\".format(dx,dy))"
      ],
      "metadata": {
        "colab": {
          "base_uri": "https://localhost:8080/"
        },
        "id": "-rNFuDJZoKPw",
        "outputId": "b08d9737-eb27-4cc1-b362-bb82b5cdffca"
      },
      "execution_count": null,
      "outputs": [
        {
          "output_type": "stream",
          "name": "stdout",
          "text": [
            "dx=3. dy=2\n"
          ]
        }
      ]
    },
    {
      "cell_type": "code",
      "source": [
        "def add(x, y):\n",
        "    return x+y, (x,y)\n",
        "\n",
        "def add_deriv(cache, dout=1):\n",
        "    return dout, dout\n",
        "\n",
        "ADD = {'f': add, 'df': add_deriv}\n",
        "\n",
        "def log(x):\n",
        "    return np.log(x), x\n",
        "\n",
        "def log_deriv(cache, dout=1):\n",
        "    return (1/cache)*dout\n",
        "\n",
        "LOG = {'f': log, 'df': log_deriv}\n"
      ],
      "metadata": {
        "id": "_Bp5X5BQphXH"
      },
      "execution_count": null,
      "outputs": []
    },
    {
      "cell_type": "code",
      "source": [
        "x =1.; y = 2.\n",
        "\n",
        "a, cache_a = TIMES['f'](x,x)\n",
        "b, cache_b = TIMES['f'](2,x)\n",
        "c, cache_c = ADD['f'](a,b)\n",
        "d, cache_d = LOG['f'](y)\n",
        "z, cache_z = TIMES['f'](c,d)\n",
        "\n",
        "print(\"forward pass f(x) = {:.6f}\".format(z))\n",
        "\n",
        "dx = dy =0.\n",
        "dc, dd =TIMES['df'](cache_z,1)\n",
        "dy =LOG['df'](cache_d, dd)\n",
        "da, db = ADD['df'](cache_c, dc)\n",
        "_, dx_ =TIMES['df'](cache_b, db); dx+=dx_;\n",
        "dx_, dx__ =  TIMES['df'](cache_a, da); dx+= dx_+dx__;\n",
        "\n",
        "print('backward pass dx = {:.6f}, dy = {:.6f}'.format(dx,dy))"
      ],
      "metadata": {
        "colab": {
          "base_uri": "https://localhost:8080/"
        },
        "id": "R_h_DNAsqVez",
        "outputId": "25be6549-e4e1-43ed-82b6-d95d36fdbc9a"
      },
      "execution_count": null,
      "outputs": [
        {
          "output_type": "stream",
          "name": "stdout",
          "text": [
            "forward pass f(x) = 2.079442\n",
            "backward pass dx = 2.772589, dy = 1.500000\n"
          ]
        }
      ]
    },
    {
      "cell_type": "code",
      "source": [
        "#파이토치로 상류층 미분계수를 2를 주고 미분한 경우\n",
        "\n"
      ],
      "metadata": {
        "id": "bl4ukTKyq4Bp"
      },
      "execution_count": null,
      "outputs": []
    }
  ]
}