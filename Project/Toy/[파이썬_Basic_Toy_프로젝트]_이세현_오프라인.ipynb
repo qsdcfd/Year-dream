{
  "cells": [
    {
      "cell_type": "markdown",
      "id": "d6a4fbf5",
      "metadata": {
        "id": "d6a4fbf5"
      },
      "source": [
        "# EDA (Exploratory Data Analysis)\n",
        "다양한 각도에서 데이터를 관찰하고 이해하는 과정입니다. 데이터의 이해도가 높아지면서 숨겨진 의미를 발견하고 잠재적인 문제를 미리 발견할 수 있습니다. 이를 바탕으로 데이터를 보완하거나 기존의 가설을 수정할 수 있습니다. "
      ]
    },
    {
      "cell_type": "markdown",
      "id": "b15202c3",
      "metadata": {
        "id": "b15202c3"
      },
      "source": [
        "<div class=\"alert alert-block alert-success\">\n",
        "    <b>목표</b> : 주택가격과 관련 있는 Factor를 찾는다. \n",
        "</div>"
      ]
    },
    {
      "cell_type": "markdown",
      "id": "3778205d",
      "metadata": {
        "id": "3778205d"
      },
      "source": [
        "데이터를 1) 전처리한 후 분포를 2) 시각화하고 3) 다양한 기준으로 주택 가격을 분석해 보세요.\n",
        "- 데이터를 분류한 근거를 글로 남겨주세요."
      ]
    },
    {
      "cell_type": "code",
      "execution_count": null,
      "id": "591915dd",
      "metadata": {
        "id": "591915dd"
      },
      "outputs": [],
      "source": [
        "import pandas as pd\n",
        "import numpy as np\n",
        "from sklearn import metrics\n",
        "import matplotlib.pyplot as plt\n",
        "import seaborn as sns\n",
        "%matplotlib inline"
      ]
    },
    {
      "cell_type": "markdown",
      "id": "7a9d53a2",
      "metadata": {
        "id": "7a9d53a2"
      },
      "source": [
        "데이터 살펴보기"
      ]
    },
    {
      "cell_type": "code",
      "source": [
        "#gogle코랩 연동\n",
        "from google.colab import drive \n",
        "drive.mount('/content/gdrive/')"
      ],
      "metadata": {
        "colab": {
          "base_uri": "https://localhost:8080/"
        },
        "id": "sWO4oNuQmg7J",
        "outputId": "517f6d9a-5d03-4c2d-a73b-bfc5a7be462e"
      },
      "id": "sWO4oNuQmg7J",
      "execution_count": null,
      "outputs": [
        {
          "output_type": "stream",
          "name": "stdout",
          "text": [
            "Drive already mounted at /content/gdrive/; to attempt to forcibly remount, call drive.mount(\"/content/gdrive/\", force_remount=True).\n"
          ]
        }
      ]
    },
    {
      "cell_type": "code",
      "execution_count": null,
      "id": "f51d6094",
      "metadata": {
        "id": "f51d6094",
        "outputId": "472b44a6-8e5a-43da-a556-7f970d467359",
        "colab": {
          "base_uri": "https://localhost:8080/",
          "height": 206
        }
      },
      "outputs": [
        {
          "output_type": "execute_result",
          "data": {
            "text/plain": [
              "   CRIM    ZN  INDUS  CHAS  NOX   RM   AGE  DIS  RAD  TAX  PTRATIO      B  \\\n",
              "0  0.01 18.00   2.31     0 0.54 6.58 65.20 4.09    1  296    15.30 396.90   \n",
              "1  0.03  0.00   7.07     0 0.47 6.42 78.90 4.97    2  242    17.80 396.90   \n",
              "2  0.03  0.00   7.07     0 0.47 7.18 61.10 4.97    2  242    17.80 392.83   \n",
              "3  0.03  0.00   2.18     0 0.46 7.00 45.80 6.06    3  222    18.70 394.63   \n",
              "4  0.07  0.00   2.18     0 0.46 7.15 54.20 6.06    3  222    18.70 396.90   \n",
              "\n",
              "   LSTAT  MEDV  CAT. MEDV  \n",
              "0   4.98 24.00          0  \n",
              "1   9.14 21.60          0  \n",
              "2   4.03 34.70          1  \n",
              "3   2.94 33.40          1  \n",
              "4   5.33 36.20          1  "
            ],
            "text/html": [
              "\n",
              "  <div id=\"df-357e70db-a180-4d3f-8fd7-ec54834e240c\">\n",
              "    <div class=\"colab-df-container\">\n",
              "      <div>\n",
              "<style scoped>\n",
              "    .dataframe tbody tr th:only-of-type {\n",
              "        vertical-align: middle;\n",
              "    }\n",
              "\n",
              "    .dataframe tbody tr th {\n",
              "        vertical-align: top;\n",
              "    }\n",
              "\n",
              "    .dataframe thead th {\n",
              "        text-align: right;\n",
              "    }\n",
              "</style>\n",
              "<table border=\"1\" class=\"dataframe\">\n",
              "  <thead>\n",
              "    <tr style=\"text-align: right;\">\n",
              "      <th></th>\n",
              "      <th>CRIM</th>\n",
              "      <th>ZN</th>\n",
              "      <th>INDUS</th>\n",
              "      <th>CHAS</th>\n",
              "      <th>NOX</th>\n",
              "      <th>RM</th>\n",
              "      <th>AGE</th>\n",
              "      <th>DIS</th>\n",
              "      <th>RAD</th>\n",
              "      <th>TAX</th>\n",
              "      <th>PTRATIO</th>\n",
              "      <th>B</th>\n",
              "      <th>LSTAT</th>\n",
              "      <th>MEDV</th>\n",
              "      <th>CAT. MEDV</th>\n",
              "    </tr>\n",
              "  </thead>\n",
              "  <tbody>\n",
              "    <tr>\n",
              "      <th>0</th>\n",
              "      <td>0.01</td>\n",
              "      <td>18.00</td>\n",
              "      <td>2.31</td>\n",
              "      <td>0</td>\n",
              "      <td>0.54</td>\n",
              "      <td>6.58</td>\n",
              "      <td>65.20</td>\n",
              "      <td>4.09</td>\n",
              "      <td>1</td>\n",
              "      <td>296</td>\n",
              "      <td>15.30</td>\n",
              "      <td>396.90</td>\n",
              "      <td>4.98</td>\n",
              "      <td>24.00</td>\n",
              "      <td>0</td>\n",
              "    </tr>\n",
              "    <tr>\n",
              "      <th>1</th>\n",
              "      <td>0.03</td>\n",
              "      <td>0.00</td>\n",
              "      <td>7.07</td>\n",
              "      <td>0</td>\n",
              "      <td>0.47</td>\n",
              "      <td>6.42</td>\n",
              "      <td>78.90</td>\n",
              "      <td>4.97</td>\n",
              "      <td>2</td>\n",
              "      <td>242</td>\n",
              "      <td>17.80</td>\n",
              "      <td>396.90</td>\n",
              "      <td>9.14</td>\n",
              "      <td>21.60</td>\n",
              "      <td>0</td>\n",
              "    </tr>\n",
              "    <tr>\n",
              "      <th>2</th>\n",
              "      <td>0.03</td>\n",
              "      <td>0.00</td>\n",
              "      <td>7.07</td>\n",
              "      <td>0</td>\n",
              "      <td>0.47</td>\n",
              "      <td>7.18</td>\n",
              "      <td>61.10</td>\n",
              "      <td>4.97</td>\n",
              "      <td>2</td>\n",
              "      <td>242</td>\n",
              "      <td>17.80</td>\n",
              "      <td>392.83</td>\n",
              "      <td>4.03</td>\n",
              "      <td>34.70</td>\n",
              "      <td>1</td>\n",
              "    </tr>\n",
              "    <tr>\n",
              "      <th>3</th>\n",
              "      <td>0.03</td>\n",
              "      <td>0.00</td>\n",
              "      <td>2.18</td>\n",
              "      <td>0</td>\n",
              "      <td>0.46</td>\n",
              "      <td>7.00</td>\n",
              "      <td>45.80</td>\n",
              "      <td>6.06</td>\n",
              "      <td>3</td>\n",
              "      <td>222</td>\n",
              "      <td>18.70</td>\n",
              "      <td>394.63</td>\n",
              "      <td>2.94</td>\n",
              "      <td>33.40</td>\n",
              "      <td>1</td>\n",
              "    </tr>\n",
              "    <tr>\n",
              "      <th>4</th>\n",
              "      <td>0.07</td>\n",
              "      <td>0.00</td>\n",
              "      <td>2.18</td>\n",
              "      <td>0</td>\n",
              "      <td>0.46</td>\n",
              "      <td>7.15</td>\n",
              "      <td>54.20</td>\n",
              "      <td>6.06</td>\n",
              "      <td>3</td>\n",
              "      <td>222</td>\n",
              "      <td>18.70</td>\n",
              "      <td>396.90</td>\n",
              "      <td>5.33</td>\n",
              "      <td>36.20</td>\n",
              "      <td>1</td>\n",
              "    </tr>\n",
              "  </tbody>\n",
              "</table>\n",
              "</div>\n",
              "      <button class=\"colab-df-convert\" onclick=\"convertToInteractive('df-357e70db-a180-4d3f-8fd7-ec54834e240c')\"\n",
              "              title=\"Convert this dataframe to an interactive table.\"\n",
              "              style=\"display:none;\">\n",
              "        \n",
              "  <svg xmlns=\"http://www.w3.org/2000/svg\" height=\"24px\"viewBox=\"0 0 24 24\"\n",
              "       width=\"24px\">\n",
              "    <path d=\"M0 0h24v24H0V0z\" fill=\"none\"/>\n",
              "    <path d=\"M18.56 5.44l.94 2.06.94-2.06 2.06-.94-2.06-.94-.94-2.06-.94 2.06-2.06.94zm-11 1L8.5 8.5l.94-2.06 2.06-.94-2.06-.94L8.5 2.5l-.94 2.06-2.06.94zm10 10l.94 2.06.94-2.06 2.06-.94-2.06-.94-.94-2.06-.94 2.06-2.06.94z\"/><path d=\"M17.41 7.96l-1.37-1.37c-.4-.4-.92-.59-1.43-.59-.52 0-1.04.2-1.43.59L10.3 9.45l-7.72 7.72c-.78.78-.78 2.05 0 2.83L4 21.41c.39.39.9.59 1.41.59.51 0 1.02-.2 1.41-.59l7.78-7.78 2.81-2.81c.8-.78.8-2.07 0-2.86zM5.41 20L4 18.59l7.72-7.72 1.47 1.35L5.41 20z\"/>\n",
              "  </svg>\n",
              "      </button>\n",
              "      \n",
              "  <style>\n",
              "    .colab-df-container {\n",
              "      display:flex;\n",
              "      flex-wrap:wrap;\n",
              "      gap: 12px;\n",
              "    }\n",
              "\n",
              "    .colab-df-convert {\n",
              "      background-color: #E8F0FE;\n",
              "      border: none;\n",
              "      border-radius: 50%;\n",
              "      cursor: pointer;\n",
              "      display: none;\n",
              "      fill: #1967D2;\n",
              "      height: 32px;\n",
              "      padding: 0 0 0 0;\n",
              "      width: 32px;\n",
              "    }\n",
              "\n",
              "    .colab-df-convert:hover {\n",
              "      background-color: #E2EBFA;\n",
              "      box-shadow: 0px 1px 2px rgba(60, 64, 67, 0.3), 0px 1px 3px 1px rgba(60, 64, 67, 0.15);\n",
              "      fill: #174EA6;\n",
              "    }\n",
              "\n",
              "    [theme=dark] .colab-df-convert {\n",
              "      background-color: #3B4455;\n",
              "      fill: #D2E3FC;\n",
              "    }\n",
              "\n",
              "    [theme=dark] .colab-df-convert:hover {\n",
              "      background-color: #434B5C;\n",
              "      box-shadow: 0px 1px 3px 1px rgba(0, 0, 0, 0.15);\n",
              "      filter: drop-shadow(0px 1px 2px rgba(0, 0, 0, 0.3));\n",
              "      fill: #FFFFFF;\n",
              "    }\n",
              "  </style>\n",
              "\n",
              "      <script>\n",
              "        const buttonEl =\n",
              "          document.querySelector('#df-357e70db-a180-4d3f-8fd7-ec54834e240c button.colab-df-convert');\n",
              "        buttonEl.style.display =\n",
              "          google.colab.kernel.accessAllowed ? 'block' : 'none';\n",
              "\n",
              "        async function convertToInteractive(key) {\n",
              "          const element = document.querySelector('#df-357e70db-a180-4d3f-8fd7-ec54834e240c');\n",
              "          const dataTable =\n",
              "            await google.colab.kernel.invokeFunction('convertToInteractive',\n",
              "                                                     [key], {});\n",
              "          if (!dataTable) return;\n",
              "\n",
              "          const docLinkHtml = 'Like what you see? Visit the ' +\n",
              "            '<a target=\"_blank\" href=https://colab.research.google.com/notebooks/data_table.ipynb>data table notebook</a>'\n",
              "            + ' to learn more about interactive tables.';\n",
              "          element.innerHTML = '';\n",
              "          dataTable['output_type'] = 'display_data';\n",
              "          await google.colab.output.renderOutput(dataTable, element);\n",
              "          const docLink = document.createElement('div');\n",
              "          docLink.innerHTML = docLinkHtml;\n",
              "          element.appendChild(docLink);\n",
              "        }\n",
              "      </script>\n",
              "    </div>\n",
              "  </div>\n",
              "  "
            ]
          },
          "metadata": {},
          "execution_count": 64
        }
      ],
      "source": [
        "df = pd.read_csv('/content/gdrive/MyDrive/BostonHousing.csv')\n",
        "df.head()"
      ]
    },
    {
      "cell_type": "markdown",
      "source": [
        "### 타겟 라벨 확인\n"
      ],
      "metadata": {
        "id": "AUusztV2VMDL"
      },
      "id": "AUusztV2VMDL"
    },
    {
      "cell_type": "code",
      "source": [
        "\n",
        "f, ax = plt.subplots(1, 2, figsize=(20, 6))\n",
        "\n",
        "df['CAT. MEDV'].value_counts().plot.pie(explode=[0, 0.1], autopct='%1.1f%%', ax=ax[0], shadow=True)\n",
        "ax[0].set_title('Pie plot - CAT. MEDV')\n",
        "ax[0].set_ylabel('')\n",
        "sns.countplot('CAT. MEDV', data=df, ax=ax[1])\n",
        "ax[1].set_title(' CAT. MEDV')\n",
        "\n",
        "plt.show()"
      ],
      "metadata": {
        "colab": {
          "base_uri": "https://localhost:8080/",
          "height": 404
        },
        "id": "ahIX0JJQVK98",
        "outputId": "79486ceb-7a05-4354-e030-edd4e0555ec2"
      },
      "id": "ahIX0JJQVK98",
      "execution_count": null,
      "outputs": [
        {
          "output_type": "display_data",
          "data": {
            "text/plain": [
              "<Figure size 1440x432 with 2 Axes>"
            ],
            "image/png": "[encoded data removed]"
          },
          "metadata": {
            "needs_background": "light"
          }
        }
      ]
    },
    {
      "cell_type": "markdown",
      "id": "007bbc40",
      "metadata": {
        "id": "007bbc40"
      },
      "source": [
        "| 변수 | 설명 |\n",
        "| ---- | ---- |\n",
        "| CRIM | 1인당 범죄율 | \n",
        "| ZN | 25,000 평방피트를 초과하는 거주지역의 비율 | \n",
        "| INDUS | 비소매상업지역 면적 비율 |\n",
        "| CHAS | 찰스강의 경계에 위치한 경우 1, 아니면 0 |\n",
        "| NOX | 일산화질소 농도 | \n",
        "| RM | 방의 수 |\n",
        "| AGE | 1940년 이전에 건축된 주택의 비율 |\n",
        "| DIS | 직업센터까지의 접근성 지수 |\n",
        "| RAD | 고속도로까지의 접근성 지수 |\n",
        "| TAX | 재산세율 | \n",
        "| PTRATIO | 학생-교사 비율 |\n",
        "| B | 흑인 비율 |\n",
        "| LSTAT | 하위 계층 비율 | \n",
        "| MEDV | 본인 소유의 주택 가격 (중앙값), 단위 1,000$ |\n",
        "| CAT.MEDV | MEDV가 30,000을 넘으면 1 아니면 0 |"
      ]
    },
    {
      "cell_type": "markdown",
      "id": "f3a595ee",
      "metadata": {
        "id": "f3a595ee"
      },
      "source": [
        "## 데이터 타입과 결측값 확인하기"
      ]
    },
    {
      "cell_type": "code",
      "execution_count": null,
      "id": "9fef4f2e",
      "metadata": {
        "id": "9fef4f2e",
        "colab": {
          "base_uri": "https://localhost:8080/"
        },
        "outputId": "38f92a4d-281d-4ecc-db36-ccfe977d9b41"
      },
      "outputs": [
        {
          "output_type": "execute_result",
          "data": {
            "text/plain": [
              "CRIM         float64\n",
              "ZN           float64\n",
              "INDUS        float64\n",
              "CHAS           int64\n",
              "NOX          float64\n",
              "RM           float64\n",
              "AGE          float64\n",
              "DIS          float64\n",
              "RAD            int64\n",
              "TAX            int64\n",
              "PTRATIO      float64\n",
              "B            float64\n",
              "LSTAT        float64\n",
              "MEDV         float64\n",
              "CAT. MEDV      int64\n",
              "dtype: object"
            ]
          },
          "metadata": {},
          "execution_count": 66
        }
      ],
      "source": [
        "#데이터 타입\n",
        "df.dtypes\n",
        "#int와 float가 섞여있어서 나중에 문제가 크게 생기지는 않겠지만 그래도 바꾸겠습니다."
      ]
    },
    {
      "cell_type": "code",
      "source": [
        "#df.astype('int')\n",
        "#이러한 이유로 int로 바꾸진 않을겁니다."
      ],
      "metadata": {
        "id": "nty7qgORp_7T"
      },
      "id": "nty7qgORp_7T",
      "execution_count": null,
      "outputs": []
    },
    {
      "cell_type": "code",
      "source": [
        "#float형으로 바꾸겠습니다.\n",
        "\n",
        "data = df.astype('float')\n",
        "data"
      ],
      "metadata": {
        "colab": {
          "base_uri": "https://localhost:8080/",
          "height": 423
        },
        "id": "KGsUkiropkwl",
        "outputId": "d49214c2-feae-4ac5-dcd6-f54b1f6b8c85"
      },
      "id": "KGsUkiropkwl",
      "execution_count": null,
      "outputs": [
        {
          "output_type": "execute_result",
          "data": {
            "text/plain": [
              "     CRIM    ZN  INDUS  CHAS  NOX   RM   AGE  DIS  RAD    TAX  PTRATIO      B  \\\n",
              "0    0.01 18.00   2.31  0.00 0.54 6.58 65.20 4.09 1.00 296.00    15.30 396.90   \n",
              "1    0.03  0.00   7.07  0.00 0.47 6.42 78.90 4.97 2.00 242.00    17.80 396.90   \n",
              "2    0.03  0.00   7.07  0.00 0.47 7.18 61.10 4.97 2.00 242.00    17.80 392.83   \n",
              "3    0.03  0.00   2.18  0.00 0.46 7.00 45.80 6.06 3.00 222.00    18.70 394.63   \n",
              "4    0.07  0.00   2.18  0.00 0.46 7.15 54.20 6.06 3.00 222.00    18.70 396.90   \n",
              "..    ...   ...    ...   ...  ...  ...   ...  ...  ...    ...      ...    ...   \n",
              "501  0.06  0.00  11.93  0.00 0.57 6.59 69.10 2.48 1.00 273.00    21.00 391.99   \n",
              "502  0.05  0.00  11.93  0.00 0.57 6.12 76.70 2.29 1.00 273.00    21.00 396.90   \n",
              "503  0.06  0.00  11.93  0.00 0.57 6.98 91.00 2.17 1.00 273.00    21.00 396.90   \n",
              "504  0.11  0.00  11.93  0.00 0.57 6.79 89.30 2.39 1.00 273.00    21.00 393.45   \n",
              "505  0.05  0.00  11.93  0.00 0.57 6.03 80.80 2.50 1.00 273.00    21.00 396.90   \n",
              "\n",
              "     LSTAT  MEDV  CAT. MEDV  \n",
              "0     4.98 24.00       0.00  \n",
              "1     9.14 21.60       0.00  \n",
              "2     4.03 34.70       1.00  \n",
              "3     2.94 33.40       1.00  \n",
              "4     5.33 36.20       1.00  \n",
              "..     ...   ...        ...  \n",
              "501   9.67 22.40       0.00  \n",
              "502   9.08 20.60       0.00  \n",
              "503   5.64 23.90       0.00  \n",
              "504   6.48 22.00       0.00  \n",
              "505   7.88 11.90       0.00  \n",
              "\n",
              "[506 rows x 15 columns]"
            ],
            "text/html": [
              "\n",
              "  <div id=\"df-8d21cbd7-f3bd-4099-92b5-a88525d71de5\">\n",
              "    <div class=\"colab-df-container\">\n",
              "      <div>\n",
              "<style scoped>\n",
              "    .dataframe tbody tr th:only-of-type {\n",
              "        vertical-align: middle;\n",
              "    }\n",
              "\n",
              "    .dataframe tbody tr th {\n",
              "        vertical-align: top;\n",
              "    }\n",
              "\n",
              "    .dataframe thead th {\n",
              "        text-align: right;\n",
              "    }\n",
              "</style>\n",
              "<table border=\"1\" class=\"dataframe\">\n",
              "  <thead>\n",
              "    <tr style=\"text-align: right;\">\n",
              "      <th></th>\n",
              "      <th>CRIM</th>\n",
              "      <th>ZN</th>\n",
              "      <th>INDUS</th>\n",
              "      <th>CHAS</th>\n",
              "      <th>NOX</th>\n",
              "      <th>RM</th>\n",
              "      <th>AGE</th>\n",
              "      <th>DIS</th>\n",
              "      <th>RAD</th>\n",
              "      <th>TAX</th>\n",
              "      <th>PTRATIO</th>\n",
              "      <th>B</th>\n",
              "      <th>LSTAT</th>\n",
              "      <th>MEDV</th>\n",
              "      <th>CAT. MEDV</th>\n",
              "    </tr>\n",
              "  </thead>\n",
              "  <tbody>\n",
              "    <tr>\n",
              "      <th>0</th>\n",
              "      <td>0.01</td>\n",
              "      <td>18.00</td>\n",
              "      <td>2.31</td>\n",
              "      <td>0.00</td>\n",
              "      <td>0.54</td>\n",
              "      <td>6.58</td>\n",
              "      <td>65.20</td>\n",
              "      <td>4.09</td>\n",
              "      <td>1.00</td>\n",
              "      <td>296.00</td>\n",
              "      <td>15.30</td>\n",
              "      <td>396.90</td>\n",
              "      <td>4.98</td>\n",
              "      <td>24.00</td>\n",
              "      <td>0.00</td>\n",
              "    </tr>\n",
              "    <tr>\n",
              "      <th>1</th>\n",
              "      <td>0.03</td>\n",
              "      <td>0.00</td>\n",
              "      <td>7.07</td>\n",
              "      <td>0.00</td>\n",
              "      <td>0.47</td>\n",
              "      <td>6.42</td>\n",
              "      <td>78.90</td>\n",
              "      <td>4.97</td>\n",
              "      <td>2.00</td>\n",
              "      <td>242.00</td>\n",
              "      <td>17.80</td>\n",
              "      <td>396.90</td>\n",
              "      <td>9.14</td>\n",
              "      <td>21.60</td>\n",
              "      <td>0.00</td>\n",
              "    </tr>\n",
              "    <tr>\n",
              "      <th>2</th>\n",
              "      <td>0.03</td>\n",
              "      <td>0.00</td>\n",
              "      <td>7.07</td>\n",
              "      <td>0.00</td>\n",
              "      <td>0.47</td>\n",
              "      <td>7.18</td>\n",
              "      <td>61.10</td>\n",
              "      <td>4.97</td>\n",
              "      <td>2.00</td>\n",
              "      <td>242.00</td>\n",
              "      <td>17.80</td>\n",
              "      <td>392.83</td>\n",
              "      <td>4.03</td>\n",
              "      <td>34.70</td>\n",
              "      <td>1.00</td>\n",
              "    </tr>\n",
              "    <tr>\n",
              "      <th>3</th>\n",
              "      <td>0.03</td>\n",
              "      <td>0.00</td>\n",
              "      <td>2.18</td>\n",
              "      <td>0.00</td>\n",
              "      <td>0.46</td>\n",
              "      <td>7.00</td>\n",
              "      <td>45.80</td>\n",
              "      <td>6.06</td>\n",
              "      <td>3.00</td>\n",
              "      <td>222.00</td>\n",
              "      <td>18.70</td>\n",
              "      <td>394.63</td>\n",
              "      <td>2.94</td>\n",
              "      <td>33.40</td>\n",
              "      <td>1.00</td>\n",
              "    </tr>\n",
              "    <tr>\n",
              "      <th>4</th>\n",
              "      <td>0.07</td>\n",
              "      <td>0.00</td>\n",
              "      <td>2.18</td>\n",
              "      <td>0.00</td>\n",
              "      <td>0.46</td>\n",
              "      <td>7.15</td>\n",
              "      <td>54.20</td>\n",
              "      <td>6.06</td>\n",
              "      <td>3.00</td>\n",
              "      <td>222.00</td>\n",
              "      <td>18.70</td>\n",
              "      <td>396.90</td>\n",
              "      <td>5.33</td>\n",
              "      <td>36.20</td>\n",
              "      <td>1.00</td>\n",
              "    </tr>\n",
              "    <tr>\n",
              "      <th>...</th>\n",
              "      <td>...</td>\n",
              "      <td>...</td>\n",
              "      <td>...</td>\n",
              "      <td>...</td>\n",
              "      <td>...</td>\n",
              "      <td>...</td>\n",
              "      <td>...</td>\n",
              "      <td>...</td>\n",
              "      <td>...</td>\n",
              "      <td>...</td>\n",
              "      <td>...</td>\n",
              "      <td>...</td>\n",
              "      <td>...</td>\n",
              "      <td>...</td>\n",
              "      <td>...</td>\n",
              "    </tr>\n",
              "    <tr>\n",
              "      <th>501</th>\n",
              "      <td>0.06</td>\n",
              "      <td>0.00</td>\n",
              "      <td>11.93</td>\n",
              "      <td>0.00</td>\n",
              "      <td>0.57</td>\n",
              "      <td>6.59</td>\n",
              "      <td>69.10</td>\n",
              "      <td>2.48</td>\n",
              "      <td>1.00</td>\n",
              "      <td>273.00</td>\n",
              "      <td>21.00</td>\n",
              "      <td>391.99</td>\n",
              "      <td>9.67</td>\n",
              "      <td>22.40</td>\n",
              "      <td>0.00</td>\n",
              "    </tr>\n",
              "    <tr>\n",
              "      <th>502</th>\n",
              "      <td>0.05</td>\n",
              "      <td>0.00</td>\n",
              "      <td>11.93</td>\n",
              "      <td>0.00</td>\n",
              "      <td>0.57</td>\n",
              "      <td>6.12</td>\n",
              "      <td>76.70</td>\n",
              "      <td>2.29</td>\n",
              "      <td>1.00</td>\n",
              "      <td>273.00</td>\n",
              "      <td>21.00</td>\n",
              "      <td>396.90</td>\n",
              "      <td>9.08</td>\n",
              "      <td>20.60</td>\n",
              "      <td>0.00</td>\n",
              "    </tr>\n",
              "    <tr>\n",
              "      <th>503</th>\n",
              "      <td>0.06</td>\n",
              "      <td>0.00</td>\n",
              "      <td>11.93</td>\n",
              "      <td>0.00</td>\n",
              "      <td>0.57</td>\n",
              "      <td>6.98</td>\n",
              "      <td>91.00</td>\n",
              "      <td>2.17</td>\n",
              "      <td>1.00</td>\n",
              "      <td>273.00</td>\n",
              "      <td>21.00</td>\n",
              "      <td>396.90</td>\n",
              "      <td>5.64</td>\n",
              "      <td>23.90</td>\n",
              "      <td>0.00</td>\n",
              "    </tr>\n",
              "    <tr>\n",
              "      <th>504</th>\n",
              "      <td>0.11</td>\n",
              "      <td>0.00</td>\n",
              "      <td>11.93</td>\n",
              "      <td>0.00</td>\n",
              "      <td>0.57</td>\n",
              "      <td>6.79</td>\n",
              "      <td>89.30</td>\n",
              "      <td>2.39</td>\n",
              "      <td>1.00</td>\n",
              "      <td>273.00</td>\n",
              "      <td>21.00</td>\n",
              "      <td>393.45</td>\n",
              "      <td>6.48</td>\n",
              "      <td>22.00</td>\n",
              "      <td>0.00</td>\n",
              "    </tr>\n",
              "    <tr>\n",
              "      <th>505</th>\n",
              "      <td>0.05</td>\n",
              "      <td>0.00</td>\n",
              "      <td>11.93</td>\n",
              "      <td>0.00</td>\n",
              "      <td>0.57</td>\n",
              "      <td>6.03</td>\n",
              "      <td>80.80</td>\n",
              "      <td>2.50</td>\n",
              "      <td>1.00</td>\n",
              "      <td>273.00</td>\n",
              "      <td>21.00</td>\n",
              "      <td>396.90</td>\n",
              "      <td>7.88</td>\n",
              "      <td>11.90</td>\n",
              "      <td>0.00</td>\n",
              "    </tr>\n",
              "  </tbody>\n",
              "</table>\n",
              "<p>506 rows × 15 columns</p>\n",
              "</div>\n",
              "      <button class=\"colab-df-convert\" onclick=\"convertToInteractive('df-8d21cbd7-f3bd-4099-92b5-a88525d71de5')\"\n",
              "              title=\"Convert this dataframe to an interactive table.\"\n",
              "              style=\"display:none;\">\n",
              "        \n",
              "  <svg xmlns=\"http://www.w3.org/2000/svg\" height=\"24px\"viewBox=\"0 0 24 24\"\n",
              "       width=\"24px\">\n",
              "    <path d=\"M0 0h24v24H0V0z\" fill=\"none\"/>\n",
              "    <path d=\"M18.56 5.44l.94 2.06.94-2.06 2.06-.94-2.06-.94-.94-2.06-.94 2.06-2.06.94zm-11 1L8.5 8.5l.94-2.06 2.06-.94-2.06-.94L8.5 2.5l-.94 2.06-2.06.94zm10 10l.94 2.06.94-2.06 2.06-.94-2.06-.94-.94-2.06-.94 2.06-2.06.94z\"/><path d=\"M17.41 7.96l-1.37-1.37c-.4-.4-.92-.59-1.43-.59-.52 0-1.04.2-1.43.59L10.3 9.45l-7.72 7.72c-.78.78-.78 2.05 0 2.83L4 21.41c.39.39.9.59 1.41.59.51 0 1.02-.2 1.41-.59l7.78-7.78 2.81-2.81c.8-.78.8-2.07 0-2.86zM5.41 20L4 18.59l7.72-7.72 1.47 1.35L5.41 20z\"/>\n",
              "  </svg>\n",
              "      </button>\n",
              "      \n",
              "  <style>\n",
              "    .colab-df-container {\n",
              "      display:flex;\n",
              "      flex-wrap:wrap;\n",
              "      gap: 12px;\n",
              "    }\n",
              "\n",
              "    .colab-df-convert {\n",
              "      background-color: #E8F0FE;\n",
              "      border: none;\n",
              "      border-radius: 50%;\n",
              "      cursor: pointer;\n",
              "      display: none;\n",
              "      fill: #1967D2;\n",
              "      height: 32px;\n",
              "      padding: 0 0 0 0;\n",
              "      width: 32px;\n",
              "    }\n",
              "\n",
              "    .colab-df-convert:hover {\n",
              "      background-color: #E2EBFA;\n",
              "      box-shadow: 0px 1px 2px rgba(60, 64, 67, 0.3), 0px 1px 3px 1px rgba(60, 64, 67, 0.15);\n",
              "      fill: #174EA6;\n",
              "    }\n",
              "\n",
              "    [theme=dark] .colab-df-convert {\n",
              "      background-color: #3B4455;\n",
              "      fill: #D2E3FC;\n",
              "    }\n",
              "\n",
              "    [theme=dark] .colab-df-convert:hover {\n",
              "      background-color: #434B5C;\n",
              "      box-shadow: 0px 1px 3px 1px rgba(0, 0, 0, 0.15);\n",
              "      filter: drop-shadow(0px 1px 2px rgba(0, 0, 0, 0.3));\n",
              "      fill: #FFFFFF;\n",
              "    }\n",
              "  </style>\n",
              "\n",
              "      <script>\n",
              "        const buttonEl =\n",
              "          document.querySelector('#df-8d21cbd7-f3bd-4099-92b5-a88525d71de5 button.colab-df-convert');\n",
              "        buttonEl.style.display =\n",
              "          google.colab.kernel.accessAllowed ? 'block' : 'none';\n",
              "\n",
              "        async function convertToInteractive(key) {\n",
              "          const element = document.querySelector('#df-8d21cbd7-f3bd-4099-92b5-a88525d71de5');\n",
              "          const dataTable =\n",
              "            await google.colab.kernel.invokeFunction('convertToInteractive',\n",
              "                                                     [key], {});\n",
              "          if (!dataTable) return;\n",
              "\n",
              "          const docLinkHtml = 'Like what you see? Visit the ' +\n",
              "            '<a target=\"_blank\" href=https://colab.research.google.com/notebooks/data_table.ipynb>data table notebook</a>'\n",
              "            + ' to learn more about interactive tables.';\n",
              "          element.innerHTML = '';\n",
              "          dataTable['output_type'] = 'display_data';\n",
              "          await google.colab.output.renderOutput(dataTable, element);\n",
              "          const docLink = document.createElement('div');\n",
              "          docLink.innerHTML = docLinkHtml;\n",
              "          element.appendChild(docLink);\n",
              "        }\n",
              "      </script>\n",
              "    </div>\n",
              "  </div>\n",
              "  "
            ]
          },
          "metadata": {},
          "execution_count": 68
        }
      ]
    },
    {
      "cell_type": "code",
      "source": [
        "#잘 바뀌었나 확인해보겠습니다.\n",
        "\n",
        "data.head()"
      ],
      "metadata": {
        "colab": {
          "base_uri": "https://localhost:8080/",
          "height": 206
        },
        "id": "XVWUIenGqJub",
        "outputId": "2e5a1c5c-c51a-4a60-bacb-b9151b707fc0"
      },
      "id": "XVWUIenGqJub",
      "execution_count": null,
      "outputs": [
        {
          "output_type": "execute_result",
          "data": {
            "text/plain": [
              "   CRIM    ZN  INDUS  CHAS  NOX   RM   AGE  DIS  RAD    TAX  PTRATIO      B  \\\n",
              "0  0.01 18.00   2.31  0.00 0.54 6.58 65.20 4.09 1.00 296.00    15.30 396.90   \n",
              "1  0.03  0.00   7.07  0.00 0.47 6.42 78.90 4.97 2.00 242.00    17.80 396.90   \n",
              "2  0.03  0.00   7.07  0.00 0.47 7.18 61.10 4.97 2.00 242.00    17.80 392.83   \n",
              "3  0.03  0.00   2.18  0.00 0.46 7.00 45.80 6.06 3.00 222.00    18.70 394.63   \n",
              "4  0.07  0.00   2.18  0.00 0.46 7.15 54.20 6.06 3.00 222.00    18.70 396.90   \n",
              "\n",
              "   LSTAT  MEDV  CAT. MEDV  \n",
              "0   4.98 24.00       0.00  \n",
              "1   9.14 21.60       0.00  \n",
              "2   4.03 34.70       1.00  \n",
              "3   2.94 33.40       1.00  \n",
              "4   5.33 36.20       1.00  "
            ],
            "text/html": [
              "\n",
              "  <div id=\"df-8adc9bbe-5f93-4788-9079-7526dc7de1ed\">\n",
              "    <div class=\"colab-df-container\">\n",
              "      <div>\n",
              "<style scoped>\n",
              "    .dataframe tbody tr th:only-of-type {\n",
              "        vertical-align: middle;\n",
              "    }\n",
              "\n",
              "    .dataframe tbody tr th {\n",
              "        vertical-align: top;\n",
              "    }\n",
              "\n",
              "    .dataframe thead th {\n",
              "        text-align: right;\n",
              "    }\n",
              "</style>\n",
              "<table border=\"1\" class=\"dataframe\">\n",
              "  <thead>\n",
              "    <tr style=\"text-align: right;\">\n",
              "      <th></th>\n",
              "      <th>CRIM</th>\n",
              "      <th>ZN</th>\n",
              "      <th>INDUS</th>\n",
              "      <th>CHAS</th>\n",
              "      <th>NOX</th>\n",
              "      <th>RM</th>\n",
              "      <th>AGE</th>\n",
              "      <th>DIS</th>\n",
              "      <th>RAD</th>\n",
              "      <th>TAX</th>\n",
              "      <th>PTRATIO</th>\n",
              "      <th>B</th>\n",
              "      <th>LSTAT</th>\n",
              "      <th>MEDV</th>\n",
              "      <th>CAT. MEDV</th>\n",
              "    </tr>\n",
              "  </thead>\n",
              "  <tbody>\n",
              "    <tr>\n",
              "      <th>0</th>\n",
              "      <td>0.01</td>\n",
              "      <td>18.00</td>\n",
              "      <td>2.31</td>\n",
              "      <td>0.00</td>\n",
              "      <td>0.54</td>\n",
              "      <td>6.58</td>\n",
              "      <td>65.20</td>\n",
              "      <td>4.09</td>\n",
              "      <td>1.00</td>\n",
              "      <td>296.00</td>\n",
              "      <td>15.30</td>\n",
              "      <td>396.90</td>\n",
              "      <td>4.98</td>\n",
              "      <td>24.00</td>\n",
              "      <td>0.00</td>\n",
              "    </tr>\n",
              "    <tr>\n",
              "      <th>1</th>\n",
              "      <td>0.03</td>\n",
              "      <td>0.00</td>\n",
              "      <td>7.07</td>\n",
              "      <td>0.00</td>\n",
              "      <td>0.47</td>\n",
              "      <td>6.42</td>\n",
              "      <td>78.90</td>\n",
              "      <td>4.97</td>\n",
              "      <td>2.00</td>\n",
              "      <td>242.00</td>\n",
              "      <td>17.80</td>\n",
              "      <td>396.90</td>\n",
              "      <td>9.14</td>\n",
              "      <td>21.60</td>\n",
              "      <td>0.00</td>\n",
              "    </tr>\n",
              "    <tr>\n",
              "      <th>2</th>\n",
              "      <td>0.03</td>\n",
              "      <td>0.00</td>\n",
              "      <td>7.07</td>\n",
              "      <td>0.00</td>\n",
              "      <td>0.47</td>\n",
              "      <td>7.18</td>\n",
              "      <td>61.10</td>\n",
              "      <td>4.97</td>\n",
              "      <td>2.00</td>\n",
              "      <td>242.00</td>\n",
              "      <td>17.80</td>\n",
              "      <td>392.83</td>\n",
              "      <td>4.03</td>\n",
              "      <td>34.70</td>\n",
              "      <td>1.00</td>\n",
              "    </tr>\n",
              "    <tr>\n",
              "      <th>3</th>\n",
              "      <td>0.03</td>\n",
              "      <td>0.00</td>\n",
              "      <td>2.18</td>\n",
              "      <td>0.00</td>\n",
              "      <td>0.46</td>\n",
              "      <td>7.00</td>\n",
              "      <td>45.80</td>\n",
              "      <td>6.06</td>\n",
              "      <td>3.00</td>\n",
              "      <td>222.00</td>\n",
              "      <td>18.70</td>\n",
              "      <td>394.63</td>\n",
              "      <td>2.94</td>\n",
              "      <td>33.40</td>\n",
              "      <td>1.00</td>\n",
              "    </tr>\n",
              "    <tr>\n",
              "      <th>4</th>\n",
              "      <td>0.07</td>\n",
              "      <td>0.00</td>\n",
              "      <td>2.18</td>\n",
              "      <td>0.00</td>\n",
              "      <td>0.46</td>\n",
              "      <td>7.15</td>\n",
              "      <td>54.20</td>\n",
              "      <td>6.06</td>\n",
              "      <td>3.00</td>\n",
              "      <td>222.00</td>\n",
              "      <td>18.70</td>\n",
              "      <td>396.90</td>\n",
              "      <td>5.33</td>\n",
              "      <td>36.20</td>\n",
              "      <td>1.00</td>\n",
              "    </tr>\n",
              "  </tbody>\n",
              "</table>\n",
              "</div>\n",
              "      <button class=\"colab-df-convert\" onclick=\"convertToInteractive('df-8adc9bbe-5f93-4788-9079-7526dc7de1ed')\"\n",
              "              title=\"Convert this dataframe to an interactive table.\"\n",
              "              style=\"display:none;\">\n",
              "        \n",
              "  <svg xmlns=\"http://www.w3.org/2000/svg\" height=\"24px\"viewBox=\"0 0 24 24\"\n",
              "       width=\"24px\">\n",
              "    <path d=\"M0 0h24v24H0V0z\" fill=\"none\"/>\n",
              "    <path d=\"M18.56 5.44l.94 2.06.94-2.06 2.06-.94-2.06-.94-.94-2.06-.94 2.06-2.06.94zm-11 1L8.5 8.5l.94-2.06 2.06-.94-2.06-.94L8.5 2.5l-.94 2.06-2.06.94zm10 10l.94 2.06.94-2.06 2.06-.94-2.06-.94-.94-2.06-.94 2.06-2.06.94z\"/><path d=\"M17.41 7.96l-1.37-1.37c-.4-.4-.92-.59-1.43-.59-.52 0-1.04.2-1.43.59L10.3 9.45l-7.72 7.72c-.78.78-.78 2.05 0 2.83L4 21.41c.39.39.9.59 1.41.59.51 0 1.02-.2 1.41-.59l7.78-7.78 2.81-2.81c.8-.78.8-2.07 0-2.86zM5.41 20L4 18.59l7.72-7.72 1.47 1.35L5.41 20z\"/>\n",
              "  </svg>\n",
              "      </button>\n",
              "      \n",
              "  <style>\n",
              "    .colab-df-container {\n",
              "      display:flex;\n",
              "      flex-wrap:wrap;\n",
              "      gap: 12px;\n",
              "    }\n",
              "\n",
              "    .colab-df-convert {\n",
              "      background-color: #E8F0FE;\n",
              "      border: none;\n",
              "      border-radius: 50%;\n",
              "      cursor: pointer;\n",
              "      display: none;\n",
              "      fill: #1967D2;\n",
              "      height: 32px;\n",
              "      padding: 0 0 0 0;\n",
              "      width: 32px;\n",
              "    }\n",
              "\n",
              "    .colab-df-convert:hover {\n",
              "      background-color: #E2EBFA;\n",
              "      box-shadow: 0px 1px 2px rgba(60, 64, 67, 0.3), 0px 1px 3px 1px rgba(60, 64, 67, 0.15);\n",
              "      fill: #174EA6;\n",
              "    }\n",
              "\n",
              "    [theme=dark] .colab-df-convert {\n",
              "      background-color: #3B4455;\n",
              "      fill: #D2E3FC;\n",
              "    }\n",
              "\n",
              "    [theme=dark] .colab-df-convert:hover {\n",
              "      background-color: #434B5C;\n",
              "      box-shadow: 0px 1px 3px 1px rgba(0, 0, 0, 0.15);\n",
              "      filter: drop-shadow(0px 1px 2px rgba(0, 0, 0, 0.3));\n",
              "      fill: #FFFFFF;\n",
              "    }\n",
              "  </style>\n",
              "\n",
              "      <script>\n",
              "        const buttonEl =\n",
              "          document.querySelector('#df-8adc9bbe-5f93-4788-9079-7526dc7de1ed button.colab-df-convert');\n",
              "        buttonEl.style.display =\n",
              "          google.colab.kernel.accessAllowed ? 'block' : 'none';\n",
              "\n",
              "        async function convertToInteractive(key) {\n",
              "          const element = document.querySelector('#df-8adc9bbe-5f93-4788-9079-7526dc7de1ed');\n",
              "          const dataTable =\n",
              "            await google.colab.kernel.invokeFunction('convertToInteractive',\n",
              "                                                     [key], {});\n",
              "          if (!dataTable) return;\n",
              "\n",
              "          const docLinkHtml = 'Like what you see? Visit the ' +\n",
              "            '<a target=\"_blank\" href=https://colab.research.google.com/notebooks/data_table.ipynb>data table notebook</a>'\n",
              "            + ' to learn more about interactive tables.';\n",
              "          element.innerHTML = '';\n",
              "          dataTable['output_type'] = 'display_data';\n",
              "          await google.colab.output.renderOutput(dataTable, element);\n",
              "          const docLink = document.createElement('div');\n",
              "          docLink.innerHTML = docLinkHtml;\n",
              "          element.appendChild(docLink);\n",
              "        }\n",
              "      </script>\n",
              "    </div>\n",
              "  </div>\n",
              "  "
            ]
          },
          "metadata": {},
          "execution_count": 69
        }
      ]
    },
    {
      "cell_type": "code",
      "source": [
        "#결측치 확인\n",
        "data.isna().sum()"
      ],
      "metadata": {
        "colab": {
          "base_uri": "https://localhost:8080/"
        },
        "id": "QZfJS1UJqWAa",
        "outputId": "e7df0f63-d4b9-4855-ea47-fd742438a4ab"
      },
      "id": "QZfJS1UJqWAa",
      "execution_count": null,
      "outputs": [
        {
          "output_type": "execute_result",
          "data": {
            "text/plain": [
              "CRIM         0\n",
              "ZN           0\n",
              "INDUS        0\n",
              "CHAS         0\n",
              "NOX          0\n",
              "RM           0\n",
              "AGE          0\n",
              "DIS          0\n",
              "RAD          0\n",
              "TAX          0\n",
              "PTRATIO      0\n",
              "B            0\n",
              "LSTAT        0\n",
              "MEDV         0\n",
              "CAT. MEDV    0\n",
              "dtype: int64"
            ]
          },
          "metadata": {},
          "execution_count": 70
        }
      ]
    },
    {
      "cell_type": "code",
      "source": [
        "#그래프로도 한 번 그려보죠\n",
        "import missingno as msno\n",
        "\n",
        "msno.heatmap(data)\n",
        "#깔끔하게 없군요"
      ],
      "metadata": {
        "colab": {
          "base_uri": "https://localhost:8080/",
          "height": 711
        },
        "id": "umIY3VbdqpPL",
        "outputId": "b2796f50-a72a-4980-dfde-1d4219bd721e"
      },
      "id": "umIY3VbdqpPL",
      "execution_count": null,
      "outputs": [
        {
          "output_type": "execute_result",
          "data": {
            "text/plain": [
              "<matplotlib.axes._subplots.AxesSubplot at 0x7f21424fec50>"
            ]
          },
          "metadata": {},
          "execution_count": 71
        },
        {
          "output_type": "display_data",
          "data": {
            "text/plain": [
              "<Figure size 1440x864 with 2 Axes>"
            ],
            "image/png": "[encoded data removed]"
          },
          "metadata": {
            "needs_background": "light"
          }
        }
      ]
    },
    {
      "cell_type": "markdown",
      "source": [
        "#### 아래처럼 나오면 있다는 이야기입니다.\n",
        "\n",
        "![image.png](data:image/png;base64,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)"
      ],
      "metadata": {
        "id": "xK66QxNLrHFr"
      },
      "id": "xK66QxNLrHFr"
    },
    {
      "cell_type": "markdown",
      "id": "14bc6b5a",
      "metadata": {
        "id": "14bc6b5a"
      },
      "source": [
        "## 데이터 분포 확인하기"
      ]
    },
    {
      "cell_type": "code",
      "source": [
        "#데이터 통계값들을 측정해볼게요\n",
        "\n",
        "data.describe()"
      ],
      "metadata": {
        "colab": {
          "base_uri": "https://localhost:8080/",
          "height": 300
        },
        "id": "OaOosy-ir1h_",
        "outputId": "61c78aad-ce35-4e4b-bc7e-a601b80e0b19"
      },
      "id": "OaOosy-ir1h_",
      "execution_count": null,
      "outputs": [
        {
          "output_type": "execute_result",
          "data": {
            "text/plain": [
              "        CRIM     ZN  INDUS   CHAS    NOX     RM    AGE    DIS    RAD    TAX  \\\n",
              "count 506.00 506.00 506.00 506.00 506.00 506.00 506.00 506.00 506.00 506.00   \n",
              "mean    3.61  11.36  11.14   0.07   0.55   6.28  68.57   3.80   9.55 408.24   \n",
              "std     8.60  23.32   6.86   0.25   0.12   0.70  28.15   2.11   8.71 168.54   \n",
              "min     0.01   0.00   0.46   0.00   0.39   3.56   2.90   1.13   1.00 187.00   \n",
              "25%     0.08   0.00   5.19   0.00   0.45   5.89  45.02   2.10   4.00 279.00   \n",
              "50%     0.26   0.00   9.69   0.00   0.54   6.21  77.50   3.21   5.00 330.00   \n",
              "75%     3.68  12.50  18.10   0.00   0.62   6.62  94.07   5.19  24.00 666.00   \n",
              "max    88.98 100.00  27.74   1.00   0.87   8.78 100.00  12.13  24.00 711.00   \n",
              "\n",
              "       PTRATIO      B  LSTAT   MEDV  CAT. MEDV  \n",
              "count   506.00 506.00 506.00 506.00     506.00  \n",
              "mean     18.46 356.67  12.65  22.53       0.17  \n",
              "std       2.16  91.29   7.14   9.20       0.37  \n",
              "min      12.60   0.32   1.73   5.00       0.00  \n",
              "25%      17.40 375.38   6.95  17.02       0.00  \n",
              "50%      19.05 391.44  11.36  21.20       0.00  \n",
              "75%      20.20 396.23  16.96  25.00       0.00  \n",
              "max      22.00 396.90  37.97  50.00       1.00  "
            ],
            "text/html": [
              "\n",
              "  <div id=\"df-32da90dc-86b5-40f1-82c0-6eb0c968a94b\">\n",
              "    <div class=\"colab-df-container\">\n",
              "      <div>\n",
              "<style scoped>\n",
              "    .dataframe tbody tr th:only-of-type {\n",
              "        vertical-align: middle;\n",
              "    }\n",
              "\n",
              "    .dataframe tbody tr th {\n",
              "        vertical-align: top;\n",
              "    }\n",
              "\n",
              "    .dataframe thead th {\n",
              "        text-align: right;\n",
              "    }\n",
              "</style>\n",
              "<table border=\"1\" class=\"dataframe\">\n",
              "  <thead>\n",
              "    <tr style=\"text-align: right;\">\n",
              "      <th></th>\n",
              "      <th>CRIM</th>\n",
              "      <th>ZN</th>\n",
              "      <th>INDUS</th>\n",
              "      <th>CHAS</th>\n",
              "      <th>NOX</th>\n",
              "      <th>RM</th>\n",
              "      <th>AGE</th>\n",
              "      <th>DIS</th>\n",
              "      <th>RAD</th>\n",
              "      <th>TAX</th>\n",
              "      <th>PTRATIO</th>\n",
              "      <th>B</th>\n",
              "      <th>LSTAT</th>\n",
              "      <th>MEDV</th>\n",
              "      <th>CAT. MEDV</th>\n",
              "    </tr>\n",
              "  </thead>\n",
              "  <tbody>\n",
              "    <tr>\n",
              "      <th>count</th>\n",
              "      <td>506.00</td>\n",
              "      <td>506.00</td>\n",
              "      <td>506.00</td>\n",
              "      <td>506.00</td>\n",
              "      <td>506.00</td>\n",
              "      <td>506.00</td>\n",
              "      <td>506.00</td>\n",
              "      <td>506.00</td>\n",
              "      <td>506.00</td>\n",
              "      <td>506.00</td>\n",
              "      <td>506.00</td>\n",
              "      <td>506.00</td>\n",
              "      <td>506.00</td>\n",
              "      <td>506.00</td>\n",
              "      <td>506.00</td>\n",
              "    </tr>\n",
              "    <tr>\n",
              "      <th>mean</th>\n",
              "      <td>3.61</td>\n",
              "      <td>11.36</td>\n",
              "      <td>11.14</td>\n",
              "      <td>0.07</td>\n",
              "      <td>0.55</td>\n",
              "      <td>6.28</td>\n",
              "      <td>68.57</td>\n",
              "      <td>3.80</td>\n",
              "      <td>9.55</td>\n",
              "      <td>408.24</td>\n",
              "      <td>18.46</td>\n",
              "      <td>356.67</td>\n",
              "      <td>12.65</td>\n",
              "      <td>22.53</td>\n",
              "      <td>0.17</td>\n",
              "    </tr>\n",
              "    <tr>\n",
              "      <th>std</th>\n",
              "      <td>8.60</td>\n",
              "      <td>23.32</td>\n",
              "      <td>6.86</td>\n",
              "      <td>0.25</td>\n",
              "      <td>0.12</td>\n",
              "      <td>0.70</td>\n",
              "      <td>28.15</td>\n",
              "      <td>2.11</td>\n",
              "      <td>8.71</td>\n",
              "      <td>168.54</td>\n",
              "      <td>2.16</td>\n",
              "      <td>91.29</td>\n",
              "      <td>7.14</td>\n",
              "      <td>9.20</td>\n",
              "      <td>0.37</td>\n",
              "    </tr>\n",
              "    <tr>\n",
              "      <th>min</th>\n",
              "      <td>0.01</td>\n",
              "      <td>0.00</td>\n",
              "      <td>0.46</td>\n",
              "      <td>0.00</td>\n",
              "      <td>0.39</td>\n",
              "      <td>3.56</td>\n",
              "      <td>2.90</td>\n",
              "      <td>1.13</td>\n",
              "      <td>1.00</td>\n",
              "      <td>187.00</td>\n",
              "      <td>12.60</td>\n",
              "      <td>0.32</td>\n",
              "      <td>1.73</td>\n",
              "      <td>5.00</td>\n",
              "      <td>0.00</td>\n",
              "    </tr>\n",
              "    <tr>\n",
              "      <th>25%</th>\n",
              "      <td>0.08</td>\n",
              "      <td>0.00</td>\n",
              "      <td>5.19</td>\n",
              "      <td>0.00</td>\n",
              "      <td>0.45</td>\n",
              "      <td>5.89</td>\n",
              "      <td>45.02</td>\n",
              "      <td>2.10</td>\n",
              "      <td>4.00</td>\n",
              "      <td>279.00</td>\n",
              "      <td>17.40</td>\n",
              "      <td>375.38</td>\n",
              "      <td>6.95</td>\n",
              "      <td>17.02</td>\n",
              "      <td>0.00</td>\n",
              "    </tr>\n",
              "    <tr>\n",
              "      <th>50%</th>\n",
              "      <td>0.26</td>\n",
              "      <td>0.00</td>\n",
              "      <td>9.69</td>\n",
              "      <td>0.00</td>\n",
              "      <td>0.54</td>\n",
              "      <td>6.21</td>\n",
              "      <td>77.50</td>\n",
              "      <td>3.21</td>\n",
              "      <td>5.00</td>\n",
              "      <td>330.00</td>\n",
              "      <td>19.05</td>\n",
              "      <td>391.44</td>\n",
              "      <td>11.36</td>\n",
              "      <td>21.20</td>\n",
              "      <td>0.00</td>\n",
              "    </tr>\n",
              "    <tr>\n",
              "      <th>75%</th>\n",
              "      <td>3.68</td>\n",
              "      <td>12.50</td>\n",
              "      <td>18.10</td>\n",
              "      <td>0.00</td>\n",
              "      <td>0.62</td>\n",
              "      <td>6.62</td>\n",
              "      <td>94.07</td>\n",
              "      <td>5.19</td>\n",
              "      <td>24.00</td>\n",
              "      <td>666.00</td>\n",
              "      <td>20.20</td>\n",
              "      <td>396.23</td>\n",
              "      <td>16.96</td>\n",
              "      <td>25.00</td>\n",
              "      <td>0.00</td>\n",
              "    </tr>\n",
              "    <tr>\n",
              "      <th>max</th>\n",
              "      <td>88.98</td>\n",
              "      <td>100.00</td>\n",
              "      <td>27.74</td>\n",
              "      <td>1.00</td>\n",
              "      <td>0.87</td>\n",
              "      <td>8.78</td>\n",
              "      <td>100.00</td>\n",
              "      <td>12.13</td>\n",
              "      <td>24.00</td>\n",
              "      <td>711.00</td>\n",
              "      <td>22.00</td>\n",
              "      <td>396.90</td>\n",
              "      <td>37.97</td>\n",
              "      <td>50.00</td>\n",
              "      <td>1.00</td>\n",
              "    </tr>\n",
              "  </tbody>\n",
              "</table>\n",
              "</div>\n",
              "      <button class=\"colab-df-convert\" onclick=\"convertToInteractive('df-32da90dc-86b5-40f1-82c0-6eb0c968a94b')\"\n",
              "              title=\"Convert this dataframe to an interactive table.\"\n",
              "              style=\"display:none;\">\n",
              "        \n",
              "  <svg xmlns=\"http://www.w3.org/2000/svg\" height=\"24px\"viewBox=\"0 0 24 24\"\n",
              "       width=\"24px\">\n",
              "    <path d=\"M0 0h24v24H0V0z\" fill=\"none\"/>\n",
              "    <path d=\"M18.56 5.44l.94 2.06.94-2.06 2.06-.94-2.06-.94-.94-2.06-.94 2.06-2.06.94zm-11 1L8.5 8.5l.94-2.06 2.06-.94-2.06-.94L8.5 2.5l-.94 2.06-2.06.94zm10 10l.94 2.06.94-2.06 2.06-.94-2.06-.94-.94-2.06-.94 2.06-2.06.94z\"/><path d=\"M17.41 7.96l-1.37-1.37c-.4-.4-.92-.59-1.43-.59-.52 0-1.04.2-1.43.59L10.3 9.45l-7.72 7.72c-.78.78-.78 2.05 0 2.83L4 21.41c.39.39.9.59 1.41.59.51 0 1.02-.2 1.41-.59l7.78-7.78 2.81-2.81c.8-.78.8-2.07 0-2.86zM5.41 20L4 18.59l7.72-7.72 1.47 1.35L5.41 20z\"/>\n",
              "  </svg>\n",
              "      </button>\n",
              "      \n",
              "  <style>\n",
              "    .colab-df-container {\n",
              "      display:flex;\n",
              "      flex-wrap:wrap;\n",
              "      gap: 12px;\n",
              "    }\n",
              "\n",
              "    .colab-df-convert {\n",
              "      background-color: #E8F0FE;\n",
              "      border: none;\n",
              "      border-radius: 50%;\n",
              "      cursor: pointer;\n",
              "      display: none;\n",
              "      fill: #1967D2;\n",
              "      height: 32px;\n",
              "      padding: 0 0 0 0;\n",
              "      width: 32px;\n",
              "    }\n",
              "\n",
              "    .colab-df-convert:hover {\n",
              "      background-color: #E2EBFA;\n",
              "      box-shadow: 0px 1px 2px rgba(60, 64, 67, 0.3), 0px 1px 3px 1px rgba(60, 64, 67, 0.15);\n",
              "      fill: #174EA6;\n",
              "    }\n",
              "\n",
              "    [theme=dark] .colab-df-convert {\n",
              "      background-color: #3B4455;\n",
              "      fill: #D2E3FC;\n",
              "    }\n",
              "\n",
              "    [theme=dark] .colab-df-convert:hover {\n",
              "      background-color: #434B5C;\n",
              "      box-shadow: 0px 1px 3px 1px rgba(0, 0, 0, 0.15);\n",
              "      filter: drop-shadow(0px 1px 2px rgba(0, 0, 0, 0.3));\n",
              "      fill: #FFFFFF;\n",
              "    }\n",
              "  </style>\n",
              "\n",
              "      <script>\n",
              "        const buttonEl =\n",
              "          document.querySelector('#df-32da90dc-86b5-40f1-82c0-6eb0c968a94b button.colab-df-convert');\n",
              "        buttonEl.style.display =\n",
              "          google.colab.kernel.accessAllowed ? 'block' : 'none';\n",
              "\n",
              "        async function convertToInteractive(key) {\n",
              "          const element = document.querySelector('#df-32da90dc-86b5-40f1-82c0-6eb0c968a94b');\n",
              "          const dataTable =\n",
              "            await google.colab.kernel.invokeFunction('convertToInteractive',\n",
              "                                                     [key], {});\n",
              "          if (!dataTable) return;\n",
              "\n",
              "          const docLinkHtml = 'Like what you see? Visit the ' +\n",
              "            '<a target=\"_blank\" href=https://colab.research.google.com/notebooks/data_table.ipynb>data table notebook</a>'\n",
              "            + ' to learn more about interactive tables.';\n",
              "          element.innerHTML = '';\n",
              "          dataTable['output_type'] = 'display_data';\n",
              "          await google.colab.output.renderOutput(dataTable, element);\n",
              "          const docLink = document.createElement('div');\n",
              "          docLink.innerHTML = docLinkHtml;\n",
              "          element.appendChild(docLink);\n",
              "        }\n",
              "      </script>\n",
              "    </div>\n",
              "  </div>\n",
              "  "
            ]
          },
          "metadata": {},
          "execution_count": 72
        }
      ]
    },
    {
      "cell_type": "code",
      "source": [
        "data.corr()"
      ],
      "metadata": {
        "colab": {
          "base_uri": "https://localhost:8080/",
          "height": 520
        },
        "id": "hbihQ4S1302V",
        "outputId": "ca70b61f-f983-48fd-9025-242d4ba70d51"
      },
      "id": "hbihQ4S1302V",
      "execution_count": null,
      "outputs": [
        {
          "output_type": "execute_result",
          "data": {
            "text/plain": [
              "           CRIM    ZN  INDUS  CHAS   NOX    RM   AGE   DIS   RAD   TAX  \\\n",
              "CRIM       1.00 -0.20   0.41 -0.06  0.42 -0.22  0.35 -0.38  0.63  0.58   \n",
              "ZN        -0.20  1.00  -0.53 -0.04 -0.52  0.31 -0.57  0.66 -0.31 -0.31   \n",
              "INDUS      0.41 -0.53   1.00  0.06  0.76 -0.39  0.64 -0.71  0.60  0.72   \n",
              "CHAS      -0.06 -0.04   0.06  1.00  0.09  0.09  0.09 -0.10 -0.01 -0.04   \n",
              "NOX        0.42 -0.52   0.76  0.09  1.00 -0.30  0.73 -0.77  0.61  0.67   \n",
              "RM        -0.22  0.31  -0.39  0.09 -0.30  1.00 -0.24  0.21 -0.21 -0.29   \n",
              "AGE        0.35 -0.57   0.64  0.09  0.73 -0.24  1.00 -0.75  0.46  0.51   \n",
              "DIS       -0.38  0.66  -0.71 -0.10 -0.77  0.21 -0.75  1.00 -0.49 -0.53   \n",
              "RAD        0.63 -0.31   0.60 -0.01  0.61 -0.21  0.46 -0.49  1.00  0.91   \n",
              "TAX        0.58 -0.31   0.72 -0.04  0.67 -0.29  0.51 -0.53  0.91  1.00   \n",
              "PTRATIO    0.29 -0.39   0.38 -0.12  0.19 -0.36  0.26 -0.23  0.46  0.46   \n",
              "B         -0.39  0.18  -0.36  0.05 -0.38  0.13 -0.27  0.29 -0.44 -0.44   \n",
              "LSTAT      0.46 -0.41   0.60 -0.05  0.59 -0.61  0.60 -0.50  0.49  0.54   \n",
              "MEDV      -0.39  0.36  -0.48  0.18 -0.43  0.70 -0.38  0.25 -0.38 -0.47   \n",
              "CAT. MEDV -0.15  0.37  -0.37  0.11 -0.23  0.64 -0.19  0.12 -0.20 -0.27   \n",
              "\n",
              "           PTRATIO     B  LSTAT  MEDV  CAT. MEDV  \n",
              "CRIM          0.29 -0.39   0.46 -0.39      -0.15  \n",
              "ZN           -0.39  0.18  -0.41  0.36       0.37  \n",
              "INDUS         0.38 -0.36   0.60 -0.48      -0.37  \n",
              "CHAS         -0.12  0.05  -0.05  0.18       0.11  \n",
              "NOX           0.19 -0.38   0.59 -0.43      -0.23  \n",
              "RM           -0.36  0.13  -0.61  0.70       0.64  \n",
              "AGE           0.26 -0.27   0.60 -0.38      -0.19  \n",
              "DIS          -0.23  0.29  -0.50  0.25       0.12  \n",
              "RAD           0.46 -0.44   0.49 -0.38      -0.20  \n",
              "TAX           0.46 -0.44   0.54 -0.47      -0.27  \n",
              "PTRATIO       1.00 -0.18   0.37 -0.51      -0.44  \n",
              "B            -0.18  1.00  -0.37  0.33       0.16  \n",
              "LSTAT         0.37 -0.37   1.00 -0.74      -0.47  \n",
              "MEDV         -0.51  0.33  -0.74  1.00       0.79  \n",
              "CAT. MEDV    -0.44  0.16  -0.47  0.79       1.00  "
            ],
            "text/html": [
              "\n",
              "  <div id=\"df-a276bb0d-bf69-443c-aa85-117085ecf558\">\n",
              "    <div class=\"colab-df-container\">\n",
              "      <div>\n",
              "<style scoped>\n",
              "    .dataframe tbody tr th:only-of-type {\n",
              "        vertical-align: middle;\n",
              "    }\n",
              "\n",
              "    .dataframe tbody tr th {\n",
              "        vertical-align: top;\n",
              "    }\n",
              "\n",
              "    .dataframe thead th {\n",
              "        text-align: right;\n",
              "    }\n",
              "</style>\n",
              "<table border=\"1\" class=\"dataframe\">\n",
              "  <thead>\n",
              "    <tr style=\"text-align: right;\">\n",
              "      <th></th>\n",
              "      <th>CRIM</th>\n",
              "      <th>ZN</th>\n",
              "      <th>INDUS</th>\n",
              "      <th>CHAS</th>\n",
              "      <th>NOX</th>\n",
              "      <th>RM</th>\n",
              "      <th>AGE</th>\n",
              "      <th>DIS</th>\n",
              "      <th>RAD</th>\n",
              "      <th>TAX</th>\n",
              "      <th>PTRATIO</th>\n",
              "      <th>B</th>\n",
              "      <th>LSTAT</th>\n",
              "      <th>MEDV</th>\n",
              "      <th>CAT. MEDV</th>\n",
              "    </tr>\n",
              "  </thead>\n",
              "  <tbody>\n",
              "    <tr>\n",
              "      <th>CRIM</th>\n",
              "      <td>1.00</td>\n",
              "      <td>-0.20</td>\n",
              "      <td>0.41</td>\n",
              "      <td>-0.06</td>\n",
              "      <td>0.42</td>\n",
              "      <td>-0.22</td>\n",
              "      <td>0.35</td>\n",
              "      <td>-0.38</td>\n",
              "      <td>0.63</td>\n",
              "      <td>0.58</td>\n",
              "      <td>0.29</td>\n",
              "      <td>-0.39</td>\n",
              "      <td>0.46</td>\n",
              "      <td>-0.39</td>\n",
              "      <td>-0.15</td>\n",
              "    </tr>\n",
              "    <tr>\n",
              "      <th>ZN</th>\n",
              "      <td>-0.20</td>\n",
              "      <td>1.00</td>\n",
              "      <td>-0.53</td>\n",
              "      <td>-0.04</td>\n",
              "      <td>-0.52</td>\n",
              "      <td>0.31</td>\n",
              "      <td>-0.57</td>\n",
              "      <td>0.66</td>\n",
              "      <td>-0.31</td>\n",
              "      <td>-0.31</td>\n",
              "      <td>-0.39</td>\n",
              "      <td>0.18</td>\n",
              "      <td>-0.41</td>\n",
              "      <td>0.36</td>\n",
              "      <td>0.37</td>\n",
              "    </tr>\n",
              "    <tr>\n",
              "      <th>INDUS</th>\n",
              "      <td>0.41</td>\n",
              "      <td>-0.53</td>\n",
              "      <td>1.00</td>\n",
              "      <td>0.06</td>\n",
              "      <td>0.76</td>\n",
              "      <td>-0.39</td>\n",
              "      <td>0.64</td>\n",
              "      <td>-0.71</td>\n",
              "      <td>0.60</td>\n",
              "      <td>0.72</td>\n",
              "      <td>0.38</td>\n",
              "      <td>-0.36</td>\n",
              "      <td>0.60</td>\n",
              "      <td>-0.48</td>\n",
              "      <td>-0.37</td>\n",
              "    </tr>\n",
              "    <tr>\n",
              "      <th>CHAS</th>\n",
              "      <td>-0.06</td>\n",
              "      <td>-0.04</td>\n",
              "      <td>0.06</td>\n",
              "      <td>1.00</td>\n",
              "      <td>0.09</td>\n",
              "      <td>0.09</td>\n",
              "      <td>0.09</td>\n",
              "      <td>-0.10</td>\n",
              "      <td>-0.01</td>\n",
              "      <td>-0.04</td>\n",
              "      <td>-0.12</td>\n",
              "      <td>0.05</td>\n",
              "      <td>-0.05</td>\n",
              "      <td>0.18</td>\n",
              "      <td>0.11</td>\n",
              "    </tr>\n",
              "    <tr>\n",
              "      <th>NOX</th>\n",
              "      <td>0.42</td>\n",
              "      <td>-0.52</td>\n",
              "      <td>0.76</td>\n",
              "      <td>0.09</td>\n",
              "      <td>1.00</td>\n",
              "      <td>-0.30</td>\n",
              "      <td>0.73</td>\n",
              "      <td>-0.77</td>\n",
              "      <td>0.61</td>\n",
              "      <td>0.67</td>\n",
              "      <td>0.19</td>\n",
              "      <td>-0.38</td>\n",
              "      <td>0.59</td>\n",
              "      <td>-0.43</td>\n",
              "      <td>-0.23</td>\n",
              "    </tr>\n",
              "    <tr>\n",
              "      <th>RM</th>\n",
              "      <td>-0.22</td>\n",
              "      <td>0.31</td>\n",
              "      <td>-0.39</td>\n",
              "      <td>0.09</td>\n",
              "      <td>-0.30</td>\n",
              "      <td>1.00</td>\n",
              "      <td>-0.24</td>\n",
              "      <td>0.21</td>\n",
              "      <td>-0.21</td>\n",
              "      <td>-0.29</td>\n",
              "      <td>-0.36</td>\n",
              "      <td>0.13</td>\n",
              "      <td>-0.61</td>\n",
              "      <td>0.70</td>\n",
              "      <td>0.64</td>\n",
              "    </tr>\n",
              "    <tr>\n",
              "      <th>AGE</th>\n",
              "      <td>0.35</td>\n",
              "      <td>-0.57</td>\n",
              "      <td>0.64</td>\n",
              "      <td>0.09</td>\n",
              "      <td>0.73</td>\n",
              "      <td>-0.24</td>\n",
              "      <td>1.00</td>\n",
              "      <td>-0.75</td>\n",
              "      <td>0.46</td>\n",
              "      <td>0.51</td>\n",
              "      <td>0.26</td>\n",
              "      <td>-0.27</td>\n",
              "      <td>0.60</td>\n",
              "      <td>-0.38</td>\n",
              "      <td>-0.19</td>\n",
              "    </tr>\n",
              "    <tr>\n",
              "      <th>DIS</th>\n",
              "      <td>-0.38</td>\n",
              "      <td>0.66</td>\n",
              "      <td>-0.71</td>\n",
              "      <td>-0.10</td>\n",
              "      <td>-0.77</td>\n",
              "      <td>0.21</td>\n",
              "      <td>-0.75</td>\n",
              "      <td>1.00</td>\n",
              "      <td>-0.49</td>\n",
              "      <td>-0.53</td>\n",
              "      <td>-0.23</td>\n",
              "      <td>0.29</td>\n",
              "      <td>-0.50</td>\n",
              "      <td>0.25</td>\n",
              "      <td>0.12</td>\n",
              "    </tr>\n",
              "    <tr>\n",
              "      <th>RAD</th>\n",
              "      <td>0.63</td>\n",
              "      <td>-0.31</td>\n",
              "      <td>0.60</td>\n",
              "      <td>-0.01</td>\n",
              "      <td>0.61</td>\n",
              "      <td>-0.21</td>\n",
              "      <td>0.46</td>\n",
              "      <td>-0.49</td>\n",
              "      <td>1.00</td>\n",
              "      <td>0.91</td>\n",
              "      <td>0.46</td>\n",
              "      <td>-0.44</td>\n",
              "      <td>0.49</td>\n",
              "      <td>-0.38</td>\n",
              "      <td>-0.20</td>\n",
              "    </tr>\n",
              "    <tr>\n",
              "      <th>TAX</th>\n",
              "      <td>0.58</td>\n",
              "      <td>-0.31</td>\n",
              "      <td>0.72</td>\n",
              "      <td>-0.04</td>\n",
              "      <td>0.67</td>\n",
              "      <td>-0.29</td>\n",
              "      <td>0.51</td>\n",
              "      <td>-0.53</td>\n",
              "      <td>0.91</td>\n",
              "      <td>1.00</td>\n",
              "      <td>0.46</td>\n",
              "      <td>-0.44</td>\n",
              "      <td>0.54</td>\n",
              "      <td>-0.47</td>\n",
              "      <td>-0.27</td>\n",
              "    </tr>\n",
              "    <tr>\n",
              "      <th>PTRATIO</th>\n",
              "      <td>0.29</td>\n",
              "      <td>-0.39</td>\n",
              "      <td>0.38</td>\n",
              "      <td>-0.12</td>\n",
              "      <td>0.19</td>\n",
              "      <td>-0.36</td>\n",
              "      <td>0.26</td>\n",
              "      <td>-0.23</td>\n",
              "      <td>0.46</td>\n",
              "      <td>0.46</td>\n",
              "      <td>1.00</td>\n",
              "      <td>-0.18</td>\n",
              "      <td>0.37</td>\n",
              "      <td>-0.51</td>\n",
              "      <td>-0.44</td>\n",
              "    </tr>\n",
              "    <tr>\n",
              "      <th>B</th>\n",
              "      <td>-0.39</td>\n",
              "      <td>0.18</td>\n",
              "      <td>-0.36</td>\n",
              "      <td>0.05</td>\n",
              "      <td>-0.38</td>\n",
              "      <td>0.13</td>\n",
              "      <td>-0.27</td>\n",
              "      <td>0.29</td>\n",
              "      <td>-0.44</td>\n",
              "      <td>-0.44</td>\n",
              "      <td>-0.18</td>\n",
              "      <td>1.00</td>\n",
              "      <td>-0.37</td>\n",
              "      <td>0.33</td>\n",
              "      <td>0.16</td>\n",
              "    </tr>\n",
              "    <tr>\n",
              "      <th>LSTAT</th>\n",
              "      <td>0.46</td>\n",
              "      <td>-0.41</td>\n",
              "      <td>0.60</td>\n",
              "      <td>-0.05</td>\n",
              "      <td>0.59</td>\n",
              "      <td>-0.61</td>\n",
              "      <td>0.60</td>\n",
              "      <td>-0.50</td>\n",
              "      <td>0.49</td>\n",
              "      <td>0.54</td>\n",
              "      <td>0.37</td>\n",
              "      <td>-0.37</td>\n",
              "      <td>1.00</td>\n",
              "      <td>-0.74</td>\n",
              "      <td>-0.47</td>\n",
              "    </tr>\n",
              "    <tr>\n",
              "      <th>MEDV</th>\n",
              "      <td>-0.39</td>\n",
              "      <td>0.36</td>\n",
              "      <td>-0.48</td>\n",
              "      <td>0.18</td>\n",
              "      <td>-0.43</td>\n",
              "      <td>0.70</td>\n",
              "      <td>-0.38</td>\n",
              "      <td>0.25</td>\n",
              "      <td>-0.38</td>\n",
              "      <td>-0.47</td>\n",
              "      <td>-0.51</td>\n",
              "      <td>0.33</td>\n",
              "      <td>-0.74</td>\n",
              "      <td>1.00</td>\n",
              "      <td>0.79</td>\n",
              "    </tr>\n",
              "    <tr>\n",
              "      <th>CAT. MEDV</th>\n",
              "      <td>-0.15</td>\n",
              "      <td>0.37</td>\n",
              "      <td>-0.37</td>\n",
              "      <td>0.11</td>\n",
              "      <td>-0.23</td>\n",
              "      <td>0.64</td>\n",
              "      <td>-0.19</td>\n",
              "      <td>0.12</td>\n",
              "      <td>-0.20</td>\n",
              "      <td>-0.27</td>\n",
              "      <td>-0.44</td>\n",
              "      <td>0.16</td>\n",
              "      <td>-0.47</td>\n",
              "      <td>0.79</td>\n",
              "      <td>1.00</td>\n",
              "    </tr>\n",
              "  </tbody>\n",
              "</table>\n",
              "</div>\n",
              "      <button class=\"colab-df-convert\" onclick=\"convertToInteractive('df-a276bb0d-bf69-443c-aa85-117085ecf558')\"\n",
              "              title=\"Convert this dataframe to an interactive table.\"\n",
              "              style=\"display:none;\">\n",
              "        \n",
              "  <svg xmlns=\"http://www.w3.org/2000/svg\" height=\"24px\"viewBox=\"0 0 24 24\"\n",
              "       width=\"24px\">\n",
              "    <path d=\"M0 0h24v24H0V0z\" fill=\"none\"/>\n",
              "    <path d=\"M18.56 5.44l.94 2.06.94-2.06 2.06-.94-2.06-.94-.94-2.06-.94 2.06-2.06.94zm-11 1L8.5 8.5l.94-2.06 2.06-.94-2.06-.94L8.5 2.5l-.94 2.06-2.06.94zm10 10l.94 2.06.94-2.06 2.06-.94-2.06-.94-.94-2.06-.94 2.06-2.06.94z\"/><path d=\"M17.41 7.96l-1.37-1.37c-.4-.4-.92-.59-1.43-.59-.52 0-1.04.2-1.43.59L10.3 9.45l-7.72 7.72c-.78.78-.78 2.05 0 2.83L4 21.41c.39.39.9.59 1.41.59.51 0 1.02-.2 1.41-.59l7.78-7.78 2.81-2.81c.8-.78.8-2.07 0-2.86zM5.41 20L4 18.59l7.72-7.72 1.47 1.35L5.41 20z\"/>\n",
              "  </svg>\n",
              "      </button>\n",
              "      \n",
              "  <style>\n",
              "    .colab-df-container {\n",
              "      display:flex;\n",
              "      flex-wrap:wrap;\n",
              "      gap: 12px;\n",
              "    }\n",
              "\n",
              "    .colab-df-convert {\n",
              "      background-color: #E8F0FE;\n",
              "      border: none;\n",
              "      border-radius: 50%;\n",
              "      cursor: pointer;\n",
              "      display: none;\n",
              "      fill: #1967D2;\n",
              "      height: 32px;\n",
              "      padding: 0 0 0 0;\n",
              "      width: 32px;\n",
              "    }\n",
              "\n",
              "    .colab-df-convert:hover {\n",
              "      background-color: #E2EBFA;\n",
              "      box-shadow: 0px 1px 2px rgba(60, 64, 67, 0.3), 0px 1px 3px 1px rgba(60, 64, 67, 0.15);\n",
              "      fill: #174EA6;\n",
              "    }\n",
              "\n",
              "    [theme=dark] .colab-df-convert {\n",
              "      background-color: #3B4455;\n",
              "      fill: #D2E3FC;\n",
              "    }\n",
              "\n",
              "    [theme=dark] .colab-df-convert:hover {\n",
              "      background-color: #434B5C;\n",
              "      box-shadow: 0px 1px 3px 1px rgba(0, 0, 0, 0.15);\n",
              "      filter: drop-shadow(0px 1px 2px rgba(0, 0, 0, 0.3));\n",
              "      fill: #FFFFFF;\n",
              "    }\n",
              "  </style>\n",
              "\n",
              "      <script>\n",
              "        const buttonEl =\n",
              "          document.querySelector('#df-a276bb0d-bf69-443c-aa85-117085ecf558 button.colab-df-convert');\n",
              "        buttonEl.style.display =\n",
              "          google.colab.kernel.accessAllowed ? 'block' : 'none';\n",
              "\n",
              "        async function convertToInteractive(key) {\n",
              "          const element = document.querySelector('#df-a276bb0d-bf69-443c-aa85-117085ecf558');\n",
              "          const dataTable =\n",
              "            await google.colab.kernel.invokeFunction('convertToInteractive',\n",
              "                                                     [key], {});\n",
              "          if (!dataTable) return;\n",
              "\n",
              "          const docLinkHtml = 'Like what you see? Visit the ' +\n",
              "            '<a target=\"_blank\" href=https://colab.research.google.com/notebooks/data_table.ipynb>data table notebook</a>'\n",
              "            + ' to learn more about interactive tables.';\n",
              "          element.innerHTML = '';\n",
              "          dataTable['output_type'] = 'display_data';\n",
              "          await google.colab.output.renderOutput(dataTable, element);\n",
              "          const docLink = document.createElement('div');\n",
              "          docLink.innerHTML = docLinkHtml;\n",
              "          element.appendChild(docLink);\n",
              "        }\n",
              "      </script>\n",
              "    </div>\n",
              "  </div>\n",
              "  "
            ]
          },
          "metadata": {},
          "execution_count": 73
        }
      ]
    },
    {
      "cell_type": "code",
      "source": [
        "#log로 해보았습니다.\n",
        "data1 = np.log1p(data1)\n",
        "data1"
      ],
      "metadata": {
        "colab": {
          "base_uri": "https://localhost:8080/",
          "height": 423
        },
        "id": "EsNLh9yzoNKN",
        "outputId": "3b91121d-2f02-4ab1-8938-d8d2d19c2345"
      },
      "id": "EsNLh9yzoNKN",
      "execution_count": null,
      "outputs": [
        {
          "output_type": "execute_result",
          "data": {
            "text/plain": [
              "     CRIM   ZN  INDUS  CHAS  NOX   RM  AGE  DIS  RAD  TAX  PTRATIO    B  \\\n",
              "0    0.01 1.37   0.79  0.00 0.36 1.11 1.65 0.97 0.53 1.90     1.33 1.94   \n",
              "1    0.03 0.00   1.13  0.00 0.33 1.10 1.68 1.02 0.74 1.87     1.37 1.94   \n",
              "2    0.03 0.00   1.13  0.00 0.33 1.13 1.63 1.02 0.74 1.87     1.37 1.94   \n",
              "3    0.03 0.00   0.77  0.00 0.32 1.12 1.58 1.08 0.87 1.86     1.38 1.94   \n",
              "4    0.06 0.00   0.77  0.00 0.32 1.13 1.61 1.08 0.87 1.86     1.38 1.94   \n",
              "..    ...  ...    ...   ...  ...  ...  ...  ...  ...  ...      ...  ...   \n",
              "501  0.06 0.00   1.27  0.00 0.37 1.11 1.66 0.81 0.53 1.89     1.41 1.94   \n",
              "502  0.04 0.00   1.27  0.00 0.37 1.09 1.68 0.78 0.53 1.89     1.41 1.94   \n",
              "503  0.06 0.00   1.27  0.00 0.37 1.12 1.71 0.77 0.53 1.89     1.41 1.94   \n",
              "504  0.10 0.00   1.27  0.00 0.37 1.12 1.71 0.80 0.53 1.89     1.41 1.94   \n",
              "505  0.05 0.00   1.27  0.00 0.37 1.08 1.69 0.81 0.53 1.89     1.41 1.94   \n",
              "\n",
              "     LSTAT  MEDV  CAT. MEDV  \n",
              "0     1.03  1.44       0.00  \n",
              "1     1.20  1.42       0.00  \n",
              "2     0.96  1.52       0.53  \n",
              "3     0.86  1.51       0.53  \n",
              "4     1.05  1.53       0.53  \n",
              "..     ...   ...        ...  \n",
              "501   1.21  1.42       0.00  \n",
              "502   1.20  1.40       0.00  \n",
              "503   1.06  1.44       0.00  \n",
              "504   1.10  1.42       0.00  \n",
              "505   1.16  1.27       0.00  \n",
              "\n",
              "[506 rows x 15 columns]"
            ],
            "text/html": [
              "\n",
              "  <div id=\"df-7af26c5b-032e-446d-8510-a4603da673d2\">\n",
              "    <div class=\"colab-df-container\">\n",
              "      <div>\n",
              "<style scoped>\n",
              "    .dataframe tbody tr th:only-of-type {\n",
              "        vertical-align: middle;\n",
              "    }\n",
              "\n",
              "    .dataframe tbody tr th {\n",
              "        vertical-align: top;\n",
              "    }\n",
              "\n",
              "    .dataframe thead th {\n",
              "        text-align: right;\n",
              "    }\n",
              "</style>\n",
              "<table border=\"1\" class=\"dataframe\">\n",
              "  <thead>\n",
              "    <tr style=\"text-align: right;\">\n",
              "      <th></th>\n",
              "      <th>CRIM</th>\n",
              "      <th>ZN</th>\n",
              "      <th>INDUS</th>\n",
              "      <th>CHAS</th>\n",
              "      <th>NOX</th>\n",
              "      <th>RM</th>\n",
              "      <th>AGE</th>\n",
              "      <th>DIS</th>\n",
              "      <th>RAD</th>\n",
              "      <th>TAX</th>\n",
              "      <th>PTRATIO</th>\n",
              "      <th>B</th>\n",
              "      <th>LSTAT</th>\n",
              "      <th>MEDV</th>\n",
              "      <th>CAT. MEDV</th>\n",
              "    </tr>\n",
              "  </thead>\n",
              "  <tbody>\n",
              "    <tr>\n",
              "      <th>0</th>\n",
              "      <td>0.01</td>\n",
              "      <td>1.37</td>\n",
              "      <td>0.79</td>\n",
              "      <td>0.00</td>\n",
              "      <td>0.36</td>\n",
              "      <td>1.11</td>\n",
              "      <td>1.65</td>\n",
              "      <td>0.97</td>\n",
              "      <td>0.53</td>\n",
              "      <td>1.90</td>\n",
              "      <td>1.33</td>\n",
              "      <td>1.94</td>\n",
              "      <td>1.03</td>\n",
              "      <td>1.44</td>\n",
              "      <td>0.00</td>\n",
              "    </tr>\n",
              "    <tr>\n",
              "      <th>1</th>\n",
              "      <td>0.03</td>\n",
              "      <td>0.00</td>\n",
              "      <td>1.13</td>\n",
              "      <td>0.00</td>\n",
              "      <td>0.33</td>\n",
              "      <td>1.10</td>\n",
              "      <td>1.68</td>\n",
              "      <td>1.02</td>\n",
              "      <td>0.74</td>\n",
              "      <td>1.87</td>\n",
              "      <td>1.37</td>\n",
              "      <td>1.94</td>\n",
              "      <td>1.20</td>\n",
              "      <td>1.42</td>\n",
              "      <td>0.00</td>\n",
              "    </tr>\n",
              "    <tr>\n",
              "      <th>2</th>\n",
              "      <td>0.03</td>\n",
              "      <td>0.00</td>\n",
              "      <td>1.13</td>\n",
              "      <td>0.00</td>\n",
              "      <td>0.33</td>\n",
              "      <td>1.13</td>\n",
              "      <td>1.63</td>\n",
              "      <td>1.02</td>\n",
              "      <td>0.74</td>\n",
              "      <td>1.87</td>\n",
              "      <td>1.37</td>\n",
              "      <td>1.94</td>\n",
              "      <td>0.96</td>\n",
              "      <td>1.52</td>\n",
              "      <td>0.53</td>\n",
              "    </tr>\n",
              "    <tr>\n",
              "      <th>3</th>\n",
              "      <td>0.03</td>\n",
              "      <td>0.00</td>\n",
              "      <td>0.77</td>\n",
              "      <td>0.00</td>\n",
              "      <td>0.32</td>\n",
              "      <td>1.12</td>\n",
              "      <td>1.58</td>\n",
              "      <td>1.08</td>\n",
              "      <td>0.87</td>\n",
              "      <td>1.86</td>\n",
              "      <td>1.38</td>\n",
              "      <td>1.94</td>\n",
              "      <td>0.86</td>\n",
              "      <td>1.51</td>\n",
              "      <td>0.53</td>\n",
              "    </tr>\n",
              "    <tr>\n",
              "      <th>4</th>\n",
              "      <td>0.06</td>\n",
              "      <td>0.00</td>\n",
              "      <td>0.77</td>\n",
              "      <td>0.00</td>\n",
              "      <td>0.32</td>\n",
              "      <td>1.13</td>\n",
              "      <td>1.61</td>\n",
              "      <td>1.08</td>\n",
              "      <td>0.87</td>\n",
              "      <td>1.86</td>\n",
              "      <td>1.38</td>\n",
              "      <td>1.94</td>\n",
              "      <td>1.05</td>\n",
              "      <td>1.53</td>\n",
              "      <td>0.53</td>\n",
              "    </tr>\n",
              "    <tr>\n",
              "      <th>...</th>\n",
              "      <td>...</td>\n",
              "      <td>...</td>\n",
              "      <td>...</td>\n",
              "      <td>...</td>\n",
              "      <td>...</td>\n",
              "      <td>...</td>\n",
              "      <td>...</td>\n",
              "      <td>...</td>\n",
              "      <td>...</td>\n",
              "      <td>...</td>\n",
              "      <td>...</td>\n",
              "      <td>...</td>\n",
              "      <td>...</td>\n",
              "      <td>...</td>\n",
              "      <td>...</td>\n",
              "    </tr>\n",
              "    <tr>\n",
              "      <th>501</th>\n",
              "      <td>0.06</td>\n",
              "      <td>0.00</td>\n",
              "      <td>1.27</td>\n",
              "      <td>0.00</td>\n",
              "      <td>0.37</td>\n",
              "      <td>1.11</td>\n",
              "      <td>1.66</td>\n",
              "      <td>0.81</td>\n",
              "      <td>0.53</td>\n",
              "      <td>1.89</td>\n",
              "      <td>1.41</td>\n",
              "      <td>1.94</td>\n",
              "      <td>1.21</td>\n",
              "      <td>1.42</td>\n",
              "      <td>0.00</td>\n",
              "    </tr>\n",
              "    <tr>\n",
              "      <th>502</th>\n",
              "      <td>0.04</td>\n",
              "      <td>0.00</td>\n",
              "      <td>1.27</td>\n",
              "      <td>0.00</td>\n",
              "      <td>0.37</td>\n",
              "      <td>1.09</td>\n",
              "      <td>1.68</td>\n",
              "      <td>0.78</td>\n",
              "      <td>0.53</td>\n",
              "      <td>1.89</td>\n",
              "      <td>1.41</td>\n",
              "      <td>1.94</td>\n",
              "      <td>1.20</td>\n",
              "      <td>1.40</td>\n",
              "      <td>0.00</td>\n",
              "    </tr>\n",
              "    <tr>\n",
              "      <th>503</th>\n",
              "      <td>0.06</td>\n",
              "      <td>0.00</td>\n",
              "      <td>1.27</td>\n",
              "      <td>0.00</td>\n",
              "      <td>0.37</td>\n",
              "      <td>1.12</td>\n",
              "      <td>1.71</td>\n",
              "      <td>0.77</td>\n",
              "      <td>0.53</td>\n",
              "      <td>1.89</td>\n",
              "      <td>1.41</td>\n",
              "      <td>1.94</td>\n",
              "      <td>1.06</td>\n",
              "      <td>1.44</td>\n",
              "      <td>0.00</td>\n",
              "    </tr>\n",
              "    <tr>\n",
              "      <th>504</th>\n",
              "      <td>0.10</td>\n",
              "      <td>0.00</td>\n",
              "      <td>1.27</td>\n",
              "      <td>0.00</td>\n",
              "      <td>0.37</td>\n",
              "      <td>1.12</td>\n",
              "      <td>1.71</td>\n",
              "      <td>0.80</td>\n",
              "      <td>0.53</td>\n",
              "      <td>1.89</td>\n",
              "      <td>1.41</td>\n",
              "      <td>1.94</td>\n",
              "      <td>1.10</td>\n",
              "      <td>1.42</td>\n",
              "      <td>0.00</td>\n",
              "    </tr>\n",
              "    <tr>\n",
              "      <th>505</th>\n",
              "      <td>0.05</td>\n",
              "      <td>0.00</td>\n",
              "      <td>1.27</td>\n",
              "      <td>0.00</td>\n",
              "      <td>0.37</td>\n",
              "      <td>1.08</td>\n",
              "      <td>1.69</td>\n",
              "      <td>0.81</td>\n",
              "      <td>0.53</td>\n",
              "      <td>1.89</td>\n",
              "      <td>1.41</td>\n",
              "      <td>1.94</td>\n",
              "      <td>1.16</td>\n",
              "      <td>1.27</td>\n",
              "      <td>0.00</td>\n",
              "    </tr>\n",
              "  </tbody>\n",
              "</table>\n",
              "<p>506 rows × 15 columns</p>\n",
              "</div>\n",
              "      <button class=\"colab-df-convert\" onclick=\"convertToInteractive('df-7af26c5b-032e-446d-8510-a4603da673d2')\"\n",
              "              title=\"Convert this dataframe to an interactive table.\"\n",
              "              style=\"display:none;\">\n",
              "        \n",
              "  <svg xmlns=\"http://www.w3.org/2000/svg\" height=\"24px\"viewBox=\"0 0 24 24\"\n",
              "       width=\"24px\">\n",
              "    <path d=\"M0 0h24v24H0V0z\" fill=\"none\"/>\n",
              "    <path d=\"M18.56 5.44l.94 2.06.94-2.06 2.06-.94-2.06-.94-.94-2.06-.94 2.06-2.06.94zm-11 1L8.5 8.5l.94-2.06 2.06-.94-2.06-.94L8.5 2.5l-.94 2.06-2.06.94zm10 10l.94 2.06.94-2.06 2.06-.94-2.06-.94-.94-2.06-.94 2.06-2.06.94z\"/><path d=\"M17.41 7.96l-1.37-1.37c-.4-.4-.92-.59-1.43-.59-.52 0-1.04.2-1.43.59L10.3 9.45l-7.72 7.72c-.78.78-.78 2.05 0 2.83L4 21.41c.39.39.9.59 1.41.59.51 0 1.02-.2 1.41-.59l7.78-7.78 2.81-2.81c.8-.78.8-2.07 0-2.86zM5.41 20L4 18.59l7.72-7.72 1.47 1.35L5.41 20z\"/>\n",
              "  </svg>\n",
              "      </button>\n",
              "      \n",
              "  <style>\n",
              "    .colab-df-container {\n",
              "      display:flex;\n",
              "      flex-wrap:wrap;\n",
              "      gap: 12px;\n",
              "    }\n",
              "\n",
              "    .colab-df-convert {\n",
              "      background-color: #E8F0FE;\n",
              "      border: none;\n",
              "      border-radius: 50%;\n",
              "      cursor: pointer;\n",
              "      display: none;\n",
              "      fill: #1967D2;\n",
              "      height: 32px;\n",
              "      padding: 0 0 0 0;\n",
              "      width: 32px;\n",
              "    }\n",
              "\n",
              "    .colab-df-convert:hover {\n",
              "      background-color: #E2EBFA;\n",
              "      box-shadow: 0px 1px 2px rgba(60, 64, 67, 0.3), 0px 1px 3px 1px rgba(60, 64, 67, 0.15);\n",
              "      fill: #174EA6;\n",
              "    }\n",
              "\n",
              "    [theme=dark] .colab-df-convert {\n",
              "      background-color: #3B4455;\n",
              "      fill: #D2E3FC;\n",
              "    }\n",
              "\n",
              "    [theme=dark] .colab-df-convert:hover {\n",
              "      background-color: #434B5C;\n",
              "      box-shadow: 0px 1px 3px 1px rgba(0, 0, 0, 0.15);\n",
              "      filter: drop-shadow(0px 1px 2px rgba(0, 0, 0, 0.3));\n",
              "      fill: #FFFFFF;\n",
              "    }\n",
              "  </style>\n",
              "\n",
              "      <script>\n",
              "        const buttonEl =\n",
              "          document.querySelector('#df-7af26c5b-032e-446d-8510-a4603da673d2 button.colab-df-convert');\n",
              "        buttonEl.style.display =\n",
              "          google.colab.kernel.accessAllowed ? 'block' : 'none';\n",
              "\n",
              "        async function convertToInteractive(key) {\n",
              "          const element = document.querySelector('#df-7af26c5b-032e-446d-8510-a4603da673d2');\n",
              "          const dataTable =\n",
              "            await google.colab.kernel.invokeFunction('convertToInteractive',\n",
              "                                                     [key], {});\n",
              "          if (!dataTable) return;\n",
              "\n",
              "          const docLinkHtml = 'Like what you see? Visit the ' +\n",
              "            '<a target=\"_blank\" href=https://colab.research.google.com/notebooks/data_table.ipynb>data table notebook</a>'\n",
              "            + ' to learn more about interactive tables.';\n",
              "          element.innerHTML = '';\n",
              "          dataTable['output_type'] = 'display_data';\n",
              "          await google.colab.output.renderOutput(dataTable, element);\n",
              "          const docLink = document.createElement('div');\n",
              "          docLink.innerHTML = docLinkHtml;\n",
              "          element.appendChild(docLink);\n",
              "        }\n",
              "      </script>\n",
              "    </div>\n",
              "  </div>\n",
              "  "
            ]
          },
          "metadata": {},
          "execution_count": 74
        }
      ]
    },
    {
      "cell_type": "code",
      "source": [
        "# 특성들 사이의 상관관계 찾기\n",
        "corr = data.corr()\n",
        "corr.shape"
      ],
      "metadata": {
        "colab": {
          "base_uri": "https://localhost:8080/"
        },
        "id": "NDioYVGA_KEL",
        "outputId": "2df4d56e-9374-4e9f-ad3c-a37c15b3f402"
      },
      "id": "NDioYVGA_KEL",
      "execution_count": null,
      "outputs": [
        {
          "output_type": "execute_result",
          "data": {
            "text/plain": [
              "(15, 15)"
            ]
          },
          "metadata": {},
          "execution_count": 75
        }
      ]
    },
    {
      "cell_type": "markdown",
      "id": "e5cc5fdb",
      "metadata": {
        "id": "e5cc5fdb"
      },
      "source": [
        "주택가격 (`MEDV`)과 관련 있는 Factor를 찾아보세요\n",
        "- 대형 평수 vs 소형 평슈\n",
        "- 노후화 정도와 집값의 관계는?\n",
        "- 직주근접?\n"
      ]
    },
    {
      "cell_type": "markdown",
      "source": [
        "### 주택 가격에 대한 정리"
      ],
      "metadata": {
        "id": "Wa7Nf7TA1V6B"
      },
      "id": "Wa7Nf7TA1V6B"
    },
    {
      "cell_type": "code",
      "source": [
        "#가격 설정 및 특성을 바인딩하겠습니다.\n",
        "\n",
        "prices = data['MEDV']\n",
        "features = data.drop('MEDV', axis=1)\n",
        "\n",
        "print(\"보스턴 주택 데이터: {} 데이터 그리고 {}변수가 있습니다.\".format(*data.shape))"
      ],
      "metadata": {
        "colab": {
          "base_uri": "https://localhost:8080/"
        },
        "id": "8dlwxEHqtbww",
        "outputId": "585d2dc8-ecda-48c6-df42-92f22e624966"
      },
      "id": "8dlwxEHqtbww",
      "execution_count": null,
      "outputs": [
        {
          "output_type": "stream",
          "name": "stdout",
          "text": [
            "보스턴 주택 데이터: 506 데이터 그리고 15변수가 있습니다.\n"
          ]
        }
      ]
    },
    {
      "cell_type": "code",
      "source": [
        "df['MEDV'].nunique()\n",
        "#당연히 동일 집값이 이겠죠!!"
      ],
      "metadata": {
        "colab": {
          "base_uri": "https://localhost:8080/"
        },
        "id": "nLCcd_uI0zsh",
        "outputId": "366459aa-dfc6-4409-deb7-00e26a3af912"
      },
      "id": "nLCcd_uI0zsh",
      "execution_count": null,
      "outputs": [
        {
          "output_type": "execute_result",
          "data": {
            "text/plain": [
              "229"
            ]
          },
          "metadata": {},
          "execution_count": 77
        }
      ]
    },
    {
      "cell_type": "markdown",
      "source": [
        "가격의 최대,최소 그리고 평균과 중앙값을 구해서 가격의 분포도를 살피겠습니다\n"
      ],
      "metadata": {
        "id": "-Hbyd_cuuM23"
      },
      "id": "-Hbyd_cuuM23"
    },
    {
      "cell_type": "code",
      "source": [
        "#최댓값\n",
        "\n",
        "maximum_price = np.amax(prices)\n",
        "\n",
        "#최솟값\n",
        "\n",
        "minimum_price = np.amin(prices)\n",
        "\n",
        "#평균\n",
        "\n",
        "mean_price = np.mean(prices)\n",
        "\n",
        "#중앙\n",
        "\n",
        "median_price = np.median(prices)\n",
        "#Std\n",
        "std_price = np.std(prices)\n",
        "\n",
        "#위의 결과 값\n",
        "\n",
        "print(\"Statistics for Boston housing  dataset:\\n\")\n",
        "print(\"Maximum price: ${}\".format(maximum_price))\n",
        "print(\"Minimum price: ${}\".format(minimum_price))\n",
        "print(\"Mean price: ${}\".format(mean_price))\n",
        "print(\"Median price ${}\".format(median_price))\n",
        "print(\"Standard devlation of prices: ${}\".format(std_price))\n",
        "\n"
      ],
      "metadata": {
        "colab": {
          "base_uri": "https://localhost:8080/"
        },
        "id": "DzwwR54NvxGX",
        "outputId": "256f73bb-92fd-4e84-87e5-565a056c01c9"
      },
      "id": "DzwwR54NvxGX",
      "execution_count": null,
      "outputs": [
        {
          "output_type": "stream",
          "name": "stdout",
          "text": [
            "Statistics for Boston housing  dataset:\n",
            "\n",
            "Maximum price: $50.0\n",
            "Minimum price: $5.0\n",
            "Mean price: $22.532806324110698\n",
            "Median price $21.2\n",
            "Standard devlation of prices: $9.188011545278206\n"
          ]
        }
      ]
    },
    {
      "cell_type": "code",
      "source": [
        "## SalePrice의 확률밀도함수를 그려보겠습니다\n",
        "sns.displot(df['MEDV'], kde=True)\n",
        "\n",
        "## 평균과, 중간값으로 수직선을 그려보겠습니다.\n",
        "plt.axvline(df['MEDV'].mean(), color='blue')\n",
        "plt.axvline(df['MEDV'].median(), color='red')"
      ],
      "metadata": {
        "colab": {
          "base_uri": "https://localhost:8080/",
          "height": 388
        },
        "id": "d9bFd-jaAK1h",
        "outputId": "90969f94-e9f9-47d8-eb0a-df258b3e33d6"
      },
      "id": "d9bFd-jaAK1h",
      "execution_count": null,
      "outputs": [
        {
          "output_type": "execute_result",
          "data": {
            "text/plain": [
              "<matplotlib.lines.Line2D at 0x7f214209e910>"
            ]
          },
          "metadata": {},
          "execution_count": 79
        },
        {
          "output_type": "display_data",
          "data": {
            "text/plain": [
              "<Figure size 360x360 with 1 Axes>"
            ],
            "image/png": "[encoded data removed]"
          },
          "metadata": {
            "needs_background": "light"
          }
        }
      ]
    },
    {
      "cell_type": "markdown",
      "source": [
        "중앙값과 평균값의 차이가 별로 없는 것으로 보아서는 결측치 뿐만 아니라 이상치도 없는 데이터 같군요"
      ],
      "metadata": {
        "id": "oRwN1hbRxmIy"
      },
      "id": "oRwN1hbRxmIy"
    },
    {
      "cell_type": "code",
      "source": [
        ""
      ],
      "metadata": {
        "id": "vqy514v-5ZMA"
      },
      "id": "vqy514v-5ZMA",
      "execution_count": null,
      "outputs": []
    },
    {
      "cell_type": "markdown",
      "source": [
        "\n",
        "### 가설 설정\n",
        "\n",
        "1. 평당 미터가 넓을 수록 집 값이 비쌀 것이다\n",
        "\n",
        "2. 주택이 오래될 수록 잡 값이 싸질 것이다\n",
        "\n",
        "3. 직장과 가까우면 집 값이 높아질 거다\n"
      ],
      "metadata": {
        "id": "fYOM-CJlQ832"
      },
      "id": "fYOM-CJlQ832"
    },
    {
      "cell_type": "markdown",
      "source": [
        "### 대형 평수 vs 소형 평수\n",
        "\n",
        "ZN\t25,000 평방피트를 초과하는 거주지역의 비율"
      ],
      "metadata": {
        "id": "X5eKwgjp1y9t"
      },
      "id": "X5eKwgjp1y9t"
    },
    {
      "cell_type": "code",
      "source": [
        "size1 = data['ZN']\n",
        "features = data.drop('ZN', axis=1)\n",
        "\n",
        "print(\"보스턴 주택 평수 데이터: {} 데이터 그리고 {}변수가 있습니다.\".format(*data.shape))"
      ],
      "metadata": {
        "colab": {
          "base_uri": "https://localhost:8080/"
        },
        "id": "_2EsA7ZYC_7N",
        "outputId": "1fc0618e-be6e-416f-996c-3c08a9a67b61"
      },
      "id": "_2EsA7ZYC_7N",
      "execution_count": null,
      "outputs": [
        {
          "output_type": "stream",
          "name": "stdout",
          "text": [
            "보스턴 주택 평수 데이터: 506 데이터 그리고 15변수가 있습니다.\n"
          ]
        }
      ]
    },
    {
      "cell_type": "code",
      "source": [
        "df['ZN'].nunique()\n",
        "#당연히 동일 평수 있겠죠!!"
      ],
      "metadata": {
        "colab": {
          "base_uri": "https://localhost:8080/"
        },
        "id": "sA3Af5qoDTv1",
        "outputId": "0eb9736c-c32f-4c75-a267-c81d2d1bb162"
      },
      "id": "sA3Af5qoDTv1",
      "execution_count": null,
      "outputs": [
        {
          "output_type": "execute_result",
          "data": {
            "text/plain": [
              "26"
            ]
          },
          "metadata": {},
          "execution_count": 81
        }
      ]
    },
    {
      "cell_type": "code",
      "source": [
        "#최댓값\n",
        "\n",
        "maximum_size1 = np.amax(size1)\n",
        "\n",
        "#최솟값\n",
        "\n",
        "minimum_size1 = np.amin(size1)\n",
        "\n",
        "#평균\n",
        "\n",
        "mean_size1 = np.mean(size1)\n",
        "\n",
        "#중앙\n",
        "\n",
        "median_size1 = np.median(size1)\n",
        "#Std\n",
        "std_size1 = np.std(size1)\n",
        "\n",
        "#위의 결과 값\n",
        "\n",
        "print(\"Statistics for Boston housing  dataset:\\n\")\n",
        "print(\"Maximum size1: {} m^3\".format(maximum_size1))\n",
        "print(\"Minimum size1: {} m^3\".format(minimum_size1))\n",
        "print(\"Mean size1: {} m^3\".format(mean_size1))\n",
        "print(\"Median size1 {} m^3\".format(median_size1))\n",
        "print(\"Standard devlation of size1: {} m^3\".format(std_size1))\n"
      ],
      "metadata": {
        "colab": {
          "base_uri": "https://localhost:8080/"
        },
        "id": "LeZhLGkWDdcr",
        "outputId": "41f29a39-736b-414c-b954-11baf35dc2e3"
      },
      "id": "LeZhLGkWDdcr",
      "execution_count": null,
      "outputs": [
        {
          "output_type": "stream",
          "name": "stdout",
          "text": [
            "Statistics for Boston housing  dataset:\n",
            "\n",
            "Maximum size1: 100.0 m^3\n",
            "Minimum size1: 0.0 m^3\n",
            "Mean size1: 11.363636363636363 m^3\n",
            "Median size1 0.0 m^3\n",
            "Standard devlation of size1: 23.299395694766027 m^3\n"
          ]
        }
      ]
    },
    {
      "cell_type": "code",
      "source": [
        "## Size1의 확률밀도함수를 그려보겠습니다\n",
        "sns.displot(df['ZN'], kde=True)\n",
        "\n",
        "## 평균과, 중간값으로 수직선을 그려보겠습니다.\n",
        "plt.axvline(df['ZN'].mean(), color='blue')\n",
        "plt.axvline(df['ZN'].median(), color='red')"
      ],
      "metadata": {
        "colab": {
          "base_uri": "https://localhost:8080/",
          "height": 388
        },
        "id": "HvtoVaw7EI6U",
        "outputId": "6050b6a9-5050-466b-e0cc-73aa11f385f9"
      },
      "id": "HvtoVaw7EI6U",
      "execution_count": null,
      "outputs": [
        {
          "output_type": "execute_result",
          "data": {
            "text/plain": [
              "<matplotlib.lines.Line2D at 0x7f2142e272d0>"
            ]
          },
          "metadata": {},
          "execution_count": 83
        },
        {
          "output_type": "display_data",
          "data": {
            "text/plain": [
              "<Figure size 360x360 with 1 Axes>"
            ],
            "image/png": "[encoded data removed]"
          },
          "metadata": {
            "needs_background": "light"
          }
        }
      ]
    },
    {
      "cell_type": "markdown",
      "source": [
        "한 쪽에만 몰려있는 데이터이군요... 25,OOO 평방 피트를 초과하는 지역이 대체로 없다고 볼 수 있겠네요.\n",
        "\n"
      ],
      "metadata": {
        "id": "7k_zagoMERZK"
      },
      "id": "7k_zagoMERZK"
    },
    {
      "cell_type": "code",
      "source": [
        "\n",
        "\n"
      ],
      "metadata": {
        "id": "hIRcsksJDPPU"
      },
      "id": "hIRcsksJDPPU",
      "execution_count": null,
      "outputs": []
    },
    {
      "cell_type": "code",
      "source": [
        "import numpy as np\n",
        "\n",
        "how = {\n",
        "    'MEDV': np.mean\n",
        "}\n",
        "\n",
        "df.groupby('ZN').agg( how )"
      ],
      "metadata": {
        "colab": {
          "base_uri": "https://localhost:8080/",
          "height": 896
        },
        "id": "DlHoq5OS2AFv",
        "outputId": "81fe4732-f9cb-4898-ddb9-9f11d2acf033"
      },
      "id": "DlHoq5OS2AFv",
      "execution_count": null,
      "outputs": [
        {
          "output_type": "execute_result",
          "data": {
            "text/plain": [
              "        MEDV\n",
              "ZN          \n",
              "0.00   20.47\n",
              "12.50  20.13\n",
              "17.50  33.00\n",
              "18.00  24.00\n",
              "20.00  35.47\n",
              "21.00  22.15\n",
              "22.00  25.32\n",
              "25.00  22.44\n",
              "28.00  22.83\n",
              "30.00  22.50\n",
              "33.00  31.53\n",
              "34.00  27.17\n",
              "35.00  23.07\n",
              "40.00  29.90\n",
              "45.00  33.43\n",
              "52.50  23.43\n",
              "55.00  25.70\n",
              "60.00  25.73\n",
              "70.00  25.43\n",
              "75.00  28.20\n",
              "80.00  27.40\n",
              "82.50  33.20\n",
              "85.00  23.90\n",
              "90.00  38.34\n",
              "95.00  41.58\n",
              "100.00 31.60"
            ],
            "text/html": [
              "\n",
              "  <div id=\"df-a7fe4b44-ea2b-4538-9381-9f2b67efd9ee\">\n",
              "    <div class=\"colab-df-container\">\n",
              "      <div>\n",
              "<style scoped>\n",
              "    .dataframe tbody tr th:only-of-type {\n",
              "        vertical-align: middle;\n",
              "    }\n",
              "\n",
              "    .dataframe tbody tr th {\n",
              "        vertical-align: top;\n",
              "    }\n",
              "\n",
              "    .dataframe thead th {\n",
              "        text-align: right;\n",
              "    }\n",
              "</style>\n",
              "<table border=\"1\" class=\"dataframe\">\n",
              "  <thead>\n",
              "    <tr style=\"text-align: right;\">\n",
              "      <th></th>\n",
              "      <th>MEDV</th>\n",
              "    </tr>\n",
              "    <tr>\n",
              "      <th>ZN</th>\n",
              "      <th></th>\n",
              "    </tr>\n",
              "  </thead>\n",
              "  <tbody>\n",
              "    <tr>\n",
              "      <th>0.00</th>\n",
              "      <td>20.47</td>\n",
              "    </tr>\n",
              "    <tr>\n",
              "      <th>12.50</th>\n",
              "      <td>20.13</td>\n",
              "    </tr>\n",
              "    <tr>\n",
              "      <th>17.50</th>\n",
              "      <td>33.00</td>\n",
              "    </tr>\n",
              "    <tr>\n",
              "      <th>18.00</th>\n",
              "      <td>24.00</td>\n",
              "    </tr>\n",
              "    <tr>\n",
              "      <th>20.00</th>\n",
              "      <td>35.47</td>\n",
              "    </tr>\n",
              "    <tr>\n",
              "      <th>21.00</th>\n",
              "      <td>22.15</td>\n",
              "    </tr>\n",
              "    <tr>\n",
              "      <th>22.00</th>\n",
              "      <td>25.32</td>\n",
              "    </tr>\n",
              "    <tr>\n",
              "      <th>25.00</th>\n",
              "      <td>22.44</td>\n",
              "    </tr>\n",
              "    <tr>\n",
              "      <th>28.00</th>\n",
              "      <td>22.83</td>\n",
              "    </tr>\n",
              "    <tr>\n",
              "      <th>30.00</th>\n",
              "      <td>22.50</td>\n",
              "    </tr>\n",
              "    <tr>\n",
              "      <th>33.00</th>\n",
              "      <td>31.53</td>\n",
              "    </tr>\n",
              "    <tr>\n",
              "      <th>34.00</th>\n",
              "      <td>27.17</td>\n",
              "    </tr>\n",
              "    <tr>\n",
              "      <th>35.00</th>\n",
              "      <td>23.07</td>\n",
              "    </tr>\n",
              "    <tr>\n",
              "      <th>40.00</th>\n",
              "      <td>29.90</td>\n",
              "    </tr>\n",
              "    <tr>\n",
              "      <th>45.00</th>\n",
              "      <td>33.43</td>\n",
              "    </tr>\n",
              "    <tr>\n",
              "      <th>52.50</th>\n",
              "      <td>23.43</td>\n",
              "    </tr>\n",
              "    <tr>\n",
              "      <th>55.00</th>\n",
              "      <td>25.70</td>\n",
              "    </tr>\n",
              "    <tr>\n",
              "      <th>60.00</th>\n",
              "      <td>25.73</td>\n",
              "    </tr>\n",
              "    <tr>\n",
              "      <th>70.00</th>\n",
              "      <td>25.43</td>\n",
              "    </tr>\n",
              "    <tr>\n",
              "      <th>75.00</th>\n",
              "      <td>28.20</td>\n",
              "    </tr>\n",
              "    <tr>\n",
              "      <th>80.00</th>\n",
              "      <td>27.40</td>\n",
              "    </tr>\n",
              "    <tr>\n",
              "      <th>82.50</th>\n",
              "      <td>33.20</td>\n",
              "    </tr>\n",
              "    <tr>\n",
              "      <th>85.00</th>\n",
              "      <td>23.90</td>\n",
              "    </tr>\n",
              "    <tr>\n",
              "      <th>90.00</th>\n",
              "      <td>38.34</td>\n",
              "    </tr>\n",
              "    <tr>\n",
              "      <th>95.00</th>\n",
              "      <td>41.58</td>\n",
              "    </tr>\n",
              "    <tr>\n",
              "      <th>100.00</th>\n",
              "      <td>31.60</td>\n",
              "    </tr>\n",
              "  </tbody>\n",
              "</table>\n",
              "</div>\n",
              "      <button class=\"colab-df-convert\" onclick=\"convertToInteractive('df-a7fe4b44-ea2b-4538-9381-9f2b67efd9ee')\"\n",
              "              title=\"Convert this dataframe to an interactive table.\"\n",
              "              style=\"display:none;\">\n",
              "        \n",
              "  <svg xmlns=\"http://www.w3.org/2000/svg\" height=\"24px\"viewBox=\"0 0 24 24\"\n",
              "       width=\"24px\">\n",
              "    <path d=\"M0 0h24v24H0V0z\" fill=\"none\"/>\n",
              "    <path d=\"M18.56 5.44l.94 2.06.94-2.06 2.06-.94-2.06-.94-.94-2.06-.94 2.06-2.06.94zm-11 1L8.5 8.5l.94-2.06 2.06-.94-2.06-.94L8.5 2.5l-.94 2.06-2.06.94zm10 10l.94 2.06.94-2.06 2.06-.94-2.06-.94-.94-2.06-.94 2.06-2.06.94z\"/><path d=\"M17.41 7.96l-1.37-1.37c-.4-.4-.92-.59-1.43-.59-.52 0-1.04.2-1.43.59L10.3 9.45l-7.72 7.72c-.78.78-.78 2.05 0 2.83L4 21.41c.39.39.9.59 1.41.59.51 0 1.02-.2 1.41-.59l7.78-7.78 2.81-2.81c.8-.78.8-2.07 0-2.86zM5.41 20L4 18.59l7.72-7.72 1.47 1.35L5.41 20z\"/>\n",
              "  </svg>\n",
              "      </button>\n",
              "      \n",
              "  <style>\n",
              "    .colab-df-container {\n",
              "      display:flex;\n",
              "      flex-wrap:wrap;\n",
              "      gap: 12px;\n",
              "    }\n",
              "\n",
              "    .colab-df-convert {\n",
              "      background-color: #E8F0FE;\n",
              "      border: none;\n",
              "      border-radius: 50%;\n",
              "      cursor: pointer;\n",
              "      display: none;\n",
              "      fill: #1967D2;\n",
              "      height: 32px;\n",
              "      padding: 0 0 0 0;\n",
              "      width: 32px;\n",
              "    }\n",
              "\n",
              "    .colab-df-convert:hover {\n",
              "      background-color: #E2EBFA;\n",
              "      box-shadow: 0px 1px 2px rgba(60, 64, 67, 0.3), 0px 1px 3px 1px rgba(60, 64, 67, 0.15);\n",
              "      fill: #174EA6;\n",
              "    }\n",
              "\n",
              "    [theme=dark] .colab-df-convert {\n",
              "      background-color: #3B4455;\n",
              "      fill: #D2E3FC;\n",
              "    }\n",
              "\n",
              "    [theme=dark] .colab-df-convert:hover {\n",
              "      background-color: #434B5C;\n",
              "      box-shadow: 0px 1px 3px 1px rgba(0, 0, 0, 0.15);\n",
              "      filter: drop-shadow(0px 1px 2px rgba(0, 0, 0, 0.3));\n",
              "      fill: #FFFFFF;\n",
              "    }\n",
              "  </style>\n",
              "\n",
              "      <script>\n",
              "        const buttonEl =\n",
              "          document.querySelector('#df-a7fe4b44-ea2b-4538-9381-9f2b67efd9ee button.colab-df-convert');\n",
              "        buttonEl.style.display =\n",
              "          google.colab.kernel.accessAllowed ? 'block' : 'none';\n",
              "\n",
              "        async function convertToInteractive(key) {\n",
              "          const element = document.querySelector('#df-a7fe4b44-ea2b-4538-9381-9f2b67efd9ee');\n",
              "          const dataTable =\n",
              "            await google.colab.kernel.invokeFunction('convertToInteractive',\n",
              "                                                     [key], {});\n",
              "          if (!dataTable) return;\n",
              "\n",
              "          const docLinkHtml = 'Like what you see? Visit the ' +\n",
              "            '<a target=\"_blank\" href=https://colab.research.google.com/notebooks/data_table.ipynb>data table notebook</a>'\n",
              "            + ' to learn more about interactive tables.';\n",
              "          element.innerHTML = '';\n",
              "          dataTable['output_type'] = 'display_data';\n",
              "          await google.colab.output.renderOutput(dataTable, element);\n",
              "          const docLink = document.createElement('div');\n",
              "          docLink.innerHTML = docLinkHtml;\n",
              "          element.appendChild(docLink);\n",
              "        }\n",
              "      </script>\n",
              "    </div>\n",
              "  </div>\n",
              "  "
            ]
          },
          "metadata": {},
          "execution_count": 84
        }
      ]
    },
    {
      "cell_type": "code",
      "execution_count": null,
      "id": "fb0da196",
      "metadata": {
        "id": "fb0da196",
        "colab": {
          "base_uri": "https://localhost:8080/",
          "height": 452
        },
        "outputId": "3568dbfd-d790-4b17-de8e-5cecc63ae4b4"
      },
      "outputs": [
        {
          "output_type": "display_data",
          "data": {
            "text/plain": [
              "<Figure size 432x432 with 3 Axes>"
            ],
            "image/png": "[encoded data removed]"
          },
          "metadata": {
            "needs_background": "light"
          }
        }
      ],
      "source": [
        "sns.jointplot(x=\"MEDV\", y=\"ZN\", data=data)\n",
        "plt.suptitle(\"MEDV and ZN\", y=1)\n",
        "plt.show()"
      ]
    },
    {
      "cell_type": "code",
      "source": [
        "from scipy import stats\n",
        "x = data[\"MEDV\"]\n",
        "y = data[\"ZN\"]\n",
        "stats.pearsonr(x,y)"
      ],
      "metadata": {
        "colab": {
          "base_uri": "https://localhost:8080/"
        },
        "id": "f4HWMFEe7Vvx",
        "outputId": "2b1ae186-f53f-48aa-ac12-133cc193369e"
      },
      "id": "f4HWMFEe7Vvx",
      "execution_count": null,
      "outputs": [
        {
          "output_type": "execute_result",
          "data": {
            "text/plain": [
              "(0.36044534245054316, 5.713584153079442e-17)"
            ]
          },
          "metadata": {},
          "execution_count": 86
        }
      ]
    },
    {
      "cell_type": "markdown",
      "source": [
        "#### 대형 평수 소형 평수, 그리고 집값\n",
        "\n",
        "데이터: ZN, MEDV\n",
        "\n",
        "일단 이 데이터는 최대 최소의 차이가 너무 커서 평균이 제대로된 기준 되지 못했고 무엇이 소형이고 대형인지 객관적인 기준을 잡지 못했습니다.\n",
        "\n",
        "그러나 일단 평수와 가격 데이터를 비교하면, 평수가 클수록 더 주택의 가격이 오르는 건 맞지만 그것이 곧 100% 통하는 건 아닌 것 같습니다.\n",
        "\n",
        "<br>\n",
        "\n",
        "왜냐하면, 그래프를 보시면 MEDV의 평균 가격 구간을 기준으로 왼쪽은 평수가 작으니 값이 싼 곳 오른쪽은 평수가 크니 값이 비싸다라는 단순 이분법적으로 나누면 평수 데이터가 가격에 영향을 미친다고 볼 수 있습니다.\n",
        "\n",
        "<br>\n",
        "\n",
        "허나 위에서 말한 것처럼 너무나 크게 몰려있는 이상치로 인해서 올바른 판단을 하지 못합니다.\n",
        "\n",
        "즉, 평수~집값의 양의 상관관계를 이야기하기엔 좀 어렵지 않나 싶습니다.\n",
        "\n",
        "아마 그러한 이유로 상관관계 수치도 0.36%라는 낮은 수치와 p-value값이 높게 나온 것 같습니다.\n",
        "\n",
        "고로, 이것은 영향을 끼치지 못한다가 저의 결론입니다.\n",
        "\n"
      ],
      "metadata": {
        "id": "HHymzW4A2f9L"
      },
      "id": "HHymzW4A2f9L"
    },
    {
      "cell_type": "code",
      "source": [
        ""
      ],
      "metadata": {
        "id": "nkLfL59HJ5ym"
      },
      "id": "nkLfL59HJ5ym",
      "execution_count": null,
      "outputs": []
    },
    {
      "cell_type": "markdown",
      "source": [
        "### 노후된 집과 가격과의 관계"
      ],
      "metadata": {
        "id": "vk5VWOxUJ5m2"
      },
      "id": "vk5VWOxUJ5m2"
    },
    {
      "cell_type": "code",
      "source": [
        "## 나이의 확률밀도함수를 그려보겠습니다\n",
        "sns.displot(df['AGE'], kde=True)\n",
        "\n",
        "## 평균과, 중간값으로 수직선을 그려보겠습니다.\n",
        "plt.axvline(df['AGE'].mean(), color='blue')\n",
        "plt.axvline(df['AGE'].median(), color='red')"
      ],
      "metadata": {
        "colab": {
          "base_uri": "https://localhost:8080/",
          "height": 388
        },
        "id": "tW-619D_KOFk",
        "outputId": "01cc4e12-3821-4314-cdff-172d691087ed"
      },
      "id": "tW-619D_KOFk",
      "execution_count": null,
      "outputs": [
        {
          "output_type": "execute_result",
          "data": {
            "text/plain": [
              "<matplotlib.lines.Line2D at 0x7f2142323cd0>"
            ]
          },
          "metadata": {},
          "execution_count": 87
        },
        {
          "output_type": "display_data",
          "data": {
            "text/plain": [
              "<Figure size 360x360 with 1 Axes>"
            ],
            "image/png": "[encoded data removed]"
          },
          "metadata": {
            "needs_background": "light"
          }
        }
      ]
    },
    {
      "cell_type": "markdown",
      "source": [
        "평균적으로 70년 정도 되었고, 중앙값은 75년 이상인 걸로 보입니다.\n",
        "\n",
        "데이터가 100년의 근접한 주택들이 많은 것으로 보입니다."
      ],
      "metadata": {
        "id": "PHU52fP7KUrR"
      },
      "id": "PHU52fP7KUrR"
    },
    {
      "cell_type": "code",
      "source": [
        "import numpy as np\n",
        "\n",
        "how = {\n",
        "    'MEDV': np.mean\n",
        "}\n",
        "\n",
        "df.groupby('AGE').agg( how )"
      ],
      "metadata": {
        "colab": {
          "base_uri": "https://localhost:8080/",
          "height": 455
        },
        "id": "DyAqBuTZ4GdP",
        "outputId": "49a410e2-cdee-4503-89cd-be294fcd173b"
      },
      "id": "DyAqBuTZ4GdP",
      "execution_count": null,
      "outputs": [
        {
          "output_type": "execute_result",
          "data": {
            "text/plain": [
              "        MEDV\n",
              "AGE         \n",
              "2.90   26.60\n",
              "6.00   24.10\n",
              "6.20   23.40\n",
              "6.50   24.70\n",
              "6.60   24.75\n",
              "...      ...\n",
              "98.80  14.50\n",
              "98.90  13.07\n",
              "99.10  10.90\n",
              "99.30  17.80\n",
              "100.00 16.92\n",
              "\n",
              "[356 rows x 1 columns]"
            ],
            "text/html": [
              "\n",
              "  <div id=\"df-d34836b1-00af-45aa-91a4-58ccf4f899f5\">\n",
              "    <div class=\"colab-df-container\">\n",
              "      <div>\n",
              "<style scoped>\n",
              "    .dataframe tbody tr th:only-of-type {\n",
              "        vertical-align: middle;\n",
              "    }\n",
              "\n",
              "    .dataframe tbody tr th {\n",
              "        vertical-align: top;\n",
              "    }\n",
              "\n",
              "    .dataframe thead th {\n",
              "        text-align: right;\n",
              "    }\n",
              "</style>\n",
              "<table border=\"1\" class=\"dataframe\">\n",
              "  <thead>\n",
              "    <tr style=\"text-align: right;\">\n",
              "      <th></th>\n",
              "      <th>MEDV</th>\n",
              "    </tr>\n",
              "    <tr>\n",
              "      <th>AGE</th>\n",
              "      <th></th>\n",
              "    </tr>\n",
              "  </thead>\n",
              "  <tbody>\n",
              "    <tr>\n",
              "      <th>2.90</th>\n",
              "      <td>26.60</td>\n",
              "    </tr>\n",
              "    <tr>\n",
              "      <th>6.00</th>\n",
              "      <td>24.10</td>\n",
              "    </tr>\n",
              "    <tr>\n",
              "      <th>6.20</th>\n",
              "      <td>23.40</td>\n",
              "    </tr>\n",
              "    <tr>\n",
              "      <th>6.50</th>\n",
              "      <td>24.70</td>\n",
              "    </tr>\n",
              "    <tr>\n",
              "      <th>6.60</th>\n",
              "      <td>24.75</td>\n",
              "    </tr>\n",
              "    <tr>\n",
              "      <th>...</th>\n",
              "      <td>...</td>\n",
              "    </tr>\n",
              "    <tr>\n",
              "      <th>98.80</th>\n",
              "      <td>14.50</td>\n",
              "    </tr>\n",
              "    <tr>\n",
              "      <th>98.90</th>\n",
              "      <td>13.07</td>\n",
              "    </tr>\n",
              "    <tr>\n",
              "      <th>99.10</th>\n",
              "      <td>10.90</td>\n",
              "    </tr>\n",
              "    <tr>\n",
              "      <th>99.30</th>\n",
              "      <td>17.80</td>\n",
              "    </tr>\n",
              "    <tr>\n",
              "      <th>100.00</th>\n",
              "      <td>16.92</td>\n",
              "    </tr>\n",
              "  </tbody>\n",
              "</table>\n",
              "<p>356 rows × 1 columns</p>\n",
              "</div>\n",
              "      <button class=\"colab-df-convert\" onclick=\"convertToInteractive('df-d34836b1-00af-45aa-91a4-58ccf4f899f5')\"\n",
              "              title=\"Convert this dataframe to an interactive table.\"\n",
              "              style=\"display:none;\">\n",
              "        \n",
              "  <svg xmlns=\"http://www.w3.org/2000/svg\" height=\"24px\"viewBox=\"0 0 24 24\"\n",
              "       width=\"24px\">\n",
              "    <path d=\"M0 0h24v24H0V0z\" fill=\"none\"/>\n",
              "    <path d=\"M18.56 5.44l.94 2.06.94-2.06 2.06-.94-2.06-.94-.94-2.06-.94 2.06-2.06.94zm-11 1L8.5 8.5l.94-2.06 2.06-.94-2.06-.94L8.5 2.5l-.94 2.06-2.06.94zm10 10l.94 2.06.94-2.06 2.06-.94-2.06-.94-.94-2.06-.94 2.06-2.06.94z\"/><path d=\"M17.41 7.96l-1.37-1.37c-.4-.4-.92-.59-1.43-.59-.52 0-1.04.2-1.43.59L10.3 9.45l-7.72 7.72c-.78.78-.78 2.05 0 2.83L4 21.41c.39.39.9.59 1.41.59.51 0 1.02-.2 1.41-.59l7.78-7.78 2.81-2.81c.8-.78.8-2.07 0-2.86zM5.41 20L4 18.59l7.72-7.72 1.47 1.35L5.41 20z\"/>\n",
              "  </svg>\n",
              "      </button>\n",
              "      \n",
              "  <style>\n",
              "    .colab-df-container {\n",
              "      display:flex;\n",
              "      flex-wrap:wrap;\n",
              "      gap: 12px;\n",
              "    }\n",
              "\n",
              "    .colab-df-convert {\n",
              "      background-color: #E8F0FE;\n",
              "      border: none;\n",
              "      border-radius: 50%;\n",
              "      cursor: pointer;\n",
              "      display: none;\n",
              "      fill: #1967D2;\n",
              "      height: 32px;\n",
              "      padding: 0 0 0 0;\n",
              "      width: 32px;\n",
              "    }\n",
              "\n",
              "    .colab-df-convert:hover {\n",
              "      background-color: #E2EBFA;\n",
              "      box-shadow: 0px 1px 2px rgba(60, 64, 67, 0.3), 0px 1px 3px 1px rgba(60, 64, 67, 0.15);\n",
              "      fill: #174EA6;\n",
              "    }\n",
              "\n",
              "    [theme=dark] .colab-df-convert {\n",
              "      background-color: #3B4455;\n",
              "      fill: #D2E3FC;\n",
              "    }\n",
              "\n",
              "    [theme=dark] .colab-df-convert:hover {\n",
              "      background-color: #434B5C;\n",
              "      box-shadow: 0px 1px 3px 1px rgba(0, 0, 0, 0.15);\n",
              "      filter: drop-shadow(0px 1px 2px rgba(0, 0, 0, 0.3));\n",
              "      fill: #FFFFFF;\n",
              "    }\n",
              "  </style>\n",
              "\n",
              "      <script>\n",
              "        const buttonEl =\n",
              "          document.querySelector('#df-d34836b1-00af-45aa-91a4-58ccf4f899f5 button.colab-df-convert');\n",
              "        buttonEl.style.display =\n",
              "          google.colab.kernel.accessAllowed ? 'block' : 'none';\n",
              "\n",
              "        async function convertToInteractive(key) {\n",
              "          const element = document.querySelector('#df-d34836b1-00af-45aa-91a4-58ccf4f899f5');\n",
              "          const dataTable =\n",
              "            await google.colab.kernel.invokeFunction('convertToInteractive',\n",
              "                                                     [key], {});\n",
              "          if (!dataTable) return;\n",
              "\n",
              "          const docLinkHtml = 'Like what you see? Visit the ' +\n",
              "            '<a target=\"_blank\" href=https://colab.research.google.com/notebooks/data_table.ipynb>data table notebook</a>'\n",
              "            + ' to learn more about interactive tables.';\n",
              "          element.innerHTML = '';\n",
              "          dataTable['output_type'] = 'display_data';\n",
              "          await google.colab.output.renderOutput(dataTable, element);\n",
              "          const docLink = document.createElement('div');\n",
              "          docLink.innerHTML = docLinkHtml;\n",
              "          element.appendChild(docLink);\n",
              "        }\n",
              "      </script>\n",
              "    </div>\n",
              "  </div>\n",
              "  "
            ]
          },
          "metadata": {},
          "execution_count": 88
        }
      ]
    },
    {
      "cell_type": "code",
      "source": [
        "sns.jointplot(x=\"MEDV\", y=\"AGE\", data=data, kind=\"kde\")\n",
        "plt.suptitle(\"MEDV and AGE\", y=1.02)\n",
        "plt.show()"
      ],
      "metadata": {
        "colab": {
          "base_uri": "https://localhost:8080/",
          "height": 461
        },
        "id": "1XjPbZYa5pCE",
        "outputId": "03714fda-9379-4bc6-885e-41da38660f6c"
      },
      "id": "1XjPbZYa5pCE",
      "execution_count": null,
      "outputs": [
        {
          "output_type": "display_data",
          "data": {
            "text/plain": [
              "<Figure size 432x432 with 3 Axes>"
            ],
            "image/png": "[encoded data removed]"
          },
          "metadata": {
            "needs_background": "light"
          }
        }
      ]
    },
    {
      "cell_type": "code",
      "source": [
        "from scipy import stats\n",
        "x = data[\"MEDV\"]\n",
        "y = data[\"AGE\"]\n",
        "stats.pearsonr(x,y)"
      ],
      "metadata": {
        "colab": {
          "base_uri": "https://localhost:8080/"
        },
        "id": "cD7jNVN7874u",
        "outputId": "884a9ba5-1bb6-46f0-e600-f27d3e946316"
      },
      "id": "cD7jNVN7874u",
      "execution_count": null,
      "outputs": [
        {
          "output_type": "execute_result",
          "data": {
            "text/plain": [
              "(-0.3769545650045963, 1.5699822091877261e-18)"
            ]
          },
          "metadata": {},
          "execution_count": 90
        }
      ]
    },
    {
      "cell_type": "markdown",
      "source": [
        "### 노후와의 정도 와 집값 관계\n",
        "\n",
        "데이터: AGE, MEDV\n",
        "\n",
        "기본적으로 사람은 신축 건물일수록 좋아하고 그에 맞게 가격 또한 비싼 것을 알 수 있습니다. 그래서 그런지 평균보다 낮은 가격들은 주로 주택이 오래된 것들이 주를 이루는 것 같습니다.\n",
        "\n",
        "물론 간혹, 주택 가격이 높고 주택도 오랴된 경우도 있지만 보통 이 경우는 교통편이나 방의 개수 같은 부차적인 원인들이 있기에 증가했다고 추측이 됩니다.\n",
        "\n",
        "즉, 정리하자면 노후와의 정도와 집 값의 관계는 전형적인 음의 상관관계를 띄는 형태이므로 \n",
        "둘의 상관관계는 그래프와 피어슨 상관계수를 통해서 어느정도 관련성이 있다고 판단이 됩니다.\n",
        "\n"
      ],
      "metadata": {
        "id": "UN5lpnlj4GlJ"
      },
      "id": "UN5lpnlj4GlJ"
    },
    {
      "cell_type": "code",
      "source": [
        ""
      ],
      "metadata": {
        "id": "wLKJFf0UKAZn"
      },
      "id": "wLKJFf0UKAZn",
      "execution_count": null,
      "outputs": []
    },
    {
      "cell_type": "markdown",
      "source": [
        "### 직주 근접과 주택 가격과의 관계"
      ],
      "metadata": {
        "id": "m6nrYFzYKAjK"
      },
      "id": "m6nrYFzYKAjK"
    },
    {
      "cell_type": "code",
      "source": [
        "## 직주근접의 확률밀도함수를 그려보겠습니다\n",
        "sns.displot(df['DIS'], kde=True)\n",
        "\n",
        "## 평균과, 중간값으로 수직선을 그려보겠습니다.\n",
        "plt.axvline(df['DIS'].mean(), color='blue')\n",
        "plt.axvline(df['DIS'].median(), color='red')"
      ],
      "metadata": {
        "colab": {
          "base_uri": "https://localhost:8080/",
          "height": 388
        },
        "id": "jRWmtE7YKqvx",
        "outputId": "6dd3968e-6b44-4e27-ba60-ee31b935ef83"
      },
      "id": "jRWmtE7YKqvx",
      "execution_count": null,
      "outputs": [
        {
          "output_type": "execute_result",
          "data": {
            "text/plain": [
              "<matplotlib.lines.Line2D at 0x7f214077bc10>"
            ]
          },
          "metadata": {},
          "execution_count": 91
        },
        {
          "output_type": "display_data",
          "data": {
            "text/plain": [
              "<Figure size 360x360 with 1 Axes>"
            ],
            "image/png": "[encoded data removed]"
          },
          "metadata": {
            "needs_background": "light"
          }
        }
      ]
    },
    {
      "cell_type": "code",
      "source": [
        "import numpy as np\n",
        "\n",
        "how = {\n",
        "    'MEDV': np.mean\n",
        "}\n",
        "\n",
        "df.groupby('DIS').agg( how )"
      ],
      "metadata": {
        "colab": {
          "base_uri": "https://localhost:8080/",
          "height": 455
        },
        "id": "aIWHuRcELJQJ",
        "outputId": "36070318-7028-41a2-f2dc-58f2cb160cb0"
      },
      "id": "aIWHuRcELJQJ",
      "execution_count": null,
      "outputs": [
        {
          "output_type": "execute_result",
          "data": {
            "text/plain": [
              "       MEDV\n",
              "DIS        \n",
              "1.13  50.00\n",
              "1.14  13.80\n",
              "1.17  50.00\n",
              "1.17  13.80\n",
              "1.18  11.90\n",
              "...     ...\n",
              "9.22  21.40\n",
              "9.22  33.00\n",
              "10.59 19.40\n",
              "10.71 21.35\n",
              "12.13 30.10\n",
              "\n",
              "[412 rows x 1 columns]"
            ],
            "text/html": [
              "\n",
              "  <div id=\"df-dd2dc5d0-0979-4d78-8e9c-c15760f7fb4f\">\n",
              "    <div class=\"colab-df-container\">\n",
              "      <div>\n",
              "<style scoped>\n",
              "    .dataframe tbody tr th:only-of-type {\n",
              "        vertical-align: middle;\n",
              "    }\n",
              "\n",
              "    .dataframe tbody tr th {\n",
              "        vertical-align: top;\n",
              "    }\n",
              "\n",
              "    .dataframe thead th {\n",
              "        text-align: right;\n",
              "    }\n",
              "</style>\n",
              "<table border=\"1\" class=\"dataframe\">\n",
              "  <thead>\n",
              "    <tr style=\"text-align: right;\">\n",
              "      <th></th>\n",
              "      <th>MEDV</th>\n",
              "    </tr>\n",
              "    <tr>\n",
              "      <th>DIS</th>\n",
              "      <th></th>\n",
              "    </tr>\n",
              "  </thead>\n",
              "  <tbody>\n",
              "    <tr>\n",
              "      <th>1.13</th>\n",
              "      <td>50.00</td>\n",
              "    </tr>\n",
              "    <tr>\n",
              "      <th>1.14</th>\n",
              "      <td>13.80</td>\n",
              "    </tr>\n",
              "    <tr>\n",
              "      <th>1.17</th>\n",
              "      <td>50.00</td>\n",
              "    </tr>\n",
              "    <tr>\n",
              "      <th>1.17</th>\n",
              "      <td>13.80</td>\n",
              "    </tr>\n",
              "    <tr>\n",
              "      <th>1.18</th>\n",
              "      <td>11.90</td>\n",
              "    </tr>\n",
              "    <tr>\n",
              "      <th>...</th>\n",
              "      <td>...</td>\n",
              "    </tr>\n",
              "    <tr>\n",
              "      <th>9.22</th>\n",
              "      <td>21.40</td>\n",
              "    </tr>\n",
              "    <tr>\n",
              "      <th>9.22</th>\n",
              "      <td>33.00</td>\n",
              "    </tr>\n",
              "    <tr>\n",
              "      <th>10.59</th>\n",
              "      <td>19.40</td>\n",
              "    </tr>\n",
              "    <tr>\n",
              "      <th>10.71</th>\n",
              "      <td>21.35</td>\n",
              "    </tr>\n",
              "    <tr>\n",
              "      <th>12.13</th>\n",
              "      <td>30.10</td>\n",
              "    </tr>\n",
              "  </tbody>\n",
              "</table>\n",
              "<p>412 rows × 1 columns</p>\n",
              "</div>\n",
              "      <button class=\"colab-df-convert\" onclick=\"convertToInteractive('df-dd2dc5d0-0979-4d78-8e9c-c15760f7fb4f')\"\n",
              "              title=\"Convert this dataframe to an interactive table.\"\n",
              "              style=\"display:none;\">\n",
              "        \n",
              "  <svg xmlns=\"http://www.w3.org/2000/svg\" height=\"24px\"viewBox=\"0 0 24 24\"\n",
              "       width=\"24px\">\n",
              "    <path d=\"M0 0h24v24H0V0z\" fill=\"none\"/>\n",
              "    <path d=\"M18.56 5.44l.94 2.06.94-2.06 2.06-.94-2.06-.94-.94-2.06-.94 2.06-2.06.94zm-11 1L8.5 8.5l.94-2.06 2.06-.94-2.06-.94L8.5 2.5l-.94 2.06-2.06.94zm10 10l.94 2.06.94-2.06 2.06-.94-2.06-.94-.94-2.06-.94 2.06-2.06.94z\"/><path d=\"M17.41 7.96l-1.37-1.37c-.4-.4-.92-.59-1.43-.59-.52 0-1.04.2-1.43.59L10.3 9.45l-7.72 7.72c-.78.78-.78 2.05 0 2.83L4 21.41c.39.39.9.59 1.41.59.51 0 1.02-.2 1.41-.59l7.78-7.78 2.81-2.81c.8-.78.8-2.07 0-2.86zM5.41 20L4 18.59l7.72-7.72 1.47 1.35L5.41 20z\"/>\n",
              "  </svg>\n",
              "      </button>\n",
              "      \n",
              "  <style>\n",
              "    .colab-df-container {\n",
              "      display:flex;\n",
              "      flex-wrap:wrap;\n",
              "      gap: 12px;\n",
              "    }\n",
              "\n",
              "    .colab-df-convert {\n",
              "      background-color: #E8F0FE;\n",
              "      border: none;\n",
              "      border-radius: 50%;\n",
              "      cursor: pointer;\n",
              "      display: none;\n",
              "      fill: #1967D2;\n",
              "      height: 32px;\n",
              "      padding: 0 0 0 0;\n",
              "      width: 32px;\n",
              "    }\n",
              "\n",
              "    .colab-df-convert:hover {\n",
              "      background-color: #E2EBFA;\n",
              "      box-shadow: 0px 1px 2px rgba(60, 64, 67, 0.3), 0px 1px 3px 1px rgba(60, 64, 67, 0.15);\n",
              "      fill: #174EA6;\n",
              "    }\n",
              "\n",
              "    [theme=dark] .colab-df-convert {\n",
              "      background-color: #3B4455;\n",
              "      fill: #D2E3FC;\n",
              "    }\n",
              "\n",
              "    [theme=dark] .colab-df-convert:hover {\n",
              "      background-color: #434B5C;\n",
              "      box-shadow: 0px 1px 3px 1px rgba(0, 0, 0, 0.15);\n",
              "      filter: drop-shadow(0px 1px 2px rgba(0, 0, 0, 0.3));\n",
              "      fill: #FFFFFF;\n",
              "    }\n",
              "  </style>\n",
              "\n",
              "      <script>\n",
              "        const buttonEl =\n",
              "          document.querySelector('#df-dd2dc5d0-0979-4d78-8e9c-c15760f7fb4f button.colab-df-convert');\n",
              "        buttonEl.style.display =\n",
              "          google.colab.kernel.accessAllowed ? 'block' : 'none';\n",
              "\n",
              "        async function convertToInteractive(key) {\n",
              "          const element = document.querySelector('#df-dd2dc5d0-0979-4d78-8e9c-c15760f7fb4f');\n",
              "          const dataTable =\n",
              "            await google.colab.kernel.invokeFunction('convertToInteractive',\n",
              "                                                     [key], {});\n",
              "          if (!dataTable) return;\n",
              "\n",
              "          const docLinkHtml = 'Like what you see? Visit the ' +\n",
              "            '<a target=\"_blank\" href=https://colab.research.google.com/notebooks/data_table.ipynb>data table notebook</a>'\n",
              "            + ' to learn more about interactive tables.';\n",
              "          element.innerHTML = '';\n",
              "          dataTable['output_type'] = 'display_data';\n",
              "          await google.colab.output.renderOutput(dataTable, element);\n",
              "          const docLink = document.createElement('div');\n",
              "          docLink.innerHTML = docLinkHtml;\n",
              "          element.appendChild(docLink);\n",
              "        }\n",
              "      </script>\n",
              "    </div>\n",
              "  </div>\n",
              "  "
            ]
          },
          "metadata": {},
          "execution_count": 92
        }
      ]
    },
    {
      "cell_type": "code",
      "source": [
        "sns.jointplot(x=\"MEDV\", y=\"DIS\", data=data, kind=\"hist\")\n",
        "plt.suptitle(\"MEDV and DIS\", y=1.02)\n",
        "plt.show()"
      ],
      "metadata": {
        "colab": {
          "base_uri": "https://localhost:8080/",
          "height": 461
        },
        "id": "SqZn7bWZLJt_",
        "outputId": "b6ca0287-ce80-4306-85d4-cca8715febfc"
      },
      "id": "SqZn7bWZLJt_",
      "execution_count": null,
      "outputs": [
        {
          "output_type": "display_data",
          "data": {
            "text/plain": [
              "<Figure size 432x432 with 3 Axes>"
            ],
            "image/png": "[encoded data removed]"
          },
          "metadata": {
            "needs_background": "light"
          }
        }
      ]
    },
    {
      "cell_type": "markdown",
      "source": [
        "색깔이 진할 수록 많이 분포되어 있음을 의미합니다."
      ],
      "metadata": {
        "id": "1ZO0AhtELggw"
      },
      "id": "1ZO0AhtELggw"
    },
    {
      "cell_type": "code",
      "source": [
        "from scipy import stats\n",
        "x = data[\"MEDV\"]\n",
        "y = data[\"DIS\"]\n",
        "stats.pearsonr(x,y)"
      ],
      "metadata": {
        "colab": {
          "base_uri": "https://localhost:8080/"
        },
        "id": "6iL1osGxLCE5",
        "outputId": "2f305d08-a606-4569-a5b1-a8524d298bdf"
      },
      "id": "6iL1osGxLCE5",
      "execution_count": null,
      "outputs": [
        {
          "output_type": "execute_result",
          "data": {
            "text/plain": [
              "(0.2499287340859039, 1.2066117273368017e-08)"
            ]
          },
          "metadata": {},
          "execution_count": 94
        }
      ]
    },
    {
      "cell_type": "code",
      "source": [
        ""
      ],
      "metadata": {
        "id": "I1r0_2fUR54j"
      },
      "id": "I1r0_2fUR54j",
      "execution_count": null,
      "outputs": []
    },
    {
      "cell_type": "markdown",
      "source": [
        "### 직주근접과 주택가격 관계\n",
        "\n",
        "단순하게 직장과 가까운 주택 가격이 높을 수 있다고 생각을 할 순 있습니다.\n",
        "\n",
        "허나 실제로 보면 거리가 가까울 수록 가격이 낮은 경우가 더 많습니다.\n",
        "\n",
        "그 이유는 모두가 같은 지역에 직장을 갖고 있지 않습니다. 당연히 다양한 지역에서 일을 할텐데 그 모든 직장 지역과 이 집과의 거리를 계산해서 통계를 내는 게 주택 가격에 유의미한 결과를 내진 못한 것 같습니다."
      ],
      "metadata": {
        "id": "TbP0dyB5LxlJ"
      },
      "id": "TbP0dyB5LxlJ"
    },
    {
      "cell_type": "code",
      "source": [
        ""
      ],
      "metadata": {
        "id": "vT6-ZmS2Rczf"
      },
      "id": "vT6-ZmS2Rczf",
      "execution_count": null,
      "outputs": []
    },
    {
      "cell_type": "markdown",
      "source": [
        "## 가설 확인 정리\n",
        "\n",
        "1. 평수에 따라서 가격 차이는 있지만 양의 상관 관계를 띄진 않으므로 유의미하진 않다.\n",
        "\n",
        "2. 노후된 주택과 주택 가격은 큰 연광성이 있다\n",
        "\n",
        "3. 직장과 거리가 가까울수록 좋긴 하겠지만 모든 사람이 같은 지역에서 일을 하는 게 아니므로 너무 광범위한 범위 설정이다."
      ],
      "metadata": {
        "id": "RQSI43ueSS65"
      },
      "id": "RQSI43ueSS65"
    },
    {
      "cell_type": "code",
      "source": [
        ""
      ],
      "metadata": {
        "id": "Pbx_eV-WSUA4"
      },
      "id": "Pbx_eV-WSUA4",
      "execution_count": null,
      "outputs": []
    },
    {
      "cell_type": "markdown",
      "source": [
        "### 집 값 예측\n",
        "\n",
        "집 값에 영향을 줄 수 있는 것들은 무엇이 있을까요?\n",
        "\n",
        "데이터 분석 시 유의미한 것이 뭐가 있을지 예측하여 찾아보도록 하겠습니다. 당연히, 아래 분석을 진행하다보면 바뀔 수 있습니다.\n",
        "\n",
        "TOP4를 잡았습니다.\n",
        "\n",
        "1. CRIM :1인당 범죄율이 높을 수록 집 값은 낮아지나(X)\n",
        "\n",
        "논리적으로는 그럴 수 있지만 이 데이터에선 범죄율이 극히 낮기에 판단 불가\n",
        "\n",
        "2. AGE: 주택 나이(건설 시기) 많을 수록 집 값은 낮아진다(0)\n",
        "\n",
        "노후 주택일수록 시설관리 부분에서 취약하기에 선호도가 낮은 것을 볼 수 있고 그것이 가격과 직결합니다.\n",
        "\n",
        "3. RAD: 교통편이 좋을 수록 비싸다(O)\n",
        "\n",
        "고르게 분포가 되어있고 이건 주택을 처음 설계할 도로공사의 마음이라 참 어렵네요.\n",
        "\n",
        "무튼, 애시당초 교통편이 괜찮은 곳에 집을 설계했기에 조금 애매한 감이 있지만 확실한 것은 교통이 안 좋게되면 주택 가격은 평균 이하로 떨어지는 것은 맞는 것 같습니다.\n",
        "\n",
        "4. RM: 방의 수가 많을 수록 값이 커진다(O)\n",
        "\n",
        "방이 많을수록 가용범위가 넓기에 선호도가 높다는 객관적인 사실을 증명하는 것 같습니다.\n",
        "\n",
        "<br>\n",
        "\n",
        "위와 같이 잡은 이유는 저희가 항상 집을 고르는 1선정 기준이 치안, 낙후되지 않은 시설, 교통시설 ,,방의 수이라고 생각해서 골랐습니다.\n",
        "\n",
        "기준표를 마친 후에 추가적으로 해보겠습니다.\n",
        "\n",
        "위의 내용, 아래 내용과 겹치는 부분인 AGE와 RM은 빼고 하겠습니다."
      ],
      "metadata": {
        "id": "cYDTmFEXoket"
      },
      "id": "cYDTmFEXoket"
    },
    {
      "cell_type": "code",
      "source": [
        ""
      ],
      "metadata": {
        "id": "DKjM0lsFX2nS"
      },
      "id": "DKjM0lsFX2nS",
      "execution_count": null,
      "outputs": []
    },
    {
      "cell_type": "markdown",
      "source": [
        "### CRIM"
      ],
      "metadata": {
        "id": "avjsqA_9X3wO"
      },
      "id": "avjsqA_9X3wO"
    },
    {
      "cell_type": "code",
      "source": [
        "## 직주근접의 확률밀도함수를 그려보겠습니다\n",
        "sns.displot(df['CRIM'], kde=True)\n",
        "\n",
        "## 평균과, 중간값으로 수직선을 그려보겠습니다.\n",
        "plt.axvline(df['CRIM'].mean(), color='blue')\n",
        "plt.axvline(df['CRIM'].median(), color='red')"
      ],
      "metadata": {
        "colab": {
          "base_uri": "https://localhost:8080/",
          "height": 388
        },
        "id": "4kdXPA7vX2q3",
        "outputId": "16b2079a-b2de-4e65-b844-f846814f14c4"
      },
      "id": "4kdXPA7vX2q3",
      "execution_count": null,
      "outputs": [
        {
          "output_type": "execute_result",
          "data": {
            "text/plain": [
              "<matplotlib.lines.Line2D at 0x7f21428bb110>"
            ]
          },
          "metadata": {},
          "execution_count": 95
        },
        {
          "output_type": "display_data",
          "data": {
            "text/plain": [
              "<Figure size 360x360 with 1 Axes>"
            ],
            "image/png": "[encoded data removed]"
          },
          "metadata": {
            "needs_background": "light"
          }
        }
      ]
    },
    {
      "cell_type": "code",
      "source": [
        "sns.jointplot(x=\"MEDV\", y=\"CRIM\", data=data, kind=\"hex\")\n",
        "plt.suptitle(\"MEDV and CRIM\", y=1.02)\n",
        "plt.show()"
      ],
      "metadata": {
        "colab": {
          "base_uri": "https://localhost:8080/",
          "height": 461
        },
        "id": "YZA1W7WdYJUl",
        "outputId": "de8b2b97-ac92-4609-aada-1d26bad7b00e"
      },
      "id": "YZA1W7WdYJUl",
      "execution_count": null,
      "outputs": [
        {
          "output_type": "display_data",
          "data": {
            "text/plain": [
              "<Figure size 432x432 with 3 Axes>"
            ],
            "image/png": "[encoded data removed]"
          },
          "metadata": {
            "needs_background": "light"
          }
        }
      ]
    },
    {
      "cell_type": "code",
      "source": [
        ""
      ],
      "metadata": {
        "id": "Y8ezFeozZVS8"
      },
      "id": "Y8ezFeozZVS8",
      "execution_count": null,
      "outputs": []
    },
    {
      "cell_type": "markdown",
      "source": [
        "### RAD\n"
      ],
      "metadata": {
        "id": "lmNS_ZwOYW_b"
      },
      "id": "lmNS_ZwOYW_b"
    },
    {
      "cell_type": "code",
      "source": [
        "## 교통편의 확률밀도함수를 그려보겠습니다\n",
        "sns.displot(df['RAD'], kde=True)\n",
        "\n",
        "## 평균과, 중간값으로 수직선을 그려보겠습니다.\n",
        "plt.axvline(df['RAD'].mean(), color='blue')\n",
        "plt.axvline(df['RAD'].median(), color='red')"
      ],
      "metadata": {
        "colab": {
          "base_uri": "https://localhost:8080/",
          "height": 388
        },
        "id": "pCMb79ZlRlzL",
        "outputId": "e74fd5a3-04c5-4700-b303-8449dbcbb0cf"
      },
      "id": "pCMb79ZlRlzL",
      "execution_count": null,
      "outputs": [
        {
          "output_type": "execute_result",
          "data": {
            "text/plain": [
              "<matplotlib.lines.Line2D at 0x7f21400eaf10>"
            ]
          },
          "metadata": {},
          "execution_count": 97
        },
        {
          "output_type": "display_data",
          "data": {
            "text/plain": [
              "<Figure size 360x360 with 1 Axes>"
            ],
            "image/png": "[encoded data removed]"
          },
          "metadata": {
            "needs_background": "light"
          }
        }
      ]
    },
    {
      "cell_type": "code",
      "source": [
        "sns.jointplot(x=\"MEDV\", y=\"RAD\", data=data, kind=\"reg\")\n",
        "plt.suptitle(\"MEDV and RAD\", y=1.02)\n",
        "plt.show()"
      ],
      "metadata": {
        "colab": {
          "base_uri": "https://localhost:8080/",
          "height": 461
        },
        "id": "AO7qIL6VZdzT",
        "outputId": "c7668608-fc32-4c6c-8bb3-56a5065cd977"
      },
      "id": "AO7qIL6VZdzT",
      "execution_count": null,
      "outputs": [
        {
          "output_type": "display_data",
          "data": {
            "text/plain": [
              "<Figure size 432x432 with 3 Axes>"
            ],
            "image/png": "[encoded data removed]"
          },
          "metadata": {
            "needs_background": "light"
          }
        }
      ]
    },
    {
      "cell_type": "code",
      "source": [
        ""
      ],
      "metadata": {
        "id": "WE4Z-QnoZkQv"
      },
      "id": "WE4Z-QnoZkQv",
      "execution_count": null,
      "outputs": []
    },
    {
      "cell_type": "markdown",
      "source": [
        "## 주탁 가격과 다른 컬럼의 상관관계가 궁금해졌습니다"
      ],
      "metadata": {
        "id": "86Z4vK6aZj0y"
      },
      "id": "86Z4vK6aZj0y"
    },
    {
      "cell_type": "code",
      "source": [
        "# MEDV에 대한 CORR\n",
        "corr_data = df.corr()['MEDV']\n",
        "corr_data"
      ],
      "metadata": {
        "colab": {
          "base_uri": "https://localhost:8080/"
        },
        "id": "Logn4xkQV93V",
        "outputId": "d41c7513-81d2-4ea4-f964-33b0bec68928"
      },
      "id": "Logn4xkQV93V",
      "execution_count": null,
      "outputs": [
        {
          "output_type": "execute_result",
          "data": {
            "text/plain": [
              "CRIM        -0.39\n",
              "ZN           0.36\n",
              "INDUS       -0.48\n",
              "CHAS         0.18\n",
              "NOX         -0.43\n",
              "RM           0.70\n",
              "AGE         -0.38\n",
              "DIS          0.25\n",
              "RAD         -0.38\n",
              "TAX         -0.47\n",
              "PTRATIO     -0.51\n",
              "B            0.33\n",
              "LSTAT       -0.74\n",
              "MEDV         1.00\n",
              "CAT. MEDV    0.79\n",
              "Name: MEDV, dtype: float64"
            ]
          },
          "metadata": {},
          "execution_count": 99
        }
      ]
    },
    {
      "cell_type": "code",
      "source": [
        "plt.figure(figsize=(20,20))\n",
        "sns.heatmap(corr, cbar=True, square= True, fmt='.1f', annot=True, \n",
        "            annot_kws={'size':15}, cmap='Greens')"
      ],
      "metadata": {
        "colab": {
          "base_uri": "https://localhost:8080/",
          "height": 1000
        },
        "id": "FmgUMWE5_Qm7",
        "outputId": "a66f90e7-99d4-4c67-e2b5-159faf3647c7"
      },
      "id": "FmgUMWE5_Qm7",
      "execution_count": null,
      "outputs": [
        {
          "output_type": "execute_result",
          "data": {
            "text/plain": [
              "<matplotlib.axes._subplots.AxesSubplot at 0x7f2142699710>"
            ]
          },
          "metadata": {},
          "execution_count": 100
        },
        {
          "output_type": "display_data",
          "data": {
            "text/plain": [
              "<Figure size 1440x1440 with 2 Axes>"
            ],
            "image/png": "[encoded data removed]"
          },
          "metadata": {
            "needs_background": "light"
          }
        }
      ]
    },
    {
      "cell_type": "code",
      "source": [
        "#음과 양이 섞여있으므로 절댓값으로 정리하겠습니다.\n",
        "\n",
        "# 절대값을 씌우고 정렬\n",
        "sorted_corr_data = corr_data.abs().sort_values(ascending=False)\n",
        "sorted_corr_data"
      ],
      "metadata": {
        "colab": {
          "base_uri": "https://localhost:8080/"
        },
        "id": "DVA86JBwWB7_",
        "outputId": "a6918bc2-5a1d-456b-e602-6b66c6120711"
      },
      "id": "DVA86JBwWB7_",
      "execution_count": null,
      "outputs": [
        {
          "output_type": "execute_result",
          "data": {
            "text/plain": [
              "MEDV        1.00\n",
              "CAT. MEDV   0.79\n",
              "LSTAT       0.74\n",
              "RM          0.70\n",
              "PTRATIO     0.51\n",
              "INDUS       0.48\n",
              "TAX         0.47\n",
              "NOX         0.43\n",
              "CRIM        0.39\n",
              "RAD         0.38\n",
              "AGE         0.38\n",
              "ZN          0.36\n",
              "B           0.33\n",
              "DIS         0.25\n",
              "CHAS        0.18\n",
              "Name: MEDV, dtype: float64"
            ]
          },
          "metadata": {},
          "execution_count": 101
        }
      ]
    },
    {
      "cell_type": "markdown",
      "source": [
        "### 제일 높은 상관관계\n",
        "\n",
        "TOP1 : RM - 방의 개수\n",
        "\n",
        "TOP2: LSTAT - 하위계층\n",
        "\n",
        "TOP3: PTRATIO - 학생-교사비율\n",
        "\n",
        "\n",
        "실험은 하지 않았지만 상관관계가 높기에 가장 주택 가격에 영향을 끼치는 요인이라고 할 수 있습니다.\n",
        "\n",
        "<br>\n",
        "이러한 결과가 나온 이유는 근본적으로 방의 개수가 많다는 것은 가용범위가 넓기 때문에 선호도가 높아서 주택 가격에 영향을 주는 것 같습니다.\n",
        "\n",
        "그리고, LSTAT같은 경우는 미국의 기준으로 하위계층이 많을 수록 살인, 마약, 등 치안을 괴롭히는 강력 범죄가 많기 때문에 비율이 높을 수록 당연히 가격은 낮아질 것입니다.\n",
        "\n",
        "위의 범죄율(CRIM)은 세분화가 되어있지 않습니다. 단순 교통사고도 범죄라고 치부할 수 있을 정도로 카테고리화가 안되었기에 유의마한 지표가 되지 못한 것 같습니다.\n",
        "\n",
        "끝으로, 학생과 교사는 본질적으로 신원을 보장해주는 안정적인 직군이기에 높을수록 선호하는 것 같습니다. 학업 분위기 조성인 것이죠"
      ],
      "metadata": {
        "id": "SHiuuP1XBB9B"
      },
      "id": "SHiuuP1XBB9B"
    },
    {
      "cell_type": "code",
      "source": [
        ""
      ],
      "metadata": {
        "id": "EQDDJUS6Yzcf"
      },
      "id": "EQDDJUS6Yzcf",
      "execution_count": null,
      "outputs": []
    },
    {
      "cell_type": "markdown",
      "source": [
        "### 회고\n",
        "\n",
        "우리가 익히 들은 주택 가격과 관련된 여러 요소들을 비교한 것은 흥미로웟습니다.\n",
        "\n",
        "그리고, 관용적으로 주택 가격의 증가 감소의 영향을 끼치는 것들이 실제 분석을 통해서 본 결과 비단 그것 하나만이 아니라 여러 데이터의 합집합을 통해서 도출이 되어왔다는 것을 알게 되어서 좋았습니다.\n",
        "\n",
        "그러나 한 가지 의문이 든건 너무나 전사적으로만 분성을 했기에  p-value값들이 너무 커서 이것이 정말로 상관관계를 분석할 수 있는 데이터와 지표였는지는 고려해봐야할 것 같습니다.\n",
        "\n",
        "\n",
        "즉, 주택의 가격은 한 가지 데이터만으로 인해서 변경되는 것보단 여러 데이터의 복합적 이유로 된다는 사실을 알게 되어 여러 데이터를 합해서 상관계수를 구하는 방법을 조금 찾아봐야할 것 같습니다.\n",
        "\n",
        "또한, 데이터에 따라서 객관적인 기준들이 맞지 않을 수 있다는 것을 알게 되어서 좋았습니다.\n",
        "\n",
        "고로, 객관적 기준보단 데이터에 맞는 기준으로 가설을 설정하면 보다 좋은 설계가 될 수 있기에 데이터가 조금 더 방대해지면 A/B TEST를 도입할 것 같습니다.\n",
        "\n",
        "객관적 기준을 기반으로 만든 것:A\n",
        "데이터 기준으로 만든 것:B\n",
        "\n",
        "이렇게 하여서 데이터를 분석할 것 같습니다."
      ],
      "metadata": {
        "id": "6ZIz_yak9di1"
      },
      "id": "6ZIz_yak9di1"
    },
    {
      "cell_type": "code",
      "source": [
        ""
      ],
      "metadata": {
        "id": "rDF--HYvXUZI"
      },
      "id": "rDF--HYvXUZI",
      "execution_count": null,
      "outputs": []
    },
    {
      "cell_type": "markdown",
      "id": "30e17662",
      "metadata": {
        "id": "30e17662"
      },
      "source": [
        "<div class=\"alert alert-block alert-success\">\n",
        "<b>채점기준</b> <br>\n",
        "<ul>\n",
        "    <li>데이터를 3건이 상의 변수를 분석했는가? </li>\n",
        "    <li>데이터를 분류한 기준을 논리적으로 정리했는가</li>       \n",
        "    <li>데이터를 차트로 시각화했는가? </li>\n",
        "    <li>결과를 분석해서 정리했는가? </li>       \n",
        "    <li>심도있게 분석했는가? </li>     \n",
        "</div>"
      ]
    },
    {
      "cell_type": "markdown",
      "source": [
        "### 여기서부턴 제 취미로 회귀 모델을 만들어 보았습니다"
      ],
      "metadata": {
        "id": "Rqykb-Vpas2Z"
      },
      "id": "Rqykb-Vpas2Z"
    },
    {
      "cell_type": "code",
      "source": [
        "import pandas as pd\n",
        "import numpy as np\n",
        "from sklearn import metrics\n",
        "import matplotlib.pyplot as plt\n",
        "import seaborn as sns\n",
        "%matplotlib inline"
      ],
      "metadata": {
        "id": "yyckHBvmg_dX"
      },
      "id": "yyckHBvmg_dX",
      "execution_count": null,
      "outputs": []
    },
    {
      "cell_type": "code",
      "source": [
        "#gogle코랩 연동\n",
        "from google.colab import drive \n",
        "drive.mount('/content/gdrive/')"
      ],
      "metadata": {
        "colab": {
          "base_uri": "https://localhost:8080/"
        },
        "id": "pE40lyzzhCsz",
        "outputId": "ab2db4d6-a6c8-4038-d266-19dbb4c21a8b"
      },
      "id": "pE40lyzzhCsz",
      "execution_count": null,
      "outputs": [
        {
          "output_type": "stream",
          "name": "stdout",
          "text": [
            "Drive already mounted at /content/gdrive/; to attempt to forcibly remount, call drive.mount(\"/content/gdrive/\", force_remount=True).\n"
          ]
        }
      ]
    },
    {
      "cell_type": "code",
      "source": [
        "\n",
        "data = '/content/gdrive/MyDrive/BostonHousing.csv'\n",
        "data1 = pd.read_csv('/content/gdrive/MyDrive/BostonHousing.csv')\n",
        "data1.head()"
      ],
      "metadata": {
        "colab": {
          "base_uri": "https://localhost:8080/",
          "height": 206
        },
        "id": "D2xcdENPaspT",
        "outputId": "5d29cc7c-438d-4308-bce5-c21a2b3540b4"
      },
      "id": "D2xcdENPaspT",
      "execution_count": null,
      "outputs": [
        {
          "output_type": "execute_result",
          "data": {
            "text/plain": [
              "   CRIM    ZN  INDUS  CHAS  NOX   RM   AGE  DIS  RAD  TAX  PTRATIO      B  \\\n",
              "0  0.01 18.00   2.31     0 0.54 6.58 65.20 4.09    1  296    15.30 396.90   \n",
              "1  0.03  0.00   7.07     0 0.47 6.42 78.90 4.97    2  242    17.80 396.90   \n",
              "2  0.03  0.00   7.07     0 0.47 7.18 61.10 4.97    2  242    17.80 392.83   \n",
              "3  0.03  0.00   2.18     0 0.46 7.00 45.80 6.06    3  222    18.70 394.63   \n",
              "4  0.07  0.00   2.18     0 0.46 7.15 54.20 6.06    3  222    18.70 396.90   \n",
              "\n",
              "   LSTAT  MEDV  CAT. MEDV  \n",
              "0   4.98 24.00          0  \n",
              "1   9.14 21.60          0  \n",
              "2   4.03 34.70          1  \n",
              "3   2.94 33.40          1  \n",
              "4   5.33 36.20          1  "
            ],
            "text/html": [
              "\n",
              "  <div id=\"df-66abe6bf-45e7-443b-9dd0-c32ca6881a68\">\n",
              "    <div class=\"colab-df-container\">\n",
              "      <div>\n",
              "<style scoped>\n",
              "    .dataframe tbody tr th:only-of-type {\n",
              "        vertical-align: middle;\n",
              "    }\n",
              "\n",
              "    .dataframe tbody tr th {\n",
              "        vertical-align: top;\n",
              "    }\n",
              "\n",
              "    .dataframe thead th {\n",
              "        text-align: right;\n",
              "    }\n",
              "</style>\n",
              "<table border=\"1\" class=\"dataframe\">\n",
              "  <thead>\n",
              "    <tr style=\"text-align: right;\">\n",
              "      <th></th>\n",
              "      <th>CRIM</th>\n",
              "      <th>ZN</th>\n",
              "      <th>INDUS</th>\n",
              "      <th>CHAS</th>\n",
              "      <th>NOX</th>\n",
              "      <th>RM</th>\n",
              "      <th>AGE</th>\n",
              "      <th>DIS</th>\n",
              "      <th>RAD</th>\n",
              "      <th>TAX</th>\n",
              "      <th>PTRATIO</th>\n",
              "      <th>B</th>\n",
              "      <th>LSTAT</th>\n",
              "      <th>MEDV</th>\n",
              "      <th>CAT. MEDV</th>\n",
              "    </tr>\n",
              "  </thead>\n",
              "  <tbody>\n",
              "    <tr>\n",
              "      <th>0</th>\n",
              "      <td>0.01</td>\n",
              "      <td>18.00</td>\n",
              "      <td>2.31</td>\n",
              "      <td>0</td>\n",
              "      <td>0.54</td>\n",
              "      <td>6.58</td>\n",
              "      <td>65.20</td>\n",
              "      <td>4.09</td>\n",
              "      <td>1</td>\n",
              "      <td>296</td>\n",
              "      <td>15.30</td>\n",
              "      <td>396.90</td>\n",
              "      <td>4.98</td>\n",
              "      <td>24.00</td>\n",
              "      <td>0</td>\n",
              "    </tr>\n",
              "    <tr>\n",
              "      <th>1</th>\n",
              "      <td>0.03</td>\n",
              "      <td>0.00</td>\n",
              "      <td>7.07</td>\n",
              "      <td>0</td>\n",
              "      <td>0.47</td>\n",
              "      <td>6.42</td>\n",
              "      <td>78.90</td>\n",
              "      <td>4.97</td>\n",
              "      <td>2</td>\n",
              "      <td>242</td>\n",
              "      <td>17.80</td>\n",
              "      <td>396.90</td>\n",
              "      <td>9.14</td>\n",
              "      <td>21.60</td>\n",
              "      <td>0</td>\n",
              "    </tr>\n",
              "    <tr>\n",
              "      <th>2</th>\n",
              "      <td>0.03</td>\n",
              "      <td>0.00</td>\n",
              "      <td>7.07</td>\n",
              "      <td>0</td>\n",
              "      <td>0.47</td>\n",
              "      <td>7.18</td>\n",
              "      <td>61.10</td>\n",
              "      <td>4.97</td>\n",
              "      <td>2</td>\n",
              "      <td>242</td>\n",
              "      <td>17.80</td>\n",
              "      <td>392.83</td>\n",
              "      <td>4.03</td>\n",
              "      <td>34.70</td>\n",
              "      <td>1</td>\n",
              "    </tr>\n",
              "    <tr>\n",
              "      <th>3</th>\n",
              "      <td>0.03</td>\n",
              "      <td>0.00</td>\n",
              "      <td>2.18</td>\n",
              "      <td>0</td>\n",
              "      <td>0.46</td>\n",
              "      <td>7.00</td>\n",
              "      <td>45.80</td>\n",
              "      <td>6.06</td>\n",
              "      <td>3</td>\n",
              "      <td>222</td>\n",
              "      <td>18.70</td>\n",
              "      <td>394.63</td>\n",
              "      <td>2.94</td>\n",
              "      <td>33.40</td>\n",
              "      <td>1</td>\n",
              "    </tr>\n",
              "    <tr>\n",
              "      <th>4</th>\n",
              "      <td>0.07</td>\n",
              "      <td>0.00</td>\n",
              "      <td>2.18</td>\n",
              "      <td>0</td>\n",
              "      <td>0.46</td>\n",
              "      <td>7.15</td>\n",
              "      <td>54.20</td>\n",
              "      <td>6.06</td>\n",
              "      <td>3</td>\n",
              "      <td>222</td>\n",
              "      <td>18.70</td>\n",
              "      <td>396.90</td>\n",
              "      <td>5.33</td>\n",
              "      <td>36.20</td>\n",
              "      <td>1</td>\n",
              "    </tr>\n",
              "  </tbody>\n",
              "</table>\n",
              "</div>\n",
              "      <button class=\"colab-df-convert\" onclick=\"convertToInteractive('df-66abe6bf-45e7-443b-9dd0-c32ca6881a68')\"\n",
              "              title=\"Convert this dataframe to an interactive table.\"\n",
              "              style=\"display:none;\">\n",
              "        \n",
              "  <svg xmlns=\"http://www.w3.org/2000/svg\" height=\"24px\"viewBox=\"0 0 24 24\"\n",
              "       width=\"24px\">\n",
              "    <path d=\"M0 0h24v24H0V0z\" fill=\"none\"/>\n",
              "    <path d=\"M18.56 5.44l.94 2.06.94-2.06 2.06-.94-2.06-.94-.94-2.06-.94 2.06-2.06.94zm-11 1L8.5 8.5l.94-2.06 2.06-.94-2.06-.94L8.5 2.5l-.94 2.06-2.06.94zm10 10l.94 2.06.94-2.06 2.06-.94-2.06-.94-.94-2.06-.94 2.06-2.06.94z\"/><path d=\"M17.41 7.96l-1.37-1.37c-.4-.4-.92-.59-1.43-.59-.52 0-1.04.2-1.43.59L10.3 9.45l-7.72 7.72c-.78.78-.78 2.05 0 2.83L4 21.41c.39.39.9.59 1.41.59.51 0 1.02-.2 1.41-.59l7.78-7.78 2.81-2.81c.8-.78.8-2.07 0-2.86zM5.41 20L4 18.59l7.72-7.72 1.47 1.35L5.41 20z\"/>\n",
              "  </svg>\n",
              "      </button>\n",
              "      \n",
              "  <style>\n",
              "    .colab-df-container {\n",
              "      display:flex;\n",
              "      flex-wrap:wrap;\n",
              "      gap: 12px;\n",
              "    }\n",
              "\n",
              "    .colab-df-convert {\n",
              "      background-color: #E8F0FE;\n",
              "      border: none;\n",
              "      border-radius: 50%;\n",
              "      cursor: pointer;\n",
              "      display: none;\n",
              "      fill: #1967D2;\n",
              "      height: 32px;\n",
              "      padding: 0 0 0 0;\n",
              "      width: 32px;\n",
              "    }\n",
              "\n",
              "    .colab-df-convert:hover {\n",
              "      background-color: #E2EBFA;\n",
              "      box-shadow: 0px 1px 2px rgba(60, 64, 67, 0.3), 0px 1px 3px 1px rgba(60, 64, 67, 0.15);\n",
              "      fill: #174EA6;\n",
              "    }\n",
              "\n",
              "    [theme=dark] .colab-df-convert {\n",
              "      background-color: #3B4455;\n",
              "      fill: #D2E3FC;\n",
              "    }\n",
              "\n",
              "    [theme=dark] .colab-df-convert:hover {\n",
              "      background-color: #434B5C;\n",
              "      box-shadow: 0px 1px 3px 1px rgba(0, 0, 0, 0.15);\n",
              "      filter: drop-shadow(0px 1px 2px rgba(0, 0, 0, 0.3));\n",
              "      fill: #FFFFFF;\n",
              "    }\n",
              "  </style>\n",
              "\n",
              "      <script>\n",
              "        const buttonEl =\n",
              "          document.querySelector('#df-66abe6bf-45e7-443b-9dd0-c32ca6881a68 button.colab-df-convert');\n",
              "        buttonEl.style.display =\n",
              "          google.colab.kernel.accessAllowed ? 'block' : 'none';\n",
              "\n",
              "        async function convertToInteractive(key) {\n",
              "          const element = document.querySelector('#df-66abe6bf-45e7-443b-9dd0-c32ca6881a68');\n",
              "          const dataTable =\n",
              "            await google.colab.kernel.invokeFunction('convertToInteractive',\n",
              "                                                     [key], {});\n",
              "          if (!dataTable) return;\n",
              "\n",
              "          const docLinkHtml = 'Like what you see? Visit the ' +\n",
              "            '<a target=\"_blank\" href=https://colab.research.google.com/notebooks/data_table.ipynb>data table notebook</a>'\n",
              "            + ' to learn more about interactive tables.';\n",
              "          element.innerHTML = '';\n",
              "          dataTable['output_type'] = 'display_data';\n",
              "          await google.colab.output.renderOutput(dataTable, element);\n",
              "          const docLink = document.createElement('div');\n",
              "          docLink.innerHTML = docLinkHtml;\n",
              "          element.appendChild(docLink);\n",
              "        }\n",
              "      </script>\n",
              "    </div>\n",
              "  </div>\n",
              "  "
            ]
          },
          "metadata": {},
          "execution_count": 104
        }
      ]
    },
    {
      "cell_type": "code",
      "source": [
        "#!pip install lazypredict"
      ],
      "metadata": {
        "id": "3Y7zdzXXfKjv"
      },
      "id": "3Y7zdzXXfKjv",
      "execution_count": null,
      "outputs": []
    },
    {
      "cell_type": "code",
      "source": [
        "from lazypredict.Supervised import LazyRegressor\n",
        "from sklearn import datasets\n",
        "from sklearn.utils import shuffle\n",
        "import numpy as np\n",
        "\n",
        "boston = datasets.load_boston()\n",
        "X, y = shuffle(boston.data, boston.target, random_state=13)\n",
        "X = X.astype(np.float32)\n",
        "\n",
        "offset = int(X.shape[0] * 0.9)\n",
        "\n",
        "X_train, y_train = X[:offset], y[:offset]\n",
        "X_test, y_test = X[offset:], y[offset:]\n",
        "\n",
        "reg = LazyRegressor(verbose=0, ignore_warnings=False, custom_metric=None)\n",
        "models, predictions = reg.fit(X_train, X_test, y_train, y_test)\n",
        "\n",
        "print(models)"
      ],
      "metadata": {
        "colab": {
          "base_uri": "https://localhost:8080/"
        },
        "id": "RGUff2cQhGJh",
        "outputId": "5b0239e5-9a1e-4277-82c9-9524f863fe35"
      },
      "id": "RGUff2cQhGJh",
      "execution_count": null,
      "outputs": [
        {
          "output_type": "stream",
          "name": "stderr",
          "text": [
            "100%|██████████| 42/42 [00:03<00:00, 12.33it/s]"
          ]
        },
        {
          "output_type": "stream",
          "name": "stdout",
          "text": [
            "                               Adjusted R-Squared  R-Squared  RMSE  Time Taken\n",
            "Model                                                                         \n",
            "SVR                                          0.83       0.88  2.62        0.03\n",
            "BaggingRegressor                             0.83       0.88  2.63        0.05\n",
            "NuSVR                                        0.82       0.86  2.76        0.04\n",
            "RandomForestRegressor                        0.81       0.86  2.78        0.37\n",
            "XGBRegressor                                 0.81       0.86  2.79        0.09\n",
            "GradientBoostingRegressor                    0.81       0.86  2.84        0.17\n",
            "ExtraTreesRegressor                          0.79       0.84  2.98        0.22\n",
            "AdaBoostRegressor                            0.78       0.83  3.04        0.11\n",
            "HistGradientBoostingRegressor                0.77       0.83  3.06        0.33\n",
            "PoissonRegressor                             0.77       0.83  3.11        0.02\n",
            "LGBMRegressor                                0.77       0.83  3.11        0.07\n",
            "KNeighborsRegressor                          0.77       0.83  3.12        0.02\n",
            "DecisionTreeRegressor                        0.65       0.74  3.79        0.01\n",
            "MLPRegressor                                 0.65       0.74  3.80        1.07\n",
            "HuberRegressor                               0.64       0.74  3.84        0.02\n",
            "GammaRegressor                               0.64       0.73  3.88        0.01\n",
            "LinearSVR                                    0.62       0.72  3.96        0.01\n",
            "RidgeCV                                      0.62       0.72  3.97        0.01\n",
            "BayesianRidge                                0.62       0.72  3.97        0.01\n",
            "Ridge                                        0.62       0.72  3.97        0.01\n",
            "TransformedTargetRegressor                   0.62       0.72  3.97        0.01\n",
            "LinearRegression                             0.62       0.72  3.97        0.01\n",
            "ElasticNetCV                                 0.62       0.72  3.98        0.08\n",
            "LassoCV                                      0.62       0.72  3.98        0.08\n",
            "LassoLarsIC                                  0.62       0.72  3.98        0.02\n",
            "LassoLarsCV                                  0.62       0.72  3.98        0.04\n",
            "Lars                                         0.61       0.72  3.99        0.03\n",
            "LarsCV                                       0.61       0.71  4.02        0.06\n",
            "SGDRegressor                                 0.60       0.70  4.07        0.02\n",
            "TweedieRegressor                             0.59       0.70  4.12        0.01\n",
            "GeneralizedLinearRegressor                   0.59       0.70  4.12        0.03\n",
            "ElasticNet                                   0.58       0.69  4.16        0.01\n",
            "Lasso                                        0.54       0.66  4.35        0.03\n",
            "RANSACRegressor                              0.53       0.65  4.41        0.08\n",
            "OrthogonalMatchingPursuitCV                  0.45       0.59  4.78        0.04\n",
            "PassiveAggressiveRegressor                   0.37       0.54  5.09        0.02\n",
            "GaussianProcessRegressor                     0.23       0.43  5.65        0.04\n",
            "OrthogonalMatchingPursuit                    0.16       0.38  5.89        0.03\n",
            "ExtraTreeRegressor                           0.08       0.32  6.17        0.01\n",
            "DummyRegressor                              -0.38      -0.02  7.56        0.01\n",
            "LassoLars                                   -0.38      -0.02  7.56        0.02\n",
            "KernelRidge                                -11.50      -8.25 22.74        0.02\n"
          ]
        },
        {
          "output_type": "stream",
          "name": "stderr",
          "text": [
            "\n"
          ]
        }
      ]
    },
    {
      "cell_type": "markdown",
      "source": [
        "## 위의 모델을 쓸 경우 나올 예측입니다. 실제로 한 번 해보겠습니다"
      ],
      "metadata": {
        "id": "DjOe5uROiJv0"
      },
      "id": "DjOe5uROiJv0"
    },
    {
      "cell_type": "code",
      "source": [
        "# 독립변수와 타겟 데이터 분류\n",
        "X = data1.drop(['MEDV'], axis = 1)\n",
        "Y = data1['MEDV']"
      ],
      "metadata": {
        "id": "ZE14NCuJbOgC"
      },
      "id": "ZE14NCuJbOgC",
      "execution_count": null,
      "outputs": []
    },
    {
      "cell_type": "code",
      "source": [
        ""
      ],
      "metadata": {
        "id": "WGH1_jRlgoGV"
      },
      "id": "WGH1_jRlgoGV",
      "execution_count": null,
      "outputs": []
    },
    {
      "cell_type": "code",
      "source": [
        "from sklearn.model_selection import train_test_split\n",
        "X_train, X_test, Y_train, Y_test = train_test_split(X,Y, test_size = 0.2, random_state = 4)"
      ],
      "metadata": {
        "id": "yxwLic-ibhJe"
      },
      "id": "yxwLic-ibhJe",
      "execution_count": null,
      "outputs": []
    },
    {
      "cell_type": "markdown",
      "source": [
        "### 선형 회귀"
      ],
      "metadata": {
        "id": "J3xGLdgeasz0"
      },
      "id": "J3xGLdgeasz0"
    },
    {
      "cell_type": "code",
      "source": [
        "#Training model\n",
        "\n",
        "from sklearn.linear_model import LinearRegression\n",
        "\n",
        "\n",
        "lm = LinearRegression()\n",
        "\n",
        "\n",
        "lm.fit(X_train, Y_train)"
      ],
      "metadata": {
        "colab": {
          "base_uri": "https://localhost:8080/"
        },
        "id": "fWuBoZy_bpdj",
        "outputId": "c842cf63-19f8-4a4c-d102-d781224f5995"
      },
      "id": "fWuBoZy_bpdj",
      "execution_count": null,
      "outputs": [
        {
          "output_type": "execute_result",
          "data": {
            "text/plain": [
              "LinearRegression()"
            ]
          },
          "metadata": {},
          "execution_count": 109
        }
      ]
    },
    {
      "cell_type": "code",
      "source": [
        "lm.intercept_"
      ],
      "metadata": {
        "colab": {
          "base_uri": "https://localhost:8080/"
        },
        "id": "qIwT-I5wdeVA",
        "outputId": "c76f849e-df6e-452d-96ba-9142c65c6bd3"
      },
      "id": "qIwT-I5wdeVA",
      "execution_count": null,
      "outputs": [
        {
          "output_type": "execute_result",
          "data": {
            "text/plain": [
              "37.86854857332912"
            ]
          },
          "metadata": {},
          "execution_count": 110
        }
      ]
    },
    {
      "cell_type": "code",
      "source": [
        "#데이터 프레임의 계수를 뒤집겠습니다.\n",
        "coeffcients = pd.DataFrame([X_train.columns,lm.coef_]).T\n",
        "coeffcients = coeffcients.rename(columns={0: 'Attribute', 1: 'Coefficients'})\n",
        "coeffcients"
      ],
      "metadata": {
        "colab": {
          "base_uri": "https://localhost:8080/",
          "height": 488
        },
        "id": "FhmzAAYQdoiU",
        "outputId": "d894f272-a6a7-4eff-8435-75c8f15b0f57"
      },
      "id": "FhmzAAYQdoiU",
      "execution_count": null,
      "outputs": [
        {
          "output_type": "execute_result",
          "data": {
            "text/plain": [
              "    Attribute Coefficients\n",
              "0        CRIM        -0.13\n",
              "1          ZN        -0.01\n",
              "2       INDUS         0.11\n",
              "3        CHAS         2.56\n",
              "4         NOX       -12.43\n",
              "5          RM         1.21\n",
              "6         AGE        -0.02\n",
              "7         DIS        -0.72\n",
              "8         RAD         0.21\n",
              "9         TAX        -0.01\n",
              "10    PTRATIO        -0.54\n",
              "11          B         0.01\n",
              "12      LSTAT        -0.43\n",
              "13  CAT. MEDV        11.78"
            ],
            "text/html": [
              "\n",
              "  <div id=\"df-b1fb6bf2-37f1-4b6a-b2fa-4ed78bc7fa86\">\n",
              "    <div class=\"colab-df-container\">\n",
              "      <div>\n",
              "<style scoped>\n",
              "    .dataframe tbody tr th:only-of-type {\n",
              "        vertical-align: middle;\n",
              "    }\n",
              "\n",
              "    .dataframe tbody tr th {\n",
              "        vertical-align: top;\n",
              "    }\n",
              "\n",
              "    .dataframe thead th {\n",
              "        text-align: right;\n",
              "    }\n",
              "</style>\n",
              "<table border=\"1\" class=\"dataframe\">\n",
              "  <thead>\n",
              "    <tr style=\"text-align: right;\">\n",
              "      <th></th>\n",
              "      <th>Attribute</th>\n",
              "      <th>Coefficients</th>\n",
              "    </tr>\n",
              "  </thead>\n",
              "  <tbody>\n",
              "    <tr>\n",
              "      <th>0</th>\n",
              "      <td>CRIM</td>\n",
              "      <td>-0.13</td>\n",
              "    </tr>\n",
              "    <tr>\n",
              "      <th>1</th>\n",
              "      <td>ZN</td>\n",
              "      <td>-0.01</td>\n",
              "    </tr>\n",
              "    <tr>\n",
              "      <th>2</th>\n",
              "      <td>INDUS</td>\n",
              "      <td>0.11</td>\n",
              "    </tr>\n",
              "    <tr>\n",
              "      <th>3</th>\n",
              "      <td>CHAS</td>\n",
              "      <td>2.56</td>\n",
              "    </tr>\n",
              "    <tr>\n",
              "      <th>4</th>\n",
              "      <td>NOX</td>\n",
              "      <td>-12.43</td>\n",
              "    </tr>\n",
              "    <tr>\n",
              "      <th>5</th>\n",
              "      <td>RM</td>\n",
              "      <td>1.21</td>\n",
              "    </tr>\n",
              "    <tr>\n",
              "      <th>6</th>\n",
              "      <td>AGE</td>\n",
              "      <td>-0.02</td>\n",
              "    </tr>\n",
              "    <tr>\n",
              "      <th>7</th>\n",
              "      <td>DIS</td>\n",
              "      <td>-0.72</td>\n",
              "    </tr>\n",
              "    <tr>\n",
              "      <th>8</th>\n",
              "      <td>RAD</td>\n",
              "      <td>0.21</td>\n",
              "    </tr>\n",
              "    <tr>\n",
              "      <th>9</th>\n",
              "      <td>TAX</td>\n",
              "      <td>-0.01</td>\n",
              "    </tr>\n",
              "    <tr>\n",
              "      <th>10</th>\n",
              "      <td>PTRATIO</td>\n",
              "      <td>-0.54</td>\n",
              "    </tr>\n",
              "    <tr>\n",
              "      <th>11</th>\n",
              "      <td>B</td>\n",
              "      <td>0.01</td>\n",
              "    </tr>\n",
              "    <tr>\n",
              "      <th>12</th>\n",
              "      <td>LSTAT</td>\n",
              "      <td>-0.43</td>\n",
              "    </tr>\n",
              "    <tr>\n",
              "      <th>13</th>\n",
              "      <td>CAT. MEDV</td>\n",
              "      <td>11.78</td>\n",
              "    </tr>\n",
              "  </tbody>\n",
              "</table>\n",
              "</div>\n",
              "      <button class=\"colab-df-convert\" onclick=\"convertToInteractive('df-b1fb6bf2-37f1-4b6a-b2fa-4ed78bc7fa86')\"\n",
              "              title=\"Convert this dataframe to an interactive table.\"\n",
              "              style=\"display:none;\">\n",
              "        \n",
              "  <svg xmlns=\"http://www.w3.org/2000/svg\" height=\"24px\"viewBox=\"0 0 24 24\"\n",
              "       width=\"24px\">\n",
              "    <path d=\"M0 0h24v24H0V0z\" fill=\"none\"/>\n",
              "    <path d=\"M18.56 5.44l.94 2.06.94-2.06 2.06-.94-2.06-.94-.94-2.06-.94 2.06-2.06.94zm-11 1L8.5 8.5l.94-2.06 2.06-.94-2.06-.94L8.5 2.5l-.94 2.06-2.06.94zm10 10l.94 2.06.94-2.06 2.06-.94-2.06-.94-.94-2.06-.94 2.06-2.06.94z\"/><path d=\"M17.41 7.96l-1.37-1.37c-.4-.4-.92-.59-1.43-.59-.52 0-1.04.2-1.43.59L10.3 9.45l-7.72 7.72c-.78.78-.78 2.05 0 2.83L4 21.41c.39.39.9.59 1.41.59.51 0 1.02-.2 1.41-.59l7.78-7.78 2.81-2.81c.8-.78.8-2.07 0-2.86zM5.41 20L4 18.59l7.72-7.72 1.47 1.35L5.41 20z\"/>\n",
              "  </svg>\n",
              "      </button>\n",
              "      \n",
              "  <style>\n",
              "    .colab-df-container {\n",
              "      display:flex;\n",
              "      flex-wrap:wrap;\n",
              "      gap: 12px;\n",
              "    }\n",
              "\n",
              "    .colab-df-convert {\n",
              "      background-color: #E8F0FE;\n",
              "      border: none;\n",
              "      border-radius: 50%;\n",
              "      cursor: pointer;\n",
              "      display: none;\n",
              "      fill: #1967D2;\n",
              "      height: 32px;\n",
              "      padding: 0 0 0 0;\n",
              "      width: 32px;\n",
              "    }\n",
              "\n",
              "    .colab-df-convert:hover {\n",
              "      background-color: #E2EBFA;\n",
              "      box-shadow: 0px 1px 2px rgba(60, 64, 67, 0.3), 0px 1px 3px 1px rgba(60, 64, 67, 0.15);\n",
              "      fill: #174EA6;\n",
              "    }\n",
              "\n",
              "    [theme=dark] .colab-df-convert {\n",
              "      background-color: #3B4455;\n",
              "      fill: #D2E3FC;\n",
              "    }\n",
              "\n",
              "    [theme=dark] .colab-df-convert:hover {\n",
              "      background-color: #434B5C;\n",
              "      box-shadow: 0px 1px 3px 1px rgba(0, 0, 0, 0.15);\n",
              "      filter: drop-shadow(0px 1px 2px rgba(0, 0, 0, 0.3));\n",
              "      fill: #FFFFFF;\n",
              "    }\n",
              "  </style>\n",
              "\n",
              "      <script>\n",
              "        const buttonEl =\n",
              "          document.querySelector('#df-b1fb6bf2-37f1-4b6a-b2fa-4ed78bc7fa86 button.colab-df-convert');\n",
              "        buttonEl.style.display =\n",
              "          google.colab.kernel.accessAllowed ? 'block' : 'none';\n",
              "\n",
              "        async function convertToInteractive(key) {\n",
              "          const element = document.querySelector('#df-b1fb6bf2-37f1-4b6a-b2fa-4ed78bc7fa86');\n",
              "          const dataTable =\n",
              "            await google.colab.kernel.invokeFunction('convertToInteractive',\n",
              "                                                     [key], {});\n",
              "          if (!dataTable) return;\n",
              "\n",
              "          const docLinkHtml = 'Like what you see? Visit the ' +\n",
              "            '<a target=\"_blank\" href=https://colab.research.google.com/notebooks/data_table.ipynb>data table notebook</a>'\n",
              "            + ' to learn more about interactive tables.';\n",
              "          element.innerHTML = '';\n",
              "          dataTable['output_type'] = 'display_data';\n",
              "          await google.colab.output.renderOutput(dataTable, element);\n",
              "          const docLink = document.createElement('div');\n",
              "          docLink.innerHTML = docLinkHtml;\n",
              "          element.appendChild(docLink);\n",
              "        }\n",
              "      </script>\n",
              "    </div>\n",
              "  </div>\n",
              "  "
            ]
          },
          "metadata": {},
          "execution_count": 111
        }
      ]
    },
    {
      "cell_type": "code",
      "source": [
        "#Model 평가\n",
        "\n",
        "Y_pred = lm.predict(X_train)"
      ],
      "metadata": {
        "id": "ZbbPpdIPdtS7"
      },
      "id": "ZbbPpdIPdtS7",
      "execution_count": null,
      "outputs": []
    },
    {
      "cell_type": "code",
      "source": [
        "print('R^2:',metrics.r2_score(Y_train, Y_pred))\n",
        "print('Adjusted R^2:',1 - (1-metrics.r2_score(Y_train, Y_pred))*(len(Y_train)-1)/(len(Y_train)-X_train.shape[1]-1))\n",
        "print('MAE:',metrics.mean_absolute_error(Y_train, Y_pred))\n",
        "print('MSE:',metrics.mean_squared_error(Y_train, Y_pred))\n",
        "print('RMSE:',np.sqrt(metrics.mean_squared_error(Y_train, Y_pred)))"
      ],
      "metadata": {
        "colab": {
          "base_uri": "https://localhost:8080/"
        },
        "id": "Snni3GXedw_Q",
        "outputId": "986f863b-275f-4708-d980-d735c9d87758"
      },
      "id": "Snni3GXedw_Q",
      "execution_count": null,
      "outputs": [
        {
          "output_type": "stream",
          "name": "stdout",
          "text": [
            "R^2: 0.8445233821480305\n",
            "Adjusted R^2: 0.8389278226366486\n",
            "MAE: 2.5974064167633215\n",
            "MSE: 12.750371421526543\n",
            "RMSE: 3.570766223309297\n"
          ]
        }
      ]
    },
    {
      "cell_type": "code",
      "source": [
        "#시각화\n",
        "\n",
        "plt.scatter(Y_train, Y_pred)\n",
        "plt.xlabel(\"Prices\")\n",
        "plt.ylabel(\"Predicted prices\")\n",
        "plt.title(\"Prices vs Predicted prices\")\n",
        "plt.show()"
      ],
      "metadata": {
        "colab": {
          "base_uri": "https://localhost:8080/",
          "height": 295
        },
        "id": "wqOGsl4-d5X9",
        "outputId": "9282e5aa-309a-4fa4-df97-3d6a83c61fe6"
      },
      "id": "wqOGsl4-d5X9",
      "execution_count": null,
      "outputs": [
        {
          "output_type": "display_data",
          "data": {
            "text/plain": [
              "<Figure size 432x288 with 1 Axes>"
            ],
            "image/png": "[encoded data removed]"
          },
          "metadata": {
            "needs_background": "light"
          }
        }
      ]
    },
    {
      "cell_type": "code",
      "source": [
        "#residuals체크\n",
        "\n",
        "plt.scatter(Y_pred,Y_train-Y_pred)\n",
        "plt.title(\"Predicted vs residuals\")\n",
        "plt.xlabel(\"Predicted\")\n",
        "plt.ylabel(\"Residuals\")\n",
        "plt.show()"
      ],
      "metadata": {
        "colab": {
          "base_uri": "https://localhost:8080/",
          "height": 295
        },
        "id": "mzDKigSxeApK",
        "outputId": "b80a0370-e74a-4c3f-b925-acba7009f7b4"
      },
      "id": "mzDKigSxeApK",
      "execution_count": null,
      "outputs": [
        {
          "output_type": "display_data",
          "data": {
            "text/plain": [
              "<Figure size 432x288 with 1 Axes>"
            ],
            "image/png": "[encoded data removed]"
          },
          "metadata": {
            "needs_background": "light"
          }
        }
      ]
    },
    {
      "cell_type": "code",
      "source": [
        "#Normality 에러 체크\n",
        "\n",
        "sns.distplot(Y_train-Y_pred)\n",
        "plt.title(\"Histogram of Residuals\")\n",
        "plt.xlabel(\"Residuals\")\n",
        "plt.ylabel(\"Frequency\")\n",
        "plt.show()"
      ],
      "metadata": {
        "colab": {
          "base_uri": "https://localhost:8080/",
          "height": 295
        },
        "id": "1TERsUr3eEvt",
        "outputId": "c30f4361-fc3c-4033-f7ab-5a4a6867ce90"
      },
      "id": "1TERsUr3eEvt",
      "execution_count": null,
      "outputs": [
        {
          "output_type": "display_data",
          "data": {
            "text/plain": [
              "<Figure size 432x288 with 1 Axes>"
            ],
            "image/png": "[encoded data removed]"
          },
          "metadata": {
            "needs_background": "light"
          }
        }
      ]
    },
    {
      "cell_type": "code",
      "source": [
        "#모델 테스트데이터로 예측\n",
        "\n",
        "Y_test_pred = lm.predict(X_test)"
      ],
      "metadata": {
        "id": "sySgh-udePfN"
      },
      "id": "sySgh-udePfN",
      "execution_count": null,
      "outputs": []
    },
    {
      "cell_type": "code",
      "source": [
        "# Model Evaluation\n",
        "acc_linreg = metrics.r2_score(Y_test, Y_test_pred)\n",
        "print('R^2:', acc_linreg)\n",
        "print('Adjusted R^2:',1 - (1-metrics.r2_score(Y_test, Y_test_pred))*(len(Y_test)-1)/(len(Y_test)-X_test.shape[1]-1))\n",
        "print('MAE:',metrics.mean_absolute_error(Y_test, Y_test_pred))\n",
        "print('MSE:',metrics.mean_squared_error(Y_test, Y_test_pred))\n",
        "print('RMSE:',np.sqrt(metrics.mean_squared_error(Y_test, Y_test_pred)))"
      ],
      "metadata": {
        "colab": {
          "base_uri": "https://localhost:8080/"
        },
        "id": "VsMLE-zVeW0m",
        "outputId": "bc19b10b-1e08-42b9-ba82-1053992a4da7"
      },
      "id": "VsMLE-zVeW0m",
      "execution_count": null,
      "outputs": [
        {
          "output_type": "stream",
          "name": "stdout",
          "text": [
            "R^2: 0.841838823878611\n",
            "Adjusted R^2: 0.8163876001349392\n",
            "MAE: 2.7223374366985587\n",
            "MSE: 14.691468970110813\n",
            "RMSE: 3.8329452083366404\n"
          ]
        }
      ]
    },
    {
      "cell_type": "markdown",
      "source": [
        "모델 평가 스코어가 훈련 데이터와 크게 다르지 않으므로 과적합이 일어나진 않음"
      ],
      "metadata": {
        "id": "VUnyuCGKejrt"
      },
      "id": "VUnyuCGKejrt"
    },
    {
      "cell_type": "markdown",
      "source": [
        "####  Random Forest Regressor\n"
      ],
      "metadata": {
        "id": "Hu1GWZ8SiZJ7"
      },
      "id": "Hu1GWZ8SiZJ7"
    },
    {
      "cell_type": "code",
      "source": [
        "#모델 훈련\n",
        "\n",
        "\n",
        "from sklearn.ensemble import RandomForestRegressor\n",
        "\n",
        "\n",
        "reg = RandomForestRegressor()\n",
        "\n",
        "\n",
        "reg.fit(X_train, Y_train)"
      ],
      "metadata": {
        "colab": {
          "base_uri": "https://localhost:8080/"
        },
        "id": "ZFaRT-emefTr",
        "outputId": "a71b2945-4520-4651-d094-b71d41a636a0"
      },
      "id": "ZFaRT-emefTr",
      "execution_count": null,
      "outputs": [
        {
          "output_type": "execute_result",
          "data": {
            "text/plain": [
              "RandomForestRegressor()"
            ]
          },
          "metadata": {},
          "execution_count": 119
        }
      ]
    },
    {
      "cell_type": "code",
      "source": [
        "#모델 평가\n",
        "Y_pred = reg.predict(X_train)"
      ],
      "metadata": {
        "id": "BCU5ZIL3i3ZK"
      },
      "id": "BCU5ZIL3i3ZK",
      "execution_count": null,
      "outputs": []
    },
    {
      "cell_type": "code",
      "source": [
        "print('R^2:',metrics.r2_score(Y_train, Y_pred))\n",
        "print('Adjusted R^2:',1 - (1-metrics.r2_score(Y_train, Y_pred))*(len(Y_train)-1)/(len(Y_train)-X_train.shape[1]-1))\n",
        "print('MAE:',metrics.mean_absolute_error(Y_train, Y_pred))\n",
        "print('MSE:',metrics.mean_squared_error(Y_train, Y_pred))\n",
        "print('RMSE:',np.sqrt(metrics.mean_squared_error(Y_train, Y_pred)))"
      ],
      "metadata": {
        "colab": {
          "base_uri": "https://localhost:8080/"
        },
        "id": "s5DML6fvjWsu",
        "outputId": "c4280316-2ce4-47bb-baf5-8b31304d0f17"
      },
      "id": "s5DML6fvjWsu",
      "execution_count": null,
      "outputs": [
        {
          "output_type": "stream",
          "name": "stdout",
          "text": [
            "R^2: 0.987856942873503\n",
            "Adjusted R^2: 0.9874199176812898\n",
            "MAE: 0.7439975247524738\n",
            "MSE: 0.995831339108909\n",
            "RMSE: 0.9979134927983031\n"
          ]
        }
      ]
    },
    {
      "cell_type": "code",
      "source": [
        "#시각화\n",
        "\n",
        "plt.scatter(Y_train, Y_pred)\n",
        "plt.xlabel(\"Prices\")\n",
        "plt.ylabel(\"Predicted prices\")\n",
        "plt.title(\"Prices vs Predicted prices\")\n",
        "plt.show()"
      ],
      "metadata": {
        "colab": {
          "base_uri": "https://localhost:8080/",
          "height": 295
        },
        "id": "1J3rN20LjYSk",
        "outputId": "7ae55714-2a07-4a87-f35e-fa86417aa573"
      },
      "id": "1J3rN20LjYSk",
      "execution_count": null,
      "outputs": [
        {
          "output_type": "display_data",
          "data": {
            "text/plain": [
              "<Figure size 432x288 with 1 Axes>"
            ],
            "image/png": "[encoded data removed]"
          },
          "metadata": {
            "needs_background": "light"
          }
        }
      ]
    },
    {
      "cell_type": "code",
      "source": [
        "#Residuals 체크\n",
        "\n",
        "plt.scatter(Y_pred,Y_train-Y_pred)\n",
        "plt.title(\"Predicted vs residuals\")\n",
        "plt.xlabel(\"Predicted\")\n",
        "plt.ylabel(\"Residuals\")\n",
        "plt.show()"
      ],
      "metadata": {
        "colab": {
          "base_uri": "https://localhost:8080/",
          "height": 295
        },
        "id": "Y4-gHmPqj1Dc",
        "outputId": "ddaf6c42-2a75-45a8-9e7f-131d326ca9e6"
      },
      "id": "Y4-gHmPqj1Dc",
      "execution_count": null,
      "outputs": [
        {
          "output_type": "display_data",
          "data": {
            "text/plain": [
              "<Figure size 432x288 with 1 Axes>"
            ],
            "image/png": "[encoded data removed]"
          },
          "metadata": {
            "needs_background": "light"
          }
        }
      ]
    },
    {
      "cell_type": "code",
      "source": [
        "#For test data\n",
        "\n",
        "Y_test_pred = reg.predict(X_test)"
      ],
      "metadata": {
        "id": "blIC-eiTj_PH"
      },
      "id": "blIC-eiTj_PH",
      "execution_count": null,
      "outputs": []
    },
    {
      "cell_type": "code",
      "source": [
        "acc_rf = metrics.r2_score(Y_test, Y_test_pred)\n",
        "print('R^2:', acc_rf)\n",
        "print('Adjusted R^2:',1 - (1-metrics.r2_score(Y_test, Y_test_pred))*(len(Y_test)-1)/(len(Y_test)-X_test.shape[1]-1))\n",
        "print('MAE:',metrics.mean_absolute_error(Y_test, Y_test_pred))\n",
        "print('MSE:',metrics.mean_squared_error(Y_test, Y_test_pred))\n",
        "print('RMSE:',np.sqrt(metrics.mean_squared_error(Y_test, Y_test_pred)))"
      ],
      "metadata": {
        "colab": {
          "base_uri": "https://localhost:8080/"
        },
        "id": "Tfg12ao7j89Y",
        "outputId": "94d9d168-463f-40be-8974-9908480f7ed9"
      },
      "id": "Tfg12ao7j89Y",
      "execution_count": null,
      "outputs": [
        {
          "output_type": "stream",
          "name": "stdout",
          "text": [
            "R^2: 0.9130686062571025\n",
            "Adjusted R^2: 0.8990796463444524\n",
            "MAE: 1.9705980392156872\n",
            "MSE: 8.07498973529413\n",
            "RMSE: 2.8416526415616197\n"
          ]
        }
      ]
    },
    {
      "cell_type": "markdown",
      "source": [
        "## XGBoost Regressor\n",
        "\n"
      ],
      "metadata": {
        "id": "a0VGjSn3kXpv"
      },
      "id": "a0VGjSn3kXpv"
    },
    {
      "cell_type": "code",
      "source": [
        "#모델 학습\n",
        "\n",
        "from xgboost import XGBRegressor\n",
        "\n",
        "\n",
        "reg = XGBRegressor()\n",
        "\n",
        " \n",
        "reg.fit(X_train, Y_train)"
      ],
      "metadata": {
        "colab": {
          "base_uri": "https://localhost:8080/"
        },
        "id": "x3htgoUskT1Q",
        "outputId": "50275f96-5d2e-4ad8-8f76-cfa6ff525ea6"
      },
      "id": "x3htgoUskT1Q",
      "execution_count": null,
      "outputs": [
        {
          "output_type": "execute_result",
          "data": {
            "text/plain": [
              "XGBRegressor(base_score=0.5, booster='gbtree', colsample_bylevel=1,\n",
              "             colsample_bynode=1, colsample_bytree=1, gamma=0, gpu_id=-1,\n",
              "             importance_type='gain', interaction_constraints='',\n",
              "             learning_rate=0.300000012, max_delta_step=0, max_depth=6,\n",
              "             min_child_weight=1, missing=nan, monotone_constraints='()',\n",
              "             n_estimators=100, n_jobs=0, num_parallel_tree=1, random_state=0,\n",
              "             reg_alpha=0, reg_lambda=1, scale_pos_weight=1, subsample=1,\n",
              "             tree_method='exact', validate_parameters=1, verbosity=None)"
            ]
          },
          "metadata": {},
          "execution_count": 126
        }
      ]
    },
    {
      "cell_type": "code",
      "source": [
        "#Model evaluation\n",
        "\n",
        "Y_pred = reg.predict(X_train)"
      ],
      "metadata": {
        "id": "CcMtj__Dkiyk"
      },
      "id": "CcMtj__Dkiyk",
      "execution_count": null,
      "outputs": []
    },
    {
      "cell_type": "code",
      "source": [
        "print('R^2:',metrics.r2_score(Y_train, Y_pred))\n",
        "print('Adjusted R^2:',1 - (1-metrics.r2_score(Y_train, Y_pred))*(len(Y_train)-1)/(len(Y_train)-X_train.shape[1]-1))\n",
        "print('MAE:',metrics.mean_absolute_error(Y_train, Y_pred))\n",
        "print('MSE:',metrics.mean_squared_error(Y_train, Y_pred))\n",
        "print('RMSE:',np.sqrt(metrics.mean_squared_error(Y_train, Y_pred)))"
      ],
      "metadata": {
        "colab": {
          "base_uri": "https://localhost:8080/"
        },
        "id": "I3elYi3LkthL",
        "outputId": "c41d3031-4bf0-4544-afe5-2630d887c802"
      },
      "id": "I3elYi3LkthL",
      "execution_count": null,
      "outputs": [
        {
          "output_type": "stream",
          "name": "stdout",
          "text": [
            "R^2: 0.999996063029937\n",
            "Adjusted R^2: 0.9999959213394978\n",
            "MAE: 0.0128183041468706\n",
            "MSE: 0.0003228641790104422\n",
            "RMSE: 0.01796842171729176\n"
          ]
        }
      ]
    },
    {
      "cell_type": "code",
      "source": [
        "#시각화\n",
        "\n",
        "plt.scatter(Y_train, Y_pred)\n",
        "plt.xlabel(\"Prices\")\n",
        "plt.ylabel(\"Predicted prices\")\n",
        "plt.title(\"Prices vs Predicted prices\")\n",
        "plt.show()"
      ],
      "metadata": {
        "colab": {
          "base_uri": "https://localhost:8080/",
          "height": 295
        },
        "id": "EXGWlwnuk0qj",
        "outputId": "1e877e6b-4f11-4cbd-e888-8dd070557725"
      },
      "id": "EXGWlwnuk0qj",
      "execution_count": null,
      "outputs": [
        {
          "output_type": "display_data",
          "data": {
            "text/plain": [
              "<Figure size 432x288 with 1 Axes>"
            ],
            "image/png": "[encoded data removed]"
          },
          "metadata": {
            "needs_background": "light"
          }
        }
      ]
    },
    {
      "cell_type": "code",
      "source": [
        "#check residuals\n",
        "\n",
        "plt.scatter(Y_pred,Y_train-Y_pred)\n",
        "plt.title(\"Predicted vs residuals\")\n",
        "plt.xlabel(\"Predicted\")\n",
        "plt.ylabel(\"Residuals\")\n",
        "plt.show()"
      ],
      "metadata": {
        "colab": {
          "base_uri": "https://localhost:8080/",
          "height": 295
        },
        "id": "BT3UWN3pk547",
        "outputId": "5d55b13b-3bbe-44ed-f1fc-7d879378497d"
      },
      "id": "BT3UWN3pk547",
      "execution_count": null,
      "outputs": [
        {
          "output_type": "display_data",
          "data": {
            "text/plain": [
              "<Figure size 432x288 with 1 Axes>"
            ],
            "image/png": "[encoded data removed]"
          },
          "metadata": {
            "needs_background": "light"
          }
        }
      ]
    },
    {
      "cell_type": "code",
      "source": [
        "#For test data\n",
        "\n",
        "Y_test_pred = reg.predict(X_test)"
      ],
      "metadata": {
        "id": "bPPGnkGPlAOg"
      },
      "id": "bPPGnkGPlAOg",
      "execution_count": null,
      "outputs": []
    },
    {
      "cell_type": "code",
      "source": [
        "acc_xgb = metrics.r2_score(Y_test, Y_test_pred)\n",
        "print('R^2:', acc_xgb)\n",
        "print('Adjusted R^2:',1 - (1-metrics.r2_score(Y_test, Y_test_pred))*(len(Y_test)-1)/(len(Y_test)-X_test.shape[1]-1))\n",
        "print('MAE:',metrics.mean_absolute_error(Y_test, Y_test_pred))\n",
        "print('MSE:',metrics.mean_squared_error(Y_test, Y_test_pred))\n",
        "print('RMSE:',np.sqrt(metrics.mean_squared_error(Y_test, Y_test_pred)))"
      ],
      "metadata": {
        "colab": {
          "base_uri": "https://localhost:8080/"
        },
        "id": "pF_KXG5IlC2H",
        "outputId": "a70a90c6-aa33-43ea-bb7a-65b64b11dba9"
      },
      "id": "pF_KXG5IlC2H",
      "execution_count": null,
      "outputs": [
        {
          "output_type": "stream",
          "name": "stdout",
          "text": [
            "R^2: 0.9062295173286555\n",
            "Adjusted R^2: 0.8911400143700483\n",
            "MAE: 2.0422731614580343\n",
            "MSE: 8.71026740102793\n",
            "RMSE: 2.951316215017959\n"
          ]
        }
      ]
    },
    {
      "cell_type": "markdown",
      "source": [
        "### SVM Regressor"
      ],
      "metadata": {
        "id": "dQNDFqUmlf0S"
      },
      "id": "dQNDFqUmlf0S"
    },
    {
      "cell_type": "code",
      "source": [
        "from sklearn.preprocessing import StandardScaler\n",
        "sc = StandardScaler()\n",
        "X_train = sc.fit_transform(X_train)\n",
        "X_test = sc.transform(X_test)"
      ],
      "metadata": {
        "id": "kRi5vIODla33"
      },
      "id": "kRi5vIODla33",
      "execution_count": null,
      "outputs": []
    },
    {
      "cell_type": "code",
      "source": [
        "#데이터 훈련\n",
        "\n",
        "from sklearn import svm\n",
        "\n",
        "\n",
        "reg = svm.SVR()"
      ],
      "metadata": {
        "id": "it8Ol6Z0lknz"
      },
      "id": "it8Ol6Z0lknz",
      "execution_count": null,
      "outputs": []
    },
    {
      "cell_type": "code",
      "source": [
        "# Train the model using the training sets \n",
        "reg.fit(X_train, Y_train)"
      ],
      "metadata": {
        "colab": {
          "base_uri": "https://localhost:8080/"
        },
        "id": "QY9Z7gxSlkqd",
        "outputId": "f8017f93-6c52-470e-c2cd-6aa6ebd811de"
      },
      "id": "QY9Z7gxSlkqd",
      "execution_count": null,
      "outputs": [
        {
          "output_type": "execute_result",
          "data": {
            "text/plain": [
              "SVR()"
            ]
          },
          "metadata": {},
          "execution_count": 135
        }
      ]
    },
    {
      "cell_type": "code",
      "source": [
        "#Model Evaluation\n",
        "\n",
        "Y_pred = reg.predict(X_train)\n"
      ],
      "metadata": {
        "id": "10g-lKcBlksm"
      },
      "id": "10g-lKcBlksm",
      "execution_count": null,
      "outputs": []
    },
    {
      "cell_type": "code",
      "source": [
        "print('R^2:',metrics.r2_score(Y_train, Y_pred))\n",
        "print('Adjusted R^2:',1 - (1-metrics.r2_score(Y_train, Y_pred))*(len(Y_train)-1)/(len(Y_train)-X_train.shape[1]-1))\n",
        "print('MAE:',metrics.mean_absolute_error(Y_train, Y_pred))\n",
        "print('MSE:',metrics.mean_squared_error(Y_train, Y_pred))\n",
        "print('RMSE:',np.sqrt(metrics.mean_squared_error(Y_train, Y_pred)))"
      ],
      "metadata": {
        "colab": {
          "base_uri": "https://localhost:8080/"
        },
        "id": "uRZeAXS8lyMG",
        "outputId": "8a7e8427-80f9-46c7-9a31-cf58d7fd9947"
      },
      "id": "uRZeAXS8lyMG",
      "execution_count": null,
      "outputs": [
        {
          "output_type": "stream",
          "name": "stdout",
          "text": [
            "R^2: 0.7224050720761055\n",
            "Adjusted R^2: 0.7124145091174049\n",
            "MAE: 2.672957542615028\n",
            "MSE: 22.765085095505952\n",
            "RMSE: 4.771277092719092\n"
          ]
        }
      ]
    },
    {
      "cell_type": "code",
      "source": [
        "plt.scatter(Y_train, Y_pred)\n",
        "plt.xlabel(\"Prices\")\n",
        "plt.ylabel(\"Predicted prices\")\n",
        "plt.title(\"Prices vs Predicted prices\")\n",
        "plt.show()"
      ],
      "metadata": {
        "colab": {
          "base_uri": "https://localhost:8080/",
          "height": 295
        },
        "id": "FcoVF8RgmFpR",
        "outputId": "666020fb-22c7-424a-bd0f-2983b34468c7"
      },
      "id": "FcoVF8RgmFpR",
      "execution_count": null,
      "outputs": [
        {
          "output_type": "display_data",
          "data": {
            "text/plain": [
              "<Figure size 432x288 with 1 Axes>"
            ],
            "image/png": "[encoded data removed]"
          },
          "metadata": {
            "needs_background": "light"
          }
        }
      ]
    },
    {
      "cell_type": "code",
      "source": [
        "plt.scatter(Y_pred,Y_train-Y_pred)\n",
        "plt.title(\"Predicted vs residuals\")\n",
        "plt.xlabel(\"Predicted\")\n",
        "plt.ylabel(\"Residuals\")\n",
        "plt.show()"
      ],
      "metadata": {
        "colab": {
          "base_uri": "https://localhost:8080/",
          "height": 295
        },
        "id": "D9LmvZwjmHg_",
        "outputId": "08844106-8c4d-4880-ba69-641e38a92803"
      },
      "id": "D9LmvZwjmHg_",
      "execution_count": null,
      "outputs": [
        {
          "output_type": "display_data",
          "data": {
            "text/plain": [
              "<Figure size 432x288 with 1 Axes>"
            ],
            "image/png": "[encoded data removed]"
          },
          "metadata": {
            "needs_background": "light"
          }
        }
      ]
    },
    {
      "cell_type": "code",
      "source": [
        "# Predicting Test data with the model\n",
        "Y_test_pred = reg.predict(X_test)"
      ],
      "metadata": {
        "id": "g8OOibK-mMKH"
      },
      "id": "g8OOibK-mMKH",
      "execution_count": null,
      "outputs": []
    },
    {
      "cell_type": "code",
      "source": [
        "# Model Evaluation\n",
        "acc_svm = metrics.r2_score(Y_test, Y_test_pred)\n",
        "print('R^2:', acc_svm)\n",
        "print('Adjusted R^2:',1 - (1-metrics.r2_score(Y_test, Y_test_pred))*(len(Y_test)-1)/(len(Y_test)-X_test.shape[1]-1))\n",
        "print('MAE:',metrics.mean_absolute_error(Y_test, Y_test_pred))\n",
        "print('MSE:',metrics.mean_squared_error(Y_test, Y_test_pred))\n",
        "print('RMSE:',np.sqrt(metrics.mean_squared_error(Y_test, Y_test_pred)))"
      ],
      "metadata": {
        "colab": {
          "base_uri": "https://localhost:8080/"
        },
        "id": "yf_oHcPrmTrL",
        "outputId": "81b46798-6343-441c-8042-a5045e793786"
      },
      "id": "yf_oHcPrmTrL",
      "execution_count": null,
      "outputs": [
        {
          "output_type": "stream",
          "name": "stdout",
          "text": [
            "R^2: 0.6672922650260079\n",
            "Adjusted R^2: 0.6137530892830667\n",
            "MAE: 3.1528502664420013\n",
            "MSE: 30.9049634325856\n",
            "RMSE: 5.559223276014879\n"
          ]
        }
      ]
    },
    {
      "cell_type": "markdown",
      "source": [
        "## 평가한 부분 비교하겠습니다."
      ],
      "metadata": {
        "id": "RpiQ0UoAmggh"
      },
      "id": "RpiQ0UoAmggh"
    },
    {
      "cell_type": "code",
      "source": [
        "models = pd.DataFrame({\n",
        "    'Model': ['Linear Regression', 'Random Forest', 'XGBoost', 'Support Vector Machines'],\n",
        "    'R-squared Score': [acc_linreg*100, acc_rf*100, acc_xgb*100, acc_svm*100]})\n",
        "models.sort_values(by='R-squared Score', ascending=False)"
      ],
      "metadata": {
        "colab": {
          "base_uri": "https://localhost:8080/",
          "height": 175
        },
        "id": "Uy9KnaalmdpM",
        "outputId": "0d9e9f5c-4d53-4134-d355-4f7c1c010215"
      },
      "id": "Uy9KnaalmdpM",
      "execution_count": null,
      "outputs": [
        {
          "output_type": "execute_result",
          "data": {
            "text/plain": [
              "                     Model  R-squared Score\n",
              "1            Random Forest            91.31\n",
              "2                  XGBoost            90.62\n",
              "0        Linear Regression            84.18\n",
              "3  Support Vector Machines            66.73"
            ],
            "text/html": [
              "\n",
              "  <div id=\"df-81f0ad9e-d474-4b09-82cf-14451dd4641e\">\n",
              "    <div class=\"colab-df-container\">\n",
              "      <div>\n",
              "<style scoped>\n",
              "    .dataframe tbody tr th:only-of-type {\n",
              "        vertical-align: middle;\n",
              "    }\n",
              "\n",
              "    .dataframe tbody tr th {\n",
              "        vertical-align: top;\n",
              "    }\n",
              "\n",
              "    .dataframe thead th {\n",
              "        text-align: right;\n",
              "    }\n",
              "</style>\n",
              "<table border=\"1\" class=\"dataframe\">\n",
              "  <thead>\n",
              "    <tr style=\"text-align: right;\">\n",
              "      <th></th>\n",
              "      <th>Model</th>\n",
              "      <th>R-squared Score</th>\n",
              "    </tr>\n",
              "  </thead>\n",
              "  <tbody>\n",
              "    <tr>\n",
              "      <th>1</th>\n",
              "      <td>Random Forest</td>\n",
              "      <td>91.31</td>\n",
              "    </tr>\n",
              "    <tr>\n",
              "      <th>2</th>\n",
              "      <td>XGBoost</td>\n",
              "      <td>90.62</td>\n",
              "    </tr>\n",
              "    <tr>\n",
              "      <th>0</th>\n",
              "      <td>Linear Regression</td>\n",
              "      <td>84.18</td>\n",
              "    </tr>\n",
              "    <tr>\n",
              "      <th>3</th>\n",
              "      <td>Support Vector Machines</td>\n",
              "      <td>66.73</td>\n",
              "    </tr>\n",
              "  </tbody>\n",
              "</table>\n",
              "</div>\n",
              "      <button class=\"colab-df-convert\" onclick=\"convertToInteractive('df-81f0ad9e-d474-4b09-82cf-14451dd4641e')\"\n",
              "              title=\"Convert this dataframe to an interactive table.\"\n",
              "              style=\"display:none;\">\n",
              "        \n",
              "  <svg xmlns=\"http://www.w3.org/2000/svg\" height=\"24px\"viewBox=\"0 0 24 24\"\n",
              "       width=\"24px\">\n",
              "    <path d=\"M0 0h24v24H0V0z\" fill=\"none\"/>\n",
              "    <path d=\"M18.56 5.44l.94 2.06.94-2.06 2.06-.94-2.06-.94-.94-2.06-.94 2.06-2.06.94zm-11 1L8.5 8.5l.94-2.06 2.06-.94-2.06-.94L8.5 2.5l-.94 2.06-2.06.94zm10 10l.94 2.06.94-2.06 2.06-.94-2.06-.94-.94-2.06-.94 2.06-2.06.94z\"/><path d=\"M17.41 7.96l-1.37-1.37c-.4-.4-.92-.59-1.43-.59-.52 0-1.04.2-1.43.59L10.3 9.45l-7.72 7.72c-.78.78-.78 2.05 0 2.83L4 21.41c.39.39.9.59 1.41.59.51 0 1.02-.2 1.41-.59l7.78-7.78 2.81-2.81c.8-.78.8-2.07 0-2.86zM5.41 20L4 18.59l7.72-7.72 1.47 1.35L5.41 20z\"/>\n",
              "  </svg>\n",
              "      </button>\n",
              "      \n",
              "  <style>\n",
              "    .colab-df-container {\n",
              "      display:flex;\n",
              "      flex-wrap:wrap;\n",
              "      gap: 12px;\n",
              "    }\n",
              "\n",
              "    .colab-df-convert {\n",
              "      background-color: #E8F0FE;\n",
              "      border: none;\n",
              "      border-radius: 50%;\n",
              "      cursor: pointer;\n",
              "      display: none;\n",
              "      fill: #1967D2;\n",
              "      height: 32px;\n",
              "      padding: 0 0 0 0;\n",
              "      width: 32px;\n",
              "    }\n",
              "\n",
              "    .colab-df-convert:hover {\n",
              "      background-color: #E2EBFA;\n",
              "      box-shadow: 0px 1px 2px rgba(60, 64, 67, 0.3), 0px 1px 3px 1px rgba(60, 64, 67, 0.15);\n",
              "      fill: #174EA6;\n",
              "    }\n",
              "\n",
              "    [theme=dark] .colab-df-convert {\n",
              "      background-color: #3B4455;\n",
              "      fill: #D2E3FC;\n",
              "    }\n",
              "\n",
              "    [theme=dark] .colab-df-convert:hover {\n",
              "      background-color: #434B5C;\n",
              "      box-shadow: 0px 1px 3px 1px rgba(0, 0, 0, 0.15);\n",
              "      filter: drop-shadow(0px 1px 2px rgba(0, 0, 0, 0.3));\n",
              "      fill: #FFFFFF;\n",
              "    }\n",
              "  </style>\n",
              "\n",
              "      <script>\n",
              "        const buttonEl =\n",
              "          document.querySelector('#df-81f0ad9e-d474-4b09-82cf-14451dd4641e button.colab-df-convert');\n",
              "        buttonEl.style.display =\n",
              "          google.colab.kernel.accessAllowed ? 'block' : 'none';\n",
              "\n",
              "        async function convertToInteractive(key) {\n",
              "          const element = document.querySelector('#df-81f0ad9e-d474-4b09-82cf-14451dd4641e');\n",
              "          const dataTable =\n",
              "            await google.colab.kernel.invokeFunction('convertToInteractive',\n",
              "                                                     [key], {});\n",
              "          if (!dataTable) return;\n",
              "\n",
              "          const docLinkHtml = 'Like what you see? Visit the ' +\n",
              "            '<a target=\"_blank\" href=https://colab.research.google.com/notebooks/data_table.ipynb>data table notebook</a>'\n",
              "            + ' to learn more about interactive tables.';\n",
              "          element.innerHTML = '';\n",
              "          dataTable['output_type'] = 'display_data';\n",
              "          await google.colab.output.renderOutput(dataTable, element);\n",
              "          const docLink = document.createElement('div');\n",
              "          docLink.innerHTML = docLinkHtml;\n",
              "          element.appendChild(docLink);\n",
              "        }\n",
              "      </script>\n",
              "    </div>\n",
              "  </div>\n",
              "  "
            ]
          },
          "metadata": {},
          "execution_count": 143
        }
      ]
    }
  ],
  "metadata": {
    "kernelspec": {
      "display_name": "Python 3",
      "language": "python",
      "name": "python3"
    },
    "language_info": {
      "codemirror_mode": {
        "name": "ipython",
        "version": 3
      },
      "file_extension": ".py",
      "mimetype": "text/x-python",
      "name": "python",
      "nbconvert_exporter": "python",
      "pygments_lexer": "ipython3",
      "version": "3.8.8"
    },
    "toc": {
      "base_numbering": 1,
      "nav_menu": {},
      "number_sections": true,
      "sideBar": true,
      "skip_h1_title": false,
      "title_cell": "Table of Contents",
      "title_sidebar": "Contents",
      "toc_cell": false,
      "toc_position": {},
      "toc_section_display": true,
      "toc_window_display": false
    },
    "colab": {
      "name": "[파이썬 Basic Toy 프로젝트] 이세현_오프라인.ipynb",
      "provenance": []
    }
  },
  "nbformat": 4,
  "nbformat_minor": 5
}