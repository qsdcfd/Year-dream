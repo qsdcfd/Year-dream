{
  "nbformat": 4,
  "nbformat_minor": 0,
  "metadata": {
    "colab": {
      "name": "이산 확률변수",
      "provenance": [],
      "authorship_tag": "ABX9TyMo/gOErGUDt7BucwUGi/pI"
    },
    "kernelspec": {
      "name": "python3",
      "display_name": "Python 3"
    },
    "language_info": {
      "name": "python"
    }
  },
  "cells": [
    {
      "cell_type": "markdown",
      "source": [
        "### 기대값(Expectation, Expected Value\n",
        "\n",
        "- 확률변수의 평균\n",
        "\n",
        "- 이상적인 기대값 계산 방법\n",
        "\n",
        "   - 확률 변수를 무제한으로 시행하여 얻어진 실현값의 평균\n",
        "\n",
        "- 이산형 확률변수의 평균(기대값)\n",
        "\n",
        "   - 확률변수가 취할 수 있는 ㄱ밧과 그 확률의 곱의 총합 정의\n",
        "\n",
        "   - sum of xk x f(xk)\n",
        "\n",
        "- 기대값이 기호로 표현될 때 E(X)라는 표기 주로 사용\n",
        "\n",
        "- 2X+3 으로 변환한 확률변수 Y의 기대값\n",
        "\n",
        "   - 기대값은 xk라는 값을 그대로 2xk + 3으로 치환 후 정의\n",
        "\n",
        "   - E(Y) = E(2X+3) = sum of (2xk+3)f(xk)\n",
        "\n",
        "   - 확률 변수 X가 변환된 함수 g(X)의 기대값\n",
        "\n",
        "      - E(g(X) = sum of g(xk)f(xk)\n",
        "\n",
        "<br>\n",
        "\n",
        "### 기대값의 선형성\n",
        "\n",
        "- a,b를 실수, X를 확률변수라고 한다.\n",
        "\n",
        "   - E(aX+b) = aE(X) + b\n",
        "\n",
        "\n",
        "- E(2X+3) = 2E(X)+3"
      ],
      "metadata": {
        "id": "ANNCKcxm6LT4"
      }
    },
    {
      "cell_type": "markdown",
      "source": [
        "### 분산\n",
        "\n",
        "- 편차 제곱의 기대값\n",
        "\n",
        "   - V(X) = sum of (xk-E(X)) ^ 2 f(xk)\n",
        "\n",
        "- 분산은 기호로 시그마를 사용하고, 시그마 제곱이나 V(X)로 표기\n",
        "\n",
        "- 시그마는 확률변수 X의 표준편차를 나타낸다.\n",
        "\n",
        "<br>\n",
        "\n",
        "**분산의 선형성**\n",
        "\n",
        "\n",
        "- a,b를 실수, X를 확률변수라하면 V(aX+b) = a^2V(X)\n",
        "\n",
        "- 결과: V(2X+3) = 4*V(X)"
      ],
      "metadata": {
        "id": "m1kZ6XIq6LWK"
      }
    },
    {
      "cell_type": "code",
      "source": [
        "#확률 p_k = p(x_k) 계산\n",
        "prob = np.array([f(x_k) for x_k in x_set])\n",
        "\n",
        "#x_k와 p_k의 대응을 사전식으로 표시\n",
        "dic_k = dict(zip(x_set, prob))\n",
        "dic_k"
      ],
      "metadata": {
        "colab": {
          "base_uri": "https://localhost:8080/"
        },
        "id": "4Q7XOFvSjFeB",
        "outputId": "29536d06-aadd-48b6-bd62-fc9ffe3fbc2a"
      },
      "execution_count": 23,
      "outputs": [
        {
          "output_type": "execute_result",
          "data": {
            "text/plain": [
              "{1: 0.048, 2: 0.095, 3: 0.143, 4: 0.190, 5: 0.238, 6: 0.286}"
            ]
          },
          "metadata": {},
          "execution_count": 23
        }
      ]
    },
    {
      "cell_type": "code",
      "source": [
        "#확률 정의\n",
        "np.all(prob >=0)"
      ],
      "metadata": {
        "colab": {
          "base_uri": "https://localhost:8080/"
        },
        "id": "F4za8jmgjxjj",
        "outputId": "7d672bd8-634d-48fa-d78c-df7b1764bd14"
      },
      "execution_count": 8,
      "outputs": [
        {
          "output_type": "execute_result",
          "data": {
            "text/plain": [
              "True"
            ]
          },
          "metadata": {},
          "execution_count": 8
        }
      ]
    },
    {
      "cell_type": "code",
      "source": [
        "np.sum(prob)"
      ],
      "metadata": {
        "colab": {
          "base_uri": "https://localhost:8080/"
        },
        "id": "M8ry6WDTkQsp",
        "outputId": "7c4fbcbd-08d4-4452-e66f-c384ee8c07d0"
      },
      "execution_count": 9,
      "outputs": [
        {
          "output_type": "execute_result",
          "data": {
            "text/plain": [
              "1.000"
            ]
          },
          "metadata": {},
          "execution_count": 9
        }
      ]
    },
    {
      "cell_type": "code",
      "source": [
        "## 기대값(Expectation, Expected Value)\n",
        "\n",
        "np.sum([x_k * f(x_k) for x_k in x_set])"
      ],
      "metadata": {
        "colab": {
          "base_uri": "https://localhost:8080/"
        },
        "id": "DCjnDRP-mbGD",
        "outputId": "77c7da87-dd7f-4852-eda3-b52bd9fc5784"
      },
      "execution_count": 29,
      "outputs": [
        {
          "output_type": "execute_result",
          "data": {
            "text/plain": [
              "4.333"
            ]
          },
          "metadata": {},
          "execution_count": 29
        }
      ]
    },
    {
      "cell_type": "code",
      "source": [
        "#무작위\n",
        "sample = np.random.choice(x_set, int(1e6), p=prob)\n",
        "np.mean(sample)"
      ],
      "metadata": {
        "colab": {
          "base_uri": "https://localhost:8080/"
        },
        "id": "Ds2UVtT_65GL",
        "outputId": "cdc9e7e7-0d83-49f1-fd59-8c4a1efaf9b5"
      },
      "execution_count": 31,
      "outputs": [
        {
          "output_type": "execute_result",
          "data": {
            "text/plain": [
              "4.332"
            ]
          },
          "metadata": {},
          "execution_count": 31
        }
      ]
    },
    {
      "cell_type": "code",
      "source": [
        "#변환된 확률변수 g(X)의 기대값\n",
        "def E(X, g=lambda x: x):\n",
        "    x_set, f=X\n",
        "    return np.sum([g(x_k) * f(x_k) for x_k in x_set])"
      ],
      "metadata": {
        "id": "bpvlHeo17D2q"
      },
      "execution_count": 32,
      "outputs": []
    },
    {
      "cell_type": "code",
      "source": [
        "E(X)"
      ],
      "metadata": {
        "colab": {
          "base_uri": "https://localhost:8080/"
        },
        "id": "OVPE5lQ078uM",
        "outputId": "e25436d7-decc-46b0-9860-a5702519382c"
      },
      "execution_count": 33,
      "outputs": [
        {
          "output_type": "execute_result",
          "data": {
            "text/plain": [
              "4.333"
            ]
          },
          "metadata": {},
          "execution_count": 33
        }
      ]
    },
    {
      "cell_type": "code",
      "source": [
        "E(X, g=lambda x: 2*x+3)"
      ],
      "metadata": {
        "colab": {
          "base_uri": "https://localhost:8080/"
        },
        "id": "SZzCD3zB79lQ",
        "outputId": "5d156268-2ea4-454b-d8ea-92014eef31d9"
      },
      "execution_count": 34,
      "outputs": [
        {
          "output_type": "execute_result",
          "data": {
            "text/plain": [
              "11.667"
            ]
          },
          "metadata": {},
          "execution_count": 34
        }
      ]
    },
    {
      "cell_type": "code",
      "source": [
        "#기대값의 선형성\n",
        "E(X, g=lambda x: 2*x+3)\n"
      ],
      "metadata": {
        "colab": {
          "base_uri": "https://localhost:8080/"
        },
        "id": "BwFr0q5Q8Cho",
        "outputId": "1f2226de-9894-4f63-8da9-e1708fdbacf3"
      },
      "execution_count": 35,
      "outputs": [
        {
          "output_type": "execute_result",
          "data": {
            "text/plain": [
              "11.667"
            ]
          },
          "metadata": {},
          "execution_count": 35
        }
      ]
    },
    {
      "cell_type": "code",
      "source": [
        "2*E(X) + 3"
      ],
      "metadata": {
        "colab": {
          "base_uri": "https://localhost:8080/"
        },
        "id": "YexWzyYB8c7i",
        "outputId": "59ee7ebd-a76f-482b-e6aa-5f1f21962c8e"
      },
      "execution_count": 36,
      "outputs": [
        {
          "output_type": "execute_result",
          "data": {
            "text/plain": [
              "11.667"
            ]
          },
          "metadata": {},
          "execution_count": 36
        }
      ]
    },
    {
      "cell_type": "code",
      "source": [
        "#분산\n",
        "mean = E(X)\n",
        "np.sum([(x_k-mean) **2 *f(x_k) for x_k in x_set])"
      ],
      "metadata": {
        "colab": {
          "base_uri": "https://localhost:8080/"
        },
        "id": "1Z56rEz18fOt",
        "outputId": "070dc9d9-2334-4add-c071-8e4bab698f0d"
      },
      "execution_count": 38,
      "outputs": [
        {
          "output_type": "execute_result",
          "data": {
            "text/plain": [
              "2.222"
            ]
          },
          "metadata": {},
          "execution_count": 38
        }
      ]
    },
    {
      "cell_type": "code",
      "source": [
        "#변환된 확률변수의 분산\n",
        "\n",
        "def V(X, g = lambda x:x):\n",
        "    x_set, f=X\n",
        "    mean = E(X,g)\n",
        "    return np.sum([(g(x_k)- mean) **2 * f(x_k) for x_k in x_set])"
      ],
      "metadata": {
        "id": "GrrCPs4r9Hh7"
      },
      "execution_count": 39,
      "outputs": []
    },
    {
      "cell_type": "code",
      "source": [
        "#g(X) =X\n",
        "V(X)"
      ],
      "metadata": {
        "colab": {
          "base_uri": "https://localhost:8080/"
        },
        "id": "5Dznh9I-9mhm",
        "outputId": "7c9f4ebe-44e4-46e2-daff-39d47617fc14"
      },
      "execution_count": 40,
      "outputs": [
        {
          "output_type": "execute_result",
          "data": {
            "text/plain": [
              "2.222"
            ]
          },
          "metadata": {},
          "execution_count": 40
        }
      ]
    },
    {
      "cell_type": "code",
      "source": [
        "#g(X) = 2X + 3\n",
        "V(X, lambda x: 2*x + 3)\n",
        "# 2**@ * V(X)"
      ],
      "metadata": {
        "colab": {
          "base_uri": "https://localhost:8080/"
        },
        "id": "U4iJFCNH9pN9",
        "outputId": "dcece38d-43bf-407f-bc5a-be0ed1b64c30"
      },
      "execution_count": 42,
      "outputs": [
        {
          "output_type": "execute_result",
          "data": {
            "text/plain": [
              "8.889"
            ]
          },
          "metadata": {},
          "execution_count": 42
        }
      ]
    },
    {
      "cell_type": "code",
      "source": [
        ""
      ],
      "metadata": {
        "id": "GrDyzqlo9t2k"
      },
      "execution_count": null,
      "outputs": []
    }
  ]
}