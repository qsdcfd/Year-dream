{
  "nbformat": 4,
  "nbformat_minor": 0,
  "metadata": {
    "colab": {
      "name": "구간추정",
      "provenance": [],
      "authorship_tag": "ABX9TyNvAxv9J3UoWbDI7dEz55sY"
    },
    "kernelspec": {
      "name": "python3",
      "display_name": "Python 3"
    },
    "language_info": {
      "name": "python"
    }
  },
  "cells": [
    {
      "cell_type": "markdown",
      "source": [
        ""
      ],
      "metadata": {
        "id": "g5zrqHQRoz_X"
      }
    },
    {
      "cell_type": "markdown",
      "source": [
        "### 구간추정\n",
        "\n",
        "\n",
        "**배우는 이유**\n",
        "\n",
        " - 표본평균과 불편분산이 각각 모평균과 모분산의 좋은 추정량\n",
        "\n",
        " - 표본평균 및 불편분산은 확률변수로 편향된 표본을 추출해버린다면 예상과 다른 추정이 될 가능성이 있다.\n",
        "\n",
        " - 사전에 예상되는 오차를 예측하고, 모평균이나 특정 값이 아니라 범위에 있다는 주장을 할 수 있게 되어서 더 안정적인 좋은 추정이 된다."
      ],
      "metadata": {
        "id": "2V6oHyxxoz9-"
      }
    },
    {
      "cell_type": "code",
      "execution_count": 1,
      "metadata": {
        "id": "25V27oA4nJ_L"
      },
      "outputs": [],
      "source": [
        "import numpy as np\n",
        "import pandas as pd\n",
        "import matplotlib.pyplot as plt\n",
        "from scipy import stats\n",
        "\n",
        "%precision 3\n",
        "%matplotlib inline"
      ]
    },
    {
      "cell_type": "code",
      "source": [
        "#파이싼 Scikit-learn 기반 기초 데이터 세팅(RM: 가구당 평균 방 수)\n",
        "from sklearn.datasets import load_boston\n",
        "\n",
        "boston_houseprice_data = load_boston()\n",
        "\n",
        "df = pd.DataFrame(\n",
        "    data = boston_houseprice_data.data,\n",
        "    columns = boston_houseprice_data.feature_names\n",
        ")\n",
        "rooms = np.array(df['RM'])"
      ],
      "metadata": {
        "id": "90GGjJRKqYy-"
      },
      "execution_count": null,
      "outputs": []
    },
    {
      "cell_type": "code",
      "source": [
        "p_mean = np.mean(rooms)\n",
        "p_var = np.var(rooms)\n",
        "\n",
        "p_mean, p_var\n"
      ],
      "metadata": {
        "colab": {
          "base_uri": "https://localhost:8080/"
        },
        "id": "Jk1va9FZqY1Q",
        "outputId": "30ff4b37-a073-482a-be5c-2eeb0a27594d"
      },
      "execution_count": 3,
      "outputs": [
        {
          "output_type": "execute_result",
          "data": {
            "text/plain": [
              "(6.285, 0.493)"
            ]
          },
          "metadata": {},
          "execution_count": 3
        }
      ]
    },
    {
      "cell_type": "code",
      "source": [
        "#기초데이터분포와 정규분포의 유사성 확인\n",
        "\n",
        "fig = plt.figure(figsize=(10,6))\n",
        "ax = fig.add_subplot(111)\n",
        "\n",
        "xs = np.arange(101)/10\n",
        "rv = stats.norm(p_mean, np.sqrt(p_var))\n",
        "ax.plot(xs,rv.pdf(xs), color ='gray')\n",
        "ax.hist(rooms, bins=100, range=(0,10), density=True)\n",
        "\n",
        "plt.show()"
      ],
      "metadata": {
        "colab": {
          "base_uri": "https://localhost:8080/",
          "height": 374
        },
        "id": "iZCswYMqqY20",
        "outputId": "1286ad3d-d9f7-4782-b82a-5e9034794018"
      },
      "execution_count": 4,
      "outputs": [
        {
          "output_type": "display_data",
          "data": {
            "text/plain": [
              "<Figure size 720x432 with 1 Axes>"
            ],
            "image/png": "[encoded data removed]"
          },
          "metadata": {
            "needs_background": "light"
          }
        }
      ]
    },
    {
      "cell_type": "code",
      "source": [
        "np.random.seed(0)\n",
        "n=20\n",
        "sample = np.random.choice(rooms, n)\n",
        "sample"
      ],
      "metadata": {
        "colab": {
          "base_uri": "https://localhost:8080/"
        },
        "id": "7iF1WASDqvrB",
        "outputId": "52e32a38-f4b8-4240-ac05-5957579f290a"
      },
      "execution_count": 7,
      "outputs": [
        {
          "output_type": "execute_result",
          "data": {
            "text/plain": [
              "array([5.572, 6.03 , 6.021, 7.178, 5.708, 6.438, 7.875, 6.112, 6.004,\n",
              "       5.404, 6.826, 6.358, 6.63 , 6.121, 6.417, 6.437, 7.007, 6.405,\n",
              "       6.567, 6.8  ])"
            ]
          },
          "metadata": {},
          "execution_count": 7
        }
      ]
    },
    {
      "cell_type": "code",
      "source": [
        "np.random.seed(111)\n",
        "n_samples=10000\n",
        "samples = np.random.choice(rooms, (n_samples, n))"
      ],
      "metadata": {
        "id": "l9vCdZzYqY46"
      },
      "execution_count": 8,
      "outputs": []
    },
    {
      "cell_type": "code",
      "source": [
        "\n",
        "#모평균의 점추정 표본평균 및 표본평균의 기대값\n",
        "\n",
        "for i in range(5):\n",
        "    s_mean =np.mean(sample[i])\n",
        "    print(f'{i+1}번째 표본평균: {s_mean:.3f}')"
      ],
      "metadata": {
        "colab": {
          "base_uri": "https://localhost:8080/"
        },
        "id": "4D1cxc7WqY6x",
        "outputId": "e4588883-1f70-4f27-df80-23206d94da15"
      },
      "execution_count": 9,
      "outputs": [
        {
          "output_type": "stream",
          "name": "stdout",
          "text": [
            "1번째 표본평균: 5.572\n",
            "2번째 표본평균: 6.030\n",
            "3번째 표본평균: 6.021\n",
            "4번째 표본평균: 7.178\n",
            "5번째 표본평균: 5.708\n"
          ]
        }
      ]
    },
    {
      "cell_type": "code",
      "source": [
        "sample_means = np.mean(samples, axis=1)\n",
        "np.mean(sample_means)"
      ],
      "metadata": {
        "colab": {
          "base_uri": "https://localhost:8080/"
        },
        "id": "JR0e7d5hqY8k",
        "outputId": "6f276089-930c-48b3-88b5-4e380ecf3fe3"
      },
      "execution_count": 10,
      "outputs": [
        {
          "output_type": "execute_result",
          "data": {
            "text/plain": [
              "6.286"
            ]
          },
          "metadata": {},
          "execution_count": 10
        }
      ]
    },
    {
      "cell_type": "code",
      "source": [
        "np.mean(np.random.choice(rooms, int(1e6)))"
      ],
      "metadata": {
        "colab": {
          "base_uri": "https://localhost:8080/"
        },
        "id": "fApmwY8Vq0zH",
        "outputId": "6481e0f0-fa2d-4aba-83f9-3b9ed03a0c30"
      },
      "execution_count": 12,
      "outputs": [
        {
          "output_type": "execute_result",
          "data": {
            "text/plain": [
              "6.284"
            ]
          },
          "metadata": {},
          "execution_count": 12
        }
      ]
    },
    {
      "cell_type": "code",
      "source": [
        "\n",
        "#모분산의 점추정 표본분산 및 표본분산의 기대값\n",
        "\n",
        "for i in range(5):\n",
        "    s_var = np.var(samples[i])\n",
        "    print(f'{i+1}번째 표본분산: {s_var:.3f}')"
      ],
      "metadata": {
        "colab": {
          "base_uri": "https://localhost:8080/"
        },
        "id": "k_yvDFF8q01L",
        "outputId": "8affbec8-d860-4bb9-99d4-31cd1858b0f2"
      },
      "execution_count": 13,
      "outputs": [
        {
          "output_type": "stream",
          "name": "stdout",
          "text": [
            "1번째 표본분산: 0.589\n",
            "2번째 표본분산: 0.360\n",
            "3번째 표본분산: 0.486\n",
            "4번째 표본분산: 0.360\n",
            "5번째 표본분산: 0.319\n"
          ]
        }
      ]
    },
    {
      "cell_type": "code",
      "source": [
        "sample_vars = np.var(samples, axis=1)\n",
        "np.mean(sample_vars)"
      ],
      "metadata": {
        "colab": {
          "base_uri": "https://localhost:8080/"
        },
        "id": "v2ryAw19q03i",
        "outputId": "b6f335ef-2587-4f60-f1dc-8e6fdc0addb8"
      },
      "execution_count": 14,
      "outputs": [
        {
          "output_type": "execute_result",
          "data": {
            "text/plain": [
              "0.473"
            ]
          },
          "metadata": {},
          "execution_count": 14
        }
      ]
    },
    {
      "cell_type": "code",
      "source": [
        "#var 함수에 delta degree of freedom=1을 지정하면 계산 가능\n",
        "\n",
        "sample_u_vars = np.var(samples, axis=1, ddof=1)\n",
        "np.mean(sample_u_vars)"
      ],
      "metadata": {
        "colab": {
          "base_uri": "https://localhost:8080/"
        },
        "id": "nwDbFF1qq68Y",
        "outputId": "44539468-8f74-4e7e-9b31-abf128b83489"
      },
      "execution_count": 15,
      "outputs": [
        {
          "output_type": "execute_result",
          "data": {
            "text/plain": [
              "0.498"
            ]
          },
          "metadata": {},
          "execution_count": 15
        }
      ]
    },
    {
      "cell_type": "code",
      "source": [
        "#1,000,000개 샘플의 불편분산 계산시 모분산인 0.492과 거의 같아짐: 일정추정량 만족\n",
        "\n",
        "np.var(np.random.choice(rooms, int(1e6)), ddof=1)"
      ],
      "metadata": {
        "colab": {
          "base_uri": "https://localhost:8080/"
        },
        "id": "ct3fnlyGq6-r",
        "outputId": "6dcb5a54-dbdb-4a06-d62c-7398fbc5f944"
      },
      "execution_count": 16,
      "outputs": [
        {
          "output_type": "execute_result",
          "data": {
            "text/plain": [
              "0.492"
            ]
          },
          "metadata": {},
          "execution_count": 16
        }
      ]
    },
    {
      "cell_type": "code",
      "source": [
        "#구간추정: 모분산 알 때 정규분포의 모평균의 신뢰구간 일반화\n",
        "#신뢰구간: 95%개선\n",
        "\n",
        "rv = stats.norm()\n",
        "lcl = s_mean - rv.isf(0.025) * np.sqrt(p_var/n)\n",
        "ucl = s_mean - rv.isf(0.975) * np.sqrt(p_var/n)\n",
        "\n",
        "lcl, ucl\n"
      ],
      "metadata": {
        "colab": {
          "base_uri": "https://localhost:8080/"
        },
        "id": "TJwcQodkp-uM",
        "outputId": "9eb5082b-14f8-464d-af85-962a06054039"
      },
      "execution_count": 11,
      "outputs": [
        {
          "output_type": "execute_result",
          "data": {
            "text/plain": [
              "(5.400, 6.016)"
            ]
          },
          "metadata": {},
          "execution_count": 11
        }
      ]
    },
    {
      "cell_type": "markdown",
      "source": [
        "### 신뢰구간 해석시 범하기 쉬운 오류\n",
        "\n",
        "- 95% 신뢰구간이[5.400,6.016]이라면, 모평균이 95%확률로 위 범위에 들어가나?\n",
        "\n",
        "   - 그렇지 않다.\n",
        "\n",
        "   - 모평균 신뢰구간 추정을 100번하면 95번 정도의 비율로 모평균이 포함될 것이라는 뜻\n",
        "\n",
        "\n",
        "- 옳은 해석\n",
        "\n",
        "   - 동일한 방법으로 수차례 표본추출하여 구간추정 시 95%의 구간추정에는 모평균 포함"
      ],
      "metadata": {
        "id": "W089x6X3rA1L"
      }
    },
    {
      "cell_type": "code",
      "source": [
        "fig = plt.figure(figsize=(10,10))\n",
        "ax = fig.add_subplot(111)\n",
        "\n",
        "rv = stats.norm()\n",
        "n_samples = 20\n",
        "ax.vlines(p_mean, 0,2)\n",
        "for i in range(n_samples):\n",
        "    sample_ = samples[i]\n",
        "    s_mean_ = np.mean(sample_)\n",
        "    lcl = s_mean_ - rv.isf(0.025) * np.sqrt(p_var/n)\n",
        "    ucl = s_mean_ - rv.isf(0.975) * np.sqrt(p_var/n)\n",
        "    if lcl <=p_mean<=ucl:\n",
        "        ax.scatter(s_mean, n_samples-i, color='gray')\n",
        "        ax.hlines(n_samples-i, lcl, ucl, color='gray')\n",
        "    else:\n",
        "        ax.scatter(s_mean, n_samples-i, color='b')\n",
        "        ax.hlines(n_samples-i, lcl, ucl, color='b')\n",
        "\n",
        "ax.set_xticks([p_mean])\n",
        "ax.set_xticklabels(['population mean'])\n",
        "\n",
        "plt.show()"
      ],
      "metadata": {
        "colab": {
          "base_uri": "https://localhost:8080/",
          "height": 592
        },
        "id": "oPrmH5A_rzGc",
        "outputId": "ecfbe3a7-55b6-4165-aacb-d0d05d3f3e65"
      },
      "execution_count": 20,
      "outputs": [
        {
          "output_type": "display_data",
          "data": {
            "text/plain": [
              "<Figure size 720x720 with 1 Axes>"
            ],
            "image/png": "[encoded data removed]"
          },
          "metadata": {
            "needs_background": "light"
          }
        }
      ]
    },
    {
      "cell_type": "code",
      "source": [
        "#신뢰구간 해석을 위한 10,000회 추정시 모평균을 포함할 확률 계산\n",
        "\n",
        "rv = stats.norm()\n",
        "cnt =0\n",
        "\n",
        "for sample_ in samples:\n",
        "    s_mean = np.mean(sample_)\n",
        "    lcl = s_mean_ - rv.isf(0.025) * np.sqrt(p_var/n)\n",
        "    ucl = s_mean_ - rv.isf(0.975) * np.sqrt(p_var/n)\n",
        "\n",
        "    if lcl <= p_mean <= ucl:\n",
        "        cnt +=1\n",
        "cnt/len(samples)\n",
        "##100% 모평균 포함"
      ],
      "metadata": {
        "colab": {
          "base_uri": "https://localhost:8080/"
        },
        "id": "pVhg_wofp-wR",
        "outputId": "c1fe4859-038f-4ff7-d19e-a08165faba19"
      },
      "execution_count": 21,
      "outputs": [
        {
          "output_type": "execute_result",
          "data": {
            "text/plain": [
              "1.000"
            ]
          },
          "metadata": {},
          "execution_count": 21
        }
      ]
    },
    {
      "cell_type": "markdown",
      "source": [
        "### 구간추정 정규붐포의 모분산\n",
        "\n"
      ],
      "metadata": {
        "id": "LDrb1-HQIGxf"
      }
    },
    {
      "cell_type": "code",
      "source": [
        "#10000개 표본 데이터 기반 Y의 표본데이터 생성\n",
        "sample_y = sample_u_vars * (n-1) / p_var\n",
        "sample_y"
      ],
      "metadata": {
        "colab": {
          "base_uri": "https://localhost:8080/"
        },
        "id": "QUYRmH9Ur3k0",
        "outputId": "0f809b3d-0a14-4e5c-8af7-3bdabacdc53a"
      },
      "execution_count": 28,
      "outputs": [
        {
          "output_type": "execute_result",
          "data": {
            "text/plain": [
              "array([23.913, 14.632, 19.733, ...,  6.311, 17.068, 30.739])"
            ]
          },
          "metadata": {},
          "execution_count": 28
        }
      ]
    },
    {
      "cell_type": "code",
      "source": [
        "#카이제곱 : Y의 표본데이터와 시각화\n",
        "\n",
        "fig = plt.figure(figsize=(10,6))\n",
        "ax = fig.add_subplot(111)\n",
        "\n",
        "xs = np.linspace(0,40,100)\n",
        "rv = stats.chi2(df=n-1)\n",
        "ax.plot(xs, rv.pdf(xs), color='gray')\n",
        "hist,_,_ = ax.hist(sample_y, bins=100, range=(0,40), density=True)\n",
        "\n",
        "plt.show()"
      ],
      "metadata": {
        "colab": {
          "base_uri": "https://localhost:8080/",
          "height": 374
        },
        "id": "4NeGDcmAIWzq",
        "outputId": "52ada97c-8b8e-4352-b3f9-25692ac50f79"
      },
      "execution_count": 29,
      "outputs": [
        {
          "output_type": "display_data",
          "data": {
            "text/plain": [
              "<Figure size 720x432 with 1 Axes>"
            ],
            "image/png": "[encoded data removed]"
          },
          "metadata": {
            "needs_background": "light"
          }
        }
      ]
    },
    {
      "cell_type": "code",
      "source": [
        "#구간 추정 - 모평균 모를 때 정규분포 모분산의 신뢰구간 일반화\n",
        "#표본데이터로 모분산의 95%신뢰구간 계산\n",
        "rv = stats.chi2(df=n-1)\n",
        "lcl = (n-1) * p_var / rv.isf(0.025)\n",
        "hcl = (n-1) * p_var / rv.isf(0.975)\n",
        "\n",
        "lcl, hcl"
      ],
      "metadata": {
        "colab": {
          "base_uri": "https://localhost:8080/"
        },
        "id": "00IxzqWCI6NS",
        "outputId": "07d46662-8c2a-4613-acfb-771800f07ccd"
      },
      "execution_count": 32,
      "outputs": [
        {
          "output_type": "execute_result",
          "data": {
            "text/plain": [
              "(0.285, 1.051)"
            ]
          },
          "metadata": {},
          "execution_count": 32
        }
      ]
    },
    {
      "cell_type": "code",
      "source": [
        "fig = plt.figure(figsize=(10, 10))\n",
        "ax = fig.add_subplot(111)\n",
        "\n",
        "rv = stats.chi2(df=n-1)\n",
        "n_samples = 20\n",
        "ax.vlines(p_var, 0, 21)\n",
        "for i in range(n_samples):\n",
        "    sample_ = samples[i]\n",
        "    u_var_ = np.var(sample_, ddof=1)\n",
        "    lcl = (n-1) * u_var_ / rv.isf(0.025)\n",
        "    ucl = (n-1) * u_var_ / rv.isf(0.975)\n",
        "    if lcl <= p_var <= ucl:\n",
        "        ax.scatter(u_var_, n_samples-i, color='gray')\n",
        "        ax.hlines(n_samples-i, lcl, ucl, 'gray')\n",
        "    else:\n",
        "        ax.scatter(u_var_, n_samples-i, color='b')\n",
        "        ax.hlines(n_samples-i, lcl, ucl, 'b')\n",
        "ax.set_xticks([p_var])\n",
        "ax.set_xticklabels(['population variance'])\n",
        "\n",
        "plt.show()"
      ],
      "metadata": {
        "colab": {
          "base_uri": "https://localhost:8080/",
          "height": 592
        },
        "id": "ignFLxMtKClQ",
        "outputId": "dc6e1a0e-1da2-4be8-f4f8-63047ae6bbac"
      },
      "execution_count": 33,
      "outputs": [
        {
          "output_type": "display_data",
          "data": {
            "text/plain": [
              "<Figure size 720x720 with 1 Axes>"
            ],
            "image/png": "[encoded data removed]"
          },
          "metadata": {
            "needs_background": "light"
          }
        }
      ]
    },
    {
      "cell_type": "code",
      "source": [
        "rv = stats.chi2(df=n-1)\n",
        "cnt = 0\n",
        "for sample_ in samples:\n",
        "    u_var_ = np.var(sample_, ddof=1)\n",
        "    lcl = (n-1) * u_var_ / rv.isf(0.025)\n",
        "    ucl = (n-1) * u_var_ / rv.isf(0.975)\n",
        "    if lcl <= p_var <= ucl:\n",
        "        cnt += 1\n",
        "        \n",
        "cnt / len(samples)\n",
        "#100번 추정시 약 84.1%가 모분산을 포함하고 있다(95%와의 차이가 있다)"
      ],
      "metadata": {
        "colab": {
          "base_uri": "https://localhost:8080/"
        },
        "id": "hsbB8qDQK27N",
        "outputId": "a497c389-f876-45df-de29-9a15de8ca1c8"
      },
      "execution_count": 34,
      "outputs": [
        {
          "output_type": "execute_result",
          "data": {
            "text/plain": [
              "0.841"
            ]
          },
          "metadata": {},
          "execution_count": 34
        }
      ]
    },
    {
      "cell_type": "markdown",
      "source": [
        "### 구간추정- 정규분포의 모평균(모분산 모를때)\n",
        "\n",
        "- 실제로는 모평균과 모분산을 모르는 경우가 대부분이다.\n",
        "\n",
        "- 불편분산을 기반으로한 표준오차로 대신 사용\n",
        "\n",
        "- t분포 표준화\n"
      ],
      "metadata": {
        "id": "eYNMR1ffLDIq"
      }
    },
    {
      "cell_type": "code",
      "source": [
        "rv = stats.t(df=n-1)\n",
        "lcl = s_mean - rv.isf(0.025) * np.sqrt(p_var/n)\n",
        "ucl = s_mean - rv.isf(0.975) * np.sqrt(p_var/n)\n",
        "\n",
        "lcl, ucl"
      ],
      "metadata": {
        "colab": {
          "base_uri": "https://localhost:8080/"
        },
        "id": "2Ef9xzq0K5gF",
        "outputId": "d3fa01ef-5e3a-4844-d814-e965b2d675b9"
      },
      "execution_count": 36,
      "outputs": [
        {
          "output_type": "execute_result",
          "data": {
            "text/plain": [
              "(5.803, 6.460)"
            ]
          },
          "metadata": {},
          "execution_count": 36
        }
      ]
    },
    {
      "cell_type": "code",
      "source": [
        ""
      ],
      "metadata": {
        "id": "IRX87C7LRyFu"
      },
      "execution_count": null,
      "outputs": []
    }
  ]
}