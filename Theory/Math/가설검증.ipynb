{
  "nbformat": 4,
  "nbformat_minor": 0,
  "metadata": {
    "colab": {
      "name": "가설검증",
      "provenance": [],
      "authorship_tag": "ABX9TyPL7DRe//tNdfcDIAEMVjvh"
    },
    "kernelspec": {
      "name": "python3",
      "display_name": "Python 3"
    },
    "language_info": {
      "name": "python"
    }
  },
  "cells": [
    {
      "cell_type": "markdown",
      "source": [
        "### 기본세팅"
      ],
      "metadata": {
        "id": "c5e4qh8QxA02"
      }
    },
    {
      "cell_type": "code",
      "execution_count": 1,
      "metadata": {
        "id": "Pa5ljoN5vuNX"
      },
      "outputs": [],
      "source": [
        "import numpy as np\n",
        "import pandas as pd\n",
        "from scipy import stats\n",
        "\n",
        "%precision 3\n",
        "np.random.seed(1111)"
      ]
    },
    {
      "cell_type": "code",
      "source": [
        "from sklearn.datasets import load_boston\n",
        "\n",
        "boston_houseprice_data = load_boston()\n",
        "\n",
        "df = pd.DataFrame(\n",
        "    data = boston_houseprice_data.data, \n",
        "    columns = boston_houseprice_data.feature_names\n",
        ")\n",
        "rooms = np.array(df['RM'])\n",
        "sample = np.array(df['RM'])[:20]"
      ],
      "metadata": {
        "id": "3Yegoeyew5Nn"
      },
      "execution_count": null,
      "outputs": []
    },
    {
      "cell_type": "code",
      "source": [
        "p_mean, s_mean = np.mean(rooms), np.mean(sample)\n",
        "p_mean, s_mean"
      ],
      "metadata": {
        "colab": {
          "base_uri": "https://localhost:8080/"
        },
        "id": "fBI0BqKWw8AV",
        "outputId": "da11d0aa-4702-4c97-9022-dee593cafc20"
      },
      "execution_count": 3,
      "outputs": [
        {
          "output_type": "execute_result",
          "data": {
            "text/plain": [
              "(6.285, 6.192)"
            ]
          },
          "metadata": {},
          "execution_count": 3
        }
      ]
    },
    {
      "cell_type": "code",
      "source": [
        "p_var, s_var = np.var(rooms), np.var(sample, ddof=1)\n",
        "p_var, s_var"
      ],
      "metadata": {
        "colab": {
          "base_uri": "https://localhost:8080/"
        },
        "id": "TqyxM8Vzw8Lw",
        "outputId": "7650dc4d-26a7-4fc8-a2f2-636dddc9bea5"
      },
      "execution_count": 4,
      "outputs": [
        {
          "output_type": "execute_result",
          "data": {
            "text/plain": [
              "(0.493, 0.232)"
            ]
          },
          "metadata": {},
          "execution_count": 4
        }
      ]
    },
    {
      "cell_type": "markdown",
      "source": [
        "---"
      ],
      "metadata": {
        "id": "YjwCEK8FxEWb"
      }
    },
    {
      "cell_type": "markdown",
      "source": [
        "### 통계적 가설검정(Statistical Hypothesis Testing\n",
        "\n",
        "- 모집단의 모수에 관하여 두 가지 가설을 세우고, 표본으로부터 계산되는 통계량을  이용하여 어느 가설이 옳은지 판단하는 통계적인 방법\n",
        "\n",
        "\n",
        "**귀무가설(H0, Null Hypothesis)**\n",
        "\n",
        "- 대립가설의 반대되는 개념\n",
        "\n",
        "**대립가설(H1, Alternative Hypothesis)**\n",
        "\n",
        "-  주장하고 싶은 가설\n",
        "\n",
        "- 주로 유의미한 차이가 있는지 효과가 있는지 주장\n",
        "\n",
        "**예시**\n",
        "\n",
        "- 정책으로 예시를 들면, 기존의 정책이 귀무가설이고, 기존의 정책 대비 비용이 많이 들더라도 새로운 정책을 만들고 유의미한 정책을 주장하고 싶다면 대립가설로 가정\n",
        "\n",
        "<br>\n",
        "\n",
        "**귀무가설 기각/채택**\n",
        "\n",
        "- 기각: 귀무가설은 옳지 않다(->새로운 정책이 유의미하다)\n",
        "\n",
        "- 채택: 귀무가설이 옳지 않다고 할 수 없다.(귀무가설이 옳다는 의미는 아님)\n",
        "\n",
        "<br>\n",
        "\n",
        "### 통계적 가설검정 용어\n",
        "\n",
        "**유의하다(Significant)**\n",
        "\n",
        "- 귀무가설을 기각/채택의 판단은 귀무가설으 바탕으로 표본을 통해서 계산된 통계량이 특정 신뢰수준 범위내에서 보기 드문 값이지 여부를 통해서 결정\n",
        "\n",
        "- 보기 드문 값이라면 귀무가설 기각\n",
        "\n",
        "- 그렇지 않다면, 귀무가설 채택\n",
        "\n",
        "**예시**\n",
        "\n",
        "보스턴 주택의 평균 방 수가 6보다 크다라는 대립가설과 6보다 작거나 같다라는 귀무가설을 통해 모평균이 6으로 가정되고, 표폰 추출 시 95%의 확률로 표본평균 값 <=6.164라는 조건 만족\n",
        "\n",
        "예시 데이터처럼 6.164범위보다 바깥에 존재하는 표본평균은 6.192는 보기 드문 값이므로  귀무가설은 기각.\n",
        "\n",
        "<br>\n",
        "\n",
        "**기각역/채택역**\n",
        "\n",
        "- 기각역: 귀무가설이 기각되는 구간\n",
        "\n",
        "(표본평균 > 6.164라면 귀무가설은 기각되므로 표본평균>6.164가 기각역이다.)\n",
        "\n",
        "- 채택역: 귀무가설이 채택되는 구간\n",
        "\n",
        "\n",
        "\n",
        "(표본평균 <= 6.164라면 귀무가설은 기각되므로 표본평균<=6.164가 기각역이다.)\n",
        "\n",
        "\n",
        "\n"
      ],
      "metadata": {
        "id": "nDiKeijgxFb7"
      }
    },
    {
      "cell_type": "markdown",
      "source": [
        "### 가설검정의 순서도\n",
        "\n",
        "![image.png](data:image/png;base64,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)"
      ],
      "metadata": {
        "id": "eSua_9a93Qo7"
      }
    },
    {
      "cell_type": "code",
      "source": [
        "## 예시\n",
        "\n",
        "# 모집단이 정규분포를 따르고 모분산이 0.2임을 알고 있다\n",
        "# 보스턴의 가구당 평균 방 숙 6보다 큰지 여부 파악\n",
        "# 모평균이 6이라는 가정\n",
        "# 그 가정을 바탕으로 20개의 표본은X1,X2,X3...,X20 ~ N(6,0.2)를 따른다\n",
        "# 표본퍙균~N(6,0.2,20)\n",
        "#표본평균의 P = 0.05를 만족하는 x를 찾는다.\n",
        "\n",
        "rv = stats.norm(6,np.sqrt(0.2/20))\n",
        "rv.isf(0.05)\n",
        "#5%확률로 표본평균이 6.6164를 넘으므로 실제로 모평균이 6보다 클 수 있을 것 같다.라는 결론을 내리는 것을 가설검증 "
      ],
      "metadata": {
        "colab": {
          "base_uri": "https://localhost:8080/"
        },
        "id": "OkSdVdZYw-SW",
        "outputId": "811c9c2f-b32c-45b4-9333-1ceda6247ba7"
      },
      "execution_count": 7,
      "outputs": [
        {
          "output_type": "execute_result",
          "data": {
            "text/plain": [
              "6.164"
            ]
          },
          "metadata": {},
          "execution_count": 7
        }
      ]
    },
    {
      "cell_type": "markdown",
      "source": [
        "### 통계적 가설검정 용어\n",
        "\n",
        "**유의수준(신뢰수준, Level of Significance)**\n",
        "\n",
        "- 표본평균이 기가역에 들아갈 확률 a\n",
        "\n",
        "(주황색으로 칠해진 영역의 면적, 예시=0.05)\n",
        "\n",
        "<br>\n",
        "\n",
        "**임계값(Critical Value)**\n",
        "\n",
        "- 경계선상의 값(예시:6.164)\n",
        "\n",
        "<br>\n",
        "\n",
        "**검정통계량(Test Statistic)**\n",
        "\n",
        "- 검정에 사용될 통계랑(예시=6.192)\n",
        "\n",
        "\n",
        "<br>\n",
        "\n",
        "**p값(p-value)**\n",
        "\n",
        "- 검정통계량 기준으로 바깥영역의 면적\n",
        "\n",
        "(초록색으로 칠해진 영역의 면접, 예시=0.028)\n",
        "\n",
        "![image.png](data:image/png;base64,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)\n",
        "\n",
        "\n",
        "\n"
      ],
      "metadata": {
        "id": "ZBPKdZG61gBV"
      }
    },
    {
      "cell_type": "code",
      "source": [
        "z = (s_mean - 6) / np.sqrt(0.2/20)\n",
        "z"
      ],
      "metadata": {
        "colab": {
          "base_uri": "https://localhost:8080/"
        },
        "id": "MWs0u7Bu2vY6",
        "outputId": "c1af12e1-99cb-4b2a-a989-92c8227e4b09"
      },
      "execution_count": 8,
      "outputs": [
        {
          "output_type": "execute_result",
          "data": {
            "text/plain": [
              "1.919"
            ]
          },
          "metadata": {},
          "execution_count": 8
        }
      ]
    },
    {
      "cell_type": "code",
      "source": [
        "rv = stats.norm()\n",
        "rv.isf(0.95)"
      ],
      "metadata": {
        "colab": {
          "base_uri": "https://localhost:8080/"
        },
        "id": "yWpDJW9g22Qz",
        "outputId": "d142f3c3-fb25-41d6-e7e5-8dd292d5f457"
      },
      "execution_count": 10,
      "outputs": [
        {
          "output_type": "execute_result",
          "data": {
            "text/plain": [
              "-1.645"
            ]
          },
          "metadata": {},
          "execution_count": 10
        }
      ]
    },
    {
      "cell_type": "code",
      "source": [
        "rv.cdf(z)"
      ],
      "metadata": {
        "colab": {
          "base_uri": "https://localhost:8080/"
        },
        "id": "71MA7aWoyYmU",
        "outputId": "9d1cd41b-70d5-4f4a-f98c-3ae639348332"
      },
      "execution_count": 11,
      "outputs": [
        {
          "output_type": "execute_result",
          "data": {
            "text/plain": [
              "0.972"
            ]
          },
          "metadata": {},
          "execution_count": 11
        }
      ]
    },
    {
      "cell_type": "code",
      "source": [
        ""
      ],
      "metadata": {
        "id": "nUg3sq8U2oJo"
      },
      "execution_count": null,
      "outputs": []
    },
    {
      "cell_type": "markdown",
      "source": [
        "### 단측검정 & 양측검정\n",
        "\n",
        "**단측검정**\n",
        "\n",
        "- 한 방향으로만 검정을 수행하는 방법\n",
        "\n",
        "- 예시: 대립가설이 모평균 > 6 혹은 모평균 < 6\n",
        "\n",
        "**양측검정**\n",
        "\n",
        "- 양방향으로 검정을 수행하는 방법\n",
        "\n",
        "- 예시: 대립가설이 모평균 != 6일 때\n",
        "\n",
        "<br>\n",
        "\n",
        "**단측검정 & 양측검정 주의할 점\n",
        "\n",
        "- 기각역이 다르다\n",
        "\n",
        "   - 단측검정은 한쪽 방향으로 기각역 범위가 a이다\n",
        "\n",
        "   - 양측검정은 양쪽 방향으로 기각역 범위가 a/2이다.\n"
      ],
      "metadata": {
        "id": "Hq2BftTr3b0e"
      }
    },
    {
      "cell_type": "code",
      "source": [
        "z = (s_mean-6) / np.sqrt(0.2/20)\n",
        "z"
      ],
      "metadata": {
        "colab": {
          "base_uri": "https://localhost:8080/"
        },
        "id": "ogFOhjo67Cau",
        "outputId": "26b5675f-467d-4e44-f940-c3e27b674220"
      },
      "execution_count": 13,
      "outputs": [
        {
          "output_type": "execute_result",
          "data": {
            "text/plain": [
              "1.919"
            ]
          },
          "metadata": {},
          "execution_count": 13
        }
      ]
    },
    {
      "cell_type": "code",
      "source": [
        "rv = stats.norm()\n",
        "rv.interval(0.95)"
      ],
      "metadata": {
        "colab": {
          "base_uri": "https://localhost:8080/"
        },
        "id": "9eEJQS4K7Ih0",
        "outputId": "54d96b5e-7ba1-4e54-85cd-685e24c1a38a"
      },
      "execution_count": 16,
      "outputs": [
        {
          "output_type": "execute_result",
          "data": {
            "text/plain": [
              "(-1.960, 1.960)"
            ]
          },
          "metadata": {},
          "execution_count": 16
        }
      ]
    },
    {
      "cell_type": "code",
      "source": [
        "rv.cdf(z) * 2"
      ],
      "metadata": {
        "colab": {
          "base_uri": "https://localhost:8080/"
        },
        "id": "p-LNwZ-f7Imh",
        "outputId": "e33c24c4-92bd-4e0e-ed37-323e48750b9d"
      },
      "execution_count": 17,
      "outputs": [
        {
          "output_type": "execute_result",
          "data": {
            "text/plain": [
              "1.945"
            ]
          },
          "metadata": {},
          "execution_count": 17
        }
      ]
    },
    {
      "cell_type": "markdown",
      "source": [
        "### 가설검정의 두 가지 오류\n",
        "\n",
        "\n",
        "**제 1종 오류**\n",
        "\n",
        "- 귀무가설이 옳을 때, 귀무가설을 기각하는 오류\n",
        "\n",
        "\n",
        "- 현 정책을 유지하는 것과 큰 차이가 없음에도, 막대한 비용을 들여서 새로운 정책을 시도하는 오류\n",
        "\n",
        "   - (안 고쳐도 되는 걸 고치게 했으니 시간.돈 낭비)\n",
        "\n",
        "- 하지 말아야할 것을 행한 것으로 오탐(False Positive)\n",
        "\n",
        "- 제 1종 오류를 범할 확률은 위험률 a(알파)라고 하고 유의수준과 일치\n",
        "\n",
        "- 분석기가 제어할 수 있는 오류\n",
        "\n",
        "   - 주어진 유의수준에 맞추어서 분석가가 의사결정을 할 수 있다.\n",
        "\n",
        "\n",
        "<br>\n",
        "\n",
        "**제 2종 오류**\n",
        "\n",
        "- 대립가설이 옳을 때, 귀무가설을 채택하는 오류\n",
        "\n",
        "- 새로운 정책으로 변화가 유의미함에도 큰 비용을 들이지 않는 현 정책을 고수하는 오류\n",
        "\n",
        "   - (고쳐야 되는데 안 고쳤으니 훗날 문제가 생길 것)\n",
        "\n",
        "- 행해야할 것을 제대로 인식하지 못했으므로 미탐(False Negative)\n",
        "\n",
        "- 제 2종 오류를 범할 확률은 b(베타)라고 하며, 1-b를 검정력(power)\n",
        "\n",
        "- 분석기가 제어할 수 없는 오류\n",
        "\n",
        "   - 분석가가 제어할 수 없는 비대칭 정보에 의하여 귀무가설 채택\n",
        "\n",
        "\n",
        "<br>\n",
        "\n",
        "*Positive: 귀무가설 기각*\n",
        "\n",
        "*Negative: 귀무가설 기각의 실패*\n",
        "\n"
      ],
      "metadata": {
        "id": "UQfvHxrg4PUc"
      }
    },
    {
      "cell_type": "code",
      "source": [
        "rv = stats.norm(6, np.sqrt(0.2))"
      ],
      "metadata": {
        "id": "se4ZsCZR7RjL"
      },
      "execution_count": 18,
      "outputs": []
    },
    {
      "cell_type": "code",
      "source": [
        "#제 1종 오류\n",
        "# 평균이 6인데 6보다 크다는 결론을 내리는 상황\n",
        "c = stats.norm().isf(0.05)\n",
        "n_samples = 10000\n",
        "cnt = 0\n",
        "\n",
        "for _ in range(n_samples):\n",
        "    sample_ = np.round(rv.rvs(20),2)\n",
        "    s_mean_ = np.mean(sample_)\n",
        "    z = (s_mean-6) / np.sqrt(0.2/20)\n",
        "\n",
        "    if z>c:\n",
        "        cnt +=1\n",
        "cnt / n_samples"
      ],
      "metadata": {
        "colab": {
          "base_uri": "https://localhost:8080/"
        },
        "id": "pyFXC9WA3d1S",
        "outputId": "7b683d5e-4896-42c2-fb48-6293242a2ac0"
      },
      "execution_count": 19,
      "outputs": [
        {
          "output_type": "execute_result",
          "data": {
            "text/plain": [
              "1.000"
            ]
          },
          "metadata": {},
          "execution_count": 19
        }
      ]
    },
    {
      "cell_type": "code",
      "source": [
        "c"
      ],
      "metadata": {
        "colab": {
          "base_uri": "https://localhost:8080/"
        },
        "id": "9aE383Rr70r_",
        "outputId": "729c26e4-c5d5-43e5-e54b-09f352c5cff2"
      },
      "execution_count": 20,
      "outputs": [
        {
          "output_type": "execute_result",
          "data": {
            "text/plain": [
              "1.645"
            ]
          },
          "metadata": {},
          "execution_count": 20
        }
      ]
    },
    {
      "cell_type": "code",
      "source": [
        "#제 2종 오류\n",
        "#평균이 6이상인데 6이랑이라는 결론을 얻을 수 없는 상황\n",
        "#비대칭정보 모평균=6.15\n",
        "#비대칭정보를 기반으로 샘플링이 될 때 이러한 오류가 날 확률을 할 수 있다.\n",
        "#모평균을 몰라서 생기는 오류이다.\n",
        "rv = stats.norm(6.15, np.sqrt(0.2))\n"
      ],
      "metadata": {
        "id": "jxDCslxK6TM1"
      },
      "execution_count": 21,
      "outputs": []
    },
    {
      "cell_type": "code",
      "source": [
        "c = stats.norm().isf(0.05)\n",
        "n_samples = 10000\n",
        "cnt = 0\n",
        "for _ in range(n_samples):\n",
        "    sample_ = np.round(rv.rvs(20),2)\n",
        "    s_mean_ = np.mean(sample_)\n",
        "    z = (s_mean_ -6) /np.sqrt(0.2/20)\n",
        "    if z<=c:\n",
        "        cnt +=1\n",
        "cnt / n_samples"
      ],
      "metadata": {
        "colab": {
          "base_uri": "https://localhost:8080/"
        },
        "id": "hyaCs79P8Aai",
        "outputId": "01d0bb76-4a0c-40b1-a5ae-0b4a27093f77"
      },
      "execution_count": 22,
      "outputs": [
        {
          "output_type": "execute_result",
          "data": {
            "text/plain": [
              "0.567"
            ]
          },
          "metadata": {},
          "execution_count": 22
        }
      ]
    },
    {
      "cell_type": "code",
      "source": [
        "c"
      ],
      "metadata": {
        "colab": {
          "base_uri": "https://localhost:8080/"
        },
        "id": "jmnpAI2A8SwN",
        "outputId": "0805f0e4-4249-45e0-f5f0-a92d9daa3723"
      },
      "execution_count": 23,
      "outputs": [
        {
          "output_type": "execute_result",
          "data": {
            "text/plain": [
              "1.645"
            ]
          },
          "metadata": {},
          "execution_count": 23
        }
      ]
    },
    {
      "cell_type": "code",
      "source": [
        ""
      ],
      "metadata": {
        "id": "KE_o0Skh8fc7"
      },
      "execution_count": null,
      "outputs": []
    },
    {
      "cell_type": "markdown",
      "source": [
        "### 검정- 정규분포의 모퍙균(모분산 알 때)\n",
        "\n",
        "![image.png](data:image/png;base64,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)"
      ],
      "metadata": {
        "id": "HGXWOsyV8aDz"
      }
    },
    {
      "cell_type": "code",
      "source": [
        "#평균 =6. 유의수준 5%로 양측 검정\n",
        "#p값이 0.0055로서 0.05보다 크므로 귀무가설 채택\n",
        "\n",
        "\n",
        "def pmean_test(sample, mean0, p_var, alpha=0.05):\n",
        "    s_mean = np.mean(sample)\n",
        "    n = len(sample)\n",
        "    rv = stats.norm()\n",
        "    interval = rv.interval(1-alpha)\n",
        "\n",
        "    z = (s_mean-mean0) / np.sqrt(p_var/n)\n",
        "    if interval[0] <=z <= interval[1]:\n",
        "        print('귀무가설 채택')\n",
        "    else:\n",
        "        print('귀무가설 기각')\n",
        "    \n",
        "    if z <0:\n",
        "        p = rv.cdf(z) *2\n",
        "    else:\n",
        "        p = (1-rv.cdf(z)) *2\n",
        "    print(f'p값은 {p:.3f}')"
      ],
      "metadata": {
        "id": "0KkRpU9x8TJy"
      },
      "execution_count": 26,
      "outputs": []
    },
    {
      "cell_type": "code",
      "source": [
        "pmean_test(sample, 6,0.2)"
      ],
      "metadata": {
        "colab": {
          "base_uri": "https://localhost:8080/"
        },
        "id": "41ye95U7HvgT",
        "outputId": "98c3f7e4-63ed-4c3c-f85f-13bc0ae8931f"
      },
      "execution_count": 27,
      "outputs": [
        {
          "output_type": "stream",
          "name": "stdout",
          "text": [
            "귀무가설 채택\n",
            "p값은 0.055\n"
          ]
        }
      ]
    },
    {
      "cell_type": "code",
      "source": [
        ""
      ],
      "metadata": {
        "id": "T9h6OhRaHyJz"
      },
      "execution_count": null,
      "outputs": []
    },
    {
      "cell_type": "markdown",
      "source": [
        "### 정규분포 모분산에 대한 검정\n",
        "![image.png](data:image/png;base64,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)\n"
      ],
      "metadata": {
        "id": "CxH3v4KoIoLk"
      }
    },
    {
      "cell_type": "code",
      "source": [
        "#정규분포 모분산에 대한 검정\n",
        "#분산 = 0.5에 대해 ㅇ유의수준 5%로 양측검정시\n",
        "#카이제곱 이용\n",
        "#p값이 0.047로 0.05보다 작으므로 귀무가설 기각\n",
        "\n",
        "def pvar_test(sample, var0, alpha=0.05):\n",
        "    u_var = np.var(sample, ddof=1)\n",
        "    n = len(sample)\n",
        "    rv = stats.chi2(df=n-1) #카이제곱\n",
        "    interval = rv.interval(1-alpha)\n",
        "    \n",
        "    y = (n-1) * u_var / var0\n",
        "    if interval[0] <= y <= interval[1]:\n",
        "        print('귀무가설을 채택')\n",
        "    else:\n",
        "        print('귀무가설을 기각')\n",
        "\n",
        "    if y < rv.isf(0.5):\n",
        "        p = rv.cdf(y) * 2\n",
        "    else:\n",
        "        p = (1 - rv.cdf(y)) * 2\n",
        "    print(f'p값은 {p:.3f}')"
      ],
      "metadata": {
        "id": "99Z6I_yQIzco"
      },
      "execution_count": 28,
      "outputs": []
    },
    {
      "cell_type": "code",
      "source": [
        "pvar_test(sample,0.5)"
      ],
      "metadata": {
        "colab": {
          "base_uri": "https://localhost:8080/"
        },
        "id": "QsOBs7_hJQbU",
        "outputId": "9976faa2-d9ee-493e-e7cd-81903dc48796"
      },
      "execution_count": 29,
      "outputs": [
        {
          "output_type": "stream",
          "name": "stdout",
          "text": [
            "귀무가설을 기각\n",
            "p값은 0.047\n"
          ]
        }
      ]
    },
    {
      "cell_type": "code",
      "source": [
        ""
      ],
      "metadata": {
        "id": "ETYX0y35JTkf"
      },
      "execution_count": null,
      "outputs": []
    },
    {
      "cell_type": "markdown",
      "source": [
        "### 정규부포의 모평균(모분산 모를 때)\n",
        "\n",
        "![image.png](data:image/png;base64,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)"
      ],
      "metadata": {
        "id": "IoPTleQ8Jg1l"
      }
    },
    {
      "cell_type": "code",
      "source": [
        "#평균 =6, 유의수준 =0.05 , 양측검정\n",
        "#p값이 0.091이고 0.05보다 크므로 귀무가설 채택\n",
        "\n",
        "def pmean_test(sample, mean0, alpha=0.05):\n",
        "    s_mean = np.mean(sample)\n",
        "    u_var = np.var(sample, ddof=1)\n",
        "    n = len(sample)\n",
        "    rv = stats.t(df=n-1)\n",
        "    interval = rv.interval(1-alpha)\n",
        "\n",
        "    t = (s_mean - mean0) / np.sqrt(u_var/n)\n",
        "    if interval[0] <= t <= interval[1]:\n",
        "        print('귀무가설을 채택')\n",
        "    else:\n",
        "        print('귀무가설을 기각')\n",
        "\n",
        "    if t < 0:\n",
        "        p = rv.cdf(t) * 2\n",
        "    else:\n",
        "        p = (1 - rv.cdf(t)) * 2\n",
        "    print(f'p값은 {p:.3f}')"
      ],
      "metadata": {
        "id": "G20dpXs8JmpV"
      },
      "execution_count": 32,
      "outputs": []
    },
    {
      "cell_type": "code",
      "source": [
        "pmean_test(sample,6)"
      ],
      "metadata": {
        "colab": {
          "base_uri": "https://localhost:8080/"
        },
        "id": "5TSPCU_RKerO",
        "outputId": "cf00fe74-ea9d-4c36-d8c7-4e1c9c7c7fa1"
      },
      "execution_count": 33,
      "outputs": [
        {
          "output_type": "stream",
          "name": "stdout",
          "text": [
            "귀무가설을 채택\n",
            "p값은 0.091\n"
          ]
        }
      ]
    },
    {
      "cell_type": "code",
      "source": [
        "t, p =stats.ttest_1samp(sample,6)\n",
        "t,p"
      ],
      "metadata": {
        "colab": {
          "base_uri": "https://localhost:8080/"
        },
        "id": "0X2AIjVNKmOf",
        "outputId": "e798edc5-28ff-4bb1-9965-6a4cd4d5a00c"
      },
      "execution_count": 34,
      "outputs": [
        {
          "output_type": "execute_result",
          "data": {
            "text/plain": [
              "(1.781, 0.091)"
            ]
          },
          "metadata": {},
          "execution_count": 34
        }
      ]
    },
    {
      "cell_type": "code",
      "source": [
        ""
      ],
      "metadata": {
        "id": "C8pLkzMdKq3a"
      },
      "execution_count": null,
      "outputs": []
    },
    {
      "cell_type": "markdown",
      "source": [
        "### 2표본문제 - 대응비교 t검정\n",
        "\n",
        "- 2개 모집단에 관한 다양한 관계성 검정을 위한 문제로 2개 표본 각각의 대표값 사이에 차이가 있는지 검정을 통해서 문제를 해결함\n",
        "\n",
        "<br>\n",
        "\n",
        "**2표본 문제 4가지 검정 방법**\n",
        "\n",
        "- 모집단에 정규분포를 가정할 수 있는지\n",
        "\n",
        "- 데이터가 서로 대응이 있는지 독립이 있는지\n",
        "\n",
        "   - 대응이 있다는 것은 2개 표본의 서로 대응되는 동일한 개체에 대해 다른 조건 측정\n",
        "\n",
        "      - ex: 환자에게 약을 투여하기 전과 후의 활성화 수치 비교\n",
        "\n",
        "   - 대응이 없다는 것은 개체가 서로 다른 독립 표본데이터로서 구성됨\n",
        "\n",
        "      - ex: 1반 학생들과 2반 학생들의 시험 점수 비교\n",
        "\n",
        "![image.png](data:image/png;base64,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)\n",
        "\n",
        "\n"
      ],
      "metadata": {
        "id": "tngJbIozWhN4"
      }
    },
    {
      "cell_type": "markdown",
      "source": [
        "####  대응비교 t검정(Paired t-test)\n",
        "\n",
        "- 대응하는 데이터가 존재하고, 데이터 차이에 정규분포를 가정할 수 있는 경우에 평균값 차이에 대한 검정 방법\n",
        "\n",
        "- ex:)\n",
        "\n",
        "   - 근력운동을 진행하면 집중력 향상 여부 파악을 위해서 20명의 사람을 선정하여 2주간 근력운동 하기 전/후의 집중력 테스트 결과 생성\n",
        "\n",
        "\n",
        "- 근력운동 전/후 집중력 테스트 결과값 차이 비교(양측 검증)\n",
        "\n",
        "   - 귀무가설: Mafter - Mbefore=0\n",
        "\n",
        "   - 대립가설: Mafter - Mbefore !=0\n",
        "   "
      ],
      "metadata": {
        "id": "kEFZ2BjOXc8s"
      }
    },
    {
      "cell_type": "code",
      "source": [
        "training_rel = pd.read_csv('/content/[패스트캠퍼스-확률및통계] 11_training_rel.csv')\n",
        "print(training_rel.shape)\n",
        "training_rel.head()"
      ],
      "metadata": {
        "colab": {
          "base_uri": "https://localhost:8080/",
          "height": 225
        },
        "id": "A6jrod6WXb1u",
        "outputId": "c2ac3b08-0400-4ec5-a519-0cace4f66b90"
      },
      "execution_count": 36,
      "outputs": [
        {
          "output_type": "stream",
          "name": "stdout",
          "text": [
            "(20, 2)\n"
          ]
        },
        {
          "output_type": "execute_result",
          "data": {
            "text/plain": [
              "    전   후\n",
              "0  59  41\n",
              "1  52  63\n",
              "2  55  68\n",
              "3  61  59\n",
              "4  59  84"
            ],
            "text/html": [
              "\n",
              "  <div id=\"df-c53ed776-8196-4de9-b6a4-032f7361d0d5\">\n",
              "    <div class=\"colab-df-container\">\n",
              "      <div>\n",
              "<style scoped>\n",
              "    .dataframe tbody tr th:only-of-type {\n",
              "        vertical-align: middle;\n",
              "    }\n",
              "\n",
              "    .dataframe tbody tr th {\n",
              "        vertical-align: top;\n",
              "    }\n",
              "\n",
              "    .dataframe thead th {\n",
              "        text-align: right;\n",
              "    }\n",
              "</style>\n",
              "<table border=\"1\" class=\"dataframe\">\n",
              "  <thead>\n",
              "    <tr style=\"text-align: right;\">\n",
              "      <th></th>\n",
              "      <th>전</th>\n",
              "      <th>후</th>\n",
              "    </tr>\n",
              "  </thead>\n",
              "  <tbody>\n",
              "    <tr>\n",
              "      <th>0</th>\n",
              "      <td>59</td>\n",
              "      <td>41</td>\n",
              "    </tr>\n",
              "    <tr>\n",
              "      <th>1</th>\n",
              "      <td>52</td>\n",
              "      <td>63</td>\n",
              "    </tr>\n",
              "    <tr>\n",
              "      <th>2</th>\n",
              "      <td>55</td>\n",
              "      <td>68</td>\n",
              "    </tr>\n",
              "    <tr>\n",
              "      <th>3</th>\n",
              "      <td>61</td>\n",
              "      <td>59</td>\n",
              "    </tr>\n",
              "    <tr>\n",
              "      <th>4</th>\n",
              "      <td>59</td>\n",
              "      <td>84</td>\n",
              "    </tr>\n",
              "  </tbody>\n",
              "</table>\n",
              "</div>\n",
              "      <button class=\"colab-df-convert\" onclick=\"convertToInteractive('df-c53ed776-8196-4de9-b6a4-032f7361d0d5')\"\n",
              "              title=\"Convert this dataframe to an interactive table.\"\n",
              "              style=\"display:none;\">\n",
              "        \n",
              "  <svg xmlns=\"http://www.w3.org/2000/svg\" height=\"24px\"viewBox=\"0 0 24 24\"\n",
              "       width=\"24px\">\n",
              "    <path d=\"M0 0h24v24H0V0z\" fill=\"none\"/>\n",
              "    <path d=\"M18.56 5.44l.94 2.06.94-2.06 2.06-.94-2.06-.94-.94-2.06-.94 2.06-2.06.94zm-11 1L8.5 8.5l.94-2.06 2.06-.94-2.06-.94L8.5 2.5l-.94 2.06-2.06.94zm10 10l.94 2.06.94-2.06 2.06-.94-2.06-.94-.94-2.06-.94 2.06-2.06.94z\"/><path d=\"M17.41 7.96l-1.37-1.37c-.4-.4-.92-.59-1.43-.59-.52 0-1.04.2-1.43.59L10.3 9.45l-7.72 7.72c-.78.78-.78 2.05 0 2.83L4 21.41c.39.39.9.59 1.41.59.51 0 1.02-.2 1.41-.59l7.78-7.78 2.81-2.81c.8-.78.8-2.07 0-2.86zM5.41 20L4 18.59l7.72-7.72 1.47 1.35L5.41 20z\"/>\n",
              "  </svg>\n",
              "      </button>\n",
              "      \n",
              "  <style>\n",
              "    .colab-df-container {\n",
              "      display:flex;\n",
              "      flex-wrap:wrap;\n",
              "      gap: 12px;\n",
              "    }\n",
              "\n",
              "    .colab-df-convert {\n",
              "      background-color: #E8F0FE;\n",
              "      border: none;\n",
              "      border-radius: 50%;\n",
              "      cursor: pointer;\n",
              "      display: none;\n",
              "      fill: #1967D2;\n",
              "      height: 32px;\n",
              "      padding: 0 0 0 0;\n",
              "      width: 32px;\n",
              "    }\n",
              "\n",
              "    .colab-df-convert:hover {\n",
              "      background-color: #E2EBFA;\n",
              "      box-shadow: 0px 1px 2px rgba(60, 64, 67, 0.3), 0px 1px 3px 1px rgba(60, 64, 67, 0.15);\n",
              "      fill: #174EA6;\n",
              "    }\n",
              "\n",
              "    [theme=dark] .colab-df-convert {\n",
              "      background-color: #3B4455;\n",
              "      fill: #D2E3FC;\n",
              "    }\n",
              "\n",
              "    [theme=dark] .colab-df-convert:hover {\n",
              "      background-color: #434B5C;\n",
              "      box-shadow: 0px 1px 3px 1px rgba(0, 0, 0, 0.15);\n",
              "      filter: drop-shadow(0px 1px 2px rgba(0, 0, 0, 0.3));\n",
              "      fill: #FFFFFF;\n",
              "    }\n",
              "  </style>\n",
              "\n",
              "      <script>\n",
              "        const buttonEl =\n",
              "          document.querySelector('#df-c53ed776-8196-4de9-b6a4-032f7361d0d5 button.colab-df-convert');\n",
              "        buttonEl.style.display =\n",
              "          google.colab.kernel.accessAllowed ? 'block' : 'none';\n",
              "\n",
              "        async function convertToInteractive(key) {\n",
              "          const element = document.querySelector('#df-c53ed776-8196-4de9-b6a4-032f7361d0d5');\n",
              "          const dataTable =\n",
              "            await google.colab.kernel.invokeFunction('convertToInteractive',\n",
              "                                                     [key], {});\n",
              "          if (!dataTable) return;\n",
              "\n",
              "          const docLinkHtml = 'Like what you see? Visit the ' +\n",
              "            '<a target=\"_blank\" href=https://colab.research.google.com/notebooks/data_table.ipynb>data table notebook</a>'\n",
              "            + ' to learn more about interactive tables.';\n",
              "          element.innerHTML = '';\n",
              "          dataTable['output_type'] = 'display_data';\n",
              "          await google.colab.output.renderOutput(dataTable, element);\n",
              "          const docLink = document.createElement('div');\n",
              "          docLink.innerHTML = docLinkHtml;\n",
              "          element.appendChild(docLink);\n",
              "        }\n",
              "      </script>\n",
              "    </div>\n",
              "  </div>\n",
              "  "
            ]
          },
          "metadata": {},
          "execution_count": 36
        }
      ]
    },
    {
      "cell_type": "code",
      "source": [
        "training_rel['차'] = training_rel['후'] - training_rel['전']\n",
        "training_rel.head()"
      ],
      "metadata": {
        "colab": {
          "base_uri": "https://localhost:8080/",
          "height": 206
        },
        "id": "MFg40zetYB9l",
        "outputId": "e9b0dedf-3f6a-4e1b-f3af-3443c1b185fd"
      },
      "execution_count": 37,
      "outputs": [
        {
          "output_type": "execute_result",
          "data": {
            "text/plain": [
              "    전   후   차\n",
              "0  59  41 -18\n",
              "1  52  63  11\n",
              "2  55  68  13\n",
              "3  61  59  -2\n",
              "4  59  84  25"
            ],
            "text/html": [
              "\n",
              "  <div id=\"df-f51387f0-6a34-4e80-9c1c-a38032811ac8\">\n",
              "    <div class=\"colab-df-container\">\n",
              "      <div>\n",
              "<style scoped>\n",
              "    .dataframe tbody tr th:only-of-type {\n",
              "        vertical-align: middle;\n",
              "    }\n",
              "\n",
              "    .dataframe tbody tr th {\n",
              "        vertical-align: top;\n",
              "    }\n",
              "\n",
              "    .dataframe thead th {\n",
              "        text-align: right;\n",
              "    }\n",
              "</style>\n",
              "<table border=\"1\" class=\"dataframe\">\n",
              "  <thead>\n",
              "    <tr style=\"text-align: right;\">\n",
              "      <th></th>\n",
              "      <th>전</th>\n",
              "      <th>후</th>\n",
              "      <th>차</th>\n",
              "    </tr>\n",
              "  </thead>\n",
              "  <tbody>\n",
              "    <tr>\n",
              "      <th>0</th>\n",
              "      <td>59</td>\n",
              "      <td>41</td>\n",
              "      <td>-18</td>\n",
              "    </tr>\n",
              "    <tr>\n",
              "      <th>1</th>\n",
              "      <td>52</td>\n",
              "      <td>63</td>\n",
              "      <td>11</td>\n",
              "    </tr>\n",
              "    <tr>\n",
              "      <th>2</th>\n",
              "      <td>55</td>\n",
              "      <td>68</td>\n",
              "      <td>13</td>\n",
              "    </tr>\n",
              "    <tr>\n",
              "      <th>3</th>\n",
              "      <td>61</td>\n",
              "      <td>59</td>\n",
              "      <td>-2</td>\n",
              "    </tr>\n",
              "    <tr>\n",
              "      <th>4</th>\n",
              "      <td>59</td>\n",
              "      <td>84</td>\n",
              "      <td>25</td>\n",
              "    </tr>\n",
              "  </tbody>\n",
              "</table>\n",
              "</div>\n",
              "      <button class=\"colab-df-convert\" onclick=\"convertToInteractive('df-f51387f0-6a34-4e80-9c1c-a38032811ac8')\"\n",
              "              title=\"Convert this dataframe to an interactive table.\"\n",
              "              style=\"display:none;\">\n",
              "        \n",
              "  <svg xmlns=\"http://www.w3.org/2000/svg\" height=\"24px\"viewBox=\"0 0 24 24\"\n",
              "       width=\"24px\">\n",
              "    <path d=\"M0 0h24v24H0V0z\" fill=\"none\"/>\n",
              "    <path d=\"M18.56 5.44l.94 2.06.94-2.06 2.06-.94-2.06-.94-.94-2.06-.94 2.06-2.06.94zm-11 1L8.5 8.5l.94-2.06 2.06-.94-2.06-.94L8.5 2.5l-.94 2.06-2.06.94zm10 10l.94 2.06.94-2.06 2.06-.94-2.06-.94-.94-2.06-.94 2.06-2.06.94z\"/><path d=\"M17.41 7.96l-1.37-1.37c-.4-.4-.92-.59-1.43-.59-.52 0-1.04.2-1.43.59L10.3 9.45l-7.72 7.72c-.78.78-.78 2.05 0 2.83L4 21.41c.39.39.9.59 1.41.59.51 0 1.02-.2 1.41-.59l7.78-7.78 2.81-2.81c.8-.78.8-2.07 0-2.86zM5.41 20L4 18.59l7.72-7.72 1.47 1.35L5.41 20z\"/>\n",
              "  </svg>\n",
              "      </button>\n",
              "      \n",
              "  <style>\n",
              "    .colab-df-container {\n",
              "      display:flex;\n",
              "      flex-wrap:wrap;\n",
              "      gap: 12px;\n",
              "    }\n",
              "\n",
              "    .colab-df-convert {\n",
              "      background-color: #E8F0FE;\n",
              "      border: none;\n",
              "      border-radius: 50%;\n",
              "      cursor: pointer;\n",
              "      display: none;\n",
              "      fill: #1967D2;\n",
              "      height: 32px;\n",
              "      padding: 0 0 0 0;\n",
              "      width: 32px;\n",
              "    }\n",
              "\n",
              "    .colab-df-convert:hover {\n",
              "      background-color: #E2EBFA;\n",
              "      box-shadow: 0px 1px 2px rgba(60, 64, 67, 0.3), 0px 1px 3px 1px rgba(60, 64, 67, 0.15);\n",
              "      fill: #174EA6;\n",
              "    }\n",
              "\n",
              "    [theme=dark] .colab-df-convert {\n",
              "      background-color: #3B4455;\n",
              "      fill: #D2E3FC;\n",
              "    }\n",
              "\n",
              "    [theme=dark] .colab-df-convert:hover {\n",
              "      background-color: #434B5C;\n",
              "      box-shadow: 0px 1px 3px 1px rgba(0, 0, 0, 0.15);\n",
              "      filter: drop-shadow(0px 1px 2px rgba(0, 0, 0, 0.3));\n",
              "      fill: #FFFFFF;\n",
              "    }\n",
              "  </style>\n",
              "\n",
              "      <script>\n",
              "        const buttonEl =\n",
              "          document.querySelector('#df-f51387f0-6a34-4e80-9c1c-a38032811ac8 button.colab-df-convert');\n",
              "        buttonEl.style.display =\n",
              "          google.colab.kernel.accessAllowed ? 'block' : 'none';\n",
              "\n",
              "        async function convertToInteractive(key) {\n",
              "          const element = document.querySelector('#df-f51387f0-6a34-4e80-9c1c-a38032811ac8');\n",
              "          const dataTable =\n",
              "            await google.colab.kernel.invokeFunction('convertToInteractive',\n",
              "                                                     [key], {});\n",
              "          if (!dataTable) return;\n",
              "\n",
              "          const docLinkHtml = 'Like what you see? Visit the ' +\n",
              "            '<a target=\"_blank\" href=https://colab.research.google.com/notebooks/data_table.ipynb>data table notebook</a>'\n",
              "            + ' to learn more about interactive tables.';\n",
              "          element.innerHTML = '';\n",
              "          dataTable['output_type'] = 'display_data';\n",
              "          await google.colab.output.renderOutput(dataTable, element);\n",
              "          const docLink = document.createElement('div');\n",
              "          docLink.innerHTML = docLinkHtml;\n",
              "          element.appendChild(docLink);\n",
              "        }\n",
              "      </script>\n",
              "    </div>\n",
              "  </div>\n",
              "  "
            ]
          },
          "metadata": {},
          "execution_count": 37
        }
      ]
    },
    {
      "cell_type": "code",
      "source": [
        "t,p = stats.ttest_1samp(training_rel['차'],0)\n",
        "p"
      ],
      "metadata": {
        "colab": {
          "base_uri": "https://localhost:8080/"
        },
        "id": "wfO20G0bYmUD",
        "outputId": "26b44632-ceaf-4208-dbe2-8a79dbf0f2ee"
      },
      "execution_count": 40,
      "outputs": [
        {
          "output_type": "execute_result",
          "data": {
            "text/plain": [
              "0.040"
            ]
          },
          "metadata": {},
          "execution_count": 40
        }
      ]
    },
    {
      "cell_type": "code",
      "source": [
        "t,p =stats.ttest_rel( training_rel['후'] ,training_rel['전'])\n",
        "p"
      ],
      "metadata": {
        "colab": {
          "base_uri": "https://localhost:8080/"
        },
        "id": "6HMaU_oZY0vZ",
        "outputId": "734964d0-f340-40bf-ee4e-c63b69abb16c"
      },
      "execution_count": 41,
      "outputs": [
        {
          "output_type": "execute_result",
          "data": {
            "text/plain": [
              "0.040"
            ]
          },
          "metadata": {},
          "execution_count": 41
        }
      ]
    },
    {
      "cell_type": "markdown",
      "source": [
        "### 분석\n",
        "\n",
        "p값이 0.04로서 0.05보다 작으므로 귀무가설은 기각되고, 근력운동이 집중력에 유의한 차이를 가져온다"
      ],
      "metadata": {
        "id": "k8N5IMs4ZJOu"
      }
    },
    {
      "cell_type": "code",
      "source": [
        ""
      ],
      "metadata": {
        "id": "WRTCM3FQZAnf"
      },
      "execution_count": null,
      "outputs": []
    },
    {
      "cell_type": "markdown",
      "source": [
        "###  2표본 문제 - 독립비교 t검정\n",
        "\n",
        "\n",
        "**독립비교 t검정(Independent t-test)**\n",
        "\n",
        "- 대응하는 데이터가 없고, 독립된 2표본 모집단에서 정규분포를 가정할 수 있는 경우의 평균값 차이에 대한 검정 방법\n",
        "\n",
        "- 예시\n",
        "\n",
        "   - A학급은 근력운동을 평소에 잘 안함\n",
        "\n",
        "   - B학급은 평소에 근력운동을 꾸준히 함\n",
        "\n",
        "- 근력운동을 자주하는 집단과 그렇지 않은 집단간의 집중력 차이가 있는지 여부 파악하여 독립적인 두 학급에서 집중력 테스트 결과를 생성\n",
        "\n",
        "<br>\n",
        "\n",
        "- A학급/B학급 집중력 테스트 결과값 차이 비교(양측 검증)\n",
        "\n",
        "   - 귀무가설: Mafter - Mbefore=0\n",
        "\n",
        "   - 대립가설: Mafter - Mbefore !=0\n",
        "   \n",
        "\n",
        "![image.png](data:image/png;base64,iVBORw0KGgoAAAANSUhEUgAAAroAAAEDCAYAAADa0Kc5AAAgAElEQVR4nOy9Z3cc15mo++yq6oyOaOScSJAAwQSSIilSorIs22PNeM46d77MXWfNub/p3nU/zZqZOz4zxx7LlrMkixTFnEASBAkQORI5o0NV7fuhqgOABrNkSq5nLYpid9dOVbX3u9/9BrG4JiUODg4ODg4ODg4O3zOUv3QDHBwcHBwcHBwcHL4JHEHXwcHBwcHBwcHhe4kj6Do4ODg4ODg4OHwv0f7SDXgeZJ5ZsRDiL9iSl4uUJgBCvDr7j8xYf5/G2eH5cZ6Hbx9rzCUgnHF3cHBweEa+A4JuIV+5V2ex/bYXfinNV0oQziClxBqCv/w9cXD4fiI3bfItwRekfJnzT6YOR6h2cHD4fvAdEHRhs7D7akzAOcHu5fE0/fq2+y6EyPZz5/gclsZJyvzfvjqbEYeXh3M/n4384Xre+DZPGvOXf0vEN1Cmg4ODw1+GV0DQffbZ3zAMpJQoipqdkL+5Bbhw+4Sw2oEQKEIhc7T4XDXYWlpdTwMKmpZ/W3LlPq3GVBZcUZ+nbZZ2J63rqIqKouRrkreWJ1AUgVCsbwzj+Rd2h1cbIUBRtgtxUoJp/uXa9aphmiZpPY1pGGiahtvtfoZ3wvqhqggUFXZ6fzOfmhJMU9rj/yJzoQAkpmlivdM7nR49y8vtSM0ODg5/Ob51QTdz1Fb4S3tKFDA0OMTk5BTNzc3ES4qzPxBAb28vw8PD7NvXQUVFxSYh1zRNDEPPTcOPqUwIkRUqCwmRqmp9LoS1gJtmTog0TJMLFy/gdrs5cOAgHrfbrs7SbgohbGFcZDWdhmly9cpVvD4v+9rbUVXVrlug6wa//d3viUVjnDr1+pZmm+i6jillwSVDZvoprPFRVBU1u0CJvHZlhsREN4ytQ79p6bIEW8Hs7CxfX7hAe/teWne3oOuFBHqrf+l0mqXlRYQQRCOx5zax2CyoO8eorwrWuytZWFhkaWmBjY11DMNEVRW8Xh/F8RJCoSDSfJrNmGnf0+/ffZVIlhaX6OnpQUqJy+ViZXWFmupqWlpaeNo+p9Mpxh9NsbS0sOPzn3lvXW438XgpkUjssWUW0jDnfyYELCws0tPzAK/XS2vrbrxen/176xRLVQU7yr95SLnzhvdpX2dns+zg4PCifGuCrpTSEkClRFW1bZoCwzAwTD37757797lx/Tpuj5tgqMg6Qgc0zcXQ8BCXL1+mvLyc8vJyexGQqKpgeGSEixcusbS8ZIvFBRCWcFlXV8fJEycIBAJ2G037qF6wsrrCo0dTrK6uoGkq0UiUsvIKVFVFCIGpG1y8eIFgUZC2vW14PR57UrYEs4ywlkqlMW2BN5lM8fnnn1McL6a5qQmX2wUSNE1F1w3Of3We+oZ6Tp9+HdPM2eIKRXD23FkePOjdou3NDm72dy6Xi5MnT9K6exeGkTEpsDuNREqT3t6HnPvqHEiJEAqKqqDYwraUEp/Px8mTx2lpaWBhcYGvvjpLNBKkra0FXS9UvbUALi0t8fnnf8btcfOjH/0I9RlkmK0Lny232xuGpy/nWeraWu5jN2GvKDsdjef38WWYkSgKrKyscunSZe7du8fy8jK6nsY0rWdbVTWi0SgHD+7n0KFOvF4PhQQ6y+EyJ+A+7mj/ySYz1mbU2oA+d9dePlKSSCRYXFyktrYav99D/0A/Pfd6KC4utjbuMnMqVLgIIQSJxDpXrlyl61YXqrqzZJk2DIqKinjzzTc5duy1gmMhpcQ0DQzTsN4tQCgKAks5kLnE7VZZWl7i2rVrhMNhGhvr8Pt9mKbV3kRig4nJCZaXFpEUMt/KmT14PX4qK6sIBkPkPwuGoWPa7djZGsrWaKsqqqo5G10HB4fn5lsRdBUFZmfnuHjpMosLixw9epTGxsY8jSY86L3PzRs3WV1bRdM0xsbGePToEZ9/9idu3LiOYRgEAgFOnz5tTdiGsckJIzO5m4ZJMpkksZFAKIUnR2lK+vv7WV1dpfPwIYqKirLXKwoMDg3x1VfnGR4aJpVOIQT4/T469nVw4uQJIpEQUkpSyRRJV7KgqYClpdX5zW9+w6PpaVTVEtgmJsaYX5jj3//937Oa1dbdezh58qQl7Nsrn9giAaTTaRKJjR0EXWsMl1dWGBkZobm5iba9u7YtokIIJBJd163xsc0vhkdGMHSDpqYmawzsRVVRhL0QGpjSLLgqZTTYUsLq6io9PT0EAgESiQTBosATj7IzC3A6nc72WVEUNM2FYRjoeZK1pmmo6os9sqZplSmlRAKqYpmK5I89CFwuDcU6M35lSafTmKYBwnqmXS4XiqKQTutITKS9Wcp8/rxYAk6CP332GZcvXSYej9PY2EhxcTFut5tkMsnC4gJjo2N88smvWV9PcObMm2iaVkDoygi4gnQ6hWEYCMVuY94JQCKxgVAUpGmiaRqa5trSJklaNxgeHiEQCFJSUvJKCLuZuSAajXDs2GHC4QimmebBgwHu99wnmUxg6GlmZxdIJhOUl5fjdrs3nRZl3gO320NLczMBv7+gClTY9Q0ODTE4NMjqymrBNmUE1Nt37tJ99y7ptI6qqTQ1NqFqKg/7HmbfiV27d1FcXIyu66T1dN77bSkSVlZWuHTxCg8e3MeaeLa2yfpA13VixcV89IOP2LUrlD0ZMwyDa9euce/ePWtu3V6APZlbm6GWlhaOHDlIMBh5Je6vg4PDdw/t8bZWL2MXbU2Gw8PDXLt6jampKYqKAlRWllJUFMpqnAzdIJVOkUgkWViYYvrRIzY2NhgaHiaRTBIKhnC5XEhTIrJmByput2UaYBiWdqSiopwPP3wHw9C3n8fbpNOSf/mXf9umBtI0wfTMDL/97e8YHx+nqbGJquoqUqkkgwMDfP7F5whF8M7bZ6zFSOw8epZQCclUCj2dYmVlg4mJCdbW19hIbNDb+4CKyorsgp9ZCFRFxeUCKQWplD2CEo4dO0JHx57Cmg1p/ajv4TD/8q//gmGYBdZFCSgoQqWhoY6///u/QQjB2uoqP/uP/yKZTPLxx3+DpgkkCsGiEOvrqU0CqN2zLf20+ppMbjAwMMCjR48IhUI8uH+fo0cPWwJlwUHKlTM7O8vFi5eYm5+juLiYgwcOUltby+LiIlevWc9MQ30Dhw4dJBQKvYBTj6V17urqYnBwkFAoREfHfpqbm5iYmODGjZssLi3S3NTMgQP7CIXCr6zNqRAwPT3NpcuXWF5apqKinGPHjhGJRHjw4AG3b99G13UOHjrIntZdqKoX03w+za6iwMTEFBcvXKShoYH33z9DcXEJPl8AVdXQdZ1kcp35+Xn+/d//gy+//JKjR48QDm/W5OXqliiqZHp8mi/PnmV9bY0DBw9y/LUj6LrVt76+h1y/cR2fz8cbp9+gsqoc05B2eyQzM3NcvHiZRGKDY8de+wto43e23ZdS4PF48fm8SGkyMTHDxMQELS0tRKNRDMNkYWGB7u57hEJBDhzYTzy+XVA3dJ25+XlGRkeQpiwcf0ZKpqenLUF1p6YKSOspBgcG6Orqory8nEgkwsbGOlNTj7h79y6lpaX4A37SqbQ1x4qMuZDIxLhBSvD7/bS3t1NZWZE3BtudhR88eMDExCTr6+vk+xlICem0TiKRJJVObnsWM1O2aZoMDgxiSpOOjlZCIUfQdXBweD5s9djLcl4qTCqVZmBwEI/HTXE8xsjoKLNzcwSDoawg1NTUQHFxjNt3url44QIgcLs9mIaJNCUdHR207m4iXlJGT8890uk0vb296HqKyqoq4sUlqKqG1+vH7/cXtAGzbGYhlTJxe9z4/H40V06LpChwv+cB/f39vPnmm7x2rJNIJIphGMzP7+dnP/tPLl26wpHOI9njOJEte/O4SWkJre++8wbT03N89tlnpNNpXC4XAkgmkwQCAd58800qyuOW2YQimJuf5fKVa6iKxp497WiaipQQixajFMd3GGEJQjI3v4KiKHjcblv2lXltyrRUoagoSCgURAjJ7OwcqWQS09ApLo4RCfu51dXDb3/zW0xTsrKyTDqVzgr2mxCgCMHGxga3bnVx6dJl6urq8Hg8fPHFF/j9Pna37sblUjD0nW31vF4PUkpu3rhJXV0tx44dRdNACJNHU1OMjY5xYH8HPt+zOPMUGCUJXlv46Om5R3l5OZ2dh3G5BMnUBn19fQAcOnQQd9YU5Vnr+PaiTQSDRSwvLXHt2nXefvttXC5r47e6uszt27fZvXs3kUgIVS2kWX16FAVWVldYWV2hrq6OpsY6VM2btVvXNJWiIg/xeJSKygouXby8SRNfCCmt9vf3P6S3t5fl5WU6Ow+iCA0hIBaL0XWri0OHDhGJBLBDTCMUyczsHJ/86ldoqsbx469RUlr8rQtBOTMlucNG0HIMm5mZ49KlK/j9Pt544w18Pj+GaVJRUU4isc6dO/f47LMvOHPmDcrLy7MbKyEglU7y8GE/d+7epbKyEo/bjSm3NQKvz0e8pIRYLLbjOFj2sgax4ihn3nydpsZ6kimdickJ4iXFvPP2aaqrq/AFAszNzlsmJtKyNxZ5Ycx8Pj+7W3cjTZNcKLL8MbAEXcM0mF9Y2KSJNk2JUAQdHW00N9fu6HOAgFTS4Gc/+1+2iYMj4To4ODw/tqArUFVrQTNtB4LnCIZQEFUVPHo0y9jYKNXVVXi8Xnp7rd1+dXUNqqICkmAwyOzsHP0P+ykqCnLw0CHCoTBz83Pc6+6mv7+ftr2teH0+EILExgaXLl3i9u3bvPXW27x2PITX++RjbUVAMplgY2OD2tpa/B4NVYW0bmKagqmpKRRFYe/evZSUlAIKLhc0NNTS0tLCH/74GYlEmmAwX9uRI3/RUxSFkngpFy5cZmxsnM7OTmqqazClSV9fH70PHrB371469rWyvJxAVVXGx8f5r1/8Cp/fT1PTLrxef17ZO3RKCBTTZGV1BSEE8XgJmoC0oti2vpudfjJOIqDTPzDM9MwjPG4Pt2/f5tSpY6TTaTY2NpBYJhMZjU5+Z03TJJ1OM/Vokps3btDdbdkfvvXWGVKpBH/84+f88pefcOjwIfbt20u8uBRV01AKOCCFQkE6Ow8yOjrC9MwMC/Nz1NRUsLq6SjKV5MiRw+zduweXy/uCAo3E7/fR3NxEVVUVhmHgcaukkglGR8YIBPx0dh6mdfdu3C9Y1zct8EoJ0WiYjo593LvXg6ZpeNwKy8vLDAwM0NTcxJkzp6murkYRGYfL52uLaUI8Hqc4VsytrlvEYiFqauuIhKO4XBqpVJrl5UVGR0fp7r5HXV0dXq/38e03wR/wo6oKpaUl9A88ZGJikrraGkwTy5wIScf+DoqKglnb8FQqxeeff8HszDT/8A//QE1Nnd1GS+DSNAUh2GRLrmn5z/zLwZovc2YYGVWkYeQiTywtLXL16hV0Pc3p06eoqKjAMAwURSUUCtPWthdVVTh79msuXrrEhx98gMeTe+6klCRTSdbW1lhZXSXpdu9gPmRimiYLiwuYpvEYkxuJx+OmtKyU6poaZucsJzev10tZeRm1tbWYEhYXlywdrCJwqQouFdJ2CYuLS1y/fpPh4aFNQmi+Rl0IwcTEBIlkalsLBIJwOEo0Gs19ZkfwkGbONj+RSOLz+Z7tpjg4ODgUQAPQDZ3JqUfMz88RDkcoKy3D5fa8NGF3aHiY5aVlDuw/QFlZGf39DxkdGaG9bS+hUBgQmKak72E/0zPTvPXWGTo7D+Fxe0kn1/H73Fy+cpWJyWlKyytASjweD21tbVRVVVNXX0c6bdDd3cP6xvpj26IKwfTMPIsLiywuLHL9xh0qq6qprKxAaC7CkTB6Os3E+DjVVZX4/dbCMz+/zPj4BH6/H5crYy/4+AESAtYTaS5eukRFRQU/+sF7hKJxBJL2tj383//P/8u1a9c4feokCMt+tKysjDNvnkFzuXC7XTx6NM3w8JDlOLKzbx0CSffdbkzTZHRslMTGKrX1jYTD4aw2LL9dQhiMjU1x9ssvqaqqIhqN8sUXX1BeXsKePc1UlMUwJAwPj/Mf//kftomJ1QDDTDPQP8SlS5eYnn5EWtdpaWnh2LFj1NbWoOspVE3jypVrXLt6je67d6muqaazs5PGhsZNAqSUoCgqFRUVHD16jE8//TVXrl4lGo1w/0EvbrebI0eO4PX6XooZgZSW0NbQ0MDtO7eZmJhiZmaeoaER2trb2NfRvknYeFZywmSugG9K6DVNaGxsoqSkhImJCRYWVrh95y7r6xu8fvIEtbW1qMqLaXPBEt5KS+O8/8H7nD17lt/85vcUFQUJBoO2I6XOysoqKysrxGIxfvDhD+xj+537qyiwNL/E2toaJ44f5ze//S33uu/RUF+DEDA+Po6madTW1mYFVE0T9PUNc/XqFT766CPq62uzUUCs/ZNkfGKC2ZlZWlv3oGku0uk0AwNDmKakobHJ3lg/P5ZAZzA3t8TM7CMSG+uY0sTQdRRVo7SknKqqGlZXV7h27QYzM7OcOnWKQKCImzdvUVZWQnV1ta0J99DY2MTY2BRdXbdo3b2bvXv3YEctxO/3WtpTaeJyuwtuEqWtVXW73ASLAmiaJXFbZRRyBrQ2BYZpKTVspTSmBN3ISNjWD2dmZrh5s4vy8jIqKqsIh4NsbKzT3d3N6OgI5eVluN3ubUc1QgjCoRB10RiRcCS7Q8/3p8jcUykly8uLbCQSRMIRPB4viiJYWV0jmUrh8/leyL7cwcHBQZNSMjQ0xJ/+9EfGxsYoKSnljTfeYF/7vm0OIM9DMplicGAQj9dDRUUZ1dU1lJSUMD4xwdzcHKFwxDois223kBAsKqIo4Mfl0pBeFz6fH103SOtprKkd3B4Pbe376Ni3D82lMj09y5dffsXExPj2oy4hEAj7GM4ypUgmkzx8+JDBoUFOnjhJaVkxbtzs3bOXGzdu8vnnX/Boepq62mpSqRQPeh/S09PDiZMnCYX89tHeDuG+bM/yjD1iOp3G7XYTicTw+tzWQhCJoGkayWQS0xYITNOkJB7nzJnTGIbE49G4eXOIT371CaoiEIpa8Pxf2keHy8srqIrKF59/gcfr4b/9/X8jFg2jm/ltk6RSKcbGRvnDH/7EzOwsP/3p3xIOh/j5//4F//mfv+C9995h755WfP4A6xuWw0jWR4SMx7YVWaKpuZmmpkbqaqsJR2J2eDMvrbt3U1oSZ3BwmOHhYQxDt68DuUWzZprgcnnYtbuZvQN7uH3nNtI0kRIOHT5EPP4Sj6btqBJ1dbX09PRw8dJlwuEI1dVVHDxwAL8vQCYz1PMKqEJgh5XLafcUxfqT/1nm80z4umftY0ar29LSzJ07d/jiz+dYWVmhs/Mwzc3NqKqroEb/2eowcbkEbtXFydcOU1Eep69vkOnpGZLJJLqho2oaFRXlHDx4gD27G6mpq7PMVQzsyB9sqj/j2DQ+Po6U8Nprx7l46RI3bt7k7bffwudzMTQ0SDQSIRwKbervzVu3ANi/f/+W8RIYusFXX33NyPAIzc27cLk0VldX+d3v/kgsFqOxqfm5xiCftbV1rt+4Ru+DPlRVYXV1hWQyYZkWeL143D6qqiqZmJjg0qVLAFy6dIlEIkEikeD999+1Ts7MnClAfUMtXV1d9PTcZ/fu3ZimyfTMLONjo6iqmnUSLYywZ0TB+kaCnp77VFZVEQoWsmUXeX/I/p21wsh8aj8vQ4NDzM/N0dTUzPvvv000GsSUEsM0qKur5+23ThGPRTBlpgV5xUqB5nYRLIo+9smTSO7evcfAwACn3zhNbU0tQoFUMomu6y/sSOng4OCgJZIb3L9/n65bXayvrzE1NUUsGqO+ro5YLGaHlXm+RVJRYG5+jsnJKWpqaqisKCUWCdDS3MjZc+cZn5ikprYWTXUhBNTVVnPjhpsvvzzLwsI8kWiY2Zl5rly5QiQSJh4vRggFaasiFCFQVQWBQsDv59ChQzS3NOdZyZE7C8t9gBBK1vY1mUxSU1ODqrgxdCgvL+MHH/6Ac+fOcbvrNndu38Y0TTRN5dhrxzh16nW8Pg/JxONsEHOaC7fLRVtbG123bvGLX/6KhsZ6DMPg/v1eJicn+fDDD3FpCslETqhSVdXWephUVVdz5swZBNLyQpcyK7Rvrs8K7q4qgrRuoCoKsVjxNi2orqe4dv06f/7iz+iGzgfvv8f+jn0oqspHP/yIzz/7nD/+6XM0zc2+jnZ0Xbdi+JoZBzfLqa2stJS333kbv8+PP+BDUWxPeTscmACCoRDt7e00NjaSTCYJBovQ07mj1Yx9X8bRJRqJ0Nl5iOHhYe7cucupU6+zd89uW5uc60P+dc/zbCqKoLKyguJ4Md3d3bx+8hSHDh+0tN8yt2Rvd3CS5Ef62Inl5SVmZmYoKgoSj8dRVZVkMsHk5AQut5uSeKntaS+ZnHrExvoa8XgpRUXBZ+6Lpqns2dPKjRs36e7u5t1332XPnlY8nozz2YtpkQ3D5MGDB9l7CwrhcASX242etsJEWWHtNIoCRcwtLDI7P49pQjRWTF1t/Y6CyvDwMNFolJqaCvbs2cvly5eZmJyisaGGgYEB6uvr8XhU0mnbZjWl09fbS3l5OeFwGMPMv1eSZCpNT08PPp8Pt1sDIVlYXODhwz5On34Dl6a8kPnC2voq5859xc0bN2ltbWV3azMP+/q51XWL3bt3UVVRiq/IcpoKRyKcPn0asEyYTNPE6/MSj5fYwr/IfheNhgmFQ4yMjrK6torH7aKvt5/PP/8MgbSioOzgRiHz/qHrOuVlFbz//jtEI+GCoQAz12USu5B9p7eYRgmorKxk//79VFZWZp3BrJlG4PV5KS4uoaSk2E4usfm9sF4jgRTqpinY+m6zXe/s3CxDw0N0rndam0RhmagYuo7L7UJR1KwvhxNmzMHB4VnRpGlp+NLpNEJRMAyDVCplOUe9hDllbHSMublZIpEw9x/04fW4WVxcYnVlheHhYTo69hIJxzBNSX19PW+8cZrLly/z1fnzICWmlEQiEU69forKyoqsXZxpWjFhM0KQ3x/g8OEDzC8s0tvbR2lpKdXVFZZWessiYRgmd+92oygKLS1N+Hx+S4CWJopiCQ6xWJiJyUesrq6iKIJYLEpNTRWhUMRauG3FSKGJN3dEZ6IoCu+8/Q6mYXD3bjd37t7NLM0cP36c1147tumajHbE6qOgorycysoS+h8OMTw8zMnXX8flUjcJYBmBbH5ugbvd3bS0tFBTXYGUSp6m0Ao1JYTA7XZTVV3F/v0d7N/Xis/vRSLZ37GX4kgRgyMTlJWX4dIUwuEwzS3NWZs6w9QZ6B/i3Lmz2Y2EKc1sOzIh43TdsIzuhJU5TkqJ1+vl2LGjtLa25gngufFTVY14PEZxcTGDQ4Ok02kURbNPUnNackvhJFDshX6racbjEdn2JROW1qi4OEpxLLZp85DRymb3SE9p4ymlyf0HvXz55Zc0NTXx3rtvE42GGRyc4NNPf4s/4OeDD96jurqa9dVVzp09x8DgIB988AH72tufOaSZxDqhSCQSuFwuampq8Pn8L00o0A2dL744y6NHjzYJrLnU0JlRk9YRuGlixcw2aN+3j+qqmuzGLf/adNpkZGSU2to6vF4XB/Yf5OyXZ7l79y6VleVMTk1w8NDBTXOQruvMzM7S2XkYt0slnTbJNxVZWlpmbnaOM2fO4PFomKbB1NQUum5QV1eLouTuofWssrMwuAXTTHH//gMuXLjA/o59vPfem4RCYfS0wbXr11A1lbr6OpIpS1tbEo8TL45t67eiKNs0rV6Ph2BRkKHhIZYWl6iqKqempoZTp06h62k7TFzuhCGfjHWIEAqKohAJR4hEYhhGYcFQURQ0Vc1E1Qak/ZlAEQIjL8xZRWUFJ0++RiQSBey5BIlu6PTc62Fjbc02UckaFefaBSAU2tvb2X+gg6JAcJsGPv+aTJz0DIlEgrSu4/V6s3OKg4ODw/Ogeb1edrW08KC5mZGREUrLytizZ48dEeH5c55nYm8OD4+yuLjIvZ57DA0PoQiFVCrF4uIiIyMjzM0tEA7Hssd4Bw8cIBaL8ejRI5KJJF6fl/LycioqKhFCJZFIUlJaSltbG+FINDuRZ7KcLS8vc+7cOQ4fPkxDTTk+r2ubMiSVMrl2/RoCQX19LUVFttZBsRY/t1ujvqGGutoqdMPEtO1IpTQwdIOkbljRIJ7iqFlKqKqq4oMPPmRoaJDl5RUU1RIg6+rqCIVCrG8k0A2dffv2UVZatkkIFAK8HhcPHz7k888/5/Qbb+ac7mRGrwlCmgwtL/P73/+ev/34b2lsqCaVynyb0ZqaqKrG3j2tNDXW4fb46LnfRyqdRgiZMVDA7XYzOjrK+PgY6+sJamvrCEdy4X0Mw2BjI2Fp8/IEno1EgonxCVRVoaa2Nndv7LqFIjCliaKI7ElBvnYnraeZnJwmkUxQU1NDX99D+vr6aG9vw5C5xBGKIlhfX2dxcQm/30c4HHkqjY9lDwyLSwt037tHOp0iGo0yOzfLxsY6gUBR9llZXllmbtb6XEpJOByhpKQUt9vzhDsuSCWt53t9zbpWCGvMlpaXrBjQupFd1FfXVllcXCCdSj3zu6aqMDIyyp07VniomZlpZmdnqaurQlV3jlDxLKG4NFWls7OT1dUVdN1AUQTKJsFjs3lHRugxTUlZaek2ITfz27X1BDPT0xzpPIJpwq5du6iorOTWrZvs2dNKIpHYZJ8L1hgmEwmCwaDlQJrOaQcVRTIxPkEylaSurs5ui8nkxCQej4eKysqs7asQkpWVNebmZqisrCkcm3oLa2vr3O66jaZqnD79BpFILJtgJZlMsrKyYtm9mtLeCFuRRlQ1Zy6wddyzoffsWMeGYZBMJVFVjdraasJhP+fPX2RoaKiwsJcVcgWhUIj9+/ezp9UKQbiTPfvy8gq3b99leHiUdFpndXWVleUl7tztZmBgGN0w7Tja1omZoiioqophSExT4vX4aGluwf43ya0AACAASURBVGWbtW1sbOx4ZiARWXO0Tc3Oztm5Pmz+HpaWl9DTaaKRKC6X54XWIgcHh79uNEXRaG5u5m//9mNmZ+eIRCLU1tXak8vzF6woMDc3x9jYGLW1dbS3t+Hz+y27VkXhwYP7DA8PMzo6TnV1DS7NjZSS4ZERrl27ztraKlY4MIXeB71A7jgsmUzYeeO3z+ZpW4h+2PeQUJEfj9ezTdDV0yYjwyNEopG8BA0wP7/A+NioFRrJNkrdWN9gI5nMRiLY2EhgGpIjR49kGvSYUcikxjW4cuUKk5OTWXtaIQR37tyx6peWpmRpcYl4vKTgMeX6+gZTU9Ncv34dr0fb9hMFGBwaZXZmhmQykaeJzIxRZrEVFBUVUVQUYHJqmp///JckU0k0Td20acjE0tQNHU3TqKqqQIgmFKFSV1fN3/3dj3JCtq1ZnX40zae/+QNej4ePP/4JLpfICePC2iyEgpFNR7eZ+gBmpme4c7eb2tpaSkvj/OEPf+LCxYvU1tZSFAyBCalUkomJCbq6upifX+D48WNEo5Gn0LZawtDGxjpdXXeYmJjkyNGjDAwMMDY2xvTMNI1FQTJhmHof9DE+Pk5NTQ2Li4vcuNFlaaf2d/C41MZCCHbt3oXP7yMSjuDzBdB1KC+v4Mc/+jFut5t4vATTBK/Xx+nTpzlw4AC1tXUFy91JKFVVWFxc5NzZr/D5fbz11hl+/etf09vXS2trE6GQlQpWKGDoBqYpcblUTClJp3Q7w5/yRK2vqmocPXqImZl5/vjHP9HY2EBn5wEUdetJSUaQy2w4rM+2mi1Ymy3B9PQ0qXSa+vp6dB2i0SDtbW1cunyJq1evErTNPvLDbVmafWllCbPrsvpgOYiNjo7icXuora3BlJL19RQDAwPE43Gi0ShSSjY2kgwMPqTr1h2Wlhb5x3/8P61xMeVj7qtkdXWd8fFxqqqqKCkpse2PdRYWFpCmxOP2Zh3iZmdn6e3rBQlHjhyxM3vtvLnImhDYFjmZ+UFRMvenUAay3KDMzs4yPDxMZUUl7W3t2SxmW9E0F8vLy1y4cBm/309FRTkgmF9Y5Oy587hcbkpKSqirrWXzzbV19hLC4TCnT5/gtWMH7Q7l/BQ2W2NbEWl8gSA+ny+74VPVnMAqBKimYn8m0DQrwo2iQLy4mBMnTrJrVzM+nyfrRJd5rjZrtx0J2MHBYWc0kHi9PnbvbmXXLttuKjsrP/8EYppYGtv5OU6cOMHp06/j8ViRHFQV4sUxJiYm6e8fpL19L8WxOFJamgjDMLILj5Sgm7mMVQJrYk+l0qytrmUn0Cz2AtHT08PIyEjBhdwKsv7IPo63NIWaBo+mHvHpb37H8vIymaQUqqrYNohu/D4vRcEg0UjMiryQSdG7wzBltVxYjnaZdKnW+Ji2iYg1zqZh0t/fTzQa27IoWr9XFRXTMPjkl59kHcFEdnW0SCQSm47c8xeg/HHIHEGmUimmph6xf38Hhw4fxsg/x7WLnpiY4M9//iKbdUkIy0wkEChi6wIs0PB6vPh8PqqrajabWNjlmZJNC3FGI7y2tsydO92sr2/w9ltnCAS8TE5Oc+3qNbq67nDy5AkQML+wwOjYGKtra0zPTLOxsW4fSVvlmKaJrut2drWcps6Kn5yiq+sOPffu09HRzqFDBxG2083w8Ch1tQ1Z4a+ysoKSkmJKy+JMTkzR3d3N/Qf32b27Bb8/gK7rGIaRTVGajxWKK5Y12zBNCASKaG9vI7PZkNIy87CiUGyNxWphpcU2UFUr0UcGVRWsra3x5z+fZX1jg5OvH6eivJI7d+4wODDA7OwiwWAEIRRmZ2a4cuUqc/PzHD50iNnZWfr6HhIviXP69Gki4TD573kuRW/uNEDTVBKJBFeuXkEogqNHD6CprufcCIusJrooUJT1A1AUwZEjR7hw4WvOf3We9n3tFAW8m+1ZbbObpaVlSztrp7AFSCZ1hoeHKC4utoVag6tXbzAyMsKJE8cJBj3oaYOJiQnGxyZJJpOMjo7lmatY75Rha9ytLHwZW3Lr/U2lUxTHY7hc1j1NpxMMDQ1RVFREZVUVyWSS3t4hurst56pwOMzhw512JIQCIyEymwOTdCqNoii43K7sZsHt8lBVVZV1/tw8ipYgaUoTU5qWRtnOFpm7l5YgKg3weX28dvw16hvqQUrcHg+hYBDdMFhcXMQ0TVwujWgkzPr6Og/7+8lkD8yYDqV1A9M0CRQFCQZDKNmxk9m/tlonmFKgGwZuRViZG4dHWFtbJZNQBykZHRllZXmZu3fvMr8wD0A6lSYQ8DMyOsrE5AQVFVVUlFsJdnRdz7s/jpDr4ODwePJWaJHTaLygi7sQsL6+Rn//AIAVpsvnJyNUKgpUV1dTEi9hbHSMmek5ohErGUJTYz0V5cWY0tymKbBaCV/8+Su6bt3BMAqfzwkhaG1tpX1fu5U8YUt30nqa3//u95uEC8OA8vJy3n33XSs7EBLFPlLUNBWXy4XX6yFQ5MXn9aKq3k0pS3ciI9C8886bpNNWNMrcZZkFQpBKSR4+fEgqVSj2pFWQpqp8+MEHeH1e2wEkY2lnCdAjwyP88Y9/AHvsMlqwbWk286rWNI36+jpOHj9MMp0bT0uhLenrG+D8+a9sDVquT4UekUwa04wj3U72ppuEY2E5yD140Ed3dzeHDx+kvNzSeO7vaKfnXg9ff32ByspKGhrqCYdC7NmzB03VmJmZ2aTZEQIWFmb5+uuLFBUFOXHiuK1NstLl3u3u4fKVq9TW1NDR0UEg4Ke0tBhTWpm4Ojr2URwrRkqFsrJyFAU0TbFSoWLFetbs0HJ9fX3cvn3bes622NYK7AgZ2/pdSGO73aFOSommwcjIGBcvXqKpqYmOjjY8Hi8I2EhscO7cee7ff8B7771LZUUVfr+bmppqbt26RV/fQ6qqyvF4vExNPUJVNQb6B1heWqalpQWfz0dXVxcH9u8nsiV7Wc4EIfNZRqCStsmFQBPg3m76ntd+y/a1kNZNCCuL4f3794lGo/h8Gum09ew0NDZSUVHB/Qf3+WH9D1FVJRu1QUpwuVzEYjGmp2fQ03LTc72RSDE+MYHf52dxcZGBwX4GBgZwuVy4XG5GRydwaW5KS+MEg16EEPT39+fumACJydTkFH/605/Yv7+DziOHMQ1rvvIHvJTE4ywvLdub8RS9vYOMj0/Q2XmE8vIydN3E6/XR2NjA0vISG+sbT3XcnkqlWF1dxR/wZ6MlCGEljLjfc5+bN2/g9Xqse5MvyGLZ6G5sJOx+bk2TnBt3l8tNTXU11VWVeffZnj/y7GQ1TWFwcDAb0xas/q9urHPu3Hl6e3vJzSoZMXgHhJU4oqK8gjNvnSaRSHL23DlGR0e3pHtOkEqluHDhYrYPmffCtBNTvPHmm4TDYa5cucLs7Cyvv36Kqsoqx5zBwcHhiWiFd8QvNnsIYXnSTk/PUF5WTklJfJPdmGlCKBSmvqGBy5cuMzU1TUNDIy6XG58vgN8fyDt631yuEBAsCuYdiRbQ2JqSsrIy2tvbCfj924SyZDLJxQsXs7almXrC4QgHDxwg46aROYLLF0Yy2tJEIiOQPnmsFKEQi5VkWrftEoEgkUg/NpyblBLV5aK9vR1/IJA1SZBSgsg4lFj7FjNj+/cUSCkxDRNdBz1t5ByLrC/R9XT2t9sXla0fbE9Tmjle3olUKkVfXx9//vNZZmZnMEwTKRUMQyeVsjTMo6OjnD9/Hq/XQ0VFJT6fjzHf6DYBXlEgmdygt7ePUChEZ+ch/H4f6XSavr6HnP3yLJNTU7Tu3o3H42FjI8HMzDyJjQ2Gh0a4f7+XzsOHcbstm0BFgcnJSW7fvktJvIT9+ztw2wvx/Pw83d33CEcitLXtBZ7HYWbnZ0cIWFmxtFxut5u9e3fh9fpIJpNcvXqdCxcugoCiYBCXS2VhYZnZ2Tl03aCrq4vm5kbq6+upq6smEAhw5coV/H4/hw+00dPbz+DQ4KYbmgl5peuGbdawvW2KojAxMcHFyzdQXVp2M5RPZoO4a3croVAICsTSvXOnm8GBQcLhMNPTcxQXWyYKwSIv+zo6GBsfo7amdpOdqZTg8Wg0NjVy9+5dlpdXiESsFM1CMZmZniaZTOL1ePnf//vnxGJRjhw5wtTUFD09PbhcGkePHaO0tIRAwIOmadvabm3Q17nVdYvi4hhHjh6267ZsYI8fP8Gtrluc++o8ioChoREOH+7k+PFjaKobU5hUVZUTjRbR29vHxvrGE58AKSVLS6ssLi5SW1tDIBDENK1nz9B1lhYX0VSVY0eP2emvc29o/qGPx+2lqrrajo5SeG605jElb261Bda8e53933wtg7QmXpdLs0zGbPtdniToAoapork0pBREo8WcOnXKOh3KE8IVO2NExrk4U3FmGw9QU1PDxsYGXbduWSHHxA7mHA4ODg5beLIXxnMgJYRDEd599118Ph/R6GbvY0urq3H0yBFLs1tSkhVcd9IWZrA0gIaVsUtKhNj+Y93QuXz5MsPDwwUXNNM06e9/SENDQ7bMjCOTsI+IM59Z0Scy2o/csbuUVj3GU8Yr2rxoZxaYXJ8ypgy6vr08ISzhdWVlhX/+539G1bQtR8wAksXFRRLJpNXup2qVJfSfPXeO/oFBWxu7+crl5SXW1td5migcUlqbjFy4oXzNYGGEEEQiUU6fPo0QgpLSEnRDIqUgHi/lo49+SCqdIuAP4PX67HsibWF+i5AlYSNhxXaNRCPZ3wshiEZjnDp1GtM0KSsrQ0qBlArV1bX83d/9FImkrLSM/FOH6elHXLx4BdOUnDh5jJrqCjJH3Gtr67hcGqFg8JkjJTyJrDnH+hpCEUQiYTQtYyogqKyo5KMffoSmarYG2npu9+8/QENDI6qmEgpFAEE0GmF8fAJFsTzgi0tKmT5/kVg0Rijos4+CDSanHtF16zbBUJAjnQfxePzZ+wiWR34gEGBkdIT5T+czI87WJ83SRmv84z8WEw4XiuVq2Xl+/PHHaJqGyEtoYRiSkydPUl1dTU1NDbqRecbtViiCAwcOcu3qNXp6ejh16hipFCBNRkfHiEai/OTjn2CaJuVlpZSVlaGqP2FldYWSeJziWDQbhUTmbeZybTdZXl5GEQqlpaWbxESX5qGtbS/xeDHJVApFKJSXV1BWFicQCNvPmYLb7SGRWNv2bBa+z5BKJRgZGSWVSrFnzx7cbo28Ycc0TeYXFrhz965t+iXz3vjc3wJBY1MT4VCQUCj82Dn0yU2TtvlYZjNt2ZMfO9bJgQNt2bY/uRTrv5rmIuAPoWlWqEVLi4wtQBe+Nr98KyGGyv37D1hcXKKjo4NQKJQ1AXJwcHB4HN+YoBsMBmltbbU1oIUnpJKSUuJxy2ThcVq/rWVXVVWxf/9+IlFrMc9gmla9Bw8cYGFhIau9MAtUvndvG/UN9bb2rnA9FiJ7lJiPoip0Hu7E4/Fkj7OfDlHw/xVF4fDhw5SVl21rj65bph4nTpzA5/MW7A9I4iUlxEtKKS0tte1wN9vwbm6GwO/zc+ToEVKplOX4wub4vAJBLBajtKyUsrLyJ2YmCwQCHDiwH7fbbYdRerKntKpqlJeXUlZWkrW1EFie/fF4McXFsU0bEWusLDts648VZixjLjM6OkFJvIRDhw7i9lj2joqiUlpaQklJPNuzzMaqsrKCisoKq15hOcwpipW+9fbtO0gkr584SiQcZmZmnlAoyNLSMtMz0+zatYumpqaCIaNeBCFgcXGZgYEhdrXsYtfuFlz2c2p55NdSV1eLhGy2LK/XS0uLlRAh48RpxW+F0dExvF4vpaVx0rrJ2Ng4tXV1pFI6um4wNj7O4OAgt2/fprq6mkMH2wB/9r01DYjFivnv/8d/J7GRyIaTK4xEVVSK4yU7hn0rLy+nrKwcbMfMzNiZJpSWlhIvtmIPbx1UQ5e0NDdy8OBBvvzyLK2tLcTjMRJJg8HBQXw+H217rbS6qmptcFt2tYDMmNFY5SmKZfNuOXyp2ecrsZGkr6+Pjo4O9u7du+l5F0Lg8/mpq69HtwP7aqpqRxDJaVEzTc6mBd5BkrNOp0zGxia5d6+HhsYGdu3atanLLpeX5pZdGFJm7YW3mnNl/hZYph3PFlJu+29NCR6Pj5rqGoqKiuxxtMYrFIoiRCZ1r9ypiO3ITIpmEChsn5YKFJJRYOSO1nC5PXR07KetvR2fL+AIuQ4ODk/FNyLogiW4Pin8Yb4G9Vlo3bOLhoYafP4g+ZOklBAvjvPBB+9YkRNy32wrQ0oru5rf739iGwtdqyoqb7xxEoTA7XpSyKnHl2k5w6n8+Mcf4nJtd/JJ69DWvoeGxmrbiWPnGV4g8PtD2dSoOy60QCQS4qd/9yOMx0mwtoAZKArZmtbCjlMAwVCQEydfs8MSPd19tZ6Bwo9hoTIMw2B1bYXpR4+Ym59jamqGhcUVvD4fhmEQi8aoOFVOQ30dSJEVkIXICTT5bHUkA0vLfePmLa5evU5lVSWDQyM8mprC4w3w+uvHMU2DXS27KK8oe7lZ2za1IU19XT0VlWWUl5VbAgJkBdit7DTe6bTB8PAo4XCYYNCPYZqsrq4xNjrGJSE49fopwuEwbXtb6X/4MGtjbSEAE9MU+AN+9rW3P/bZy11lb24LW4cXHPPctYoVVaEAUlqOkO+//z6/+MUv+cUvPuGDD98lEAgyMNBPMBhEUdW8kGaWJtoyirfyIurpNEtLS0xMTLC8vMzIyAi1tTV4PJbjW3V1NU3NTYTD4YIbO4HlmGq3aFtSjkymO8PQMQ0DISzn260HP6lUiqHhIS5euITf7+f0qVMEAoFNQr/P5+fYa0c4cLBtxw1j/t1wu7zZGMrPg2XGBNFoMWfOnEFVVXw+X54/wItoUPNVtE/TmM3/NAyoKK/gvffewusreuwz5ODg4JDPd3K28PuKCPiLti1ElsOKO88e9vE8yUzicVixKyMvVMbm8hTi8VJLg1agX35/4KkzZ2W0J49Tt2Sc5OLx8se03z58zNgFPkGjqyoawaJwtvxvgvX1dYaGhtnYSFBXW0cymaR/YIj6ujoCRX527WpCc7nQNPc2TfzTtMlyAkoDgng8jiIEo2PjJJNJYvFSXG43gYCfcDiM2+1BUV7+K5Q5Edm/vx23x4v6AnUYhklFRQWxWIxAIICmaRw6dJD5+QVqa2rx+bx4vB5UJYzP5yPfpMYia6le0MFue9tfJOXw1mu2/1tKQWVlJT/+8Q+5efMWZ89+xb59+9jXsY9QMISy43G2QGBFJ+jt7UdVFdra9jI8PIyUJi0tu/D5vHR2HsDrLXqqZyUjTGc2foahMz09y7173YyMjJJIbHD58mUaGxsoL68gM7bpdIqHDwe4c+cOpWWltLe1UVlZsa1ORdEIhSIIEbF6UGBIN5uEySeeujxNn9xuD2VlZdkyCwvZ37SB7PbyPR5f1rnU0eY6ODg8LWJx7a9vytgaQulVSitpCQrbNVqP06TuUFJBR7Ct6Tcfv2DJ7O8z5ISYJ7WlcP0viq6nWFtfRU8ns4Kspnnw+4twudybtLb53uTPVofO+sYKqeSG7SAjbVOPIvyBIKqikLHVzTepeNkU0kA/K6Zpsrq6gMvtwev1AQrra0skk0mKiixh3QqjB//yr/8fSMHHH3+I3x95LqEpJxh9c++UNS4my8uLPHo0QzQWxeNREKgUFW02Z9rSOlKpJKury5hmJn62wO32UFQUsU0Ztm80nxbTNCyzlulp1tbWME2TYChIcSxjgpMRiA0WFhZYXl4mXlJMKLg5xNvz8rzP+8su45vmu9BGBweHV4e/UkF3c5dfpQnz2QXancuBQmYSz7JI5ITcnO0hPI2g+00uRpnoG7m6CguEL9IGq46tjlZbbbe/Gwuuomxue2b8MgKdYRgsryzxb//2byAFP/nJjykvr7ATHbxqfcvfdJE1u9E0xbYFhSc9m0/7/DxP20zTtDMGWuYSprSiUOTHfJXkKnzZ9t0vynfhmf4utNHBweHV4TtpuvCivMoT5Mtq207lPHv59tH1M172TY7x0womL6bZenIdr/JzlE8hU5h8oXd5eZm+hw+tZCUIhoZG8PkCRKOR57Kh/7aQkmw8VvPpgp9kr/tmhEthOzPmJffI1Up+lsKtzmuvCt+FZ/q70EYHB4dXh79Kja6Dg0OOVCrB2toKpmk5cCqKit8fypo1OLw4r/IpkoODg8P3GUfQdXBwyB7nZ+zXnxT/2OHFyNnKv1wbdgcHBweHzfxVmi44ODhsJnOcnxFwHYXjt4EzyA4ODg7fNI6g6+DgkMU5Uv92cMbZwcHB4dvBOTdzcHBwcHBwcHD4XuIIug4ODg4ODg4ODt9LHEHXwcHBwcHBwcHhe4kj6Do4ODg4ODg4OHwvcQRdBwcHBwcHBweH7yWOoOvg4ODg4ODg4PC95K9S0LWC4lspObdmLPq26n9cvZlUobmUofnXmYUueY42yCeW9TS/cXD4a+fbfE8ydf0l5q2dsNr07O15FfvyMsnN19/P/jk4fFf43gq6j5tgcjEsXyyW5fNP0pvr3VmA3do+8ZLjbz5NWU68z79mvs+CyMsgk+Hs23pPrNf/5dT1OAH1eYXXZ+fVmF++medc8Kr0z8Hhr5lXOmGEooBQwDSsrE35qKo16RsFvoPHB2S3JrSXITQKXC4wzfzMUuYTy9Y0AQIMPVdOBo8HdF2g6+a29KAvU8h9mrIyv1FV649uSAzdSVv6fSb/+bXSAm9/Thy5N4eqgqLk3ncpQdefcFEBMimYH0cmc93LmgZU1Z5fTdi6z36a9uT9+rnqF0Kg2SvQTvP4N4GUpn2/8tstst+5XNb9TKdfrJ5M/0zT+mN9BqZZqH4HB4dvCrG49qotWzlNwszsDOvr65SWlOL3+7O/ME3J4OAAS0uL1Dc0Eo1ENk0cigqa+riJOtNlgWGAruf+XUgLnNGiWM3Kv9bg3r1uQqEQNTXVKIqWbXtOQNheXl9fL+FwmNLS0mybhRCkUmkuXvyamppampoaMAxLqLQmZgVNs4X/p1gQdUNiGpt6sek3igKatnNZprQWHz1tMDMzw+DQAE2NTZSWldqLYqELrXtnSokAFCVfIHYm9Vcf6/6pmgAp0HWDVDqNlBJFCFRVxeXWEIjswv3XjGmaLCwsMD4+xvr6OlJKSkpLaGhoRFXUJ1ydmxcMw0DXdcynmIpVVUVTVXsjkn8y9bhrC7+rs7MzzMzOUlZWRiwa2zR3maZJWtcfa5KRaa4iBC6XK+99f5p3XWKakpGRIQzDoLKqEp/Pb3fjSf15EoX7m5nHhZDcunWbyclJjh17jWgsDDIj6EpGx0ZZWlxk167duN3up+zPdgzTYHRkBJfLRW1tJXfv3mdwcJAzZ97C5/M+d7kODg7Pxjei0c0/AtI0UNXcC52Zmw3T3sXnzaOKAqpmTZxSwvXr1+jvH+DHP/qIlpYGENbkmkya3Oq6RX9/P3/zN0VEo5FsnaommBifpL//IalUyq5wp+M5k6qqapqaGtFUd/431iIiIJVMoRsGqqLgdrvRNIGuSxQFNjZS/Nd/fUJ7exvV1aWAVlAD5nZbmhMBrK8b/Ou//ivHjx/nbz56F6lqCLtfq6spfva//oMPP/iQ1tZGDCMzZgIpTa5evcX8/CyKun0RVYTAzBNIWvfsobS0BNPYfqxqmjpDQ6MMDPQjFGt8rIVZYpjWWPl8Pvbu2UMw6GdgcIBf/eoT/v6nP6WqupRUstD9tsZsdm6OixcvEC8u5rXXjm8Rdp+eXJmO9vjbRNUEExOTdN3qYnBokNnZOVKpFJqmEQqGqKuv48D+A9TV1aIor/SB0DeKEKDrCbq6upiamuLQoUNMTk7y6a8/5fVTpzjS2blJQ1nweRYAkv6Bfj755JcsLS2j7vS+CIGmaezevZv33n2HaCyGNLe+29KeQwWKAkhbmyhBydPQCgHptOTBg14uX7nMmTNvUhyLkdt0w/379/ns88+Znn6EZs83+bVJCcLWZLe1tXHmzdOUlJRmN0DWvF+4K4Zhb6KNNF+d/4rERoIf/egHBPx+zLwxU1VrPcjMj1un8XylqGlYmvRCewUpTXRdRzd0y5hAEdy/38Pd7m7qG+rxet0gBAJwu91cv36de93d/M//+X9RUlJSuBNb+pgZZ9W+fYoCq6smP//5L4jHi/kf/+MfGBgY4Pz5rzl58nVb0HVwcPg2+MZWqswRTf/ACKMjI6TTmfM8idvtobS0hOrqGgKBgG0fBYODI4yOjpBOpwDo7u5menqaCxcv0T8wgJQmRUVBmpqaSadTJJMJTNNAILJCsKrA2Ngof/jDH1leWUF5jKC7srrCG2+8SW1NJe6AB8OwZmlNEywtLXPx0iV67vUwOzeL1+ulpqaGN06fpq6uBiGsGW5lZSWrzclOyHnous7FS5dJJBIoQpBK60xOTdHd3Y3P58GUEkM3adm1i/KyChIbCdJ62tbc5rS9hmly4eJFeu7dw+12barDqlsgAUPXEYrgn/7pn6goL8E0CmkNdHp7+/j000/RNNVaCAwdJGguF0iT4uI4JfFiwuE6DENnfX0d3dB3PF7MtHVlZZmbN25QX1/Pa8dfKzgm26+1FrTMIpFZCE1TACaapqCqVjmZ756VjPkFWItS5qhUCLKa8kzZr9oZB+QW1a1jkH96oevPNzZgCQOKKrh37x6f/PITHk1PE4vFiMdL8Pt8pNIp5ucX+Pr811y5fIUPP/wBx48fw+32PHa8hACXKze++cfBqmr1S0rr80LlaBqk0ybptG5r114NpASXy83+/fvp2L+PaDSE3+/m2vVr9D7o5f9n702f9DjuO89PVtVzH33f9924LwIEcfOURNGkJFLHyrIcG+GN0YvZnZ3/wBGzO361E+uNmN0I2R6HLVu2Z2SKoEgKIAGSAEgCIG6ggcbVABro+76e+6nKfVH1HN39rBLKWQAAIABJREFUNEBCBCUD+YlANNn9PFVZWVWZ3/xd+dSWzU4YQxqX242ug5le8i5KkEiCwQAdHR1Eo1FnvMrHDlWIRKP09fUxNDRIKpWy36sC7ZqYmOTW7VvMz88jpSQcKqKktIzZmRlmZ2cA8Hp91NfXk0jEWViYJ5W9KbaUlVIQCARpbGwgHA6iZ16c7AntFycej3Pj+g1GRkZIphLZcIeFyAK3b91iYnLCFuOZuGLnBtfV1dPS0oQAIpEI8bg9ji/lxs1bDA7ec663sJU2Y/0tLi6ls7OLgD+w7FOaJvj0s8/45JOjJBNJNF1jYmKCyMICf/u3/w2P24MlLcrKyvjRj35EIhFnfmEe8wEv09WrNxgcHMA0TUKhMFXV1fTfuU06nUbXdTo7u5memcbtdtmeLsuyjS8KheJr5ZEI3Vy8muTKlV4OfXAo+/Lbrm0Lt9tNZ2cnLzz/Ai0tTYDg+o0bHDlyhHjMFo6RSIRUOsWxY8fw+Xyk02lqamooKSnNuu40oS1K0EinoaOjiz/90zJ7BV9ggNScQfrv/u7vSCVT2C5b+xiaDrNz87z5619z/vx5ysvLaWpqYmFhgXPnznHz5k1+8sd/Qmdnq3Ot9+sHSCaTfPD+IWbnZtE0jXg8jplOce36NQYHB9F0nWgkyne+810a6hvQNC072WlaLv5X1zRee/U1nn/++YLXlImpvHTxEgcOHiCdXnmQFsLFli1baGq2J5vZ2Rne2v8WoVCI737nu2iawOvzUl9bjSE03C531qpTaHbNnDttJhgZHmFoaAjDZTA9NUl1dSXJ5MrWWSEgnohxq/c2w0NDGIZBUVERbW3thEJB5hei3Lx5g6nJSTweD42NzTQ0NKzc6QUwzTR37w5y585tLMue0FpaWgmFQkxNTdHX18fs7CzBYJDW1lYqKiq/1PEfNalUksuXrzExMYFE0lDfSENDPR6Pl/47d7l79y7xeIzSsnK6OjvxF5jsH4SmCRYWIhw88D4LkQjf/e53aWtrIxTy4zI0TFMST6QYGR7jrbf2c/DgQVpamqmvr1/R6i4EjI2NcfVqL6lUitraOrq6OrOLxL6+29y61QfY72xzS8OieHyXC27cuM2xY8fo6OxkxzPb/6BCJoTQKS0tQdMEEotIJE46naaurhZNE0xMTHHy5Ek0TePpp7dSXl5WcCHlcrkoKS7G43av+G7rhoFhGFiZDnCSxRZ/XjAyOsr7B99ncHAIw3DR1NREW1s7165dpb/fdqMXFRexb98+JHYoxNJzSimprqnm2ZJnkZblLFbtRmearmsaU1NTRCP2WC0dU6ymwdzcLEePfsKVK1dwuVy5+QA7kWH37j3U1lbi9frQhLai1+dqby/HPjnmLAC05e1EIhBEo1E6u7qoqa4hGAgu618pBcXFxTQ3twAyO49IKdE0Da/Xi5SSQCBgL6ak3ecerwuPx16E2UaQXLiIEHDm7Fk+OfYJAI1Njaxft5533vkNwjnmT0vL0Zx3Izu/aNqKRhGFQvFoeOS+x1TSXo3ve3Yfa9asAQkzszNcunSJnp4evF4vxcUhysrK2LJ5M22tbdy63cfnJ08yOztLMpHA6/XS0dHB5s2b7Xiy0tKsGEwkE0RjMVwut+N+F4TDYcLhECtlQ2s6xKJx/P4ALpebfMupJuDMmTNcvHiRHTt2sH37dkpLQ6TTJjdv3uaXv/xnPvzoQ+obakHY1tCVQq2kBI/Hw09/+lNisSgnTp7k7NmzxONxDJeLyopKdu3eRVtrO2Xl5cQTdkxAOm0Sj1skEknc7oyLS1BXV8v9KkkIYTI+NoGu6bhcroKfc3qA0tISe5LWJSMj41iWvfjo6OgAkeb27Xt8fOQTpGVyu/8ulmUVmJAyk5tAyjS3b9/lk08+IRgMEo1EOXT4Q77z2qsEAn7HQrtc8EoJmtCJxxJ8/PERIpEoL7/8LdauXQ8IXIbB+NgEhw4dYtWqVbR3dN7nula4Wk0nkUhy+vRZhkeGefGFF+jq6spaoHp6LnPlyhV27dpFV1f3H9wkZBgG8/MR3n//EC63izdefx09E/ICfPTRxyQSCV555RU0TX+o9muaYHp6mqGhITZs3MDWzevwBYrsmBvb9EgwKKipKGV0dIRf/epNJiYmqaurua/Q9fv9nL9wkXNnz9LV3c3/+u//PX6/H00TuNxuDh3+kKJwERs2bMTRQdn7cuTIJxw5coynn36ars4uTHN5gubvF5ENKxoYHObEyZN0dXXx1FNbkRJCoRBd3d2cPnWKf/mXX/Hcc8/S2bnk+ZUwOjrKB4cOEY1EF7m0sykBjncsnU7T2NBoGwwKtUbYHh3LkmzctJHdu3YTCoUZGBjk0qVLbNiwgV27d+H1eikKF3Hh4nlbdNmXkh1aNA3u3L7Nx0c+ZmRk2BHVTgiV8ywITZBKpRgdGWXN2rXYlmDHs2RZJJIJurq62LlzJ6FwKE+gQ0lJCf5AcPFivMAYum3bNjo7OzEtq2DUriYEqXSK/fv3O9e98ipo9epuurtb6O29wYkTJxkctC3jgUCArs5Odu7cSUVFMW5PAKEJYrE4R49+QjgcorOjm9ra6mVCOxaLUVRUxGuvvUZ9fR29V69iWhb/80//lNLSUsrK8uOencvPLBj+gMYXheJx55HF6GYmW0ta6IZOTU0N7W1taJoATJoa65mdmWXg3gDT0zOUlZVTXl5KJLLApYuXmJufY/2G9fh9fkZHR7l27RqVlZWsWtVBIOBHaLb76R9+8Q8EgiG+9a1vsXnTekcY3j+jVddhYWEB0zTx+/2OVcNxoaYt+vr6CAaDbN26lbq6OjTHerxpU5gzp89y+/ZtIpEYfn8gm5m+kmVX13VaWpv57W8PcP7ceSorK9m8aTPJVJIbN27w6SefsnHjRqoqS5iZjeDxujl27BgXLlygsrKSn/3sZ3g8LmeisSf5lc6lafYEI4QgHC4i4/ZcOqguyviVKYaHhxkfH0dakvHxMSrKw1ztvcrB9w+iazrJZALDcNkhIovOZ/fl3FyESz2XOHToMJqm8ZOf/AmjY6N89NFHRBaivPTSSzQ0NOB2S9Jpsaw9LpeL9o4WNm/ewkcffUQ8Hs+6S+2scIvKykp27txOVWXZivd1JTRNUF9fS0trC+Pj47g9HtxuT9aanEgmWLduHdu3b6O4OPQHNwlpmkb3qi6OHz/OQmQBr9eLrutoGszOToOAvXv3snZtN16v+6Hab0nweX14vF4GBwcZGZuisTGEx6MhNIG07Lj6iel5bt7oQ9d1wuGwY6HKWbsyGe22q1bg9/ud9hrcvnWbwcEhurrakFJQUVGBEILVq1dRVVWSrVZgGHDh4mXefvs3vPbad9i2bT2a5neeZVvsFn6u7QSnr1oMF3rfcueWDI+McvjQYUpLSnjhhecoKgqQTtvPdUtzIwG/m48++oT33//ACQcpz35fSkkqlSIWixEIBGhc4q3I5mYBAkFVVZUj/JaPOZkwVk3XKC0tpa29DbfbxeTkJLquU15eTmdHOy6X4SwaFudOyGw8hGB+YZ6hwSEMl05jY2Nukbso7hg62jtoam4hEAgtqgghhKCktITW1kZKSkqdRW7uZJoQpKQtdDVhe7GEBkLm+ra8vJyysrL8r+WGLZnxmKUIh8PEY/El92Uxfp+Xnp6bvPPOuyQSCerq6vD5fExPTfH5558TjcV4/fXv4fPZFu54LMbhQ4fRDYMffN9PbW0FsDjoWNc0fH4fra0t1NSUcf3GDXRdp7mlmarKMuLxVLbCj46Tp/GgTGKFQvGV8+izSZyBRwiBrgs0TccwdILBAIZhOCENWjbTt7f3KtMzM7z44kts3rwOr9fN7EyEd959j97eXtatXUtbWxikxO1yUVNTQ1lZOUVFRUgpiMXj2UE1L6Jh8UUbBkNDwySTCQIBP/G4hRApDMOwqwUI3Y5bkxJDt2PWNA0QrrxwiALZEQURzM3OcfToUdrb23jj+29QXBzEsixuXL/Df/vb/8aJ4ydo/tH3ADsDu7y8gtaWVsLhMEKzqzGkHBUgLekkkOWdwblQgWRocBCv14vf5yMSidsC1bHKLRUAmiaZnY1y7Ngx20quaxw4eJAf/+hH7Ni5g/aOdqQluXz5Mp988skii4lpphkcGuHmjRv09PRwb+Ae9fX1vPTSS3S0t7Kw0IKhu/jkk0/4+c//iq6uLlav7qa5uYXS0tIlE5IgFAyzYeM6rl+/Tm9vL1u3PkVtbTVTk5OMjo6yfv06WlvbeJhHVkrw+fw0NDTQ09PD7MwsUqaJRpP0XLqC1+Nlz56dVFVVIuUfksXQRkooLiqiuaWZ8+fOE4lE0TSLqak5Thz/nLVr17J16yaCwTBSPtxEKi0oLS1m9+7dvP/+Qf7qr/+G5uZm6mpr8ft9JFMpJsYn6eu7xejoGLt27aKmtjL7TEmZC/+xsUWPaVrMzc6xYeMGLl64wOXLl+nsbEYIjVg0RjwWo6OjE0RORCwsxHjrrf20tLSyffsmNM276HkxLZNkMonL5cLQDUCSStnJRl6P56GufylC2Iu4VMoimUxhmiZ2eS/baul2u3G5DKYcoVRRUcbzz+/BsnRu3LzlWF4NhDCorKph69bNvLX/N5w8eZKXX/6W3U8CNF3gcbvxeb3MzsxwPRrN3ZP87sRe8EUiC6xZs4ramkonhn3pjcxVTtA0bdE7by/INSCzOHGSe5NJYtE4um6HR2T+YBg6q1evZt/evbk43fy22XIbwzDweL1L7r/zV5Fx1+c30cqNnEKQNtPE4mmi0QSapmHomaResaj9Esse/4RmmzKEfY50Oo3QNDR9eX9kFl6mCefOXSCRSPD973+f9tZGDMMe5w8cPMypU6cZH5+gqCgM2Nb4119/IxunLsTycUdKmQ1zsKcE6bTPbnvGCm5aJtE4pFMPUXdOoVD8zjzSGN3sf0u7ekEsZrvmZ2ZmOHX6FKOjo2zesjkrfNJpi5mZGXw+L62tjU6spG2dbGluYuDeAJFoNDvhhEIhnntuL11d7Xh9Pu72j/Cb37zD6OiInUW7QrquEIKFyALj4xMcOHiAo0ePsm/fPvbu3Ukg4GfNmlVcvHSBAwcOsGfPHhoaG4lEFjh//gI9PT1s27aNUMi/2EpxH2bn5pienmbHM8/QXF+FKVxoAtauC1BcVMzw8DCW5SQUpVKsWb2a11/7Jmk0An6dAwc+5v3338fj8VBoc4mMtUVKyejoKPF4gr/8y/+bQDDIT37yJzQ21C2aFIUATZfMzCzw7rvvcauvjzfeeINkKsnbb79NUVERL7zwAt3dnaTTKaamp+xcksz0JkDKFLf6bnP48IfU1FbzrW99izVrVtuCWTMIhYrYvXuHLc7On6fvZh8TExMUFRVTVl6KXBJCLIRGbW01Gzdu5PDhw5w/f57i4r3cvHkLKSUbN25ENwwss1AIxYPRNEF1lb0gGh0dZXpmjrv9d7lzp5+tWzfT0NDwO4ncwhZG+2f+7wv97otgGBotzU2cPXOW0dFR5hfaOHbsU9xuN9u2bqGoqPihRW6mXZpusHfPTspKSzh3/jyDg4PcvHET0zLRhB13WFlZxd59+9i0cS2BQADk0kWXyDseTE/MMD09zfde/x7DQ8NcunSJb3zjRYqKDAYGBzAMF/X19ZhpW5S43RrnzttlmP7olT/C5faSTmX6zELXLT4/foajx47yp3/6p9RUV5JIpHj77d8wNjbGn/3Zn+F2a1+6f5f2RSIR58qVXi5d6mFubo5IZMEOC9Hs0KhvfuMl6morOH78BCeOn2DTpo18/PGnjI6N43a5aahvBHJxtFXVlTQ1NnH16lW2bnuK6qpKO8kunaSyqoo//slPSDthXoXc9Pb1S7xeLyXFpcSiCXSjcExv7guZA0kyG0DIPIupJjQmJyd48803OXz4MLt27mbPnt243W5MSzK/sMDHH33MpYuXFvWN3RYAgWla1NTW8OILL9hhT3nntpxNGJbfC1sY2mXJDPr6+vj5z3+Ox+1l585d7Ny5nWAwtCweu+fSZfr6+ti0aRONjQ0IaYvIeDxOcVExHrerwHuYNYfjcrmIx+NMTU4Sr68jYHiYW5hjYmIKMxuaZRtcXG47vrmqKlMCspCIzsUt5/drrn9so8q1q9f4P//zXzA9PYXP53c8HvfP71AoFF8dj9yiK4QgEomwf/9+Dh8+jJSSeDxOJBKhu7ubp7ZsIhwOIyUYhk5ZWRlnzp7h3NmL+LwBgsEgAwP3OHvuHB6Ph3A45CR/gNA0PF4/Pl+RnUDl9VJfX08oFMxOAJbM1OVdInYhmxyXTpuUlZUhhE46Des3bGB0dIyjR49y/foNAoEAiUSCSCRCZ0cnL7zwAl6vj0gkmlU4OVfk8g0jSktLKS8r58zZs7S1tdHS0kIimeDzz08xPDLMM888g6bnBk6X202wqIhE0k5GKykpobW1Ba/XZ4thc7llIDM5trW1oek6lmliuFx4PG7kkkE6mUxx5cplPv74CP39/ezZu5et254inU6ysBDhyMcfc/fuXV577VWamuqyk2QGKcHt9rB160ba21spCnsJBfwYXju+UFq2cPV6/YSCLbQ2VjG7ECWVgoqKooKzuHRc56tXd3Kp5xJnzpwlEAxx+/Ydurs7qagoy1pPHgYJFJeUUFlZSf+dO3x+8hSTk5M0NTWyatVqdN310OLILl9k2omEefVT0+m0Y9HK/c40TSwp0ZdY2x58DqirryMYDDA4OMDRI8cYGh5m757dVFfXsNSt+mXaDvYzkYnD7u7upr6+gfn5OWKxeLbAvcfrJRQMEQqFMHSdWCSBpuvZhKOcldAWd7omuHu3H4D2tnbWrl3DkSNHGRgYpLS4nf47dygpLSEQyNXIlsDFixcJhUK0trZmN1XJeC1SaYvLVy4zOTFBMBBAIkkkU/T09FBUVIRhPFw/ZBACFhbm+eCDw5w7d5bVq9ewceNGTp0+RTAY5Nlnn3XCACpIpiQ+n5+uri6khKnpGdxuNy0tLctqyno9fhoa6rnUc4mBgQFqayoZGRnm3Xff5c6dOxguu/zE0vCgQmiaxsaNG/nWt17G5f5yFuz890dKidvlpry8nJraWkpLS9F1e5ODpsY69u3bx/T01KKE30xYSiZ42DQtSsvKKC4JLSojCStfSy45zbZS+3w+GuobCARDlJaVOuPy4rFUCBgcGuTixQu0tLTQ0NCAEJBKpTDTJoZhZM+/+Hu5hdfWbVvp7+/n3ffe4/CHH6LrOolEgkQiwa5du6iqKnfyDXK7pNnv6P2vI3N8oYl8hwZC2GI/GAzS0tKcnQszn1coFF8Pj1zoSinRdZ2qqqrs6jgSjTA2Osrg4AAnTnyO3x+ksrIKTRNs2LCeW7dv8elnn3Hq1OcYhkE0GsMwDF566UWqq6qQmY0JLAvLskWmaUJZWRnf/OZzRGNJZmZmCQWD+P3ubA3bbJuwxdj4+DQej5dQyIvL5cMw3E4CmZfnnn+OxsYmbt2+xcz0DG63i7q6elavXkV5eTlIxwVoyYLWl/yzBYM+Xnnlj3jzzTf5q7/6G4LBAKZlMjc3R2dnJ9u3b8+WXUqbJpZpOpOALXDWrO2mq6uJ6ekYiUScqqpSJ5SCTJ4QjueMaDTN7OwsxSXFBPwGLndgWb1N00xx06k08J3vvMa2bZvxenzg8fDC8/uoKK+gv78ft8uT3fjB7XZnJ+90Os3w8DA3b95wRmwLkc2BzkwOjvUoe2bhhBB46erqprS0ZFk8pZQalZVVPPXUFt5+ez8ffPC+E/KwBiH038kKIi3w+4I01NfRc+kix49/xsZNG3nqqafweHKu8fzjLxa+uYScpfT29vLZ8eO0NLfwzDNPEwoHGR4a5aOPPsbtdrNnz04qKiqJxeIcOXKUe/fusWv3Ljo7Or6w2LUsKCkupb6+np7LlxkYHOTZfftoam5C040vFkVTAE0TpFJp/vXNN7l27RpmOm0/W3kxoLm+EWTsjXZsqUlzSws/+tEPCYVC5M/yGUte/527lJSUEAy6WbNmLYcPH+LKlSt0d7dw995dWlta8Hg07JLXgng8RX//HcrLS/H5ciIuI8Lj8SR3+/upravBH/AhpWRudo7x8XE2bdqIxyNIJHJxvBkyi7VC/Z0RbpqmkUhEOX78JMePH+fZZ/exd+8OLNNkcHCAvr5bVFZUUFQUxLLsa3xmx1aefnoTWWe+ELhcnqwgzJxP1w2KiopBSoaHhjFNgcfjoaa2BpfbhccJuXjQ422ZFpaUlFdUIjLFcgt8y67UILKl83CEmKZJXC7nORa2V2zHzqd5astmXG4Ps3Pz3Oq7xdTUFLqmU1pSCiyt7pA9S/advHixh8naadramxHC7s+VRsZMsqGUFmbapLamlm+++Bx1DbVoujc7Di+9Lss0SaUySWd2387NzZJIJvD5/Hl1nZe31TIlDQ0NfP8HP+DSpUuMjAyTSqbw+X20tLQ4yak60WgMoel4fb4Heo4sadlBxWTeEZn9Z5dKlJhmmvqGOn7wvW9z4NAxjh8/kX03lNhVKL4eHr3QReLxetj+zNM8tWUDmmYnfM3PRTl+/ASnT58hFA6zb99eAn4/ZWVlvPHG69y4cYOBe/dIJpOEw0V0dHbQ2lzvTG6C0tISqqqq8DmlYeyYOgOvN0R//xXe++0Bdu7cyZbNG3C7F8f4CQ3isSTvvvdL6uvq+OY3n8sTO7b9MxgIsm7dalatakOaaTRNw+V2Y7g8gB2zG487VrkHiAzLFGzespGqqip6r15lenoKw9Cpq6tj9eouqqtKQNibNDQ0NDjxxhnLhIbH7cXj9rJ//0GGhob4D//hf8PjMRZtK2n/NLl+vYf9+9/ihz/8EdXrupzSXotxuz3s27uPZ57Z7mQGQyQac45hsHbtWtrb2/H5fMRiaerq6nj11VdpbGxy3ONpbt26zdtvv2P3lxPWIBy3XyqVsrPqXW5yPQrSsuvzlpaWUlFR4oiFXCa9lBKPx0NnRysNDQ2MDI+wqruLoqIgppkTI5pmx07armx9RQGzFF3XKC4pxnAZhIIhtmzZRFlZcfa+J5MpEgm7HqjP58XlcpFXzakgUkqGR0a4cOEC6VSaDRvWUlwcZHZ2ip6eHtxuFxs3rqOyqpJYPMb169e50nuFru4uOtrbvrDQlRJcLoPKykrip0+zYf161q1bhdfjIZPw8jBIaauOyopKUqkUhq5hOQX2M4sWIcnu2pVxDQvsRVlVdXUucTDPegaQSFrcvXeXxsZGDEOjra2V2ro6Lly8wO7dOxkbG2Pzps15z6/AMk3m5+doaGhAN/S8d8tOVpqZnmZ8fIxt257C7dIwTZPh4WFSqRR1dfWALd4tSxKNRkml0nh9HnxeT+GYVnLnBsnExDQnT56kqamJPXv2EAwGiMXmMQwXc/NzzM/PU1wSRsPeCMfjCdqWO2vx1r/WksWlEAKPx41u6ESiUdKmRWlpCS+88CxjY+P09l7DNM0CdXQXt7G8vIK2thaCQT+6XmD4dr6fSCQYHRknmUwyPjFl3690iunpGRYW5jFNi2g0iq7reD0B/P4iNA3uTQ9w7Nin3Lp9y3m2rAfWk5XYSYBPb9tGTU1F9n7quobb0PC4IGVm6ldbTrWFnJdI03V8wQCBYHFe+TWZJwRzz172WXG2h5+dnSMeSxAIBLPxxSt5fTxunYX5eS5cOM/MzAzCKfd148YNDh86bJ9J2KF1gUAge877eXrscU5DaJnxWmarYmQWULqmESwK4/bkQk007cuHLykUiofja9nayLYIevD5QmiajldalBQXk0xuorf3KgP3BohF5wkFA6RNu+j53Nw8Pp/P3vpXCG7fvs3tW7ccK4Fgfn6euro6/P5MzFNm1BDEYjGGhoaYnJhkIRLHnZSLttfUNEE8lmB4aAif1+ckmlhIaSc2pNNpR7iB0HTm5uYdEZQkEomysLBAKpVg9eo1i1z6hcnYM3Xu3r2LEMLZstiu/PD552fIWExM06K9vY2qqqqsRUNKC8uyxd3k5AQDAwNEIhHSaQ+mZWWT0wSgGzrT01MMDg4RjUULWkUy96O8vBTTSnO19xr//C//QiIRt63Tjts5vxay0Ow2l5YUU1dbja572LR5E61trbnPYKufwcFB3n33XWpqavj2t1/JJqJkNvXQdZ3S0lLS6UywxfIYT5/PS1FREdNT0xQVFTnWOem4/ha4cOES/f39bNy4nrVrVznHejBSQjxuJ7w0NzdRW1OLRCOdNjl/4TxXr14lHA4TWbDdi08/vZXW1rb7Wl+EgM6ODl555RVqa2oIh4tJp6G6po5vfOMbuFwue8coE4LBEDt37qS7u5u21jaEuL+bfWkYjGVJIpEoPr+f9o52QuFcXG7GcpdK2QIg48FfaSOG/HPoms6zz+4klbY4c+YcLpfBqlXt+HxeNKfflh5CEzi7WOlomjvP1SuyPxPxJBPjE+zcsRMhdIqLA6xfv45Dhw5x+vQZEokEzS0tWW9Gpo8ty25T5qSZxZCuwb2Be5iWSWNjE5YEyzK5efOGXWO5qRHTgoWFKP/6r/+KP+An4A9w7949Vq9ezZ49uwrW4c202TTTDAwMMjU1ybPP7stWT7AsSTwRx3IqFaTTaUaGx7l37y6JhP08NTU1UV/fsOyYi09kv3uWZQd0arqB2+1jcnKaQ4cOkYgnCiSaZu69vYBcu2Ytzc1NeDz+5ZuDSJCWZH5+nkMfHOLE8ZOEQiHKyyuYm5vng/c/4MSJ46TTaTo6OigpLsmOnRmvWE1NPT/+8f/E5OQk4+Pj+Pw+Kisr8hZkK8eqBgIBwkVhotE4UsLtW7f54NDH+AJ+IgsLLCxEWIhEmJ6eory8nH379jlWafsZy3iwss9C3qkyW58LkftvTbP7s66+jsamRjwez32EqZ2QFnZK2SXisex7LTMNwF7YXb5ymYVI5IFju67oXad+AAAgAElEQVRpTE5O8u677yGEwO/zk06leP/gAebm52lpbsmGb0hsi3QmDEiJXIXi6+Nr28PTcWpnY5l0HWLxqGNBy4+nkvT2XuXokY/t3cTy3Ef5k2kikaCqupqOjk6qqqoXDR5CaEjL4p13fsPhw4cLWs0sy2J8YoL29vbsuQ0Djp/4nN++d4B4PE5mG2Aznc6LU7W32K2srKSpqdnJbL6/0BLCro17+PCHTE5NIvJcgUsH05nZWUpLyti6df2yAVE3DCYmxvlP/+n/WHbOzP9HohF7QhX2nu6FrZ05l2MsFmdkZISOjnbq6+uxHPFs61I72WN0ZJShoUFisRgZUR4OhQiHgs415CYm0zTxeDyEgiEaG+rRdC27zXNuEsrF+S1tWzapIy9MINMFQ0PDnDlzlhs3rhONxeju7sg+M/bOXhqGs3tYvnUtY/G3LJOZ6WnS6TTlFRW43O7syfw+P2tWr6Gzo4Xh4WHe++37nD5zlqqqaqeMnP3MWhZLxJKgvr6O2rpKBDqaZlvag8EgO3duBSEQwkBK0DWdjRvXIrEQBbaLzpRry+zcttgiCMlUirGxMYLBIKUlJU7daPsSrly5xujYKKu6V2FZFlev9uL1+Vi9ajXBYJBCAiXTfgDD8JJKxfnw8GGCoSDt7W2EQ37n+IW/mxHBmT5e9DcdBu4NYFkWDY12op9EsG7dOj766COOHjtKIOCnuLh42aSvaRqpdCq76Mrvg4GBQTweDw2NDWiaxb2hCU6fOUNVVRXFxcXZtlRWVrLlqS2E/QYHPkhw4MBvWbW6m4ryciwrs9U4i0S2xGR6ZhpdN6ioqMhuR7uwEOfe3XuUV5RTWlbG/Nw8R44cwePxsG7dWnp6ejh+4gSvf++7dHS0LXr28rEsiWma6FpurNOEoKO9nZ/97GeYaXOZ0AU7aWxqeopjR4+SSiXtd7SQUBJQWVXJ7t27mZqcwuv1UV5eQSAQYGxsjKnpKdwug1A4RH19PQMDA9y+czv7fmVi76urK1hYmOHChfM0tzSzceN6XC5X9r1cCYnA0O261V6fj5s3b9h1eIXA7TLw+nz4vD7CRWEaGhqcZEbpjFW545iWSSqVQlpm9oSZur2WZRFPxIlGoyTiGjU1Nbzxxhv4fX7iibS9255urBh2YBgGfp/fPmeuJNCiTtR1PbsBxv3wer3EY3GOf3ac2rpa2ts7cLncfPrZcfyOd3JRbd9FBhmFQvF18ciFribsONZ4Ik7EcZVFIgvcuXOHjz86wvz8PG1tbQSDRZimLa5279rFpk2blg0KWeFjWbz//vsMDg3lVT7Ijym0EJpGXX09dbV1GIaxbHxOp9OcPHkymxmMM+zVVNewYcMGEokEEonLcOHxevC43fj9fkLhMGVlZYRDYQyXYX9X5I+VhSwe4Ha7+Hc/+3ekV5gFdU0jGo3wn//iL0il04vcudnjWBKvz8f69etzlrP8iVHC0NAgN/v68trxYGuny+Xime1Ps2fHVlLONzK21nQyxcnTF3jzzTcX9TF5mchCZNROnvDJROjJXDuWxrwWji0E3RBOvWWJptmbeKSlxOf3s3HjBkpKSzj1+Snyq08IIZibneXmzT68Xi+dnZ2Oa1dmjzO/sMDIyChut5vq6gp0HdIp29XY1dUOgNttMDM7g6bpmE5Be02D8YkJ+m72OTvlNS8qtySEjr7EOivQQHhyl0rmXroK3hFNg4mJCa5eu0Z1dQ2NDfUYRm7LW12HKcfKVlFRTnFx0Ol3waWeHs6fP8/169e5ceMGbreb2ZlZhoaHcLlcrF+3Dl0vvIFIbsFlC8S0mXauO3dPC7VXZC26i4+TwdDh7t27hEIhwiE72dRMQ2tLK02NjVy8eInnnn8en89FZvdXOzzDRUlJCVNTU6RNE5eRSwZKJiX9/f0Eg0HCoRBTUwscOnSIZCJJVXUVLpdBPJYmEPDz4ot70XUPUiZxuz2k0umseDHNFJevXGd6aopt257G7XY7XgeNcDhs19XWwGVAPJ3g5s0+xsbGePXVP8LnszemeemlF/H5vPh8HpLJFOfPn2d4eJjOzrZF/ZCfCJtIxEmlkhQVFaEbIruoGxoa4q39+5mcnCwohDJW5Lm5Obq7up1fFrgpEmqqq6j6xvNIHG8Azv7Q0sx6CDRNw5KCycmpZYfK7XJoshCJkIgn0IRTIsxa/OF862vmMk0TSkvL+f73v88rr3ybzMJYE/bubi7DwONx4/W6SaVzVRmkcxxdh3v3Bnjrrf3cu3d3Udvm5ueIx2L88h/+0d7NLK8dQgjSpsnePXt44YVnCQaLli0GdN0eH9955zdEo1FcLoM8uZu9X2kzTWlp2X0tr1JKXnzpJZ7ZsRMBeH0+XC6D7dufAcDjceMyDM6ePZs3Toll74lCoXj0PDKhm3mfTdNkamqK//4v/513fvMbEALTNEnEE3g8Hnbv2c3GjeudGFl7JC0pKaGkpPg+x5SEwmG0kZGC57acWobbt29n59Ob8Xncyz4TS8Pt232LXF3plEVTUyONjdWQl3yUq+kokNLOrNc0QSQaL9DGwgOZEBp1tdUrDpyaDgvzsazLttDnLMskHA7zx3/8PQqlXZiWxefnernZ1+cI+JU3sljaZo/HSzAYILXkb+l4Eq/HqaYgV7Ak5bHo7ytcR+achUgmUwzcG+HW7dtMTExw69Yd6uub0HWdoqIwRUVBxscn8lzkYFthYH5+hqNHj+L1+aitq6GkuMQp22YnXPXdvE1vby/JZIKFhRjplB0DDaBpLsfLEOfyletomsb69WsIBOxKF1OTE3z44Ue0trVSWVVJMBC6f0d8SWyhO8577/2WzZs2U1VZhsuV2/whGktw8aKdse/xeIhGk1iOJb26uooXXnieyckJRkaG+c53voMQgl//+q1FnhTDyL1Dtkt+cRsc2xmmZRKLxol6Y47QXXyvMmFA2QRFsXgCFwJGRqY4fvw40WiUhYV5fD77/Q4E3KxavZozZ89SV1eHrolsaTEpwePR6Ozo4INDh5ifn6esrBThPMfxeILR0VFmZ2f4x1/+klgsTlNjE5VVlVy/dp1f/uM/sWbNGjZt2oCm+dANyZ0741zqucTuXbuz8ehSprhw/gKnTp2irb2dutoaLAs0zaCluYW6+jrOnT1POBTmTn8/n372GTt37mT79u1IS2TDbzRNkEzFmJgYx+VyU1NbuzycgIw1MsHE+ASa0KiurrIXb6a9eI1GY0xOTlJaUkJ7e/uy72eWhEIIauvqCYXCyAIhGPYnNXTdA1nx6dx/jUVjnTTTzg1fYYDIjInpNJFoDFcylbewWeKJEAKXy5Vd/LlcLsrLykCUZp+H7GGdhZPQBKYVzz9Vtm1+f4DOzk7KSktXXKbb6+dsgBlge+nq6+sxjMIVVGyvjoVpWbz22qtsckoW5nuYMl9zuVwUOyFmuXyJxc95cVExxUVFi/okFAw5IRa219EycxUcdC0X1qNQKL4+HpnQldJ2QXZ2dpI206SSKcdUKNENwy6Z1dJKfUMtXq+PJXYFCg3AuZgq8/6uJceF3tPTQzwWwzB0x/Kam7JTqTRTk9M0NbWQ7z23t1DNK3eUtxq3/9kDnpT24GiapjOY3b8/bJF8nwHOsWqYjvooPBYK5ufmOXjwyIpllG7dup3XNytnmueTSiU5feYMc7OzpK3FM7W0LPrv3nuAyy3TWPszlikXhR58GaKxGLNz83R3d9uTkmkyMzPjVLoQLJ6OFmM6WdnhsBu3K5e5bYdoxEgkEqxZswZNt5OeotEogWAQy5TOZxIcP36CO7fv8MwzT7NqVTegORYue9MAj9uDy3CRm56/mklLOM+sZVp4PB67kkLe3+Zm5xBCY9euXXi8HjvRKpnC5XJRWVHG6Ng4sViMDRs20NXWyIWeq3jcboLBIIahMTc3R39/P9PT0wC0t3dQXV2BLfTzYrIti97eXv6v//JfsqERi9uZiemUvP76G2zdtgVdLLcWj4yOZjccmZmZpbKqDGkK0iZs2byZWCzGqlWrSKdzIgIklhRs2LCBAwcOcv36dfbu2U7ctBeC9wYGQEpee+01IpEIq1evZu2aVZSWlXHt6jWam5tpb293FjeS4eEJfv3mW3R1dvLSS8+jabmyVfGEvfue3+fLvzoqKip4/fXXuX7tOhcv9aDrOi+9+BIdHW34fN5svWuQWFaayz3XOH/+Avv27aW5qXHZ4iFTFzcei9Df309pWRn1DQ1ZQZwpSSWlxOVyZZOglhyFzLscj8eYmJigvr5xxWcpu2FOvjdoyaLTtqI6tXXJ/31u7IjH43zwwQecPn0KoWnLFjxgP7Nl5eW8/PLLrFu3bnEyXTZMacnxhbCH0czxZGa8yFiES3jxxX1Ip9j2CsbrxX+QmTnHRaHNHTKnsUOzLO7099ubTCwJBpZSgmZb0FtbWunsbEcTrgKtyO0CmLH8Lv5/+6L9Ab9dUUPYiwY752LlrYoVCsVXzyMUurZVde3aLlatbl0iTDO79ti7dtmDbcbF92DhIAC3x20LggKxWIZh4PX6uNp7levXrmfbkh8Xm6nn6/V48gbnnGUgt7tNxpGfsx5m0DW77m8oFHKu40t2UgEC/kAuHi7TKueUPr8Py7J4773frvj9TF1KQ1+51E4+mqbhcXu4dPESl3suF4z9NS2TYDDk7LJ2//YbhkFJSSnB4MNZPEPBINu2bWbb1g2OBcZ+TkzLsut5OtNtNtzE6adUymR0dNJ55tbg8/myE76UEAgE2bp1E09tXWdfF/auVbbItatFnDt/gdu377Bt2xbWrVuLlHZWfzotGRocJRgM0tnZ7mzcYZ//qzLOJJIm/f0DVFZW0t7ejtfjy4t/hbKyUp57bheZhZbQDDLJbLquMToyimVaNDc3o7sD3L5zl6KiYkpKgmia4PSZMwwNDbH1qae4cPEiPT2Xef2N16msqMi2wdANdu7aRef4+H3bmnmfyivKEWjZGOjMsyYldHa20dFuizFNcyMtuxSWZUpqamt5/XuvomnubHWCbEJYGtra29i0aROHDx/m6W3b0DQnEe3ePdweD889+xxutwThQhMGmzauZ+OGVSAMDN2NEJL5+QXefPNNmpoa+fa3X0TTvKRSaVwujampBYYGh9ix4xmKisKLxKmua7b7v7IESzpb7WoGmnA5yVISO/bd4saNWxw9eozNmzeyc+dWZ6fHJZ0lQEqTe/dGuHPnDrv37KSstDhXzcOyEzR13eBmXx/9/XdX7G/TNCkpKcEwXDQ2LhfVK90rKLzotOPOdSdMKIdlQXFJGTue2cFo26jz98IPupQWoVDITrB9cHPIPSMCpEBomrMFe36Ohb6o9vQKV8bigOHMeH2fb0gwXC68Xh+XLl7iyuUryxbwGaGbTCR58cWX6OxoQmiFhC4Fz5f//4Zh8Gd/9r9gGDqG7iIYtBMDl+4yp1AoHi1iJvJoouPzJ798l9lKn13UqAeoBymlXT8xkaCoqMipQZmzKsZiMWZmZ0mnUxQcoPKsGKFgiOLiMPkZ8Msn7sKThZSSqakp3B43Ab8/u7POw2Info0QCoUJh0OZpmZdbtPTM3ayWYH+yCCceLqS4hL8ft99LboSSSIeZ2JyckUrQ6YbdN2guKjIroKR+8uyI6ZSaebn53G5DILBYF6ffZF+yb+OzLXlfuq6nWB36vQ5PvroI/bt3cnOZ7aTMmFqapLTZ86j6zo7ntmB2710sWAvWBYfN7ew6um5bLuy21rZvHkTd+70MzU1zdq13ViWyenTFygtLWXTpo1OSMHKAuLLomm2BfTE8RM0NzfT3d2Ny2VPrssXHna789uvG/DOO7+lt7eX73//DWpqavnrv/4bgsEgtTU1dHV34fcFEJqgvCTAx0c+4/iJz/nxH/+Y2pravAWghZRJJCYrGM3JnFUTIDQ3Aj0vRKaQmMq/hxlvxXLrWO7Idox2f/8A/+9//a+sX7+eH/7wh3g8Gn/5//x/3Lt7lz//8z/H63XnCb3Fx0smk7z55pvMz8/zxhuvA/Dpp5/R1dVJV2cTnx0/x71793j55ZdXsKDeD3uRPDQ8zMEDB1i/dg1bt6xnai7O7OwcTU2N2cW7EBJNh9u37vL2b35DMBDkBz94g2AwuOjZjMfjTM9MO2W37n9uXdMJhUMEA8El7/VS4ef8VhZ2l1uWxcTkBNNTU1RVVVJcXELOhQ9gYckUy7YwXILtYRNowu2MoUvbsJJIlpiWxb2797Ask9raGrxef4HPrURhoXvfb0iLWDzObGZukCs/5lJKioqKCIeCjuh+8Hu+eEzI7UZnhzJo2ZjnkpKS+y4eFArFV8sjE7qPmvzdeRYP4nLJzwfxZYTY0jYsLxXzuwifzORYaNDOie8HX1cmtjhnIVkx0m3JzwexNLzkfsfMifT7f77wdwude3Z2lqvXrnLu7Dnu3LlNU1MT27ZupaOz0653Gk84yS6eFRZWy38phF2L8+DB9zl16hR+v+1qjMWirF27lpe+8SLBYJBEPInb7c4K0K+aZCpJMpHA6/VgGPmhACs6brOYpskvf/lPGIbOt7/9EqFwCb/61Zv0XrlCd/cqnnvuWcrLy3C5BCMj4/zqV7+mo6ODXbuexu32s1RofplnOL+s3xf49Aq/F0v+LgCTW7f6efe9d/F5vezb9yzvvvsuiUSC//gf/3fnPiz9Pui6RW/vTX7+85/jdrsJh8OknNIKP/3pn9DS2sjcbBRd15yF4Je7l0LAzMw0//qvv+batWvs2PEMEsnQ0DBdnR184xsvZEvnRaNRzp8/z/nzF6iurmbvvr2UlZbmesNZrCxdhN0P20VeSLx+kdCi/ONIENI2KbN8gb60JvKD2nT/Nqz8DEssZxgvHBpxn7N+wfMs/o4Qyw0rK/NFxruVz1XwiNmFnxK5CsXXxb9ZoftFyAjRwgP9yn/74seXK1qyHpZ8i2P+ZgpL/764Hct+84Vic78cj+KYX45EIsHc3ByJZAIAgXDETCgbByfy3ImFtn5eSiajfXZuzi6fJnMTYTAUpCgcXrad61dNLtEl56b+MueSUjI1PYWu6wSDAQzdYH5hgUgkQjDox+8L4HZrTExMc/Dg+zQ0NLJty1rc3hDWlxR6hdv91feLcFz+8/MRLl26RElJKVXVVZhp047XZqVnMZfclR8rabgMysvKnO2K4UFu7pXbJZmemeXTTz5lenrarrxiSdweN5s2baSjvc3Z9ECysDDP9es38Pt9tLQ04/V6wQn1yAlcuy1fJ4W8Ebnf/T7a8/VUJfgqxvzHqR0KxZPCYy50V7ZQPQqR+rtQSNQurSP6xY/11bnVH+UxH6IVSybknPW6UCmgL2q5yV1SIbdr/s9HQ/6z+PDPZaFrtb0DmiaYnpnh0AeHqKysYvXqVYyMDFNf30goFHrgVqf3azc8umciWyHCTCCEhuYkGd3fU3E/q50tLh4USnV/MtuPJ8hUirC9MBqa5s5uQ5sRs5ZMowkNTTOWLMAybf36F44recO+7LP3Vd3/paFXj4rf9xiWS7r8/SwoFIonlcda6P5b4mFFrULxIISAI0eOcujQB+i6YScg6Rp/8pM/oa6u7qGF7pNORjA/jHD+fYqulYTl70voPimo/lIofj8ooatQPAEsRBaIx+PZ6ieGoRMKhbMZ7wqFQqFQPI4ooatQPBEsT3ZSSTEKhUKheNx55FsAKxSKPwTyk/QeXRKZQqFQKBR/SKjgPIXiiUMJXIVCoVA8GSiLrkLxhKEsuQqFQqF4UlAWXYVCoVAoFArFY4kSugqFQqFQKBSKxxIldBUKhUKhUCgUjyVK6CoUCoVCoVAoHkuU0FUoFAqFQqFQPJYooatQKBQKhUKheCxRQlehUCgUCoVC8ViihK5CoVAoFAqF4rFECV2FQqFQKBQKxWOJEroKhUKhUCgUiscSJXQVCoVCoVAoFI8lSugqFAqFQqFQKB5LlNBVKBQKhUKhUDyWKKGrUCgUCoVCoXgsUUJXoVAoFAqFQvFYooSuQqFQKBQKheKxRAldhUKhUCgUCsVjiRK6CoVCoVAoFIrHEiV0FQqFQqFQKBSPJUroKhQKhUKhUCgeS5TQVSgUCoVCoVA8liihq1AoFAqFQqF4LFFCV6FQKBQKhULxWKKErkKhUCgUCoXisUQJXYVCoVAoFArFY4kSugqFQqFQKBSKxxIldBUKhUKhUCgUjyVK6CoUCoVCoVAoHkuU0FUoFAqF4jFGCPufQvEkYvy+G6BQKBQKxR8qUkoAxL85pSixLBPTTJJKSUDi83kQwvX7bphC8bWihK5CoVAoFCsi/w2KXJDS5O7dAS5evIgQgoXIAp2dnWzZvAnlzFU8SainXaFQKBSKFRAiM03K32s7vjwmY2NjaJrG7t27KCsrY/9b+1lYiKowBsUThbLoKhQKhUKxAnboggTEH5xAzLRHFtTgbrZs2Yxh6JhmHJfhoqS0BE1T9i3Fk4V64hUKhULxxCOlzMbjOr8hbSawpIktcldSuRJLpjGtJFKafPWWXwvTSiFlwjl+XvvSKdLpVMFvCSEwDB3LSnHj5l36+vp49Y/+iFDYv4IwVigeT5RFV6FQKBQKx2oLtqV0fiFCT08Pa1avIRQKFv6GlExOTjA9M0MkEiEUDNHUVI/L5UbKr8L8KxkZHWNiYoJEPEFJSTGNjfUYhgeQ3L07wMLCAuvWdQMGUuYnzUlMM82tW/18fvJz9u7dQ0dHI+mUiRD6V9A2heLfBsqiq1AoFIonHiE0hLDDE9LpJJ9+8gnJRAKPx0VGAC/+PCSTCd5++22uXbvG7Mw0v/jFL+jtvY6U1u/cHk2DZDLFr371KwYHB4nHY/ziF//AufMXcbsBBKVlpVy+fJmenqvoeibEwkZKycjIOO9/8AGtra0UF5dw/Pg5pqZm/uBCMBSKR4my6CoUCoVC4SCE5FLPFWZn59i9excej7egq19K0DSd3bv30NLShGEIjh8/ycDAABs2dGNZv5vVVErQdI1vfuObtLe3k0ot8Nlnx5mcmHDq4gqKi0Ps2rWT9977LTW1tZSXlWXbKmWKGzdvMDExwYULFzh79ixCCNrb2xBCfkUWZ4XiDx8ldBUKhUKhwLaizs7Oc/bMWXbu2kEgUFjkZnC7XXSv6gCZ5tz5K/j9ftZvWI+Uv3togJRg6AZdXe1Imaan5wZer5fNmzeTSjlCVWo0NlbT2NjA0SNHeOON1zBN3bkWN9uf3s7WrVuRlm3t1XQdr8eDaf7bLJmmUDwMKnRBoVAoFApsa+75C+fx+/00NdWzki0ov9qBZZlcv36H06dO8+1vv0x9fdXvZC1duouZlCbXrt3mwoULfOc7r1FbW4Fp5tS3ZRls27aNvr5bDAyMkSuqIPB4PAT8fkKhAMFgEJ/X54RoqKlf8eSgnnaFQqFQPPEIAQsLca5c7qW9ox2vx7PMmiulhZRx0ukYlpVECItbt+5y5OhR9u3bS21tBZOTszx85QWLdDpGKh1FyiSaJrl58w6HDh3iueefpaKimMHB8aUtp7gkRENDPadOfe7E6ua3GSxrpRJkCsXjjwpdUCgUCsUTj67D9evXSKfT1NfVsXR6lNKi/+5dhgaHiMViBINBuru7OHToELFojCtXevnww2Hq6xt4+eXnsawva0ey6Ou7xb2BAZLJJMFAkKe2PsWBgwcx0yYXzl9kfHychoYGXn75RWdbXztWVxM669atZ//+/bzw4osE/KqEmEKRQVl0FQqFQvHEkdsIwsayLK5fv05FRQWhkI/8SgtCQDQW47fv/RYhBKWlJYyNjZFKpXlqy2a2bN5IMBSkvb2dVatWPVQiWjye5J/+6Z/x+/w0NjQwOjqKaZrs3LGDrVu3UlRcxOrVq1m3fi2mJZEyU/sXkBoNDfUgoK+vD7UnhEKRQ1l0FQqFQvEEsrhu7sJCnMHBIZ56agsej2fRJ4UAyzRJJOJMz0zz9LbNrFmzBpfLTXV1Cal4jOHxWSory3EZX76GrhCAsEX3wMAAzz23m7b2V3AZBnV1dczPL9hW3mCQyopSzLR04mwz5xGEQh5qqqu5dOkSmzetxTRVsplCAcqiq1AoFIonkHyhKARMTI4Ti8WoqqpC191Abrc0y5KEw35effUV7ty5w//4H28xPz+PEDA8PMmRT07zVz//a/rvDPAw8bmWJfF6dH7ykx8zODjI3/7tL4jH4piWxa9//Ra9vb2MjQ3z93//91y9ehPDWD51a5pGZWUVd+/eJR43Va1chcJBCV2FQqFQPNHoOkyMj2MYBj6fP68qgbQ3kDBNbvb1U1tTwevf+y6TkxOMjo1hWSZjY2P4/T7m5uawLNOJjV26nXBhMp9Jm2kuXrxKdXUZP/7xj5menmF4eBhNCLZvf5pvfvMltm/fgtAEAwMDGAV9sRpVVVVMTU0RiUYL7XGhUDyRqNAFhUKhUDzxjI+P4/V58Xjc2d9lBK9pmpw4foLq6mpcLhftHR1UVlSiaRpr164lHk+wf/9+LEe42gJWZIVspmataZpomuZYWwWZ8AkBHD9xnKGhIbw+L2vWrKG2tgZN09iyZT2pVIoLF2/i9/tZu3Yt6fTy9kspqKiswDItJicnKS4OP3TtB4XicUIJXYVCoVA8sQgBqZRkcnKSgN+H12sghMCyZFaQGobBc889y8zsDFJKNm/eRDAYICNWTTONZVnZLYQzzlJ7K+CcaXV4eJhQOERRURhkTkgbhovXX/8eY2NjuFwutm9/Gp/Xh5SQTptcu3aL8+fO8cq3X6axsYZUavGGD5l2Bv9/9t77u67jyvP9nHBzAC5yDgwgQIJBIMUsUrIkS1awLbemnzusmVnTPX/Gmz9j3i+95vm5X/fya/d45LFlSVaiEikxihQYABIEkTNwcXM4p+r9UOfcexFIUZYoyd3Yi1wAL++pU6dO1a69v/u7d4VCaDqsLC+h7ej+VsZvS/Mn+bAAACAASURBVLbk+y5bhu6WbMmWbMmW/LsVKcEWgkQySVU0WsF/LSerGbpBa1sLbe0taKi6tKo2rQBNYlmWaseyK4xbbc3BDJoGb731Frt6d3HqiaMIaaJp5fq2DfX1NDXWI4S6t5Sg6ZI7I2O89dYfefbZZ2hqrGF2dpm6uhoqDWi3DcMw8Hm9rCYS6BrYj3TktmRL/jxki6O7JVuyJVuyJf+uRUpJPp/H4/WilWpzacrYdE4qkwKEDbZN6XPD0FmNpxgZuYumaUxMTLC4FMfl9jqt43J2C4UCtsM70DRZQW1wDG7bPeDB4QZbgj/84Q/k83nGJyb4zWt/4PLlS/i8+qYlxAzTxOfzkUmnt5LRtmRLHNlCdLfk37g4yIi2kS/3jd/pEbe/JVuyJd+8KCNWYNs2hmE4jFlQxqpGoZijUMhSotVWXgvMzMyytLzEqVMnQYN7o6N4PRoej4HPFyaRSGJZRdVWIU86nWZxcRHb1olEwhimTrGQKZ376zJ3AbJZwY7t2xFCkM/niUQitLW1klhdQaDj90fWoMaGrmOYJrl8fsvQ3ZItcWTL0N2Sf3MiZRlNKSc+P5q0jC3jdku25M9bygcvSAy9kmqgY5gwNHyPzz+/WuLgVlyJBui6iW7o6LoGuRyr8RVu37mNz+fj6aef5uzZT5ibm0PTNKanp8hk0szNz2FZFqdPncIWNpcuXsL0eDb0Tdc0DNPE0HVHr2lcv3Gdq9euEQqFef655/F6PSWEGXCeYSsNbUu2xJUtQ3dLvgdSRl2hrLArjdWvepyllBJd15ywo1Yyfr9qIfevIlvG7pZsyZ+nqCQyrXzSmCNSQDAYpKmxASE3Grql69GQjuErUaeseTwmXo+H/v49dHd3ATA7N8e27m727etHCEljYyOriTjNzY0Ym9cMW9tPHH2IxO8PKuO61BfNqfkrKlDpLdmSLdkydLfkOxa55qdlF8llMwhho+uOgavp+Lx+PB7/QxmTmqZRLBYoFDIIldnhfK7j9Qbwev3fWO/d/mwhu1uyJX++omkahm5g2TZrjwWGzs4Otm/reOD15SjS2vVfLEJXVzeGodo688FHNDe3sH9vL7Y0sW1JrCbGju1fViFBOoZ4+RMhwLLWggRCCCzLwuPdiA5vyZb8e5UtQ3dLvjOx7SLpdBopNSKRCJoGyWSKoVtDpNJpdAdh8Xp9dHR20N7evgGp2MzA1DSIx1e5c2eETCaNpulogNfrpaOzk7q6OvL5PIGAH5/vTzd6pRROXUw3u/qbN3K/GQNaJcF4POYj6+eWbMmfs2i6jtfnpZDPO1UTygakbUmEXenUUnLCXcPTrZu72TJVyWXqd7/fj64bWMJNPJNoUqNgr41gradeubSFzdqurA4hpMCybYLB4FeOgm3JlvxblS1Dd0u+E7GsAlNT04yNj1NbU0tfXy9CCKQUVFdXEYmG8fm8FAoWwhZ4vd6HCsepzOY8UtpEo1GqohG8Xi+FQhEpJR7TZHlxkbGxMWpqauje1oU/8NU3BSEslldWSCZT1MRiRKNVjwjNLW9if6rRa9uC6ZkZDF2nsbEBr9fHlrG7JVtSFtMwCIdD5At5bFuUDFclkmKxSC6XxucPoGsGuVwSwzBLyWCVCWEPkkMHD1FdXY0QLudWXWdZRTKZBP5AENPwkEzG8Xg8BINVAKwvUybE5grLKhbJ5bJEIpEtQ3dLtsSRrfJiW/Kti5Q2U9NTXL58mWAgwM6dOzAMg3Q6w9CtYYZv38brMenu6kRKydjYOMlEcg0NoVIq7T4hBZNT05w7d57Lly+RTK7S3NQAUjAxPs5qfIW6ulqam5q4c2eEW7duYdubHDP0ANE0wczMDJ9fucrM9PSaJJX1NmgZmXm4I0E33kuvMGxlqdSR26amyU1RpLWNQCGf5+rVq9y4cYt8IcdWssqWbElZdANqYjHSqTT5gkWlkSulZGJiinff/ZCLF68wNjbBBx+c4513PiSTyeCupdK6dMqJbSb79u2lvb0dKSsTxgSTk1O8/fYZzn92icnJKT744Cx//OP7WFaxdK0tbGy7iJQCZfe617sVZQTpdAohBHW1ddxHXW7Jlvy7ky1Dt6SUHubvlnxd0TRIp5MMD91B0zQGBg4QCPiQEjweg1QqyaWLF1leXiaTTTM8PMTk5ASBgA/TNDZt07UfNU0hMxpw4+YN3n77Ha5e/YLh23e4desmMzNTeL1eAgEf23d009razMidURYXFx+6FI+mwcrKKlevXsM0DQ4c2EttbQ0Atl0gk0lSLOZRdIEc2WwKIb6aIb3x+dT80zTdQX6SWHYBkOTzWTKZJELcvzS8oRvs3r2L/fv3ceXzK0xMTCHlt1FKfmtdbcmfh+ga1NXXkc5kyGYLzqdqbhaLFslkgpWVFc68f8Y5vczLuXPnSCQSzvcE2WyKyclJ57PNpdLXdVHaYtFmJb5EMpng96//nqnpaSKRCO+99x7JVApdh6WlBcbGxhgbn2B0dIx8Lus4wK7zq6HpsLS0hNfjoa7u+2zobumALfl25ZEYuu7G/OctX3EhPgBle1g0z/1OZSHwPwUF/H6LZGVlhdnZWTo62vH5PNiOzRUMhti9p5fOri7m5ha4e3cCISTP/+iHdHV1rinermlqczJ0DcPQ1oxZa2sLfb29tLS0sHPndjLpBKuJOMeOHaWnZzuapqPrOg0NddjCZnJykkpU5n5/1RckIyN3SKczdG/rIBqNIoRChGZmZ/n004tMTU0Dktu3R7h06SqJxKrD472/Nf3g+5bnxdTUNJ+c/Yz5+UU0TePatRtcunSVTCbFg+aqZUFXVyc1NTFu3rhJLpf52nU214zLfWXtOnKzwhVNRfV1/c9vUv50JP3r3VeNjSzpwgf14WH6WP6OfMhx/2ryp47TvxWREpqbWrBti0w6vSZK4/V6GBjYT3V1NbFYjAP799De3k5dfR0ejwlorKzEuXbtBv/8z//EyJ0RdP3LrUx3vA1D5/DjB4lWVVFXV8exo4dpbW0lEong9/kQQvLRR59w9epVxsfu8dprr3Ht2nUMQ+UGuDxdDcHCwiJV1dUEQ8FHN1jfiGwZud+mfB9ypL/LPnwrHN37Keb1ZP5EIoFlFYlGo3g83lIma7mEyuYinBMXC/k8q4lVAv4AwVAIvYLXVEoweEAfSxxINNSfh3szUkosqwASTNMkl8shhIXPF3H6Xi51dd/+ozbGfD5HoZAmEKjCND1UcjQr++punpWbk7qXe8b6Q3X9WxcpJYlkhkKhQH1DwxrUQUqoidXQ1trKp59+Si6f48CB/XR3bXMSNwSFQp5iMV8OLEpnhDR1XrzHE8Dn89Ha2kpNLEbA52Hfvt34fF4sq0gqlSYUCqNpEAqH8Xq9xOMJLOfozkIh56Cd5TGXSHTdxOf1I22YnZvH5/cRq64pJ45Iydi9MYaGhmhqqkNIm9t3bpPNZOnt3VE6+Ujx69SELWdK2xQK2ftSKLzeIKbpQdMkt28Pc+PmLbZ1dyGE4PPPPycSibB//240TSKESvIDMAw3+UyJrkNHRwcXzl8klcoSCERYP7e+yntMp1dB0wn4w055JjZtr3L927ZkdPQugYCf1pZmNN0o8SHz+TzLy0tEolVEwuGKue2Wh9PWzP1KnqI79911XJmJ7q6hyuNWN9ZZdv8tKBbz2HYRny+Irn9VFSmxbZt8IYuhqyof5SMAHjTWD/5/97ls2yafzwECvz+Mrm8e5XDHSQhZ0nqaM+fWl9H65rnllYP6PdhhH0KEgIaGBgKBAAuL83Rv60DXVaKqpunkcgXGx8c5cOAA4aCPuyN3qK2tJRD0IaVkdm4OIQUr8TiWZfFwBpx654ZhUCzajN4d5eDAAJGAwY0b12lpacEf8GHZNu3trezc2UM47OXatS+4e3eEY8ceL7ck1Slqk1OTdHR04Pd7qWA9fG+kPNU0xxGsTKhTnwthKx2v63hM3zcyP8vgm0Tpic3bdO0E1h3f/CfedY0eKjm9D2nca6U94us9v5SSbDaJrpt4vf4NzyWlUH0qv4IH9gnNtYwevl+2bZHPpzBN/3eSI/JIDN3KSVQs5sjlXA957fcMw8TnC2OaHmzb5sKFCywsLPDUU0/S1NSMpkmKVoFCLrMuNKs2DjdfwO8PEwj4mJ+f46233qZvdx+HDh7A5ysnGS0sLLKwuECxuHH1V26eAC0tLdTV1qKVNhFt0+MWASejVnDt2iAej4e+3l4uX7nGwvwCz/7wWQJ+VRIrnU4oY3gT8XpD+P1BTFPn+vW7fPLJJ7z88su0tTVj22tvrGmQzWWIr8RJJFLk8jmEEBi6gd/vJ1YTpaqqCq/H/700dqWUFAsFLNvC79vYR8PwEAwFKRQLhIJBdu3qRQj13IVCgdG7Y9wdHUVzHSRHbWi6RnNzM329fXg8XhoaamhsakQiaWpswGOa3BweYWTkDjt27CQYDOL1eNF1nXw+h5CShfkFhoaHyaQza+awEILqWDV9fbsIBoIkE0lisRg+X6CERhctm+XlOKFQiNraGJlUimQiSWNTI8FQpGSAJpNJkqkUseoY4bCqNJHOpLl54xaLi4sbxss0DXbv3kNrazOFgmBubp6aWA2xWJhUKkEikaCnZyd+f4BcvsDC/CKZTAbLsohEwjQ0NODzKcViC4hVx0gkE6QzWeruk8n9IMTQfV+WZfPOOx/g9/s5deoUfr8PKTc6c0IK0qkkUhbR0MjlbH7x//yC9rY2Xn31JyVnLhgMs7i0wj/+8pc8+8NnOXLkEFZRLfAykqmRzSZZWUmQTKbJ5rLq/yQEAgFCoRA1NRECgTBKR1RuFGuNvg17jQRd17HtIjdvDjM+Ps7JkyeI1dSUvntfHeCOi/O9eDzOxUuXiMViPH7oUEU/HixC2mvUf4Wd7xxMoJFMprh06XNyuRzHjx+nqqpqY3+kTSaTIb66SiKRIp/PAwqZjIRDxGJVBINhBw10ueVrOalSys23Is3dEJ1OrTMapJQkkwkymQzRaBWBQOARJWl+syKEJBDw09zUxPT0NMVivqRDdR3iq6skk0laWlqwpMnc/DyBYJD5uSVaWv3s6ulBCMn7770PPBzQUGlwJBIplpaW6OjoJG/DzMwM0WiU6elZ6uvqOXr0cSzLZmRkDF3X2bNnD+sNqVQqx+zMDM89/zzaw1gt34HYtkUun8Uq5tF0Da/Hv8H4SiQS3Lhxk0g0wu7duzG0jc7c/cq53U+klCwuLZJIJGhqbCQajWxK7VhZibOyskwsFqOmpmZN+181krK+fSkFU1PTLK8sPzB6oqGOcm5ra6MqGr3v+lnfn/VOvCv5gsWZM59QV1fHgQP9eL2BNQDj5OQkyysrD+6TpuarApCqUSTxMoDwIBBPUW/ivPfee/T372X37h6k3NxBf1TyyBHde/fGOX/+AqlUCt3QS2iCbdk0NTVx9NhRmpuaAMH09DQTE+McPXoYAMPUuXdvms8+PU8ykUTXtdIZ4JqmIZyN+sTJE/T1bSeTzTA0PERNTQ2WbeED3FDfxUsXePed9wDweDwbX4wTZpRC8tJLL1Fz7DC6YYBUtV2zyaTyfGT5pWqaTihchW1L3nrrLSLhMNu3dXF98Atu3hzi9OlTBAN+bFvw0UefMjY2hmHo5T1WSgqFIkeOHOHIkYMYBszMTHPmzBlOnT5FG43O/SqUQDLOubPnGRz8gnh81ckStjFNE6/XS0NDAwcOHODAgb1EwlXfS2NXOOMs5FpNUCwWGBsfZ3JyiqbGJuKrq2TSmVKpHCEklm1hW8WSRymRah7oOrZVroHp9foIhUMYhoGUEA5HaGyo48aNYYqWzYH9B0oooa4rXq8QAtuysSxrg6ErnEPobdtSJcUMHd1Q70XTIJNJE4/HCYfDRCNRxscnWE2s0tvbS8Dvx7Yt5uYWuHzlMlOTU5w+fZre3t4yUidsLNvaBAhyCsBrkkQySXx1lZ6dPUTCEYaG71AsFqivr8fv93Lv3hTnzn1KfV0NqUyG8fEJnn/+ebq7u9A1NZe9Xq96znX1Qst3k2Tu45RJCT5/gGAgiJQKTQ6Hwxw/fgxNC2z6rm3L5t1332d+fsFZv4L5+Xmy2Sz/8ze/Q9d1CvkCJ06cIFoV5fr1QQ4eGsDQoYxvS3RdZ3FxkbPnzjE8PExidZVcPo90vCCf10ckEmHbtm0MHBygu6tzzfMVixYTExMkk8kNiIqGhqZrdLS3EwiYDA0Ncf7CeQ4c2E9dfQ22pZDUdDrhjNta0XQdvz+E1+NDSFhNJPjs08/o6Ozg0MGDD0XviK+uMjExUQqZl1Agxzj3mB4aG+sRwuLWrVskk0kGDj5GTK9yNlT1TLZtMTMzzeUrVxkaukV8ZYWiZaGhok2RaJQdO3ZwcOAxOjraMUwfVCDg2VyOubk5Equra6131iNvEAgEaWpuIRqNrnmWwcFBBgcHOX36ND09u77s4b83YhgaO3fu5PyFC6SSWafigdrIs5ksbe1t1NbWous6LS2tTE1NMTk5SVNzM4ahY1mFCp2isclU2VQ0DZKpFK2trTQ3NyMltLW1MzM7w9i9MRrq67GFZHx8igsXznP48CH27u3HsqBsbAhm52axhaCrqwvr26DgP7SoOZPLZRkbG+fmrVssLS5imAbNzc3s2b2bltZmdM1E0xS17eOPP6atrY2+3l40R4evb8+2bSyrUIH8wv0MXyFsLl++zNWrV3n55RfY278HUdGoE5Tj+vXrnDt3luPHj3Py5MnyHaUkl0tTcBJ53ZrGlbrEjdvgrCW/P4zH48O1QWzb5vyF81y6dAnbtrhfoDqXLyAl/O3f/i0Djx1A1/UNzy8l5HJpisVcKbLl9QYUOFgsOMg0KjKOwSeffML27dvp79+5po68lIJPP/2My5cvY1lWiWIn1+/NVpFsNstf//XfcOL4ETTNC0ChoIBMEE575Ws0DYLBKnw+D6urCd5++x1CoTD9/TscAO/bc8IeoaGrnjifz7MSXyGxmkB3IBFb2IyPjdPd3c3AwD5MA4TQ8XgMTNNA01VYQwPy+RxLS0usrq6ioTE1NYkEGhsb8XrLiJyOOr7RY3qc+6wdxGJBJe/s3buXxsaGTbwkx6DQdTq7OlXIUirlNzk5x/vvnyGXy5WaFUIQ8Pv58U9+QigYRNi2Qp2dxWYYeskoB+WlLi0tlagMoGFZFl98MUhjYyMnThxECDAMA4/X5N7oKIV8nsbGRpqbm0qI4Ftvvs37Z87Q0d5O/95+6utr8Xo85PJ55ucXuDsyyq//5dcsLS7x8ssv3jf0+l0dcKBpGgG/H8M0SKdSaLoCiWy7yMTEGIPXBulob2fXrh4++uhj7o7eZW+/OkXI5/OzZ08//f39pbfrGopCskZxZTJpEqsJcrUxZuYWmF9YZmpqioXFJQLBMLawKRTzFItFwpEwuq7T3t5Oe3v7mv5WOjYA6XQawzCwLRvbEnhM5bGuLC+RTCZpbm6maMGNW4q2EAz6kNIiny+SSiURtk2hUHAiCxIhNKKRKo4dPbapQeSG2w0DFhcWyGQyVFVXkSvYDA7exOv1EQj6KRYtgsEAhw8/TldHE9Mzi9y6NUQykVTGoGGg6QoVNwwDwzA2dcNty+bjjz9jfHwcSQXiK6FYLHLw4EEOHzkAKMPJNM0HGnKaprMaT7C4uKQoAZZNa2srQggmxifwB/zYlkUmmyFWE8P0mOi6js7aMKdtW/z2t7/lypUr7OzpYd++fdTUxvB6vAgpWFxYYnpmmk/OfszduyP81//699TW1pRQlXQ6xa//9dfcG73nGGYVW5TjALz66s/Yt2cnmq7CyZpW3rxW4nHeefttEslkSY+5KHEwEODo0SP09e3EshRNSR0J+3ChTyEE4+Pj/PrXvyafywHqPdm2IBBQDkQ4HOb0k6fYvbsX02M641RJ5VDUp6npKd54401uD9+mpaWFgwcPUltbg6bB8kqc8bFxLpw/z9TkJC+88AI7e3pK/TAMWF6a5/e/+x23bt0iEAhgGDqVA+XSTIQQtLa28qMXXijVwHaVYyKRYHZ21qlIUHntt69vvorYArbv2M65Tz9jbm6B+vp6NM3EtqGxsYGf/uQnRCIRAE6fPkV8dZXamlq8Xo9ywi0b27YpFovYtkDRyB4CyRdQW1vLz//q5wSDQSwLnnnmGZaWF2lsaMTn8zI9Ncu7771Hz86d9Pf3Mj+/QF1dXQkEkVJw88ZNuru7qaut/d4lohWLBb74YpA33nyDZCJJtCqKbVlcHxzk9vAwL770It3d3chSpKAcYd0MrNE0WF2NMzQ0TCQaoa9vN4amP3Bfs22beDzOnTujzmEbZW/AiREzNjZKKpUqlZhz27Ftm88/H+T69esIYZfbX4OoqmiHBDymh2PHj9Gzcycuj1rXdXb19BAKBZEVEe7K++iGwd27d7l1awirWCxHi9aJRHD5yjWGhm5RLFogJf39/RQKee6NjVEsqrKcHR0dDAwMKH225hQ91XlN03jssQO0tDSvoYdVoruaBuMTE5w5c4ZisVDqt2HA2NgEH3/8MZZtqdMBK/ItTNPg+ed/RGdnEyAV0PkdlT94ZIauayDs3r2bnp6ekhFiGjpz8/P8y//3L4TDEYr5PPNz0xRsSTqjKA5Il3MEO3fuort7O5qmkc/l+eU//pJiscgrr7xCS0sz2WyOXC7D0uIyKyvxEhq3wVvSlFe3uLhQ4kKuP9VKCJtoVRXhUARNK3uRtq1Cgbmc483pGhPj4xQKBX743LMEAv51m70TanWKiuu6wU9+8hOEsBX6COiGRjqd5r/9n/+tYgIqEbbNu+++g5CSF198kfb2JiwLpmcWeOuttzh2/Cg//8v/QCgSxdCVoWXbGrYtWVle5Jf/+M+8++67HDt+jOamhgcgC2rzKRbz6LrhhJEfrWiaTlVVlEg4wtzcHD09OxCWxcT4OB9/dI5gMMjjjz/O1NQESLh29Qu2bdtOMBAoKW+XlwtlPSMl6JriaOYLRWZmFpicnEJKSTyRIpfL4/f76Ojs5uDBATxeD/HVBPlCgZqamhLyu5lUfu71+YhEwmQyGTKZJMGgX4XFFpWhu7i0yPUbN1iNr2KaJlPTs8RitdTX17N79y50HZZXVjY1DjdVaBWfzc/Pk81kmZ2dBdThGpqmcW90HK/HT3NzPc3N9SSTSW7eukV3VxctLc0YhglIdE1jcXGRUChEMOC/Lwe9UMiTzqSRoqz4CsUi1wev09zcDHIvlXmsD7JdTNPkb/7mr5mamuHKlcvMzc2Sy+fQ0AgEA/T09LBv717q6msZHr4DQCqZZHZ6GkwvVVU16IZOMpnm3KdnGRg4yN/93X/B7/djGk7hfqBYlOSyeX7zv37DO2+/w9TUJA0NZUPXFoJ8Pk9jUyM/ev45DEMrzSNFCzDo6OigzM52dIKz06SSKc5fuIDX61WGuq24fCvxZebn56mtqaa+JkxRSuIrSyrq8FA2nUKr21pbeeWnP0YIQTqV4vyFy8TjcZ55+gdEoxF0w6C1tbnUN4211AJNU47I4OB1xsfGeOqp05w+dYpItArDcDZrIcmk0pw/f5733j/D5ctX6OjodKgtqg0hBLl8nvqGBk4cO0qspnoTg0Oqo3HDIZqamkrOWGnvdwx9w9DRjS9hJsuHC/N/GyIFxGIxenb2cPv2bXp6tuHzhQANn698uIyUCs0OhYPOQRKQSCSZmJgAYGFhnqmpeZqbm780v8QVv89PwO8vjUcwGCAUbkcK9U4+/vhjVpZXKBYt3n//E3Td4Pnnn3N7zspKgrGxcX70ox+h6xvD5t+NuEYnLK8s8dHHH6FrGn/zN3/F9u07yOfzXLlymQ8//Jh3332Pn//850SjkYdwDRSVcHFpgQ8+PENnZxd7dvc5zy3Z9Jh3TSX9ra7G+eCDM5z/7NNNQ/WpVAqvz7dhTwZJvpAnm82yvLLM9NQU1dVVNDU1ousK1BqfmCCfz9HS0kp1dQzLATPc+0skK8615aiNdDH50mepZApDN1SOxWZPr2kg4PbtYS5dukhLcwuBYJB8Ic/w8BCDXwzS3NxCIBBQ+UJybZRo/cD4nD1NccvXOglSSgxDw+dzcqYqemSaMD8/x9lzZ2lra6O6urr0uEIKPB6PilKinPAy/7nc9rfl+D4yQ7fkoei6M0guz9VianKCfL5Aba2Pzy5cZjWxipSCe/fuEY24YTD3egOfz8AwIJlMkM5kiMfjpDMpAn6DiYl5PvjwY3LZHMlkctPSLu7QqmSjAtls1umj+7n6aQsbr9e3Jjxp29De0cF//s//SU1IZ8H86le/4sqVKwwODhLwB0gkVgmHwxUDQGlSqFqwY8TjLg9GGcu5bJa8G36t6I9hGjz55JM01NfQ1tGJZTvfz+UoFos0NTUTCfsRqOQeIdxAPkTDARoaGrh16xaF/Oac4Mr3k8lkuXbtGu0d7XS0tz50uO3rSCxWTWtrKzMzs6wsr+L3qYSwgN/P9m3bMAwTw/DR1dWNruukUmmCgeB9jcNykpJSG4V8HtP0UF9fj8/np7m5lUKhwNz8XGkuZDJZpqZmCAaDtLe3lTbrLxOPw526dWuI5eUl6uvrKBZtlpaWCQQDpcV75MhhRkZGEEKg67pCUPnTNnXFT7ZZXFymtraWbCaLxzQ5cfIEg4OD2MLG5/Oi6wbJZIorVwZJpTIcPnKY2toapFQoY6FQZHxinPb2diIRtYGvF9M0ef7557AdhxNNVbaYmJhiZnrGmeO6syF/maJS70XXDd555x2ufXGNpsYGwuEwQiiq0tWrVwkGArS21iEdrvmVK1eYmp6mpaWVH7/8cunUqo72duLxFW5cv0FVdRUBvxfTYyCEJJ3OkUwkmJudpbGxkerq2Iax1nWd2tpajh8/WjL+XANNSrXWs9lkRWRgbQOhYIgnnjjJs88+Tb5goSEZvD7IL37xCy5eusT45CTC2OBcDgAAIABJREFUFqQzaVZX4+gPocTdW9XX19HUVIuuwdLiEhOT00gpGRg4QFNjHbbzxZmZ2VJCyPpxLloFVuNx/AE/O3Z0U1tbTdECywk0aZpGVVWY7du7uHSlmnh8lUIh7/CrXQdSGdD19fUMDOyntaUJu0RtgBL25XxfCK3Eoa8cMdu2WV1dZmF+5v6GiwZ+f4hAIFwKz353iG/5vgcOHOD3v3+dmdlFujoDwOZ8QjdtRNNV5DGdTnHq9EkMwyS+Gqepqekr9aByvkoJ0jGibVvS2tpCbV0NUgr8fj+tra2lMZPS5vr1G9TU1rJtWzeW9f1CzYUQLC2tsLKyzOnTpzj0+ABuZPzYscMsLC4zNDTE3Nws1dWRTQhVayOQQtikUikWF+bJZXNksxnm5+fw+bwEQxGVNLy+ESkRwqa6KsqhQwfp6uxYE553v3/9xk1G7o5uCN0bhsmJ48c5efI4g4OD/O5//459+/bxzDNP4/F6KOQL/Ppf/5WFhQVe+elP6OraBppeShbVULSim7ducuniJaqrq/H7/aW9v3I9a5pGXV0tPp/vvvuFy4ttbGzkL/7iL+ju7kLTdcbHx2hobODVV1+ls6sTQzcoFouUOPea69A6eg/JmTNnuHjpIgG/H9PczCSU2EIQjUbxB/y4a0UI5dT6fD5+/PKP6e/fvfYgE03DNA3H8dgsGV+y2R70KOSRc3Rdhai8LYvR0TE+/ewCsVg1O3t2Mj427iRLSMWDhM1DqrbN0NAQqWSSxGqC4aE7dHW0IoVKbsrn8yVYff3ljuNEIBDg1Kkn2LZte8mbAkpcXzf04Pf7kVI4k1RD1zT8ficDV4dCocji4iKFQoH3338fKQSLi4u0tLbi8ofLN1cG9ltvvcmtW0NUVUVLXr4QgmAoVAqHueKiS+0tdfhDEYStDJX6ujq6t23j4sWLRCJhWltbCIX8mIZJ0bJIJrKMjY1x9epVdu7cSW1trGLibRxTKQWTk5O8/vrrvPLKK7S3NSKE9iWZ3A8n90dHJYFAiF27dpHJZBi8fp09fX307+lnz57daLo6ZailpYXm5ibnvus5Sve/lxTg8wU4dOgg+/fvR9MUX3diQiHwNbEY+XyOsfGxUiJXTc3Dh/o0DbZt72J2dpaJiRkaGpvQNZ3FxSU6Ojr4wVNPEa2KgNTYsWNHycgtZ8znyeVy5PMFLMt2QuQPHlhNg0w2w/z8PLt29XD02FEiYZVwtWPHdkzDdDiCeS5d+pyRkVEGBh5DQ/FFq6qqEJZg9N4Y6XSGgwcH8PuD3C+c7PF4Udi+ot6YpkKCbWHT0NAAmgHYpTWjyoVZuMcLr2+vaCl+bGNDI6+++he0tbVRtIoMDw/zD//wDywsLjpUBR2JGicVurdVbERIAoEAP/vZK/yv137L//i//weNjY1URaNqbIFkIsH8/DzBUIiXf/wSbe1tDodx/VyR2EIp2PVzytVVa5ZvRXgRlCPg95vouonExuPxomkalqX6LGzlTIv1DW0q0jGyNYeapPSkJdTGYtkW+UKRgiWxbRUqVFcpdESNu13aSDweLzW1tRRu3uDmrWFqamqJRKOKJyjVaYSpVJKbt4ZJJpJ0dnQ6KOX6hBJNfd+WFKyKo2rXIT33m7e6rpPNZvj4o7NcH7y5aeTAHfr+vft47LH9hELhDd/5LkQ4NIUdO7Zz4/oNGuprCAYfXJ1E2FBf30BDQ4OiYqGM029CFKJmcOLE8Q2fCyHRdcn8/BKjo6M88cQTeL3mpvP+uxSJ4o3quk5dXS2apuaWrmt4PD6qq6uRQpDLZdE1tQjvV5lA0yCXz3Dl86t89OFHzC/Mk8/n+XU6Q2NjE8eOHaWjsx1hbdRrUkp8Ph/NTY1s7+5wP1zznaXFRcbHJ517rTU+VVUf8HoMNE3H9Jj4/D51aqem6E66ruP1GgT8XoqWe4syourxeAhHwtTUxAgGgs6zrp1dru5IZ9JYVsExFks9qei2poBEv09RwGyVzKprChjw+1TFChdVtYVACLdaTRmEy+VzBAIBnnrySWI1MUpEY5e45SABmqbR0dmJyz8omVAO9cvvNxFire0gpYqKldBzZ94KYVck+z96eeSGrjoTXBG5790b5/33PyCbyXDi+DH27tvHoUOHkNLGKhb5n7/5DVNTU2smn5prNvfuTfDZ+Qs0NzfT0trKjZs3iMWq2b//AP/xP/1HTMNgaGiY//ef/mlDOEyTCoUtFoucO/cp16/fUMqolPhR/q4QkoMHDzEwsB/DMCm/H/WLrmnMzEwzMzPDY489Rv/uPmwJr7322hrejlYxGSSSbC5HKBTk+eefc0KFqj3LFnR2dJLPW3i86nXYts1bf3wLn8/HsaPHOHb8MFYRqqujvPLTH/P6H/7A66+/TjQaJRqN4vV4yecLpFIpkskkjY0NvPjSC4QjIWxrU/+YQqHI1NQk58+fZ3V1leXlZa5du0ltbZ0KT29yjWVZG6pWbNa6hubwNzdSISoRrIGBAe7cuc3s7Bw9PVUYhkctCnAMwK+OgroKBww8Hg9udm5HR7sTStSZX1hgNZ5iZ08P27q7H75xlBdbFa2mf+8ebt4cYuTOKHX1dXi9XqKRKD6/F13TEZLS/XH438srK8zNLZDP5ZlfmGdxcYHa2lo8Hu8D7ymBYqGIz68SrnxeD66h5vV4S+OzsLDC4OANvD4v4+PjLC4usW/fPkJ9QebnFxgZucv+fftUWS/NcFCLMq+qTOVx7usgwfm8xY0bN6mKVtHS0oSuG0hpoes6K/EVLl/+HJ/PT3d3N42N9VQqUYBgwMdzzz3D6OgYqXSaGzdvAFDIFzhy5Aj79u2jaLn0IcETTzzBD597hmJBIbyuEXZwYD/ZXJ7/67//d7TGRrxeD/lC0eG1e4nHV3nu+ed48tQJLKHC65URCikl+VyOhflZh7ogyzodjXA4iq6zxjBzf1tblWDtGAUCAZ5++gecOnWSfMFibGyMX/3qV5smrq15r2sQvLLhaFk22WzW+ZtxqEkVfZAQX4lz9eo1YrEa6usbaG9vw+Px0tfXy/j4GBcuXGRmZo6O9g6qqqvQ0EgkEkxMTjA+Pk5jQwP79u3F6/WVnOHKkK9b61gIu+L/12IwCsDQWU9jaWpqpLe3l8TqKoVCwUGS1oXPNDV/3VJc3w/ubnkcDh06yFt//CN3Ru7R19eLx1Rr7oFXOyis+t0JSH/Nx3LnxeYUD0k6neLatS/o6uqmq6v7e2PklnWKY3h5lbM1MzPjRNxUWbZ0Os3S4hIer5dQKIyLy6x3jirXnxAqmd1NxBZCkC8UKBSdU+PW9UPT1fUe00MimeSjj8/xxeBNVHK5XHO/+fl58oU8prHRCNO0jTPAtR9cQ1Z3TrJ0dZZrkAqpImSdnZ1kM1mFsrr2x/o2UTPRtiznJLwyiqqeqfRbBdDgVqFyErTdfztiGAaLCwtcuniVaDTqlKoLlcdIU5Fk0zDVfEPRFEo/HUQ8n8s7aIALFpSdEiHW9q30JjWcvCuNiYlJzp+/gpCwu2830ei3c1T1IzV0bdsim02xsLDI8O07DH7xBQA/+MGT7N27B7/P5wyySdFNkHE2cDVJJJlMirGxST744EOymSxPPnma+ro63njzLT744EOWV1Y4duworS31+HzeMjLriJQCW0iaGhvZ1aNQxGwmgxCCoaEhQsEgrW1tCrKXDpJSLCKE5SyE8gLTNA0pbCdr0ub48ePs2bWdgq3x3rvvqQzp+yKDEonAMB0DzAkRmh6NmZkZpqdn2L+/v4Q0uxuEInlLJ1Nesn//XmI1NVy/fp2Z6WlSqTTpdBrTY9La1kJnZyd9fbtpqK+hUCiisTEpRkqVJDg8fJsvvvgCv9/H4uICKysr9PX1OsT0tb0X0mZ2do7h4dtUmrfreU4S5d11dXXR0d6+oZ2ywtJoaKinpqaaYl4lCm6GsH0dcTdmZbApCowQktraGmprakooverXwzaq2m1rbScUDLKwsITXY3L8+BE8Hi+m6VnDJa68MJNOUVUV5vHDB9F1nVwu63j7939WDYVSh8NhnnryNOGIKsfnvoIKuwHT1BkYOEC+oDJxI9EwTc0N6LpJPp9nz+4+WlqbMXTPmuvcTXk9SqcO1oB79ya5efMGjz02QDQaBgdB1HWNudk53njjDXTD4JWf/pTGprqK6SHJFwokEyv09GwjFIowMzvD73//O0UhOHacgYEBB9kfxj3i2ePx4vd7cBdTIhEnl8vgMXQsy8IwTfbt38/Ro49TLNhousbt23cYGhpC2DZzMzMUhMAwTGLV9Ws2ocmpKX7969ecsVP8WInE0A1OnDhG367uSuv2PrhS2fBzxdA1PKaOkCYej2fDmtv03a7TVapNQTyukrlSqRQzM7Ns29a9JqohpWR2dpa333mHUDDM4cOHaWtvxdChs6ONF194nvMXLnD79gjnL5xH2Laz2egEA0H27e3n8OOH6OruxjDUBlWKaDjoy9LSIlevfsH4+AQS6ThvTsKu0wd/IEBHe6dzMqBWMhx6d/Wyc8dO5/1tzgSXzvjqutL75QMaKuffWoR9gy750hH+auImX0oJ4XCII4cfZ2j4DoVCEY/Hw30mw6by9Wuwrm1no37Q0HXJ0vIqhmFw7NiRb+R+35Sod+a4RZpGbW0t9Q0NXLp4hZqaGro62ykULAYHbzEyMsL27dtpaGhE2GWuaqW4xpiUEAqGOX7iOIZp8L//92/Zu28fr7zyCl6PF8Mwse21CVVSCKQUNDQ00LOzh3w+TyaTXvM+3bUYjUadg0FqEMIuOXLKKE9SzGdYWV4hX8iTSqZYWJjDaxoUiraiIhbyLC0sEQ6FCASr8PkCgGR6aprpmWk8Hk8pmfp+81eW/gpu3Bxm+7ZtVFfHNp1TD3vIi2EYjI2Nsbi4QF19HQ2NDUSiQUwNamtrGB8b48z7Z1TC2KbRX0mhkOfU6dN0dDSiaWbJsC4BJBve11rAQNd1rl8f5N69e5geL81NzVTHIljFR+/oPkKOriJ2X7p0mavXPiebzdLV2c7Ro0fY1t2N6fGWeCLuX4/Hg8/rXUPgHxoe4d133yWbyfLUU0+yu6+HYDDESy88x5kPPmLo1hBtrW00NVRTGmpnFmmaOklqZmaafL7Arl27nL5pFItFpqamqKuv48CBAyWjW00wyeUrg+zYvp2ampgTync3/QkuXrxIX18fuWyOc+cvUygWWV1VHN3NEU41mebmZvn9739fWsimaSoDzOsjEAjS7aCLUsJPf/pTdvXsBE0nm7UZHLxOOpNWGemaSpqIhMPYQiCFQt5cZGts7B4jIyqxJ1Ydo7e3b0OfQqEg/f39nD13lh07dvDqqz9D8ag3pwkIIYjHVxkeHuZBGl8IiT/gp7qqis6OSkO3AhWSdtnQQnM4gqp0l+Qr7SdfImVuocBF19S4azho0le8WQWoRnVVlapjKiW6oT60hSwd2FC6xvGMO9pb6epsU/3C8YAFa86zXy+6o4ANXaOjvcUZP6Hee8X3hICamhh1dbG1YTDhZJN3d6HpKsxqiWKpX5pDndjM2NV1Va3g/ffPYBgGAwMDeDwub0w5hU1NTTz11CkCgQBdXV2OEazaMgydhelF3nzjTYpWEa/Hgy1s1AErFpOTk9y5c4dCsUB1dTVHjhzBY5rKJSyxmDQ+/fQit27dwuMxWV2Ng4SrV68yOzurksI0VbtWCMGFCxcZH5/Esi0ikSg//z9+jtfrwev10tvby/T0NIWCKv4fj8fp79+jNkfdwipaJUfmy6QSsSoWi9wZuYvXH8CyLBac6hhfprzXZjarHIZMNsPo6Bi5bI5YdYzh4Tvs3r2bWCy25rtNTU2cOnXKeef1FIsFkokUll3E7zM5duQwO3fuYnFxkZyTk+Dz+ampqaG+Lobf72FpaR5N0wkEw/h9Ct0xTQ9VVVXMzs3ywQcfoGmqAkQul8Xr8+Hz+dAchKq2to7nnnveMXQlc3PzTE1NVWRmy/uYuc7zu/NN1+nq6qKhvn4NcudmvrvjvF42bq9fT8oAi0LQm5ub8AeCGLqBsC02Jjl9C1DUfcR99uqqKo4cfhzD0Dbone9WymOl6zo1NTFOnDjOm2++ye9+9zr1dfVYlmB5eZnW1hZOnDhOKBgqIdebrUH1fhwKgGni9XjUPmoY+H0+TNPccJ2Uqvb4+MQYxWKBvt3OXuh8z+XRC7d0KOoeK8vLfH7lKm3t7TQ01COEzdWrqurC8vIyq6urXL8+yOLiguOEqnq0uXyOd977gOrqGCdOnGDXrl1omsbtOyOcPfsx2UxGRSud8bmfEyilpGAVqaqqIhz+CVVV1fcFY9xyduudRMCh0ij6Qld3N0cPqxP4qqqqSCYSZHMZOjs7iYTDFVWiNr+RZVs0NjayOL9ItKoOT8RP5RrQKv618VAK5XDs2b+fgf370AyDmpqYo+cr40SPRh6hoasQzEIhT0tLC11dnbS2NhH0+1haWqwYEPXTsiEUCtHa2orf7yb1qJfY2dnJrp6d9PX1YJpeUqkUoZCf48eP0dbeQbQqSjqVxTBM2tvaicViGA7/486dO3z00YfkcjlV8kdz68SB1+8jlUrz4UcfqjroUuGsqsyYwc9+9jNisSo0zUTXYW5unj/84Q1Mw+TkyZNcuXyFweuDDtl+ida21k0no67rnHriJHv3qiLfmgR0HdNQ5dH8gSCBQIC6uhq8Xi9VVVWEQiH8AR+2Dblsnvfee4/5+XmHryNgzYQsh8ls20Z3Fp6Qgt19e9YYuqVC2xpks1lSyRTbursJBn0Ui/dTMBJDN9nV28O27Z1fskjVblGJbKo21P8mkynu3LlTQu/cdjT3O9o3u31UhuWlo8k2C01/zbvwoF67860UwnXDPS7gUdq2Nrbh9nuNh7zuus2urWyzMvzpThshFMLR1t6GYXgcZV0+9lTXIZ/P8PHH57h27RpPPfUUnZ1tjgJzkRJJLBbj6JGDhCNRLAunrBKlOabrCoVNp9LMJFbRdI2urm4MXSOTVTWSW1pbaGpqopAvqNOmnJJaZQ6ww38VNqFQhIGBgxSKBZLJZOl7fr+fgYEBhBBks1mEFPj9RSexTCMcCvHjn7wMKE7/b37zGteufcHf/d3fEwr5EULi8ZgUi9nyO10TGXIPUVCcfZXMJjAMg3w+z+Urn3P79h2kVNnZ+VwO4yHLi7ljLoTF5MQEX3xxjW3butm+vZsLFy5z5coVTp48ht8fcF8utXV1PP74AI0NdRSKgruj45z95BNWVpYVCqWpzcZ0eINuiNEetpHCDTVK/P4ABw8dpL+/HyF0qqtjnD79BPsP9JfmysidET7//Bq7enexu6+3lJHu9wdobWkujc/d0bt8cOYMyVQSw73nA70G9X49Hi8vvfQS9XV1Jf0phGB09B4r8ZX7Lq0y3v7NaAz3REz1POoT3dA3lJp6VPf/U8Rdt9+CrfAVpOyCmB4P7W1t1NfXsHfvHkKhIFeufM783DyhsJ/evl3s37eftrb2B86VtZGmtfuUcCIJZQO5rPNtIRi5O8Lbb7+NZRVVHXvnYtuySyXwgsGAU50G3HyK6uoYTz/zDA0NdWrtCEWXCARUtRghbCYmJlheWaGpqYnWtlZA1ezOF/KoY85Vf3f17CAcDrIaX6VYVEni2oOmja4RDAYJR8I0NTZtqAKhOfpf0zRs2yabTWPbspTcJmxBvpDDtgrYtqrk1NTUxNHDAwQdXX323Dm+uPYFElmKaKt5fn+9NTU1xcWL8Owzz9K7q7Niv1AAnKx4N0JZt0hZbq+7u5sTxx9H6ibFohu9f/Q1xx6JoasmiiQaqebpp59G0+DS5Uu8+ebb5PMFdTSvVjaW3E0/X1B1Y92XKiX07+mnf88ePB6DdCbN7TtD3B0ZZXFxgUKhAGgMDw0RjUZpbGzk+InjtLW1YJpehJDs7NlJJBpSRG0NikXFf7MthR7ieIlejwd/wI9p6CVIvr2jDV03sKwi8wtzvPnmH7l37x4vvvgC27dtw2Oa7Ni5jULe4rXf/nZTBMdVmH19u9B0DWnbrCwtsRSPs7qaIV/IUygUSadVMepIJMoLL7xIVVUVlqWoEKZp8swzPyCdzrASjxPw+wiFA/ffADStNMliNbWbvSGksJiamlKljdrbsWzpIOyba0spVUJBJl2ualFpZleKrusEgxFMo8w9dSkZyWSSwcFBxfXdZPMotfcNKG1345LrDBa3P5r7na8g5ezV8tN/3TIprie83ph90FGRZdx082lQ+XnZ0K3kgVrs3r2bltYmTNNbUjju7VdXV7h46Qp/fPttevt6OXHyOD6f3/H6y8fICiEoFKHgFPioVFrChqamJv7+7/8Ls7PzvP767ylahdLY64aBZVksLy+zsrJCJp1GN4zShqPC2TpPP/00Tz75JJqukU6lWVxcJB5fUacC2gJNV4ZuJBKhoaGBUChUgfx4SsayYegYOuBELkBimjqgamBnszlnE6r00Cp+lYJkMsnczAxFx1hcXl7BY3oZGHiMvf19FG2b+bl5zp37VFWueNB710pvHiltZmdnOHv2Aul0hh/+8FlaW5sYG5vk7NlPCQaDHDjQr/SJxKnHbDnJYpqzPi0KRXWYyuzsLCsrcdraWlWyD6oG9OTEBD6fn/b2dqcMmKHGEKWrgsEQu3f3ouvldWIaBndHx9ixfQfHjx9bU7HCslzag8b2bd34/V5WV1exbVXX2fOgkoWaVtK/nZ2da9aQEIKxsTHGxsY2HCxTuvzrcps2dEdzaB5ayVNzQVy31F6luvim7/9tS0lHSEnRspya2N+g6y8lwWCIcChEQ0MtHtNHe3ub0v39/WzfvgO/z4dh6E7Co6tWpWMkbj6+lR9/mf7WNYMd27fh875ALp9HCBuf14PHNFhZWeXT8xcAOHr4cWI11eowIwf08nl9tLa2AxqmYXL82FEOHz6sHEVNLcT33nuPS5cu8dRTT/H444ecaIei+pimx4kGS9rbW6mOVXP2k0+Znp5FAV6bP5+QyvB88gc/YNu2DoTNhmiCdPaHVCrFtWvXGBoaIhAIkEqlSKfTDA4OMjo6SiqdYvu27djCxrYtLKSyK6SG7STOptJppBAqWqO71IW1favca9wE4MqqUisrKyzMz2JLjWyuoHRRoUgmnaalpaVkk1iWRcEG+S1zyR8hR1dzwuleLKvIyMgI165do76unmhUnTijRM1uKSVj98aIr8Q5euQo1Kv/dwu3Z7M5zn92kY8++phsNqMQT78qaJ4v5Bkbu8fnn9vs33+AttamEoLV3tZGV3cbwraYm5vnzsg94qurpFMpp86dpo7GjESIRCPs2NZBbX0dbqFwKeH27Tu8/fbbTE1N8/TTT6sQq8dHT89OdH0n+bzg/TNnSkhJ6acsc3YV2mUzPDzMuXNnmZmZIZPNqMxZJ1s9EAjQ3t7G8RMniMViCLt8ctfBg/vJ5Sx+8Ytf0tOzk5Mnjj1UiFUVMq94K44CtyyL6elpgqEgDfX1SKFQ+M0sTFXSRTA+PsnFixfXbv4uMun+W0r8fj/7D+yjd9euddUMdJqbm/jLv/wPX97xRyhlj1OdeOZW2/jK8igQFMcILG863zxUo5ILBIaTMFg5j3L5LHOzc3z22XkuX75Cd3c3L730IjU11agjfjdWK3iQ6JqO1+/F4zFLZQHd+VROflPzPJfNMjk1RTKZRJ1noYxmj8eD1+thfn6OT86e487t26RSKSzbKl1r6DrBUIju7m6OHz9Oe1ub2myFJJfLcuPmTRXV0XWEbTMzO00ul+XChQtYlqU2QdsuV/pw3CDX2dCdA2AuX7nC7NycSmRFHRlqGCa9u3o4efwIRSG5e/ceV69dY32JIl3fPCxr20Ump6b54MwH3L59h+PHj9HbuwvTVNn2f/jDG/zxj+9g24KOjnYn6uFEvHAMxY5O/vqv/8qhhRR55513uXr1Kj/+8cvs3asM5NHRUV577bfU19fz6qt/gcfrBUkpW9xNonE5u669pyg2ikpg22vrlGpaOeG4paWJ5pZGLl68xPT0NPv376W1peVL54hLFajUFabp4eTJkxw/fuzhJ9vXEE2TpFIZ7t69W6oJ+v1IkHt0otayOrp8dHSUvr4+dZjBN2S/u1QDj8d0kkIl8/OLvPnGG4TDEXp29qBpeilh1J1/pumhOlatqhE5OrBEddNcIMd9CPc6l5fLGr2i6xqtrS00NNRy69Zt4qtx+vt301hfw8TkLLdHRgEYGDhAa0sj1jqfyrbL5fO8Xg++0j2UZvZ5fRi6ic/rIxgMVNwb5ZCK8vwuFCxSqRSrq6uAqmu+frA15wTIxaUldvX20dbWVopOr/meBlVVVei6zoXzFzAMg23btzk2kcG5T89iGCbBYIC62rVgl+uEHD1yhEOHDnH16jVmZ2c5fPgwserqjZD5Jjc3TROp6Q44ovH/s/eeXXJc2Znuc8Kk95mVVVkWBRS8KwC0TYIim6a7ZXs060pXczW6GunbXP2Au9b9Mj+npaVpqdktthG7m55sgvC2UCjvMstXVvqMiHM/RNoyMCQAgkA8ZC0AWRkRJ07EibNjn733+9FHH3H5cggpoViyHYlVo0qxUODNN9+0w9pa2v643xEfiaHbXoam6UVLpVL86Z/8KQcOHmwzLOzyPAb/+3//lPn5+W3L/0pNGvejjz7G43Hz1ltvMDCwh1AohKrp5PObrK0s8cmnn/P5F5+T6u7mxReeQ9c99sPTgKnped5775dMTU3idrnx+3xouo7A9iQXxsb4/IsvOHToMH/yxz8ikUg2PFxjY2OUy2X+/M//lDNnzjQylese0GrVaBi3u/WHokA6s8y//Mu/UKmUOXjoIKlUV61AtsLGRpZMZokrVy4zMzPL//x//iexaLMWqGFAsVTm448/plqt8tprZ3eNZdpy9B3aIymXDRYWFojFYni97tqbXY4nMiasAAAgAElEQVRwOFozvLdso4Db5SIcCrXVytsa0yOlhcvlRtdcO7ZNUdTG0vS3gRB2zcvFpRVWllcoloptYRTfNlJKXLqLoaF9RKMRHvV6ZOs1UhSYnZnjvffeI51Oc/LkSd55561aLd6vv7xkmhAKh2oVJjRUbeeyMvlcjsziYm3ZGxpLoNK+r3716//kD3/4giOHD3Pw4AGisQgul45p2nU6M+kMX3z+OYuZRf7hH/4Bn98HwlbJ+/3vf8fS0lJj0lAUQTgS5rPP7OL7uksnEAgQjUWbnrtG10t8Pi9Hjx5hdXW1UYcb7HCrrlQX4WiMsmGPU8No8UbVJupqtUIut4Guu/H7m/r1QggqlTIjt24zNjbOmTOnOXv2FXSXC2nBgQNDSPlDPvv8c5aXl0mlUjWPuGgLmLHL2LkQAgxDQdNtb5LLpeJ22y8zLpdSU8XTcLvtskj157NhGBSKOSqV5rnVT399fZ1Kpcrm5iaLi5mGwV7vG5erdk6KjmGYjI9PcPPGDYb2DdGZ7P7a4gV22aavt+390bSWTKvM2NgdfvXr3/CX/+UvSXV3IMSDJaB91xBCUijmuX79Bp9//nktISz+0GupN0OvbE99uVxG0127emzj8Rjf//7reD3eHROpwb43Nd1WZrQsi3oi4db7pT5H5vMFLl2+xMzMDKmuDuLxGKYEby0h2ZRQNuyycM21ZhvDqNqJaFVbGbX+G0vCRq2yyMbGOpn0QvvjWtqlLn2+IJqmEfAHOHLkKPF4wi7H2NI/dTRN4/bobXL5QsPpsZvz6dTwKXp7u7Erv/iIRmOUikWG109gmhYuXScSiRAMhfnP9/+zcS8LlEa4gq7rTE5McvnyZYZPDuPxuO/6gldvqpRNRb/h4WEK+QLlchlFVQkFg3i8HrxeD/F4jMOHDlAolhvx0Fsve11Iol5l6VHwyMuLQe1msySKUPF63fj9nm0PEMPQ0PW6F6u9oxVhy/0VCgWGh4c5NXyCQDDQ8Cz4/R66uxLkC7bnZnV1FcOs4nJ5Gg/yixcuMXJrhO997yWeO32aWDyO22OX7SgUcqyvrvDxp5/x5ZdfcWD/AaLRaE2nGp5//nnOnDlDMpmgqZi23dO2m9EppV0Dc2Z6hqmpKf76r/+KN996E5dLw6XXyuyY9lLvu++G+ed//mdmZmbo6IiyNU9J1/ValrKJackdl67tz+zlWdH2abM9liWpVqtUqxXm5mZYWcmSz+d48cUXd7StFKGzZ89gI2Hufrhbf3xbCAGrq6t8+eWXrK6s4vV67xob9rixpIXX46Wrq4twOPwYvEotrhFs0ZRINMrzLzzP8MnhWv98syPYE5zk6tWr+Pz2qkXb8mNtRScSjfLSiy/S2dXZVrtVCFsw48qVK/R0d/O3f/u3hCNhdI2G+qBhSIoFWznxq6++YnV1FX/A9k4FAgHeefstCsVCI5zF6/GiqPbyosftwef3EwoFMQ2D9375K/t7sinhHY/F+Ku//j9a7pVWb7u9vF83EGTDSq55o5DMzS3w4YcfcvDQQV588YU2z7iuu9l/YIhYLMrhw4cIBoMN41BVdQ4dPkhPbw+KkLUXM7nlqtWOW5vU63UrJbL29+bEZJcdko0X9Xr/5ws5vvzyK+7cudN+7RCsra2yvr7OxYuXmJmZbbsnDaNKf/8Ar7zyEsnOTpCioeoE9v0ka6WOtt7Jkro3TrlLyNQuN9VDoBnKYzE6OsnM7BymYTZiK59mIxfAtAxu3x6v5X5oGIbR5sB5uDRf7IRiJ8Capl1/u1lSzMbr9XDo4BAgME17HLU3x44j9fl8uN1uFhcXmZgYJxwK4feHajWZm6E3jUtZGxemaVE1DDweDydOnkBgG7ymYbelWfXBjjvN53N8+tkXTE1N1drZ9BhnMmnW1tb48stzjN4Zo/WZYJkWhw4d4vkXThOJRDFNkz/84Q9cuHgBr8eDrmvb5h4h7LrjgYAfv89nG7s7ekAFe/YMsG/fQONZYlq2rVRfialvk8uXasYtLfd0a8k62XjZrZdE3O3Wt+OC7ZcPw4B9+/YxMDBg78OyE0vVWo6AIgS6rqDpglu3xhvPpda2WZbJzZu3KJfLHDp0EL/f/0jG/GMwdGXjYVYuV8hkMvj93i0TnT1RbWxkd6w9ab85dJDoSHDjxg28Xi+9fd34/V40VaFQLJPdyPLluXNoqkZnZ2cj7tDeXlIqlnC5XKRSKRLxCB6fB0XVQILf50VXYnR1dqIoglK5TD1OT0pqmuftdeJaYxHrAdz1ahGyFmPUuoRiWbYiWDQaZWJigkuXLhGJhPF6bdW4UrHMZi7HxMQ48XjcVoiTzf3TMrjm5uf44IOPGnLC22I5pf1mePToURId8R1KntlqJkeOHuHC+fP8/oNPiMdiHDly+K5SuPX++K5TKhXxeuriIYPtai7fMnY6pFIL2Xn0Qfqt9T4tC4b27WfPwCBut0ZdAW1nmvd6cz87T5ANo0EIjh87ztnXXkFarYZGe3s0XaNcruvJ10OYBKlUisVMmgsXL5BMdhAI+NA0O6QglyuwurpOJpOhs7MTn6+2aiBtwZDhU8PUwnJ38CjYxqEASqUcSLFl1cKe+Nyqu/3068NSNicNSXt4gsAWahgfH+fChQvsG9qLpjaXa6UETXOxd3Avewf3Au1L+LaBqBIOhVFVKKYLtb6Wu89GdUO3XpS6JWmqNUGsOeHYSXaqUi/x2Hqago5kkq6uVK3EoVnzajXDOlRNbYRR1O+I7OYmFy9eIp3O1K7/9sZa0l7l27t3D17vw1syv1/qK3ZTUzPcvHGTfXv3MTExQb6QZ31tnUgk9ki9TN8mhmEwOTnJ6Ogox44fI51Ok81mWd9YJxRsDS18GLQoV0o7hC+TWeSTTz5Ga9Qar30PGuFwwVCI/UNDRKPbVQ6FsGux79u3j4sXL/KTn/wLvT29vPzySxw+fKTdvqj9aUvwrnH+wiVm5xYac7QAzp0737ifhRCkUt0M7hnE6/XUVmSVZnJp42Sgt7eP/v5+u5Zt60TbajBL0RiCpVIJn9fH8eNHiUSjNZGsrWIs9spnIBDAMk2UHe9BgWnKWn3t5qdbp/q6k6H1kbH9+ScpFPKcP3+eqanJRl9txbIskh1Ju660bteVVhUVzb21fbLxXDEMWfNM1190mnOKokCxVOGnP/0pa2tr/NM//RMHDu7d5tx7GDwWjy4INF0nm83ywQefcP78pW3fsCzJ3NycrZe8BbOW1HL27Fk+/vhjPvroI7xeL16v7ZWplEvk8nbs30svvcT+/fvRtGYilKooHDp0kLGxMT784GMmxqeIxWONkmLFYoHV1RXGx8ftChED/ahqM3bxXiECiqKw/8B+fF47c1PXdbumb2PZRWKagv7+ft58803OnfuSn//85/j9fruQNoJKuUyhYC8b/uAHP6CvTdnJjotTFIW+/j6KxSK///0HtbfVHVwPUuJyuejqStpLUTu02e1289prZ2uyvxaDe/eSiMceiwTwt0l9+UxVVfx+H263/kSd87cx2bdiK/vsHHbSvp39suTSXbRbfe3YcXIgFFsV6NatW6ytNaWwt6+KWLjcHv7+//77mkKhvQ9d13jn7bd475fv8f777+PxeGpJZ7b1WiwUKJZKeNwefvTDHxGNxmoveDVPtcGO46Dt2PaZoWr20j5iewjFli/vamw2Ji4BRrXC+vo68Xh81xWRe/V3/RkkhILLpVOtuqA1VnELLpcLv9+P1hImYsfs+WqCNa1eFQgGQ7z2R6/x6tlX7tKInU/XNgLqHm1BJBzB7/Nx88YNbo+M7Lo7w7Q4deoU3d1JfL7HZ+jaBr5sGAE3blzHtEwq1QqlUomJ8Qlcuovh4fA2w/+7RvsLaDOrvlqtcPPmLRRFoVAokMvlGB+fQAhB5Gj0a4eb3KM1uHSdRCLB1OQUn3z66e7ftCQ9Pb0kOxIkEtFtQhhSQjQa4+yrZwkGgiwtLRGJRvF6/Y0x22pcK4pKNBJF13WuXbvGzRs3d2mh3VenT5+mp7sbj8dNMBjizTfffOAQNwEIxa58Ur+3NU2jUq0wPz9vl0TcInBR37JqGEgJiUSUUNi1Y33++/W6i13+XicciRAOR7h69Woz1nmHkW5Uqxw5epT9B4baRI52GrfNl5dmHWhBXTmz+TxTFYXjx4+Ty+Vq0vD3dUoPzGMwdO23msE9g5RKJUql0i5PdcH+/fvp6uoiEAhu+62m6Tx35gydyQ5G79xhMbNIoSb8EAmHOBg9yN59e9g7OITX62vbVko4fOQwhmlw6dIlZmZnGB8fqy1RWSiqLeIwMLCH5194jv7+PlueTt7dU9Vsm8o777xlGwm6zuHDh+no6MDlcjW2ldKW6Hz77bfoH+hjYmKC1dVVCoUiilCIRqPEojEOHhxicHBfW03A+luQS9f5y7/8i1oSHe3rE1tQFIVkZ+euN44QCtFIhPiZ04Adm2QYT4pC0aPDsuwYSkVR0Gu1nL/ZBNsudLE1ZvlBf29/58m/BoqicPr0aVwuF7qu38X7bBuzqqry4osvsr6+1tR33wG7LJinzU1hr4gIjh07TjQaZuT2bRYzS3alkmoVTdNIJpN0dHSwf2gfAwODje2aIQT3e146e/fuxaW7CPgDSOvBroUA/D4f+4f2k0zaKnFCqKRSKXw+H/F44mu/WEkJXo+PI4ePUC6X8Hp2rrwihMLg4CA+n49YLFG7xwWhUJgzZ87g8/naDLi651xTFcSOWvf3alfTqy+EwpGjh+0X7Jp1slMPytr3o7EEXu+jm+BasVcODdbWlsnl7YSZWDxBd0+KSrlCsVSmWChimibBUGDbqp29jyd/bLZiN1dSLpdZWlqiXKmAlMRicQb39lOtVFld26BcLqPrGrHYdu/pwyQai/HWm99nM7fZ8PLthETi8/qJx+OYO94btshL/0A/fX19GIYtQb7Ti4mU4HF7GB4+SU9viroiZCut4QgIiMc6amVO7Wuua/rXihdvDQ1QFJWDBw+AgEqlDDVDr9nhzQMoimzKw3+D6yGlnWx68OBBOjs7URSdeim2+r188sRxerq7GjXOdztNyzKJRGI158bd2OL4kODz+Thx4gQdHR3Y+R61Eq8uN3/2Z39qr+RpeqN++sNGrOcfz3u0aZqNjtx65eoXs/6gtIUUdpo4JapaN8rMhqyeEHZguq4pW7KC64tptcxgYHMzy8qyPUnahc3t0iGBYJBEooNgwI9lNbevD4p7PeAUpSYCYNrSmXaMito8v5YFFFvS08I0jVr2tlJLJlHR9fZSK1uNJDsb/f763C4j0tj6Ht++dw297z52Z9y4cYOFhQXOnDmz47LYA+1x2/3cfq98098/yZg1DXWlFnN3N6S0al4KO/FgN+z4MgVdq3uK2/aCqkosKTCq9thprbqgaTqqKrd5fx7E0LUnAas2MSnUi8Hbbbuf/dhlvnK5TXRdIxAIIqXEqFm3dy239QDts58j9oTRnFigNcSptW50PQ66rsj4MMd5e5yhRFXrdYbvuaUtaGI+nvtdUWB8fIKRkRGCwRDpdJojR49w8MBeNN1FOr3ET37yE06fOsULL5zB5WqG2N3vPPAkImWVGzdGGB29Q1eqk/n5Bc6cPs2BA3uoGibjYzP84he/4O233+LIkUOPdIXLnsPuLkzQbDeNuXDLb6jPV2CvFjWqpOz4aLE/tI1H0T5cWubl1uPWK4+0GoRfl9bnh2kaGEZLuIKgmcjeehwpG4mjX/f4jRdQJBsb62iq1ii92Hovq6o9Nu4He7y2z1d3b4OFoggqlSrZ7AZerw+fz7dtu7v47B4Kjyl0wX6rsJfR7nY2dy9dJKUdAG0bw/Wan7Lld9s3rn9i1YLwQsEg0Uiw0c31DrYsO2Zsq2fhficEe7vapNtQm2qeV/Mc6nE1todXp36B7e+0TtI7xRI+mJb5gwyQ7+ZD/EGpB93bS/TfzOiArS8xD//3TzI7KRHthhBKTcnoXl+EneJo69RXHVRVQ9OpDfBmaIG92PH1X9jspTt1hwfvzqEZO52AruvEYrFGm4QQuPS7xTs/SPuo1brc+fnQiJgQ28dzvVrDw6b9OKJdUvguyB3m90eJqsLk5AQzM7O8/fZbJBJxgqEQEtsLoqm2sE8gEABZf8H5bo7NVizLYGJigqWlJV49+z3isTg+n4+qIamUDVRV4ZVXvkcoHHzkYVzNMfowrnv9YdG61L7bTmUjGbN9+2a7djzCQ7g5W/ehqlrNeG1pmdy5Lx6W4acIhXgs1ggX2Ipp8oDX/cH6xLJsWXfbm7tbqMMD7fKBeazuu/pJ3u3nbmx9eG/fbrvR0PavmiFbrTZ/KhX7T9NkxziYB0M0fu42cOrGzf2cs8PDxJYuNQwD2/N0d0PNvtUsLMt+A3/Yc55tTJlYlgFYLS9u342b4uvcu/d8BtwjlKRtOdna/gyoJ75+U9pXUh58n1vH9kMd5zs+N757L6o7GeOPEimhv78fTdM4f/4CbrdOsiOOIlQKhQLZ9XXCoTB7BvrtZJu2e2D3yhBPOoqisXevXcf0s8++IBQKkkzGyaQXuX79FtlstqFs9Th4ONddtIzL+3EWiB1+trdp68+jYutz60Ftofuh9Ry+eYje122D8q23AR6zoWuz0w33Tbxa995fzVHf9t/dt/s67bnf/TzMc3d4UKRlSyPf60FmmlWWlhcZH5/gzp0xpqYmyedyD60dhlElnVlgbGyckZHbjI+Pk8vlGvFTTyf3O+52GxPO2HHO/+uzmSuQSqX4/htnWVzM8MUX5yiXi+TzecbHJvnt7z7g4w8/thX6WtQ7v8tIaVEslunv7+ONP3qVyclJvvjiD0hpMjU1w507d6hWily7dp3f/vYDDNP4Dpz2g87ZD9vmcPiu8dhCFxwcngTqsYtKTQ1qJ4Sw5VJHbo2Sz+fRdZ2lpSUGBwc5dXoYTf1mIQ9CQC6X48b1W3YYhaowOzPLiRPHOXHiOOo33L+Dg0M7qgpzs3MsLi4x0NtJT0831aqJlNj1lRWJrutUymVa4z+/A1bfXakbtMvLS+zpS9Hb01tL2FLo6UnR25uiuyvOymqWGzdu2OWuNPWhxKY6ODwpOIauwzOFZZm12oRKzdCVOz7UhRAkEnH27tuDS3fxq1/9mpmZGY4fP4a+RTb3Qaln4KZSXSQScUBw584dMplFDMNwDF0Hh0eAUAQbGxuMmyaBQIh9+/bi8fjwePz0dHcwNzvH9NQM9Uz5R+3xs2rJlI+yhJkQAk1TyW5uMj2nkkwmOXBgP0Jo9PT0ACZT0zNkMhnOPHcGl1t/bOfv4PC4cAxdh2cGIWrVP0wTVdvdoyslBINhDh0KY8kqo7fv4HK56evrfSgJbPb+gxw5chjDrHDt2k1CwRC9fT21QtwODg4PE9OEwcFBent6KVfKeNyeWvlH25hTRGt2PLQWtn8UCAFr62sszC9w5MgRFOVBq3vcLypDQ0P0DwxgGgZut7uRRCqlSTq9wJXL1+nr7+X555/DFgL57sV7Ozjcjae5lpSDwzYMs4ppWbUKAK1xWhKh2GVW7InOjtOdnp5lfHyK3t4ejhw5dM8EtrshhL1/RREoisAwqoyPTzE1Oc3BQ/sZGhr8zheod3B4UlEVFY/HQzgUbgj1gF27uVIxqFSqlMtlyuVKTeXq4Vq6rap0igIL8wu8//77tZwBeBSJqPWELY/bjd/va1G+tFhaWuKDDz6hUqmwf2g/c3OzFIvlh3p8B4cnAcej6/DMIAQYVQPLNHG5dIQCsiahWKmU2cxlqZTLeL0+/P4AMzMzXLt+g3gszsBAH+VyGZer0qYKc7+USkWy2Q2qVXv/gUCIiYkJbty8SXeqm45Egs1sDlVxfa39Ozg8bSiPIR9MCCiVTaZmF2zxHlVlemYej9dPOBy0nxEPyfa0pVgFigKaZpfEKhQLCOrnqmBZzVrpD+u4O5WyMk2D6Zk55ufnGRoa4tKlS5TLFTrf6ULX76883P3SkKDduXUP70AODrvgGLoOzxSGWcWyLHRds/NuBRSLRe6MjbO6uoppmHg8Hnp6uhkZGWVudg5d07l8+SrhcIQTJ47fl0RuK8VigVsjI+RzeQrFAl6vl4GBAW7eusXKygpej5eFhQWSySTDwwHH0HV45rEsi0wmTaGQawhf7ETrx/Wo0gexDwVQLpvMzs6hairxeIy5uVlAEokG7HroX/ckWrBMi3iiA1XRWFiYR1Eks7MzlIpFbt68iaYL3C43fX0DTE1N22IsO1j5u5mF99vGev9YpslmNktvbw+VaplypYTf72d2dhpVu9uRHgBpl3CMxzsIhUJbatg+pGM4ONwHjqHr8ExhmrY6n1aTOhUCNjbWuXb1Gv6An6GhIUzDdvOmUil0XUfVVCzTJBIJP3CMrqLA+vo6V65cobenl96ebkzTQlUU9gwMEA6FAIHLbRfUdmJ0HRzspNE7dyaYnZ1tlAPcim20WRhVW0VHq4UjyQd0hdovvKLhRi2UioyO3Xng/dwNo1pl+NQwoVCIa9eugxAsLi5SKOS5fv0aiqoQCARJdqa4cPEKpVJp13Oun2O5UkYRCi6XC+trtFVp1De13be53CbnL1ykrjb4TZGWhdfr5dSpYSKR0GOReXZw2AnH0HV4prBqwun1WFgpbb3tQDDA2uoa5XKZffv24vf76e3pIZ8vsL6xjtfrJRaN1pJGHuyYXq+HSCTC4uIiyWSCffv2out2UkggEKRcLuPxeEilutB198M+ZQeH7xyKotDb200w5Kutt7d7awWQyxWZmZ1FUSTlchmv10t/fy9uj5sHjXW1k7BobLf131+LlsZapkVHRwKf18/w8AkUBUZGxsmk05w8eRJNtyWsdU3nwIF9GMbO9WyFhPVsnunpaRRFoVwq4/P72T802KIO9mQgpS15HQ47Rq7Dt4tj6Do8U9Q9unVD1zQt/P4gp0+d5OKFC1w4fwFNUzly+DBra+vcHh1lcmKSAwcO1GRdH8zTUa2a+Hx+Xnz+NF99dYEvv/wKr9dLoqODkZGRxv5mZ2c5evQIR48eRdMcr67Ds0kzWUtlcHBPLXZ1+5hTBYxNzLC5maezM8Hq6jqTk1N0d3czMND3UNTxvilbpV1N0/4sGg2jqZDLVXC7PRw4cBCXy04SM004eeIksHN8spAWI3emWFlZ5cCBIaanZhkbH+NP/viHBIP+huDMg3lk22NoH2bFBSnBtGTN0HVCFRy+HRxD1+GZwjRNJHboghBQKhWYnJzG7VLZs2cPa+tZNjdzVA2TfL5ALpdjdW2VbDbb8Cw9CIVigfHxcUJ+L/39/Swtr1IslhBCoaOjg0QiBijcuHGD+fl5Dh484Bi6Dg7YRt9unkBDgMfj5dChg/T1JRkdneTChYtkNwtUq7JhJNb/bDUAH00Zr50RSl2qunlMw6h5O3WdUDiMaVqYpoplycbv622ut7e1rQG/n+GTJ9i3b4BqxeSjjz4iny/j8fhr/SVRanq+97P61KybCyC+dgJg6zm2J9M5Bq7Dt4tj6Do8M1hSUjVMBALd5bKTMiyTtbU1CoUCHq+HPYOD7BkYQNd0uru7UFRYWVlB3EMIXrTU4aw/2IUApCS7kWVleQVd1zl85DDdPT2EQyEi4RBSmty8OUIoFKS7O+XE6Do807QadHczRKWEeDxBMplgc3ODyckphvYPkezoaHhzhQL5XI5CoUAwGMLtdtfG6KMRQ6g7kS3TNrRXVldRFIhGovVvNL5rWdDV1cUr3/seiqq0GJu7pdfVP1dIJpMIJcHS0jKjo6O89NJLhMIB+wi1PsvlNikUCsTjHbvWC2+0u63M4tc475ZNq9Uq2WwWl0sjGIx87X06ODxMHEPX4dlB2uXFEKDrLixT4vX6OXr0MLncJghBOBwh4A8ghIKuu9A0O8RBIHatdWSaJisry2iaRiQSbfOm+P0BTpw4Tj6fQ1EUwuEIHq8XIQSmaTAxMcn4xCQHD+7nwIEhtG+ouubg8DTRkiPW+LctdmD/PbuZ5erVGwih8uILzxONRhrf29zMcmd0DE3T8fr8eGv2npRNQYT6vh5GOzc3s5RLZaLRGEIoFAoFpqemGRjor6mQtXppIRqNEA6fbBrmLeEWds3terkxpVYSrP47ycrKGucvXCYYDPDqqy+j6zrSAoRkfW2NkZFRYrEo8UQHigq09Bk8pPJhAqRlksvlMUyDcCiKlBZra2usra0zMNBPZ2en8zxz+NZxDF2HZwYpJaZp2ZnKul0iTFVVYrEY8XjMLtduNSc+Ke2MZNM0sSyzVuZo+1PbMKpcuXKVUCjE6dOn2jwoiqIQiYSJxsKAaOzfsiwmJ6e4efMWyc4kvX29VCpVXK4qqrrTsHSW/xyeLUzTZG1thVKpSCQao1wukc9tEg5HCYVDlEtlvvzDVywuLnH8+HGKxQJra+tEoxGEIrhx4ybFQpHDhw/hdumk02nK5TKJjiS5zSz5fI5EIom/9mILraEO999Ow6iSyWS4fPkKpmnywx/+0Jb47upkZWWFc199RSgcIhgItnmpbcNzu7fVkhbp+XkMo0Jvbz9LS0vkcpukUr34fF5yuU0+/uhTCsUCr3zvFZaWFjEMiERDVKtVLly4hKap9PV1Y5ommcw80rLo6OhibW2ZUqlEMpnC4/He5azu3gFSSgqFArOzs4yPT+Dz+jj72llcLhednUnW1ta5du0awWAAr9d//53p4PAI+PYj9h0cHiGtakRSSkzLQlEUVFVtLNnVk0Ass9XrIVnf2GBuboHNzSwrqytk0mmq1Urj90LYxd0RshHHqyjNgu/NNtj7tmoeGUWBfD7H5ctXSKcXyG5scOnSFUZHx6hWyy3bPnylJAeH7wJCQDa7wejoHX73uw85/9UFRm+P8dFHn3Hx4mXKxRxLy8vcHh2lUqkwMzPDuXMXWFlZRQjJ6soqU5PT9Pb2kkwmyJgaeGoAACAASURBVG5ucvPmbX79m/e5dOkyo6Pj/O53H3LlylUMo9w4JjQTVlvboqo7/ygKFIsllldWmJqaYnx8vKF0pusuhk8eI5/Lc+fOGIpy75AJRYW1tTWuX7/Jf/zHr7l+/Qbj49P85je/5+bNW6iqZH5+kVu3bqFpGiMjI3z++TlyuRyKIlleXmVs7A4nTpzAH/CyvLzM5UvX+PWvf8v16zcYGRnjt7/9kNu3b9eeUxLTNCgWi1QqdVW0Wqytsvs5SynJ5woszKeZmJhgbm6uLqZMOBxmcLCfbHaTqakpHLFHh28bx6Pr8MwgpcSyTIQQtTJhFoZhIWX7Op4Qdjzv5mYOo2rQ39+P2+Uim90gGPIjFIG0JMVigUqlRLFUoVgsknPlyGQy6LqGx+PH6/W2Gdr1fdsiFSVisSiaplKulLAsiculY1kW1WoFRVFrIRCOJ9fh2URKSSgUZmlpEUVROHPmFIZRZX5+nmLpMB63m+fOnMa0TKQFkUiEeDyOpqnMz8/XVlOCtmy3JYnH43zwwQdEwhGGh49x/kKOublZTp8+hsvlpVAoMDc3Ry5X4MCBA/h8XoSAtfVVVleWbQO2ZTy6XC5SqR50XWP//kHSC2lG74xSC80HwO3W6Ep1MTkxwelTx4B7WH0STMMgmezgl7/8Jb29vZw+fYKPPsoyPT3NSy8N4/f7OHv2FST2c2j//iGi0TBIi5npGdxuN9FY1K4HDoRCQT7++GM6O5PsHxrk3LlzTE9Pc+bMcRYXV5mYmEDXXRRLRRLxOPv27UNKk9WVVdbXVlEUu9RaPRfX6/XR2ZUiFApw8OA+stkshWKh5bqB1+chGAwwOzvH0aNHHup94eDwoDiGrsNTTetSoSUtLMtCKAqqprC5ucH16yMsLS3tmLBhWnbIgqIIqtUKIyMjjN4ZRdd1+vr6KBQKzM8vUKlUmZ2dZWVlBdMwUTWVAwcOEIlEGL09SnYzW4vxpTFR2kXabY+tadoT6PT0NFPTU2iaxskTJ+lKdaE8AWWSHBweN1JCIhGnalQJBAIMDe1jz54BLl26RDQWw+XyEAyGiUZjZDJpstkc/f39+Hx+VBU2NzfRNBVdt8t2dXQkKJXL+AN+Dh8+TF9fP5qmk0x2out6rTrKBBcvXmR9fYPu7m58Pg+KIlhcXOb6tevbDN1QKEQ01kEg4Mft8qJp28eqlBAKBpmdncU0Zc2ru3uinZ2klsQ0LXRd5+TwSfr7epBSkkx2AgK/30cwGMSSUC6XiUTDeH0+2zhdXcXn86OpULVUOjuTbG5u4vP5OHHiBJGwH0WxE9qQJouLS8zNzXH48AGmp6e4cP48f/d3f4fPpzM/v8DtkdsoqlI7Fzu+uKOjg2SyC7/fh7QqLc9OO3FOSlAVDbfHw8ryMoZhPRHl3hyeXRxD1+GZwTItpGWrkimiKfzQKLS+RT9UVVQ0VW3G5UrbWEaCpmpEo1EUoVCuVFhYWCAQCNDT242maoTDYfsY7DyxKapSmzTrJctqnt+a/SuRbZOqg8OzhqJQk8tV6ezqYHMzx0Z2kz179qIoGvl8gdnZOa5du8rq2hrhcASfrxkPappWo6yYpsH01CQ+r49UqoO19Sz5XIF4PI5hgGVJQiE/0WiE9fV16g8Cy4JkRwLt5NFt7XO5XLYcuCVRqCW2WbJW+7c11l822nE/6LpgYmKCUCjIQH8vmcVVVldX6enpoVCokE4vMjo6xsGDB1hYWeHzzz7j7//H/yAWtWNuzXqMFCClwfzcHKFQiK6uLqZnZsgX8nR391AoVulKJYknInR1xllaWuP27VGklCiKRk9PN36/p/05JGyPrqKotuHbPFBtBUrWXt+lndvgZKI5PAE4hq7DM4GdtWxgmGZN/lcQCIQ5c+YMcheJUZv2B3U9DEFVNRRFQVEFxWKR2Zk5YrEYz505g15LdLMsy05yu6uk5m773xLo6+DwjGGaFpn0Ij6fj2DAS7FYwqgaZDJpMospopEIuq7ZHtlCAdO0C9BaEkLhMDMzc1SrZm3sS+bnF4jFY/h8LrLpVSxpMTs3RzgSoTvVxb59e8hkFpmenqm1oFYdoZasunU41mP7q9UK09NLpNNpstks4+Pj9PT04ff7AUE2u0k0Eq1VT7j3mLYsmJqeIpVK4XYr5HKbGIbB3NwcHo+HWCzCiRPH2b9/kHK5wgcffFiTQVbo6EgwNzdLteZFNaoGC+k0XV2duFyCYqFIpVxhdm4WTVfp7U1hWSazM/NkMmlefvklAgEfoJJIdJDs6Gi0qzVRzzAkxWKJ6Zl5lpaWKBTyTE1N0dHRgd/vwzKrFItFgoEAqqo4ymgO3yqOoevwzFCtVjFNE4/bjVAECqAoetsEdq+s6+bn7V9QVGVb+IOiKCiK64H23/xdzQuEY+86PJuYJnR2dpHs7MTvD+F2Wxw9ehSwlQ19Ph+xWJj19TXm5xca21km9PT0cv36DVZWN0gkEoBCb28vfn8Al+4hGo1y/PhxvB4vLpeOoihttbDbkkktMNkdCaysZUkkOvAHAmxs5IjHy4RCPorFCouLi5w8ebJWLuzeYhWGAX19fYRDIUwTYrEYL7z4AgBut4toNEJnZwdra2tMTEzw4osvEgoFsCyF/v5+zp+/QDq9SG9PF6DS399fM9RtkZrh4WGklHjcHizTZGEhzdWrN+jr6+fEiWMIRbFXle563oJK1SBfKNPV1YVpmmxks0QiEYSwyOWKFAtFjh076jy/HL51HEPX4ZnBNA2kZaHrGoqwH+KWZVKpVtFUBUVRKZfLKIqC2+3m7olgtTqcFmiqzqGDh/B6vQhFbTNiTdOkUimhaTqqqlIul1BVrSYMUReW2H6cdkPYmSkcnj0URXDkyCFAoOk6HgQvvfQiUkrcbg+qqqKqrUItzZCBaDTM4OAgs7OzhEMBOjqSDA+fRCgqQtUJhdycffVVhCLweX0AFIsVcjWBiUKhgGEYLdVZdkfTNHp7e+jp6bHrY1smHreHQqHEjZsjRKNR9u4dQEqF+xGrkJLaypBGtQqhUJgf/uAdXG4XXo8PKSXr6+ucO3eRYCjIiy88h6bpWJYgFoty6NAhrl65gt/nIRAMcebMaTRVwzQVEokEb731Jqqm4vN6WVpa5ne//whd0xkaGuLO2Bjd3d3EYjHkXb2wEq/Hw9DQPob272tEfbldblZXN5iamiWeiNE/0Od4cx2+dRxD1+GZwS4bBLpuy/8ahsHCwgJ37ozh83kJh8Ok0xkUReHIkUMkk8nGQ7pd0rKJlBJV1Th8+BAAqtKsx2mXPZplYmKCSCSCz+cjnV5A03SOHDlMPB6nzQks2uv4Ogauw7ONwO32tI07n882Sm2hB0nVkJQrFcrlMpVKBdM0EcJeXTl69DB3RsdYW8sSCkXx+71IWdcGhkAg2BjXhlFlenqWjY0sHo+HqelpvF4fHR1x7lUpQREKwWBo2+czs7MUi0XOnDmN3+9vHPt+PJxer7ftPMPhSO35ICkUcnz44SdUqxVeevll1tbWkFIQiUZQUDl16iRXr15nfj7D/v1BvB5vYz9CCEIhu62WZZDOLLGwsEB/Xz83b96gVC6TiCe2pitsvzJCoGk6oVDdhLBPqlqtsLa+ga5r7Bs6isfjvYfB7ODw6HEMXYenmrq3R1Fs761lWXb8K6Lmba0yNzfH2toaR44cseNtZ2cJhwO21KaASqXM6uoamqbbCWg7VGjYSeTBMEwqlQpz83OMjY1x+PBhstks8/MLdHQkiMVirKyusb62RrlSwe1y0dWVwuv13Vcsn4PD087Wl8vWf1uWydxcmqXFZSzLYmZmFr8/QCIRRwiNgD/I4SOHyedyqJq6y4uq/acQCm63zuEjhzh4cH9t1UW773G40779Pi9HjxwhHA63GLlfb3915WIhJHPzaa5du8a+fXu5cf0GS0tLvPbaWaKxCBJBMBhk+NRJNjezOybCNZXKBYlEnDfffANVVZGWxOVyEQ6H79sL2+oIsP9UiEYjdCQSBAIBx8h1eCJwDF2HZ4Z6Ifi6UarrOt3dKeKJOIVCgT17+ikU8iwvL9cmJIvV1TXGxycYHb3DwMAAL7zwPK06K7tNXFKCy6XT39/PyMgISBgc7MPrcbG2toamKZQrJa5dvUG5XMbr8zIzPcOhQ4c4duwwuu52pDMdHO6BlJKBgQG6urrw+rzblMdcugt3LNb05O6Cqqr09vWhtMTQf1N54Fgs3tjXN2HrM8bn8/HKK6+gu3Qs02LP4B6CwVBDkEZKOxzD7/Nimq3GfPt+BCqdyS5Sqa7GZ+0rSg/eNlXViIQjtXbc/34cHB4ljqHr8FRTfxALYVdBsEsNaQ35XyklpWKJrq4uUt0pLpy/gNvtJpFIYFmSQqFEPl9geWWZYCjYFg94LzRNo1Qqsbm5SSqVIh6Pc+PGTQKBAJFICEUIIpEIwaCfUCjM7ZHbzC/Mc/DgPlwux9B1cLgbiqLS09NNb28vQgiktGoRsO3G1/2Oo3slnT0oj2L8WpagO5WiO5VqCy3Yfs6ypvJ4H1UeHuZJ4xi4Dk8ejqHr8NRTf+gbhmF7dDWtUc1gY2Odzc1NBgb6URWNtbV1isUim7k8uVyejo44mqawkF54YPEGIWBpeZF8IU8kEkYIneXlNaSUrKys4/UFOXr0CJommJqawePx0NXZhaa5nAQOB4d7IIRoEyIQQtkhqv3pCgGqy5bD03ZmDg6PDkeuxOHpRNjxbCAbCSd2TU3R8JbatW5NYvEYnZ1JVFUhHI6gaRob61lM08Lr8+DxuFFErQbmA84u1apBV2cXiUQCXdfo6EigKAqbm3ks06rJlaa5eXOE/v5eDhwcQtfdj6RLHByeNr5peMHTiyMf7uBQx/HoOjx1WJbF5maW+fk5dN3Nnj0D6LqGYdiGrq7rdp1ICdFojOefP0MwEETTdI4dO0J3dyehUIRAINBIPbbDHiSKEA3DuVlzc3c5z87OToKBAOFwGFXVOHVqmI2NdaLRGH6/r1bD8jo+n4+9+/ZimSaGUUHTXI+ruxwcvrM4SZsODg73wjF0HZ46yuUSmcwily5doVwu4Xbr9A/0NQ1dTW981+8P4A/4kZYd3hCPx4kn4iAFUkrW1tYZGxtneXmZQqHAxOQkPd3deDy++2pLOBQm0pLFnOjoIJnsQAhBoVDkq6/Oc2fsDn29fSwtL5GIJzh16gTBoMvxVDk4ODg4OHxDHEPX4alDVVWSyTgHDuzliy++4urVayQ7k0hsPXY7Cc3+br1sTz0ru1kup6l17/H4OHnyJEKxlwOte3hyW9m6tCotiYmgJj5Ed083Xq8HTdOpGtVaiIPjzXVwcHBwcHgYOIauw1OHy+XC44nhdh8lnV5icnKK6elZYHsCi009HKFpkdYzloPBIENDQ22/17RvMmxEY/9ul5tjR482wiJAoGlamyHu4ODg4ODg8PVxDF2Hpw4pwTTB5/Nz6NBB5ucXuHr1KqmuFIqi7ij4ADt7aG2Z0bsrIz0IrccQQnG8tw4ODg4ODo8Qp+qCw1OH7bW1wwx6envZu3eQ6alpRkdHa4arc9s7ODg4ODg8CzgzvsNTi5S2ZvyBgwfweDxMTIwjBDuELjg4ODg4ODg8jTgzvsPTjYSuzk4OHTqAz+cHJLtELjg4ODg4ODg8ZTgxug5PNVKCy+3m8OFDKIpGLB7/tpvk4ODg4ODg8JgQ63knv9vh6cc0qxSLRVRNxef1O1UNHBwcHBwcngGeAEP3bod/dKo39eT37Wf/7bTn6cTuS0URbUpiNo+/L3e/5k8K3/Teu58Tc+5hBwcHB4dnh0cWrSjrlfjv79vUYydVtdUgkVuMI2rJRDv/KKK57U7b1/+tKFAo5CmVy0hpbWuNaNuPrG3XbJsQd2+nvc/dz10I0LT2tj4odhvkju3/tqhfv3qfAVSNKpnFDEtLi9z//dCk2Vfb74W70Xqt69XBtoo3fBvsfE9aLZ/Vxk3tHmuNJ27dVgh2iTVujjtFafZda99LKRGK5OtWTauP7dYx4ODg4ODg8CSi/r//3//6Xw97p62TcasHqdUo3YplWaTTC6yuruJyeVqK8kskFtWqgWFUMUwTw2j+mLUfyzAxDQPLslrKS9WP2/y7osL62jq///0HqJpGNBpBUewZX1HANE2qhoFpGiBAUxVAUC6XmJqaRFFUqtUq09NTgMDjcdeP0jiOEGCaFlWjirKlHULA5uYm4+PjCKHg9Xra+qiV3frLsizm5+dYWVkhGAzdtVxW3RhpNfDqxiPYn1erFa5fv87c3CzJzk6UlqoEdUNxq4FYN9TrnxtGhfn5BRYW5vH7A+i6BkgW5hf4t5/+lLGxMXp7ewkG62EDzb7a6cWiTj6fZ25uFsMw8Xq9bX2820/995Zlsry8xMrKKrqu43I1pX/t49zbULObcv9KaHdrV31z20Btnkdty7a2Z7NZJicmMAwTj8fbVvtXUQT5fI6lpSU0TUPTNcTWe0hAOr3A7OwsbrcH3eWqfcc+zuLiIplMBq/Hi6pqD3yO+XyeqalJhFBwu933tZ2Dg4ODg8Pj5pEko7VO3vV/CwHVqoFpmWhqu/qTEALTMvniD1+ysrLKj370I7pTPY3tMpklPv30UxYXl7YZzyDr0zdCCDo6Onjl7Fni8di2yVcIgWmYfPzxp2zmcgQC/oYBYUmL0dt3uH7tOsvLy4AkEo1w4sRxDuzfz/r6Gu/+/Be8/vrr+P1+fvazn/H6669z6tRJVEVvO46uC65evc75Cxd4+6236enparRZVWF+YYF//ud/5c033+R733uBrY51TYNyxbSNbUDTdHRNwbJsw8uyDD799DNWV1f4h3/4R3YW6pJUDYPR0XE6kkmikQiWJRFCUCqXmZmZJpFIEI/FyOfLfPnll+TzeY4dP46qKEgpsaRFOr3I+voaA3sG8Xl9SAmVSpnx8RlAMjCwF11XqVRKXLx4iYmJCf7qr/8Kn9+LZdr9upHNMjs7S2YxQ6o72ZDZVRT799WK/VKhazpCAWk2lcrm5uZ5//33OXbsGK+efRWBbeiblom0LKgZ2623haqoaLpGqVDiwoWLpNMZ3nzzDQKBfkyz2UOKAuq9POs1o9ySYJoSae1uDFrSwjTMppe9ITPcbGCjndIuc6aqauMFyPbgClQFlpcy/Po3/8mpU6f5XiyCy6VhWQLTtL83NTXNp59+xuuv/xF79+1FCLX2UiLA/p8bN29y9ep1fvzjHxOJBhvGsGkKLl28xO3RUf7rX/5XUqmuhgTy1tWKrRiGfYyFdJp/++m/88Yb3+f06RMI4QhfODg4ODg8eTyiqgvtXtxSucTo7VFu3LxJNpslHotz/PgxBvb049JdIGzjZXFxkXQ6TblcpnUHshE+YO3ohZOAkDA5OcX8wgInh4eJx2PbWqUokFlc5ubNm3z/+9+nM5lECBVVhTsjY7z77s/JbW4SCoVASObm55iYmOC//c3/iWFaTE9Pk8ttIoRgamqSzWwWQftSsqKAS4P5+Xk++eQTXn75Zdy6wEJgWfb3CoUCExMTbGxs1Jbk29t5+fIVbt66zfraOghIxBMcO3aY/fsPNgzAdHqBTCZz16uQz+f513/9Kd///hu8dvZFKlXbAspuZPm3f/sZr519lddeexkpJdlsllwu13DRCgFmtcyVK9e4eu0qf/t//TeCAR+mCcVSgY8//gTTtPjv/30AoahYlsn6xjqLi4sY1WrDyEsmO3jllVf49NNP7ZeRWtssaZJZWOTK1avMTM+i6zp79w5y7NhRItEotq0oKRQKzMzO0NPb07iG6+urfP7FOSYnJpuqZcI2Iz0eN8ePn2B4+DjSMlheXmF+fp5Sqdh+z0jJysoqC+k5TKN6l16044sDgQCpVDd+f2DHb6kqzM/M8fkXX7K0uGR7j4XANE2kZS/1C8U2bKUlqVQr7BnYw0svPU8ikSCXsz3XudwmqioYG5tgfHwct8uDS1dxu924PR56e/qJRgNsbm4wPj7Gc8+dqQ0AWFhIs7iUxjQNBIKbN24xMTHBlcuXWVlZAiQet4e9e4dYXV1lZmamNtYkQigoCiwtLbGwMI9Re8lq6TBUVWP//oMEgx6KhQJTU1NsZDdoDZdwYoAdHBwcHJ4kHml5MSHAMKp8de4rPv74E6pGFY/Hw/TUFJOTk7zzztscOnQQTddq3xcoQmmfKiW43W66u1P4fD52WmIVgKwZyqbZ4lHbgqJAbjPL2toaFy9epKenm87OTkDhxo2bLGYW7TYdGERVBKPjU/z7z95lbHyC/r6+RoiA7WkWDU+cEJAvFJkYv0OlUsGlqczMzGIaJiO3RigXc5iWJBAIcuDAEAKBoiiNbZuebfj8iy/4j1/8AqEoRCNRACbGJ7h85TJ/8ed/zukzpxpL/3Xhg93iTquVKpOTE6ysHKdqWJTLVYSAXG6TyckJjh8/Qj1KQVEFmqbgcmvoGpiWQEqL9Y11FhbmyefzVCoVDFNSLBRYXMwgFAVNU9E10FWBpmkoqn1e9YtoVA1KxRKRSJSuVArTtN2ZmUyGX/3qV4zdGSMYCmEaJqN3RllcWuKdd94iGAhiGLVYU6E0r7cAS0qqlSrlcglV1ZBIBIJcbpOVlVVCoTAnTx5r3CdbQ1nsPpNMTU3z29++Tz63iVBsM3xrHLBEUKlU6O8f4Ec/eodgMNjwSG/FNC0q5Yr9IjOZoVqpkkql8Hq9AGxsbJDOpInHYoTCYQyjiqzFpm9sbPDJJ58xMTGBqilUq1WklIyPj7GwMI9pWSSTnfzZn/0p8VgARamFOrTcg7dGbvPZp59SKhfRVJV8vgBScu7cOS5cUDEMg1g8zt/8TQdCiIbnvv7yqGowPj7Be+/9EsM07JeIWndYloXH6+Ef/zFFMOi2Xyxq97CDg4ODg8OTyiM3dBcWFvjiiz+gaRpvvPEaqVSSsbEpPvzwY/7why9JJOKkUqmWjdr3oSi2YXb5ymUymQy6rrfFK1JfFZaSzc0siURHW3xv606lhFAohM/vY2RkhLNnXyWZ7GjEypqmSTqdJhL2oyiChYU0lmU1DJXdkqEUVbCxvs6vf/0+GxvrCKGQzWZRFIXPPvuMCxc8GIbB4OAgg4N7duwnocDCfJp3f/YuoVCIH/zgHTo6okgks7MZ3nvvPd599+cMDe3D43E3jO27XwBQVZUvz50jnU5j1tbt8/k8hlFFVVq9oZDdzHL+/Hm8Xi/9/f24XQqqopDLbfLzn/8cf8CPtCTlSpl0Jk04FOb8hfO4dIVCvkAms4DSYnxZlkkms0Q6k+G5554jFosipaRUynPl8hVGb9/m9JnTnDkzTCFf5PMvztkvIN3dvPTSiw3vdSvSgmAwzCuvvMRzz51sGloCxscm+e3vPmycZ2s/bO9zhVSqi++9/DKVStk2hqmvHtibCEVgmCbnz19kdXWl9r2du9qyIJlM8vbbr5MvFPnVL3/Dyuoqb7/5R6S6uxDAtesjvP/b33Py5Emee+4U/oCfUDCMadoe45PDw+zZM8Dm5iaZxQyFQgGX7iLZmSQcDuP3+/F5vZTLBtVqla3JfQMDA6iKoFKtsLK8zMrKCpVqFa/HS0eyw773vT4CAX9LPHBLbDD2WFtaWuKVV16hq6uzcQQpJbqm4/f5d+5QBwcHBweHJ5BHauhalsX4+ASFQoHX/ug1Tp8+jcfjIZlMsbS0zMjIbebnF+jsTO5qtAkB5XKZhYUFcrkcnZ2d6Hp7TGzd2O3u6SESiaCoClJabJV6NU2IRmP8yR//CbncJslkJ0LYXqnnnhtmZWWFiYkJ7ozdobZ2zokTJxjcs4dcLrdrG6UlCQQCvPzyyxRLtjdtZOQ2586d48SJE3R3d2OaJpFIBF3fnuouJegqjI2PMzc3x49//GOef/5UI26yv6+f7EaWn/zkJ8zMznHo4N776n8h7MAKo1qlWCpimiYCQblS3uHLsLy0zM/+/V1isTj/5cd/QW9Phx2ra1k176lie1OrVUzTZGFhgZ+/+/NGjPXG+gaJRAJq1Q2EUIjFYrz80sv09fU0ktxWV9e4PTpCZ1cnb7z+Op2dSQzDQFFVlpaWuHbtGsPDJ3G7XTt4YsGlu+jqSm6LJS0VS3jcnh37QSiilmzY/Kyrq4tkMtkI8q07ohuvR4qgWq2yurrO+Pj4XftaSnB7vPh8XiqVKn5/gEKhSFeqi96+fhQB6cwyLpdOJBKlt7cPTdMwTbAsid8fYHj4BJMTk3zyySfMz89TrdrJjJb8/9u78+eqrivR4999xjtKV7OEEKMxNpMBh4BjiN124u5ObHcl/WtX/rLXv3XqVXel+nXSqffSVQ7YBPBsg4GAsWMGIUBIaEC6wxn3+2GfO2jCYJvYVtbHVYHonnumezlaZ5211055+umn6erq4vTp00xPT3P37l0Wq1XTui3b/pbNm9gwMsSHH33E7Tt3uHfvHmmSYjs2Wmt2Pb2Lbdu34LoeZNnrOI4Iwyi7ObRAKTzP48CBA+zYsY3WiWk9RVj6eVhKtUp21sp0CyGEEN+WxxbomsFnCZN379Jd6WbLljF8P0cca4rFAk/s2M6ly5eZmpoijKI1M5SmQ4BNPp/n/vx8K1O6hNZZcKWpVqvU63Xz+1lB2hxkg3ndcRz27dtLmqbYto1lK+7cmeLWrVv09fVRr9e5fec2YRDguA5hGHLyT39i+7Ztpi3TKvuYpiYjd/jwIbTW+L4JLN7/4H327t3L3r1PkSTm+BzHZmlNIzSLLKPQPK4uloq4jqKRxaO+71AsFknTlCg7V+1DXz3L3MyG6jRl/4H9vHD0CHGaYgG3J+/xv/71X0l1SpaABaDSU+HosWN0lbvo7qmQmtNKV1c3//gP/8DwYC9aa+bm5vk///1/mZud4+ixY3iuS73R4JNz56jXG+Z4skC3UqnQ01MxQbcGSJmdm+P+/Dz79++nf6CfONFYlsPI5lP4uwAAHaVJREFU8BAbNmzg9u3bzM7OMjIyuOpxNRoNJifvMDc3Y44x+3zHxydYWFxY9gZzHuIoIQhj0sTUmppMptXRsaL9majmf5YZQJlmEdyXZtC1Jk1plc9onZJqbQaxWabkollrnqQalbTrsy1bUa1WOXPmDH/5y+ds27adDRs2MDs3y8WLFzl9+jSHfvAD4jg2JSRxnNX+tr4+2I7FtSvXePPNN7FtmwMHDlAul1s3DydPnmRoaJCeXj/r3FDld7/7HaVSiSPPPceBfTtbuVrLtrLztLQ8plkW1Px5HCcEQWwG0dnOwz1pEEIIIf5KHntGNwgCCvkChXwz02aCxUqlG9/zqdXqJHGE464cta11Sr0RUyqWefHFF7l//z5kgc1yJpAF27IoFIrEUYzjuK36Ta3a5Qu27bT6vTo2jI/f5A9/+B8ajQZap1Sri6CgVCwxOzOL53nUG41WPWM799c56E6hlGnTZNtQrS6aGkydYtsWSnVmclf2GE4S2LJlC93d3Zw4foJiwWdwcASN5sqVG5w+fYrBwUE2btyYZc40KM2ypPXSc5Idc6lUYmh4A1Eco4BG1AzY29lAnWoqlQrHjh3F930sZREEVQCiKGJ6+p55sK819xcWCBohff0DHDt2jJzvcv/+PDP37nHlymfLWpm1zzto0lQTBiFaa3r7enBsRRhqtKXwfJ+eSoXxGzeo1WtZDao5znZtNtRqC7zzzrucPXs2axlmjiUIAoIwwPO81jaVUkzeucN///73VCo97Nq1i0M/ONRR3kJr2fHxccbHx9m4cYxNmzZhYTpUBEFg2nit3t4ie7/5LBwH0tTOarAVjqXIxqVh28oEhI6N51qoLMOsU42lFNNT0/zliy/Ytm07r/z9y/T3DxIHdXzX4YMPP2LPnj08//zzaBI+/vgcJ986ueRcp4nm0qXLVBdrvPb6z9m7dw+elyOsL1LI53j//Q+ZnZ2j0lPJvoGaMAxpNBokcbzieFaUjXTUvqvss3377bf5/C+fk/PzvP766/T29qx5joQQQoi/tsca6DbnjGgGVYb5sznAqLNZ/vJer2EY89bJt7h29QuSdFnd5ZINtVevtebTK5+xadMmjh47Snel0oopV2aaTLum4ZERnj/6PFEUkSYJJ04cx3Fsjh47yscff8zExARTU1NUq9Wlx7aGMNSM3xwnaNSZmLjJ/v270Hq17vztlaQpjI2N8PNXf84bb7zBv/3b/6avrw8wPU+rtRo/+9nP6OurEIYRaTYpxZclz5Ik4fSp00xMTJDE7RpdcywdkwhkNyCO7WBbza+F+f9BI+CPx9/E8zzT2iuJWVhYpK+vP2sVZwahgSLJWn49qIyz+Zmb1lq0FlZKZV0UNFonzeLrJfvZHOA4MzuD1ikHDz5LV1cXafaBuK7L5k2bsCwr+1qYDGoUhgSNBnEcr75vSjM+fpN33nmXI0cUY5vGUCjiKCIMQ2zbxn5AoGtZpsb59q0J5u/f5+7dSebn57lw4RJ37t5FKcXnn39BrV7jxvXrvP9+np7eXjZs2EDOLwAQxzFxFOPnfMrlEsWiT+q75LO2bnOzc0xOTjI7c487k5M0Go3WQLTm98Bk/BWlUplisYBjO+RzPRSKReIkJklMsKqz2vOf/ORlRkeH6OrqwV5eErTyJK34vkVRTKMRgFatzLcQQgjxXfFYA13LMo/q5+bqhGEItIPNxcVFoigkl8+bzOuywLHde9fUEFqWyYatviHVTN+BhiAMCMMwC6AfHAkmScrQ4CAD/f1mRH+ScuHiBWzL4sD+fdTrNe7cnmSxuojjONnEAz45P9eaaKI92C3FcRQ3b95mfHyckZERzp49y3M/OkJPpbdVc9vWOVsVOI7Hj48dpVQqceXTKyxWF7GUxZatW3n6qafYt28PdJRimPetHnFrDb7nc/DgQYKgQa1WM10tLAs/53Po0CE2btyIBdiWWU+apB2PqMFxfJ555hkqlUoW4Cam3MMyj/z7+vqwLEWaaixl091dYXBwENdxlyesl3yujmNSnPfvL7RarillaokXFhawbItcLrfmOlAKy7IZGBzk8OFDDA0NkiTthZv7qNCkWtPf389Lf/cCWzaPkSuU24PwsvPXDN7CKDTdJaKw9XocR0RRhOu6uKt8T9vbVExPTXHixFvcvDnO/YUFwjDkjeMn8HyTYa5WqywsmIGVly9fZtfuXfz9Kz+hkDeTaPT29TMyMszFixfxPIdNY2PMzM7xzrvv0tfXS09vD9evX2exWiMMoo62e1l3Ckuxbdt2zp37hD++8Ufu3p2kq6vM1N1p3nn3XQb6B+iulFvdJRzHYXBoiI2jm1olPg+4f1vSZSTVGp1qDj57kEMH92K7Ht3dXQ94txBCCPHX99gCXRMoOfT29vL5559z585dRkdHsW2HKIq5du0GcZLQ19uH63lE0fJHp+b9zx05xBPbtzJx6xZBo7HmtnQ2cUS+UGTj6Ag9PT2US+V2NnfNPVVZ8OWgdcr4jXEaddNz9dKlyxQLRTZv3szc/Bwz9+5xc3ycudk5ent7KRTydA5fsixFHCccP34c27J59dXX+P3vf89bb53i1Z//DMdxH5iBbfZr/dFzh9mz+0nqjTqWUuTzBSqVCrbjoNDESbtGcnlk0pyeVSlFPp/nF794HU0CWrO4GHB36i61apU01dy/v8CFC5fJ5Qvs2rWLKIyyzKxh2w5bt25m48ZhLl/+nEuXLnHs2POMjg6bGlOlsJTJyloWrcDrQRldpRTdlTL5fIEvvrjGwmKVrnKJNNXMzs5zc+ImlUoPle6eBwxuMgdtWxa+75LzHeIkKwPQmjiJiZOEJKth9XyfgcFBNo5tIopXPjno3DdlZe3IMMdUr9ep1WpUKhVyufyagW6SQKXSw7PPPssTO57g008/5dq1azz19FOMjY2h05RPzp/n1q1b7N27l5GREQYHBikUSub7q6G7q4sf//jHnDp9igsX/sy5c+dJ4oRKT4Xnnz/KU089yfbtW0jjiLNnz3P8xFutUprmOnbufJIXXniB8+c/4eTJP2U3L5qenh5efPFFKpWedjs7zI1dnLRrz5unw9zUmX8b5rxCkqboJMWy7NZylUqFsU0bUZbP8mYXQgghxLftsWZ0bdtix44n+PDDjzh16gzFYpHR0VGuXPmMDz/6iMGBQcbGNuDYNmGwsl2SUhaDgwPMzc1x8eKfTe/WVSLFZkYrCAJGRkbY+eQOBgYGSdMvHxTTWUOapJqPPv6Y6elpkiTh//3hf0xvWGURRxG1Wo0P3n8fnWqqtRpBo07z0bqyzKPbkydP8e577/Haa69x9OhhZmfnePPECXzP54UXXqC7e2VXADCPrZszoaGgWOrGcXzq9RrVaoOZmes0goDq4gLDIyNZZ4k1U56AyaZv2DBKnIR89OFHvPPO+8zMzpDEMRqFTlOUZVEsFNj+xHaOPv88rmsmNDCZTgvLMjNu3b5zm48++pDdu3cxPDxIFMfZdiKUsqjVQ+7PzzM/N08SJ2veWCil6O/vZ8eOHbx95m3eevMkzz13mMWqmYRi5t4MPzx0iFKpmM1EtsoxZgMPp+/d44MPPqbS3UWtHrC4WCUIAubm5yjk8+zcuRPbsludI5J0tSC3OQub6SDQ2XdXZ59LqVRidOMopVKptaz5zrR7OmttAt2Dzx5Ea1P7eu/ePfbs2cP+/c+gU1PbvLi4yJ7de9j3zL4s69zs3WsGxz399E7yhRznzn2C67oMDQ0zMjLEwMAQOd+0lfNcuH5jwtzstGZdM+Uv5XKZAwcPgIIwDKl0d1Mqlekf6GVwYBDHdlv7nrb2v30+TCeGmAvnzzNz7665IVpYJGgEVKs15ubmOHLkSOuGoHle1YNSwUIIIcS35DEPRtOMjo5y6Ic/4NSfTvHv//4fFApFZmdnsy4FP6S/f6A1UKkzzm0GE82WYEcOH6Zaq2ZBxdJlm0HmmdOnmZ2doxGEX6nVkaUUu3fvZnBwAJ2m6Gb3gObrloWlFNeuX+PkWyeJohA02I7i7tQ0p06d4syZtzmw/wCHf3gI3y/w0ksvMjMzyxtvvMHk5CS/+MXrKMsy3QCy9dq24vbtKX7zm9+YWa2ybG2SJASB6fFqRvJrHNfhlVd+gtPqHLA0pFzZjivl7Nnz/Od//hf5LHM70D+AnzN9g6enprl67SoffPABuVyOV4dfba5p6WeRdVv47W9/y/ETZTP9bvsDII5jJu/coVQqs/pwwfa6CoUS+5/Zx83xCY6fOMG5c+eI4pjq4iJ79uxl375nAMvU6S4JmZuBmYXruszOzPLGG8dxHKdV3+s4Dvl8nuLYGJZlZbXMS6XalGGkadKqIddaE0UxOuts0Wg0UJaiu9LDiy++QLFUIk5SiEz/4eZj/Gaw2xxoZllmamvXNfvkuQ75nEOaguvYWErheTb5nJMFipq4I8vs+y46TRkfH2ffvn3s3bOLfKGITptZW02Sguv5dFcqZuBdR4WOUlCrVvnzxYs8vWsXBw7so1Ao0Wwn1vx6mBIcD2WpdtVP9hTFtm1OnTptXs/Oq+3YuK5LsVjEtu0l9bjN9wshhBDfNY+xdMH85vZ9nyNHfkh3VxeffvoZi4uLbNy4kT17drNjxxN4nv/AgV0qy0xdvXaN27dvkabtwWutZUwPKSYnJymVy63HuJAuGwj35W7fusXly5doBI12O7FmYJ0FlnNzszSChvlln7VTmp+b5/Lly+zZs4dXXvkpXV3dJImiUunl9ddfpbe3l+l706jmQK/mE34FqYZ8Pk8ul8smAjBBte+bNlD5QoF8Lk9vby/lrjLDw0O8/fbb2WrWPnnNAPnc2bMEQcCvfvUrNm0exXXyZiparQnDOtNTk/zHb/6L9957j5dfeplCobj6+iwTCHkdg5ayXCSWstrT8a69R9n/2oyObuTVV/+RT85fZGJiHMdx2LrlCHv37s1qgtvH0N6SuXkqlbp54ccvsGvXLvMZ0exk4GXBWJ6uriJJknLhwoUle2BZMHNvhjNn3uGzK5+1ZhjTWjM1NcX09DRvnjjOhfPn28Fb9h3QwO7duzly+Id0d3eTprpVrzpxY4I7d25lgyY1V69eY3FhkUuXL9No1EnTlOvXb3D//gIX/3yJaq0GgOt4bNq0hd7e3tax1ut1pqamqNcbJnhWirSVSTYDKLdt3cYvf/lLRoaH6ewXrZR5snH37l22bN2aBd9Wqxa6eU4PHznMzp07GegfaG03SeCpp57mX/6lRBSbVne2ZeG6Ho7r4Ps+5VKe/oFeLl/+S+vcS5ArhBDiu+qxZnQBtFZ0lbvZv38/Tz65nTiO8DyfQqGMbbsd2aCVLbvAvFatVbly5VPCIGDD6Cie66762H737t309Q/Q3dXVWTrb8ZcH/0bWWnP12jU+//xztm7dSr6Qb/Xf7VQsFtgwOsrGsTGUss2AtqEhXn/9nxgaGqC3p6+1La1hYGCIn/70JRYWFukqFzraNKlWa6+urjK//OVrHX1KFUrZrf6kjuPgeTls2yaKQ9IkNdtYMcCt83jMkadpShzHuJ5HqdiVtTszr7ueTa1aQ6eaeFmd9HLFYpGXX/47dmwb69iI2Y3796scf+sMV69dfeA6mhzHY/PmzQwMDlCvLWLZFvlckVyusPQYlgXyWpubp61bt7B16+b2C8oEhFqrLAsJs7Ozq54ThcJ1XDzfWzLAcXR0lA0bNpjAryN6a32VtMZxmp0i2t8pnSZ8+ukVTp06RaNRRylFo1EnCAPee+99zn58DjABbBRFfPDBh5w79wlJktJV7uLVV1+lp6enXUaTrTeOIhqNEIVDkqbmhs4cKr6fY/OmTdj2Gv+ElSKJYxqNCKUaZv6T1iFpBvoH6O83XTOa/waTBPr6+unr623th5muWrWCbMtSdDZnkJ65Qgghvsse44QR7V+AaQqu61Op+K34YUVpgVo68r+zFtI83o3J5/MMDg6Sz61e55pmI8kXq4tUerqyNlkPF+SSLRnHsakjHeinq6vM0nAnWy4b6b5YrRKGMZ7nUSwW2blzp5nMYpUka7ncTbncjeOATrOBPR2vW5bNwMDw6vulO//UoBVJqrNg98EsZbNv3zP8+dIlfv3rX7Pr6V0MDZnShTiOmZqa5uoX15iYuMXRo8+Tz+fW7FYRBiETE7fMNL+6MwRV1Gp1ZudmHyF3DmBRLJQoFUut41txA6MVacqSjhXNyR5Ws/z71SxzMd9H0we5XO7iyJFDHDy4d0kf4pVFEivlcnmKhVK2P81BiBZPPvkk5a6yaV/W2sdm+7zsaC3VqsltTh7he147uO7YeBiEnPrTKT678pnJlDfreJuBebaOg88+y+HDz5LLlTr+3WiiMObMmbe5evUqzhqZ9jRN2bJ1Gy+/9DLlrq7WscDKc6vam22fW/SqpSFCCCHEd8Vjz+h2apcUrGQpRalUoqu7u6MxvwlM7Owx/uTkJAuLi1l7qJUras6S5bouI8MDOL7zwLKI1eRyOaI45ty5s2YWsyyTtVycJGzatInt25/Adb2sA4FaM0JqBauA63r09vaRzxWWrPtR6orLpTJhGH5JRs2UXuzes4t/jv6ZDz/8gAsXL3D2XGJqbLNWX6VSmZdf/gk/+tERlLJWPWe27ZAkCadOncH3/Vb9MtAalFSr1RgeHnqkLN/K74Ra8nfP9+ju7iafy7cymg9Fgcoeu7uu15pNz9ShulQqvaiOiSgefn+VGcjXcTOglMXo6AY2jI4suwF4qN3MgnazrjQ1g9r279/PzL2ZVmnF8l7QplY3zcpFln6HSqUy+/c/w+zsrBlgt9pxoEmS1Mxmtlbbvgftt7KwLRsr+75IYlcIIcR3kZqrPmoo+HikacrExE0aQcDohlEKhQJaaywLFhYWuX7jBgsLC6uULKwMVsbGxhgZHs5ahjV/+uW1ulprrl+/xvT0FEmadGTjWsWaS5btKpfZ8eQOvCzQfZissVIwNz/P9WvX2bBhhP7+PlbLoD1ImiZcu3adKI7Y8cSOlVMit/cy26gmikJm7k0zPT1DrV4nSRLTgiyXp9JTob+vj0KhvMb2YibvTnHjxg1Tl7xawlebbGCpXGLb1q3kC4VHjSFX7r3WLCwscPv2bSoV06P3UYLoKA65des2tVqNsY0bKbfqt7/ejn2Tj+uXd3EwNekBtdoCcRw98BuVak0+X6JQLGF1zLwXRQHV6n2SJFrxGbTuxbR5v+flKJe7sayHv+e1LJicnOKTTz5hx44djI2NsnTmPyGEEOK74TsT6AJLalc7ByE1SwUenCtrv2Yp09VgaeumhwtEtU5IO0anr/oYP8tgmXVaHdmshwuANBqdph0B6qMFTs0A3OzDg4Jk3fqz/UjfzBTW/EGzF65Z71rbMzcTrcfUnaek+ffsT4VCZW2zvgnNbS/9Tjz8e9s1z6s9jv8m9/Grr2/F4EqlWPPexbyjueSaT0nM+5uFuZ1lH8u3TTZb2qOd3ySJiaIQx3GzJzCS0hVCCPHd850KdL+atXbf/Lx5dA/ffWG1x9krM7rfplY3iC9fkrWPZbnvxrE9Tl83IH1c633U9z/s8t/0ckIIIcT3zV+1Rvevqz1C/etbfXDWt+XRApLvzn5/2x5XIPd11/uo73/Y5b/p5YQQQojvm3UQ6Mov6bXJuRFCCCHE3651EOg+DhIgCiGEEEJ830mgu4IEuUIIIYQQ68Gj9bUSQgghhBDie0ICXSGEEEIIsS5JoCuEEEIIIdYlCXSFEEIIIcS6JIGuEEIIIYRYlyTQFUIIIYQQ65IEukIIIYQQYl2SQFcIIYQQQqxLEugKIYQQQoh1SQJdIYQQQgixLkmgK4QQQggh1iUJdIUQQgghxLokga4QQgghhFiXJNAVQgghhBDrkgS6QgghhBBiXZJAVwghhBBCrEsS6AohhBBCiHVJAl0hhBBCCLEuSaArhBBCCCHWJQl0hRBCCCHEuiSBrhBCCCGEWJck0BVCCCGEEOuSBLpCCCGEEGJdkkBXCCGEEEKsS863vQNCCCEeN/2A19SyZdRaCwohxPfOQwW6aZqiNFi2SQA/6JK5Jg0qu342/9S69ZIQQojHylxptdakWmNbFmmSEAQhtmPjuh5KSZArhFhfOgLdpeFmkiSEYUQURVmgq1FK4bounu9jO3bH0g+6OGqSJCGOYqIwJIljUArHtvE8D9fzwFLZku31yOVWCCG+QUoRxxETN2+SJAkjwyPcuXOHhYUFPM9jYHCQvr5+JLMrhFhP1Fx1aV5Vpyn1eoM4SXAcB8dxsLO7/DRNTQAcRTieQy6Xw1IWa10QtdYEjQZhGGBbFo7jYFkWJvhNieMYrTV+Po/neUsCXdZcqxBCiEej0VozOzPNrVsTlMtlfN8nDCOGhwaZn5+nVg8YGhoily9k75ErsBDi+88BE5AqBWSBaZom5PM5XNdBa4VCdzzS0tiRTaPRIAgCfD+HtcrjLq01jXqdOIrI53K4rmu2kS2rtbnwBkFIo9FAa43r+fLoTAghvmGWUiws3icMA/r6+lBKEYYRjuOSy+VpNAIWF2sEjQb5QqFVViaEEN93S2p0gyAgyYJc23HQ2dVOZ9mA1psck81tNAKUCsn5uRUrDhoNkjgmlzdBLmppaQJKoZQml8+hlCIIAiylcD0/26YQQohvQr1R5/btO8zPz2JZFmEQ4Pk5BgaH2oMmsLAsC4Vcf4UQ64eaq6YaII4TojDAcezs7n+RIIiyi6AG1R7IkMvlKJVKJHFCkqT4vo9tt2PmJI5p1OtZPa/XcSFdg9bU6zWUUnh+LitvAHl0JoQQX1+SxNTrNZI44v79eer1Bn4+RxhG9HRXqFZroDWjG0dxPS/L6Mr1Vwjx/ZdFp5o4Dkl1imN7hGGEQlEul3FcZ8ndfRxFhGFAktXwRlGdOImXBLpRFALaDFh7YJDbDKLBcV0ajQa2E2NZ3mM4VCGE+NtkWTbFYgmlMLW5UYSfyzM7O8Pd6SnyuTyDg4M4ritlC0KIdcUBSLUmTVMs1W4hZts2vu+ZOt1sYQVEtkWcxGhtlkFBmiRZna9CazPIzLIUlm2TpimNRgNIsW0ne81CKSsLlk33Bdu20TolTRJwNZJNEEKIb4bJNyhAkcsX8XPmej0yPMzI8JC5xmuFXHeFEOuNScNqU4drBoKZLGsUheiqxrIs4iTJglNFksSkqUaZUlosZaFR5v0odGtdFkpBHCWkSUKqE+IoagW4ZIFxlCbYto1t2ygUaZqi9ZdXOwghhHhYasnf273MVwtu5eIrhFg/HMAEuLqje6IyAWetVgVoDUSzbds0GnecVncEjZlHWGUXR6VY0jnBtm0sy8JCYdt2K6NrWRZxHJsgt1mTu+y9QgghhBBCfFWtQNe2HdI0QacpzZ+5rtvK5GptsrtpNqsOQKpT0BrLtjpmPVPYlilDSJIU27YpFIutDfq0A+eswYLJ/CYxwJJ1CSGEeBzkIiuE+NvQGkHmui5BkBDFsQlsgSiKTAeEjsEJWmtc30VZqpWddRyH9oVT4bguYRiQpibQbWtnfZfSxFGMZdnZoDa5CAshhBBCiK/HaQaVlmVjKYswCMnlcvT29plJHVa8xdTWpjolCAIcuz3bWbO+13EcwjAkCkMc20a12oU1qSXrS+Ik6+voLwuMhRBCCCGE+GpaEahS4OdyKMuiXm+g0xTbsVs1ts0BY042kUS93sCybDx/5WxmSilyuRxJklKr1UizcojVpElKrVbHcRw8r9lWTPrbCCGEEEKIr0fNVZtdE9sTQjQadaIownEcXNfFth2UhjRNiZOEMAxxXAc/C3Lbge7STG0cJ9RrNbTW+L6P53qmfZmGJEkIIzP9r+d55PO5LPPb2cxMShiEEEIIIcRXsyLQbUqShCAMiMKINE1RKCzLMrOdeR6WY68Shi7/iZk6OAxCgiAgjmIzEE3RWlfO93Fcp1W4q5esSQJdIYQQQgjx1ai5Ra2XxpNLA16tNWn2I2VlTcT0w7cBMxNJmL8ncUKSpijAduzWVL9as2rjXAlzhRBCCCHEV+UkwcxDL6z5+tWzzaFmOoTka65LCCGEEEKItSitZWZzIYQQQgix/izv+yWEEEIIIcS6IIGuEEIIIYRYlyTQFUIIIYQQ69L/B9WNqNeEBh52AAAAAElFTkSuQmCC)\n",
        "\n",
        "- 대응이 없는 독립표본 데이터이므로 개별 데이터 간의 차이를 구하는 것은 의미가 없다\n",
        "\n"
      ],
      "metadata": {
        "id": "d0hgG6vJZZG9"
      }
    },
    {
      "cell_type": "code",
      "source": [
        "training_ind = pd.read_csv('/content/[패스트캠퍼스-확률및통계] 11_training_ind.csv')\n",
        "print(training_ind.shape)\n",
        "training_ind.head()"
      ],
      "metadata": {
        "colab": {
          "base_uri": "https://localhost:8080/",
          "height": 225
        },
        "id": "eYq61jHvZ8vo",
        "outputId": "236c2fad-cba6-4f25-e461-1d6956bb7118"
      },
      "execution_count": 42,
      "outputs": [
        {
          "output_type": "stream",
          "name": "stdout",
          "text": [
            "(20, 2)\n"
          ]
        },
        {
          "output_type": "execute_result",
          "data": {
            "text/plain": [
              "    A   B\n",
              "0  47  49\n",
              "1  50  52\n",
              "2  37  54\n",
              "3  60  48\n",
              "4  39  51"
            ],
            "text/html": [
              "\n",
              "  <div id=\"df-fa04f468-4309-41c7-b310-0f8d72574f88\">\n",
              "    <div class=\"colab-df-container\">\n",
              "      <div>\n",
              "<style scoped>\n",
              "    .dataframe tbody tr th:only-of-type {\n",
              "        vertical-align: middle;\n",
              "    }\n",
              "\n",
              "    .dataframe tbody tr th {\n",
              "        vertical-align: top;\n",
              "    }\n",
              "\n",
              "    .dataframe thead th {\n",
              "        text-align: right;\n",
              "    }\n",
              "</style>\n",
              "<table border=\"1\" class=\"dataframe\">\n",
              "  <thead>\n",
              "    <tr style=\"text-align: right;\">\n",
              "      <th></th>\n",
              "      <th>A</th>\n",
              "      <th>B</th>\n",
              "    </tr>\n",
              "  </thead>\n",
              "  <tbody>\n",
              "    <tr>\n",
              "      <th>0</th>\n",
              "      <td>47</td>\n",
              "      <td>49</td>\n",
              "    </tr>\n",
              "    <tr>\n",
              "      <th>1</th>\n",
              "      <td>50</td>\n",
              "      <td>52</td>\n",
              "    </tr>\n",
              "    <tr>\n",
              "      <th>2</th>\n",
              "      <td>37</td>\n",
              "      <td>54</td>\n",
              "    </tr>\n",
              "    <tr>\n",
              "      <th>3</th>\n",
              "      <td>60</td>\n",
              "      <td>48</td>\n",
              "    </tr>\n",
              "    <tr>\n",
              "      <th>4</th>\n",
              "      <td>39</td>\n",
              "      <td>51</td>\n",
              "    </tr>\n",
              "  </tbody>\n",
              "</table>\n",
              "</div>\n",
              "      <button class=\"colab-df-convert\" onclick=\"convertToInteractive('df-fa04f468-4309-41c7-b310-0f8d72574f88')\"\n",
              "              title=\"Convert this dataframe to an interactive table.\"\n",
              "              style=\"display:none;\">\n",
              "        \n",
              "  <svg xmlns=\"http://www.w3.org/2000/svg\" height=\"24px\"viewBox=\"0 0 24 24\"\n",
              "       width=\"24px\">\n",
              "    <path d=\"M0 0h24v24H0V0z\" fill=\"none\"/>\n",
              "    <path d=\"M18.56 5.44l.94 2.06.94-2.06 2.06-.94-2.06-.94-.94-2.06-.94 2.06-2.06.94zm-11 1L8.5 8.5l.94-2.06 2.06-.94-2.06-.94L8.5 2.5l-.94 2.06-2.06.94zm10 10l.94 2.06.94-2.06 2.06-.94-2.06-.94-.94-2.06-.94 2.06-2.06.94z\"/><path d=\"M17.41 7.96l-1.37-1.37c-.4-.4-.92-.59-1.43-.59-.52 0-1.04.2-1.43.59L10.3 9.45l-7.72 7.72c-.78.78-.78 2.05 0 2.83L4 21.41c.39.39.9.59 1.41.59.51 0 1.02-.2 1.41-.59l7.78-7.78 2.81-2.81c.8-.78.8-2.07 0-2.86zM5.41 20L4 18.59l7.72-7.72 1.47 1.35L5.41 20z\"/>\n",
              "  </svg>\n",
              "      </button>\n",
              "      \n",
              "  <style>\n",
              "    .colab-df-container {\n",
              "      display:flex;\n",
              "      flex-wrap:wrap;\n",
              "      gap: 12px;\n",
              "    }\n",
              "\n",
              "    .colab-df-convert {\n",
              "      background-color: #E8F0FE;\n",
              "      border: none;\n",
              "      border-radius: 50%;\n",
              "      cursor: pointer;\n",
              "      display: none;\n",
              "      fill: #1967D2;\n",
              "      height: 32px;\n",
              "      padding: 0 0 0 0;\n",
              "      width: 32px;\n",
              "    }\n",
              "\n",
              "    .colab-df-convert:hover {\n",
              "      background-color: #E2EBFA;\n",
              "      box-shadow: 0px 1px 2px rgba(60, 64, 67, 0.3), 0px 1px 3px 1px rgba(60, 64, 67, 0.15);\n",
              "      fill: #174EA6;\n",
              "    }\n",
              "\n",
              "    [theme=dark] .colab-df-convert {\n",
              "      background-color: #3B4455;\n",
              "      fill: #D2E3FC;\n",
              "    }\n",
              "\n",
              "    [theme=dark] .colab-df-convert:hover {\n",
              "      background-color: #434B5C;\n",
              "      box-shadow: 0px 1px 3px 1px rgba(0, 0, 0, 0.15);\n",
              "      filter: drop-shadow(0px 1px 2px rgba(0, 0, 0, 0.3));\n",
              "      fill: #FFFFFF;\n",
              "    }\n",
              "  </style>\n",
              "\n",
              "      <script>\n",
              "        const buttonEl =\n",
              "          document.querySelector('#df-fa04f468-4309-41c7-b310-0f8d72574f88 button.colab-df-convert');\n",
              "        buttonEl.style.display =\n",
              "          google.colab.kernel.accessAllowed ? 'block' : 'none';\n",
              "\n",
              "        async function convertToInteractive(key) {\n",
              "          const element = document.querySelector('#df-fa04f468-4309-41c7-b310-0f8d72574f88');\n",
              "          const dataTable =\n",
              "            await google.colab.kernel.invokeFunction('convertToInteractive',\n",
              "                                                     [key], {});\n",
              "          if (!dataTable) return;\n",
              "\n",
              "          const docLinkHtml = 'Like what you see? Visit the ' +\n",
              "            '<a target=\"_blank\" href=https://colab.research.google.com/notebooks/data_table.ipynb>data table notebook</a>'\n",
              "            + ' to learn more about interactive tables.';\n",
              "          element.innerHTML = '';\n",
              "          dataTable['output_type'] = 'display_data';\n",
              "          await google.colab.output.renderOutput(dataTable, element);\n",
              "          const docLink = document.createElement('div');\n",
              "          docLink.innerHTML = docLinkHtml;\n",
              "          element.appendChild(docLink);\n",
              "        }\n",
              "      </script>\n",
              "    </div>\n",
              "  </div>\n",
              "  "
            ]
          },
          "metadata": {},
          "execution_count": 42
        }
      ]
    },
    {
      "cell_type": "code",
      "source": [
        "t, p = stats.ttest_ind(training_ind['A'], training_ind['B'],\n",
        "                       equal_var=False)\n",
        "p"
      ],
      "metadata": {
        "colab": {
          "base_uri": "https://localhost:8080/"
        },
        "id": "CbY5PlLFasto",
        "outputId": "4bf54091-cdd9-4007-b474-3e3b8bc9d6fe"
      },
      "execution_count": 43,
      "outputs": [
        {
          "output_type": "execute_result",
          "data": {
            "text/plain": [
              "0.087"
            ]
          },
          "metadata": {},
          "execution_count": 43
        }
      ]
    },
    {
      "cell_type": "markdown",
      "source": [
        "### 윌콕슨의 부호검정\n",
        "\n",
        "- 대응하는 데이터에서, 독립된 2표본 모집단에서 정규분포를 가정할 수 없는 경우 중앙값 차이에 대한 검정 방법\n",
        "\n",
        "<br>\n",
        "\n",
        "**월콕슨의 부호순위검정 방법**\n",
        "\n",
        "\n",
        "- 방법이름 그대로 대응하는 데이터간의 차이를 절대값을 기준으로 순위화\n",
        "\n",
        "\n",
        "- 차이의 부호가 마이너스인 것의 순위함 플러스인 것의 순위함을 고려하여 더 작은 쪽이 검정 통계량이 된다. \n",
        "\n",
        "- 임계값 기준보다 작으면 차이가 있다는 주장이 가능\n",
        "\n",
        "- Scipy.stats의 silcoxon함수를 활용하면, 부호의 순위합을 계산하고, 표준화를 수행한 뒤 정규분포로 검정을 통해서 검정통계량 값이 약간 바뀌긴하나 원리의 차이는 없다."
      ],
      "metadata": {
        "id": "PJtBQgEhaxEs"
      }
    },
    {
      "cell_type": "code",
      "source": [
        "training_rel = pd.read_csv('/content/[패스트캠퍼스-확률및통계] 11_training_rel.csv')\n",
        "toy_df = training_rel[:6].copy()\n",
        "toy_df"
      ],
      "metadata": {
        "colab": {
          "base_uri": "https://localhost:8080/",
          "height": 238
        },
        "id": "3p1sh1FCavr1",
        "outputId": "d45ed747-abe7-4f24-c12b-69e793c8d930"
      },
      "execution_count": 46,
      "outputs": [
        {
          "output_type": "execute_result",
          "data": {
            "text/plain": [
              "    전   후\n",
              "0  59  41\n",
              "1  52  63\n",
              "2  55  68\n",
              "3  61  59\n",
              "4  59  84\n",
              "5  45  37"
            ],
            "text/html": [
              "\n",
              "  <div id=\"df-83e4e1fb-98ec-4aa9-9c31-3c1a2e3b40d8\">\n",
              "    <div class=\"colab-df-container\">\n",
              "      <div>\n",
              "<style scoped>\n",
              "    .dataframe tbody tr th:only-of-type {\n",
              "        vertical-align: middle;\n",
              "    }\n",
              "\n",
              "    .dataframe tbody tr th {\n",
              "        vertical-align: top;\n",
              "    }\n",
              "\n",
              "    .dataframe thead th {\n",
              "        text-align: right;\n",
              "    }\n",
              "</style>\n",
              "<table border=\"1\" class=\"dataframe\">\n",
              "  <thead>\n",
              "    <tr style=\"text-align: right;\">\n",
              "      <th></th>\n",
              "      <th>전</th>\n",
              "      <th>후</th>\n",
              "    </tr>\n",
              "  </thead>\n",
              "  <tbody>\n",
              "    <tr>\n",
              "      <th>0</th>\n",
              "      <td>59</td>\n",
              "      <td>41</td>\n",
              "    </tr>\n",
              "    <tr>\n",
              "      <th>1</th>\n",
              "      <td>52</td>\n",
              "      <td>63</td>\n",
              "    </tr>\n",
              "    <tr>\n",
              "      <th>2</th>\n",
              "      <td>55</td>\n",
              "      <td>68</td>\n",
              "    </tr>\n",
              "    <tr>\n",
              "      <th>3</th>\n",
              "      <td>61</td>\n",
              "      <td>59</td>\n",
              "    </tr>\n",
              "    <tr>\n",
              "      <th>4</th>\n",
              "      <td>59</td>\n",
              "      <td>84</td>\n",
              "    </tr>\n",
              "    <tr>\n",
              "      <th>5</th>\n",
              "      <td>45</td>\n",
              "      <td>37</td>\n",
              "    </tr>\n",
              "  </tbody>\n",
              "</table>\n",
              "</div>\n",
              "      <button class=\"colab-df-convert\" onclick=\"convertToInteractive('df-83e4e1fb-98ec-4aa9-9c31-3c1a2e3b40d8')\"\n",
              "              title=\"Convert this dataframe to an interactive table.\"\n",
              "              style=\"display:none;\">\n",
              "        \n",
              "  <svg xmlns=\"http://www.w3.org/2000/svg\" height=\"24px\"viewBox=\"0 0 24 24\"\n",
              "       width=\"24px\">\n",
              "    <path d=\"M0 0h24v24H0V0z\" fill=\"none\"/>\n",
              "    <path d=\"M18.56 5.44l.94 2.06.94-2.06 2.06-.94-2.06-.94-.94-2.06-.94 2.06-2.06.94zm-11 1L8.5 8.5l.94-2.06 2.06-.94-2.06-.94L8.5 2.5l-.94 2.06-2.06.94zm10 10l.94 2.06.94-2.06 2.06-.94-2.06-.94-.94-2.06-.94 2.06-2.06.94z\"/><path d=\"M17.41 7.96l-1.37-1.37c-.4-.4-.92-.59-1.43-.59-.52 0-1.04.2-1.43.59L10.3 9.45l-7.72 7.72c-.78.78-.78 2.05 0 2.83L4 21.41c.39.39.9.59 1.41.59.51 0 1.02-.2 1.41-.59l7.78-7.78 2.81-2.81c.8-.78.8-2.07 0-2.86zM5.41 20L4 18.59l7.72-7.72 1.47 1.35L5.41 20z\"/>\n",
              "  </svg>\n",
              "      </button>\n",
              "      \n",
              "  <style>\n",
              "    .colab-df-container {\n",
              "      display:flex;\n",
              "      flex-wrap:wrap;\n",
              "      gap: 12px;\n",
              "    }\n",
              "\n",
              "    .colab-df-convert {\n",
              "      background-color: #E8F0FE;\n",
              "      border: none;\n",
              "      border-radius: 50%;\n",
              "      cursor: pointer;\n",
              "      display: none;\n",
              "      fill: #1967D2;\n",
              "      height: 32px;\n",
              "      padding: 0 0 0 0;\n",
              "      width: 32px;\n",
              "    }\n",
              "\n",
              "    .colab-df-convert:hover {\n",
              "      background-color: #E2EBFA;\n",
              "      box-shadow: 0px 1px 2px rgba(60, 64, 67, 0.3), 0px 1px 3px 1px rgba(60, 64, 67, 0.15);\n",
              "      fill: #174EA6;\n",
              "    }\n",
              "\n",
              "    [theme=dark] .colab-df-convert {\n",
              "      background-color: #3B4455;\n",
              "      fill: #D2E3FC;\n",
              "    }\n",
              "\n",
              "    [theme=dark] .colab-df-convert:hover {\n",
              "      background-color: #434B5C;\n",
              "      box-shadow: 0px 1px 3px 1px rgba(0, 0, 0, 0.15);\n",
              "      filter: drop-shadow(0px 1px 2px rgba(0, 0, 0, 0.3));\n",
              "      fill: #FFFFFF;\n",
              "    }\n",
              "  </style>\n",
              "\n",
              "      <script>\n",
              "        const buttonEl =\n",
              "          document.querySelector('#df-83e4e1fb-98ec-4aa9-9c31-3c1a2e3b40d8 button.colab-df-convert');\n",
              "        buttonEl.style.display =\n",
              "          google.colab.kernel.accessAllowed ? 'block' : 'none';\n",
              "\n",
              "        async function convertToInteractive(key) {\n",
              "          const element = document.querySelector('#df-83e4e1fb-98ec-4aa9-9c31-3c1a2e3b40d8');\n",
              "          const dataTable =\n",
              "            await google.colab.kernel.invokeFunction('convertToInteractive',\n",
              "                                                     [key], {});\n",
              "          if (!dataTable) return;\n",
              "\n",
              "          const docLinkHtml = 'Like what you see? Visit the ' +\n",
              "            '<a target=\"_blank\" href=https://colab.research.google.com/notebooks/data_table.ipynb>data table notebook</a>'\n",
              "            + ' to learn more about interactive tables.';\n",
              "          element.innerHTML = '';\n",
              "          dataTable['output_type'] = 'display_data';\n",
              "          await google.colab.output.renderOutput(dataTable, element);\n",
              "          const docLink = document.createElement('div');\n",
              "          docLink.innerHTML = docLinkHtml;\n",
              "          element.appendChild(docLink);\n",
              "        }\n",
              "      </script>\n",
              "    </div>\n",
              "  </div>\n",
              "  "
            ]
          },
          "metadata": {},
          "execution_count": 46
        }
      ]
    },
    {
      "cell_type": "code",
      "source": [
        "diff = toy_df['후'] - toy_df['전']\n",
        "toy_df['차'] = diff\n",
        "toy_df"
      ],
      "metadata": {
        "colab": {
          "base_uri": "https://localhost:8080/",
          "height": 238
        },
        "id": "i_UNIc-Ma11G",
        "outputId": "57dcd9b6-abed-4338-f405-6527f9e46c5f"
      },
      "execution_count": 47,
      "outputs": [
        {
          "output_type": "execute_result",
          "data": {
            "text/plain": [
              "    전   후   차\n",
              "0  59  41 -18\n",
              "1  52  63  11\n",
              "2  55  68  13\n",
              "3  61  59  -2\n",
              "4  59  84  25\n",
              "5  45  37  -8"
            ],
            "text/html": [
              "\n",
              "  <div id=\"df-678a0ed0-125f-4cd7-a7ed-945fa4e6eeee\">\n",
              "    <div class=\"colab-df-container\">\n",
              "      <div>\n",
              "<style scoped>\n",
              "    .dataframe tbody tr th:only-of-type {\n",
              "        vertical-align: middle;\n",
              "    }\n",
              "\n",
              "    .dataframe tbody tr th {\n",
              "        vertical-align: top;\n",
              "    }\n",
              "\n",
              "    .dataframe thead th {\n",
              "        text-align: right;\n",
              "    }\n",
              "</style>\n",
              "<table border=\"1\" class=\"dataframe\">\n",
              "  <thead>\n",
              "    <tr style=\"text-align: right;\">\n",
              "      <th></th>\n",
              "      <th>전</th>\n",
              "      <th>후</th>\n",
              "      <th>차</th>\n",
              "    </tr>\n",
              "  </thead>\n",
              "  <tbody>\n",
              "    <tr>\n",
              "      <th>0</th>\n",
              "      <td>59</td>\n",
              "      <td>41</td>\n",
              "      <td>-18</td>\n",
              "    </tr>\n",
              "    <tr>\n",
              "      <th>1</th>\n",
              "      <td>52</td>\n",
              "      <td>63</td>\n",
              "      <td>11</td>\n",
              "    </tr>\n",
              "    <tr>\n",
              "      <th>2</th>\n",
              "      <td>55</td>\n",
              "      <td>68</td>\n",
              "      <td>13</td>\n",
              "    </tr>\n",
              "    <tr>\n",
              "      <th>3</th>\n",
              "      <td>61</td>\n",
              "      <td>59</td>\n",
              "      <td>-2</td>\n",
              "    </tr>\n",
              "    <tr>\n",
              "      <th>4</th>\n",
              "      <td>59</td>\n",
              "      <td>84</td>\n",
              "      <td>25</td>\n",
              "    </tr>\n",
              "    <tr>\n",
              "      <th>5</th>\n",
              "      <td>45</td>\n",
              "      <td>37</td>\n",
              "      <td>-8</td>\n",
              "    </tr>\n",
              "  </tbody>\n",
              "</table>\n",
              "</div>\n",
              "      <button class=\"colab-df-convert\" onclick=\"convertToInteractive('df-678a0ed0-125f-4cd7-a7ed-945fa4e6eeee')\"\n",
              "              title=\"Convert this dataframe to an interactive table.\"\n",
              "              style=\"display:none;\">\n",
              "        \n",
              "  <svg xmlns=\"http://www.w3.org/2000/svg\" height=\"24px\"viewBox=\"0 0 24 24\"\n",
              "       width=\"24px\">\n",
              "    <path d=\"M0 0h24v24H0V0z\" fill=\"none\"/>\n",
              "    <path d=\"M18.56 5.44l.94 2.06.94-2.06 2.06-.94-2.06-.94-.94-2.06-.94 2.06-2.06.94zm-11 1L8.5 8.5l.94-2.06 2.06-.94-2.06-.94L8.5 2.5l-.94 2.06-2.06.94zm10 10l.94 2.06.94-2.06 2.06-.94-2.06-.94-.94-2.06-.94 2.06-2.06.94z\"/><path d=\"M17.41 7.96l-1.37-1.37c-.4-.4-.92-.59-1.43-.59-.52 0-1.04.2-1.43.59L10.3 9.45l-7.72 7.72c-.78.78-.78 2.05 0 2.83L4 21.41c.39.39.9.59 1.41.59.51 0 1.02-.2 1.41-.59l7.78-7.78 2.81-2.81c.8-.78.8-2.07 0-2.86zM5.41 20L4 18.59l7.72-7.72 1.47 1.35L5.41 20z\"/>\n",
              "  </svg>\n",
              "      </button>\n",
              "      \n",
              "  <style>\n",
              "    .colab-df-container {\n",
              "      display:flex;\n",
              "      flex-wrap:wrap;\n",
              "      gap: 12px;\n",
              "    }\n",
              "\n",
              "    .colab-df-convert {\n",
              "      background-color: #E8F0FE;\n",
              "      border: none;\n",
              "      border-radius: 50%;\n",
              "      cursor: pointer;\n",
              "      display: none;\n",
              "      fill: #1967D2;\n",
              "      height: 32px;\n",
              "      padding: 0 0 0 0;\n",
              "      width: 32px;\n",
              "    }\n",
              "\n",
              "    .colab-df-convert:hover {\n",
              "      background-color: #E2EBFA;\n",
              "      box-shadow: 0px 1px 2px rgba(60, 64, 67, 0.3), 0px 1px 3px 1px rgba(60, 64, 67, 0.15);\n",
              "      fill: #174EA6;\n",
              "    }\n",
              "\n",
              "    [theme=dark] .colab-df-convert {\n",
              "      background-color: #3B4455;\n",
              "      fill: #D2E3FC;\n",
              "    }\n",
              "\n",
              "    [theme=dark] .colab-df-convert:hover {\n",
              "      background-color: #434B5C;\n",
              "      box-shadow: 0px 1px 3px 1px rgba(0, 0, 0, 0.15);\n",
              "      filter: drop-shadow(0px 1px 2px rgba(0, 0, 0, 0.3));\n",
              "      fill: #FFFFFF;\n",
              "    }\n",
              "  </style>\n",
              "\n",
              "      <script>\n",
              "        const buttonEl =\n",
              "          document.querySelector('#df-678a0ed0-125f-4cd7-a7ed-945fa4e6eeee button.colab-df-convert');\n",
              "        buttonEl.style.display =\n",
              "          google.colab.kernel.accessAllowed ? 'block' : 'none';\n",
              "\n",
              "        async function convertToInteractive(key) {\n",
              "          const element = document.querySelector('#df-678a0ed0-125f-4cd7-a7ed-945fa4e6eeee');\n",
              "          const dataTable =\n",
              "            await google.colab.kernel.invokeFunction('convertToInteractive',\n",
              "                                                     [key], {});\n",
              "          if (!dataTable) return;\n",
              "\n",
              "          const docLinkHtml = 'Like what you see? Visit the ' +\n",
              "            '<a target=\"_blank\" href=https://colab.research.google.com/notebooks/data_table.ipynb>data table notebook</a>'\n",
              "            + ' to learn more about interactive tables.';\n",
              "          element.innerHTML = '';\n",
              "          dataTable['output_type'] = 'display_data';\n",
              "          await google.colab.output.renderOutput(dataTable, element);\n",
              "          const docLink = document.createElement('div');\n",
              "          docLink.innerHTML = docLinkHtml;\n",
              "          element.appendChild(docLink);\n",
              "        }\n",
              "      </script>\n",
              "    </div>\n",
              "  </div>\n",
              "  "
            ]
          },
          "metadata": {},
          "execution_count": 47
        }
      ]
    },
    {
      "cell_type": "code",
      "source": [
        "rank = stats.rankdata(abs(diff)).astype(int)\n",
        "toy_df['순위'] = rank\n",
        "toy_df"
      ],
      "metadata": {
        "colab": {
          "base_uri": "https://localhost:8080/",
          "height": 238
        },
        "id": "pvDHOYyZb0WP",
        "outputId": "f46b6529-3d9a-4b97-fd31-271dd3a6ed22"
      },
      "execution_count": 48,
      "outputs": [
        {
          "output_type": "execute_result",
          "data": {
            "text/plain": [
              "    전   후   차  순위\n",
              "0  59  41 -18   5\n",
              "1  52  63  11   3\n",
              "2  55  68  13   4\n",
              "3  61  59  -2   1\n",
              "4  59  84  25   6\n",
              "5  45  37  -8   2"
            ],
            "text/html": [
              "\n",
              "  <div id=\"df-59e262d0-8bee-4b87-a8e9-7aa85a6a9671\">\n",
              "    <div class=\"colab-df-container\">\n",
              "      <div>\n",
              "<style scoped>\n",
              "    .dataframe tbody tr th:only-of-type {\n",
              "        vertical-align: middle;\n",
              "    }\n",
              "\n",
              "    .dataframe tbody tr th {\n",
              "        vertical-align: top;\n",
              "    }\n",
              "\n",
              "    .dataframe thead th {\n",
              "        text-align: right;\n",
              "    }\n",
              "</style>\n",
              "<table border=\"1\" class=\"dataframe\">\n",
              "  <thead>\n",
              "    <tr style=\"text-align: right;\">\n",
              "      <th></th>\n",
              "      <th>전</th>\n",
              "      <th>후</th>\n",
              "      <th>차</th>\n",
              "      <th>순위</th>\n",
              "    </tr>\n",
              "  </thead>\n",
              "  <tbody>\n",
              "    <tr>\n",
              "      <th>0</th>\n",
              "      <td>59</td>\n",
              "      <td>41</td>\n",
              "      <td>-18</td>\n",
              "      <td>5</td>\n",
              "    </tr>\n",
              "    <tr>\n",
              "      <th>1</th>\n",
              "      <td>52</td>\n",
              "      <td>63</td>\n",
              "      <td>11</td>\n",
              "      <td>3</td>\n",
              "    </tr>\n",
              "    <tr>\n",
              "      <th>2</th>\n",
              "      <td>55</td>\n",
              "      <td>68</td>\n",
              "      <td>13</td>\n",
              "      <td>4</td>\n",
              "    </tr>\n",
              "    <tr>\n",
              "      <th>3</th>\n",
              "      <td>61</td>\n",
              "      <td>59</td>\n",
              "      <td>-2</td>\n",
              "      <td>1</td>\n",
              "    </tr>\n",
              "    <tr>\n",
              "      <th>4</th>\n",
              "      <td>59</td>\n",
              "      <td>84</td>\n",
              "      <td>25</td>\n",
              "      <td>6</td>\n",
              "    </tr>\n",
              "    <tr>\n",
              "      <th>5</th>\n",
              "      <td>45</td>\n",
              "      <td>37</td>\n",
              "      <td>-8</td>\n",
              "      <td>2</td>\n",
              "    </tr>\n",
              "  </tbody>\n",
              "</table>\n",
              "</div>\n",
              "      <button class=\"colab-df-convert\" onclick=\"convertToInteractive('df-59e262d0-8bee-4b87-a8e9-7aa85a6a9671')\"\n",
              "              title=\"Convert this dataframe to an interactive table.\"\n",
              "              style=\"display:none;\">\n",
              "        \n",
              "  <svg xmlns=\"http://www.w3.org/2000/svg\" height=\"24px\"viewBox=\"0 0 24 24\"\n",
              "       width=\"24px\">\n",
              "    <path d=\"M0 0h24v24H0V0z\" fill=\"none\"/>\n",
              "    <path d=\"M18.56 5.44l.94 2.06.94-2.06 2.06-.94-2.06-.94-.94-2.06-.94 2.06-2.06.94zm-11 1L8.5 8.5l.94-2.06 2.06-.94-2.06-.94L8.5 2.5l-.94 2.06-2.06.94zm10 10l.94 2.06.94-2.06 2.06-.94-2.06-.94-.94-2.06-.94 2.06-2.06.94z\"/><path d=\"M17.41 7.96l-1.37-1.37c-.4-.4-.92-.59-1.43-.59-.52 0-1.04.2-1.43.59L10.3 9.45l-7.72 7.72c-.78.78-.78 2.05 0 2.83L4 21.41c.39.39.9.59 1.41.59.51 0 1.02-.2 1.41-.59l7.78-7.78 2.81-2.81c.8-.78.8-2.07 0-2.86zM5.41 20L4 18.59l7.72-7.72 1.47 1.35L5.41 20z\"/>\n",
              "  </svg>\n",
              "      </button>\n",
              "      \n",
              "  <style>\n",
              "    .colab-df-container {\n",
              "      display:flex;\n",
              "      flex-wrap:wrap;\n",
              "      gap: 12px;\n",
              "    }\n",
              "\n",
              "    .colab-df-convert {\n",
              "      background-color: #E8F0FE;\n",
              "      border: none;\n",
              "      border-radius: 50%;\n",
              "      cursor: pointer;\n",
              "      display: none;\n",
              "      fill: #1967D2;\n",
              "      height: 32px;\n",
              "      padding: 0 0 0 0;\n",
              "      width: 32px;\n",
              "    }\n",
              "\n",
              "    .colab-df-convert:hover {\n",
              "      background-color: #E2EBFA;\n",
              "      box-shadow: 0px 1px 2px rgba(60, 64, 67, 0.3), 0px 1px 3px 1px rgba(60, 64, 67, 0.15);\n",
              "      fill: #174EA6;\n",
              "    }\n",
              "\n",
              "    [theme=dark] .colab-df-convert {\n",
              "      background-color: #3B4455;\n",
              "      fill: #D2E3FC;\n",
              "    }\n",
              "\n",
              "    [theme=dark] .colab-df-convert:hover {\n",
              "      background-color: #434B5C;\n",
              "      box-shadow: 0px 1px 3px 1px rgba(0, 0, 0, 0.15);\n",
              "      filter: drop-shadow(0px 1px 2px rgba(0, 0, 0, 0.3));\n",
              "      fill: #FFFFFF;\n",
              "    }\n",
              "  </style>\n",
              "\n",
              "      <script>\n",
              "        const buttonEl =\n",
              "          document.querySelector('#df-59e262d0-8bee-4b87-a8e9-7aa85a6a9671 button.colab-df-convert');\n",
              "        buttonEl.style.display =\n",
              "          google.colab.kernel.accessAllowed ? 'block' : 'none';\n",
              "\n",
              "        async function convertToInteractive(key) {\n",
              "          const element = document.querySelector('#df-59e262d0-8bee-4b87-a8e9-7aa85a6a9671');\n",
              "          const dataTable =\n",
              "            await google.colab.kernel.invokeFunction('convertToInteractive',\n",
              "                                                     [key], {});\n",
              "          if (!dataTable) return;\n",
              "\n",
              "          const docLinkHtml = 'Like what you see? Visit the ' +\n",
              "            '<a target=\"_blank\" href=https://colab.research.google.com/notebooks/data_table.ipynb>data table notebook</a>'\n",
              "            + ' to learn more about interactive tables.';\n",
              "          element.innerHTML = '';\n",
              "          dataTable['output_type'] = 'display_data';\n",
              "          await google.colab.output.renderOutput(dataTable, element);\n",
              "          const docLink = document.createElement('div');\n",
              "          docLink.innerHTML = docLinkHtml;\n",
              "          element.appendChild(docLink);\n",
              "        }\n",
              "      </script>\n",
              "    </div>\n",
              "  </div>\n",
              "  "
            ]
          },
          "metadata": {},
          "execution_count": 48
        }
      ]
    },
    {
      "cell_type": "code",
      "source": [
        "r_minus = np.sum((diff < 0) * rank)\n",
        "r_plus = np.sum((diff > 0) * rank)\n",
        "\n",
        "r_minus, r_plus"
      ],
      "metadata": {
        "colab": {
          "base_uri": "https://localhost:8080/"
        },
        "id": "LH6Q5mdNb8BQ",
        "outputId": "71baa549-b17a-40c9-e1fb-f15bd4c97162"
      },
      "execution_count": 49,
      "outputs": [
        {
          "output_type": "execute_result",
          "data": {
            "text/plain": [
              "(8, 13)"
            ]
          },
          "metadata": {},
          "execution_count": 49
        }
      ]
    },
    {
      "cell_type": "code",
      "source": [
        "toy_df['후'] = toy_df['전'] + np.arange(1, 7)\n",
        "diff = toy_df['후'] - toy_df['전']\n",
        "rank = stats.rankdata(abs(diff)).astype(int)\n",
        "toy_df['차'] = diff\n",
        "toy_df['순위'] = rank\n",
        "toy_df"
      ],
      "metadata": {
        "colab": {
          "base_uri": "https://localhost:8080/",
          "height": 238
        },
        "id": "rkGFwwfyb-0C",
        "outputId": "959ab854-eee9-41db-a219-230f469e2928"
      },
      "execution_count": 50,
      "outputs": [
        {
          "output_type": "execute_result",
          "data": {
            "text/plain": [
              "    전   후  차  순위\n",
              "0  59  60  1   1\n",
              "1  52  54  2   2\n",
              "2  55  58  3   3\n",
              "3  61  65  4   4\n",
              "4  59  64  5   5\n",
              "5  45  51  6   6"
            ],
            "text/html": [
              "\n",
              "  <div id=\"df-f1eb6906-50dd-49c1-9b0d-ca4acd454156\">\n",
              "    <div class=\"colab-df-container\">\n",
              "      <div>\n",
              "<style scoped>\n",
              "    .dataframe tbody tr th:only-of-type {\n",
              "        vertical-align: middle;\n",
              "    }\n",
              "\n",
              "    .dataframe tbody tr th {\n",
              "        vertical-align: top;\n",
              "    }\n",
              "\n",
              "    .dataframe thead th {\n",
              "        text-align: right;\n",
              "    }\n",
              "</style>\n",
              "<table border=\"1\" class=\"dataframe\">\n",
              "  <thead>\n",
              "    <tr style=\"text-align: right;\">\n",
              "      <th></th>\n",
              "      <th>전</th>\n",
              "      <th>후</th>\n",
              "      <th>차</th>\n",
              "      <th>순위</th>\n",
              "    </tr>\n",
              "  </thead>\n",
              "  <tbody>\n",
              "    <tr>\n",
              "      <th>0</th>\n",
              "      <td>59</td>\n",
              "      <td>60</td>\n",
              "      <td>1</td>\n",
              "      <td>1</td>\n",
              "    </tr>\n",
              "    <tr>\n",
              "      <th>1</th>\n",
              "      <td>52</td>\n",
              "      <td>54</td>\n",
              "      <td>2</td>\n",
              "      <td>2</td>\n",
              "    </tr>\n",
              "    <tr>\n",
              "      <th>2</th>\n",
              "      <td>55</td>\n",
              "      <td>58</td>\n",
              "      <td>3</td>\n",
              "      <td>3</td>\n",
              "    </tr>\n",
              "    <tr>\n",
              "      <th>3</th>\n",
              "      <td>61</td>\n",
              "      <td>65</td>\n",
              "      <td>4</td>\n",
              "      <td>4</td>\n",
              "    </tr>\n",
              "    <tr>\n",
              "      <th>4</th>\n",
              "      <td>59</td>\n",
              "      <td>64</td>\n",
              "      <td>5</td>\n",
              "      <td>5</td>\n",
              "    </tr>\n",
              "    <tr>\n",
              "      <th>5</th>\n",
              "      <td>45</td>\n",
              "      <td>51</td>\n",
              "      <td>6</td>\n",
              "      <td>6</td>\n",
              "    </tr>\n",
              "  </tbody>\n",
              "</table>\n",
              "</div>\n",
              "      <button class=\"colab-df-convert\" onclick=\"convertToInteractive('df-f1eb6906-50dd-49c1-9b0d-ca4acd454156')\"\n",
              "              title=\"Convert this dataframe to an interactive table.\"\n",
              "              style=\"display:none;\">\n",
              "        \n",
              "  <svg xmlns=\"http://www.w3.org/2000/svg\" height=\"24px\"viewBox=\"0 0 24 24\"\n",
              "       width=\"24px\">\n",
              "    <path d=\"M0 0h24v24H0V0z\" fill=\"none\"/>\n",
              "    <path d=\"M18.56 5.44l.94 2.06.94-2.06 2.06-.94-2.06-.94-.94-2.06-.94 2.06-2.06.94zm-11 1L8.5 8.5l.94-2.06 2.06-.94-2.06-.94L8.5 2.5l-.94 2.06-2.06.94zm10 10l.94 2.06.94-2.06 2.06-.94-2.06-.94-.94-2.06-.94 2.06-2.06.94z\"/><path d=\"M17.41 7.96l-1.37-1.37c-.4-.4-.92-.59-1.43-.59-.52 0-1.04.2-1.43.59L10.3 9.45l-7.72 7.72c-.78.78-.78 2.05 0 2.83L4 21.41c.39.39.9.59 1.41.59.51 0 1.02-.2 1.41-.59l7.78-7.78 2.81-2.81c.8-.78.8-2.07 0-2.86zM5.41 20L4 18.59l7.72-7.72 1.47 1.35L5.41 20z\"/>\n",
              "  </svg>\n",
              "      </button>\n",
              "      \n",
              "  <style>\n",
              "    .colab-df-container {\n",
              "      display:flex;\n",
              "      flex-wrap:wrap;\n",
              "      gap: 12px;\n",
              "    }\n",
              "\n",
              "    .colab-df-convert {\n",
              "      background-color: #E8F0FE;\n",
              "      border: none;\n",
              "      border-radius: 50%;\n",
              "      cursor: pointer;\n",
              "      display: none;\n",
              "      fill: #1967D2;\n",
              "      height: 32px;\n",
              "      padding: 0 0 0 0;\n",
              "      width: 32px;\n",
              "    }\n",
              "\n",
              "    .colab-df-convert:hover {\n",
              "      background-color: #E2EBFA;\n",
              "      box-shadow: 0px 1px 2px rgba(60, 64, 67, 0.3), 0px 1px 3px 1px rgba(60, 64, 67, 0.15);\n",
              "      fill: #174EA6;\n",
              "    }\n",
              "\n",
              "    [theme=dark] .colab-df-convert {\n",
              "      background-color: #3B4455;\n",
              "      fill: #D2E3FC;\n",
              "    }\n",
              "\n",
              "    [theme=dark] .colab-df-convert:hover {\n",
              "      background-color: #434B5C;\n",
              "      box-shadow: 0px 1px 3px 1px rgba(0, 0, 0, 0.15);\n",
              "      filter: drop-shadow(0px 1px 2px rgba(0, 0, 0, 0.3));\n",
              "      fill: #FFFFFF;\n",
              "    }\n",
              "  </style>\n",
              "\n",
              "      <script>\n",
              "        const buttonEl =\n",
              "          document.querySelector('#df-f1eb6906-50dd-49c1-9b0d-ca4acd454156 button.colab-df-convert');\n",
              "        buttonEl.style.display =\n",
              "          google.colab.kernel.accessAllowed ? 'block' : 'none';\n",
              "\n",
              "        async function convertToInteractive(key) {\n",
              "          const element = document.querySelector('#df-f1eb6906-50dd-49c1-9b0d-ca4acd454156');\n",
              "          const dataTable =\n",
              "            await google.colab.kernel.invokeFunction('convertToInteractive',\n",
              "                                                     [key], {});\n",
              "          if (!dataTable) return;\n",
              "\n",
              "          const docLinkHtml = 'Like what you see? Visit the ' +\n",
              "            '<a target=\"_blank\" href=https://colab.research.google.com/notebooks/data_table.ipynb>data table notebook</a>'\n",
              "            + ' to learn more about interactive tables.';\n",
              "          element.innerHTML = '';\n",
              "          dataTable['output_type'] = 'display_data';\n",
              "          await google.colab.output.renderOutput(dataTable, element);\n",
              "          const docLink = document.createElement('div');\n",
              "          docLink.innerHTML = docLinkHtml;\n",
              "          element.appendChild(docLink);\n",
              "        }\n",
              "      </script>\n",
              "    </div>\n",
              "  </div>\n",
              "  "
            ]
          },
          "metadata": {},
          "execution_count": 50
        }
      ]
    },
    {
      "cell_type": "code",
      "source": [
        "r_minus = np.sum((diff < 0) * rank)\n",
        "r_plus = np.sum((diff > 0) * rank)\n",
        "\n",
        "r_minus, r_plus"
      ],
      "metadata": {
        "colab": {
          "base_uri": "https://localhost:8080/"
        },
        "id": "bNOykZmfb-2p",
        "outputId": "3870689e-efb4-456b-990a-199d7ceabbdb"
      },
      "execution_count": 51,
      "outputs": [
        {
          "output_type": "execute_result",
          "data": {
            "text/plain": [
              "(0, 21)"
            ]
          },
          "metadata": {},
          "execution_count": 51
        }
      ]
    },
    {
      "cell_type": "code",
      "source": [
        "toy_df['후'] = toy_df['전'] + [1, -2, -3, 4, 5, -6]\n",
        "diff = toy_df['후'] - toy_df['전']\n",
        "rank = stats.rankdata(abs(diff)).astype(int)\n",
        "toy_df['차'] = diff\n",
        "toy_df['순위'] = rank\n",
        "toy_df"
      ],
      "metadata": {
        "colab": {
          "base_uri": "https://localhost:8080/",
          "height": 238
        },
        "id": "Q4JJ_uupb-5F",
        "outputId": "e29cb52e-cda9-4acb-ff83-5d96ef9c5e3d"
      },
      "execution_count": 52,
      "outputs": [
        {
          "output_type": "execute_result",
          "data": {
            "text/plain": [
              "    전   후  차  순위\n",
              "0  59  60  1   1\n",
              "1  52  50 -2   2\n",
              "2  55  52 -3   3\n",
              "3  61  65  4   4\n",
              "4  59  64  5   5\n",
              "5  45  39 -6   6"
            ],
            "text/html": [
              "\n",
              "  <div id=\"df-a709917e-3f19-4d90-91ab-3f3298308fbd\">\n",
              "    <div class=\"colab-df-container\">\n",
              "      <div>\n",
              "<style scoped>\n",
              "    .dataframe tbody tr th:only-of-type {\n",
              "        vertical-align: middle;\n",
              "    }\n",
              "\n",
              "    .dataframe tbody tr th {\n",
              "        vertical-align: top;\n",
              "    }\n",
              "\n",
              "    .dataframe thead th {\n",
              "        text-align: right;\n",
              "    }\n",
              "</style>\n",
              "<table border=\"1\" class=\"dataframe\">\n",
              "  <thead>\n",
              "    <tr style=\"text-align: right;\">\n",
              "      <th></th>\n",
              "      <th>전</th>\n",
              "      <th>후</th>\n",
              "      <th>차</th>\n",
              "      <th>순위</th>\n",
              "    </tr>\n",
              "  </thead>\n",
              "  <tbody>\n",
              "    <tr>\n",
              "      <th>0</th>\n",
              "      <td>59</td>\n",
              "      <td>60</td>\n",
              "      <td>1</td>\n",
              "      <td>1</td>\n",
              "    </tr>\n",
              "    <tr>\n",
              "      <th>1</th>\n",
              "      <td>52</td>\n",
              "      <td>50</td>\n",
              "      <td>-2</td>\n",
              "      <td>2</td>\n",
              "    </tr>\n",
              "    <tr>\n",
              "      <th>2</th>\n",
              "      <td>55</td>\n",
              "      <td>52</td>\n",
              "      <td>-3</td>\n",
              "      <td>3</td>\n",
              "    </tr>\n",
              "    <tr>\n",
              "      <th>3</th>\n",
              "      <td>61</td>\n",
              "      <td>65</td>\n",
              "      <td>4</td>\n",
              "      <td>4</td>\n",
              "    </tr>\n",
              "    <tr>\n",
              "      <th>4</th>\n",
              "      <td>59</td>\n",
              "      <td>64</td>\n",
              "      <td>5</td>\n",
              "      <td>5</td>\n",
              "    </tr>\n",
              "    <tr>\n",
              "      <th>5</th>\n",
              "      <td>45</td>\n",
              "      <td>39</td>\n",
              "      <td>-6</td>\n",
              "      <td>6</td>\n",
              "    </tr>\n",
              "  </tbody>\n",
              "</table>\n",
              "</div>\n",
              "      <button class=\"colab-df-convert\" onclick=\"convertToInteractive('df-a709917e-3f19-4d90-91ab-3f3298308fbd')\"\n",
              "              title=\"Convert this dataframe to an interactive table.\"\n",
              "              style=\"display:none;\">\n",
              "        \n",
              "  <svg xmlns=\"http://www.w3.org/2000/svg\" height=\"24px\"viewBox=\"0 0 24 24\"\n",
              "       width=\"24px\">\n",
              "    <path d=\"M0 0h24v24H0V0z\" fill=\"none\"/>\n",
              "    <path d=\"M18.56 5.44l.94 2.06.94-2.06 2.06-.94-2.06-.94-.94-2.06-.94 2.06-2.06.94zm-11 1L8.5 8.5l.94-2.06 2.06-.94-2.06-.94L8.5 2.5l-.94 2.06-2.06.94zm10 10l.94 2.06.94-2.06 2.06-.94-2.06-.94-.94-2.06-.94 2.06-2.06.94z\"/><path d=\"M17.41 7.96l-1.37-1.37c-.4-.4-.92-.59-1.43-.59-.52 0-1.04.2-1.43.59L10.3 9.45l-7.72 7.72c-.78.78-.78 2.05 0 2.83L4 21.41c.39.39.9.59 1.41.59.51 0 1.02-.2 1.41-.59l7.78-7.78 2.81-2.81c.8-.78.8-2.07 0-2.86zM5.41 20L4 18.59l7.72-7.72 1.47 1.35L5.41 20z\"/>\n",
              "  </svg>\n",
              "      </button>\n",
              "      \n",
              "  <style>\n",
              "    .colab-df-container {\n",
              "      display:flex;\n",
              "      flex-wrap:wrap;\n",
              "      gap: 12px;\n",
              "    }\n",
              "\n",
              "    .colab-df-convert {\n",
              "      background-color: #E8F0FE;\n",
              "      border: none;\n",
              "      border-radius: 50%;\n",
              "      cursor: pointer;\n",
              "      display: none;\n",
              "      fill: #1967D2;\n",
              "      height: 32px;\n",
              "      padding: 0 0 0 0;\n",
              "      width: 32px;\n",
              "    }\n",
              "\n",
              "    .colab-df-convert:hover {\n",
              "      background-color: #E2EBFA;\n",
              "      box-shadow: 0px 1px 2px rgba(60, 64, 67, 0.3), 0px 1px 3px 1px rgba(60, 64, 67, 0.15);\n",
              "      fill: #174EA6;\n",
              "    }\n",
              "\n",
              "    [theme=dark] .colab-df-convert {\n",
              "      background-color: #3B4455;\n",
              "      fill: #D2E3FC;\n",
              "    }\n",
              "\n",
              "    [theme=dark] .colab-df-convert:hover {\n",
              "      background-color: #434B5C;\n",
              "      box-shadow: 0px 1px 3px 1px rgba(0, 0, 0, 0.15);\n",
              "      filter: drop-shadow(0px 1px 2px rgba(0, 0, 0, 0.3));\n",
              "      fill: #FFFFFF;\n",
              "    }\n",
              "  </style>\n",
              "\n",
              "      <script>\n",
              "        const buttonEl =\n",
              "          document.querySelector('#df-a709917e-3f19-4d90-91ab-3f3298308fbd button.colab-df-convert');\n",
              "        buttonEl.style.display =\n",
              "          google.colab.kernel.accessAllowed ? 'block' : 'none';\n",
              "\n",
              "        async function convertToInteractive(key) {\n",
              "          const element = document.querySelector('#df-a709917e-3f19-4d90-91ab-3f3298308fbd');\n",
              "          const dataTable =\n",
              "            await google.colab.kernel.invokeFunction('convertToInteractive',\n",
              "                                                     [key], {});\n",
              "          if (!dataTable) return;\n",
              "\n",
              "          const docLinkHtml = 'Like what you see? Visit the ' +\n",
              "            '<a target=\"_blank\" href=https://colab.research.google.com/notebooks/data_table.ipynb>data table notebook</a>'\n",
              "            + ' to learn more about interactive tables.';\n",
              "          element.innerHTML = '';\n",
              "          dataTable['output_type'] = 'display_data';\n",
              "          await google.colab.output.renderOutput(dataTable, element);\n",
              "          const docLink = document.createElement('div');\n",
              "          docLink.innerHTML = docLinkHtml;\n",
              "          element.appendChild(docLink);\n",
              "        }\n",
              "      </script>\n",
              "    </div>\n",
              "  </div>\n",
              "  "
            ]
          },
          "metadata": {},
          "execution_count": 52
        }
      ]
    },
    {
      "cell_type": "code",
      "source": [
        "r_minus = np.sum((diff < 0) * rank)\n",
        "r_plus = np.sum((diff > 0) * rank)\n",
        "\n",
        "r_minus, r_plus"
      ],
      "metadata": {
        "colab": {
          "base_uri": "https://localhost:8080/"
        },
        "id": "5aQYbtnQb-8g",
        "outputId": "5275d40a-43df-4fa2-cd95-21ddddb2bba0"
      },
      "execution_count": 53,
      "outputs": [
        {
          "output_type": "execute_result",
          "data": {
            "text/plain": [
              "(11, 10)"
            ]
          },
          "metadata": {},
          "execution_count": 53
        }
      ]
    },
    {
      "cell_type": "code",
      "source": [
        "T, p = stats.wilcoxon(training_rel['전'], training_rel['후'])\n",
        "p"
      ],
      "metadata": {
        "colab": {
          "base_uri": "https://localhost:8080/"
        },
        "id": "ar3AL51UcJa5",
        "outputId": "957b2cb6-a3e5-42fe-ac74-fc1793ffc48b"
      },
      "execution_count": 54,
      "outputs": [
        {
          "output_type": "execute_result",
          "data": {
            "text/plain": [
              "0.038"
            ]
          },
          "metadata": {},
          "execution_count": 54
        }
      ]
    },
    {
      "cell_type": "code",
      "source": [
        "T, p = stats.wilcoxon(training_rel['후'] - training_rel['전'])\n",
        "p"
      ],
      "metadata": {
        "colab": {
          "base_uri": "https://localhost:8080/"
        },
        "id": "-CUyaATqcJz5",
        "outputId": "5b322f51-7ff8-4367-aa59-2c59287e822e"
      },
      "execution_count": 55,
      "outputs": [
        {
          "output_type": "execute_result",
          "data": {
            "text/plain": [
              "0.038"
            ]
          },
          "metadata": {},
          "execution_count": 55
        }
      ]
    },
    {
      "cell_type": "code",
      "source": [
        "n = 10000\n",
        "diffs = np.round(stats.norm(3, 4).rvs(size=(n, 20)))"
      ],
      "metadata": {
        "id": "tA3quiBacJ2Q"
      },
      "execution_count": 56,
      "outputs": []
    },
    {
      "cell_type": "code",
      "source": [
        "cnt = 0\n",
        "alpha = 0.05\n",
        "for diff in diffs:\n",
        "    t, p = stats.ttest_1samp(diff, 0)\n",
        "    if p < alpha:\n",
        "        cnt += 1\n",
        "cnt / n"
      ],
      "metadata": {
        "colab": {
          "base_uri": "https://localhost:8080/"
        },
        "id": "5a2kxHMLcJ4k",
        "outputId": "2dccef33-60f1-45ce-c3a0-2f1344797add"
      },
      "execution_count": 57,
      "outputs": [
        {
          "output_type": "execute_result",
          "data": {
            "text/plain": [
              "0.878"
            ]
          },
          "metadata": {},
          "execution_count": 57
        }
      ]
    },
    {
      "cell_type": "code",
      "source": [
        "cnt = 0\n",
        "alpha = 0.05\n",
        "for diff in diffs:\n",
        "    T, p = stats.wilcoxon(diff)\n",
        "    if p < alpha:\n",
        "        cnt += 1\n",
        "cnt / n"
      ],
      "metadata": {
        "colab": {
          "base_uri": "https://localhost:8080/"
        },
        "id": "YiE8aygocQPg",
        "outputId": "f9e3c9e3-553b-43c4-8eb6-e59faa5f9b90"
      },
      "execution_count": 58,
      "outputs": [
        {
          "output_type": "execute_result",
          "data": {
            "text/plain": [
              "0.869"
            ]
          },
          "metadata": {},
          "execution_count": 58
        }
      ]
    },
    {
      "cell_type": "code",
      "source": [
        ""
      ],
      "metadata": {
        "id": "m3ENLjZrcR_F"
      },
      "execution_count": null,
      "outputs": []
    },
    {
      "cell_type": "markdown",
      "source": [
        "### 만.위트니의 U검정(Mann-Whitney rank test)\n",
        "\n",
        "\n",
        "**대응되는 데이터가 없는, 독립된 2표본 모집단에 정규분포를 가정할 수 없는 경우**\n",
        "\n",
        "- 중앙값 차이에 대한 검정 방법\n",
        "\n",
        "- Not 부호순위검정\n",
        "\n",
        "- 2표본 데이터 전체에 대해서 값이 작은 순서대로 순위를 부여하고, 검정통계량은 한 표본 데이터의 순위합을 사용\n",
        "\n",
        "   - 좋은 순위가 모여있으면, 순위의 합이 작아지고 반대면 커지는 것을 통해서 데이터 편형 반영\n",
        "\n",
        "\n",
        "- U검정의 검정통계량은 한 표본 데이터의 크기를 n1이라 할 때, 순위합에서 {n1(n1+1)} /2를 뺀 값\n",
        "\n",
        "- Scipy.stats의 mannwhiteneyu함수를 사용하여 U검정 가능\n",
        "\n",
        "   - 데이터는 2표본, 파라미터 alternative는 two-sided설정"
      ],
      "metadata": {
        "id": "Z-L_HqqgcTHr"
      }
    },
    {
      "cell_type": "code",
      "source": [
        "training_ind = pd.read_csv('/content/[패스트캠퍼스-확률및통계] 11_training_ind.csv')\n",
        "toy_df = training_ind[:5].copy()\n",
        "toy_df"
      ],
      "metadata": {
        "colab": {
          "base_uri": "https://localhost:8080/",
          "height": 206
        },
        "id": "2nSUZqbFeLLY",
        "outputId": "45945601-1d88-4e85-a2bd-c38aedea184a"
      },
      "execution_count": 59,
      "outputs": [
        {
          "output_type": "execute_result",
          "data": {
            "text/plain": [
              "    A   B\n",
              "0  47  49\n",
              "1  50  52\n",
              "2  37  54\n",
              "3  60  48\n",
              "4  39  51"
            ],
            "text/html": [
              "\n",
              "  <div id=\"df-1eb360bd-159f-47c5-981d-039bf63a51b2\">\n",
              "    <div class=\"colab-df-container\">\n",
              "      <div>\n",
              "<style scoped>\n",
              "    .dataframe tbody tr th:only-of-type {\n",
              "        vertical-align: middle;\n",
              "    }\n",
              "\n",
              "    .dataframe tbody tr th {\n",
              "        vertical-align: top;\n",
              "    }\n",
              "\n",
              "    .dataframe thead th {\n",
              "        text-align: right;\n",
              "    }\n",
              "</style>\n",
              "<table border=\"1\" class=\"dataframe\">\n",
              "  <thead>\n",
              "    <tr style=\"text-align: right;\">\n",
              "      <th></th>\n",
              "      <th>A</th>\n",
              "      <th>B</th>\n",
              "    </tr>\n",
              "  </thead>\n",
              "  <tbody>\n",
              "    <tr>\n",
              "      <th>0</th>\n",
              "      <td>47</td>\n",
              "      <td>49</td>\n",
              "    </tr>\n",
              "    <tr>\n",
              "      <th>1</th>\n",
              "      <td>50</td>\n",
              "      <td>52</td>\n",
              "    </tr>\n",
              "    <tr>\n",
              "      <th>2</th>\n",
              "      <td>37</td>\n",
              "      <td>54</td>\n",
              "    </tr>\n",
              "    <tr>\n",
              "      <th>3</th>\n",
              "      <td>60</td>\n",
              "      <td>48</td>\n",
              "    </tr>\n",
              "    <tr>\n",
              "      <th>4</th>\n",
              "      <td>39</td>\n",
              "      <td>51</td>\n",
              "    </tr>\n",
              "  </tbody>\n",
              "</table>\n",
              "</div>\n",
              "      <button class=\"colab-df-convert\" onclick=\"convertToInteractive('df-1eb360bd-159f-47c5-981d-039bf63a51b2')\"\n",
              "              title=\"Convert this dataframe to an interactive table.\"\n",
              "              style=\"display:none;\">\n",
              "        \n",
              "  <svg xmlns=\"http://www.w3.org/2000/svg\" height=\"24px\"viewBox=\"0 0 24 24\"\n",
              "       width=\"24px\">\n",
              "    <path d=\"M0 0h24v24H0V0z\" fill=\"none\"/>\n",
              "    <path d=\"M18.56 5.44l.94 2.06.94-2.06 2.06-.94-2.06-.94-.94-2.06-.94 2.06-2.06.94zm-11 1L8.5 8.5l.94-2.06 2.06-.94-2.06-.94L8.5 2.5l-.94 2.06-2.06.94zm10 10l.94 2.06.94-2.06 2.06-.94-2.06-.94-.94-2.06-.94 2.06-2.06.94z\"/><path d=\"M17.41 7.96l-1.37-1.37c-.4-.4-.92-.59-1.43-.59-.52 0-1.04.2-1.43.59L10.3 9.45l-7.72 7.72c-.78.78-.78 2.05 0 2.83L4 21.41c.39.39.9.59 1.41.59.51 0 1.02-.2 1.41-.59l7.78-7.78 2.81-2.81c.8-.78.8-2.07 0-2.86zM5.41 20L4 18.59l7.72-7.72 1.47 1.35L5.41 20z\"/>\n",
              "  </svg>\n",
              "      </button>\n",
              "      \n",
              "  <style>\n",
              "    .colab-df-container {\n",
              "      display:flex;\n",
              "      flex-wrap:wrap;\n",
              "      gap: 12px;\n",
              "    }\n",
              "\n",
              "    .colab-df-convert {\n",
              "      background-color: #E8F0FE;\n",
              "      border: none;\n",
              "      border-radius: 50%;\n",
              "      cursor: pointer;\n",
              "      display: none;\n",
              "      fill: #1967D2;\n",
              "      height: 32px;\n",
              "      padding: 0 0 0 0;\n",
              "      width: 32px;\n",
              "    }\n",
              "\n",
              "    .colab-df-convert:hover {\n",
              "      background-color: #E2EBFA;\n",
              "      box-shadow: 0px 1px 2px rgba(60, 64, 67, 0.3), 0px 1px 3px 1px rgba(60, 64, 67, 0.15);\n",
              "      fill: #174EA6;\n",
              "    }\n",
              "\n",
              "    [theme=dark] .colab-df-convert {\n",
              "      background-color: #3B4455;\n",
              "      fill: #D2E3FC;\n",
              "    }\n",
              "\n",
              "    [theme=dark] .colab-df-convert:hover {\n",
              "      background-color: #434B5C;\n",
              "      box-shadow: 0px 1px 3px 1px rgba(0, 0, 0, 0.15);\n",
              "      filter: drop-shadow(0px 1px 2px rgba(0, 0, 0, 0.3));\n",
              "      fill: #FFFFFF;\n",
              "    }\n",
              "  </style>\n",
              "\n",
              "      <script>\n",
              "        const buttonEl =\n",
              "          document.querySelector('#df-1eb360bd-159f-47c5-981d-039bf63a51b2 button.colab-df-convert');\n",
              "        buttonEl.style.display =\n",
              "          google.colab.kernel.accessAllowed ? 'block' : 'none';\n",
              "\n",
              "        async function convertToInteractive(key) {\n",
              "          const element = document.querySelector('#df-1eb360bd-159f-47c5-981d-039bf63a51b2');\n",
              "          const dataTable =\n",
              "            await google.colab.kernel.invokeFunction('convertToInteractive',\n",
              "                                                     [key], {});\n",
              "          if (!dataTable) return;\n",
              "\n",
              "          const docLinkHtml = 'Like what you see? Visit the ' +\n",
              "            '<a target=\"_blank\" href=https://colab.research.google.com/notebooks/data_table.ipynb>data table notebook</a>'\n",
              "            + ' to learn more about interactive tables.';\n",
              "          element.innerHTML = '';\n",
              "          dataTable['output_type'] = 'display_data';\n",
              "          await google.colab.output.renderOutput(dataTable, element);\n",
              "          const docLink = document.createElement('div');\n",
              "          docLink.innerHTML = docLinkHtml;\n",
              "          element.appendChild(docLink);\n",
              "        }\n",
              "      </script>\n",
              "    </div>\n",
              "  </div>\n",
              "  "
            ]
          },
          "metadata": {},
          "execution_count": 59
        }
      ]
    },
    {
      "cell_type": "code",
      "source": [
        "rank = stats.rankdata(np.concatenate([toy_df['A'],\n",
        "                                      toy_df['B']]))\n",
        "rank_df = pd.DataFrame({'A': rank[:5],\n",
        "                        'B': rank[5:10]}).astype(int)\n",
        "rank_df"
      ],
      "metadata": {
        "colab": {
          "base_uri": "https://localhost:8080/",
          "height": 206
        },
        "id": "eeOSXrzxeX9N",
        "outputId": "797a4d2e-f22c-4868-e01c-5ba47ee8abba"
      },
      "execution_count": 60,
      "outputs": [
        {
          "output_type": "execute_result",
          "data": {
            "text/plain": [
              "    A  B\n",
              "0   3  5\n",
              "1   6  8\n",
              "2   1  9\n",
              "3  10  4\n",
              "4   2  7"
            ],
            "text/html": [
              "\n",
              "  <div id=\"df-b9d7fb12-cbc3-48e6-b0d6-1d7f1a640d05\">\n",
              "    <div class=\"colab-df-container\">\n",
              "      <div>\n",
              "<style scoped>\n",
              "    .dataframe tbody tr th:only-of-type {\n",
              "        vertical-align: middle;\n",
              "    }\n",
              "\n",
              "    .dataframe tbody tr th {\n",
              "        vertical-align: top;\n",
              "    }\n",
              "\n",
              "    .dataframe thead th {\n",
              "        text-align: right;\n",
              "    }\n",
              "</style>\n",
              "<table border=\"1\" class=\"dataframe\">\n",
              "  <thead>\n",
              "    <tr style=\"text-align: right;\">\n",
              "      <th></th>\n",
              "      <th>A</th>\n",
              "      <th>B</th>\n",
              "    </tr>\n",
              "  </thead>\n",
              "  <tbody>\n",
              "    <tr>\n",
              "      <th>0</th>\n",
              "      <td>3</td>\n",
              "      <td>5</td>\n",
              "    </tr>\n",
              "    <tr>\n",
              "      <th>1</th>\n",
              "      <td>6</td>\n",
              "      <td>8</td>\n",
              "    </tr>\n",
              "    <tr>\n",
              "      <th>2</th>\n",
              "      <td>1</td>\n",
              "      <td>9</td>\n",
              "    </tr>\n",
              "    <tr>\n",
              "      <th>3</th>\n",
              "      <td>10</td>\n",
              "      <td>4</td>\n",
              "    </tr>\n",
              "    <tr>\n",
              "      <th>4</th>\n",
              "      <td>2</td>\n",
              "      <td>7</td>\n",
              "    </tr>\n",
              "  </tbody>\n",
              "</table>\n",
              "</div>\n",
              "      <button class=\"colab-df-convert\" onclick=\"convertToInteractive('df-b9d7fb12-cbc3-48e6-b0d6-1d7f1a640d05')\"\n",
              "              title=\"Convert this dataframe to an interactive table.\"\n",
              "              style=\"display:none;\">\n",
              "        \n",
              "  <svg xmlns=\"http://www.w3.org/2000/svg\" height=\"24px\"viewBox=\"0 0 24 24\"\n",
              "       width=\"24px\">\n",
              "    <path d=\"M0 0h24v24H0V0z\" fill=\"none\"/>\n",
              "    <path d=\"M18.56 5.44l.94 2.06.94-2.06 2.06-.94-2.06-.94-.94-2.06-.94 2.06-2.06.94zm-11 1L8.5 8.5l.94-2.06 2.06-.94-2.06-.94L8.5 2.5l-.94 2.06-2.06.94zm10 10l.94 2.06.94-2.06 2.06-.94-2.06-.94-.94-2.06-.94 2.06-2.06.94z\"/><path d=\"M17.41 7.96l-1.37-1.37c-.4-.4-.92-.59-1.43-.59-.52 0-1.04.2-1.43.59L10.3 9.45l-7.72 7.72c-.78.78-.78 2.05 0 2.83L4 21.41c.39.39.9.59 1.41.59.51 0 1.02-.2 1.41-.59l7.78-7.78 2.81-2.81c.8-.78.8-2.07 0-2.86zM5.41 20L4 18.59l7.72-7.72 1.47 1.35L5.41 20z\"/>\n",
              "  </svg>\n",
              "      </button>\n",
              "      \n",
              "  <style>\n",
              "    .colab-df-container {\n",
              "      display:flex;\n",
              "      flex-wrap:wrap;\n",
              "      gap: 12px;\n",
              "    }\n",
              "\n",
              "    .colab-df-convert {\n",
              "      background-color: #E8F0FE;\n",
              "      border: none;\n",
              "      border-radius: 50%;\n",
              "      cursor: pointer;\n",
              "      display: none;\n",
              "      fill: #1967D2;\n",
              "      height: 32px;\n",
              "      padding: 0 0 0 0;\n",
              "      width: 32px;\n",
              "    }\n",
              "\n",
              "    .colab-df-convert:hover {\n",
              "      background-color: #E2EBFA;\n",
              "      box-shadow: 0px 1px 2px rgba(60, 64, 67, 0.3), 0px 1px 3px 1px rgba(60, 64, 67, 0.15);\n",
              "      fill: #174EA6;\n",
              "    }\n",
              "\n",
              "    [theme=dark] .colab-df-convert {\n",
              "      background-color: #3B4455;\n",
              "      fill: #D2E3FC;\n",
              "    }\n",
              "\n",
              "    [theme=dark] .colab-df-convert:hover {\n",
              "      background-color: #434B5C;\n",
              "      box-shadow: 0px 1px 3px 1px rgba(0, 0, 0, 0.15);\n",
              "      filter: drop-shadow(0px 1px 2px rgba(0, 0, 0, 0.3));\n",
              "      fill: #FFFFFF;\n",
              "    }\n",
              "  </style>\n",
              "\n",
              "      <script>\n",
              "        const buttonEl =\n",
              "          document.querySelector('#df-b9d7fb12-cbc3-48e6-b0d6-1d7f1a640d05 button.colab-df-convert');\n",
              "        buttonEl.style.display =\n",
              "          google.colab.kernel.accessAllowed ? 'block' : 'none';\n",
              "\n",
              "        async function convertToInteractive(key) {\n",
              "          const element = document.querySelector('#df-b9d7fb12-cbc3-48e6-b0d6-1d7f1a640d05');\n",
              "          const dataTable =\n",
              "            await google.colab.kernel.invokeFunction('convertToInteractive',\n",
              "                                                     [key], {});\n",
              "          if (!dataTable) return;\n",
              "\n",
              "          const docLinkHtml = 'Like what you see? Visit the ' +\n",
              "            '<a target=\"_blank\" href=https://colab.research.google.com/notebooks/data_table.ipynb>data table notebook</a>'\n",
              "            + ' to learn more about interactive tables.';\n",
              "          element.innerHTML = '';\n",
              "          dataTable['output_type'] = 'display_data';\n",
              "          await google.colab.output.renderOutput(dataTable, element);\n",
              "          const docLink = document.createElement('div');\n",
              "          docLink.innerHTML = docLinkHtml;\n",
              "          element.appendChild(docLink);\n",
              "        }\n",
              "      </script>\n",
              "    </div>\n",
              "  </div>\n",
              "  "
            ]
          },
          "metadata": {},
          "execution_count": 60
        }
      ]
    },
    {
      "cell_type": "code",
      "source": [
        "n1 = len(rank_df['A'])\n",
        "u = rank_df['A'].sum() - (n1*(n1+1))/2\n",
        "u"
      ],
      "metadata": {
        "colab": {
          "base_uri": "https://localhost:8080/"
        },
        "id": "NfzU3MzIeZLC",
        "outputId": "24c27da9-4a6f-4cc1-eed5-e6de47ab9599"
      },
      "execution_count": 61,
      "outputs": [
        {
          "output_type": "execute_result",
          "data": {
            "text/plain": [
              "7.000"
            ]
          },
          "metadata": {},
          "execution_count": 61
        }
      ]
    },
    {
      "cell_type": "code",
      "source": [
        "rank_df = pd.DataFrame(np.arange(1, 11).reshape(2, 5).T,\n",
        "                       columns=['A', 'B'])\n",
        "rank_df"
      ],
      "metadata": {
        "colab": {
          "base_uri": "https://localhost:8080/",
          "height": 206
        },
        "id": "FbqRLmAdeZ_n",
        "outputId": "9eaa8fcd-82e6-4bab-da6e-02f64f6dcabd"
      },
      "execution_count": 62,
      "outputs": [
        {
          "output_type": "execute_result",
          "data": {
            "text/plain": [
              "   A   B\n",
              "0  1   6\n",
              "1  2   7\n",
              "2  3   8\n",
              "3  4   9\n",
              "4  5  10"
            ],
            "text/html": [
              "\n",
              "  <div id=\"df-ecd185b0-e470-46ee-8fb6-ce107181a09c\">\n",
              "    <div class=\"colab-df-container\">\n",
              "      <div>\n",
              "<style scoped>\n",
              "    .dataframe tbody tr th:only-of-type {\n",
              "        vertical-align: middle;\n",
              "    }\n",
              "\n",
              "    .dataframe tbody tr th {\n",
              "        vertical-align: top;\n",
              "    }\n",
              "\n",
              "    .dataframe thead th {\n",
              "        text-align: right;\n",
              "    }\n",
              "</style>\n",
              "<table border=\"1\" class=\"dataframe\">\n",
              "  <thead>\n",
              "    <tr style=\"text-align: right;\">\n",
              "      <th></th>\n",
              "      <th>A</th>\n",
              "      <th>B</th>\n",
              "    </tr>\n",
              "  </thead>\n",
              "  <tbody>\n",
              "    <tr>\n",
              "      <th>0</th>\n",
              "      <td>1</td>\n",
              "      <td>6</td>\n",
              "    </tr>\n",
              "    <tr>\n",
              "      <th>1</th>\n",
              "      <td>2</td>\n",
              "      <td>7</td>\n",
              "    </tr>\n",
              "    <tr>\n",
              "      <th>2</th>\n",
              "      <td>3</td>\n",
              "      <td>8</td>\n",
              "    </tr>\n",
              "    <tr>\n",
              "      <th>3</th>\n",
              "      <td>4</td>\n",
              "      <td>9</td>\n",
              "    </tr>\n",
              "    <tr>\n",
              "      <th>4</th>\n",
              "      <td>5</td>\n",
              "      <td>10</td>\n",
              "    </tr>\n",
              "  </tbody>\n",
              "</table>\n",
              "</div>\n",
              "      <button class=\"colab-df-convert\" onclick=\"convertToInteractive('df-ecd185b0-e470-46ee-8fb6-ce107181a09c')\"\n",
              "              title=\"Convert this dataframe to an interactive table.\"\n",
              "              style=\"display:none;\">\n",
              "        \n",
              "  <svg xmlns=\"http://www.w3.org/2000/svg\" height=\"24px\"viewBox=\"0 0 24 24\"\n",
              "       width=\"24px\">\n",
              "    <path d=\"M0 0h24v24H0V0z\" fill=\"none\"/>\n",
              "    <path d=\"M18.56 5.44l.94 2.06.94-2.06 2.06-.94-2.06-.94-.94-2.06-.94 2.06-2.06.94zm-11 1L8.5 8.5l.94-2.06 2.06-.94-2.06-.94L8.5 2.5l-.94 2.06-2.06.94zm10 10l.94 2.06.94-2.06 2.06-.94-2.06-.94-.94-2.06-.94 2.06-2.06.94z\"/><path d=\"M17.41 7.96l-1.37-1.37c-.4-.4-.92-.59-1.43-.59-.52 0-1.04.2-1.43.59L10.3 9.45l-7.72 7.72c-.78.78-.78 2.05 0 2.83L4 21.41c.39.39.9.59 1.41.59.51 0 1.02-.2 1.41-.59l7.78-7.78 2.81-2.81c.8-.78.8-2.07 0-2.86zM5.41 20L4 18.59l7.72-7.72 1.47 1.35L5.41 20z\"/>\n",
              "  </svg>\n",
              "      </button>\n",
              "      \n",
              "  <style>\n",
              "    .colab-df-container {\n",
              "      display:flex;\n",
              "      flex-wrap:wrap;\n",
              "      gap: 12px;\n",
              "    }\n",
              "\n",
              "    .colab-df-convert {\n",
              "      background-color: #E8F0FE;\n",
              "      border: none;\n",
              "      border-radius: 50%;\n",
              "      cursor: pointer;\n",
              "      display: none;\n",
              "      fill: #1967D2;\n",
              "      height: 32px;\n",
              "      padding: 0 0 0 0;\n",
              "      width: 32px;\n",
              "    }\n",
              "\n",
              "    .colab-df-convert:hover {\n",
              "      background-color: #E2EBFA;\n",
              "      box-shadow: 0px 1px 2px rgba(60, 64, 67, 0.3), 0px 1px 3px 1px rgba(60, 64, 67, 0.15);\n",
              "      fill: #174EA6;\n",
              "    }\n",
              "\n",
              "    [theme=dark] .colab-df-convert {\n",
              "      background-color: #3B4455;\n",
              "      fill: #D2E3FC;\n",
              "    }\n",
              "\n",
              "    [theme=dark] .colab-df-convert:hover {\n",
              "      background-color: #434B5C;\n",
              "      box-shadow: 0px 1px 3px 1px rgba(0, 0, 0, 0.15);\n",
              "      filter: drop-shadow(0px 1px 2px rgba(0, 0, 0, 0.3));\n",
              "      fill: #FFFFFF;\n",
              "    }\n",
              "  </style>\n",
              "\n",
              "      <script>\n",
              "        const buttonEl =\n",
              "          document.querySelector('#df-ecd185b0-e470-46ee-8fb6-ce107181a09c button.colab-df-convert');\n",
              "        buttonEl.style.display =\n",
              "          google.colab.kernel.accessAllowed ? 'block' : 'none';\n",
              "\n",
              "        async function convertToInteractive(key) {\n",
              "          const element = document.querySelector('#df-ecd185b0-e470-46ee-8fb6-ce107181a09c');\n",
              "          const dataTable =\n",
              "            await google.colab.kernel.invokeFunction('convertToInteractive',\n",
              "                                                     [key], {});\n",
              "          if (!dataTable) return;\n",
              "\n",
              "          const docLinkHtml = 'Like what you see? Visit the ' +\n",
              "            '<a target=\"_blank\" href=https://colab.research.google.com/notebooks/data_table.ipynb>data table notebook</a>'\n",
              "            + ' to learn more about interactive tables.';\n",
              "          element.innerHTML = '';\n",
              "          dataTable['output_type'] = 'display_data';\n",
              "          await google.colab.output.renderOutput(dataTable, element);\n",
              "          const docLink = document.createElement('div');\n",
              "          docLink.innerHTML = docLinkHtml;\n",
              "          element.appendChild(docLink);\n",
              "        }\n",
              "      </script>\n",
              "    </div>\n",
              "  </div>\n",
              "  "
            ]
          },
          "metadata": {},
          "execution_count": 62
        }
      ]
    },
    {
      "cell_type": "code",
      "source": [
        "u = rank_df['A'].sum() - (n1*(n1+1))/2\n",
        "u"
      ],
      "metadata": {
        "colab": {
          "base_uri": "https://localhost:8080/"
        },
        "id": "G3HtC5ADeacE",
        "outputId": "bda4a01c-3032-4885-c715-3beeb1e64b5b"
      },
      "execution_count": 63,
      "outputs": [
        {
          "output_type": "execute_result",
          "data": {
            "text/plain": [
              "0.000"
            ]
          },
          "metadata": {},
          "execution_count": 63
        }
      ]
    },
    {
      "cell_type": "code",
      "source": [
        "rank_df = pd.DataFrame(np.arange(1, 11).reshape(2, 5)[::-1].T,\n",
        "                       columns=['A', 'B'])\n",
        "rank_df"
      ],
      "metadata": {
        "colab": {
          "base_uri": "https://localhost:8080/",
          "height": 206
        },
        "id": "Dgt-iuc_eaeS",
        "outputId": "0bc16efa-0ac5-43de-830f-1f1779bf72a8"
      },
      "execution_count": 64,
      "outputs": [
        {
          "output_type": "execute_result",
          "data": {
            "text/plain": [
              "    A  B\n",
              "0   6  1\n",
              "1   7  2\n",
              "2   8  3\n",
              "3   9  4\n",
              "4  10  5"
            ],
            "text/html": [
              "\n",
              "  <div id=\"df-f72a48e5-cde2-40cd-93a9-41bb75403ab4\">\n",
              "    <div class=\"colab-df-container\">\n",
              "      <div>\n",
              "<style scoped>\n",
              "    .dataframe tbody tr th:only-of-type {\n",
              "        vertical-align: middle;\n",
              "    }\n",
              "\n",
              "    .dataframe tbody tr th {\n",
              "        vertical-align: top;\n",
              "    }\n",
              "\n",
              "    .dataframe thead th {\n",
              "        text-align: right;\n",
              "    }\n",
              "</style>\n",
              "<table border=\"1\" class=\"dataframe\">\n",
              "  <thead>\n",
              "    <tr style=\"text-align: right;\">\n",
              "      <th></th>\n",
              "      <th>A</th>\n",
              "      <th>B</th>\n",
              "    </tr>\n",
              "  </thead>\n",
              "  <tbody>\n",
              "    <tr>\n",
              "      <th>0</th>\n",
              "      <td>6</td>\n",
              "      <td>1</td>\n",
              "    </tr>\n",
              "    <tr>\n",
              "      <th>1</th>\n",
              "      <td>7</td>\n",
              "      <td>2</td>\n",
              "    </tr>\n",
              "    <tr>\n",
              "      <th>2</th>\n",
              "      <td>8</td>\n",
              "      <td>3</td>\n",
              "    </tr>\n",
              "    <tr>\n",
              "      <th>3</th>\n",
              "      <td>9</td>\n",
              "      <td>4</td>\n",
              "    </tr>\n",
              "    <tr>\n",
              "      <th>4</th>\n",
              "      <td>10</td>\n",
              "      <td>5</td>\n",
              "    </tr>\n",
              "  </tbody>\n",
              "</table>\n",
              "</div>\n",
              "      <button class=\"colab-df-convert\" onclick=\"convertToInteractive('df-f72a48e5-cde2-40cd-93a9-41bb75403ab4')\"\n",
              "              title=\"Convert this dataframe to an interactive table.\"\n",
              "              style=\"display:none;\">\n",
              "        \n",
              "  <svg xmlns=\"http://www.w3.org/2000/svg\" height=\"24px\"viewBox=\"0 0 24 24\"\n",
              "       width=\"24px\">\n",
              "    <path d=\"M0 0h24v24H0V0z\" fill=\"none\"/>\n",
              "    <path d=\"M18.56 5.44l.94 2.06.94-2.06 2.06-.94-2.06-.94-.94-2.06-.94 2.06-2.06.94zm-11 1L8.5 8.5l.94-2.06 2.06-.94-2.06-.94L8.5 2.5l-.94 2.06-2.06.94zm10 10l.94 2.06.94-2.06 2.06-.94-2.06-.94-.94-2.06-.94 2.06-2.06.94z\"/><path d=\"M17.41 7.96l-1.37-1.37c-.4-.4-.92-.59-1.43-.59-.52 0-1.04.2-1.43.59L10.3 9.45l-7.72 7.72c-.78.78-.78 2.05 0 2.83L4 21.41c.39.39.9.59 1.41.59.51 0 1.02-.2 1.41-.59l7.78-7.78 2.81-2.81c.8-.78.8-2.07 0-2.86zM5.41 20L4 18.59l7.72-7.72 1.47 1.35L5.41 20z\"/>\n",
              "  </svg>\n",
              "      </button>\n",
              "      \n",
              "  <style>\n",
              "    .colab-df-container {\n",
              "      display:flex;\n",
              "      flex-wrap:wrap;\n",
              "      gap: 12px;\n",
              "    }\n",
              "\n",
              "    .colab-df-convert {\n",
              "      background-color: #E8F0FE;\n",
              "      border: none;\n",
              "      border-radius: 50%;\n",
              "      cursor: pointer;\n",
              "      display: none;\n",
              "      fill: #1967D2;\n",
              "      height: 32px;\n",
              "      padding: 0 0 0 0;\n",
              "      width: 32px;\n",
              "    }\n",
              "\n",
              "    .colab-df-convert:hover {\n",
              "      background-color: #E2EBFA;\n",
              "      box-shadow: 0px 1px 2px rgba(60, 64, 67, 0.3), 0px 1px 3px 1px rgba(60, 64, 67, 0.15);\n",
              "      fill: #174EA6;\n",
              "    }\n",
              "\n",
              "    [theme=dark] .colab-df-convert {\n",
              "      background-color: #3B4455;\n",
              "      fill: #D2E3FC;\n",
              "    }\n",
              "\n",
              "    [theme=dark] .colab-df-convert:hover {\n",
              "      background-color: #434B5C;\n",
              "      box-shadow: 0px 1px 3px 1px rgba(0, 0, 0, 0.15);\n",
              "      filter: drop-shadow(0px 1px 2px rgba(0, 0, 0, 0.3));\n",
              "      fill: #FFFFFF;\n",
              "    }\n",
              "  </style>\n",
              "\n",
              "      <script>\n",
              "        const buttonEl =\n",
              "          document.querySelector('#df-f72a48e5-cde2-40cd-93a9-41bb75403ab4 button.colab-df-convert');\n",
              "        buttonEl.style.display =\n",
              "          google.colab.kernel.accessAllowed ? 'block' : 'none';\n",
              "\n",
              "        async function convertToInteractive(key) {\n",
              "          const element = document.querySelector('#df-f72a48e5-cde2-40cd-93a9-41bb75403ab4');\n",
              "          const dataTable =\n",
              "            await google.colab.kernel.invokeFunction('convertToInteractive',\n",
              "                                                     [key], {});\n",
              "          if (!dataTable) return;\n",
              "\n",
              "          const docLinkHtml = 'Like what you see? Visit the ' +\n",
              "            '<a target=\"_blank\" href=https://colab.research.google.com/notebooks/data_table.ipynb>data table notebook</a>'\n",
              "            + ' to learn more about interactive tables.';\n",
              "          element.innerHTML = '';\n",
              "          dataTable['output_type'] = 'display_data';\n",
              "          await google.colab.output.renderOutput(dataTable, element);\n",
              "          const docLink = document.createElement('div');\n",
              "          docLink.innerHTML = docLinkHtml;\n",
              "          element.appendChild(docLink);\n",
              "        }\n",
              "      </script>\n",
              "    </div>\n",
              "  </div>\n",
              "  "
            ]
          },
          "metadata": {},
          "execution_count": 64
        }
      ]
    },
    {
      "cell_type": "code",
      "source": [
        "u = rank_df['A'].sum() - (n1*(n1+1))/2\n",
        "u"
      ],
      "metadata": {
        "colab": {
          "base_uri": "https://localhost:8080/"
        },
        "id": "daC4bKebeagK",
        "outputId": "198f5c64-7067-4c47-d7e0-b5974ccfcfbf"
      },
      "execution_count": 65,
      "outputs": [
        {
          "output_type": "execute_result",
          "data": {
            "text/plain": [
              "25.000"
            ]
          },
          "metadata": {},
          "execution_count": 65
        }
      ]
    },
    {
      "cell_type": "code",
      "source": [
        "u, p = stats.mannwhitneyu(training_ind['A'], training_ind['B'],\n",
        "                          alternative='two-sided')\n",
        "p"
      ],
      "metadata": {
        "colab": {
          "base_uri": "https://localhost:8080/"
        },
        "id": "UxRLCJq9ehsc",
        "outputId": "d30607b0-745b-431f-a78f-8e2c7746b25f"
      },
      "execution_count": 66,
      "outputs": [
        {
          "output_type": "execute_result",
          "data": {
            "text/plain": [
              "0.059"
            ]
          },
          "metadata": {},
          "execution_count": 66
        }
      ]
    },
    {
      "cell_type": "markdown",
      "source": [
        "### 카이제곱검정\n",
        "\n",
        "**독립성 검정**\n",
        "\n",
        "- 두 변수 X와 Y에 관해 'X와 Y가 독립이다'라는 귀무가설을 기반으로 수행되는 검정\n",
        "\n",
        "- 독립성 검정에는 카이제곱분포가 사용되기 때문에 카이제곱검정이라고도 불림"
      ],
      "metadata": {
        "id": "hzAvpi_DekBC"
      }
    },
    {
      "cell_type": "code",
      "source": [
        "#교차집계표(Cross Table) 작성: 도수분포표의 2변수 버전\n",
        "\n",
        "ad_df = pd.read_csv('/content/[패스트캠퍼스-확률및통계] 11_ad.csv')\n",
        "n = len(ad_df)\n",
        "print(n)\n",
        "ad_df.head()"
      ],
      "metadata": {
        "colab": {
          "base_uri": "https://localhost:8080/",
          "height": 225
        },
        "id": "kHWAn9kgejcy",
        "outputId": "07999873-3ad5-4c8d-8536-fcc2bbdd23b5"
      },
      "execution_count": 67,
      "outputs": [
        {
          "output_type": "stream",
          "name": "stdout",
          "text": [
            "1000\n"
          ]
        },
        {
          "output_type": "execute_result",
          "data": {
            "text/plain": [
              "  광고      구입\n",
              "0  B  하지 않았다\n",
              "1  B  하지 않았다\n",
              "2  A      했다\n",
              "3  A      했다\n",
              "4  B  하지 않았다"
            ],
            "text/html": [
              "\n",
              "  <div id=\"df-482034bd-f23f-4ad9-9be4-8731be7cf06f\">\n",
              "    <div class=\"colab-df-container\">\n",
              "      <div>\n",
              "<style scoped>\n",
              "    .dataframe tbody tr th:only-of-type {\n",
              "        vertical-align: middle;\n",
              "    }\n",
              "\n",
              "    .dataframe tbody tr th {\n",
              "        vertical-align: top;\n",
              "    }\n",
              "\n",
              "    .dataframe thead th {\n",
              "        text-align: right;\n",
              "    }\n",
              "</style>\n",
              "<table border=\"1\" class=\"dataframe\">\n",
              "  <thead>\n",
              "    <tr style=\"text-align: right;\">\n",
              "      <th></th>\n",
              "      <th>광고</th>\n",
              "      <th>구입</th>\n",
              "    </tr>\n",
              "  </thead>\n",
              "  <tbody>\n",
              "    <tr>\n",
              "      <th>0</th>\n",
              "      <td>B</td>\n",
              "      <td>하지 않았다</td>\n",
              "    </tr>\n",
              "    <tr>\n",
              "      <th>1</th>\n",
              "      <td>B</td>\n",
              "      <td>하지 않았다</td>\n",
              "    </tr>\n",
              "    <tr>\n",
              "      <th>2</th>\n",
              "      <td>A</td>\n",
              "      <td>했다</td>\n",
              "    </tr>\n",
              "    <tr>\n",
              "      <th>3</th>\n",
              "      <td>A</td>\n",
              "      <td>했다</td>\n",
              "    </tr>\n",
              "    <tr>\n",
              "      <th>4</th>\n",
              "      <td>B</td>\n",
              "      <td>하지 않았다</td>\n",
              "    </tr>\n",
              "  </tbody>\n",
              "</table>\n",
              "</div>\n",
              "      <button class=\"colab-df-convert\" onclick=\"convertToInteractive('df-482034bd-f23f-4ad9-9be4-8731be7cf06f')\"\n",
              "              title=\"Convert this dataframe to an interactive table.\"\n",
              "              style=\"display:none;\">\n",
              "        \n",
              "  <svg xmlns=\"http://www.w3.org/2000/svg\" height=\"24px\"viewBox=\"0 0 24 24\"\n",
              "       width=\"24px\">\n",
              "    <path d=\"M0 0h24v24H0V0z\" fill=\"none\"/>\n",
              "    <path d=\"M18.56 5.44l.94 2.06.94-2.06 2.06-.94-2.06-.94-.94-2.06-.94 2.06-2.06.94zm-11 1L8.5 8.5l.94-2.06 2.06-.94-2.06-.94L8.5 2.5l-.94 2.06-2.06.94zm10 10l.94 2.06.94-2.06 2.06-.94-2.06-.94-.94-2.06-.94 2.06-2.06.94z\"/><path d=\"M17.41 7.96l-1.37-1.37c-.4-.4-.92-.59-1.43-.59-.52 0-1.04.2-1.43.59L10.3 9.45l-7.72 7.72c-.78.78-.78 2.05 0 2.83L4 21.41c.39.39.9.59 1.41.59.51 0 1.02-.2 1.41-.59l7.78-7.78 2.81-2.81c.8-.78.8-2.07 0-2.86zM5.41 20L4 18.59l7.72-7.72 1.47 1.35L5.41 20z\"/>\n",
              "  </svg>\n",
              "      </button>\n",
              "      \n",
              "  <style>\n",
              "    .colab-df-container {\n",
              "      display:flex;\n",
              "      flex-wrap:wrap;\n",
              "      gap: 12px;\n",
              "    }\n",
              "\n",
              "    .colab-df-convert {\n",
              "      background-color: #E8F0FE;\n",
              "      border: none;\n",
              "      border-radius: 50%;\n",
              "      cursor: pointer;\n",
              "      display: none;\n",
              "      fill: #1967D2;\n",
              "      height: 32px;\n",
              "      padding: 0 0 0 0;\n",
              "      width: 32px;\n",
              "    }\n",
              "\n",
              "    .colab-df-convert:hover {\n",
              "      background-color: #E2EBFA;\n",
              "      box-shadow: 0px 1px 2px rgba(60, 64, 67, 0.3), 0px 1px 3px 1px rgba(60, 64, 67, 0.15);\n",
              "      fill: #174EA6;\n",
              "    }\n",
              "\n",
              "    [theme=dark] .colab-df-convert {\n",
              "      background-color: #3B4455;\n",
              "      fill: #D2E3FC;\n",
              "    }\n",
              "\n",
              "    [theme=dark] .colab-df-convert:hover {\n",
              "      background-color: #434B5C;\n",
              "      box-shadow: 0px 1px 3px 1px rgba(0, 0, 0, 0.15);\n",
              "      filter: drop-shadow(0px 1px 2px rgba(0, 0, 0, 0.3));\n",
              "      fill: #FFFFFF;\n",
              "    }\n",
              "  </style>\n",
              "\n",
              "      <script>\n",
              "        const buttonEl =\n",
              "          document.querySelector('#df-482034bd-f23f-4ad9-9be4-8731be7cf06f button.colab-df-convert');\n",
              "        buttonEl.style.display =\n",
              "          google.colab.kernel.accessAllowed ? 'block' : 'none';\n",
              "\n",
              "        async function convertToInteractive(key) {\n",
              "          const element = document.querySelector('#df-482034bd-f23f-4ad9-9be4-8731be7cf06f');\n",
              "          const dataTable =\n",
              "            await google.colab.kernel.invokeFunction('convertToInteractive',\n",
              "                                                     [key], {});\n",
              "          if (!dataTable) return;\n",
              "\n",
              "          const docLinkHtml = 'Like what you see? Visit the ' +\n",
              "            '<a target=\"_blank\" href=https://colab.research.google.com/notebooks/data_table.ipynb>data table notebook</a>'\n",
              "            + ' to learn more about interactive tables.';\n",
              "          element.innerHTML = '';\n",
              "          dataTable['output_type'] = 'display_data';\n",
              "          await google.colab.output.renderOutput(dataTable, element);\n",
              "          const docLink = document.createElement('div');\n",
              "          docLink.innerHTML = docLinkHtml;\n",
              "          element.appendChild(docLink);\n",
              "        }\n",
              "      </script>\n",
              "    </div>\n",
              "  </div>\n",
              "  "
            ]
          },
          "metadata": {},
          "execution_count": 67
        }
      ]
    },
    {
      "cell_type": "code",
      "source": [
        "ad_cross = pd.crosstab(ad_df['광고'], ad_df['구입'])\n",
        "ad_cross"
      ],
      "metadata": {
        "colab": {
          "base_uri": "https://localhost:8080/",
          "height": 143
        },
        "id": "v-7xLmfEj30j",
        "outputId": "b125c398-371c-48e1-e7bb-1a5329033d8e"
      },
      "execution_count": 68,
      "outputs": [
        {
          "output_type": "execute_result",
          "data": {
            "text/plain": [
              "구입  하지 않았다  했다\n",
              "광고            \n",
              "A      351  49\n",
              "B      549  51"
            ],
            "text/html": [
              "\n",
              "  <div id=\"df-c5f44947-f6ce-4fff-8958-722504fd408c\">\n",
              "    <div class=\"colab-df-container\">\n",
              "      <div>\n",
              "<style scoped>\n",
              "    .dataframe tbody tr th:only-of-type {\n",
              "        vertical-align: middle;\n",
              "    }\n",
              "\n",
              "    .dataframe tbody tr th {\n",
              "        vertical-align: top;\n",
              "    }\n",
              "\n",
              "    .dataframe thead th {\n",
              "        text-align: right;\n",
              "    }\n",
              "</style>\n",
              "<table border=\"1\" class=\"dataframe\">\n",
              "  <thead>\n",
              "    <tr style=\"text-align: right;\">\n",
              "      <th>구입</th>\n",
              "      <th>하지 않았다</th>\n",
              "      <th>했다</th>\n",
              "    </tr>\n",
              "    <tr>\n",
              "      <th>광고</th>\n",
              "      <th></th>\n",
              "      <th></th>\n",
              "    </tr>\n",
              "  </thead>\n",
              "  <tbody>\n",
              "    <tr>\n",
              "      <th>A</th>\n",
              "      <td>351</td>\n",
              "      <td>49</td>\n",
              "    </tr>\n",
              "    <tr>\n",
              "      <th>B</th>\n",
              "      <td>549</td>\n",
              "      <td>51</td>\n",
              "    </tr>\n",
              "  </tbody>\n",
              "</table>\n",
              "</div>\n",
              "      <button class=\"colab-df-convert\" onclick=\"convertToInteractive('df-c5f44947-f6ce-4fff-8958-722504fd408c')\"\n",
              "              title=\"Convert this dataframe to an interactive table.\"\n",
              "              style=\"display:none;\">\n",
              "        \n",
              "  <svg xmlns=\"http://www.w3.org/2000/svg\" height=\"24px\"viewBox=\"0 0 24 24\"\n",
              "       width=\"24px\">\n",
              "    <path d=\"M0 0h24v24H0V0z\" fill=\"none\"/>\n",
              "    <path d=\"M18.56 5.44l.94 2.06.94-2.06 2.06-.94-2.06-.94-.94-2.06-.94 2.06-2.06.94zm-11 1L8.5 8.5l.94-2.06 2.06-.94-2.06-.94L8.5 2.5l-.94 2.06-2.06.94zm10 10l.94 2.06.94-2.06 2.06-.94-2.06-.94-.94-2.06-.94 2.06-2.06.94z\"/><path d=\"M17.41 7.96l-1.37-1.37c-.4-.4-.92-.59-1.43-.59-.52 0-1.04.2-1.43.59L10.3 9.45l-7.72 7.72c-.78.78-.78 2.05 0 2.83L4 21.41c.39.39.9.59 1.41.59.51 0 1.02-.2 1.41-.59l7.78-7.78 2.81-2.81c.8-.78.8-2.07 0-2.86zM5.41 20L4 18.59l7.72-7.72 1.47 1.35L5.41 20z\"/>\n",
              "  </svg>\n",
              "      </button>\n",
              "      \n",
              "  <style>\n",
              "    .colab-df-container {\n",
              "      display:flex;\n",
              "      flex-wrap:wrap;\n",
              "      gap: 12px;\n",
              "    }\n",
              "\n",
              "    .colab-df-convert {\n",
              "      background-color: #E8F0FE;\n",
              "      border: none;\n",
              "      border-radius: 50%;\n",
              "      cursor: pointer;\n",
              "      display: none;\n",
              "      fill: #1967D2;\n",
              "      height: 32px;\n",
              "      padding: 0 0 0 0;\n",
              "      width: 32px;\n",
              "    }\n",
              "\n",
              "    .colab-df-convert:hover {\n",
              "      background-color: #E2EBFA;\n",
              "      box-shadow: 0px 1px 2px rgba(60, 64, 67, 0.3), 0px 1px 3px 1px rgba(60, 64, 67, 0.15);\n",
              "      fill: #174EA6;\n",
              "    }\n",
              "\n",
              "    [theme=dark] .colab-df-convert {\n",
              "      background-color: #3B4455;\n",
              "      fill: #D2E3FC;\n",
              "    }\n",
              "\n",
              "    [theme=dark] .colab-df-convert:hover {\n",
              "      background-color: #434B5C;\n",
              "      box-shadow: 0px 1px 3px 1px rgba(0, 0, 0, 0.15);\n",
              "      filter: drop-shadow(0px 1px 2px rgba(0, 0, 0, 0.3));\n",
              "      fill: #FFFFFF;\n",
              "    }\n",
              "  </style>\n",
              "\n",
              "      <script>\n",
              "        const buttonEl =\n",
              "          document.querySelector('#df-c5f44947-f6ce-4fff-8958-722504fd408c button.colab-df-convert');\n",
              "        buttonEl.style.display =\n",
              "          google.colab.kernel.accessAllowed ? 'block' : 'none';\n",
              "\n",
              "        async function convertToInteractive(key) {\n",
              "          const element = document.querySelector('#df-c5f44947-f6ce-4fff-8958-722504fd408c');\n",
              "          const dataTable =\n",
              "            await google.colab.kernel.invokeFunction('convertToInteractive',\n",
              "                                                     [key], {});\n",
              "          if (!dataTable) return;\n",
              "\n",
              "          const docLinkHtml = 'Like what you see? Visit the ' +\n",
              "            '<a target=\"_blank\" href=https://colab.research.google.com/notebooks/data_table.ipynb>data table notebook</a>'\n",
              "            + ' to learn more about interactive tables.';\n",
              "          element.innerHTML = '';\n",
              "          dataTable['output_type'] = 'display_data';\n",
              "          await google.colab.output.renderOutput(dataTable, element);\n",
              "          const docLink = document.createElement('div');\n",
              "          docLink.innerHTML = docLinkHtml;\n",
              "          element.appendChild(docLink);\n",
              "        }\n",
              "      </script>\n",
              "    </div>\n",
              "  </div>\n",
              "  "
            ]
          },
          "metadata": {},
          "execution_count": 68
        }
      ]
    },
    {
      "cell_type": "code",
      "source": [
        "#A와B의 각각의 광고를 통해 상품을 구입한 비율이 어떻게 되는지 알아보기\n",
        "ad_cross['했다'] / (ad_cross['했다'] + ad_cross['하지 않았다'])"
      ],
      "metadata": {
        "colab": {
          "base_uri": "https://localhost:8080/"
        },
        "id": "o5viCkwhj5sd",
        "outputId": "42cab493-f4a8-47f0-c2ab-4aace08063b7"
      },
      "execution_count": 69,
      "outputs": [
        {
          "output_type": "execute_result",
          "data": {
            "text/plain": [
              "광고\n",
              "A    0.1225\n",
              "B    0.0850\n",
              "dtype: float64"
            ]
          },
          "metadata": {},
          "execution_count": 69
        }
      ]
    },
    {
      "cell_type": "code",
      "source": [
        "#상품을 구입한 사람의 합계, 구입하지 않은 사람으 합계\n",
        "#\n",
        "n_not, n_yes = ad_cross.sum()\n",
        "n_not, n_yes"
      ],
      "metadata": {
        "colab": {
          "base_uri": "https://localhost:8080/"
        },
        "id": "o8N48-81j5uu",
        "outputId": "4fe7c124-0dc7-46d2-9ae4-d53a262666d5"
      },
      "execution_count": 70,
      "outputs": [
        {
          "output_type": "execute_result",
          "data": {
            "text/plain": [
              "(900, 100)"
            ]
          },
          "metadata": {},
          "execution_count": 70
        }
      ]
    },
    {
      "cell_type": "code",
      "source": [
        "#광고A를 본 사람의 합계, 과옥 B를 본 사람의 합계를 구한다\n",
        "n_adA, n_adB = ad_cross.sum(axis=1)\n",
        "n_adA, n_adB"
      ],
      "metadata": {
        "colab": {
          "base_uri": "https://localhost:8080/"
        },
        "id": "3IoZy-Oej5xC",
        "outputId": "09c4ef7f-aa72-4917-9637-c36e968e2c17"
      },
      "execution_count": 71,
      "outputs": [
        {
          "output_type": "execute_result",
          "data": {
            "text/plain": [
              "(400, 600)"
            ]
          },
          "metadata": {},
          "execution_count": 71
        }
      ]
    },
    {
      "cell_type": "code",
      "source": [
        "#광고와 상관없이 상품을 구입한 비율은 10%\n",
        "#광고와 구입이 독립이어서 광고에 따라 상품을 구입한 비율이 변하지 않는다면\n",
        "#A광고를 본 후 구입하게 될 기대도수는 400*10% = 40\n",
        "#실제로 관측된 데이터는 관측도수\n",
        "\n",
        "#모들  셀에서 기대도수의 계산 수행\n",
        "\n",
        "ad_ef = pd.DataFrame({'했다': [n_adA * n_yes / n,\n",
        "                              n_adB * n_yes / n],\n",
        "                      '하지 않았다': [n_adA * n_not / n,\n",
        "                                   n_adB * n_not / n]},\n",
        "                      index=['A', 'B'])\n",
        "ad_ef"
      ],
      "metadata": {
        "colab": {
          "base_uri": "https://localhost:8080/",
          "height": 112
        },
        "id": "y81OhxpCj5y7",
        "outputId": "185966d9-4665-47fa-f6c0-b6a7ab0b4a63"
      },
      "execution_count": 72,
      "outputs": [
        {
          "output_type": "execute_result",
          "data": {
            "text/plain": [
              "     했다  하지 않았다\n",
              "A  40.0   360.0\n",
              "B  60.0   540.0"
            ],
            "text/html": [
              "\n",
              "  <div id=\"df-b35e0542-5c95-4c2d-88f8-9f4eb6b437f5\">\n",
              "    <div class=\"colab-df-container\">\n",
              "      <div>\n",
              "<style scoped>\n",
              "    .dataframe tbody tr th:only-of-type {\n",
              "        vertical-align: middle;\n",
              "    }\n",
              "\n",
              "    .dataframe tbody tr th {\n",
              "        vertical-align: top;\n",
              "    }\n",
              "\n",
              "    .dataframe thead th {\n",
              "        text-align: right;\n",
              "    }\n",
              "</style>\n",
              "<table border=\"1\" class=\"dataframe\">\n",
              "  <thead>\n",
              "    <tr style=\"text-align: right;\">\n",
              "      <th></th>\n",
              "      <th>했다</th>\n",
              "      <th>하지 않았다</th>\n",
              "    </tr>\n",
              "  </thead>\n",
              "  <tbody>\n",
              "    <tr>\n",
              "      <th>A</th>\n",
              "      <td>40.0</td>\n",
              "      <td>360.0</td>\n",
              "    </tr>\n",
              "    <tr>\n",
              "      <th>B</th>\n",
              "      <td>60.0</td>\n",
              "      <td>540.0</td>\n",
              "    </tr>\n",
              "  </tbody>\n",
              "</table>\n",
              "</div>\n",
              "      <button class=\"colab-df-convert\" onclick=\"convertToInteractive('df-b35e0542-5c95-4c2d-88f8-9f4eb6b437f5')\"\n",
              "              title=\"Convert this dataframe to an interactive table.\"\n",
              "              style=\"display:none;\">\n",
              "        \n",
              "  <svg xmlns=\"http://www.w3.org/2000/svg\" height=\"24px\"viewBox=\"0 0 24 24\"\n",
              "       width=\"24px\">\n",
              "    <path d=\"M0 0h24v24H0V0z\" fill=\"none\"/>\n",
              "    <path d=\"M18.56 5.44l.94 2.06.94-2.06 2.06-.94-2.06-.94-.94-2.06-.94 2.06-2.06.94zm-11 1L8.5 8.5l.94-2.06 2.06-.94-2.06-.94L8.5 2.5l-.94 2.06-2.06.94zm10 10l.94 2.06.94-2.06 2.06-.94-2.06-.94-.94-2.06-.94 2.06-2.06.94z\"/><path d=\"M17.41 7.96l-1.37-1.37c-.4-.4-.92-.59-1.43-.59-.52 0-1.04.2-1.43.59L10.3 9.45l-7.72 7.72c-.78.78-.78 2.05 0 2.83L4 21.41c.39.39.9.59 1.41.59.51 0 1.02-.2 1.41-.59l7.78-7.78 2.81-2.81c.8-.78.8-2.07 0-2.86zM5.41 20L4 18.59l7.72-7.72 1.47 1.35L5.41 20z\"/>\n",
              "  </svg>\n",
              "      </button>\n",
              "      \n",
              "  <style>\n",
              "    .colab-df-container {\n",
              "      display:flex;\n",
              "      flex-wrap:wrap;\n",
              "      gap: 12px;\n",
              "    }\n",
              "\n",
              "    .colab-df-convert {\n",
              "      background-color: #E8F0FE;\n",
              "      border: none;\n",
              "      border-radius: 50%;\n",
              "      cursor: pointer;\n",
              "      display: none;\n",
              "      fill: #1967D2;\n",
              "      height: 32px;\n",
              "      padding: 0 0 0 0;\n",
              "      width: 32px;\n",
              "    }\n",
              "\n",
              "    .colab-df-convert:hover {\n",
              "      background-color: #E2EBFA;\n",
              "      box-shadow: 0px 1px 2px rgba(60, 64, 67, 0.3), 0px 1px 3px 1px rgba(60, 64, 67, 0.15);\n",
              "      fill: #174EA6;\n",
              "    }\n",
              "\n",
              "    [theme=dark] .colab-df-convert {\n",
              "      background-color: #3B4455;\n",
              "      fill: #D2E3FC;\n",
              "    }\n",
              "\n",
              "    [theme=dark] .colab-df-convert:hover {\n",
              "      background-color: #434B5C;\n",
              "      box-shadow: 0px 1px 3px 1px rgba(0, 0, 0, 0.15);\n",
              "      filter: drop-shadow(0px 1px 2px rgba(0, 0, 0, 0.3));\n",
              "      fill: #FFFFFF;\n",
              "    }\n",
              "  </style>\n",
              "\n",
              "      <script>\n",
              "        const buttonEl =\n",
              "          document.querySelector('#df-b35e0542-5c95-4c2d-88f8-9f4eb6b437f5 button.colab-df-convert');\n",
              "        buttonEl.style.display =\n",
              "          google.colab.kernel.accessAllowed ? 'block' : 'none';\n",
              "\n",
              "        async function convertToInteractive(key) {\n",
              "          const element = document.querySelector('#df-b35e0542-5c95-4c2d-88f8-9f4eb6b437f5');\n",
              "          const dataTable =\n",
              "            await google.colab.kernel.invokeFunction('convertToInteractive',\n",
              "                                                     [key], {});\n",
              "          if (!dataTable) return;\n",
              "\n",
              "          const docLinkHtml = 'Like what you see? Visit the ' +\n",
              "            '<a target=\"_blank\" href=https://colab.research.google.com/notebooks/data_table.ipynb>data table notebook</a>'\n",
              "            + ' to learn more about interactive tables.';\n",
              "          element.innerHTML = '';\n",
              "          dataTable['output_type'] = 'display_data';\n",
              "          await google.colab.output.renderOutput(dataTable, element);\n",
              "          const docLink = document.createElement('div');\n",
              "          docLink.innerHTML = docLinkHtml;\n",
              "          element.appendChild(docLink);\n",
              "        }\n",
              "      </script>\n",
              "    </div>\n",
              "  </div>\n",
              "  "
            ]
          },
          "metadata": {},
          "execution_count": 72
        }
      ]
    },
    {
      "cell_type": "markdown",
      "source": [
        "![image.png](data:image/png;base64,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)"
      ],
      "metadata": {
        "id": "eqw7-6C9k2aL"
      }
    },
    {
      "cell_type": "code",
      "source": [
        "y = ((ad_cross - ad_ef) ** 2 / ad_ef).sum().sum()\n",
        "y"
      ],
      "metadata": {
        "colab": {
          "base_uri": "https://localhost:8080/"
        },
        "id": "SYM5ezbZj51D",
        "outputId": "f87b0b64-d9dc-4736-f5be-68f85a0cc16d"
      },
      "execution_count": 73,
      "outputs": [
        {
          "output_type": "execute_result",
          "data": {
            "text/plain": [
              "3.750"
            ]
          },
          "metadata": {},
          "execution_count": 73
        }
      ]
    },
    {
      "cell_type": "code",
      "source": [
        "rv = stats.chi2(1)\n",
        "1 - rv.cdf(y)"
      ],
      "metadata": {
        "colab": {
          "base_uri": "https://localhost:8080/"
        },
        "id": "IBj4e6pQj53K",
        "outputId": "e6955825-1b35-4fac-b5ba-ff1a49810056"
      },
      "execution_count": 74,
      "outputs": [
        {
          "output_type": "execute_result",
          "data": {
            "text/plain": [
              "0.053"
            ]
          },
          "metadata": {},
          "execution_count": 74
        }
      ]
    },
    {
      "cell_type": "code",
      "source": [
        "#Scipy.stats의 chi2_contingency함수를 사용해도 간단하게 계산 가능\n",
        "#인수에는 교차집계표와 파라미터인 correction=False를 주면 반환값으로 검정통계량, 자유도, 기대도수 얻음\n",
        "chi2, p, dof, ef = stats.chi2_contingency(ad_cross,\n",
        "                                          correction=False)\n",
        "chi2, p, dof"
      ],
      "metadata": {
        "colab": {
          "base_uri": "https://localhost:8080/"
        },
        "id": "UXAtKbUHkCB-",
        "outputId": "409c4117-6c04-4895-8f2e-aab408e2cf66"
      },
      "execution_count": 75,
      "outputs": [
        {
          "output_type": "execute_result",
          "data": {
            "text/plain": [
              "(3.750, 0.053, 1)"
            ]
          },
          "metadata": {},
          "execution_count": 75
        }
      ]
    },
    {
      "cell_type": "code",
      "source": [
        "ef"
      ],
      "metadata": {
        "colab": {
          "base_uri": "https://localhost:8080/"
        },
        "id": "jNexxqdWkCY8",
        "outputId": "aa608d89-bd56-4330-ab64-ad9c7bb71233"
      },
      "execution_count": 76,
      "outputs": [
        {
          "output_type": "execute_result",
          "data": {
            "text/plain": [
              "array([[360.,  40.],\n",
              "       [540.,  60.]])"
            ]
          },
          "metadata": {},
          "execution_count": 76
        }
      ]
    },
    {
      "cell_type": "code",
      "source": [
        ""
      ],
      "metadata": {
        "id": "OFG9hkiBkD9a"
      },
      "execution_count": null,
      "outputs": []
    }
  ]
}