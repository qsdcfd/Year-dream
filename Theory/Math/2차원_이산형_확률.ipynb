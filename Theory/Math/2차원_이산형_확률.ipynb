{
  "nbformat": 4,
  "nbformat_minor": 0,
  "metadata": {
    "colab": {
      "name": "2차원 이산형 확률변수",
      "provenance": [],
      "authorship_tag": "ABX9TyM9WeaBSkxvyBV8CeANVAuz"
    },
    "kernelspec": {
      "name": "python3",
      "display_name": "Python 3"
    },
    "language_info": {
      "name": "python"
    }
  },
  "cells": [
    {
      "cell_type": "markdown",
      "source": [
        "### 2차원 이산형 확률변수의 정의\n",
        "\n",
        "- 2차원 확률변수에서는 1차원 확률분포 2개(X,Y)를 동시에 다룬다.\n",
        "\n",
        "- 각 확률변수가 취할 수 있는 값의 조합으로 이뤄진 집합과 그 확률에 의해 정의된다.\n",
        "\n",
        "<br>\n",
        "\n",
        "### 결합확률분포(Joint Probability Distribution)\n",
        "\n",
        "- (X,Y)가 취할 수 있는 값의 조합으로 이뤄진 집합을 {(xi,yk)|i=1,2,...; j=1,2,...}\n",
        "\n",
        "- 각각 조합에 맞는 확률(결합확률 분포)\n",
        "\n",
        "   - P(X=xi, Y=yj) = pij(i=1,2,...; j=1,2,....)\n",
        "\n",
        "   - P(X=x, Y=y) = fXY(x,y)가 되는 함수를 fxy(x,y)를 결합함수라고 한다\n",
        "\n",
        "- 즉, 동시에 움직이는 확률\n",
        "\n",
        "- 확률의 성질\n",
        "\n",
        "   - fxy(xi,yi) >= 0\n",
        "\n",
        "   - sumi,j of fxy(xi,yi) = 1 \n"
      ],
      "metadata": {
        "id": "hUvfwXOa_hGy"
      }
    },
    {
      "cell_type": "markdown",
      "source": [
        "### 주변확률분포(Marginal Probability Distribution\n",
        "\n",
        "- 확률변수(X,Y)가 결합분포에 의해 동시에 정의되었음에도(fXY(xi,yj))개별 확률변수 X의 확률분포(fX(x))만을 다시 살펴보아야할 떄 사용한다.\n",
        "\n",
        "- 식\n",
        "\n",
        "   - fX(x) = sum of fXY(x,yk)\n",
        "   \n",
        "\n"
      ],
      "metadata": {
        "id": "WpEe1myZZU67"
      }
    },
    {
      "cell_type": "markdown",
      "source": [
        "### 2차원 이산형 확률변수 지표\n",
        "\n",
        " #### 기대값\n",
        "\n",
        " - 구하는 방식은 1차원과 거의 유사\n",
        "\n",
        " - 계산식\n",
        "\n",
        "    - E(X) = sum of xifXY(xi,yj)\n",
        "\n",
        "- 일반화: 일반적인 g(X,Y)의 기대값 정의\n",
        "\n",
        "   - E(g(X,Y)) = sum of g(xi,yj)fXY(xi,yj)\n",
        "\n",
        "- 기대값의 선형성\n",
        "\n",
        "- a,b를 실수 X,Y를 확률변수라고 하면, E(aX+bY) = aE(X) + bE(Y)성립\n",
        "\n",
        "<br>\n",
        "\n",
        "#### 분산\n",
        "\n",
        "- 1차원의 경우 거의 동일하다.\n",
        "\n",
        "- 계산식\n",
        "\n",
        "   - V(X) = sum of (xi-E(X))^2fXY(xi,yj)\n",
        "\n",
        "- 분산의 일반화\n",
        "\n",
        "- X 와 Y의 함수 g(X,Y)의 분산식\n",
        "\n",
        "   - V(g(X,Y))= sum of (g(xi,yj)-E(g(X,Y)))^2fXY(xi,yj)\n",
        "\n",
        "\n",
        "\n",
        "\n"
      ],
      "metadata": {
        "id": "shfQ3DHn5qly"
      }
    },
    {
      "cell_type": "markdown",
      "source": [
        "### 공분산\n",
        "\n",
        "- 공분산 사용시 X,Y 사이에 어느정도 상관관계가 있는지 알 수 있다.\n",
        "\n",
        "- 식\n",
        "\n",
        "   - Cov(X,Y) = sum of (xi-E(X))(yj-E(Y))fXY(xi,yj)\n",
        "\n",
        "\n",
        "\n",
        "\n",
        "\n",
        "\n",
        "\n"
      ],
      "metadata": {
        "id": "kWHL7LTI5qq2"
      }
    },
    {
      "cell_type": "markdown",
      "source": [
        ""
      ],
      "metadata": {
        "id": "n5bkwiir5quc"
      }
    },
    {
      "cell_type": "markdown",
      "source": [
        ""
      ],
      "metadata": {
        "id": "4ElkQuzq5qxo"
      }
    },
    {
      "cell_type": "markdown",
      "source": [
        ""
      ],
      "metadata": {
        "id": "OI0h7IxH5q0U"
      }
    },
    {
      "cell_type": "code",
      "execution_count": 23,
      "metadata": {
        "id": "eDZ_K-Zs-4sg"
      },
      "outputs": [],
      "source": [
        "import numpy as np\n",
        "import matplotlib.pyplot as plt\n",
        "%precision 3\n",
        "%matplotlib inline"
      ]
    },
    {
      "cell_type": "code",
      "source": [
        "x_set = np.arange(2,13)\n",
        "y_set = np.arange(1,7)\n",
        "\n",
        "def f_XY(x,y):\n",
        "    if 1<=y<=6 and 1<=x<=y<=6:\n",
        "        return y * (x-y) / 441\n",
        "    else:\n",
        "        return 0\n"
      ],
      "metadata": {
        "id": "8iZ5-rJ8AN87"
      },
      "execution_count": 24,
      "outputs": []
    },
    {
      "cell_type": "code",
      "source": [
        "\n",
        "\n",
        "\n",
        "XY = [x_set, y_set, f_XY]"
      ],
      "metadata": {
        "id": "FxEKAFjpBnOC"
      },
      "execution_count": 25,
      "outputs": []
    },
    {
      "cell_type": "code",
      "source": [
        "\n",
        "prob = np.array(\n",
        "    [\n",
        "         [\n",
        "            \n",
        "             f_XY(x_i, y_j)\n",
        "             for y_j in y_set\n",
        "\n",
        "\n",
        "         ]\n",
        "         for x_i in x_set        \n",
        "    ]\n",
        "\n",
        ")"
      ],
      "metadata": {
        "id": "E7rFVChdBwex"
      },
      "execution_count": 26,
      "outputs": []
    },
    {
      "cell_type": "code",
      "source": [
        "\n",
        "\n",
        "\n",
        "\n",
        "fig  = plt.figure(figsize=(10,8))\n",
        "ax = fig.add_subplot(1,1,1)\n",
        "\n",
        "c = ax.pcolor(prob)\n",
        "ax.set_xticks(np.arange(prob.shape[1]) + 0.5, minor=False)\n",
        "ax.set_yticks(np.arange(prob.shape[0]) + 0.5, minor=False)\n",
        "ax.set_xticklabels(np.arange(1,7), minor = False)\n",
        "ax.set_yticklabels(np.arange(2,13), minor = False)\n",
        "\n",
        "#y축을 내림차순의 숫자가 되도록 아래를 반환한다.\n",
        "ax.invert_yaxis()\n",
        "\n",
        "#x축 눈금을 그래프 위쪽에 표시\n",
        "\n",
        "ax.xaxis.tick_top()\n",
        "fig.colorbar(c, ax=ax)\n",
        "plt.show()"
      ],
      "metadata": {
        "colab": {
          "base_uri": "https://localhost:8080/",
          "height": 483
        },
        "id": "ccEnckeFCFan",
        "outputId": "97ed037f-6a71-4a25-f8bf-5ee6f1c1894c"
      },
      "execution_count": 27,
      "outputs": [
        {
          "output_type": "display_data",
          "data": {
            "text/plain": [
              "<Figure size 720x576 with 2 Axes>"
            ],
            "image/png": "[encoded data removed]"
          },
          "metadata": {
            "needs_background": "light"
          }
        }
      ]
    },
    {
      "cell_type": "code",
      "source": [
        "np.all(prob >=0)\n"
      ],
      "metadata": {
        "colab": {
          "base_uri": "https://localhost:8080/"
        },
        "id": "_WECKdK7C4t8",
        "outputId": "a8d92222-1e0e-458a-a550-b67b7fe4ce06"
      },
      "execution_count": 28,
      "outputs": [
        {
          "output_type": "execute_result",
          "data": {
            "text/plain": [
              "False"
            ]
          },
          "metadata": {},
          "execution_count": 28
        }
      ]
    },
    {
      "cell_type": "code",
      "source": [
        "np.sum(prob)"
      ],
      "metadata": {
        "colab": {
          "base_uri": "https://localhost:8080/"
        },
        "id": "vE3C0pgqDM-p",
        "outputId": "00b1fca4-a376-42b4-8440-6c1589b452d7"
      },
      "execution_count": 29,
      "outputs": [
        {
          "output_type": "execute_result",
          "data": {
            "text/plain": [
              "-0.238"
            ]
          },
          "metadata": {},
          "execution_count": 29
        }
      ]
    },
    {
      "cell_type": "code",
      "source": [
        "\n",
        "#주변확률분포 정의\n",
        "def f_X(x):\n",
        "    return np.sum(\n",
        "        [\n",
        "         f_XY(x,y_k)\n",
        "         for y_k in y_set\n",
        "        ]\n",
        "    )"
      ],
      "metadata": {
        "id": "FJuUZCUtDOUZ"
      },
      "execution_count": 30,
      "outputs": []
    },
    {
      "cell_type": "code",
      "source": [
        "def f_Y(y):\n",
        "    return np.sum(\n",
        "        [\n",
        "         f_XY(x_k, y)\n",
        "         for x_k in x_set\n",
        "        ]\n",
        "    )"
      ],
      "metadata": {
        "id": "c93GarGBZvIy"
      },
      "execution_count": 31,
      "outputs": []
    },
    {
      "cell_type": "code",
      "source": [
        "X = [x_set, f_X]\n",
        "Y = [y_set, f_Y]"
      ],
      "metadata": {
        "id": "UYIRMVqHZ2P7"
      },
      "execution_count": 32,
      "outputs": []
    },
    {
      "cell_type": "code",
      "source": [
        "\n",
        "prob_x = np.array(\n",
        "    [\n",
        "      f_X(x_k)\n",
        "      for x_k in x_set\n",
        "    ]\n",
        ")\n",
        "\n",
        "prob_y = np.array(\n",
        "    [\n",
        "      f_Y(y_k)\n",
        "      for y_k in y_set\n",
        "    ]\n",
        ")"
      ],
      "metadata": {
        "id": "MbjZpn9JZ6Jq"
      },
      "execution_count": 33,
      "outputs": []
    },
    {
      "cell_type": "code",
      "source": [
        "fig = plt.figure(figsize=(12,4))\n",
        "ax1 = fig.add_subplot(1,2,1)\n",
        "ax2 = fig.add_subplot(1,2,2)\n",
        "\n",
        "ax1.bar(x_set, prob_x)\n",
        "ax1.set_title('X_marginal probability distribution')\n",
        "ax1.set_xlabel('X_value')\n",
        "ax1.set_ylabel('probability')\n",
        "ax1.set_xticks(x_set)\n",
        "\n",
        "ax2.bar(y_set, prob_y)\n",
        "ax2.set_title('Y_marginal probability distribution')\n",
        "ax2.set_xlabel('Y_value')\n",
        "ax2.set_ylabel('probability')\n",
        "\n",
        "plt.show()"
      ],
      "metadata": {
        "colab": {
          "base_uri": "https://localhost:8080/",
          "height": 296
        },
        "id": "faea7lBzanuT",
        "outputId": "ddefbe14-096e-4e8d-d08b-342c631febef"
      },
      "execution_count": 34,
      "outputs": [
        {
          "output_type": "display_data",
          "data": {
            "text/plain": [
              "<Figure size 864x288 with 2 Axes>"
            ],
            "image/png": "[encoded data removed]"
          },
          "metadata": {
            "needs_background": "light"
          }
        }
      ]
    },
    {
      "cell_type": "code",
      "source": [
        "##2차원 확률변수지표\n",
        "#기대값 구현\n",
        "\n",
        "np.sum(\n",
        "    [\n",
        "     x_i * f_XY(x_i, y_j)\n",
        "     for x_i in x_set\n",
        "     for y_j in y_set\n",
        "     \n",
        "    ]\n",
        ")"
      ],
      "metadata": {
        "id": "5r-vpmc6bjrV",
        "colab": {
          "base_uri": "https://localhost:8080/"
        },
        "outputId": "82b0842a-f7a9-462a-fa20-57302f13af5c"
      },
      "execution_count": 35,
      "outputs": [
        {
          "output_type": "execute_result",
          "data": {
            "text/plain": [
              "-0.667"
            ]
          },
          "metadata": {},
          "execution_count": 35
        }
      ]
    },
    {
      "cell_type": "code",
      "source": [
        "#일반적인 기대값\n",
        "\n",
        "def E(XY, g):\n",
        "    x_set, y_set, f_XY = XY\n",
        "    return np.sum(\n",
        "        [\n",
        "         g(x_i, y_j) * f_XY(x_i, y_j)\n",
        "         for x_i in x_set\n",
        "         for y_j in y_set\n",
        "        ]\n",
        "    )"
      ],
      "metadata": {
        "id": "Iy_syKm_6aZx"
      },
      "execution_count": 36,
      "outputs": []
    },
    {
      "cell_type": "code",
      "source": [
        "mean_X = E(XY, lambda x, y:x)\n",
        "mean_X"
      ],
      "metadata": {
        "colab": {
          "base_uri": "https://localhost:8080/"
        },
        "id": "NSJlVApj7hWE",
        "outputId": "489763e4-6d13-4256-dbad-15c2384ffa03"
      },
      "execution_count": 37,
      "outputs": [
        {
          "output_type": "execute_result",
          "data": {
            "text/plain": [
              "-0.667"
            ]
          },
          "metadata": {},
          "execution_count": 37
        }
      ]
    },
    {
      "cell_type": "code",
      "source": [
        "mean_Y = E(XY, lambda x, y:y)\n",
        "mean_Y"
      ],
      "metadata": {
        "colab": {
          "base_uri": "https://localhost:8080/"
        },
        "id": "7Ol-4kGd7mFp",
        "outputId": "a32a6dce-eede-40c4-df0c-b90c186aa030"
      },
      "execution_count": 38,
      "outputs": [
        {
          "output_type": "execute_result",
          "data": {
            "text/plain": [
              "-1.286"
            ]
          },
          "metadata": {},
          "execution_count": 38
        }
      ]
    },
    {
      "cell_type": "code",
      "source": [
        "a,b =2,3\n"
      ],
      "metadata": {
        "id": "qvi58r6w8Li3"
      },
      "execution_count": 39,
      "outputs": []
    },
    {
      "cell_type": "code",
      "source": [
        "E(XY, lambda x, y: a*x + b*y)"
      ],
      "metadata": {
        "colab": {
          "base_uri": "https://localhost:8080/"
        },
        "id": "H9DXVwH78LTM",
        "outputId": "417974f1-a4a3-4b01-bcbb-72cb657ab33a"
      },
      "execution_count": 40,
      "outputs": [
        {
          "output_type": "execute_result",
          "data": {
            "text/plain": [
              "-5.190"
            ]
          },
          "metadata": {},
          "execution_count": 40
        }
      ]
    },
    {
      "cell_type": "code",
      "source": [
        "a*mean_X + b * mean_Y"
      ],
      "metadata": {
        "colab": {
          "base_uri": "https://localhost:8080/"
        },
        "id": "MsgeBVU78K3I",
        "outputId": "057624e4-019e-4780-f541-ca3423f8c6c8"
      },
      "execution_count": 41,
      "outputs": [
        {
          "output_type": "execute_result",
          "data": {
            "text/plain": [
              "-5.190"
            ]
          },
          "metadata": {},
          "execution_count": 41
        }
      ]
    },
    {
      "cell_type": "code",
      "source": [
        "#2차원 변수\n",
        "#분산\n",
        "\n",
        "np.sum(\n",
        "    [\n",
        "     (x_i-mean_X)**2 * f_XY(x_i, y_j)\n",
        "     for x_i in x_set\n",
        "     for y_j in y_set\n",
        "    ]\n",
        ")"
      ],
      "metadata": {
        "colab": {
          "base_uri": "https://localhost:8080/"
        },
        "id": "VH3iE_qu7pVr",
        "outputId": "9e8f646d-8b0e-450d-ffbe-f52d61b1965a"
      },
      "execution_count": 42,
      "outputs": [
        {
          "output_type": "execute_result",
          "data": {
            "text/plain": [
              "-3.058"
            ]
          },
          "metadata": {},
          "execution_count": 42
        }
      ]
    },
    {
      "cell_type": "code",
      "source": [
        "#분산의 일반화\n",
        "\n",
        "def V(XY,g):\n",
        "    x_set, y_set, f_XY = XY\n",
        "    mean = E(XY, g)\n",
        "    return np.sum(\n",
        "        [\n",
        "         (g(x_i,y_j)-mean)**2 * f_XY(x_i,y_j)\n",
        "         for x_i in x_set\n",
        "         for y_j in y_set\n",
        "        ]\n",
        "    )"
      ],
      "metadata": {
        "id": "zFxQgywB9ONj"
      },
      "execution_count": 43,
      "outputs": []
    },
    {
      "cell_type": "code",
      "source": [
        "var_X = V(XY, g=lambda x, y:x)\n",
        "var_X"
      ],
      "metadata": {
        "colab": {
          "base_uri": "https://localhost:8080/"
        },
        "id": "qjdABoAO9ORy",
        "outputId": "a0c8bb6e-11ff-4725-b76c-54f65a6497bd"
      },
      "execution_count": 44,
      "outputs": [
        {
          "output_type": "execute_result",
          "data": {
            "text/plain": [
              "-3.058"
            ]
          },
          "metadata": {},
          "execution_count": 44
        }
      ]
    },
    {
      "cell_type": "code",
      "source": [
        "var_Y = V(XY, g=lambda x, y:y)\n",
        "var_Y"
      ],
      "metadata": {
        "colab": {
          "base_uri": "https://localhost:8080/"
        },
        "id": "7XnmO0VM8-P0",
        "outputId": "eae149ed-e640-4cd9-b24f-cbda2d574ace"
      },
      "execution_count": 45,
      "outputs": [
        {
          "output_type": "execute_result",
          "data": {
            "text/plain": [
              "-10.795"
            ]
          },
          "metadata": {},
          "execution_count": 45
        }
      ]
    },
    {
      "cell_type": "code",
      "source": [
        "def COV(XY):\n",
        "    x_set, y_set, f_XY = XY\n",
        "    mean_X = E(XY, lambda x, y:x)\n",
        "    mean_Y = E(XY, lambda x, y:y)\n",
        "    return np.sum(\n",
        "        [\n",
        "         (x_i-mean_X) * (y_j-mean_Y) * f_XY(x_i,y_j)\n",
        "         for x_i in x_set\n",
        "         for y_j in y_set\n",
        "        ]\n",
        "    )"
      ],
      "metadata": {
        "id": "xqawAlHXMvQ9"
      },
      "execution_count": 48,
      "outputs": []
    },
    {
      "cell_type": "code",
      "source": [
        "cov_xy = COV(XY)\n",
        "cov_xy"
      ],
      "metadata": {
        "colab": {
          "base_uri": "https://localhost:8080/"
        },
        "id": "giIpDN2WNzQU",
        "outputId": "c188f981-079f-4fc5-f1f2-7e46f69418e6"
      },
      "execution_count": 49,
      "outputs": [
        {
          "output_type": "execute_result",
          "data": {
            "text/plain": [
              "-5.569"
            ]
          },
          "metadata": {},
          "execution_count": 49
        }
      ]
    },
    {
      "cell_type": "markdown",
      "source": [
        "![image.png](data:image/png;base64,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)"
      ],
      "metadata": {
        "id": "xKvFDF79OG1e"
      }
    },
    {
      "cell_type": "code",
      "source": [
        "#V(2X+3Y) = 4V(X) + 9V(Y) + 12Cov(X,Y)\n",
        "\n",
        "V(XY, lambda x, y: 2*x + 3*y)"
      ],
      "metadata": {
        "colab": {
          "base_uri": "https://localhost:8080/"
        },
        "id": "li4nJtOeN9Ke",
        "outputId": "5fa2d396-f902-47b4-9ee0-6657cdf38d84"
      },
      "execution_count": 50,
      "outputs": [
        {
          "output_type": "execute_result",
          "data": {
            "text/plain": [
              "-176.217"
            ]
          },
          "metadata": {},
          "execution_count": 50
        }
      ]
    },
    {
      "cell_type": "code",
      "source": [
        "2**2 * var_X + 3**2 * var_Y + 2*2*3 * cov_xy"
      ],
      "metadata": {
        "colab": {
          "base_uri": "https://localhost:8080/"
        },
        "id": "Hhh6LrHmOVck",
        "outputId": "485aff80-4377-4bb7-9e83-8ae3178daa1c"
      },
      "execution_count": 52,
      "outputs": [
        {
          "output_type": "execute_result",
          "data": {
            "text/plain": [
              "-176.217"
            ]
          },
          "metadata": {},
          "execution_count": 52
        }
      ]
    },
    {
      "cell_type": "code",
      "source": [
        "#상관계수\n",
        "\n",
        "#pxy = p(X,Y) =  VXY / (VX * VY)\n",
        "\n",
        "cov_xy / np.sqrt(var_X *  var_Y)"
      ],
      "metadata": {
        "colab": {
          "base_uri": "https://localhost:8080/"
        },
        "id": "81DWSBQROuux",
        "outputId": "d3f9c491-f700-4a26-84b9-3609e5e69032"
      },
      "execution_count": 53,
      "outputs": [
        {
          "output_type": "execute_result",
          "data": {
            "text/plain": [
              "-0.969"
            ]
          },
          "metadata": {},
          "execution_count": 53
        }
      ]
    },
    {
      "cell_type": "code",
      "source": [
        ""
      ],
      "metadata": {
        "id": "PRYs-heFPW7J"
      },
      "execution_count": null,
      "outputs": []
    }
  ]
}