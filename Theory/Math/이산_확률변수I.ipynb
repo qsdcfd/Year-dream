{
  "nbformat": 4,
  "nbformat_minor": 0,
  "metadata": {
    "colab": {
      "name": "이산 확률변수",
      "provenance": [],
      "authorship_tag": "ABX9TyN5RLXglNiG4RF3hss1TLQx"
    },
    "kernelspec": {
      "name": "python3",
      "display_name": "Python 3"
    },
    "language_info": {
      "name": "python"
    }
  },
  "cells": [
    {
      "cell_type": "markdown",
      "source": [
        "\n",
        "\n",
        "**확률변수를 이해하려면 필요한 것은?**\n",
        "\n",
        "- 통계분석을 위한 기초 수학\n",
        "\n",
        "- Python 라이브러리를 활용한 데이터 분석"
      ],
      "metadata": {
        "id": "Xy4biRxegbh6"
      }
    },
    {
      "cell_type": "markdown",
      "source": [
        "### 이산 확률 변수\n",
        "\n",
        "<br>\n",
        "\n",
        "**이산형과 연속형**\n",
        "\n",
        "이산형은 셀 수 있는 데이터고 연속형은 값들 사이에서 무수히 많은 값들이 존재할 수 있기에 셀 수 없는 데이터이다.\n",
        "\n",
        "<br>\n",
        "\n",
        "**확률변수**\n",
        "\n",
        "변수가 취할 수 있는 값과 그 값이 나오는 확률에 의해서 정의된다.\n",
        "\n",
        "<br>\n",
        "\n",
        "**이산형 확률변수와 연속형 확률변수**\n",
        "\n",
        "이산형 확률변수는 확률변수로 취할 수 있는 값들이 셀 수 있는 데이터이고, 연속형 확률변수는 확률변수로 취할 수 있는 값들이 셀 수 없는 데이터를 말한다.\n",
        "\n",
        "\n",
        "<br>\n",
        "\n",
        "**확률질량함수(Probability Mass Function)**\n",
        "\n",
        "확률변수 X가 취할 수 있는 값에 대한 집합을 {x1,x2,....}으로 가정을 한다면, 그때 확률변수 X가 xk라는 값을 취할 확률을 P(X=xk) = pk (k=1,2,...)로 정의된다.\n",
        "\n",
        "확률은 변수가 취할 수 있는 값 x를 인수로 하는 함수로 f(x) = P(X=x)라고 표현이 가능하고 이를 확률질량함수 혹은 확률함수로 정의된다.\n",
        "\n"
      ],
      "metadata": {
        "id": "3RMrgIFBg-Vx"
      }
    },
    {
      "cell_type": "markdown",
      "source": [
        "### 확률의 성질\n",
        "\n",
        "- 확률은 2가지 식을 만족해야 한다.\n",
        "\n",
        "   - 확률이 절대적으로 0이상이어야 한다. f(xk) >= 0\n",
        "\n",
        "   - 모든 확률을 더하면 1이 되어야 한다. sum of f(xk) = 1\n",
        "\n",
        "- 확률이 모두 0이상인지 모든 요소가 참일 때만 참을 반환하는 np.all 함수로 확인이 가능하다.\n"
      ],
      "metadata": {
        "id": "NEGXcb-bg-dT"
      }
    },
    {
      "cell_type": "markdown",
      "source": [
        "### 누적 분포함수(Cumulative Distribution Function:CDF)\n",
        "\n",
        "- 확률함수는 P(X=x)로 표현이 되지만, 누적분포함수는 P(X<=x)로 표현된다.\n",
        "\n",
        "- 정의: 확률변수 X가 x이하가 될 때의 확률을 반환하는 함수이다.\n",
        "\n",
        "- 특징\n",
        "\n",
        "   - 확률함수는 소문자인 f(x)로 표현이 되고, 누적분포함수는 대문자인 F(x)로 표현이 된다.\n",
        "\n",
        "   - F(x) = P(X<=x) = sum of f(xk) (xk<=x이다.)\n"
      ],
      "metadata": {
        "id": "meJ7BQ1vg-fo"
      }
    },
    {
      "cell_type": "markdown",
      "source": [
        "### 확률변수의 변환\n",
        "\n",
        "- 확률변수의 X에 2를 곱하고 3을 더한 2X+3과 같은 연산하기\n",
        "\n",
        "- 2X +3이 변환이 되어도 확률변수의 X가 취할 수 있는 값만 변환일 뿐 확률값은 그대로 유지\n",
        "\n",
        "- [Python] 2X+3으로 변환된 확률변수 Y 계산"
      ],
      "metadata": {
        "id": "21pPyxeok34V"
      }
    },
    {
      "cell_type": "code",
      "execution_count": 1,
      "metadata": {
        "id": "YwB94teBgQc7"
      },
      "outputs": [],
      "source": [
        "#Setting Library\n",
        "import numpy as np\n",
        "import matplotlib.pyplot as plt\n",
        "\n",
        "%precision 3\n",
        "%matplotlib inline"
      ]
    },
    {
      "cell_type": "code",
      "source": [
        "## 코드로 보는 확률질량함수\n",
        "#Python 확률질량함수로 표현\n",
        "\n",
        "x_set = np.array([1,2,3,4,5,6])\n",
        "\n",
        "def f(x):\n",
        "    if x in x_set:\n",
        "        return x/21\n",
        "    else:\n",
        "        return 0\n"
      ],
      "metadata": {
        "id": "iQ3NslILg7Oa"
      },
      "execution_count": 2,
      "outputs": []
    },
    {
      "cell_type": "code",
      "source": [
        "import sys\n",
        "print(sys.version)"
      ],
      "metadata": {
        "colab": {
          "base_uri": "https://localhost:8080/"
        },
        "id": "ZISR6guHzygp",
        "outputId": "3ef29270-44d3-40b9-9122-1c344b4c9793"
      },
      "execution_count": 21,
      "outputs": [
        {
          "output_type": "stream",
          "name": "stdout",
          "text": [
            "3.7.13 (default, Apr 24 2022, 01:04:09) \n",
            "[GCC 7.5.0]\n"
          ]
        }
      ]
    },
    {
      "cell_type": "code",
      "source": [
        "X = [x_set, f]\n"
      ],
      "metadata": {
        "id": "VW3FSJeFjELs"
      },
      "execution_count": 5,
      "outputs": []
    },
    {
      "cell_type": "code",
      "source": [
        "#확률 p_k = p(x_k) 계산\n",
        "prob = np.array([f(x_k) for x_k in x_set])\n",
        "\n",
        "#x_k와 p_k의 대응을 사전식으로 표시\n",
        "dic_k = dict(zip(x_set, prob))\n",
        "dic_k"
      ],
      "metadata": {
        "colab": {
          "base_uri": "https://localhost:8080/"
        },
        "id": "4Q7XOFvSjFeB",
        "outputId": "29536d06-aadd-48b6-bd62-fc9ffe3fbc2a"
      },
      "execution_count": 23,
      "outputs": [
        {
          "output_type": "execute_result",
          "data": {
            "text/plain": [
              "{1: 0.048, 2: 0.095, 3: 0.143, 4: 0.190, 5: 0.238, 6: 0.286}"
            ]
          },
          "metadata": {},
          "execution_count": 23
        }
      ]
    },
    {
      "cell_type": "code",
      "source": [
        "#확률 정의\n",
        "np.all(prob >=0)"
      ],
      "metadata": {
        "colab": {
          "base_uri": "https://localhost:8080/"
        },
        "id": "F4za8jmgjxjj",
        "outputId": "7d672bd8-634d-48fa-d78c-df7b1764bd14"
      },
      "execution_count": 8,
      "outputs": [
        {
          "output_type": "execute_result",
          "data": {
            "text/plain": [
              "True"
            ]
          },
          "metadata": {},
          "execution_count": 8
        }
      ]
    },
    {
      "cell_type": "code",
      "source": [
        "np.sum(prob)"
      ],
      "metadata": {
        "colab": {
          "base_uri": "https://localhost:8080/"
        },
        "id": "M8ry6WDTkQsp",
        "outputId": "7c4fbcbd-08d4-4452-e66f-c384ee8c07d0"
      },
      "execution_count": 9,
      "outputs": [
        {
          "output_type": "execute_result",
          "data": {
            "text/plain": [
              "1.000"
            ]
          },
          "metadata": {},
          "execution_count": 9
        }
      ]
    },
    {
      "cell_type": "code",
      "source": [
        "#CDF\n",
        "\n",
        "def F(x):\n",
        "    return np.sum([f(x_k) for x_k in x_set if x_k <=x])\n",
        "    "
      ],
      "metadata": {
        "id": "-sKlOXqvkTQ3"
      },
      "execution_count": 10,
      "outputs": []
    },
    {
      "cell_type": "code",
      "source": [
        "F(3)"
      ],
      "metadata": {
        "colab": {
          "base_uri": "https://localhost:8080/"
        },
        "id": "i59gMC1LlqIC",
        "outputId": "d7cd4218-a18b-41ce-f5ac-e60aaa30687c"
      },
      "execution_count": 11,
      "outputs": [
        {
          "output_type": "execute_result",
          "data": {
            "text/plain": [
              "0.286"
            ]
          },
          "metadata": {},
          "execution_count": 11
        }
      ]
    },
    {
      "cell_type": "code",
      "source": [
        "#확률변수의 변환\n",
        "\n",
        "y_set = np.array([2*x_k +3 for x_k in x_set])\n",
        "prob = np.array([f(x_k) for x_k in x_set])\n",
        "dict(zip(y_set, prob))"
      ],
      "metadata": {
        "colab": {
          "base_uri": "https://localhost:8080/"
        },
        "id": "VAiGFyX4lq15",
        "outputId": "62a6a4bb-dcf1-4f2d-f14a-0b357f2a7a75"
      },
      "execution_count": 12,
      "outputs": [
        {
          "output_type": "execute_result",
          "data": {
            "text/plain": [
              "{5: 0.048, 7: 0.095, 9: 0.143, 11: 0.190, 13: 0.238, 15: 0.286}"
            ]
          },
          "metadata": {},
          "execution_count": 12
        }
      ]
    },
    {
      "cell_type": "code",
      "source": [
        ""
      ],
      "metadata": {
        "id": "DCjnDRP-mbGD"
      },
      "execution_count": null,
      "outputs": []
    }
  ]
}