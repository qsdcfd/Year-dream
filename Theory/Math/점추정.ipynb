{
  "nbformat": 4,
  "nbformat_minor": 0,
  "metadata": {
    "colab": {
      "name": "점추정",
      "provenance": [],
      "authorship_tag": "ABX9TyPndfRjoiy3BPLfnJIAckgH"
    },
    "kernelspec": {
      "name": "python3",
      "display_name": "Python 3"
    },
    "language_info": {
      "name": "python"
    }
  },
  "cells": [
    {
      "cell_type": "markdown",
      "source": [
        "\n",
        "\n",
        "### 점추정\n",
        "\n",
        "- 정의: 추정하고 싶은 모평균 혹은 모분산이라는 모수를 하나의 수치로 측정\n",
        "\n",
        "<br>\n",
        "\n",
        "**모평균의 점추정**\n",
        "\n",
        "- 무작위추출로 얻은 20개의 건물의 가구당 평균 방의 수 샘플은 각 샘플마다 기대값인 E(X) ,분산은 V(X)인 확률분포를 따르고, 서로 독립인 확률변수라고 할 수 있다.\n",
        "\n",
        "- 이후 표변평균도 확률변수가  된다(시행할 때마다 얻는 결과값은 달라진다)\n",
        "\n",
        "- 최종적으로 표본평균의 기대값은 모평균이된다.\n",
        "\n",
        "- 이런식으로 추정량의 기대값이 추측하려는 모수가 되는 성질을 불편성(편향되지 않음)이다\n",
        "\n",
        "- 불편추정량: 불편량을 가진 추정량\n",
        "\n",
        "-  일치성: 표본크기를 증가시키면 추측하려는 모수에 수렴\n",
        "\n",
        "- 표본평균은 불편성과 일치성 모두를 지닌 모수(모평균)의 좋은 추정량이다.\n",
        "\n",
        "<br>\n",
        "\n",
        "**모분산의 점추정**\n",
        "\n",
        "- 표본분산은 n으로 나눈 것이고 불편분산은 n-1로 나눈 것이다.\n",
        "\n",
        "\n",
        "- 표본분산은 표본평균과 동일하게 확률변수로 표현이 되므로 시행할 때마다 결과가 달라진다.\n",
        "\n",
        "- 불편성 및 일치성을 가지는지 파악\n",
        "\n",
        "- n-1은 자유도\n",
        "\n",
        "   - 자유도: 자유롭게 값을 취할 수 있느 변수의 개수\n",
        "\n",
        "   - 분산의 경우 만족해야하는 제약이 있기에 자유도가 n-1\n",
        "\n",
        "   - 자유도를 나누면 불편성을 가지게 된다\n",
        "\n",
        "- 불편분산은 불편성과 일치성을 만족하는 좋은 추정량이다."
      ],
      "metadata": {
        "id": "dQChZT5lhkdl"
      }
    },
    {
      "cell_type": "code",
      "execution_count": 2,
      "metadata": {
        "id": "HynkqISGhdTY"
      },
      "outputs": [],
      "source": [
        "import numpy as np\n",
        "import pandas as pd\n",
        "import matplotlib.pyplot as plt\n",
        "from scipy import stats\n",
        "\n",
        "%precision 3\n",
        "%matplotlib inline"
      ]
    },
    {
      "cell_type": "code",
      "source": [
        "#파이싼 Scikit-learn 기반 기초 데이터 세팅(RM: 가구당 평균 방 수)\n",
        "from sklearn.datasets import load_boston\n",
        "\n",
        "boston_houseprice_data = load_boston()\n",
        "\n",
        "df = pd.DataFrame(\n",
        "    data = boston_houseprice_data.data,\n",
        "    columns = boston_houseprice_data.feature_names\n",
        ")\n",
        "rooms = np.array(df['RM'])"
      ],
      "metadata": {
        "id": "oegYAhlviLgR"
      },
      "execution_count": null,
      "outputs": []
    },
    {
      "cell_type": "code",
      "source": [
        "p_mean = np.mean(rooms)\n",
        "p_var = np.var(rooms)\n",
        "\n",
        "p_mean, p_var"
      ],
      "metadata": {
        "colab": {
          "base_uri": "https://localhost:8080/"
        },
        "id": "lbVq-sxFitiT",
        "outputId": "a2c06401-d08f-4544-e102-0f706cf856e9"
      },
      "execution_count": 4,
      "outputs": [
        {
          "output_type": "execute_result",
          "data": {
            "text/plain": [
              "(6.285, 0.493)"
            ]
          },
          "metadata": {},
          "execution_count": 4
        }
      ]
    },
    {
      "cell_type": "code",
      "source": [
        "#기초데이터분포와 정규분포의 유사성 확인\n",
        "\n",
        "fig = plt.figure(figsize=(10,6))\n",
        "ax = fig.add_subplot(111)\n",
        "\n",
        "xs = np.arange(101)/10\n",
        "rv = stats.norm(p_mean, np.sqrt(p_var))\n",
        "ax.plot(xs,rv.pdf(xs), color ='gray')\n",
        "ax.hist(rooms, bins=100, range=(0,10), density=True)\n",
        "\n",
        "plt.show()"
      ],
      "metadata": {
        "colab": {
          "base_uri": "https://localhost:8080/",
          "height": 374
        },
        "id": "bP0fS2y0i18Y",
        "outputId": "a8857f99-1dde-4002-e229-8a9b26a89ce0"
      },
      "execution_count": 7,
      "outputs": [
        {
          "output_type": "display_data",
          "data": {
            "text/plain": [
              "<Figure size 720x432 with 1 Axes>"
            ],
            "image/png": "[encoded data removed]"
          },
          "metadata": {
            "needs_background": "light"
          }
        }
      ]
    },
    {
      "cell_type": "code",
      "source": [
        "np.random.seed(0)\n",
        "n=20\n",
        "sample = np.random.choice(rooms, n)\n",
        "sample"
      ],
      "metadata": {
        "colab": {
          "base_uri": "https://localhost:8080/"
        },
        "id": "hf-obcmUjQJ7",
        "outputId": "d3093df6-376a-4c54-f0a1-5e043a357b2a"
      },
      "execution_count": 8,
      "outputs": [
        {
          "output_type": "execute_result",
          "data": {
            "text/plain": [
              "array([5.572, 6.03 , 6.021, 7.178, 5.708, 6.438, 7.875, 6.112, 6.004,\n",
              "       5.404, 6.826, 6.358, 6.63 , 6.121, 6.417, 6.437, 7.007, 6.405,\n",
              "       6.567, 6.8  ])"
            ]
          },
          "metadata": {},
          "execution_count": 8
        }
      ]
    },
    {
      "cell_type": "code",
      "source": [
        "np.random.seed(111)\n",
        "n_samples=10000\n",
        "samples = np.random.choice(rooms, (n_samples, n))"
      ],
      "metadata": {
        "id": "T6Y3KocPjkeo"
      },
      "execution_count": 10,
      "outputs": []
    },
    {
      "cell_type": "code",
      "source": [
        "#모평균의 점추정 표본평균 및 표본평균의 기대값\n",
        "\n",
        "for i in range(5):\n",
        "    s_mean =np.mean(sample[i])\n",
        "    print(f'{i+1}번째 표본평균: {s_mean:.3f}')"
      ],
      "metadata": {
        "colab": {
          "base_uri": "https://localhost:8080/"
        },
        "id": "ccD9esw0jr3H",
        "outputId": "083104fb-0814-4ebe-f967-20ae3825d081"
      },
      "execution_count": 14,
      "outputs": [
        {
          "output_type": "stream",
          "name": "stdout",
          "text": [
            "1번째 표본평균: 5.572\n",
            "2번째 표본평균: 6.030\n",
            "3번째 표본평균: 6.021\n",
            "4번째 표본평균: 7.178\n",
            "5번째 표본평균: 5.708\n"
          ]
        }
      ]
    },
    {
      "cell_type": "code",
      "source": [
        "sample_means = np.mean(samples, axis=1)\n",
        "np.mean(sample_means)"
      ],
      "metadata": {
        "colab": {
          "base_uri": "https://localhost:8080/"
        },
        "id": "NLaQZjLbkecn",
        "outputId": "179cfd35-f6bd-43c9-b551-9ee880789db4"
      },
      "execution_count": 15,
      "outputs": [
        {
          "output_type": "execute_result",
          "data": {
            "text/plain": [
              "6.286"
            ]
          },
          "metadata": {},
          "execution_count": 15
        }
      ]
    },
    {
      "cell_type": "code",
      "source": [
        "np.mean(np.random.choice(rooms, int(1e6)))"
      ],
      "metadata": {
        "colab": {
          "base_uri": "https://localhost:8080/"
        },
        "id": "7Sy1ZMu5k50-",
        "outputId": "7de0d1ae-abf0-4b45-d3ba-17bd5669304d"
      },
      "execution_count": 16,
      "outputs": [
        {
          "output_type": "execute_result",
          "data": {
            "text/plain": [
              "6.284"
            ]
          },
          "metadata": {},
          "execution_count": 16
        }
      ]
    },
    {
      "cell_type": "code",
      "source": [
        "#모분산의 점추정 표본분산 및 표본분산의 기대값\n",
        "\n",
        "for i in range(5):\n",
        "    s_var = np.var(samples[i])\n",
        "    print(f'{i+1}번째 표본분산: {s_var:.3f}')"
      ],
      "metadata": {
        "colab": {
          "base_uri": "https://localhost:8080/"
        },
        "id": "6UtSMNg5k9IJ",
        "outputId": "28ee268d-121a-4cd8-b7b1-db33357e635c"
      },
      "execution_count": 18,
      "outputs": [
        {
          "output_type": "stream",
          "name": "stdout",
          "text": [
            "1번째 표본분산: 0.589\n",
            "2번째 표본분산: 0.360\n",
            "3번째 표본분산: 0.486\n",
            "4번째 표본분산: 0.360\n",
            "5번째 표본분산: 0.319\n"
          ]
        }
      ]
    },
    {
      "cell_type": "code",
      "source": [
        "sample_vars = np.var(samples, axis=1)\n",
        "np.mean(sample_vars)"
      ],
      "metadata": {
        "colab": {
          "base_uri": "https://localhost:8080/"
        },
        "id": "FX5sGJQSlsqu",
        "outputId": "13d1e378-9efd-4c98-b70d-5777043bc8ad"
      },
      "execution_count": 19,
      "outputs": [
        {
          "output_type": "execute_result",
          "data": {
            "text/plain": [
              "0.473"
            ]
          },
          "metadata": {},
          "execution_count": 19
        }
      ]
    },
    {
      "cell_type": "code",
      "source": [
        "#var 함수에 delta degree of freedom=1을 지정하면 계산 가능\n",
        "\n",
        "sample_u_vars = np.var(samples, axis=1, ddof=1)\n",
        "np.mean(sample_u_vars)"
      ],
      "metadata": {
        "colab": {
          "base_uri": "https://localhost:8080/"
        },
        "id": "RfmwX-_fl02i",
        "outputId": "0a906ea1-491b-40f5-d9c0-32c69684f26f"
      },
      "execution_count": 20,
      "outputs": [
        {
          "output_type": "execute_result",
          "data": {
            "text/plain": [
              "0.498"
            ]
          },
          "metadata": {},
          "execution_count": 20
        }
      ]
    },
    {
      "cell_type": "code",
      "source": [
        "#1,000,000개 샘플의 불편분산 계산시 모분산인 0.492과 거의 같아짐: 일정추정량 만족\n",
        "\n",
        "np.var(np.random.choice(rooms, int(1e6)), ddof=1)"
      ],
      "metadata": {
        "colab": {
          "base_uri": "https://localhost:8080/"
        },
        "id": "aFvFijJSmbmN",
        "outputId": "1671f350-07a2-4027-b90f-8da2a0187b5d"
      },
      "execution_count": 21,
      "outputs": [
        {
          "output_type": "execute_result",
          "data": {
            "text/plain": [
              "0.492"
            ]
          },
          "metadata": {},
          "execution_count": 21
        }
      ]
    },
    {
      "cell_type": "code",
      "source": [
        ""
      ],
      "metadata": {
        "id": "oC6WBo1UmnzF"
      },
      "execution_count": null,
      "outputs": []
    }
  ]
}