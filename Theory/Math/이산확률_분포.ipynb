{
  "nbformat": 4,
  "nbformat_minor": 0,
  "metadata": {
    "colab": {
      "name": "이산확률 분포",
      "provenance": [],
      "authorship_tag": "ABX9TyNJBtyMVaJtGhKOcXR4CT8t"
    },
    "kernelspec": {
      "name": "python3",
      "display_name": "Python 3"
    },
    "language_info": {
      "name": "python"
    }
  },
  "cells": [
    {
      "cell_type": "markdown",
      "source": [
        "### 베르누이 분포\n",
        "\n",
        "#### intro\n",
        "\n",
        "**비모수적 기법**\n",
        "\n",
        "모집단의 확률 분포에 대한 특별한 가정없이, 평균과 분산이라는 지표를 추정\n",
        "\n",
        "**모수적 기법**\n",
        "\n",
        "모집단의 성질에 따라 확률 분포의 형태인지를 미리 가정한 후, 기댓값 혹은 분산을 결정하는 소수의 파라미터 추정\n",
        "\n",
        "<br>\n",
        "\n",
        "#### 정의와 특징\n",
        "\n",
        "- 가장 기본적인 이산형 확률 분포\n",
        "\n",
        "- 변수의 확률값이 동일\n",
        "\n",
        "- 성공/실패와 같이 두 가지에 대한 분포로 성공확률p, 실패확률 1-p가 있는 분포\n",
        "\n",
        "- 취할 수 있는 값은 0(실패) 혹은 1(성공)\n",
        "\n",
        "- 1과 0이 나올 확률을 각각 더하면 1이 되어야하므로, 그 확률을 각각 p와 1-p로 정의\n",
        "\n",
        "- 0<=p<=1이라는 조건 만족(확률의 성질에 따라)\n",
        "\n",
        "- 베르누이 분포를 Bern(p)로 표기\n",
        "\n",
        "- 확률함수 공식\n",
        "\n",
        "   - f(x) = p^x(1-p)^(1-x) {x is 0 or 1}\n",
        "\n",
        "   - f(x) = 0 (otherwise)\n",
        "\n",
        "- X ~ Bern(p)\n",
        "\n",
        "   - E(X) = p\n",
        "\n",
        "   - V(x) = p(1-p)"
      ],
      "metadata": {
        "id": "WSWDljAYNBqw"
      }
    },
    {
      "cell_type": "code",
      "execution_count": 3,
      "metadata": {
        "id": "JKDgREcYMa6s"
      },
      "outputs": [],
      "source": [
        "import numpy as  np #분포 구현\n",
        "import matplotlib.pyplot as plt\n",
        "from scipy import stats #통계 계산\n",
        "\n",
        "%precision 3\n",
        "%matplotlib inline"
      ]
    },
    {
      "cell_type": "code",
      "source": [
        "#E(X)\n",
        "\n",
        "def E(X, g=lambda x: x):\n",
        "    x_set, f = X\n",
        "    return np.sum([g(x_k) * f(x_k) for x_k in x_set])"
      ],
      "metadata": {
        "id": "NUuVxXLxQk_0"
      },
      "execution_count": 8,
      "outputs": []
    },
    {
      "cell_type": "code",
      "source": [
        "#V(X)\n",
        "\n",
        "def V(X, g=lambda x:x):\n",
        "    x_set, f =X\n",
        "    mean = E(X,g)\n",
        "    return np.sum([(g(x_k)-mean)**2 * f(x_k) for x_k in x_set])"
      ],
      "metadata": {
        "id": "5swauRumQlFA"
      },
      "execution_count": 9,
      "outputs": []
    },
    {
      "cell_type": "code",
      "source": [
        "#Check_prob\n",
        "def check_prob(X):\n",
        "    x_set, f = X\n",
        "    prob = np.array([f(x_k) for x_k in x_set])\n",
        "    assert np.all(prob >=0), 'minus probability'\n",
        "    prob_sum = np.round(np.sum(prob), 6)\n",
        "    assert prob_sum ==1, 'sum of probability'\n",
        "    print(f'expected value {E(X):.4}')\n",
        "    print(f'variance {(V(X)):.4}')"
      ],
      "metadata": {
        "id": "8vEJMyVDQlHX"
      },
      "execution_count": 38,
      "outputs": []
    },
    {
      "cell_type": "code",
      "source": [
        "#plot_prob\n",
        "def plot_prob(X):\n",
        "    x_set, f=X\n",
        "    prob = np.array([f(x_k) for x_k in x_set])\n",
        "\n",
        "    fig = plt.figure(figsize=(10,6))\n",
        "    ax = fig.add_subplot(111)\n",
        "    ax.bar(x_set, prob, label = 'prob')\n",
        "    ax.vlines(E(X), 0, 1, label = 'mean')\n",
        "    ax.set_xticks(np.append(x_set, E(X)))\n",
        "    ax.set_ylim(0, prob.max()*1.2)\n",
        "    ax.legend()\n",
        "\n",
        "    plt.show()"
      ],
      "metadata": {
        "id": "1SC9t5niT5mM"
      },
      "execution_count": 12,
      "outputs": []
    },
    {
      "cell_type": "code",
      "source": [
        "def Bern(p):\n",
        "    x_set = np.array([0,1])\n",
        "    def f(x):\n",
        "        if x in x_set:\n",
        "            return p ** x * (1-p) **(1-x)\n",
        "        else:\n",
        "            return 0\n",
        "    return x_set,f"
      ],
      "metadata": {
        "id": "5YiO-Qz9P6zx"
      },
      "execution_count": 5,
      "outputs": []
    },
    {
      "cell_type": "code",
      "source": [
        "p=0.3\n",
        "X = Bern(p)"
      ],
      "metadata": {
        "id": "DhVvkCvBQIvZ"
      },
      "execution_count": 6,
      "outputs": []
    },
    {
      "cell_type": "code",
      "source": [
        "check_prob(X)"
      ],
      "metadata": {
        "colab": {
          "base_uri": "https://localhost:8080/"
        },
        "id": "rpX2HNUEQL5g",
        "outputId": "6f47bab9-8a58-4f4f-e06a-1d07ddcca10f"
      },
      "execution_count": 11,
      "outputs": [
        {
          "output_type": "stream",
          "name": "stdout",
          "text": [
            "expected value 0.3\n",
            "variance 0.21\n"
          ]
        }
      ]
    },
    {
      "cell_type": "code",
      "source": [
        "plot_prob(X)"
      ],
      "metadata": {
        "colab": {
          "base_uri": "https://localhost:8080/",
          "height": 374
        },
        "id": "rw--OtMzTz4i",
        "outputId": "53e7fbef-e059-4a5a-f0c6-c74669c84ed7"
      },
      "execution_count": 13,
      "outputs": [
        {
          "output_type": "display_data",
          "data": {
            "text/plain": [
              "<Figure size 720x432 with 1 Axes>"
            ],
            "image/png": "[encoded data removed]"
          },
          "metadata": {
            "needs_background": "light"
          }
        }
      ]
    },
    {
      "cell_type": "code",
      "source": [
        "rv = stats.bernoulli(p)\n",
        "#확률변수 호출"
      ],
      "metadata": {
        "id": "fvXx6OFaUd-9"
      },
      "execution_count": 14,
      "outputs": []
    },
    {
      "cell_type": "code",
      "source": [
        "rv.pmf(0), rv.pmf(1)"
      ],
      "metadata": {
        "colab": {
          "base_uri": "https://localhost:8080/"
        },
        "id": "uL8ywoKfUlsb",
        "outputId": "214d0f85-b0cb-4d1c-c185-b675e18078ce"
      },
      "execution_count": 15,
      "outputs": [
        {
          "output_type": "execute_result",
          "data": {
            "text/plain": [
              "(0.700, 0.300)"
            ]
          },
          "metadata": {},
          "execution_count": 15
        }
      ]
    },
    {
      "cell_type": "code",
      "source": [
        "rv.pmf([0,1]) #확률질량함수(pmf)계산"
      ],
      "metadata": {
        "colab": {
          "base_uri": "https://localhost:8080/"
        },
        "id": "nUIPdRwHUonO",
        "outputId": "d24e2eca-051c-4402-cc94-cb4dce2cedb6"
      },
      "execution_count": 16,
      "outputs": [
        {
          "output_type": "execute_result",
          "data": {
            "text/plain": [
              "array([0.7, 0.3])"
            ]
          },
          "metadata": {},
          "execution_count": 16
        }
      ]
    },
    {
      "cell_type": "code",
      "source": [
        "rv.cdf([0,1]) # 누적분포함수(cdf) 계산"
      ],
      "metadata": {
        "colab": {
          "base_uri": "https://localhost:8080/"
        },
        "id": "QVgp2DmsUqDN",
        "outputId": "ec6b6339-9745-47ec-8cda-821270a3f504"
      },
      "execution_count": 17,
      "outputs": [
        {
          "output_type": "execute_result",
          "data": {
            "text/plain": [
              "array([0.7, 1. ])"
            ]
          },
          "metadata": {},
          "execution_count": 17
        }
      ]
    },
    {
      "cell_type": "code",
      "source": [
        "rv.mean(), rv.var()"
      ],
      "metadata": {
        "colab": {
          "base_uri": "https://localhost:8080/"
        },
        "id": "E_2a6hL0UsP5",
        "outputId": "ac56b0d2-3d1c-40be-d60a-4c1bedbce860"
      },
      "execution_count": 18,
      "outputs": [
        {
          "output_type": "execute_result",
          "data": {
            "text/plain": [
              "(0.300, 0.210)"
            ]
          },
          "metadata": {},
          "execution_count": 18
        }
      ]
    },
    {
      "cell_type": "markdown",
      "source": [
        "---\n"
      ],
      "metadata": {
        "id": "s-XtWjRXWLqV"
      }
    },
    {
      "cell_type": "markdown",
      "source": [
        "### 이항 분포(Binomial Distribution)\n",
        "\n",
        "- 성공 확률이 p인 베르누이 시행을 n번 했을 때의 성공 횟수를 나타내는 분포\n",
        "\n",
        "- 취할 수 있는 값: [0,1,...,n]\n",
        "\n",
        "- 파라미터: 성공확률 p, 시행 횟수 n\n",
        "\n",
        "- 0<=p<=1, n은 1이상인 정수라는 조건을 만족해야한다\n",
        "\n",
        "- Bin(n,p)로 표기\n",
        "\n",
        "- 확률함수 공식\n",
        "\n",
        "   - f(x) = (n x)p^x(1-p)^(n-x) {x is in [0,1,..n]}\n",
        "\n",
        "   - f(x) = 0 (otherwise)\n",
        "\n",
        "- 이항 분포 기댓값과 분산\n",
        "\n",
        "   - E(X) =np\n",
        "\n",
        "   - V(X) = np(1-p)"
      ],
      "metadata": {
        "id": "dQ1vt4yxWNPJ"
      }
    },
    {
      "cell_type": "code",
      "source": [
        "from scipy.special import comb # comb함수를 통해서 (n x)구현\n",
        "\n",
        "def Bin(n,p):\n",
        "    x_set = np.arange(n+1)\n",
        "    def f(x):\n",
        "        if x in x_set:\n",
        "            return comb(n,x) * p**x * (1-p)**(n-x)\n",
        "        else:\n",
        "            return 0\n",
        "    return x_set, f"
      ],
      "metadata": {
        "id": "MtFIS0g9WMYZ"
      },
      "execution_count": 19,
      "outputs": []
    },
    {
      "cell_type": "code",
      "source": [
        "n = 10\n",
        "p = 0.3\n",
        "X = Bin(n,p)\n",
        "\n",
        "check_prob(X)"
      ],
      "metadata": {
        "colab": {
          "base_uri": "https://localhost:8080/"
        },
        "id": "8AQ9zKPiX-4r",
        "outputId": "99cdb465-ad02-45fa-efa8-29879c1768ed"
      },
      "execution_count": 20,
      "outputs": [
        {
          "output_type": "stream",
          "name": "stdout",
          "text": [
            "expected value 3.0\n",
            "variance 2.1\n"
          ]
        }
      ]
    },
    {
      "cell_type": "code",
      "source": [
        "plot_prob(X)"
      ],
      "metadata": {
        "colab": {
          "base_uri": "https://localhost:8080/",
          "height": 374
        },
        "id": "FQ6vwTeLYEUp",
        "outputId": "1292ab43-83da-4dc4-ad47-48a38a2b7282"
      },
      "execution_count": 21,
      "outputs": [
        {
          "output_type": "display_data",
          "data": {
            "text/plain": [
              "<Figure size 720x432 with 1 Axes>"
            ],
            "image/png": "[encoded data removed]"
          },
          "metadata": {
            "needs_background": "light"
          }
        }
      ]
    },
    {
      "cell_type": "code",
      "source": [
        "fig = plt.figure(figsize=(10,6))\n",
        "ax = fig.add_subplot(111)\n",
        "\n",
        "x_set = np.arange(n+1)\n",
        "for p, ls in zip([0.3, 0.5, 0.7],linestyles ):\n",
        "    rv = stats.binom(n, p)\n",
        "    ax.plot(x_set, rv.pmf(x_set),\n",
        "            label=f'p:{p}', ls=ls, color='gray')\n",
        "ax.set_xticks(x_set)\n",
        "ax.legend()\n",
        "\n",
        "plt.show()"
      ],
      "metadata": {
        "id": "x5Ia1U0tYGvL"
      },
      "execution_count": null,
      "outputs": []
    },
    {
      "cell_type": "markdown",
      "source": [
        "---"
      ],
      "metadata": {
        "id": "EZ1LpyHLcKq7"
      }
    },
    {
      "cell_type": "markdown",
      "source": [
        "### 기하 분포(Geometric Distribution)\n",
        "\n",
        "- 베르누이 시행에서 처음 성공할 때까지 반복한 시행 횟수에 따른 분포\n",
        "\n",
        "- 취할 수 있는 값:{1,2,3,...}\n",
        "\n",
        "- 파라미터: 성공 확률 p\n",
        "\n",
        "- 0<=p<=1라는 조건 만족\n",
        "\n",
        "- Ge(p)로 표기\n",
        "\n",
        "- 공식\n",
        "\n",
        "   - f(x) = (1-p)^(x-1)p. {x is [1,2,3,4,5...]}\n",
        "\n",
        "   - f(x) = 0 (otherwise)\n",
        "\n",
        "- 기대값과 분산\n",
        "\n",
        "   - E(X) = 1/p\n",
        "\n",
        "   - V(X) = (1-p) / p^2"
      ],
      "metadata": {
        "id": "hAiqKK7GcLD4"
      }
    },
    {
      "cell_type": "code",
      "source": [
        "def Ge(p):\n",
        "    x_set = np.arange(1,30)\n",
        "    def f(x):\n",
        "        if x in x_set:\n",
        "            return p * (1-p) ** (x-1)\n",
        "        else:\n",
        "            return 0\n",
        "    return x_set, f"
      ],
      "metadata": {
        "id": "BnzUxKSYYz98"
      },
      "execution_count": 26,
      "outputs": []
    },
    {
      "cell_type": "code",
      "source": [
        "p = 0.5\n",
        "X = Ge(p)"
      ],
      "metadata": {
        "id": "Fm1uREjAc5JP"
      },
      "execution_count": 27,
      "outputs": []
    },
    {
      "cell_type": "code",
      "source": [
        "check_prob(X)"
      ],
      "metadata": {
        "colab": {
          "base_uri": "https://localhost:8080/"
        },
        "id": "T3FrpaI7c9z1",
        "outputId": "0388ad69-0ce0-4652-bcc0-e53fbc61a007"
      },
      "execution_count": 28,
      "outputs": [
        {
          "output_type": "stream",
          "name": "stdout",
          "text": [
            "expected value 2.0\n",
            "variance 2.0\n"
          ]
        }
      ]
    },
    {
      "cell_type": "code",
      "source": [
        "plot_prob(X)"
      ],
      "metadata": {
        "colab": {
          "base_uri": "https://localhost:8080/",
          "height": 378
        },
        "id": "F_Il_8vjc_Jn",
        "outputId": "1700c504-b5a8-472a-f545-e31d8207890b"
      },
      "execution_count": 29,
      "outputs": [
        {
          "output_type": "display_data",
          "data": {
            "text/plain": [
              "<Figure size 720x432 with 1 Axes>"
            ],
            "image/png": "[encoded data removed]"
          },
          "metadata": {
            "needs_background": "light"
          }
        }
      ]
    },
    {
      "cell_type": "markdown",
      "source": [
        "---"
      ],
      "metadata": {
        "id": "UPQfnM20dM-W"
      }
    },
    {
      "cell_type": "markdown",
      "source": [
        "### 푸아송 분포(Possion Distribution)\n",
        "\n",
        "- 임의의 사건이 단위 시간당 발생하는 건수에 따른 확률분포\n",
        "\n",
        "- 취할 수 있는 값: {0,1,2,3,...}\n",
        "\n",
        "- 파라미터: a(lambda)는 양의 실수\n",
        "\n",
        "- Poi(a)로 표기\n",
        "\n",
        "- 확률함수 공식\n",
        "\n",
        "   - f(x) = (a^x * e^-a) / x!  {x is [0,1,2,3,,..]}\n",
        "\n",
        "   - f(x) = 0 (otherwise)\n",
        "\n",
        "\n",
        "- 기대값과 분산\n",
        "\n",
        "   - E(X) = a\n",
        "\n",
        "   - V(X) = a"
      ],
      "metadata": {
        "id": "fCs67L0VdNA5"
      }
    },
    {
      "cell_type": "code",
      "source": [
        "from scipy.special import factorial # x! 구현\n",
        "\n",
        "def Poi(lam):\n",
        "    x_Set = np.arange(20)\n",
        "    def f(x):\n",
        "        if x in x_set:\n",
        "            return np.power(lam, x) / factorial(x) * np.exp(-lam)\n",
        "        else:\n",
        "            return 0\n",
        "    return x_set, f"
      ],
      "metadata": {
        "id": "3v2vDGNAdCqK"
      },
      "execution_count": 35,
      "outputs": []
    },
    {
      "cell_type": "code",
      "source": [
        "lam = 3\n",
        "\n",
        "X = Poi(lam)\n",
        "\n",
        "\n",
        "\n"
      ],
      "metadata": {
        "id": "u2XuFvqpejny"
      },
      "execution_count": 36,
      "outputs": []
    },
    {
      "cell_type": "code",
      "source": [
        "plot_prob(X)"
      ],
      "metadata": {
        "colab": {
          "base_uri": "https://localhost:8080/",
          "height": 374
        },
        "id": "BM5FKwogerkq",
        "outputId": "45d50f15-3b4c-46d6-ca63-eb62d47e9aa2"
      },
      "execution_count": 40,
      "outputs": [
        {
          "output_type": "display_data",
          "data": {
            "text/plain": [
              "<Figure size 720x432 with 1 Axes>"
            ],
            "image/png": "[encoded data removed]"
          },
          "metadata": {
            "needs_background": "light"
          }
        }
      ]
    },
    {
      "cell_type": "markdown",
      "source": [
        ""
      ],
      "metadata": {
        "id": "bCFHPQdWfY0L"
      }
    }
  ]
}