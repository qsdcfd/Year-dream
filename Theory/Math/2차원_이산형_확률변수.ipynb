{
  "nbformat": 4,
  "nbformat_minor": 0,
  "metadata": {
    "colab": {
      "name": "2차원 이산형 확률변수",
      "provenance": [],
      "authorship_tag": "ABX9TyPOJEj1nVmpMAN3hqix6Ggu"
    },
    "kernelspec": {
      "name": "python3",
      "display_name": "Python 3"
    },
    "language_info": {
      "name": "python"
    }
  },
  "cells": [
    {
      "cell_type": "markdown",
      "source": [
        "### 2차원 이산형 확률변수의 정의\n",
        "\n",
        "- 2차원 확률변수에서는 1차원 확률분포 2개(X,Y)를 동시에 다룬다.\n",
        "\n",
        "- 각 확률변수가 취할 수 있는 값의 조합으로 이뤄진 집합과 그 확률에 의해 정의된다.\n",
        "\n",
        "<br>\n",
        "\n",
        "### 결합확률분포(Joint Probability Distribution)\n",
        "\n",
        "- (X,Y)가 취할 수 있는 값의 조합으로 이뤄진 집합을 {(xi,yk)|i=1,2,...; j=1,2,...}\n",
        "\n",
        "- 각각 조합에 맞는 확률(결합확률 분포)\n",
        "\n",
        "   - P(X=xi, Y=yj) = pij(i=1,2,...; j=1,2,....)\n",
        "\n",
        "   - P(X=x, Y=y) = fXY(x,y)가 되는 함수를 fxy(x,y)를 결합함수라고 한다\n",
        "\n",
        "- 즉, 동시에 움직이는 확률\n",
        "\n",
        "- 확률의 성질\n",
        "\n",
        "   - fxy(xi,yi) >= 0\n",
        "\n",
        "   - sumi,j of fxy(xi,yi) = 1 \n"
      ],
      "metadata": {
        "id": "hUvfwXOa_hGy"
      }
    },
    {
      "cell_type": "markdown",
      "source": [
        "### 주변확률분포(Marginal Probability Distribution\n",
        "\n",
        "- 확률변수(X,Y)가 결합분포에 의해 동시에 정의되었음에도(fXY(xi,yj))개별 확률변수 X의 확률분포(fX(x))만을 다시 살펴보아야할 떄 사용한다.\n",
        "\n",
        "- 식\n",
        "\n",
        "   - fX(x) = sum of fXY(x,yk)\n",
        "   \n",
        "\n"
      ],
      "metadata": {
        "id": "WpEe1myZZU67"
      }
    },
    {
      "cell_type": "code",
      "execution_count": null,
      "metadata": {
        "id": "eDZ_K-Zs-4sg"
      },
      "outputs": [],
      "source": [
        "import numpy as np\n",
        "import matplotlib.pyplot as plt\n",
        "%precision 3\n",
        "%matplotlib inline"
      ]
    },
    {
      "cell_type": "code",
      "source": [
        "x_set = np.arange(2,13)\n",
        "y_set = np.arange(1,7)\n",
        "\n",
        "def f_XY(x,y):\n",
        "    if 1<=y<=6 and 1<=x<=y<=6:\n",
        "        return y * (x-y) / 441\n",
        "    else:\n",
        "        return 0\n"
      ],
      "metadata": {
        "id": "8iZ5-rJ8AN87"
      },
      "execution_count": null,
      "outputs": []
    },
    {
      "cell_type": "code",
      "source": [
        "\n",
        "\n",
        "\n",
        "XY = [x_set, y_set, f_XY]"
      ],
      "metadata": {
        "id": "FxEKAFjpBnOC"
      },
      "execution_count": null,
      "outputs": []
    },
    {
      "cell_type": "code",
      "source": [
        "\n",
        "prob = np.array(\n",
        "    [\n",
        "         [\n",
        "            \n",
        "             f_XY(x_i, y_j)\n",
        "             for y_j in y_set\n",
        "\n",
        "\n",
        "         ]\n",
        "         for x_i in x_set        \n",
        "    ]\n",
        "\n",
        ")"
      ],
      "metadata": {
        "id": "E7rFVChdBwex"
      },
      "execution_count": null,
      "outputs": []
    },
    {
      "cell_type": "code",
      "source": [
        "\n",
        "\n",
        "\n",
        "\n",
        "fig  = plt.figure(figsize=(10,8))\n",
        "ax = fig.add_subplot(1,1,1)\n",
        "\n",
        "c = ax.pcolor(prob)\n",
        "ax.set_xticks(np.arange(prob.shape[1]) + 0.5, minor=False)\n",
        "ax.set_yticks(np.arange(prob.shape[0]) + 0.5, minor=False)\n",
        "ax.set_xticklabels(np.arange(1,7), minor = False)\n",
        "ax.set_yticklabels(np.arange(2,13), minor = False)\n",
        "\n",
        "#y축을 내림차순의 숫자가 되도록 아래를 반환한다.\n",
        "ax.invert_yaxis()\n",
        "\n",
        "#x축 눈금을 그래프 위쪽에 표시\n",
        "\n",
        "ax.xaxis.tick_top()\n",
        "fig.colorbar(c, ax=ax)\n",
        "plt.show()"
      ],
      "metadata": {
        "colab": {
          "base_uri": "https://localhost:8080/",
          "height": 483
        },
        "id": "ccEnckeFCFan",
        "outputId": "a1af8962-e603-4e84-8f77-3fb195de64a2"
      },
      "execution_count": null,
      "outputs": [
        {
          "output_type": "display_data",
          "data": {
            "text/plain": [
              "<Figure size 720x576 with 2 Axes>"
            ],
            "image/png": "[encoded data removed]"
          },
          "metadata": {
            "needs_background": "light"
          }
        }
      ]
    },
    {
      "cell_type": "code",
      "source": [
        "np.all(prob >=0)\n"
      ],
      "metadata": {
        "colab": {
          "base_uri": "https://localhost:8080/"
        },
        "id": "_WECKdK7C4t8",
        "outputId": "524f3a95-f74a-4172-d1e7-72db3d352555"
      },
      "execution_count": null,
      "outputs": [
        {
          "output_type": "execute_result",
          "data": {
            "text/plain": [
              "False"
            ]
          },
          "metadata": {},
          "execution_count": 32
        }
      ]
    },
    {
      "cell_type": "code",
      "source": [
        "np.sum(prob)"
      ],
      "metadata": {
        "colab": {
          "base_uri": "https://localhost:8080/"
        },
        "id": "vE3C0pgqDM-p",
        "outputId": "75a8fcdf-8d64-4c7a-e9e6-6b1edd10d60f"
      },
      "execution_count": null,
      "outputs": [
        {
          "output_type": "execute_result",
          "data": {
            "text/plain": [
              "-0.238"
            ]
          },
          "metadata": {},
          "execution_count": 33
        }
      ]
    },
    {
      "cell_type": "code",
      "source": [
        "\n",
        "#주변확률분포 정의\n",
        "def f_X(x):\n",
        "    return np.sum(\n",
        "        [\n",
        "         f_XY(x,y_k)\n",
        "         for y_k in y_set\n",
        "        ]\n",
        "    )"
      ],
      "metadata": {
        "id": "FJuUZCUtDOUZ"
      },
      "execution_count": null,
      "outputs": []
    },
    {
      "cell_type": "code",
      "source": [
        "def f_Y(y):\n",
        "    return np.sum(\n",
        "        [\n",
        "         f_XY(x_k, y)\n",
        "         for x_k in x_set\n",
        "        ]\n",
        "    )"
      ],
      "metadata": {
        "id": "c93GarGBZvIy"
      },
      "execution_count": null,
      "outputs": []
    },
    {
      "cell_type": "code",
      "source": [
        "X = [x_set, f_X]\n",
        "Y = [y_set, f_Y]"
      ],
      "metadata": {
        "id": "UYIRMVqHZ2P7"
      },
      "execution_count": null,
      "outputs": []
    },
    {
      "cell_type": "code",
      "source": [
        "\n",
        "prob_x = np.array(\n",
        "    [\n",
        "      f_X(x_k)\n",
        "      for x_k in x_set\n",
        "    ]\n",
        ")\n",
        "\n",
        "prob_y = np.array(\n",
        "    [\n",
        "      f_Y(y_k)\n",
        "      for y_k in y_set\n",
        "    ]\n",
        ")"
      ],
      "metadata": {
        "id": "MbjZpn9JZ6Jq"
      },
      "execution_count": null,
      "outputs": []
    },
    {
      "cell_type": "code",
      "source": [
        "fig = plt.figure(figsize=(12,4))\n",
        "ax1 = fig.add_subplot(1,2,1)\n",
        "ax2 = fig.add_subplot(1,2,2)\n",
        "\n",
        "ax1.bar(x_set, prob_x)\n",
        "ax1.set_title('X_marginal probability distribution')\n",
        "ax1.set_xlabel('X_value')\n",
        "ax1.set_ylabel('probability')\n",
        "ax1.set_xticks(x_set)\n",
        "\n",
        "ax2.bar(y_set, prob_y)\n",
        "ax2.set_title('Y_marginal probability distribution')\n",
        "ax2.set_xlabel('Y_value')\n",
        "ax2.set_ylabel('probability')\n",
        "\n",
        "plt.show()"
      ],
      "metadata": {
        "colab": {
          "base_uri": "https://localhost:8080/",
          "height": 296
        },
        "id": "faea7lBzanuT",
        "outputId": "3648f8cf-223b-4665-da6f-6c4ddd5307a7"
      },
      "execution_count": null,
      "outputs": [
        {
          "output_type": "display_data",
          "data": {
            "text/plain": [
              "<Figure size 864x288 with 2 Axes>"
            ],
            "image/png": "[encoded data removed]"
          },
          "metadata": {
            "needs_background": "light"
          }
        }
      ]
    },
    {
      "cell_type": "code",
      "source": [
        ""
      ],
      "metadata": {
        "id": "5r-vpmc6bjrV"
      },
      "execution_count": null,
      "outputs": []
    }
  ]
}