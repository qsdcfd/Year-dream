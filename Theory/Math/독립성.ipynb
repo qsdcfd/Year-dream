{
  "nbformat": 4,
  "nbformat_minor": 0,
  "metadata": {
    "colab": {
      "name": "독립성",
      "provenance": [],
      "authorship_tag": "ABX9TyPeerlA4YcyuuNW4DZIhEUV"
    },
    "kernelspec": {
      "name": "python3",
      "display_name": "Python 3"
    },
    "language_info": {
      "name": "python"
    }
  },
  "cells": [
    {
      "cell_type": "markdown",
      "source": [
        "### 독립성 정의\n",
        "\n",
        "- 서로 독립인 다차원 확률변수\n",
        "\n",
        "- 2개 이상의 확률변수가 서로 영향을 끼치지 않으면서 관계가 없을 나타내는 개념\n",
        "\n",
        "- 2차원 확률변수(X,Y)의 경우, 다음과 같은 관계식이 성립할 때 독립\n",
        "\n",
        "   - fX,Y(x,y) = fX(x)fY(y)\n",
        "\n",
        "- 독립: 확률변수가 다른 확률변수에 서로 영향을 미치지 않음\n",
        "\n",
        "- 독립의 중요성: 통계분석에서 사용하는 데이터의 대부분이 독립이면서 다차원인 확률변수로 가정하고 분석 진행\n",
        "\n",
        "- 독립동일분포(i.i.d:independently and identically distributed)\n",
        "\n",
        "   - 서로 독립이고 각각 동일한 확률분포를 따르는 다차원 확률변수를 말함\n",
        "\n",
        "   - 통계분석에서 가장 기본적이고 중요한 조건\n",
        "\n",
        "<br>\n",
        "\n",
        "### 독립성의 일반화\n",
        "\n",
        "- n개의 확률변수(X1,X2,...Xn)가 다음을 만족할 때, X1,X2...,Xn은 서로 독립이다\n",
        "\n",
        "- 식\n",
        "\n",
        "   - fx1,x2,x3...xn(x1,x2,...,xn) = fx1(x1)fx2(x2)...fxn(xn)\n",
        "\n",
        "   - 단 f가 이상형이면 주변확률함수이고 연속형이면 주변확률밀도함수이다.\n",
        "\n",
        "<br>\n",
        "\n",
        "### 독립성과 무상관성\n",
        "\n",
        "- 공분산과 상관계수의 개념은 그 값이 0일 때, 무상관임을 표현한다.(즉 선형관계가 없다)\n",
        "\n",
        "- 독립일 때 무상관성을 만족하지만 무상관성이라고 반드시 독립인 것은 아니다.\n",
        "\n",
        "\n"
      ],
      "metadata": {
        "id": "tIYeaK3ZcfuB"
      }
    },
    {
      "cell_type": "code",
      "execution_count": 1,
      "metadata": {
        "id": "lYiiy8rEcUqL"
      },
      "outputs": [],
      "source": [
        "import numpy as np\n",
        "import matplotlib.pyplot as plt\n",
        "from scipy import stats\n",
        "\n",
        "np.random.seed(0)\n",
        "%precision 3\n",
        "%matplotlib inline"
      ]
    },
    {
      "cell_type": "code",
      "source": [
        "linestyles = ['-','--',':','-.']\n",
        "\n",
        "def E(XY, g):\n",
        "    x_set, y_set, f_XY =XY\n",
        "    return np.sum([g(x_i, y_j) * f_XY(x_i,y_j) for x_i in x_set for y_j in y_set])"
      ],
      "metadata": {
        "id": "TfdwhRXnd3zC"
      },
      "execution_count": 8,
      "outputs": []
    },
    {
      "cell_type": "code",
      "source": [
        "def Cov(XY):\n",
        "    x_set, y_set, f_XY =XY\n",
        "    mean_X = E(XY, lambda x, y:x)\n",
        "    mean_Y = E(XY, lambda x, y:y)\n",
        "    return np.sum([(x_i-mean_X) * (y_j-mean_Y) * f_XY(x_i,y_j) for x_i in x_set for y_j in y_set])"
      ],
      "metadata": {
        "id": "6XpfegBXe--9"
      },
      "execution_count": 9,
      "outputs": []
    },
    {
      "cell_type": "code",
      "source": [
        "def f_X(x):\n",
        "    return np.sum([f_XY(x,y_k) for y_k in y_set])\n",
        "    "
      ],
      "metadata": {
        "id": "Ol-eMGLUfXkw"
      },
      "execution_count": 10,
      "outputs": []
    },
    {
      "cell_type": "code",
      "source": [
        "\n",
        "\n",
        "def f_Y(y):\n",
        "    return np.sum([f_XY(x_k,y) for x_k in x_set])"
      ],
      "metadata": {
        "id": "3yjORy_tfi5E"
      },
      "execution_count": 11,
      "outputs": []
    },
    {
      "cell_type": "code",
      "source": [
        "#독립성과 무상관성\n",
        "x_set = np.array([1,2,3,4,5,6])\n",
        "y_set = np.array([1,2,3,4,5,6])\n",
        "\n",
        "def f_XY(x,y):\n",
        "    if x in x_set and y in y_set:\n",
        "        return x*y /441\n",
        "    else:\n",
        "        return 0\n",
        "XY = [x_set, y_set, f_XY]"
      ],
      "metadata": {
        "id": "f7JTvOHEfpmS"
      },
      "execution_count": 12,
      "outputs": []
    },
    {
      "cell_type": "code",
      "source": [
        "Cov(XY)"
      ],
      "metadata": {
        "colab": {
          "base_uri": "https://localhost:8080/"
        },
        "id": "scH_xspQhePd",
        "outputId": "bdc107e7-8278-4651-caf3-df2285bfeb77"
      },
      "execution_count": 13,
      "outputs": [
        {
          "output_type": "execute_result",
          "data": {
            "text/plain": [
              "-0.000"
            ]
          },
          "metadata": {},
          "execution_count": 13
        }
      ]
    },
    {
      "cell_type": "code",
      "source": [
        "#각각 확률이 동일한 경우\n",
        "\n",
        "#fX,Y(x,y) = 1/3  {(x,y) is (0,0) ,(1,1),(1,-1)}\n",
        "#fX,Y(x,y) = 0 {otherwise}\n",
        "\n",
        "\n",
        "x_set = np.array([0,1])\n",
        "y_set = np.array([-1,0,1])\n",
        "\n",
        "def f_XY(x,y):\n",
        "    if (x,y) in [(0,0),(1,1),(1,-1)]:\n",
        "        return 1/3\n",
        "    else:\n",
        "        return 0\n",
        "XY = [x_set, y_set, f_XY]"
      ],
      "metadata": {
        "id": "j7pQA-RLhfl6"
      },
      "execution_count": 14,
      "outputs": []
    },
    {
      "cell_type": "code",
      "source": [
        "Cov(XY)"
      ],
      "metadata": {
        "colab": {
          "base_uri": "https://localhost:8080/"
        },
        "id": "OdbLufAyiJO2",
        "outputId": "722c1ec3-f69a-4ea0-9fc7-c539a9843d66"
      },
      "execution_count": 15,
      "outputs": [
        {
          "output_type": "execute_result",
          "data": {
            "text/plain": [
              "0.000"
            ]
          },
          "metadata": {},
          "execution_count": 15
        }
      ]
    },
    {
      "cell_type": "code",
      "source": [
        "f_X(0) * f_Y(0), f_XY(0,0) #독립이 아니다/"
      ],
      "metadata": {
        "colab": {
          "base_uri": "https://localhost:8080/"
        },
        "id": "ecWGlwD0iKPh",
        "outputId": "afe9357e-8447-45c7-c8a9-c29471e1a73a"
      },
      "execution_count": 16,
      "outputs": [
        {
          "output_type": "execute_result",
          "data": {
            "text/plain": [
              "(0.111, 0.333)"
            ]
          },
          "metadata": {},
          "execution_count": 16
        }
      ]
    },
    {
      "cell_type": "markdown",
      "source": [
        "---"
      ],
      "metadata": {
        "id": "ZJ7kkYv8iT7p"
      }
    },
    {
      "cell_type": "markdown",
      "source": [
        "### 합의 분포\n",
        "\n",
        "**특징**\n",
        "\n",
        "- 합의 분포의 이산형 확률함수, 연속형 확률밀도함수를 직접 유도하는 것은 어렵다\n",
        "\n",
        "- 따라서 합의 분포의 기대값과 분산에 대해 파악하기\n",
        "\n",
        "<br>\n",
        "\n",
        "**필요성**\n",
        "\n",
        "- 표본 평균에 대한 이해도를 높이기 위한 사전 준비를 하는 차원에서 합의 분포에 대한 파악이 필요\n",
        "\n",
        "- 그 후, n으로 나눈 표본평균에 대해서 쉽게 이해 가능\n",
        "\n",
        "<br>\n",
        "\n",
        "**기대값**\n",
        "\n",
        "- 확률변수가 서로 독립이 아니어도 성립\n",
        "\n",
        "E(X1+X2+X3+...+Xn) = E(X1)+E(X2)+E(X3) +..+E(Xn)\n",
        "\n",
        "**분산**\n",
        "\n",
        "- 확률변수가 서로 독립일 경우에 성립\n",
        "\n",
        "V(X1+X2+X3+...+Xn) = V(X1)+V(X2)+V(X3) +...+V(Xn)\n",
        "\n",
        "\n",
        "<br>\n",
        "\n",
        "### 합의 분포를 따르는 실제 확률 분포의 형태\n",
        "\n",
        "- 정규분포의 합의 분포-> 정규분포\n",
        "\n",
        "- 푸아송 분포의 합의 분포-> 푸아송 분포\n",
        "\n",
        "- 베르누이 분포의 합의 분포 -> 이항분포"
      ],
      "metadata": {
        "id": "rejwufgJiUeA"
      }
    },
    {
      "cell_type": "code",
      "source": [
        "## 정규분포의 합의 분포\n",
        "\n",
        "#서로 독립인 확률변수 X,Y는 각각 X~N(1,2) 와 Y~N(2,3)로 정의되었을 때\n",
        "\n",
        "#E(X+Y) = E(X) +E(Y) =3\n",
        "#V(X+Y) = V(X)+V(Y) =5\n",
        "\n",
        "rv1 = stats.norm(1, np.sqrt(2))\n",
        "rv2 = stats.norm(2, np.sqrt(3))\n",
        "\n",
        "sample_size = int(1e6)\n",
        "X_sample = rv1.rvs(sample_size)\n",
        "Y_sample = rv2.rvs(sample_size)\n",
        "\n",
        "sum_sample = X_sample + Y_sample\n",
        "\n",
        "np.mean(sum_sample), np.var(sum_sample)\n"
      ],
      "metadata": {
        "colab": {
          "base_uri": "https://localhost:8080/"
        },
        "id": "LBZKwET9iPkE",
        "outputId": "e6d84fe7-df68-4e1a-f213-e3e68ab610c2"
      },
      "execution_count": 18,
      "outputs": [
        {
          "output_type": "execute_result",
          "data": {
            "text/plain": [
              "(3.003, 4.996)"
            ]
          },
          "metadata": {},
          "execution_count": 18
        }
      ]
    },
    {
      "cell_type": "code",
      "source": [
        "#푸아송 분포의 합의 분포\n",
        "#서로 독립인 확률변수 X~Poi(3) 과 Y~Poi(4)로 정의\n",
        "\n",
        "##E(X+Y) =E(X) +E(Y) = 3+4=7\n",
        "##V(X+Y) =V(X)+ V(Y) = 3+4=7\n",
        "\n",
        "rv1 = stats.norm(1, np.sqrt(3))\n",
        "rv2 = stats.norm(2, np.sqrt(4))\n",
        "\n",
        "sample_size = int(1e6)\n",
        "X_sample = rv1.rvs(sample_size)\n",
        "Y_sample = rv2.rvs(sample_size)\n",
        "sum_sample = X_sample + Y_sample\n",
        "\n",
        "np.mean(sum_sample), np.var(sum_sample)"
      ],
      "metadata": {
        "colab": {
          "base_uri": "https://localhost:8080/"
        },
        "id": "XnmRhz4-kY13",
        "outputId": "feeea380-b4ff-4276-c475-09d69f106d1b"
      },
      "execution_count": 19,
      "outputs": [
        {
          "output_type": "execute_result",
          "data": {
            "text/plain": [
              "(3.000, 6.986)"
            ]
          },
          "metadata": {},
          "execution_count": 19
        }
      ]
    },
    {
      "cell_type": "code",
      "source": [
        "#베르누이\n",
        "\n",
        "p =0.3\n",
        "rv = stats.bernoulli(p)\n",
        "\n",
        "sample_size = int(1e6)\n",
        "Xs_sample = rv1.rvs(10, sample_size)\n",
        "sum_sample = np.sum(Xs_sample, axis=0)\n",
        "\n",
        "\n",
        "np.mean(sum_sample), np.var(sum_sample)"
      ],
      "metadata": {
        "colab": {
          "base_uri": "https://localhost:8080/"
        },
        "id": "b3xuId6zp6HC",
        "outputId": "a96659fd-d51c-4d1a-86db-a086a5370fc1"
      },
      "execution_count": 21,
      "outputs": [
        {
          "output_type": "execute_result",
          "data": {
            "text/plain": [
              "(12.797, 0.000)"
            ]
          },
          "metadata": {},
          "execution_count": 21
        }
      ]
    },
    {
      "cell_type": "code",
      "source": [
        ""
      ],
      "metadata": {
        "id": "B4joaMncqOnc"
      },
      "execution_count": null,
      "outputs": []
    }
  ]
}