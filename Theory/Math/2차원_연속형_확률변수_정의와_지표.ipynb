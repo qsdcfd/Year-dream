{
  "nbformat": 4,
  "nbformat_minor": 0,
  "metadata": {
    "colab": {
      "name": "2차원 연속형 확률변수 정의와 지표",
      "provenance": [],
      "authorship_tag": "ABX9TyNWYDRqQKndVyTYqPFE9Efu"
    },
    "kernelspec": {
      "name": "python3",
      "display_name": "Python 3"
    },
    "language_info": {
      "name": "python"
    }
  },
  "cells": [
    {
      "cell_type": "markdown",
      "source": [
        "### 2차원 연속형 확률변수 정의\n",
        "\n",
        "- 결합확률밀도함수\n",
        "\n",
        "   - 2차원 연속형 확률변수(X,Y)는 확률변수가 취할 수 있는 값의 조합\n",
        "\n",
        "   - {(x,y)|a<=x<=b; c<=y<=d}\n",
        "\n",
        "   - 정의역으로하는 결합확률밀도함수(f(x,y))에 의해 정의\n",
        "\n",
        "\n",
        "- 2차원 연속형 확률변수의 확률 정의\n",
        "\n",
        "   - x0<=X<=x1 및 y0<=Y<=y1를 만족하는 범위의 확률값\n",
        "\n",
        "<br>\n",
        "\n",
        "### 주변밀도함수\n",
        "\n",
        "- 이미 X,Y로 정의된 결합확률밀도함수로부터 각 확률변수만의 특징 파악을 하고 싶을 때 활용\n",
        "\n",
        "- Python 구현 시 2변수 함수 중 1변수만 적분하는 함수는 구현되지 않았기에 functools의 partial함수를 통해서 인수의 일부를 고정하여 새로운 함수 만들기\n",
        "\n",
        "- partial(fxy,x)정의하면 x고정되고 인수가 y만으로된 함수 반환\n",
        "\n",
        "<br>\n",
        "\n",
        "###  2차원 연속형 확률변수의 지표\n",
        "\n",
        "- 기대값\n",
        "\n",
        "- 분산\n",
        "\n",
        "- 공분산"
      ],
      "metadata": {
        "id": "mG4BvKt0s-1C"
      }
    },
    {
      "cell_type": "code",
      "execution_count": 1,
      "metadata": {
        "id": "mM8SpKais6BX"
      },
      "outputs": [],
      "source": [
        "#2차원 연속형 확률변수 정의\n",
        "\n",
        "#f(x,y) = 4y(x-y) (0<=y<=1 및 0<=x-y<=1)\n",
        "#f(x,y) = 0 (otherwise)\n",
        "\n",
        "x_range = [0,2]\n",
        "y_range = [0,1]"
      ]
    },
    {
      "cell_type": "code",
      "source": [
        "def f_xy(x,y):\n",
        "    if 0<=y<=1 and 0<=x-y<=1:\n",
        "        return 4*y*(x-y)\n",
        "    else:\n",
        "        return 0"
      ],
      "metadata": {
        "id": "le6Rv1FFuTGB"
      },
      "execution_count": 2,
      "outputs": []
    },
    {
      "cell_type": "code",
      "source": [
        "XY = [x_range, y_range, f_xy]"
      ],
      "metadata": {
        "id": "qbe5v34-ufAh"
      },
      "execution_count": 3,
      "outputs": []
    },
    {
      "cell_type": "code",
      "source": [
        "#시각화\n",
        "import numpy as np\n",
        "import pandas as pd\n",
        "import matplotlib.pyplot as plt\n",
        "import seaborn as sns\n",
        "\n",
        "xs = np.linspace(x_range[0], x_range[1], 200)\n",
        "ys = np.linspace(y_range[0],y_range[1], 200)\n",
        "pd = np.array([[f_xy(x,y) for y in ys] for x in xs])\n",
        "\n",
        "fig = plt.figure(figsize=(10,8))\n",
        "ax = fig.add_subplot(111)\n",
        "\n",
        "c = ax.pcolor(pd)\n",
        "ax.set_xticks(np.linspace(0,200,3), minor =False)\n",
        "ax.set_yticks(np.linspace(0,200,3), minor=False)\n",
        "ax.set_xticklabels(np.linspace(0,2,3))\n",
        "ax.set_yticklabels(np.linspace(0,1,3))\n",
        "ax.invert_yaxis()\n",
        "ax.xaxis.tick_top()\n",
        "fig.colorbar(c, ax=ax)\n",
        "plt.show()"
      ],
      "metadata": {
        "colab": {
          "base_uri": "https://localhost:8080/",
          "height": 489
        },
        "id": "sGr8PTUAug86",
        "outputId": "0deac09f-6cc7-4c2c-c27a-2eb362680ffc"
      },
      "execution_count": 4,
      "outputs": [
        {
          "output_type": "display_data",
          "data": {
            "text/plain": [
              "<Figure size 720x576 with 2 Axes>"
            ],
            "image/png": "[encoded data removed]"
          },
          "metadata": {
            "needs_background": "light"
          }
        }
      ]
    },
    {
      "cell_type": "code",
      "source": [
        "#첫번째 인수는 피적분함수, 두 번째 인수는 x의 적분구간과 y의 적분구간\n",
        "integrate.nquad(f_xy,\n",
        "                [[-np.inf, np.inf],\n",
        "                 [-np.inf, np.inf]])[0]\n",
        "#1.000"
      ],
      "metadata": {
        "id": "l4XlCGcvuisb"
      },
      "execution_count": null,
      "outputs": []
    },
    {
      "cell_type": "code",
      "source": [
        "#partial(fxy,x)를 활용하여 integrate.quad적분\n",
        "\n",
        "from functools import partial\n",
        " \n",
        "def f_X(x):\n",
        "    return integrate.quad(partial(f_xy,x), -np.inf,np.inf)[0]\n",
        "def f_Y(y):\n",
        "    return integrate.quad(partial(f_xy, y=y), -np.inf, np.inf)[0]"
      ],
      "metadata": {
        "id": "sZcEmdi1v9_q"
      },
      "execution_count": null,
      "outputs": []
    },
    {
      "cell_type": "code",
      "source": [
        "X = [x_range, f_X]\n",
        "Y = [y_range, f_Y]"
      ],
      "metadata": {
        "id": "kDRva3Mcww2M"
      },
      "execution_count": null,
      "outputs": []
    },
    {
      "cell_type": "code",
      "source": [
        "#주변밀도함수 시각화\n",
        "\n",
        "xs = np.linspace(*x_range, 100)\n",
        "ys = np.linspace(*y_range, 100)\n",
        "\n",
        "fig = plt.figure(figsize=(12,4))\n",
        "ax1 = fig.add_subplot(121)\n",
        "ax2 = fig.add_subplot(122)\n",
        "ax1.plot(xs, [f_X(x) for x in xs], color='gray')\n",
        "ax2.plot(ys, [f_Y(y) for y in ys], color='gray')\n",
        "ax1.set_title('X_marginal density function')\n",
        "ax2.set_title('Y_marginal density function')\n",
        "\n",
        "plt.show()"
      ],
      "metadata": {
        "id": "BN9xdfz7w292"
      },
      "execution_count": null,
      "outputs": []
    },
    {
      "cell_type": "code",
      "source": [
        "#확률변수 X의 기대값\n",
        "\n",
        "def integrand(x,y):\n",
        "    return x*f_xy(x,y)\n",
        "\n",
        "integrate.nquad(integrand,\n",
        "                [[-np.inf,np.inf],\n",
        "                 [-np.inf,np.inf]])[0]"
      ],
      "metadata": {
        "id": "yqtK1TUZw3Dk"
      },
      "execution_count": null,
      "outputs": []
    },
    {
      "cell_type": "code",
      "source": [
        "#확률변수g(X,Y)기대값 계산함수 정의\n",
        "def E(XY,g):\n",
        "    x_range, y_range, f_xy =XY\n",
        "    def integrand(x,y):\n",
        "        return x*f_xy(x,y)\n",
        "\n",
        "    return integrate.nquad(integrand,\n",
        "                [[-np.inf,np.inf],\n",
        "                 [-np.inf,np.inf]])[0]"
      ],
      "metadata": {
        "id": "BHwe9QkTx2qI"
      },
      "execution_count": null,
      "outputs": []
    },
    {
      "cell_type": "code",
      "source": [
        "mean_X = E(XY, lambda x, y:x)\n",
        "mean_X      "
      ],
      "metadata": {
        "id": "CAt2KKqQyIU5"
      },
      "execution_count": null,
      "outputs": []
    },
    {
      "cell_type": "code",
      "source": [
        "mean_Y = E(XY, lambda x,y :y)\n",
        "mean_Y"
      ],
      "metadata": {
        "id": "Z_tWP6obyIWr"
      },
      "execution_count": null,
      "outputs": []
    },
    {
      "cell_type": "code",
      "source": [
        "#확률변수 2X+3Y의 기대값\n",
        "\n",
        "#E(2X+3Y) = 2E(X)+3E(Y)\n",
        "\n",
        "a,b =2,3\n",
        "E(XY, lambda x, y: a*x + b*y)\n"
      ],
      "metadata": {
        "id": "Z9N8b4zryIYw"
      },
      "execution_count": null,
      "outputs": []
    },
    {
      "cell_type": "code",
      "source": [
        "a * mean_X + b*mean_Y"
      ],
      "metadata": {
        "id": "ZYYfEfFByh67"
      },
      "execution_count": null,
      "outputs": []
    },
    {
      "cell_type": "code",
      "source": [
        "def integrand(x,y):\n",
        "    return (x-mean_X) *2 * f_xy(x,y)\n",
        "\n",
        "integrate.nquad(integrand,\n",
        "                [[-np.inf,np.inf],\n",
        "                 [-np.inf,np.inf]])[0]"
      ],
      "metadata": {
        "id": "bjKSmhfiypNH"
      },
      "execution_count": null,
      "outputs": []
    },
    {
      "cell_type": "code",
      "source": [
        "#g(X,Y)의 분산구현\n",
        "\n",
        "def V(XY,g):\n",
        "    x_range, y_range, f_xy =XY\n",
        "    mean = E(XY,g)\n",
        "    def integrand(x,y):\n",
        "        return (g(x,y) -mean)**2 * f_xy(x,y)\n",
        "    return integrate.nquad(integrand,\n",
        "                           [[-np.inf, np.inf],\n",
        "                            [-np.inf, np.inf]])[0]"
      ],
      "metadata": {
        "id": "XAmsG67CypOF"
      },
      "execution_count": null,
      "outputs": []
    },
    {
      "cell_type": "code",
      "source": [
        "var_X = V(XY, lambda x, y:x)\n",
        "var_X   "
      ],
      "metadata": {
        "id": "ayrEHeZoypRL"
      },
      "execution_count": null,
      "outputs": []
    },
    {
      "cell_type": "code",
      "source": [
        "var_Y = V(XY, lambda x, y:y)\n",
        "var_Y"
      ],
      "metadata": {
        "id": "L7_k81SLypTi"
      },
      "execution_count": null,
      "outputs": []
    },
    {
      "cell_type": "code",
      "source": [
        "#확률변수 X,Y의 상관관계를 알 수 있는 공분산 정의\n",
        "\n",
        "def Cov(XY):\n",
        "    x_range, y_range, f_xy =XY\n",
        "    mean_X = E(XY, lambda x, y:x)\n",
        "    mean_Y = E(XY, lambda x, y:y)\n",
        "    def integrand(x,y):\n",
        "        return (x-mean_X) * (y-mean_Y) * f_xy(x,y)\n",
        "    return integrate.nquad(integrand,\n",
        "                           [[-np.inf, np.inf],\n",
        "                            [-np.inf,np.inf]])[0]"
      ],
      "metadata": {
        "id": "HMtC8fH4ypVn"
      },
      "execution_count": null,
      "outputs": []
    },
    {
      "cell_type": "code",
      "source": [
        "cov_xy = Cov(XY)\n",
        "cov_xy"
      ],
      "metadata": {
        "id": "aWbrcVNLypaD"
      },
      "execution_count": null,
      "outputs": []
    },
    {
      "cell_type": "code",
      "source": [
        "V(XY, lambda x,y : a*x + b*y)"
      ],
      "metadata": {
        "id": "4wFKMtASypeu"
      },
      "execution_count": null,
      "outputs": []
    },
    {
      "cell_type": "code",
      "source": [
        "#V(2X+3Y) = 4V(X) + 9V(Y) + 12Cov(X,y)\n",
        "\n",
        "a**2 * Var_X + b**2 + Var_Y + 2*a*b + cov_xy"
      ],
      "metadata": {
        "id": "xKSI7ybuyphV"
      },
      "execution_count": null,
      "outputs": []
    },
    {
      "cell_type": "code",
      "source": [
        "#상관계수 계산\n",
        "cov_xy / np.sqrt(var_X * var_Y)"
      ],
      "metadata": {
        "id": "mUzP1pUh0evt"
      },
      "execution_count": null,
      "outputs": []
    },
    {
      "cell_type": "code",
      "source": [
        ""
      ],
      "metadata": {
        "id": "3K7BjQcn0eyC"
      },
      "execution_count": null,
      "outputs": []
    },
    {
      "cell_type": "code",
      "source": [
        ""
      ],
      "metadata": {
        "id": "cdiawsMo0e0G"
      },
      "execution_count": null,
      "outputs": []
    }
  ]
}