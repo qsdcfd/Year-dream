{
  "nbformat": 4,
  "nbformat_minor": 0,
  "metadata": {
    "colab": {
      "name": "프로그래머스 k 번째 수",
      "provenance": [],
      "authorship_tag": "ABX9TyNHts7OR9w5BG1BfMGksdLM"
    },
    "kernelspec": {
      "name": "python3",
      "display_name": "Python 3"
    },
    "language_info": {
      "name": "python"
    }
  },
  "cells": [
    {
      "cell_type": "code",
      "execution_count": 26,
      "metadata": {
        "id": "WqiNXQTBQGRS"
      },
      "outputs": [],
      "source": [
        "def solution(array, commands):\n",
        "    answer = []\n",
        "    for command in commands: #일단 commands에서 i,j,k뽑아내기\n",
        "        new_array = array[command[0]-1:command[1]] # i and j\n",
        "        new_array.sort() #뽑은 후 정렬\n",
        "        answer.append(new_array[command[2]-1]) # k번째 뽑을 값\n",
        "    return answer"
      ]
    },
    {
      "cell_type": "code",
      "source": [
        "#리스트 컴프리헨션\n",
        "\n",
        "\"\"\"\n",
        "i, j,k = map(int,input().split())\n",
        "array = list(map(int,input().split()))\n",
        "\n",
        "result = []\n",
        "for m in array[i-1:j]:\n",
        "    result.append(m)\n",
        "    result.sort()\n",
        "print(result[k-1])\n",
        "\n",
        "\"\"\"\n",
        "\n",
        "def solution(array, commands):\n",
        "    return [sorted(array[i-1:j])[k-1] for i, j, k in commands] # commands에서 순서대로 I,J,K순으로 뽑기\n",
        "    #그리고 i,j범위에서 array를 뽑은 후에 정렬하기\n",
        "    # 정렬한 후에 K-1번째 숫자 뽑아서 return\n",
        "    "
      ],
      "metadata": {
        "id": "92wyE717QH8R"
      },
      "execution_count": 28,
      "outputs": []
    },
    {
      "cell_type": "code",
      "source": [
        ""
      ],
      "metadata": {
        "id": "bKrExe2MSYtx"
      },
      "execution_count": null,
      "outputs": []
    }
  ]
}