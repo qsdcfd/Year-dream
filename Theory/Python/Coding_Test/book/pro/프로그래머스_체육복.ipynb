{
  "nbformat": 4,
  "nbformat_minor": 0,
  "metadata": {
    "colab": {
      "name": "프로그래머스_체육복",
      "provenance": [],
      "authorship_tag": "ABX9TyNWt2trqRU37IAyrdpqQmmq"
    },
    "kernelspec": {
      "name": "python3",
      "display_name": "Python 3"
    },
    "language_info": {
      "name": "python"
    }
  },
  "cells": [
    {
      "cell_type": "code",
      "execution_count": null,
      "metadata": {
        "id": "YPoPhKXJD-v-"
      },
      "outputs": [],
      "source": [
        "def solution(n, lost, reserve):\n",
        "    \n",
        "    reserve1 = list(set(reserve) - set(lost))\n",
        "    lost1 = list(set(lost) - set(reserve))\n",
        "    \n",
        "    max_result = n -len(lost1)#총 수 - 못 받은인원\n",
        "    \n",
        "    for i in reserve1: \n",
        "        if i-1 in lost1: #빌린 상태\n",
        "            lost1.remove(i-1)\n",
        "            max_result +=1\n",
        "            \n",
        "        elif i+1 in lost1:\n",
        "            lost1.remove(i+1)\n",
        "            max_result += 1\n",
        "            \n",
        "    return max_result"
      ]
    }
  ]
}