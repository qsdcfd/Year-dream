{
  "nbformat": 4,
  "nbformat_minor": 0,
  "metadata": {
    "colab": {
      "name": "미로 탈출",
      "provenance": [],
      "authorship_tag": "ABX9TyOb9hKOjY9mVjJ95z18RC3C"
    },
    "kernelspec": {
      "name": "python3",
      "display_name": "Python 3"
    },
    "language_info": {
      "name": "python"
    }
  },
  "cells": [
    {
      "cell_type": "markdown",
      "source": [
        "**문제 해석**\n",
        "\n",
        "- 1이 연결된 길을 찾기\n",
        "\n",
        "   - 괴물을 피하기\n",
        "\n",
        "- 최단 거리를 구하기 위해서 현재 위치에서 근접한 1의 위치 찾기\n",
        "\n",
        "- 핵심: **근접한 1의 위치를 찾고 최단거리 계산**\n",
        "\n",
        "- 방법\n",
        "\n",
        "   - 1을 만나게 되면\n",
        "\n",
        "   - 이전 노드이 정보를 더해주는 방식\n",
        "\n",
        "   - (1,1) 좌표에서 특정 노드까지의 최단 거리 모두 저장\n",
        "\n",
        "   - (N,M)에 자장되어있는 정보 출력"
      ],
      "metadata": {
        "id": "IBCPSMn_L59w"
      }
    },
    {
      "cell_type": "code",
      "execution_count": null,
      "metadata": {
        "id": "YTdvsm6rJXzp"
      },
      "outputs": [],
      "source": [
        "from collections import deque\n",
        "\n",
        "def sol(graph):\n",
        "    queue = deque([(0,0,0)])\n",
        "    n = len(graph)\n",
        "    m = len(graph[0])\n",
        "\n",
        "    while queue:\n",
        "        x,y,v = queue.popleft()\n",
        "        if x>=n or y>=m or x<0 or y<0:\n",
        "            continue\n",
        "        if graph[x][y] ==1:\n",
        "            graph[x][y] += v\n",
        "            queue.append((x+1, y, graph[x][y]))\n",
        "            queue.append((x, y+1, graph[x][y]))\n",
        "            queue.append((x-1, y, graph[x][y]))\n",
        "            queue.append((x, y-1, graph[x][y]))\n",
        "\n",
        "    return graph[n-1][m-1]"
      ]
    }
  ]
}