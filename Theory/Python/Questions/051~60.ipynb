{
  "nbformat": 4,
  "nbformat_minor": 0,
  "metadata": {
    "colab": {
      "name": "051~60",
      "provenance": [],
      "authorship_tag": "ABX9TyODTwusWgC2gIhy/XlqS2Nq"
    },
    "kernelspec": {
      "name": "python3",
      "display_name": "Python 3"
    },
    "language_info": {
      "name": "python"
    }
  },
  "cells": [
    {
      "cell_type": "code",
      "execution_count": 2,
      "metadata": {
        "colab": {
          "base_uri": "https://localhost:8080/"
        },
        "id": "wHOgKV8MNO44",
        "outputId": "1fb9a630-9c6b-4686-db05-36bdbd4218b3"
      },
      "outputs": [
        {
          "output_type": "execute_result",
          "data": {
            "text/plain": [
              "{'닥터 스트레인지', '럭키', '스플릿'}"
            ]
          },
          "metadata": {},
          "execution_count": 2
        }
      ],
      "source": [
        "#051 리스트 생성\n",
        "#영화 제목을 movie_rank이름의 리스트에 저장\n",
        "\n",
        "movie_rank = {'닥터 스트레인지', '스플릿', '럭키'}\n",
        "movie_rank"
      ]
    },
    {
      "cell_type": "code",
      "source": [
        "#052리스트에 배트맨 추가\n",
        "movie_rank = [\"닥터 스트레인지\", \"스플릿\", \"럭키\"]\n",
        "movie_rank.append(\"배트맨\")\n",
        "print(movie_rank)"
      ],
      "metadata": {
        "colab": {
          "base_uri": "https://localhost:8080/"
        },
        "id": "73jgioncWk_i",
        "outputId": "4abd7f5e-3598-46c8-8f74-4fbcda3d976e"
      },
      "execution_count": 6,
      "outputs": [
        {
          "output_type": "stream",
          "name": "stdout",
          "text": [
            "['닥터 스트레인지', '스플릿', '럭키', '배트맨']\n"
          ]
        }
      ]
    },
    {
      "cell_type": "code",
      "source": [
        "#053 movie_rank리스트에 슈퍼맨을 닥터스트레인지와 스플릿 사이에 넣어라\n",
        "\n",
        "movie_rank = ['닥터 스트레인지', '스플릿', '럭키', '배트맨']\n",
        "movie_rank.insert(1,\"슈퍼맨\")\n",
        "print(movie_rank)"
      ],
      "metadata": {
        "colab": {
          "base_uri": "https://localhost:8080/"
        },
        "id": "j7wFbJcbWur-",
        "outputId": "3b53a699-40e8-40bb-e7ef-3403fedb6585"
      },
      "execution_count": 7,
      "outputs": [
        {
          "output_type": "stream",
          "name": "stdout",
          "text": [
            "['닥터 스트레인지', '슈퍼맨', '스플릿', '럭키', '배트맨']\n"
          ]
        }
      ]
    },
    {
      "cell_type": "code",
      "source": [
        "#054: movie_rank리스트에서 럭키를 삭제해라\n",
        "\n",
        "movie_rank = ['닥터 스트레인지', '슈퍼맨', '스플릿', '럭키', '배트맨']\n",
        "movie_rank.remove(\"럭키\")\n",
        "print(movie_rank)"
      ],
      "metadata": {
        "colab": {
          "base_uri": "https://localhost:8080/"
        },
        "id": "Bfq3ZGLKXj1M",
        "outputId": "d9101215-89d6-48dc-f2b3-1e91fce5b6f5"
      },
      "execution_count": 8,
      "outputs": [
        {
          "output_type": "stream",
          "name": "stdout",
          "text": [
            "['닥터 스트레인지', '슈퍼맨', '스플릿', '배트맨']\n"
          ]
        }
      ]
    },
    {
      "cell_type": "code",
      "source": [
        "#055:movie_rank리스트에서 스플릿과 배트맨을 삭제해라\n",
        "\n",
        "movie_rank = ['닥터 스트레인지', '슈퍼맨', '스플릿', '배트맨']\n",
        "movie_rank.remove(\"스플릿\")\n",
        "movie_rank.remove(\"배트맨\")\n",
        "print(movie_rank)"
      ],
      "metadata": {
        "colab": {
          "base_uri": "https://localhost:8080/"
        },
        "id": "vhn4JvZ0X9R1",
        "outputId": "75b55b58-987c-4dbb-8dc0-77c12297844a"
      },
      "execution_count": 10,
      "outputs": [
        {
          "output_type": "stream",
          "name": "stdout",
          "text": [
            "['닥터 스트레인지', '슈퍼맨']\n"
          ]
        }
      ]
    },
    {
      "cell_type": "code",
      "source": [
        "#056: lang1과 lang2리스트가 있을 경우 이 두 개를 합하는 langs리스트 만들기\n",
        "lang1 = [\"C\", \"C++\", \"JAVA\"]\n",
        "lang2 = [\"Python\", \"Go\", \"C#\"]\n",
        "langs = lang1 + lang2\n",
        "\n",
        "print(langs)"
      ],
      "metadata": {
        "colab": {
          "base_uri": "https://localhost:8080/"
        },
        "id": "Fk7p6qKlYQwp",
        "outputId": "c5df5263-0862-4bb2-969e-b6d09fe035ad"
      },
      "execution_count": 11,
      "outputs": [
        {
          "output_type": "stream",
          "name": "stdout",
          "text": [
            "['C', 'C++', 'JAVA', 'Python', 'Go', 'C#']\n"
          ]
        }
      ]
    },
    {
      "cell_type": "code",
      "source": [
        "#057: 리스트에서 최솟값 최댓값 구하기\n",
        "nums = [1, 2, 3, 4, 5, 6, 7]\n",
        "\n",
        "\n",
        "\n",
        "print(\"최댓값:\", max(nums), \"최솟값:\",min(nums))"
      ],
      "metadata": {
        "colab": {
          "base_uri": "https://localhost:8080/"
        },
        "id": "bBLwC-I-Y0hE",
        "outputId": "cbc6a38e-8c26-41f1-c49c-6dba2c655075"
      },
      "execution_count": 14,
      "outputs": [
        {
          "output_type": "stream",
          "name": "stdout",
          "text": [
            "최댓값: 7 최솟값: 1\n"
          ]
        }
      ]
    },
    {
      "cell_type": "code",
      "source": [
        "#058:리스트의 합을 출력하라\n",
        "\n",
        "nums = [1, 2, 3, 4, 5]\n",
        "print(\"합:\", sum(nums))"
      ],
      "metadata": {
        "colab": {
          "base_uri": "https://localhost:8080/"
        },
        "id": "k6VuW9GrY-5Z",
        "outputId": "7472a34f-1aa6-4dfc-cecc-e014b41bf431"
      },
      "execution_count": 15,
      "outputs": [
        {
          "output_type": "stream",
          "name": "stdout",
          "text": [
            "합: 15\n"
          ]
        }
      ]
    },
    {
      "cell_type": "code",
      "source": [
        "cook = [\"피자\", \"김밥\", \"만두\", \"양념치킨\", \"족발\", \"피자\", \"김치만두\", \"쫄면\", \"소시지\", \"라면\", \"팥빙수\", \"김치전\"]\n",
        "print(\"데이터 개수:\", len(cook))"
      ],
      "metadata": {
        "colab": {
          "base_uri": "https://localhost:8080/"
        },
        "id": "qiuEaNhiZVBT",
        "outputId": "5d19f75b-e2fa-4650-c303-5a43d195bd38"
      },
      "execution_count": 19,
      "outputs": [
        {
          "output_type": "stream",
          "name": "stdout",
          "text": [
            "데이터 개수: 12\n"
          ]
        }
      ]
    },
    {
      "cell_type": "code",
      "source": [
        "\n",
        "nums = [1, 2, 3, 4, 5]\n",
        "\n",
        "avgerage = sum(nums) / len(nums)\n",
        "\n",
        "print(avgerage)"
      ],
      "metadata": {
        "colab": {
          "base_uri": "https://localhost:8080/"
        },
        "id": "N_Xd46JRZaQ3",
        "outputId": "33df1b4b-e993-44ee-81ca-4b07e5e7d691"
      },
      "execution_count": 21,
      "outputs": [
        {
          "output_type": "stream",
          "name": "stdout",
          "text": [
            "3.0\n"
          ]
        }
      ]
    },
    {
      "cell_type": "code",
      "source": [
        ""
      ],
      "metadata": {
        "id": "pRA3WQX2Zq-D"
      },
      "execution_count": null,
      "outputs": []
    }
  ]
}