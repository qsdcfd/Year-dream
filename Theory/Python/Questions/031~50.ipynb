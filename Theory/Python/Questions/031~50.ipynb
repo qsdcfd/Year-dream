{
  "nbformat": 4,
  "nbformat_minor": 0,
  "metadata": {
    "colab": {
      "name": "031~50의 사본",
      "provenance": [],
      "authorship_tag": "ABX9TyOCIneozleij7MSu/+F8mJb"
    },
    "kernelspec": {
      "name": "python3",
      "display_name": "Python 3"
    },
    "language_info": {
      "name": "python"
    }
  },
  "cells": [
    {
      "cell_type": "code",
      "execution_count": null,
      "metadata": {
        "colab": {
          "base_uri": "https://localhost:8080/"
        },
        "id": "2RCTcEptMU3L",
        "outputId": "8dc003b9-7983-455f-e9ad-7b11bcfa5297"
      },
      "outputs": [
        {
          "output_type": "stream",
          "name": "stdout",
          "text": [
            "34\n"
          ]
        }
      ],
      "source": [
        "#031:문자열 합치기\n",
        "\n",
        "a = \"3\"\n",
        "b = \"4\"\n",
        "print(a + b)#34"
      ]
    },
    {
      "cell_type": "code",
      "source": [
        "#032: 문자열 곱하기\n",
        "\n",
        "print(\"Hi\" * 3) #HiHiHi \n"
      ],
      "metadata": {
        "colab": {
          "base_uri": "https://localhost:8080/"
        },
        "id": "Bn05kBFpN7qu",
        "outputId": "36af4a94-442e-4538-fbd4-658a87f5024b"
      },
      "execution_count": null,
      "outputs": [
        {
          "output_type": "stream",
          "name": "stdout",
          "text": [
            "HiHiHi\n"
          ]
        }
      ]
    },
    {
      "cell_type": "code",
      "source": [
        "#033: 문자열 곱하기\n",
        "#화면에 '-' 80개 출력\n",
        "\n",
        "print(\"-\" * 80)"
      ],
      "metadata": {
        "colab": {
          "base_uri": "https://localhost:8080/"
        },
        "id": "lix0Z0GuOHr_",
        "outputId": "180bd5a7-17a7-4de0-f1ca-b9952c652afd"
      },
      "execution_count": null,
      "outputs": [
        {
          "output_type": "stream",
          "name": "stdout",
          "text": [
            "--------------------------------------------------------------------------------\n"
          ]
        }
      ]
    },
    {
      "cell_type": "code",
      "source": [
        "#034: 문자열 곱하기\n",
        "#python java python java python java python java 결과 나오게하기\n",
        "t1 = \"python\"\n",
        "t2 = \"java\"\n",
        "t3 = t1 + ' ' + t2 + ' '\n",
        "print(t3 *4)"
      ],
      "metadata": {
        "colab": {
          "base_uri": "https://localhost:8080/"
        },
        "id": "e5hXxaHKOSIn",
        "outputId": "7e667337-f171-41df-a3ac-533dba9d5715"
      },
      "execution_count": null,
      "outputs": [
        {
          "output_type": "stream",
          "name": "stdout",
          "text": [
            "python java python java python java python java \n"
          ]
        }
      ]
    },
    {
      "cell_type": "code",
      "source": [
        "#035: 문자열 출력\n",
        "#문자열과 정수가 바인딩 되었을 때 %formatting사용하여 출력\n",
        "\n",
        "name1 =\"김민수\"\n",
        "age1 = 10\n",
        "name2 = \"이철희\"\n",
        "age2 = 13\n",
        "\n",
        "print(\"이름: %s 나이: %d\" % (name1, age1))\n",
        "print(\"이름: %s 나이: %d\" % (name2, age2))"
      ],
      "metadata": {
        "colab": {
          "base_uri": "https://localhost:8080/"
        },
        "id": "sYVlkhLKOa9W",
        "outputId": "a9634257-4734-41ac-f040-6da906359fa1"
      },
      "execution_count": null,
      "outputs": [
        {
          "output_type": "stream",
          "name": "stdout",
          "text": [
            "이름: 김민수 나이: 10\n",
            "이름: 이철희 나이: 13\n"
          ]
        }
      ]
    },
    {
      "cell_type": "code",
      "source": [
        "#036 문자열 출력\n",
        "#format () 메서드 이용\n",
        "name1 =\"김민수\"\n",
        "age1 = 10\n",
        "name2 = \"이철희\"\n",
        "age2 = 13\n",
        "\n",
        "print(\"이름: {} 나이: {}\".format(name1,age1))\n",
        "print(\"이름: {} 나이: {}\".format(name2,age2))"
      ],
      "metadata": {
        "colab": {
          "base_uri": "https://localhost:8080/"
        },
        "id": "xI5fp6ohPZ8U",
        "outputId": "5dfaeadd-6a94-4948-a502-a02b02d28632"
      },
      "execution_count": null,
      "outputs": [
        {
          "output_type": "stream",
          "name": "stdout",
          "text": [
            "이름: 김민수 나이: 10\n",
            "이름: 이철희 나이: 13\n"
          ]
        }
      ]
    },
    {
      "cell_type": "code",
      "source": [
        "#037 문자열출력\n",
        "#f-string\n",
        "\n",
        "name1 =\"김민수\"\n",
        "age1 = 10\n",
        "name2 = \"이철희\"\n",
        "age2 = 13\n",
        "\n",
        "print(f\"이름 : {name1} 나이: {age1}\")\n",
        "print(f\"이름 : {name2} 나이: {age2}\")"
      ],
      "metadata": {
        "colab": {
          "base_uri": "https://localhost:8080/"
        },
        "id": "qQZ7pT-5PyZw",
        "outputId": "a6cc866e-3df5-4cce-a1b6-415f59ff6bb5"
      },
      "execution_count": null,
      "outputs": [
        {
          "output_type": "stream",
          "name": "stdout",
          "text": [
            "이름 : 김민수 나이: 10\n",
            "이름 : 이철희 나이: 13\n"
          ]
        }
      ]
    },
    {
      "cell_type": "code",
      "source": [
        "#038 컴마제거하기\n",
        "#int 타입\n",
        "상장주식수 = \"5,969,782,550\"\n",
        "comma_del = 상장주식수.replace(\",\", \"\")\n",
        "figure = int(comma_del)\n",
        "print(figure, type(figure))"
      ],
      "metadata": {
        "colab": {
          "base_uri": "https://localhost:8080/"
        },
        "id": "dkH-PRvUQJwn",
        "outputId": "e53c7a1c-8cd3-49e3-ce69-6c9b46de665c"
      },
      "execution_count": null,
      "outputs": [
        {
          "output_type": "stream",
          "name": "stdout",
          "text": [
            "5969782550 <class 'int'>\n"
          ]
        }
      ]
    },
    {
      "cell_type": "code",
      "source": [
        "#039 문자열 슬라이싱\n",
        "\n",
        "분기 = \"2020/03(E) (IFRS연결)\"\n",
        "\n",
        "print(분기[:7])"
      ],
      "metadata": {
        "colab": {
          "base_uri": "https://localhost:8080/"
        },
        "id": "8mH6NFYHRjJd",
        "outputId": "fb7f40b3-1383-4a82-fdeb-4ffc56f627aa"
      },
      "execution_count": null,
      "outputs": [
        {
          "output_type": "stream",
          "name": "stdout",
          "text": [
            "2020/03\n"
          ]
        }
      ]
    },
    {
      "cell_type": "code",
      "source": [
        "#040 strip 메서드\n",
        "#문자열의 좌우 공백 시 제거\n",
        "\n",
        "data = \"   삼성전자   \"\n",
        "print(data.strip())"
      ],
      "metadata": {
        "colab": {
          "base_uri": "https://localhost:8080/"
        },
        "id": "EHMFvB5gQ4li",
        "outputId": "47f64400-c170-46f5-bc78-67fb04583db3"
      },
      "execution_count": null,
      "outputs": [
        {
          "output_type": "stream",
          "name": "stdout",
          "text": [
            "삼성전자\n"
          ]
        }
      ]
    },
    {
      "cell_type": "code",
      "source": [
        "#041 upper메서드\n",
        "#대문자로 하시오\n",
        "\n",
        "ticker = \"btc_krw\"\n",
        "print(ticker.upper())"
      ],
      "metadata": {
        "colab": {
          "base_uri": "https://localhost:8080/"
        },
        "id": "dig6CM3zS5H3",
        "outputId": "359962b7-0336-4439-9360-0b6539e6b203"
      },
      "execution_count": null,
      "outputs": [
        {
          "output_type": "stream",
          "name": "stdout",
          "text": [
            "BTC_KRW\n"
          ]
        }
      ]
    },
    {
      "cell_type": "code",
      "source": [
        "#042 lower 메서드\n",
        "#소문자로 변경\n",
        "\n",
        "tickers = \"BTC_KRW\"\n",
        "print(tickers.lower())"
      ],
      "metadata": {
        "colab": {
          "base_uri": "https://localhost:8080/"
        },
        "id": "g-KMHFwMTFWM",
        "outputId": "e77104a1-2a15-4c89-cadc-300e258a5a4e"
      },
      "execution_count": null,
      "outputs": [
        {
          "output_type": "stream",
          "name": "stdout",
          "text": [
            "btc_krw\n"
          ]
        }
      ]
    },
    {
      "cell_type": "code",
      "source": [
        "#043 capitalize 메서드\n",
        "\n",
        "hi = \"hello\"\n",
        "print(hi.capitalize())"
      ],
      "metadata": {
        "colab": {
          "base_uri": "https://localhost:8080/"
        },
        "id": "I-o1q4sYTNDN",
        "outputId": "02e1bec3-b372-49ff-c23f-6a99fb473fb6"
      },
      "execution_count": null,
      "outputs": [
        {
          "output_type": "stream",
          "name": "stdout",
          "text": [
            "Hello\n"
          ]
        }
      ]
    },
    {
      "cell_type": "code",
      "source": [
        "#044 endswith 메서드 :파일이름이 'xlsx'로 /끝나는지 확인\n",
        "file_name = \"보고서.xlsx\"\n",
        "print(file_name.endswith('xlsx'))"
      ],
      "metadata": {
        "colab": {
          "base_uri": "https://localhost:8080/"
        },
        "id": "y9hyDTS9TaLs",
        "outputId": "8cd5c778-a576-49db-b77d-0de646357f15"
      },
      "execution_count": null,
      "outputs": [
        {
          "output_type": "stream",
          "name": "stdout",
          "text": [
            "True\n"
          ]
        }
      ]
    },
    {
      "cell_type": "code",
      "source": [
        "#045 endswith 메서드: 파일이름이 'xlsx' or 'xls'로 끝나는지 확인\n",
        "file_names = \"보고서.xlsx\"\n",
        "print(file_names.endswith((\"xlsx\",\"xls\")))"
      ],
      "metadata": {
        "colab": {
          "base_uri": "https://localhost:8080/"
        },
        "id": "JSFPrVt6XT1H",
        "outputId": "9523e3e8-bb2f-4615-9a05-1e7995b5b0a4"
      },
      "execution_count": null,
      "outputs": [
        {
          "output_type": "stream",
          "name": "stdout",
          "text": [
            "True\n"
          ]
        }
      ]
    },
    {
      "cell_type": "code",
      "source": [
        "#046 startswith메서드, 2020으로 시작하는지 확인\n",
        "file_name = \"2020_보고서.xlsx\"\n",
        "print(file_name.startswith(\"2020\"))"
      ],
      "metadata": {
        "colab": {
          "base_uri": "https://localhost:8080/"
        },
        "id": "aH1OO0WEXycx",
        "outputId": "9a6cb439-032b-4223-b455-96f08cfd1d4e"
      },
      "execution_count": null,
      "outputs": [
        {
          "output_type": "stream",
          "name": "stdout",
          "text": [
            "True\n"
          ]
        }
      ]
    },
    {
      "cell_type": "code",
      "source": [
        "#047 split메서드\n",
        "a = \"hello world\"\n",
        "\n",
        "print(a.split())"
      ],
      "metadata": {
        "colab": {
          "base_uri": "https://localhost:8080/"
        },
        "id": "NP3YSKMSYFWP",
        "outputId": "19079863-9fe5-42fa-eefe-7dbcaad2f3b2"
      },
      "execution_count": null,
      "outputs": [
        {
          "output_type": "stream",
          "name": "stdout",
          "text": [
            "['hello', 'world']\n"
          ]
        }
      ]
    },
    {
      "cell_type": "code",
      "source": [
        "#048 split메서드\n",
        "# btc와 krw로 나눠보세요.\n",
        "ticker = \"btc_krw\"\n",
        "print(ticker.split('_'))"
      ],
      "metadata": {
        "colab": {
          "base_uri": "https://localhost:8080/"
        },
        "id": "EQnAPIBJYKg_",
        "outputId": "9834ef87-a125-4be8-9d98-280dc4941c46"
      },
      "execution_count": null,
      "outputs": [
        {
          "output_type": "stream",
          "name": "stdout",
          "text": [
            "['btc', 'krw']\n"
          ]
        }
      ]
    },
    {
      "cell_type": "code",
      "source": [
        "#049 split메서드\n",
        "#연도,월,일로 나누기\n",
        "data =\"2020-05-01\"\n",
        "print(data.split(\"-\"))"
      ],
      "metadata": {
        "colab": {
          "base_uri": "https://localhost:8080/"
        },
        "id": "zbHR3Ad2YZDH",
        "outputId": "a82315bc-673d-4ff3-a838-03e27e82f920"
      },
      "execution_count": null,
      "outputs": [
        {
          "output_type": "stream",
          "name": "stdout",
          "text": [
            "['2020', '05', '01']\n"
          ]
        }
      ]
    },
    {
      "cell_type": "code",
      "source": [
        "#050 rstrip메서드\n",
        "\n",
        "data = \"039490 \"\n",
        "print(data.rstrip())"
      ],
      "metadata": {
        "colab": {
          "base_uri": "https://localhost:8080/"
        },
        "id": "J5AeisVCYgo_",
        "outputId": "ed47e6f0-65a2-4a7f-86e4-e2b30bb57ed4"
      },
      "execution_count": null,
      "outputs": [
        {
          "output_type": "stream",
          "name": "stdout",
          "text": [
            "039490\n"
          ]
        }
      ]
    },
    {
      "cell_type": "code",
      "source": [
        ""
      ],
      "metadata": {
        "id": "aUgtazoLYo9Y"
      },
      "execution_count": null,
      "outputs": []
    }
  ]
}