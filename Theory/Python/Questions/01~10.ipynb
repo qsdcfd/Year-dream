{
  "nbformat": 4,
  "nbformat_minor": 0,
  "metadata": {
    "colab": {
      "name": "01~10",
      "provenance": [],
      "authorship_tag": "ABX9TyNZoqdSFNRJH5HbtMkNM67V"
    },
    "kernelspec": {
      "name": "python3",
      "display_name": "Python 3"
    },
    "language_info": {
      "name": "python"
    }
  },
  "cells": [
    {
      "cell_type": "code",
      "execution_count": 1,
      "metadata": {
        "colab": {
          "base_uri": "https://localhost:8080/"
        },
        "id": "8fwYSoBrkAob",
        "outputId": "f92323d0-864f-43bb-9aaa-fe56e8dda9d3"
      },
      "outputs": [
        {
          "output_type": "stream",
          "name": "stdout",
          "text": [
            "Hello World\n"
          ]
        }
      ],
      "source": [
        "#01:print 기초      \n",
        "#Hello World 출력\n",
        "\n",
        "print(\"Hello World\")"
      ]
    },
    {
      "cell_type": "code",
      "source": [
        "#02: print기초\n",
        "#Mary's cosmetics 출력\n",
        "\n",
        "print(\"Mary's cosmetics\")"
      ],
      "metadata": {
        "colab": {
          "base_uri": "https://localhost:8080/"
        },
        "id": "sGXKnd_vqGjG",
        "outputId": "e2a4919f-4146-4bb4-e5af-ca6111d1fbf7"
      },
      "execution_count": 2,
      "outputs": [
        {
          "output_type": "stream",
          "name": "stdout",
          "text": [
            "Mary's cosmetics\n"
          ]
        }
      ]
    },
    {
      "cell_type": "code",
      "source": [
        "#03 print기초\n",
        "# 신씨가 소리를 질렀다. \"도둑이야\".. 문장 출력\n",
        "\n",
        "print('신씨가 소리를 질렀다. \"도둑이야\".')"
      ],
      "metadata": {
        "colab": {
          "base_uri": "https://localhost:8080/"
        },
        "id": "PUll-C-qqWL8",
        "outputId": "28d9689f-07cd-4d75-bcaf-661e9496e491"
      },
      "execution_count": 3,
      "outputs": [
        {
          "output_type": "stream",
          "name": "stdout",
          "text": [
            "신씨가 소리를 질렀다. \"도둑이야\".\n"
          ]
        }
      ]
    },
    {
      "cell_type": "code",
      "source": [
        "#04 print기초\n",
        "#화면에 \"C:\\Windows\"출력\n",
        "\n",
        "print('\"C:\\\\Windows\"')"
      ],
      "metadata": {
        "colab": {
          "base_uri": "https://localhost:8080/"
        },
        "id": "1mKQaJH0qgeF",
        "outputId": "1e45c63f-9473-469c-e1a6-c016d6e7d7e3"
      },
      "execution_count": 5,
      "outputs": [
        {
          "output_type": "stream",
          "name": "stdout",
          "text": [
            "\"C:\\Windows\"\n"
          ]
        }
      ]
    },
    {
      "cell_type": "code",
      "source": [
        "#05 print탭과 줄바꿈\n",
        "\n",
        "print(\"안녕하세요.\\n만나서\\t\\t반갑습니다.\")"
      ],
      "metadata": {
        "colab": {
          "base_uri": "https://localhost:8080/"
        },
        "id": "DR1-DEz_qp8r",
        "outputId": "dfc73f1a-e532-4b6e-9cc7-3314159050ac"
      },
      "execution_count": 6,
      "outputs": [
        {
          "output_type": "stream",
          "name": "stdout",
          "text": [
            "안녕하세요.\n",
            "만나서\t\t반갑습니다.\n"
          ]
        }
      ]
    },
    {
      "cell_type": "code",
      "source": [
        "#06 print여러 데이터 출력\n",
        "print(\"오늘은\",\"일요일\")"
      ],
      "metadata": {
        "colab": {
          "base_uri": "https://localhost:8080/"
        },
        "id": "-zfBQauCq1TF",
        "outputId": "a7ec0624-548c-4a50-b0f3-b1400208d898"
      },
      "execution_count": 7,
      "outputs": [
        {
          "output_type": "stream",
          "name": "stdout",
          "text": [
            "오늘은 일요일\n"
          ]
        }
      ]
    },
    {
      "cell_type": "code",
      "source": [
        "#07: print기초\n",
        "print('naver;kakao;sk;samsung')"
      ],
      "metadata": {
        "colab": {
          "base_uri": "https://localhost:8080/"
        },
        "id": "HgLeVFP-rFEl",
        "outputId": "b11aed95-6997-43f2-af98-7a68583b310b"
      },
      "execution_count": 8,
      "outputs": [
        {
          "output_type": "stream",
          "name": "stdout",
          "text": [
            "naver;kakao;sk;samsung\n"
          ]
        }
      ]
    },
    {
      "cell_type": "code",
      "source": [
        "#08: print기초\n",
        "print('naver/kakao/sk/samsung')"
      ],
      "metadata": {
        "colab": {
          "base_uri": "https://localhost:8080/"
        },
        "id": "6UBbcSr8rMt8",
        "outputId": "6f0f1272-bf28-46ff-95e9-61cd63b7c201"
      },
      "execution_count": 9,
      "outputs": [
        {
          "output_type": "stream",
          "name": "stdout",
          "text": [
            "naver/kakao/sk/samsung\n"
          ]
        }
      ]
    },
    {
      "cell_type": "code",
      "source": [
        "#09 print줄바꿈\n",
        "print(\"first\",end=' ');print(\"second\")"
      ],
      "metadata": {
        "colab": {
          "base_uri": "https://localhost:8080/"
        },
        "id": "XPFOBafrrR2B",
        "outputId": "b229ea25-608a-474d-e9a8-1a8b6aa89349"
      },
      "execution_count": 11,
      "outputs": [
        {
          "output_type": "stream",
          "name": "stdout",
          "text": [
            "first second\n"
          ]
        }
      ]
    },
    {
      "cell_type": "code",
      "source": [
        "#010 연산 결과 출력\n",
        "\n",
        "print(5/3)"
      ],
      "metadata": {
        "colab": {
          "base_uri": "https://localhost:8080/"
        },
        "id": "324ZQ0R-rc63",
        "outputId": "94833532-b57e-44ff-c22b-a068bfd0d550"
      },
      "execution_count": 12,
      "outputs": [
        {
          "output_type": "stream",
          "name": "stdout",
          "text": [
            "1.6666666666666667\n"
          ]
        }
      ]
    },
    {
      "cell_type": "code",
      "source": [
        ""
      ],
      "metadata": {
        "id": "fN6mMRTQrmrT"
      },
      "execution_count": null,
      "outputs": []
    }
  ]
}