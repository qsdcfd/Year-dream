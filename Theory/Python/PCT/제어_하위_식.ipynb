{
  "nbformat": 4,
  "nbformat_minor": 0,
  "metadata": {
    "colab": {
      "name": "제어 하위 식",
      "provenance": [],
      "authorship_tag": "ABX9TyMpWnzQ6J7kcKZGnIUIqecy"
    },
    "kernelspec": {
      "name": "python3",
      "display_name": "Python 3"
    },
    "language_info": {
      "name": "python"
    }
  },
  "cells": [
    {
      "cell_type": "markdown",
      "source": [
        "## 컴프리헨션 내부에 제어 하위 식을 세 개 이상 사용하지 말라"
      ],
      "metadata": {
        "id": "KQGoVrPBo6ob"
      }
    },
    {
      "cell_type": "markdown",
      "source": [
        "**컴프리헨션의 다중 루프 사용**\n",
        "\n",
        "- 루프를 여러 수준으로 내포 허용\n",
        "\n",
        "   - 행렬로 정의된 원소들을 단일 리스트로 단순화\n",
        "\n",
        "```\n",
        "matrix = [[1,2,3], [4,5,6], [7,8,9]]\n",
        "flat = [x for row in matrix for x in row]\n",
        "print(flat)\n",
        "\n",
        "#[1,2,3,4,5,6,7,8,9]\n",
        "```\n",
        "\n",
        "<br>\n",
        "\n",
        "- 2단계 깊이로 구성된 입력 list구조 복제\n",
        "\n",
        "```\n",
        "squared = [[x**2 for x in row] for row in matrix]\n",
        "print(squared)\n",
        "\n",
        "#[[1,4,9],[16,25,36],[49,64,81]]\n",
        "```\n",
        "\n",
        "<br>\n",
        "\n",
        "*3개 이상 쓸 경우*\n",
        "\n",
        "- 가독성이 너무 떨어진다.\n",
        "\n",
        "- 파라미터의 추가로 혼동 모델의 혼동 가능성이 높다\n",
        "\n",
        "```\n",
        "#리스트컴프리헨션 사용\n",
        "my_lists = [[1,2,3],[4,5,6]]\n",
        "flat = [ x for sublist1 in my_lists\n",
        "         for sublist2 in sublist1\n",
        "         for x in sublist2]\n",
        "\n",
        "#사용X\n",
        "\n",
        "flat = []\n",
        "for sublist1 in my_lists:\n",
        "    for sublist2 in sublist1:\n",
        "        flat.extend(sublist2)\n",
        "```\n",
        "\n",
        "<br>\n",
        "\n",
        "**대책**\n",
        "\n",
        "- 도우미함수를 활용해라\n"
      ],
      "metadata": {
        "id": "EQnIO1OcpDok"
      }
    },
    {
      "cell_type": "code",
      "source": [
        ""
      ],
      "metadata": {
        "id": "5Fn461wxrrpJ"
      },
      "execution_count": null,
      "outputs": []
    }
  ]
}