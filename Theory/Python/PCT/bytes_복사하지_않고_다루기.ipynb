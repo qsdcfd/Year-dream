{
  "nbformat": 4,
  "nbformat_minor": 0,
  "metadata": {
    "colab": {
      "provenance": [],
      "authorship_tag": "ABX9TyOgCNB95VcmRT49/X9jE7fC"
    },
    "kernelspec": {
      "name": "python3",
      "display_name": "Python 3"
    },
    "language_info": {
      "name": "python"
    }
  },
  "cells": [
    {
      "cell_type": "markdown",
      "source": [
        "# bytes를 복사하지 않고 다루려면 memoryview와 bytearray를 사용하라"
      ],
      "metadata": {
        "id": "Qj8YblOGDpur"
      }
    },
    {
      "cell_type": "markdown",
      "source": [
        "**파이썬이 CPU 위주의 계산 작업을 추가적인 노력 없이 병렬화는 불가하지만 스루풋이 높은 병렬 I/O를 다양한 방식으로 지원할 수 있다.**\n",
        "\n",
        "그러나, 그럼에도 불구하고 I/O 도구를 잘못 사용하여 과부화가 걸려서 속도가 느려질 수 있다."
      ],
      "metadata": {
        "id": "1Y7nZBC7GyTM"
      }
    },
    {
      "cell_type": "markdown",
      "source": [
        "*코드로 보는 예시*\n",
        "\n",
        "- 영화나 드라마를  스트리밍하는 미디어 만들기\n",
        "\n",
        "   - 핵심 기능: 건너뛰거나 반복기능 가능\n",
        "\n",
        "   - 데이터 덩어리를 서버에 요청해서 기능 구현"
      ],
      "metadata": {
        "id": "9z_0wsaZIfby"
      }
    },
    {
      "cell_type": "code",
      "source": [
        "def timecode_to_index(video_id, timecode):\n",
        "    ...\n",
        "    # 비디오 데이터의 바이트 오프셋을 반환한다.\n",
        "\n",
        "def request_chunk(video_id, byte_offset, size):\n",
        "    ...\n",
        "    # video_id에 대한 비디오 데이터 중에서 바이트 오프셋부터 size만큼 반환한다.\n",
        "\n",
        "video_id =...\n",
        "timecode = '01:09:14:28'\n",
        "byte_offset = timecode_to_index(video_id, timecode)\n",
        "size = 20 * 1024 * 1024\n",
        "video_data = request_chunk(video_id, byte_offset, size)\n",
        "\n",
        "#request_chunk 요청 받기\n",
        "\n",
        "socket = ... #클라이언트가 연결한 소켓\n",
        "video_data = ... #video_id 에 해당하는 데이터가 들어있는 bytes\n",
        "byte_offset = ... #요청받은 시작 위치\n",
        "size = 20 * 1024 * 1024\n",
        "\n",
        "chunk = video_data[byte_offset:byte_offset + size]\n",
        "socket.send(chunk)"
      ],
      "metadata": {
        "id": "-KrieOTKDvMe"
      },
      "execution_count": null,
      "outputs": []
    },
    {
      "cell_type": "markdown",
      "source": [
        "코드의 지연 시간과 스루풋은 데이터를 가져오는데 걸리는 시간과 데이터를 클라이언트에 송신하는데 걸리는 시간이라는 두 가지 요인에 의해 결정된다..\n",
        "\n",
        "최대 성능을 알아보려면 소켓 송신 부분을 무시하여 데이터 덩어리를 만들기 위해서 bytes 인스턴스 슬라이싱하는 방법에 걸리는 시간 측정"
      ],
      "metadata": {
        "id": "RQyzfWLrJhTY"
      }
    },
    {
      "cell_type": "code",
      "source": [
        "import timeit\n",
        "\n",
        "def run_test():\n",
        "    chunk =. video_data[byte_offset:byte_offset + size]\n",
        "    #socket.send(chunk)를 호출해야 하지만 벤치마크를 위해 무시\n",
        "\n",
        "result = timeit.timeit(\n",
        "    stmt = 'run_test()',\n",
        "    globals = globals(),\n",
        "    number=100) / 100\n",
        "\n",
        "print(f'{result:0.9f} 초') #0.004925669 초"
      ],
      "metadata": {
        "id": "pihpKcGvJMHG"
      },
      "execution_count": null,
      "outputs": []
    },
    {
      "cell_type": "markdown",
      "source": [
        "위의 코드는 최대 개수가 작고 동시 접속에 비하면 적다.\n",
        "\n",
        "그리고, 문제는 기반 데이터를 bytes 인스턴스로 슬라이싱하려면 메모리를 복사해야하는데, 이 과정을 CPU 시간을 점유\n",
        "\n",
        "<br>\n",
        "\n",
        "그러므로, 파이썬이 제공하는 memoryview 내장 타입을 사용하라\n",
        "\n",
        "memoryview는 CPython의 고성능 버퍼 프로토콜을 프로그램에 노출 시켜서 bytes와 같은 객체를 통하지 않고 하부 데이터를 버퍼에 접근시키는 저수준 C API\n",
        "\n",
        "슬라이싱을 하면 데이터 복사가 아니라 새로운 인스턴스 형성"
      ],
      "metadata": {
        "id": "_1rhOUe3KRwo"
      }
    },
    {
      "cell_type": "code",
      "source": [
        "data = '동해물과 abc 백두산이 마르고 닳도록'.encode(\"utf8\")\n",
        "view = memoryview(data)\n",
        "chunk = view[12:19]\n",
        "print(chunk)\n",
        "print(\"크기:\", chunk.nbytes)\n",
        "print('뷰의 데이터:', chunk.tobytes())\n",
        "print(\"내부의 데이터:\", chunk.obj)"
      ],
      "metadata": {
        "colab": {
          "base_uri": "https://localhost:8080/"
        },
        "id": "0zjI3DgpKhS0",
        "outputId": "72d9d5eb-9310-454b-b152-066690e21ccf"
      },
      "execution_count": null,
      "outputs": [
        {
          "output_type": "stream",
          "name": "stdout",
          "text": [
            "<memory at 0x7f4311dbf870>\n",
            "크기: 7\n",
            "뷰의 데이터: b' abc \\xeb\\xb0'\n",
            "내부의 데이터: b'\\xeb\\x8f\\x99\\xed\\x95\\xb4\\xeb\\xac\\xbc\\xea\\xb3\\xbc abc \\xeb\\xb0\\xb1\\xeb\\x91\\x90\\xec\\x82\\xb0\\xec\\x9d\\xb4 \\xeb\\xa7\\x88\\xeb\\xa5\\xb4\\xea\\xb3\\xa0 \\xeb\\x8b\\xb3\\xeb\\x8f\\x84\\xeb\\xa1\\x9d'\n"
          ]
        }
      ]
    },
    {
      "cell_type": "code",
      "source": [
        "#bytes 슬라이스를 memoryview로 바꿔서 마이크로 벤치마크 수행\n",
        "\n",
        "video_view = memoryview(video_data)\n",
        "\n",
        "def run_test():\n",
        "    chunk = video_view[byte_offset:byte_offset + size]\n",
        "    #socket.send(chunk)를 호출해야 하지만 벤치마크를 위해 무시한다.\n",
        "\n",
        "result = timeit.timeit(\n",
        "    stmt = 'run_test()',\n",
        "    globals=globals(),\n",
        "    numbers=100) / 100\n",
        "\n",
        "print(f'{result:0.9f} 초') # 0.0000000250 초"
      ],
      "metadata": {
        "id": "u_MgrZClLVO8"
      },
      "execution_count": null,
      "outputs": []
    },
    {
      "cell_type": "markdown",
      "source": [
        "사용자가 가장 최근에 보낸 비디오 데이터를 캐시에 넣고 다른 클라이언트가 캐시에 있는 비디오 데이터를 읽게 하기"
      ],
      "metadata": {
        "id": "5PvUjiraMUqs"
      }
    },
    {
      "cell_type": "code",
      "source": [
        "socket = ... #클라이언트가 연결한 소켓\n",
        "video_cache = ... # 서버로 들어오는 비디오 스트림의 캐시\n",
        "byte_offset = ... #데이터 버퍼 위치\n",
        "size = 1024 * 1024 #데이타 덩어리 크기\n",
        "chunk = socket.recv(size)\n",
        "video_view = memoryview(video_cache)\n",
        "before = video_view[:byte_offset]\n",
        "after = video_view[byte_offset + size:]\n",
        "new_cache = b''.join([before, chunk, after])\n",
        "\n",
        "## 확장성이 없는 코드들"
      ],
      "metadata": {
        "id": "ymA0lazBL7kI"
      },
      "execution_count": null,
      "outputs": []
    },
    {
      "cell_type": "code",
      "source": [
        "#bytearray를 활용하여 확장성 늘리기\n",
        "\n",
        "my_array = bytearray('hello 안녕'.encode(\"utf-8\")) #b''가 아니라 ''문자열\n",
        "my_array[0] = 0 x79\n",
        "print(my_array)\n",
        "\n",
        "#betearray도 memoryview를 사용하여 감싼다.\n",
        "#Memoryview를 슬라이싱해서 객체를 만들고 대입\n",
        "\n",
        "#복사 비용 감축\n",
        "my_array = bytearray('row, row, row your 보트'.encode(\"utf-8\"))\n",
        "my_view = memoryview(my_array)\n",
        "write_view = my_view[3:13]\n",
        "write_view[:] = b'-10 bytes-'\n",
        "print(my_array)\n"
      ],
      "metadata": {
        "id": "kpOg-_r1NHFM"
      },
      "execution_count": null,
      "outputs": []
    },
    {
      "cell_type": "code",
      "source": [
        "#스플라이스를 하지 않고 하부의 bytearray에 데이터 수신\n",
        "\n",
        "video_array = bytearray(video_cache)\n",
        "write_view = memoryview(video_array)\n",
        "chunk = write_view[byte_offset:byte_offset+size]\n",
        "socket.recv_info(chunk)"
      ],
      "metadata": {
        "id": "j-QVg8yeWKAz"
      },
      "execution_count": null,
      "outputs": []
    },
    {
      "cell_type": "code",
      "source": [
        "#socket 의 성능 비교\n",
        "def run_test():\n",
        "    chunk = write_view[byte_offset:byte_offset+size]\n",
        "    socket.recv_info(chunk)\n",
        "\n",
        "result = timeit.timeit(\n",
        "    stmt = 'run_test()',\n",
        "    globals = globals(),\n",
        "    number = 100) / 100\n",
        "\n",
        "print(f'{result:0.9f} 초')"
      ],
      "metadata": {
        "id": "WjXxLw2QXOpw"
      },
      "execution_count": null,
      "outputs": []
    },
    {
      "cell_type": "markdown",
      "source": [
        "### Summary\n",
        "\n",
        "- memoryview 내장 타입은 객체의 슬라이스에 대해 파이썬 고성능 버퍼 프로토콜로 읽고 쓰기를 지원하는, 복사기가 없는 인터페이스 제공\n",
        "\n",
        "- bytearray 내장 타입은 복사가 없는 읽기 함수(socket.recv_from과 같은)에 사용할 수 있는 bytes와 비슷한 변경 가능한 타입 제공\n",
        "\n",
        "- memoryview로 bytearray를 감싸면 복사에 따른 비용을 추가 부담하지 않고도 수신 받은 데이터를 버퍼에 원하는 위치에 스플라이스"
      ],
      "metadata": {
        "id": "C-zeFJ72Yohm"
      }
    },
    {
      "cell_type": "code",
      "source": [],
      "metadata": {
        "id": "ja_wz0n6ZMJU"
      },
      "execution_count": null,
      "outputs": []
    }
  ]
}