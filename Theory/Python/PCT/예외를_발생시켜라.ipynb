{
  "nbformat": 4,
  "nbformat_minor": 0,
  "metadata": {
    "colab": {
      "name": "예외를 발생시켜라",
      "provenance": [],
      "authorship_tag": "ABX9TyNRe5wMjIcO3EQIc24y3FII"
    },
    "kernelspec": {
      "name": "python3",
      "display_name": "Python 3"
    },
    "language_info": {
      "name": "python"
    }
  },
  "cells": [
    {
      "cell_type": "markdown",
      "source": [
        "## None을 반환하기보다는 예외를 발생시켜라"
      ],
      "metadata": {
        "id": "jTguka6ynwMN"
      }
    },
    {
      "cell_type": "markdown",
      "source": [
        "**None의 의미**\n",
        "\n",
        "유틸리티 함수를 작성할 때 반환 값을 None으로 하면 특별한 의미를 부여하는 경향을 보인다.\n",
        "\n",
        "\n",
        "그로 인해서 아래와 같이 반환 오류가 생긴다.\n",
        "\n",
        "\n",
        "\n",
        "```\n",
        "def careful_divide(a,b):\n",
        "    try:\n",
        "        return a / b\n",
        "    except ZeroDivisionError:\n",
        "        return None\n",
        "\n",
        "x,y = 1,0\n",
        "result = careful_divide(x,y)\n",
        "if result is None:\n",
        "    print('잘못된 입력')\n",
        "\n",
        "#실행은 되지만 실행이 되면 안됨\n",
        "#원래의 답은 0이 나와야한다\n",
        "x,y = 0,5\n",
        "result = careful_divide(x,y)\n",
        "if not  result:\n",
        "    print('잘못된 입력') # 잘못된 입력\n",
        "```\n",
        "\n"
      ],
      "metadata": {
        "id": "9_TWXaxxn4SP"
      }
    },
    {
      "cell_type": "markdown",
      "source": [
        "### 해결방법\n",
        "\n",
        "**반환값을 2-튜플로 분리**\n",
        "\n",
        "- 첫 번째 부분은 연산의 성공/실패 여부\n",
        "\n",
        "- 두 번째 부분은 성공한 경우의 실제 결과값을 저장\n",
        "\n",
        "```\n",
        "def careful_divide(a,b):\n",
        "    try:\n",
        "        return True, a/b\n",
        "    except ZeroDivisionError:\n",
        "        return False, None\n",
        "\n",
        "success, result = careful_divide(x,y)\n",
        "if not success:\n",
        "    print('잘못된 입력')\n",
        "```\n",
        "\n",
        "- 나눗셈 결과를 검사하지 못하고 튜플 상태로 내버려둔다\n",
        "\n",
        "```\n",
        "_, result = careful_divide(x,y)\n",
        "if not success:\n",
        "    print('잘못된 입력')\n",
        "```\n",
        "\n",
        "- None을 반환하는 경우처럼 실수를 할 수 있는 코드\n",
        "\n",
        "<br>\n",
        "\n",
        "**두번째 방법:Nonne을 반환하지 않기**\n",
        "\n",
        "- Exception을 호출시켜서 None을 반환하지 않기\n",
        "\n",
        "- ZeroDivisionError이 발생한 경우 ValueError을 활용하여 입력값이 잘못되었음을 알린다.\n",
        "\n",
        "```\n",
        "def careful_divide(a,b):\n",
        "    try:\n",
        "        return a/b\n",
        "    except ZeroDivisionError as e:\n",
        "        raise ValueError('잘못된 입력')\n",
        "```\n",
        "\n"
      ],
      "metadata": {
        "id": "PYe2Vb_JqKGN"
      }
    },
    {
      "cell_type": "code",
      "source": [
        ""
      ],
      "metadata": {
        "id": "9HjMrlDOHS07"
      },
      "execution_count": null,
      "outputs": []
    }
  ]
}