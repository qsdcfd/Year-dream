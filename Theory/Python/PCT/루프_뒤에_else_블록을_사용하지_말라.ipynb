{
  "nbformat": 4,
  "nbformat_minor": 0,
  "metadata": {
    "colab": {
      "name": "루프 뒤에 else 블록을 사용하지 말라",
      "provenance": [],
      "authorship_tag": "ABX9TyP5aLvDFX9Kk1XEPDCa++RQ"
    },
    "kernelspec": {
      "name": "python3",
      "display_name": "Python 3"
    },
    "language_info": {
      "name": "python"
    }
  },
  "cells": [
    {
      "cell_type": "markdown",
      "source": [
        "##  for 나 while 루프 뒤에 else 블록을 사용하지 말라\n",
        "\n",
        "- 빈 시퀀스에 대한 루프를 실행하면 else블록이 바로 실행\n",
        "\n",
        "```\n",
        "for x in []:\n",
        "    print('이 줄은 실행되지 않음')\n",
        "else:\n",
        "    print('For Else block!')\n",
        "\n",
        "#For Else block!\n",
        "```\n",
        "\n",
        "- whlie 루프의 조건이 처음부터 False인 경우에도 else 바로 실행\n",
        "\n",
        "\n",
        "\n",
        "```\n",
        "while False:\n",
        "    print('이 줄은 실행되지 않음')\n",
        "else:\n",
        "    print('While Else block!')\n",
        "#While Else block!\n",
        "```\n",
        "\n",
        "<br>\n",
        "\n",
        "**핵심**\n",
        "\n",
        "*파이썬에서 루프와 같은 간단한 구성 요소는 그 자체로 의미가 명확해야 하므로 루프 뒤에 else를 사용하지 말라*\n",
        "\n",
        "\n",
        "<br>\n",
        "\n",
        "**이유**\n",
        "\n",
        "- 루프 뒤에 오는 else블록은 루프가 반복되는 도중에 break를 만나지 않은 경우에만 실행되므로 \"루프가 정상적으로 완료되지 않으면 이 블록을 실행하라는\"뜻으로 이해하면 안된다.\n",
        "\n",
        "   - 실제로 루프 안에 break문을 사용하면 else블록 실행X\n",
        "\n",
        "- 동작이 직관적이지 않고 혼동을 야기할 수 있으므로 루프 뒤에 else블록을 사용하지 말라"
      ],
      "metadata": {
        "id": "nvs86--6WaQa"
      }
    }
  ]
}