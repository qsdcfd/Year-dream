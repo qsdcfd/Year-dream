{
  "nbformat": 4,
  "nbformat_minor": 0,
  "metadata": {
    "colab": {
      "name": "지연 계산 애트리뷰트",
      "provenance": [],
      "authorship_tag": "ABX9TyMYRJI9phGhjrr4bYoWjEZ6"
    },
    "kernelspec": {
      "name": "python3",
      "display_name": "Python 3"
    },
    "language_info": {
      "name": "python"
    }
  },
  "cells": [
    {
      "cell_type": "markdown",
      "source": [
        "## 지연 계산  애트리뷰트가 필요하면  __getattr__, __getattribute__, __setattr__을 사용하라"
      ],
      "metadata": {
        "id": "hHBySDsimeCq"
      }
    },
    {
      "cell_type": "markdown",
      "source": [
        "**파이썬 object훅을 사용하면 제너릭코드를 쉽게 작성**"
      ],
      "metadata": {
        "id": "B-G1XJ6Kmkp_"
      }
    },
    {
      "cell_type": "code",
      "source": [
        "#파이썬에서 __getattr__이라는 특별 메서드  활용\n",
        "#동적기능 사용\n",
        "\n",
        "class LazyRecord:\n",
        "    def __init__(self):\n",
        "        self.exists = 5\n",
        "    \n",
        "    def __getattr__(self, name):\n",
        "        setattr(self, name, value)\n",
        "        return value"
      ],
      "metadata": {
        "id": "B7V88nefm0Ek"
      },
      "execution_count": null,
      "outputs": []
    },
    {
      "cell_type": "code",
      "source": [
        "#무한 재귀를 피하기\n",
        "#super().__getattr__()사용\n",
        "\n",
        "class LoggingLazyRecord(LazyRecord):\n",
        "    def __getattr__(self, name):\n",
        "        print(f'* 호출: __getattr__({name!r}), '\n",
        "              f'인스턴스 딕셔너리 채워 넣음')\n",
        "        \n",
        "        result = super().__getattr__(name)\n",
        "        print(f'*반환: {result!r}')\n",
        "        return result\n",
        "\n",
        "    "
      ],
      "metadata": {
        "id": "zegvuuu3nZSt"
      },
      "execution_count": null,
      "outputs": []
    },
    {
      "cell_type": "code",
      "source": [
        "#데이터베이스 시스템 안에서 트랜잭션 필요\n",
        "#사용자가 프로퍼티에 접근할 때 상응ㅇ하는 데이터 베이스 레코드 유효 파악\n",
        "\n",
        "#__getattribute__: 객체가 애트리뷰트에 접근할 때마다 호출, 로그를 남기는데 활용\n",
        "\n",
        "class ValidatingRecord:\n",
        "    def __init__(self):\n",
        "        self.exists = 5\n",
        "\n",
        "    def __getattribute__(self, name):\n",
        "        print(f'* 호출: __getattr({name!r}')\n",
        "        try:\n",
        "            value = super().__getattribute__(name)\n",
        "            print(f'* {name!r} 찾음, {value!r} 반환')\n",
        "            return value\n",
        "        except AttributeError:\n",
        "            value = f'{name}를 위한 값'\n",
        "            print(f'* {name!r}를  {value!r}로 설정')\n",
        "            setattr(self, name, value)\n",
        "            return value\n",
        "\n",
        "    "
      ],
      "metadata": {
        "id": "gxLsUSHUpjz7"
      },
      "execution_count": null,
      "outputs": []
    },
    {
      "cell_type": "code",
      "source": [
        "#존재하지 않는 프로퍼티에 동적 접근\n",
        "\n",
        "class MissingPropertyRecord:\n",
        "    def __getattr__(self, name):\n",
        "        if name == 'bad_name':\n",
        "            raise AttributeError(f'{name}을 찾을 수 없음')"
      ],
      "metadata": {
        "id": "LnO2SpBzql3y"
      },
      "execution_count": null,
      "outputs": []
    },
    {
      "cell_type": "code",
      "source": [
        "#파이썬 객체에 값이 대입된 후에 나중에 DB에 저장하기\n",
        "#임의의 애트리뷰트에 값 설정 후 호출\n",
        "\n",
        "class SavingRecord:\n",
        "    def __setattr__(self, name, value):\n",
        "        #데이터를 데이터베이스 레코드에 저장\n",
        "        super().__setattr__(name, value)"
      ],
      "metadata": {
        "id": "okALU14lrJp3"
      },
      "execution_count": null,
      "outputs": []
    },
    {
      "cell_type": "markdown",
      "source": [
        "##  Summary\n",
        "\n",
        "- __getattr__과 __setattr__을 사용해서 객체의 애트리뷰트를 지연해 가져오거나 저장\n",
        "\n",
        "- __getattr__은 애트리뷰트가 존재하지 않으 때만 호출\n",
        "\n",
        "- __getattribute__는 애트리뷰트를 읽을 때마다 항상 호출\n",
        "\n",
        "- 재귀를 피하려면 super().__getattribute__활용"
      ],
      "metadata": {
        "id": "0Y7rPf2brktk"
      }
    },
    {
      "cell_type": "code",
      "source": [
        ""
      ],
      "metadata": {
        "id": "SjU0C6HusGmc"
      },
      "execution_count": null,
      "outputs": []
    }
  ]
}