{
  "nbformat": 4,
  "nbformat_minor": 0,
  "metadata": {
    "colab": {
      "name": "하위 클래스를 검증",
      "provenance": [],
      "authorship_tag": "ABX9TyPyYMMdZjVTC+0RV0T2ZwMI"
    },
    "kernelspec": {
      "name": "python3",
      "display_name": "Python 3"
    },
    "language_info": {
      "name": "python"
    }
  },
  "cells": [
    {
      "cell_type": "markdown",
      "source": [
        "## __init__subclass__를 사용해서 하위 클래스를 검증하라"
      ],
      "metadata": {
        "id": "OOuSwxet9doR"
      }
    },
    {
      "cell_type": "markdown",
      "source": [
        "**메타클래스를 활용하여 새로운 하위 클래스가 정의될 때마다 검증 코드를 수행하는 신뢰성 있는 방법 제공**\n",
        "\n"
      ],
      "metadata": {
        "id": "85umG6QT9jIm"
      }
    },
    {
      "cell_type": "code",
      "source": [
        "#메타클래스는 type를 상속해 정의\n",
        "#메타클래스는 __new__ 메서드를 통해서 자신과 연관된 클래스 내용\n",
        "# 타입이 실제로 구성 전 클래스 정보를 살펴보고 변경\n",
        "class Meta(type):\n",
        "    def __new__(meta, name, bases, class_dict):\n",
        "        print(f'* 실행: {name}의 메타 {meta}.__new__')\n",
        "        print('기반 클래스들:', bases)\n",
        "        print(class_dict)\n",
        "        return type.__new__(meta, name, bases, class_dict)\n",
        "\n",
        "\n",
        "class MyClass(metaclass=Meta):\n",
        "    stuff = 123\n",
        "\n",
        "    def foo(self):\n",
        "        pass\n",
        "    \n",
        "class MySubclass(MyClass):\n",
        "    other = 567\n",
        "\n",
        "    def bar(self):\n",
        "        pass"
      ],
      "metadata": {
        "colab": {
          "base_uri": "https://localhost:8080/"
        },
        "id": "uxgU-BN-9itb",
        "outputId": "b183f23b-8df9-4718-ebfe-f9557bceaee9"
      },
      "execution_count": 3,
      "outputs": [
        {
          "output_type": "stream",
          "name": "stdout",
          "text": [
            "* 실행: MyClass의 메타 <class '__main__.Meta'>.__new__\n",
            "기반 클래스들: ()\n",
            "{'__module__': '__main__', '__qualname__': 'MyClass', 'stuff': 123, 'foo': <function MyClass.foo at 0x7fbcee70bd40>}\n",
            "* 실행: MySubclass의 메타 <class '__main__.Meta'>.__new__\n",
            "기반 클래스들: (<class '__main__.MyClass'>,)\n",
            "{'__module__': '__main__', '__qualname__': 'MySubclass', 'other': 567, 'bar': <function MySubclass.bar at 0x7fbcee70b7a0>}\n"
          ]
        }
      ]
    },
    {
      "cell_type": "code",
      "source": [
        "#연관된 클래스 정의가 되기 전에 이 클래스의 모든 파라미터 검증 by Meta.__new__기능\n",
        "#검증을 위한 특별 메타 클래스 정의\n",
        "#다격형 클래스 계층 구조\n",
        "\n",
        "class ValidatePolygon(type):\n",
        "    def __new__(meta, name, bases, class_dict):\n",
        "        #Polygon 클래스의 하위 클래스만 검증\n",
        "        if bases: \n",
        "            if class_dict['sides'] < 3: #2개 이하의 클래스이면 실행되지 않는다.\n",
        "                raise ValueError('다각형 변은 3개 이상이어야 함')\n",
        "        return type.__new__(meta, name, bases, class_dict)\n",
        "\n",
        "class Polygon(metaclass =ValidatePolygon):\n",
        "    slides = None #하위 클래스는 이 애트리뷰트에 값을 지정해야 한다\n",
        "\n",
        "    @classmethod\n",
        "    def interior_angles(cls):\n",
        "        return (cls.sides -2) * 180\n",
        "\n",
        "class Triangle(Polygon):\n",
        "    sides = 3\n",
        "\n",
        "class Rectangle(Polygon):\n",
        "    sides = 4\n",
        "\n",
        "class Nonagon(Polygon):\n",
        "    sides = 9\n",
        "\n",
        "assert Triangle.interior_angles() == 180\n",
        "assert Rectangle.interior_angles() == 360\n",
        "assert Nonagon.interior_angles() ==1260"
      ],
      "metadata": {
        "id": "I6BGVA9G-eu9"
      },
      "execution_count": 4,
      "outputs": []
    },
    {
      "cell_type": "markdown",
      "source": [
        "**메타클래스를 구현하는 게 시각적으로 코드의 복잡성을 늘린다.**\n",
        "\n",
        "그래서, 파이썬 3.6부터는 __init_subclass__ 특별 클래스 메서드 정의"
      ],
      "metadata": {
        "id": "_cgmLYym_0TK"
      }
    },
    {
      "cell_type": "code",
      "source": [
        "#코드가 훨씬 간결\n",
        "class BetterPolygon:\n",
        "    sides = None #하위클래스에서 이 애트리뷰트의 값 지정\n",
        "\n",
        "    def __init_subclass__(cls):\n",
        "        \n",
        "        super().__init_subclass__()\n",
        "        if class_dict['sides'] < 3: #2개 이하의 클래스이면 실행되지 않는다.\n",
        "                raise ValueError('다각형 변은 3개 이상이어야 함')\n",
        "        return type.__new__(meta, name, bases, class_dict)\n",
        "\n",
        "    @classmethod\n",
        "    def interior_angles(cls):\n",
        "        return (cls.sides-2)* 180\n",
        "\n",
        "class Hexagon(BetterPolygon):\n",
        "    sides = 6\n",
        "\n",
        "assert Hexagon.interior_angles() == 720\n",
        "\n",
        "\n"
      ],
      "metadata": {
        "id": "psg1WmWl_p2J"
      },
      "execution_count": null,
      "outputs": []
    },
    {
      "cell_type": "code",
      "source": [
        "#두 개의 메타클래스 활용\n",
        "#합성성을 해치긴한다.\n",
        "class ValidatePolygon(type):\n",
        "    def __new__(meta, name, bases, class_dict):\n",
        "        #루트 클래스가 아닌 경우만 검증\n",
        "        if not class_dict.get('is_root'):\n",
        "            if class_dict['sides'] < 3:\n",
        "                raise ValueError('다각형 변은 3개 이상이어야 함')\n",
        "            return type.__new__(meta, name, bases, class_dict)\n",
        "\n",
        "class Polygon(metaclass=ValidatePolygon):\n",
        "    is_root = True\n",
        "    sides = None #하위 클래스에서 애트리뷰트 지정\n",
        "\n",
        "\n",
        "class ValidateFilledPolygon(ValidatePolygon):\n",
        "    def __new__(meta, name, bases, class_dict):\n",
        "        #루트 클래스가 아닌 경우만 검증\n",
        "        if not class_dict.get('is_root'):\n",
        "            if class_dict['color'] not in ('red', 'green'):\n",
        "                raise ValueError('지원하지 않는 color 값')\n",
        "            return super().__new__(meta, name, bases, class_dict)\n",
        "\n",
        "class FilledPolygon(Polygon, metaclass= ValidatePolygon):\n",
        "    is_root = True\n",
        "    color = None\n",
        "\n",
        "#위와 같이 정의하면 모든 FilledPolygon은 Polygon의 스턴스\n",
        "\n",
        "class GreenPentagon(FilledPolygon):\n",
        "    color = 'green'\n",
        "    sides = 5\n",
        "\n",
        "greenie = GreenPentagon()\n",
        "assert isinstance(greenie, Polygon)\n",
        "\n",
        "#색 검증\n",
        "\n",
        "class OrangePentagon(FilledPolygon):\n",
        "    color = 'orange'\n",
        "    sides = 5"
      ],
      "metadata": {
        "id": "ZRUSlJlcAsgA"
      },
      "execution_count": null,
      "outputs": []
    },
    {
      "cell_type": "markdown",
      "source": [
        "### Summary\n",
        "\n",
        "- 메타클래스의 __new__ 메서드는 class문의 모든 본문이 처리된 직후 호출\n",
        "\n",
        "- 메타클래스를 사용해 클래스가 정의된 직후이면 클래스가 생성되기 직전인 시점에 클래스의 정의 변경\n",
        "\n",
        "- 메타클래스는 원하는 목적을 달성하긴 너무 복잡\n",
        "\n",
        "- __init_subclass__를 사용해 하위 클래스가 정의된 직후, 하위 클래스 타입이 만들어지기 직전에 해당 클래스가 원하는 요건 확인\n",
        "\n",
        "- __init_subclass__ 정의 안에서 super().__init_subclass__를 호출해서 여러 계층에 걸쳐서 클래스를 검증하고 다중 상속을 제대로 처리"
      ],
      "metadata": {
        "id": "aJMYnW8ACcs8"
      }
    },
    {
      "cell_type": "code",
      "source": [
        ""
      ],
      "metadata": {
        "id": "ptKHPebJDXCS"
      },
      "execution_count": null,
      "outputs": []
    }
  ]
}