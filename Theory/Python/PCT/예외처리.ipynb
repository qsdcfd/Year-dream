{
  "nbformat": 4,
  "nbformat_minor": 0,
  "metadata": {
    "colab": {
      "name": "예외처리",
      "provenance": [],
      "authorship_tag": "ABX9TyNEW+34SddlkeHwEwdIciFV"
    },
    "kernelspec": {
      "name": "python3",
      "display_name": "Python 3"
    },
    "language_info": {
      "name": "python"
    }
  },
  "cells": [
    {
      "cell_type": "markdown",
      "source": [
        "# try/except/else/finally의 각 블록을 잘 활용하라\n",
        "\n",
        "\n",
        "**try/ finally블록**\n",
        "\n",
        "- 예외가 발생해도 정리코드를 실행해야할 때 사용\n",
        "\n",
        "- 파일 핸들을 안전하게 닫기"
      ],
      "metadata": {
        "id": "CRJQMRuN7DtD"
      }
    },
    {
      "cell_type": "code",
      "source": [
        "def try_finally_example(filename):\n",
        "    print('* 파일 열기')\n",
        "    handle = open(filename, encoding = 'utf-8') #OSError가 발생할 수 있다\n",
        "    try:\n",
        "        print('* 데이터 읽기')\n",
        "        return handle.read()# UnicodedECODEeRROR이 발생할 수 있다.\n",
        "    finally:\n",
        "        print('* close() 호출')\n",
        "        handle.close() #try블록이 실행된 다음에 항상 이 블록이 실행딤\n",
        "\n",
        "filename = 'random_data.txt'\n",
        "\n",
        "with open(filename, 'wb') as f:\n",
        "    f.write(b'\\xf1\\xf2\\xf3\\xf4\\xf5') #잘못된 utf-8 이진 문자열\n",
        "\n",
        "data = try_finally_example(filename)"
      ],
      "metadata": {
        "id": "cRFcUXUk_NrX"
      },
      "execution_count": null,
      "outputs": []
    },
    {
      "cell_type": "markdown",
      "source": [
        "**else 블록**\n",
        "\n",
        "- 전달할 예외를 명확히 구분\n",
        "\n",
        "- try 블록에 들어가는 코드가 줄어들게 되어서 가독성이 늘어남"
      ],
      "metadata": {
        "id": "50TqaQq3V9jj"
      }
    },
    {
      "cell_type": "code",
      "source": [
        "import json\n",
        "\n",
        "def load_json_key(data, key):\n",
        "    try:\n",
        "        print('* JSON 데이터 읽기')\n",
        "        result_dict = json.loads(data) # ValueError이 발생함\n",
        "    except Value Error as e:\n",
        "        print('* ValueError 처리')\n",
        "        raise KeyError(key) from e\n",
        "    else:\n",
        "        print('* 키 검색')\n",
        "        return result_dict[key]"
      ],
      "metadata": {
        "id": "21eOhv-JV9r6"
      },
      "execution_count": null,
      "outputs": []
    },
    {
      "cell_type": "markdown",
      "source": [
        "**모든 요소를 한꺼번에 사용하기**"
      ],
      "metadata": {
        "id": "-idH5ZCbWnER"
      }
    },
    {
      "cell_type": "code",
      "source": [
        "UNDEFINED = object()\n",
        "\n",
        "def divide_json(path):\n",
        "    print('* 파일 열기')\n",
        "    handle = open(path, 'r+') #OSError가 발생할 수 있음\n",
        "\n",
        "    try:\n",
        "        print('* 데이터 읽기')\n",
        "        data = handle.read() #UnicodeDecoderError가 발생할 수 있음\n",
        "        print('* JSON 데이터 읽기')\n",
        "        op = json.loads(data) #ValueError가 발생할 수 있음\n",
        "        print('* 계산 수행')\n",
        "        value = (\n",
        "            op['numerator'] /\n",
        "            op['denominator']) #ZeroDivisionError가 발생할 수 있음\n",
        "\n",
        "    except ZeroDivisionError as e:\n",
        "        print('* ZeroDivisionError 처리')\n",
        "        return UNDEFINED\n",
        "    else:\n",
        "        print('* 계산 결과 쓰기')\n",
        "        op['result'] = value\n",
        "        result = json.dumps(op)\n",
        "        handle.seek(0)\n",
        "        handle.write(result)\n",
        "        return value\n",
        "    finally:\n",
        "        print('* close() 호출')\n",
        "        handle.close() #어떤 경우든 실행됨"
      ],
      "metadata": {
        "id": "uXndmTsBaUON"
      },
      "execution_count": null,
      "outputs": []
    },
    {
      "cell_type": "markdown",
      "source": [
        "### Summary\n",
        "\n",
        "- try/finally 복합문을 사용하면 try블록이 실행되는 동안 예외가 발행하든 발생하지 않든 정리 코드 실행\n",
        "\n",
        "- else블록을 사용하면 try 블록 안에 넣을 코드를 최소화하고, try/except 블록과 성공적인 경우에 수행해야할 코드를 시각적으로 구분할 수 있다.\n",
        "\n",
        "- try 블록이 성공적으로 처리되고 finally 블록이 공통적인 정리 작업을 수행하기 전에 실행해야하는 동작이 있는 경우 else블록 사용"
      ],
      "metadata": {
        "id": "1RSf6fYUcvpt"
      }
    },
    {
      "cell_type": "code",
      "source": [
        ""
      ],
      "metadata": {
        "id": "-F78tk-xjo-H"
      },
      "execution_count": null,
      "outputs": []
    }
  ]
}