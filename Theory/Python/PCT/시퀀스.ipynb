{
  "nbformat": 4,
  "nbformat_minor": 0,
  "metadata": {
    "colab": {
      "name": "시퀀스",
      "provenance": [],
      "authorship_tag": "ABX9TyOrJBh4IZTB6Gaa4bkZG/LC"
    },
    "kernelspec": {
      "name": "python3",
      "display_name": "Python 3"
    },
    "language_info": {
      "name": "python"
    }
  },
  "cells": [
    {
      "cell_type": "markdown",
      "source": [
        "### 시퀀스를 슬라이싱하는 방법을 익혀라\n",
        "\n",
        "- 슬라이싱 구문\n",
        "\n",
        "   - 리스트[시작:끝]\n",
        "   - 시작 인덱스에 있는 원소는 포함이 되지만 끝 인덱스에 있는 원소는 포함이 되지 않는다\n",
        "\n",
        "```\n",
        "a = ['a','b','c','d','e','f','g','h']\n",
        "print('가운데 2개:', a[3:5]) #가운데 2개: ['d','e']\n",
        "print(\"마지막을 제외한 나머지:', a[1:7])#마지막을 제외한 나머지:['b','c','d','e','f','g']\n",
        "```\n",
        "\n",
        "- 리스트의 맨 앞에서부터 슬라이싱할 때는 시각적 잡음을 없애기 위해서 0을 생략\n",
        "```\n",
        "assert a[:5] == a[0:5]\n",
        "```\n",
        "\n",
        "- 리스트의 끝까지 슬라이싱할 때는 쓸데없이 끝 인덱스를 적지 말라\n",
        "```\n",
        "assert a[5:] == a[5:len(a)]\n",
        "```\n",
        "<br>\n",
        "\n",
        "- 리스트를 슬라이싱한 결과는 완전한 새로운 리스트이다\n",
        "\n",
        "   - 원래 리스트에 대한 참조는 그대로 유지된다.\n",
        "\n",
        "   - 슬라이싱한 결과로 얻은 리슽ㅌ트를 변경해도 원래 리스트는 바뀌지 않는다.\n",
        "\n",
        "```\n",
        "b = a[3:]\n",
        "print('이전:',b) #이전: ['d','e','f','g','h']\n",
        "b[1]=99\n",
        "print('이후':,b) #이후:['d',99,'f','g','h']\n",
        "print('변화 없음:',a) #['a','b','c','d','g','h']\n",
        "```\n",
        "\n",
        "\n",
        "\n"
      ],
      "metadata": {
        "id": "m9yUHjNL_0aj"
      }
    },
    {
      "cell_type": "code",
      "execution_count": null,
      "metadata": {
        "id": "h6YFERJK-HL5"
      },
      "outputs": [],
      "source": [
        ""
      ]
    }
  ]
}