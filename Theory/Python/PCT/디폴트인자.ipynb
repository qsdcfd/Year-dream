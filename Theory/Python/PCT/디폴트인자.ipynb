{
  "nbformat": 4,
  "nbformat_minor": 0,
  "metadata": {
    "colab": {
      "name": "디폴트인자",
      "provenance": [],
      "authorship_tag": "ABX9TyPfrdMUZ5lgMSqM5XAxhOb+"
    },
    "kernelspec": {
      "name": "python3",
      "display_name": "Python 3"
    },
    "language_info": {
      "name": "python"
    }
  },
  "cells": [
    {
      "cell_type": "markdown",
      "source": [
        "## None과 독스트링을 사용해서 동적인 디폴트인자 지정"
      ],
      "metadata": {
        "id": "6uSyNMOWUfh8"
      }
    },
    {
      "cell_type": "markdown",
      "source": [
        "**함수 호출 시간 포함 with 독스트링**\n",
        "\n",
        "```\n",
        "def log(message, when=None):\n",
        "    \"\"\"메시지와 타임스탬프를 로그에 남긴다.\n",
        "\n",
        "    Args:\n",
        "        message: 출력할 메시지\n",
        "        when: 메시지가 발생한 시각(datetime),\n",
        "        디폴트값은 현재 시간이다.\n",
        "    \"\"\"\n",
        "\n",
        "    if when is None:\n",
        "        when = datetime.now()\n",
        "    print(f'{when}:{message}')\n",
        "\n",
        "log('안녕!')# 2020-08-18 12:06:27.168446: 안녕!\n",
        "sleep(0.1)\n",
        "log('다시 안녕!') # 2020-08-18 12:06:27.274338: 다시 안녕!\n",
        "```\n",
        "<br>\n",
        "\n",
        "**보통 파이썬 사용은 디폴트 값으로 None지정 후 실제 동작을 독스트링에 문서화**\n",
        "\n",
        "\n",
        "\n",
        "```\n",
        "def log(message, when=None):\n",
        "    \"\"\"메시지와 타임스탬프를 로그에 남긴다.\n",
        "\n",
        "    Args:\n",
        "        message:출력할 메시지.\n",
        "        when: 메시지가 발생한 시각\n",
        "            디폴트 값은 현재 시간이다.\n",
        "    \"\"\"\n",
        "    if when is None:\n",
        "        when = datetime.now()\n",
        "    print(f{'when}:{message}')\n",
        "\n",
        "log('안녕!')# 2020-08-18 12:06:27.168446: 안녕!\n",
        "log('다시 안녕!') # 2020-08-18 12:06:27.274338: 다시 안녕!\n",
        "```\n",
        "\n",
        "\n",
        "<br>\n",
        "\n",
        "**인자가 가변적인 경우 디폴트값으로 None을 사용하는 것이 중요하다**\n",
        "\n",
        "- 인코딩 값을 읽으려고 할 때 디코딩 실패 시 빈 딕셔너리 반환\n",
        "\n",
        "\n",
        "\n",
        "```\n",
        "import json\n",
        "\n",
        "def decode(data, default={}):\n",
        "    try:\n",
        "        return json, loads(data)\n",
        "    except ValueError:\n",
        "        return default\n",
        "```\n",
        "\n",
        "<br>\n",
        "\n",
        "**한 쪽 딕셔너리만 변경이 되고 싶게 할 때**\n",
        "\n",
        "```\n",
        "#해답은 함수에 있는 키워드 인자의 디폴트값으러 None으로 지정\n",
        "\n",
        "def decode(data, default=None):\n",
        "    \"\"\"문자열로부터 Json 데이터를 읽어온다\n",
        "\n",
        "    Args:\n",
        "        data: 디코딩할 JSON데이터\n",
        "        default: 디코딩 실패 시 반환할 값이다.\n",
        "            디폴트 값은 빈 딕셔너리이다.\n",
        "    \"\"\"\n",
        "    try:\n",
        "        return json.loads(data)\n",
        "    except ValueError:\n",
        "        if default is None:\n",
        "            default = {}\n",
        "        return default\n",
        "```\n",
        "\n",
        "\n",
        "\n"
      ],
      "metadata": {
        "id": "kWHNsQz1UksH"
      }
    }
  ]
}