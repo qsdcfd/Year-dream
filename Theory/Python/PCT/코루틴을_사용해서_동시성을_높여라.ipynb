{
  "nbformat": 4,
  "nbformat_minor": 0,
  "metadata": {
    "colab": {
      "name": "코루틴을 사용해서 동시성을 높여라",
      "provenance": [],
      "authorship_tag": "ABX9TyPFqa+MWBV3DRkdz7GYZhJ5"
    },
    "kernelspec": {
      "name": "python3",
      "display_name": "Python 3"
    },
    "language_info": {
      "name": "python"
    }
  },
  "cells": [
    {
      "cell_type": "markdown",
      "source": [
        "# I/O를 할 때는 코루틴을 사용해 동시성을 높여라"
      ],
      "metadata": {
        "id": "2Ab8KiYNKoP4"
      }
    },
    {
      "cell_type": "markdown",
      "source": [
        "**요구사항마다 팬아웃 팬인을 하면 안된다.!!!!**\n",
        "\n",
        "<br>\n",
        "\n",
        "**해결: 코루틴을 사용한다.**\n",
        "\n",
        "- 동시성을 활용하는 함수 사용\n",
        "\n",
        "- async와 await 키워드를 사용하여 구현\n",
        "\n",
        "- 제너레이터 실행을 위한 인프라 구축\n",
        "\n",
        "- 코루틴 시작 비용은 함수 호출\n",
        "\n",
        "   - 종료할 때까지 1kb미만의 메메모리 사용\n",
        "   - await식에서 일시 중단 후 대기 가능성 상태\n",
        "   - 해결 후 async함수로부터 실행 재개"
      ],
      "metadata": {
        "id": "uGo7SBMsLcLe"
      }
    },
    {
      "cell_type": "code",
      "source": [
        "#구현 방식\n",
        "\n",
        "ALIVE = '*'\n",
        "EMPTY = '-'\n",
        "\n",
        "class Grid:\n",
        "    ...\n",
        "\n",
        "def count_neighbors(y,x,get):\n",
        "    ...\n",
        "\n",
        "async def game_logic(state, neighbors):\n",
        "    ...\n",
        "    #여기서 I/O수행\n",
        "    data = await my_socket.read(50)\n",
        "    ...\n",
        "\n",
        "\n",
        "#step_cell의 정의에서 def 추가 후 game_logic 호출 앞에 await 덧붙이면 코루틴\n",
        "\n",
        "async def step_cell(y,x, get, set):\n",
        "    state = get(y,x)\n",
        "    neighbors = count_neighbors(y,x,get)\n",
        "    next_state = await game_logic(state, neighbors)\n",
        "    set(y,x, next_state)\n",
        "\n",
        "#simulate 함수도 코루틴 만들기\n",
        "import asyncio\n",
        "\n",
        "async def simulate(grid):\n",
        "    next_grid = Grid(grid.height, grid.width)\n",
        "\n",
        "    tasks = []\n",
        "    for y i range(grid.height):\n",
        "        for x in range(grid.width):\n",
        "            task = step_cell(\n",
        "                y, x, grid.get, next_grid.set) #팬아웃\n",
        "            tasks.append(task)\n",
        "\n",
        "    await asyncio.gather(*tasks) #팬인\n",
        "\n",
        "    return next_grid"
      ],
      "metadata": {
        "id": "325PPWT8O4yT"
      },
      "execution_count": null,
      "outputs": []
    },
    {
      "cell_type": "markdown",
      "source": [
        "### simulate 함수의 코루틴 버전 확인\n",
        "\n",
        "- step_cell을 호출해도 즉시되지 않고 나중에 coroutine 인스턴스를 반환하여 await식 사용\n",
        "\n",
        "- asyncio 내장 라이브러리가 제공하는 gather 함수는 팬인 수행\n",
        "\n",
        "- 모든 실행이 단일 스레드에서 이뤄지고 Grid 인스턴스에 락을 사용할 필요가 없다."
      ],
      "metadata": {
        "id": "5iNxmu43Rws2"
      }
    },
    {
      "cell_type": "code",
      "source": [
        "#기존 것에서 한 줄 추가하여 코루틴 실행\n",
        "\n",
        "class ColumnPrinter:\n",
        "    ...\n",
        "\n",
        "columns = ColumnPrinter()\n",
        "for i in range(5):\n",
        "    columns.append(str(grid))\n",
        "    grid = asyncio.run(simulate(grid)) #이벤트 루프 실행\n",
        "\n",
        "print(columns)"
      ],
      "metadata": {
        "id": "pATX1xbwSDTT"
      },
      "execution_count": null,
      "outputs": []
    },
    {
      "cell_type": "code",
      "source": [
        "#디버깅\n",
        "\n",
        "async def game_logic(state, neighbors):\n",
        "    ...\n",
        "    raise OSError('I.O 문제 발생')\n",
        "    ...\n",
        "\n",
        "asyncio.run(game_logic(ALIVE,3))"
      ],
      "metadata": {
        "id": "HLxSPtFRSdWd"
      },
      "execution_count": null,
      "outputs": []
    },
    {
      "cell_type": "code",
      "source": [
        "#await와 await를 붙이면 요구사항 달성\n",
        "\n",
        "async def count_neighbors(y,x,get):\n",
        "    ...\n",
        "\n",
        "async def step_cell(y,x,get, set):\n",
        "    state = get(y,x)\n",
        "    neighbors = await count_neighbots(y,x,get)\n",
        "\n",
        "    next_state = await game_logic(state, neighbors)\n",
        "    set(y, x, next_state)\n"
      ],
      "metadata": {
        "id": "dn29mSx9SpnB"
      },
      "execution_count": null,
      "outputs": []
    },
    {
      "cell_type": "markdown",
      "source": [
        "## Summary\n",
        "\n",
        "- async 키워드로 정의한 함수를 코루틴\n",
        "\n",
        "- 코루틴을 호출하는 호출자는 awiat 키워드를 사용해서 자신이 의존하는 코루틴의 결과를 받을 수 있다.\n",
        "\n",
        "- I/O를 병렬화하면서 스레드로 I/O를 수행할 때 발생할 수 있는 문제 극복"
      ],
      "metadata": {
        "id": "u03rgKcDUVzi"
      }
    },
    {
      "cell_type": "code",
      "source": [
        ""
      ],
      "metadata": {
        "id": "jvKjH3nAWdpU"
      },
      "execution_count": null,
      "outputs": []
    }
  ]
}