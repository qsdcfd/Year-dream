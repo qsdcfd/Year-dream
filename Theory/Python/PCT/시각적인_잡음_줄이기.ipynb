{
  "nbformat": 4,
  "nbformat_minor": 0,
  "metadata": {
    "colab": {
      "name": "시각적인 잡음 줄이기",
      "provenance": [],
      "authorship_tag": "ABX9TyOBTYxoqh+0GWqBNbBz4GTr"
    },
    "kernelspec": {
      "name": "python3",
      "display_name": "Python 3"
    },
    "language_info": {
      "name": "python"
    }
  },
  "cells": [
    {
      "cell_type": "markdown",
      "source": [
        "## 변수 위치 인자를 사용해 시각적인 잡음을 줄여라"
      ],
      "metadata": {
        "id": "0h4lROGRxYoT"
      }
    },
    {
      "cell_type": "markdown",
      "source": [
        "**위치 인자(가변 인자(varargs), 스타인자(star args)**\n",
        "\n",
        "- 함수의 호출이 깔끔해진다.\n",
        "\n",
        "- 시각적 잡음이 줄어든다.\n",
        "\n",
        "<br>\n",
        "\n",
        "**활용 예시**\n",
        "\n",
        "*1. 디버깅 정보를 로그에 남기고 싶다.(인자 수가 고정되어있고 메시지와 값의 list를 받는 함수 필요*\n",
        "\n",
        "```\n",
        "#기존: 코드의 잡음이 많다.\n",
        "def log(message, values):\n",
        "    if not values:\n",
        "        print(message)\n",
        "    else:\n",
        "        values_str = ','.join(str(x) for x in values)\n",
        "        print(f'{message}: {values_str}')\n",
        "\n",
        "log('내 숫자는', [1,2])\n",
        "log('안녕', [])\n",
        "\n",
        "#스타인자 활용: 빈리스트 버리기\n",
        "def log(message, *values):\n",
        "    if not values:\n",
        "        print(message)\n",
        "    else:\n",
        "        values_str = ','.join(str(x) for x in values)\n",
        "        print(f'{message}: {values_str}')\n",
        "\n",
        "log('내 숫자는', 1,2)\n",
        "log('안녕')\n",
        "\n",
        "```\n",
        "\n",
        "\n",
        "\n",
        "\n",
        "\n",
        "\n",
        "\n"
      ],
      "metadata": {
        "id": "zNuwJXA_xb26"
      }
    },
    {
      "cell_type": "markdown",
      "source": [
        "**가변적인 위치 인자의 단점**\n",
        "\n",
        "- 선택적인 위치 인자가 함수에 전달되기 전에 항상 튜플로 변환\n",
        "\n",
        "- 함수를 호출하는 쪽에서 제너레이터 앞에 * 연산자를 사용하여 모든 원소를 얻기 위해 반복\n",
        "\n",
        "- 메모리 소모가 심해진다.\n",
        "\n",
        "```\n",
        "def my_generator():\n",
        "    for i in range(10):\n",
        "        yield i\n",
        "\n",
        "\n",
        "def my_func(*args):\n",
        "    print(args)\n",
        "\n",
        "it = my_generator()\n",
        "\n",
        "my_func(*it)\n",
        "\n",
        "#(0,1,2,3,4,5,6,7,8,9)\n",
        "```\n",
        "\n",
        "- 위의 코드 방식을 쓸 때\n",
        "\n",
        "   - 인자의 개수가 충분히 작은 경우\n",
        "\n",
        "   "
      ],
      "metadata": {
        "id": "GsjUJrzsy4Yw"
      }
    },
    {
      "cell_type": "markdown",
      "source": [
        "**가변적인 위치 인자의 단점 2**\n",
        "\n",
        "- 함수에 새로운 위치 인자를 추가하면 해당 함수를 호출하는 모든 코드 변경\n",
        "\n",
        "   - 이미 가변인자가 존재하는 함수 인자 목록의 앞부분에 위치 인자 추가 시도\n",
        "\n",
        "   - 기존 호출코드를 변경하지 않았다면 미묘하게 깨질 수 있다.\n",
        "\n",
        "- 위외 같은 이유로 버그 추적이 어렵기에 키워드 기반의 인자만을 사용하ㅓ나 타입 애너테이션을 활용\n",
        "\n",
        "\n",
        "\n",
        "```\n",
        "def log(sequence, message, *values):\n",
        "    if not values:\n",
        "        print(f'{sequence}-{message}')\n",
        "    else:\n",
        "        values_str = ','.join(str(x) for x in values)\n",
        "        print(f'{sequence} - {message}: {values_str}')\n",
        "\n",
        "log(1, '좋아하는 숫자는', 7,33)#새코드에서 사용, 문제없음\n",
        "log(1, '안녕') #메세지만 사용 문제 없음\n",
        "\n",
        "log('좋아하는 숫자는',7,33) #예전방식 코드 깨짐\n",
        "```\n",
        "\n"
      ],
      "metadata": {
        "id": "3HXsluvrFI1k"
      }
    },
    {
      "cell_type": "code",
      "source": [
        ""
      ],
      "metadata": {
        "id": "e0OGj0anFj8m"
      },
      "execution_count": null,
      "outputs": []
    }
  ]
}