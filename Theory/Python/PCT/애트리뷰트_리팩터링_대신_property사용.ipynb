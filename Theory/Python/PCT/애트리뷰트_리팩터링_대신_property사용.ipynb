{
  "nbformat": 4,
  "nbformat_minor": 0,
  "metadata": {
    "colab": {
      "name": "애트리뷰트 리팩터링 대신 @property사용",
      "provenance": [],
      "authorship_tag": "ABX9TyNXD0rSq0kNOg5SdpJ4maWp"
    },
    "kernelspec": {
      "name": "python3",
      "display_name": "Python 3"
    },
    "language_info": {
      "name": "python"
    }
  },
  "cells": [
    {
      "cell_type": "markdown",
      "source": [
        "**@property 데코레이터 사용**\n",
        "\n",
        "- 지능적인 로직을 수행하는 애트리뷰트 정의가 가능\n",
        "\n",
        "   - 요청에 맞게 애트리뷰트를 바꿀 수 있다.\n",
        "\n",
        "   - 클래스의 내 코드를 바꾸지 않고 동작 변경이 가능"
      ],
      "metadata": {
        "id": "ggiwKDlIEYGq"
      }
    },
    {
      "cell_type": "code",
      "source": [
        "#leaky bucket 흐름 제어 알고리즘\n",
        "\n",
        "from datetime import datetime, timedelta\n",
        "\n",
        "class Bucket:\n",
        "    def __init__(self, period):\n",
        "        self.period_delta = timedelta(seconds = period)\n",
        "        self.reset_time = datetime.now()\n",
        "        self.quota = 0\n",
        "\n",
        "    def __repr__(self):\n",
        "        return f'Bucket(quota={self.quota})'\n",
        "\n",
        "\"\"\"\n",
        "이 알고리즘은 시간을 일정한 간격으로 구분하여 가용 용량을 소비할 때마다 시간을 검사\n",
        "주기가 달라질 경우 이전 주기에 미사용한 가용 용량이 새로운 주기로 넘진 못하게 한다.\n",
        "\"\"\"\n",
        "\n"
      ],
      "metadata": {
        "colab": {
          "base_uri": "https://localhost:8080/",
          "height": 35
        },
        "id": "3GEZmqg9EqFK",
        "outputId": "2f5badf9-c028-4d14-9c51-65f06e21e56f"
      },
      "execution_count": 1,
      "outputs": [
        {
          "output_type": "execute_result",
          "data": {
            "text/plain": [
              "'\\n이 알고리즘은 시간을 일정한 간격으로 구분하여 가용 용량을 소비할 때마다 시간을 검사\\n주기가 달라질 경우 이전 주기에 미사용한 가용 용량이 새로운 주기로 넘진 못하게 한다.\\n'"
            ],
            "application/vnd.google.colaboratory.intrinsic+json": {
              "type": "string"
            }
          },
          "metadata": {},
          "execution_count": 1
        }
      ]
    },
    {
      "cell_type": "code",
      "source": [
        "def fill(bucket, amount):\n",
        "    now = datetime.now()\n",
        "    if (now - bucket.reset_time) > bucket.period_delta:\n",
        "        bucket.quota = 0\n",
        "        bucket.reset_time = now\n",
        "    bucket.quota += amount\n",
        "\n",
        "def deduct(bucket, amount):\n",
        "    now = datetime.now()\n",
        "    if (now - bucket.reset_time) > bucket.period_delta:\n",
        "        return False # 새 주기가 시작되었지만 버킷 할당량이 재설정되진 않음\n",
        "    if bucket.quota - amount < 0:\n",
        "        return False #  버킷의 가용 용량이 충분하지 못하다\n",
        "\n",
        "    else:\n",
        "        bucket.quota -= amount\n",
        "        return True # 버킷의 가용 용량이 충분하므로 필요한 분량 사용"
      ],
      "metadata": {
        "id": "U4D7UTKtFiGO"
      },
      "execution_count": 2,
      "outputs": []
    },
    {
      "cell_type": "markdown",
      "source": [
        "위의 구현 문제는 버킷 시작 시 가용 용량이 얼마인지 알 수 없다는 점이다."
      ],
      "metadata": {
        "id": "94l2dWXvGKc_"
      }
    },
    {
      "cell_type": "code",
      "source": [
        "#주기에 재설정된 가용 용량인 MAX_quota와 소비한 용량의 합계인 quota_consumed 추적\n",
        "class NewBucket:\n",
        "    def __init__(self, period):\n",
        "        self.period_delta = timedelta(seconds = period)\n",
        "        self.reset_time = datetime.now()\n",
        "        self.max_quota = 0\n",
        "        self.quota_consumed = 0\n",
        "\n",
        "    def __repr__(self):\n",
        "        return (f'NewBucket(max_quota={self.max_quota}), '\n",
        "                f'quota_consumed = {self.quota_consumed})')    "
      ],
      "metadata": {
        "id": "f-w1we9BGHCS"
      },
      "execution_count": 3,
      "outputs": []
    },
    {
      "cell_type": "code",
      "source": [
        "#fill 과 deduct함수가 quota 매트리뷰트에 값을 할당할 시 NewBucket 클래스의 혀냊 사용 방식\n",
        "\n",
        "@property\n",
        "\n",
        "def quota(self):\n",
        "    return self.max_quota - self.quota_consumed"
      ],
      "metadata": {
        "id": "pi5ornq9Gx6q"
      },
      "execution_count": 4,
      "outputs": []
    },
    {
      "cell_type": "markdown",
      "source": [
        "- @property를 사용해서 기존 인스턴스 애트리뷰트에 새로운 기능 제공\n",
        "\n",
        "- @property를 사용해서 데이터 모델을 점진적으로 개선\n",
        "\n",
        "- @property 메서드를 너무 과하게 쓰고 있다면, 클래스와 클래스를 사용하는 모든 코드 리팩터링"
      ],
      "metadata": {
        "id": "R-fA5MUxHEjn"
      }
    },
    {
      "cell_type": "code",
      "source": [
        ""
      ],
      "metadata": {
        "id": "2XcwgGuGHVTp"
      },
      "execution_count": null,
      "outputs": []
    }
  ]
}