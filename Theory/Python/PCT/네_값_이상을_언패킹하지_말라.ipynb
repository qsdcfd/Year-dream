{
  "nbformat": 4,
  "nbformat_minor": 0,
  "metadata": {
    "colab": {
      "name": "네 값 이상을 언패킹하지 말라",
      "provenance": [],
      "authorship_tag": "ABX9TyOqc2Mf05DRyVY2qTvKnw8Z"
    },
    "kernelspec": {
      "name": "python3",
      "display_name": "Python 3"
    },
    "language_info": {
      "name": "python"
    }
  },
  "cells": [
    {
      "cell_type": "markdown",
      "source": [
        "## 함수가 여러 값을 반환하는 경우 절대로 네 값 이상을 언패킹하지 말라"
      ],
      "metadata": {
        "id": "yPGsh9YXcumm"
      }
    },
    {
      "cell_type": "markdown",
      "source": [
        "\n",
        "**반환하거나 언패킹 시 값이나 변수가 네 개일 경우 불편함**\n",
        "\n",
        "```\n",
        "def get_stats(number):\n",
        "    minimum = min(numbers)\n",
        "    maximum = max(numbers)\n",
        "    count = len(numbers)\n",
        "    average = sum(numbers) / count\n",
        "\n",
        "    sorted_numbers = sorted(numbers)\n",
        "    middle = count //2\n",
        "    if count % 2 == 0:\n",
        "        lower = sorted_numbers[middle - 1]\n",
        "        upper = sorted_numbers[middle]\n",
        "        median = (lower+upper)//2\n",
        "    else:\n",
        "        median = sorted_numbers[middle]\n",
        "    \n",
        "    return minimum, maximum, average, median, count\n",
        "\n",
        "minimum, maximum, average, median, count = get_stats(lengths)\n",
        "\n",
        "print(f'최소 길이: {minimum}, 최대 길이: {maximum}')\n",
        "print(f'평균: {average}, 중앙값:{median}, 개수:{count}')\n",
        "```\n",
        "\n",
        "- 위 코드의 문제점\n",
        "\n",
        "   - 호출부분과 반환 값을 언패킹하는 부분이 길다.\n",
        "   - 가독성이 나쁘다"
      ],
      "metadata": {
        "id": "5xXFJWnMknNx"
      }
    },
    {
      "cell_type": "code",
      "source": [
        ""
      ],
      "metadata": {
        "id": "NcWATZr9mY-w"
      },
      "execution_count": null,
      "outputs": []
    }
  ]
}