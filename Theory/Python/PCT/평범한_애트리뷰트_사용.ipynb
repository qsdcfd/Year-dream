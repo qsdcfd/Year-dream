{
  "nbformat": 4,
  "nbformat_minor": 0,
  "metadata": {
    "colab": {
      "name": "평범한 애트리뷰트 사용",
      "provenance": [],
      "authorship_tag": "ABX9TyPmGtSktSKAxxtGRNbZdnsb"
    },
    "kernelspec": {
      "name": "python3",
      "display_name": "Python 3"
    },
    "language_info": {
      "name": "python"
    }
  },
  "cells": [
    {
      "cell_type": "markdown",
      "source": [
        "\n",
        "## 세터와 게테 메서드 대신 평범한 애트리뷰트를 사용하라\n",
        "\n",
        "*이탤릭체 텍스트*\n",
        "\n"
      ],
      "metadata": {
        "id": "MAh96hqONQgM"
      }
    },
    {
      "cell_type": "code",
      "source": [
        "#클래스에 게터나 세터 메서드 정의\n",
        "#장점: 캡슐화 가능, 필드 사용 검증, 경계 설정 쉬워짐\n",
        "#그러나 파이썬 답진 않다\n",
        "\n",
        "class OldResistor:\n",
        "    def __init__(self, ohms):\n",
        "        self._ohms = ohms\n",
        "\n",
        "    def get_ohms(self):\n",
        "        return self._ohms\n",
        "\n",
        "    def set_ohms(self, ohms):\n",
        "        self._ohms = ohms"
      ],
      "metadata": {
        "id": "UhG6d3u7NXBq"
      },
      "execution_count": 1,
      "outputs": []
    },
    {
      "cell_type": "code",
      "source": [
        "#명시적으로 세터와 게터를 말할 필요가 없다\n",
        "class Resistor:\n",
        "    def __init__(self, ohms):\n",
        "        self.ohms = ohms\n",
        "        self.voltage = 0\n",
        "        self.current = 0\n",
        "\n",
        "r1 = Resistor(50e3)\n",
        "r1.ohms = 10e3\n",
        "r1.ohms += 5e3 #필드 제자리 증가 쉬움\n",
        "r1"
      ],
      "metadata": {
        "colab": {
          "base_uri": "https://localhost:8080/"
        },
        "id": "naI-8RMQNxI6",
        "outputId": "0e36566b-e97d-4f3e-9406-3f6325636e41"
      },
      "execution_count": 5,
      "outputs": [
        {
          "output_type": "execute_result",
          "data": {
            "text/plain": [
              "<__main__.Resistor at 0x7fca060491d0>"
            ]
          },
          "metadata": {},
          "execution_count": 5
        }
      ]
    },
    {
      "cell_type": "code",
      "source": [
        "#애트리뷰트 설정 시 특별 기능 수행\n",
        "#애트리뷰트를 @property 데코레이터 사용\n",
        "\"\"\"\n",
        "1.setter 애트리뷰트 옮기기\n",
        "2.새 하위 클래스 만든다.\n",
        "3.Registor에서 voltage프로퍼터 값 대입\n",
        "4. current값 변화\n",
        "5. 세터와 게터의 이름이 우리가 의도한 프로퍼티 이름과 일치\n",
        "\"\"\"\n",
        "\n",
        "class VoltageResistance(Resistor):\n",
        "    def __init__(self, ohms):\n",
        "        super().__init__(ohms)\n",
        "        self._voltage = 0\n",
        "\n",
        "    @property\n",
        "    def voltage(self):\n",
        "        return self._voltage\n",
        "\n",
        "    @voltage.setter\n",
        "    def voltage(self, voltage):\n",
        "        self._voltage = voltage\n",
        "        self.current = self._voltage / self.ohms\n",
        "\n",
        "#세터 메서드가 호출되고, 이 메서드는 객체의 current 애트리뷰트를 변경된 전압 값 갱신"
      ],
      "metadata": {
        "id": "OtcTZ_40Oa3e"
      },
      "execution_count": 6,
      "outputs": []
    },
    {
      "cell_type": "code",
      "source": [
        "#setter지정하면 타입 검사나 클래스 값 검증 가능\n",
        "\n",
        "class BoundedResistance(Resistor):\n",
        "    def __init__(self, ohms):\n",
        "        super().__init__(ohms)\n",
        "\n",
        "    @property\n",
        "    def ohms(self):\n",
        "        return self.ohms\n",
        "\n",
        "    @ohms.setter\n",
        "    def ohms(self, ohms):\n",
        "        if ohms <= 0 :\n",
        "            raise ValueError(f' 저항 > 0이어야 합니다. 실제 값: {ohms}')\n",
        "        self._ohms = ohms"
      ],
      "metadata": {
        "id": "78RpssnuP2Q9"
      },
      "execution_count": 7,
      "outputs": []
    },
    {
      "cell_type": "code",
      "source": [
        "# '@property 메서드를 활용하여 게터나 세터 구현이 예기치 않은 동작 실행 안함\n",
        "class MysteriousResistor(Resistor):\n",
        "    @property\n",
        "    def ohms(self):\n",
        "        self.voltage = self._ohms *self.current\n",
        "        return self._ohms\n",
        "\n",
        "    @ohms.setter\n",
        "    def ohms(self, ohms):\n",
        "        self._ohms = ohms"
      ],
      "metadata": {
        "id": "RPn2BOrvQSAD"
      },
      "execution_count": 8,
      "outputs": []
    },
    {
      "cell_type": "markdown",
      "source": [
        ""
      ],
      "metadata": {
        "id": "5nC0Nu4wQ0iu"
      }
    }
  ]
}