{
  "nbformat": 4,
  "nbformat_minor": 0,
  "metadata": {
    "colab": {
      "name": "contextlib와 with 문을 사용하라",
      "provenance": [],
      "authorship_tag": "ABX9TyNvg5xN6v+YXp+izMPcleca"
    },
    "kernelspec": {
      "name": "python3",
      "display_name": "Python 3"
    },
    "language_info": {
      "name": "python"
    }
  },
  "cells": [
    {
      "cell_type": "markdown",
      "source": [
        "## 재사용 가능한 try/finally 동작을 원한다면 contextlib과 with문을 사용하라\n",
        "\n",
        "- with문은 코드가 특별한 컨텍스트 안에서 실행되는 경우 표현\n",
        "\n",
        "- 컨텍스트 매니저를 정의하면 함수의 로그 수준을 일시적으로 높임\n",
        "\n",
        "- 도우미 함수는 with 블록을 실행하기 직전에 로그 심각성 수준을 높이고, 블록을 실행한 직후에 심각성 수준을 이전 수준으로 회복"
      ],
      "metadata": {
        "id": "ljWV7e3C5vOI"
      }
    },
    {
      "cell_type": "code",
      "source": [
        "from contextlib import contextmanager\n",
        "\n",
        "@contextmanager\n",
        "def debug_logging(level):\n",
        "    logger = logging.getLogger()\n",
        "    old_level =  logger.getEffectiveLevel()\n",
        "    logger.setLevel(level)\n",
        "    try:\n",
        "        yield #yield식은 with 블록의 내용이 실행되는 부분을 지정\n",
        "    finally:\n",
        "        logger.setLevel(old_level) #이 도우미 함수를 통해서 yield식에 발생될 예외 잡기"
      ],
      "metadata": {
        "id": "2fa9inHH6RBg"
      },
      "execution_count": null,
      "outputs": []
    },
    {
      "cell_type": "markdown",
      "source": [
        "**with와 대상 변수 함께 사용하기**\n",
        "\n",
        "- 컨텍스트 매니저가 객체 반환\n",
        "\n",
        "   - with 복합문의 일부로 지정된 지역 변수에 대입\n",
        "   - with블록 안에서 실행되는 코드가 직접 컨텍스트 객체와 상호작용"
      ],
      "metadata": {
        "id": "9x-H_58N7XgL"
      }
    },
    {
      "cell_type": "code",
      "source": [
        "#as대상 변수에게 값을 제공하도록 필요한 yield값 넘기기\n",
        "\n",
        "@contextmanager\n",
        "def log_level(level, name):\n",
        "    logger = logging.getLogger(name)\n",
        "    old_level = logger.getEffectiveLevel()\n",
        "    logger.setLevel(level)\n",
        "\n",
        "    try:\n",
        "        yield logger\n",
        "    finally:\n",
        "        logger.setLevel(old_level)\n",
        "\n",
        "#with 블록 내의 로그 심각성 수준이 낮게 설정되어있기에 디버깅 메시지 출력\n",
        "#logging모듈을 직접 사용하면 아무 메시지 출력 안됨\n",
        "\n",
        "with log_level(logging.DEBUG, 'my-log') as logger:\n",
        "    logger.debug(f'대상: {logger.name}!')\n",
        "    logging.debug('이 메시지는 출력되지 않습니다')"
      ],
      "metadata": {
        "id": "deWVhAgg7Z7A"
      },
      "execution_count": null,
      "outputs": []
    },
    {
      "cell_type": "markdown",
      "source": [
        "### Summary\n",
        "\n",
        "- with문을 사용하면 try/finally 블록을 통해서 사용해야하는 로직을 재활용하면서 시각적 잡음을 줄일 수 있다.\n",
        "\n",
        "- contextlib 내장 모듈이 제공하는 contextmanager데코레이터를 사용하면 여러분이 만든 함수를 with 문에 사용할 수 있다.\n",
        "\n",
        "- 컨텍스트 매니저가 yield하는 값은 with 문의 as부분에 전달되고 이를 활용하면 특별한 컨텍스트 내부에서 실행되는 코드 안에서 직접 그 컨텍스트에 접근할 수 있다."
      ],
      "metadata": {
        "id": "3OgW1yvs9I5z"
      }
    },
    {
      "cell_type": "code",
      "source": [
        ""
      ],
      "metadata": {
        "id": "KY0PPGb19cES"
      },
      "execution_count": null,
      "outputs": []
    }
  ]
}