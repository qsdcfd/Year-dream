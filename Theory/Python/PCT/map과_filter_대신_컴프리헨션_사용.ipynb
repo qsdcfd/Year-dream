{
  "nbformat": 4,
  "nbformat_minor": 0,
  "metadata": {
    "colab": {
      "name": "map과 filter 대신 컴프리헨션 사용",
      "provenance": [],
      "authorship_tag": "ABX9TyMC4VkD2X+Et++RdoiMfRBP"
    },
    "kernelspec": {
      "name": "python3",
      "display_name": "Python 3"
    },
    "language_info": {
      "name": "python"
    }
  },
  "cells": [
    {
      "cell_type": "markdown",
      "source": [
        "## 컴프리헤션과 제너레이터\n",
        "\n",
        "**컴프리헨션**\n",
        "\n",
        "- 리스트, 딕셔너리, 집합등 타입을 간결하게 이터레이션\n",
        "\n",
        "- 데이터 구조 생성\n",
        "\n",
        "- 가독성이 높아짐\n",
        "\n",
        "<br>\n",
        "\n",
        "**제너레이터**\n",
        "\n",
        "- 함수가 점진적으로 반환하는 값\n",
        "\n",
        "- for 루프, 별표 식, 이터레이터 사용\n",
        "\n",
        "- 제너레이터 함수 호출\n",
        "\n",
        "- 성능 향상 및 메모리 사용 줄이고 가독성 높이기"
      ],
      "metadata": {
        "id": "n8IMuOOozktE"
      }
    },
    {
      "cell_type": "markdown",
      "source": [
        "### map과 filter 대신 컴프리헤션 사용\n",
        "\n",
        "**리스트 컴프리헤션**\n",
        "\n",
        "- 시퀀스나 이터러블에서 새 리스트 만들기\n",
        "\n",
        "```\n",
        "#리스트 컴프리헨션 전\n",
        "a = [1,2,3,4,5,6,7,8,9,10]\n",
        "squares = []\n",
        "for x in a:\n",
        "    squares.append(x**2)\n",
        "print(squares)\n",
        "#[1,4,9,16,25,36,49,64,81,100]\n",
        "\n",
        "\n",
        "#리스트 컴프리헨션 후\n",
        "squares = [x**2 for x in a]\n",
        "print(squares)\n",
        "#[1,4,9,16,25,36,49,64,81,100]\n",
        "```\n",
        "\n",
        "<br>\n",
        "\n",
        "```\n",
        "even_squares = [x**2 for x in a if x % 2 ==0]\n",
        "print(even_squares)\n",
        "#[4,16,36,64,100]\n",
        "```\n",
        "<br>\n",
        "\n",
        "```\n",
        "#딕셔너리와 집합\n",
        "\n",
        "even_squares_dict = {x:x**2 for x in a if x % 2 ==0}\n",
        "threes_cubed_set = {x**3 for x in a if x % 3 ==0}\n",
        "print(even_squares_dict)\n",
        "print(threes_cubed_set)\n",
        "\n",
        "#{2:4, 4:16, 6:36, 8:64, 10:100}\n",
        "#{216,729,27}\n",
        "```\n",
        "\n",
        "\n"
      ],
      "metadata": {
        "id": "rFm7EX6s2lRi"
      }
    },
    {
      "cell_type": "code",
      "source": [
        ""
      ],
      "metadata": {
        "id": "_2xO0KSmNssR"
      },
      "execution_count": null,
      "outputs": []
    }
  ]
}