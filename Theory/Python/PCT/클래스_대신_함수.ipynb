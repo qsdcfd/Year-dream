{
  "nbformat": 4,
  "nbformat_minor": 0,
  "metadata": {
    "colab": {
      "name": "클래스 대신 함수",
      "provenance": [],
      "authorship_tag": "ABX9TyNKa5JfNGtlbuSLmavNIs+i"
    },
    "kernelspec": {
      "name": "python3",
      "display_name": "Python 3"
    },
    "language_info": {
      "name": "python"
    }
  },
  "cells": [
    {
      "cell_type": "markdown",
      "source": [
        "\n",
        "## 긴딘힌 인터페이스의 경우 클래스 대신 함수를 받아라"
      ],
      "metadata": {
        "id": "PVz26T1CB4V2"
      }
    },
    {
      "cell_type": "markdown",
      "source": [
        "**API의 함수를 변경하는 것: 훅**\n",
        "\n",
        "- 파이썬은 KEY파라미터를 활용하여 변경이 가능\n",
        "\n",
        "- 파이썬은 일급 시민 객체이다.\n",
        "\n",
        "   - 함수나 메서드를 다른 함수 혹은 변수로 참조 가능\n",
        "\n",
        "```\n",
        "# 디폴트 값이 훅이 존재하지 않는 키에 접근한 총 횟수\n",
        "# 클로저 , 도우미 함수 활용\n",
        "\n",
        "def increment_with_report(current, increments):\n",
        "    added_count = 0\n",
        "\n",
        "    def missing():\n",
        "        nonlocal added_count #상태가 있는 클로저\n",
        "        added_count +=1\n",
        "        return 0\n",
        "\n",
        "    result =  defaultdict(missing, current)\n",
        "    for key, amount in increments:\n",
        "        result[key] += amount\n",
        "\n",
        "    return result, added_count\n",
        "\n",
        "result, count =  increment_with_report(current, increments)\n",
        "assert count ==2\n",
        "```\n",
        "\n",
        "\n",
        "<br>\n",
        "\n",
        "```\n",
        "#클래스의 명목화\n",
        "\n",
        "#defaultdict의 디폴트 값 훅으로 사용해서 존재하지 않는 키에 접근한 횟수 추적\n",
        "\n",
        "\"\"\"\n",
        "모든 객체를 호출 가능한 객체\n",
        "\"\"\"\n",
        "\n",
        "class BetterCountMissing:\n",
        "    def __init__(self):\n",
        "        self.added = 0\n",
        "    \n",
        "    def __call__(self):\n",
        "        self.added = 1\n",
        "        return 0\n",
        "\n",
        "counter =  BetterCountMissing()\n",
        "assert counter() == 0\n",
        "assert callable(counter)\n",
        "\n",
        "counter = BetterCountMissing()\n",
        "result = defaultdict(counter, current) #__call__에 의존\n",
        "for key, amount in increments:\n",
        "    result[key] += amount\n",
        "assert counter.added == 2\n",
        "```\n",
        "\n"
      ],
      "metadata": {
        "id": "QTuAUhsWB8hx"
      }
    },
    {
      "cell_type": "markdown",
      "source": [
        "### Summary\n",
        "\n",
        "- 파이썬의 여러 컴포넌트 사이에 간단한 인터페이스가 필요할 때는 클래스를 정의하고 인스턴스화하는 대신 간단한 함수 사용\n",
        "\n",
        "- 파이썬 함수나 메서드는 일급 시민으로 함수나 함수 참조를 식에 사용\n",
        "\n",
        "- __call__특별 메서드를 사용하면 클래스의 인스턴스인 객체를 일반 파이썬 함수처럼 호출\n",
        "\n",
        "- 상태를 유지하기 위해서 함수가 필요한 경우 상태있는 클로저를 정의하는 대신 __call__메서드가 있는 클래스 정의\n"
      ],
      "metadata": {
        "id": "rQrEwzJnEi5k"
      }
    },
    {
      "cell_type": "code",
      "source": [
        ""
      ],
      "metadata": {
        "id": "ZihhNSEJE4fF"
      },
      "execution_count": null,
      "outputs": []
    }
  ]
}