{
  "nbformat": 4,
  "nbformat_minor": 0,
  "metadata": {
    "colab": {
      "name": "함수 호출 명확",
      "provenance": [],
      "authorship_tag": "ABX9TyO+x6JLBNu90VucLXczNgNk"
    },
    "kernelspec": {
      "name": "python3",
      "display_name": "Python 3"
    },
    "language_info": {
      "name": "python"
    }
  },
  "cells": [
    {
      "cell_type": "markdown",
      "source": [
        "## 위치로만 인자를 지정하게 하거나 키워드로만 인자를 지정하게 해서 함수 호출을 명확하게 만들라"
      ],
      "metadata": {
        "id": "wUWjllgr9H5n"
      }
    },
    {
      "cell_type": "markdown",
      "source": [
        "**키워드인자 사용 전**\n",
        "\n",
        "```\n",
        "#숫자를 나눌 때, 특별한 경우\n",
        "#ZeroDivisionError: 예외 무시 후 무한대 반환\n",
        "#OverflowError: 예외를 무시 후 0반환\n",
        "\"\"\"\n",
        "어떤 예외를 무시하고 결정하는 두 불 변수의 위치가 혼동되기 쉬워서 버그 추적이 어려워진다\n",
        "\"\"\"\n",
        "def safe_division(number, divisor,\n",
        "                  ignore_overflow,\n",
        "                  ignore_zero_division):\n",
        "    try:\n",
        "        return number / divisor\n",
        "    except OverflowError:\n",
        "        if ignore_overflow:\n",
        "            return 0\n",
        "        else:\n",
        "            raise\n",
        "    except ZeroDivisionError:\n",
        "        if ignore_zero_division:\n",
        "            return float('inf')\n",
        "        else:\n",
        "            raise\n",
        "\n",
        "```\n",
        "\n",
        "<br>\n",
        "\n",
        "**키워드인자 사용 후**\n",
        "\n",
        "- 선택사항이므로 예전 방식으로도 호출이 가능\n",
        "\n",
        "\n",
        "```\n",
        "\"\"\"\n",
        "버그 추적이 쉬워지고 코드의 가독성 향상\n",
        "모든 예외를 다시 던진다\n",
        "\n",
        "키워드 인자를 사용하면 무시할 예외를 정하는 플래그 설정\n",
        "\"\"\"\n",
        "def safe_division_b(number, divisor,\n",
        "                    ignore_overflow =False,\n",
        "                    ignore_zero_divison=False)\n",
        "\n",
        "\n",
        "```\n",
        "\n",
        "<br>\n",
        "\n",
        "**복잡한 함수 속 키워드 인자 사용**\n",
        "\n",
        "- 호출자가 키워드만 사용하는 인자를 통해 의도 명목화\n",
        "\n",
        "- 키워드만 사용하는 인자는 반드시 사용지정\n",
        "\n",
        "- 절대위치를 기반으로 지정 안됨\n",
        "\n",
        "\n",
        "```\n",
        "\"\"\"\n",
        "ndigits는 위치나 키워드를 사용해서 전달할 수 있는 선택적 파라미터\n",
        "\n",
        "* : 키워드로만 지정해야하는 인자 목록에 위치\n",
        "/: 위치로만 지정해야하는 인자 앞에 위치\n",
        "/와 * 사이에 파라미터 키워드를 사용해서 전달 혹은 위치 기반으로 전달\n",
        "\n",
        "\"\"\"\n",
        "def safe_division_e(numerator, denominator, /,\n",
        "                    ndigits=10,*,\n",
        "                    ignore_overflow =False,\n",
        "                    ignore_zero_divison=False):\n",
        "    \n",
        "    try:\n",
        "        fraction = numerator / denominator\n",
        "        return round(fraction, ndigits)\n",
        "    except OverflowError:\n",
        "        if ignore_overflow:\n",
        "            return 0\n",
        "        else:\n",
        "            raise\n",
        "    except ZeroDivisionError:\n",
        "        if ignore_zero_division:\n",
        "            return float('inf')\n",
        "        else:\n",
        "            raise\n",
        "\n",
        "\n",
        "```\n"
      ],
      "metadata": {
        "id": "qTB15q3Q9NbV"
      }
    },
    {
      "cell_type": "code",
      "source": [
        ""
      ],
      "metadata": {
        "id": "BsFstb2gECla"
      },
      "execution_count": null,
      "outputs": []
    }
  ]
}