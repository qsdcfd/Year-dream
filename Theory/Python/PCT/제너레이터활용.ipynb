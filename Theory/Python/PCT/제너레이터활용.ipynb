{
  "nbformat": 4,
  "nbformat_minor": 0,
  "metadata": {
    "colab": {
      "name": "제너레이터활용",
      "provenance": [],
      "authorship_tag": "ABX9TyNrxZ6B0w6zrMJkA2qMno3V"
    },
    "kernelspec": {
      "name": "python3",
      "display_name": "Python 3"
    },
    "language_info": {
      "name": "python"
    }
  },
  "cells": [
    {
      "cell_type": "markdown",
      "source": [
        "## 리스트를 반환하기보다는 제너레이터를 사용하라"
      ],
      "metadata": {
        "id": "Zo-P6LUamxJ1"
      }
    },
    {
      "cell_type": "markdown",
      "source": [
        "**시퀀스를 결과로 만들어내는 함수를 만들기**\n",
        "\n",
        "```\n",
        "#가장 간단한 방법\n",
        "\n",
        "\"\"\"\n",
        "코드의 잡음이 많아서 가독성을 해친다(핵심을 알아보기 어려움)\n",
        "잦은 메서드 호출로 리스틑에 추가될 값의 중요성 희석\n",
        "\"\"\"\n",
        "der index_words(text):\n",
        "    result = []\n",
        "    if text:\n",
        "        result.append(0)\n",
        "    for index, letter in enumerate(text):\n",
        "        if letter == ' ':\n",
        "            result.append(index+1)\n",
        "    return result\n",
        "\n",
        "#입력\n",
        "address = '컴퓨터(영어:Computer, 문화어:콤퓨터, 순화어: 전산기)는 진공관'\n",
        "result = index_words(address)\n",
        "print(result[:10]) \n",
        "#출력:[0,8,18,23,28,38]\n",
        "```\n",
        "\n",
        "<br>\n",
        "\n",
        "```\n",
        "#개선 방법: 제너레이터를 사용\n",
        "#yield 식을 사용하는 함수\n",
        "\n",
        "\"\"\"\n",
        "제너레이터 함수가 실제로 실행되지 않고 즉시 이터레이터를 반환\n",
        "next 내장 함수를 호출할 때마다 yield식까지 진행\n",
        "제너레이터는 yield에 전달하는 값은 이터레이터에 의해 호출하는 쪽에 반환\n",
        "\n",
        "it = index_words_iter(address)\n",
        "print(next(it)) # 0\n",
        "print(next(it)) # 8\n",
        "\n",
        "#결과\n",
        "result = list(index_words_iter(address))\n",
        "print(result[:10]) # [0,8,18,23,28,38]\n",
        "\"\"\"\n",
        "def index_words_iter(next):\n",
        "    if text:\n",
        "        yield 0 \n",
        "    for index,  letter in enumerat(text):\n",
        "        if letter == ' ':\n",
        "            yield index + 1\n",
        "```\n",
        "\n",
        "\n",
        "\n"
      ],
      "metadata": {
        "id": "8jQQgIqPml3P"
      }
    },
    {
      "cell_type": "markdown",
      "source": [
        " **메모리크기를 제한할 수 있다.**\n",
        "\n",
        "\n",
        "```\n",
        "#입력 중 가장 긴 줄의 길이 제한\n",
        "def index_file(handle):\n",
        "    offset = 0\n",
        "    for line in handle:\n",
        "        if line:\n",
        "            yield offset\n",
        "        for letter in line:\n",
        "            offset +=1\n",
        "            if lette = ' ':\n",
        "                yield offset \n",
        "```\n",
        "\n",
        "\n",
        "```\n",
        "#파일에 유니코드 문자가 들어간 경우\n",
        "#파일을 읽을 때 utf-8로 디코딩하도록 open에 인코딩 지정\n",
        "with open('address.txt', ' r', encoding = 'utf-8') as f:\n",
        "    it = index_file(f)\n",
        "    results = itertools.islice(it,0,10)\n",
        "\n",
        "print(list(results))\n",
        "#[0,8,18,23,28,38]\n",
        "```\n",
        "\n",
        "\n"
      ],
      "metadata": {
        "id": "Eomc-o0VpL6H"
      }
    },
    {
      "cell_type": "markdown",
      "source": [
        "### Summary\n",
        "\n",
        "- 제네레이터를 사용하면 결과를 리스트에 합쳐서 반환하는 것 보다 깔끔\n",
        "\n",
        "- 제네레이터가 반환하는 이터레이터는 제너레이터 함수의 본문에서 yield가 반환하는 값들로 이뤄진 집합\n",
        "\n",
        "- 제너레이터를 사용하면 작업 메모리에 모든 입력과 출력을 저장할 필요없이 입력이 아주 커도 출력 시퀀스 가능\n"
      ],
      "metadata": {
        "id": "dcjdQyMRs6Nr"
      }
    }
  ]
}