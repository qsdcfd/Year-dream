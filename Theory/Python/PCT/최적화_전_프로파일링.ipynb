{
  "nbformat": 4,
  "nbformat_minor": 0,
  "metadata": {
    "colab": {
      "name": "최적화 전 프로파일링",
      "provenance": [],
      "authorship_tag": "ABX9TyMlAyNPLwyhRj0Z353iEmia"
    },
    "kernelspec": {
      "name": "python3",
      "display_name": "Python 3"
    },
    "language_info": {
      "name": "python"
    }
  },
  "cells": [
    {
      "cell_type": "markdown",
      "source": [
        "## 최적화하기 전에 프로파일링을 하라\n",
        "\n",
        "**빠를 것 같은데 느리고 느릴 것 같은데 빠른 언어 기능들이 있다. 이러한 것을 직관보단 직접 성능을 측정하는 것을 추천하고 이를 프로파일러라고 한다.**\n",
        "\n",
        "<br>\n",
        "\n",
        "\n",
        "**암달의 법칙: 프로파일러가 있으므로 프로그램에서 가장 문제가 되는 부분을 집중적으로 최적화하고 프로그램에서 속도에 영향을 미치지 않은 부분은 무시할 수 있다.**"
      ],
      "metadata": {
        "id": "sH-S7vGsiVUI"
      }
    },
    {
      "cell_type": "code",
      "source": [
        "#삽입 정렬을 사용하여 데이터 리스트 정렬\n",
        "#핵심 메커니즘: 데이터 조각을 삽입할 위츠를 찾는 함수다.\n",
        "\n",
        "def insertion_sort(data):\n",
        "    result = []\n",
        "    for value in data:\n",
        "        insert_value(result, value)\n",
        "    return result\n",
        "\n",
        "#입력 배열을 선형으로 검색하는 비효율적인 함수\n",
        "\n",
        "def insert_value(array, value):\n",
        "    for i, existing in enumerate(array):\n",
        "        if existing > value:\n",
        "            array.insert(i, value)\n",
        "            return\n",
        "    array.append(value)"
      ],
      "metadata": {
        "id": "DKLNlWG3iXHx"
      },
      "execution_count": 1,
      "outputs": []
    },
    {
      "cell_type": "code",
      "source": [
        "#먼저 난수  데이터 집합을 만들고 프로파일러에 넘길 test 함수 정의\n",
        "\n",
        "from random import randint\n",
        "\n",
        "max_size = 10**4\n",
        "data = [randint(0, max_size) for _ in range(max_size)]\n",
        "test = lambda: insertion_sort(data)"
      ],
      "metadata": {
        "id": "VLQM4WUxkTWh"
      },
      "execution_count": 2,
      "outputs": []
    },
    {
      "cell_type": "markdown",
      "source": [
        "내장 프로파일러인 파이썬 파일러와 C확장 모듈 cProfile 내장 모듈 중에서 후자가 더 좋다."
      ],
      "metadata": {
        "id": "0mKANwmfkv0w"
      }
    },
    {
      "cell_type": "code",
      "source": [
        "from cProfile import Profile\n",
        "\n",
        "profiler = Profile()\n",
        "profiler.runcall(test)"
      ],
      "metadata": {
        "id": "ztUqMMa-kr1M"
      },
      "execution_count": null,
      "outputs": []
    },
    {
      "cell_type": "markdown",
      "source": [
        "테스트 함수가 실행되면 pstats 내장 모듈에 들어있는 Stats 클래스를 사용하여 성능 통계를 추출할 수 있다.\n",
        "\n",
        "Stats에 들어 있는 여러 메서드를 사용해 관심 대상 프로파일 정보를 선택하여 정렬하는 방법을 조절해서 관심있는 항목만 표시"
      ],
      "metadata": {
        "id": "lM-Y8UOklBLg"
      }
    },
    {
      "cell_type": "code",
      "source": [
        "from pstats import Stats\n",
        "\n",
        "stats = Stats(profiler)\n",
        "stats.strip_dirs()\n",
        "stats.sort_stats('cumulative') #누적 통계\n",
        "stats.print_stats()"
      ],
      "metadata": {
        "colab": {
          "base_uri": "https://localhost:8080/"
        },
        "id": "R-SBDbsak_i9",
        "outputId": "c963f5ba-c31e-4baa-d0f3-f333609c313f"
      },
      "execution_count": 4,
      "outputs": [
        {
          "output_type": "stream",
          "name": "stdout",
          "text": [
            "         20003 function calls in 1.908 seconds\n",
            "\n",
            "   Ordered by: cumulative time\n",
            "\n",
            "   ncalls  tottime  percall  cumtime  percall filename:lineno(function)\n",
            "        1    0.000    0.000    1.908    1.908 <ipython-input-2-5fc01aa065de>:7(<lambda>)\n",
            "        1    0.003    0.003    1.908    1.908 <ipython-input-1-572e39ebbfea>:4(insertion_sort)\n",
            "    10000    1.891    0.000    1.905    0.000 <ipython-input-1-572e39ebbfea>:12(insert_value)\n",
            "     9985    0.014    0.000    0.014    0.000 {method 'insert' of 'list' objects}\n",
            "       15    0.000    0.000    0.000    0.000 {method 'append' of 'list' objects}\n",
            "        1    0.000    0.000    0.000    0.000 {method 'disable' of '_lsprof.Profiler' objects}\n",
            "\n",
            "\n"
          ]
        },
        {
          "output_type": "execute_result",
          "data": {
            "text/plain": [
              "<pstats.Stats at 0x7ff0ed33cf90>"
            ]
          },
          "metadata": {},
          "execution_count": 4
        }
      ]
    },
    {
      "cell_type": "markdown",
      "source": [
        "**컬럼에 대한 설명**\n",
        "\n",
        "- ncalls: 프로파일링 기간 동안 함수가 몇 번 호출되었는지 보여준다.\n",
        "\n",
        "- tottime: 프로파일링 기간 동안 대상 함수를 실행하는데 걸린 시간의 합계로 다른 함수를 호출하여 실행되는 시간은 제외된다.\n",
        "\n",
        "- tottime percall: 프로파일링 기간 동안 함수가 호출될 때마다 걸린 시간의 평균을 보여주고 대상 함수가 다른 함수를 호출할 경우 다른 함수 실행을 위한 걸린 시간은 제외되고, 이 값은 tottime을 ncalls로 나눈 값과 같다.\n",
        "\n",
        "- cumtime: 함수가 실행할 때 걸린 누적 시간을 보여주는 것으로 대상 함수가 호출한 다른 함수를 실행하는데 걸린 시간이 모두 포함된다.\n",
        "\n",
        "- cumtime percall: 프로파일링 기간 동안 함수가 호출될 때마다 걸린 누적 시간의 평균을 보여주는 것으로 대상 함수가 호출한 다른 함수를 실행하는데 걸린 시간이 모두 포함이 되므로 cumtime을 ncalls로 나눈 값과 같다."
      ],
      "metadata": {
        "id": "XilAW0jBle36"
      }
    },
    {
      "cell_type": "code",
      "source": [
        "from bisect import bisect_left\n",
        "\n",
        "def insert_value(array,value):\n",
        "    i = bisect_left(array, value)\n",
        "    array.insert(i, value)"
      ],
      "metadata": {
        "id": "5EgVxwATlZ3-"
      },
      "execution_count": 5,
      "outputs": []
    },
    {
      "cell_type": "markdown",
      "source": [
        "### Summary\n",
        "\n",
        "- 파이썬 프로그램을 느리게 하는 원인이 불분명한 경우가 많으므로 프로그램을 최적화하기 전에 프로파일링하는 것이 중요하다.\n",
        "\n",
        "- profile 모듈 대신 cProfile 모듈을 사용하고, cProfile이 더 정확한 프로파일링 정보를 제공한다.\n",
        "\n",
        "- 함수 호출 트리를 독립적으로 프로파일링하고 싶다면 Profile 객체의 runcall 메서드를 사용하기만 하면 된다.\n",
        "\n",
        "- Stats 객체를 사용하면 프로파일링 정보 중에서 프로그램 성능을 이해하기 위해 살펴봐야할 부분만 선택해서 출력할 수 있다."
      ],
      "metadata": {
        "id": "Km6xuCKho7GH"
      }
    },
    {
      "cell_type": "code",
      "source": [],
      "metadata": {
        "id": "mvfedY_spUJ4"
      },
      "execution_count": null,
      "outputs": []
    }
  ]
}