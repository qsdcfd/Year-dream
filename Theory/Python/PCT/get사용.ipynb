{
  "nbformat": 4,
  "nbformat_minor": 0,
  "metadata": {
    "colab": {
      "name": "get사용",
      "provenance": [],
      "authorship_tag": "ABX9TyP5FYnjc9Ack117XAdLZA1z"
    },
    "kernelspec": {
      "name": "python3",
      "display_name": "Python 3"
    },
    "language_info": {
      "name": "python"
    }
  },
  "cells": [
    {
      "cell_type": "markdown",
      "source": [
        "## in을 사용하고 딕셔너리 키가 없을 때 KeyError를 처리하기보다는 get를 사용하라"
      ],
      "metadata": {
        "id": "NR84vGHaqdP5"
      }
    },
    {
      "cell_type": "markdown",
      "source": [
        "\n",
        "**Flow**\n",
        "\n",
        "- 키가 딕셔너리에 존재하는지 살펴야함\n",
        "\n",
        "- 키가 없으면 0을 딕셔너리에 넣기\n",
        "\n",
        "- 키가 있다면 그 카운터를 증가\n",
        "\n",
        "\n",
        "```\n",
        "#위와같이 처리한다면, 딕셔너리에서 키를 두 번읽고 키에 대한 값을 한 번 대입\n",
        "\n",
        "#if문과 키가 존재할 때 참을 반환하는 in사용\n",
        "\n",
        "counters = {\n",
        "    '품퍼니켈': 2,\n",
        "    '사워도우':1,\n",
        "}\n",
        "\n",
        "key = '밀'\n",
        "\n",
        "if key in countes:\n",
        "    count = counters[key]\n",
        "else:\n",
        "    count = 0\n",
        "\n",
        "counters[key] = count +1\n",
        "```\n",
        "\n",
        "<br>\n",
        "\n",
        "```\n",
        "#비슷한 방법\n",
        "#존재하지 않는 키에 접근하면 KeyError예외 활용\n",
        "#키를 한 번만 읽고, 값을 한 번만 대입하니 더 효율적\n",
        "\n",
        "try:\n",
        "    count = counters[key]\n",
        "except KeyError:\n",
        "    count=0\n",
        "\n",
        "counters[key] = count +1\n",
        "```\n",
        "\n",
        "<br>\n",
        "\n",
        "```\n",
        "#가장 가독성이 높은 방법\n",
        "count = counters.get(key,0)\n",
        "counters[key] = count+1\n",
        "```\n",
        "\n",
        "<br>\n",
        "\n",
        "**만약 딕셔너리에 저장된 값이 더 복잡하다면**\n",
        "\n",
        "```\n",
        "votes = {\n",
        "    '바게트': ['철수', '순이'],\n",
        "    '치아바타':['하니', '유리'],\n",
        "}\n",
        "key = '브리오슈'\n",
        "who = '단이'\n",
        "\n",
        "#가독성\n",
        "if (names:= votes.get(key)) is None:\n",
        "    votes[key] = names = []\n",
        "\n",
        "names.append(who)\n",
        "```\n",
        "\n",
        "<br>\n",
        "\n",
        "```\n",
        "#더 간략한 방법\n",
        "#setdefault메서드\n",
        "#딕셔너리에서 키를 사용해 값을 가져온다\n",
        "#키가 없으면 디폴트값과 연결하여 반환\n",
        "#예외발생할 가능성이 없을 때만 사용가능\n",
        "names = votes.setdefault(key,[])\n",
        "names.append(who)\n",
        "```\n",
        "\n"
      ],
      "metadata": {
        "id": "Kj741-SlqjhW"
      }
    },
    {
      "cell_type": "code",
      "source": [
        ""
      ],
      "metadata": {
        "id": "L-ufW6Wyqh_8"
      },
      "execution_count": null,
      "outputs": []
    }
  ]
}