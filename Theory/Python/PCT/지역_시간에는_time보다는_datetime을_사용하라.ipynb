{
  "nbformat": 4,
  "nbformat_minor": 0,
  "metadata": {
    "colab": {
      "name": "지역 시간에는 time보다는 datetime을 사용하라",
      "provenance": [],
      "authorship_tag": "ABX9TyN5ILdf+QMMe+ZW69vZvbiB"
    },
    "kernelspec": {
      "name": "python3",
      "display_name": "Python 3"
    },
    "language_info": {
      "name": "python"
    }
  },
  "cells": [
    {
      "cell_type": "markdown",
      "source": [
        "## 지역 시간에는 time보다는 datetime을 사용하라\n",
        "\n"
      ],
      "metadata": {
        "id": "zbBwPwyuEaVQ"
      }
    },
    {
      "cell_type": "markdown",
      "source": [
        "### time 모듈\n",
        "\n",
        "- localtime함수를 사용하여 유닉스 타임스탬프를 호스트 컴퓨터의 시간대에 맞는 지역 시간으로 변환\n",
        "\n",
        "- 지역 시간은 strftime함수를 사용하여 이해하기 슆게 표현"
      ],
      "metadata": {
        "id": "bSfAGeaNEkOP"
      }
    },
    {
      "cell_type": "code",
      "source": [
        "import time\n",
        "\n",
        "now = 1598523184\n",
        "local_tuple = time.localtime(now)\n",
        "time_format = '%Y-%m-%d %H:%M:%S'\n",
        "time_str = time.strftime(time_format, local_tuple)\n",
        "print(time_str)"
      ],
      "metadata": {
        "colab": {
          "base_uri": "https://localhost:8080/"
        },
        "id": "ABQRbKmuEx_U",
        "outputId": "3c144487-1486-48de-d5f6-9521936dc24f"
      },
      "execution_count": 3,
      "outputs": [
        {
          "output_type": "stream",
          "name": "stdout",
          "text": [
            "2020-08-27 10:13:04\n"
          ]
        }
      ]
    },
    {
      "cell_type": "code",
      "source": [
        "#반대로 실행\n",
        "time_tuple = time.strptime(time_str, time_format)\n",
        "utc_now = time.mktime(time_tuple)\n",
        "print(utc_now)"
      ],
      "metadata": {
        "colab": {
          "base_uri": "https://localhost:8080/"
        },
        "id": "OzmyKhIBFFdP",
        "outputId": "5bcf07f4-6227-45c3-d05f-48997d78c488"
      },
      "execution_count": 4,
      "outputs": [
        {
          "output_type": "stream",
          "name": "stdout",
          "text": [
            "1598523184.0\n"
          ]
        }
      ]
    },
    {
      "cell_type": "markdown",
      "source": [
        "### datetime 모듈\n",
        "\n",
        "- 여러 시간대를 다뤄야하는 경우 사용\n",
        "\n",
        "- 여러 시간대에 속한 시간을 상호 변환"
      ],
      "metadata": {
        "id": "BWOrsG63FkmJ"
      }
    },
    {
      "cell_type": "code",
      "source": [
        "from datetime import datetime, timezone\n",
        "\n",
        "now = datetime(2020,8,27,10,13,4)\n",
        "time_tuple = now.timetuple()\n",
        "utc_now = time.mktime(time_tuple)\n",
        "print(utc_now)"
      ],
      "metadata": {
        "colab": {
          "base_uri": "https://localhost:8080/"
        },
        "id": "kXbN3qj4Fa9i",
        "outputId": "31d1dc3b-e795-4ce6-a469-8a140206f78e"
      },
      "execution_count": 5,
      "outputs": [
        {
          "output_type": "stream",
          "name": "stdout",
          "text": [
            "1598523184.0\n"
          ]
        }
      ]
    },
    {
      "cell_type": "code",
      "source": [
        "#pytz모듈을 활용하면 기본 설치가 제공하지 않은  시간대 정보 추가 가능\n",
        "\n",
        "import pytz\n",
        "\n",
        "arrival_sfo = \"2020-08-28 04:13:04\"\n",
        "sfo_dt_naive = datetime.strptime(arrival_sfo, time_format)\n",
        "\n",
        "eastern = pytz.timezone('US/Pacific')\n",
        "sfo_df = eastern.localize(sfo_dt_naive)\n",
        "utc_dt = pytz.utc.normalize(sfo_df.astimezone(pytz.utc))\n",
        "print(utc_dt)"
      ],
      "metadata": {
        "colab": {
          "base_uri": "https://localhost:8080/"
        },
        "id": "BDAQl0C-HuMh",
        "outputId": "7dfe9085-1746-46f6-d129-f2d7b9adbd22"
      },
      "execution_count": 7,
      "outputs": [
        {
          "output_type": "stream",
          "name": "stdout",
          "text": [
            "2020-08-28 11:13:04+00:00\n"
          ]
        }
      ]
    },
    {
      "cell_type": "code",
      "source": [
        "korea = pytz.timezone('Asia/Seoul')\n",
        "korea_dt = korea.normalize(utc_dt.astimezone(korea))\n",
        "print(korea_dt)"
      ],
      "metadata": {
        "colab": {
          "base_uri": "https://localhost:8080/"
        },
        "id": "OWqEg3vsMz19",
        "outputId": "ffa21869-f9d7-4f47-d314-a5c2f4eab1c8"
      },
      "execution_count": 8,
      "outputs": [
        {
          "output_type": "stream",
          "name": "stdout",
          "text": [
            "2020-08-28 20:13:04+09:00\n"
          ]
        }
      ]
    },
    {
      "cell_type": "markdown",
      "source": [
        "### Summary\n",
        "\n",
        "- 여러 다른 시간대를 변환할 때는 time 모듈을 쓰지 말라\n",
        "\n",
        "- 여러 다른 시간대를 신뢰할 수 있게 변환하고 싶으면 datetime과 pytz모듈을 함께 사용\n",
        "\n",
        "- 항상 시간을 UTC로 표시하고, 최종적으로 표현하기 직전에 지역 시간으로 변환"
      ],
      "metadata": {
        "id": "VN-cGjBVNDLl"
      }
    },
    {
      "cell_type": "code",
      "source": [
        ""
      ],
      "metadata": {
        "id": "nHHjv1CqOwGa"
      },
      "execution_count": null,
      "outputs": []
    },
    {
      "cell_type": "code",
      "source": [
        ""
      ],
      "metadata": {
        "id": "Pmy5nXZ8O14B"
      },
      "execution_count": null,
      "outputs": []
    }
  ]
}