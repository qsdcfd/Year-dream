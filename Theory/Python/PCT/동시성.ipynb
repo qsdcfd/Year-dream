{
  "nbformat": 4,
  "nbformat_minor": 0,
  "metadata": {
    "colab": {
      "name": "동시성",
      "provenance": [],
      "authorship_tag": "ABX9TyPHHK7amrJIIhrNdMgnVBfA"
    },
    "kernelspec": {
      "name": "python3",
      "display_name": "Python 3"
    },
    "language_info": {
      "name": "python"
    }
  },
  "cells": [
    {
      "cell_type": "markdown",
      "source": [
        "# 언제 동시성이 필요할지 인식하는 방법을 알아두라"
      ],
      "metadata": {
        "id": "4_NPr4jRRRMk"
      }
    },
    {
      "cell_type": "markdown",
      "source": [
        "**프로그램의 영역이 커질수록 복잡도가 증가하게 되는데, 이때 프로그래머는 프로그램의 명확성, 테스트 가능성, 효율성을 유지하면서 늘어나는 요구를 만족시켜야 한다. 그 중에서, 가장 어려운 것은 단일 스레드 프로그램을 동시 실행되는 여러 흐름으로 이뤄진 프로그램 바꾸기**"
      ],
      "metadata": {
        "id": "Km-7HKtJRVes"
      }
    },
    {
      "cell_type": "code",
      "source": [
        "#임의의 좌표에 있는 셀의 값을 설정하는 메서드\n",
        "class Grid:\n",
        "    def __init__(self, height, width):\n",
        "        self.height = height\n",
        "        self.width = width\n",
        "        self.rows = []\n",
        "        for _ in range(self.height):\n",
        "            self.rows.append([EMPTY] * self.width)\n",
        "\n",
        "    \n",
        "    def get(self, y,x):\n",
        "        return self.rows[y % self.height][x % self.width]\n",
        "\n",
        "    def set(y,x,state):\n",
        "        self.rows[y % self.height][x % self.width]\n",
        "\n",
        "    def set(self, y, x, state):\n",
        "        self.rows[y %  self.height][x % self.width] = state"
      ],
      "metadata": {
        "id": "JyK4PDGkRUd-"
      },
      "execution_count": null,
      "outputs": []
    },
    {
      "cell_type": "code",
      "source": [
        "# 주별 셀 상태를 얻을 방법이 필요하므로 도우미 함수 만들기\n",
        "\n",
        "def count_neighbors(y,x,get):\n",
        "    n_ = get(y-1,x+0)#북\n",
        "    ne_ = get(y-1,x+1)#북동\n",
        "    e_ = get(y+0,x+1)#동\n",
        "    se_ = get(y+1,x+1)#남동\n",
        "    s_ = get(y+1,x+0)#남\n",
        "    sw = get(y+1,x-1)#남서\n",
        "    w_ = get(y+0,x-1)#북서\n",
        "    neighbor_states = [n_,ne,e_, se,s_,sw,w_,nw]\n",
        "    count = 0\n",
        "    for state in neighbor_states:\n",
        "        if state == ALIVE:\n",
        "            count +=1\n",
        "    return count"
      ],
      "metadata": {
        "id": "qFG416_HSrir"
      },
      "execution_count": null,
      "outputs": []
    },
    {
      "cell_type": "code",
      "source": [
        "#로직 정의\n",
        "\n",
        "def game_logic(state, neighbors):\n",
        "    if state == ALIVE:\n",
        "        if neighbors < 2:\n",
        "            return EMPTY # 살아 있는 이웃이 너무 적음: 죽음\n",
        "        elif neighbors > 3:\n",
        "            return EMPTY #살아 있는 이웃이 너무 많음 : 죽음\n",
        "    else:\n",
        "        if neighbors ==3:\n",
        "            return ALIVE #생성됨\n",
        "    return state"
      ],
      "metadata": {
        "id": "FAa4jyWETuil"
      },
      "execution_count": null,
      "outputs": []
    },
    {
      "cell_type": "code",
      "source": [
        "#각 제너레이션 함수를 호출하여 갱신\n",
        "#이로 인해서 함수 인터페이스를 사용해서 코드의 결합도를 낮춘다.\n",
        "def step_cell(y,x,get, set):\n",
        "    state = get(y,x)\n",
        "    neighbors = count_neighbors(y, x, get)\n",
        "    next_state = game_logic(state, neighbors)\n",
        "    set(y,x,next_state)"
      ],
      "metadata": {
        "id": "TJZpvmkfUULd"
      },
      "execution_count": null,
      "outputs": []
    },
    {
      "cell_type": "code",
      "source": [
        "#모든 셀이 동일하게 작동시키기\n",
        "def simulate(grid):\n",
        "    next_grid = Grid(grid.height, grid.width)\n",
        "    for y in range(grid.height):\n",
        "        for x in range(grid.width):\n",
        "            step_cell(y,x,grid.get, next_grid.set)\n",
        "    return next_grid"
      ],
      "metadata": {
        "id": "385g49bWV2vF"
      },
      "execution_count": null,
      "outputs": []
    },
    {
      "cell_type": "code",
      "source": [
        "#위의 코드들은 단일 상황에서 대처는 좋지만 어떠한 변화가 생기면 어려워지므로\n",
        "#확장 기능이 필요\n",
        "def game_logic(state , neighbors):\n",
        "    #블로킹 I/O를 여기서 수행\n",
        "    data = my_socket.recv(100)\n",
        "\n",
        "#위와 같은 방식은 전체 프로그램이 느려짐"
      ],
      "metadata": {
        "id": "qMzuo6PwZBvN"
      },
      "execution_count": null,
      "outputs": []
    },
    {
      "cell_type": "markdown",
      "source": [
        "### Summary\n",
        "\n",
        "- 프로그램이 커지면서 범위와 복잡도가 증가함에 따라 동시에 실행되는 여러 실행 흐름이 필요해지는 경우가 많다.\n",
        "\n",
        "- 동시성을 조율하는 가장 일반적인 방법으로는 팬아웃(새로운 동시성 단위들을 만들어냄)과 팬인(기존 동시성 단위들의 실행이 끝나기를 기다림)이 있다.\n",
        "\n",
        "- 파이썬은 팬아웃과 팬인을 구현하는 다양한 방법을 제공\n"
      ],
      "metadata": {
        "id": "ukwSwR6QZtGH"
      }
    },
    {
      "cell_type": "code",
      "source": [
        ""
      ],
      "metadata": {
        "id": "aFx45HxmaMTY"
      },
      "execution_count": null,
      "outputs": []
    }
  ]
}