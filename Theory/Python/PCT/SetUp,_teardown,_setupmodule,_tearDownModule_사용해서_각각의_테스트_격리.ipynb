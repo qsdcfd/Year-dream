{
  "nbformat": 4,
  "nbformat_minor": 0,
  "metadata": {
    "colab": {
      "provenance": [],
      "authorship_tag": "ABX9TyPIOusA+VWEHFGxQqk2BaEP"
    },
    "kernelspec": {
      "name": "python3",
      "display_name": "Python 3"
    },
    "language_info": {
      "name": "python"
    }
  },
  "cells": [
    {
      "cell_type": "markdown",
      "source": [
        "## 테스트 하네스\n",
        "\n",
        "- TestCase 하위 클래스 안에서 setUP과 tearDown 메서드를 오버라이드\n",
        "   - setUP: 테스트 전에 호출\n",
        "   - tearDown: 테스트 메서드를 실행한 후에 호출\n",
        "   \n",
        "```\n",
        "#environemt_test.py\n",
        "from pathlib import Path\n",
        "from tempfile import TemporaryDirectory\n",
        "from unittest import TestCase, main\n",
        "\n",
        "class EnvironmentTest(TestCase):\n",
        "\tdef setUp(self):\n",
        "    \tself.test_dir = TemporaryDirectory()\n",
        "        self.test_path = Path(self.test_dir.name)\n",
        "        \n",
        "    def tearDown(self):\n",
        "    \tself.test_dir.cleanup()\n",
        "        \n",
        "    def test_modify_file(self):\n",
        "    \twith open(self.test_path / 'data.bin', 'w') as f:\n",
        "        \n",
        "        \n",
        "if __name__ == '__main__':\n",
        "\tmain()\n",
        "```\n",
        "\n",
        "<br>\n",
        "\n",
        "**모듈 사이의 end to end 상화작용 검증하는 테스트는 단위 테스트와 통합 테스트**\n",
        "\n",
        "- 이유: 모듈이 제대로 작동하는지 검증하기 위해선 모듈이 실제로 제대로 작동하는지 알 수 없다.\n",
        "\n",
        "- TestCase클래스의 setUP과 tearDwon메서드에서 테스트를 준비하고 정리하는 것은 지연시간 발생으로 인해서 비실용적이다.\n",
        "\n",
        "<br>\n",
        "\n",
        "- 해결: unittest 모듈은 모듈 단위의 테스트 하네스 초기화를 지원한다.\n",
        "\n",
        "```\n",
        "#integration_test.py\n",
        "\n",
        "from unittest import TestCase, main\n",
        "\n",
        "def setUpModule():\n",
        "\tprint('* 모듈 설정')\n",
        "    \n",
        "def tearDownModule():\n",
        "\tprint('* 모듈 정리')\n",
        "    \n",
        "class IntegrationTest(TestCase):\n",
        "\tdef setUp(self):\n",
        "    \tprint('* 테스트 설정')\n",
        "        \n",
        "    def tearDown(self):\n",
        "    \tprint('* 테스트 정리')\n",
        "        \n",
        "    def test_end_to_end1(self):\n",
        "    \tprint('* 테스트 1')\n",
        "        \n",
        "    def test_end_to_end2(self):\n",
        "    \tprint('* 테스트 2')\n",
        "        \n",
        "if __name__ == '__main__':\n",
        "\tmain()\n",
        "```\n",
        "\n",
        "![](https://velog.velcdn.com/images/qsdcfd/post/6abde64f-902d-41c8-8373-286efa848438/image.png)\n",
        "\n",
        "<br>\n",
        "\n",
        "### Summary\n",
        "\n",
        "- 단위 테스트(함수, 클래스 등의 기본 단위를 격리시켜 검증하는 테스트)와 통합 테스트(모듈 간의 상호작용을 검증하는 테스트)를 모두 작성하는 것이 중요\n",
        "\n",
        "- setUp과 tearDown 메서드를 사용하면 테스트 사이를 격리할 수 있고 더 깨끗한 테스트 환경을 제공할 수 있다.\n",
        "\n",
        "- 통합 테스트의 경우 모듈 수준의 함수인 setUpMoule과 tearDownModule을 사용하면 테스트 모듈과 모듈 안에 포함된 모든 TestCase 클래스의 전체 생명 주기 동안 필요한 테스트 하네스 관리"
      ],
      "metadata": {
        "id": "zT4qbh5TiMuD"
      }
    },
    {
      "cell_type": "code",
      "source": [],
      "metadata": {
        "id": "tu2Jp4qXiM6M"
      },
      "execution_count": null,
      "outputs": []
    },
    {
      "cell_type": "code",
      "source": [],
      "metadata": {
        "id": "BJV909x0idK5"
      },
      "execution_count": null,
      "outputs": []
    }
  ]
}