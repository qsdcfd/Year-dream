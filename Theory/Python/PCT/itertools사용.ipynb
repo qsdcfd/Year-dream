{
  "nbformat": 4,
  "nbformat_minor": 0,
  "metadata": {
    "colab": {
      "name": "itertools사용",
      "provenance": [],
      "authorship_tag": "ABX9TyNpbP4q+bjD3vkph5QB+i6L"
    },
    "kernelspec": {
      "name": "python3",
      "display_name": "Python 3"
    },
    "language_info": {
      "name": "python"
    }
  },
  "cells": [
    {
      "cell_type": "markdown",
      "source": [
        "## import itertools"
      ],
      "metadata": {
        "id": "eUzcFmki4pwh"
      }
    },
    {
      "cell_type": "markdown",
      "source": [
        "### 여러 이터레이터 연결하기"
      ],
      "metadata": {
        "id": "4khRijQK4wqb"
      }
    },
    {
      "cell_type": "code",
      "source": [
        "#Chain\n",
        "\"\"\"여러 이터레이터를 하나의 순차적인 이터레이터로 합치고 싶다\n",
        "\"\"\"\n",
        "\n",
        "it = itertools.chain([1,2,3],[4,5,6])\n",
        "print(list(it))\n",
        "#[1,2,3,4,5,6]"
      ],
      "metadata": {
        "id": "G2egA6ks4x83"
      },
      "execution_count": null,
      "outputs": []
    },
    {
      "cell_type": "code",
      "source": [
        "#repeat\n",
        "\"\"\"한 값을 계속 반복하고 싶을 때 사용되고, 두 번재 인자는 최대 횟수 지정\n",
        "\"\"\"\n",
        "\n",
        "it = itertools.repeat('안녕',3)\n",
        "print(list(it))\n",
        "\n",
        "#['안녕','안녕','안녕']"
      ],
      "metadata": {
        "id": "xXZ7dEjV4-DL"
      },
      "execution_count": null,
      "outputs": []
    },
    {
      "cell_type": "code",
      "source": [
        "#cycle\n",
        "\"\"\"어떤 이터레이터가 내놓은 원소드를 반복하고 싶을 때 사용\n",
        "\"\"\"\n",
        "\n",
        "it = itertools.cycle([1,2])\n",
        "result = [next(it) for _ in range(10)]\n",
        "print(result)\n",
        "\n",
        "#[1,2,1,2,1,2,1,2,1,2]"
      ],
      "metadata": {
        "id": "b5nRe24D4-Gi"
      },
      "execution_count": null,
      "outputs": []
    },
    {
      "cell_type": "code",
      "source": [
        "#tee\n",
        "\"\"\"한 이터레이터를 병렬적으로 두 번째 인자로 지정된 개수의 이터레이터 만들기\n",
        "\"\"\"\n",
        "\n",
        "it1,it2,it3 = itertools.tee(['하나','둘'],3)\n",
        "print(list(it1))\n",
        "print(list(it2))\n",
        "print(list(it3))\n",
        "\n",
        "#결과\n",
        "\"\"\"\n",
        "['하나', '둘']\n",
        "['하나', '둘']\n",
        "['하나', '둘']\n",
        "\"\"\""
      ],
      "metadata": {
        "id": "SmgcM6Ns5kV5"
      },
      "execution_count": null,
      "outputs": []
    },
    {
      "cell_type": "code",
      "source": [
        "#zip_longes\n",
        "#zip함수의 변종으로 여러 이터레이터 중 짧은 쪽의 원소를 다 사용한 경우\n",
        "#fillvalue로 지정한 값을 채운다.\n",
        "key = ['하나', '둘', '셋']\n",
        "values = [1,2]\n",
        "\n",
        "normal = list(zip(keys, values))\n",
        "print('zip:', normal)#zip: [('하나',1), ('둘',2)]\n",
        "\n",
        "it = itertools.zip_longest(keys, values, fillvalue=\"없음\")\n",
        "longest = list(it)\n",
        "print('zip_longest:', longest) #zip_longest: [('하나',1),('둘',2),('셋','없음')]"
      ],
      "metadata": {
        "id": "TVAmyxgb6DJt"
      },
      "execution_count": null,
      "outputs": []
    },
    {
      "cell_type": "markdown",
      "source": [
        "### 이터레이터에서 원소 거르기\n",
        "\n",
        "*필터링 함수 존재*"
      ],
      "metadata": {
        "id": "3R4By6q26-Gn"
      }
    },
    {
      "cell_type": "code",
      "source": [
        "#islice\n",
        "\"\"\"복사하지 않으면서 원소 인덕스를 활용해서 슬라이싱. 동작은 시퀀스 슬라이싱이나 스트라이딩 기능과 비승\n",
        "\"\"\"\n",
        "values = [1,2,3,4,5,6,7,8,9,10]\n",
        "\n",
        "first_five = itertools.islice(values,5)\n",
        "print('앞에서 다섯 개:', list(first_five)) #앞에서 다섯 개: [1,2,3,4,5]\n",
        "\n",
        "middle_odds = itertools.islice(values,2,8,2)\n",
        "print('중간의 홀수들:', list(middle_odds)) #중간의 홀수들: [3,5,7]"
      ],
      "metadata": {
        "id": "vzrBlkre7Ck3"
      },
      "execution_count": null,
      "outputs": []
    },
    {
      "cell_type": "code",
      "source": [
        "#takewhile\n",
        "\"\"\"이터레이터에서 주어진 술어가 False를 반환하는 첫 원소가 나타날 때까지 원소 돌려줌\n",
        "\"\"\"\n",
        "values = [1,2,3,4,5,6,7,8,9,10]\n",
        "less_than_seven = lambda x: x<7\n",
        "it = itertools.takewhile(less_than_seven, values)\n",
        "print(list(it))#[1,2,3,4,5,6]"
      ],
      "metadata": {
        "id": "NI32WzAg7Cm1"
      },
      "execution_count": null,
      "outputs": []
    },
    {
      "cell_type": "code",
      "source": [
        "#dropwhile\n",
        "\"\"\"takewhile반대로 첫 번째 원소를 찾을 때까지 원소를 건너뛰기\n",
        "\"\"\"\n",
        "values = [1,2,3,4,5,6,7,8,9,10]\n",
        "less_than_seven = lambda x: x<7\n",
        "it = itertools.dropwhile(less_than_seven, values)\n",
        "print(list(it))\n",
        "#[7,8,9,10]"
      ],
      "metadata": {
        "id": "wJU7PFdn7Cqg"
      },
      "execution_count": null,
      "outputs": []
    },
    {
      "cell_type": "code",
      "source": [
        "#filterfalse\n",
        "\"\"\"filter 내장 함수의 반대로 이터레이터에서 술어가 False를 반환하ㅡ는 모든 원소 돌려준다.\n",
        "\"\"\"\n",
        "\n",
        "values = [1,2,3,4,5,6,7,8,9,10]\n",
        "evens = lambda x: x %2 ==0\n",
        "\n",
        "filter_result = filter(evens, values)\n",
        "print('Filter:', list(filter_result)) #Filter:[2,4,6,8,10]\n",
        "\n",
        "filter_false_result = itertools.filterfalse(evens, values)\n",
        "print('Filter false:', list(filter_false_result)) #Filter false: [1,3,5,7,9]"
      ],
      "metadata": {
        "id": "UPxOaAMr7CuG"
      },
      "execution_count": null,
      "outputs": []
    },
    {
      "cell_type": "markdown",
      "source": [
        "### 이터레이터에서 원소의 조합 만들어내기"
      ],
      "metadata": {
        "id": "XLuWPQ-66-Mp"
      }
    },
    {
      "cell_type": "code",
      "source": [
        "#accumulate\n",
        "\"\"\"파라미터를 두 개 받는 함수를 반복 적용하면서 이터레이터 원소를 값 하나로 줄여준다. 즉, 돌려주는 이터레이터는 원본 인터레이터의 각 원소에 대해서 누적된 결과\n",
        "\"\"\"\n",
        "\n",
        "values = [1,2,3,4,5,6,7,8,9,10]\n",
        "sum_reduce = itertools.accumulate(values)\n",
        "print('합계:', list(sum_reduce)) #합계 :[1,3,6,10,15,21,28,36,45,55]\n",
        "\n",
        "def sum_modulo_20(first,second):\n",
        "    output = first + second\n",
        "    return ouput % 20\n",
        "\n",
        "modulo_reduce = itertools.accumulate(values, sum_modulo_20)\n",
        "print('합계:', list(modulo_reduce)) # 20으로 나눈 나머지의 합계: [1,3,6,10,15,1,8,16,5,15]"
      ],
      "metadata": {
        "id": "ZSWiuukn9n3A"
      },
      "execution_count": null,
      "outputs": []
    },
    {
      "cell_type": "code",
      "source": [
        "#product\n",
        "\"\"\"하나 이상의 이터레이터에 들어있는 아이템들의 내적값을 반환\n",
        "\"\"\"\n",
        "\n",
        "single = itertools.product([1,2], repeat=2)\n",
        "print('리스트 한 개:', list(single)) #리스트 한 개: [(1,1),(1,2),(2,1),(2,2)]\n",
        "\n",
        "multiple = itertools.product([1,2], ['a','b'])\n",
        "print(\"리스트 두 개:\", list(multiple))# 리스트 두 개: [(1,'a'),(1,'b'),(2,'a'),(2,'b')]\n",
        "\n"
      ],
      "metadata": {
        "id": "jYTpCR86_OKe"
      },
      "execution_count": null,
      "outputs": []
    },
    {
      "cell_type": "code",
      "source": [
        "#permutations\n",
        "\"\"\"permutations는 이터레이터가 내놓는 원소들로부터 만들어낸 길이 N인 순열을 돌려준다\n",
        "\"\"\"\n",
        "\n",
        "it = itertools.permutations([1,2,3,4],2)\n",
        "print(list(it))\n",
        "\n"
      ],
      "metadata": {
        "id": "bx_ZG0_oACS5"
      },
      "execution_count": null,
      "outputs": []
    },
    {
      "cell_type": "code",
      "source": [
        "#combinations\n",
        "\"\"\"combinations는 이터레이터 내놓는 원소들로부터 만들어낸 길이 N인 조합\n",
        "\"\"\"\n",
        "\n",
        "it = itertools.combinations([1,2,3,4],2)\n",
        "print(list(it))"
      ],
      "metadata": {
        "id": "Zy1VPzFoACjX"
      },
      "execution_count": null,
      "outputs": []
    },
    {
      "cell_type": "code",
      "source": [
        "#combinations_with_replacement\n",
        "\"\"\"중복 조합\n",
        "\"\"\"\n",
        "it = itertools.combinations_with_replacement([1,2,3,4],2)\n",
        "print(list(it))\n"
      ],
      "metadata": {
        "id": "iuVuzp4e_OOB"
      },
      "execution_count": null,
      "outputs": []
    }
  ]
}