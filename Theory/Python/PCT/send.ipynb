{
  "nbformat": 4,
  "nbformat_minor": 0,
  "metadata": {
    "colab": {
      "name": "send",
      "provenance": [],
      "authorship_tag": "ABX9TyMViY3XR1w7c1gAFsxAK5I7"
    },
    "kernelspec": {
      "name": "python3",
      "display_name": "Python 3"
    },
    "language_info": {
      "name": "python"
    }
  },
  "cells": [
    {
      "cell_type": "markdown",
      "source": [
        "## Send로 제너레이터에 데이터를 주입하지 말라"
      ],
      "metadata": {
        "id": "GO0F3j7ZD9E2"
      }
    },
    {
      "cell_type": "markdown",
      "source": [
        "### 데이터를 지속적으로 변경하고 싶다!!\n",
        "\n",
        "```\n",
        "#기본 함수\n",
        "def wave_modulating(steps):\n",
        "    step_size = 2 * math.pi / steps\n",
        "    amplitude = yield\n",
        "    for step in range(steps):\n",
        "        radians = step * step_size\n",
        "        fraction = math.sin(radians)\n",
        "        output = amplitude * fraction\n",
        "        amplitude  = yield ouput\n",
        "```\n",
        "\n",
        "**send메서드 이용**\n",
        "\n",
        "- 가독성이 좋지 않다\n",
        "```\n",
        "#제너레이터가 yield식에 도달하지 못했기에 send의 첫 입력은 None\n",
        "\n",
        "def run_modulating(it):\n",
        "    amplitudes = [None,7,7,7,2,2,2,10,10,10,10,10]\n",
        "    for amlitude in amplitudes:\n",
        "        output = it.send(amplitude)\n",
        "        transmit(output)\n",
        "\n",
        "run_modulating(wave_modulating(12))\n",
        "\n",
        "```\n",
        "\n",
        "<br>\n",
        "\n",
        "```\n",
        "# yield from을 활용해서 가독성 높이기\n",
        "\n",
        "def complex_wave_modulating():\n",
        "    yield from wave_modulating(3)\n",
        "    yield from wave_modulating(4)\n",
        "    yield from wave_modulating(5)\n",
        "    \n",
        "run_modulating(complex_wave_modulating())\n",
        "```\n",
        "\n",
        "<br>\n",
        "\n",
        "**문제점**\n",
        "\n",
        "- 생각보다 가독성이 좋지도 않고 yield 구문으로 인해서 고려할 점도 많다.\n",
        "\n",
        "<br>\n",
        "\n",
        "*해결*\n",
        "\n",
        "- wave함수에 이터레이터 전달\n",
        "\n",
        "   - 이터레이터에서 next 내장 호출 시  하나씩 돌려줌\n",
        "   - 연쇄적 연결을 통해서 입출력 차례대로 처리\n",
        "\n",
        "\n",
        "```\n",
        "def wave_cascading(amplitude_it, steps):\n",
        "    step_size = 2 * math.pi / steps\n",
        "    for step in range(steps):\n",
        "        radians =  step * step_size\n",
        "        fraction = next(amplitude_it) #다음 입력 받기\n",
        "```\n",
        "\n",
        "\n",
        "\n",
        "```\n",
        "#합성할 상황이 있다면 yield from\n",
        "\n",
        "def complex_wave_cascading(amplitude_it):\n",
        "    yield from wave_cascading(amplitude_it, 3)\n",
        "    yield from wave_cascading(amplitude_it, 4)\n",
        "    yield from wave_cascading(amplitude_it, 5)\n",
        "\n",
        "```\n",
        "\n",
        "\n",
        "```\n",
        "#제너레이터로 넘기기\n",
        "\n",
        "def run_cascading():\n",
        "    amplitudes  = [7,7,7,2,2,2,2,10,10,10,10,10]\n",
        "    it = complex_wave_cascading(iter(amplitudes))\n",
        "    for amplitude in amplitudes:\n",
        "        output = next(it)\n",
        "        transmit(output)\n",
        "run_cascading()\n",
        "```\n",
        "\n"
      ],
      "metadata": {
        "id": "nrH_cGXJD_5o"
      }
    },
    {
      "cell_type": "code",
      "source": [
        ""
      ],
      "metadata": {
        "id": "8gOquNqGHPa8"
      },
      "execution_count": null,
      "outputs": []
    }
  ]
}