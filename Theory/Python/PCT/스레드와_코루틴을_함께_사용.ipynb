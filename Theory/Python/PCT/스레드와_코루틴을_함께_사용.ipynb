{
  "nbformat": 4,
  "nbformat_minor": 0,
  "metadata": {
    "colab": {
      "name": "스레드와 코루틴을 함께  사용",
      "provenance": [],
      "authorship_tag": "ABX9TyP3tAlhK8Pxx0+5Nb9irYCc"
    },
    "kernelspec": {
      "name": "python3",
      "display_name": "Python 3"
    },
    "language_info": {
      "name": "python"
    }
  },
  "cells": [
    {
      "cell_type": "markdown",
      "source": [
        "## asyncio로 쉽게 옮겨 갈 수 있도록 스레드와 코루틴을 함께 사용하라\n",
        "\n",
        "**TDD를 가능하게 하려면, 코드베이스에서 블로킹 I/O에스레드를 사용하는 부분과 비동기 I/O에 코루틴을 사용하는 부분이 서로 호환되고 공존해야한다.**"
      ],
      "metadata": {
        "id": "8tYMLU1X9H-d"
      }
    },
    {
      "cell_type": "code",
      "source": [
        "#로그 파일을 한 출력 스트림으로 병합 후 디버깅 돕는\n",
        "\n",
        "#파일 핸들의 tell 메서드를 사용 시 현재 읽기 중인 위치가 파일의 길이와 일치하는지 알아내기\n",
        "\n",
        "# 새로운 데이터가 없으면 예외  발생\n",
        "\n",
        "class NoNewData(Exception):\n",
        "    pass\n",
        "\n",
        "def readline(handle):\n",
        "    offset = handle.tell()\n",
        "    handle.seek(0,2)\n",
        "    length = handle.tell()\n",
        "\n",
        "    if length == offset:\n",
        "        raise NoNewData\n",
        "\n",
        "\n",
        "    handle.seek(offset, 0)\n",
        "    return handle.readline()"
      ],
      "metadata": {
        "id": "dPxocBg49mO0"
      },
      "execution_count": 1,
      "outputs": []
    },
    {
      "cell_type": "code",
      "source": [
        "#while 루프를 사용하여 작업자 스레드\n",
        "# 콜백 함수로 그 줄을 전달하여 출력 로그에 데이터 기록\n",
        "#데이터 없을 시 스레드 일시 정지 상태\n",
        "#입력 파일 핸들이 닫히면 스레드도 종료\n",
        "\n",
        "import time\n",
        "\n",
        "def tail_file(handle, interval, write_func):\n",
        "    while not handle.closed:\n",
        "        try:\n",
        "            line = readline(handle)\n",
        "        except NoNewData:\n",
        "            time.sleep(interval)\n",
        "        else:\n",
        "            write_func(line)"
      ],
      "metadata": {
        "id": "VWOVklcW-Ki3"
      },
      "execution_count": 2,
      "outputs": []
    },
    {
      "cell_type": "code",
      "source": [
        "#각 스레드의 출력을 한 출력 파일로 모으기\n",
        "# write 도우미 함수인 Lock인스턴스를 사용해서 출력 스트림에 데이터를 쓰는 순서 직렬화\n",
        "# 중간에 출동해서 서로 뒤섞이는 일 없게 한다.\n",
        "\n",
        "from threading import Lock, Thread\n",
        "\n",
        "def run_threads(handles, interval, output_path):\n",
        "    with open(output_path, 'wb') as output:\n",
        "        lock = Lock()\n",
        "        def write(data):\n",
        "            with lock:\n",
        "                output.write(data)\n",
        "\n",
        "        threads = []\n",
        "        for handle in handles:\n",
        "            args = (handle, interval, write)\n",
        "            thread = Thread(target = tail_file, args=args)\n",
        "            thread.start()\n",
        "            threads.append(thread)\n",
        "\n",
        "        for thread in threads:\n",
        "            thread.join()"
      ],
      "metadata": {
        "id": "EwjOs_D5-kXN"
      },
      "execution_count": 3,
      "outputs": []
    },
    {
      "cell_type": "markdown",
      "source": [
        "*스래드 기반 구현으로부터 점진적으로 asyncio 와 코루틴 기반을 바꾸기*\n",
        "\n",
        "### 하향식(top-down)\n",
        "   - main 진입점처럼 코드베이스에서 가장 높은 구성 요솝터 시작하여 개별 함수와 클래스로 내려가면서 작업\n",
        "   - 진입점부터 차례로 포팅해나가므로, 공통 모듈 포팅이 끝나면 모든 곳에서 코루틴 사용\n",
        "\n",
        "\n",
        "<br>\n",
        "\n",
        "- 순서\n",
        "\n",
        "   - 최상위 함수가 def 대신 async def를 사용하게 변경\n",
        "   - 최상위 함수가 I/O를 호출하는 부분을 asyncio.run_in_executor로 감싸라\n",
        "   - run_in_executor 호출이 사용하는 자원이나 콜백이 제대로 동기화 됐는지 확인\n",
        "   - 호출 계층의 잎 쪽으로 내려가면서 중간에 있는 함수와 메서드를 코루틴으로 변환하며 get_event_loop와 run_in_executor호출 없애려고 시도\n",
        "\n",
        "\n"
      ],
      "metadata": {
        "id": "Q7L_q_HP_jmv"
      }
    },
    {
      "cell_type": "code",
      "source": [
        "#run_thread 함수에 대해서 위의 1~3단계 따르기\n",
        "\n",
        "import asyncio\n",
        "\n",
        "async def run_tasks_mixed(handles, interval, output_path):\n",
        "    loop = asyncio.get_event_loop()\n",
        "    \n",
        "    with open(output_path, 'wb') as output:\n",
        "        async def write_async(data):\n",
        "            output.write(data)\n",
        "        \n",
        "        def write(data):\n",
        "            coro = write_async(data)\n",
        "            future = asyncio.run_coroutine_threadsafe(coro, loop) #Lock인스턴스와 writer 도우미 함수 필요 없다\n",
        "            future.result()\n",
        "\n",
        "        tasks = []\n",
        "        for handle in handles:\n",
        "            task = loop.run_in_executor(\n",
        "                None, tail_file, handle, interval, write)\n",
        "            tasks.append(task)\n",
        "\n",
        "        await asyncio.gather(*tasks) #데이터 기록 완료"
      ],
      "metadata": {
        "id": "wFFwGq0p_dSH"
      },
      "execution_count": 4,
      "outputs": []
    },
    {
      "cell_type": "code",
      "source": [
        "#호출 계층으로 한 단계 더 들어가서 run_tasks_mixed함수에 4단계 적용하기\n",
        "\n",
        "# 블로킹 I/O 대신 비동기 코루틴 사용하게 변경\n",
        "\n",
        "async def tail_async(handle, interval, write_func):\n",
        "    loop = asyncio.get_event_loop()\n",
        "\n",
        "    while not handle.closed:\n",
        "        try:\n",
        "            line = await loop.run_in_executor(None, readline, handle)\n",
        "        except NoNewData:\n",
        "            await asyncio.sleep(interval)\n",
        "        else:\n",
        "            await write_func(line)"
      ],
      "metadata": {
        "id": "7KEO-m1dBZ6g"
      },
      "execution_count": 5,
      "outputs": []
    },
    {
      "cell_type": "markdown",
      "source": [
        "## 상향식 접근 방법\n",
        "\n",
        "*하향식과 접근 방법이 비슷하지만 변환 과정에서 호출 계층을 반대 방향으로 옮겨간다는 점이 다르다*\n",
        "\n",
        "\n",
        "1. 프로그램에서 잎 부분에 있는, 포팅하려는 함수의 비동기 코루틴 버전을 새로 만들기\n",
        "\n",
        "2. 기존 동기 함수를 변경해서 코루틴 버전을 호출하고 실제 동작을 구현하는 이벤트 루프를 실행하라\n",
        "\n",
        "3. 호출 계층을 한 단계 올려서 다른 코루틴 계층을 만들고, 기존에 동기적 함수를 호출하던 부분을 1단계에서 정의한 코루틴 호출 바꾸기\n",
        "\n",
        "4. 비동기 부분을 결합하기 위해서 2단계에서 만든 동기적인 래퍼가 더 이상 필요하지 않고 삭제해라"
      ],
      "metadata": {
        "id": "F7l7gfrfClrC"
      }
    },
    {
      "cell_type": "code",
      "source": [
        "def tail_file(handle, interval, write_func):\n",
        "    loop = asyncio.new_event_loop()\n",
        "    asyncio.set_event_loop(loop)\n",
        "\n",
        "    async def write_async(data):\n",
        "        write_func(data)\n",
        "\n",
        "    coro = tail_async(handle, interval, write_async)\n",
        "    loop.run_until_complete(coro)"
      ],
      "metadata": {
        "id": "na9LdpTuClC6"
      },
      "execution_count": 6,
      "outputs": []
    },
    {
      "cell_type": "markdown",
      "source": [
        "### Summary\n",
        "\n",
        "- asyncio 이벤트 루프의 run_in_excutor 메서드(이 메서드에 대해서 await를 사용해 완료를 기다릴 수 있다)를 사용하면 코루틴이 ThreadPoolExecutor 스레드 풀을 사용해서 동기적인 함수 호출하고, 이 기능을 활용하면 코드를 하향식으로 asyncio로 마이크레이션할 수 있다.\n",
        "\n",
        "- asyncio 이벤트 루프의 run_until_complete 메서드를 사용하면 동기적인 코드가 코루틴을 호출하고 완료를 기다릴 수 있다. asyncio.run_coroutine_threadsafe도 같은 기능을 제공하지만 스레드 경계에서도 안전하게 작동한다. 이 두 메서드를 활용하면 코드를 상향식으로 asyncio로 마이그레이션할 때 도움이 된다."
      ],
      "metadata": {
        "id": "_mtyh_evDpD5"
      }
    },
    {
      "cell_type": "code",
      "source": [
        ""
      ],
      "metadata": {
        "id": "NC52oZJIDjMA"
      },
      "execution_count": null,
      "outputs": []
    }
  ]
}