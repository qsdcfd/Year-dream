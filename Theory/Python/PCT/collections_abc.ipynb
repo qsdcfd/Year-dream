{
  "nbformat": 4,
  "nbformat_minor": 0,
  "metadata": {
    "colab": {
      "name": "collections.abc",
      "provenance": [],
      "authorship_tag": "ABX9TyNXCEUV1wzJ71X7PoNkLipY"
    },
    "kernelspec": {
      "name": "python3",
      "display_name": "Python 3"
    },
    "language_info": {
      "name": "python"
    }
  },
  "cells": [
    {
      "cell_type": "markdown",
      "source": [
        "## 커스텀 컨테이너 타입은 collections.abc를 상속"
      ],
      "metadata": {
        "id": "wuFQj6CnHwLD"
      }
    },
    {
      "cell_type": "markdown",
      "source": [
        "**컨테이너: 함수와 애트리뷰트를 함께 캡슐화**\n",
        "\n",
        "- 데이터 관리\n",
        "\n",
        "   - 리스트\n",
        "   - 튜플\n",
        "   - 집합\n",
        "   - 딕셔너리"
      ],
      "metadata": {
        "id": "fCdZd3diHz3a"
      }
    },
    {
      "cell_type": "code",
      "source": [
        "#빈도 계산\n",
        "\"\"\"\n",
        "리스트의 하위 클래스를 만들어서 리스트가 제공하는 모든 표준함수 사용 가능\n",
        "\"\"\"\n",
        "class FrequencyList(list):\n",
        "    def __init__(self, members):\n",
        "        super().__init__(members)\n",
        "\n",
        "    def frequency(self):\n",
        "        counts = {}\n",
        "        for item in self:\n",
        "            counts[item] = counts.get(item, 0) + 1\n",
        "        return counts\n",
        "\n"
      ],
      "metadata": {
        "id": "oIco70H8IKhA"
      },
      "execution_count": 1,
      "outputs": []
    },
    {
      "cell_type": "code",
      "source": [
        "#위의 클래스를 활용하면 필요한 기능을 제공하는 메서드 추가 가능\n",
        "\n",
        "foo = FrequencyList(['a','b','a','c','b','a','d'])\n",
        "print('길이:',len(foo))\n",
        "\n",
        "foo.pop()\n",
        "print('pop한 다음:', repr(foo))\n",
        "print('빈도:', foo.frequency())"
      ],
      "metadata": {
        "colab": {
          "base_uri": "https://localhost:8080/"
        },
        "id": "Lv0_W8diIdmN",
        "outputId": "b2f2dc37-1557-4e2b-ebd8-231a9cce10f7"
      },
      "execution_count": 3,
      "outputs": [
        {
          "output_type": "stream",
          "name": "stdout",
          "text": [
            "길이: 7\n",
            "pop한 다음: ['a', 'b', 'a', 'c', 'b', 'a']\n",
            "빈도: {'a': 3, 'b': 2, 'c': 1}\n"
          ]
        }
      ]
    },
    {
      "cell_type": "code",
      "source": [
        "#인덱싱이 가능하지만 리스트의 하위 클래스는 만들기 싫다.\n",
        "\n",
        "class BinaryNode:\n",
        "    def __init__(self, value, left=None, right=None):\n",
        "        self.value =value\n",
        "        self.left = left\n",
        "        self.right = right\n",
        "\n"
      ],
      "metadata": {
        "id": "HZ4znjDYJVdw"
      },
      "execution_count": null,
      "outputs": []
    },
    {
      "cell_type": "code",
      "source": [
        "\"\"\"\n",
        "BinaryNode 클래스가 시퀀스처럼 작동하려면 트리 노드를 깊이 우선 순회하는\n",
        "커스텀 __getitem__메서드 구현 제공\n",
        "\"\"\"\n",
        "\n",
        "class IndexableNode(BinaryNode):\n",
        "    def _traverse(self):\n",
        "        if self.left is not None:\n",
        "            yield from self.left._traverse()\n",
        "        yield self\n",
        "        if self.right is not None:\n",
        "            yield from self.right._traverse()\n",
        "\n",
        "    def __getitem__(self, index):\n",
        "        for i , item in enumerate(self._traverse()):\n",
        "            if i == index:\n",
        "                return item.value\n",
        "        raise IndexError(f'인덱스 범위 초과: {index}')"
      ],
      "metadata": {
        "id": "OkHIs2CWKyYL"
      },
      "execution_count": 5,
      "outputs": []
    },
    {
      "cell_type": "markdown",
      "source": [
        "**추가 사항**\n",
        "\n",
        "올바른 시퀀스를 형성하기 위해서 __getitem__과 __len__으로는 부족하다.\n",
        "\n",
        "즉, 자신만의 컨테이너 타입을 직접 정의하는 것은 그만큼 어렵다."
      ],
      "metadata": {
        "id": "wyPB83y-LnFW"
      }
    },
    {
      "cell_type": "code",
      "source": [
        ""
      ],
      "metadata": {
        "id": "AJz8wm7NLxlb"
      },
      "execution_count": null,
      "outputs": []
    }
  ]
}