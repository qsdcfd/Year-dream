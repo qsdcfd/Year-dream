{
  "nbformat": 4,
  "nbformat_minor": 0,
  "metadata": {
    "colab": {
      "name": "다형성 활용",
      "provenance": [],
      "authorship_tag": "ABX9TyPKUvxekHxmVHhDg8l6Pteq"
    },
    "kernelspec": {
      "name": "python3",
      "display_name": "Python 3"
    },
    "language_info": {
      "name": "python"
    }
  },
  "cells": [
    {
      "cell_type": "markdown",
      "source": [
        "## 객체를 제너릭하게 구성하려면 @classmethod를 통한 다형성 활용하라\n",
        "\n",
        "**파이썬은 객체뿐만 아니라 클래스도 다형성 지원**\n",
        "\n",
        "- 다형성을 사용하면 계층을 이루는 여러 클래스가 자신에게 맞는 유일한 메서드 버전 구현\n",
        "\n",
        "   - 서로 다른 기능을 제공"
      ],
      "metadata": {
        "id": "1bdJKy5iDAWp"
      }
    },
    {
      "cell_type": "markdown",
      "source": [
        ""
      ],
      "metadata": {
        "id": "oavrXozWDMr7"
      }
    },
    {
      "cell_type": "code",
      "source": [
        "# 맵리듀스 구현\n",
        "# 입력 데이터를 표현할 수 있는 공동 클래스가 필요\n",
        "\n",
        "#read메서드가 들어있는 공통 클래스\n",
        "\n",
        "class InputData:\n",
        "    def read(self):\n",
        "        raise NotImplementedError"
      ],
      "metadata": {
        "id": "b7gUwGPAFv8B"
      },
      "execution_count": 1,
      "outputs": []
    },
    {
      "cell_type": "code",
      "source": [
        "#하위 클래스 만들어서 파일 읽기\\\n",
        "\n",
        "class PathInputData(InputData):\n",
        "    def __init__(self, path):\n",
        "        super().__init__()\n",
        "        self.path = path\n",
        "\n",
        "    def read(self):\n",
        "        with open(self.path) as f:\n",
        "            return f.read()"
      ],
      "metadata": {
        "id": "FBoMNqcjGa2B"
      },
      "execution_count": 2,
      "outputs": []
    },
    {
      "cell_type": "code",
      "source": [
        "#입력 데이터를 소비하는 공통 방법을 제공하는 추상 인터페이스\n",
        "class Worker:\n",
        "    def __init__(self, input_data):\n",
        "        self.input_data = input_data\n",
        "        self.result = None\n",
        "\n",
        "    def map(self):\n",
        "        raise NotImplementedError\n",
        "    \n",
        "    def reduce(self, other):\n",
        "        raise NotImplementedError\n",
        "\n",
        "        \n"
      ],
      "metadata": {
        "id": "TR86CRpRGqPh"
      },
      "execution_count": 3,
      "outputs": []
    },
    {
      "cell_type": "code",
      "source": [
        "#각 객체를 만들고 맵리듀스를 조합롭게 실행하는 법\n",
        "# 도우미 함수를 활용해서 직접 만들고 연결\n",
        "import os\n",
        "\n",
        "def generate_inputs(data_dir):\n",
        "    for name in os.listdir(data_dir):\n",
        "        yield PathInputData(os.path.join(data_dir,name))\n",
        "\n",
        "\"\"\"위의 함수를 통해서 InputData 인스턴스를 사용하는LineCountWorker 인스턴스를 만든다.\n",
        "\"\"\"\n",
        "\n",
        "def create_workers(input_list):\n",
        "    workers = []\n",
        "    for input_data in input_list:\n",
        "        workers.append(LineCountWorker(input_data))\n",
        "    return workers\n"
      ],
      "metadata": {
        "id": "kABi6gs1Hd1K"
      },
      "execution_count": 4,
      "outputs": []
    },
    {
      "cell_type": "code",
      "source": [
        "\"\"\"\n",
        "Worker인스턴스의 map단계를 여러 스레드에 공급해서 실행 가능\n",
        "\"\"\"\n",
        "\n",
        "from threading import Thread\n",
        "\n",
        "def execute(workers):\n",
        "    threads = [Thread(target=w.map) for w in workers]\n",
        "    for thread in threads: thread.start()\n",
        "    for thread in threads: thread.join()\n",
        "\n",
        "    first, *rest = workers\n",
        "    for worker in rest:\n",
        "        first.reduce(worker)\n",
        "    return first.result\n",
        "\n",
        "def mapreduce(data_dir):\n",
        "    inputs = generate_inputs(data_dir)\n",
        "    workers = create_workers(inputs)\n",
        "    return execute(workers)"
      ],
      "metadata": {
        "id": "QWGaIyIBKWmG"
      },
      "execution_count": 5,
      "outputs": []
    },
    {
      "cell_type": "code",
      "source": [
        "#클래스 메서드 다형성을 사용하여 제너릭한 방식으로 객체 구성\n",
        "\n",
        "\"\"\"\n",
        "클래스 메서드, 멥리듀스에 사용했던 클래스에 적용하기\n",
        "@classmethod적용된 클래스 메서드가 공통 인터페이스를 통해서 새로운 InputData 인스턴스 생성\n",
        "\"\"\"\n",
        "\n",
        "class GenericInputData:\n",
        "    def read(self):\n",
        "        raise NotImplementedError\n",
        "\n",
        "    @classmethod\n",
        "    def generate_inputs(cls, config):\n",
        "        raise NotImplementedError"
      ],
      "metadata": {
        "id": "IFvU5zj0MCW2"
      },
      "execution_count": 6,
      "outputs": []
    },
    {
      "cell_type": "code",
      "source": [
        "\n",
        "\"\"\"\n",
        "generate_input는 GenericInputData의 구체적인 하위 클래스가 객체 생성\n",
        "\"\"\" \n",
        "class PathInputData(InputData):\n",
        "    def __init__(self, path):\n",
        "        super().__init__()\n",
        "        self.path = path\n",
        "\n",
        "    def read(self):\n",
        "        with open(self.path) as f:\n",
        "            return f.read()\n",
        "\n",
        "    @classmethod\n",
        "    def generate_inputs(cls, config):\n",
        "        data_dir = config['data_dir']\n",
        "        for name in os.listdir(data_dir):\n",
        "            yield cls(os.path.join(data_dir, name))\n",
        "\n",
        "\n",
        "\n",
        "\n"
      ],
      "metadata": {
        "id": "4aAGqOfmM1Ss"
      },
      "execution_count": 11,
      "outputs": []
    },
    {
      "cell_type": "code",
      "source": [
        "\"\"\"\n",
        "위와 같은 방식으로 GenericWork클래스 안에 create_workers 도우미 메서드 추가\n",
        "도우마 메서드는 GenericInputData의 하위타입이어야하는 input_class 파라미터\n",
        "\"\"\"\n",
        "\n",
        "class GenericWorker:\n",
        "    def __init__(self, input_data):\n",
        "        self.input_data = input_data\n",
        "        self.result = None\n",
        "\n",
        "    def map(self):\n",
        "        raise NotImplementedError\n",
        "\n",
        "    def reduce(self, other):\n",
        "        raise NotImplementedError\n",
        "\n",
        "    @classmethod\n",
        "    def create_workers(cls, input_class, config):\n",
        "        workers = []\n",
        "        for input_data in input_class.generate_inputs(config):\n",
        "            workers.append(cls(input_data))\n",
        "        return workers\n"
      ],
      "metadata": {
        "id": "xCMfM_4tNP7Y"
      },
      "execution_count": 12,
      "outputs": []
    },
    {
      "cell_type": "code",
      "source": [
        "# mapreduce함수가 create_workers를 호출하게 변경해서 mapreduce를 완전한 제너릭 함수\n",
        "class LineCountWorker(GenericWorker):\n",
        "\n",
        "    def mapreduce(worker_class, input_class, config):\n",
        "        workers = worker_class.create_workers(input_class, config)\n",
        "        return execute(workers)\n",
        "\n",
        "#config = {'data_dir': }\n",
        "#result = mapreduce(LineCountWorker, PathInputData, config)\n",
        "#print(f'총 {result} 줄이 있습니다.')\n"
      ],
      "metadata": {
        "id": "YpBol-8nOJY-"
      },
      "execution_count": 15,
      "outputs": []
    },
    {
      "cell_type": "code",
      "source": [
        ""
      ],
      "metadata": {
        "id": "0EREyOXZO0Wr"
      },
      "execution_count": null,
      "outputs": []
    }
  ]
}