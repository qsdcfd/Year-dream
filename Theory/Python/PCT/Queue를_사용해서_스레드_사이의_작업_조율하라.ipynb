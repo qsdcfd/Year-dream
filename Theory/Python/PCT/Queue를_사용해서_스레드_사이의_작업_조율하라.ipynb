{
  "nbformat": 4,
  "nbformat_minor": 0,
  "metadata": {
    "colab": {
      "name": "Queue를 사용해서 스레드 사이의 작업 조율하라",
      "provenance": [],
      "authorship_tag": "ABX9TyMIPZENdeY+2ga5OxQBZ8nU"
    },
    "kernelspec": {
      "name": "python3",
      "display_name": "Python 3"
    },
    "language_info": {
      "name": "python"
    }
  },
  "cells": [
    {
      "cell_type": "markdown",
      "source": [
        "**Queue 사용 X**\n",
        "\n",
        "- 모든 작업이 다 끝났는지 검사를 하기 위해서 추가로 done_queue에 대해 바쁜 대기(busy waiting)를 수행\n",
        "\n",
        "- run메서드가 루프를 무한히 반복\n",
        "   - 작업자 스레드에게 루프를 중단할 시점을 알려줄 방도가 없다.\n",
        "\n",
        "- 파이프라인 진행이 막힐 경우 프로그램이 임의로 중단된다.\n",
        "\n",
        "<br>\n",
        "\n",
        "**Queue 사용 O**\n",
        "\n",
        "- 새로운 데이터가 나타날 때까지 get 메서드가 블록되게 하여 작업자의 바쁜 대기 문제를 해결\n",
        "   - get메서드가 반환할 원소가 생기기 전까지 스레드는 끝나지 않는다.\n",
        "\n",
        "- 파이프라인이 중간에 막히지 않는다.\n",
        "\n",
        "   - 두 단계 사이에 허용 가능한 미완성 작업의 최대 개수 지정\n",
        "\n",
        "   - 버퍼 크기를 정하면 큐가 이미 가득 찬 경우 put 블록\n",
        "\n",
        "   - 센티널 원소를 추가하는 close 메서드 정의\n",
        "\n",
        "\n",
        "- join()메서드를 활용하면 병렬성을 노이게 되어서프로그램의 속도 증가"
      ],
      "metadata": {
        "id": "1SCv8GVPIVmm"
      }
    },
    {
      "cell_type": "code",
      "source": [
        "#위와 같은 문제를 queue 내장 모듈에 있는 Queue 클래스는 앞에서 설명한 모든 문제 해결\n",
        "\n",
        "from queue import Queue\n",
        "from threading import Thread\n",
        "import time\n",
        "\n",
        "my_queue = Queue()\n",
        "\n",
        "def consumer():\n",
        "    print('소비자 대기')\n",
        "    my_queue.get() #다음에 보여줄 put()가 실행이 된 후에 실행\n",
        "    print('소비자 완료')\n",
        "\n",
        "thread = Thread(target=consumer)\n",
        "thread.start()\n",
        "\n",
        "print('생산자 데이터 추가')\n",
        "my_queue.put(object())\n",
        "\n",
        "print('생산자 완료')"
      ],
      "metadata": {
        "colab": {
          "base_uri": "https://localhost:8080/"
        },
        "id": "dh5M71lzJSgJ",
        "outputId": "2a715484-a74c-4ebf-fc01-76394bdc4226"
      },
      "execution_count": null,
      "outputs": [
        {
          "output_type": "stream",
          "name": "stdout",
          "text": [
            "소비자 대기\n",
            "생산자 데이터 추가\n",
            "생산자 완료소비자 완료\n",
            "\n"
          ]
        }
      ]
    },
    {
      "cell_type": "code",
      "source": [
        "#큐 작업 진행 감시 및 적당한 횟수 호출\n",
        "\n",
        "class CloseableQueue(Queue):\n",
        "    SENTINEL = object()\n",
        "\n",
        "    def close(self):\n",
        "        self.put(self.SENTINEL)\n",
        "\n",
        "    def __iter__(self):\n",
        "        while True:\n",
        "            item = self.get()\n",
        "            try:\n",
        "                if item is self.SENTTINEL:\n",
        "                    return #스레드를 종료\n",
        "\n",
        "                yield item\n",
        "\n",
        "            finally:\n",
        "                self.task_done()\n",
        "\n",
        "            \n",
        "class StoppableWorker(Thread):\n",
        "    def __init__(self, func, in_queue, out_queue):\n",
        "        super().__init__()\n",
        "        self.func = func\n",
        "        self.in_queue = in_queue\n",
        "        self.out_queue = out_queue\n",
        "\n",
        "    def run(self):\n",
        "        for item in self.in_queue:\n",
        "            result = self.func(item)\n",
        "            self.out_queue.put(result)"
      ],
      "metadata": {
        "id": "HhxaIJs_Md24"
      },
      "execution_count": null,
      "outputs": []
    },
    {
      "cell_type": "code",
      "source": [
        "def start_threads(count, *args):\n",
        "    threads = [StoppableWorker(*args) for _ in range(count)]\n",
        "    for thread in threads:\n",
        "        thread.start()\n",
        "    return threads\n",
        "\n",
        "def stop_threads(closable_queue, threads):\n",
        "    for _ in threads:\n",
        "        closable_queue.close()\n",
        "\n",
        "    closable_queue.join()\n",
        "\n",
        "    for thread in threads:\n",
        "        thread.join()"
      ],
      "metadata": {
        "id": "gdssqHgZQVAC"
      },
      "execution_count": null,
      "outputs": []
    },
    {
      "cell_type": "markdown",
      "source": [
        "### summary\n",
        "\n",
        "- 순차적인 작업을 동시에 여러 파이썬 스레드에서 실행되도록 조작하고 싶을 때, 특히 I/O위주의 프로그램인 경우라면 파이프라인이 매우 유용하다.\n",
        "\n",
        "- 동시성 파이프라인을 만들 때 발생할 수 있는 여러가지문제(바쁜 대기, 작업자에게 종료를 알리는 방법, 잠재적인 메모리 사용량 폭발 등)를 잘 알아두라.\n",
        "\n",
        "- Queue 클래스는 튼튼한 파이프라인을 구축할 때 필요한 기능인 블로킹 연산, 버퍼 크기 지정, join을 통한 완료 대기를 모두 제공"
      ],
      "metadata": {
        "id": "kp8Yd5ObPxOk"
      }
    },
    {
      "cell_type": "code",
      "source": [
        ""
      ],
      "metadata": {
        "id": "02cMX4GgQJPo"
      },
      "execution_count": null,
      "outputs": []
    }
  ]
}