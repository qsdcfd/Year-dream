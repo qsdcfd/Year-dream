{
  "nbformat": 4,
  "nbformat_minor": 0,
  "metadata": {
    "colab": {
      "name": "super",
      "provenance": [],
      "authorship_tag": "ABX9TyP0ntmmfPt+23KR+IsTLghA"
    },
    "kernelspec": {
      "name": "python3",
      "display_name": "Python 3"
    },
    "language_info": {
      "name": "python"
    }
  },
  "cells": [
    {
      "cell_type": "markdown",
      "source": [
        "# super로 부모 클래스를 초기화 하라"
      ],
      "metadata": {
        "id": "VYyQ7q4s-eTm"
      }
    },
    {
      "cell_type": "code",
      "source": [
        "#자식 인스턴스에서 부모 클래스의  __init__ 메서드를 직접 호출\n",
        "#부모 클래스 초기화\n",
        "#다중 상속에 영향을 받은 클래스가 있다면 잘 작동하지 않는다>\n",
        "\n",
        "class MyBaseClass:\n",
        "    def __init__(self, value):\n",
        "        self.value = value\n",
        "\n",
        "class MyChildClass(MyBaseClass):\n",
        "    def __init__(self):\n",
        "        MyBaseClass.__init__(self,5)"
      ],
      "metadata": {
        "id": "vDGyMcqc-pBu"
      },
      "execution_count": 1,
      "outputs": []
    },
    {
      "cell_type": "code",
      "source": [
        "\"다중 상속으로 인해 발생하는 문제: 모든 하위 클래스에서 __init__호출의 순서가 정해짐X 이로 인해서 예측할 수 없는 방식으로 작동\"\"\"\n",
        "\n",
        "class TimesTwo:\n",
        "    def __init__(self):\n",
        "        self.value *= 2\n",
        "\n",
        "class PlusFive:\n",
        "    def __init__(self):\n",
        "        self.value +=5\n",
        "\n",
        "class OneWay(MyBaseClass, TimesTwo, PlusFive):\n",
        "    def __init__(self, value):\n",
        "        MyBaseClass.__init__(self, value)\n",
        "        TimesTwo.__init__(self)\n",
        "        PlusFive.__init__(self)"
      ],
      "metadata": {
        "id": "-XRF7ZIw_GWY"
      },
      "execution_count": 2,
      "outputs": []
    },
    {
      "cell_type": "code",
      "source": [
        "#부모 클래스의 순서에 따라 초기화\n",
        "\n",
        "foo = OneWay(5)\n",
        "print('첫 번째 부모 클래스 순서에 따른 값은 (5*2) + 5 =', foo.value)"
      ],
      "metadata": {
        "colab": {
          "base_uri": "https://localhost:8080/"
        },
        "id": "R7Ey4X83BDq5",
        "outputId": "edfb5b6d-3fd9-4b0e-f96a-783645970b2c"
      },
      "execution_count": 3,
      "outputs": [
        {
          "output_type": "stream",
          "name": "stdout",
          "text": [
            "첫 번째 부모 클래스 순서에 따른 값은 (5*2) + 5 = 15\n"
          ]
        }
      ]
    },
    {
      "cell_type": "code",
      "source": [
        "#순서를 바꿔도 결과가 동일하다는 것은 부모 클래스의 나열한 순서와 부모 클래스의 생성자 호출 순서 불일치\n",
        "class AnotherWay(MyBaseClass, PlusFive, TimesTwo):\n",
        "    def __init__(self, value):\n",
        "        MyBaseClass.__init__(self, value)\n",
        "        TimesTwo.__init__(self)\n",
        "        PlusFive.__init__(self)"
      ],
      "metadata": {
        "id": "33xtsVukBaL9"
      },
      "execution_count": 4,
      "outputs": []
    },
    {
      "cell_type": "code",
      "source": [
        "\n",
        "bar = AnotherWay(5)\n",
        "print('두 번째 부모 클래스 순서에 따른 값은 (5*2) + 5 =', bar.value)"
      ],
      "metadata": {
        "colab": {
          "base_uri": "https://localhost:8080/"
        },
        "id": "7xwvL3ANBlvO",
        "outputId": "89e8fe33-6bfb-4a02-be60-796bb873cdb5"
      },
      "execution_count": 5,
      "outputs": [
        {
          "output_type": "stream",
          "name": "stdout",
          "text": [
            "두 번째 부모 클래스 순서에 따른 값은 (5*2) + 5 = 15\n"
          ]
        }
      ]
    },
    {
      "cell_type": "code",
      "source": [
        "\"\"\"\n",
        "파이썬에는 super라는 내장 함수와 표준 메서드 결정 순서(MRO)가 있다.\n",
        "super를 사용하면 다이아몬드 계층의 공동 상위 크랠스르 한 번만 호출\n",
        "MRO는 상위 클래스를 초기화하는 순서 정의\n",
        "C3 선형화라는 알고리즘 사용\n",
        "\n",
        "다이아몬드의 정점에 있는 MyBaseClass__init__는 단 한 번만 실행된다.\n",
        "다른 부모 클래스의 생성자는 class문에 지정된 순서로 호출\n",
        "\"\"\"\n",
        "\n",
        "class TimesSevenCorrect(MyBaseClass):\n",
        "    def __init__(self, value):\n",
        "        super().__init__(value)\n",
        "        self.value *= 7\n",
        "\n",
        "class PlusNineCorrect(MyBaseClass):\n",
        "    def __init__(self, value):\n",
        "        super().__init__(value)\n",
        "        self.value += 9\n",
        "\n",
        "class GoodWay(TimesSevenCorrect, PlusNineCorrect):\n",
        "    def __init__(self, value):\n",
        "        super().__init__(value)"
      ],
      "metadata": {
        "id": "qx0OMMjsB5Fi"
      },
      "execution_count": 6,
      "outputs": []
    },
    {
      "cell_type": "code",
      "source": [
        "foo = GoodWay(5)\n",
        "print('7*(5+9)=98이 나와야하고 실제로도', foo.value)"
      ],
      "metadata": {
        "colab": {
          "base_uri": "https://localhost:8080/"
        },
        "id": "HSJWOAfYDqFY",
        "outputId": "dc714529-29c4-4cde-ae14-6dd41a9b2a4a"
      },
      "execution_count": 7,
      "outputs": [
        {
          "output_type": "stream",
          "name": "stdout",
          "text": [
            "7*(5+9)=98이 나와야하고 실제로도 98\n"
          ]
        }
      ]
    },
    {
      "cell_type": "code",
      "source": [
        "mro_str = '\\n'.join(repr(cls) for cls in GoodWay.mro())\n",
        "print(mro_str)"
      ],
      "metadata": {
        "colab": {
          "base_uri": "https://localhost:8080/"
        },
        "id": "FcQ74LWWD0WQ",
        "outputId": "59fcd41e-5348-4df2-f9fc-c6bd952f38b1"
      },
      "execution_count": 9,
      "outputs": [
        {
          "output_type": "stream",
          "name": "stdout",
          "text": [
            "<class '__main__.GoodWay'>\n",
            "<class '__main__.TimesSevenCorrect'>\n",
            "<class '__main__.PlusNineCorrect'>\n",
            "<class '__main__.MyBaseClass'>\n",
            "<class 'object'>\n"
          ]
        }
      ]
    },
    {
      "cell_type": "code",
      "source": [
        "#object 인스턴스를 초기할 때 두 파라미터를 지정할 필요가 없다.\n",
        "\n",
        "\n",
        "class ExplicitTrisect(MyBaseClass):\n",
        "    def __init__(self, value):\n",
        "        super(ExplicitTrisect, self).__init__(value)\n",
        "        self.value /= 3\n",
        "\n",
        "class AutomaticTrisect(MyBaseClass):\n",
        "    def __init__(self, value):\n",
        "        super(__class__, self).__init__(value)\n",
        "        self.value /=3\n",
        "\n",
        "class ImplicitTrisect(MyBaseClass):\n",
        "    def __init__(self, value):\n",
        "        super().__init__(value)\n",
        "        self.value /= 3\n",
        "\n",
        "assert ExplicitTrisect(9).value ==3\n",
        "assert AutomaticTrisect(9).value ==3\n",
        "assert ImplicitTrisect(9).value ==3"
      ],
      "metadata": {
        "id": "5la1VpigEXUp"
      },
      "execution_count": 12,
      "outputs": []
    },
    {
      "cell_type": "markdown",
      "source": [
        "- 파이썬은 표준 메서드 결정 순서(MRO)를 활용해서 상위 클래스 초기화 순서와 다이아몬드 상속 문제 해결\n",
        "\n",
        "- 부모 클래스를 초기화할 때는 super내장 함수를 아무 인자없이 호촐하라 \n",
        "\n",
        "   - 파이썬 컴파일러가 자동으로 올바른 파라미터 넣어준다.\n",
        "\n",
        "- super에 파라미터 지정하는 유일한 경우\n",
        "\n",
        "    - 자식 클래스에서 상위 클래스의 특정 기능에 접근"
      ],
      "metadata": {
        "id": "8X0sQsCuFNAm"
      }
    }
  ]
}