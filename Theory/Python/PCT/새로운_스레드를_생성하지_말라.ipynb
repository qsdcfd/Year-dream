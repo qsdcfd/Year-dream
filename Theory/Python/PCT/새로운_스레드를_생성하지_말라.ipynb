{
  "nbformat": 4,
  "nbformat_minor": 0,
  "metadata": {
    "colab": {
      "name": "새로운 스레드를 생성하지 말라",
      "provenance": [],
      "authorship_tag": "ABX9TyONd4d7gkdtoaXFzOwZgO6H"
    },
    "kernelspec": {
      "name": "python3",
      "display_name": "Python 3"
    },
    "language_info": {
      "name": "python"
    }
  },
  "cells": [
    {
      "cell_type": "markdown",
      "source": [
        "## 요구에 따라 팬아웃을 진행하려면 새로운 스레드를 생성하지 말라"
      ],
      "metadata": {
        "id": "-fOJ_aOJ-p6b"
      }
    },
    {
      "cell_type": "markdown",
      "source": [
        "**파이썬에서 병렬 I/O를 실행하고 싶을때, 자연스럽게 스레드 사용을 고려하지만 팬아웃을 수행하고자 할 때 스레드를 사용할 경우 큰 단점을 마주하게된다.**\n",
        "\n",
        "<br>\n",
        "\n",
        "1. Thread 인스턴스를 서로 안전하게 조율하려면 특별한 도구가 필요하다\n",
        "\n",
        "2. 스레드는 메모리를 많이 사용하며, 스레드 하나당 약 8MB가 더 필요하다.\n",
        "\n",
        "3. 스레드를 시작하는 비용이 비싸고, 컨텍스트 전환에 비용이 들기 때문에 스레드는 성능에 부정적인 영향을 미친다.\n",
        "\n",
        "4. 코드가 문제가 생길 때 디버깅을 하기가 매우 어렵다"
      ],
      "metadata": {
        "id": "3zd_uvzI-zeq"
      }
    },
    {
      "cell_type": "code",
      "source": [
        "#예시\n",
        "\"\"\"\n",
        "이 함수를 가리키는 Thread 인스턴스를 실행하고, 프로그램의 sys.stderr출력을\n",
        "메모리상의 StringIO 버퍼로 전달하여 무슨 일이 생기는지 볼 수 있다.\n",
        "\"\"\"\n",
        "\n",
        "import contextlib\n",
        "import io\n",
        "\n",
        "fake_stderr = io.StringIO()\n",
        "with contextlib.redirect_stderr(fake_stderr):\n",
        "    thread =  Thread(target=game_logic, args=(ALIVE,3))\n",
        "    thread.start()\n",
        "    thread.join()\n",
        "\n",
        "print(fake_stderr.getvalue())    "
      ],
      "metadata": {
        "id": "qYADVCLm--Au"
      },
      "execution_count": null,
      "outputs": []
    },
    {
      "cell_type": "code",
      "source": [
        "\"\"\"\n",
        "Exception in thread Thread-226:\n",
        "Traceback (most recent call last):\n",
        "    File \"threading.py\", line 917, in_bootstrap_inner\n",
        "        self.run()\n",
        "    File \"threading.py\" line 865, in run\n",
        "        self._target(*self._args, **self._kwargs)\n",
        "    File \"example.py\", line 193, in game_logic\n",
        "        raise OSError('I/O 문제 발생')\n",
        "OSError: I/O 문제 발생\n",
        "\"\"\""
      ],
      "metadata": {
        "colab": {
          "base_uri": "https://localhost:8080/",
          "height": 72
        },
        "id": "yF172BKxASvs",
        "outputId": "d8d5c1e8-554f-443d-babb-cf1000618627"
      },
      "execution_count": 2,
      "outputs": [
        {
          "output_type": "execute_result",
          "data": {
            "text/plain": [
              "'\\nException in thread Thread-226:\\nTraceback (most recent call last):\\n    File \"threading.py\", line 917, in_bootstrap_inner\\n        self.run()\\n    File \"threading.py\" line 865, in run\\n        self._target(*self._args, **self._kwargs)\\n    File \"example.py\", line 193, in game_logic\\n        raise OSError(\\'I/O 문제 발생\\')\\nOSError: I/O 문제 발생\\n'"
            ],
            "application/vnd.google.colaboratory.intrinsic+json": {
              "type": "string"
            }
          },
          "metadata": {},
          "execution_count": 2
        }
      ]
    },
    {
      "cell_type": "markdown",
      "source": [
        "### Summary\n",
        "\n",
        "- 스레드에는 많은 단점이 있으므로 스레드를 시작하고 실행하는데 비용이 들기 때문에 스레드가 많이 필요하면 상당한 메모리를 사용한다.\n",
        "\n",
        "- 스레드 사이를 조율하기 위해서 Lock과 같은 특별한 도구를 사용한다.\n",
        "\n",
        "- 스레드를 시작하거나 스레드가 종료하기를 기다리는 코드에게 스레드 실행 중에 발생한 예외를 돌려주는 파이썬 내장 기능이 없으므로 스레드 디버깅이 더 어려워진다."
      ],
      "metadata": {
        "id": "d1qTf55HA4uE"
      }
    },
    {
      "cell_type": "code",
      "source": [
        ""
      ],
      "metadata": {
        "id": "5baSBNXBAVmL"
      },
      "execution_count": null,
      "outputs": []
    }
  ]
}