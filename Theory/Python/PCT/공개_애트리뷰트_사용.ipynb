{
  "nbformat": 4,
  "nbformat_minor": 0,
  "metadata": {
    "colab": {
      "name": "공개 애트리뷰트 사용",
      "provenance": [],
      "authorship_tag": "ABX9TyMhcl2hWLdsauphkTb/yDIL"
    },
    "kernelspec": {
      "name": "python3",
      "display_name": "Python 3"
    },
    "language_info": {
      "name": "python"
    }
  },
  "cells": [
    {
      "cell_type": "markdown",
      "source": [
        "## 비공개 애트리뷰트보다는 공개 애트리뷰트를 사용하라\n"
      ],
      "metadata": {
        "id": "qUDMjOiEwypZ"
      }
    },
    {
      "cell_type": "code",
      "source": [
        "class MyObject:\n",
        "    def __init__(self):\n",
        "        self.public_field = 5\n",
        "        self.__private_field = 10\n",
        "\n",
        "    def get_private_field(self):\n",
        "        return self.__private_field\n",
        "\n",
        "#객체 뒤에 점 연산자(.)를 붙이면 공개 애트리뷰트에 접근\n",
        "foo = MyObject()\n",
        "assert foo.public_field == 5\n",
        "\n",
        "#애트리뷰트 이름 앞에 밀줄을 두 개(__)붙이면 비공개 필드\n",
        "\n",
        "assert foo.get_private_field() == 10"
      ],
      "metadata": {
        "id": "kXQpje6Yw-3_"
      },
      "execution_count": 2,
      "outputs": []
    },
    {
      "cell_type": "code",
      "source": [
        "#하위 클래스는 부모 클래스의 비공개 필드에 접근할 수 없다.\n",
        "\n",
        "class MyParentObject:\n",
        "    def __init__(self):\n",
        "        self.__private_field = 71\n",
        "\n",
        "class MyChildObject(MyParentObject):\n",
        "    def get_private_field(self):\n",
        "        return self.__private_field\n",
        "\n",
        "baz = MyChildObject()\n",
        "baz.get_private_field()"
      ],
      "metadata": {
        "colab": {
          "base_uri": "https://localhost:8080/",
          "height": 339
        },
        "id": "IWtdRKf_xvn4",
        "outputId": "6d899ad2-f216-4e25-e4f8-aed2131dd5a7"
      },
      "execution_count": 3,
      "outputs": [
        {
          "output_type": "error",
          "ename": "AttributeError",
          "evalue": "ignored",
          "traceback": [
            "\u001b[0;31m---------------------------------------------------------------------------\u001b[0m",
            "\u001b[0;31mAttributeError\u001b[0m                            Traceback (most recent call last)",
            "\u001b[0;32m<ipython-input-3-19a501d8cdb4>\u001b[0m in \u001b[0;36m<module>\u001b[0;34m()\u001b[0m\n\u001b[1;32m     10\u001b[0m \u001b[0;34m\u001b[0m\u001b[0m\n\u001b[1;32m     11\u001b[0m \u001b[0mbaz\u001b[0m \u001b[0;34m=\u001b[0m \u001b[0mMyChildObject\u001b[0m\u001b[0;34m(\u001b[0m\u001b[0;34m)\u001b[0m\u001b[0;34m\u001b[0m\u001b[0;34m\u001b[0m\u001b[0m\n\u001b[0;32m---> 12\u001b[0;31m \u001b[0mbaz\u001b[0m\u001b[0;34m.\u001b[0m\u001b[0mget_private_field\u001b[0m\u001b[0;34m(\u001b[0m\u001b[0;34m)\u001b[0m\u001b[0;34m\u001b[0m\u001b[0;34m\u001b[0m\u001b[0m\n\u001b[0m",
            "\u001b[0;32m<ipython-input-3-19a501d8cdb4>\u001b[0m in \u001b[0;36mget_private_field\u001b[0;34m(self)\u001b[0m\n\u001b[1;32m      7\u001b[0m \u001b[0;32mclass\u001b[0m \u001b[0mMyChildObject\u001b[0m\u001b[0;34m(\u001b[0m\u001b[0mMyParentObject\u001b[0m\u001b[0;34m)\u001b[0m\u001b[0;34m:\u001b[0m\u001b[0;34m\u001b[0m\u001b[0;34m\u001b[0m\u001b[0m\n\u001b[1;32m      8\u001b[0m     \u001b[0;32mdef\u001b[0m \u001b[0mget_private_field\u001b[0m\u001b[0;34m(\u001b[0m\u001b[0mself\u001b[0m\u001b[0;34m)\u001b[0m\u001b[0;34m:\u001b[0m\u001b[0;34m\u001b[0m\u001b[0;34m\u001b[0m\u001b[0m\n\u001b[0;32m----> 9\u001b[0;31m         \u001b[0;32mreturn\u001b[0m \u001b[0mself\u001b[0m\u001b[0;34m.\u001b[0m\u001b[0m__private_field\u001b[0m\u001b[0;34m\u001b[0m\u001b[0;34m\u001b[0m\u001b[0m\n\u001b[0m\u001b[1;32m     10\u001b[0m \u001b[0;34m\u001b[0m\u001b[0m\n\u001b[1;32m     11\u001b[0m \u001b[0mbaz\u001b[0m \u001b[0;34m=\u001b[0m \u001b[0mMyChildObject\u001b[0m\u001b[0;34m(\u001b[0m\u001b[0;34m)\u001b[0m\u001b[0;34m\u001b[0m\u001b[0;34m\u001b[0m\u001b[0m\n",
            "\u001b[0;31mAttributeError\u001b[0m: 'MyChildObject' object has no attribute '_MyChildObject__private_field'"
          ]
        }
      ]
    },
    {
      "cell_type": "markdown",
      "source": [
        "기억해야 내용 \n",
        "• 파이썬 컴파일러는 비공개 트리뷰트를 자식 클래스나 클래스 외부에서 사용하지 못하도록 엄격히 금지하지 않는다.\n",
        "\n",
        "• 여러분의 내부 AP 에 있는 클래스의 하위 클래스를 정의하는 사람둘이 여러분이 제공하는 클래스의 애트리뷰트를 사용하지 못하도록 막기보다는 애트리뷰트를 사용해 더 많은 일을 할 수 있게 허용하다.\n",
        "\n",
        "• 비공개 에트리뷰트로 (외부나 위 래스의) 접근을 막으려고 시도하기보다는 보호된  필드를 사용하면서 문서에 절한 가이드를 남겨라. \n",
        "\n",
        "• 여러분이 코드 작성을 제어할 수 없는 하위 클래스에서 이름 충돌이 어나는 경우를 막고 싶을 때만 비공개 애트리뷰트를 용할 것을 권한다. \n"
      ],
      "metadata": {
        "id": "MWYGDNBR3ST2"
      }
    },
    {
      "cell_type": "code",
      "source": [
        ""
      ],
      "metadata": {
        "id": "Of9rEcZT3hFZ"
      },
      "execution_count": null,
      "outputs": []
    }
  ]
}