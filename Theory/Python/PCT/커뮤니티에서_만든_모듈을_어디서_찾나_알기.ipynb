{
  "nbformat": 4,
  "nbformat_minor": 0,
  "metadata": {
    "colab": {
      "provenance": [],
      "authorship_tag": "ABX9TyPXvyjveKTPGTt0WD585F6l"
    },
    "kernelspec": {
      "name": "python3",
      "display_name": "Python 3"
    },
    "language_info": {
      "name": "python"
    }
  },
  "cells": [
    {
      "cell_type": "markdown",
      "source": [
        "## 모듈 찾기\n",
        "\n",
        ">파이썬에는 프로그램 설치하고 사용할 수 있는 모듈을 모아둔 중앙 저장소인 (pypi.org)라는 곳이 있다.\n",
        ">이러한 모듈은 파이썬을 이용하는 사람들로부터 만들어지고 유지보수가 된다.\n",
        ">그러므로, 어려운 난제에 직면할 시 파이썬 패키지 인덱스(PyPI)에서 찾아 보기\n",
        "\n",
        "<br>\n",
        "\n",
        "**패키지 인덱스를 사용하려면 pip라는 명렬줄 도구 사용**\n",
        "\n",
        "- 예시: pip installs packages\n",
        "\n",
        "- python3 -m pip 사용하여 pip 호출 시 패키지가 시스템에 설치된 파이썬 버전에 맞게 설치\n",
        "\n",
        "- pip를 사용하면 새로운 모듈을 쉽게 설치할 수 있다.\n",
        "\n",
        "<br>\n",
        "\n",
        "**설치된 패키지는 어디있을까?**\n",
        "\n",
        "- venv라는 내장 모듈과 함께 사용하는 것이 가장 유용하다.\n",
        "\n",
        "- PyPI 패키지를 직접 만들고 파이썬 커뮤니티와 공유하거나 pip에서 사용하기 위해 비공개 패키지 저장소\n",
        "\n",
        "<br>\n",
        "\n",
        "*추가로 알 것*\n",
        "\n",
        "- PyPI에 들어 있는 각 모듈은 서로 다른 라이선스 제공\n",
        "\n",
        "    - 대부분의 패키지(유명하고 자유로운 오픈소스 라이선스)로 제공된다.\n",
        "    \n",
        "    - 프로그램에 모듈을 복사해서 포함시킬 수 있게 허용하지만 확인할 필요는 있다.\n",
        "    \n",
        "<br>\n",
        "\n",
        "### Summary\n",
        "\n",
        "- 파이썬 패키지 인덱스(PyPI)에는 파이썬 커뮤니티가 개발하고 유지하는 풍부한 공통 패키지가 들어 있다.\n",
        "\n",
        "- pip는 PyPI에 있는 패키지를 설치하고 사용할 때 쓸 수 있는 명령줄 도구다.\n",
        "\n",
        "- PyPI모듈의 대다수는 자유 소프트웨어이거나 오픈 소스 소프트웨어다."
      ],
      "metadata": {
        "id": "yJO5Cr5PkJqR"
      }
    },
    {
      "cell_type": "code",
      "source": [],
      "metadata": {
        "id": "evcgmQKKkJ2t"
      },
      "execution_count": null,
      "outputs": []
    }
  ]
}