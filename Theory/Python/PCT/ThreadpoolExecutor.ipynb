{
  "nbformat": 4,
  "nbformat_minor": 0,
  "metadata": {
    "colab": {
      "name": "ThreadpoolExecutor",
      "provenance": [],
      "authorship_tag": "ABX9TyMDhzMqMKgWE5Ewb0TM2s6Y"
    },
    "kernelspec": {
      "name": "python3",
      "display_name": "Python 3"
    },
    "language_info": {
      "name": "python"
    }
  },
  "cells": [
    {
      "cell_type": "markdown",
      "source": [
        "## 동시성을 위해 스레드가 필요한 경우에는 ThreadpoolExecutor를 사용하라\n",
        "\n",
        "**Thread와 Queue를 사용한 접근 방법들의 장점을 조합하여 병령 I/O문제를 해결한다.**"
      ],
      "metadata": {
        "id": "fBGaKMsYALY9"
      }
    },
    {
      "cell_type": "code",
      "source": [
        "#함수를 실행기에 제출하여 팬아웃한다.\n",
        "#제출받은 함수를 별도의 스레드에서 수행\n",
        "ALIVE = '*'\n",
        "EMPTY = '-'\n",
        "\n",
        "class Grid:\n",
        "    ...\n",
        "\n",
        "class LockingGrid(Grid):\n",
        "    ...\n",
        "\n",
        "def count_neighbors(y, x, get):\n",
        "    ...\n",
        "\n",
        "def game_logic(state, neighbors):\n",
        "    ...\n",
        "    data = my_socket.recv(100) #여기서 블로킹 I/O를 수행한다.\n",
        "    ...\n",
        "\n",
        "def stet_cell(y,x, get,set):\n",
        "    state = get(y,x)\n",
        "    neighbors = count_neighbors(y,x,get)\n",
        "    next_state = game_logic(state, neighbors)\n",
        "    set(y, x, next_state)"
      ],
      "metadata": {
        "id": "clVZKZRXAbYb"
      },
      "execution_count": null,
      "outputs": []
    },
    {
      "cell_type": "code",
      "source": [
        "#팬인하기 위한 모든 작업의 결과를 기다린다.\n",
        "from concurrent.futures import ThreadPoolExecutor\n",
        "\n",
        "def simulate_pool(pool, grid):\n",
        "    next_grid = LockingGrid(grid.height, grid.width)\n",
        "    futures = []\n",
        "    for y in range(grid.height):\n",
        "        for x in range(grid.width):\n",
        "            args = (y,x, grid.get, next_grid.set)\n",
        "            future = pool.submit(step_cell, *args)#팬 아웃\n",
        "\n",
        "    for future in futures:\n",
        "        future.result() #팬인\n",
        "\n",
        "    return next_grid"
      ],
      "metadata": {
        "id": "deHA_WYpC1ls"
      },
      "execution_count": null,
      "outputs": []
    },
    {
      "cell_type": "code",
      "source": [
        "#사용할 스레드를 미리 할당하여 simulate_pool을 실행할 때마다 스레드를 시작하는데 비용이 들지 않는다.\n",
        "#병렬 I/O 문제를 처리하기 위해서 Thread를 별 생각없이 사용하면 메모리 부족 현상이 일어날 수 있기에\n",
        "#pool 사용할 스레드 최대 개수 지정하여 해결(max_workers 파라미터)\n",
        "\n",
        "class ColumnPrinter:\n",
        "    ...\n",
        "\n",
        "grid = LockingGrid(5,9)\n",
        "grid.set(0,3,ALIVE)\n",
        "grid.set(1,4,ALIVE)\n",
        "grid.set(2,2,ALIVE)\n",
        "grid.set(2,3,ALIVE)\n",
        "grid.set(2, 4,ALIVE)\n",
        "\n",
        "columns = ColumnPrinter()\n",
        "with ThreadPoolExecutor(max_workers=10) as pool:\n",
        "    for i in range(5):\n",
        "        columns.append(str(grid))\n",
        "        grid = simulate_pool(pool, grid)\n",
        "\n",
        "print(columns)"
      ],
      "metadata": {
        "id": "ZWj2DBWDDGIG"
      },
      "execution_count": null,
      "outputs": []
    },
    {
      "cell_type": "code",
      "source": [
        "#스레드를 실행하는 중에 발생한 예외를 자동으로 전파\n",
        "\n",
        "def game_logic(state, neighbors):\n",
        "    ...\n",
        "    raise OSError('I/O 문제 발생')\n",
        "    ...\n",
        "\n",
        "with ThreadPoolExecutor(max_workers=10) as pool:\n",
        "    task = pool.submit(game_logic, ALIVE, 3)\n",
        "    task.result()\n",
        "\n",
        "\"\"\"\n",
        "Traceback...\n",
        "OSError: I/O문제 발생\n",
        "\"\"\""
      ],
      "metadata": {
        "id": "yo5gROxZEPde"
      },
      "execution_count": null,
      "outputs": []
    },
    {
      "cell_type": "markdown",
      "source": [
        "### Summary\n",
        "\n",
        "- ThreadPoolExecutor를 사용하여 한정된 리팩터링만으로 간단한 I/O병렬성을 활성화할 수 있고, 동시성을 팬아웃해야 하는 경우에 발생하는 스레드 시작 비용을 쉽게 줄일 수 있다.\n",
        "\n",
        "- ThreadPoolExecutor를 사용하면 스레드를 직접 사용할 때 발생할 수 있는 잠재적인 메모리 낭비 문제를 없애주면 max_workers의 개수를 미리 지정해야하므로 I/O 병렬성을 제한한다."
      ],
      "metadata": {
        "id": "f77VbWSEErOS"
      }
    },
    {
      "cell_type": "code",
      "source": [
        ""
      ],
      "metadata": {
        "id": "34GQ0bWnFFr_"
      },
      "execution_count": null,
      "outputs": []
    }
  ]
}