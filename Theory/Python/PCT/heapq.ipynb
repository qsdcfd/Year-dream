{
  "nbformat": 4,
  "nbformat_minor": 0,
  "metadata": {
    "colab": {
      "provenance": [],
      "authorship_tag": "ABX9TyNVhoDisut6iQTDQFOB5qsw"
    },
    "kernelspec": {
      "name": "python3",
      "display_name": "Python 3"
    },
    "language_info": {
      "name": "python"
    }
  },
  "cells": [
    {
      "cell_type": "markdown",
      "source": [
        "# 우선순위 큐로 heapq를 사용하는 방법 알기\n",
        "\n",
        "**파이썬이 제공하는 다른 큐 구현들은 선인선출이라는 제약이 있다.**\n",
        "\n",
        "그러나, 우선순위 큐는 원소간의 상대적인 중요도에 따라서 원소를 정렬합니다."
      ],
      "metadata": {
        "id": "cJ-b4TG4icnz"
      }
    },
    {
      "cell_type": "code",
      "execution_count": 1,
      "metadata": {
        "id": "oQOLPk2Vh1bu"
      },
      "outputs": [],
      "source": [
        "#대출한 책 표현\n",
        "\n",
        "\"\"\"\n",
        "연체 메시지 시스템일 필요하다.\n",
        "최근에 발간된 책이나 유명한 책인지 요소에 따라 다르다\n",
        "FIFO 사용 불가\n",
        "\"\"\"\n",
        "\n",
        "class Book:\n",
        "    def __init__(self,title, due_date):\n",
        "        self.title = title\n",
        "        self.due_date = due_date\n",
        "\n"
      ]
    },
    {
      "cell_type": "code",
      "source": [
        "#Book이 도착할 때마다 원소를 정렬해서 기능\n",
        "\n",
        "def add_book(queue, book):\n",
        "    queue.append(book)\n",
        "    queue.sort(key=lambda x: x.due_date, reverse=True)\n",
        "\n",
        "queue = []\n",
        "add_book(queue, Book('돈기호테', '2020-06-07'))\n",
        "add_book(queue, Book('프랑켄슈타인', '2020-06-05'))\n",
        "add_book(queue, Book('레미제라블', '2020-06-08'))\n",
        "add_book(queue, Book('전쟁과 평화', '2020-06-03'))\n",
        "\n",
        "\n"
      ],
      "metadata": {
        "id": "1AOsZ0iuvkqd"
      },
      "execution_count": 2,
      "outputs": []
    },
    {
      "cell_type": "markdown",
      "source": [
        "**리스트에서 연체된 책이 있으면 그런 책을 한 권 찾아 큐에서 제거하고 돌려주는 함수를 정의**"
      ],
      "metadata": {
        "id": "wSqoHuRXwZ3P"
      }
    },
    {
      "cell_type": "code",
      "source": [
        "class NoOverdueBooks(Exception):\n",
        "    pass\n",
        "\n",
        "def next_overdue_book(queue, now):\n",
        "    if queue:\n",
        "        book = queue[-1]\n",
        "        if book.due_date < now:\n",
        "            queue.pop()\n",
        "            return book\n",
        "\n",
        "    raise NoOverdueBooks\n"
      ],
      "metadata": {
        "id": "C5hjYidzwZG1"
      },
      "execution_count": 3,
      "outputs": []
    },
    {
      "cell_type": "markdown",
      "source": [
        "**연체된 책들을 찾고, 연체 기간이 가장 긴 책부터 짧은 책 순서로 회원들**"
      ],
      "metadata": {
        "id": "dWwgptO8xISg"
      }
    },
    {
      "cell_type": "code",
      "source": [
        "now = \"2020-06-10\"\n",
        "\n",
        "found = next_overdue_book(queue, now)\n",
        "print(found.title)\n",
        "\n",
        "found = next_overdue_book(queue, now)\n",
        "print(found.title)"
      ],
      "metadata": {
        "colab": {
          "base_uri": "https://localhost:8080/"
        },
        "id": "aFN8qaouxAGl",
        "outputId": "e4a2ff32-f40c-45c1-a768-2ad00f07a765"
      },
      "execution_count": 4,
      "outputs": [
        {
          "output_type": "stream",
          "name": "stdout",
          "text": [
            "전쟁과 평화\n",
            "프랑켄슈타인\n"
          ]
        }
      ]
    },
    {
      "cell_type": "markdown",
      "source": [
        "**책 만기일 이전에 반환 시, 리스트에서 반납된 Book을 제거해 연체 통지가 예정된 책 목록에서 해당 책을 제거할 수 있다.**"
      ],
      "metadata": {
        "id": "0Q7UJO-HxvNt"
      }
    },
    {
      "cell_type": "code",
      "source": [
        "def return_book(queue,book):\n",
        "    queue.remove(book)\n",
        "\n",
        "queue = []\n",
        "book = Book('보물섬', '2020-06-04')\n",
        "\n",
        "add_book(queue, book)\n",
        "print('반납 전:', [x.title for x in queue])\n",
        "\n",
        "return_book(queue, book)\n",
        "print('반납 후:', [x.title for x in queue])"
      ],
      "metadata": {
        "colab": {
          "base_uri": "https://localhost:8080/"
        },
        "id": "RGgvZ_2xxr54",
        "outputId": "43528a7f-41d3-4e54-ba10-d817eb0d067a"
      },
      "execution_count": 5,
      "outputs": [
        {
          "output_type": "stream",
          "name": "stdout",
          "text": [
            "반납 전: ['보물섬']\n",
            "반납 후: []\n"
          ]
        }
      ]
    },
    {
      "cell_type": "code",
      "source": [
        "try:\n",
        "    next_overdue_book(queue, now)\n",
        "except NoOverdueBooks:\n",
        "    pass # 이 문장이 실행될 것으로 예상\n",
        "\n",
        "else:\n",
        "    assert False #실행 되지 않음"
      ],
      "metadata": {
        "id": "HSIt8Ln0yamB"
      },
      "execution_count": 6,
      "outputs": []
    },
    {
      "cell_type": "markdown",
      "source": [
        "**사간 복잡도가 선형보다 더 크게 증가한다.**"
      ],
      "metadata": {
        "id": "iUmSRZwXywGB"
      }
    },
    {
      "cell_type": "code",
      "source": [
        "#timeit 내장 모듈을 마이크로 벤치마크 정의\n",
        "\n",
        "import random\n",
        "import timeit\n",
        "\n",
        "def print_results(count, tests):\n",
        "    ...\n",
        "\n",
        "def print_delta(before, after):\n",
        "    ...\n",
        "\n",
        "def list_overdue_benchmark(count):\n",
        "    def prepare():\n",
        "        to_add = list(range(count))\n",
        "        random.shuffle(to_add)\n",
        "        random.shuffle(to_add)\n",
        "        return [], to_add\n",
        "\n",
        "    def run(queue, to_add):\n",
        "        for i in to_add:\n",
        "            queue.append(i)\n",
        "            queue.sort(reverse=True)\n",
        "\n",
        "        while queue:\n",
        "            queue.pop()\n",
        "\n",
        "\n",
        "    tests = timeit.repeat(\n",
        "        setup = 'queue, to_add = prepare()',\n",
        "        stmt = f'run(queue, to_add)',\n",
        "        globals = locals(),\n",
        "        repeat = 100\n",
        "        number = 1)\n",
        "    \n",
        "    return print_results(count, tests)\n",
        "\n",
        "    "
      ],
      "metadata": {
        "id": "bFsL059gyuCP"
      },
      "execution_count": null,
      "outputs": []
    },
    {
      "cell_type": "markdown",
      "source": [
        "**대출하는 책의 수가 늘어남에 따라서 큐에 책을 추가하고 제거하는 선형보다 더 빠르게 증가**"
      ],
      "metadata": {
        "id": "MMLxWhev2Y3g"
      }
    },
    {
      "cell_type": "code",
      "source": [
        "baseline = list_overdue_benchmark(500)\n",
        "for count in (1_000, 1_500, 2_000):\n",
        "    comparison = list_overdue_benchmark(count)\n",
        "    print_delta(baseline, comparison)"
      ],
      "metadata": {
        "id": "s1zkkgij2ZCA"
      },
      "execution_count": null,
      "outputs": []
    },
    {
      "cell_type": "markdown",
      "source": [
        "![이미지 2022. 9. 2. 오후 3.23.jpg](data:image/jpeg;base64,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)"
      ],
      "metadata": {
        "id": "6LCSl4En3ss3"
      }
    },
    {
      "cell_type": "code",
      "source": [
        "def list_return_benchmark(count):\n",
        "    def prepare():\n",
        "        queue = list(range(count))\n",
        "        random.shuffle(queue)\n",
        "\n",
        "        to_return = list(range(count))\n",
        "        random.shuffle(to_return)\n",
        "\n",
        "        return queue, to_return\n",
        "\n",
        "\n",
        "    tests = timeit.repeat(\n",
        "        setup = 'queue, to_return = prepare()',\n",
        "        stmt = f'run(queue, to_return)',\n",
        "        globals = locals(),\n",
        "        repeat = 100\n",
        "        number = 1)\n",
        "    \n",
        "    return print_results(count, tests)\n",
        "\n"
      ],
      "metadata": {
        "id": "pCeUECdO3Ior"
      },
      "execution_count": null,
      "outputs": []
    },
    {
      "cell_type": "markdown",
      "source": [
        "**선형보다 더 나쁘고 빠르게 진행**"
      ],
      "metadata": {
        "id": "2Efqm0G84dXJ"
      }
    },
    {
      "cell_type": "code",
      "source": [
        "baseline = list_return_benchmark(500)\n",
        "for count in (1_000, 1_500, 2_000):\n",
        "    comparison = list_return_benchmark(count)\n",
        "    print_delta(baseline, comparison)"
      ],
      "metadata": {
        "id": "SWRF2Jhu4gir"
      },
      "execution_count": null,
      "outputs": []
    },
    {
      "cell_type": "markdown",
      "source": [
        "![이미지 2022. 9. 2. 오후 3.29.jpg](data:image/jpeg;base64,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)"
      ],
      "metadata": {
        "id": "uTRfgNwe5AZS"
      }
    },
    {
      "cell_type": "markdown",
      "source": [
        "### 위와 같은 경우 우선순위 큐를 사용하면 된다.\n",
        "\n",
        "- 새로운 원소 추가 혹은 가장 작은 원소를 제거 시 로그 복잡도를 따른다.\n",
        "\n",
        "- 작동하는 힙을 어떻게 구현 하는지에 대해 여러분이 신경 쓸 필요가 없다."
      ],
      "metadata": {
        "id": "KZsZh3qo52xM"
      }
    },
    {
      "cell_type": "code",
      "source": [
        "from heapq import heappush\n",
        "\n",
        "def add_book(que,book):\n",
        "    heappush(queue, book)\n",
        "\n",
        "\n",
        "queue = []\n",
        "add_book(queue, Book('작은 아씨들', '2020-06-05'))\n",
        "add_book(queue, Book('타임 머신', 2020-05-30))"
      ],
      "metadata": {
        "id": "av25Fvq46Cyo"
      },
      "execution_count": null,
      "outputs": []
    },
    {
      "cell_type": "markdown",
      "source": [
        "**빠르게 Book 인스턴스 사이에 due_date 필드 비교**"
      ],
      "metadata": {
        "id": "bigz1dWz6bTD"
      }
    },
    {
      "cell_type": "code",
      "source": [
        "import functools\n",
        "\n",
        "@functools.total_due_date\n",
        "\n",
        "class Book:\n",
        "    def __init__(self, title, due_date):\n",
        "        self.title = title\n",
        "        self.due_date = due_date\n",
        "\n",
        "    def __lt__(self, other):\n",
        "        return self.due_date < other.due_date"
      ],
      "metadata": {
        "id": "K0xnEISO6bdB"
      },
      "execution_count": null,
      "outputs": []
    },
    {
      "cell_type": "markdown",
      "source": [
        "**heapq.heappush 함수를 사용해도 아무 문제없이 책을 우선순위 큐 등록**"
      ],
      "metadata": {
        "id": "rynoaVoB-ARC"
      }
    },
    {
      "cell_type": "markdown",
      "source": [
        "sort메서드를 사용해 힙을 만들 수 있다."
      ],
      "metadata": {
        "id": "4FjSw8RL-nSt"
      }
    },
    {
      "cell_type": "code",
      "source": [
        "queue = []\n",
        "add_book(queue, Book('오만과 편견','2020-06-01'))\n",
        "add_book(queue, Book('타임 머신','2020-05-30'))\n",
        "add_book(queue, Book('죄와 벌','2020-06-06'))\n",
        "add_book(queue, Book('폭퐁의 언덕','2020-06-12'))\n"
      ],
      "metadata": {
        "id": "aL7mHVmV-E64"
      },
      "execution_count": null,
      "outputs": []
    },
    {
      "cell_type": "markdown",
      "source": [
        "**heapq.heapify 함수를 사용하여 선형 시간에 힙을 만든다.**\n",
        "\n",
        "- len(queue) * log(len(queue))"
      ],
      "metadata": {
        "id": "VAoRot-l-0Il"
      }
    },
    {
      "cell_type": "code",
      "source": [
        "from heapq import heapify\n",
        "\n",
        "queue = [\n",
        "    Book('오만과 편견', '2020-06-01'),\n",
        "    Book('타임 머신', '2020-05-30'),\n",
        "    Book('죄와 벌', '2020-06-06'),\n",
        "    Book('폭훙의 언덕', '2020-06-012'),\n",
        "]"
      ],
      "metadata": {
        "id": "xMLa0FYl-M5H"
      },
      "execution_count": null,
      "outputs": []
    },
    {
      "cell_type": "code",
      "source": [
        "from heapq import heappop\n",
        "\n",
        "def next_overdue_book(queue, now):\n",
        "    if queue:\n",
        "        book = queue[0]\n",
        "        if book.due_date < now:\n",
        "            heappop(queue)\n",
        "            return book\n",
        "\n",
        "    raise NoOverdueBooks"
      ],
      "metadata": {
        "id": "9TNSiZHm-M8L"
      },
      "execution_count": 7,
      "outputs": []
    },
    {
      "cell_type": "markdown",
      "source": [
        "**현재 시간보다 만기가 이른 책을 모두 찾아서 제거**"
      ],
      "metadata": {
        "id": "7PxW3-U0Azh0"
      }
    },
    {
      "cell_type": "code",
      "source": [],
      "metadata": {
        "id": "CtOgap38-M-0"
      },
      "execution_count": null,
      "outputs": []
    }
  ]
}