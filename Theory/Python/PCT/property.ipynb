{
  "nbformat": 4,
  "nbformat_minor": 0,
  "metadata": {
    "colab": {
      "name": "@property",
      "provenance": [],
      "authorship_tag": "ABX9TyP4P5vRe2oM8McWpvOrOEMX"
    },
    "kernelspec": {
      "name": "python3",
      "display_name": "Python 3"
    },
    "language_info": {
      "name": "python"
    }
  },
  "cells": [
    {
      "cell_type": "markdown",
      "source": [
        "## 애트리뷰트를 리팩터링하는 대신 @propetry를 사용하라"
      ],
      "metadata": {
        "id": "UrHZWCFe5JqY"
      }
    },
    {
      "cell_type": "markdown",
      "source": [
        "\n",
        "**@property 데코레이션**\n",
        "\n",
        "- 지능적인 로직을 수행하는 애트리뷰트 정의\n",
        "\n",
        "- 요청에 따라 계산해서 제공하도록 바꿈\n",
        "\n"
      ],
      "metadata": {
        "id": "26cYc6LM5Jgq"
      }
    },
    {
      "cell_type": "code",
      "source": [
        "#일반 파이썬 객체를 사용해 리키 버킷 흐름 제어 알고리즘 구현\n",
        "\n",
        "#Bucket 클래스는 남은 가용 용량과 이 가용 용량의 잔존시간 표현\n",
        "\n",
        "from datetime import datetime, timedelta\n",
        "\n",
        "class Bucket:\n",
        "    def __init__(self, period):\n",
        "        self.period_delta = timedelta(seconds = period)\n",
        "        self.reset_time = datetime.now()\n",
        "        self.quota = 0\n",
        "\n",
        "    def __repr__(self):\n",
        "        return f'Bucket(quota = {self.quota})'"
      ],
      "metadata": {
        "id": "3C7deRWc5OsQ"
      },
      "execution_count": 6,
      "outputs": []
    },
    {
      "cell_type": "code",
      "source": [
        "#리키 버킷 알고리즘은 주기 구분, 소비 시 시간 검사를 통해 \n",
        "#주기가 다를 경우 new 주기에 넘어오기 금지\n",
        "\n",
        "def fill(bucket, amount):\n",
        "    now = datetime.now()\n",
        "    if (now-bucket.reset_time) > bucket.period_delta:\n",
        "        bucket.quota = 0\n",
        "        bucket.reset_time = now\n",
        "    bucket.quota += amount"
      ],
      "metadata": {
        "id": "gDOOnSTr7g3y"
      },
      "execution_count": 7,
      "outputs": []
    },
    {
      "cell_type": "code",
      "source": [
        "#위와 같은 구현은 가용 용량이 얼마인지 알 수 없다.\n",
        "#주기에 재 설정된 가용 용량과 소비한 용량의 합계 추적\n",
        "\n",
        "class NewBucket:\n",
        "    def __init__(self, period):\n",
        "        self.period_delta = timedelta(seconds = period)\n",
        "        self.reset_time = datetime.now()\n",
        "        self.max_quota = 0\n",
        "        self.quota_consumed = 0\n",
        "\n",
        "    def __repr__(self):\n",
        "        return (f'NewBucket(max_quota = {self.max_quota}, '\n",
        "                f'quota_consumed = {self.quota_consumed})')\n"
      ],
      "metadata": {
        "id": "9m9uYm_H8P1-"
      },
      "execution_count": 8,
      "outputs": []
    },
    {
      "cell_type": "code",
      "source": [
        "@property\n",
        "\n",
        "def quota(self):\n",
        "    return self.max_quota - self.quota_consumed\n",
        "\n",
        "#@property를 사용할 시 데이터 모델을 점진적으로 개선 가능\n",
        "#장기적으로 코드를 깔끔하게 유지"
      ],
      "metadata": {
        "id": "cb11buk789JY"
      },
      "execution_count": 10,
      "outputs": []
    },
    {
      "cell_type": "markdown",
      "source": [
        "### Summary\n",
        "\n",
        "- @property를 사용해 기존 인스턴스 애트리뷰트에 새로운 기능 제공\n",
        "\n",
        "- @property를 사용해 데이터 모델을 점진적으로 개선\n",
        "\n",
        "- @property 메서드를 너무 과하게 쓰고 있다면, 클래스와 클래스를 사용하는 모든 코드 리팩토링\n"
      ],
      "metadata": {
        "id": "qZKJI4-293iC"
      }
    },
    {
      "cell_type": "code",
      "source": [
        ""
      ],
      "metadata": {
        "id": "wRngFor-AqMY"
      },
      "execution_count": null,
      "outputs": []
    }
  ]
}