{
  "nbformat": 4,
  "nbformat_minor": 0,
  "metadata": {
    "colab": {
      "name": "functools.wrap 함수 데코레이터",
      "provenance": [],
      "authorship_tag": "ABX9TyM6Zxm/+FYtWenyRJbgNswF"
    },
    "kernelspec": {
      "name": "python3",
      "display_name": "Python 3"
    },
    "language_info": {
      "name": "python"
    }
  },
  "cells": [
    {
      "cell_type": "markdown",
      "source": [
        "## functools.wrap을 사용해 함수 데코레이터를 정의하라"
      ],
      "metadata": {
        "id": "qzkO7Fp_L36V"
      }
    },
    {
      "cell_type": "markdown",
      "source": [
        "**데코레이터**\n",
        "\n",
        "- 함수의 호출 전과 후의 코드를 추가로 실행 가능\n",
        "\n",
        "- 함수의 입력 인자, 반환 값, 함수에서 발생한 오류 접근\n",
        "\n",
        "- 함수의 의미 강화, 디버깅, 함수 등록의 기능에 유용하다.\n",
        "\n",
        "- 기호@\n",
        "\n",
        "   - 데코레이터 호출 후 원래 함수가 속해야하는 영역에 같은 이름으로 등록\n",
        "\n",
        "\n",
        "```\n",
        "\n",
        "def trace(func):\n",
        "    def wrapper(*args, **kwargs):\n",
        "        result = func(*args, **kwargs)\n",
        "        print(f'{func.__name__}({args!r}, {kwargs!r})'\n",
        "              f'-> {result!r}')\n",
        "        return result\n",
        "    return wrapper\n",
        "\n",
        "\n",
        "@trace\n",
        "def fibonacci(n):\n",
        "    \"\"\"n번째 피보나치 수를 반환한다.\"\"\"\n",
        "    if n in (0,1):\n",
        "        return n\n",
        "    return (fibonacci(n-2) + fibonacc(n-1))\n",
        "\n",
        "\"\"\" \n",
        "@기호 사용은 fibonacci = trace(fibonacci)\n",
        "\"\"\"\n",
        "\n",
        "fibonacci(4)\n",
        "\n",
        "#결과\n",
        "\n",
        "fibonacci((0,),{}) ->0\n",
        "wapper((0,),{})->0\n",
        "fibonacci((1,),{}) ->1\n",
        "wapper((1,),{})->1\n",
        "fibonacci((2,),{}) ->1\n",
        "wapper((2,),{})->1\n",
        "fibonacci((1,),{}) ->1\n",
        "wapper((0,),{})->0\n",
        "fibonacci((0,),{}) ->0\n",
        "wapper((1,),{})->1\n",
        "fibonacci((1,),{}) ->1\n",
        "wapper((1,),{})->1\n",
        "fibonacci((2,),{}) ->1\n",
        "wapper((2,),{})->1\n",
        "fibonacci((3,),{}) ->2\n",
        "wapper((3,),{})->2\n",
        "fibonacci((4,),{}) ->3\n",
        "wapper((4,),{})->3\n",
        "\n",
        "#부작용: 데코레이터가 반환한 함수의 이름은 fibonacci가 아니다\n",
        "```\n",
        "\n"
      ],
      "metadata": {
        "id": "BtKqAUHLL8Lg"
      }
    },
    {
      "cell_type": "markdown",
      "source": [
        "**부작용 해결**\n",
        "\n",
        "- wraps 도우미 함수 사용\n",
        "\n",
        "   - 데코레이터 작성을 돕는 데코레이터\n",
        "\n",
        "```\n",
        "#wraps를 wrapper함수에 적용하면 wraps가 데코레이터 내부에 들어가는 함수에서 \n",
        "#중요한 메타데이터 복사하여 wrapper함수 적용\n",
        "\n",
        "from functools import wraps\n",
        "\n",
        "def trace(func):\n",
        "    @wraps(func)\n",
        "    def wrapper(*args, **kwargs):\n",
        "        result = func(*args, **kwargs)\n",
        "        print(f'{func.__name__}({args!r}, {kwargs!r})'\n",
        "              f'-> {result!r}')\n",
        "        return result\n",
        "    return wrapper\n",
        "\n",
        "\n",
        "@trace\n",
        "def fibonacci(n):\n",
        "    \"\"\"n번째 피보나치 수를 반환한다.\"\"\"\n",
        "    if n in (0,1):\n",
        "        return n\n",
        "    return (fibonacci(n-2) + fibonacc(n-1))\n",
        "\n",
        "\n",
        "#help함수 실행\n",
        "help(fibonacci)\n",
        "\n",
        "#Help on function fibonacci in module __main__:\n",
        "\n",
        "\n",
        "```\n",
        "\n",
        "<br>\n",
        "\n",
        "```\n",
        "fibonacci(n) #n번째 피보나치 수를 반환\n",
        "\n",
        "#pickle 객체 직렬화도 가능\n",
        "print(pickle.dumps(fibonacci))\n",
        "```\n",
        "\n",
        "\n"
      ],
      "metadata": {
        "id": "0Q4llyZvOw9y"
      }
    },
    {
      "cell_type": "code",
      "source": [
        ""
      ],
      "metadata": {
        "id": "Ds3nlRW8QTaF"
      },
      "execution_count": null,
      "outputs": []
    }
  ]
}