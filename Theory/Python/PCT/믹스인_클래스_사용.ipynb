{
  "nbformat": 4,
  "nbformat_minor": 0,
  "metadata": {
    "colab": {
      "name": "믹스인 클래스 사용",
      "provenance": [],
      "authorship_tag": "ABX9TyP4R9vg/JJSgm+m3Q4DHt6U"
    },
    "kernelspec": {
      "name": "python3",
      "display_name": "Python 3"
    },
    "language_info": {
      "name": "python"
    }
  },
  "cells": [
    {
      "cell_type": "markdown",
      "source": [
        "# 기능을 합성할 때는 믹스인 클래스 사용\n",
        "\n",
        "**파이썬은 다중 상속(편의와 캡슐화)을 처리할 수는 있지만 골치 아픈 경우를 피하기 위해선 mix-in을 사용할지 고려하라**\n",
        "\n",
        "**믹스인은 자식 클래스가 사용할 메서드 몇 개만 정의하는 클래스**\n",
        "\n",
        "**믹스인 클래스는 자체 애트리뷰트 정의가 없기에 믹스인 클래스의 __init__메서드를 호출할 필요도 없다**"
      ],
      "metadata": {
        "id": "TYibORHy8SNw"
      }
    },
    {
      "cell_type": "markdown",
      "source": [
        "### 믹스인 장점\n",
        "\n",
        "- 타입의 상관없이 객체의 현재 상태를 쉽게 들여다본다.\n",
        "\n",
        "- 동적인 상태 접근이 가능하기에 제너릭하다\n",
        "\n",
        "- 믹스인을 합성하거나 계층화를 해서 반복적인 코드를 최소화하고 재사용성을 최대화"
      ],
      "metadata": {
        "id": "gfphZ_0A9A_F"
      }
    },
    {
      "cell_type": "code",
      "source": [
        "\"\"\"제너릭하게 여러 클래스 활용\n",
        "\"\"\"\n",
        "\n",
        "class ToDictMixin:\n",
        "    def to_dict(self):\n",
        "        return self._traverse_dict(self.__dict__)\n",
        "\n",
        "        \"\"\"\n",
        "        _traverse_dict메서드는 hasattr을 통해서 동적인 애트리튜브 접근\n",
        "        isinstance를 사용한 타입 검사, __dict__통한 인스턴스 딕셔너리 접근 활용\n",
        "        \"\"\"\n",
        "\n",
        "    def _traverse_dict(self, instance_dict):\n",
        "        output = {}\n",
        "        for key, value in instance_dict.items():\n",
        "            output[key] = self._traverse(key, value)\n",
        "        return output\n",
        "\n",
        "    def _traverse(self, key, value):\n",
        "        if isinstance(value, ToDictMixin):\n",
        "            return value.to_dict()\n",
        "        elif isinstance(value, dict):\n",
        "            return self._traverse_dict(value)\n",
        "        elif isinstance(value, list):\n",
        "            return [self._traverse(key,i) for i in value]\n",
        "        elif hasattr(value, '__dict__'):\n",
        "            return self._traverse_dict(value.__dict__)\n",
        "        else:\n",
        "            return value"
      ],
      "metadata": {
        "id": "KfhKne9e8UWu"
      },
      "execution_count": 3,
      "outputs": []
    },
    {
      "cell_type": "code",
      "source": [
        "\"\"\"믹스인을 사용해서 이진 트리를 딕셔너리로 표현\n",
        "\"\"\"\n",
        "\n",
        "class BinaryTree(ToDictMixin):\n",
        "    def __init__(self, value, left=None, right=None):\n",
        "        self.value = value\n",
        "        self.left =left\n",
        "        self.right = right\n",
        "\n",
        "tree = BinaryTree(10,\n",
        "    left = BinaryTree(7, right=BinaryTree(9)),\n",
        "    right = BinaryTree(13, left=BinaryTree(11)))\n",
        "print(tree.to_dict())"
      ],
      "metadata": {
        "colab": {
          "base_uri": "https://localhost:8080/"
        },
        "id": "rV2JhsCi-QcS",
        "outputId": "6fd40c71-3d00-4bee-ed12-4788287c5c31"
      },
      "execution_count": 4,
      "outputs": [
        {
          "output_type": "stream",
          "name": "stdout",
          "text": [
            "{'value': 10, 'left': {'value': 7, 'left': None, 'right': {'value': 9, 'left': None, 'right': None}}, 'right': {'value': 13, 'left': {'value': 11, 'left': None, 'right': None}, 'right': None}}\n"
          ]
        }
      ]
    },
    {
      "cell_type": "code",
      "source": [
        "\"\"\"BinaryTreeWithParent._traverse메서드를 오버라이드하여 문제가 되는 값만 처리하여\n",
        "무한루프를 돌지 못하게 한다.\n",
        "\"\"\"\n",
        "\n",
        "class BinaryTreeWithParent(BinaryTree):\n",
        "    def __init__(self, value, left=None,\n",
        "                 right=None, parent=None):\n",
        "        super().__init__(value, left=left, right=right)\n",
        "        self.parent =parent\n",
        "\n",
        "    \"\"\"\n",
        "    부모를 가리키는 참조에 대해서 부모의 숫자값을 삽입\n",
        "    그렇지 않은 경우, super 내장함수를 통해서 디폴트 믹스인 구현 호출\n",
        "    \"\"\"\n",
        "\n",
        "    def _traverse(self, key, value):\n",
        "        if (isinstance(value, BinaryTreeWithParent) and\n",
        "                key == 'parent'):\n",
        "            return value.value #순환 참조 방지\n",
        "\n",
        "        else:\n",
        "            return super()._traverse(key, value)\n",
        "\n",
        "#변환 시 순환 참조를 따라가지 않는다\n",
        "\n",
        "root =BinaryTreeWithParent(10)\n",
        "root.left = BinaryTreeWithParent(7, parent=root)\n",
        "root.left.right = BinaryTreeWithParent(9, parent=root.left)\n",
        "print(root.to_dict())"
      ],
      "metadata": {
        "colab": {
          "base_uri": "https://localhost:8080/"
        },
        "id": "DSrxjyt0-1hk",
        "outputId": "84ae6786-edf2-44ed-dd06-3cd058ee6ddf"
      },
      "execution_count": 6,
      "outputs": [
        {
          "output_type": "stream",
          "name": "stdout",
          "text": [
            "{'value': 10, 'left': {'value': 7, 'left': None, 'right': {'value': 9, 'left': None, 'right': None, 'parent': 7}, 'parent': 10}, 'right': None, 'parent': None}\n"
          ]
        }
      ]
    },
    {
      "cell_type": "code",
      "source": [
        "\"\"\"\n",
        "BinaryTreeWithParent._traverse를 오버라이드하니 \n",
        "BinaryTreeWithParent를 애트리뷰트로 저장하는 모든 클래스도 자동으로 ToDictMixin\n",
        "문제없이 사용\n",
        "\"\"\"\n",
        "\n",
        "class NamedSubTree(ToDictMixin):\n",
        "    def __init__(self, name, tree_with_parent):\n",
        "        self.name = name\n",
        "        self.tree_with_parent = tree_with_parent\n",
        "\n",
        "my_tree =NamedSubTree('foobar', root.left.right)\n",
        "print(my_tree.to_dict()) #무한 루프 없다"
      ],
      "metadata": {
        "colab": {
          "base_uri": "https://localhost:8080/"
        },
        "id": "OM3ZVEHfAcHz",
        "outputId": "c4b93722-122d-4198-c76e-5508a10133ff"
      },
      "execution_count": 7,
      "outputs": [
        {
          "output_type": "stream",
          "name": "stdout",
          "text": [
            "{'name': 'foobar', 'tree_with_parent': {'value': 9, 'left': None, 'right': None, 'parent': 7}}\n"
          ]
        }
      ]
    },
    {
      "cell_type": "code",
      "source": [
        "#믹스인 서로 합성\n",
        "import json\n",
        "\n",
        "class JsonMixin:\n",
        "    @classmethod\n",
        "    def from_json(cls,data):\n",
        "        kwargs = json.loads(data)\n",
        "        return cls(**kwargs)\n",
        "\n",
        "    def  to_json(self):\n",
        "        return json.dumps(self.to_dict())"
      ],
      "metadata": {
        "id": "d4_A53pfBdMP"
      },
      "execution_count": 8,
      "outputs": []
    },
    {
      "cell_type": "code",
      "source": [
        "#믹스인이 있다면 JSON과 직렬화 혹은 역직렬화\n",
        "#클래스 계층 구조를 쉽게, 번잡스러운 준비 코드 없이 만든다.\n",
        "\n",
        "class DatacenterRack(ToDictMixin, JsonMixin):\n",
        "    def __init__(self, switch=None, machines =None):\n",
        "        self.switch = Switch(**switch)\n",
        "        self.machines = [\n",
        "            Machine(**kwargs) for kwargs in machines\n",
        "        ]\n",
        "\n",
        "class Switch(ToDictMixin, JsonMixin):\n",
        "    def __init__(self, ports=None, speed=None):\n",
        "        self.ports = ports\n",
        "        self.speed = speed\n",
        "\n",
        "class Machine(ToDictMixin, JsonMixin):\n",
        "    def __init__(self, cores= None, ram= None, disk=None):\n",
        "        self.cores = cores\n",
        "        self.ram = ram\n",
        "        self.disk = disk\n"
      ],
      "metadata": {
        "id": "W_5qWXBcBuHC"
      },
      "execution_count": 11,
      "outputs": []
    },
    {
      "cell_type": "code",
      "source": [
        "#검사해보기\n",
        "serialized = \"\"\"{\n",
        "    \"switch\": {\"ports\":5, \"speed\": 1e9},\n",
        "    \"machines\": [\n",
        "        {\"cores\":8, \"ram\": 32e9, \"disk\":5e12},\n",
        "        {\"cores\":4, \"ram\": 16e9, \"disk\":1e12},\n",
        "        {\"cores\":2, \"ram\": 4e9, \"disk\":500e9}\n",
        "    ]\n",
        "}\"\"\""
      ],
      "metadata": {
        "id": "xeDWvDXpCafI"
      },
      "execution_count": 12,
      "outputs": []
    },
    {
      "cell_type": "code",
      "source": [
        "deserialized = DatacenterRack.from_json(serialized)\n",
        "roundtrip = deserialized.to_json()\n",
        "assert json.loads(serialized) ==json.loads(roundtrip)"
      ],
      "metadata": {
        "id": "GbY7k_fGDqpi"
      },
      "execution_count": 13,
      "outputs": []
    }
  ]
}