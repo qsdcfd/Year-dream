{
  "nbformat": 4,
  "nbformat_minor": 0,
  "metadata": {
    "colab": {
      "name": "클래스 확장",
      "provenance": [],
      "authorship_tag": "ABX9TyN736pIW8LcsSb03TbvXx+w"
    },
    "kernelspec": {
      "name": "python3",
      "display_name": "Python 3"
    },
    "language_info": {
      "name": "python"
    }
  },
  "cells": [
    {
      "cell_type": "markdown",
      "source": [
        "## __init_subclass__를 사용해서 클래스 확장\n"
      ],
      "metadata": {
        "id": "gXYM9YXm814T"
      }
    },
    {
      "cell_type": "code",
      "source": [
        "#기본적인 파이썬 객체를 JSON 문자열로 변환\n",
        "\n",
        "import json\n",
        "\n",
        "class Serializable:\n",
        "    def __init__(self, *args):\n",
        "        self.args = args\n",
        "\n",
        "    def serialize(self):\n",
        "        return json.dumps({'args': self.args})\n",
        "\n",
        "#위의 클래스를 사용하면 간단한 불변 데이터 구조를 쉽게 직렬화\n",
        "\n",
        "class Point2D(Serializable):\n",
        "    def __init__(self,x,y):\n",
        "        super().__init__(x,y)\n",
        "        self.x = x\n",
        "        self.y = y\n",
        "\n",
        "    def __repr__(self):\n",
        "        return f'Point2D({self.x}, {self.y})'\n",
        "\n",
        "point = Point2D(5,3)\n"
      ],
      "metadata": {
        "id": "zJZCcnzM9AoW"
      },
      "execution_count": null,
      "outputs": []
    },
    {
      "cell_type": "code",
      "source": [
        "#Serialzable를 부모 클래스로 하고, 이를 활용하여 데이터 역직렬화\n",
        "\n",
        "class Deserializable(Serializable):\n",
        "    @classmethod\n",
        "    def deserialize(cls, json_data):\n",
        "        params = json.loads(json_data)\n",
        "        return cls(*params['args'])\n",
        "\n",
        "class BetterPoint2D(Deserializable):\n",
        "    ....\n",
        "\n",
        "before = BetterPoint2D(5,3)\n",
        "print('이전:', before)\n",
        "data = before.serialize()\n",
        "print('직렬화한 값:', data)\n",
        "after = BetterPoint2D.deserialize(data)\n",
        "print('이후:', after)"
      ],
      "metadata": {
        "id": "V7RpDgdQ-OZ2"
      },
      "execution_count": null,
      "outputs": []
    },
    {
      "cell_type": "code",
      "source": [
        "#공통 함수를 만들어서 객체의 클래스 이름 직렬화하여 JSON 데이터 포함\n",
        "\n",
        "class BetterSerializable:\n",
        "    def __init__(self, *args):\n",
        "        self.args = args\n",
        "\n",
        "    def serialize(self):\n",
        "        return json.dumps({\n",
        "            'class': self.__class__.__name__,\n",
        "            'args': self.args,\n",
        "        })\n",
        "\n",
        "    def __repr__(self):\n",
        "        name = self.__class__.__name__\n",
        "        args_str = ', '.json(str(x) for x in self.args)\n",
        "        return f'{name}({args_str})'"
      ],
      "metadata": {
        "id": "c0JFMWlb_bRQ"
      },
      "execution_count": null,
      "outputs": []
    },
    {
      "cell_type": "code",
      "source": [
        "#클래스 이름을 객체 생성자로 매핑 가능\n",
        "#매핑 사용시 deserialize함수는 register_class를 통해 등록된 모든 클래스 작동\n",
        "\n",
        "registry = {}\n",
        "\n",
        "def register_class(target_class):\n",
        "    registry[target_class.__name__] = target_class\n",
        "\n",
        "def deserialize(data):\n",
        "    params = json.loads(data)\n",
        "    name = params['class']\n",
        "    target_class = registry[name]\n",
        "    return target_class(*params['args'])\n",
        "\n",
        "\n",
        "    "
      ],
      "metadata": {
        "id": "dmYHwJZP_bT-"
      },
      "execution_count": null,
      "outputs": []
    },
    {
      "cell_type": "markdown",
      "source": [
        "하위 클래스의 호출문을 잊어먹게 되어 제대로 기능을 사용할 수 없는 구조이다.(위의 코드 방식)"
      ],
      "metadata": {
        "id": "nutbmCveA7f7"
      }
    },
    {
      "cell_type": "code",
      "source": [
        "#메타 클래스 활용\n",
        "\n",
        "class Meta(type):\n",
        "    def __new__(meta, name, bases, class_dict):\n",
        "        cls = type.__new__(meta, name, bases, class_dict)\n",
        "        register_class(cls)\n",
        "        return cls\n",
        "\n",
        "class RegisteredSerializable(BetterSerializable, metaclass = Meta):\n",
        "    pass"
      ],
      "metadata": {
        "id": "NCkgvV-0_bWh"
      },
      "execution_count": null,
      "outputs": []
    },
    {
      "cell_type": "code",
      "source": [
        "#잘 동작하는지 확인\n",
        "class Vector3D(RegisteredSerializable):\n",
        "    def __init__(self, x,y,z):\n",
        "        super().__init__(x,y,z)\n",
        "        self.x, self.y, self.z = x,y,z"
      ],
      "metadata": {
        "id": "eE13pV21BiUv"
      },
      "execution_count": null,
      "outputs": []
    },
    {
      "cell_type": "code",
      "source": [
        "#__init_subclass__를 특별 메서드로 활용하면 코드의 잡음이 줄어든다.\n",
        "\n",
        "class BetterRegisteredSerializable(BetterSerializable):\n",
        "    def __init_subclass__(cls):\n",
        "        super().__init_subclass__()\n",
        "        register_class(cls)\n",
        "\n",
        "class Vector1D(BetterRegisteredSerializable):\n",
        "    def __init__(self, magnitude):\n",
        "        super().__init__(magnitude)\n",
        "        self.magnitude = magnitude"
      ],
      "metadata": {
        "id": "ZzWrMevJB2ZZ"
      },
      "execution_count": null,
      "outputs": []
    },
    {
      "cell_type": "markdown",
      "source": [
        "**위와 같이 코드를 구성할 시, 클래스 등록에 __init_subclass__ 혹은 메타 클래스를 사용하면, 상속 트리가 제대로 돼 있는 한 클래스 등록을 잊어버릴 일이 없다고 보장이 되고 위의방식은 직렬화일 때, 객체-관계 매핑, 확장성 플러그인 시스템, 콜백 훅엗 작동"
      ],
      "metadata": {
        "id": "o8t7zI8QCj8b"
      }
    },
    {
      "cell_type": "markdown",
      "source": [
        "### Summary\n",
        "\n",
        "- 클래스 등록은 파이썬 프로그램을 모듈화할 때 유용한 패턴\n",
        "\n",
        "- 메타클래스를 사용하면, 프로그램 안에서 기반 클래스를 상속한 하위 클래스가 정의될 때마다 등록 코드를 자동으로 실행\n",
        "\n",
        "- 메타클래스를 등록에 사용하면 클래스 등록 함수를 호출하지 않아서 생기는 오류를 피할 수 있다\n",
        "\n",
        "- 표준적인 메타클래스 방식보다는  __init_subclass__가 더 낫다. __init_subclass__쪽이 더 깔끔하고 이해하기 쉬움\n"
      ],
      "metadata": {
        "id": "yWotFJCfC3dU"
      }
    },
    {
      "cell_type": "code",
      "source": [
        ""
      ],
      "metadata": {
        "id": "fiM7i3HeDlld"
      },
      "execution_count": null,
      "outputs": []
    }
  ]
}