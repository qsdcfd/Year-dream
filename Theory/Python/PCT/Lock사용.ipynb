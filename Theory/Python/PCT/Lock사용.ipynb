{
  "nbformat": 4,
  "nbformat_minor": 0,
  "metadata": {
    "colab": {
      "name": "Lock사용",
      "provenance": [],
      "authorship_tag": "ABX9TyPcTl0c1f5FsowChmvXc5CX"
    },
    "kernelspec": {
      "name": "python3",
      "display_name": "Python 3"
    },
    "language_info": {
      "name": "python"
    }
  },
  "cells": [
    {
      "cell_type": "markdown",
      "source": [
        "# 스레드에서 데이터 경합을 피하기 위해서 Lock를 사용하라\n",
        "\n",
        "**GIL은 동시 접근을 보장해줄 순 있어도 보호는 하지 못하므로 프로그램의 상태가 오염될 수 있으니 주의해야한다.**"
      ],
      "metadata": {
        "id": "F95uRT6Q3YvH"
      }
    },
    {
      "cell_type": "code",
      "source": [
        "#예시: 센서 네트워크에서 광센서를 통해서 빛이 들어온다\n",
        "\n",
        "class Counter:\n",
        "    def __init__(self):\n",
        "        self.count = 0\n",
        "    \n",
        "    def increment(self, offset):\n",
        "        self.count += offset"
      ],
      "metadata": {
        "id": "c1U623K_3bVD"
      },
      "execution_count": 2,
      "outputs": []
    },
    {
      "cell_type": "code",
      "source": [
        "#센서를 읽을 때 블로킹 I/O를 수행하므로 센서마다 작업자 스레딩 할당\n",
        "\n",
        "def worker(sensor_index, how_many, counter):\n",
        "    for _ in range(how_many):\n",
        "        #센서를 읽는다.\n",
        "        counter.increment(1)\n",
        "\n",
        "#병렬로 센서마다 하나씩 worker 스레드 실행 후 모든 스레드가 읽을 때까지 기다림\n",
        "\n",
        "from threading import Thread\n",
        "\n",
        "how_many = 10**5\n",
        "counter = Counter()\n",
        "\n",
        "threads = []\n",
        "for i in range(5):\n",
        "    thread = Thread(target=worker, args=(i, how_many, counter))\n",
        "    threads.append(thread)\n",
        "    thread.start()\n",
        "\n",
        "for thread in threads:\n",
        "    thread.join()\n",
        "\n",
        "expected = how_many * 5\n",
        "found = counter.count\n",
        "print(f'카운터 값은 {expected}여야 하는데, 실제로는 {found} 입니다.')"
      ],
      "metadata": {
        "colab": {
          "base_uri": "https://localhost:8080/"
        },
        "id": "TwH1szXs36I2",
        "outputId": "36cbcd31-9e26-4288-f2fe-7128c82f022d"
      },
      "execution_count": 4,
      "outputs": [
        {
          "output_type": "stream",
          "name": "stdout",
          "text": [
            "카운터 값은 500000여야 하는데, 실제로는 373652 입니다.\n"
          ]
        }
      ]
    },
    {
      "cell_type": "code",
      "source": [
        "#파이썬 인터프리터는 모든 스레드를 강제로 공평하게 취급하여 실행시간을 거의 비슷하게 만든다.\n",
        "#즉, 실행 중인 스레드를 일시 중단시키고 다른 스레드를 실행시키는 일을 반복한다.\n",
        "#허나, 일시 중단 시점을 알 수 없기에 위와 같은 문제가 생깁니다.\n",
        "#그래서, 락을 사용하라\n",
        "\n",
        "from threading import Lock\n",
        "\n",
        "class LockingCounter:\n",
        "    def __init__(self):\n",
        "        self.lock = Lock()\n",
        "        self.count = 0\n",
        "\n",
        "    def increment(self, offset):\n",
        "        with self.lock:\n",
        "            self.count += offset\n",
        "\n",
        "\n",
        "count = LockingCounter()\n",
        "\n",
        "threads = []\n",
        "for i in range(5):\n",
        "    thread = Thread(target = worker, args=(i,how_many,counter))\n",
        "    threads.append(thread)\n",
        "    thread.start()\n",
        "\n",
        "for thread in threads:\n",
        "    thread.join()\n",
        "\n",
        "expected = how_many * 5\n",
        "found = counter.count\n",
        "print(f'카운터 값은 {expected}여야 하는데, 실제로는 {found}입니다.') "
      ],
      "metadata": {
        "colab": {
          "base_uri": "https://localhost:8080/"
        },
        "id": "Ue-IniwX4sru",
        "outputId": "49baab50-2bcb-4c78-e40c-cb1a44e6d1df"
      },
      "execution_count": 5,
      "outputs": [
        {
          "output_type": "stream",
          "name": "stdout",
          "text": [
            "카운터 값은 500000여야 하는데, 실제로는 722025입니다.\n"
          ]
        }
      ]
    },
    {
      "cell_type": "markdown",
      "source": [
        "### Summary\n",
        "\n",
        "- 파이썬에는 GIL이 있지만, 파이썬 프로그램 코드는 여전히 여러 스레드 사이에서 일어나는 데이터 경합으로부터 자신을 보호해야 한다.\n",
        "\n",
        "- 코드에서 여러 스레드가 상호 배제 락없이 같은 객체를 변경하도록 허용하면 코드가 데이터 구조를 오염시킬 것이다.\n",
        "\n",
        "- 여러 스레드 사이에서 프로그램의 불변 조건을 유지하려면 threading 내장 모듈의 Lock 클래스 활용하라\n"
      ],
      "metadata": {
        "id": "-v0GpWw26U3Z"
      }
    },
    {
      "cell_type": "code",
      "source": [
        ""
      ],
      "metadata": {
        "id": "0yGmH-mo6mlC"
      },
      "execution_count": null,
      "outputs": []
    }
  ]
}