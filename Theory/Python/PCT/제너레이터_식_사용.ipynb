{
  "nbformat": 4,
  "nbformat_minor": 0,
  "metadata": {
    "colab": {
      "name": "제너레이터 식 사용",
      "provenance": [],
      "authorship_tag": "ABX9TyM45MXlMSCXtq+5SbeO2HE2"
    },
    "kernelspec": {
      "name": "python3",
      "display_name": "Python 3"
    },
    "language_info": {
      "name": "python"
    }
  },
  "cells": [
    {
      "cell_type": "markdown",
      "source": [
        "## 긴 리스트 컴프리헨션보다는 제너레이터 식을 사용하라"
      ],
      "metadata": {
        "id": "U_xFKSaMHHwh"
      }
    },
    {
      "cell_type": "markdown",
      "source": [
        "**입력이 길면 리스트 컴프리헨션으로 인해서 메모리를 상당히 많이 사용**\n",
        "\n",
        "```\n",
        "\"\"\"\n",
        "리스트 컴프리헨션 활용\n",
        "\"\"\"\n",
        "#파일에서 읽은  x에는 새 줄 문제가 들어있기에 길이가 눈에 보이는 것보다 1만큼 더 길다\n",
        "\n",
        "value = [len(x) for x in open('my_file.txt')]\n",
        "print(value)\n",
        "#[100,57,15,1,12,75,5,86,89,11]\n",
        "\n",
        "```\n",
        "\n",
        "<br>\n",
        "\n",
        "**제너레이터 식 활용**\n",
        "\n",
        "\n",
        "```\n",
        "it = (len(x) for x in open('my_file.txt'))\n",
        "print(it)\n",
        "#<generator object <genexpr> at 0x108993dd0\n",
        "\n",
        "print(next(it)) # 100\n",
        "print(next(it)) #57\n",
        "```\n",
        "\n",
        "\n",
        "\n",
        "\n"
      ],
      "metadata": {
        "id": "UNDFPcDUHLET"
      }
    },
    {
      "cell_type": "code",
      "source": [
        ""
      ],
      "metadata": {
        "id": "KHBxDdJOENy9"
      },
      "execution_count": null,
      "outputs": []
    }
  ]
}