{
  "nbformat": 4,
  "nbformat_minor": 0,
  "metadata": {
    "colab": {
      "name": "asyncio 이벤트 루프",
      "provenance": [],
      "authorship_tag": "ABX9TyMPlLKr6OUw4WMMWzZP2JzK"
    },
    "kernelspec": {
      "name": "python3",
      "display_name": "Python 3"
    },
    "language_info": {
      "name": "python"
    }
  },
  "cells": [
    {
      "cell_type": "markdown",
      "source": [
        "### 응답성을 최대로 높이려면 asyncio 이벤트 루프를 블록하지 말라\n",
        "\n",
        "**문제점**\n",
        "\n",
        "- 출력 파일 핸들에 대한 open, close, write 호출이 주 이벤트 루프에서 이뤄진다.\n",
        "\n",
        "- 운영체제의 시스템 콜을 사용하므로 이벤트 루프를 상당히 오랫동안 블록할 수 있다.\n",
        "\n",
        "- 동시성이 아주 높은 서버에서는 응답 시간이 늘어날 수 있다.\n",
        "\n"
      ],
      "metadata": {
        "id": "X3AakNcI36tZ"
      }
    },
    {
      "cell_type": "code",
      "source": [
        "#debug = True라는 파라미터를 asyncio.run함수로 넘기면 문제 발생의 감지 가능\n",
        "#잘못 작성된 코루틴이 어떤 파일의 어느 줄에 있는지 알아내는 방법을 ㅂ보여줌\n",
        "import time\n",
        "\n",
        "async def slow_coroutine():\n",
        "    time.sleep(0.5) #느린 I/O를 시뮬레이션함\n",
        "\n",
        "asyncio.run(slow_coroutine(), debug = True)"
      ],
      "metadata": {
        "id": "FZXbzwGT4xIv"
      },
      "execution_count": null,
      "outputs": []
    },
    {
      "cell_type": "code",
      "source": [
        "#프로그램의 응답성을 최대로 높이기 위해서 이벤트 루프 안에서 시스템 콜이 이뤄질 잠재적 가능성 최소화\n",
        "#모든 데이터를 기록하는 새로운 Thread하위 클래스 만들기\n",
        "\n",
        "from threading import Thread\n",
        "\n",
        "class WriteThread(Thread):\n",
        "    def __init__(self, output_path):\n",
        "        super().__init__()\n",
        "        self.output_path = output_path\n",
        "        self.output = None\n",
        "        self.loop = asyncio.new_event_loop()\n",
        "\n",
        "    def run(self):\n",
        "        asyncio.set_event_loop(self.loop)\n",
        "        with open(self.output_path, 'wb') as self.output:\n",
        "            self.loop.run_forever()\n",
        "            #맨 마지막에 한 번 더 이벤트 루프를 실행\n",
        "            #다른 이벤트 루프가 stop()에 await하는 경우 해결\n",
        "            self.loop.run_until_complete(asyncio.sleep(0))"
      ],
      "metadata": {
        "id": "wRoE9J3P55bb"
      },
      "execution_count": null,
      "outputs": []
    },
    {
      "cell_type": "code",
      "source": [
        "#Lock를 사용할 필요가 없어짐\n",
        "\n",
        "async def real_write(self, data):\n",
        "    self.output.write(data)\n",
        "\n",
        "async def write(self, data):\n",
        "    coro = self.real_write(data)\n",
        "    future = asyncio.run_coroutine_threadsafe(coro, self.loop)\n",
        "    await asyncio.wrap_future(future)"
      ],
      "metadata": {
        "id": "2baYuQXq68lK"
      },
      "execution_count": null,
      "outputs": []
    },
    {
      "cell_type": "code",
      "source": [
        "#stop메서드를 사용하여 작업자 스레드에게 실행 중단\n",
        "\n",
        "async def real_stop(self):\n",
        "    self.loop.stop()\n",
        "\n",
        "async def stop(self):\n",
        "    coro = self.real_stop()\n",
        "    future = asyncio.run_coroutine_threadsafe(coro, self.loop)\n",
        "    await asyncio.wrap_future(future)"
      ],
      "metadata": {
        "id": "wNemi6c668tx"
      },
      "execution_count": null,
      "outputs": []
    },
    {
      "cell_type": "code",
      "source": [
        "#with문과 함께 사용할 수 있도록 __aenter__와 __aexit__메서드를 정의\n",
        "#주 이벤트 루프 스레드를 느리게 만들지 않으면서 제 시간에 시작하고 종료\n",
        "\n",
        "async def __aenter__(self):\n",
        "    loop = asyncio.get_event_loop()\n",
        "    await loop.run_in_executor(None, self.start)\n",
        "    return self\n",
        "\n",
        "async def __aexit__(self, *_):\n",
        "    await self.stop()"
      ],
      "metadata": {
        "id": "lQuIpjKC7xgm"
      },
      "execution_count": null,
      "outputs": []
    },
    {
      "cell_type": "code",
      "source": [
        "#WriteThread 클래스 사용 시 run_tasks를 완전히 비동기적인 버전으로 리팩터링\n",
        "#비동기 버전은 읽기도 좋고, 주 이벤트 루프 스레드의 동작을 느리게하는 시스템 콜을 전혀 실행 안함\n",
        "\n",
        "def readline(handle):\n",
        "    ...\n",
        "async def tail_async(handle, interval, write_func):\n",
        "    ...\n",
        "async def run_fully_async(handles, interval, output_path):\n",
        "    async with WriteThread(output_path) as output:\n",
        "        tasks = []\n",
        "        for handle in handles:\n",
        "            coro = tail_async(handle, interval, output.write)\n",
        "            task = asyncio.create_task(coro)\n",
        "            tasks.append(task)\n",
        "\n",
        "        await asyncio.gather(*tasks)"
      ],
      "metadata": {
        "id": "J4uQkT_o8giK"
      },
      "execution_count": null,
      "outputs": []
    },
    {
      "cell_type": "markdown",
      "source": [
        "### Summary\n",
        "\n",
        "- 시스템 콜(블로킹 I/O와 스레드 시작도 포함)을 코루틴으로 만들면 프로그램의 응답성이 좋아지고 사용자가 느끼는 지연 시간을 줄일 수 있다.\n",
        "\n",
        "- debug = True 파라미터를 asyncio.run에 넘기면 이벤트 루프가 빨리 반응하지 못하게 방해하는 코루틴 식별"
      ],
      "metadata": {
        "id": "rrS-r-yP-GR0"
      }
    },
    {
      "cell_type": "code",
      "source": [
        ""
      ],
      "metadata": {
        "id": "86peyQUY-Vkw"
      },
      "execution_count": null,
      "outputs": []
    }
  ]
}