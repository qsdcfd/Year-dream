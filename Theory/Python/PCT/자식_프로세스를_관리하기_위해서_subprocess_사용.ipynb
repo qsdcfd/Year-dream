{
  "nbformat": 4,
  "nbformat_minor": 0,
  "metadata": {
    "colab": {
      "name": "자식 프로세스를 관리하기 위해서 subprocess 사용",
      "provenance": [],
      "authorship_tag": "ABX9TyMiyKTSoAzLgve5/u4C5BfM"
    },
    "kernelspec": {
      "name": "python3",
      "display_name": "Python 3"
    },
    "language_info": {
      "name": "python"
    }
  },
  "cells": [
    {
      "cell_type": "markdown",
      "source": [
        "**동시성**\n",
        "\n",
        "- 컴퓨터가 같은 시간에 여러 다른 작업을 처리하는 것처럼 보이게 하는 것\n",
        "\n",
        "   - CPU 코어가 하나일지라도 여러 프로그램이 번갈아가면서 실행되면 동시에 수행하는 것 같은 착각을 부른다.\n",
        "\n",
        "- 어떤 특정 유형의 문제를 해결하기 위한 도구\n",
        "\n",
        "- 여러 다양한 실행 경로나 다양한 I/O 흐름을 제공하여 문제를 해결하는 과정이 동시에 독립적 시행으로 보임\n",
        "<br>\n",
        "\n",
        "**병렬성**\n",
        "\n",
        "- 같은 시간에 여러 다른 작업을 실제로 처리\n",
        "\n",
        "   - CPU 코어가 여러 개인 컴퓨터에 여러 프로그램을 동시에 실행"
      ],
      "metadata": {
        "id": "ZngntsXenYzo"
      }
    },
    {
      "cell_type": "markdown",
      "source": [
        "# 자식 프로세스를 관리하기 위해서 subprocess를 사용하라"
      ],
      "metadata": {
        "id": "dFYtAopjnYuJ"
      }
    },
    {
      "cell_type": "code",
      "source": [
        "\"\"\"\n",
        "파이썬은 하위 프로세스를 실행하는 방법이 많으므로\n",
        "자식 프로세스를 관리해야하는데 이때 subprocess 모듈 사용\n",
        "\"\"\"\n",
        "\n",
        "import subprocess\n",
        "\n",
        "result = subprocess.run(['echo', '자식 프로세스가 보내는 인사!'],\n",
        "                        capture_output = True,\n",
        "                        encoding='utf-8')\n",
        "\n",
        "result.check_returncode() #예외가 발생하지 않으면 문제없이 잘 종료\n",
        "\n",
        "print(result.stdout)"
      ],
      "metadata": {
        "colab": {
          "base_uri": "https://localhost:8080/"
        },
        "id": "iY-i_A97ndzA",
        "outputId": "52ac13cb-83af-4d2f-bf83-0b2f309a2361"
      },
      "execution_count": 1,
      "outputs": [
        {
          "output_type": "stream",
          "name": "stdout",
          "text": [
            "자식 프로세스가 보내는 인사!\n",
            "\n"
          ]
        }
      ]
    },
    {
      "cell_type": "code",
      "source": [
        "\n",
        "\n",
        "\"\"\"\n",
        "파이썬에서 subprocess 등의 모듈을 통해 실행한 자식 프로세스는\n",
        "부모 프로세스인 파이썬 인터프리터와 독립적으로 실행\n",
        "\n",
        "run함수 대신 Popen클래스를 사용해 하위 프로세세스 만들면\n",
        "주기적으로 상태 검사 가능\n",
        "\"\"\"\n",
        "\n",
        "proc = subprocess.Popen(['sleep', '1'])\n",
        "while proc.poll() is None:\n",
        "    print('작업 중...')\n",
        "    #시간이 걸리는 작업을 여기서 수행\n",
        "\n",
        "print('종료 상태', proc.poll())"
      ],
      "metadata": {
        "id": "JiDv2_a3JwRp"
      },
      "execution_count": null,
      "outputs": []
    },
    {
      "cell_type": "code",
      "source": [
        "\"\"\"\n",
        "자식 프로세스와 부모를 분리하면 부모 프로세스가 원하는 개수만큼 많은\n",
        "자식 프로세스 병렬 실행\n",
        "\n",
        "시간의 단축화\n",
        "\"\"\"\n",
        "\n",
        "import time\n",
        "\n",
        "start = time.time()\n",
        "sleep_procs = []\n",
        "for _ in range(10):\n",
        "    proc = subprocess.Popen(['sleep', '1'])\n",
        "    sleep_procs.append(proc)\n",
        "\n",
        "for proc in sleep_procs:\n",
        "    proc.communicate()\n",
        "    end = time.time()\n",
        "    delta = end - start\n",
        "    print(f'{delta:.3} 초 만에 끝남')\n",
        "\n",
        "#만약 순차적으로 시행되며 1 * 10인 10초 이상이다."
      ],
      "metadata": {
        "id": "N0wfNZqhMsTc"
      },
      "execution_count": null,
      "outputs": []
    },
    {
      "cell_type": "code",
      "source": [
        "#파이썬 프로그램의 데이터 파이프를 사용해서 하위 프로세스로 보내거나 하위 프로세스의 출력 받아서 병렬 작업 수행\n",
        "\n",
        "#명령줄 인자를 사용해서 자식 프로세스를 시작하고 자식 프로세스와 I/O파이프 연결\n",
        "\n",
        "import os\n",
        "def run_encrypt(data):\n",
        "    env = os.environ.copy()\n",
        "    env['password'] = 'zf7ShyBhZ0raQDdE/FiZpm/m/8f9X+M1'\n",
        "    proc = subprocess.Popen(\n",
        "        ['openss1', 'enc', '-des3', '-pass', 'env:password'],\n",
        "        env = env,\n",
        "        stdin = subprocess.PIPE,\n",
        "        stdout = subprocess.PIPE)\n",
        "    proc.stdin.write(data)\n",
        "    proc.stdin.flush() #자식이 입력을 받도록 보장\n",
        "    return proc"
      ],
      "metadata": {
        "id": "GBhOJ2klNWG5"
      },
      "execution_count": 5,
      "outputs": []
    },
    {
      "cell_type": "code",
      "source": [
        "#파이프를 통해서 사용자 입력, 파일 핸들, 네트워크 소켓 등에서 받은 데이터를\n",
        "#암호화 함수에 보내기\n",
        "\n",
        "procs = []\n",
        "for _ in range(3):\n",
        "    data = os.urandom(10)\n",
        "    proc = run_encrypt(data)\n",
        "    procs.append(proc)"
      ],
      "metadata": {
        "id": "rgOxAO55Qwek"
      },
      "execution_count": null,
      "outputs": []
    },
    {
      "cell_type": "code",
      "source": [
        "#자식 프로세스가 끝나는 것을 기다린 후 마지막 출력 가져오기\n",
        "\n",
        "for proc in procs:\n",
        "    out, _ = proc.communicate()\n",
        "    print(out[-10:])"
      ],
      "metadata": {
        "id": "0thdodeRRAxO"
      },
      "execution_count": 7,
      "outputs": []
    },
    {
      "cell_type": "code",
      "source": [
        "#openssl 명렬줄 도구로 하위 프로세스 만들기\n",
        "\n",
        "def run_hash(input_stdin):\n",
        "    return subprocess.Popen(\n",
        "        ['openssl','dgst','-whirlpool','-binary'],\n",
        "        stdin = input_stdin,\n",
        "        stdout = subprocess.PIPE\n",
        "    )"
      ],
      "metadata": {
        "id": "FxJxqUDmRUxy"
      },
      "execution_count": 9,
      "outputs": []
    },
    {
      "cell_type": "code",
      "source": [
        "#입력이나 출력 파이프를 기다리면서 block가 두렵다면\n",
        "#timeout 파라미터를 communicate메서드에 전달\n",
        "proc = subprocess.Popen(['sleep',  '10'])\n",
        "try:\n",
        "    proc.communicate(timeout=0.1)\n",
        "except subprocess.TimeoutExpired:\n",
        "    proc.terminate()\n",
        "    proc.wait()\n",
        "\n",
        "print('종료 상태', proc.poll())\n",
        "\n"
      ],
      "metadata": {
        "id": "OqbTG-38Rq4M"
      },
      "execution_count": null,
      "outputs": []
    },
    {
      "cell_type": "markdown",
      "source": [
        "### Summary\n",
        "\n",
        "- subprocess 모듈을 사용해 자식 프로세스를 실행하고 입력과 출력 스트림을 관리\n",
        "\n",
        "- 자식 프로세스는 파이썬 인터프리터와 병렬로 실행되므로 CPU 코어를 최대로 씀\n",
        "\n",
        "- 간단하게 자식 프로세스를 실행하고 싶은 경우에는 run 편의 함수를 사용하고 유닉스 스타일의 파이프라인이 필요하면 Popen 클래스 사용\n",
        "\n",
        "- 자식 프로세스가 멈추는 경우나 교착 상태를 방직하려면 communicate메서드에 대해서 timeout 파라미터 사용"
      ],
      "metadata": {
        "id": "vhznSXB2UPTZ"
      }
    },
    {
      "cell_type": "code",
      "source": [
        ""
      ],
      "metadata": {
        "id": "X9ZcORj0UvIS"
      },
      "execution_count": null,
      "outputs": []
    }
  ]
}