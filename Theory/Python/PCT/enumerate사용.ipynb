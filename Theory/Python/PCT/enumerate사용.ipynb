{
  "nbformat": 4,
  "nbformat_minor": 0,
  "metadata": {
    "colab": {
      "name": "enumerate사용",
      "provenance": [],
      "authorship_tag": "ABX9TyPeVZM9mVfjwBf6BD2aywu7"
    },
    "kernelspec": {
      "name": "python3",
      "display_name": "Python 3"
    },
    "language_info": {
      "name": "python"
    }
  },
  "cells": [
    {
      "cell_type": "markdown",
      "source": [
        "### Range보다는 enumerate를 사용하라\n",
        "\n",
        "- range함수\n",
        "\n",
        "   - 정수  집합을 반복하는 루프가 필요할 때 유용하다.\n",
        "\n",
        "```\n",
        "from ranodom import randint\n",
        "for i in range(32):\n",
        "    if randint(32):\n",
        "        random_bits !=1 <<i\n",
        "print(bin(random_bits))\n",
        "\n",
        "#0b11101000100100000111000010000001\n",
        "```\n",
        "\n",
        "- 이터레이션할 대상 데이터 구조가 있다면 이 시퀀스에 대해 바로 루프를 돈다.\n",
        "\n",
        "\n",
        "\n",
        "```\n",
        "flavor_list = ['바닐라','초콜릿','피칸','딸기']\n",
        "for flavor in flavor_list:\n",
        "    print(f'{flavor} 맛있어요.')\n",
        "```\n",
        "\n",
        "- 이터레이션하면서 리스트의 몇 번째 원소를 처리 중인지 알 수 있다.\n",
        "\n",
        "    - list의 길이도 알아야한다\n",
        "    - 인덱스를 사용하기에 배열 원소에도 접근해야한다.\n",
        "    - 단계가 여러 개가 되면 가독성이 떨어지게 된다.\n",
        "\n",
        "\n",
        "```\n",
        "for i in range(len(flavor_list)):\n",
        "    flavor =flavor_list[i]\n",
        "    print(f'{i+1}: {flavor}')\n",
        "```\n",
        "\n",
        "\n",
        "\n"
      ],
      "metadata": {
        "id": "LYvuD1V5zdg0"
      }
    },
    {
      "cell_type": "markdown",
      "source": [
        "**enumerate**\n",
        "\n",
        "- 루프 인덱스와 이터레이터의 다음 가밧으로 이뤄진 쌍을 넘겨준다.\n",
        "\n",
        "- next 내장 함수를 사용해서 다음 원소를 가져온다.\n",
        "\n",
        "\n",
        "\n",
        "```\n",
        "it = enumerate(flavor_list)\n",
        "print(next(it)) #(0,'바닐라')\n",
        "print(next(it)) #(1,'초콜릿')\n",
        "```\n",
        "\n",
        "- for문에서 간결하게 언패킹할 수 있다.\n",
        "\n",
        "\n",
        "```\n",
        "for i, flavor in enumerate(flavor_list):\n",
        "    print(f'{i+1}: {flavor}'\n",
        "```\n",
        "\n",
        "- 두 번째 파라미터를 활용해 어디부터 수를 세기 시작하는 것을 지정한다.\n",
        "\n",
        "\n",
        "\n",
        "```\n",
        "for i, flavor in enumerate(flavor_list):\n",
        "    print(f'{i+1}: {flavor}'\n",
        "```\n",
        "\n",
        "\n",
        "\n",
        "\n",
        "\n",
        "\n",
        "\n"
      ],
      "metadata": {
        "id": "AjM_Bdbv2J50"
      }
    },
    {
      "cell_type": "code",
      "source": [
        ""
      ],
      "metadata": {
        "id": "ZcfHdnl72SVw"
      },
      "execution_count": null,
      "outputs": []
    },
    {
      "cell_type": "code",
      "source": [
        ""
      ],
      "metadata": {
        "id": "1TIHEn1N2SSZ"
      },
      "execution_count": null,
      "outputs": []
    },
    {
      "cell_type": "code",
      "execution_count": null,
      "metadata": {
        "id": "YmM1oZX4yfHe"
      },
      "outputs": [],
      "source": [
        ""
      ]
    }
  ]
}