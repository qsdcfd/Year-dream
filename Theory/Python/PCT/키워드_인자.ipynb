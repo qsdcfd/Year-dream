{
  "nbformat": 4,
  "nbformat_minor": 0,
  "metadata": {
    "colab": {
      "name": "키워드 인자",
      "provenance": [],
      "authorship_tag": "ABX9TyOtExIdCS0HTaVmVY4zxcDP"
    },
    "kernelspec": {
      "name": "python3",
      "display_name": "Python 3"
    },
    "language_info": {
      "name": "python"
    }
  },
  "cells": [
    {
      "cell_type": "markdown",
      "source": [
        "## 키워드 인자로 선택적인 기능을 제공하라"
      ],
      "metadata": {
        "id": "Z7muNQGXVCw3"
      }
    },
    {
      "cell_type": "markdown",
      "source": [
        "### 파이썬이 딕셔너리에 들어있는 값을 함수에 잔달하면서 각 값에 대응하는 키를 키워드 사용\n",
        "\n",
        "\n",
        "```\n",
        "def remainder(number, divisor):\n",
        "    return number % divisor\n",
        "\n",
        "assert remainder(20,7) == 6\n",
        "\n",
        "#** 연산자는 파이썬이 딕셔너리에 들어있는 값을 전달\n",
        "\n",
        "my_kwargs = {\n",
        "    'number':20,\n",
        "    'divisor':7,\n",
        "}\n",
        "assert remainder(**my_kwargs)  == 6\n",
        "\n",
        "#중복인자가 없으면 **연사자를 위치인자와 ㅣㅋ워드인자 섞기 가능\n",
        "\n",
        "my_kwargs = {\n",
        "    'divisor':7,\n",
        "}\n",
        "assert remainder(number=20, **my_kwargs) ==6\n",
        "\n",
        "#**연산자 여러 번 사용가능하고 딕셔너리에 겹치는 키가 없어야한다.\n",
        "\n",
        "my_kwargs ={\n",
        "    'number':20,\n",
        "}\n",
        "other_kwargs = {\n",
        "    'divisor':7,\n",
        "}\n",
        "assert remainder(**my_kwargs, **other_kwargs) ==6\n",
        "\n",
        "#**kwargs 파라미터를 활용하여 모든 키워드 인자를 모은다\n",
        "\n",
        "def print_parameters(**kwargs):\n",
        "    for key, value in kwargs.items():\n",
        "        print(f'{key} = {value}')\n",
        "\n",
        "print_parameters(alpha=1.5, beta=9, 감마=4)\n",
        "```\n",
        "\n",
        "\n"
      ],
      "metadata": {
        "id": "nrHSZEvjVJIX"
      }
    },
    {
      "cell_type": "markdown",
      "source": [
        "### 키워드 인자의 이점 세 가지\n",
        "\n",
        "#### 첫 번째\n",
        "\n",
        "- 키워드 인자를 사용하면 코드를 처음보는 사람들에게 함수 호출의 의미를 명확히 알려준다.\n",
        "\n",
        "   - 위의 예시처럼 어떤 파라미터를 어떤 목적으로 쓰는지 명확해진다.\n",
        "\n",
        "<br>\n",
        "\n",
        "#### 두 번째\n",
        "\n",
        "- 키워드 인자의 경우 함수 정의에서 디폴트 값 지정\n",
        "\n",
        "   - 코드 중복과 잡음이 줄어든다.\n",
        "\n",
        "\n",
        "```\n",
        "def flow_rate(weight_diff, time_diff):\n",
        "    return weight_diff / time_diff\n",
        "\n",
        "weight_diff = 0.5\n",
        "time_diff = 3\n",
        "flow = flow_rate(weight_diff, time_diff)\n",
        "print(f'{flow:.3} kg/s') #0.167 kg/s\n",
        "\n",
        "#매번 period 지정\n",
        "\n",
        "def flow_rate(weight_diff, time_diff, period):\n",
        "    return (weight_diff / time_diff) * period\n",
        "\n",
        "\n",
        "\n",
        "flow_per_second = flow_rate(weight_diff, time_diff, 1)\n",
        "\n",
        "#잡음을 줄이기 위해 디폴트 값 지정\n",
        "\n",
        "def flow_rate(weight_diff, time_diff, period=1)\n",
        "    return ( weight_diff/ time_diff) * period\n",
        "```\n",
        "\n",
        "<br>\n",
        "\n",
        "#### 세 번째\n",
        "\n",
        "- 어떤 함수를 사용하던 기존 호출자에게 하위 호환성 제공\n",
        "\n",
        "    - 함수 파라미터 확장\n",
        "\n",
        "    - 새로운 버그가 줄어든다\n",
        "\n",
        "\n"
      ],
      "metadata": {
        "id": "tA8gLEIfYmUz"
      }
    },
    {
      "cell_type": "code",
      "source": [
        ""
      ],
      "metadata": {
        "id": "b50Ar2lraPl7"
      },
      "execution_count": null,
      "outputs": []
    }
  ]
}