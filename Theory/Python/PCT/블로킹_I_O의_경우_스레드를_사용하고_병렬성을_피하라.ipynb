{
  "nbformat": 4,
  "nbformat_minor": 0,
  "metadata": {
    "colab": {
      "name": "블로킹 I/O의 경우 스레드를 사용하고 병렬성을 피하라",
      "provenance": [],
      "authorship_tag": "ABX9TyMNc6xobYormCzxKBUbwmcv"
    },
    "kernelspec": {
      "name": "python3",
      "display_name": "Python 3"
    },
    "language_info": {
      "name": "python"
    }
  },
  "cells": [
    {
      "cell_type": "markdown",
      "source": [
        "# 블로킹 I/O의 경우 스레드를 사용하고 병렬성을 피하라"
      ],
      "metadata": {
        "id": "QCWhpEdzRWfX"
      }
    },
    {
      "cell_type": "code",
      "source": [
        ""
      ],
      "metadata": {
        "id": "6WGSqhyMsLgK"
      },
      "execution_count": null,
      "outputs": []
    },
    {
      "cell_type": "code",
      "source": [
        "\"\"\"\n",
        "파이썬을 활용하여 컴퓨터의 모든 CPU코어를 활용할 수 있도록 한다.\n",
        "이때, 다중 스레드를 사용해서 계산 수행하는 것이 타당하다\n",
        "\"\"\"\n",
        "\n",
        "def factorize(number):\n",
        "    for i in range(1, number+1):\n",
        "        if number %i ==0:\n",
        "            yield\n",
        "\n",
        "from threading import Thread\n",
        "\n",
        "class FactorizeThread(Thread):\n",
        "    def __init__(self, number):\n",
        "        super().__init__()\n",
        "        self.number = number\n",
        "\n",
        "    def run(self):\n",
        "        self.factors = list(factorize(self.number))"
      ],
      "metadata": {
        "id": "JTVZmEDxrubQ"
      },
      "execution_count": 1,
      "outputs": []
    },
    {
      "cell_type": "code",
      "source": [
        "#수마다 스레드를 시작해서 병렬로 인수 찾기\n",
        "\n",
        "import time\n",
        "\n",
        "numbers = [2139079,1214759,1516637,1852285]\n",
        "start = time.time()\n",
        "\n",
        "threads = []\n",
        "for number in numbers:\n",
        "    thread = FactorizeThread(number)\n",
        "    thread.start()\n",
        "    threads.append(thread)\n",
        "\n",
        "for thread in threads:\n",
        "    thread.join()\n",
        "\n",
        "end = time.time()\n",
        "delta = end - start\n",
        "print(f'총 {delta:.3f} 초 걸림')"
      ],
      "metadata": {
        "colab": {
          "base_uri": "https://localhost:8080/"
        },
        "id": "ha114CSqsT4T",
        "outputId": "986b3310-8ba7-4ea8-c9c0-187e8f042d47"
      },
      "execution_count": 2,
      "outputs": [
        {
          "output_type": "stream",
          "name": "stdout",
          "text": [
            "총 0.605 초 걸림\n"
          ]
        }
      ]
    },
    {
      "cell_type": "markdown",
      "source": [
        "**신기하게도, CPU가 많아도 스레드를 사용하면 속도가 느려지기도 한다. 왜냐하면, 표준 CPython 인터프리터에서 프로그램을 사용할 때 GIL(락 충돌과 스케줄링 부가비용)이 미치는 영향을 보여준다.**"
      ],
      "metadata": {
        "id": "NK7uA05stELn"
      }
    },
    {
      "cell_type": "markdown",
      "source": [
        "**위와 같은 문제가 있어도 파이썬이 스레드를 지원하는 이유**\n",
        "\n",
        "- 다중 스레드를 사용하면 프로그램이 동시에 여러 일을 하는 것처럼 보이게 만들기 쉽다.(동시성 작업)\n",
        "\n",
        "- 블로킹 I/O를 다루기 위해서이다.\n",
        "\n",
        "   - 특정 시스템 콜을 사용할 때 일어난다."
      ],
      "metadata": {
        "id": "pc1cfGfwtUVt"
      }
    },
    {
      "cell_type": "code",
      "source": [
        "#속도는 잡았을지라도 실행하는 동안 다른 프로그램 활용을 전혀 못함\n",
        "import select\n",
        "import socket\n",
        "\n",
        "def slow_systemcall():\n",
        "    select.select([socket.socket()], [], [], 0.1)\n",
        "\n",
        "start = time.time()\n",
        "\n",
        "for _ in range(5):\n",
        "    slow_systemcall()\n",
        "\n",
        "end = time.time()\n",
        "delta = end - start\n",
        "\n",
        "print(f'총 {delta:.3f} 초 걸림')"
      ],
      "metadata": {
        "colab": {
          "base_uri": "https://localhost:8080/"
        },
        "id": "xMMg6vY-tAKb",
        "outputId": "c12922e7-ec42-4a1f-bc47-6c61779fc874"
      },
      "execution_count": 3,
      "outputs": [
        {
          "output_type": "stream",
          "name": "stdout",
          "text": [
            "총 0.002 초 걸림\n"
          ]
        }
      ]
    },
    {
      "cell_type": "code",
      "source": [
        "#여러 스레드에서 따로따로 호출\n",
        "\n",
        "start = time.time()\n",
        "threads = []\n",
        "for _ in range(5):\n",
        "    thread = Thread(target=slow_systemcall)\n",
        "    thread.start()\n",
        "    threads.append(thread)\n",
        "    "
      ],
      "metadata": {
        "id": "IBPX1wcBuhXC"
      },
      "execution_count": 4,
      "outputs": []
    },
    {
      "cell_type": "markdown",
      "source": [
        "**병렬화한 버전은 순차적 실행보다 시간이 1/5로 줄어든다.**\n",
        "\n",
        "**GIL은 파이썬 프로그램이 병렬로 실행하는 것을 막지는 못하지만 시스템 콜에는 영향을 끼칠 수 없다.**\n",
        "\n"
      ],
      "metadata": {
        "id": "mhSJbPvcu88D"
      }
    },
    {
      "cell_type": "markdown",
      "source": [
        "### Summary\n",
        "\n",
        "- 파이썬 스레드는 GIL(전역 인터프리터 락)으로 인해서 다중 CPU코어에서 병렬로 실행될 수 없다.\n",
        "\n",
        "- GIL이 있음에도 불구하고 파이썬 스레드는 여전히 유용하고, 스레드를 사용하면 여러 일을 동시에 진행하는 프로그램을 쉽게 기술한다.\n",
        "\n",
        "- 파이썬 스레드를 사용해서 여러 시스템 콜을 병렬할 수 있고, 이를 활용하면 블로킹 I/O와 계산을 동시에 수행할 수 있다.\n"
      ],
      "metadata": {
        "id": "C7NBhnI9vOXx"
      }
    },
    {
      "cell_type": "code",
      "source": [
        ""
      ],
      "metadata": {
        "id": "ohLyi7OWvhER"
      },
      "execution_count": null,
      "outputs": []
    }
  ]
}