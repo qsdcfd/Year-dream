{
  "nbformat": 4,
  "nbformat_minor": 0,
  "metadata": {
    "colab": {
      "name": "합성 가능한 클래스 확장",
      "provenance": [],
      "authorship_tag": "ABX9TyN5Jp1F5AhbfrMcUM1z1Gtj"
    },
    "kernelspec": {
      "name": "python3",
      "display_name": "Python 3"
    },
    "language_info": {
      "name": "python"
    }
  },
  "cells": [
    {
      "cell_type": "markdown",
      "source": [
        "# 합성 가능한 클래스 확장이 필요하면 메타클래스보다는 클래스 데코레이터를 사용하라\n",
        "\n",
        "**메타클래스를 사용하면 클래스 생성을 다양한 방법으로 커스텀화할 수 있지만, 여전히 메타클래스로  처리할 수 없는 경우가 있다.**"
      ],
      "metadata": {
        "id": "oLFcARDzEDAj"
      }
    },
    {
      "cell_type": "code",
      "source": [
        "#전달 인자, 반환 값, 예외 출력\n",
        "\n",
        "#디버깅 데코레이터 정의\n",
        "\n",
        "\"\"\"\n",
        "아래의 식을 활용하면, 모든 메서드를 @trace_func 데코레이터를 써서 재정의\n",
        "불필요한 중복으로 인해서 가독성 저하및 실수가 쉬워짐\n",
        "\"\"\"\n",
        "\n",
        "from functools import wraps\n",
        "\n",
        "def trace_func(func):\n",
        "    if hasattr(func, 'tracing'): #단 한 번만 데코레이터 적용\n",
        "        return func\n",
        "\n",
        "    @wraps(func)\n",
        "    def wrapper(*args, **kwargs):\n",
        "        result = None\n",
        "        try:\n",
        "            result = func(*args, **kwargs)\n",
        "            return result\n",
        "        except Exception as e:\n",
        "            result = e\n",
        "            raise\n",
        "        finally:\n",
        "            print(f'{func.__name__}({args!r}, {kwargs!r}) ->'\n",
        "                  f'{result!r}')\n",
        "    \n",
        "    wrapper.tracing = True\n",
        "    return wrapper\n"
      ],
      "metadata": {
        "id": "0P9B2TZHHT5R"
      },
      "execution_count": null,
      "outputs": []
    },
    {
      "cell_type": "code",
      "source": [
        "#해결 방법: 메타클래스를 사용해서 클래스에 속한 모든 메서드 자동으로 감싸기\n",
        "import types\n",
        "\n",
        "trace_types = (\n",
        "    types.MethodType,\n",
        "    types.FunctionType,\n",
        "    types.BuiltinFunctionType,\n",
        "    types.BuiltinMethodType,\n",
        "    types.MethodDescriptorType,\n",
        "    types.ClassMethodDescriptorType)\n",
        "\n",
        "class TraceMeta(type):\n",
        "    def __new__(meta, name, bases, class_dict):\n",
        "        klass = super().__new__(meta, name, bases, class_dict)\n",
        "\n",
        "        for key in dir(klass):\n",
        "            value = getattr(klass, key)\n",
        "            if isinstance(value, trace_types):\n",
        "                wrapped = trace_func(value)\n",
        "                setattr(klass, key,wrapped)\n",
        "\n",
        "        return klass\n",
        "\n",
        "\n",
        "#TraceMeta는 OhterMeta가 상속하지 않으므로 오류 발생\n",
        "#메타클래스 상속 활용해도 코드 변경을 못한다."
      ],
      "metadata": {
        "id": "XN-mtBwNH-nT"
      },
      "execution_count": null,
      "outputs": []
    },
    {
      "cell_type": "code",
      "source": [
        "# 클래스 데코레이션으로 위와 같은 문제 ㅌ파\n",
        "#클래스 선언 앞에 @기호와 데코레이터 함수 적기\n",
        "#데코레이터 함수는 인자로 받은 클래스를 적절히 변경하여 재생성\n",
        "#코드도 짧다\n",
        "\n",
        "def my_class_decorator(klass):\n",
        "    klass.extra_param = '안녕'\n",
        "    return klass\n",
        "\n",
        "@my_class_decorator\n",
        "class Myclass:\n",
        "    pass\n",
        "\n",
        "\n",
        "def trace(klass):\n",
        "    for key in dir(klass):\n",
        "        value = getattr(klass, key)\n",
        "        if isinstance(value, trace_types):\n",
        "            wrapped = trace_func(value)\n",
        "            setattr(klass, key, wrapped)   \n",
        "\n",
        "    return klass"
      ],
      "metadata": {
        "id": "qURC9jNCJdUs"
      },
      "execution_count": null,
      "outputs": []
    },
    {
      "cell_type": "code",
      "source": [
        "#위의 데코레이터를 우리가 만든 dict 하위 클래스 적용하면\n",
        "#메타클래스 쓴 것과 같은 결과\n",
        "\n",
        "@trace\n",
        "class TraceDict(dict):\n",
        "    pass\n",
        "\n",
        "trace_dict = TraceDict([('안녕', 1)])\n",
        "trace_dict['거기'] = 2\n",
        "trace_dict['안녕']\n",
        "try:\n",
        "    trace_dict['존재하지 않음']\n",
        "\n",
        "except KeyError:\n",
        "    pass #키 오류가 발생할 것을 예상"
      ],
      "metadata": {
        "colab": {
          "base_uri": "https://localhost:8080/"
        },
        "id": "R-oWuE60Qapz",
        "outputId": "48188f9f-a1cf-45e7-b1c6-3f4456f160bf"
      },
      "execution_count": null,
      "outputs": [
        {
          "output_type": "stream",
          "name": "stdout",
          "text": [
            "__new__((<class '__main__.TraceDict'>, [('안녕', 1)]), {}) ->{}\n",
            "__getitem__(({'안녕': 1, '거기': 2}, '안녕'), {}) ->1\n",
            "__getitem__(({'안녕': 1, '거기': 2}, '존재하지 않음'), {}) ->KeyError('존재하지 않음')\n"
          ]
        }
      ]
    },
    {
      "cell_type": "code",
      "source": [
        "#데코레이션을 적용할 클래스에 이미 메타 클래스가 있어도 데코레이터 사용 가능\n",
        "#이런 식으로 클래스 합성 및 확장이 일어남\n",
        "class OtherMeta(type):\n",
        "    pass\n",
        "\n",
        "@trace\n",
        "class TraceDict(dict, metaclass = OtherMeta):\n",
        "    pass\n",
        "\n",
        "trace_dict = TraceDict([('안녕', 1)])\n",
        "trace_dict['거기'] = 2\n",
        "trace_dict['안녕']\n",
        "\n",
        "try:\n",
        "    trace_dict['존재하지 않음']\n",
        "except KeyError:\n",
        "    pass"
      ],
      "metadata": {
        "id": "vzKElBHaQ1Mn",
        "colab": {
          "base_uri": "https://localhost:8080/"
        },
        "outputId": "8ac11c40-188f-4169-9222-aa558d18032e"
      },
      "execution_count": 14,
      "outputs": [
        {
          "output_type": "stream",
          "name": "stdout",
          "text": [
            "__new__((<class '__main__.TraceDict'>, [('안녕', 1)]), {}) ->{}\n",
            "__getitem__(({'안녕': 1, '거기': 2}, '안녕'), {}) ->1\n",
            "__getitem__(({'안녕': 1, '거기': 2}, '존재하지 않음'), {}) ->KeyError('존재하지 않음')\n"
          ]
        }
      ]
    },
    {
      "cell_type": "markdown",
      "source": [
        "### Summary"
      ],
      "metadata": {
        "id": "meoam07FmX5K"
      }
    },
    {
      "cell_type": "markdown",
      "source": [
        "- 클래스 데코레이터는 class 인스턴스를 파라미터로 받아서 이 클래스를 변경한 클래스나 새로운 클래스를 반환해주는 간단한 함수\n",
        "\n",
        "- 준비 코드를 최소화하면서 클래스 내부의 모든 메서드나 애트리뷰트를 변경하고 싶을 때 클래스 데코레이터가 유용\n",
        "\n",
        "- 메타클래스는 서로 쉽게 합성할 수 없지만, 여러 클래스 데코레이터를 충돌없이 사용해서 똑같은 클래스를 확장\n"
      ],
      "metadata": {
        "id": "PlaZrBA4maab"
      }
    },
    {
      "cell_type": "code",
      "source": [
        ""
      ],
      "metadata": {
        "id": "AalZaAS-nDzr"
      },
      "execution_count": null,
      "outputs": []
    }
  ]
}