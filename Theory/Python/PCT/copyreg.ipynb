{
  "nbformat": 4,
  "nbformat_minor": 0,
  "metadata": {
    "colab": {
      "name": "copyreg",
      "provenance": [],
      "authorship_tag": "ABX9TyN1gTkCDhvCZrzyzVJEriHs"
    },
    "kernelspec": {
      "name": "python3",
      "display_name": "Python 3"
    },
    "language_info": {
      "name": "python"
    }
  },
  "cells": [
    {
      "cell_type": "markdown",
      "source": [
        "## copyreg를 사용하여 pickle를 더 신뢰성있게 만들어라\n"
      ],
      "metadata": {
        "id": "5nQQMDoscf7o"
      }
    },
    {
      "cell_type": "markdown",
      "source": [
        "**pickle**\n",
        "\n",
        "- 직렬화 형식이 안전하지 않다.\n",
        "\n",
        "- 악의적인 pickle데이터가 자신을 역직렬화하는 파이썬 프로그램의 일부를 취약하게 만들 수 있다.\n",
        "\n",
        "<br>\n",
        "\n",
        "**Json**\n",
        "\n",
        "- 설계상 안전하다\n",
        "\n",
        "- 객체 계층 구조를 간단하게 묘사한 값이 들어있다.\n",
        "\n",
        "- 역직렬화해도 추가적인 위험에 노출될 일이 없다.\n",
        "\n",
        "- 서로 신뢰할 수 없는 프로그램 통신 시 JSON같은 형식 사용한다."
      ],
      "metadata": {
        "id": "Nr_vSOhJck0A"
      }
    },
    {
      "cell_type": "markdown",
      "source": [
        "**코드로 보는 예시**\n"
      ],
      "metadata": {
        "id": "3tUy44cNdf5M"
      }
    },
    {
      "cell_type": "code",
      "source": [
        "class GameState:\n",
        "    def __init__(self):\n",
        "        self.level = 0\n",
        "        self.lives = 4\n",
        "\n",
        "state = GameState()\n",
        "state.level += 1\n",
        "state.lives -= 1\n",
        "\n",
        "print(state.__dict__)"
      ],
      "metadata": {
        "colab": {
          "base_uri": "https://localhost:8080/"
        },
        "id": "KbEQSmAncjkU",
        "outputId": "ec12aba9-5ee8-41f8-cc52-beee9da88f6b"
      },
      "execution_count": 1,
      "outputs": [
        {
          "output_type": "stream",
          "name": "stdout",
          "text": [
            "{'level': 1, 'lives': 3}\n"
          ]
        }
      ]
    },
    {
      "cell_type": "code",
      "source": [
        "#dump 함수를 사용해서 GameState 객체를 파일에 기록\n",
        "import pickle\n",
        "\n",
        "state_path = 'game_state.bin'\n",
        "with open(state_path, 'wb') as f:\n",
        "    pickle.dump(state, f)\n",
        "\n",
        "#직렬화된 적이 없게 다시 돌려받기\n",
        "\n",
        "with open(state_path,'rb') as f:\n",
        "    state_after = pickel.load(f)\n",
        "\n",
        "print(state_after.__dict__)"
      ],
      "metadata": {
        "id": "4DdxNSjqkQKo"
      },
      "execution_count": null,
      "outputs": []
    },
    {
      "cell_type": "markdown",
      "source": [
        "역직렬을 pickel을 활용하여 할 경우 클래스의 인스턴스 동작이 더 혼랍스럽다. \n",
        "\n",
        "왜냐하면, pickle 모듈이 작동하는 방식의 부산물이기때문이다.\n",
        "\n"
      ],
      "metadata": {
        "id": "4TSQbVrim2gf"
      }
    },
    {
      "cell_type": "markdown",
      "source": [
        "### copyreg 내장 모듈 사용\n",
        "\n",
        "- 위의 문제 해결\n",
        "\n",
        "- pickel 동작 제어 및 동작의 신뢰성을 높인다.\n",
        "\n",
        "<br>\n",
        "\n",
        "**방법1: 디폴트 애트리뷰트 값**\n",
        "\n",
        "- 디폴트 인자가 있는 생성자를 사용하면 GameState 객체를 언피클 했을 때도 함상 필요한 모든 애트리뷰트 포함\n",
        "\n",
        "\n",
        "\n",
        "```\n",
        "class GameState:\n",
        "    def __init__(self, level=0, lives=4, points=0):\n",
        "        self.level = level\n",
        "        self.lives = lives\n",
        "        self.points = points\n",
        "\n",
        "#필요한 도우미 함수 만들기\n",
        "\n",
        "def pickle_game_state(game_state):\n",
        "    kwargs = game_state.__dict__\n",
        "    return unpickle_game_state, (kwargs,)\n",
        "\n",
        "def unpickle_game_state(kwargs):\n",
        "    return GameState(**kwargs)\n",
        "```\n",
        "\n",
        "<br>\n",
        "\n",
        "\n",
        "```\n",
        "import copyreg\n",
        "\n",
        "copyreg.pickle(GameState, pickle_game_state)\n",
        "\n",
        "state = GameState()\n",
        "state.points += 1000\n",
        "serialized = pickle.dumps(state)\n",
        "state_after = pickle.loads(serialized)\n",
        "print(state_after.__dict__)\n",
        "```\n",
        "\n",
        "<nr>\n",
        "\n",
        "**방법2: 클래스 버전 지정**\n",
        "\n",
        "- 하위 호환성으로 파이썬 객체의 필드가 제거되면 디폴트 인자를 사용할 수 없다.\n",
        "\n",
        "- 해결: copyreg함수에게 전달하는 함수에 버전 파라미터 추가를하면 된다.\n",
        "\n",
        "\n",
        "```\n",
        "def pickle_game_state(game_state):\n",
        "    kwargs = game_state.__dict__\n",
        "    kwargs['version'] = 2\n",
        "    return unpickle_game_state, (kwargs,)\n",
        "\n",
        "#GameState 생성자에 전달할 인자를 적절히 변경 가능\n",
        "\n",
        "def unpickle_game_state(kwargs):\n",
        "    version = kwargs.pop('version', 1)\n",
        "    if version == 1:\n",
        "        del kwargs['lives']\n",
        "    return GameState(**kwargs)\n",
        "```\n",
        "\n",
        "<br>\n",
        "\n",
        "**방법3: 안정적인 임포트 경로**\n",
        "\n",
        "- 클래스 이름을 바꾸면 코드가 깨지는 경우가 이ㅆ다.\n",
        "\n",
        "- 프로그램이 존재하는 생명 주기에서 클래스 이름을 변경하거나 클래스를 다른 모듈로 옮기는 방식으로 코드 리팩터링\n",
        "\n",
        "\n",
        "\n",
        "```\n",
        "copyreg.pickle(BetterGameState, pickle_game_state)\n",
        "```\n",
        "\n",
        "\n",
        "\n",
        "\n",
        "\n",
        "\n"
      ],
      "metadata": {
        "id": "ceTUHjjBnC-3"
      }
    },
    {
      "cell_type": "markdown",
      "source": [
        "### Summary\n",
        "\n",
        "- 신뢰할 수 있는 프로그램 사이에 객체를 직렬화하고 역직렬화할 때는 pickle  내장 모듈이 유용하다.\n",
        "\n",
        "- 시간이 지남에 따라 클래스가 바뀔(애트리뷰트의 추가나 삭제 등)수 있으므로 이전에 피클한 객체를 역직렬화면 문제가 생긴다.\n",
        "\n",
        "- 직렬화한 객체의 하위 호환성을 보장하고자 copyreg 내장 모듈과 pickle를 함께 사용"
      ],
      "metadata": {
        "id": "kVdHXL4aqyEW"
      }
    },
    {
      "cell_type": "code",
      "source": [
        ""
      ],
      "metadata": {
        "id": "Lk7kNU8krXg1"
      },
      "execution_count": null,
      "outputs": []
    }
  ]
}