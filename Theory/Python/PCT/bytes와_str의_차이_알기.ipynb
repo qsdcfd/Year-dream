{
  "nbformat": 4,
  "nbformat_minor": 0,
  "metadata": {
    "colab": {
      "name": "bytes와 str의 차이 알기",
      "provenance": [],
      "authorship_tag": "ABX9TyO7BMWf5gae1oWFqPVwv195"
    },
    "kernelspec": {
      "name": "python3",
      "display_name": "Python 3"
    },
    "language_info": {
      "name": "python"
    }
  },
  "cells": [
    {
      "cell_type": "markdown",
      "source": [
        "### 문자열 데이터의 시퀀스 표현 타입\n",
        "\n",
        "\n"
      ],
      "metadata": {
        "id": "alqjfYb5cLur"
      }
    },
    {
      "cell_type": "code",
      "source": [
        ""
      ],
      "metadata": {
        "id": "JGSLw8DScjsx"
      },
      "execution_count": null,
      "outputs": []
    },
    {
      "cell_type": "markdown",
      "source": [
        "#### bytes\n",
        "\n",
        "- 부호가 없는 8바이트 데이터 들어감.\n",
        "\n",
        "- 아스크 인코딩을 활용하여 내부 문자 표시\n",
        "\n",
        "```\n",
        "a = b'h\\x65llo' \n",
        "print (list (a ) ) \n",
        "print (a)\n",
        "#[104,101,108,108,111]\n",
        "b'hello'\n",
        "```\n",
        "\n",
        "- 대응하는 텍스트 인코딩 없음\n",
        "\n",
        "- decode메서드: 이진 데이터를 유니코드로 변환"
      ],
      "metadata": {
        "id": "43lXOmcRcWHl"
      }
    },
    {
      "cell_type": "markdown",
      "source": [
        "#### str\n",
        "\n",
        "- 사람이 사용하는 언어의 문자 표현\n",
        "\n",
        "- 유니코드 코드 포인트가 있음\n",
        "\n",
        "```\n",
        "a = 'a\\u0300 propos'\n",
        "print(list(a))\n",
        "print(a)\n",
        "```\n",
        "\n",
        "- 직접 대응하는 이진 인코딩이 없음\n",
        "\n",
        "- encode메서드: 유니코드 데이터를 이진 데이터로 변환\n",
        "\n",
        "- 프로그램의 핵심부분에서 사용\n",
        "\n",
        "   - 다양한 텍스트 인코딩을 입력으로 받음\n",
        "\n",
        "   - 출력 텍스트 인코등은 한 가지로 제한.(보통 UTF-8)"
      ],
      "metadata": {
        "id": "jiqEdKq_dvGL"
      }
    },
    {
      "cell_type": "code",
      "source": [
        ""
      ],
      "metadata": {
        "id": "i2s1BUFKcxRh"
      },
      "execution_count": null,
      "outputs": []
    },
    {
      "cell_type": "markdown",
      "source": [
        "**유니코드 샌드위치**\n",
        "\n",
        "- 유니코드 데이터 인코딩 혹은 디코딩 부분\n",
        "\n",
        "- 인터페이스의 가장 먼 경계 지점에 위치 시키기\n",
        "\n"
      ],
      "metadata": {
        "id": "xmrlgYkxeTLH"
      }
    },
    {
      "cell_type": "code",
      "source": [
        ""
      ],
      "metadata": {
        "id": "c_lBtmtngnjL"
      },
      "execution_count": null,
      "outputs": []
    },
    {
      "cell_type": "markdown",
      "source": [
        "### 도우미 함수 활용\n",
        "\n",
        "- UTF- 8(또는 다른 인코딩 방식)로 인코딩된 8비트 시퀀스를 그대로 시용하고 싶다.\n",
        "\n",
        "- 특정 인코딩을 지정하지 않은 유니코드 문자열을 사용-하고 싶다.\n",
        "\n",
        "- 두 경우를 변환해주고 입력 값이 코드가 원하는 값과 일치시키기\n",
        "\n",
        "**첫 번째 함수는 bytes나 str인스턴스를 받아서 항상 str반환**\n",
        "\n",
        "- bytes와 str는 서로 호환되지 않기에 문자 시퀀스가 어떤 타입인지 항상 잘 알아야함\n",
        "\n",
        "\n",
        "```\n",
        "def to_str(bytes_or_str):\n",
        "    if isinstance(bytes_or_str, bytes):\n",
        "        value = bytes_or_str.decode('utf-8')\n",
        "    else:\n",
        "        value = bytes_or_str\n",
        "    return value #str 인스턴스\n",
        "\n",
        "print(repr(to_str(b'foo')))#'foo'\n",
        "print(repr(to_str('bar'))) #'bar'\n",
        "print(repr(to_str(b'\\xed\\x95\\x9c'))) # '한' :UTF-8에서 한글은 3바이트\n",
        "\n",
        "```\n",
        "\n",
        "<br>\n",
        "\n",
        "- bytest나 str인스턴스를 받아 항상 bytes\n",
        "\n",
        "\n",
        "```\n",
        "def to_bytes(bytes_or_str):\n",
        "    if isinstance(bytes_or_str, str):\n",
        "        value = bytes_or_str.encode('utf-8')\n",
        "    else:\n",
        "        value = bytes_or_str\n",
        "    return value #bytes 인스턴스\n",
        "\n",
        "print(repr(to_bytes(b'foo')))#b'foo'\n",
        "print(repr(to_bytes('bar')))#b'bar'\n",
        "print(repr(to_bytes('한글')))#b'\\xed\\x95\\x9c\\x ea\\xb8\\x80 ' \n",
        "\n",
        "\n",
        "```\n",
        "\n",
        "\n",
        "\n",
        "\n",
        "\n"
      ],
      "metadata": {
        "id": "2a1JGi7agntX"
      }
    },
    {
      "cell_type": "code",
      "source": [
        "#str형식화 문자열에 bytes인스턴스를 넘길 수 있다.\n",
        "\n",
        "print('red %s' %b'blue')\n",
        "#그대로 b'blue'가 남기에 깔끔해보이진 않는다"
      ],
      "metadata": {
        "colab": {
          "base_uri": "https://localhost:8080/"
        },
        "id": "pR4zeTojjJ2F",
        "outputId": "d9df7ea6-cbef-4eaa-89d3-55c404cd9cb0"
      },
      "execution_count": 7,
      "outputs": [
        {
          "output_type": "stream",
          "name": "stdout",
          "text": [
            "red b'blue'\n"
          ]
        }
      ]
    },
    {
      "cell_type": "code",
      "source": [
        "#내장 함수인 open을 호출해서 얻은 파일 핸들과 관련한 연산\n",
        "\n",
        "# 디폴트로 유니코드 문자열을 요구하고 이진 바이트 문자열을 요구 X ->코드 실행 X\n",
        "\n",
        "with open('data.bin', 'w') as f:\n",
        "    f.write(b'\\xf1\\xf2\\xf3\\xf4\\xf5')\n",
        "\n",
        "#에러 이유: 텍스트 쓰기 모드(w)로 열어서이다.\n",
        "\n",
        "#텍스트 모드: 유니코드 데이터가 들어있는 str인스턴스 요구"
      ],
      "metadata": {
        "id": "Mvbw_-DIjRzK"
      },
      "execution_count": null,
      "outputs": []
    },
    {
      "cell_type": "code",
      "source": [
        "#파일을 열 때 이진 쓰기 모든(wb)로 열면 해결\n",
        "with open('data.bin', 'wb') as f:\n",
        "    f.write(b'\\xf1\\xf2\\xf3\\xf4\\xf5')"
      ],
      "metadata": {
        "id": "9tKz6D5vjzp0"
      },
      "execution_count": 9,
      "outputs": []
    },
    {
      "cell_type": "code",
      "source": [
        "#다른 방식 해결\n",
        "#open함수의 encoding 파라미터를 명시하면 플랫폼이 따라서 달라진다.\n",
        "\n",
        "with open('data.bin', 'r', encoding='cp1252') as f:\n",
        "    data = f.read()\n",
        "\n",
        "assert data == 'fio665' "
      ],
      "metadata": {
        "id": "BhYBQOFKj454"
      },
      "execution_count": null,
      "outputs": []
    },
    {
      "cell_type": "code",
      "source": [
        ""
      ],
      "metadata": {
        "id": "348FWrslkig7"
      },
      "execution_count": null,
      "outputs": []
    },
    {
      "cell_type": "markdown",
      "source": [
        "**결론**\n",
        "\n",
        "시스템 인코딩 검사를 통해서 디폴트 인코딩이 어떻게 다른 건지 확인을 해야한다."
      ],
      "metadata": {
        "id": "pXS_6sdNk2nn"
      }
    },
    {
      "cell_type": "code",
      "source": [
        ""
      ],
      "metadata": {
        "id": "jA79HLH0k9sm"
      },
      "execution_count": null,
      "outputs": []
    }
  ]
}