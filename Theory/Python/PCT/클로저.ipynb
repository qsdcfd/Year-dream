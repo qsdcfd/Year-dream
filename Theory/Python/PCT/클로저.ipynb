{
  "nbformat": 4,
  "nbformat_minor": 0,
  "metadata": {
    "colab": {
      "name": "클로저",
      "provenance": [],
      "authorship_tag": "ABX9TyPJeXWUzzUCZWJ1NEOsWSq+"
    },
    "kernelspec": {
      "name": "python3",
      "display_name": "Python 3"
    },
    "language_info": {
      "name": "python"
    }
  },
  "cells": [
    {
      "cell_type": "markdown",
      "source": [
        "## 변수 영역과 클로저의 상호작용 방식을 이해하라"
      ],
      "metadata": {
        "id": "LMx2ChiArVzF"
      }
    },
    {
      "cell_type": "markdown",
      "source": [
        "**아래 코드의 동작 예상이 되는 이유**\n",
        "\n",
        "- 파이썬 클로저: 자신이 정의된 영역 밖의 변수를 참조하는 함수로 도우미 함수가 sort_priority함수의 group인자 접근\n",
        "\n",
        "   - 자신이 정의된 영역 외부에서 정의된 변수도 참조\n",
        "   - 클로저 내부에 사용한 대입문은 클로저를 감싸는 영역에 영향을 끼침\n",
        "   \n",
        "<br>\n",
        "\n",
        "- 파이썬의 함수는 일급시민 객체\n",
        "\n",
        "   - 변수를 직접적으로 가리킬 수 있게 되어서 대입 혹은 전달 가능\n",
        "\n",
        "   - 식이나 if문에서 함수를 비교하거나 반환 가능\n",
        "\n",
        "   - sort메서드는 클로저 함수를 key인자\n",
        "\n",
        "<br>\n",
        "\n",
        "- 파이썬은 시퀀스를 비교하는 구체적인 규칙있다.\n",
        "\n",
        "   - 원소를 순서대로 비교\n",
        "\n",
        "   - 같다면 다음 원소로 넘어간다.\n",
        "\n",
        "   - 원소 비교 혹은 결과가 정해질 때까지 계속\n",
        "\n",
        "   - helper 클로저가 반환하는 튜플이 서로 다른 두 그룹 정렬\n",
        "\n",
        "<br>\n",
        "\n",
        "\n",
        "\n",
        "```\n",
        "def sort_priority(values, group):\n",
        "    def helper(x):\n",
        "        if x in group:\n",
        "            return (0,x)\n",
        "        return (1,x)\n",
        "    values.sort(key=helper)\n",
        "\n",
        "numbers = [8,3,1,2,5,4,7,6]\n",
        "group = {2,3,5,7}\n",
        "sort_priority(numbers, group)\n",
        "print(numbers) # [2,3,5,7,1,4,6,8]\n",
        "\n",
        "```\n",
        "\n"
      ],
      "metadata": {
        "id": "Yni9sh_nrY4J"
      }
    },
    {
      "cell_type": "markdown",
      "source": [
        "**영역 지정 버그 해결 방법**\n",
        "\n",
        "*nonlocal코드 활용*\n",
        "\n",
        "- global문을 보완\n",
        "\n",
        "\n",
        "- 간단한 함수에서만 활용\n",
        "\n",
        "   - 활용으로 인해서 지정한 변수와 대입 이뤄지는 위치의 거리가 멀면 함수 동작을 이해하기 어렵다.\n",
        "\n",
        "\n",
        "\n",
        "```\n",
        "def sort_priority2(numbers, group):\n",
        "    found = False\n",
        "    def helper(x):\n",
        "        nonlocal found\n",
        "        if x in group:\n",
        "            found = True\n",
        "            return (0,x)\n",
        "        return (1,x)\n",
        "    numbers.sort(key=helper)\n",
        "    return found\n",
        "```\n",
        "\n",
        "<br>\n",
        "\n",
        "*클래스와 함수이용*\n",
        "\n",
        "\n",
        "```\n",
        "class Sorter:\n",
        "    def __init__(self, group):\n",
        "        self.group = group\n",
        "        self.found = False\n",
        "    \n",
        "\n",
        "    def __call__(self,x):\n",
        "        if xi in self.group:\n",
        "            self.found = True\n",
        "            return (0,x)\n",
        "        return (1,x)\n",
        "\n",
        "sorter = Sorter(group)\n",
        "numbers.sort(key=sorter)\n",
        "assert sorter.found is  True\n",
        "```"
      ],
      "metadata": {
        "id": "HZpXp3BiuFZy"
      }
    }
  ]
}