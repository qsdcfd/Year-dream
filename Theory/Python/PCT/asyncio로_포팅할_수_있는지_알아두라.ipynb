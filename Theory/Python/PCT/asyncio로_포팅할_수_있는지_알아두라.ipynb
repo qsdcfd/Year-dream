{
  "nbformat": 4,
  "nbformat_minor": 0,
  "metadata": {
    "colab": {
      "name": "asyncio로 포팅할 수 있는지 알아두라",
      "provenance": [],
      "authorship_tag": "ABX9TyPXvpfWT5yRK3QXQ9Nd39lx"
    },
    "kernelspec": {
      "name": "python3",
      "display_name": "Python 3"
    },
    "language_info": {
      "name": "python"
    }
  },
  "cells": [
    {
      "cell_type": "markdown",
      "source": [
        "## 스레드를 사용한 I/O를 어떻게 asyncio로 포팅할 수 있는지 알아두라\n",
        "\n",
        "- 스레드와 블로킹 I/O를 사용하는 코드를 코루틴과 비동기 I/O를 사용하는 코드로 옮기기 쉽다.\n"
      ],
      "metadata": {
        "id": "uM9e4uUfwpPp"
      }
    },
    {
      "cell_type": "code",
      "source": [
        "#서버가 보내거나 받는 메시지 한 줄 한 줄은 처리할 명령을 표현한다.\n",
        "class EOFError(Exception):\n",
        "    pass\n",
        "\n",
        "class ConnectionBase:\n",
        "    def __init__(self, connection):\n",
        "        self.connection =  connection\n",
        "        self.file = connetion.makefile('rb')\n",
        "\n",
        "    def send(self, command):\n",
        "        line  = command + '\\n'\n",
        "        data = line.encode()\n",
        "        self.connection.send(data)\n",
        "\n",
        "    def receive(self):\n",
        "        line =  self.file.readline()\n",
        "        if not line:\n",
        "            \n",
        "            raise EOFError('Connection closed')\n",
        "        return line[:-1].decode()\n"
      ],
      "metadata": {
        "id": "EbA9kPjRw32C"
      },
      "execution_count": 1,
      "outputs": []
    },
    {
      "cell_type": "code",
      "source": [
        "#한 번에 하나씩 연결하여 클라이언트의 세션 상태 유지 클래스 구현\n",
        "\n",
        "import random \n",
        "\n",
        "WARMER = '더 따뜻함'\n",
        "COLOER = '더 차가움'\n",
        "UNSURE = '잘 모르겠음'\n",
        "CORRECT = '맞음'\n",
        "\n",
        "class UnKnownCommandError(Exception):\n",
        "    pass\n",
        "\n",
        "class Session(ConnectionBase):\n",
        "    def __init__(self, *args):\n",
        "        super().__init__(*args)\n",
        "        self._clear_state(None, None)\n",
        "\n",
        "    def _clear_state(self, lower, upper):\n",
        "        self.lower = lower\n",
        "        self.upper = upper\n",
        "        self.secret = None\n",
        "        self.guesses = []\n"
      ],
      "metadata": {
        "id": "XYLvPZDh1VXU"
      },
      "execution_count": null,
      "outputs": []
    },
    {
      "cell_type": "code",
      "source": [
        "#이 메서드는 클라이언트에서 들어오는 메시지를 처리해 명령에 맞는 메서드 호출\n",
        "\n",
        "def loop(self):\n",
        "    while command:=self.receive():\n",
        "        parts = command.split(' ')\n",
        "        if parts[0] == 'PARAMS':\n",
        "            self.set_params(parts)\n",
        "        elif parts[0] == 'NUMBER':\n",
        "            self.send_number()\n",
        "        elif parts[0] == 'REPORT':\n",
        "            self.receive_report(parts)\n",
        "        else:\n",
        "            raise UnKnownCommandError(command)\n",
        "\n"
      ],
      "metadata": {
        "id": "n4oA_YCd1Vbj"
      },
      "execution_count": null,
      "outputs": []
    },
    {
      "cell_type": "code",
      "source": [
        "#서버가 추측할 값의 상하한 구하기(fIRST)\n",
        "def set_params(self, parts):\n",
        "    assert len(parts[1])\n",
        "    lower = int(parts[1])\n",
        "    upper = int(parts[2])\n",
        "    self._clear_state(lower, upper)\n",
        "\n",
        "    "
      ],
      "metadata": {
        "id": "YSEa7ihe4BoV"
      },
      "execution_count": 5,
      "outputs": []
    },
    {
      "cell_type": "code",
      "source": [
        "#클라이언트에 해당하는 Session 인스턴스에 저장된 이전 상태를 바탕으로 새로운 수 추측(second)\n",
        "\n",
        "\n",
        "def next_guess(self):\n",
        "    if self.secret is not None:\n",
        "        return self.secret\n",
        "\n",
        "    while True:\n",
        "        guess = random.randint(self.lower, self.upper)\n",
        "        if guress not in self.guesses:\n",
        "            return guess\n",
        "\n",
        "\n",
        "def send_number(self):\n",
        "    guess = self.next_guess()\n",
        "    self.guess.append(guess)\n",
        "    self.send(format(guess))"
      ],
      "metadata": {
        "id": "I9UFAwzi4xCZ"
      },
      "execution_count": 6,
      "outputs": []
    },
    {
      "cell_type": "code",
      "source": [
        "#서버의 추측이 따듯한지 차가운지에 대해서 클라이언트가 보낸 결과를 받은 후 session상태\n",
        "def receive_report(self, parts):\n",
        "    assert len(parts) == 2\n",
        "    decision = parts[1]\n",
        "\n",
        "    last = self.guesses[-1]\n",
        "    if decision == CORRECT:\n",
        "        self.secret = last\n",
        "\n",
        "    print(f'서버: {last}는 {decision}')"
      ],
      "metadata": {
        "id": "bnAYXJoo4xFN"
      },
      "execution_count": 7,
      "outputs": []
    },
    {
      "cell_type": "code",
      "source": [
        "#클라이언트도 상태가 있는 클래스를 사용해서 구현\n",
        "\n",
        "import contextlib\n",
        "import math\n",
        "\n",
        "class Client(ConnectionBase):\n",
        "    def __init__(self, *args):\n",
        "        super().__init__(*args)\n",
        "        self._clear_state()\n",
        "\n",
        "    def _clear_state(self):\n",
        "        self.secret = None\n",
        "        self.last_distance = None"
      ],
      "metadata": {
        "id": "U5X-Gh2o4xKc"
      },
      "execution_count": 8,
      "outputs": []
    },
    {
      "cell_type": "markdown",
      "source": [
        "**이제 이걸 사용하려면 async, await, asyncio 내장 모듈을 사용해서 변환**\n"
      ],
      "metadata": {
        "id": "hqVpNNkO-PeR"
      }
    },
    {
      "cell_type": "code",
      "source": [
        "#ConnectionBase 클래스가 블로킹 I/O 대신 send와 receive라는 코루틴 제공\n",
        "\n",
        "class AsyncConnectionBase:\n",
        "    def __init__(self, reader, writer): #변경됨\n",
        "        self.reader = reader #변경됨\n",
        "        self.writer = writer\n",
        "\n",
        "    async def send(self, command):\n",
        "        line = command + '\\n'\n",
        "        data = line.encode()\n",
        "        self.writer.wrtie(data) #변경됨\n",
        "        await self.writer.drain() #변경됨\n",
        "\n",
        "    async def receive(self):\n",
        "        line = await self.reader.readline()\n",
        "        if not line:\n",
        "            raise EOFError('연결 닫힘')\n",
        "\n",
        "        return line[:-1].decode()\n",
        "\n",
        "#단일 연결의 세션 상태를 표현하기 위해 상태를 담는 클래스를 추가해여한다."
      ],
      "metadata": {
        "id": "P-i_SQuy4xNF"
      },
      "execution_count": 9,
      "outputs": []
    },
    {
      "cell_type": "code",
      "source": [
        "#위와 같은 방식으로 변경을 하여 상속을 진행한다.\n",
        "\n",
        "class AsyncSession(AsyncConnectionBase):\n",
        "    def __init__(self, *args):\n",
        "        ...\n",
        "\n",
        "    def _clear_values(self, lower, upper):\n",
        "        ..."
      ],
      "metadata": {
        "id": "AsAS6aOr4xPc"
      },
      "execution_count": null,
      "outputs": []
    },
    {
      "cell_type": "markdown",
      "source": [
        "**꼭 필요한 부분만 바꿔서 코루틴이 되게 한다.**"
      ],
      "metadata": {
        "id": "f8pVLKOwAVph"
      }
    },
    {
      "cell_type": "code",
      "source": [
        "async def loop(self): #변경됨\n",
        "    while command := await self.receive(): #변경됨\n",
        "        parts = command.split(' ')\n",
        "        if parts[0] == 'PARAMS':\n",
        "            self.set_params(parts)\n",
        "        elif parts[0] == 'NUMBER':\n",
        "            await self.send_number() #변경됨\n",
        "        elif parts[0] == 'REPORT':\n",
        "            self.receive_report(parts)\n",
        "        else:\n",
        "            raise UnKnownCommandError(command)"
      ],
      "metadata": {
        "id": "q0ST32hi4xT_"
      },
      "execution_count": null,
      "outputs": []
    },
    {
      "cell_type": "code",
      "source": [
        "#first 코드는 바꿀게 없다\n"
      ],
      "metadata": {
        "id": "qG5QegIM4xav"
      },
      "execution_count": 10,
      "outputs": []
    },
    {
      "cell_type": "code",
      "source": [
        "#두번째 명령을 처리하는 메서드는 바꿀 부분은 추측한 값을 클라이언트에게 송시하여 비공기 I/O쓴다.\n",
        "def next_guess(self):\n",
        "    ...\n",
        "async def send_number(self): #변경됨\n",
        "    guess = self.next_guess()\n",
        "    self.guesses.append(guess)\n",
        "    await self.send(format(guess)) #변경됨\n"
      ],
      "metadata": {
        "id": "Njad-rCyBDnr"
      },
      "execution_count": null,
      "outputs": []
    },
    {
      "cell_type": "code",
      "source": [
        "#세번ㅉ재 명령을 처리하는데 바꿀 메서드 없다."
      ],
      "metadata": {
        "id": "rO38XiI_Bskp"
      },
      "execution_count": null,
      "outputs": []
    },
    {
      "cell_type": "code",
      "source": [
        "#클라이언트 클래스도 AsyncConnectionBase를 상속\n",
        "\n",
        "class AsyncClient(AsyncConnectionBase):\n",
        "    def __init__(self, *args):\n",
        "        ...\n",
        "    def _clear_state(self):\n",
        "        ...\n",
        "\n",
        "    #클라이언트의 첫 번재 명령을 처리하는 메서드\n",
        "    #몇 부분은 async와 await 키워드를 추가\n",
        "    #contextlib 내장 모듈에서 async contextmanager 도우미 함수를 가져와 사용\n",
        "\n",
        "    @contextlib.asynccontextmanager\n",
        "    async def seesion(self, lower, upper, secret): #변경됨\n",
        "        print(f'\\n{lower}와 {upper} 사이의 수자를 맞춰보세요!'\n",
        "              f' 쉿! 그 숫ㅈ는 {secret}입니다.')\n",
        "        self.secret = secret\n",
        "        await self.send(f'PARAMS {lower} {upper}')#변경됨\n",
        "        try:\n",
        "            yield\n",
        "        finally:\n",
        "            self._clear_state()\n",
        "            await self.send('PARAMS 0 -1')\n",
        "            "
      ],
      "metadata": {
        "id": "WSR4GGW2BspZ"
      },
      "execution_count": null,
      "outputs": []
    },
    {
      "cell_type": "code",
      "source": [
        "#두 번째 명령에서도 코루틴 동작이 필요한 부분에 ASYNC와 AWAIT 추가\n",
        "\n",
        "async def request_numbers(self, count): #변경됨\n",
        "    for _ in range(count):\n",
        "        await self.send('NUMBER')\n",
        "        data = await self.receive()\n",
        "        yield int(data)\n",
        "        if self.last_distance == 0:\n",
        "            return"
      ],
      "metadata": {
        "id": "ahymz2_EBst2"
      },
      "execution_count": null,
      "outputs": []
    },
    {
      "cell_type": "code",
      "source": [
        "#세 번째 명령에서는 async와 await를 각각 하나씩만 추가\n",
        "async def report_outcome(self, number): #변경됨\n",
        "    await self.send(f'REPORT {decision}') #변경됨"
      ],
      "metadata": {
        "id": "zC2QK9fgBswK"
      },
      "execution_count": null,
      "outputs": []
    },
    {
      "cell_type": "code",
      "source": [
        "#서버를 실행하는 코드는 asyncio 내장 모듈과 그 모듈 내에 start_server함수 사용\n",
        "import asyncio\n",
        "\n",
        "async def handle_async_connection(reader, writer):\n",
        "    seesion = AsyncSession(reader, writer)\n",
        "    try:\n",
        "        await session.loop()\n",
        "    except EOFError:\n",
        "        pass\n",
        "\n",
        "\n",
        "async def run_async_server(address):\n",
        "    server = await asynico.start_server(\n",
        "        handle_async_connection, *address)\n",
        "    async with server:\n",
        "        await server.serve_forever()\n"
      ],
      "metadata": {
        "id": "LwoEG8jEBsyw"
      },
      "execution_count": null,
      "outputs": []
    },
    {
      "cell_type": "code",
      "source": [
        "#함수에서 코루틴과 상호작용하는 다른 부분에는 async와 await 키워드를 적절히 추가\n",
        "# 추가하지 않으면 실행 시점에 예외가 발생한다.\n",
        "\n",
        "async def run_async_client(address):\n",
        "    streams = await asyncio.open_connection(*addres) #새 기능 \n",
        "    client = AsyncClient(*streams) #새 기능\n",
        "\n",
        "    async with client.session(1,5,3):\n",
        "        results = [(x, await client.report_outcome(x))\n",
        "                    async for x in client.request_number(5)]\n",
        "        \n",
        "        async with client.seesion(10,15,12):\n",
        "            async for number in client.request_numbers(5):\n",
        "                outcome = await client.report_outcome(number)\n",
        "                results.append((number, outcome))\n",
        "\n",
        "        _, writer = streams #새 기능\n",
        "        writer.close() #새 기능\n",
        "        await writer.wait_closed() #새 기능\n",
        "\n",
        "        return results"
      ],
      "metadata": {
        "id": "MHJxkbUEBs2N"
      },
      "execution_count": null,
      "outputs": []
    },
    {
      "cell_type": "code",
      "source": [
        "\"\"\"\n",
        "다음 코드는 asyncio.create_ta sk 를 해 서버를 에 \n",
        "넣은 후 이벤트 루프에서 실행한다. 그 후 코드가 await 에 도달하면 클라이 \n",
        "트 와 서버가 병렬로 행된다. 이 방식은 asy ncio.gather 의 동작 \n",
        "는 른 팬아웃- 접근 방법이다.\n",
        "\"\"\"\n",
        "\n",
        "async def main_async():\n",
        "    address = ('127.0.0.1', 4321)\n",
        "\n",
        "    server = run_async_server(address)\n",
        "    asyncio.create_task(server)\n",
        "\n",
        "    results = await run_async_client(address)\n",
        "    for number, outcome in results:\n",
        "        print(f'클라이언트: {number}는 {outcome}')\n",
        "        \n"
      ],
      "metadata": {
        "id": "vUngoCD6Bs7X"
      },
      "execution_count": null,
      "outputs": []
    },
    {
      "cell_type": "markdown",
      "source": [
        "### Symmary\n",
        "\n",
        "- 파이썬은 for 루프, with 문, 제너레이터, 컴프리헨션의 비동기 버전을 제공하고, 코루틴 안에서 기존 라이브러리 도우미 함수를 대신해 즉시 사용할 수 있는 대안 제공\n",
        "\n",
        "- asyncio 내장 모듈을 사용하면 스레드와 블로킹 I/O를 사용하는 기존 코드를 코루틴과 비동기 I/P를 사용하는 코드로 쉽게 포팅"
      ],
      "metadata": {
        "id": "5HSmiQWGcemd"
      }
    },
    {
      "cell_type": "code",
      "source": [
        ""
      ],
      "metadata": {
        "id": "-oG7ikgFdQPU"
      },
      "execution_count": null,
      "outputs": []
    }
  ]
}