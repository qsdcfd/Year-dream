{
  "nbformat": 4,
  "nbformat_minor": 0,
  "metadata": {
    "colab": {
      "name": "스트라이드와 슬라이스",
      "provenance": [],
      "authorship_tag": "ABX9TyOLWKCFxEvHuePdFYN/OpUG"
    },
    "kernelspec": {
      "name": "python3",
      "display_name": "Python 3"
    },
    "language_info": {
      "name": "python"
    }
  },
  "cells": [
    {
      "cell_type": "markdown",
      "source": [
        "## 스트라이드와 슬라이스를 한 식에 함께 사용하지 말라\n",
        "\n",
        "- 스트라이드\n",
        "\n",
        "   - 일정한 간격을 두고 슬라이싱\n",
        "   - 리스트[시작:끝:증가값]\n",
        "   - 매 n번째 원소만 가져올 수 있다.\n",
        "\n",
        "\n",
        "\n",
        "```\n",
        "x = ['빨강','주황','노랑','초록','파랑','자주']\n",
        "odds = x[::2]\n",
        "evens = x[1::2]\n",
        "print(odds) #['빨강','주황','노랑']\n",
        "print(evens) #['주황','초록','자주']\n",
        "```\n",
        "\n",
        "- -1 증가값을 통해서 바이트와 유니코드 문자열을 역으로 뒤집는다.\n",
        "\n",
        "   - 유니코드 데이터를 UTF-8로 인코딩한 경우는 작동하지 않는다.\n",
        "\n",
        "\n",
        "```\n",
        "x = b'mongoose'\n",
        "y = x[::-1]\n",
        "print(y)\n",
        "#b'esoognom'\n",
        "```\n",
        "\n",
        "<br>\n",
        "\n",
        "**스트라이드와 슬라이스를 같이 쓰면 안되는 이유**\n",
        "\n",
        "1. 코드의 밀도가 높아져서 읽기가 어렵다.\n",
        "\n",
        "2. 증가값에 따라서 시작값과 끝값이 어떤 역할을 하는지 불분명하고, 특히 증가값이 음수인 경우 더 심하다.\n",
        "\n",
        "<br>\n",
        "\n",
        "**대책**\n",
        "\n",
        "1. 증가값을 사용하는 경우 양수로 이용하고 시작과 끝 인덱스를 생략하라.\n",
        "\n",
        "2. 시직이나 끝 인덱스를 증가값과 함께 사용해야한다면, 스트라이딩한 결과를 변수에 대입한 다음 슬라이싱하라.\n",
        "\n",
        "3. 스트라이딩한 다음 슬라이싱을 하면 한 번 더 얕게 복사가 된다.\n",
        "\n",
        "   - 슬라이스의 크기를 가능한 줄여야한다.\n",
        "   - 시간과 메모리를 감당할 수 없다면 itertools의 islice메서드 활용\n",
        "\n",
        "\n",
        "```\n",
        "y = x[::2]\n",
        "z = y[1:-1]\n",
        "```\n",
        "\n",
        "\n",
        "\n"
      ],
      "metadata": {
        "id": "f-3aSRbDBe5T"
      }
    },
    {
      "cell_type": "code",
      "execution_count": null,
      "metadata": {
        "id": "dEORfSKYBaHx"
      },
      "outputs": [],
      "source": [
        ""
      ]
    }
  ]
}