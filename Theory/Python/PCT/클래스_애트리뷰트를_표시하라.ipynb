{
  "nbformat": 4,
  "nbformat_minor": 0,
  "metadata": {
    "colab": {
      "name": "클래스 애트리뷰트를 표시하라",
      "provenance": [],
      "authorship_tag": "ABX9TyMrdj5Wp86+pl8rDtYxHiIV"
    },
    "kernelspec": {
      "name": "python3",
      "display_name": "Python 3"
    },
    "language_info": {
      "name": "python"
    }
  },
  "cells": [
    {
      "cell_type": "markdown",
      "source": [
        "## __set_name__으로 클래스 애트리뷰트를 표시하라"
      ],
      "metadata": {
        "id": "a3Bsb-3wHWCm"
      }
    },
    {
      "cell_type": "markdown",
      "source": [
        "**메타클래스 기능**\n",
        "\n",
        "- 클래스가 정의된 후 클래스가 실제로 사용 전 프로퍼티 변경 혹시 표시\n",
        "\n",
        "- 디스크립터 활용\n",
        "\n",
        "   - 애트리뷰트가 포함된 클래스 내부 깊이 살피기\n",
        "\n",
        "\n",
        "\n",
        "\n",
        "```\n",
        "#애트리뷰트와 컬럼 이름 연결\n",
        "#컬럼 이름을 Field 디스크립터에 저장\n",
        "# setattr 내장 함수 사용\n",
        "class Field:\n",
        "    def __init__(self, name):\n",
        "        self.name = name\n",
        "        self.internal_name = '_' + self.name\n",
        "\n",
        "    def __get__(self, instance, instance_type):\n",
        "        if instance is None:\n",
        "            return self\n",
        "        return getattr(instance, self.internal_name, '')\n",
        "\n",
        "    def __set__(self, instance, value):\n",
        "        setattr(instance, self.internal_name, value)\n",
        "\n",
        "```\n",
        "\n",
        "\n",
        "<br>\n",
        "\n",
        "\n",
        "\n",
        "```\n",
        "# 메모리 누수를 막기 위해서 위의 방법보단 이 방법 활용\n",
        "\n",
        "class Customer:\n",
        "    #클래스 애트리뷰트\n",
        "    first_name = Field('first_name')\n",
        "    last_name = Field('last_name')\n",
        "    prefix = Field('prefix')\n",
        "    suffix = Field('suffix')\n",
        "```\n",
        "\n",
        "<br>\n",
        "\n",
        "```\n",
        "#메타 클래스를 활용하면 위의 문제점인 중복을 줄일 수 있다.\n",
        "\n",
        "class Meta(type):\n",
        "    def __new__(meta, name, bases, class_dict):\n",
        "        for key, value in class_dict.items():\n",
        "            if isinstance(value, Field):\n",
        "                value.name = key\n",
        "                value.internal_name = '_' + key\n",
        "\n",
        "        cls = type.__new__(meta, name, bases, class_dict)\n",
        "        return cls\n",
        "```\n",
        "\n",
        "\n",
        "\n"
      ],
      "metadata": {
        "id": "TAYniPwgHkfk"
      }
    },
    {
      "cell_type": "markdown",
      "source": [
        "\n",
        "\n",
        "```\n",
        "#중복 문제 해결\n",
        "\n",
        "# 메타클래스를 사용하는 기반 클래스 정의로 데이터베이스 로우를 표현하는 모든 클래스는 기반 클래스를 상속해서 메타클래스 사용\n",
        "\n",
        "class DatabaseRow(metaclass=Meta):\n",
        "    pass\n",
        "\n",
        "#컬럼 이름을 받는 대신, Meta.__new__ 메서드가 애트리뷰트를 설정\n",
        "class Field:\n",
        "    def __init__(self):\n",
        "        #이 두 정보를 매타클래스가 채워준다\n",
        "        self.name = None\n",
        "        self.internal_name = None\n",
        "\n",
        "    def __get__(self, instance, instance_type):\n",
        "        if instance is None:\n",
        "            return self\n",
        "        return getattr(instance, self.internal_name,'')\n",
        "\n",
        "    def __set__(self, instance, value):\n",
        "        setattr(instance, self.internal_value, value)\n",
        "\n",
        "\n",
        "\"\"\"\n",
        "문제점은 계층 구조로 인해서 어쩔 수 없이 databaserow를 상속할 수 없는 경우 Field 클래스를 프로퍼티 사용 못함\n",
        "DatabaseRow를 상속하지 않으면 코드가 깨짐\n",
        "\n",
        "class BrokenCustomer:\n",
        "    first_name = Field()\n",
        "    last_name = Field()\n",
        "    prefix = Field()\n",
        "    suffix = Field()\n",
        "\"\"\"\n",
        "\n",
        "```\n",
        "\n"
      ],
      "metadata": {
        "id": "dXFxJIjXRTlo"
      }
    },
    {
      "cell_type": "markdown",
      "source": [
        "### 가장 좋은 해결 방법\n",
        "\n",
        "- __set_name__ 특별 메서드 활용\n",
        "\n",
        "- 버전: 파이썬 3.6이상\n",
        "\n",
        "\n",
        "\n",
        "```\n",
        "class Field:\n",
        "    def __init__(self):\n",
        "        self.name = None\n",
        "        self.internal_name = None\n",
        "\n",
        "    def __set_name__(self, owner, name):\n",
        "        #클래스가 생성될 때 모든 스크립터에 대해 이 메서드 호출\n",
        "        self.name = name\n",
        "        self.internal_name = '_' + name\n",
        "\n",
        "    def __get__(self, instance, instance_type):\n",
        "        if instance is None:\n",
        "            return self\n",
        "        return getattr(instance, self.internal_name, '')\n",
        "\n",
        "    def __set__(self, instance, value):\n",
        "        setattr(instance, self.internal_name, value)\n",
        "```\n",
        "\n",
        "\n",
        "\n",
        "```\n",
        "#이젠 특정 기반 클래스 상속 혹은 메타클래스 없이도 가능\n",
        "class FixedCustomer:\n",
        "    first_name = Field()\n",
        "    last_name = Field()\n",
        "    prefix = Field()\n",
        "    suffix()\n",
        "\n",
        "```\n",
        "\n",
        "\n",
        "\n"
      ],
      "metadata": {
        "id": "OwVwKL_4VMcN"
      }
    },
    {
      "cell_type": "markdown",
      "source": [
        "### Summary\n",
        "\n",
        "- 메타클래스를 사용하면 어떤 클래스가 완전히 정의되기 전에 클래스의 애트리뷰트를 변경\n",
        "\n",
        "- 디스크립터와 메타클래스를 조합하면 강력한 실행 시점 코드 검사와 선언적인 동작 만들 수 있다\n",
        "\n",
        "- __set_name__ 특별 메서드를 디스크립터 클래스에 정의하면 디스크립터가 포함된 클래스의 프로퍼티 이름 처리\n",
        "\n",
        "- 디스크립터가 변경한 클래스의 인스턴스 딕셔너리에 데이터를 저장하게 만듦ㄴ 메모리 누수를 피할 수 있고, weakref 내장 메서드를 사용할 필요가 없다."
      ],
      "metadata": {
        "id": "QuO9jxvXWja0"
      }
    },
    {
      "cell_type": "code",
      "source": [
        ""
      ],
      "metadata": {
        "id": "2tkmggzYXSLn"
      },
      "execution_count": null,
      "outputs": []
    }
  ]
}