{
  "nbformat": 4,
  "nbformat_minor": 0,
  "metadata": {
    "colab": {
      "provenance": [],
      "authorship_tag": "ABX9TyNAl5wpKMQTnf7pQCx6Q6nh"
    },
    "kernelspec": {
      "name": "python3",
      "display_name": "Python 3"
    },
    "language_info": {
      "name": "python"
    }
  },
  "cells": [
    {
      "cell_type": "markdown",
      "source": [
        "## TestCase 하위 클래스를 사용해 프로그램에서 연관된 행동 방식을 검증하라\n",
        "\n",
        "**표준적인 방법:unittest내장 모듈을 쓰는 것이다.**\n",
        "\n",
        "```\n",
        "#utils.py\n",
        "\n",
        "def to_str(data):\n",
        "\tif isinstance(data, str):\n",
        "    \treturn data\n",
        "    elif isinstance(data,bytes):\n",
        "    \treturn data.decode('utf-8')\n",
        "    else:\n",
        "    \traise TypeError(\"str이나 bytes를 전달해야 합니다.'\n",
        "        \t\t\t\t'찾은 값: %r' % data)\n",
        "```\n",
        "<br>\n",
        "\n",
        "```\n",
        "#utils_test.py\n",
        "from unittest import TestCase, main\n",
        "from utils import to_str\n",
        "\n",
        "class UtilsTestCase(TestCase):\n",
        "\tdef test_to_str_bytes(self):\n",
        "    \tself.assertEqual('hello', to_str(b'hello'))\n",
        "        \n",
        "    def test_to_str_str(self):\n",
        "    \tself.assertEqual('hello', to_str('hello')\n",
        "        \n",
        "    def test_failing(self):\n",
        "    \tself.assertEqual('incorrect', to_str('hello'))\n",
        "\n",
        "if __name__ == '__main__':\n",
        "\tmain()\n",
        "```\n",
        "\n",
        "![](https://velog.velcdn.com/images/qsdcfd/post/37945184-3fc7-4ee8-86f5-2f09b725d57d/image.png)\n",
        "\n",
        "<br>\n",
        "\n",
        "*테스트는 TestCase의 하위클래스로 구성이 되고 어떤 테스트 메서드가 아무런 Exception도 발생시키지 않고 실행이 끝나면 테스트가 성공한 것이고 일부분이 실패해도 최초로 문제가 생긴 시점에서 멈추지 않고 진행하므로 전반적인 그림을 그릴 수 있다.*\n",
        "\n",
        "<br>\n",
        "\n",
        "\n"
      ],
      "metadata": {
        "id": "8ntcgn6W7kEU"
      }
    },
    {
      "cell_type": "code",
      "source": [],
      "metadata": {
        "id": "KoAZnZwM7kRK"
      },
      "execution_count": null,
      "outputs": []
    }
  ]
}