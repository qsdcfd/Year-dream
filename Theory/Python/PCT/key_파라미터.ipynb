{
  "nbformat": 4,
  "nbformat_minor": 0,
  "metadata": {
    "colab": {
      "name": "key 파라미터",
      "provenance": [],
      "authorship_tag": "ABX9TyPzO3gbYOwXlOaLg36bfgzR"
    },
    "kernelspec": {
      "name": "python3",
      "display_name": "Python 3"
    },
    "language_info": {
      "name": "python"
    }
  },
  "cells": [
    {
      "cell_type": "markdown",
      "source": [
        "### 복잡한 기준을 사용해 정렬할 때는 key파라미터를 사용해라\n",
        "\n",
        "\n",
        "- sort는 여러 가지 순서를 지원하는 경우에는 사용할 수 없다.\n",
        "\n",
        "   - 호출하는 객체 비교 특별 메세드가 정의되지 않기에 위와 같은 타입은 정렬할 수 없다.\n",
        "\n",
        "\n",
        "<br>\n",
        "\n",
        "**key함수**\n",
        "\n",
        "- sort의 이러한 단점을 해결.\n",
        "- 정렬에 사용하고 싶은 애트리뷰트가 객체에 들어 있는 경우 지원하기 위해서 sort의 key파라미터 활용.\n",
        "- key는 함수이어야한다.\n",
        "   - 원소 대신 정렬 기준을 사용해야한다.\n",
        "   - 비교 가능한 값이어야한다.\n",
        "\n",
        "- lambda함수 활용\n",
        "\n",
        "   - 원소 애트리뷰트에 접근\n",
        "   - 인덱스르 써서 값을 더는다.\n",
        "   - 문자열 같은 기본 타입도 원소 값을 변형하여 정렬 가능\n",
        "   - 제대로 작동하는 모든 식 다 가능\n",
        "\n",
        "\n",
        "```\n",
        "class Tool:\n",
        "    def __init__(self, name, weight):\n",
        "        self.name =name\n",
        "        self.weight = weight\n",
        "    \n",
        "    def __reor__(self):\n",
        "        return f'Tool({self.name!r}, {self.weight})'\n",
        "\n",
        "tools = [\n",
        "    Tool('수준계', 3.5),\n",
        "    Tool('해머', 1.25),\n",
        "    Tool('스크류드라이버',0.5),\n",
        "    Tool('끌',0.25),\n",
        "]\n",
        "\n",
        "print('미정렬:', repr(tools))\n",
        "tools.sort(key=lambda x: x.name)\n",
        "print('\\n정렬:', tools)\n",
        "\n",
        "#미정렬: [Tool('수준계',3.5),Tool('해머',1.25), Tool('스크류드라이버', 0.5), Tool('끌', 0.25)]\n",
        "\n",
        "#정렬: [Tool('끌',0.25),Tool('수준계',3.5), Tool('스크류드라이버', 0.5), Tool('해머', 1.25)]\n",
        "```\n",
        "\n",
        "- 정렬 기준이 두 개 이상일 경우\n",
        "\n",
        "```\n",
        "power_tools = [\n",
        "    Tool('드릴', 4),\n",
        "    Tool('원형 톱', 5),\n",
        "    Tool('착암기', 40),\n",
        "    Tool('연마기', 4),\n",
        "]\n",
        "\n",
        "power_tools.sort(key=lambda x: x.name) #name기준 오름차순\n",
        "power_tools.sort(key=lambda x: x.weight, reverse = True) #weigjt기준 내림차순\n",
        "print(power_tools)\n",
        "\n",
        "#[Tool('적암기 ', 40), Tool('원형 ', 5), Tool( ＇드릴', 4), Tool(' 연마' , 4)] \n",
        "\n",
        "```"
      ],
      "metadata": {
        "id": "2urliSy1pfR_"
      }
    },
    {
      "cell_type": "code",
      "source": [
        ""
      ],
      "metadata": {
        "id": "4vcme_5utzYc"
      },
      "execution_count": null,
      "outputs": []
    }
  ]
}