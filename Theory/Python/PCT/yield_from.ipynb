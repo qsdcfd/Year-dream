{
  "nbformat": 4,
  "nbformat_minor": 0,
  "metadata": {
    "colab": {
      "name": "yield from",
      "provenance": [],
      "authorship_tag": "ABX9TyNotC3bGQWQ8Pf+M2px5qkm"
    },
    "kernelspec": {
      "name": "python3",
      "display_name": "Python 3"
    },
    "language_info": {
      "name": "python"
    }
  },
  "cells": [
    {
      "cell_type": "markdown",
      "source": [
        "## yield from을 사용하여 여러 제너레이터 합성"
      ],
      "metadata": {
        "id": "dCsg6wohEim7"
      }
    },
    {
      "cell_type": "markdown",
      "source": [
        "**제너레이터를 사용하여 화면의 이미지 움직이기**\n",
        "\n",
        "```\n",
        "def move(period, speed):\n",
        "    for _ in range(period):\n",
        "        yield speed\n",
        "    \n",
        "def pause(delay):\n",
        "    for _ in range(delay):\n",
        "        yield 0\n",
        "\n",
        "\"\"\"\n",
        "두 개의 함수를 합성\n",
        "\"\"\"\n",
        "\n",
        "def animate():\n",
        "    for delta in move(4,5,0):\n",
        "        yield delta\n",
        "    for delta in pause(3):\n",
        "        yield delta\n",
        "    for delta in move(2,3,0):\n",
        "        yield delta\n",
        "\n",
        "def render(delta):\n",
        "    print(f'Delta: {delta:.1f}')\n",
        "    #화면에서 이미지 이동\n",
        "    ...\n",
        "\n",
        "def run(func):\n",
        "    for delta in func():\n",
        "        render(delta)\n",
        "\n",
        "run(animate)\n",
        "\n",
        "\"\"\"\n",
        "단점: animate가 너무 반복적이다.\n",
        "for문과 yield식이 반복되면 잡음이 늘고 가독성이 줄어든다\n",
        "\"\"\"\n",
        "```\n",
        "\n",
        "<br>\n",
        "\n",
        "- 해결\n",
        "\n",
        "   - yield from식 사용\n",
        "\n",
        "   - 고급 제너레이터 기능\n",
        "   \n",
        "   - 제어를 부모 제너레이터에게 전달 전 까지 내포된 제너레이터가 모든 값 내보냄\n",
        "\n",
        "\n",
        "```\n",
        "def animaete_composed():\n",
        "    yield from move(4,5,0)\n",
        "    yield from pause(3)\n",
        "    yield from move(2,3,0)\n",
        "\n",
        "run(animate_composed)\n",
        "\n",
        "\"\"\"\n",
        "코드가 명확해지고 직관적이된다.\n",
        "yield from은 for루프 내포시키고 yield식을 처리하도록 만든다\n",
        "\"\"\"\n",
        "```\n",
        "\n",
        "\n"
      ],
      "metadata": {
        "id": "qxvr8kBQEmG2"
      }
    },
    {
      "cell_type": "code",
      "source": [
        ""
      ],
      "metadata": {
        "id": "N21nMI1uHlhu"
      },
      "execution_count": null,
      "outputs": []
    }
  ]
}