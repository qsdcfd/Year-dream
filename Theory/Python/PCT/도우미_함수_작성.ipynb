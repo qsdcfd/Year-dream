{
  "nbformat": 4,
  "nbformat_minor": 0,
  "metadata": {
    "colab": {
      "name": "도우미 함수 작성",
      "provenance": [],
      "authorship_tag": "ABX9TyM6xPLeVdPmcvCPSD02VJjX"
    },
    "kernelspec": {
      "name": "python3",
      "display_name": "Python 3"
    },
    "language_info": {
      "name": "python"
    }
  },
  "cells": [
    {
      "cell_type": "markdown",
      "source": [
        "### 복잡한 식을 쓰는 대신 도우미 함수 작성\n",
        "\n",
        "- 가독성 저해\n",
        "\n",
        "- 해석 어려움\n",
        "\n",
        "```\n",
        "# 질의 문자열이 '빨강=5&파랑=0&초록='인 경우\n",
        "red = my_values.get('빨강', [''])[0] or 0\n",
        "green = my_values.get('초록', [''])[0] or 0\n",
        "opacity = my_values.get('투명도', [''])[0] or 0\n",
        "print(f'빨강: {red!r}') #빨강:'5'\n",
        "print(f'초록: {green!r}') #초록:0\n",
        "print(f'투명도: {opacity!r}') #투명도:0\n",
        "```\n",
        "\n",
        "<br>\n",
        "\n",
        "- if/else 조건식을 활용하여 코드 간결성 증가\n",
        "\n",
        "- bool연산자는 or나 and를 식에 사용하는 것볻 if/else식을 쓰는 편이 가독성이 좋다.\n",
        "\n",
        "```\n",
        "red_str = my_values.get('빨강',[''])\n",
        "if red_str[0]:\n",
        "    red =int(red_str[0]) \n",
        "else: \n",
        "    red = 0\n",
        "```\n",
        "\n",
        "<br>\n",
        "\n",
        "**도우미 함수 활용**\n",
        "\n",
        "- 반복 적용을 끝낼 수 있다.\n",
        "\n",
        "- 복잡한 버전이나 if/else보다 명확\n",
        "\n",
        "```\n",
        "def get_first_int(values, key, default=0):\n",
        "    found = values.get(key,[''])\n",
        "    if found[0]:\n",
        "        return int(found[0])\n",
        "    return default\n",
        "\n",
        "\n",
        "#호출\n",
        "green = get_first_int(my_values, 초록)\n",
        "```\n",
        "\n",
        "\n",
        "\n"
      ],
      "metadata": {
        "id": "LSi4HKZFqDS5"
      }
    },
    {
      "cell_type": "code",
      "execution_count": null,
      "metadata": {
        "id": "dvLyLNC7ledM"
      },
      "outputs": [],
      "source": [
        ""
      ]
    }
  ]
}