{
  "nbformat": 4,
  "nbformat_minor": 0,
  "metadata": {
    "colab": {
      "name": "defaultdict사용하라",
      "provenance": [],
      "authorship_tag": "ABX9TyNhGEyb71rIbNKGa8KGczXL"
    },
    "kernelspec": {
      "name": "python3",
      "display_name": "Python 3"
    },
    "language_info": {
      "name": "python"
    }
  },
  "cells": [
    {
      "cell_type": "markdown",
      "source": [
        "## 내부 상태에서 원소가 없는 경우를 처리할 때 setdefault보다 defaultdict를 사용하라"
      ],
      "metadata": {
        "id": "gD5bTLcSj9-8"
      }
    },
    {
      "cell_type": "markdown",
      "source": [
        "**직접 만들지 않은 딕셔너리를 다룰 때 키가 없는 경우를 처리하는 방법**\n",
        "\n",
        "1. KeyError보다 get를 사용하라\n",
        "\n",
        "2. get보다 setdefault가 더 빠를 때도 있다\n",
        "\n",
        "*예시: 딕셔너리 안에 이름 여부 관계업이 새 도시 추가*\n",
        "\n",
        "\n",
        "```\n",
        "visits = {\n",
        "    '미국': {'뉴욕','로스엔젤레스'},\n",
        "    '일본':{'하코네'},\n",
        "}\n",
        "\n",
        "#setdefault사용\n",
        "visits.setdefault('프랑스',set()).add('칸')\n",
        "\n",
        "#get\n",
        "\n",
        "if (japan :=visits.get('일본')) is None:\n",
        "    visits['일본'] = japan = set()\n",
        "japan.add(\"교토\")\n",
        "\n",
        "print(visits)\n",
        "```\n",
        "\n",
        "<br>\n",
        "\n",
        "\n",
        "**직접 딕셔너리 생성 제어**\n",
        "\n",
        "*예시: 클래스 내부에서 상태 유지를 위해서 딕셔너리 인스턴스 사용*\n",
        "\n",
        "\n",
        "\n",
        "```\n",
        "#클래스를 활용하니 setdefault 호출의 복잡도 감추어서\n",
        "#프로그래머에게 이득\n",
        "class Visits:\n",
        "    def __init__(self):\n",
        "        self.data={}\n",
        "    \n",
        "    def add(self, country, city):\n",
        "        city_set = self.data.setdefault(country, set())\n",
        "        city_set.add(city)\n",
        "```\n",
        "\n",
        "<br>\n",
        "\n",
        "```\n",
        "#이상적이지 않다.\n",
        "visits = Visits()\n",
        "visits.add('러시아', '예카테린부르크')\n",
        "visits.add('탄자니아', '잔지바르')\n",
        "print(visits.data)\n",
        "```\n",
        "\n",
        "<br>\n",
        "\n",
        "```\n",
        "#해결\n",
        "#defaultdict 클래스: 키가 없을 때 자동으로 디폴트값 저장\n",
        "#장점: set의 구현 비용을 막아준다\n",
        "from collections import defaultdict\n",
        "\n",
        "class Visits:\n",
        "    def __init__(self):\n",
        "        self.data={}\n",
        "    \n",
        "    def add(self, country, city):\n",
        "        self.data[country].add(city)\n",
        "\n",
        "visits = Visits()\n",
        "visits.add('영국', '버스')\n",
        "visits.add('영국', '런던')\n",
        "print(visits.data)\n",
        "```\n",
        "\n"
      ],
      "metadata": {
        "id": "GZ_7flgpkKLb"
      }
    }
  ]
}