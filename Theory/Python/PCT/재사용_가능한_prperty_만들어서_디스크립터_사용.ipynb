{
  "nbformat": 4,
  "nbformat_minor": 0,
  "metadata": {
    "colab": {
      "name": "재사용 가능한 @prperty 만들어서 디스크립터 사용",
      "provenance": [],
      "authorship_tag": "ABX9TyNeMFM/4ICFe6A4QcXDO+4w"
    },
    "kernelspec": {
      "name": "python3",
      "display_name": "Python 3"
    },
    "language_info": {
      "name": "python"
    }
  },
  "cells": [
    {
      "cell_type": "markdown",
      "source": [
        "**@property가 데코레이션하는 메서드를 같은 클래스에 속하는 여러 애트리뷰트로 사용할 수 없다.**\n",
        "\n",
        "- 서로 무관한 클래스 사이에서 @property 데코레이터를 적용한 메서드를 재사용할 수 없다.\n",
        "\n",
        "*디스크립터를 사용하라*\n",
        "\n",
        "- 애트리뷰트 접근을 해석하는 방법 정의\n",
        "\n",
        "- __get__와 __set__메서드 제공\n",
        "\n",
        "   - 별도의 준비코드 없이 원하는 점수 검증 동작을 재사용\n",
        "   "
      ],
      "metadata": {
        "id": "eyBKQKZuShYG"
      }
    },
    {
      "cell_type": "code",
      "source": [
        "#Grade의 인스턴스인 클래스 애트리뷰트가 들어있는 Exam 클래스 정의\n",
        "\n",
        "class Grade:\n",
        "    def __get__(self, instance, instance_type):\n",
        "    def __set__(self, instance, value):\n",
        "\n",
        "   \n",
        "\n",
        "class Exam:\n",
        "    #클래스 애트리뷰트\n",
        "    math_grade = Grade()\n",
        "    writig_grade = Grade()\n",
        "    science_grade = Grade()\n",
        "\n",
        "exam = Exam()\n",
        "exam.writing_grade = 40\n",
        "\n",
        "#Exam.__dict__['writing_grade'].__set__(exam, 40) : 프로퍼티 대입 시 다음과 같이 해석"
      ],
      "metadata": {
        "id": "lqZGgoBhS9Z5"
      },
      "execution_count": null,
      "outputs": []
    },
    {
      "cell_type": "code",
      "source": [
        "exam.writing_grade\n",
        "#해석: Exam.__dict__['writing_grade'].__get__(exam, 40)"
      ],
      "metadata": {
        "id": "jDu-1lksUZ6C"
      },
      "execution_count": null,
      "outputs": []
    },
    {
      "cell_type": "markdown",
      "source": [
        "위의 문제점은 writing_grade의 클래스가 모든 Exam 인스턴스에 공유된다.\n",
        "\n"
      ],
      "metadata": {
        "id": "l_RAqq0YU9TN"
      }
    },
    {
      "cell_type": "code",
      "source": [
        "#데이터 누수를 시키지만 위의 문제 해결\n",
        "#Grade 인스턴스가 단 한 번만 생성하기에 인스턴스별 상태를 딕셔너리에 저장하여 구현 가능\n",
        "\n",
        "class Grade:\n",
        "    def __init__(self):\n",
        "        self._values = {}\n",
        "\n",
        "    def __get__(self, instance, instance_type):\n",
        "        if instance is None:\n",
        "            return self\n",
        "        return self._values.get(instance,0)\n",
        "\n",
        "    def __set__(self, instance, value):\n",
        "        if not (0<=value<=100):\n",
        "            raise ValueError(\n",
        "                '점수는 0과 100사이입니다.'\n",
        "            )\n",
        "        self._values[instance] = value"
      ],
      "metadata": {
        "id": "ydPCyXr6UxvG"
      },
      "execution_count": 7,
      "outputs": []
    },
    {
      "cell_type": "code",
      "source": [
        "#누수문제 해결\n",
        "#weakref내장 모듈 사용\n",
        "\n",
        "from weakref import WeakKeyDictionary\n",
        "\n",
        "class Grade:\n",
        "    def __init__(self):\n",
        "        self._values = WeakKeyDictionary()\n",
        "\n",
        "    def __get__(self, instance, instance_type):\n",
        "        ...\n",
        "    def __set__(self, instance, value)"
      ],
      "metadata": {
        "id": "x7207sGFVrt1"
      },
      "execution_count": null,
      "outputs": []
    },
    {
      "cell_type": "code",
      "source": [
        "class Exam:\n",
        "    math_grade = Grade()\n",
        "    writing_grade = Grade()\n",
        "    science_grade = Grade()\n",
        "\n",
        "first_exam = Exam()\n",
        "first_exam.writing_grade = 82\n",
        "second_exam = Exam()\n",
        "second_exam.writing_grade = 75\n"
      ],
      "metadata": {
        "id": "SD1RgqxnWQXD"
      },
      "execution_count": null,
      "outputs": []
    },
    {
      "cell_type": "markdown",
      "source": [
        "## Summary\n",
        "\n",
        "- @property 메서드의 동작과 검증 기능을 재사용하고 싶다면 디스크립터 클래스를 만들라\n",
        "\n",
        "- 디스크립터 클래스를 만들 때는 누수를 방지하기 위해서 WeakKeyDictionary사용\n",
        "\n",
        "- __getattribute__가 디스크립터 프로토콜을 사용해서 애트리뷰트 값을 읽거나 설정하는 방식을 정확히 이해하라"
      ],
      "metadata": {
        "id": "uoCjY6XkYAqG"
      }
    }
  ]
}