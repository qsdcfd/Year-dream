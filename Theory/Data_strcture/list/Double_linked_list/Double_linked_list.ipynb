{
  "nbformat": 4,
  "nbformat_minor": 0,
  "metadata": {
    "colab": {
      "name": "Double_linked_list",
      "provenance": [],
      "authorship_tag": "ABX9TyP2WHfPt+9I4Lz95wDM/inA"
    },
    "kernelspec": {
      "name": "python3",
      "display_name": "Python 3"
    },
    "language_info": {
      "name": "python"
    }
  },
  "cells": [
    {
      "cell_type": "code",
      "execution_count": null,
      "metadata": {
        "id": "semwYJzP1ZBi"
      },
      "outputs": [],
      "source": [
        ""
      ]
    }
  ]
}