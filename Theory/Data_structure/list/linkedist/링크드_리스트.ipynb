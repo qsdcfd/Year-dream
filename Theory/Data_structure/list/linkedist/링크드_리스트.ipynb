{
  "cells": [
    {
      "cell_type": "markdown",
      "metadata": {
        "id": "XdMyvPAWK4b1"
      },
      "source": [
        "## 대표적인 데이터 구조: 링크드 리스트 (Linked List)"
      ]
    },
    {
      "cell_type": "markdown",
      "metadata": {
        "id": "4WiEWmbLK4cB"
      },
      "source": [
        "### 1. 링크드 리스트 (Linked List) 구조\n",
        "* 연결 리스트라고도 함\n",
        "* 배열은 순차적으로 연결된 공간에 데이터를 나열하는 데이터 구조\n",
        "* 링크드 리스트는 떨어진 곳에 존재하는 데이터를 화살표로 연결해서 관리하는 데이터 구조\n",
        "* <font color='#BF360C'>본래 C언어에서는 주요한 데이터 구조이지만, 파이썬은 리스트 타입이 링크드 리스트의 기능을 모두 지원</font>"
      ]
    },
    {
      "cell_type": "markdown",
      "metadata": {
        "id": "29MtBTi_K4cC"
      },
      "source": [
        "* 링크드 리스트 기본 구조와 용어\n",
        "  - 노드(Node): 데이터 저장 단위 (데이터값, 포인터) 로 구성\n",
        "  - 포인터(pointer): 각 노드 안에서, 다음이나 이전의 노드와의 연결 정보를 가지고 있는 공간\n",
        "\n",
        "<br>\n",
        "* 일반적인 링크드 리스트 형태\n",
        "<img src=\"https://www.fun-coding.org/00_Images/linkedlist.png\" />\n",
        "(출처: wikipedia, https://en.wikipedia.org/wiki/Linked_list)"
      ]
    },
    {
      "cell_type": "markdown",
      "metadata": {
        "id": "28YKZHtsK4cC"
      },
      "source": [
        "### 2. 간단한 링크드 리스트 예"
      ]
    },
    {
      "cell_type": "markdown",
      "metadata": {
        "id": "D01OIgV8K4cD"
      },
      "source": [
        "#### Node 구현\n",
        "- 보통 파이썬에서 링크드 리스트 구현시, 파이썬 클래스를 활용함\n",
        "  - 파이썬 객체지향 문법 이해 필요\n",
        "  - 참고: https://www.fun-coding.org/PL&OOP1-3.html"
      ]
    },
    {
      "cell_type": "code",
      "execution_count": null,
      "metadata": {
        "id": "96lnQSZMK4cD"
      },
      "outputs": [],
      "source": [
        "class Node:\n",
        "    def __init__(self, data):\n",
        "        self.data = data\n",
        "        self.next = None"
      ]
    },
    {
      "cell_type": "code",
      "execution_count": null,
      "metadata": {
        "id": "rgFmS5mdK4cF"
      },
      "outputs": [],
      "source": [
        "class Node:\n",
        "    def __init__(self, data, next=None):\n",
        "        self.data = data\n",
        "        self.next = next"
      ]
    },
    {
      "cell_type": "markdown",
      "metadata": {
        "id": "tfiM29SsK4cF"
      },
      "source": [
        "#### Node와 Node 연결하기 (포인터 활용)"
      ]
    },
    {
      "cell_type": "code",
      "execution_count": null,
      "metadata": {
        "id": "LPdt_7yfK4cG"
      },
      "outputs": [],
      "source": [
        "node1 = Node(1)\n",
        "node2 = Node(2)\n",
        "node1.next = node2\n",
        "head = node1"
      ]
    },
    {
      "cell_type": "markdown",
      "metadata": {
        "id": "w6-9aM7aK4cH"
      },
      "source": [
        "#### 링크드 리스트로 데이터 추가하기"
      ]
    },
    {
      "cell_type": "code",
      "execution_count": null,
      "metadata": {
        "id": "yw-YRA3LK4cH"
      },
      "outputs": [],
      "source": [
        "class Node:\n",
        "    def __init__(self, data, next=None):\n",
        "        self.data = data\n",
        "        self.next = next\n",
        "\n",
        "def add(data):\n",
        "    node = head\n",
        "    while node.next:\n",
        "        node = node.next\n",
        "    node.next = Node(data) "
      ]
    },
    {
      "cell_type": "code",
      "execution_count": null,
      "metadata": {
        "id": "kfszoIEVK4cI"
      },
      "outputs": [],
      "source": [
        "node1 = Node(1)\n",
        "head = node1\n",
        "for index in range(2, 10):\n",
        "    add(index)"
      ]
    },
    {
      "cell_type": "markdown",
      "metadata": {
        "id": "mOzrb_Q1K4cI"
      },
      "source": [
        "#### 링크드 리스트 데이터 출력하기(검색하기)"
      ]
    },
    {
      "cell_type": "code",
      "execution_count": null,
      "metadata": {
        "id": "ZBhsaslYK4cI",
        "outputId": "28c279e7-7e00-4681-992e-791d3b4fb2ce"
      },
      "outputs": [
        {
          "name": "stdout",
          "output_type": "stream",
          "text": [
            "1\n",
            "2\n",
            "3\n",
            "4\n",
            "5\n",
            "6\n",
            "7\n",
            "8\n",
            "9\n"
          ]
        }
      ],
      "source": [
        "node = head\n",
        "while node.next:\n",
        "    print(node.data)\n",
        "    node = node.next\n",
        "print (node.data)"
      ]
    },
    {
      "cell_type": "markdown",
      "metadata": {
        "id": "MjKHJcr3K4cK"
      },
      "source": [
        "### 3. 링크드 리스트의 장단점 (전통적인 C언어에서의 배열과 링크드 리스트)\n",
        "* 장점\n",
        "  - 미리 데이터 공간을 미리 할당하지 않아도 됨\n",
        "    - 배열은 **미리 데이터 공간을 할당** 해야 함\n",
        "* 단점\n",
        "  - 연결을 위한 별도 데이터 공간이 필요하므로, 저장공간 효율이 높지 않음\n",
        "  - 연결 정보를 찾는 시간이 필요하므로 접근 속도가 느림\n",
        "  - 중간 데이터 삭제시, 앞뒤 데이터의 연결을 재구성해야 하는 부가적인 작업 필요"
      ]
    },
    {
      "cell_type": "markdown",
      "metadata": {
        "id": "bd0156hbK4cL"
      },
      "source": [
        "### 4. 링크드 리스트의 복잡한 기능1 (링크드 리스트 데이터 사이에 데이터를 추가)\n",
        "- 링크드 리스트는 유지 관리에 부가적인 구현이 필요함\n",
        "\n",
        "<img src=\"https://www.fun-coding.org/00_Images/linkedlistadd.png\" />\n",
        "(출처: wikipedia, https://en.wikipedia.org/wiki/Linked_list)"
      ]
    },
    {
      "cell_type": "code",
      "execution_count": null,
      "metadata": {
        "id": "9ely6peBK4cM",
        "outputId": "9d858450-e994-4100-ceed-d0fe2ee31526"
      },
      "outputs": [
        {
          "name": "stdout",
          "output_type": "stream",
          "text": [
            "1\n",
            "2\n",
            "3\n",
            "4\n",
            "5\n",
            "6\n",
            "7\n",
            "8\n",
            "9\n"
          ]
        }
      ],
      "source": [
        "node = head\n",
        "while node.next:\n",
        "    print(node.data)\n",
        "    node = node.next\n",
        "print (node.data)"
      ]
    },
    {
      "cell_type": "code",
      "execution_count": null,
      "metadata": {
        "id": "aGRrdx6eK4cN"
      },
      "outputs": [],
      "source": [
        "node3 = Node(1.5)"
      ]
    },
    {
      "cell_type": "code",
      "execution_count": null,
      "metadata": {
        "id": "eK48YifHK4cN"
      },
      "outputs": [],
      "source": [
        "node = head\n",
        "search = True\n",
        "while search:\n",
        "    if node.data == 1:\n",
        "        search = False\n",
        "    else:\n",
        "        node = node.next\n",
        "\n",
        "node_next = node.next\n",
        "node.next = node3\n",
        "node3.next = node_next"
      ]
    },
    {
      "cell_type": "code",
      "execution_count": null,
      "metadata": {
        "id": "sHzyGTfjK4cO",
        "outputId": "3ab847a4-426b-47af-fbe4-5faa17160e10"
      },
      "outputs": [
        {
          "name": "stdout",
          "output_type": "stream",
          "text": [
            "1\n",
            "1.5\n",
            "2\n",
            "3\n",
            "4\n",
            "5\n",
            "6\n",
            "7\n",
            "8\n",
            "9\n"
          ]
        }
      ],
      "source": [
        "node = head\n",
        "while node.next:\n",
        "    print(node.data)\n",
        "    node = node.next\n",
        "print (node.data)"
      ]
    },
    {
      "cell_type": "markdown",
      "metadata": {
        "id": "ZEz7aeyIK4cO"
      },
      "source": [
        "### 5. 파이썬 객체지향 프로그래밍으로 링크드 리스트 구현하기"
      ]
    },
    {
      "cell_type": "code",
      "execution_count": null,
      "metadata": {
        "id": "E5Lmj7EQK4cP"
      },
      "outputs": [],
      "source": [
        "class Node:\n",
        "    def __init__(self, data, next=None):\n",
        "        self.data = data\n",
        "        self.next = next\n",
        "    \n",
        "class NodeMgmt:\n",
        "    def __init__(self, data):\n",
        "        self.head = Node(data)\n",
        "        \n",
        "    def add(self, data):\n",
        "        if self.head == '':\n",
        "            self.head = Node(data)\n",
        "        else:\n",
        "            node = self.head\n",
        "            while node.next:\n",
        "                node = node.next\n",
        "            node.next = Node(data)\n",
        "        \n",
        "    def desc(self):\n",
        "        node = self.head\n",
        "        while node:\n",
        "            print (node.data)\n",
        "            node = node.next"
      ]
    },
    {
      "cell_type": "code",
      "execution_count": null,
      "metadata": {
        "id": "k3E057eKK4cP",
        "outputId": "57df6e69-fc06-4128-c46a-3b11e8132264"
      },
      "outputs": [
        {
          "name": "stdout",
          "output_type": "stream",
          "text": [
            "0\n"
          ]
        }
      ],
      "source": [
        "linkedlist1 = NodeMgmt(0)\n",
        "linkedlist1.desc()"
      ]
    },
    {
      "cell_type": "code",
      "execution_count": null,
      "metadata": {
        "id": "yMw-aQckK4cP",
        "outputId": "7b618921-780e-4dbe-8f05-0698188b560f"
      },
      "outputs": [
        {
          "name": "stdout",
          "output_type": "stream",
          "text": [
            "0\n",
            "1\n",
            "2\n",
            "3\n",
            "4\n",
            "5\n",
            "6\n",
            "7\n",
            "8\n",
            "9\n"
          ]
        }
      ],
      "source": [
        "for data in range(1, 10):\n",
        "    linkedlist1.add(data)\n",
        "linkedlist1.desc()"
      ]
    },
    {
      "cell_type": "markdown",
      "metadata": {
        "id": "9_OsIhhLK4cQ"
      },
      "source": [
        "### 6. 링크드 리스트의 복잡한 기능2 (특정 노드를 삭제)\n",
        "* 다음 코드는 위의 코드에서 delete 메서드만 추가한 것이므로 해당 메서드만 확인하면 됨"
      ]
    },
    {
      "cell_type": "code",
      "execution_count": null,
      "metadata": {
        "id": "g7AeD3iGK4cQ"
      },
      "outputs": [],
      "source": [
        "class Node:\n",
        "    def __init__(self, data, next=None):\n",
        "        self.data = data\n",
        "        self.next = next\n",
        "    \n",
        "class NodeMgmt:\n",
        "    def __init__(self, data):\n",
        "        self.head = Node(data)\n",
        "        \n",
        "    def add(self, data):\n",
        "        if self.head == '':\n",
        "            self.head = Node(data)\n",
        "        else:\n",
        "            node = self.head\n",
        "            while node.next:\n",
        "                node = node.next\n",
        "            node.next = Node(data)\n",
        "        \n",
        "    def desc(self):\n",
        "        node = self.head\n",
        "        while node:\n",
        "            print (node.data)\n",
        "            node = node.next\n",
        "    \n",
        "    def delete(self, data):\n",
        "        if self.head == '':\n",
        "            print (\"해당 값을 가진 노드가 없습니다.\")\n",
        "            return\n",
        "        \n",
        "        if self.head.data == data:\n",
        "            temp = self.head\n",
        "            self.head = self.head.next\n",
        "            del temp\n",
        "        else:\n",
        "            node = self.head\n",
        "            while node.next:\n",
        "                if node.next.data == data:\n",
        "                    temp = node.next\n",
        "                    node.next = node.next.next\n",
        "                    del temp\n",
        "                    return\n",
        "                else:\n",
        "                    node = node.next"
      ]
    },
    {
      "cell_type": "markdown",
      "metadata": {
        "id": "EoC8qsO0K4cQ"
      },
      "source": [
        "#### 테스트를 위해 1개 노드를 만들어 봄"
      ]
    },
    {
      "cell_type": "code",
      "execution_count": null,
      "metadata": {
        "id": "jaW53ei8K4cR",
        "outputId": "70f1c4a3-a946-4526-f703-02fad27bed3d"
      },
      "outputs": [
        {
          "name": "stdout",
          "output_type": "stream",
          "text": [
            "0\n"
          ]
        }
      ],
      "source": [
        "linkedlist1 = NodeMgmt(0)\n",
        "linkedlist1.desc()"
      ]
    },
    {
      "cell_type": "markdown",
      "metadata": {
        "id": "Dbf-2aQpK4cR"
      },
      "source": [
        "#### head 가 살아있음을 확인"
      ]
    },
    {
      "cell_type": "code",
      "execution_count": null,
      "metadata": {
        "id": "BudQbSTsK4cR",
        "outputId": "6297452b-ee30-4d01-88c6-5be9eb75112c"
      },
      "outputs": [
        {
          "data": {
            "text/plain": [
              "<__main__.Node at 0x1099fc6a0>"
            ]
          },
          "execution_count": 20,
          "metadata": {},
          "output_type": "execute_result"
        }
      ],
      "source": [
        "linkedlist1.head"
      ]
    },
    {
      "cell_type": "markdown",
      "metadata": {
        "id": "_OnHyKRWK4cS"
      },
      "source": [
        "#### head 를 지워봄(위에서 언급한 경우의 수1)"
      ]
    },
    {
      "cell_type": "code",
      "execution_count": null,
      "metadata": {
        "id": "PUINzkaVK4cS"
      },
      "outputs": [],
      "source": [
        "linkedlist1.delete(0)"
      ]
    },
    {
      "cell_type": "markdown",
      "metadata": {
        "id": "3WHHGk8gK4cS"
      },
      "source": [
        "#### 다음 코드 실행시 아무것도 안나온다는 것은 linkedlist1.head 가 정상적으로 삭제되었음을 의미"
      ]
    },
    {
      "cell_type": "code",
      "execution_count": null,
      "metadata": {
        "id": "RgquUg9VK4cS"
      },
      "outputs": [],
      "source": [
        "linkedlist1.head"
      ]
    },
    {
      "cell_type": "markdown",
      "metadata": {
        "id": "rcUWw4dBK4cS"
      },
      "source": [
        "#### 다시 하나의 노드를 만들어봄"
      ]
    },
    {
      "cell_type": "code",
      "execution_count": null,
      "metadata": {
        "id": "zFmhSR1QK4cS",
        "outputId": "a85f7b41-a773-4bcd-d524-c6f47e344132"
      },
      "outputs": [
        {
          "name": "stdout",
          "output_type": "stream",
          "text": [
            "0\n"
          ]
        }
      ],
      "source": [
        "linkedlist1 = NodeMgmt(0)\n",
        "linkedlist1.desc()"
      ]
    },
    {
      "cell_type": "markdown",
      "metadata": {
        "id": "ukhQjEEHK4cT"
      },
      "source": [
        "#### 이번엔 여러 노드를 더 추가해봄"
      ]
    },
    {
      "cell_type": "code",
      "execution_count": null,
      "metadata": {
        "id": "Qm6Z2ITiK4cT",
        "outputId": "5ea21065-6527-4297-8375-07a7830f44d3"
      },
      "outputs": [
        {
          "name": "stdout",
          "output_type": "stream",
          "text": [
            "0\n",
            "1\n",
            "2\n",
            "3\n",
            "4\n",
            "5\n",
            "6\n",
            "7\n",
            "8\n",
            "9\n"
          ]
        }
      ],
      "source": [
        "for data in range(1, 10):\n",
        "    linkedlist1.add(data)\n",
        "linkedlist1.desc()"
      ]
    },
    {
      "cell_type": "markdown",
      "metadata": {
        "id": "FkfifEIhK4cT"
      },
      "source": [
        "#### 노드 중에 한개를 삭제함 (위에서 언급한 경우의 수2)"
      ]
    },
    {
      "cell_type": "code",
      "execution_count": null,
      "metadata": {
        "id": "ibpG7vfRK4cT"
      },
      "outputs": [],
      "source": [
        "linkedlist1.delete(4)"
      ]
    },
    {
      "cell_type": "markdown",
      "metadata": {
        "id": "9CqJt-OGK4cU"
      },
      "source": [
        "#### 특정 노드가 삭제되었음을 알 수 있음"
      ]
    },
    {
      "cell_type": "code",
      "execution_count": null,
      "metadata": {
        "id": "SUbx9dFBK4cU",
        "outputId": "08fe7f2c-97be-4606-8016-927b6ea01ce2"
      },
      "outputs": [
        {
          "name": "stdout",
          "output_type": "stream",
          "text": [
            "0\n",
            "1\n",
            "2\n",
            "3\n",
            "5\n",
            "6\n",
            "7\n",
            "8\n",
            "9\n"
          ]
        }
      ],
      "source": [
        "linkedlist1.desc()"
      ]
    },
    {
      "cell_type": "code",
      "execution_count": null,
      "metadata": {
        "id": "QtQ_eK0yK4cU"
      },
      "outputs": [],
      "source": [
        "linkedlist1.delete(9)"
      ]
    },
    {
      "cell_type": "code",
      "execution_count": null,
      "metadata": {
        "id": "BBxLvA0AK4cU",
        "outputId": "8cc68f1a-5e7f-44c2-ed77-05620bb82cf0"
      },
      "outputs": [
        {
          "name": "stdout",
          "output_type": "stream",
          "text": [
            "0\n",
            "1\n",
            "2\n",
            "3\n",
            "5\n",
            "6\n",
            "7\n",
            "8\n"
          ]
        }
      ],
      "source": [
        "linkedlist1.desc()"
      ]
    },
    {
      "cell_type": "markdown",
      "metadata": {
        "id": "brjNHlVcK4cU"
      },
      "source": [
        "<div class=\"alert alert-block alert-warning\">\n",
        "<strong><font color=\"blue\" size=\"3em\">연습1: 위 코드에서 노드 데이터가 2인 노드 삭제해보기</font></strong>\n",
        "</div>"
      ]
    },
    {
      "cell_type": "code",
      "execution_count": null,
      "metadata": {
        "id": "hwgT7dEKK4cU"
      },
      "outputs": [],
      "source": [
        "node_mgmt.delete(2)\n",
        "node_mgmt.desc()"
      ]
    },
    {
      "cell_type": "markdown",
      "metadata": {
        "id": "37ITDEZJK4cV"
      },
      "source": [
        "<div class=\"alert alert-block alert-warning\">\n",
        "<strong><font color=\"blue\" size=\"3em\">연습2: 위 코드에서 노드 데이터가 특정 숫자인 노드를 찾는 함수를 만들고, 테스트해보기</font></strong><br>\n",
        "테스트: 임의로 1 ~ 9까지 데이터를 링크드 리스트에 넣어보고, 데이터 값이 4인 노드의 데이터 값 출력해보기\n",
        "</div>"
      ]
    },
    {
      "cell_type": "code",
      "execution_count": null,
      "metadata": {
        "id": "orZxjUn6K4cV"
      },
      "outputs": [],
      "source": [
        "class Node:\n",
        "    def __init__(self, data):\n",
        "        self.data = data\n",
        "        self.next = None\n",
        "\n",
        "class NodeMgmt:\n",
        "    def __init__(self, data):\n",
        "        self.head = Node(data)\n",
        "    \n",
        "    def add(self, data):\n",
        "        if self.head == '':\n",
        "            self.head = Node(data)\n",
        "        else:\n",
        "            node = self.head\n",
        "            while node.next:\n",
        "                node = node.next\n",
        "            node.next = Node(data)\n",
        "\n",
        "    def desc(self):\n",
        "        node = self.head\n",
        "        while node:\n",
        "            print (node.data)\n",
        "            node = node.next\n",
        "\n",
        "    def delete(self, data):\n",
        "        if self.head == '':\n",
        "            print ('해당 값을 가진 노드가 없습니다.')\n",
        "            return\n",
        "        if self.head.data == data: # 경우의 수1: self.head를 삭제해야할 경우 - self.head를 바꿔줘야 함\n",
        "            temp = self.head # self.head 객체를 삭제하기 위해, 임시로 temp에 담아서 객체를 삭제했음\n",
        "            self.head = self.head.next # 만약 self.head 객체를 삭제하면, 이 코드가 실행이 안되기 때문!\n",
        "            del temp\n",
        "        else:\n",
        "            node = self.head\n",
        "            while node.next: # 경우의 수2: self.head가 아닌 노드를 삭제해야할 경우\n",
        "                if node.next.data == data:\n",
        "                    temp = node.next\n",
        "                    node.next = node.next.next       \n",
        "                    del temp                         \n",
        "                    pass                             \n",
        "                else:\n",
        "                    node = node.next\n",
        "                    \n",
        "    def search_node(self, data):\n",
        "        node = self.head\n",
        "        while node:\n",
        "            if node.data == data:\n",
        "                return node\n",
        "            else:\n",
        "                node = node.next"
      ]
    },
    {
      "cell_type": "code",
      "execution_count": null,
      "metadata": {
        "id": "-gQ02JLzK4cV"
      },
      "outputs": [],
      "source": [
        "# 테스트\n",
        "node_mgmt = NodeMgmt(0)\n",
        "for data in range(1, 10):\n",
        "    node_mgmt.add(data)\n",
        "\n",
        "node = node_mgmt.search_node(4)\n",
        "print (node.data)"
      ]
    },
    {
      "cell_type": "markdown",
      "metadata": {
        "id": "M22rM01FK4cV"
      },
      "source": [
        "### 7. 다양한 링크드 리스트 구조 \n",
        "* 더블 링크드 리스트(Doubly linked list) 기본 구조 \n",
        "  - 이중 연결 리스트라고도 함\n",
        "  - 장점: 양방향으로 연결되어 있어서 노드 탐색이 양쪽으로 모두 가능\n",
        "  <br>\n",
        "<img src=\"https://www.fun-coding.org/00_Images/doublelinkedlist.png\" />\n",
        "(출처: wikipedia, https://en.wikipedia.org/wiki/Linked_list)"
      ]
    },
    {
      "cell_type": "code",
      "execution_count": null,
      "metadata": {
        "id": "00txHG9OK4cW"
      },
      "outputs": [],
      "source": [
        "class Node:\n",
        "    def __init__(self, data, prev=None, next=None):\n",
        "        self.prev = prev\n",
        "        self.data = data\n",
        "        self.next = next\n",
        "\n",
        "class NodeMgmt:\n",
        "    def __init__(self, data):\n",
        "        self.head = Node(data)\n",
        "        self.tail = self.head\n",
        "\n",
        "    def insert(self, data):\n",
        "        if self.head == None:\n",
        "            self.head = Node(data)\n",
        "            self.tail = self.head\n",
        "        else:\n",
        "            node = self.head\n",
        "            while node.next:\n",
        "                node = node.next\n",
        "            new = Node(data)\n",
        "            node.next = new\n",
        "            new.prev = node\n",
        "            self.tail = new\n",
        "\n",
        "    def desc(self):\n",
        "        node = self.head\n",
        "        while node:\n",
        "            print (node.data)\n",
        "            node = node.next"
      ]
    },
    {
      "cell_type": "code",
      "execution_count": null,
      "metadata": {
        "id": "HPx-9TNWK4cW",
        "outputId": "5935ea0f-379d-480e-bb75-7cc79082912c"
      },
      "outputs": [
        {
          "name": "stdout",
          "output_type": "stream",
          "text": [
            "0\n",
            "1\n",
            "2\n",
            "3\n",
            "4\n",
            "5\n",
            "6\n",
            "7\n",
            "8\n",
            "9\n"
          ]
        }
      ],
      "source": [
        "double_linked_list = NodeMgmt(0)\n",
        "for data in range(1, 10):\n",
        "    double_linked_list.insert(data)\n",
        "double_linked_list.desc()"
      ]
    },
    {
      "cell_type": "markdown",
      "metadata": {
        "id": "miEVFSoQK4cW"
      },
      "source": [
        "<div class=\"alert alert-block alert-warning\">\n",
        "<strong><font color=\"blue\" size=\"3em\">연습3: 위 코드에서 노드 데이터가 특정 숫자인 노드 앞에 데이터를 추가하는 함수를 만들고, 테스트해보기</font></strong><br>\n",
        "- 더블 링크드 리스트의 tail 에서부터 뒤로 이동하며, 특정 숫자인 노드를 찾는 방식으로 함수를 구현하기<br>\n",
        "- 테스트: 임의로 0 ~ 9까지 데이터를 링크드 리스트에 넣어보고, 데이터 값이 2인 노드 앞에 1.5 데이터 값을 가진 노드를 추가해보기\n",
        "</div>"
      ]
    },
    {
      "cell_type": "code",
      "execution_count": null,
      "metadata": {
        "id": "i4h_Cx0vK4cW"
      },
      "outputs": [],
      "source": [
        "class Node:\n",
        "    def __init__(self, data, prev=None, next=None):\n",
        "        self.prev = prev\n",
        "        self.data = data\n",
        "        self.next = next\n",
        "\n",
        "class NodeMgmt:\n",
        "    def __init__(self, data):\n",
        "        self.head = Node(data)\n",
        "        self.tail = self.head\n",
        "\n",
        "    def insert(self, data):\n",
        "        if self.head == None:\n",
        "            self.head = Node(data)\n",
        "            self.tail = self.head\n",
        "        else:\n",
        "            node = self.head\n",
        "            while node.next:\n",
        "                node = node.next\n",
        "            new = Node(data)\n",
        "            node.next = new\n",
        "            new.prev = node\n",
        "            self.tail = new\n",
        "\n",
        "    def desc(self):\n",
        "        node = self.head\n",
        "        while node:\n",
        "            print (node.data)\n",
        "            node = node.next\n",
        "    \n",
        "    def search_from_head(self, data):\n",
        "        if self.head == None:\n",
        "            return False\n",
        "    \n",
        "        node = self.head\n",
        "        while node:\n",
        "            if node.data == data:\n",
        "                return node\n",
        "            else:\n",
        "                node = node.next\n",
        "        return False\n",
        "    \n",
        "    def search_from_tail(self, data):\n",
        "        if self.head == None:\n",
        "            return False\n",
        "    \n",
        "        node = self.tail\n",
        "        while node:\n",
        "            if node.data == data:\n",
        "                return node\n",
        "            else:\n",
        "                node = node.prev\n",
        "        return False\n",
        "    \n",
        "    def insert_before(self, data, before_data):\n",
        "        if self.head == None:\n",
        "            self.head = Node(data)\n",
        "            return True\n",
        "        else:\n",
        "            node = self.tail\n",
        "            while node.data != before_data:\n",
        "                node = node.prev\n",
        "                if node == None:\n",
        "                    return False\n",
        "            new = Node(data)\n",
        "            before_new = node.prev\n",
        "            before_new.next = new\n",
        "            new.prev = before_new\n",
        "            new.next = node\n",
        "            node.prev = new\n",
        "            return True"
      ]
    },
    {
      "cell_type": "code",
      "execution_count": null,
      "metadata": {
        "id": "yLAvsCDkK4cW",
        "outputId": "a2c27624-4e40-42da-e47e-988a66de45ca"
      },
      "outputs": [
        {
          "name": "stdout",
          "output_type": "stream",
          "text": [
            "0\n",
            "1\n",
            "2\n",
            "3\n",
            "4\n",
            "5\n",
            "6\n",
            "7\n",
            "8\n",
            "9\n"
          ]
        }
      ],
      "source": [
        "double_linked_list = NodeMgmt(0)\n",
        "for data in range(1, 10):\n",
        "    double_linked_list.insert(data)\n",
        "double_linked_list.desc()"
      ]
    },
    {
      "cell_type": "code",
      "execution_count": null,
      "metadata": {
        "id": "ahpi5yV2K4cX",
        "outputId": "2cfcbd22-0fd3-4bdf-8b89-fd1508fc78c6"
      },
      "outputs": [
        {
          "data": {
            "text/plain": [
              "3"
            ]
          },
          "execution_count": 15,
          "metadata": {},
          "output_type": "execute_result"
        }
      ],
      "source": [
        "node_3 = double_linked_list.search_from_tail(3)\n",
        "node_3.data"
      ]
    },
    {
      "cell_type": "code",
      "execution_count": null,
      "metadata": {
        "id": "JbAOQCPYK4cX",
        "outputId": "ba236a12-923b-4f78-f571-5f36bf4e74fd"
      },
      "outputs": [
        {
          "name": "stdout",
          "output_type": "stream",
          "text": [
            "0\n",
            "1\n",
            "1.5\n",
            "2\n",
            "3\n",
            "4\n",
            "5\n",
            "6\n",
            "7\n",
            "8\n",
            "9\n"
          ]
        }
      ],
      "source": [
        "double_linked_list.insert_before(1.5, 2)\n",
        "double_linked_list.desc()"
      ]
    },
    {
      "cell_type": "code",
      "execution_count": null,
      "metadata": {
        "id": "cH6OVM42K4cX",
        "outputId": "114c50ca-a33b-4401-d011-6c4331a5d5ce"
      },
      "outputs": [
        {
          "data": {
            "text/plain": [
              "1.5"
            ]
          },
          "execution_count": 19,
          "metadata": {},
          "output_type": "execute_result"
        }
      ],
      "source": [
        "node_3 = double_linked_list.search_from_tail(1.5)\n",
        "node_3.data"
      ]
    },
    {
      "cell_type": "markdown",
      "metadata": {
        "id": "_t_yqVlwK4cX"
      },
      "source": [
        "<div class=\"alert alert-block alert-warning\">\n",
        "<strong><font color=\"blue\" size=\"3em\">연습4: 위 코드에서 노드 데이터가 특정 숫자인 노드 뒤에 데이터를 추가하는 함수를 만들고, 테스트해보기</font></strong><br>\n",
        "- 더블 링크드 리스트의 head 에서부터 다음으로 이동하며, 특정 숫자인 노드를 찾는 방식으로 함수를 구현하기<br>\n",
        "- 테스트: 임의로 0 ~ 9까지 데이터를 링크드 리스트에 넣어보고, 데이터 값이 1인 노드 다음에 1.7 데이터 값을 가진 노드를 추가해보기\n",
        "</div>"
      ]
    },
    {
      "cell_type": "code",
      "execution_count": null,
      "metadata": {
        "id": "Qa2aW-AZK4cY"
      },
      "outputs": [],
      "source": [
        "class Node:\n",
        "    def __init__(self, data, prev=None, next=None):\n",
        "        self.prev = prev\n",
        "        self.data = data\n",
        "        self.next = next\n",
        "\n",
        "class NodeMgmt:\n",
        "    def __init__(self, data):\n",
        "        self.head = Node(data)\n",
        "        self.tail = self.head\n",
        "    \n",
        "    def insert_before(self, data, before_data):\n",
        "        if self.head == None:\n",
        "            self.head = Node(data)\n",
        "            return True            \n",
        "        else:\n",
        "            node = self.tail\n",
        "            while node.data != before_data:\n",
        "                node = node.prev\n",
        "                if node == None:\n",
        "                    return False\n",
        "            new = Node(data)\n",
        "            before_new = node.prev\n",
        "            before_new.next = new\n",
        "            new.next = node\n",
        "            return True\n",
        "\n",
        "    def insert_after(self, data, after_data):\n",
        "        if self.head == None:\n",
        "            self.head = Node(data)\n",
        "            return True            \n",
        "        else:\n",
        "            node = self.head\n",
        "            while node.data != after_data:\n",
        "                node = node.next\n",
        "                if node == None:\n",
        "                    return False\n",
        "            new = Node(data)\n",
        "            after_new = node.next\n",
        "            new.next = after_new\n",
        "            new.prev = node\n",
        "            node.next = new\n",
        "            if new.next == None:\n",
        "                self.tail = new\n",
        "            return True\n",
        "\n",
        "    def insert(self, data):\n",
        "        if self.head == None:\n",
        "            self.head = Node(data)\n",
        "        else:\n",
        "            node = self.head\n",
        "            while node.next:\n",
        "                node = node.next\n",
        "            new = Node(data)\n",
        "            node.next = new\n",
        "            new.prev = node\n",
        "            self.tail = new\n",
        "\n",
        "    def desc(self):\n",
        "        node = self.head\n",
        "        while node:\n",
        "            print (node.data)\n",
        "            node = node.next"
      ]
    },
    {
      "cell_type": "code",
      "execution_count": null,
      "metadata": {
        "id": "FifUmL8LK4cY"
      },
      "outputs": [],
      "source": [
        "node_mgmt = NodeMgmt(0)\n",
        "for data in range(1, 10):\n",
        "    node_mgmt.insert(data)\n",
        "\n",
        "node_mgmt.desc()\n",
        "\n",
        "node_mgmt.insert_after(1.5, 1)\n",
        "node_mgmt.desc()"
      ]
    }
  ],
  "metadata": {
    "kernelspec": {
      "display_name": "Python 3",
      "language": "python",
      "name": "python3"
    },
    "language_info": {
      "codemirror_mode": {
        "name": "ipython",
        "version": 3
      },
      "file_extension": ".py",
      "mimetype": "text/x-python",
      "name": "python",
      "nbconvert_exporter": "python",
      "pygments_lexer": "ipython3",
      "version": "3.7.2"
    },
    "nbTranslate": {
      "displayLangs": [
        "*"
      ],
      "hotkey": "alt-t",
      "langInMainMenu": true,
      "sourceLang": "en",
      "targetLang": "fr",
      "useGoogleTranslate": true
    },
    "colab": {
      "name": "링크드 리스트.ipynb",
      "provenance": []
    }
  },
  "nbformat": 4,
  "nbformat_minor": 0
}