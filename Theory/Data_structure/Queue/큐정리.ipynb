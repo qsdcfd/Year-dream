{
  "cells": [
    {
      "cell_type": "markdown",
      "metadata": {
        "id": "762zetnTVs27"
      },
      "source": [
        "## 대표적인 데이터 구조4: 큐 (Queue)\n",
        "\n",
        "### 1. 큐 구조\n",
        "* 줄을 서는 행위와 유사\n",
        "* 가장 먼저 넣은 데이터를 가장 먼저 꺼낼 수 있는 구조\n",
        "  - 음식점에서 가장 먼저 줄을 선 사람이 제일 먼저 음식점에 입장하는 것과 동일\n",
        "  - FIFO(First-In, First-Out) 또는 LILO(Last-In, Last-Out) 방식으로 스택과 꺼내는 순서가 반대\n",
        "  \n",
        "<img src=\"https://www.fun-coding.org/00_Images/queue.png\" />\n",
        "* 출처: http://www.stoimen.com/blog/2012/06/05/computer-algorithms-stack-and-queue-data-structure/\n",
        "\n",
        "> 엑셀로 이해해보기"
      ]
    },
    {
      "cell_type": "markdown",
      "metadata": {
        "id": "KrUbhP89Vs3B"
      },
      "source": [
        "### 2. 알아둘 용어\n",
        "* Enqueue: 큐에 데이터를 넣는 기능\n",
        "* Dequeue: 큐에서 데이터를 꺼내는 기능\n",
        "* <font color='#BF360C'>Visualgo 사이트에서 시연해보며 이해하기 (enqueue/dequeue 만 클릭해보며): https://visualgo.net/en/list"
      ]
    },
    {
      "cell_type": "markdown",
      "metadata": {
        "id": "1R1_qPLqVs3E"
      },
      "source": [
        "### 3. 파이썬 queue 라이브러리 활용해서 큐 자료 구조 사용하기\n",
        "* **queue 라이브러리에는 다양한 큐 구조로 Queue(), LifoQueue(), PriorityQueue() 제공**\n",
        "* <font color='#BF360C'>프로그램을 작성할 때 프로그램에 따라 적합한 자료 구조를 사용</font>\n",
        "  - Queue(): 가장 일반적인 큐 자료 구조\n",
        "  - LifoQueue(): 나중에 입력된 데이터가 먼저 출력되는 구조 (스택 구조라고 보면 됨)\n",
        "  - PriorityQueue(): 데이터마다 우선순위를 넣어서, 우선순위가 높은 순으로 데이터 출력\n",
        "  \n",
        "> 일반적인 큐 외에 다양한 정책이 적용된 큐들이 있음"
      ]
    },
    {
      "cell_type": "markdown",
      "metadata": {
        "id": "Amt0oOitVs3G"
      },
      "source": [
        "#### 3.1. Queue()로 큐 만들기 (가장 일반적인 큐, FIFO(First-In, First-Out))"
      ]
    },
    {
      "cell_type": "code",
      "execution_count": null,
      "metadata": {
        "id": "QbyWbKPpVs3I"
      },
      "outputs": [],
      "source": [
        "import queue\n",
        "\n",
        "data_queue = queue.Queue()"
      ]
    },
    {
      "cell_type": "code",
      "execution_count": null,
      "metadata": {
        "id": "n4Mir7-fVs3K"
      },
      "outputs": [],
      "source": [
        "data_queue.put(\"funcoding\")\n",
        "data_queue.put(1)"
      ]
    },
    {
      "cell_type": "code",
      "execution_count": null,
      "metadata": {
        "id": "QaKMo6QXVs3L",
        "outputId": "2b18c2f2-aebc-41f8-d9f8-0d5398ff6ccc"
      },
      "outputs": [
        {
          "data": {
            "text/plain": [
              "2"
            ]
          },
          "execution_count": 3,
          "metadata": {},
          "output_type": "execute_result"
        }
      ],
      "source": [
        "data_queue.qsize()"
      ]
    },
    {
      "cell_type": "code",
      "execution_count": null,
      "metadata": {
        "id": "qD2SPEd0Vs3N",
        "outputId": "9e9fb7eb-7687-4892-cc07-4da88e979c17"
      },
      "outputs": [
        {
          "data": {
            "text/plain": [
              "'funcoding'"
            ]
          },
          "execution_count": 4,
          "metadata": {},
          "output_type": "execute_result"
        }
      ],
      "source": [
        "data_queue.get()"
      ]
    },
    {
      "cell_type": "code",
      "execution_count": null,
      "metadata": {
        "id": "mD6nJC-fVs3P",
        "outputId": "320d7647-9235-4249-8b75-47adaa572e43"
      },
      "outputs": [
        {
          "data": {
            "text/plain": [
              "0"
            ]
          },
          "execution_count": 7,
          "metadata": {},
          "output_type": "execute_result"
        }
      ],
      "source": [
        "data_queue.qsize()"
      ]
    },
    {
      "cell_type": "code",
      "execution_count": null,
      "metadata": {
        "id": "NSNaImnLVs3Q",
        "outputId": "bafeb383-282a-43fd-bb97-c90ac2589bca"
      },
      "outputs": [
        {
          "data": {
            "text/plain": [
              "1"
            ]
          },
          "execution_count": 6,
          "metadata": {},
          "output_type": "execute_result"
        }
      ],
      "source": [
        "data_queue.get()"
      ]
    },
    {
      "cell_type": "markdown",
      "metadata": {
        "id": "dBKd9d5mVs3R"
      },
      "source": [
        "#### 3.2. LifoQueue()로 큐 만들기 (LIFO(Last-In, First-Out))"
      ]
    },
    {
      "cell_type": "code",
      "execution_count": null,
      "metadata": {
        "id": "521RcrwcVs3S"
      },
      "outputs": [],
      "source": [
        "import queue\n",
        "data_queue = queue.LifoQueue()"
      ]
    },
    {
      "cell_type": "code",
      "execution_count": null,
      "metadata": {
        "id": "erFO8GltVs3T"
      },
      "outputs": [],
      "source": [
        "data_queue.put(\"funcoding\")\n",
        "data_queue.put(1)"
      ]
    },
    {
      "cell_type": "code",
      "execution_count": null,
      "metadata": {
        "id": "N7d5v-xsVs3T",
        "outputId": "4552d4ab-e887-4e74-cb79-3447826e4f52"
      },
      "outputs": [
        {
          "data": {
            "text/plain": [
              "2"
            ]
          },
          "execution_count": 11,
          "metadata": {},
          "output_type": "execute_result"
        }
      ],
      "source": [
        "data_queue.qsize()"
      ]
    },
    {
      "cell_type": "code",
      "execution_count": null,
      "metadata": {
        "id": "ssxnihNLVs3U",
        "outputId": "a2d48c4e-1e31-41a9-cdd7-2b4c5c965f0b"
      },
      "outputs": [
        {
          "data": {
            "text/plain": [
              "1"
            ]
          },
          "execution_count": 12,
          "metadata": {},
          "output_type": "execute_result"
        }
      ],
      "source": [
        "data_queue.get()"
      ]
    },
    {
      "cell_type": "markdown",
      "metadata": {
        "id": "UJlU1ZPhVs3V"
      },
      "source": [
        "#### 3.3. PriorityQueue()로 큐 만들기"
      ]
    },
    {
      "cell_type": "code",
      "execution_count": null,
      "metadata": {
        "id": "vlBf3AmlVs3V"
      },
      "outputs": [],
      "source": [
        "import queue\n",
        "\n",
        "data_queue = queue.PriorityQueue()"
      ]
    },
    {
      "cell_type": "code",
      "execution_count": null,
      "metadata": {
        "id": "FWnr5np0Vs3W"
      },
      "outputs": [],
      "source": [
        "data_queue.put((10, \"korea\"))\n",
        "data_queue.put((5, 1))\n",
        "data_queue.put((15, \"china\"))"
      ]
    },
    {
      "cell_type": "code",
      "execution_count": null,
      "metadata": {
        "id": "FrsaS4YAVs3X",
        "outputId": "75a84fe2-dfa7-4173-b6f0-53a5e642a449"
      },
      "outputs": [
        {
          "data": {
            "text/plain": [
              "3"
            ]
          },
          "execution_count": 17,
          "metadata": {},
          "output_type": "execute_result"
        }
      ],
      "source": [
        "data_queue.qsize()"
      ]
    },
    {
      "cell_type": "code",
      "execution_count": null,
      "metadata": {
        "id": "qaiu2KhaVs3X",
        "outputId": "561c3bd4-95cf-4531-c82e-d8af4c100d28"
      },
      "outputs": [
        {
          "data": {
            "text/plain": [
              "(5, 1)"
            ]
          },
          "execution_count": 18,
          "metadata": {},
          "output_type": "execute_result"
        }
      ],
      "source": [
        "data_queue.get()"
      ]
    },
    {
      "cell_type": "code",
      "execution_count": null,
      "metadata": {
        "id": "lR1i3GeEVs3Y",
        "outputId": "13f18b9f-2ade-4913-a78a-77a65c21ac75"
      },
      "outputs": [
        {
          "data": {
            "text/plain": [
              "(10, 'korea')"
            ]
          },
          "execution_count": 19,
          "metadata": {},
          "output_type": "execute_result"
        }
      ],
      "source": [
        "data_queue.get()"
      ]
    },
    {
      "cell_type": "markdown",
      "metadata": {
        "id": "xVUMD7dtVs3Z"
      },
      "source": [
        "### 참고: 어디에 큐가 많이 쓰일까?\n",
        "- 멀티 태스킹을 위한 프로세스 스케쥴링 방식을 구현하기 위해 많이 사용됨 (운영체제 참조)\n",
        "\n",
        "> 큐의 경우에는 장단점 보다는 (특별히 언급되는 장단점이 없음), 큐의 활용 예로 프로세스 스케쥴링 방식을 함께 이해해두는 것이 좋음"
      ]
    },
    {
      "cell_type": "markdown",
      "metadata": {
        "id": "0J1M48WZVs3Z"
      },
      "source": [
        "### 4. 프로그래밍 연습 "
      ]
    },
    {
      "cell_type": "markdown",
      "metadata": {
        "id": "z4xTAV9AVs3a"
      },
      "source": [
        "<div class=\"alert alert-block alert-warning\">\n",
        "<strong><font color=\"blue\" size=\"3em\">연습1: 리스트 변수로 큐를 다루는 enqueue, dequeue 기능 구현해보기</font></strong>\n",
        "</div>"
      ]
    },
    {
      "cell_type": "code",
      "execution_count": null,
      "metadata": {
        "id": "UhRmw7DBVs3a"
      },
      "outputs": [],
      "source": [
        "queue_list = list()\n",
        "\n",
        "def enqueue(data):\n",
        "    queue_list.append(data)\n",
        "    \n",
        "def dequeue():\n",
        "    data = queue_list[0]\n",
        "    del queue_list[0]\n",
        "    return data"
      ]
    },
    {
      "cell_type": "code",
      "execution_count": null,
      "metadata": {
        "id": "URpNbeZEVs3b"
      },
      "outputs": [],
      "source": [
        "for index in range(10):\n",
        "    enqueue(index)\n"
      ]
    },
    {
      "cell_type": "code",
      "execution_count": null,
      "metadata": {
        "id": "r2M3E7wQVs3b",
        "outputId": "84fb5c03-1ebc-46aa-e861-8aac135db6f6"
      },
      "outputs": [
        {
          "data": {
            "text/plain": [
              "10"
            ]
          },
          "execution_count": 23,
          "metadata": {},
          "output_type": "execute_result"
        }
      ],
      "source": [
        "len(queue_list)"
      ]
    },
    {
      "cell_type": "code",
      "execution_count": null,
      "metadata": {
        "id": "pHikoQpVVs3c",
        "outputId": "a3d6c931-64b9-470c-f3f3-ea9321fb56b6"
      },
      "outputs": [
        {
          "data": {
            "text/plain": [
              "2"
            ]
          },
          "execution_count": 26,
          "metadata": {},
          "output_type": "execute_result"
        }
      ],
      "source": [
        "dequeue()"
      ]
    },
    {
      "cell_type": "markdown",
      "metadata": {
        "id": "q9TZdVI-Vs3c"
      },
      "source": [
        "### 쉬어가기: https://youtu.be/u6RoU-SDpYE"
      ]
    }
  ],
  "metadata": {
    "kernelspec": {
      "display_name": "Python 3",
      "language": "python",
      "name": "python3"
    },
    "language_info": {
      "codemirror_mode": {
        "name": "ipython",
        "version": 3
      },
      "file_extension": ".py",
      "mimetype": "text/x-python",
      "name": "python",
      "nbconvert_exporter": "python",
      "pygments_lexer": "ipython3",
      "version": "3.7.2"
    },
    "nbTranslate": {
      "displayLangs": [
        "*"
      ],
      "hotkey": "alt-t",
      "langInMainMenu": true,
      "sourceLang": "en",
      "targetLang": "fr",
      "useGoogleTranslate": true
    },
    "colab": {
      "name": "큐정리.ipynb",
      "provenance": []
    }
  },
  "nbformat": 4,
  "nbformat_minor": 0
}