{
  "cells": [
    {
      "cell_type": "markdown",
      "metadata": {
        "id": "Rdax_BfONyNl"
      },
      "source": [
        "## 대표적인 데이터 구조6: 해쉬 테이블 (Hash Table)\n",
        "\n",
        "### 1. 해쉬 구조\n",
        "* Hash Table: 키(Key)에 데이터(Value)를 저장하는 데이터 구조\n",
        "  - Key를 통해 바로 데이터를 받아올 수 있으므로, 속도가 획기적으로 빨라짐\n",
        "  - 파이썬 딕셔너리(Dictionary) 타입이 해쉬 테이블의 예: Key를 가지고 바로 데이터(Value)를 꺼냄\n",
        "  - 보통 배열로 미리 Hash Table 사이즈만큼 생성 후에 사용 (공간과 탐색 시간을 맞바꾸는 기법)\n",
        "  - <font color='#BF360C'>단, 파이썬에서는 해쉬를 별도 구현할 이유가 없음 - 딕셔너리 타입을 사용하면 됨</font>"
      ]
    },
    {
      "cell_type": "markdown",
      "metadata": {
        "id": "sNXPF-DDNyNr"
      },
      "source": [
        "### 2. 알아둘 용어\n",
        "* 해쉬(Hash): 임의 값을 고정 길이로 변환하는 것\n",
        "* 해쉬 테이블(Hash Table): 키 값의 연산에 의해 직접 접근이 가능한 데이터 구조\n",
        "* 해싱 함수(Hashing Function): Key에 대해 산술 연산을 이용해 데이터 위치를 찾을 수 있는 함수\n",
        "* 해쉬 값(Hash Value) 또는 해쉬 주소(Hash Address): Key를 해싱 함수로 연산해서, 해쉬 값을 알아내고, 이를 기반으로 해쉬 테이블에서 해당 Key에 대한 데이터 위치를 일관성있게 찾을 수 있음\n",
        "* 슬롯(Slot): 한 개의 데이터를 저장할 수 있는 공간\n",
        "* 저장할 데이터에 대해 Key를 추출할 수 있는 별도 함수도 존재할 수 있음\n",
        "<img src=\"https://www.fun-coding.org/00_Images/hash.png\" width=400 />"
      ]
    },
    {
      "cell_type": "markdown",
      "metadata": {
        "id": "RaCjVExxNyNs"
      },
      "source": [
        "### 3. 간단한 해쉬 예"
      ]
    },
    {
      "cell_type": "markdown",
      "metadata": {
        "id": "KGew1vu7NyNs"
      },
      "source": [
        "#### 3.1. hash table 만들기\n",
        "* 참고: 파이썬 list comprehension - https://www.fun-coding.org/PL&OOP5-2.html"
      ]
    },
    {
      "cell_type": "code",
      "execution_count": null,
      "metadata": {
        "id": "IEuzX1q2NyNt",
        "outputId": "ad01dd92-a547-4d91-a44e-e2d0450353af"
      },
      "outputs": [
        {
          "data": {
            "text/plain": [
              "[0, 0, 0, 0, 0, 0, 0, 0, 0, 0]"
            ]
          },
          "execution_count": 1,
          "metadata": {},
          "output_type": "execute_result"
        }
      ],
      "source": [
        "hash_table = list([i for i in range(10)])\n",
        "hash_table"
      ]
    },
    {
      "cell_type": "markdown",
      "metadata": {
        "id": "ZY8LmKWBNyNw"
      },
      "source": [
        "#### 3.2. 이번엔 초간단 해쉬 함수를 만들어봅니다.\n",
        "- 다양한 해쉬 함수 고안 기법이 있으며, 가장 간단한 방식이 Division 법 (나누기를 통한 나머지 값을 사용하는 기법)"
      ]
    },
    {
      "cell_type": "code",
      "execution_count": null,
      "metadata": {
        "id": "DJIO_M9eNyNx"
      },
      "outputs": [],
      "source": [
        "def hash_func(key):\n",
        "    return key % 5"
      ]
    },
    {
      "cell_type": "markdown",
      "metadata": {
        "id": "w_3tFLBANyNy"
      },
      "source": [
        "#### 3.3. 해쉬 테이블에 저장해보겠습니다.\n",
        "- 데이터에 따라 필요시 key 생성 방법 정의가 필요함"
      ]
    },
    {
      "cell_type": "code",
      "execution_count": null,
      "metadata": {
        "id": "lBtltxCZNyNz",
        "outputId": "4e24a29e-a8d2-4da8-dfe4-b4804f09f12f"
      },
      "outputs": [
        {
          "name": "stdout",
          "output_type": "stream",
          "text": [
            "65 68 84\n",
            "65 0\n",
            "65 65\n"
          ]
        }
      ],
      "source": [
        "data1 = 'Andy'\n",
        "data2 = 'Dave'\n",
        "data3 = 'Trump'\n",
        "data4 = 'Anthor'\n",
        "## ord(): 문자의 ASCII(아스키)코드 리턴\n",
        "print (ord(data1[0]), ord(data2[0]), ord(data3[0]))\n",
        "print (ord(data1[0]), hash_func(ord(data1[0])))\n",
        "print (ord(data1[0]), ord(data4[0]))"
      ]
    },
    {
      "cell_type": "markdown",
      "metadata": {
        "id": "eF3KveANNyN0"
      },
      "source": [
        "- 3.3.2. 해쉬 테이블에 값 저장 예\n",
        "  - data:value 와 같이 data 와 value를 넣으면, 해당 data에 대한 key를 찾아서, 해당 key에 대응하는 해쉬주소에 value를 저장하는 예"
      ]
    },
    {
      "cell_type": "code",
      "execution_count": null,
      "metadata": {
        "id": "TxXuCSHrNyN1"
      },
      "outputs": [],
      "source": [
        "def storage_data(data, value):\n",
        "    key = ord(data[0])\n",
        "    hash_address = hash_func(key)\n",
        "    hash_table[hash_address] = value"
      ]
    },
    {
      "cell_type": "markdown",
      "metadata": {
        "id": "z0o6frBeNyN1"
      },
      "source": [
        "#### 3.4. 해쉬 테이블에서 특정 주소의 데이터를 가져오는 함수도 만들어봅니다."
      ]
    },
    {
      "cell_type": "code",
      "execution_count": null,
      "metadata": {
        "id": "Zld7dChqNyN1"
      },
      "outputs": [],
      "source": [
        "storage_data('Andy', '01055553333')\n",
        "storage_data('Dave', '01044443333')\n",
        "storage_data('Trump', '01022223333')"
      ]
    },
    {
      "cell_type": "markdown",
      "metadata": {
        "id": "0bq6b9aPNyN2"
      },
      "source": [
        "#### 3.5. 실제 데이터를 저장하고, 읽어보겠습니다."
      ]
    },
    {
      "cell_type": "code",
      "execution_count": null,
      "metadata": {
        "id": "SRj3sIJaNyN2"
      },
      "outputs": [],
      "source": [
        "def get_data(data):\n",
        "    key = ord(data[0])\n",
        "    hash_address = hash_func(key)\n",
        "    return hash_table[hash_address]"
      ]
    },
    {
      "cell_type": "code",
      "execution_count": null,
      "metadata": {
        "id": "QnbMqSu_NyN2",
        "outputId": "b185f094-1156-47f1-ba7d-189b1eb02ba4"
      },
      "outputs": [
        {
          "data": {
            "text/plain": [
              "'01055553333'"
            ]
          },
          "execution_count": 14,
          "metadata": {},
          "output_type": "execute_result"
        }
      ],
      "source": [
        "get_data('Andy')"
      ]
    },
    {
      "cell_type": "markdown",
      "metadata": {
        "id": "ZxKRuzZdNyN3"
      },
      "source": [
        "### 4. 자료 구조 해쉬 테이블의 장단점과 주요 용도\n",
        "- 장점\n",
        "  - 데이터 저장/읽기 속도가 빠르다. (검색 속도가 빠르다.)\n",
        "  - 해쉬는 키에 대한 데이터가 있는지(중복) 확인이 쉬움\n",
        "- 단점 \n",
        "  - 일반적으로 저장공간이 좀더 많이 필요하다.\n",
        "  - **여러 키에 해당하는 주소가 동일할 경우 충돌을 해결하기 위한 별도 자료구조가 필요함**\n",
        "- 주요 용도\n",
        "  - 검색이 많이 필요한 경우\n",
        "  - 저장, 삭제, 읽기가 빈번한 경우\n",
        "  - 캐쉬 구현시 (중복 확인이 쉽기 때문)"
      ]
    },
    {
      "cell_type": "markdown",
      "metadata": {
        "id": "GeFvI_vINyN3"
      },
      "source": [
        "### 5. 프로그래밍 연습"
      ]
    },
    {
      "cell_type": "markdown",
      "metadata": {
        "id": "z9EAVrkoNyN3"
      },
      "source": [
        "<div class=\"alert alert-block alert-warning\">\n",
        "<strong><font color=\"blue\" size=\"3em\">연습1: 리스트 변수를 활용해서 해쉬 테이블 구현해보기</font></strong><br>\n",
        "1. 해쉬 함수: key % 8<br>\n",
        "2. 해쉬 키 생성: hash(data)\n",
        "</div>"
      ]
    },
    {
      "cell_type": "code",
      "execution_count": null,
      "metadata": {
        "id": "utjP9n_MNyN4"
      },
      "outputs": [],
      "source": [
        "hash_table = list([0 for i in range(8)])\n",
        "\n",
        "def get_key(data):\n",
        "    return hash(data)\n",
        "\n",
        "def hash_function(key):\n",
        "    return key % 8\n",
        "\n",
        "def save_data(data, value):\n",
        "    hash_address = hash_function(get_key(data))\n",
        "    hash_table[hash_address] = value\n",
        "    \n",
        "def read_data(data):\n",
        "    hash_address = hash_function(get_key(data))\n",
        "    return hash_table[hash_address]\n"
      ]
    },
    {
      "cell_type": "code",
      "execution_count": null,
      "metadata": {
        "id": "hbwZG0i7NyN4",
        "outputId": "7b5f8a51-fa71-4d88-ec45-08088de6aa71"
      },
      "outputs": [
        {
          "data": {
            "text/plain": [
              "'0102030200'"
            ]
          },
          "execution_count": 18,
          "metadata": {},
          "output_type": "execute_result"
        }
      ],
      "source": [
        "save_data('Dave', '0102030200')\n",
        "save_data('Andy', '01033232200')\n",
        "read_data('Dave')"
      ]
    },
    {
      "cell_type": "code",
      "execution_count": null,
      "metadata": {
        "id": "Z8UnNo2yNyN4",
        "outputId": "15a46e46-49b3-475f-b80b-399f42f80da7"
      },
      "outputs": [
        {
          "data": {
            "text/plain": [
              "['0102030200', 0, 0, 0, 0, 0, 0, '01033232200']"
            ]
          },
          "execution_count": 19,
          "metadata": {},
          "output_type": "execute_result"
        }
      ],
      "source": [
        "hash_table"
      ]
    },
    {
      "cell_type": "markdown",
      "metadata": {
        "id": "Ti8neLYSNyN5"
      },
      "source": [
        "### 6. 충돌(Collision) 해결 알고리즘 (좋은 해쉬 함수 사용하기)\n",
        "> 해쉬 테이블의 가장 큰 문제는 충돌(Collision)의 경우입니다.\n",
        "> 이 문제를 충돌(Collision) 또는 해쉬 충돌(Hash Collision)이라고 부릅니다."
      ]
    },
    {
      "cell_type": "markdown",
      "metadata": {
        "id": "AWwIQrkuNyN5"
      },
      "source": [
        "#### 6.1. Chaining 기법\n",
        "- **개방 해슁 또는 Open Hashing 기법** 중 하나: 해쉬 테이블 저장공간 외의 공간을 활용하는 기법\n",
        "- 충돌이 일어나면, 링크드 리스트라는 자료 구조를 사용해서, 링크드 리스트로 데이터를 추가로 뒤에 연결시켜서 저장하는 기법"
      ]
    },
    {
      "cell_type": "markdown",
      "metadata": {
        "id": "SPXy-qo7NyN5"
      },
      "source": [
        "<div class=\"alert alert-block alert-warning\">\n",
        "<strong><font color=\"blue\" size=\"3em\">연습2: 연습1의 해쉬 테이블 코드에 Chaining 기법으로 충돌해결 코드를 추가해보기</font></strong><br>\n",
        "1. 해쉬 함수: key % 8<br>\n",
        "2. 해쉬 키 생성: hash(data)\n",
        "</div>"
      ]
    },
    {
      "cell_type": "code",
      "execution_count": null,
      "metadata": {
        "id": "kEcFPoumNyN6"
      },
      "outputs": [],
      "source": [
        "hash_table = list([0 for i in range(8)])\n",
        "\n",
        "def get_key(data):\n",
        "    return hash(data)\n",
        "\n",
        "def hash_function(key):\n",
        "    return key % 8\n",
        "\n",
        "def save_data(data, value):\n",
        "    index_key = get_key(data)\n",
        "    hash_address = hash_function(index_key)\n",
        "    if hash_table[hash_address] != 0:\n",
        "        for index in range(len(hash_table[hash_address])):\n",
        "            if hash_table[hash_address][index][0] == index_key:\n",
        "                hash_table[hash_address][index][1] = value\n",
        "                return\n",
        "        hash_table[hash_address].append([index_key, value])\n",
        "    else:\n",
        "        hash_table[hash_address] = [[index_key, value]]\n",
        "    \n",
        "def read_data(data):\n",
        "    index_key = get_key(data)\n",
        "    hash_address = hash_function(index_key)\n",
        "\n",
        "    if hash_table[hash_address] != 0:\n",
        "        for index in range(len(hash_table[hash_address])):\n",
        "            if hash_table[hash_address][index][0] == index_key:\n",
        "                return hash_table[hash_address][index][1]\n",
        "        return None\n",
        "    else:\n",
        "        return None\n"
      ]
    },
    {
      "cell_type": "code",
      "execution_count": null,
      "metadata": {
        "id": "sdZJbKkbNyN6",
        "outputId": "c5b7259a-f5a8-4db2-a457-33c91c70de19"
      },
      "outputs": [
        {
          "name": "stdout",
          "output_type": "stream",
          "text": [
            "0\n",
            "2\n",
            "2\n"
          ]
        }
      ],
      "source": [
        "print (hash('Dave') % 8)\n",
        "print (hash('Dd') % 8)\n",
        "print (hash('Data') % 8)"
      ]
    },
    {
      "cell_type": "code",
      "execution_count": null,
      "metadata": {
        "id": "GXS8sWyeNyN6",
        "outputId": "e859d708-37f2-4cb6-e074-21f5c5571605"
      },
      "outputs": [
        {
          "data": {
            "text/plain": [
              "'1201023010'"
            ]
          },
          "execution_count": 45,
          "metadata": {},
          "output_type": "execute_result"
        }
      ],
      "source": [
        "save_data('Dd', '1201023010')\n",
        "save_data('Data', '3301023010')\n",
        "read_data('Dd')"
      ]
    },
    {
      "cell_type": "code",
      "execution_count": null,
      "metadata": {
        "id": "iO6h3F_cNyN7",
        "outputId": "4fdaac9a-9e50-4a8c-c5d3-45408166263e"
      },
      "outputs": [
        {
          "data": {
            "text/plain": [
              "[0,\n",
              " 0,\n",
              " [[1341610532875195530, '1201023010'], [-9031202661634252870, '3301023010']],\n",
              " 0,\n",
              " 0,\n",
              " 0,\n",
              " 0,\n",
              " 0]"
            ]
          },
          "execution_count": 46,
          "metadata": {},
          "output_type": "execute_result"
        }
      ],
      "source": [
        "hash_table"
      ]
    },
    {
      "cell_type": "markdown",
      "metadata": {
        "id": "blH6-lZCNyN7"
      },
      "source": [
        "#### 6.2. Linear Probing 기법\n",
        "- **폐쇄 해슁 또는 Close Hashing 기법** 중 하나: 해쉬 테이블 저장공간 안에서 충돌 문제를 해결하는 기법\n",
        "- 충돌이 일어나면, 해당 hash address의 다음 address부터 맨 처음 나오는 빈공간에 저장하는 기법\n",
        "  - 저장공간 활용도를 높이기 위한 기법"
      ]
    },
    {
      "cell_type": "markdown",
      "metadata": {
        "id": "enXyGvhSNyN7"
      },
      "source": [
        "<div class=\"alert alert-block alert-warning\">\n",
        "<strong><font color=\"blue\" size=\"3em\">연습3: 연습1의 해쉬 테이블 코드에 Linear Probling 기법으로 충돌해결 코드를 추가해보기</font></strong><br>\n",
        "1. 해쉬 함수: key % 8<br>\n",
        "2. 해쉬 키 생성: hash(data)\n",
        "</div>"
      ]
    },
    {
      "cell_type": "code",
      "execution_count": null,
      "metadata": {
        "id": "0Hpvv-0KNyN8"
      },
      "outputs": [],
      "source": [
        "hash_table = list([0 for i in range(8)])\n",
        "\n",
        "def get_key(data):\n",
        "    return hash(data)\n",
        "\n",
        "def hash_function(key):\n",
        "    return key % 8\n",
        "\n",
        "def save_data(data, value):\n",
        "    index_key = get_key(data)\n",
        "    hash_address = hash_function(index_key)\n",
        "    if hash_table[hash_address] != 0:\n",
        "        for index in range(hash_address, len(hash_table)):\n",
        "            if hash_table[index] == 0:\n",
        "                hash_table[index] = [index_key, value]\n",
        "                return\n",
        "            elif hash_table[index][0] == index_key:\n",
        "                hash_table[index][1] = value\n",
        "                return\n",
        "    else:\n",
        "        hash_table[hash_address] = [index_key, value]\n",
        "\n",
        "def read_data(data):\n",
        "    index_key = get_key(data)\n",
        "    hash_address = hash_function(index_key)\n",
        "    \n",
        "    if hash_table[hash_address] != 0:\n",
        "        for index in range(hash_address, len(hash_table)):\n",
        "            if hash_table[index] == 0:\n",
        "                return None\n",
        "            elif hash_table[index][0] == index_key:\n",
        "                return hash_table[index][1]\n",
        "    else:\n",
        "        return None\n"
      ]
    },
    {
      "cell_type": "code",
      "execution_count": null,
      "metadata": {
        "id": "R5aTZjbSNyN8",
        "outputId": "4ac65721-91f9-4316-ca6b-a1dcce31c9ca"
      },
      "outputs": [
        {
          "name": "stdout",
          "output_type": "stream",
          "text": [
            "4\n",
            "4\n",
            "4\n"
          ]
        }
      ],
      "source": [
        "print (hash('dk') % 8)\n",
        "print (hash('da') % 8)\n",
        "print (hash('dc') % 8)"
      ]
    },
    {
      "cell_type": "code",
      "execution_count": null,
      "metadata": {
        "id": "FXXx6TakNyN9"
      },
      "outputs": [],
      "source": [
        "save_data('dk', '01200123123')\n",
        "save_data('da', '3333333333')\n",
        "read_data('dc')"
      ]
    },
    {
      "cell_type": "markdown",
      "metadata": {
        "id": "15E7C0XqNyN9"
      },
      "source": [
        "#### 6.3. 빈번한 충돌을 개선하는 기법\n",
        "- 해쉬 함수을 재정의 및 해쉬 테이블 저장공간을 확대\n",
        "- 예:\n",
        "\n",
        "```python\n",
        "hash_table = list([None for i in range(16)])\n",
        "\n",
        "def hash_function(key):\n",
        "    return key % 16\n",
        "```"
      ]
    },
    {
      "cell_type": "markdown",
      "metadata": {
        "id": "8KZNnXnQNyN-"
      },
      "source": [
        "### 참고: 해쉬 함수와 키 생성 함수\n",
        "- 파이썬의 hash() 함수는 실행할 때마다, 값이 달라질 수 있음\n",
        "- 유명한 해쉬 함수들이 있음: SHA(Secure Hash Algorithm, 안전한 해시 알고리즘)\n",
        "  - 어떤 데이터도 유일한 고정된 크기의 고정값을 리턴해주므로, 해쉬 함수로 유용하게 활용 가능"
      ]
    },
    {
      "cell_type": "markdown",
      "metadata": {
        "id": "J_TaBjEHNyN-"
      },
      "source": [
        "#### SHA-1"
      ]
    },
    {
      "cell_type": "code",
      "execution_count": null,
      "metadata": {
        "id": "beP2G5gaNyN-",
        "outputId": "bf873a10-99df-4cff-9653-cf82db03dd5f"
      },
      "outputs": [
        {
          "name": "stdout",
          "output_type": "stream",
          "text": [
            "a94a8fe5ccb19ba61c4c0873d391e987982fbbd3\n"
          ]
        }
      ],
      "source": [
        "import hashlib\n",
        "\n",
        "data = 'test'.encode()\n",
        "hash_object = hashlib.sha1()\n",
        "hash_object.update(data)\n",
        "hex_dig = hash_object.hexdigest()\n",
        "print (hex_dig)"
      ]
    },
    {
      "cell_type": "markdown",
      "metadata": {
        "id": "sfoWrAQ0NyN_"
      },
      "source": [
        "#### SHA-256"
      ]
    },
    {
      "cell_type": "code",
      "execution_count": null,
      "metadata": {
        "id": "7eXSpUYgNyOA",
        "outputId": "b6ac6861-8c85-4c01-a83b-6cad032199a4"
      },
      "outputs": [
        {
          "name": "stdout",
          "output_type": "stream",
          "text": [
            "9f86d081884c7d659a2feaa0c55ad015a3bf4f1b2b0b822cd15d6c15b0f00a08\n"
          ]
        }
      ],
      "source": [
        "import hashlib\n",
        "\n",
        "data = 'test'.encode()\n",
        "hash_object = hashlib.sha256()\n",
        "hash_object.update(data)\n",
        "hex_dig = hash_object.hexdigest()\n",
        "print (hex_dig)"
      ]
    },
    {
      "cell_type": "markdown",
      "metadata": {
        "id": "BogSjRuPNyOA"
      },
      "source": [
        "<div class=\"alert alert-block alert-warning\">\n",
        "<strong><font color=\"blue\" size=\"3em\">연습4: 연습2의 Chaining 기법을 적용한 해쉬 테이블 코드에 키 생성 함수를 sha256 해쉬 알고리즘을 사용하도록 변경해보기</font></strong><br>\n",
        "1. 해쉬 함수: key % 8<br>\n",
        "2. 해쉬 키 생성: hash(data)\n",
        "</div>"
      ]
    },
    {
      "cell_type": "code",
      "execution_count": null,
      "metadata": {
        "id": "513NL-D9NyOB"
      },
      "outputs": [],
      "source": [
        "import hashlib\n",
        "\n",
        "hash_table = list([0 for i in range(8)])\n",
        "\n",
        "def get_key(data):\n",
        "        hash_object = hashlib.sha256()\n",
        "        hash_object.update(data.encode())\n",
        "        hex_dig = hash_object.hexdigest()\n",
        "        return int(hex_dig, 16)\n",
        "\n",
        "def hash_function(key):\n",
        "    return key % 8\n",
        "\n",
        "def save_data(data, value):\n",
        "    index_key = get_key(data)\n",
        "    hash_address = hash_function(index_key)\n",
        "    if hash_table[hash_address] != 0:\n",
        "        for index in range(hash_address, len(hash_table)):\n",
        "            if hash_table[index] == 0:\n",
        "                hash_table[index] = [index_key, value]\n",
        "                return\n",
        "            elif hash_table[index][0] == index_key:\n",
        "                hash_table[index][1] = value\n",
        "                return\n",
        "    else:\n",
        "        hash_table[hash_address] = [index_key, value]\n",
        "\n",
        "def read_data(data):\n",
        "    index_key = get_key(data)\n",
        "    hash_address = hash_function(index_key)\n",
        "    \n",
        "    if hash_table[hash_address] != 0:\n",
        "        for index in range(hash_address, len(hash_table)):\n",
        "            if hash_table[index] == 0:\n",
        "                return None\n",
        "            elif hash_table[index][0] == index_key:\n",
        "                return hash_table[index][1]\n",
        "    else:\n",
        "        return None\n"
      ]
    },
    {
      "cell_type": "code",
      "execution_count": null,
      "metadata": {
        "id": "1iW0yCojNyOB",
        "outputId": "238c0544-6a59-4456-d300-bf0c25e2f44c"
      },
      "outputs": [
        {
          "name": "stdout",
          "output_type": "stream",
          "text": [
            "1\n",
            "2\n",
            "2\n"
          ]
        }
      ],
      "source": [
        "print (get_key('db') % 8)\n",
        "print (get_key('da') % 8)\n",
        "print (get_key('dh') % 8)"
      ]
    },
    {
      "cell_type": "code",
      "execution_count": null,
      "metadata": {
        "id": "nHtsMo1kNyOC",
        "outputId": "79a449c3-c7f3-4ff0-9c9b-a31bddca94c3"
      },
      "outputs": [
        {
          "data": {
            "text/plain": [
              "'3333333333'"
            ]
          },
          "execution_count": 47,
          "metadata": {},
          "output_type": "execute_result"
        }
      ],
      "source": [
        "save_data('da', '01200123123')\n",
        "save_data('dh', '3333333333')\n",
        "read_data('dh')"
      ]
    },
    {
      "cell_type": "markdown",
      "metadata": {
        "id": "bj5KrqHGNyOC"
      },
      "source": [
        "### 7. 시간 복잡도\n",
        "- 일반적인 경우(Collision이 없는 경우)는 O(1)\n",
        "- 최악의 경우(Collision이 모두 발생하는 경우)는 O(n)\n",
        "\n",
        "> 해쉬 테이블의 경우, 일반적인 경우를 기대하고 만들기 때문에, 시간 복잡도는 O(1) 이라고 말할 수 있음\n",
        "\n",
        "### 검색에서 해쉬 테이블의 사용 예\n",
        "- 16개의 배열에 데이터를 저장하고, 검색할 때 O(n)\n",
        "- 16개의 데이터 저장공간을 가진 위의 해쉬 테이블에 데이터를 저장하고, 검색할 때 O(1)"
      ]
    }
  ],
  "metadata": {
    "kernelspec": {
      "display_name": "Python 3",
      "language": "python",
      "name": "python3"
    },
    "language_info": {
      "codemirror_mode": {
        "name": "ipython",
        "version": 3
      },
      "file_extension": ".py",
      "mimetype": "text/x-python",
      "name": "python",
      "nbconvert_exporter": "python",
      "pygments_lexer": "ipython3",
      "version": "3.7.2"
    },
    "nbTranslate": {
      "displayLangs": [
        "*"
      ],
      "hotkey": "alt-t",
      "langInMainMenu": true,
      "sourceLang": "en",
      "targetLang": "fr",
      "useGoogleTranslate": true
    },
    "colab": {
      "name": "해쉬 테이블-live.ipynb",
      "provenance": []
    }
  },
  "nbformat": 4,
  "nbformat_minor": 0
}