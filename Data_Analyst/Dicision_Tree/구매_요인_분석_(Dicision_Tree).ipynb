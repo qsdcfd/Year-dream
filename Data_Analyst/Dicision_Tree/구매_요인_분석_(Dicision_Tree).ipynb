{
  "nbformat": 4,
  "nbformat_minor": 0,
  "metadata": {
    "colab": {
      "name": "구매 요인 분석 (Dicision Tree)",
      "provenance": [],
      "authorship_tag": "ABX9TyOLgHEH/Yun2Lb8VgawdaKi"
    },
    "kernelspec": {
      "name": "python3",
      "display_name": "Python 3"
    },
    "language_info": {
      "name": "python"
    }
  },
  "cells": [
    {
      "cell_type": "markdown",
      "source": [
        "### 분석\n",
        "\n",
        "- 디시젼 트리\n",
        "\n",
        "- 온라인 사이트 경매 데이터\n",
        "\n",
        "- 판매여부 예측\n",
        "\n",
        "- 변수의 영향도 확인"
      ],
      "metadata": {
        "id": "zCcqfqjZXCPY"
      }
    },
    {
      "cell_type": "markdown",
      "source": [
        "### Data Load"
      ],
      "metadata": {
        "id": "mheIqaubYq0g"
      }
    },
    {
      "cell_type": "code",
      "execution_count": 1,
      "metadata": {
        "id": "4xLF7vq9WyYA"
      },
      "outputs": [],
      "source": [
        "import pandas as pd\n",
        "import numpy as np\n",
        "import matplotlib.pyplot as plt\n",
        "import seaborn as sns"
      ]
    },
    {
      "cell_type": "code",
      "source": [
        "data = pd.read_csv('/content/galaxy.csv')\n",
        "data.head()"
      ],
      "metadata": {
        "colab": {
          "base_uri": "https://localhost:8080/",
          "height": 340
        },
        "id": "iIkugKEsXYAS",
        "outputId": "7f534423-d436-4691-f219-b793223fcc8e"
      },
      "execution_count": 2,
      "outputs": [
        {
          "output_type": "execute_result",
          "data": {
            "text/plain": [
              "   BuyItNow  startprice carrier       color   productline  \\\n",
              "0         0      199.99    None       White     Galaxy_S9   \n",
              "1         0      235.00    None         NaN  Galaxy_Note9   \n",
              "2         0      199.99     NaN         NaN       Unknown   \n",
              "3         1      175.00    AT&T  Space Gray  Galaxy_Note9   \n",
              "4         1      100.00    None  Space Gray     Galaxy_S8   \n",
              "\n",
              "          noDescription  charCountDescription  upperCaseDescription  sold  \n",
              "0  contains description                     0                     0     1  \n",
              "1  contains description                     0                     0     0  \n",
              "2        no description                   100                     2     0  \n",
              "3  contains description                     0                     0     1  \n",
              "4  contains description                     0                     0     1  "
            ],
            "text/html": [
              "\n",
              "  <div id=\"df-43553b29-1bab-4cf9-932e-24fcbd9d7e57\">\n",
              "    <div class=\"colab-df-container\">\n",
              "      <div>\n",
              "<style scoped>\n",
              "    .dataframe tbody tr th:only-of-type {\n",
              "        vertical-align: middle;\n",
              "    }\n",
              "\n",
              "    .dataframe tbody tr th {\n",
              "        vertical-align: top;\n",
              "    }\n",
              "\n",
              "    .dataframe thead th {\n",
              "        text-align: right;\n",
              "    }\n",
              "</style>\n",
              "<table border=\"1\" class=\"dataframe\">\n",
              "  <thead>\n",
              "    <tr style=\"text-align: right;\">\n",
              "      <th></th>\n",
              "      <th>BuyItNow</th>\n",
              "      <th>startprice</th>\n",
              "      <th>carrier</th>\n",
              "      <th>color</th>\n",
              "      <th>productline</th>\n",
              "      <th>noDescription</th>\n",
              "      <th>charCountDescription</th>\n",
              "      <th>upperCaseDescription</th>\n",
              "      <th>sold</th>\n",
              "    </tr>\n",
              "  </thead>\n",
              "  <tbody>\n",
              "    <tr>\n",
              "      <th>0</th>\n",
              "      <td>0</td>\n",
              "      <td>199.99</td>\n",
              "      <td>None</td>\n",
              "      <td>White</td>\n",
              "      <td>Galaxy_S9</td>\n",
              "      <td>contains description</td>\n",
              "      <td>0</td>\n",
              "      <td>0</td>\n",
              "      <td>1</td>\n",
              "    </tr>\n",
              "    <tr>\n",
              "      <th>1</th>\n",
              "      <td>0</td>\n",
              "      <td>235.00</td>\n",
              "      <td>None</td>\n",
              "      <td>NaN</td>\n",
              "      <td>Galaxy_Note9</td>\n",
              "      <td>contains description</td>\n",
              "      <td>0</td>\n",
              "      <td>0</td>\n",
              "      <td>0</td>\n",
              "    </tr>\n",
              "    <tr>\n",
              "      <th>2</th>\n",
              "      <td>0</td>\n",
              "      <td>199.99</td>\n",
              "      <td>NaN</td>\n",
              "      <td>NaN</td>\n",
              "      <td>Unknown</td>\n",
              "      <td>no description</td>\n",
              "      <td>100</td>\n",
              "      <td>2</td>\n",
              "      <td>0</td>\n",
              "    </tr>\n",
              "    <tr>\n",
              "      <th>3</th>\n",
              "      <td>1</td>\n",
              "      <td>175.00</td>\n",
              "      <td>AT&amp;T</td>\n",
              "      <td>Space Gray</td>\n",
              "      <td>Galaxy_Note9</td>\n",
              "      <td>contains description</td>\n",
              "      <td>0</td>\n",
              "      <td>0</td>\n",
              "      <td>1</td>\n",
              "    </tr>\n",
              "    <tr>\n",
              "      <th>4</th>\n",
              "      <td>1</td>\n",
              "      <td>100.00</td>\n",
              "      <td>None</td>\n",
              "      <td>Space Gray</td>\n",
              "      <td>Galaxy_S8</td>\n",
              "      <td>contains description</td>\n",
              "      <td>0</td>\n",
              "      <td>0</td>\n",
              "      <td>1</td>\n",
              "    </tr>\n",
              "  </tbody>\n",
              "</table>\n",
              "</div>\n",
              "      <button class=\"colab-df-convert\" onclick=\"convertToInteractive('df-43553b29-1bab-4cf9-932e-24fcbd9d7e57')\"\n",
              "              title=\"Convert this dataframe to an interactive table.\"\n",
              "              style=\"display:none;\">\n",
              "        \n",
              "  <svg xmlns=\"http://www.w3.org/2000/svg\" height=\"24px\"viewBox=\"0 0 24 24\"\n",
              "       width=\"24px\">\n",
              "    <path d=\"M0 0h24v24H0V0z\" fill=\"none\"/>\n",
              "    <path d=\"M18.56 5.44l.94 2.06.94-2.06 2.06-.94-2.06-.94-.94-2.06-.94 2.06-2.06.94zm-11 1L8.5 8.5l.94-2.06 2.06-.94-2.06-.94L8.5 2.5l-.94 2.06-2.06.94zm10 10l.94 2.06.94-2.06 2.06-.94-2.06-.94-.94-2.06-.94 2.06-2.06.94z\"/><path d=\"M17.41 7.96l-1.37-1.37c-.4-.4-.92-.59-1.43-.59-.52 0-1.04.2-1.43.59L10.3 9.45l-7.72 7.72c-.78.78-.78 2.05 0 2.83L4 21.41c.39.39.9.59 1.41.59.51 0 1.02-.2 1.41-.59l7.78-7.78 2.81-2.81c.8-.78.8-2.07 0-2.86zM5.41 20L4 18.59l7.72-7.72 1.47 1.35L5.41 20z\"/>\n",
              "  </svg>\n",
              "      </button>\n",
              "      \n",
              "  <style>\n",
              "    .colab-df-container {\n",
              "      display:flex;\n",
              "      flex-wrap:wrap;\n",
              "      gap: 12px;\n",
              "    }\n",
              "\n",
              "    .colab-df-convert {\n",
              "      background-color: #E8F0FE;\n",
              "      border: none;\n",
              "      border-radius: 50%;\n",
              "      cursor: pointer;\n",
              "      display: none;\n",
              "      fill: #1967D2;\n",
              "      height: 32px;\n",
              "      padding: 0 0 0 0;\n",
              "      width: 32px;\n",
              "    }\n",
              "\n",
              "    .colab-df-convert:hover {\n",
              "      background-color: #E2EBFA;\n",
              "      box-shadow: 0px 1px 2px rgba(60, 64, 67, 0.3), 0px 1px 3px 1px rgba(60, 64, 67, 0.15);\n",
              "      fill: #174EA6;\n",
              "    }\n",
              "\n",
              "    [theme=dark] .colab-df-convert {\n",
              "      background-color: #3B4455;\n",
              "      fill: #D2E3FC;\n",
              "    }\n",
              "\n",
              "    [theme=dark] .colab-df-convert:hover {\n",
              "      background-color: #434B5C;\n",
              "      box-shadow: 0px 1px 3px 1px rgba(0, 0, 0, 0.15);\n",
              "      filter: drop-shadow(0px 1px 2px rgba(0, 0, 0, 0.3));\n",
              "      fill: #FFFFFF;\n",
              "    }\n",
              "  </style>\n",
              "\n",
              "      <script>\n",
              "        const buttonEl =\n",
              "          document.querySelector('#df-43553b29-1bab-4cf9-932e-24fcbd9d7e57 button.colab-df-convert');\n",
              "        buttonEl.style.display =\n",
              "          google.colab.kernel.accessAllowed ? 'block' : 'none';\n",
              "\n",
              "        async function convertToInteractive(key) {\n",
              "          const element = document.querySelector('#df-43553b29-1bab-4cf9-932e-24fcbd9d7e57');\n",
              "          const dataTable =\n",
              "            await google.colab.kernel.invokeFunction('convertToInteractive',\n",
              "                                                     [key], {});\n",
              "          if (!dataTable) return;\n",
              "\n",
              "          const docLinkHtml = 'Like what you see? Visit the ' +\n",
              "            '<a target=\"_blank\" href=https://colab.research.google.com/notebooks/data_table.ipynb>data table notebook</a>'\n",
              "            + ' to learn more about interactive tables.';\n",
              "          element.innerHTML = '';\n",
              "          dataTable['output_type'] = 'display_data';\n",
              "          await google.colab.output.renderOutput(dataTable, element);\n",
              "          const docLink = document.createElement('div');\n",
              "          docLink.innerHTML = docLinkHtml;\n",
              "          element.appendChild(docLink);\n",
              "        }\n",
              "      </script>\n",
              "    </div>\n",
              "  </div>\n",
              "  "
            ]
          },
          "metadata": {},
          "execution_count": 2
        }
      ]
    },
    {
      "cell_type": "code",
      "source": [
        "data.info()"
      ],
      "metadata": {
        "colab": {
          "base_uri": "https://localhost:8080/"
        },
        "id": "jIEDPnjaXYcN",
        "outputId": "ad60322e-3af7-409e-f9b7-29832f102ac6"
      },
      "execution_count": 3,
      "outputs": [
        {
          "output_type": "stream",
          "name": "stdout",
          "text": [
            "<class 'pandas.core.frame.DataFrame'>\n",
            "RangeIndex: 1485 entries, 0 to 1484\n",
            "Data columns (total 9 columns):\n",
            " #   Column                Non-Null Count  Dtype  \n",
            "---  ------                --------------  -----  \n",
            " 0   BuyItNow              1485 non-null   int64  \n",
            " 1   startprice            1485 non-null   float64\n",
            " 2   carrier               1179 non-null   object \n",
            " 3   color                 892 non-null    object \n",
            " 4   productline           1485 non-null   object \n",
            " 5   noDescription         1485 non-null   object \n",
            " 6   charCountDescription  1485 non-null   int64  \n",
            " 7   upperCaseDescription  1485 non-null   int64  \n",
            " 8   sold                  1485 non-null   int64  \n",
            "dtypes: float64(1), int64(4), object(4)\n",
            "memory usage: 104.5+ KB\n"
          ]
        }
      ]
    },
    {
      "cell_type": "code",
      "source": [
        "data.describe()"
      ],
      "metadata": {
        "colab": {
          "base_uri": "https://localhost:8080/",
          "height": 300
        },
        "id": "jSZcpuqgXYee",
        "outputId": "be26ec0f-3837-43c8-e0db-264dc152d2a2"
      },
      "execution_count": 4,
      "outputs": [
        {
          "output_type": "execute_result",
          "data": {
            "text/plain": [
              "          BuyItNow   startprice  charCountDescription  upperCaseDescription  \\\n",
              "count  1485.000000  1485.000000           1485.000000           1485.000000   \n",
              "mean      0.449158   216.844162             31.184512              2.863300   \n",
              "std       0.497576   172.893308             41.744518              9.418585   \n",
              "min       0.000000     0.010000              0.000000              0.000000   \n",
              "25%       0.000000    80.000000              0.000000              0.000000   \n",
              "50%       0.000000   198.000000              0.000000              0.000000   \n",
              "75%       1.000000   310.000000             79.000000              2.000000   \n",
              "max       1.000000   999.000000            111.000000             81.000000   \n",
              "\n",
              "              sold  \n",
              "count  1485.000000  \n",
              "mean      0.461953  \n",
              "std       0.498718  \n",
              "min       0.000000  \n",
              "25%       0.000000  \n",
              "50%       0.000000  \n",
              "75%       1.000000  \n",
              "max       1.000000  "
            ],
            "text/html": [
              "\n",
              "  <div id=\"df-658f0d39-8445-4128-94db-68175df1d786\">\n",
              "    <div class=\"colab-df-container\">\n",
              "      <div>\n",
              "<style scoped>\n",
              "    .dataframe tbody tr th:only-of-type {\n",
              "        vertical-align: middle;\n",
              "    }\n",
              "\n",
              "    .dataframe tbody tr th {\n",
              "        vertical-align: top;\n",
              "    }\n",
              "\n",
              "    .dataframe thead th {\n",
              "        text-align: right;\n",
              "    }\n",
              "</style>\n",
              "<table border=\"1\" class=\"dataframe\">\n",
              "  <thead>\n",
              "    <tr style=\"text-align: right;\">\n",
              "      <th></th>\n",
              "      <th>BuyItNow</th>\n",
              "      <th>startprice</th>\n",
              "      <th>charCountDescription</th>\n",
              "      <th>upperCaseDescription</th>\n",
              "      <th>sold</th>\n",
              "    </tr>\n",
              "  </thead>\n",
              "  <tbody>\n",
              "    <tr>\n",
              "      <th>count</th>\n",
              "      <td>1485.000000</td>\n",
              "      <td>1485.000000</td>\n",
              "      <td>1485.000000</td>\n",
              "      <td>1485.000000</td>\n",
              "      <td>1485.000000</td>\n",
              "    </tr>\n",
              "    <tr>\n",
              "      <th>mean</th>\n",
              "      <td>0.449158</td>\n",
              "      <td>216.844162</td>\n",
              "      <td>31.184512</td>\n",
              "      <td>2.863300</td>\n",
              "      <td>0.461953</td>\n",
              "    </tr>\n",
              "    <tr>\n",
              "      <th>std</th>\n",
              "      <td>0.497576</td>\n",
              "      <td>172.893308</td>\n",
              "      <td>41.744518</td>\n",
              "      <td>9.418585</td>\n",
              "      <td>0.498718</td>\n",
              "    </tr>\n",
              "    <tr>\n",
              "      <th>min</th>\n",
              "      <td>0.000000</td>\n",
              "      <td>0.010000</td>\n",
              "      <td>0.000000</td>\n",
              "      <td>0.000000</td>\n",
              "      <td>0.000000</td>\n",
              "    </tr>\n",
              "    <tr>\n",
              "      <th>25%</th>\n",
              "      <td>0.000000</td>\n",
              "      <td>80.000000</td>\n",
              "      <td>0.000000</td>\n",
              "      <td>0.000000</td>\n",
              "      <td>0.000000</td>\n",
              "    </tr>\n",
              "    <tr>\n",
              "      <th>50%</th>\n",
              "      <td>0.000000</td>\n",
              "      <td>198.000000</td>\n",
              "      <td>0.000000</td>\n",
              "      <td>0.000000</td>\n",
              "      <td>0.000000</td>\n",
              "    </tr>\n",
              "    <tr>\n",
              "      <th>75%</th>\n",
              "      <td>1.000000</td>\n",
              "      <td>310.000000</td>\n",
              "      <td>79.000000</td>\n",
              "      <td>2.000000</td>\n",
              "      <td>1.000000</td>\n",
              "    </tr>\n",
              "    <tr>\n",
              "      <th>max</th>\n",
              "      <td>1.000000</td>\n",
              "      <td>999.000000</td>\n",
              "      <td>111.000000</td>\n",
              "      <td>81.000000</td>\n",
              "      <td>1.000000</td>\n",
              "    </tr>\n",
              "  </tbody>\n",
              "</table>\n",
              "</div>\n",
              "      <button class=\"colab-df-convert\" onclick=\"convertToInteractive('df-658f0d39-8445-4128-94db-68175df1d786')\"\n",
              "              title=\"Convert this dataframe to an interactive table.\"\n",
              "              style=\"display:none;\">\n",
              "        \n",
              "  <svg xmlns=\"http://www.w3.org/2000/svg\" height=\"24px\"viewBox=\"0 0 24 24\"\n",
              "       width=\"24px\">\n",
              "    <path d=\"M0 0h24v24H0V0z\" fill=\"none\"/>\n",
              "    <path d=\"M18.56 5.44l.94 2.06.94-2.06 2.06-.94-2.06-.94-.94-2.06-.94 2.06-2.06.94zm-11 1L8.5 8.5l.94-2.06 2.06-.94-2.06-.94L8.5 2.5l-.94 2.06-2.06.94zm10 10l.94 2.06.94-2.06 2.06-.94-2.06-.94-.94-2.06-.94 2.06-2.06.94z\"/><path d=\"M17.41 7.96l-1.37-1.37c-.4-.4-.92-.59-1.43-.59-.52 0-1.04.2-1.43.59L10.3 9.45l-7.72 7.72c-.78.78-.78 2.05 0 2.83L4 21.41c.39.39.9.59 1.41.59.51 0 1.02-.2 1.41-.59l7.78-7.78 2.81-2.81c.8-.78.8-2.07 0-2.86zM5.41 20L4 18.59l7.72-7.72 1.47 1.35L5.41 20z\"/>\n",
              "  </svg>\n",
              "      </button>\n",
              "      \n",
              "  <style>\n",
              "    .colab-df-container {\n",
              "      display:flex;\n",
              "      flex-wrap:wrap;\n",
              "      gap: 12px;\n",
              "    }\n",
              "\n",
              "    .colab-df-convert {\n",
              "      background-color: #E8F0FE;\n",
              "      border: none;\n",
              "      border-radius: 50%;\n",
              "      cursor: pointer;\n",
              "      display: none;\n",
              "      fill: #1967D2;\n",
              "      height: 32px;\n",
              "      padding: 0 0 0 0;\n",
              "      width: 32px;\n",
              "    }\n",
              "\n",
              "    .colab-df-convert:hover {\n",
              "      background-color: #E2EBFA;\n",
              "      box-shadow: 0px 1px 2px rgba(60, 64, 67, 0.3), 0px 1px 3px 1px rgba(60, 64, 67, 0.15);\n",
              "      fill: #174EA6;\n",
              "    }\n",
              "\n",
              "    [theme=dark] .colab-df-convert {\n",
              "      background-color: #3B4455;\n",
              "      fill: #D2E3FC;\n",
              "    }\n",
              "\n",
              "    [theme=dark] .colab-df-convert:hover {\n",
              "      background-color: #434B5C;\n",
              "      box-shadow: 0px 1px 3px 1px rgba(0, 0, 0, 0.15);\n",
              "      filter: drop-shadow(0px 1px 2px rgba(0, 0, 0, 0.3));\n",
              "      fill: #FFFFFF;\n",
              "    }\n",
              "  </style>\n",
              "\n",
              "      <script>\n",
              "        const buttonEl =\n",
              "          document.querySelector('#df-658f0d39-8445-4128-94db-68175df1d786 button.colab-df-convert');\n",
              "        buttonEl.style.display =\n",
              "          google.colab.kernel.accessAllowed ? 'block' : 'none';\n",
              "\n",
              "        async function convertToInteractive(key) {\n",
              "          const element = document.querySelector('#df-658f0d39-8445-4128-94db-68175df1d786');\n",
              "          const dataTable =\n",
              "            await google.colab.kernel.invokeFunction('convertToInteractive',\n",
              "                                                     [key], {});\n",
              "          if (!dataTable) return;\n",
              "\n",
              "          const docLinkHtml = 'Like what you see? Visit the ' +\n",
              "            '<a target=\"_blank\" href=https://colab.research.google.com/notebooks/data_table.ipynb>data table notebook</a>'\n",
              "            + ' to learn more about interactive tables.';\n",
              "          element.innerHTML = '';\n",
              "          dataTable['output_type'] = 'display_data';\n",
              "          await google.colab.output.renderOutput(dataTable, element);\n",
              "          const docLink = document.createElement('div');\n",
              "          docLink.innerHTML = docLinkHtml;\n",
              "          element.appendChild(docLink);\n",
              "        }\n",
              "      </script>\n",
              "    </div>\n",
              "  </div>\n",
              "  "
            ]
          },
          "metadata": {},
          "execution_count": 4
        }
      ]
    },
    {
      "cell_type": "code",
      "source": [
        "sns.distplot(data['startprice'])"
      ],
      "metadata": {
        "colab": {
          "base_uri": "https://localhost:8080/",
          "height": 354
        },
        "id": "0pvPel27XYgj",
        "outputId": "f4889714-afc6-4b06-b8f5-88515af45d1c"
      },
      "execution_count": 5,
      "outputs": [
        {
          "output_type": "stream",
          "name": "stderr",
          "text": [
            "/usr/local/lib/python3.7/dist-packages/seaborn/distributions.py:2619: FutureWarning: `distplot` is a deprecated function and will be removed in a future version. Please adapt your code to use either `displot` (a figure-level function with similar flexibility) or `histplot` (an axes-level function for histograms).\n",
            "  warnings.warn(msg, FutureWarning)\n"
          ]
        },
        {
          "output_type": "execute_result",
          "data": {
            "text/plain": [
              "<matplotlib.axes._subplots.AxesSubplot at 0x7f324707cfd0>"
            ]
          },
          "metadata": {},
          "execution_count": 5
        },
        {
          "output_type": "display_data",
          "data": {
            "text/plain": [
              "<Figure size 432x288 with 1 Axes>"
            ],
            "image/png": "[encoded data removed]"
          },
          "metadata": {
            "needs_background": "light"
          }
        }
      ]
    },
    {
      "cell_type": "code",
      "source": [
        "sns.distplot(data['charCountDescription'])"
      ],
      "metadata": {
        "colab": {
          "base_uri": "https://localhost:8080/",
          "height": 357
        },
        "id": "Pl-LTOjYXYih",
        "outputId": "270547bc-6792-4bf5-d87f-a3d429a16f04"
      },
      "execution_count": 6,
      "outputs": [
        {
          "output_type": "stream",
          "name": "stderr",
          "text": [
            "/usr/local/lib/python3.7/dist-packages/seaborn/distributions.py:2619: FutureWarning: `distplot` is a deprecated function and will be removed in a future version. Please adapt your code to use either `displot` (a figure-level function with similar flexibility) or `histplot` (an axes-level function for histograms).\n",
            "  warnings.warn(msg, FutureWarning)\n"
          ]
        },
        {
          "output_type": "execute_result",
          "data": {
            "text/plain": [
              "<matplotlib.axes._subplots.AxesSubplot at 0x7f3244f2be10>"
            ]
          },
          "metadata": {},
          "execution_count": 6
        },
        {
          "output_type": "display_data",
          "data": {
            "text/plain": [
              "<Figure size 432x288 with 1 Axes>"
            ],
            "image/png": "[encoded data removed]"
          },
          "metadata": {
            "needs_background": "light"
          }
        }
      ]
    },
    {
      "cell_type": "code",
      "source": [
        "plt.figure(figsize=(20,10))\n",
        "\n",
        "sns.boxplot(x='productline', y='startprice', data=data)"
      ],
      "metadata": {
        "colab": {
          "base_uri": "https://localhost:8080/",
          "height": 644
        },
        "id": "gCA75JiGX9uE",
        "outputId": "3c2f5e22-0776-40eb-adf8-efc2e487036d"
      },
      "execution_count": 9,
      "outputs": [
        {
          "output_type": "execute_result",
          "data": {
            "text/plain": [
              "<matplotlib.axes._subplots.AxesSubplot at 0x7f32445d0d50>"
            ]
          },
          "metadata": {},
          "execution_count": 9
        },
        {
          "output_type": "display_data",
          "data": {
            "text/plain": [
              "<Figure size 1440x720 with 1 Axes>"
            ],
            "image/png": "[encoded data removed]"
          },
          "metadata": {
            "needs_background": "light"
          }
        }
      ]
    },
    {
      "cell_type": "markdown",
      "source": [
        "### Missing Value 처리"
      ],
      "metadata": {
        "id": "s_ufbxMHYnfD"
      }
    },
    {
      "cell_type": "code",
      "source": [
        "data.isna().sum()/ len(data)"
      ],
      "metadata": {
        "colab": {
          "base_uri": "https://localhost:8080/"
        },
        "id": "c5d1QROwYLHx",
        "outputId": "6c9baf3e-bee8-4a0b-cf7a-4243343b820f"
      },
      "execution_count": 11,
      "outputs": [
        {
          "output_type": "execute_result",
          "data": {
            "text/plain": [
              "BuyItNow                0.000000\n",
              "startprice              0.000000\n",
              "carrier                 0.206061\n",
              "color                   0.399327\n",
              "productline             0.000000\n",
              "noDescription           0.000000\n",
              "charCountDescription    0.000000\n",
              "upperCaseDescription    0.000000\n",
              "sold                    0.000000\n",
              "dtype: float64"
            ]
          },
          "metadata": {},
          "execution_count": 11
        }
      ]
    },
    {
      "cell_type": "code",
      "source": [
        "data.head()"
      ],
      "metadata": {
        "colab": {
          "base_uri": "https://localhost:8080/",
          "height": 340
        },
        "id": "pKG0ekf3YkPa",
        "outputId": "0fb86be7-5a2c-46e0-f960-280a73371124"
      },
      "execution_count": 12,
      "outputs": [
        {
          "output_type": "execute_result",
          "data": {
            "text/plain": [
              "   BuyItNow  startprice carrier       color   productline  \\\n",
              "0         0      199.99    None       White     Galaxy_S9   \n",
              "1         0      235.00    None         NaN  Galaxy_Note9   \n",
              "2         0      199.99     NaN         NaN       Unknown   \n",
              "3         1      175.00    AT&T  Space Gray  Galaxy_Note9   \n",
              "4         1      100.00    None  Space Gray     Galaxy_S8   \n",
              "\n",
              "          noDescription  charCountDescription  upperCaseDescription  sold  \n",
              "0  contains description                     0                     0     1  \n",
              "1  contains description                     0                     0     0  \n",
              "2        no description                   100                     2     0  \n",
              "3  contains description                     0                     0     1  \n",
              "4  contains description                     0                     0     1  "
            ],
            "text/html": [
              "\n",
              "  <div id=\"df-a0dffc89-1d50-40c1-bfa3-1e55eab9879a\">\n",
              "    <div class=\"colab-df-container\">\n",
              "      <div>\n",
              "<style scoped>\n",
              "    .dataframe tbody tr th:only-of-type {\n",
              "        vertical-align: middle;\n",
              "    }\n",
              "\n",
              "    .dataframe tbody tr th {\n",
              "        vertical-align: top;\n",
              "    }\n",
              "\n",
              "    .dataframe thead th {\n",
              "        text-align: right;\n",
              "    }\n",
              "</style>\n",
              "<table border=\"1\" class=\"dataframe\">\n",
              "  <thead>\n",
              "    <tr style=\"text-align: right;\">\n",
              "      <th></th>\n",
              "      <th>BuyItNow</th>\n",
              "      <th>startprice</th>\n",
              "      <th>carrier</th>\n",
              "      <th>color</th>\n",
              "      <th>productline</th>\n",
              "      <th>noDescription</th>\n",
              "      <th>charCountDescription</th>\n",
              "      <th>upperCaseDescription</th>\n",
              "      <th>sold</th>\n",
              "    </tr>\n",
              "  </thead>\n",
              "  <tbody>\n",
              "    <tr>\n",
              "      <th>0</th>\n",
              "      <td>0</td>\n",
              "      <td>199.99</td>\n",
              "      <td>None</td>\n",
              "      <td>White</td>\n",
              "      <td>Galaxy_S9</td>\n",
              "      <td>contains description</td>\n",
              "      <td>0</td>\n",
              "      <td>0</td>\n",
              "      <td>1</td>\n",
              "    </tr>\n",
              "    <tr>\n",
              "      <th>1</th>\n",
              "      <td>0</td>\n",
              "      <td>235.00</td>\n",
              "      <td>None</td>\n",
              "      <td>NaN</td>\n",
              "      <td>Galaxy_Note9</td>\n",
              "      <td>contains description</td>\n",
              "      <td>0</td>\n",
              "      <td>0</td>\n",
              "      <td>0</td>\n",
              "    </tr>\n",
              "    <tr>\n",
              "      <th>2</th>\n",
              "      <td>0</td>\n",
              "      <td>199.99</td>\n",
              "      <td>NaN</td>\n",
              "      <td>NaN</td>\n",
              "      <td>Unknown</td>\n",
              "      <td>no description</td>\n",
              "      <td>100</td>\n",
              "      <td>2</td>\n",
              "      <td>0</td>\n",
              "    </tr>\n",
              "    <tr>\n",
              "      <th>3</th>\n",
              "      <td>1</td>\n",
              "      <td>175.00</td>\n",
              "      <td>AT&amp;T</td>\n",
              "      <td>Space Gray</td>\n",
              "      <td>Galaxy_Note9</td>\n",
              "      <td>contains description</td>\n",
              "      <td>0</td>\n",
              "      <td>0</td>\n",
              "      <td>1</td>\n",
              "    </tr>\n",
              "    <tr>\n",
              "      <th>4</th>\n",
              "      <td>1</td>\n",
              "      <td>100.00</td>\n",
              "      <td>None</td>\n",
              "      <td>Space Gray</td>\n",
              "      <td>Galaxy_S8</td>\n",
              "      <td>contains description</td>\n",
              "      <td>0</td>\n",
              "      <td>0</td>\n",
              "      <td>1</td>\n",
              "    </tr>\n",
              "  </tbody>\n",
              "</table>\n",
              "</div>\n",
              "      <button class=\"colab-df-convert\" onclick=\"convertToInteractive('df-a0dffc89-1d50-40c1-bfa3-1e55eab9879a')\"\n",
              "              title=\"Convert this dataframe to an interactive table.\"\n",
              "              style=\"display:none;\">\n",
              "        \n",
              "  <svg xmlns=\"http://www.w3.org/2000/svg\" height=\"24px\"viewBox=\"0 0 24 24\"\n",
              "       width=\"24px\">\n",
              "    <path d=\"M0 0h24v24H0V0z\" fill=\"none\"/>\n",
              "    <path d=\"M18.56 5.44l.94 2.06.94-2.06 2.06-.94-2.06-.94-.94-2.06-.94 2.06-2.06.94zm-11 1L8.5 8.5l.94-2.06 2.06-.94-2.06-.94L8.5 2.5l-.94 2.06-2.06.94zm10 10l.94 2.06.94-2.06 2.06-.94-2.06-.94-.94-2.06-.94 2.06-2.06.94z\"/><path d=\"M17.41 7.96l-1.37-1.37c-.4-.4-.92-.59-1.43-.59-.52 0-1.04.2-1.43.59L10.3 9.45l-7.72 7.72c-.78.78-.78 2.05 0 2.83L4 21.41c.39.39.9.59 1.41.59.51 0 1.02-.2 1.41-.59l7.78-7.78 2.81-2.81c.8-.78.8-2.07 0-2.86zM5.41 20L4 18.59l7.72-7.72 1.47 1.35L5.41 20z\"/>\n",
              "  </svg>\n",
              "      </button>\n",
              "      \n",
              "  <style>\n",
              "    .colab-df-container {\n",
              "      display:flex;\n",
              "      flex-wrap:wrap;\n",
              "      gap: 12px;\n",
              "    }\n",
              "\n",
              "    .colab-df-convert {\n",
              "      background-color: #E8F0FE;\n",
              "      border: none;\n",
              "      border-radius: 50%;\n",
              "      cursor: pointer;\n",
              "      display: none;\n",
              "      fill: #1967D2;\n",
              "      height: 32px;\n",
              "      padding: 0 0 0 0;\n",
              "      width: 32px;\n",
              "    }\n",
              "\n",
              "    .colab-df-convert:hover {\n",
              "      background-color: #E2EBFA;\n",
              "      box-shadow: 0px 1px 2px rgba(60, 64, 67, 0.3), 0px 1px 3px 1px rgba(60, 64, 67, 0.15);\n",
              "      fill: #174EA6;\n",
              "    }\n",
              "\n",
              "    [theme=dark] .colab-df-convert {\n",
              "      background-color: #3B4455;\n",
              "      fill: #D2E3FC;\n",
              "    }\n",
              "\n",
              "    [theme=dark] .colab-df-convert:hover {\n",
              "      background-color: #434B5C;\n",
              "      box-shadow: 0px 1px 3px 1px rgba(0, 0, 0, 0.15);\n",
              "      filter: drop-shadow(0px 1px 2px rgba(0, 0, 0, 0.3));\n",
              "      fill: #FFFFFF;\n",
              "    }\n",
              "  </style>\n",
              "\n",
              "      <script>\n",
              "        const buttonEl =\n",
              "          document.querySelector('#df-a0dffc89-1d50-40c1-bfa3-1e55eab9879a button.colab-df-convert');\n",
              "        buttonEl.style.display =\n",
              "          google.colab.kernel.accessAllowed ? 'block' : 'none';\n",
              "\n",
              "        async function convertToInteractive(key) {\n",
              "          const element = document.querySelector('#df-a0dffc89-1d50-40c1-bfa3-1e55eab9879a');\n",
              "          const dataTable =\n",
              "            await google.colab.kernel.invokeFunction('convertToInteractive',\n",
              "                                                     [key], {});\n",
              "          if (!dataTable) return;\n",
              "\n",
              "          const docLinkHtml = 'Like what you see? Visit the ' +\n",
              "            '<a target=\"_blank\" href=https://colab.research.google.com/notebooks/data_table.ipynb>data table notebook</a>'\n",
              "            + ' to learn more about interactive tables.';\n",
              "          element.innerHTML = '';\n",
              "          dataTable['output_type'] = 'display_data';\n",
              "          await google.colab.output.renderOutput(dataTable, element);\n",
              "          const docLink = document.createElement('div');\n",
              "          docLink.innerHTML = docLinkHtml;\n",
              "          element.appendChild(docLink);\n",
              "        }\n",
              "      </script>\n",
              "    </div>\n",
              "  </div>\n",
              "  "
            ]
          },
          "metadata": {},
          "execution_count": 12
        }
      ]
    },
    {
      "cell_type": "code",
      "source": [
        "data = data.fillna('UnKnown')"
      ],
      "metadata": {
        "id": "s6VCbZdaY253"
      },
      "execution_count": 14,
      "outputs": []
    },
    {
      "cell_type": "code",
      "source": [
        "data"
      ],
      "metadata": {
        "colab": {
          "base_uri": "https://localhost:8080/",
          "height": 627
        },
        "id": "VjvSAvoFY6Kk",
        "outputId": "2834cb28-a8f3-4d5e-83c9-8da9740073c6"
      },
      "execution_count": 15,
      "outputs": [
        {
          "output_type": "execute_result",
          "data": {
            "text/plain": [
              "      BuyItNow  startprice  carrier           color    productline  \\\n",
              "0            0      199.99     None           White      Galaxy_S9   \n",
              "1            0      235.00     None         UnKnown   Galaxy_Note9   \n",
              "2            0      199.99  UnKnown         UnKnown        Unknown   \n",
              "3            1      175.00     AT&T      Space Gray   Galaxy_Note9   \n",
              "4            1      100.00     None      Space Gray      Galaxy_S8   \n",
              "...        ...         ...      ...             ...            ...   \n",
              "1480         0       89.50     AT&T         UnKnown      Galaxy_S7   \n",
              "1481         0      239.95     None  Midnight Black      Galaxy_S9   \n",
              "1482         0      329.99     None      Space Gray  Galaxy_Note10   \n",
              "1483         0       89.00     None  Midnight Black      Galaxy_S7   \n",
              "1484         0      119.99     AT&T  Midnight Black      Galaxy_S7   \n",
              "\n",
              "             noDescription  charCountDescription  upperCaseDescription  sold  \n",
              "0     contains description                     0                     0     1  \n",
              "1     contains description                     0                     0     0  \n",
              "2           no description                   100                     2     0  \n",
              "3     contains description                     0                     0     1  \n",
              "4     contains description                     0                     0     1  \n",
              "...                    ...                   ...                   ...   ...  \n",
              "1480        no description                    96                     2     0  \n",
              "1481        no description                    97                     5     1  \n",
              "1482        no description                    93                     1     0  \n",
              "1483        no description                    92                     2     1  \n",
              "1484        no description                    96                     5     0  \n",
              "\n",
              "[1485 rows x 9 columns]"
            ],
            "text/html": [
              "\n",
              "  <div id=\"df-0678a9c2-ffdb-4b58-a496-b72ade0323e1\">\n",
              "    <div class=\"colab-df-container\">\n",
              "      <div>\n",
              "<style scoped>\n",
              "    .dataframe tbody tr th:only-of-type {\n",
              "        vertical-align: middle;\n",
              "    }\n",
              "\n",
              "    .dataframe tbody tr th {\n",
              "        vertical-align: top;\n",
              "    }\n",
              "\n",
              "    .dataframe thead th {\n",
              "        text-align: right;\n",
              "    }\n",
              "</style>\n",
              "<table border=\"1\" class=\"dataframe\">\n",
              "  <thead>\n",
              "    <tr style=\"text-align: right;\">\n",
              "      <th></th>\n",
              "      <th>BuyItNow</th>\n",
              "      <th>startprice</th>\n",
              "      <th>carrier</th>\n",
              "      <th>color</th>\n",
              "      <th>productline</th>\n",
              "      <th>noDescription</th>\n",
              "      <th>charCountDescription</th>\n",
              "      <th>upperCaseDescription</th>\n",
              "      <th>sold</th>\n",
              "    </tr>\n",
              "  </thead>\n",
              "  <tbody>\n",
              "    <tr>\n",
              "      <th>0</th>\n",
              "      <td>0</td>\n",
              "      <td>199.99</td>\n",
              "      <td>None</td>\n",
              "      <td>White</td>\n",
              "      <td>Galaxy_S9</td>\n",
              "      <td>contains description</td>\n",
              "      <td>0</td>\n",
              "      <td>0</td>\n",
              "      <td>1</td>\n",
              "    </tr>\n",
              "    <tr>\n",
              "      <th>1</th>\n",
              "      <td>0</td>\n",
              "      <td>235.00</td>\n",
              "      <td>None</td>\n",
              "      <td>UnKnown</td>\n",
              "      <td>Galaxy_Note9</td>\n",
              "      <td>contains description</td>\n",
              "      <td>0</td>\n",
              "      <td>0</td>\n",
              "      <td>0</td>\n",
              "    </tr>\n",
              "    <tr>\n",
              "      <th>2</th>\n",
              "      <td>0</td>\n",
              "      <td>199.99</td>\n",
              "      <td>UnKnown</td>\n",
              "      <td>UnKnown</td>\n",
              "      <td>Unknown</td>\n",
              "      <td>no description</td>\n",
              "      <td>100</td>\n",
              "      <td>2</td>\n",
              "      <td>0</td>\n",
              "    </tr>\n",
              "    <tr>\n",
              "      <th>3</th>\n",
              "      <td>1</td>\n",
              "      <td>175.00</td>\n",
              "      <td>AT&amp;T</td>\n",
              "      <td>Space Gray</td>\n",
              "      <td>Galaxy_Note9</td>\n",
              "      <td>contains description</td>\n",
              "      <td>0</td>\n",
              "      <td>0</td>\n",
              "      <td>1</td>\n",
              "    </tr>\n",
              "    <tr>\n",
              "      <th>4</th>\n",
              "      <td>1</td>\n",
              "      <td>100.00</td>\n",
              "      <td>None</td>\n",
              "      <td>Space Gray</td>\n",
              "      <td>Galaxy_S8</td>\n",
              "      <td>contains description</td>\n",
              "      <td>0</td>\n",
              "      <td>0</td>\n",
              "      <td>1</td>\n",
              "    </tr>\n",
              "    <tr>\n",
              "      <th>...</th>\n",
              "      <td>...</td>\n",
              "      <td>...</td>\n",
              "      <td>...</td>\n",
              "      <td>...</td>\n",
              "      <td>...</td>\n",
              "      <td>...</td>\n",
              "      <td>...</td>\n",
              "      <td>...</td>\n",
              "      <td>...</td>\n",
              "    </tr>\n",
              "    <tr>\n",
              "      <th>1480</th>\n",
              "      <td>0</td>\n",
              "      <td>89.50</td>\n",
              "      <td>AT&amp;T</td>\n",
              "      <td>UnKnown</td>\n",
              "      <td>Galaxy_S7</td>\n",
              "      <td>no description</td>\n",
              "      <td>96</td>\n",
              "      <td>2</td>\n",
              "      <td>0</td>\n",
              "    </tr>\n",
              "    <tr>\n",
              "      <th>1481</th>\n",
              "      <td>0</td>\n",
              "      <td>239.95</td>\n",
              "      <td>None</td>\n",
              "      <td>Midnight Black</td>\n",
              "      <td>Galaxy_S9</td>\n",
              "      <td>no description</td>\n",
              "      <td>97</td>\n",
              "      <td>5</td>\n",
              "      <td>1</td>\n",
              "    </tr>\n",
              "    <tr>\n",
              "      <th>1482</th>\n",
              "      <td>0</td>\n",
              "      <td>329.99</td>\n",
              "      <td>None</td>\n",
              "      <td>Space Gray</td>\n",
              "      <td>Galaxy_Note10</td>\n",
              "      <td>no description</td>\n",
              "      <td>93</td>\n",
              "      <td>1</td>\n",
              "      <td>0</td>\n",
              "    </tr>\n",
              "    <tr>\n",
              "      <th>1483</th>\n",
              "      <td>0</td>\n",
              "      <td>89.00</td>\n",
              "      <td>None</td>\n",
              "      <td>Midnight Black</td>\n",
              "      <td>Galaxy_S7</td>\n",
              "      <td>no description</td>\n",
              "      <td>92</td>\n",
              "      <td>2</td>\n",
              "      <td>1</td>\n",
              "    </tr>\n",
              "    <tr>\n",
              "      <th>1484</th>\n",
              "      <td>0</td>\n",
              "      <td>119.99</td>\n",
              "      <td>AT&amp;T</td>\n",
              "      <td>Midnight Black</td>\n",
              "      <td>Galaxy_S7</td>\n",
              "      <td>no description</td>\n",
              "      <td>96</td>\n",
              "      <td>5</td>\n",
              "      <td>0</td>\n",
              "    </tr>\n",
              "  </tbody>\n",
              "</table>\n",
              "<p>1485 rows × 9 columns</p>\n",
              "</div>\n",
              "      <button class=\"colab-df-convert\" onclick=\"convertToInteractive('df-0678a9c2-ffdb-4b58-a496-b72ade0323e1')\"\n",
              "              title=\"Convert this dataframe to an interactive table.\"\n",
              "              style=\"display:none;\">\n",
              "        \n",
              "  <svg xmlns=\"http://www.w3.org/2000/svg\" height=\"24px\"viewBox=\"0 0 24 24\"\n",
              "       width=\"24px\">\n",
              "    <path d=\"M0 0h24v24H0V0z\" fill=\"none\"/>\n",
              "    <path d=\"M18.56 5.44l.94 2.06.94-2.06 2.06-.94-2.06-.94-.94-2.06-.94 2.06-2.06.94zm-11 1L8.5 8.5l.94-2.06 2.06-.94-2.06-.94L8.5 2.5l-.94 2.06-2.06.94zm10 10l.94 2.06.94-2.06 2.06-.94-2.06-.94-.94-2.06-.94 2.06-2.06.94z\"/><path d=\"M17.41 7.96l-1.37-1.37c-.4-.4-.92-.59-1.43-.59-.52 0-1.04.2-1.43.59L10.3 9.45l-7.72 7.72c-.78.78-.78 2.05 0 2.83L4 21.41c.39.39.9.59 1.41.59.51 0 1.02-.2 1.41-.59l7.78-7.78 2.81-2.81c.8-.78.8-2.07 0-2.86zM5.41 20L4 18.59l7.72-7.72 1.47 1.35L5.41 20z\"/>\n",
              "  </svg>\n",
              "      </button>\n",
              "      \n",
              "  <style>\n",
              "    .colab-df-container {\n",
              "      display:flex;\n",
              "      flex-wrap:wrap;\n",
              "      gap: 12px;\n",
              "    }\n",
              "\n",
              "    .colab-df-convert {\n",
              "      background-color: #E8F0FE;\n",
              "      border: none;\n",
              "      border-radius: 50%;\n",
              "      cursor: pointer;\n",
              "      display: none;\n",
              "      fill: #1967D2;\n",
              "      height: 32px;\n",
              "      padding: 0 0 0 0;\n",
              "      width: 32px;\n",
              "    }\n",
              "\n",
              "    .colab-df-convert:hover {\n",
              "      background-color: #E2EBFA;\n",
              "      box-shadow: 0px 1px 2px rgba(60, 64, 67, 0.3), 0px 1px 3px 1px rgba(60, 64, 67, 0.15);\n",
              "      fill: #174EA6;\n",
              "    }\n",
              "\n",
              "    [theme=dark] .colab-df-convert {\n",
              "      background-color: #3B4455;\n",
              "      fill: #D2E3FC;\n",
              "    }\n",
              "\n",
              "    [theme=dark] .colab-df-convert:hover {\n",
              "      background-color: #434B5C;\n",
              "      box-shadow: 0px 1px 3px 1px rgba(0, 0, 0, 0.15);\n",
              "      filter: drop-shadow(0px 1px 2px rgba(0, 0, 0, 0.3));\n",
              "      fill: #FFFFFF;\n",
              "    }\n",
              "  </style>\n",
              "\n",
              "      <script>\n",
              "        const buttonEl =\n",
              "          document.querySelector('#df-0678a9c2-ffdb-4b58-a496-b72ade0323e1 button.colab-df-convert');\n",
              "        buttonEl.style.display =\n",
              "          google.colab.kernel.accessAllowed ? 'block' : 'none';\n",
              "\n",
              "        async function convertToInteractive(key) {\n",
              "          const element = document.querySelector('#df-0678a9c2-ffdb-4b58-a496-b72ade0323e1');\n",
              "          const dataTable =\n",
              "            await google.colab.kernel.invokeFunction('convertToInteractive',\n",
              "                                                     [key], {});\n",
              "          if (!dataTable) return;\n",
              "\n",
              "          const docLinkHtml = 'Like what you see? Visit the ' +\n",
              "            '<a target=\"_blank\" href=https://colab.research.google.com/notebooks/data_table.ipynb>data table notebook</a>'\n",
              "            + ' to learn more about interactive tables.';\n",
              "          element.innerHTML = '';\n",
              "          dataTable['output_type'] = 'display_data';\n",
              "          await google.colab.output.renderOutput(dataTable, element);\n",
              "          const docLink = document.createElement('div');\n",
              "          docLink.innerHTML = docLinkHtml;\n",
              "          element.appendChild(docLink);\n",
              "        }\n",
              "      </script>\n",
              "    </div>\n",
              "  </div>\n",
              "  "
            ]
          },
          "metadata": {},
          "execution_count": 15
        }
      ]
    },
    {
      "cell_type": "code",
      "source": [
        "data['carrier'].value_counts()"
      ],
      "metadata": {
        "colab": {
          "base_uri": "https://localhost:8080/"
        },
        "id": "GcYFbpCHY86q",
        "outputId": "69868a3d-50af-4480-ef87-1e0c371ecc12"
      },
      "execution_count": 16,
      "outputs": [
        {
          "output_type": "execute_result",
          "data": {
            "text/plain": [
              "None               863\n",
              "UnKnown            306\n",
              "AT&T               177\n",
              "Verizon             87\n",
              "Sprint/T-Mobile     52\n",
              "Name: carrier, dtype: int64"
            ]
          },
          "metadata": {},
          "execution_count": 16
        }
      ]
    },
    {
      "cell_type": "markdown",
      "source": [
        "### 함수 만들기"
      ],
      "metadata": {
        "id": "13Sr38traFX1"
      }
    },
    {
      "cell_type": "code",
      "source": [
        "def my_func(x,y=10): #defalut값을 지정하니까 x만 넣어도 에러가 뜨지 않음\n",
        "    return x+y"
      ],
      "metadata": {
        "id": "vxOsyX2heIAm"
      },
      "execution_count": 17,
      "outputs": []
    },
    {
      "cell_type": "code",
      "source": [
        "my_func(3)"
      ],
      "metadata": {
        "colab": {
          "base_uri": "https://localhost:8080/"
        },
        "id": "RLYBt2XSeIC7",
        "outputId": "598a72aa-466d-4175-a9de-ad737fc5601f"
      },
      "execution_count": 18,
      "outputs": [
        {
          "output_type": "execute_result",
          "data": {
            "text/plain": [
              "13"
            ]
          },
          "metadata": {},
          "execution_count": 18
        }
      ]
    },
    {
      "cell_type": "code",
      "source": [
        "my_func(3,4)"
      ],
      "metadata": {
        "colab": {
          "base_uri": "https://localhost:8080/"
        },
        "id": "K9H0pYV1eIFD",
        "outputId": "d89497d1-2343-4587-a53b-63b3329d9c05"
      },
      "execution_count": 19,
      "outputs": [
        {
          "output_type": "execute_result",
          "data": {
            "text/plain": [
              "7"
            ]
          },
          "metadata": {},
          "execution_count": 19
        }
      ]
    },
    {
      "cell_type": "code",
      "source": [
        "def price(x):\n",
        "    if x %1 ==0:\n",
        "        return x*100\n",
        "    else:\n",
        "        return (x+0.01) *100"
      ],
      "metadata": {
        "id": "32kZ3w11esER"
      },
      "execution_count": 22,
      "outputs": []
    },
    {
      "cell_type": "code",
      "source": [
        "price(99.99)"
      ],
      "metadata": {
        "colab": {
          "base_uri": "https://localhost:8080/"
        },
        "id": "0lHWpScaesGH",
        "outputId": "17036157-a1ad-4b5c-e833-0d0d8da003c2"
      },
      "execution_count": 23,
      "outputs": [
        {
          "output_type": "execute_result",
          "data": {
            "text/plain": [
              "10000.0"
            ]
          },
          "metadata": {},
          "execution_count": 23
        }
      ]
    },
    {
      "cell_type": "code",
      "source": [
        "#중요하다!! 시리지 함수\n",
        "\n",
        "data['startprice'].apply(lambda a:price(a)) #한 줄 한 줄 받기"
      ],
      "metadata": {
        "colab": {
          "base_uri": "https://localhost:8080/"
        },
        "id": "R1wHxy0BesIF",
        "outputId": "4e889950-8b23-471d-969c-3ae603194d11"
      },
      "execution_count": 25,
      "outputs": [
        {
          "output_type": "execute_result",
          "data": {
            "text/plain": [
              "0       20000.0\n",
              "1       23500.0\n",
              "2       20000.0\n",
              "3       17500.0\n",
              "4       10000.0\n",
              "         ...   \n",
              "1480     8951.0\n",
              "1481    23996.0\n",
              "1482    33000.0\n",
              "1483     8900.0\n",
              "1484    12000.0\n",
              "Name: startprice, Length: 1485, dtype: float64"
            ]
          },
          "metadata": {},
          "execution_count": 25
        }
      ]
    },
    {
      "cell_type": "code",
      "source": [
        "data.apply(lambda x: price(x['startprice']), axis=1)"
      ],
      "metadata": {
        "colab": {
          "base_uri": "https://localhost:8080/"
        },
        "id": "BG6uzcnYesLU",
        "outputId": "67b2bef6-383d-4e13-ad99-1d63b113af76"
      },
      "execution_count": 26,
      "outputs": [
        {
          "output_type": "execute_result",
          "data": {
            "text/plain": [
              "0       20000.0\n",
              "1       23500.0\n",
              "2       20000.0\n",
              "3       17500.0\n",
              "4       10000.0\n",
              "         ...   \n",
              "1480     8951.0\n",
              "1481    23996.0\n",
              "1482    33000.0\n",
              "1483     8900.0\n",
              "1484    12000.0\n",
              "Length: 1485, dtype: float64"
            ]
          },
          "metadata": {},
          "execution_count": 26
        }
      ]
    },
    {
      "cell_type": "code",
      "source": [
        "#코드 리팩토링\n",
        "\n",
        "data['startprice'].apply(lambda x: x * 100 if x%1 ==0 else(x+0.01) *100)"
      ],
      "metadata": {
        "colab": {
          "base_uri": "https://localhost:8080/"
        },
        "id": "MnV4j3KefpHr",
        "outputId": "0968929f-d70f-4c50-a051-eefb2692d847"
      },
      "execution_count": 27,
      "outputs": [
        {
          "output_type": "execute_result",
          "data": {
            "text/plain": [
              "0       20000.0\n",
              "1       23500.0\n",
              "2       20000.0\n",
              "3       17500.0\n",
              "4       10000.0\n",
              "         ...   \n",
              "1480     8951.0\n",
              "1481    23996.0\n",
              "1482    33000.0\n",
              "1483     8900.0\n",
              "1484    12000.0\n",
              "Name: startprice, Length: 1485, dtype: float64"
            ]
          },
          "metadata": {},
          "execution_count": 27
        }
      ]
    },
    {
      "cell_type": "code",
      "source": [
        "#elif안쓰기\n",
        "data['startprice'].apply(lambda x:200 if x>200 else(100 if x>100 else 0))"
      ],
      "metadata": {
        "colab": {
          "base_uri": "https://localhost:8080/"
        },
        "id": "82YhQAMhgYmE",
        "outputId": "ac1db6e9-bc37-40f7-d9db-c4a036fc95d4"
      },
      "execution_count": 28,
      "outputs": [
        {
          "output_type": "execute_result",
          "data": {
            "text/plain": [
              "0       100\n",
              "1       200\n",
              "2       100\n",
              "3       100\n",
              "4         0\n",
              "       ... \n",
              "1480      0\n",
              "1481    200\n",
              "1482    200\n",
              "1483      0\n",
              "1484    100\n",
              "Name: startprice, Length: 1485, dtype: int64"
            ]
          },
          "metadata": {},
          "execution_count": 28
        }
      ]
    },
    {
      "cell_type": "markdown",
      "source": [
        "### 카테고리 변수 처리"
      ],
      "metadata": {
        "id": "ioVAfhqJZF3m"
      }
    },
    {
      "cell_type": "code",
      "source": [
        "data[['carrier','color','productline','noDescription']].nunique()"
      ],
      "metadata": {
        "colab": {
          "base_uri": "https://localhost:8080/"
        },
        "id": "jUc9nKshZASG",
        "outputId": "d13ce9e8-27e6-404e-c8cd-f4ccfe2f79fd"
      },
      "execution_count": 29,
      "outputs": [
        {
          "output_type": "execute_result",
          "data": {
            "text/plain": [
              "carrier          5\n",
              "color            8\n",
              "productline      8\n",
              "noDescription    2\n",
              "dtype: int64"
            ]
          },
          "metadata": {},
          "execution_count": 29
        }
      ]
    },
    {
      "cell_type": "code",
      "source": [
        "data['carrier'].value_counts()"
      ],
      "metadata": {
        "colab": {
          "base_uri": "https://localhost:8080/"
        },
        "id": "y--SBrO9gwIY",
        "outputId": "2872e007-7069-410f-b7ea-2e07a3230909"
      },
      "execution_count": 30,
      "outputs": [
        {
          "output_type": "execute_result",
          "data": {
            "text/plain": [
              "None               863\n",
              "UnKnown            306\n",
              "AT&T               177\n",
              "Verizon             87\n",
              "Sprint/T-Mobile     52\n",
              "Name: carrier, dtype: int64"
            ]
          },
          "metadata": {},
          "execution_count": 30
        }
      ]
    },
    {
      "cell_type": "code",
      "source": [
        "data['color'].value_counts()"
      ],
      "metadata": {
        "colab": {
          "base_uri": "https://localhost:8080/"
        },
        "id": "gQ8E2cFdgxtq",
        "outputId": "0f4482fe-e2d1-4149-be47-a509e14273a7"
      },
      "execution_count": 31,
      "outputs": [
        {
          "output_type": "execute_result",
          "data": {
            "text/plain": [
              "UnKnown           593\n",
              "White             328\n",
              "Midnight Black    274\n",
              "Space Gray        180\n",
              "Gold               52\n",
              "Black              38\n",
              "Aura Black         19\n",
              "Prism Black         1\n",
              "Name: color, dtype: int64"
            ]
          },
          "metadata": {},
          "execution_count": 31
        }
      ]
    },
    {
      "cell_type": "code",
      "source": [
        "data['productline'].value_counts()"
      ],
      "metadata": {
        "colab": {
          "base_uri": "https://localhost:8080/"
        },
        "id": "NZpZfEV5gyDk",
        "outputId": "390a8805-42c8-4e0d-bdb3-233521f17c82"
      },
      "execution_count": 32,
      "outputs": [
        {
          "output_type": "execute_result",
          "data": {
            "text/plain": [
              "Galaxy_Note10    351\n",
              "Galaxy_S8        277\n",
              "Galaxy_S7        227\n",
              "Unknown          204\n",
              "Galaxy_S9        158\n",
              "Galaxy_Note8     153\n",
              "Galaxy_Note9     107\n",
              "Galaxy_S10         8\n",
              "Name: productline, dtype: int64"
            ]
          },
          "metadata": {},
          "execution_count": 32
        }
      ]
    },
    {
      "cell_type": "code",
      "source": [
        "data['noDescription'].value_counts()"
      ],
      "metadata": {
        "colab": {
          "base_uri": "https://localhost:8080/"
        },
        "id": "cQl6QodwgyFt",
        "outputId": "5fbc9bf7-4377-47d3-844a-10b8834ffd4e"
      },
      "execution_count": 33,
      "outputs": [
        {
          "output_type": "execute_result",
          "data": {
            "text/plain": [
              "contains description    856\n",
              "no description          629\n",
              "Name: noDescription, dtype: int64"
            ]
          },
          "metadata": {},
          "execution_count": 33
        }
      ]
    },
    {
      "cell_type": "code",
      "source": [
        "# Black 종류를 하나로 통합시켜줄 함수 작성 (A)\n",
        "\n",
        "def black(x):\n",
        "    if x == 'Midnight Black':\n",
        "        return 'Black'\n",
        "    elif x == 'Aura Black':\n",
        "        return 'Black'\n",
        "    elif x == 'Prism Black':\n",
        "        return 'Black'\n",
        "    else:\n",
        "        return x    "
      ],
      "metadata": {
        "id": "pJxOCHg1g1yL"
      },
      "execution_count": 34,
      "outputs": []
    },
    {
      "cell_type": "code",
      "source": [
        "# Black 종류를 하나로 통합시켜줄 함수 작성 (B)\n",
        "\n",
        "def black(x):\n",
        "    if (x == 'Midnight Black') | (x == 'Aura Black') | (x == 'Prism Black'):        \n",
        "        return 'Black'\n",
        "    else:\n",
        "        return x    "
      ],
      "metadata": {
        "id": "rSPgJPkCg2JY"
      },
      "execution_count": 35,
      "outputs": []
    },
    {
      "cell_type": "code",
      "source": [
        "data['color'].apply(lambda x: black(x))"
      ],
      "metadata": {
        "colab": {
          "base_uri": "https://localhost:8080/"
        },
        "id": "hozzvTdCg2L0",
        "outputId": "5c0bd7e8-1c68-4c49-8dba-ad008cd98f8f"
      },
      "execution_count": 36,
      "outputs": [
        {
          "output_type": "execute_result",
          "data": {
            "text/plain": [
              "0            White\n",
              "1          UnKnown\n",
              "2          UnKnown\n",
              "3       Space Gray\n",
              "4       Space Gray\n",
              "           ...    \n",
              "1480       UnKnown\n",
              "1481         Black\n",
              "1482    Space Gray\n",
              "1483         Black\n",
              "1484         Black\n",
              "Name: color, Length: 1485, dtype: object"
            ]
          },
          "metadata": {},
          "execution_count": 36
        }
      ]
    },
    {
      "cell_type": "code",
      "source": [
        "# Black 종류를 하나로 통합시켜줄 함수 작성 (C)\n",
        "\n",
        "def black(x):\n",
        "    if x in ['Midnight Black','Aura Black','Prism Black']:        \n",
        "        return 'Black'\n",
        "    else:\n",
        "        return x    "
      ],
      "metadata": {
        "id": "PR9MPFpAg2N2"
      },
      "execution_count": 37,
      "outputs": []
    },
    {
      "cell_type": "code",
      "source": [
        "data['color'] = data['color'].apply(lambda x: black(x))"
      ],
      "metadata": {
        "id": "mK8kQNlXg2QB"
      },
      "execution_count": 38,
      "outputs": []
    },
    {
      "cell_type": "code",
      "source": [
        "data['color'].value_counts()"
      ],
      "metadata": {
        "colab": {
          "base_uri": "https://localhost:8080/"
        },
        "id": "rBgWM9Dng2SQ",
        "outputId": "14992ac2-80b4-456a-e7d9-79636b0ea2ff"
      },
      "execution_count": 39,
      "outputs": [
        {
          "output_type": "execute_result",
          "data": {
            "text/plain": [
              "UnKnown       593\n",
              "Black         332\n",
              "White         328\n",
              "Space Gray    180\n",
              "Gold           52\n",
              "Name: color, dtype: int64"
            ]
          },
          "metadata": {},
          "execution_count": 39
        }
      ]
    },
    {
      "cell_type": "code",
      "source": [
        "data = pd.get_dummies(data, columns = ['carrier', 'color', 'productline', 'noDescription'])"
      ],
      "metadata": {
        "id": "KChoXTH8hFoV"
      },
      "execution_count": 40,
      "outputs": []
    },
    {
      "cell_type": "code",
      "source": [
        "data"
      ],
      "metadata": {
        "colab": {
          "base_uri": "https://localhost:8080/",
          "height": 505
        },
        "id": "eInIdTeLhHp7",
        "outputId": "bf607afb-9fce-447c-e1e0-931c54194d93"
      },
      "execution_count": 41,
      "outputs": [
        {
          "output_type": "execute_result",
          "data": {
            "text/plain": [
              "      BuyItNow  startprice  charCountDescription  upperCaseDescription  sold  \\\n",
              "0            0      199.99                     0                     0     1   \n",
              "1            0      235.00                     0                     0     0   \n",
              "2            0      199.99                   100                     2     0   \n",
              "3            1      175.00                     0                     0     1   \n",
              "4            1      100.00                     0                     0     1   \n",
              "...        ...         ...                   ...                   ...   ...   \n",
              "1480         0       89.50                    96                     2     0   \n",
              "1481         0      239.95                    97                     5     1   \n",
              "1482         0      329.99                    93                     1     0   \n",
              "1483         0       89.00                    92                     2     1   \n",
              "1484         0      119.99                    96                     5     0   \n",
              "\n",
              "      carrier_AT&T  carrier_None  carrier_Sprint/T-Mobile  carrier_UnKnown  \\\n",
              "0                0             1                        0                0   \n",
              "1                0             1                        0                0   \n",
              "2                0             0                        0                1   \n",
              "3                1             0                        0                0   \n",
              "4                0             1                        0                0   \n",
              "...            ...           ...                      ...              ...   \n",
              "1480             1             0                        0                0   \n",
              "1481             0             1                        0                0   \n",
              "1482             0             1                        0                0   \n",
              "1483             0             1                        0                0   \n",
              "1484             1             0                        0                0   \n",
              "\n",
              "      carrier_Verizon  ...  productline_Galaxy_Note10  \\\n",
              "0                   0  ...                          0   \n",
              "1                   0  ...                          0   \n",
              "2                   0  ...                          0   \n",
              "3                   0  ...                          0   \n",
              "4                   0  ...                          0   \n",
              "...               ...  ...                        ...   \n",
              "1480                0  ...                          0   \n",
              "1481                0  ...                          0   \n",
              "1482                0  ...                          1   \n",
              "1483                0  ...                          0   \n",
              "1484                0  ...                          0   \n",
              "\n",
              "      productline_Galaxy_Note8  productline_Galaxy_Note9  \\\n",
              "0                            0                         0   \n",
              "1                            0                         1   \n",
              "2                            0                         0   \n",
              "3                            0                         1   \n",
              "4                            0                         0   \n",
              "...                        ...                       ...   \n",
              "1480                         0                         0   \n",
              "1481                         0                         0   \n",
              "1482                         0                         0   \n",
              "1483                         0                         0   \n",
              "1484                         0                         0   \n",
              "\n",
              "      productline_Galaxy_S10  productline_Galaxy_S7  productline_Galaxy_S8  \\\n",
              "0                          0                      0                      0   \n",
              "1                          0                      0                      0   \n",
              "2                          0                      0                      0   \n",
              "3                          0                      0                      0   \n",
              "4                          0                      0                      1   \n",
              "...                      ...                    ...                    ...   \n",
              "1480                       0                      1                      0   \n",
              "1481                       0                      0                      0   \n",
              "1482                       0                      0                      0   \n",
              "1483                       0                      1                      0   \n",
              "1484                       0                      1                      0   \n",
              "\n",
              "      productline_Galaxy_S9  productline_Unknown  \\\n",
              "0                         1                    0   \n",
              "1                         0                    0   \n",
              "2                         0                    1   \n",
              "3                         0                    0   \n",
              "4                         0                    0   \n",
              "...                     ...                  ...   \n",
              "1480                      0                    0   \n",
              "1481                      1                    0   \n",
              "1482                      0                    0   \n",
              "1483                      0                    0   \n",
              "1484                      0                    0   \n",
              "\n",
              "      noDescription_contains description  noDescription_no description  \n",
              "0                                      1                             0  \n",
              "1                                      1                             0  \n",
              "2                                      0                             1  \n",
              "3                                      1                             0  \n",
              "4                                      1                             0  \n",
              "...                                  ...                           ...  \n",
              "1480                                   0                             1  \n",
              "1481                                   0                             1  \n",
              "1482                                   0                             1  \n",
              "1483                                   0                             1  \n",
              "1484                                   0                             1  \n",
              "\n",
              "[1485 rows x 25 columns]"
            ],
            "text/html": [
              "\n",
              "  <div id=\"df-f2238758-e254-44e8-9790-5a6c6dbc753a\">\n",
              "    <div class=\"colab-df-container\">\n",
              "      <div>\n",
              "<style scoped>\n",
              "    .dataframe tbody tr th:only-of-type {\n",
              "        vertical-align: middle;\n",
              "    }\n",
              "\n",
              "    .dataframe tbody tr th {\n",
              "        vertical-align: top;\n",
              "    }\n",
              "\n",
              "    .dataframe thead th {\n",
              "        text-align: right;\n",
              "    }\n",
              "</style>\n",
              "<table border=\"1\" class=\"dataframe\">\n",
              "  <thead>\n",
              "    <tr style=\"text-align: right;\">\n",
              "      <th></th>\n",
              "      <th>BuyItNow</th>\n",
              "      <th>startprice</th>\n",
              "      <th>charCountDescription</th>\n",
              "      <th>upperCaseDescription</th>\n",
              "      <th>sold</th>\n",
              "      <th>carrier_AT&amp;T</th>\n",
              "      <th>carrier_None</th>\n",
              "      <th>carrier_Sprint/T-Mobile</th>\n",
              "      <th>carrier_UnKnown</th>\n",
              "      <th>carrier_Verizon</th>\n",
              "      <th>...</th>\n",
              "      <th>productline_Galaxy_Note10</th>\n",
              "      <th>productline_Galaxy_Note8</th>\n",
              "      <th>productline_Galaxy_Note9</th>\n",
              "      <th>productline_Galaxy_S10</th>\n",
              "      <th>productline_Galaxy_S7</th>\n",
              "      <th>productline_Galaxy_S8</th>\n",
              "      <th>productline_Galaxy_S9</th>\n",
              "      <th>productline_Unknown</th>\n",
              "      <th>noDescription_contains description</th>\n",
              "      <th>noDescription_no description</th>\n",
              "    </tr>\n",
              "  </thead>\n",
              "  <tbody>\n",
              "    <tr>\n",
              "      <th>0</th>\n",
              "      <td>0</td>\n",
              "      <td>199.99</td>\n",
              "      <td>0</td>\n",
              "      <td>0</td>\n",
              "      <td>1</td>\n",
              "      <td>0</td>\n",
              "      <td>1</td>\n",
              "      <td>0</td>\n",
              "      <td>0</td>\n",
              "      <td>0</td>\n",
              "      <td>...</td>\n",
              "      <td>0</td>\n",
              "      <td>0</td>\n",
              "      <td>0</td>\n",
              "      <td>0</td>\n",
              "      <td>0</td>\n",
              "      <td>0</td>\n",
              "      <td>1</td>\n",
              "      <td>0</td>\n",
              "      <td>1</td>\n",
              "      <td>0</td>\n",
              "    </tr>\n",
              "    <tr>\n",
              "      <th>1</th>\n",
              "      <td>0</td>\n",
              "      <td>235.00</td>\n",
              "      <td>0</td>\n",
              "      <td>0</td>\n",
              "      <td>0</td>\n",
              "      <td>0</td>\n",
              "      <td>1</td>\n",
              "      <td>0</td>\n",
              "      <td>0</td>\n",
              "      <td>0</td>\n",
              "      <td>...</td>\n",
              "      <td>0</td>\n",
              "      <td>0</td>\n",
              "      <td>1</td>\n",
              "      <td>0</td>\n",
              "      <td>0</td>\n",
              "      <td>0</td>\n",
              "      <td>0</td>\n",
              "      <td>0</td>\n",
              "      <td>1</td>\n",
              "      <td>0</td>\n",
              "    </tr>\n",
              "    <tr>\n",
              "      <th>2</th>\n",
              "      <td>0</td>\n",
              "      <td>199.99</td>\n",
              "      <td>100</td>\n",
              "      <td>2</td>\n",
              "      <td>0</td>\n",
              "      <td>0</td>\n",
              "      <td>0</td>\n",
              "      <td>0</td>\n",
              "      <td>1</td>\n",
              "      <td>0</td>\n",
              "      <td>...</td>\n",
              "      <td>0</td>\n",
              "      <td>0</td>\n",
              "      <td>0</td>\n",
              "      <td>0</td>\n",
              "      <td>0</td>\n",
              "      <td>0</td>\n",
              "      <td>0</td>\n",
              "      <td>1</td>\n",
              "      <td>0</td>\n",
              "      <td>1</td>\n",
              "    </tr>\n",
              "    <tr>\n",
              "      <th>3</th>\n",
              "      <td>1</td>\n",
              "      <td>175.00</td>\n",
              "      <td>0</td>\n",
              "      <td>0</td>\n",
              "      <td>1</td>\n",
              "      <td>1</td>\n",
              "      <td>0</td>\n",
              "      <td>0</td>\n",
              "      <td>0</td>\n",
              "      <td>0</td>\n",
              "      <td>...</td>\n",
              "      <td>0</td>\n",
              "      <td>0</td>\n",
              "      <td>1</td>\n",
              "      <td>0</td>\n",
              "      <td>0</td>\n",
              "      <td>0</td>\n",
              "      <td>0</td>\n",
              "      <td>0</td>\n",
              "      <td>1</td>\n",
              "      <td>0</td>\n",
              "    </tr>\n",
              "    <tr>\n",
              "      <th>4</th>\n",
              "      <td>1</td>\n",
              "      <td>100.00</td>\n",
              "      <td>0</td>\n",
              "      <td>0</td>\n",
              "      <td>1</td>\n",
              "      <td>0</td>\n",
              "      <td>1</td>\n",
              "      <td>0</td>\n",
              "      <td>0</td>\n",
              "      <td>0</td>\n",
              "      <td>...</td>\n",
              "      <td>0</td>\n",
              "      <td>0</td>\n",
              "      <td>0</td>\n",
              "      <td>0</td>\n",
              "      <td>0</td>\n",
              "      <td>1</td>\n",
              "      <td>0</td>\n",
              "      <td>0</td>\n",
              "      <td>1</td>\n",
              "      <td>0</td>\n",
              "    </tr>\n",
              "    <tr>\n",
              "      <th>...</th>\n",
              "      <td>...</td>\n",
              "      <td>...</td>\n",
              "      <td>...</td>\n",
              "      <td>...</td>\n",
              "      <td>...</td>\n",
              "      <td>...</td>\n",
              "      <td>...</td>\n",
              "      <td>...</td>\n",
              "      <td>...</td>\n",
              "      <td>...</td>\n",
              "      <td>...</td>\n",
              "      <td>...</td>\n",
              "      <td>...</td>\n",
              "      <td>...</td>\n",
              "      <td>...</td>\n",
              "      <td>...</td>\n",
              "      <td>...</td>\n",
              "      <td>...</td>\n",
              "      <td>...</td>\n",
              "      <td>...</td>\n",
              "      <td>...</td>\n",
              "    </tr>\n",
              "    <tr>\n",
              "      <th>1480</th>\n",
              "      <td>0</td>\n",
              "      <td>89.50</td>\n",
              "      <td>96</td>\n",
              "      <td>2</td>\n",
              "      <td>0</td>\n",
              "      <td>1</td>\n",
              "      <td>0</td>\n",
              "      <td>0</td>\n",
              "      <td>0</td>\n",
              "      <td>0</td>\n",
              "      <td>...</td>\n",
              "      <td>0</td>\n",
              "      <td>0</td>\n",
              "      <td>0</td>\n",
              "      <td>0</td>\n",
              "      <td>1</td>\n",
              "      <td>0</td>\n",
              "      <td>0</td>\n",
              "      <td>0</td>\n",
              "      <td>0</td>\n",
              "      <td>1</td>\n",
              "    </tr>\n",
              "    <tr>\n",
              "      <th>1481</th>\n",
              "      <td>0</td>\n",
              "      <td>239.95</td>\n",
              "      <td>97</td>\n",
              "      <td>5</td>\n",
              "      <td>1</td>\n",
              "      <td>0</td>\n",
              "      <td>1</td>\n",
              "      <td>0</td>\n",
              "      <td>0</td>\n",
              "      <td>0</td>\n",
              "      <td>...</td>\n",
              "      <td>0</td>\n",
              "      <td>0</td>\n",
              "      <td>0</td>\n",
              "      <td>0</td>\n",
              "      <td>0</td>\n",
              "      <td>0</td>\n",
              "      <td>1</td>\n",
              "      <td>0</td>\n",
              "      <td>0</td>\n",
              "      <td>1</td>\n",
              "    </tr>\n",
              "    <tr>\n",
              "      <th>1482</th>\n",
              "      <td>0</td>\n",
              "      <td>329.99</td>\n",
              "      <td>93</td>\n",
              "      <td>1</td>\n",
              "      <td>0</td>\n",
              "      <td>0</td>\n",
              "      <td>1</td>\n",
              "      <td>0</td>\n",
              "      <td>0</td>\n",
              "      <td>0</td>\n",
              "      <td>...</td>\n",
              "      <td>1</td>\n",
              "      <td>0</td>\n",
              "      <td>0</td>\n",
              "      <td>0</td>\n",
              "      <td>0</td>\n",
              "      <td>0</td>\n",
              "      <td>0</td>\n",
              "      <td>0</td>\n",
              "      <td>0</td>\n",
              "      <td>1</td>\n",
              "    </tr>\n",
              "    <tr>\n",
              "      <th>1483</th>\n",
              "      <td>0</td>\n",
              "      <td>89.00</td>\n",
              "      <td>92</td>\n",
              "      <td>2</td>\n",
              "      <td>1</td>\n",
              "      <td>0</td>\n",
              "      <td>1</td>\n",
              "      <td>0</td>\n",
              "      <td>0</td>\n",
              "      <td>0</td>\n",
              "      <td>...</td>\n",
              "      <td>0</td>\n",
              "      <td>0</td>\n",
              "      <td>0</td>\n",
              "      <td>0</td>\n",
              "      <td>1</td>\n",
              "      <td>0</td>\n",
              "      <td>0</td>\n",
              "      <td>0</td>\n",
              "      <td>0</td>\n",
              "      <td>1</td>\n",
              "    </tr>\n",
              "    <tr>\n",
              "      <th>1484</th>\n",
              "      <td>0</td>\n",
              "      <td>119.99</td>\n",
              "      <td>96</td>\n",
              "      <td>5</td>\n",
              "      <td>0</td>\n",
              "      <td>1</td>\n",
              "      <td>0</td>\n",
              "      <td>0</td>\n",
              "      <td>0</td>\n",
              "      <td>0</td>\n",
              "      <td>...</td>\n",
              "      <td>0</td>\n",
              "      <td>0</td>\n",
              "      <td>0</td>\n",
              "      <td>0</td>\n",
              "      <td>1</td>\n",
              "      <td>0</td>\n",
              "      <td>0</td>\n",
              "      <td>0</td>\n",
              "      <td>0</td>\n",
              "      <td>1</td>\n",
              "    </tr>\n",
              "  </tbody>\n",
              "</table>\n",
              "<p>1485 rows × 25 columns</p>\n",
              "</div>\n",
              "      <button class=\"colab-df-convert\" onclick=\"convertToInteractive('df-f2238758-e254-44e8-9790-5a6c6dbc753a')\"\n",
              "              title=\"Convert this dataframe to an interactive table.\"\n",
              "              style=\"display:none;\">\n",
              "        \n",
              "  <svg xmlns=\"http://www.w3.org/2000/svg\" height=\"24px\"viewBox=\"0 0 24 24\"\n",
              "       width=\"24px\">\n",
              "    <path d=\"M0 0h24v24H0V0z\" fill=\"none\"/>\n",
              "    <path d=\"M18.56 5.44l.94 2.06.94-2.06 2.06-.94-2.06-.94-.94-2.06-.94 2.06-2.06.94zm-11 1L8.5 8.5l.94-2.06 2.06-.94-2.06-.94L8.5 2.5l-.94 2.06-2.06.94zm10 10l.94 2.06.94-2.06 2.06-.94-2.06-.94-.94-2.06-.94 2.06-2.06.94z\"/><path d=\"M17.41 7.96l-1.37-1.37c-.4-.4-.92-.59-1.43-.59-.52 0-1.04.2-1.43.59L10.3 9.45l-7.72 7.72c-.78.78-.78 2.05 0 2.83L4 21.41c.39.39.9.59 1.41.59.51 0 1.02-.2 1.41-.59l7.78-7.78 2.81-2.81c.8-.78.8-2.07 0-2.86zM5.41 20L4 18.59l7.72-7.72 1.47 1.35L5.41 20z\"/>\n",
              "  </svg>\n",
              "      </button>\n",
              "      \n",
              "  <style>\n",
              "    .colab-df-container {\n",
              "      display:flex;\n",
              "      flex-wrap:wrap;\n",
              "      gap: 12px;\n",
              "    }\n",
              "\n",
              "    .colab-df-convert {\n",
              "      background-color: #E8F0FE;\n",
              "      border: none;\n",
              "      border-radius: 50%;\n",
              "      cursor: pointer;\n",
              "      display: none;\n",
              "      fill: #1967D2;\n",
              "      height: 32px;\n",
              "      padding: 0 0 0 0;\n",
              "      width: 32px;\n",
              "    }\n",
              "\n",
              "    .colab-df-convert:hover {\n",
              "      background-color: #E2EBFA;\n",
              "      box-shadow: 0px 1px 2px rgba(60, 64, 67, 0.3), 0px 1px 3px 1px rgba(60, 64, 67, 0.15);\n",
              "      fill: #174EA6;\n",
              "    }\n",
              "\n",
              "    [theme=dark] .colab-df-convert {\n",
              "      background-color: #3B4455;\n",
              "      fill: #D2E3FC;\n",
              "    }\n",
              "\n",
              "    [theme=dark] .colab-df-convert:hover {\n",
              "      background-color: #434B5C;\n",
              "      box-shadow: 0px 1px 3px 1px rgba(0, 0, 0, 0.15);\n",
              "      filter: drop-shadow(0px 1px 2px rgba(0, 0, 0, 0.3));\n",
              "      fill: #FFFFFF;\n",
              "    }\n",
              "  </style>\n",
              "\n",
              "      <script>\n",
              "        const buttonEl =\n",
              "          document.querySelector('#df-f2238758-e254-44e8-9790-5a6c6dbc753a button.colab-df-convert');\n",
              "        buttonEl.style.display =\n",
              "          google.colab.kernel.accessAllowed ? 'block' : 'none';\n",
              "\n",
              "        async function convertToInteractive(key) {\n",
              "          const element = document.querySelector('#df-f2238758-e254-44e8-9790-5a6c6dbc753a');\n",
              "          const dataTable =\n",
              "            await google.colab.kernel.invokeFunction('convertToInteractive',\n",
              "                                                     [key], {});\n",
              "          if (!dataTable) return;\n",
              "\n",
              "          const docLinkHtml = 'Like what you see? Visit the ' +\n",
              "            '<a target=\"_blank\" href=https://colab.research.google.com/notebooks/data_table.ipynb>data table notebook</a>'\n",
              "            + ' to learn more about interactive tables.';\n",
              "          element.innerHTML = '';\n",
              "          dataTable['output_type'] = 'display_data';\n",
              "          await google.colab.output.renderOutput(dataTable, element);\n",
              "          const docLink = document.createElement('div');\n",
              "          docLink.innerHTML = docLinkHtml;\n",
              "          element.appendChild(docLink);\n",
              "        }\n",
              "      </script>\n",
              "    </div>\n",
              "  </div>\n",
              "  "
            ]
          },
          "metadata": {},
          "execution_count": 41
        }
      ]
    },
    {
      "cell_type": "code",
      "source": [
        ""
      ],
      "metadata": {
        "id": "bGWqSsknhJBA"
      },
      "execution_count": null,
      "outputs": []
    },
    {
      "cell_type": "markdown",
      "source": [
        "### Decision Tree모델 만들기"
      ],
      "metadata": {
        "id": "T5RXCywhhKv5"
      }
    },
    {
      "cell_type": "code",
      "source": [
        "from sklearn.model_selection import train_test_split"
      ],
      "metadata": {
        "id": "9j8WLeRahN9i"
      },
      "execution_count": 42,
      "outputs": []
    },
    {
      "cell_type": "code",
      "source": [
        "X = data.drop('sold', axis = 1)\n",
        "y = data['sold']"
      ],
      "metadata": {
        "id": "wlys0Ta_hWHD"
      },
      "execution_count": 43,
      "outputs": []
    },
    {
      "cell_type": "code",
      "source": [
        "X_train, X_test, y_train, y_test = train_test_split(X, y, test_size = 0.2, random_state=100)"
      ],
      "metadata": {
        "id": "C1QcfkQOhWkh"
      },
      "execution_count": 44,
      "outputs": []
    },
    {
      "cell_type": "code",
      "source": [
        "from sklearn.tree import DecisionTreeClassifier"
      ],
      "metadata": {
        "id": "qgPR54sjhWnc"
      },
      "execution_count": 45,
      "outputs": []
    },
    {
      "cell_type": "code",
      "source": [
        "model = DecisionTreeClassifier(max_depth = 10)"
      ],
      "metadata": {
        "id": "lvwraOKAhWqh"
      },
      "execution_count": 46,
      "outputs": []
    },
    {
      "cell_type": "code",
      "source": [
        "model.fit(X_train, y_train)"
      ],
      "metadata": {
        "colab": {
          "base_uri": "https://localhost:8080/"
        },
        "id": "dn083xcZhWtE",
        "outputId": "79a171e6-e6f6-432b-8dea-a319d88f6d07"
      },
      "execution_count": 47,
      "outputs": [
        {
          "output_type": "execute_result",
          "data": {
            "text/plain": [
              "DecisionTreeClassifier(max_depth=10)"
            ]
          },
          "metadata": {},
          "execution_count": 47
        }
      ]
    },
    {
      "cell_type": "code",
      "source": [
        ""
      ],
      "metadata": {
        "id": "7iGs4W0lhdR3"
      },
      "execution_count": null,
      "outputs": []
    },
    {
      "cell_type": "markdown",
      "source": [
        "### 예측"
      ],
      "metadata": {
        "id": "v3R6wfQ0hd3s"
      }
    },
    {
      "cell_type": "code",
      "source": [
        "pred = model.predict(X_test)"
      ],
      "metadata": {
        "id": "LEkko3oghfeT"
      },
      "execution_count": 48,
      "outputs": []
    },
    {
      "cell_type": "code",
      "source": [
        "y_test"
      ],
      "metadata": {
        "colab": {
          "base_uri": "https://localhost:8080/"
        },
        "id": "r0MgBIFyhf4z",
        "outputId": "5b4f9d36-46ea-4e88-be58-16f1b9cba1d0"
      },
      "execution_count": 49,
      "outputs": [
        {
          "output_type": "execute_result",
          "data": {
            "text/plain": [
              "258     1\n",
              "57      0\n",
              "225     1\n",
              "704     0\n",
              "1096    0\n",
              "       ..\n",
              "44      0\n",
              "1399    1\n",
              "1035    0\n",
              "259     1\n",
              "532     1\n",
              "Name: sold, Length: 297, dtype: int64"
            ]
          },
          "metadata": {},
          "execution_count": 49
        }
      ]
    },
    {
      "cell_type": "code",
      "source": [
        ""
      ],
      "metadata": {
        "id": "JP54G9sChf7D"
      },
      "execution_count": null,
      "outputs": []
    },
    {
      "cell_type": "markdown",
      "source": [
        "### 평가"
      ],
      "metadata": {
        "id": "43kUHAouhkL_"
      }
    },
    {
      "cell_type": "code",
      "source": [
        "from sklearn.metrics import accuracy_score, confusion_matrix"
      ],
      "metadata": {
        "id": "_iTODrOihf9X"
      },
      "execution_count": 50,
      "outputs": []
    },
    {
      "cell_type": "code",
      "source": [
        "accuracy_score(y_test, pred)"
      ],
      "metadata": {
        "colab": {
          "base_uri": "https://localhost:8080/"
        },
        "id": "B0sXNUGphf_j",
        "outputId": "18fdf8c7-2294-4039-b78e-b894caec8bc8"
      },
      "execution_count": 51,
      "outputs": [
        {
          "output_type": "execute_result",
          "data": {
            "text/plain": [
              "0.8047138047138047"
            ]
          },
          "metadata": {},
          "execution_count": 51
        }
      ]
    },
    {
      "cell_type": "markdown",
      "source": [
        "### 최적의 Max Depth 찾기 (파라미터 튜닝)"
      ],
      "metadata": {
        "id": "j9XfuevMhx91"
      }
    },
    {
      "cell_type": "code",
      "source": [
        "for i in range(2, 31):\n",
        "    model = DecisionTreeClassifier(max_depth = i)\n",
        "    model.fit(X_train, y_train)\n",
        "    pred = model.predict(X_test)\n",
        "    print(i, round(accuracy_score(y_test, pred), 4))\n",
        "    "
      ],
      "metadata": {
        "colab": {
          "base_uri": "https://localhost:8080/"
        },
        "id": "IBnMj0M_hgBo",
        "outputId": "e50fb2fd-f6f7-48f4-ca65-22d8235c1b50"
      },
      "execution_count": 52,
      "outputs": [
        {
          "output_type": "stream",
          "name": "stdout",
          "text": [
            "2 0.8182\n",
            "3 0.8316\n",
            "4 0.8316\n",
            "5 0.8249\n",
            "6 0.8081\n",
            "7 0.8182\n",
            "8 0.8081\n",
            "9 0.8013\n",
            "10 0.7912\n",
            "11 0.7912\n",
            "12 0.7879\n",
            "13 0.771\n",
            "14 0.771\n",
            "15 0.7677\n",
            "16 0.7609\n",
            "17 0.7508\n",
            "18 0.7374\n",
            "19 0.7441\n",
            "20 0.7542\n",
            "21 0.7407\n",
            "22 0.7407\n",
            "23 0.7542\n",
            "24 0.7643\n",
            "25 0.7609\n",
            "26 0.7508\n",
            "27 0.7441\n",
            "28 0.7677\n",
            "29 0.7576\n",
            "30 0.7441\n"
          ]
        }
      ]
    },
    {
      "cell_type": "markdown",
      "source": [
        "위의 For loop에 숫자를 2~30까지 집어넣었으므로, score에 들어있는 숫자는 i가 2,3,4,5,6,.. 일때 결과값.\n",
        "즉, 최종적으로 얻은 score리스트에서 가장 큰 숫자가 index 1의 위치에 있다는것은 i가 3일 때를 의미함. 다시말해, i가 3일 때 가장 높은 스코어를 보여줌"
      ],
      "metadata": {
        "id": "9812cgC1iJTA"
      }
    },
    {
      "cell_type": "code",
      "source": [
        ""
      ],
      "metadata": {
        "id": "oLJw1IX6h5fe"
      },
      "execution_count": null,
      "outputs": []
    },
    {
      "cell_type": "markdown",
      "source": [
        "### 최적의 Max Depth를 사용하여 다시 모델링하고 평가"
      ],
      "metadata": {
        "id": "BCc4f73ZiMIr"
      }
    },
    {
      "cell_type": "code",
      "source": [
        "model = DecisionTreeClassifier(max_depth = 3)"
      ],
      "metadata": {
        "id": "-AxrZoB8iNjg"
      },
      "execution_count": 53,
      "outputs": []
    },
    {
      "cell_type": "code",
      "source": [
        "model.fit(X_train, y_train)"
      ],
      "metadata": {
        "colab": {
          "base_uri": "https://localhost:8080/"
        },
        "id": "C1XSqhf8iRMI",
        "outputId": "04d93f57-bd4d-4a0c-9831-6e0eb4ec4555"
      },
      "execution_count": 54,
      "outputs": [
        {
          "output_type": "execute_result",
          "data": {
            "text/plain": [
              "DecisionTreeClassifier(max_depth=3)"
            ]
          },
          "metadata": {},
          "execution_count": 54
        }
      ]
    },
    {
      "cell_type": "code",
      "source": [
        "pred = model.predict(X_test)"
      ],
      "metadata": {
        "id": "1Rf7rJTfiR7h"
      },
      "execution_count": 55,
      "outputs": []
    },
    {
      "cell_type": "code",
      "source": [
        "accuracy_score(y_test, pred)\n"
      ],
      "metadata": {
        "colab": {
          "base_uri": "https://localhost:8080/"
        },
        "id": "YGFuXMMliSpm",
        "outputId": "5a2cbf94-d7c7-45c3-ae9d-d35251f97c1d"
      },
      "execution_count": 56,
      "outputs": [
        {
          "output_type": "execute_result",
          "data": {
            "text/plain": [
              "0.8316498316498316"
            ]
          },
          "metadata": {},
          "execution_count": 56
        }
      ]
    },
    {
      "cell_type": "code",
      "source": [
        "confusion_matrix(y_test, pred)"
      ],
      "metadata": {
        "colab": {
          "base_uri": "https://localhost:8080/"
        },
        "id": "FIR8U1VmiUJc",
        "outputId": "1e032f43-a58f-40af-ed3a-ed0b956dea8e"
      },
      "execution_count": 57,
      "outputs": [
        {
          "output_type": "execute_result",
          "data": {
            "text/plain": [
              "array([[151,  10],\n",
              "       [ 40,  96]])"
            ]
          },
          "metadata": {},
          "execution_count": 57
        }
      ]
    },
    {
      "cell_type": "code",
      "source": [
        ""
      ],
      "metadata": {
        "id": "LlNJEMZliVGI"
      },
      "execution_count": null,
      "outputs": []
    },
    {
      "cell_type": "markdown",
      "source": [
        "### Tree plot만들기"
      ],
      "metadata": {
        "id": "gDeyTsRFipfl"
      }
    },
    {
      "cell_type": "code",
      "source": [
        "from sklearn.tree import plot_tree"
      ],
      "metadata": {
        "id": "agJZPpL9irRC"
      },
      "execution_count": 58,
      "outputs": []
    },
    {
      "cell_type": "code",
      "source": [
        "plt.figure(figsize=(20,10))\n",
        "plot_tree(model, feature_names = X_train.columns, fontsize=15, label='None')"
      ],
      "metadata": {
        "colab": {
          "base_uri": "https://localhost:8080/",
          "height": 706
        },
        "id": "V2CIEig8ixeo",
        "outputId": "a7bb7083-bba1-482f-f29f-3e79dec5e2bf"
      },
      "execution_count": 71,
      "outputs": [
        {
          "output_type": "execute_result",
          "data": {
            "text/plain": [
              "[Text(0.5, 0.875, 'BuyItNow <= 0.5\\n0.497\\n1188\\n[638, 550]'),\n",
              " Text(0.25, 0.625, 'startprice <= 208.495\\n0.357\\n659\\n[506, 153]'),\n",
              " Text(0.125, 0.375, 'productline_Galaxy_S9 <= 0.5\\n0.442\\n240\\n[161, 79]'),\n",
              " Text(0.0625, 0.125, '0.43\\n230\\n[158, 72]'),\n",
              " Text(0.1875, 0.125, '0.42\\n10\\n[3, 7]'),\n",
              " Text(0.375, 0.375, 'upperCaseDescription <= 5.5\\n0.291\\n419\\n[345, 74]'),\n",
              " Text(0.3125, 0.125, '0.319\\n367\\n[294, 73]'),\n",
              " Text(0.4375, 0.125, '0.038\\n52\\n[51, 1]'),\n",
              " Text(0.75, 0.625, 'startprice <= 142.475\\n0.375\\n529\\n[132, 397]'),\n",
              " Text(0.625, 0.375, 'startprice <= 59.995\\n0.216\\n332\\n[41, 291]'),\n",
              " Text(0.5625, 0.125, '0.108\\n210\\n[12, 198]'),\n",
              " Text(0.6875, 0.125, '0.362\\n122\\n[29, 93]'),\n",
              " Text(0.875, 0.375, 'productline_Galaxy_Note10 <= 0.5\\n0.497\\n197\\n[91, 106]'),\n",
              " Text(0.8125, 0.125, '0.495\\n125\\n[69, 56]'),\n",
              " Text(0.9375, 0.125, '0.424\\n72\\n[22, 50]')]"
            ]
          },
          "metadata": {},
          "execution_count": 71
        },
        {
          "output_type": "display_data",
          "data": {
            "text/plain": [
              "<Figure size 1440x720 with 1 Axes>"
            ],
            "image/png": "[encoded data removed]"
          },
          "metadata": {
            "needs_background": "light"
          }
        }
      ]
    },
    {
      "cell_type": "code",
      "source": [
        "#depth줄이기\n",
        "plt.figure(figsize=(20,10))\n",
        "plot_tree(model, feature_names = X_train.columns, fontsize=15, label='None',max_depth=2)"
      ],
      "metadata": {
        "colab": {
          "base_uri": "https://localhost:8080/",
          "height": 706
        },
        "id": "FKpIp0VTiyOh",
        "outputId": "522cab73-1091-4f45-909d-45302847839a"
      },
      "execution_count": 70,
      "outputs": [
        {
          "output_type": "execute_result",
          "data": {
            "text/plain": [
              "[Text(0.5, 0.875, 'BuyItNow <= 0.5\\n0.497\\n1188\\n[638, 550]'),\n",
              " Text(0.25, 0.625, 'startprice <= 208.495\\n0.357\\n659\\n[506, 153]'),\n",
              " Text(0.125, 0.375, 'productline_Galaxy_S9 <= 0.5\\n0.442\\n240\\n[161, 79]'),\n",
              " Text(0.0625, 0.125, '\\n  (...)  \\n'),\n",
              " Text(0.1875, 0.125, '\\n  (...)  \\n'),\n",
              " Text(0.375, 0.375, 'upperCaseDescription <= 5.5\\n0.291\\n419\\n[345, 74]'),\n",
              " Text(0.3125, 0.125, '\\n  (...)  \\n'),\n",
              " Text(0.4375, 0.125, '\\n  (...)  \\n'),\n",
              " Text(0.75, 0.625, 'startprice <= 142.475\\n0.375\\n529\\n[132, 397]'),\n",
              " Text(0.625, 0.375, 'startprice <= 59.995\\n0.216\\n332\\n[41, 291]'),\n",
              " Text(0.5625, 0.125, '\\n  (...)  \\n'),\n",
              " Text(0.6875, 0.125, '\\n  (...)  \\n'),\n",
              " Text(0.875, 0.375, 'productline_Galaxy_Note10 <= 0.5\\n0.497\\n197\\n[91, 106]'),\n",
              " Text(0.8125, 0.125, '\\n  (...)  \\n'),\n",
              " Text(0.9375, 0.125, '\\n  (...)  \\n')]"
            ]
          },
          "metadata": {},
          "execution_count": 70
        },
        {
          "output_type": "display_data",
          "data": {
            "text/plain": [
              "<Figure size 1440x720 with 1 Axes>"
            ],
            "image/png": "[encoded data removed]"
          },
          "metadata": {
            "needs_background": "light"
          }
        }
      ]
    },
    {
      "cell_type": "code",
      "source": [
        ""
      ],
      "metadata": {
        "id": "jJuAAvINktrX"
      },
      "execution_count": null,
      "outputs": []
    }
  ]
}