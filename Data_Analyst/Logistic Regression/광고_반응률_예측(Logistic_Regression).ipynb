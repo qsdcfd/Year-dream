{
  "nbformat": 4,
  "nbformat_minor": 0,
  "metadata": {
    "colab": {
      "name": "광고 반응률 예측(Logistic Regression)",
      "provenance": [],
      "authorship_tag": "ABX9TyNysuLXok3Vbnlg3aQVkhye"
    },
    "kernelspec": {
      "name": "python3",
      "display_name": "Python 3"
    },
    "language_info": {
      "name": "python"
    }
  },
  "cells": [
    {
      "cell_type": "markdown",
      "source": [
        "### 로지스틱 회귀\n",
        "\n",
        "0과 1로 표현\n",
        "\n",
        "![image.png](data:image/png;base64,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)"
      ],
      "metadata": {
        "id": "Lkz3H-cEKisn"
      }
    },
    {
      "cell_type": "markdown",
      "source": [
        "### 분석의 목적\n",
        "\n",
        "- 이진분류 데이터\n",
        "\n",
        "- 광고를 클릭했는지 안했는지\n",
        "\n",
        "- 고객 관련 데이터(성별, 사용 내역)"
      ],
      "metadata": {
        "id": "dI9wYvth819L"
      }
    },
    {
      "cell_type": "markdown",
      "source": [
        "### 컬럼\n",
        "\n",
        "- Clicked on Ad: 종속변수(예측)\n",
        "\n",
        "- Area income: 개인의 수입을 알기는 어렵기에 사회적인 또다른 통계적 지표를 통해서 지역별 수입으로 대체"
      ],
      "metadata": {
        "id": "j2ujBCAL82Ag"
      }
    },
    {
      "cell_type": "markdown",
      "source": [
        ""
      ],
      "metadata": {
        "id": "B_SLfqfe82DZ"
      }
    },
    {
      "cell_type": "code",
      "source": [
        "import pandas as pd\n",
        "import numpy as np\n",
        "\n",
        "import matplotlib.pyplot as plt\n",
        "import seaborn as sns"
      ],
      "metadata": {
        "id": "sF7KP9is9ZEk"
      },
      "execution_count": 1,
      "outputs": []
    },
    {
      "cell_type": "code",
      "source": [
        "data = pd.read_csv('/content/advertising.csv')\n",
        "data"
      ],
      "metadata": {
        "colab": {
          "base_uri": "https://localhost:8080/",
          "height": 921
        },
        "id": "7YIAlWAu9fOd",
        "outputId": "d49ffca7-2c93-4e6d-8971-a6ec3cc4a29f"
      },
      "execution_count": 2,
      "outputs": [
        {
          "output_type": "execute_result",
          "data": {
            "text/plain": [
              "     Daily Time Spent on Site   Age  Area Income  Daily Internet Usage  \\\n",
              "0                       68.95   NaN     61833.90                256.09   \n",
              "1                       80.23  31.0     68441.85                193.77   \n",
              "2                       69.47  26.0     59785.94                236.50   \n",
              "3                       74.15  29.0     54806.18                245.89   \n",
              "4                       68.37  35.0     73889.99                225.58   \n",
              "..                        ...   ...          ...                   ...   \n",
              "995                     72.97  30.0     71384.57                208.58   \n",
              "996                     51.30  45.0     67782.17                134.42   \n",
              "997                     51.63  51.0     42415.72                120.37   \n",
              "998                     55.55  19.0     41920.79                187.95   \n",
              "999                     45.01  26.0     29875.80                178.35   \n",
              "\n",
              "                             Ad Topic Line            City  Male  \\\n",
              "0       Cloned 5thgeneration orchestration     Wrightburgh     0   \n",
              "1       Monitored national standardization       West Jodi     1   \n",
              "2         Organic bottom-line service-desk        Davidton     0   \n",
              "3    Triple-buffered reciprocal time-frame  West Terrifurt     1   \n",
              "4            Robust logistical utilization    South Manuel     0   \n",
              "..                                     ...             ...   ...   \n",
              "995          Fundamental modular algorithm       Duffystad     1   \n",
              "996        Grass-roots cohesive monitoring     New Darlene     1   \n",
              "997           Expanded intangible solution   South Jessica     1   \n",
              "998   Proactive bandwidth-monitored policy     West Steven     0   \n",
              "999        Virtual 5thgeneration emulation     Ronniemouth     0   \n",
              "\n",
              "                    Country        Timestamp  Clicked on Ad  \n",
              "0                   Tunisia   3/27/2016 0:53              0  \n",
              "1                     Nauru    4/4/2016 1:39              0  \n",
              "2                San Marino  3/13/2016 20:35              0  \n",
              "3                     Italy   1/10/2016 2:31              0  \n",
              "4                   Iceland    6/3/2016 3:36              0  \n",
              "..                      ...              ...            ...  \n",
              "995                 Lebanon  2/11/2016 21:49              1  \n",
              "996  Bosnia and Herzegovina   4/22/2016 2:07              1  \n",
              "997                Mongolia   2/1/2016 17:24              1  \n",
              "998               Guatemala   3/24/2016 2:35              0  \n",
              "999                  Brazil   6/3/2016 21:43              1  \n",
              "\n",
              "[1000 rows x 10 columns]"
            ],
            "text/html": [
              "\n",
              "  <div id=\"df-c4ba30a9-5be0-48f4-9a6e-9a0a03521baa\">\n",
              "    <div class=\"colab-df-container\">\n",
              "      <div>\n",
              "<style scoped>\n",
              "    .dataframe tbody tr th:only-of-type {\n",
              "        vertical-align: middle;\n",
              "    }\n",
              "\n",
              "    .dataframe tbody tr th {\n",
              "        vertical-align: top;\n",
              "    }\n",
              "\n",
              "    .dataframe thead th {\n",
              "        text-align: right;\n",
              "    }\n",
              "</style>\n",
              "<table border=\"1\" class=\"dataframe\">\n",
              "  <thead>\n",
              "    <tr style=\"text-align: right;\">\n",
              "      <th></th>\n",
              "      <th>Daily Time Spent on Site</th>\n",
              "      <th>Age</th>\n",
              "      <th>Area Income</th>\n",
              "      <th>Daily Internet Usage</th>\n",
              "      <th>Ad Topic Line</th>\n",
              "      <th>City</th>\n",
              "      <th>Male</th>\n",
              "      <th>Country</th>\n",
              "      <th>Timestamp</th>\n",
              "      <th>Clicked on Ad</th>\n",
              "    </tr>\n",
              "  </thead>\n",
              "  <tbody>\n",
              "    <tr>\n",
              "      <th>0</th>\n",
              "      <td>68.95</td>\n",
              "      <td>NaN</td>\n",
              "      <td>61833.90</td>\n",
              "      <td>256.09</td>\n",
              "      <td>Cloned 5thgeneration orchestration</td>\n",
              "      <td>Wrightburgh</td>\n",
              "      <td>0</td>\n",
              "      <td>Tunisia</td>\n",
              "      <td>3/27/2016 0:53</td>\n",
              "      <td>0</td>\n",
              "    </tr>\n",
              "    <tr>\n",
              "      <th>1</th>\n",
              "      <td>80.23</td>\n",
              "      <td>31.0</td>\n",
              "      <td>68441.85</td>\n",
              "      <td>193.77</td>\n",
              "      <td>Monitored national standardization</td>\n",
              "      <td>West Jodi</td>\n",
              "      <td>1</td>\n",
              "      <td>Nauru</td>\n",
              "      <td>4/4/2016 1:39</td>\n",
              "      <td>0</td>\n",
              "    </tr>\n",
              "    <tr>\n",
              "      <th>2</th>\n",
              "      <td>69.47</td>\n",
              "      <td>26.0</td>\n",
              "      <td>59785.94</td>\n",
              "      <td>236.50</td>\n",
              "      <td>Organic bottom-line service-desk</td>\n",
              "      <td>Davidton</td>\n",
              "      <td>0</td>\n",
              "      <td>San Marino</td>\n",
              "      <td>3/13/2016 20:35</td>\n",
              "      <td>0</td>\n",
              "    </tr>\n",
              "    <tr>\n",
              "      <th>3</th>\n",
              "      <td>74.15</td>\n",
              "      <td>29.0</td>\n",
              "      <td>54806.18</td>\n",
              "      <td>245.89</td>\n",
              "      <td>Triple-buffered reciprocal time-frame</td>\n",
              "      <td>West Terrifurt</td>\n",
              "      <td>1</td>\n",
              "      <td>Italy</td>\n",
              "      <td>1/10/2016 2:31</td>\n",
              "      <td>0</td>\n",
              "    </tr>\n",
              "    <tr>\n",
              "      <th>4</th>\n",
              "      <td>68.37</td>\n",
              "      <td>35.0</td>\n",
              "      <td>73889.99</td>\n",
              "      <td>225.58</td>\n",
              "      <td>Robust logistical utilization</td>\n",
              "      <td>South Manuel</td>\n",
              "      <td>0</td>\n",
              "      <td>Iceland</td>\n",
              "      <td>6/3/2016 3:36</td>\n",
              "      <td>0</td>\n",
              "    </tr>\n",
              "    <tr>\n",
              "      <th>...</th>\n",
              "      <td>...</td>\n",
              "      <td>...</td>\n",
              "      <td>...</td>\n",
              "      <td>...</td>\n",
              "      <td>...</td>\n",
              "      <td>...</td>\n",
              "      <td>...</td>\n",
              "      <td>...</td>\n",
              "      <td>...</td>\n",
              "      <td>...</td>\n",
              "    </tr>\n",
              "    <tr>\n",
              "      <th>995</th>\n",
              "      <td>72.97</td>\n",
              "      <td>30.0</td>\n",
              "      <td>71384.57</td>\n",
              "      <td>208.58</td>\n",
              "      <td>Fundamental modular algorithm</td>\n",
              "      <td>Duffystad</td>\n",
              "      <td>1</td>\n",
              "      <td>Lebanon</td>\n",
              "      <td>2/11/2016 21:49</td>\n",
              "      <td>1</td>\n",
              "    </tr>\n",
              "    <tr>\n",
              "      <th>996</th>\n",
              "      <td>51.30</td>\n",
              "      <td>45.0</td>\n",
              "      <td>67782.17</td>\n",
              "      <td>134.42</td>\n",
              "      <td>Grass-roots cohesive monitoring</td>\n",
              "      <td>New Darlene</td>\n",
              "      <td>1</td>\n",
              "      <td>Bosnia and Herzegovina</td>\n",
              "      <td>4/22/2016 2:07</td>\n",
              "      <td>1</td>\n",
              "    </tr>\n",
              "    <tr>\n",
              "      <th>997</th>\n",
              "      <td>51.63</td>\n",
              "      <td>51.0</td>\n",
              "      <td>42415.72</td>\n",
              "      <td>120.37</td>\n",
              "      <td>Expanded intangible solution</td>\n",
              "      <td>South Jessica</td>\n",
              "      <td>1</td>\n",
              "      <td>Mongolia</td>\n",
              "      <td>2/1/2016 17:24</td>\n",
              "      <td>1</td>\n",
              "    </tr>\n",
              "    <tr>\n",
              "      <th>998</th>\n",
              "      <td>55.55</td>\n",
              "      <td>19.0</td>\n",
              "      <td>41920.79</td>\n",
              "      <td>187.95</td>\n",
              "      <td>Proactive bandwidth-monitored policy</td>\n",
              "      <td>West Steven</td>\n",
              "      <td>0</td>\n",
              "      <td>Guatemala</td>\n",
              "      <td>3/24/2016 2:35</td>\n",
              "      <td>0</td>\n",
              "    </tr>\n",
              "    <tr>\n",
              "      <th>999</th>\n",
              "      <td>45.01</td>\n",
              "      <td>26.0</td>\n",
              "      <td>29875.80</td>\n",
              "      <td>178.35</td>\n",
              "      <td>Virtual 5thgeneration emulation</td>\n",
              "      <td>Ronniemouth</td>\n",
              "      <td>0</td>\n",
              "      <td>Brazil</td>\n",
              "      <td>6/3/2016 21:43</td>\n",
              "      <td>1</td>\n",
              "    </tr>\n",
              "  </tbody>\n",
              "</table>\n",
              "<p>1000 rows × 10 columns</p>\n",
              "</div>\n",
              "      <button class=\"colab-df-convert\" onclick=\"convertToInteractive('df-c4ba30a9-5be0-48f4-9a6e-9a0a03521baa')\"\n",
              "              title=\"Convert this dataframe to an interactive table.\"\n",
              "              style=\"display:none;\">\n",
              "        \n",
              "  <svg xmlns=\"http://www.w3.org/2000/svg\" height=\"24px\"viewBox=\"0 0 24 24\"\n",
              "       width=\"24px\">\n",
              "    <path d=\"M0 0h24v24H0V0z\" fill=\"none\"/>\n",
              "    <path d=\"M18.56 5.44l.94 2.06.94-2.06 2.06-.94-2.06-.94-.94-2.06-.94 2.06-2.06.94zm-11 1L8.5 8.5l.94-2.06 2.06-.94-2.06-.94L8.5 2.5l-.94 2.06-2.06.94zm10 10l.94 2.06.94-2.06 2.06-.94-2.06-.94-.94-2.06-.94 2.06-2.06.94z\"/><path d=\"M17.41 7.96l-1.37-1.37c-.4-.4-.92-.59-1.43-.59-.52 0-1.04.2-1.43.59L10.3 9.45l-7.72 7.72c-.78.78-.78 2.05 0 2.83L4 21.41c.39.39.9.59 1.41.59.51 0 1.02-.2 1.41-.59l7.78-7.78 2.81-2.81c.8-.78.8-2.07 0-2.86zM5.41 20L4 18.59l7.72-7.72 1.47 1.35L5.41 20z\"/>\n",
              "  </svg>\n",
              "      </button>\n",
              "      \n",
              "  <style>\n",
              "    .colab-df-container {\n",
              "      display:flex;\n",
              "      flex-wrap:wrap;\n",
              "      gap: 12px;\n",
              "    }\n",
              "\n",
              "    .colab-df-convert {\n",
              "      background-color: #E8F0FE;\n",
              "      border: none;\n",
              "      border-radius: 50%;\n",
              "      cursor: pointer;\n",
              "      display: none;\n",
              "      fill: #1967D2;\n",
              "      height: 32px;\n",
              "      padding: 0 0 0 0;\n",
              "      width: 32px;\n",
              "    }\n",
              "\n",
              "    .colab-df-convert:hover {\n",
              "      background-color: #E2EBFA;\n",
              "      box-shadow: 0px 1px 2px rgba(60, 64, 67, 0.3), 0px 1px 3px 1px rgba(60, 64, 67, 0.15);\n",
              "      fill: #174EA6;\n",
              "    }\n",
              "\n",
              "    [theme=dark] .colab-df-convert {\n",
              "      background-color: #3B4455;\n",
              "      fill: #D2E3FC;\n",
              "    }\n",
              "\n",
              "    [theme=dark] .colab-df-convert:hover {\n",
              "      background-color: #434B5C;\n",
              "      box-shadow: 0px 1px 3px 1px rgba(0, 0, 0, 0.15);\n",
              "      filter: drop-shadow(0px 1px 2px rgba(0, 0, 0, 0.3));\n",
              "      fill: #FFFFFF;\n",
              "    }\n",
              "  </style>\n",
              "\n",
              "      <script>\n",
              "        const buttonEl =\n",
              "          document.querySelector('#df-c4ba30a9-5be0-48f4-9a6e-9a0a03521baa button.colab-df-convert');\n",
              "        buttonEl.style.display =\n",
              "          google.colab.kernel.accessAllowed ? 'block' : 'none';\n",
              "\n",
              "        async function convertToInteractive(key) {\n",
              "          const element = document.querySelector('#df-c4ba30a9-5be0-48f4-9a6e-9a0a03521baa');\n",
              "          const dataTable =\n",
              "            await google.colab.kernel.invokeFunction('convertToInteractive',\n",
              "                                                     [key], {});\n",
              "          if (!dataTable) return;\n",
              "\n",
              "          const docLinkHtml = 'Like what you see? Visit the ' +\n",
              "            '<a target=\"_blank\" href=https://colab.research.google.com/notebooks/data_table.ipynb>data table notebook</a>'\n",
              "            + ' to learn more about interactive tables.';\n",
              "          element.innerHTML = '';\n",
              "          dataTable['output_type'] = 'display_data';\n",
              "          await google.colab.output.renderOutput(dataTable, element);\n",
              "          const docLink = document.createElement('div');\n",
              "          docLink.innerHTML = docLinkHtml;\n",
              "          element.appendChild(docLink);\n",
              "        }\n",
              "      </script>\n",
              "    </div>\n",
              "  </div>\n",
              "  "
            ]
          },
          "metadata": {},
          "execution_count": 2
        }
      ]
    },
    {
      "cell_type": "code",
      "source": [
        "data.head()"
      ],
      "metadata": {
        "colab": {
          "base_uri": "https://localhost:8080/",
          "height": 513
        },
        "id": "CZJ5EZXx9k4y",
        "outputId": "49e3a5e6-0af1-4629-8d05-1e56003fe5a3"
      },
      "execution_count": 3,
      "outputs": [
        {
          "output_type": "execute_result",
          "data": {
            "text/plain": [
              "   Daily Time Spent on Site   Age  Area Income  Daily Internet Usage  \\\n",
              "0                     68.95   NaN     61833.90                256.09   \n",
              "1                     80.23  31.0     68441.85                193.77   \n",
              "2                     69.47  26.0     59785.94                236.50   \n",
              "3                     74.15  29.0     54806.18                245.89   \n",
              "4                     68.37  35.0     73889.99                225.58   \n",
              "\n",
              "                           Ad Topic Line            City  Male     Country  \\\n",
              "0     Cloned 5thgeneration orchestration     Wrightburgh     0     Tunisia   \n",
              "1     Monitored national standardization       West Jodi     1       Nauru   \n",
              "2       Organic bottom-line service-desk        Davidton     0  San Marino   \n",
              "3  Triple-buffered reciprocal time-frame  West Terrifurt     1       Italy   \n",
              "4          Robust logistical utilization    South Manuel     0     Iceland   \n",
              "\n",
              "         Timestamp  Clicked on Ad  \n",
              "0   3/27/2016 0:53              0  \n",
              "1    4/4/2016 1:39              0  \n",
              "2  3/13/2016 20:35              0  \n",
              "3   1/10/2016 2:31              0  \n",
              "4    6/3/2016 3:36              0  "
            ],
            "text/html": [
              "\n",
              "  <div id=\"df-3bce7bb9-e7d2-44f4-8b04-5e6c5a3ba65a\">\n",
              "    <div class=\"colab-df-container\">\n",
              "      <div>\n",
              "<style scoped>\n",
              "    .dataframe tbody tr th:only-of-type {\n",
              "        vertical-align: middle;\n",
              "    }\n",
              "\n",
              "    .dataframe tbody tr th {\n",
              "        vertical-align: top;\n",
              "    }\n",
              "\n",
              "    .dataframe thead th {\n",
              "        text-align: right;\n",
              "    }\n",
              "</style>\n",
              "<table border=\"1\" class=\"dataframe\">\n",
              "  <thead>\n",
              "    <tr style=\"text-align: right;\">\n",
              "      <th></th>\n",
              "      <th>Daily Time Spent on Site</th>\n",
              "      <th>Age</th>\n",
              "      <th>Area Income</th>\n",
              "      <th>Daily Internet Usage</th>\n",
              "      <th>Ad Topic Line</th>\n",
              "      <th>City</th>\n",
              "      <th>Male</th>\n",
              "      <th>Country</th>\n",
              "      <th>Timestamp</th>\n",
              "      <th>Clicked on Ad</th>\n",
              "    </tr>\n",
              "  </thead>\n",
              "  <tbody>\n",
              "    <tr>\n",
              "      <th>0</th>\n",
              "      <td>68.95</td>\n",
              "      <td>NaN</td>\n",
              "      <td>61833.90</td>\n",
              "      <td>256.09</td>\n",
              "      <td>Cloned 5thgeneration orchestration</td>\n",
              "      <td>Wrightburgh</td>\n",
              "      <td>0</td>\n",
              "      <td>Tunisia</td>\n",
              "      <td>3/27/2016 0:53</td>\n",
              "      <td>0</td>\n",
              "    </tr>\n",
              "    <tr>\n",
              "      <th>1</th>\n",
              "      <td>80.23</td>\n",
              "      <td>31.0</td>\n",
              "      <td>68441.85</td>\n",
              "      <td>193.77</td>\n",
              "      <td>Monitored national standardization</td>\n",
              "      <td>West Jodi</td>\n",
              "      <td>1</td>\n",
              "      <td>Nauru</td>\n",
              "      <td>4/4/2016 1:39</td>\n",
              "      <td>0</td>\n",
              "    </tr>\n",
              "    <tr>\n",
              "      <th>2</th>\n",
              "      <td>69.47</td>\n",
              "      <td>26.0</td>\n",
              "      <td>59785.94</td>\n",
              "      <td>236.50</td>\n",
              "      <td>Organic bottom-line service-desk</td>\n",
              "      <td>Davidton</td>\n",
              "      <td>0</td>\n",
              "      <td>San Marino</td>\n",
              "      <td>3/13/2016 20:35</td>\n",
              "      <td>0</td>\n",
              "    </tr>\n",
              "    <tr>\n",
              "      <th>3</th>\n",
              "      <td>74.15</td>\n",
              "      <td>29.0</td>\n",
              "      <td>54806.18</td>\n",
              "      <td>245.89</td>\n",
              "      <td>Triple-buffered reciprocal time-frame</td>\n",
              "      <td>West Terrifurt</td>\n",
              "      <td>1</td>\n",
              "      <td>Italy</td>\n",
              "      <td>1/10/2016 2:31</td>\n",
              "      <td>0</td>\n",
              "    </tr>\n",
              "    <tr>\n",
              "      <th>4</th>\n",
              "      <td>68.37</td>\n",
              "      <td>35.0</td>\n",
              "      <td>73889.99</td>\n",
              "      <td>225.58</td>\n",
              "      <td>Robust logistical utilization</td>\n",
              "      <td>South Manuel</td>\n",
              "      <td>0</td>\n",
              "      <td>Iceland</td>\n",
              "      <td>6/3/2016 3:36</td>\n",
              "      <td>0</td>\n",
              "    </tr>\n",
              "  </tbody>\n",
              "</table>\n",
              "</div>\n",
              "      <button class=\"colab-df-convert\" onclick=\"convertToInteractive('df-3bce7bb9-e7d2-44f4-8b04-5e6c5a3ba65a')\"\n",
              "              title=\"Convert this dataframe to an interactive table.\"\n",
              "              style=\"display:none;\">\n",
              "        \n",
              "  <svg xmlns=\"http://www.w3.org/2000/svg\" height=\"24px\"viewBox=\"0 0 24 24\"\n",
              "       width=\"24px\">\n",
              "    <path d=\"M0 0h24v24H0V0z\" fill=\"none\"/>\n",
              "    <path d=\"M18.56 5.44l.94 2.06.94-2.06 2.06-.94-2.06-.94-.94-2.06-.94 2.06-2.06.94zm-11 1L8.5 8.5l.94-2.06 2.06-.94-2.06-.94L8.5 2.5l-.94 2.06-2.06.94zm10 10l.94 2.06.94-2.06 2.06-.94-2.06-.94-.94-2.06-.94 2.06-2.06.94z\"/><path d=\"M17.41 7.96l-1.37-1.37c-.4-.4-.92-.59-1.43-.59-.52 0-1.04.2-1.43.59L10.3 9.45l-7.72 7.72c-.78.78-.78 2.05 0 2.83L4 21.41c.39.39.9.59 1.41.59.51 0 1.02-.2 1.41-.59l7.78-7.78 2.81-2.81c.8-.78.8-2.07 0-2.86zM5.41 20L4 18.59l7.72-7.72 1.47 1.35L5.41 20z\"/>\n",
              "  </svg>\n",
              "      </button>\n",
              "      \n",
              "  <style>\n",
              "    .colab-df-container {\n",
              "      display:flex;\n",
              "      flex-wrap:wrap;\n",
              "      gap: 12px;\n",
              "    }\n",
              "\n",
              "    .colab-df-convert {\n",
              "      background-color: #E8F0FE;\n",
              "      border: none;\n",
              "      border-radius: 50%;\n",
              "      cursor: pointer;\n",
              "      display: none;\n",
              "      fill: #1967D2;\n",
              "      height: 32px;\n",
              "      padding: 0 0 0 0;\n",
              "      width: 32px;\n",
              "    }\n",
              "\n",
              "    .colab-df-convert:hover {\n",
              "      background-color: #E2EBFA;\n",
              "      box-shadow: 0px 1px 2px rgba(60, 64, 67, 0.3), 0px 1px 3px 1px rgba(60, 64, 67, 0.15);\n",
              "      fill: #174EA6;\n",
              "    }\n",
              "\n",
              "    [theme=dark] .colab-df-convert {\n",
              "      background-color: #3B4455;\n",
              "      fill: #D2E3FC;\n",
              "    }\n",
              "\n",
              "    [theme=dark] .colab-df-convert:hover {\n",
              "      background-color: #434B5C;\n",
              "      box-shadow: 0px 1px 3px 1px rgba(0, 0, 0, 0.15);\n",
              "      filter: drop-shadow(0px 1px 2px rgba(0, 0, 0, 0.3));\n",
              "      fill: #FFFFFF;\n",
              "    }\n",
              "  </style>\n",
              "\n",
              "      <script>\n",
              "        const buttonEl =\n",
              "          document.querySelector('#df-3bce7bb9-e7d2-44f4-8b04-5e6c5a3ba65a button.colab-df-convert');\n",
              "        buttonEl.style.display =\n",
              "          google.colab.kernel.accessAllowed ? 'block' : 'none';\n",
              "\n",
              "        async function convertToInteractive(key) {\n",
              "          const element = document.querySelector('#df-3bce7bb9-e7d2-44f4-8b04-5e6c5a3ba65a');\n",
              "          const dataTable =\n",
              "            await google.colab.kernel.invokeFunction('convertToInteractive',\n",
              "                                                     [key], {});\n",
              "          if (!dataTable) return;\n",
              "\n",
              "          const docLinkHtml = 'Like what you see? Visit the ' +\n",
              "            '<a target=\"_blank\" href=https://colab.research.google.com/notebooks/data_table.ipynb>data table notebook</a>'\n",
              "            + ' to learn more about interactive tables.';\n",
              "          element.innerHTML = '';\n",
              "          dataTable['output_type'] = 'display_data';\n",
              "          await google.colab.output.renderOutput(dataTable, element);\n",
              "          const docLink = document.createElement('div');\n",
              "          docLink.innerHTML = docLinkHtml;\n",
              "          element.appendChild(docLink);\n",
              "        }\n",
              "      </script>\n",
              "    </div>\n",
              "  </div>\n",
              "  "
            ]
          },
          "metadata": {},
          "execution_count": 3
        }
      ]
    },
    {
      "cell_type": "code",
      "source": [
        "data.tail()"
      ],
      "metadata": {
        "colab": {
          "base_uri": "https://localhost:8080/",
          "height": 530
        },
        "id": "nSXY3Cns9oh_",
        "outputId": "9c8a31e2-d757-4d23-8f78-fedf1a1ca76e"
      },
      "execution_count": 4,
      "outputs": [
        {
          "output_type": "execute_result",
          "data": {
            "text/plain": [
              "     Daily Time Spent on Site   Age  Area Income  Daily Internet Usage  \\\n",
              "995                     72.97  30.0     71384.57                208.58   \n",
              "996                     51.30  45.0     67782.17                134.42   \n",
              "997                     51.63  51.0     42415.72                120.37   \n",
              "998                     55.55  19.0     41920.79                187.95   \n",
              "999                     45.01  26.0     29875.80                178.35   \n",
              "\n",
              "                            Ad Topic Line           City  Male  \\\n",
              "995         Fundamental modular algorithm      Duffystad     1   \n",
              "996       Grass-roots cohesive monitoring    New Darlene     1   \n",
              "997          Expanded intangible solution  South Jessica     1   \n",
              "998  Proactive bandwidth-monitored policy    West Steven     0   \n",
              "999       Virtual 5thgeneration emulation    Ronniemouth     0   \n",
              "\n",
              "                    Country        Timestamp  Clicked on Ad  \n",
              "995                 Lebanon  2/11/2016 21:49              1  \n",
              "996  Bosnia and Herzegovina   4/22/2016 2:07              1  \n",
              "997                Mongolia   2/1/2016 17:24              1  \n",
              "998               Guatemala   3/24/2016 2:35              0  \n",
              "999                  Brazil   6/3/2016 21:43              1  "
            ],
            "text/html": [
              "\n",
              "  <div id=\"df-63f42994-7fff-49f2-8659-41054e3f2ab7\">\n",
              "    <div class=\"colab-df-container\">\n",
              "      <div>\n",
              "<style scoped>\n",
              "    .dataframe tbody tr th:only-of-type {\n",
              "        vertical-align: middle;\n",
              "    }\n",
              "\n",
              "    .dataframe tbody tr th {\n",
              "        vertical-align: top;\n",
              "    }\n",
              "\n",
              "    .dataframe thead th {\n",
              "        text-align: right;\n",
              "    }\n",
              "</style>\n",
              "<table border=\"1\" class=\"dataframe\">\n",
              "  <thead>\n",
              "    <tr style=\"text-align: right;\">\n",
              "      <th></th>\n",
              "      <th>Daily Time Spent on Site</th>\n",
              "      <th>Age</th>\n",
              "      <th>Area Income</th>\n",
              "      <th>Daily Internet Usage</th>\n",
              "      <th>Ad Topic Line</th>\n",
              "      <th>City</th>\n",
              "      <th>Male</th>\n",
              "      <th>Country</th>\n",
              "      <th>Timestamp</th>\n",
              "      <th>Clicked on Ad</th>\n",
              "    </tr>\n",
              "  </thead>\n",
              "  <tbody>\n",
              "    <tr>\n",
              "      <th>995</th>\n",
              "      <td>72.97</td>\n",
              "      <td>30.0</td>\n",
              "      <td>71384.57</td>\n",
              "      <td>208.58</td>\n",
              "      <td>Fundamental modular algorithm</td>\n",
              "      <td>Duffystad</td>\n",
              "      <td>1</td>\n",
              "      <td>Lebanon</td>\n",
              "      <td>2/11/2016 21:49</td>\n",
              "      <td>1</td>\n",
              "    </tr>\n",
              "    <tr>\n",
              "      <th>996</th>\n",
              "      <td>51.30</td>\n",
              "      <td>45.0</td>\n",
              "      <td>67782.17</td>\n",
              "      <td>134.42</td>\n",
              "      <td>Grass-roots cohesive monitoring</td>\n",
              "      <td>New Darlene</td>\n",
              "      <td>1</td>\n",
              "      <td>Bosnia and Herzegovina</td>\n",
              "      <td>4/22/2016 2:07</td>\n",
              "      <td>1</td>\n",
              "    </tr>\n",
              "    <tr>\n",
              "      <th>997</th>\n",
              "      <td>51.63</td>\n",
              "      <td>51.0</td>\n",
              "      <td>42415.72</td>\n",
              "      <td>120.37</td>\n",
              "      <td>Expanded intangible solution</td>\n",
              "      <td>South Jessica</td>\n",
              "      <td>1</td>\n",
              "      <td>Mongolia</td>\n",
              "      <td>2/1/2016 17:24</td>\n",
              "      <td>1</td>\n",
              "    </tr>\n",
              "    <tr>\n",
              "      <th>998</th>\n",
              "      <td>55.55</td>\n",
              "      <td>19.0</td>\n",
              "      <td>41920.79</td>\n",
              "      <td>187.95</td>\n",
              "      <td>Proactive bandwidth-monitored policy</td>\n",
              "      <td>West Steven</td>\n",
              "      <td>0</td>\n",
              "      <td>Guatemala</td>\n",
              "      <td>3/24/2016 2:35</td>\n",
              "      <td>0</td>\n",
              "    </tr>\n",
              "    <tr>\n",
              "      <th>999</th>\n",
              "      <td>45.01</td>\n",
              "      <td>26.0</td>\n",
              "      <td>29875.80</td>\n",
              "      <td>178.35</td>\n",
              "      <td>Virtual 5thgeneration emulation</td>\n",
              "      <td>Ronniemouth</td>\n",
              "      <td>0</td>\n",
              "      <td>Brazil</td>\n",
              "      <td>6/3/2016 21:43</td>\n",
              "      <td>1</td>\n",
              "    </tr>\n",
              "  </tbody>\n",
              "</table>\n",
              "</div>\n",
              "      <button class=\"colab-df-convert\" onclick=\"convertToInteractive('df-63f42994-7fff-49f2-8659-41054e3f2ab7')\"\n",
              "              title=\"Convert this dataframe to an interactive table.\"\n",
              "              style=\"display:none;\">\n",
              "        \n",
              "  <svg xmlns=\"http://www.w3.org/2000/svg\" height=\"24px\"viewBox=\"0 0 24 24\"\n",
              "       width=\"24px\">\n",
              "    <path d=\"M0 0h24v24H0V0z\" fill=\"none\"/>\n",
              "    <path d=\"M18.56 5.44l.94 2.06.94-2.06 2.06-.94-2.06-.94-.94-2.06-.94 2.06-2.06.94zm-11 1L8.5 8.5l.94-2.06 2.06-.94-2.06-.94L8.5 2.5l-.94 2.06-2.06.94zm10 10l.94 2.06.94-2.06 2.06-.94-2.06-.94-.94-2.06-.94 2.06-2.06.94z\"/><path d=\"M17.41 7.96l-1.37-1.37c-.4-.4-.92-.59-1.43-.59-.52 0-1.04.2-1.43.59L10.3 9.45l-7.72 7.72c-.78.78-.78 2.05 0 2.83L4 21.41c.39.39.9.59 1.41.59.51 0 1.02-.2 1.41-.59l7.78-7.78 2.81-2.81c.8-.78.8-2.07 0-2.86zM5.41 20L4 18.59l7.72-7.72 1.47 1.35L5.41 20z\"/>\n",
              "  </svg>\n",
              "      </button>\n",
              "      \n",
              "  <style>\n",
              "    .colab-df-container {\n",
              "      display:flex;\n",
              "      flex-wrap:wrap;\n",
              "      gap: 12px;\n",
              "    }\n",
              "\n",
              "    .colab-df-convert {\n",
              "      background-color: #E8F0FE;\n",
              "      border: none;\n",
              "      border-radius: 50%;\n",
              "      cursor: pointer;\n",
              "      display: none;\n",
              "      fill: #1967D2;\n",
              "      height: 32px;\n",
              "      padding: 0 0 0 0;\n",
              "      width: 32px;\n",
              "    }\n",
              "\n",
              "    .colab-df-convert:hover {\n",
              "      background-color: #E2EBFA;\n",
              "      box-shadow: 0px 1px 2px rgba(60, 64, 67, 0.3), 0px 1px 3px 1px rgba(60, 64, 67, 0.15);\n",
              "      fill: #174EA6;\n",
              "    }\n",
              "\n",
              "    [theme=dark] .colab-df-convert {\n",
              "      background-color: #3B4455;\n",
              "      fill: #D2E3FC;\n",
              "    }\n",
              "\n",
              "    [theme=dark] .colab-df-convert:hover {\n",
              "      background-color: #434B5C;\n",
              "      box-shadow: 0px 1px 3px 1px rgba(0, 0, 0, 0.15);\n",
              "      filter: drop-shadow(0px 1px 2px rgba(0, 0, 0, 0.3));\n",
              "      fill: #FFFFFF;\n",
              "    }\n",
              "  </style>\n",
              "\n",
              "      <script>\n",
              "        const buttonEl =\n",
              "          document.querySelector('#df-63f42994-7fff-49f2-8659-41054e3f2ab7 button.colab-df-convert');\n",
              "        buttonEl.style.display =\n",
              "          google.colab.kernel.accessAllowed ? 'block' : 'none';\n",
              "\n",
              "        async function convertToInteractive(key) {\n",
              "          const element = document.querySelector('#df-63f42994-7fff-49f2-8659-41054e3f2ab7');\n",
              "          const dataTable =\n",
              "            await google.colab.kernel.invokeFunction('convertToInteractive',\n",
              "                                                     [key], {});\n",
              "          if (!dataTable) return;\n",
              "\n",
              "          const docLinkHtml = 'Like what you see? Visit the ' +\n",
              "            '<a target=\"_blank\" href=https://colab.research.google.com/notebooks/data_table.ipynb>data table notebook</a>'\n",
              "            + ' to learn more about interactive tables.';\n",
              "          element.innerHTML = '';\n",
              "          dataTable['output_type'] = 'display_data';\n",
              "          await google.colab.output.renderOutput(dataTable, element);\n",
              "          const docLink = document.createElement('div');\n",
              "          docLink.innerHTML = docLinkHtml;\n",
              "          element.appendChild(docLink);\n",
              "        }\n",
              "      </script>\n",
              "    </div>\n",
              "  </div>\n",
              "  "
            ]
          },
          "metadata": {},
          "execution_count": 4
        }
      ]
    },
    {
      "cell_type": "code",
      "source": [
        "data.info()"
      ],
      "metadata": {
        "colab": {
          "base_uri": "https://localhost:8080/"
        },
        "id": "ftXXwEKR-7_r",
        "outputId": "4fbbe339-47fc-4d9f-fc07-8cad85e28f4a"
      },
      "execution_count": 5,
      "outputs": [
        {
          "output_type": "stream",
          "name": "stdout",
          "text": [
            "<class 'pandas.core.frame.DataFrame'>\n",
            "RangeIndex: 1000 entries, 0 to 999\n",
            "Data columns (total 10 columns):\n",
            " #   Column                    Non-Null Count  Dtype  \n",
            "---  ------                    --------------  -----  \n",
            " 0   Daily Time Spent on Site  1000 non-null   float64\n",
            " 1   Age                       916 non-null    float64\n",
            " 2   Area Income               1000 non-null   float64\n",
            " 3   Daily Internet Usage      1000 non-null   float64\n",
            " 4   Ad Topic Line             1000 non-null   object \n",
            " 5   City                      1000 non-null   object \n",
            " 6   Male                      1000 non-null   int64  \n",
            " 7   Country                   1000 non-null   object \n",
            " 8   Timestamp                 1000 non-null   object \n",
            " 9   Clicked on Ad             1000 non-null   int64  \n",
            "dtypes: float64(4), int64(2), object(4)\n",
            "memory usage: 78.2+ KB\n"
          ]
        }
      ]
    },
    {
      "cell_type": "code",
      "source": [
        "data.describe()"
      ],
      "metadata": {
        "colab": {
          "base_uri": "https://localhost:8080/",
          "height": 379
        },
        "id": "DY78jFp190YB",
        "outputId": "d115736d-3f09-4262-fa34-3a51e516ed07"
      },
      "execution_count": 6,
      "outputs": [
        {
          "output_type": "execute_result",
          "data": {
            "text/plain": [
              "       Daily Time Spent on Site         Age   Area Income  \\\n",
              "count               1000.000000  916.000000   1000.000000   \n",
              "mean                  65.000200   36.128821  55000.000080   \n",
              "std                   15.853615    9.018548  13414.634022   \n",
              "min                   32.600000   19.000000  13996.500000   \n",
              "25%                   51.360000   29.000000  47031.802500   \n",
              "50%                   68.215000   35.000000  57012.300000   \n",
              "75%                   78.547500   42.000000  65470.635000   \n",
              "max                   91.430000   61.000000  79484.800000   \n",
              "\n",
              "       Daily Internet Usage         Male  Clicked on Ad  \n",
              "count           1000.000000  1000.000000     1000.00000  \n",
              "mean             180.000100     0.481000        0.50000  \n",
              "std               43.902339     0.499889        0.50025  \n",
              "min              104.780000     0.000000        0.00000  \n",
              "25%              138.830000     0.000000        0.00000  \n",
              "50%              183.130000     0.000000        0.50000  \n",
              "75%              218.792500     1.000000        1.00000  \n",
              "max              269.960000     1.000000        1.00000  "
            ],
            "text/html": [
              "\n",
              "  <div id=\"df-0d47f031-514b-44ff-9b1f-20f745c6e125\">\n",
              "    <div class=\"colab-df-container\">\n",
              "      <div>\n",
              "<style scoped>\n",
              "    .dataframe tbody tr th:only-of-type {\n",
              "        vertical-align: middle;\n",
              "    }\n",
              "\n",
              "    .dataframe tbody tr th {\n",
              "        vertical-align: top;\n",
              "    }\n",
              "\n",
              "    .dataframe thead th {\n",
              "        text-align: right;\n",
              "    }\n",
              "</style>\n",
              "<table border=\"1\" class=\"dataframe\">\n",
              "  <thead>\n",
              "    <tr style=\"text-align: right;\">\n",
              "      <th></th>\n",
              "      <th>Daily Time Spent on Site</th>\n",
              "      <th>Age</th>\n",
              "      <th>Area Income</th>\n",
              "      <th>Daily Internet Usage</th>\n",
              "      <th>Male</th>\n",
              "      <th>Clicked on Ad</th>\n",
              "    </tr>\n",
              "  </thead>\n",
              "  <tbody>\n",
              "    <tr>\n",
              "      <th>count</th>\n",
              "      <td>1000.000000</td>\n",
              "      <td>916.000000</td>\n",
              "      <td>1000.000000</td>\n",
              "      <td>1000.000000</td>\n",
              "      <td>1000.000000</td>\n",
              "      <td>1000.00000</td>\n",
              "    </tr>\n",
              "    <tr>\n",
              "      <th>mean</th>\n",
              "      <td>65.000200</td>\n",
              "      <td>36.128821</td>\n",
              "      <td>55000.000080</td>\n",
              "      <td>180.000100</td>\n",
              "      <td>0.481000</td>\n",
              "      <td>0.50000</td>\n",
              "    </tr>\n",
              "    <tr>\n",
              "      <th>std</th>\n",
              "      <td>15.853615</td>\n",
              "      <td>9.018548</td>\n",
              "      <td>13414.634022</td>\n",
              "      <td>43.902339</td>\n",
              "      <td>0.499889</td>\n",
              "      <td>0.50025</td>\n",
              "    </tr>\n",
              "    <tr>\n",
              "      <th>min</th>\n",
              "      <td>32.600000</td>\n",
              "      <td>19.000000</td>\n",
              "      <td>13996.500000</td>\n",
              "      <td>104.780000</td>\n",
              "      <td>0.000000</td>\n",
              "      <td>0.00000</td>\n",
              "    </tr>\n",
              "    <tr>\n",
              "      <th>25%</th>\n",
              "      <td>51.360000</td>\n",
              "      <td>29.000000</td>\n",
              "      <td>47031.802500</td>\n",
              "      <td>138.830000</td>\n",
              "      <td>0.000000</td>\n",
              "      <td>0.00000</td>\n",
              "    </tr>\n",
              "    <tr>\n",
              "      <th>50%</th>\n",
              "      <td>68.215000</td>\n",
              "      <td>35.000000</td>\n",
              "      <td>57012.300000</td>\n",
              "      <td>183.130000</td>\n",
              "      <td>0.000000</td>\n",
              "      <td>0.50000</td>\n",
              "    </tr>\n",
              "    <tr>\n",
              "      <th>75%</th>\n",
              "      <td>78.547500</td>\n",
              "      <td>42.000000</td>\n",
              "      <td>65470.635000</td>\n",
              "      <td>218.792500</td>\n",
              "      <td>1.000000</td>\n",
              "      <td>1.00000</td>\n",
              "    </tr>\n",
              "    <tr>\n",
              "      <th>max</th>\n",
              "      <td>91.430000</td>\n",
              "      <td>61.000000</td>\n",
              "      <td>79484.800000</td>\n",
              "      <td>269.960000</td>\n",
              "      <td>1.000000</td>\n",
              "      <td>1.00000</td>\n",
              "    </tr>\n",
              "  </tbody>\n",
              "</table>\n",
              "</div>\n",
              "      <button class=\"colab-df-convert\" onclick=\"convertToInteractive('df-0d47f031-514b-44ff-9b1f-20f745c6e125')\"\n",
              "              title=\"Convert this dataframe to an interactive table.\"\n",
              "              style=\"display:none;\">\n",
              "        \n",
              "  <svg xmlns=\"http://www.w3.org/2000/svg\" height=\"24px\"viewBox=\"0 0 24 24\"\n",
              "       width=\"24px\">\n",
              "    <path d=\"M0 0h24v24H0V0z\" fill=\"none\"/>\n",
              "    <path d=\"M18.56 5.44l.94 2.06.94-2.06 2.06-.94-2.06-.94-.94-2.06-.94 2.06-2.06.94zm-11 1L8.5 8.5l.94-2.06 2.06-.94-2.06-.94L8.5 2.5l-.94 2.06-2.06.94zm10 10l.94 2.06.94-2.06 2.06-.94-2.06-.94-.94-2.06-.94 2.06-2.06.94z\"/><path d=\"M17.41 7.96l-1.37-1.37c-.4-.4-.92-.59-1.43-.59-.52 0-1.04.2-1.43.59L10.3 9.45l-7.72 7.72c-.78.78-.78 2.05 0 2.83L4 21.41c.39.39.9.59 1.41.59.51 0 1.02-.2 1.41-.59l7.78-7.78 2.81-2.81c.8-.78.8-2.07 0-2.86zM5.41 20L4 18.59l7.72-7.72 1.47 1.35L5.41 20z\"/>\n",
              "  </svg>\n",
              "      </button>\n",
              "      \n",
              "  <style>\n",
              "    .colab-df-container {\n",
              "      display:flex;\n",
              "      flex-wrap:wrap;\n",
              "      gap: 12px;\n",
              "    }\n",
              "\n",
              "    .colab-df-convert {\n",
              "      background-color: #E8F0FE;\n",
              "      border: none;\n",
              "      border-radius: 50%;\n",
              "      cursor: pointer;\n",
              "      display: none;\n",
              "      fill: #1967D2;\n",
              "      height: 32px;\n",
              "      padding: 0 0 0 0;\n",
              "      width: 32px;\n",
              "    }\n",
              "\n",
              "    .colab-df-convert:hover {\n",
              "      background-color: #E2EBFA;\n",
              "      box-shadow: 0px 1px 2px rgba(60, 64, 67, 0.3), 0px 1px 3px 1px rgba(60, 64, 67, 0.15);\n",
              "      fill: #174EA6;\n",
              "    }\n",
              "\n",
              "    [theme=dark] .colab-df-convert {\n",
              "      background-color: #3B4455;\n",
              "      fill: #D2E3FC;\n",
              "    }\n",
              "\n",
              "    [theme=dark] .colab-df-convert:hover {\n",
              "      background-color: #434B5C;\n",
              "      box-shadow: 0px 1px 3px 1px rgba(0, 0, 0, 0.15);\n",
              "      filter: drop-shadow(0px 1px 2px rgba(0, 0, 0, 0.3));\n",
              "      fill: #FFFFFF;\n",
              "    }\n",
              "  </style>\n",
              "\n",
              "      <script>\n",
              "        const buttonEl =\n",
              "          document.querySelector('#df-0d47f031-514b-44ff-9b1f-20f745c6e125 button.colab-df-convert');\n",
              "        buttonEl.style.display =\n",
              "          google.colab.kernel.accessAllowed ? 'block' : 'none';\n",
              "\n",
              "        async function convertToInteractive(key) {\n",
              "          const element = document.querySelector('#df-0d47f031-514b-44ff-9b1f-20f745c6e125');\n",
              "          const dataTable =\n",
              "            await google.colab.kernel.invokeFunction('convertToInteractive',\n",
              "                                                     [key], {});\n",
              "          if (!dataTable) return;\n",
              "\n",
              "          const docLinkHtml = 'Like what you see? Visit the ' +\n",
              "            '<a target=\"_blank\" href=https://colab.research.google.com/notebooks/data_table.ipynb>data table notebook</a>'\n",
              "            + ' to learn more about interactive tables.';\n",
              "          element.innerHTML = '';\n",
              "          dataTable['output_type'] = 'display_data';\n",
              "          await google.colab.output.renderOutput(dataTable, element);\n",
              "          const docLink = document.createElement('div');\n",
              "          docLink.innerHTML = docLinkHtml;\n",
              "          element.appendChild(docLink);\n",
              "        }\n",
              "      </script>\n",
              "    </div>\n",
              "  </div>\n",
              "  "
            ]
          },
          "metadata": {},
          "execution_count": 6
        }
      ]
    },
    {
      "cell_type": "code",
      "source": [
        "sns.distplot(data['Area Income'])\n"
      ],
      "metadata": {
        "colab": {
          "base_uri": "https://localhost:8080/",
          "height": 364
        },
        "id": "_Q0KGsTw--tD",
        "outputId": "56cd8740-5eb5-4ebe-ed7e-9f35233f9d4a"
      },
      "execution_count": 7,
      "outputs": [
        {
          "output_type": "stream",
          "name": "stderr",
          "text": [
            "/usr/local/lib/python3.7/dist-packages/seaborn/distributions.py:2619: FutureWarning: `distplot` is a deprecated function and will be removed in a future version. Please adapt your code to use either `displot` (a figure-level function with similar flexibility) or `histplot` (an axes-level function for histograms).\n",
            "  warnings.warn(msg, FutureWarning)\n"
          ]
        },
        {
          "output_type": "execute_result",
          "data": {
            "text/plain": [
              "<matplotlib.axes._subplots.AxesSubplot at 0x7ff9174f7f90>"
            ]
          },
          "metadata": {},
          "execution_count": 7
        },
        {
          "output_type": "display_data",
          "data": {
            "text/plain": [
              "<Figure size 432x288 with 1 Axes>"
            ],
            "image/png": "[encoded data removed]"
          },
          "metadata": {
            "needs_background": "light"
          }
        }
      ]
    },
    {
      "cell_type": "code",
      "source": [
        "sns.distplot(data['Age'])"
      ],
      "metadata": {
        "colab": {
          "base_uri": "https://localhost:8080/",
          "height": 353
        },
        "id": "EvIPM-mZ_d9p",
        "outputId": "4ff553b2-54bb-4512-e7c9-93eda30ae7f0"
      },
      "execution_count": 8,
      "outputs": [
        {
          "output_type": "stream",
          "name": "stderr",
          "text": [
            "/usr/local/lib/python3.7/dist-packages/seaborn/distributions.py:2619: FutureWarning: `distplot` is a deprecated function and will be removed in a future version. Please adapt your code to use either `displot` (a figure-level function with similar flexibility) or `histplot` (an axes-level function for histograms).\n",
            "  warnings.warn(msg, FutureWarning)\n"
          ]
        },
        {
          "output_type": "execute_result",
          "data": {
            "text/plain": [
              "<matplotlib.axes._subplots.AxesSubplot at 0x7ff91539e590>"
            ]
          },
          "metadata": {},
          "execution_count": 8
        },
        {
          "output_type": "display_data",
          "data": {
            "text/plain": [
              "<Figure size 432x288 with 1 Axes>"
            ],
            "image/png": "[encoded data removed]"
          },
          "metadata": {
            "needs_background": "light"
          }
        }
      ]
    },
    {
      "cell_type": "code",
      "source": [
        "data['Country'].nunique()#고유값"
      ],
      "metadata": {
        "colab": {
          "base_uri": "https://localhost:8080/"
        },
        "id": "dlREG_xf_rHQ",
        "outputId": "f818604a-cd58-466e-b0bf-ce960a23902e"
      },
      "execution_count": 9,
      "outputs": [
        {
          "output_type": "execute_result",
          "data": {
            "text/plain": [
              "237"
            ]
          },
          "metadata": {},
          "execution_count": 9
        }
      ]
    },
    {
      "cell_type": "code",
      "source": [
        "data['City'].nunique()"
      ],
      "metadata": {
        "colab": {
          "base_uri": "https://localhost:8080/"
        },
        "id": "GCwWuAc9_yCf",
        "outputId": "0be50578-0bb5-42d8-abbb-d11eccb90c26"
      },
      "execution_count": 10,
      "outputs": [
        {
          "output_type": "execute_result",
          "data": {
            "text/plain": [
              "969"
            ]
          },
          "metadata": {},
          "execution_count": 10
        }
      ]
    },
    {
      "cell_type": "code",
      "source": [
        "data['Ad Topic Line'].nunique()"
      ],
      "metadata": {
        "colab": {
          "base_uri": "https://localhost:8080/"
        },
        "id": "hjivP5___1DN",
        "outputId": "836a3c96-1d7f-4b9a-fe31-ea252f385316"
      },
      "execution_count": 11,
      "outputs": [
        {
          "output_type": "execute_result",
          "data": {
            "text/plain": [
              "1000"
            ]
          },
          "metadata": {},
          "execution_count": 11
        }
      ]
    },
    {
      "cell_type": "code",
      "source": [
        "data.isna().sum()/ len(data)"
      ],
      "metadata": {
        "colab": {
          "base_uri": "https://localhost:8080/"
        },
        "id": "XBlZ798O_35V",
        "outputId": "f16f421e-6758-4bae-a50d-f89aabdc65fa"
      },
      "execution_count": 12,
      "outputs": [
        {
          "output_type": "execute_result",
          "data": {
            "text/plain": [
              "Daily Time Spent on Site    0.000\n",
              "Age                         0.084\n",
              "Area Income                 0.000\n",
              "Daily Internet Usage        0.000\n",
              "Ad Topic Line               0.000\n",
              "City                        0.000\n",
              "Male                        0.000\n",
              "Country                     0.000\n",
              "Timestamp                   0.000\n",
              "Clicked on Ad               0.000\n",
              "dtype: float64"
            ]
          },
          "metadata": {},
          "execution_count": 12
        }
      ]
    },
    {
      "cell_type": "markdown",
      "source": [
        "### Missing Value 이용"
      ],
      "metadata": {
        "id": "xCVMQ6wuBezB"
      }
    },
    {
      "cell_type": "code",
      "source": [
        "\n",
        "#문제점: 데이터의 비율이 컸을 때 날리면 다른 데이터 못 쓰기에 크다.\n",
        "#data.dropna()"
      ],
      "metadata": {
        "id": "qRZsyYQKAMhP"
      },
      "execution_count": 13,
      "outputs": []
    },
    {
      "cell_type": "code",
      "source": [
        "#다른 데이터를 사용하지 못하기에 좋지 않음\n",
        "#data.drop('Age',axis=1)"
      ],
      "metadata": {
        "id": "EVXXl7mJBJ4e"
      },
      "execution_count": 14,
      "outputs": []
    },
    {
      "cell_type": "code",
      "source": [
        "data['Age'].mean()"
      ],
      "metadata": {
        "colab": {
          "base_uri": "https://localhost:8080/"
        },
        "id": "9eQdIbfJBjPI",
        "outputId": "549c87f1-b92e-4bed-c7f8-41a3e501b609"
      },
      "execution_count": 15,
      "outputs": [
        {
          "output_type": "execute_result",
          "data": {
            "text/plain": [
              "36.12882096069869"
            ]
          },
          "metadata": {},
          "execution_count": 15
        }
      ]
    },
    {
      "cell_type": "code",
      "source": [
        "data['Age'].median()"
      ],
      "metadata": {
        "colab": {
          "base_uri": "https://localhost:8080/"
        },
        "id": "hATAbKumBjSk",
        "outputId": "52442564-9fc3-41e8-c5a8-1ec9ebb42ada"
      },
      "execution_count": 16,
      "outputs": [
        {
          "output_type": "execute_result",
          "data": {
            "text/plain": [
              "35.0"
            ]
          },
          "metadata": {},
          "execution_count": 16
        }
      ]
    },
    {
      "cell_type": "code",
      "source": [
        "data = data.fillna(round(data['Age'].mean()))"
      ],
      "metadata": {
        "id": "JR7egSgRCAXU"
      },
      "execution_count": 18,
      "outputs": []
    },
    {
      "cell_type": "code",
      "source": [
        "data.isna().sum()"
      ],
      "metadata": {
        "colab": {
          "base_uri": "https://localhost:8080/"
        },
        "id": "OtXNjM2cCdAs",
        "outputId": "7d5342c3-dc3d-49c4-ba6a-6de99d2a9d80"
      },
      "execution_count": 19,
      "outputs": [
        {
          "output_type": "execute_result",
          "data": {
            "text/plain": [
              "Daily Time Spent on Site    0\n",
              "Age                         0\n",
              "Area Income                 0\n",
              "Daily Internet Usage        0\n",
              "Ad Topic Line               0\n",
              "City                        0\n",
              "Male                        0\n",
              "Country                     0\n",
              "Timestamp                   0\n",
              "Clicked on Ad               0\n",
              "dtype: int64"
            ]
          },
          "metadata": {},
          "execution_count": 19
        }
      ]
    },
    {
      "cell_type": "code",
      "source": [
        "from sklearn.model_selection import train_test_split"
      ],
      "metadata": {
        "id": "tYc-ElsjCrWL"
      },
      "execution_count": 20,
      "outputs": []
    },
    {
      "cell_type": "code",
      "source": [
        "X = data[['Daily Time Spent on Site','Age','Area Income','Daily Internet Usage','Male']]\n",
        "y = data['Clicked on Ad']"
      ],
      "metadata": {
        "id": "CeeLy5ezH43I"
      },
      "execution_count": 21,
      "outputs": []
    },
    {
      "cell_type": "code",
      "source": [
        "X_train,X_test, y_train,y_test = train_test_split(X,y,test_size=0.3,random_state=100)"
      ],
      "metadata": {
        "id": "Y320xm4OHu9L"
      },
      "execution_count": 22,
      "outputs": []
    },
    {
      "cell_type": "code",
      "source": [
        "from sklearn.linear_model import LogisticRegression"
      ],
      "metadata": {
        "id": "ujpVts09IQSR"
      },
      "execution_count": 23,
      "outputs": []
    },
    {
      "cell_type": "code",
      "source": [
        "model = LogisticRegression()"
      ],
      "metadata": {
        "id": "H5XEY_JBIywT"
      },
      "execution_count": 24,
      "outputs": []
    },
    {
      "cell_type": "code",
      "source": [
        "model.fit(X_train, y_train)"
      ],
      "metadata": {
        "colab": {
          "base_uri": "https://localhost:8080/"
        },
        "id": "lSLYpUrLJFn7",
        "outputId": "3b71a44e-25eb-4b1b-8a94-821b81e86e6c"
      },
      "execution_count": 26,
      "outputs": [
        {
          "output_type": "execute_result",
          "data": {
            "text/plain": [
              "LogisticRegression()"
            ]
          },
          "metadata": {},
          "execution_count": 26
        }
      ]
    },
    {
      "cell_type": "code",
      "source": [
        "model.coef_"
      ],
      "metadata": {
        "colab": {
          "base_uri": "https://localhost:8080/"
        },
        "id": "xRI4TyViJH-t",
        "outputId": "19ae9015-0203-4f94-9715-8579b0351680"
      },
      "execution_count": 27,
      "outputs": [
        {
          "output_type": "execute_result",
          "data": {
            "text/plain": [
              "array([[-7.26288827e-02,  2.64848384e-01, -1.06769544e-05,\n",
              "        -2.26804107e-02,  2.44029728e-03]])"
            ]
          },
          "metadata": {},
          "execution_count": 27
        }
      ]
    },
    {
      "cell_type": "code",
      "source": [
        "pred = model.predict(X_test)"
      ],
      "metadata": {
        "id": "eY-IemhoJMPw"
      },
      "execution_count": 32,
      "outputs": []
    },
    {
      "cell_type": "code",
      "source": [
        "y_test"
      ],
      "metadata": {
        "id": "pvtO8Wc5JSBi"
      },
      "execution_count": null,
      "outputs": []
    },
    {
      "cell_type": "code",
      "source": [
        "from sklearn.metrics import accuracy_score, confusion_matrix"
      ],
      "metadata": {
        "id": "gFf-T8XCJSD7"
      },
      "execution_count": 34,
      "outputs": []
    },
    {
      "cell_type": "code",
      "source": [
        "accuracy_score(y_test, pred)"
      ],
      "metadata": {
        "colab": {
          "base_uri": "https://localhost:8080/"
        },
        "id": "SrxAYbOnJSHP",
        "outputId": "111f04f3-7bf5-4f31-a0c6-44c7177c3c01"
      },
      "execution_count": 35,
      "outputs": [
        {
          "output_type": "execute_result",
          "data": {
            "text/plain": [
              "0.8966666666666666"
            ]
          },
          "metadata": {},
          "execution_count": 35
        }
      ]
    },
    {
      "cell_type": "code",
      "source": [
        "confusion_matrix(y_test, pred)"
      ],
      "metadata": {
        "colab": {
          "base_uri": "https://localhost:8080/"
        },
        "id": "hglpkD-lJt8J",
        "outputId": "741c619c-0c67-462d-de8d-a8b0bc7522fe"
      },
      "execution_count": 36,
      "outputs": [
        {
          "output_type": "execute_result",
          "data": {
            "text/plain": [
              "array([[137,   8],\n",
              "       [ 23, 132]])"
            ]
          },
          "metadata": {},
          "execution_count": 36
        }
      ]
    },
    {
      "cell_type": "markdown",
      "source": [
        "### 풀어야할 문제\n",
        "\n",
        "\n",
        "#### Binary Classification\n",
        "\n",
        "- 2가지의 값으로 분류하는 것\n",
        "\n",
        "- 0과1로 나타내고 예측치는 %로 표현 가능\n",
        "\n",
        "<br>\n",
        "\n",
        "#### Confusion Matrix 와 Type-1(FP), Type-2(FN) Error\n",
        "\n",
        "\n",
        "\n",
        "\n",
        "\n",
        "![image.png](data:image/png;base64,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)\n",
        "\n"
      ],
      "metadata": {
        "id": "Y0WnDGY3NsEt"
      }
    },
    {
      "cell_type": "code",
      "source": [
        ""
      ],
      "metadata": {
        "id": "LyE-BUgPO2y3"
      },
      "execution_count": null,
      "outputs": []
    }
  ]
}