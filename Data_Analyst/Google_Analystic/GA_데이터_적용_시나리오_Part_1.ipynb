{
  "cells": [
    {
      "cell_type": "code",
      "execution_count": null,
      "metadata": {
        "id": "iHYE9Pasmqp9"
      },
      "outputs": [],
      "source": [
        " from pandas.io import gbq"
      ]
    },
    {
      "cell_type": "code",
      "execution_count": null,
      "metadata": {
        "id": "OcRG-RRzmqqA"
      },
      "outputs": [],
      "source": [
        "# BigQuery에 작성하는 것과 같은 쿼리문 입력\n",
        "\n",
        "query = \"\"\"\n",
        "\n",
        "SELECT * FROM `trans-shuttle-297200.df.data` LIMIT 1000\n",
        "\n",
        "\"\"\""
      ]
    },
    {
      "cell_type": "code",
      "execution_count": null,
      "metadata": {
        "id": "BVFxsoKsmqqC",
        "outputId": "d3afb8bd-5b49-4bca-8ff7-d8cf48c984f8"
      },
      "outputs": [
        {
          "name": "stdout",
          "output_type": "stream",
          "text": [
            "Please visit this URL to authorize this application: https://accounts.google.com/o/oauth2/auth?response_type=code&client_id=725825577420-unm2gnkiprugilg743tkbig250f4sfsj.apps.googleusercontent.com&redirect_uri=urn%3Aietf%3Awg%3Aoauth%3A2.0%3Aoob&scope=https%3A%2F%2Fwww.googleapis.com%2Fauth%2Fbigquery&state=Yk4DRoZtxCSFXIt5uMkaPC1fqAggyi&prompt=consent&access_type=offline\n",
            "Enter the authorization code: 4/1AY0e-g6mMbD05x5JRta5Yu3gfPszLBiKkMv2d7ZkdfMzS5zEWcVWvL5oamQ\n"
          ]
        }
      ],
      "source": [
        "# Project ID는 본인의 Project ID로 변경\n",
        "data = gbq.read_gbq(query, project_id = 'trans-shuttle-297200')"
      ]
    },
    {
      "cell_type": "code",
      "execution_count": null,
      "metadata": {
        "id": "PAEN7qRbmqqD",
        "outputId": "edbcaaa7-3527-4360-b1a0-c0f4c4cf67d4"
      },
      "outputs": [
        {
          "data": {
            "text/html": [
              "<div>\n",
              "<style scoped>\n",
              "    .dataframe tbody tr th:only-of-type {\n",
              "        vertical-align: middle;\n",
              "    }\n",
              "\n",
              "    .dataframe tbody tr th {\n",
              "        vertical-align: top;\n",
              "    }\n",
              "\n",
              "    .dataframe thead th {\n",
              "        text-align: right;\n",
              "    }\n",
              "</style>\n",
              "<table border=\"1\" class=\"dataframe\">\n",
              "  <thead>\n",
              "    <tr style=\"text-align: right;\">\n",
              "      <th></th>\n",
              "      <th>channelGrouping</th>\n",
              "      <th>date</th>\n",
              "      <th>device</th>\n",
              "      <th>fullVisitorId</th>\n",
              "      <th>geoNetwork</th>\n",
              "      <th>sessionId</th>\n",
              "      <th>socialEngagementType</th>\n",
              "      <th>totals</th>\n",
              "      <th>trafficSource</th>\n",
              "      <th>visitId</th>\n",
              "      <th>visitNumber</th>\n",
              "      <th>visitStartTime</th>\n",
              "    </tr>\n",
              "  </thead>\n",
              "  <tbody>\n",
              "    <tr>\n",
              "      <th>0</th>\n",
              "      <td>Display</td>\n",
              "      <td>20161130</td>\n",
              "      <td>{\"browser\": \"Chrome\", \"browserVersion\": \"not a...</td>\n",
              "      <td>5.640000e+18</td>\n",
              "      <td>{\"continent\": \"Americas\", \"subContinent\": \"Nor...</td>\n",
              "      <td>5642313646372078492_1480550447</td>\n",
              "      <td>Not Socially Engaged</td>\n",
              "      <td>{\"visits\": \"1\", \"hits\": \"23\", \"pageviews\": \"22...</td>\n",
              "      <td>{\"campaign\": \"(not set)\", \"source\": \"dfa\", \"me...</td>\n",
              "      <td>1480550447</td>\n",
              "      <td>1</td>\n",
              "      <td>1480550447</td>\n",
              "    </tr>\n",
              "    <tr>\n",
              "      <th>1</th>\n",
              "      <td>Paid Search</td>\n",
              "      <td>20161123</td>\n",
              "      <td>{\"browser\": \"Chrome\", \"browserVersion\": \"not a...</td>\n",
              "      <td>1.110000e+18</td>\n",
              "      <td>{\"continent\": \"Americas\", \"subContinent\": \"Nor...</td>\n",
              "      <td>1111470101899387454_1479897941</td>\n",
              "      <td>Not Socially Engaged</td>\n",
              "      <td>{\"visits\": \"1\", \"hits\": \"33\", \"pageviews\": \"26...</td>\n",
              "      <td>{\"campaign\": \"AW - Dynamic Search Ads Whole Si...</td>\n",
              "      <td>1479897941</td>\n",
              "      <td>2</td>\n",
              "      <td>1479897941</td>\n",
              "    </tr>\n",
              "    <tr>\n",
              "      <th>2</th>\n",
              "      <td>Paid Search</td>\n",
              "      <td>20160830</td>\n",
              "      <td>{\"browser\": \"Chrome\", \"browserVersion\": \"not a...</td>\n",
              "      <td>7.190000e+18</td>\n",
              "      <td>{\"continent\": \"Americas\", \"subContinent\": \"Nor...</td>\n",
              "      <td>7187268430836970062_1472604143</td>\n",
              "      <td>Not Socially Engaged</td>\n",
              "      <td>{\"visits\": \"1\", \"hits\": \"16\", \"pageviews\": \"13...</td>\n",
              "      <td>{\"campaign\": \"AW - Dynamic Search Ads Whole Si...</td>\n",
              "      <td>1472604143</td>\n",
              "      <td>3</td>\n",
              "      <td>1472604143</td>\n",
              "    </tr>\n",
              "    <tr>\n",
              "      <th>3</th>\n",
              "      <td>Paid Search</td>\n",
              "      <td>20160912</td>\n",
              "      <td>{\"browser\": \"Chrome\", \"browserVersion\": \"not a...</td>\n",
              "      <td>7.600000e+17</td>\n",
              "      <td>{\"continent\": \"Americas\", \"subContinent\": \"Nor...</td>\n",
              "      <td>759713225034747479_1473716984</td>\n",
              "      <td>Not Socially Engaged</td>\n",
              "      <td>{\"visits\": \"1\", \"hits\": \"35\", \"pageviews\": \"30...</td>\n",
              "      <td>{\"campaign\": \"AW - Dynamic Search Ads Whole Si...</td>\n",
              "      <td>1473716984</td>\n",
              "      <td>10</td>\n",
              "      <td>1473716984</td>\n",
              "    </tr>\n",
              "    <tr>\n",
              "      <th>4</th>\n",
              "      <td>Direct</td>\n",
              "      <td>20170501</td>\n",
              "      <td>{\"browser\": \"Chrome\", \"browserVersion\": \"not a...</td>\n",
              "      <td>7.080000e+18</td>\n",
              "      <td>{\"continent\": \"Americas\", \"subContinent\": \"Nor...</td>\n",
              "      <td>7080810108082424102_1493680066</td>\n",
              "      <td>Not Socially Engaged</td>\n",
              "      <td>{\"visits\": \"1\", \"hits\": \"52\", \"pageviews\": \"37...</td>\n",
              "      <td>{\"campaign\": \"(not set)\", \"source\": \"(direct)\"...</td>\n",
              "      <td>1493680066</td>\n",
              "      <td>1</td>\n",
              "      <td>1493680066</td>\n",
              "    </tr>\n",
              "  </tbody>\n",
              "</table>\n",
              "</div>"
            ],
            "text/plain": [
              "  channelGrouping      date  \\\n",
              "0         Display  20161130   \n",
              "1     Paid Search  20161123   \n",
              "2     Paid Search  20160830   \n",
              "3     Paid Search  20160912   \n",
              "4          Direct  20170501   \n",
              "\n",
              "                                              device  fullVisitorId  \\\n",
              "0  {\"browser\": \"Chrome\", \"browserVersion\": \"not a...   5.640000e+18   \n",
              "1  {\"browser\": \"Chrome\", \"browserVersion\": \"not a...   1.110000e+18   \n",
              "2  {\"browser\": \"Chrome\", \"browserVersion\": \"not a...   7.190000e+18   \n",
              "3  {\"browser\": \"Chrome\", \"browserVersion\": \"not a...   7.600000e+17   \n",
              "4  {\"browser\": \"Chrome\", \"browserVersion\": \"not a...   7.080000e+18   \n",
              "\n",
              "                                          geoNetwork  \\\n",
              "0  {\"continent\": \"Americas\", \"subContinent\": \"Nor...   \n",
              "1  {\"continent\": \"Americas\", \"subContinent\": \"Nor...   \n",
              "2  {\"continent\": \"Americas\", \"subContinent\": \"Nor...   \n",
              "3  {\"continent\": \"Americas\", \"subContinent\": \"Nor...   \n",
              "4  {\"continent\": \"Americas\", \"subContinent\": \"Nor...   \n",
              "\n",
              "                        sessionId  socialEngagementType  \\\n",
              "0  5642313646372078492_1480550447  Not Socially Engaged   \n",
              "1  1111470101899387454_1479897941  Not Socially Engaged   \n",
              "2  7187268430836970062_1472604143  Not Socially Engaged   \n",
              "3   759713225034747479_1473716984  Not Socially Engaged   \n",
              "4  7080810108082424102_1493680066  Not Socially Engaged   \n",
              "\n",
              "                                              totals  \\\n",
              "0  {\"visits\": \"1\", \"hits\": \"23\", \"pageviews\": \"22...   \n",
              "1  {\"visits\": \"1\", \"hits\": \"33\", \"pageviews\": \"26...   \n",
              "2  {\"visits\": \"1\", \"hits\": \"16\", \"pageviews\": \"13...   \n",
              "3  {\"visits\": \"1\", \"hits\": \"35\", \"pageviews\": \"30...   \n",
              "4  {\"visits\": \"1\", \"hits\": \"52\", \"pageviews\": \"37...   \n",
              "\n",
              "                                       trafficSource     visitId  visitNumber  \\\n",
              "0  {\"campaign\": \"(not set)\", \"source\": \"dfa\", \"me...  1480550447            1   \n",
              "1  {\"campaign\": \"AW - Dynamic Search Ads Whole Si...  1479897941            2   \n",
              "2  {\"campaign\": \"AW - Dynamic Search Ads Whole Si...  1472604143            3   \n",
              "3  {\"campaign\": \"AW - Dynamic Search Ads Whole Si...  1473716984           10   \n",
              "4  {\"campaign\": \"(not set)\", \"source\": \"(direct)\"...  1493680066            1   \n",
              "\n",
              "   visitStartTime  \n",
              "0      1480550447  \n",
              "1      1479897941  \n",
              "2      1472604143  \n",
              "3      1473716984  \n",
              "4      1493680066  "
            ]
          },
          "execution_count": 4,
          "metadata": {},
          "output_type": "execute_result"
        }
      ],
      "source": [
        "data.head()"
      ]
    }
  ],
  "metadata": {
    "kernelspec": {
      "display_name": "Python 3",
      "language": "python",
      "name": "python3"
    },
    "language_info": {
      "codemirror_mode": {
        "name": "ipython",
        "version": 3
      },
      "file_extension": ".py",
      "mimetype": "text/x-python",
      "name": "python",
      "nbconvert_exporter": "python",
      "pygments_lexer": "ipython3",
      "version": "3.7.6"
    },
    "colab": {
      "name": "10. GA 데이터 적용 시나리오 - Part 1.ipynb",
      "provenance": []
    }
  },
  "nbformat": 4,
  "nbformat_minor": 0
}