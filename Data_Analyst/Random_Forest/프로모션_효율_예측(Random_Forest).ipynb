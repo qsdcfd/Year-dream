{
  "nbformat": 4,
  "nbformat_minor": 0,
  "metadata": {
    "colab": {
      "name": "프로모션 효율 예측(Random Forest)",
      "provenance": [],
      "authorship_tag": "ABX9TyNO56fWdpxnQJIMD71zbm+u"
    },
    "kernelspec": {
      "name": "python3",
      "display_name": "Python 3"
    },
    "language_info": {
      "name": "python"
    }
  },
  "cells": [
    {
      "cell_type": "markdown",
      "source": [
        "### 분석목적\n",
        "\n",
        "- Random Forest이용(Dicision_Tree 상위호환)\n",
        "\n",
        "- 프로모션에 반응할 고객 예측\n",
        "\n",
        "- 고객 데이터와 거래 데이터 통합 활용"
      ],
      "metadata": {
        "id": "sEhvy6gelce1"
      }
    },
    {
      "cell_type": "markdown",
      "source": [
        "### Data Load"
      ],
      "metadata": {
        "id": "Jkamgs-Slmp8"
      }
    },
    {
      "cell_type": "code",
      "execution_count": 1,
      "metadata": {
        "id": "o5csu2ghlGww"
      },
      "outputs": [],
      "source": [
        "import pandas as pd\n",
        "import numpy as np\n",
        "import matplotlib.pyplot as plt\n",
        "import seaborn as sns"
      ]
    },
    {
      "cell_type": "code",
      "source": [
        "mem = pd.read_csv('/content/member.csv')\n",
        "tran = pd.read_csv('/content/transaction.csv')"
      ],
      "metadata": {
        "id": "wy5JNdIqlpV_"
      },
      "execution_count": 2,
      "outputs": []
    },
    {
      "cell_type": "code",
      "source": [
        "mem.head()"
      ],
      "metadata": {
        "colab": {
          "base_uri": "https://localhost:8080/",
          "height": 206
        },
        "id": "6SgyJsuElvjM",
        "outputId": "a2720525-be5a-4727-c0de-46f905f51e3a"
      },
      "execution_count": 3,
      "outputs": [
        {
          "output_type": "execute_result",
          "data": {
            "text/plain": [
              "       id  recency   zip_code  is_referral channel  conversion\n",
              "0  906145       10  Surburban            0   Phone           0\n",
              "1  184478        6      Rural            1     Web           0\n",
              "2  394235        7  Surburban            1     Web           0\n",
              "3  130152        9      Rural            1     Web           0\n",
              "4  940352        2      Urban            0     Web           0"
            ],
            "text/html": [
              "\n",
              "  <div id=\"df-21f8711c-8d90-485a-9cb3-a31b63269a40\">\n",
              "    <div class=\"colab-df-container\">\n",
              "      <div>\n",
              "<style scoped>\n",
              "    .dataframe tbody tr th:only-of-type {\n",
              "        vertical-align: middle;\n",
              "    }\n",
              "\n",
              "    .dataframe tbody tr th {\n",
              "        vertical-align: top;\n",
              "    }\n",
              "\n",
              "    .dataframe thead th {\n",
              "        text-align: right;\n",
              "    }\n",
              "</style>\n",
              "<table border=\"1\" class=\"dataframe\">\n",
              "  <thead>\n",
              "    <tr style=\"text-align: right;\">\n",
              "      <th></th>\n",
              "      <th>id</th>\n",
              "      <th>recency</th>\n",
              "      <th>zip_code</th>\n",
              "      <th>is_referral</th>\n",
              "      <th>channel</th>\n",
              "      <th>conversion</th>\n",
              "    </tr>\n",
              "  </thead>\n",
              "  <tbody>\n",
              "    <tr>\n",
              "      <th>0</th>\n",
              "      <td>906145</td>\n",
              "      <td>10</td>\n",
              "      <td>Surburban</td>\n",
              "      <td>0</td>\n",
              "      <td>Phone</td>\n",
              "      <td>0</td>\n",
              "    </tr>\n",
              "    <tr>\n",
              "      <th>1</th>\n",
              "      <td>184478</td>\n",
              "      <td>6</td>\n",
              "      <td>Rural</td>\n",
              "      <td>1</td>\n",
              "      <td>Web</td>\n",
              "      <td>0</td>\n",
              "    </tr>\n",
              "    <tr>\n",
              "      <th>2</th>\n",
              "      <td>394235</td>\n",
              "      <td>7</td>\n",
              "      <td>Surburban</td>\n",
              "      <td>1</td>\n",
              "      <td>Web</td>\n",
              "      <td>0</td>\n",
              "    </tr>\n",
              "    <tr>\n",
              "      <th>3</th>\n",
              "      <td>130152</td>\n",
              "      <td>9</td>\n",
              "      <td>Rural</td>\n",
              "      <td>1</td>\n",
              "      <td>Web</td>\n",
              "      <td>0</td>\n",
              "    </tr>\n",
              "    <tr>\n",
              "      <th>4</th>\n",
              "      <td>940352</td>\n",
              "      <td>2</td>\n",
              "      <td>Urban</td>\n",
              "      <td>0</td>\n",
              "      <td>Web</td>\n",
              "      <td>0</td>\n",
              "    </tr>\n",
              "  </tbody>\n",
              "</table>\n",
              "</div>\n",
              "      <button class=\"colab-df-convert\" onclick=\"convertToInteractive('df-21f8711c-8d90-485a-9cb3-a31b63269a40')\"\n",
              "              title=\"Convert this dataframe to an interactive table.\"\n",
              "              style=\"display:none;\">\n",
              "        \n",
              "  <svg xmlns=\"http://www.w3.org/2000/svg\" height=\"24px\"viewBox=\"0 0 24 24\"\n",
              "       width=\"24px\">\n",
              "    <path d=\"M0 0h24v24H0V0z\" fill=\"none\"/>\n",
              "    <path d=\"M18.56 5.44l.94 2.06.94-2.06 2.06-.94-2.06-.94-.94-2.06-.94 2.06-2.06.94zm-11 1L8.5 8.5l.94-2.06 2.06-.94-2.06-.94L8.5 2.5l-.94 2.06-2.06.94zm10 10l.94 2.06.94-2.06 2.06-.94-2.06-.94-.94-2.06-.94 2.06-2.06.94z\"/><path d=\"M17.41 7.96l-1.37-1.37c-.4-.4-.92-.59-1.43-.59-.52 0-1.04.2-1.43.59L10.3 9.45l-7.72 7.72c-.78.78-.78 2.05 0 2.83L4 21.41c.39.39.9.59 1.41.59.51 0 1.02-.2 1.41-.59l7.78-7.78 2.81-2.81c.8-.78.8-2.07 0-2.86zM5.41 20L4 18.59l7.72-7.72 1.47 1.35L5.41 20z\"/>\n",
              "  </svg>\n",
              "      </button>\n",
              "      \n",
              "  <style>\n",
              "    .colab-df-container {\n",
              "      display:flex;\n",
              "      flex-wrap:wrap;\n",
              "      gap: 12px;\n",
              "    }\n",
              "\n",
              "    .colab-df-convert {\n",
              "      background-color: #E8F0FE;\n",
              "      border: none;\n",
              "      border-radius: 50%;\n",
              "      cursor: pointer;\n",
              "      display: none;\n",
              "      fill: #1967D2;\n",
              "      height: 32px;\n",
              "      padding: 0 0 0 0;\n",
              "      width: 32px;\n",
              "    }\n",
              "\n",
              "    .colab-df-convert:hover {\n",
              "      background-color: #E2EBFA;\n",
              "      box-shadow: 0px 1px 2px rgba(60, 64, 67, 0.3), 0px 1px 3px 1px rgba(60, 64, 67, 0.15);\n",
              "      fill: #174EA6;\n",
              "    }\n",
              "\n",
              "    [theme=dark] .colab-df-convert {\n",
              "      background-color: #3B4455;\n",
              "      fill: #D2E3FC;\n",
              "    }\n",
              "\n",
              "    [theme=dark] .colab-df-convert:hover {\n",
              "      background-color: #434B5C;\n",
              "      box-shadow: 0px 1px 3px 1px rgba(0, 0, 0, 0.15);\n",
              "      filter: drop-shadow(0px 1px 2px rgba(0, 0, 0, 0.3));\n",
              "      fill: #FFFFFF;\n",
              "    }\n",
              "  </style>\n",
              "\n",
              "      <script>\n",
              "        const buttonEl =\n",
              "          document.querySelector('#df-21f8711c-8d90-485a-9cb3-a31b63269a40 button.colab-df-convert');\n",
              "        buttonEl.style.display =\n",
              "          google.colab.kernel.accessAllowed ? 'block' : 'none';\n",
              "\n",
              "        async function convertToInteractive(key) {\n",
              "          const element = document.querySelector('#df-21f8711c-8d90-485a-9cb3-a31b63269a40');\n",
              "          const dataTable =\n",
              "            await google.colab.kernel.invokeFunction('convertToInteractive',\n",
              "                                                     [key], {});\n",
              "          if (!dataTable) return;\n",
              "\n",
              "          const docLinkHtml = 'Like what you see? Visit the ' +\n",
              "            '<a target=\"_blank\" href=https://colab.research.google.com/notebooks/data_table.ipynb>data table notebook</a>'\n",
              "            + ' to learn more about interactive tables.';\n",
              "          element.innerHTML = '';\n",
              "          dataTable['output_type'] = 'display_data';\n",
              "          await google.colab.output.renderOutput(dataTable, element);\n",
              "          const docLink = document.createElement('div');\n",
              "          docLink.innerHTML = docLinkHtml;\n",
              "          element.appendChild(docLink);\n",
              "        }\n",
              "      </script>\n",
              "    </div>\n",
              "  </div>\n",
              "  "
            ]
          },
          "metadata": {},
          "execution_count": 3
        }
      ]
    },
    {
      "cell_type": "code",
      "source": [
        "mem.info()"
      ],
      "metadata": {
        "colab": {
          "base_uri": "https://localhost:8080/"
        },
        "id": "-EjMrKYImA_9",
        "outputId": "9faa1f41-7e48-4105-bddf-48fd6a3e4f98"
      },
      "execution_count": 5,
      "outputs": [
        {
          "output_type": "stream",
          "name": "stdout",
          "text": [
            "<class 'pandas.core.frame.DataFrame'>\n",
            "RangeIndex: 64000 entries, 0 to 63999\n",
            "Data columns (total 6 columns):\n",
            " #   Column       Non-Null Count  Dtype \n",
            "---  ------       --------------  ----- \n",
            " 0   id           64000 non-null  int64 \n",
            " 1   recency      64000 non-null  int64 \n",
            " 2   zip_code     64000 non-null  object\n",
            " 3   is_referral  64000 non-null  int64 \n",
            " 4   channel      64000 non-null  object\n",
            " 5   conversion   64000 non-null  int64 \n",
            "dtypes: int64(4), object(2)\n",
            "memory usage: 2.9+ MB\n"
          ]
        }
      ]
    },
    {
      "cell_type": "code",
      "source": [
        "mem.describe()"
      ],
      "metadata": {
        "colab": {
          "base_uri": "https://localhost:8080/",
          "height": 300
        },
        "id": "UrJ-8s0dmEg6",
        "outputId": "72927d4d-240c-4a64-b21f-8aac13b219a4"
      },
      "execution_count": 6,
      "outputs": [
        {
          "output_type": "execute_result",
          "data": {
            "text/plain": [
              "                  id       recency   is_referral    conversion\n",
              "count   64000.000000  64000.000000  64000.000000  64000.000000\n",
              "mean   550694.137797      5.763734      0.502250      0.146781\n",
              "std    259105.689773      3.507592      0.499999      0.353890\n",
              "min    100001.000000      1.000000      0.000000      0.000000\n",
              "25%    326772.000000      2.000000      0.000000      0.000000\n",
              "50%    551300.000000      6.000000      1.000000      0.000000\n",
              "75%    774914.500000      9.000000      1.000000      0.000000\n",
              "max    999997.000000     12.000000      1.000000      1.000000"
            ],
            "text/html": [
              "\n",
              "  <div id=\"df-f320bc69-9375-4608-b0a9-6b206600ff94\">\n",
              "    <div class=\"colab-df-container\">\n",
              "      <div>\n",
              "<style scoped>\n",
              "    .dataframe tbody tr th:only-of-type {\n",
              "        vertical-align: middle;\n",
              "    }\n",
              "\n",
              "    .dataframe tbody tr th {\n",
              "        vertical-align: top;\n",
              "    }\n",
              "\n",
              "    .dataframe thead th {\n",
              "        text-align: right;\n",
              "    }\n",
              "</style>\n",
              "<table border=\"1\" class=\"dataframe\">\n",
              "  <thead>\n",
              "    <tr style=\"text-align: right;\">\n",
              "      <th></th>\n",
              "      <th>id</th>\n",
              "      <th>recency</th>\n",
              "      <th>is_referral</th>\n",
              "      <th>conversion</th>\n",
              "    </tr>\n",
              "  </thead>\n",
              "  <tbody>\n",
              "    <tr>\n",
              "      <th>count</th>\n",
              "      <td>64000.000000</td>\n",
              "      <td>64000.000000</td>\n",
              "      <td>64000.000000</td>\n",
              "      <td>64000.000000</td>\n",
              "    </tr>\n",
              "    <tr>\n",
              "      <th>mean</th>\n",
              "      <td>550694.137797</td>\n",
              "      <td>5.763734</td>\n",
              "      <td>0.502250</td>\n",
              "      <td>0.146781</td>\n",
              "    </tr>\n",
              "    <tr>\n",
              "      <th>std</th>\n",
              "      <td>259105.689773</td>\n",
              "      <td>3.507592</td>\n",
              "      <td>0.499999</td>\n",
              "      <td>0.353890</td>\n",
              "    </tr>\n",
              "    <tr>\n",
              "      <th>min</th>\n",
              "      <td>100001.000000</td>\n",
              "      <td>1.000000</td>\n",
              "      <td>0.000000</td>\n",
              "      <td>0.000000</td>\n",
              "    </tr>\n",
              "    <tr>\n",
              "      <th>25%</th>\n",
              "      <td>326772.000000</td>\n",
              "      <td>2.000000</td>\n",
              "      <td>0.000000</td>\n",
              "      <td>0.000000</td>\n",
              "    </tr>\n",
              "    <tr>\n",
              "      <th>50%</th>\n",
              "      <td>551300.000000</td>\n",
              "      <td>6.000000</td>\n",
              "      <td>1.000000</td>\n",
              "      <td>0.000000</td>\n",
              "    </tr>\n",
              "    <tr>\n",
              "      <th>75%</th>\n",
              "      <td>774914.500000</td>\n",
              "      <td>9.000000</td>\n",
              "      <td>1.000000</td>\n",
              "      <td>0.000000</td>\n",
              "    </tr>\n",
              "    <tr>\n",
              "      <th>max</th>\n",
              "      <td>999997.000000</td>\n",
              "      <td>12.000000</td>\n",
              "      <td>1.000000</td>\n",
              "      <td>1.000000</td>\n",
              "    </tr>\n",
              "  </tbody>\n",
              "</table>\n",
              "</div>\n",
              "      <button class=\"colab-df-convert\" onclick=\"convertToInteractive('df-f320bc69-9375-4608-b0a9-6b206600ff94')\"\n",
              "              title=\"Convert this dataframe to an interactive table.\"\n",
              "              style=\"display:none;\">\n",
              "        \n",
              "  <svg xmlns=\"http://www.w3.org/2000/svg\" height=\"24px\"viewBox=\"0 0 24 24\"\n",
              "       width=\"24px\">\n",
              "    <path d=\"M0 0h24v24H0V0z\" fill=\"none\"/>\n",
              "    <path d=\"M18.56 5.44l.94 2.06.94-2.06 2.06-.94-2.06-.94-.94-2.06-.94 2.06-2.06.94zm-11 1L8.5 8.5l.94-2.06 2.06-.94-2.06-.94L8.5 2.5l-.94 2.06-2.06.94zm10 10l.94 2.06.94-2.06 2.06-.94-2.06-.94-.94-2.06-.94 2.06-2.06.94z\"/><path d=\"M17.41 7.96l-1.37-1.37c-.4-.4-.92-.59-1.43-.59-.52 0-1.04.2-1.43.59L10.3 9.45l-7.72 7.72c-.78.78-.78 2.05 0 2.83L4 21.41c.39.39.9.59 1.41.59.51 0 1.02-.2 1.41-.59l7.78-7.78 2.81-2.81c.8-.78.8-2.07 0-2.86zM5.41 20L4 18.59l7.72-7.72 1.47 1.35L5.41 20z\"/>\n",
              "  </svg>\n",
              "      </button>\n",
              "      \n",
              "  <style>\n",
              "    .colab-df-container {\n",
              "      display:flex;\n",
              "      flex-wrap:wrap;\n",
              "      gap: 12px;\n",
              "    }\n",
              "\n",
              "    .colab-df-convert {\n",
              "      background-color: #E8F0FE;\n",
              "      border: none;\n",
              "      border-radius: 50%;\n",
              "      cursor: pointer;\n",
              "      display: none;\n",
              "      fill: #1967D2;\n",
              "      height: 32px;\n",
              "      padding: 0 0 0 0;\n",
              "      width: 32px;\n",
              "    }\n",
              "\n",
              "    .colab-df-convert:hover {\n",
              "      background-color: #E2EBFA;\n",
              "      box-shadow: 0px 1px 2px rgba(60, 64, 67, 0.3), 0px 1px 3px 1px rgba(60, 64, 67, 0.15);\n",
              "      fill: #174EA6;\n",
              "    }\n",
              "\n",
              "    [theme=dark] .colab-df-convert {\n",
              "      background-color: #3B4455;\n",
              "      fill: #D2E3FC;\n",
              "    }\n",
              "\n",
              "    [theme=dark] .colab-df-convert:hover {\n",
              "      background-color: #434B5C;\n",
              "      box-shadow: 0px 1px 3px 1px rgba(0, 0, 0, 0.15);\n",
              "      filter: drop-shadow(0px 1px 2px rgba(0, 0, 0, 0.3));\n",
              "      fill: #FFFFFF;\n",
              "    }\n",
              "  </style>\n",
              "\n",
              "      <script>\n",
              "        const buttonEl =\n",
              "          document.querySelector('#df-f320bc69-9375-4608-b0a9-6b206600ff94 button.colab-df-convert');\n",
              "        buttonEl.style.display =\n",
              "          google.colab.kernel.accessAllowed ? 'block' : 'none';\n",
              "\n",
              "        async function convertToInteractive(key) {\n",
              "          const element = document.querySelector('#df-f320bc69-9375-4608-b0a9-6b206600ff94');\n",
              "          const dataTable =\n",
              "            await google.colab.kernel.invokeFunction('convertToInteractive',\n",
              "                                                     [key], {});\n",
              "          if (!dataTable) return;\n",
              "\n",
              "          const docLinkHtml = 'Like what you see? Visit the ' +\n",
              "            '<a target=\"_blank\" href=https://colab.research.google.com/notebooks/data_table.ipynb>data table notebook</a>'\n",
              "            + ' to learn more about interactive tables.';\n",
              "          element.innerHTML = '';\n",
              "          dataTable['output_type'] = 'display_data';\n",
              "          await google.colab.output.renderOutput(dataTable, element);\n",
              "          const docLink = document.createElement('div');\n",
              "          docLink.innerHTML = docLinkHtml;\n",
              "          element.appendChild(docLink);\n",
              "        }\n",
              "      </script>\n",
              "    </div>\n",
              "  </div>\n",
              "  "
            ]
          },
          "metadata": {},
          "execution_count": 6
        }
      ]
    },
    {
      "cell_type": "code",
      "source": [
        "tran.head()"
      ],
      "metadata": {
        "colab": {
          "base_uri": "https://localhost:8080/",
          "height": 206
        },
        "id": "20t-5wI0lx68",
        "outputId": "665f4af2-09aa-4698-c52f-abd1e73fde74"
      },
      "execution_count": 4,
      "outputs": [
        {
          "output_type": "execute_result",
          "data": {
            "text/plain": [
              "       id  num_item  total_amount\n",
              "0  906145         5         34000\n",
              "1  906145         1         27000\n",
              "2  906145         4         33000\n",
              "3  184478         4         29000\n",
              "4  394235         4         33000"
            ],
            "text/html": [
              "\n",
              "  <div id=\"df-0922314a-1111-4788-ac5a-a67ee1b76498\">\n",
              "    <div class=\"colab-df-container\">\n",
              "      <div>\n",
              "<style scoped>\n",
              "    .dataframe tbody tr th:only-of-type {\n",
              "        vertical-align: middle;\n",
              "    }\n",
              "\n",
              "    .dataframe tbody tr th {\n",
              "        vertical-align: top;\n",
              "    }\n",
              "\n",
              "    .dataframe thead th {\n",
              "        text-align: right;\n",
              "    }\n",
              "</style>\n",
              "<table border=\"1\" class=\"dataframe\">\n",
              "  <thead>\n",
              "    <tr style=\"text-align: right;\">\n",
              "      <th></th>\n",
              "      <th>id</th>\n",
              "      <th>num_item</th>\n",
              "      <th>total_amount</th>\n",
              "    </tr>\n",
              "  </thead>\n",
              "  <tbody>\n",
              "    <tr>\n",
              "      <th>0</th>\n",
              "      <td>906145</td>\n",
              "      <td>5</td>\n",
              "      <td>34000</td>\n",
              "    </tr>\n",
              "    <tr>\n",
              "      <th>1</th>\n",
              "      <td>906145</td>\n",
              "      <td>1</td>\n",
              "      <td>27000</td>\n",
              "    </tr>\n",
              "    <tr>\n",
              "      <th>2</th>\n",
              "      <td>906145</td>\n",
              "      <td>4</td>\n",
              "      <td>33000</td>\n",
              "    </tr>\n",
              "    <tr>\n",
              "      <th>3</th>\n",
              "      <td>184478</td>\n",
              "      <td>4</td>\n",
              "      <td>29000</td>\n",
              "    </tr>\n",
              "    <tr>\n",
              "      <th>4</th>\n",
              "      <td>394235</td>\n",
              "      <td>4</td>\n",
              "      <td>33000</td>\n",
              "    </tr>\n",
              "  </tbody>\n",
              "</table>\n",
              "</div>\n",
              "      <button class=\"colab-df-convert\" onclick=\"convertToInteractive('df-0922314a-1111-4788-ac5a-a67ee1b76498')\"\n",
              "              title=\"Convert this dataframe to an interactive table.\"\n",
              "              style=\"display:none;\">\n",
              "        \n",
              "  <svg xmlns=\"http://www.w3.org/2000/svg\" height=\"24px\"viewBox=\"0 0 24 24\"\n",
              "       width=\"24px\">\n",
              "    <path d=\"M0 0h24v24H0V0z\" fill=\"none\"/>\n",
              "    <path d=\"M18.56 5.44l.94 2.06.94-2.06 2.06-.94-2.06-.94-.94-2.06-.94 2.06-2.06.94zm-11 1L8.5 8.5l.94-2.06 2.06-.94-2.06-.94L8.5 2.5l-.94 2.06-2.06.94zm10 10l.94 2.06.94-2.06 2.06-.94-2.06-.94-.94-2.06-.94 2.06-2.06.94z\"/><path d=\"M17.41 7.96l-1.37-1.37c-.4-.4-.92-.59-1.43-.59-.52 0-1.04.2-1.43.59L10.3 9.45l-7.72 7.72c-.78.78-.78 2.05 0 2.83L4 21.41c.39.39.9.59 1.41.59.51 0 1.02-.2 1.41-.59l7.78-7.78 2.81-2.81c.8-.78.8-2.07 0-2.86zM5.41 20L4 18.59l7.72-7.72 1.47 1.35L5.41 20z\"/>\n",
              "  </svg>\n",
              "      </button>\n",
              "      \n",
              "  <style>\n",
              "    .colab-df-container {\n",
              "      display:flex;\n",
              "      flex-wrap:wrap;\n",
              "      gap: 12px;\n",
              "    }\n",
              "\n",
              "    .colab-df-convert {\n",
              "      background-color: #E8F0FE;\n",
              "      border: none;\n",
              "      border-radius: 50%;\n",
              "      cursor: pointer;\n",
              "      display: none;\n",
              "      fill: #1967D2;\n",
              "      height: 32px;\n",
              "      padding: 0 0 0 0;\n",
              "      width: 32px;\n",
              "    }\n",
              "\n",
              "    .colab-df-convert:hover {\n",
              "      background-color: #E2EBFA;\n",
              "      box-shadow: 0px 1px 2px rgba(60, 64, 67, 0.3), 0px 1px 3px 1px rgba(60, 64, 67, 0.15);\n",
              "      fill: #174EA6;\n",
              "    }\n",
              "\n",
              "    [theme=dark] .colab-df-convert {\n",
              "      background-color: #3B4455;\n",
              "      fill: #D2E3FC;\n",
              "    }\n",
              "\n",
              "    [theme=dark] .colab-df-convert:hover {\n",
              "      background-color: #434B5C;\n",
              "      box-shadow: 0px 1px 3px 1px rgba(0, 0, 0, 0.15);\n",
              "      filter: drop-shadow(0px 1px 2px rgba(0, 0, 0, 0.3));\n",
              "      fill: #FFFFFF;\n",
              "    }\n",
              "  </style>\n",
              "\n",
              "      <script>\n",
              "        const buttonEl =\n",
              "          document.querySelector('#df-0922314a-1111-4788-ac5a-a67ee1b76498 button.colab-df-convert');\n",
              "        buttonEl.style.display =\n",
              "          google.colab.kernel.accessAllowed ? 'block' : 'none';\n",
              "\n",
              "        async function convertToInteractive(key) {\n",
              "          const element = document.querySelector('#df-0922314a-1111-4788-ac5a-a67ee1b76498');\n",
              "          const dataTable =\n",
              "            await google.colab.kernel.invokeFunction('convertToInteractive',\n",
              "                                                     [key], {});\n",
              "          if (!dataTable) return;\n",
              "\n",
              "          const docLinkHtml = 'Like what you see? Visit the ' +\n",
              "            '<a target=\"_blank\" href=https://colab.research.google.com/notebooks/data_table.ipynb>data table notebook</a>'\n",
              "            + ' to learn more about interactive tables.';\n",
              "          element.innerHTML = '';\n",
              "          dataTable['output_type'] = 'display_data';\n",
              "          await google.colab.output.renderOutput(dataTable, element);\n",
              "          const docLink = document.createElement('div');\n",
              "          docLink.innerHTML = docLinkHtml;\n",
              "          element.appendChild(docLink);\n",
              "        }\n",
              "      </script>\n",
              "    </div>\n",
              "  </div>\n",
              "  "
            ]
          },
          "metadata": {},
          "execution_count": 4
        }
      ]
    },
    {
      "cell_type": "code",
      "source": [
        "tran.info()"
      ],
      "metadata": {
        "colab": {
          "base_uri": "https://localhost:8080/"
        },
        "id": "GONyk5RRlzAt",
        "outputId": "b0762fa7-d056-40ac-8c5d-a0270d42a04b"
      },
      "execution_count": 7,
      "outputs": [
        {
          "output_type": "stream",
          "name": "stdout",
          "text": [
            "<class 'pandas.core.frame.DataFrame'>\n",
            "RangeIndex: 196836 entries, 0 to 196835\n",
            "Data columns (total 3 columns):\n",
            " #   Column        Non-Null Count   Dtype\n",
            "---  ------        --------------   -----\n",
            " 0   id            196836 non-null  int64\n",
            " 1   num_item      196836 non-null  int64\n",
            " 2   total_amount  196836 non-null  int64\n",
            "dtypes: int64(3)\n",
            "memory usage: 4.5 MB\n"
          ]
        }
      ]
    },
    {
      "cell_type": "code",
      "source": [
        "tran.describe()"
      ],
      "metadata": {
        "colab": {
          "base_uri": "https://localhost:8080/",
          "height": 300
        },
        "id": "IJRbXRw0mMRq",
        "outputId": "110f2912-3445-4891-d8c2-d02f1f2ebce3"
      },
      "execution_count": 8,
      "outputs": [
        {
          "output_type": "execute_result",
          "data": {
            "text/plain": [
              "                  id       num_item   total_amount\n",
              "count  196836.000000  196836.000000  196836.000000\n",
              "mean   550557.552932       3.078365   21837.102969\n",
              "std    259254.795613       1.478408    8218.005565\n",
              "min    100001.000000       1.000000    8000.000000\n",
              "25%    326719.000000       2.000000   15000.000000\n",
              "50%    550918.000000       3.000000   22000.000000\n",
              "75%    774916.000000       4.000000   29000.000000\n",
              "max    999997.000000       6.000000   38000.000000"
            ],
            "text/html": [
              "\n",
              "  <div id=\"df-6623b63e-3060-4297-8c0b-2ca7dccd30fa\">\n",
              "    <div class=\"colab-df-container\">\n",
              "      <div>\n",
              "<style scoped>\n",
              "    .dataframe tbody tr th:only-of-type {\n",
              "        vertical-align: middle;\n",
              "    }\n",
              "\n",
              "    .dataframe tbody tr th {\n",
              "        vertical-align: top;\n",
              "    }\n",
              "\n",
              "    .dataframe thead th {\n",
              "        text-align: right;\n",
              "    }\n",
              "</style>\n",
              "<table border=\"1\" class=\"dataframe\">\n",
              "  <thead>\n",
              "    <tr style=\"text-align: right;\">\n",
              "      <th></th>\n",
              "      <th>id</th>\n",
              "      <th>num_item</th>\n",
              "      <th>total_amount</th>\n",
              "    </tr>\n",
              "  </thead>\n",
              "  <tbody>\n",
              "    <tr>\n",
              "      <th>count</th>\n",
              "      <td>196836.000000</td>\n",
              "      <td>196836.000000</td>\n",
              "      <td>196836.000000</td>\n",
              "    </tr>\n",
              "    <tr>\n",
              "      <th>mean</th>\n",
              "      <td>550557.552932</td>\n",
              "      <td>3.078365</td>\n",
              "      <td>21837.102969</td>\n",
              "    </tr>\n",
              "    <tr>\n",
              "      <th>std</th>\n",
              "      <td>259254.795613</td>\n",
              "      <td>1.478408</td>\n",
              "      <td>8218.005565</td>\n",
              "    </tr>\n",
              "    <tr>\n",
              "      <th>min</th>\n",
              "      <td>100001.000000</td>\n",
              "      <td>1.000000</td>\n",
              "      <td>8000.000000</td>\n",
              "    </tr>\n",
              "    <tr>\n",
              "      <th>25%</th>\n",
              "      <td>326719.000000</td>\n",
              "      <td>2.000000</td>\n",
              "      <td>15000.000000</td>\n",
              "    </tr>\n",
              "    <tr>\n",
              "      <th>50%</th>\n",
              "      <td>550918.000000</td>\n",
              "      <td>3.000000</td>\n",
              "      <td>22000.000000</td>\n",
              "    </tr>\n",
              "    <tr>\n",
              "      <th>75%</th>\n",
              "      <td>774916.000000</td>\n",
              "      <td>4.000000</td>\n",
              "      <td>29000.000000</td>\n",
              "    </tr>\n",
              "    <tr>\n",
              "      <th>max</th>\n",
              "      <td>999997.000000</td>\n",
              "      <td>6.000000</td>\n",
              "      <td>38000.000000</td>\n",
              "    </tr>\n",
              "  </tbody>\n",
              "</table>\n",
              "</div>\n",
              "      <button class=\"colab-df-convert\" onclick=\"convertToInteractive('df-6623b63e-3060-4297-8c0b-2ca7dccd30fa')\"\n",
              "              title=\"Convert this dataframe to an interactive table.\"\n",
              "              style=\"display:none;\">\n",
              "        \n",
              "  <svg xmlns=\"http://www.w3.org/2000/svg\" height=\"24px\"viewBox=\"0 0 24 24\"\n",
              "       width=\"24px\">\n",
              "    <path d=\"M0 0h24v24H0V0z\" fill=\"none\"/>\n",
              "    <path d=\"M18.56 5.44l.94 2.06.94-2.06 2.06-.94-2.06-.94-.94-2.06-.94 2.06-2.06.94zm-11 1L8.5 8.5l.94-2.06 2.06-.94-2.06-.94L8.5 2.5l-.94 2.06-2.06.94zm10 10l.94 2.06.94-2.06 2.06-.94-2.06-.94-.94-2.06-.94 2.06-2.06.94z\"/><path d=\"M17.41 7.96l-1.37-1.37c-.4-.4-.92-.59-1.43-.59-.52 0-1.04.2-1.43.59L10.3 9.45l-7.72 7.72c-.78.78-.78 2.05 0 2.83L4 21.41c.39.39.9.59 1.41.59.51 0 1.02-.2 1.41-.59l7.78-7.78 2.81-2.81c.8-.78.8-2.07 0-2.86zM5.41 20L4 18.59l7.72-7.72 1.47 1.35L5.41 20z\"/>\n",
              "  </svg>\n",
              "      </button>\n",
              "      \n",
              "  <style>\n",
              "    .colab-df-container {\n",
              "      display:flex;\n",
              "      flex-wrap:wrap;\n",
              "      gap: 12px;\n",
              "    }\n",
              "\n",
              "    .colab-df-convert {\n",
              "      background-color: #E8F0FE;\n",
              "      border: none;\n",
              "      border-radius: 50%;\n",
              "      cursor: pointer;\n",
              "      display: none;\n",
              "      fill: #1967D2;\n",
              "      height: 32px;\n",
              "      padding: 0 0 0 0;\n",
              "      width: 32px;\n",
              "    }\n",
              "\n",
              "    .colab-df-convert:hover {\n",
              "      background-color: #E2EBFA;\n",
              "      box-shadow: 0px 1px 2px rgba(60, 64, 67, 0.3), 0px 1px 3px 1px rgba(60, 64, 67, 0.15);\n",
              "      fill: #174EA6;\n",
              "    }\n",
              "\n",
              "    [theme=dark] .colab-df-convert {\n",
              "      background-color: #3B4455;\n",
              "      fill: #D2E3FC;\n",
              "    }\n",
              "\n",
              "    [theme=dark] .colab-df-convert:hover {\n",
              "      background-color: #434B5C;\n",
              "      box-shadow: 0px 1px 3px 1px rgba(0, 0, 0, 0.15);\n",
              "      filter: drop-shadow(0px 1px 2px rgba(0, 0, 0, 0.3));\n",
              "      fill: #FFFFFF;\n",
              "    }\n",
              "  </style>\n",
              "\n",
              "      <script>\n",
              "        const buttonEl =\n",
              "          document.querySelector('#df-6623b63e-3060-4297-8c0b-2ca7dccd30fa button.colab-df-convert');\n",
              "        buttonEl.style.display =\n",
              "          google.colab.kernel.accessAllowed ? 'block' : 'none';\n",
              "\n",
              "        async function convertToInteractive(key) {\n",
              "          const element = document.querySelector('#df-6623b63e-3060-4297-8c0b-2ca7dccd30fa');\n",
              "          const dataTable =\n",
              "            await google.colab.kernel.invokeFunction('convertToInteractive',\n",
              "                                                     [key], {});\n",
              "          if (!dataTable) return;\n",
              "\n",
              "          const docLinkHtml = 'Like what you see? Visit the ' +\n",
              "            '<a target=\"_blank\" href=https://colab.research.google.com/notebooks/data_table.ipynb>data table notebook</a>'\n",
              "            + ' to learn more about interactive tables.';\n",
              "          element.innerHTML = '';\n",
              "          dataTable['output_type'] = 'display_data';\n",
              "          await google.colab.output.renderOutput(dataTable, element);\n",
              "          const docLink = document.createElement('div');\n",
              "          docLink.innerHTML = docLinkHtml;\n",
              "          element.appendChild(docLink);\n",
              "        }\n",
              "      </script>\n",
              "    </div>\n",
              "  </div>\n",
              "  "
            ]
          },
          "metadata": {},
          "execution_count": 8
        }
      ]
    },
    {
      "cell_type": "markdown",
      "source": [
        "### 아이템별 평균 가격 추가(feature engineering)"
      ],
      "metadata": {
        "id": "KFDSxCoZrbxW"
      }
    },
    {
      "cell_type": "code",
      "source": [
        "tran['avg_price'] = tran['total_amount'] / tran['num_item']\n"
      ],
      "metadata": {
        "id": "6YE_obrTmMUU"
      },
      "execution_count": 9,
      "outputs": []
    },
    {
      "cell_type": "code",
      "source": [
        "tran"
      ],
      "metadata": {
        "colab": {
          "base_uri": "https://localhost:8080/",
          "height": 424
        },
        "id": "Mh4Ekvz_mMWD",
        "outputId": "e9b27dbe-25b3-447e-fc47-368b8958c356"
      },
      "execution_count": 10,
      "outputs": [
        {
          "output_type": "execute_result",
          "data": {
            "text/plain": [
              "            id  num_item  total_amount     avg_price\n",
              "0       906145         5         34000   6800.000000\n",
              "1       906145         1         27000  27000.000000\n",
              "2       906145         4         33000   8250.000000\n",
              "3       184478         4         29000   7250.000000\n",
              "4       394235         4         33000   8250.000000\n",
              "...        ...       ...           ...           ...\n",
              "196831  536246         5         24000   4800.000000\n",
              "196832  927617         5         26000   5200.000000\n",
              "196833  927617         3         22000   7333.333333\n",
              "196834  927617         3         18000   6000.000000\n",
              "196835  927617         3         20000   6666.666667\n",
              "\n",
              "[196836 rows x 4 columns]"
            ],
            "text/html": [
              "\n",
              "  <div id=\"df-5570c961-4183-4a25-adcc-6a00a9a5e28e\">\n",
              "    <div class=\"colab-df-container\">\n",
              "      <div>\n",
              "<style scoped>\n",
              "    .dataframe tbody tr th:only-of-type {\n",
              "        vertical-align: middle;\n",
              "    }\n",
              "\n",
              "    .dataframe tbody tr th {\n",
              "        vertical-align: top;\n",
              "    }\n",
              "\n",
              "    .dataframe thead th {\n",
              "        text-align: right;\n",
              "    }\n",
              "</style>\n",
              "<table border=\"1\" class=\"dataframe\">\n",
              "  <thead>\n",
              "    <tr style=\"text-align: right;\">\n",
              "      <th></th>\n",
              "      <th>id</th>\n",
              "      <th>num_item</th>\n",
              "      <th>total_amount</th>\n",
              "      <th>avg_price</th>\n",
              "    </tr>\n",
              "  </thead>\n",
              "  <tbody>\n",
              "    <tr>\n",
              "      <th>0</th>\n",
              "      <td>906145</td>\n",
              "      <td>5</td>\n",
              "      <td>34000</td>\n",
              "      <td>6800.000000</td>\n",
              "    </tr>\n",
              "    <tr>\n",
              "      <th>1</th>\n",
              "      <td>906145</td>\n",
              "      <td>1</td>\n",
              "      <td>27000</td>\n",
              "      <td>27000.000000</td>\n",
              "    </tr>\n",
              "    <tr>\n",
              "      <th>2</th>\n",
              "      <td>906145</td>\n",
              "      <td>4</td>\n",
              "      <td>33000</td>\n",
              "      <td>8250.000000</td>\n",
              "    </tr>\n",
              "    <tr>\n",
              "      <th>3</th>\n",
              "      <td>184478</td>\n",
              "      <td>4</td>\n",
              "      <td>29000</td>\n",
              "      <td>7250.000000</td>\n",
              "    </tr>\n",
              "    <tr>\n",
              "      <th>4</th>\n",
              "      <td>394235</td>\n",
              "      <td>4</td>\n",
              "      <td>33000</td>\n",
              "      <td>8250.000000</td>\n",
              "    </tr>\n",
              "    <tr>\n",
              "      <th>...</th>\n",
              "      <td>...</td>\n",
              "      <td>...</td>\n",
              "      <td>...</td>\n",
              "      <td>...</td>\n",
              "    </tr>\n",
              "    <tr>\n",
              "      <th>196831</th>\n",
              "      <td>536246</td>\n",
              "      <td>5</td>\n",
              "      <td>24000</td>\n",
              "      <td>4800.000000</td>\n",
              "    </tr>\n",
              "    <tr>\n",
              "      <th>196832</th>\n",
              "      <td>927617</td>\n",
              "      <td>5</td>\n",
              "      <td>26000</td>\n",
              "      <td>5200.000000</td>\n",
              "    </tr>\n",
              "    <tr>\n",
              "      <th>196833</th>\n",
              "      <td>927617</td>\n",
              "      <td>3</td>\n",
              "      <td>22000</td>\n",
              "      <td>7333.333333</td>\n",
              "    </tr>\n",
              "    <tr>\n",
              "      <th>196834</th>\n",
              "      <td>927617</td>\n",
              "      <td>3</td>\n",
              "      <td>18000</td>\n",
              "      <td>6000.000000</td>\n",
              "    </tr>\n",
              "    <tr>\n",
              "      <th>196835</th>\n",
              "      <td>927617</td>\n",
              "      <td>3</td>\n",
              "      <td>20000</td>\n",
              "      <td>6666.666667</td>\n",
              "    </tr>\n",
              "  </tbody>\n",
              "</table>\n",
              "<p>196836 rows × 4 columns</p>\n",
              "</div>\n",
              "      <button class=\"colab-df-convert\" onclick=\"convertToInteractive('df-5570c961-4183-4a25-adcc-6a00a9a5e28e')\"\n",
              "              title=\"Convert this dataframe to an interactive table.\"\n",
              "              style=\"display:none;\">\n",
              "        \n",
              "  <svg xmlns=\"http://www.w3.org/2000/svg\" height=\"24px\"viewBox=\"0 0 24 24\"\n",
              "       width=\"24px\">\n",
              "    <path d=\"M0 0h24v24H0V0z\" fill=\"none\"/>\n",
              "    <path d=\"M18.56 5.44l.94 2.06.94-2.06 2.06-.94-2.06-.94-.94-2.06-.94 2.06-2.06.94zm-11 1L8.5 8.5l.94-2.06 2.06-.94-2.06-.94L8.5 2.5l-.94 2.06-2.06.94zm10 10l.94 2.06.94-2.06 2.06-.94-2.06-.94-.94-2.06-.94 2.06-2.06.94z\"/><path d=\"M17.41 7.96l-1.37-1.37c-.4-.4-.92-.59-1.43-.59-.52 0-1.04.2-1.43.59L10.3 9.45l-7.72 7.72c-.78.78-.78 2.05 0 2.83L4 21.41c.39.39.9.59 1.41.59.51 0 1.02-.2 1.41-.59l7.78-7.78 2.81-2.81c.8-.78.8-2.07 0-2.86zM5.41 20L4 18.59l7.72-7.72 1.47 1.35L5.41 20z\"/>\n",
              "  </svg>\n",
              "      </button>\n",
              "      \n",
              "  <style>\n",
              "    .colab-df-container {\n",
              "      display:flex;\n",
              "      flex-wrap:wrap;\n",
              "      gap: 12px;\n",
              "    }\n",
              "\n",
              "    .colab-df-convert {\n",
              "      background-color: #E8F0FE;\n",
              "      border: none;\n",
              "      border-radius: 50%;\n",
              "      cursor: pointer;\n",
              "      display: none;\n",
              "      fill: #1967D2;\n",
              "      height: 32px;\n",
              "      padding: 0 0 0 0;\n",
              "      width: 32px;\n",
              "    }\n",
              "\n",
              "    .colab-df-convert:hover {\n",
              "      background-color: #E2EBFA;\n",
              "      box-shadow: 0px 1px 2px rgba(60, 64, 67, 0.3), 0px 1px 3px 1px rgba(60, 64, 67, 0.15);\n",
              "      fill: #174EA6;\n",
              "    }\n",
              "\n",
              "    [theme=dark] .colab-df-convert {\n",
              "      background-color: #3B4455;\n",
              "      fill: #D2E3FC;\n",
              "    }\n",
              "\n",
              "    [theme=dark] .colab-df-convert:hover {\n",
              "      background-color: #434B5C;\n",
              "      box-shadow: 0px 1px 3px 1px rgba(0, 0, 0, 0.15);\n",
              "      filter: drop-shadow(0px 1px 2px rgba(0, 0, 0, 0.3));\n",
              "      fill: #FFFFFF;\n",
              "    }\n",
              "  </style>\n",
              "\n",
              "      <script>\n",
              "        const buttonEl =\n",
              "          document.querySelector('#df-5570c961-4183-4a25-adcc-6a00a9a5e28e button.colab-df-convert');\n",
              "        buttonEl.style.display =\n",
              "          google.colab.kernel.accessAllowed ? 'block' : 'none';\n",
              "\n",
              "        async function convertToInteractive(key) {\n",
              "          const element = document.querySelector('#df-5570c961-4183-4a25-adcc-6a00a9a5e28e');\n",
              "          const dataTable =\n",
              "            await google.colab.kernel.invokeFunction('convertToInteractive',\n",
              "                                                     [key], {});\n",
              "          if (!dataTable) return;\n",
              "\n",
              "          const docLinkHtml = 'Like what you see? Visit the ' +\n",
              "            '<a target=\"_blank\" href=https://colab.research.google.com/notebooks/data_table.ipynb>data table notebook</a>'\n",
              "            + ' to learn more about interactive tables.';\n",
              "          element.innerHTML = '';\n",
              "          dataTable['output_type'] = 'display_data';\n",
              "          await google.colab.output.renderOutput(dataTable, element);\n",
              "          const docLink = document.createElement('div');\n",
              "          docLink.innerHTML = docLinkHtml;\n",
              "          element.appendChild(docLink);\n",
              "        }\n",
              "      </script>\n",
              "    </div>\n",
              "  </div>\n",
              "  "
            ]
          },
          "metadata": {},
          "execution_count": 10
        }
      ]
    },
    {
      "cell_type": "markdown",
      "source": [
        "### 데이터 합치기"
      ],
      "metadata": {
        "id": "9MGO7KyermwL"
      }
    },
    {
      "cell_type": "code",
      "source": [
        "#Groupby를 활용하여 id별 1줄로 데이터 요약\n",
        "tran_mean = tran.groupby('id').mean()"
      ],
      "metadata": {
        "id": "Abf_EO1dmMX2"
      },
      "execution_count": 11,
      "outputs": []
    },
    {
      "cell_type": "code",
      "source": [
        "#id별 거래 건수 확인\n",
        "tran_cnt = tran['id'].value_counts()"
      ],
      "metadata": {
        "id": "2r-acmtEmMZk"
      },
      "execution_count": 12,
      "outputs": []
    },
    {
      "cell_type": "code",
      "source": [
        "#concat으로 데이터 결합\n",
        "tran_df = pd.concat([tran_mean, tran_cnt], axis=1)"
      ],
      "metadata": {
        "id": "M2HoUKSXmMc_"
      },
      "execution_count": 13,
      "outputs": []
    },
    {
      "cell_type": "code",
      "source": [
        "#Column이름 변경\n",
        "tran_df.columns = ['num_item', 'total_amount', 'avg_price', 'count']"
      ],
      "metadata": {
        "id": "1h2OFfxxmMfR"
      },
      "execution_count": 14,
      "outputs": []
    },
    {
      "cell_type": "code",
      "source": [
        "tran_df"
      ],
      "metadata": {
        "colab": {
          "base_uri": "https://localhost:8080/",
          "height": 424
        },
        "id": "q3UUKRMSmMg8",
        "outputId": "d9393fe9-6bf7-4643-9481-37f82eaeba82"
      },
      "execution_count": 15,
      "outputs": [
        {
          "output_type": "execute_result",
          "data": {
            "text/plain": [
              "        num_item  total_amount     avg_price  count\n",
              "100001  3.500000  26000.000000   7500.000000      2\n",
              "100008  5.000000  26000.000000   5200.000000      1\n",
              "100032  2.666667  20666.666667   9366.666667      3\n",
              "100036  3.000000  25800.000000  13273.333333      5\n",
              "100070  3.250000  21250.000000   8537.500000      4\n",
              "...          ...           ...           ...    ...\n",
              "999932  5.000000  32000.000000   6400.000000      1\n",
              "999981  2.000000  22750.000000  12875.000000      4\n",
              "999990  3.000000  28000.000000  10388.888889      3\n",
              "999995  2.000000  27000.000000  13500.000000      1\n",
              "999997  2.000000  13000.000000   6500.000000      1\n",
              "\n",
              "[64000 rows x 4 columns]"
            ],
            "text/html": [
              "\n",
              "  <div id=\"df-a8681255-1d49-4433-8d40-40852cf6dee8\">\n",
              "    <div class=\"colab-df-container\">\n",
              "      <div>\n",
              "<style scoped>\n",
              "    .dataframe tbody tr th:only-of-type {\n",
              "        vertical-align: middle;\n",
              "    }\n",
              "\n",
              "    .dataframe tbody tr th {\n",
              "        vertical-align: top;\n",
              "    }\n",
              "\n",
              "    .dataframe thead th {\n",
              "        text-align: right;\n",
              "    }\n",
              "</style>\n",
              "<table border=\"1\" class=\"dataframe\">\n",
              "  <thead>\n",
              "    <tr style=\"text-align: right;\">\n",
              "      <th></th>\n",
              "      <th>num_item</th>\n",
              "      <th>total_amount</th>\n",
              "      <th>avg_price</th>\n",
              "      <th>count</th>\n",
              "    </tr>\n",
              "  </thead>\n",
              "  <tbody>\n",
              "    <tr>\n",
              "      <th>100001</th>\n",
              "      <td>3.500000</td>\n",
              "      <td>26000.000000</td>\n",
              "      <td>7500.000000</td>\n",
              "      <td>2</td>\n",
              "    </tr>\n",
              "    <tr>\n",
              "      <th>100008</th>\n",
              "      <td>5.000000</td>\n",
              "      <td>26000.000000</td>\n",
              "      <td>5200.000000</td>\n",
              "      <td>1</td>\n",
              "    </tr>\n",
              "    <tr>\n",
              "      <th>100032</th>\n",
              "      <td>2.666667</td>\n",
              "      <td>20666.666667</td>\n",
              "      <td>9366.666667</td>\n",
              "      <td>3</td>\n",
              "    </tr>\n",
              "    <tr>\n",
              "      <th>100036</th>\n",
              "      <td>3.000000</td>\n",
              "      <td>25800.000000</td>\n",
              "      <td>13273.333333</td>\n",
              "      <td>5</td>\n",
              "    </tr>\n",
              "    <tr>\n",
              "      <th>100070</th>\n",
              "      <td>3.250000</td>\n",
              "      <td>21250.000000</td>\n",
              "      <td>8537.500000</td>\n",
              "      <td>4</td>\n",
              "    </tr>\n",
              "    <tr>\n",
              "      <th>...</th>\n",
              "      <td>...</td>\n",
              "      <td>...</td>\n",
              "      <td>...</td>\n",
              "      <td>...</td>\n",
              "    </tr>\n",
              "    <tr>\n",
              "      <th>999932</th>\n",
              "      <td>5.000000</td>\n",
              "      <td>32000.000000</td>\n",
              "      <td>6400.000000</td>\n",
              "      <td>1</td>\n",
              "    </tr>\n",
              "    <tr>\n",
              "      <th>999981</th>\n",
              "      <td>2.000000</td>\n",
              "      <td>22750.000000</td>\n",
              "      <td>12875.000000</td>\n",
              "      <td>4</td>\n",
              "    </tr>\n",
              "    <tr>\n",
              "      <th>999990</th>\n",
              "      <td>3.000000</td>\n",
              "      <td>28000.000000</td>\n",
              "      <td>10388.888889</td>\n",
              "      <td>3</td>\n",
              "    </tr>\n",
              "    <tr>\n",
              "      <th>999995</th>\n",
              "      <td>2.000000</td>\n",
              "      <td>27000.000000</td>\n",
              "      <td>13500.000000</td>\n",
              "      <td>1</td>\n",
              "    </tr>\n",
              "    <tr>\n",
              "      <th>999997</th>\n",
              "      <td>2.000000</td>\n",
              "      <td>13000.000000</td>\n",
              "      <td>6500.000000</td>\n",
              "      <td>1</td>\n",
              "    </tr>\n",
              "  </tbody>\n",
              "</table>\n",
              "<p>64000 rows × 4 columns</p>\n",
              "</div>\n",
              "      <button class=\"colab-df-convert\" onclick=\"convertToInteractive('df-a8681255-1d49-4433-8d40-40852cf6dee8')\"\n",
              "              title=\"Convert this dataframe to an interactive table.\"\n",
              "              style=\"display:none;\">\n",
              "        \n",
              "  <svg xmlns=\"http://www.w3.org/2000/svg\" height=\"24px\"viewBox=\"0 0 24 24\"\n",
              "       width=\"24px\">\n",
              "    <path d=\"M0 0h24v24H0V0z\" fill=\"none\"/>\n",
              "    <path d=\"M18.56 5.44l.94 2.06.94-2.06 2.06-.94-2.06-.94-.94-2.06-.94 2.06-2.06.94zm-11 1L8.5 8.5l.94-2.06 2.06-.94-2.06-.94L8.5 2.5l-.94 2.06-2.06.94zm10 10l.94 2.06.94-2.06 2.06-.94-2.06-.94-.94-2.06-.94 2.06-2.06.94z\"/><path d=\"M17.41 7.96l-1.37-1.37c-.4-.4-.92-.59-1.43-.59-.52 0-1.04.2-1.43.59L10.3 9.45l-7.72 7.72c-.78.78-.78 2.05 0 2.83L4 21.41c.39.39.9.59 1.41.59.51 0 1.02-.2 1.41-.59l7.78-7.78 2.81-2.81c.8-.78.8-2.07 0-2.86zM5.41 20L4 18.59l7.72-7.72 1.47 1.35L5.41 20z\"/>\n",
              "  </svg>\n",
              "      </button>\n",
              "      \n",
              "  <style>\n",
              "    .colab-df-container {\n",
              "      display:flex;\n",
              "      flex-wrap:wrap;\n",
              "      gap: 12px;\n",
              "    }\n",
              "\n",
              "    .colab-df-convert {\n",
              "      background-color: #E8F0FE;\n",
              "      border: none;\n",
              "      border-radius: 50%;\n",
              "      cursor: pointer;\n",
              "      display: none;\n",
              "      fill: #1967D2;\n",
              "      height: 32px;\n",
              "      padding: 0 0 0 0;\n",
              "      width: 32px;\n",
              "    }\n",
              "\n",
              "    .colab-df-convert:hover {\n",
              "      background-color: #E2EBFA;\n",
              "      box-shadow: 0px 1px 2px rgba(60, 64, 67, 0.3), 0px 1px 3px 1px rgba(60, 64, 67, 0.15);\n",
              "      fill: #174EA6;\n",
              "    }\n",
              "\n",
              "    [theme=dark] .colab-df-convert {\n",
              "      background-color: #3B4455;\n",
              "      fill: #D2E3FC;\n",
              "    }\n",
              "\n",
              "    [theme=dark] .colab-df-convert:hover {\n",
              "      background-color: #434B5C;\n",
              "      box-shadow: 0px 1px 3px 1px rgba(0, 0, 0, 0.15);\n",
              "      filter: drop-shadow(0px 1px 2px rgba(0, 0, 0, 0.3));\n",
              "      fill: #FFFFFF;\n",
              "    }\n",
              "  </style>\n",
              "\n",
              "      <script>\n",
              "        const buttonEl =\n",
              "          document.querySelector('#df-a8681255-1d49-4433-8d40-40852cf6dee8 button.colab-df-convert');\n",
              "        buttonEl.style.display =\n",
              "          google.colab.kernel.accessAllowed ? 'block' : 'none';\n",
              "\n",
              "        async function convertToInteractive(key) {\n",
              "          const element = document.querySelector('#df-a8681255-1d49-4433-8d40-40852cf6dee8');\n",
              "          const dataTable =\n",
              "            await google.colab.kernel.invokeFunction('convertToInteractive',\n",
              "                                                     [key], {});\n",
              "          if (!dataTable) return;\n",
              "\n",
              "          const docLinkHtml = 'Like what you see? Visit the ' +\n",
              "            '<a target=\"_blank\" href=https://colab.research.google.com/notebooks/data_table.ipynb>data table notebook</a>'\n",
              "            + ' to learn more about interactive tables.';\n",
              "          element.innerHTML = '';\n",
              "          dataTable['output_type'] = 'display_data';\n",
              "          await google.colab.output.renderOutput(dataTable, element);\n",
              "          const docLink = document.createElement('div');\n",
              "          docLink.innerHTML = docLinkHtml;\n",
              "          element.appendChild(docLink);\n",
              "        }\n",
              "      </script>\n",
              "    </div>\n",
              "  </div>\n",
              "  "
            ]
          },
          "metadata": {},
          "execution_count": 15
        }
      ]
    },
    {
      "cell_type": "code",
      "source": [
        "#join을 사용하기 위해, id를 인덱스로 설정\n",
        "mem.set_index('id', inplace=True)"
      ],
      "metadata": {
        "id": "Eqi2-YgumMi0"
      },
      "execution_count": 16,
      "outputs": []
    },
    {
      "cell_type": "code",
      "source": [
        "mem"
      ],
      "metadata": {
        "colab": {
          "base_uri": "https://localhost:8080/",
          "height": 455
        },
        "id": "ipgdZcMpmMlB",
        "outputId": "eefb8227-cd45-4974-fdc7-d6a0d876cdf7"
      },
      "execution_count": 17,
      "outputs": [
        {
          "output_type": "execute_result",
          "data": {
            "text/plain": [
              "        recency   zip_code  is_referral       channel  conversion\n",
              "id                                                               \n",
              "906145       10  Surburban            0         Phone           0\n",
              "184478        6      Rural            1           Web           0\n",
              "394235        7  Surburban            1           Web           0\n",
              "130152        9      Rural            1           Web           0\n",
              "940352        2      Urban            0           Web           0\n",
              "...         ...        ...          ...           ...         ...\n",
              "838295       10      Urban            0           Web           0\n",
              "547316        5      Urban            1         Phone           0\n",
              "131575        6      Urban            1         Phone           0\n",
              "603659        1  Surburban            1  Multichannel           0\n",
              "254229        1  Surburban            0           Web           0\n",
              "\n",
              "[64000 rows x 5 columns]"
            ],
            "text/html": [
              "\n",
              "  <div id=\"df-17580651-1eaa-4bd5-9664-0a770672df17\">\n",
              "    <div class=\"colab-df-container\">\n",
              "      <div>\n",
              "<style scoped>\n",
              "    .dataframe tbody tr th:only-of-type {\n",
              "        vertical-align: middle;\n",
              "    }\n",
              "\n",
              "    .dataframe tbody tr th {\n",
              "        vertical-align: top;\n",
              "    }\n",
              "\n",
              "    .dataframe thead th {\n",
              "        text-align: right;\n",
              "    }\n",
              "</style>\n",
              "<table border=\"1\" class=\"dataframe\">\n",
              "  <thead>\n",
              "    <tr style=\"text-align: right;\">\n",
              "      <th></th>\n",
              "      <th>recency</th>\n",
              "      <th>zip_code</th>\n",
              "      <th>is_referral</th>\n",
              "      <th>channel</th>\n",
              "      <th>conversion</th>\n",
              "    </tr>\n",
              "    <tr>\n",
              "      <th>id</th>\n",
              "      <th></th>\n",
              "      <th></th>\n",
              "      <th></th>\n",
              "      <th></th>\n",
              "      <th></th>\n",
              "    </tr>\n",
              "  </thead>\n",
              "  <tbody>\n",
              "    <tr>\n",
              "      <th>906145</th>\n",
              "      <td>10</td>\n",
              "      <td>Surburban</td>\n",
              "      <td>0</td>\n",
              "      <td>Phone</td>\n",
              "      <td>0</td>\n",
              "    </tr>\n",
              "    <tr>\n",
              "      <th>184478</th>\n",
              "      <td>6</td>\n",
              "      <td>Rural</td>\n",
              "      <td>1</td>\n",
              "      <td>Web</td>\n",
              "      <td>0</td>\n",
              "    </tr>\n",
              "    <tr>\n",
              "      <th>394235</th>\n",
              "      <td>7</td>\n",
              "      <td>Surburban</td>\n",
              "      <td>1</td>\n",
              "      <td>Web</td>\n",
              "      <td>0</td>\n",
              "    </tr>\n",
              "    <tr>\n",
              "      <th>130152</th>\n",
              "      <td>9</td>\n",
              "      <td>Rural</td>\n",
              "      <td>1</td>\n",
              "      <td>Web</td>\n",
              "      <td>0</td>\n",
              "    </tr>\n",
              "    <tr>\n",
              "      <th>940352</th>\n",
              "      <td>2</td>\n",
              "      <td>Urban</td>\n",
              "      <td>0</td>\n",
              "      <td>Web</td>\n",
              "      <td>0</td>\n",
              "    </tr>\n",
              "    <tr>\n",
              "      <th>...</th>\n",
              "      <td>...</td>\n",
              "      <td>...</td>\n",
              "      <td>...</td>\n",
              "      <td>...</td>\n",
              "      <td>...</td>\n",
              "    </tr>\n",
              "    <tr>\n",
              "      <th>838295</th>\n",
              "      <td>10</td>\n",
              "      <td>Urban</td>\n",
              "      <td>0</td>\n",
              "      <td>Web</td>\n",
              "      <td>0</td>\n",
              "    </tr>\n",
              "    <tr>\n",
              "      <th>547316</th>\n",
              "      <td>5</td>\n",
              "      <td>Urban</td>\n",
              "      <td>1</td>\n",
              "      <td>Phone</td>\n",
              "      <td>0</td>\n",
              "    </tr>\n",
              "    <tr>\n",
              "      <th>131575</th>\n",
              "      <td>6</td>\n",
              "      <td>Urban</td>\n",
              "      <td>1</td>\n",
              "      <td>Phone</td>\n",
              "      <td>0</td>\n",
              "    </tr>\n",
              "    <tr>\n",
              "      <th>603659</th>\n",
              "      <td>1</td>\n",
              "      <td>Surburban</td>\n",
              "      <td>1</td>\n",
              "      <td>Multichannel</td>\n",
              "      <td>0</td>\n",
              "    </tr>\n",
              "    <tr>\n",
              "      <th>254229</th>\n",
              "      <td>1</td>\n",
              "      <td>Surburban</td>\n",
              "      <td>0</td>\n",
              "      <td>Web</td>\n",
              "      <td>0</td>\n",
              "    </tr>\n",
              "  </tbody>\n",
              "</table>\n",
              "<p>64000 rows × 5 columns</p>\n",
              "</div>\n",
              "      <button class=\"colab-df-convert\" onclick=\"convertToInteractive('df-17580651-1eaa-4bd5-9664-0a770672df17')\"\n",
              "              title=\"Convert this dataframe to an interactive table.\"\n",
              "              style=\"display:none;\">\n",
              "        \n",
              "  <svg xmlns=\"http://www.w3.org/2000/svg\" height=\"24px\"viewBox=\"0 0 24 24\"\n",
              "       width=\"24px\">\n",
              "    <path d=\"M0 0h24v24H0V0z\" fill=\"none\"/>\n",
              "    <path d=\"M18.56 5.44l.94 2.06.94-2.06 2.06-.94-2.06-.94-.94-2.06-.94 2.06-2.06.94zm-11 1L8.5 8.5l.94-2.06 2.06-.94-2.06-.94L8.5 2.5l-.94 2.06-2.06.94zm10 10l.94 2.06.94-2.06 2.06-.94-2.06-.94-.94-2.06-.94 2.06-2.06.94z\"/><path d=\"M17.41 7.96l-1.37-1.37c-.4-.4-.92-.59-1.43-.59-.52 0-1.04.2-1.43.59L10.3 9.45l-7.72 7.72c-.78.78-.78 2.05 0 2.83L4 21.41c.39.39.9.59 1.41.59.51 0 1.02-.2 1.41-.59l7.78-7.78 2.81-2.81c.8-.78.8-2.07 0-2.86zM5.41 20L4 18.59l7.72-7.72 1.47 1.35L5.41 20z\"/>\n",
              "  </svg>\n",
              "      </button>\n",
              "      \n",
              "  <style>\n",
              "    .colab-df-container {\n",
              "      display:flex;\n",
              "      flex-wrap:wrap;\n",
              "      gap: 12px;\n",
              "    }\n",
              "\n",
              "    .colab-df-convert {\n",
              "      background-color: #E8F0FE;\n",
              "      border: none;\n",
              "      border-radius: 50%;\n",
              "      cursor: pointer;\n",
              "      display: none;\n",
              "      fill: #1967D2;\n",
              "      height: 32px;\n",
              "      padding: 0 0 0 0;\n",
              "      width: 32px;\n",
              "    }\n",
              "\n",
              "    .colab-df-convert:hover {\n",
              "      background-color: #E2EBFA;\n",
              "      box-shadow: 0px 1px 2px rgba(60, 64, 67, 0.3), 0px 1px 3px 1px rgba(60, 64, 67, 0.15);\n",
              "      fill: #174EA6;\n",
              "    }\n",
              "\n",
              "    [theme=dark] .colab-df-convert {\n",
              "      background-color: #3B4455;\n",
              "      fill: #D2E3FC;\n",
              "    }\n",
              "\n",
              "    [theme=dark] .colab-df-convert:hover {\n",
              "      background-color: #434B5C;\n",
              "      box-shadow: 0px 1px 3px 1px rgba(0, 0, 0, 0.15);\n",
              "      filter: drop-shadow(0px 1px 2px rgba(0, 0, 0, 0.3));\n",
              "      fill: #FFFFFF;\n",
              "    }\n",
              "  </style>\n",
              "\n",
              "      <script>\n",
              "        const buttonEl =\n",
              "          document.querySelector('#df-17580651-1eaa-4bd5-9664-0a770672df17 button.colab-df-convert');\n",
              "        buttonEl.style.display =\n",
              "          google.colab.kernel.accessAllowed ? 'block' : 'none';\n",
              "\n",
              "        async function convertToInteractive(key) {\n",
              "          const element = document.querySelector('#df-17580651-1eaa-4bd5-9664-0a770672df17');\n",
              "          const dataTable =\n",
              "            await google.colab.kernel.invokeFunction('convertToInteractive',\n",
              "                                                     [key], {});\n",
              "          if (!dataTable) return;\n",
              "\n",
              "          const docLinkHtml = 'Like what you see? Visit the ' +\n",
              "            '<a target=\"_blank\" href=https://colab.research.google.com/notebooks/data_table.ipynb>data table notebook</a>'\n",
              "            + ' to learn more about interactive tables.';\n",
              "          element.innerHTML = '';\n",
              "          dataTable['output_type'] = 'display_data';\n",
              "          await google.colab.output.renderOutput(dataTable, element);\n",
              "          const docLink = document.createElement('div');\n",
              "          docLink.innerHTML = docLinkHtml;\n",
              "          element.appendChild(docLink);\n",
              "        }\n",
              "      </script>\n",
              "    </div>\n",
              "  </div>\n",
              "  "
            ]
          },
          "metadata": {},
          "execution_count": 17
        }
      ]
    },
    {
      "cell_type": "code",
      "source": [
        "#join으로 데이터 합치기\n",
        "mem.join(tran_df)"
      ],
      "metadata": {
        "colab": {
          "base_uri": "https://localhost:8080/",
          "height": 519
        },
        "id": "qyAjRY0KmMm5",
        "outputId": "f68cd9dc-50bb-4ce4-d713-e4af220909e0"
      },
      "execution_count": 19,
      "outputs": [
        {
          "output_type": "execute_result",
          "data": {
            "text/plain": [
              "        recency   zip_code  is_referral       channel  conversion  num_item  \\\n",
              "id                                                                            \n",
              "906145       10  Surburban            0         Phone           0  3.333333   \n",
              "184478        6      Rural            1           Web           0  4.000000   \n",
              "394235        7  Surburban            1           Web           0  4.000000   \n",
              "130152        9      Rural            1           Web           0  1.750000   \n",
              "940352        2      Urban            0           Web           0  3.000000   \n",
              "...         ...        ...          ...           ...         ...       ...   \n",
              "838295       10      Urban            0           Web           0  3.500000   \n",
              "547316        5      Urban            1         Phone           0  1.800000   \n",
              "131575        6      Urban            1         Phone           0  4.000000   \n",
              "603659        1  Surburban            1  Multichannel           0  3.200000   \n",
              "254229        1  Surburban            0           Web           0  3.400000   \n",
              "\n",
              "        total_amount     avg_price  count  \n",
              "id                                         \n",
              "906145  31333.333333  14016.666667      3  \n",
              "184478  29000.000000   7250.000000      1  \n",
              "394235  20500.000000   5125.000000      2  \n",
              "130152  20750.000000  14875.000000      4  \n",
              "940352  31000.000000  10333.333333      1  \n",
              "...              ...           ...    ...  \n",
              "838295  26000.000000   8012.500000      4  \n",
              "547316  17800.000000  11300.000000      5  \n",
              "131575  30500.000000   7833.333333      2  \n",
              "603659  21600.000000   7583.333333      5  \n",
              "254229  24400.000000   9280.000000      5  \n",
              "\n",
              "[64000 rows x 9 columns]"
            ],
            "text/html": [
              "\n",
              "  <div id=\"df-430258a0-11fb-43ea-b042-b0e51f15b71f\">\n",
              "    <div class=\"colab-df-container\">\n",
              "      <div>\n",
              "<style scoped>\n",
              "    .dataframe tbody tr th:only-of-type {\n",
              "        vertical-align: middle;\n",
              "    }\n",
              "\n",
              "    .dataframe tbody tr th {\n",
              "        vertical-align: top;\n",
              "    }\n",
              "\n",
              "    .dataframe thead th {\n",
              "        text-align: right;\n",
              "    }\n",
              "</style>\n",
              "<table border=\"1\" class=\"dataframe\">\n",
              "  <thead>\n",
              "    <tr style=\"text-align: right;\">\n",
              "      <th></th>\n",
              "      <th>recency</th>\n",
              "      <th>zip_code</th>\n",
              "      <th>is_referral</th>\n",
              "      <th>channel</th>\n",
              "      <th>conversion</th>\n",
              "      <th>num_item</th>\n",
              "      <th>total_amount</th>\n",
              "      <th>avg_price</th>\n",
              "      <th>count</th>\n",
              "    </tr>\n",
              "    <tr>\n",
              "      <th>id</th>\n",
              "      <th></th>\n",
              "      <th></th>\n",
              "      <th></th>\n",
              "      <th></th>\n",
              "      <th></th>\n",
              "      <th></th>\n",
              "      <th></th>\n",
              "      <th></th>\n",
              "      <th></th>\n",
              "    </tr>\n",
              "  </thead>\n",
              "  <tbody>\n",
              "    <tr>\n",
              "      <th>906145</th>\n",
              "      <td>10</td>\n",
              "      <td>Surburban</td>\n",
              "      <td>0</td>\n",
              "      <td>Phone</td>\n",
              "      <td>0</td>\n",
              "      <td>3.333333</td>\n",
              "      <td>31333.333333</td>\n",
              "      <td>14016.666667</td>\n",
              "      <td>3</td>\n",
              "    </tr>\n",
              "    <tr>\n",
              "      <th>184478</th>\n",
              "      <td>6</td>\n",
              "      <td>Rural</td>\n",
              "      <td>1</td>\n",
              "      <td>Web</td>\n",
              "      <td>0</td>\n",
              "      <td>4.000000</td>\n",
              "      <td>29000.000000</td>\n",
              "      <td>7250.000000</td>\n",
              "      <td>1</td>\n",
              "    </tr>\n",
              "    <tr>\n",
              "      <th>394235</th>\n",
              "      <td>7</td>\n",
              "      <td>Surburban</td>\n",
              "      <td>1</td>\n",
              "      <td>Web</td>\n",
              "      <td>0</td>\n",
              "      <td>4.000000</td>\n",
              "      <td>20500.000000</td>\n",
              "      <td>5125.000000</td>\n",
              "      <td>2</td>\n",
              "    </tr>\n",
              "    <tr>\n",
              "      <th>130152</th>\n",
              "      <td>9</td>\n",
              "      <td>Rural</td>\n",
              "      <td>1</td>\n",
              "      <td>Web</td>\n",
              "      <td>0</td>\n",
              "      <td>1.750000</td>\n",
              "      <td>20750.000000</td>\n",
              "      <td>14875.000000</td>\n",
              "      <td>4</td>\n",
              "    </tr>\n",
              "    <tr>\n",
              "      <th>940352</th>\n",
              "      <td>2</td>\n",
              "      <td>Urban</td>\n",
              "      <td>0</td>\n",
              "      <td>Web</td>\n",
              "      <td>0</td>\n",
              "      <td>3.000000</td>\n",
              "      <td>31000.000000</td>\n",
              "      <td>10333.333333</td>\n",
              "      <td>1</td>\n",
              "    </tr>\n",
              "    <tr>\n",
              "      <th>...</th>\n",
              "      <td>...</td>\n",
              "      <td>...</td>\n",
              "      <td>...</td>\n",
              "      <td>...</td>\n",
              "      <td>...</td>\n",
              "      <td>...</td>\n",
              "      <td>...</td>\n",
              "      <td>...</td>\n",
              "      <td>...</td>\n",
              "    </tr>\n",
              "    <tr>\n",
              "      <th>838295</th>\n",
              "      <td>10</td>\n",
              "      <td>Urban</td>\n",
              "      <td>0</td>\n",
              "      <td>Web</td>\n",
              "      <td>0</td>\n",
              "      <td>3.500000</td>\n",
              "      <td>26000.000000</td>\n",
              "      <td>8012.500000</td>\n",
              "      <td>4</td>\n",
              "    </tr>\n",
              "    <tr>\n",
              "      <th>547316</th>\n",
              "      <td>5</td>\n",
              "      <td>Urban</td>\n",
              "      <td>1</td>\n",
              "      <td>Phone</td>\n",
              "      <td>0</td>\n",
              "      <td>1.800000</td>\n",
              "      <td>17800.000000</td>\n",
              "      <td>11300.000000</td>\n",
              "      <td>5</td>\n",
              "    </tr>\n",
              "    <tr>\n",
              "      <th>131575</th>\n",
              "      <td>6</td>\n",
              "      <td>Urban</td>\n",
              "      <td>1</td>\n",
              "      <td>Phone</td>\n",
              "      <td>0</td>\n",
              "      <td>4.000000</td>\n",
              "      <td>30500.000000</td>\n",
              "      <td>7833.333333</td>\n",
              "      <td>2</td>\n",
              "    </tr>\n",
              "    <tr>\n",
              "      <th>603659</th>\n",
              "      <td>1</td>\n",
              "      <td>Surburban</td>\n",
              "      <td>1</td>\n",
              "      <td>Multichannel</td>\n",
              "      <td>0</td>\n",
              "      <td>3.200000</td>\n",
              "      <td>21600.000000</td>\n",
              "      <td>7583.333333</td>\n",
              "      <td>5</td>\n",
              "    </tr>\n",
              "    <tr>\n",
              "      <th>254229</th>\n",
              "      <td>1</td>\n",
              "      <td>Surburban</td>\n",
              "      <td>0</td>\n",
              "      <td>Web</td>\n",
              "      <td>0</td>\n",
              "      <td>3.400000</td>\n",
              "      <td>24400.000000</td>\n",
              "      <td>9280.000000</td>\n",
              "      <td>5</td>\n",
              "    </tr>\n",
              "  </tbody>\n",
              "</table>\n",
              "<p>64000 rows × 9 columns</p>\n",
              "</div>\n",
              "      <button class=\"colab-df-convert\" onclick=\"convertToInteractive('df-430258a0-11fb-43ea-b042-b0e51f15b71f')\"\n",
              "              title=\"Convert this dataframe to an interactive table.\"\n",
              "              style=\"display:none;\">\n",
              "        \n",
              "  <svg xmlns=\"http://www.w3.org/2000/svg\" height=\"24px\"viewBox=\"0 0 24 24\"\n",
              "       width=\"24px\">\n",
              "    <path d=\"M0 0h24v24H0V0z\" fill=\"none\"/>\n",
              "    <path d=\"M18.56 5.44l.94 2.06.94-2.06 2.06-.94-2.06-.94-.94-2.06-.94 2.06-2.06.94zm-11 1L8.5 8.5l.94-2.06 2.06-.94-2.06-.94L8.5 2.5l-.94 2.06-2.06.94zm10 10l.94 2.06.94-2.06 2.06-.94-2.06-.94-.94-2.06-.94 2.06-2.06.94z\"/><path d=\"M17.41 7.96l-1.37-1.37c-.4-.4-.92-.59-1.43-.59-.52 0-1.04.2-1.43.59L10.3 9.45l-7.72 7.72c-.78.78-.78 2.05 0 2.83L4 21.41c.39.39.9.59 1.41.59.51 0 1.02-.2 1.41-.59l7.78-7.78 2.81-2.81c.8-.78.8-2.07 0-2.86zM5.41 20L4 18.59l7.72-7.72 1.47 1.35L5.41 20z\"/>\n",
              "  </svg>\n",
              "      </button>\n",
              "      \n",
              "  <style>\n",
              "    .colab-df-container {\n",
              "      display:flex;\n",
              "      flex-wrap:wrap;\n",
              "      gap: 12px;\n",
              "    }\n",
              "\n",
              "    .colab-df-convert {\n",
              "      background-color: #E8F0FE;\n",
              "      border: none;\n",
              "      border-radius: 50%;\n",
              "      cursor: pointer;\n",
              "      display: none;\n",
              "      fill: #1967D2;\n",
              "      height: 32px;\n",
              "      padding: 0 0 0 0;\n",
              "      width: 32px;\n",
              "    }\n",
              "\n",
              "    .colab-df-convert:hover {\n",
              "      background-color: #E2EBFA;\n",
              "      box-shadow: 0px 1px 2px rgba(60, 64, 67, 0.3), 0px 1px 3px 1px rgba(60, 64, 67, 0.15);\n",
              "      fill: #174EA6;\n",
              "    }\n",
              "\n",
              "    [theme=dark] .colab-df-convert {\n",
              "      background-color: #3B4455;\n",
              "      fill: #D2E3FC;\n",
              "    }\n",
              "\n",
              "    [theme=dark] .colab-df-convert:hover {\n",
              "      background-color: #434B5C;\n",
              "      box-shadow: 0px 1px 3px 1px rgba(0, 0, 0, 0.15);\n",
              "      filter: drop-shadow(0px 1px 2px rgba(0, 0, 0, 0.3));\n",
              "      fill: #FFFFFF;\n",
              "    }\n",
              "  </style>\n",
              "\n",
              "      <script>\n",
              "        const buttonEl =\n",
              "          document.querySelector('#df-430258a0-11fb-43ea-b042-b0e51f15b71f button.colab-df-convert');\n",
              "        buttonEl.style.display =\n",
              "          google.colab.kernel.accessAllowed ? 'block' : 'none';\n",
              "\n",
              "        async function convertToInteractive(key) {\n",
              "          const element = document.querySelector('#df-430258a0-11fb-43ea-b042-b0e51f15b71f');\n",
              "          const dataTable =\n",
              "            await google.colab.kernel.invokeFunction('convertToInteractive',\n",
              "                                                     [key], {});\n",
              "          if (!dataTable) return;\n",
              "\n",
              "          const docLinkHtml = 'Like what you see? Visit the ' +\n",
              "            '<a target=\"_blank\" href=https://colab.research.google.com/notebooks/data_table.ipynb>data table notebook</a>'\n",
              "            + ' to learn more about interactive tables.';\n",
              "          element.innerHTML = '';\n",
              "          dataTable['output_type'] = 'display_data';\n",
              "          await google.colab.output.renderOutput(dataTable, element);\n",
              "          const docLink = document.createElement('div');\n",
              "          docLink.innerHTML = docLinkHtml;\n",
              "          element.appendChild(docLink);\n",
              "        }\n",
              "      </script>\n",
              "    </div>\n",
              "  </div>\n",
              "  "
            ]
          },
          "metadata": {},
          "execution_count": 19
        }
      ]
    },
    {
      "cell_type": "code",
      "source": [
        "data = mem.join(tran_df)"
      ],
      "metadata": {
        "id": "O08LHS8fmMqL"
      },
      "execution_count": 20,
      "outputs": []
    },
    {
      "cell_type": "code",
      "source": [
        "data"
      ],
      "metadata": {
        "colab": {
          "base_uri": "https://localhost:8080/",
          "height": 519
        },
        "id": "METWegNymMsh",
        "outputId": "17b98a93-7d36-4520-8325-3e2ec8dd4f66"
      },
      "execution_count": 21,
      "outputs": [
        {
          "output_type": "execute_result",
          "data": {
            "text/plain": [
              "        recency   zip_code  is_referral       channel  conversion  num_item  \\\n",
              "id                                                                            \n",
              "906145       10  Surburban            0         Phone           0  3.333333   \n",
              "184478        6      Rural            1           Web           0  4.000000   \n",
              "394235        7  Surburban            1           Web           0  4.000000   \n",
              "130152        9      Rural            1           Web           0  1.750000   \n",
              "940352        2      Urban            0           Web           0  3.000000   \n",
              "...         ...        ...          ...           ...         ...       ...   \n",
              "838295       10      Urban            0           Web           0  3.500000   \n",
              "547316        5      Urban            1         Phone           0  1.800000   \n",
              "131575        6      Urban            1         Phone           0  4.000000   \n",
              "603659        1  Surburban            1  Multichannel           0  3.200000   \n",
              "254229        1  Surburban            0           Web           0  3.400000   \n",
              "\n",
              "        total_amount     avg_price  count  \n",
              "id                                         \n",
              "906145  31333.333333  14016.666667      3  \n",
              "184478  29000.000000   7250.000000      1  \n",
              "394235  20500.000000   5125.000000      2  \n",
              "130152  20750.000000  14875.000000      4  \n",
              "940352  31000.000000  10333.333333      1  \n",
              "...              ...           ...    ...  \n",
              "838295  26000.000000   8012.500000      4  \n",
              "547316  17800.000000  11300.000000      5  \n",
              "131575  30500.000000   7833.333333      2  \n",
              "603659  21600.000000   7583.333333      5  \n",
              "254229  24400.000000   9280.000000      5  \n",
              "\n",
              "[64000 rows x 9 columns]"
            ],
            "text/html": [
              "\n",
              "  <div id=\"df-9454459f-d3e2-474b-a4d7-f1f86964b989\">\n",
              "    <div class=\"colab-df-container\">\n",
              "      <div>\n",
              "<style scoped>\n",
              "    .dataframe tbody tr th:only-of-type {\n",
              "        vertical-align: middle;\n",
              "    }\n",
              "\n",
              "    .dataframe tbody tr th {\n",
              "        vertical-align: top;\n",
              "    }\n",
              "\n",
              "    .dataframe thead th {\n",
              "        text-align: right;\n",
              "    }\n",
              "</style>\n",
              "<table border=\"1\" class=\"dataframe\">\n",
              "  <thead>\n",
              "    <tr style=\"text-align: right;\">\n",
              "      <th></th>\n",
              "      <th>recency</th>\n",
              "      <th>zip_code</th>\n",
              "      <th>is_referral</th>\n",
              "      <th>channel</th>\n",
              "      <th>conversion</th>\n",
              "      <th>num_item</th>\n",
              "      <th>total_amount</th>\n",
              "      <th>avg_price</th>\n",
              "      <th>count</th>\n",
              "    </tr>\n",
              "    <tr>\n",
              "      <th>id</th>\n",
              "      <th></th>\n",
              "      <th></th>\n",
              "      <th></th>\n",
              "      <th></th>\n",
              "      <th></th>\n",
              "      <th></th>\n",
              "      <th></th>\n",
              "      <th></th>\n",
              "      <th></th>\n",
              "    </tr>\n",
              "  </thead>\n",
              "  <tbody>\n",
              "    <tr>\n",
              "      <th>906145</th>\n",
              "      <td>10</td>\n",
              "      <td>Surburban</td>\n",
              "      <td>0</td>\n",
              "      <td>Phone</td>\n",
              "      <td>0</td>\n",
              "      <td>3.333333</td>\n",
              "      <td>31333.333333</td>\n",
              "      <td>14016.666667</td>\n",
              "      <td>3</td>\n",
              "    </tr>\n",
              "    <tr>\n",
              "      <th>184478</th>\n",
              "      <td>6</td>\n",
              "      <td>Rural</td>\n",
              "      <td>1</td>\n",
              "      <td>Web</td>\n",
              "      <td>0</td>\n",
              "      <td>4.000000</td>\n",
              "      <td>29000.000000</td>\n",
              "      <td>7250.000000</td>\n",
              "      <td>1</td>\n",
              "    </tr>\n",
              "    <tr>\n",
              "      <th>394235</th>\n",
              "      <td>7</td>\n",
              "      <td>Surburban</td>\n",
              "      <td>1</td>\n",
              "      <td>Web</td>\n",
              "      <td>0</td>\n",
              "      <td>4.000000</td>\n",
              "      <td>20500.000000</td>\n",
              "      <td>5125.000000</td>\n",
              "      <td>2</td>\n",
              "    </tr>\n",
              "    <tr>\n",
              "      <th>130152</th>\n",
              "      <td>9</td>\n",
              "      <td>Rural</td>\n",
              "      <td>1</td>\n",
              "      <td>Web</td>\n",
              "      <td>0</td>\n",
              "      <td>1.750000</td>\n",
              "      <td>20750.000000</td>\n",
              "      <td>14875.000000</td>\n",
              "      <td>4</td>\n",
              "    </tr>\n",
              "    <tr>\n",
              "      <th>940352</th>\n",
              "      <td>2</td>\n",
              "      <td>Urban</td>\n",
              "      <td>0</td>\n",
              "      <td>Web</td>\n",
              "      <td>0</td>\n",
              "      <td>3.000000</td>\n",
              "      <td>31000.000000</td>\n",
              "      <td>10333.333333</td>\n",
              "      <td>1</td>\n",
              "    </tr>\n",
              "    <tr>\n",
              "      <th>...</th>\n",
              "      <td>...</td>\n",
              "      <td>...</td>\n",
              "      <td>...</td>\n",
              "      <td>...</td>\n",
              "      <td>...</td>\n",
              "      <td>...</td>\n",
              "      <td>...</td>\n",
              "      <td>...</td>\n",
              "      <td>...</td>\n",
              "    </tr>\n",
              "    <tr>\n",
              "      <th>838295</th>\n",
              "      <td>10</td>\n",
              "      <td>Urban</td>\n",
              "      <td>0</td>\n",
              "      <td>Web</td>\n",
              "      <td>0</td>\n",
              "      <td>3.500000</td>\n",
              "      <td>26000.000000</td>\n",
              "      <td>8012.500000</td>\n",
              "      <td>4</td>\n",
              "    </tr>\n",
              "    <tr>\n",
              "      <th>547316</th>\n",
              "      <td>5</td>\n",
              "      <td>Urban</td>\n",
              "      <td>1</td>\n",
              "      <td>Phone</td>\n",
              "      <td>0</td>\n",
              "      <td>1.800000</td>\n",
              "      <td>17800.000000</td>\n",
              "      <td>11300.000000</td>\n",
              "      <td>5</td>\n",
              "    </tr>\n",
              "    <tr>\n",
              "      <th>131575</th>\n",
              "      <td>6</td>\n",
              "      <td>Urban</td>\n",
              "      <td>1</td>\n",
              "      <td>Phone</td>\n",
              "      <td>0</td>\n",
              "      <td>4.000000</td>\n",
              "      <td>30500.000000</td>\n",
              "      <td>7833.333333</td>\n",
              "      <td>2</td>\n",
              "    </tr>\n",
              "    <tr>\n",
              "      <th>603659</th>\n",
              "      <td>1</td>\n",
              "      <td>Surburban</td>\n",
              "      <td>1</td>\n",
              "      <td>Multichannel</td>\n",
              "      <td>0</td>\n",
              "      <td>3.200000</td>\n",
              "      <td>21600.000000</td>\n",
              "      <td>7583.333333</td>\n",
              "      <td>5</td>\n",
              "    </tr>\n",
              "    <tr>\n",
              "      <th>254229</th>\n",
              "      <td>1</td>\n",
              "      <td>Surburban</td>\n",
              "      <td>0</td>\n",
              "      <td>Web</td>\n",
              "      <td>0</td>\n",
              "      <td>3.400000</td>\n",
              "      <td>24400.000000</td>\n",
              "      <td>9280.000000</td>\n",
              "      <td>5</td>\n",
              "    </tr>\n",
              "  </tbody>\n",
              "</table>\n",
              "<p>64000 rows × 9 columns</p>\n",
              "</div>\n",
              "      <button class=\"colab-df-convert\" onclick=\"convertToInteractive('df-9454459f-d3e2-474b-a4d7-f1f86964b989')\"\n",
              "              title=\"Convert this dataframe to an interactive table.\"\n",
              "              style=\"display:none;\">\n",
              "        \n",
              "  <svg xmlns=\"http://www.w3.org/2000/svg\" height=\"24px\"viewBox=\"0 0 24 24\"\n",
              "       width=\"24px\">\n",
              "    <path d=\"M0 0h24v24H0V0z\" fill=\"none\"/>\n",
              "    <path d=\"M18.56 5.44l.94 2.06.94-2.06 2.06-.94-2.06-.94-.94-2.06-.94 2.06-2.06.94zm-11 1L8.5 8.5l.94-2.06 2.06-.94-2.06-.94L8.5 2.5l-.94 2.06-2.06.94zm10 10l.94 2.06.94-2.06 2.06-.94-2.06-.94-.94-2.06-.94 2.06-2.06.94z\"/><path d=\"M17.41 7.96l-1.37-1.37c-.4-.4-.92-.59-1.43-.59-.52 0-1.04.2-1.43.59L10.3 9.45l-7.72 7.72c-.78.78-.78 2.05 0 2.83L4 21.41c.39.39.9.59 1.41.59.51 0 1.02-.2 1.41-.59l7.78-7.78 2.81-2.81c.8-.78.8-2.07 0-2.86zM5.41 20L4 18.59l7.72-7.72 1.47 1.35L5.41 20z\"/>\n",
              "  </svg>\n",
              "      </button>\n",
              "      \n",
              "  <style>\n",
              "    .colab-df-container {\n",
              "      display:flex;\n",
              "      flex-wrap:wrap;\n",
              "      gap: 12px;\n",
              "    }\n",
              "\n",
              "    .colab-df-convert {\n",
              "      background-color: #E8F0FE;\n",
              "      border: none;\n",
              "      border-radius: 50%;\n",
              "      cursor: pointer;\n",
              "      display: none;\n",
              "      fill: #1967D2;\n",
              "      height: 32px;\n",
              "      padding: 0 0 0 0;\n",
              "      width: 32px;\n",
              "    }\n",
              "\n",
              "    .colab-df-convert:hover {\n",
              "      background-color: #E2EBFA;\n",
              "      box-shadow: 0px 1px 2px rgba(60, 64, 67, 0.3), 0px 1px 3px 1px rgba(60, 64, 67, 0.15);\n",
              "      fill: #174EA6;\n",
              "    }\n",
              "\n",
              "    [theme=dark] .colab-df-convert {\n",
              "      background-color: #3B4455;\n",
              "      fill: #D2E3FC;\n",
              "    }\n",
              "\n",
              "    [theme=dark] .colab-df-convert:hover {\n",
              "      background-color: #434B5C;\n",
              "      box-shadow: 0px 1px 3px 1px rgba(0, 0, 0, 0.15);\n",
              "      filter: drop-shadow(0px 1px 2px rgba(0, 0, 0, 0.3));\n",
              "      fill: #FFFFFF;\n",
              "    }\n",
              "  </style>\n",
              "\n",
              "      <script>\n",
              "        const buttonEl =\n",
              "          document.querySelector('#df-9454459f-d3e2-474b-a4d7-f1f86964b989 button.colab-df-convert');\n",
              "        buttonEl.style.display =\n",
              "          google.colab.kernel.accessAllowed ? 'block' : 'none';\n",
              "\n",
              "        async function convertToInteractive(key) {\n",
              "          const element = document.querySelector('#df-9454459f-d3e2-474b-a4d7-f1f86964b989');\n",
              "          const dataTable =\n",
              "            await google.colab.kernel.invokeFunction('convertToInteractive',\n",
              "                                                     [key], {});\n",
              "          if (!dataTable) return;\n",
              "\n",
              "          const docLinkHtml = 'Like what you see? Visit the ' +\n",
              "            '<a target=\"_blank\" href=https://colab.research.google.com/notebooks/data_table.ipynb>data table notebook</a>'\n",
              "            + ' to learn more about interactive tables.';\n",
              "          element.innerHTML = '';\n",
              "          dataTable['output_type'] = 'display_data';\n",
              "          await google.colab.output.renderOutput(dataTable, element);\n",
              "          const docLink = document.createElement('div');\n",
              "          docLink.innerHTML = docLinkHtml;\n",
              "          element.appendChild(docLink);\n",
              "        }\n",
              "      </script>\n",
              "    </div>\n",
              "  </div>\n",
              "  "
            ]
          },
          "metadata": {},
          "execution_count": 21
        }
      ]
    },
    {
      "cell_type": "markdown",
      "source": [
        "### Missing Value확인"
      ],
      "metadata": {
        "id": "B1U8isQisnEx"
      }
    },
    {
      "cell_type": "code",
      "source": [
        "data.isna().sum() / len(data)"
      ],
      "metadata": {
        "colab": {
          "base_uri": "https://localhost:8080/"
        },
        "id": "cwdAMALmmMvu",
        "outputId": "31d5e7bc-fd3e-4a51-efa0-cda8ce8b2ebc"
      },
      "execution_count": 22,
      "outputs": [
        {
          "output_type": "execute_result",
          "data": {
            "text/plain": [
              "recency         0.0\n",
              "zip_code        0.0\n",
              "is_referral     0.0\n",
              "channel         0.0\n",
              "conversion      0.0\n",
              "num_item        0.0\n",
              "total_amount    0.0\n",
              "avg_price       0.0\n",
              "count           0.0\n",
              "dtype: float64"
            ]
          },
          "metadata": {},
          "execution_count": 22
        }
      ]
    },
    {
      "cell_type": "markdown",
      "source": [
        "### 카테고리 데이터 처리"
      ],
      "metadata": {
        "id": "CB73d2DBsttq"
      }
    },
    {
      "cell_type": "code",
      "source": [
        "data['zip_code'].nunique()"
      ],
      "metadata": {
        "colab": {
          "base_uri": "https://localhost:8080/"
        },
        "id": "cWxv9CX9mMxi",
        "outputId": "bf0c82e3-38d0-497e-f4f6-fabf41614a6f"
      },
      "execution_count": 23,
      "outputs": [
        {
          "output_type": "execute_result",
          "data": {
            "text/plain": [
              "3"
            ]
          },
          "metadata": {},
          "execution_count": 23
        }
      ]
    },
    {
      "cell_type": "code",
      "source": [
        "data['zip_code'].unique()"
      ],
      "metadata": {
        "colab": {
          "base_uri": "https://localhost:8080/"
        },
        "id": "uW3g86nXmMzU",
        "outputId": "66050438-510c-4826-8767-bac880a2271a"
      },
      "execution_count": 24,
      "outputs": [
        {
          "output_type": "execute_result",
          "data": {
            "text/plain": [
              "array(['Surburban', 'Rural', 'Urban'], dtype=object)"
            ]
          },
          "metadata": {},
          "execution_count": 24
        }
      ]
    },
    {
      "cell_type": "code",
      "source": [
        "data['channel'].nunique()"
      ],
      "metadata": {
        "colab": {
          "base_uri": "https://localhost:8080/"
        },
        "id": "zhREeGBXmM1E",
        "outputId": "506d60bf-fce4-4cdd-cb9f-a4b9dfdbe20d"
      },
      "execution_count": 25,
      "outputs": [
        {
          "output_type": "execute_result",
          "data": {
            "text/plain": [
              "3"
            ]
          },
          "metadata": {},
          "execution_count": 25
        }
      ]
    },
    {
      "cell_type": "code",
      "source": [
        "data['channel'].unique()"
      ],
      "metadata": {
        "colab": {
          "base_uri": "https://localhost:8080/"
        },
        "id": "Y4JHRia3s4f1",
        "outputId": "0a5c7c68-46d3-43a9-f1ed-2eee96811440"
      },
      "execution_count": 26,
      "outputs": [
        {
          "output_type": "execute_result",
          "data": {
            "text/plain": [
              "array(['Phone', 'Web', 'Multichannel'], dtype=object)"
            ]
          },
          "metadata": {},
          "execution_count": 26
        }
      ]
    },
    {
      "cell_type": "code",
      "source": [
        "data = pd.get_dummies(data, columns=['zip_code', 'channel'], drop_first=True)"
      ],
      "metadata": {
        "id": "rFpot8fZs7Op"
      },
      "execution_count": 28,
      "outputs": []
    },
    {
      "cell_type": "code",
      "source": [
        "data"
      ],
      "metadata": {
        "colab": {
          "base_uri": "https://localhost:8080/",
          "height": 519
        },
        "id": "aeJ3udcatFnA",
        "outputId": "0c88ed3c-c93f-4262-8ede-922c1e7ed67b"
      },
      "execution_count": 29,
      "outputs": [
        {
          "output_type": "execute_result",
          "data": {
            "text/plain": [
              "        recency  is_referral  conversion  num_item  total_amount  \\\n",
              "id                                                                 \n",
              "906145       10            0           0  3.333333  31333.333333   \n",
              "184478        6            1           0  4.000000  29000.000000   \n",
              "394235        7            1           0  4.000000  20500.000000   \n",
              "130152        9            1           0  1.750000  20750.000000   \n",
              "940352        2            0           0  3.000000  31000.000000   \n",
              "...         ...          ...         ...       ...           ...   \n",
              "838295       10            0           0  3.500000  26000.000000   \n",
              "547316        5            1           0  1.800000  17800.000000   \n",
              "131575        6            1           0  4.000000  30500.000000   \n",
              "603659        1            1           0  3.200000  21600.000000   \n",
              "254229        1            0           0  3.400000  24400.000000   \n",
              "\n",
              "           avg_price  count  zip_code_Surburban  zip_code_Urban  \\\n",
              "id                                                                \n",
              "906145  14016.666667      3                   1               0   \n",
              "184478   7250.000000      1                   0               0   \n",
              "394235   5125.000000      2                   1               0   \n",
              "130152  14875.000000      4                   0               0   \n",
              "940352  10333.333333      1                   0               1   \n",
              "...              ...    ...                 ...             ...   \n",
              "838295   8012.500000      4                   0               1   \n",
              "547316  11300.000000      5                   0               1   \n",
              "131575   7833.333333      2                   0               1   \n",
              "603659   7583.333333      5                   1               0   \n",
              "254229   9280.000000      5                   1               0   \n",
              "\n",
              "        channel_Phone  channel_Web  \n",
              "id                                  \n",
              "906145              1            0  \n",
              "184478              0            1  \n",
              "394235              0            1  \n",
              "130152              0            1  \n",
              "940352              0            1  \n",
              "...               ...          ...  \n",
              "838295              0            1  \n",
              "547316              1            0  \n",
              "131575              1            0  \n",
              "603659              0            0  \n",
              "254229              0            1  \n",
              "\n",
              "[64000 rows x 11 columns]"
            ],
            "text/html": [
              "\n",
              "  <div id=\"df-48be6c86-e360-4500-a6df-7bcbfadb162e\">\n",
              "    <div class=\"colab-df-container\">\n",
              "      <div>\n",
              "<style scoped>\n",
              "    .dataframe tbody tr th:only-of-type {\n",
              "        vertical-align: middle;\n",
              "    }\n",
              "\n",
              "    .dataframe tbody tr th {\n",
              "        vertical-align: top;\n",
              "    }\n",
              "\n",
              "    .dataframe thead th {\n",
              "        text-align: right;\n",
              "    }\n",
              "</style>\n",
              "<table border=\"1\" class=\"dataframe\">\n",
              "  <thead>\n",
              "    <tr style=\"text-align: right;\">\n",
              "      <th></th>\n",
              "      <th>recency</th>\n",
              "      <th>is_referral</th>\n",
              "      <th>conversion</th>\n",
              "      <th>num_item</th>\n",
              "      <th>total_amount</th>\n",
              "      <th>avg_price</th>\n",
              "      <th>count</th>\n",
              "      <th>zip_code_Surburban</th>\n",
              "      <th>zip_code_Urban</th>\n",
              "      <th>channel_Phone</th>\n",
              "      <th>channel_Web</th>\n",
              "    </tr>\n",
              "    <tr>\n",
              "      <th>id</th>\n",
              "      <th></th>\n",
              "      <th></th>\n",
              "      <th></th>\n",
              "      <th></th>\n",
              "      <th></th>\n",
              "      <th></th>\n",
              "      <th></th>\n",
              "      <th></th>\n",
              "      <th></th>\n",
              "      <th></th>\n",
              "      <th></th>\n",
              "    </tr>\n",
              "  </thead>\n",
              "  <tbody>\n",
              "    <tr>\n",
              "      <th>906145</th>\n",
              "      <td>10</td>\n",
              "      <td>0</td>\n",
              "      <td>0</td>\n",
              "      <td>3.333333</td>\n",
              "      <td>31333.333333</td>\n",
              "      <td>14016.666667</td>\n",
              "      <td>3</td>\n",
              "      <td>1</td>\n",
              "      <td>0</td>\n",
              "      <td>1</td>\n",
              "      <td>0</td>\n",
              "    </tr>\n",
              "    <tr>\n",
              "      <th>184478</th>\n",
              "      <td>6</td>\n",
              "      <td>1</td>\n",
              "      <td>0</td>\n",
              "      <td>4.000000</td>\n",
              "      <td>29000.000000</td>\n",
              "      <td>7250.000000</td>\n",
              "      <td>1</td>\n",
              "      <td>0</td>\n",
              "      <td>0</td>\n",
              "      <td>0</td>\n",
              "      <td>1</td>\n",
              "    </tr>\n",
              "    <tr>\n",
              "      <th>394235</th>\n",
              "      <td>7</td>\n",
              "      <td>1</td>\n",
              "      <td>0</td>\n",
              "      <td>4.000000</td>\n",
              "      <td>20500.000000</td>\n",
              "      <td>5125.000000</td>\n",
              "      <td>2</td>\n",
              "      <td>1</td>\n",
              "      <td>0</td>\n",
              "      <td>0</td>\n",
              "      <td>1</td>\n",
              "    </tr>\n",
              "    <tr>\n",
              "      <th>130152</th>\n",
              "      <td>9</td>\n",
              "      <td>1</td>\n",
              "      <td>0</td>\n",
              "      <td>1.750000</td>\n",
              "      <td>20750.000000</td>\n",
              "      <td>14875.000000</td>\n",
              "      <td>4</td>\n",
              "      <td>0</td>\n",
              "      <td>0</td>\n",
              "      <td>0</td>\n",
              "      <td>1</td>\n",
              "    </tr>\n",
              "    <tr>\n",
              "      <th>940352</th>\n",
              "      <td>2</td>\n",
              "      <td>0</td>\n",
              "      <td>0</td>\n",
              "      <td>3.000000</td>\n",
              "      <td>31000.000000</td>\n",
              "      <td>10333.333333</td>\n",
              "      <td>1</td>\n",
              "      <td>0</td>\n",
              "      <td>1</td>\n",
              "      <td>0</td>\n",
              "      <td>1</td>\n",
              "    </tr>\n",
              "    <tr>\n",
              "      <th>...</th>\n",
              "      <td>...</td>\n",
              "      <td>...</td>\n",
              "      <td>...</td>\n",
              "      <td>...</td>\n",
              "      <td>...</td>\n",
              "      <td>...</td>\n",
              "      <td>...</td>\n",
              "      <td>...</td>\n",
              "      <td>...</td>\n",
              "      <td>...</td>\n",
              "      <td>...</td>\n",
              "    </tr>\n",
              "    <tr>\n",
              "      <th>838295</th>\n",
              "      <td>10</td>\n",
              "      <td>0</td>\n",
              "      <td>0</td>\n",
              "      <td>3.500000</td>\n",
              "      <td>26000.000000</td>\n",
              "      <td>8012.500000</td>\n",
              "      <td>4</td>\n",
              "      <td>0</td>\n",
              "      <td>1</td>\n",
              "      <td>0</td>\n",
              "      <td>1</td>\n",
              "    </tr>\n",
              "    <tr>\n",
              "      <th>547316</th>\n",
              "      <td>5</td>\n",
              "      <td>1</td>\n",
              "      <td>0</td>\n",
              "      <td>1.800000</td>\n",
              "      <td>17800.000000</td>\n",
              "      <td>11300.000000</td>\n",
              "      <td>5</td>\n",
              "      <td>0</td>\n",
              "      <td>1</td>\n",
              "      <td>1</td>\n",
              "      <td>0</td>\n",
              "    </tr>\n",
              "    <tr>\n",
              "      <th>131575</th>\n",
              "      <td>6</td>\n",
              "      <td>1</td>\n",
              "      <td>0</td>\n",
              "      <td>4.000000</td>\n",
              "      <td>30500.000000</td>\n",
              "      <td>7833.333333</td>\n",
              "      <td>2</td>\n",
              "      <td>0</td>\n",
              "      <td>1</td>\n",
              "      <td>1</td>\n",
              "      <td>0</td>\n",
              "    </tr>\n",
              "    <tr>\n",
              "      <th>603659</th>\n",
              "      <td>1</td>\n",
              "      <td>1</td>\n",
              "      <td>0</td>\n",
              "      <td>3.200000</td>\n",
              "      <td>21600.000000</td>\n",
              "      <td>7583.333333</td>\n",
              "      <td>5</td>\n",
              "      <td>1</td>\n",
              "      <td>0</td>\n",
              "      <td>0</td>\n",
              "      <td>0</td>\n",
              "    </tr>\n",
              "    <tr>\n",
              "      <th>254229</th>\n",
              "      <td>1</td>\n",
              "      <td>0</td>\n",
              "      <td>0</td>\n",
              "      <td>3.400000</td>\n",
              "      <td>24400.000000</td>\n",
              "      <td>9280.000000</td>\n",
              "      <td>5</td>\n",
              "      <td>1</td>\n",
              "      <td>0</td>\n",
              "      <td>0</td>\n",
              "      <td>1</td>\n",
              "    </tr>\n",
              "  </tbody>\n",
              "</table>\n",
              "<p>64000 rows × 11 columns</p>\n",
              "</div>\n",
              "      <button class=\"colab-df-convert\" onclick=\"convertToInteractive('df-48be6c86-e360-4500-a6df-7bcbfadb162e')\"\n",
              "              title=\"Convert this dataframe to an interactive table.\"\n",
              "              style=\"display:none;\">\n",
              "        \n",
              "  <svg xmlns=\"http://www.w3.org/2000/svg\" height=\"24px\"viewBox=\"0 0 24 24\"\n",
              "       width=\"24px\">\n",
              "    <path d=\"M0 0h24v24H0V0z\" fill=\"none\"/>\n",
              "    <path d=\"M18.56 5.44l.94 2.06.94-2.06 2.06-.94-2.06-.94-.94-2.06-.94 2.06-2.06.94zm-11 1L8.5 8.5l.94-2.06 2.06-.94-2.06-.94L8.5 2.5l-.94 2.06-2.06.94zm10 10l.94 2.06.94-2.06 2.06-.94-2.06-.94-.94-2.06-.94 2.06-2.06.94z\"/><path d=\"M17.41 7.96l-1.37-1.37c-.4-.4-.92-.59-1.43-.59-.52 0-1.04.2-1.43.59L10.3 9.45l-7.72 7.72c-.78.78-.78 2.05 0 2.83L4 21.41c.39.39.9.59 1.41.59.51 0 1.02-.2 1.41-.59l7.78-7.78 2.81-2.81c.8-.78.8-2.07 0-2.86zM5.41 20L4 18.59l7.72-7.72 1.47 1.35L5.41 20z\"/>\n",
              "  </svg>\n",
              "      </button>\n",
              "      \n",
              "  <style>\n",
              "    .colab-df-container {\n",
              "      display:flex;\n",
              "      flex-wrap:wrap;\n",
              "      gap: 12px;\n",
              "    }\n",
              "\n",
              "    .colab-df-convert {\n",
              "      background-color: #E8F0FE;\n",
              "      border: none;\n",
              "      border-radius: 50%;\n",
              "      cursor: pointer;\n",
              "      display: none;\n",
              "      fill: #1967D2;\n",
              "      height: 32px;\n",
              "      padding: 0 0 0 0;\n",
              "      width: 32px;\n",
              "    }\n",
              "\n",
              "    .colab-df-convert:hover {\n",
              "      background-color: #E2EBFA;\n",
              "      box-shadow: 0px 1px 2px rgba(60, 64, 67, 0.3), 0px 1px 3px 1px rgba(60, 64, 67, 0.15);\n",
              "      fill: #174EA6;\n",
              "    }\n",
              "\n",
              "    [theme=dark] .colab-df-convert {\n",
              "      background-color: #3B4455;\n",
              "      fill: #D2E3FC;\n",
              "    }\n",
              "\n",
              "    [theme=dark] .colab-df-convert:hover {\n",
              "      background-color: #434B5C;\n",
              "      box-shadow: 0px 1px 3px 1px rgba(0, 0, 0, 0.15);\n",
              "      filter: drop-shadow(0px 1px 2px rgba(0, 0, 0, 0.3));\n",
              "      fill: #FFFFFF;\n",
              "    }\n",
              "  </style>\n",
              "\n",
              "      <script>\n",
              "        const buttonEl =\n",
              "          document.querySelector('#df-48be6c86-e360-4500-a6df-7bcbfadb162e button.colab-df-convert');\n",
              "        buttonEl.style.display =\n",
              "          google.colab.kernel.accessAllowed ? 'block' : 'none';\n",
              "\n",
              "        async function convertToInteractive(key) {\n",
              "          const element = document.querySelector('#df-48be6c86-e360-4500-a6df-7bcbfadb162e');\n",
              "          const dataTable =\n",
              "            await google.colab.kernel.invokeFunction('convertToInteractive',\n",
              "                                                     [key], {});\n",
              "          if (!dataTable) return;\n",
              "\n",
              "          const docLinkHtml = 'Like what you see? Visit the ' +\n",
              "            '<a target=\"_blank\" href=https://colab.research.google.com/notebooks/data_table.ipynb>data table notebook</a>'\n",
              "            + ' to learn more about interactive tables.';\n",
              "          element.innerHTML = '';\n",
              "          dataTable['output_type'] = 'display_data';\n",
              "          await google.colab.output.renderOutput(dataTable, element);\n",
              "          const docLink = document.createElement('div');\n",
              "          docLink.innerHTML = docLinkHtml;\n",
              "          element.appendChild(docLink);\n",
              "        }\n",
              "      </script>\n",
              "    </div>\n",
              "  </div>\n",
              "  "
            ]
          },
          "metadata": {},
          "execution_count": 29
        }
      ]
    },
    {
      "cell_type": "code",
      "source": [
        ""
      ],
      "metadata": {
        "id": "IkP1r1EytF4j"
      },
      "execution_count": null,
      "outputs": []
    },
    {
      "cell_type": "markdown",
      "source": [
        "### Random Forest 모델 만들기\n"
      ],
      "metadata": {
        "id": "27vuLevqtNXr"
      }
    },
    {
      "cell_type": "code",
      "source": [
        "from sklearn.model_selection import train_test_split\n"
      ],
      "metadata": {
        "id": "X5UBBQURtP4E"
      },
      "execution_count": 30,
      "outputs": []
    },
    {
      "cell_type": "code",
      "source": [
        "X_train,X_test, y_train, y_test = train_test_split(data.drop('conversion', axis=1), data['conversion'], test_size=0.3,random_state=100)"
      ],
      "metadata": {
        "id": "F61fV8v4tZQ0"
      },
      "execution_count": 31,
      "outputs": []
    },
    {
      "cell_type": "code",
      "source": [
        "from sklearn.ensemble import RandomForestClassifier"
      ],
      "metadata": {
        "id": "bexvl5QotZTF"
      },
      "execution_count": 32,
      "outputs": []
    },
    {
      "cell_type": "code",
      "source": [
        "model = RandomForestClassifier(max_depth=10, random_state=100)"
      ],
      "metadata": {
        "id": "nq34CMM2tZi3"
      },
      "execution_count": 33,
      "outputs": []
    },
    {
      "cell_type": "code",
      "source": [
        "model.fit(X_train, y_train)"
      ],
      "metadata": {
        "colab": {
          "base_uri": "https://localhost:8080/"
        },
        "id": "Vu6nzy9Pt08V",
        "outputId": "033355d6-8017-4f57-80f2-03e55ddbfa3e"
      },
      "execution_count": 34,
      "outputs": [
        {
          "output_type": "execute_result",
          "data": {
            "text/plain": [
              "RandomForestClassifier(max_depth=10, random_state=100)"
            ]
          },
          "metadata": {},
          "execution_count": 34
        }
      ]
    },
    {
      "cell_type": "code",
      "source": [
        ""
      ],
      "metadata": {
        "id": "mwH5qSy2t4LG"
      },
      "execution_count": null,
      "outputs": []
    },
    {
      "cell_type": "markdown",
      "source": [
        "### 예측 및 평가"
      ],
      "metadata": {
        "id": "MCRtqNs6t52Z"
      }
    },
    {
      "cell_type": "code",
      "source": [
        "pred = model.predict(X_test)"
      ],
      "metadata": {
        "id": "ETYUPmbBt70I"
      },
      "execution_count": 35,
      "outputs": []
    },
    {
      "cell_type": "code",
      "source": [
        "y_test"
      ],
      "metadata": {
        "colab": {
          "base_uri": "https://localhost:8080/"
        },
        "id": "7BBSzQbrt8RF",
        "outputId": "eebd8f38-678c-46dc-8929-2ccd00e84908"
      },
      "execution_count": 36,
      "outputs": [
        {
          "output_type": "execute_result",
          "data": {
            "text/plain": [
              "id\n",
              "632233    0\n",
              "412308    0\n",
              "184792    0\n",
              "546903    0\n",
              "113517    0\n",
              "         ..\n",
              "629047    0\n",
              "470260    0\n",
              "673575    0\n",
              "345057    0\n",
              "182726    0\n",
              "Name: conversion, Length: 19200, dtype: int64"
            ]
          },
          "metadata": {},
          "execution_count": 36
        }
      ]
    },
    {
      "cell_type": "code",
      "source": [
        "from sklearn.metrics import accuracy_score, confusion_matrix"
      ],
      "metadata": {
        "id": "NwgvdAudt8Tu"
      },
      "execution_count": 37,
      "outputs": []
    },
    {
      "cell_type": "code",
      "source": [
        "accuracy_score(y_test, pred)"
      ],
      "metadata": {
        "colab": {
          "base_uri": "https://localhost:8080/"
        },
        "id": "gv6jI3fZt8V8",
        "outputId": "cba80cf9-1b12-4b06-f788-66fcf72e8e96"
      },
      "execution_count": 38,
      "outputs": [
        {
          "output_type": "execute_result",
          "data": {
            "text/plain": [
              "0.87515625"
            ]
          },
          "metadata": {},
          "execution_count": 38
        }
      ]
    },
    {
      "cell_type": "code",
      "source": [
        "confusion_matrix(y_test, pred)"
      ],
      "metadata": {
        "colab": {
          "base_uri": "https://localhost:8080/"
        },
        "id": "4Xkv3S6tt8X2",
        "outputId": "9779c712-da4c-4713-80f2-32678e78127e"
      },
      "execution_count": 39,
      "outputs": [
        {
          "output_type": "execute_result",
          "data": {
            "text/plain": [
              "array([[16403,    60],\n",
              "       [ 2337,   400]])"
            ]
          },
          "metadata": {},
          "execution_count": 39
        }
      ]
    },
    {
      "cell_type": "code",
      "source": [
        "from sklearn.metrics import classification_report\n"
      ],
      "metadata": {
        "id": "nkxfVeS6uStI"
      },
      "execution_count": 40,
      "outputs": []
    },
    {
      "cell_type": "markdown",
      "source": [
        "#### Classification_report의 요소\n",
        "\n",
        "![image.png](data:image/png;base64,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)\n",
        "\n",
        "**Accurcay**\n",
        "\n",
        "- 맞춘 케이스(0.0, 1.1) / 전체 \n",
        "\n",
        "<br>\n",
        "\n",
        "**Precision**\n",
        "\n",
        "- 1이라고 예측한 것 중에서 실제 1인거\n",
        "\n",
        "- (1,1) / (1,0) + (1,1)\n",
        "\n",
        "<br>\n",
        "\n",
        "**Recall**\n",
        "\n",
        "- 실제 1인 것 중에서 예측값이 1인거\n",
        "\n",
        "- (1,1) / (0,1) + (1,1)\n",
        "\n",
        "- 의료 판단에서 자주 쓰임\n",
        "\n",
        "<br>\n",
        "\n",
        "**F1 score**\n",
        "\n",
        "- Recall과 Precision 중 무엇이 중요한지 모를 때 이용\n",
        "\n",
        "- 식\n",
        "\n",
        "   - F1 = 2 X (Precision X Recall) / (Precision + Recall)"
      ],
      "metadata": {
        "id": "PH3--4GBv8Vh"
      }
    },
    {
      "cell_type": "code",
      "source": [
        "print(classification_report(y_test, pred))"
      ],
      "metadata": {
        "colab": {
          "base_uri": "https://localhost:8080/"
        },
        "id": "cL2bvjvmuYzu",
        "outputId": "041e2c11-92df-4e43-9c01-42366e6c8fb1"
      },
      "execution_count": 41,
      "outputs": [
        {
          "output_type": "stream",
          "name": "stdout",
          "text": [
            "              precision    recall  f1-score   support\n",
            "\n",
            "           0       0.88      1.00      0.93     16463\n",
            "           1       0.87      0.15      0.25      2737\n",
            "\n",
            "    accuracy                           0.88     19200\n",
            "   macro avg       0.87      0.57      0.59     19200\n",
            "weighted avg       0.87      0.88      0.83     19200\n",
            "\n"
          ]
        }
      ]
    },
    {
      "cell_type": "code",
      "source": [
        ""
      ],
      "metadata": {
        "id": "ioogYkgYuanL"
      },
      "execution_count": null,
      "outputs": []
    },
    {
      "cell_type": "markdown",
      "source": [
        "### Random Forest Regressor로 확률 예측하기"
      ],
      "metadata": {
        "id": "qXIc_pKixiRa"
      }
    },
    {
      "cell_type": "code",
      "source": [
        "from sklearn.ensemble import RandomForestClassifier"
      ],
      "metadata": {
        "id": "IftHwH-1xi5c"
      },
      "execution_count": 42,
      "outputs": []
    },
    {
      "cell_type": "code",
      "source": [
        "rf = RandomForestClassifier(max_depth=10, random_state=100)"
      ],
      "metadata": {
        "id": "ZFdlahgk1mp-"
      },
      "execution_count": 43,
      "outputs": []
    },
    {
      "cell_type": "code",
      "source": [
        "rf.fit(X_train,y_train)"
      ],
      "metadata": {
        "colab": {
          "base_uri": "https://localhost:8080/"
        },
        "id": "I8WLdPfl1pX2",
        "outputId": "843d929c-ab0f-4490-8706-27e2c8c7676b"
      },
      "execution_count": 46,
      "outputs": [
        {
          "output_type": "execute_result",
          "data": {
            "text/plain": [
              "RandomForestClassifier(max_depth=10, random_state=100)"
            ]
          },
          "metadata": {},
          "execution_count": 46
        }
      ]
    },
    {
      "cell_type": "code",
      "source": [
        "pred = rf.predict(X_test)"
      ],
      "metadata": {
        "id": "y0KFMQyz1rZ_"
      },
      "execution_count": 47,
      "outputs": []
    },
    {
      "cell_type": "code",
      "source": [
        "pd.DataFrame(pred)"
      ],
      "metadata": {
        "colab": {
          "base_uri": "https://localhost:8080/",
          "height": 424
        },
        "id": "GkYYbvqN1xnO",
        "outputId": "29554a14-c28e-4eff-9753-1eace91223c1"
      },
      "execution_count": 48,
      "outputs": [
        {
          "output_type": "execute_result",
          "data": {
            "text/plain": [
              "       0\n",
              "0      0\n",
              "1      0\n",
              "2      0\n",
              "3      1\n",
              "4      0\n",
              "...   ..\n",
              "19195  0\n",
              "19196  0\n",
              "19197  0\n",
              "19198  0\n",
              "19199  0\n",
              "\n",
              "[19200 rows x 1 columns]"
            ],
            "text/html": [
              "\n",
              "  <div id=\"df-e72ddd17-315d-490c-ad12-1e8dd5b86fee\">\n",
              "    <div class=\"colab-df-container\">\n",
              "      <div>\n",
              "<style scoped>\n",
              "    .dataframe tbody tr th:only-of-type {\n",
              "        vertical-align: middle;\n",
              "    }\n",
              "\n",
              "    .dataframe tbody tr th {\n",
              "        vertical-align: top;\n",
              "    }\n",
              "\n",
              "    .dataframe thead th {\n",
              "        text-align: right;\n",
              "    }\n",
              "</style>\n",
              "<table border=\"1\" class=\"dataframe\">\n",
              "  <thead>\n",
              "    <tr style=\"text-align: right;\">\n",
              "      <th></th>\n",
              "      <th>0</th>\n",
              "    </tr>\n",
              "  </thead>\n",
              "  <tbody>\n",
              "    <tr>\n",
              "      <th>0</th>\n",
              "      <td>0</td>\n",
              "    </tr>\n",
              "    <tr>\n",
              "      <th>1</th>\n",
              "      <td>0</td>\n",
              "    </tr>\n",
              "    <tr>\n",
              "      <th>2</th>\n",
              "      <td>0</td>\n",
              "    </tr>\n",
              "    <tr>\n",
              "      <th>3</th>\n",
              "      <td>1</td>\n",
              "    </tr>\n",
              "    <tr>\n",
              "      <th>4</th>\n",
              "      <td>0</td>\n",
              "    </tr>\n",
              "    <tr>\n",
              "      <th>...</th>\n",
              "      <td>...</td>\n",
              "    </tr>\n",
              "    <tr>\n",
              "      <th>19195</th>\n",
              "      <td>0</td>\n",
              "    </tr>\n",
              "    <tr>\n",
              "      <th>19196</th>\n",
              "      <td>0</td>\n",
              "    </tr>\n",
              "    <tr>\n",
              "      <th>19197</th>\n",
              "      <td>0</td>\n",
              "    </tr>\n",
              "    <tr>\n",
              "      <th>19198</th>\n",
              "      <td>0</td>\n",
              "    </tr>\n",
              "    <tr>\n",
              "      <th>19199</th>\n",
              "      <td>0</td>\n",
              "    </tr>\n",
              "  </tbody>\n",
              "</table>\n",
              "<p>19200 rows × 1 columns</p>\n",
              "</div>\n",
              "      <button class=\"colab-df-convert\" onclick=\"convertToInteractive('df-e72ddd17-315d-490c-ad12-1e8dd5b86fee')\"\n",
              "              title=\"Convert this dataframe to an interactive table.\"\n",
              "              style=\"display:none;\">\n",
              "        \n",
              "  <svg xmlns=\"http://www.w3.org/2000/svg\" height=\"24px\"viewBox=\"0 0 24 24\"\n",
              "       width=\"24px\">\n",
              "    <path d=\"M0 0h24v24H0V0z\" fill=\"none\"/>\n",
              "    <path d=\"M18.56 5.44l.94 2.06.94-2.06 2.06-.94-2.06-.94-.94-2.06-.94 2.06-2.06.94zm-11 1L8.5 8.5l.94-2.06 2.06-.94-2.06-.94L8.5 2.5l-.94 2.06-2.06.94zm10 10l.94 2.06.94-2.06 2.06-.94-2.06-.94-.94-2.06-.94 2.06-2.06.94z\"/><path d=\"M17.41 7.96l-1.37-1.37c-.4-.4-.92-.59-1.43-.59-.52 0-1.04.2-1.43.59L10.3 9.45l-7.72 7.72c-.78.78-.78 2.05 0 2.83L4 21.41c.39.39.9.59 1.41.59.51 0 1.02-.2 1.41-.59l7.78-7.78 2.81-2.81c.8-.78.8-2.07 0-2.86zM5.41 20L4 18.59l7.72-7.72 1.47 1.35L5.41 20z\"/>\n",
              "  </svg>\n",
              "      </button>\n",
              "      \n",
              "  <style>\n",
              "    .colab-df-container {\n",
              "      display:flex;\n",
              "      flex-wrap:wrap;\n",
              "      gap: 12px;\n",
              "    }\n",
              "\n",
              "    .colab-df-convert {\n",
              "      background-color: #E8F0FE;\n",
              "      border: none;\n",
              "      border-radius: 50%;\n",
              "      cursor: pointer;\n",
              "      display: none;\n",
              "      fill: #1967D2;\n",
              "      height: 32px;\n",
              "      padding: 0 0 0 0;\n",
              "      width: 32px;\n",
              "    }\n",
              "\n",
              "    .colab-df-convert:hover {\n",
              "      background-color: #E2EBFA;\n",
              "      box-shadow: 0px 1px 2px rgba(60, 64, 67, 0.3), 0px 1px 3px 1px rgba(60, 64, 67, 0.15);\n",
              "      fill: #174EA6;\n",
              "    }\n",
              "\n",
              "    [theme=dark] .colab-df-convert {\n",
              "      background-color: #3B4455;\n",
              "      fill: #D2E3FC;\n",
              "    }\n",
              "\n",
              "    [theme=dark] .colab-df-convert:hover {\n",
              "      background-color: #434B5C;\n",
              "      box-shadow: 0px 1px 3px 1px rgba(0, 0, 0, 0.15);\n",
              "      filter: drop-shadow(0px 1px 2px rgba(0, 0, 0, 0.3));\n",
              "      fill: #FFFFFF;\n",
              "    }\n",
              "  </style>\n",
              "\n",
              "      <script>\n",
              "        const buttonEl =\n",
              "          document.querySelector('#df-e72ddd17-315d-490c-ad12-1e8dd5b86fee button.colab-df-convert');\n",
              "        buttonEl.style.display =\n",
              "          google.colab.kernel.accessAllowed ? 'block' : 'none';\n",
              "\n",
              "        async function convertToInteractive(key) {\n",
              "          const element = document.querySelector('#df-e72ddd17-315d-490c-ad12-1e8dd5b86fee');\n",
              "          const dataTable =\n",
              "            await google.colab.kernel.invokeFunction('convertToInteractive',\n",
              "                                                     [key], {});\n",
              "          if (!dataTable) return;\n",
              "\n",
              "          const docLinkHtml = 'Like what you see? Visit the ' +\n",
              "            '<a target=\"_blank\" href=https://colab.research.google.com/notebooks/data_table.ipynb>data table notebook</a>'\n",
              "            + ' to learn more about interactive tables.';\n",
              "          element.innerHTML = '';\n",
              "          dataTable['output_type'] = 'display_data';\n",
              "          await google.colab.output.renderOutput(dataTable, element);\n",
              "          const docLink = document.createElement('div');\n",
              "          docLink.innerHTML = docLinkHtml;\n",
              "          element.appendChild(docLink);\n",
              "        }\n",
              "      </script>\n",
              "    </div>\n",
              "  </div>\n",
              "  "
            ]
          },
          "metadata": {},
          "execution_count": 48
        }
      ]
    },
    {
      "cell_type": "code",
      "source": [
        "y_test"
      ],
      "metadata": {
        "colab": {
          "base_uri": "https://localhost:8080/"
        },
        "id": "8G3BPpH51y_J",
        "outputId": "b6182418-91bc-4b71-bcbb-1cd93f3cadf9"
      },
      "execution_count": 49,
      "outputs": [
        {
          "output_type": "execute_result",
          "data": {
            "text/plain": [
              "id\n",
              "632233    0\n",
              "412308    0\n",
              "184792    0\n",
              "546903    0\n",
              "113517    0\n",
              "         ..\n",
              "629047    0\n",
              "470260    0\n",
              "673575    0\n",
              "345057    0\n",
              "182726    0\n",
              "Name: conversion, Length: 19200, dtype: int64"
            ]
          },
          "metadata": {},
          "execution_count": 49
        }
      ]
    },
    {
      "cell_type": "markdown",
      "source": [
        "#### 0~1사이의 연속형 변수를 0과1로 변환"
      ],
      "metadata": {
        "id": "Ig1xMZsI12S3"
      }
    },
    {
      "cell_type": "code",
      "source": [
        "#방법1\n",
        "\n",
        "def conv(x):\n",
        "    if x>=0.5:\n",
        "        return 1\n",
        "    else:\n",
        "        return 0"
      ],
      "metadata": {
        "id": "YwXUvB7Q11t8"
      },
      "execution_count": 50,
      "outputs": []
    },
    {
      "cell_type": "code",
      "source": [
        "pd_result = pd.Series(pred).apply(lambda x:conv(x))"
      ],
      "metadata": {
        "id": "4oXsCe8i1-R9"
      },
      "execution_count": 51,
      "outputs": []
    },
    {
      "cell_type": "code",
      "source": [
        "pd_result"
      ],
      "metadata": {
        "colab": {
          "base_uri": "https://localhost:8080/"
        },
        "id": "OGNyA_fJ2Dze",
        "outputId": "17bd45a2-a6f0-45b0-c506-e71a12def52f"
      },
      "execution_count": 52,
      "outputs": [
        {
          "output_type": "execute_result",
          "data": {
            "text/plain": [
              "0        0\n",
              "1        0\n",
              "2        0\n",
              "3        1\n",
              "4        0\n",
              "        ..\n",
              "19195    0\n",
              "19196    0\n",
              "19197    0\n",
              "19198    0\n",
              "19199    0\n",
              "Length: 19200, dtype: int64"
            ]
          },
          "metadata": {},
          "execution_count": 52
        }
      ]
    },
    {
      "cell_type": "code",
      "source": [
        "#방법2\n",
        "result = []\n",
        "for i in pred:\n",
        "    result.append(conv(i))"
      ],
      "metadata": {
        "id": "yyDDNE952E_d"
      },
      "execution_count": 54,
      "outputs": []
    },
    {
      "cell_type": "code",
      "source": [
        "result"
      ],
      "metadata": {
        "id": "Ak09u9q_2Iz4"
      },
      "execution_count": null,
      "outputs": []
    },
    {
      "cell_type": "code",
      "source": [
        "result_comp = [1 if x>=0.5 else 0 for x in pred]"
      ],
      "metadata": {
        "id": "SqMM0ytR2Lad"
      },
      "execution_count": 58,
      "outputs": []
    },
    {
      "cell_type": "code",
      "source": [
        ""
      ],
      "metadata": {
        "id": "taYahK4c2TZx"
      },
      "execution_count": null,
      "outputs": []
    },
    {
      "cell_type": "markdown",
      "source": [
        "### 평가"
      ],
      "metadata": {
        "id": "WDu3n2dS2V6m"
      }
    },
    {
      "cell_type": "code",
      "source": [
        "accuracy_score(y_test, result_comp)"
      ],
      "metadata": {
        "colab": {
          "base_uri": "https://localhost:8080/"
        },
        "id": "MQ3FtdR72Wsp",
        "outputId": "8bcc4bbe-2cec-46b3-a112-d972db96264a"
      },
      "execution_count": 59,
      "outputs": [
        {
          "output_type": "execute_result",
          "data": {
            "text/plain": [
              "0.87515625"
            ]
          },
          "metadata": {},
          "execution_count": 59
        }
      ]
    },
    {
      "cell_type": "code",
      "source": [
        "confusion_matrix(y_test, result_comp)"
      ],
      "metadata": {
        "colab": {
          "base_uri": "https://localhost:8080/"
        },
        "id": "HVj23ehU2Z56",
        "outputId": "e0fd943d-a6b5-4972-fbb0-22f0a7a9177b"
      },
      "execution_count": 60,
      "outputs": [
        {
          "output_type": "execute_result",
          "data": {
            "text/plain": [
              "array([[16403,    60],\n",
              "       [ 2337,   400]])"
            ]
          },
          "metadata": {},
          "execution_count": 60
        }
      ]
    },
    {
      "cell_type": "code",
      "source": [
        "print(classification_report(y_test, result_comp))"
      ],
      "metadata": {
        "colab": {
          "base_uri": "https://localhost:8080/"
        },
        "id": "R_5cDPo12csO",
        "outputId": "56820eec-ec58-48eb-fc25-3ed0908df77b"
      },
      "execution_count": 62,
      "outputs": [
        {
          "output_type": "stream",
          "name": "stdout",
          "text": [
            "              precision    recall  f1-score   support\n",
            "\n",
            "           0       0.88      1.00      0.93     16463\n",
            "           1       0.87      0.15      0.25      2737\n",
            "\n",
            "    accuracy                           0.88     19200\n",
            "   macro avg       0.87      0.57      0.59     19200\n",
            "weighted avg       0.87      0.88      0.83     19200\n",
            "\n"
          ]
        }
      ]
    },
    {
      "cell_type": "code",
      "source": [
        ""
      ],
      "metadata": {
        "id": "q7D4DylZ2hi3"
      },
      "execution_count": null,
      "outputs": []
    },
    {
      "cell_type": "markdown",
      "source": [
        "### 파라미터 변경해보기"
      ],
      "metadata": {
        "id": "GE2lVwDl2oMI"
      }
    },
    {
      "cell_type": "code",
      "source": [
        "from sklearn.ensemble import RandomForestRegressor\n",
        "\n",
        "rf = RandomForestRegressor(max_depth = 10, random_state = 100)\n",
        "rf.fit(X_train, y_train)\n",
        "pred = rf.predict(X_test)\n",
        "result_comp = [1 if x >= 0.5 else 0 for x in pred]\n",
        "\n",
        "accuracy_score(y_test, result_comp)"
      ],
      "metadata": {
        "colab": {
          "base_uri": "https://localhost:8080/"
        },
        "id": "VsS_LQVI2pY7",
        "outputId": "24a5c8ca-2b07-4f18-8596-828b79780397"
      },
      "execution_count": 67,
      "outputs": [
        {
          "output_type": "execute_result",
          "data": {
            "text/plain": [
              "0.8799479166666667"
            ]
          },
          "metadata": {},
          "execution_count": 67
        }
      ]
    },
    {
      "cell_type": "code",
      "source": [
        "rf = RandomForestRegressor(max_depth = 12, random_state = 100)\n",
        "rf.fit(X_train, y_train)\n",
        "pred = rf.predict(X_test)\n",
        "result_comp = [1 if x >= 0.5 else 0 for x in pred]\n",
        "\n",
        "accuracy_score(y_test, result_comp)"
      ],
      "metadata": {
        "colab": {
          "base_uri": "https://localhost:8080/"
        },
        "id": "vTR7jaHL2stU",
        "outputId": "a7e6bd38-c440-46bd-de0e-bc745117857f"
      },
      "execution_count": 68,
      "outputs": [
        {
          "output_type": "execute_result",
          "data": {
            "text/plain": [
              "0.8805729166666667"
            ]
          },
          "metadata": {},
          "execution_count": 68
        }
      ]
    },
    {
      "cell_type": "code",
      "source": [
        "#n_estimators : 트리의 갯수, 꼭 다다익선은 아님\n",
        "#min_samples_leaf : 오버피팅 방지이고 트리의 갯수가 된다면 종료\n",
        "rf = RandomForestRegressor(n_estimators = 100 , max_depth = 12, random_state = 100, min_samples_leaf = 5)\n",
        "rf.fit(X_train, y_train)\n",
        "pred = rf.predict(X_test)\n",
        "result_comp = [1 if x >= 0.5 else 0 for x in pred]\n",
        "\n",
        "accuracy_score(y_test, result_comp)"
      ],
      "metadata": {
        "colab": {
          "base_uri": "https://localhost:8080/"
        },
        "id": "dcGMXNLm27ah",
        "outputId": "da5e64e9-663c-4af0-a40c-93ccde241444"
      },
      "execution_count": 69,
      "outputs": [
        {
          "output_type": "execute_result",
          "data": {
            "text/plain": [
              "0.8810416666666666"
            ]
          },
          "metadata": {},
          "execution_count": 69
        }
      ]
    },
    {
      "cell_type": "code",
      "source": [
        ""
      ],
      "metadata": {
        "id": "NPjJ6TLD4dEJ"
      },
      "execution_count": null,
      "outputs": []
    },
    {
      "cell_type": "code",
      "source": [
        ""
      ],
      "metadata": {
        "id": "6qULm87_3BS5"
      },
      "execution_count": null,
      "outputs": []
    },
    {
      "cell_type": "markdown",
      "source": [
        "### 변수 중요성 확인"
      ],
      "metadata": {
        "id": "tWVM0R7-3DnI"
      }
    },
    {
      "cell_type": "code",
      "source": [
        "rf.feature_importances_"
      ],
      "metadata": {
        "colab": {
          "base_uri": "https://localhost:8080/"
        },
        "id": "2C8y1RsT3F_I",
        "outputId": "d0726d78-53c2-417a-9457-4a0bc3fb913f"
      },
      "execution_count": 70,
      "outputs": [
        {
          "output_type": "execute_result",
          "data": {
            "text/plain": [
              "array([0.06390282, 0.0229547 , 0.31878145, 0.15857333, 0.25092914,\n",
              "       0.14468844, 0.00936383, 0.00914032, 0.01179997, 0.009866  ])"
            ]
          },
          "metadata": {},
          "execution_count": 70
        }
      ]
    },
    {
      "cell_type": "code",
      "source": [
        "X_train.columns"
      ],
      "metadata": {
        "colab": {
          "base_uri": "https://localhost:8080/"
        },
        "id": "bzrfHV3J3GBl",
        "outputId": "0e344c2b-7d0a-485b-ab23-d0efe358fb09"
      },
      "execution_count": 71,
      "outputs": [
        {
          "output_type": "execute_result",
          "data": {
            "text/plain": [
              "Index(['recency', 'is_referral', 'num_item', 'total_amount', 'avg_price',\n",
              "       'count', 'zip_code_Surburban', 'zip_code_Urban', 'channel_Phone',\n",
              "       'channel_Web'],\n",
              "      dtype='object')"
            ]
          },
          "metadata": {},
          "execution_count": 71
        }
      ]
    },
    {
      "cell_type": "code",
      "source": [
        "plt.figure(figsize=(20,10))\n",
        "sns.barplot(x=X_train.columns, y = rf.feature_importances_)"
      ],
      "metadata": {
        "colab": {
          "base_uri": "https://localhost:8080/",
          "height": 450
        },
        "id": "xznnhw1j3GD7",
        "outputId": "da23b6b0-4f2d-437a-a8a9-ae1197637af7"
      },
      "execution_count": 72,
      "outputs": [
        {
          "output_type": "execute_result",
          "data": {
            "text/plain": [
              "<matplotlib.axes._subplots.AxesSubplot at 0x7f37cd525350>"
            ]
          },
          "metadata": {},
          "execution_count": 72
        },
        {
          "output_type": "display_data",
          "data": {
            "text/plain": [
              "<Figure size 1440x720 with 1 Axes>"
            ],
            "image/png": "[encoded data removed]"
          },
          "metadata": {
            "needs_background": "light"
          }
        }
      ]
    },
    {
      "cell_type": "markdown",
      "source": [
        ""
      ],
      "metadata": {
        "id": "x5etEfe-3Dto"
      }
    }
  ]
}