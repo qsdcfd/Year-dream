{
  "nbformat": 4,
  "nbformat_minor": 0,
  "metadata": {
    "colab": {
      "name": "고객분류(Kmeans)",
      "provenance": [],
      "authorship_tag": "ABX9TyPGwMocIkHFX6MGBdjntLq8"
    },
    "kernelspec": {
      "name": "python3",
      "display_name": "Python 3"
    },
    "language_info": {
      "name": "python"
    }
  },
  "cells": [
    {
      "cell_type": "markdown",
      "source": [
        "### 분석\n",
        "\n",
        "- Kmeans Clustering활용\n",
        "\n",
        "- 데이터 기반의 고객 Segment분류\n",
        "\n",
        "- 비지도학습"
      ],
      "metadata": {
        "id": "IbAWEHJ4OMfF"
      }
    },
    {
      "cell_type": "markdown",
      "source": [
        "### 데이터로드"
      ],
      "metadata": {
        "id": "fRxDAKlwPLgM"
      }
    },
    {
      "cell_type": "code",
      "execution_count": 1,
      "metadata": {
        "id": "vsfyKWCTMRac"
      },
      "outputs": [],
      "source": [
        "import pandas as pd\n",
        "import numpy as np \n",
        "import matplotlib.pyplot as plt\n",
        "import seaborn as sns"
      ]
    },
    {
      "cell_type": "code",
      "source": [
        "from sklearn.datasets import make_blobs"
      ],
      "metadata": {
        "id": "Weq8_82JPLIv"
      },
      "execution_count": 2,
      "outputs": []
    },
    {
      "cell_type": "code",
      "source": [
        "data = make_blobs(n_samples = 200, n_features = 2, centers =4, random_state = 100)"
      ],
      "metadata": {
        "id": "Jvwk1UpiPTw0"
      },
      "execution_count": 3,
      "outputs": []
    },
    {
      "cell_type": "code",
      "source": [
        "#해당 데이터는 독립변수와 종속변수가 각각 별도의 numpy array로 존재한다.\n",
        "#data라는 이름의 numpy array에 묶여있음\n",
        "data"
      ],
      "metadata": {
        "colab": {
          "base_uri": "https://localhost:8080/"
        },
        "id": "GmCXf32PPjTU",
        "outputId": "34da6106-6916-4a02-ee42-e10cf824e364"
      },
      "execution_count": 4,
      "outputs": [
        {
          "output_type": "execute_result",
          "data": {
            "text/plain": [
              "(array([[-1.04541152e+01, -7.62125255e+00],\n",
              "        [-1.00696483e+01, -6.35203699e+00],\n",
              "        [-9.72925240e+00, -8.44434843e+00],\n",
              "        [-9.53601173e+00, -8.04924975e+00],\n",
              "        [-3.00736857e+00,  5.70163667e+00],\n",
              "        [-1.00825197e+01, -7.06157008e+00],\n",
              "        [ 1.48356884e+00,  6.54127044e+00],\n",
              "        [ 1.36630977e+00,  7.30084118e+00],\n",
              "        [-6.15050479e-01,  7.65521577e+00],\n",
              "        [-2.13385599e-01,  7.84779827e+00],\n",
              "        [ 3.36818459e-01, -3.40287961e+00],\n",
              "        [-1.37722038e+00,  6.91773657e+00],\n",
              "        [-1.08726796e+00,  5.80147972e+00],\n",
              "        [-1.63584937e+00,  8.88579630e+00],\n",
              "        [-7.62592530e-01,  7.32519908e+00],\n",
              "        [-1.93336328e+00,  5.70953908e+00],\n",
              "        [-9.51418426e+00, -7.24137223e+00],\n",
              "        [-9.86650380e-01,  6.87917724e+00],\n",
              "        [-9.37825374e+00, -7.94292047e+00],\n",
              "        [ 2.66345400e-01,  7.40859703e+00],\n",
              "        [-1.20385333e+01, -6.80941325e+00],\n",
              "        [-9.20343837e+00, -8.85252239e+00],\n",
              "        [ 4.10071850e-01, -3.99744881e+00],\n",
              "        [ 2.25174587e+00,  6.49587933e+00],\n",
              "        [ 7.92075370e-01, -4.42865470e+00],\n",
              "        [ 5.41860777e-01, -4.37693628e+00],\n",
              "        [-7.56585997e-01,  5.28608375e+00],\n",
              "        [-8.95266345e+00, -8.55198023e+00],\n",
              "        [-1.68442974e+00,  7.91278699e+00],\n",
              "        [ 1.48113772e+00, -3.69640708e+00],\n",
              "        [ 8.75413399e-01, -5.04555103e+00],\n",
              "        [ 3.00989843e+00,  7.05349904e+00],\n",
              "        [ 9.76962304e-01, -3.92480271e+00],\n",
              "        [-9.94328955e+00, -6.73708455e+00],\n",
              "        [-9.79380030e+00, -5.02918555e+00],\n",
              "        [-1.37939973e+00,  7.84488351e+00],\n",
              "        [-2.10521664e+00, -4.39929502e+00],\n",
              "        [ 4.29963213e-01, -5.55093054e+00],\n",
              "        [-1.01724010e+01, -8.42467961e+00],\n",
              "        [-1.40787241e+00,  8.20386947e+00],\n",
              "        [-8.86329013e+00, -6.46974160e+00],\n",
              "        [-1.17867375e+01, -7.38627486e+00],\n",
              "        [ 2.70003492e+00, -4.42959486e+00],\n",
              "        [ 3.74018799e+00,  5.86277425e+00],\n",
              "        [ 9.76970826e-01, -4.40432866e+00],\n",
              "        [ 3.53853432e+00,  8.06478420e+00],\n",
              "        [-1.36995537e-02, -4.41397335e+00],\n",
              "        [-2.21406638e+00,  6.30414753e+00],\n",
              "        [ 1.54081964e+00, -4.53702344e+00],\n",
              "        [-9.78801442e+00, -8.52678592e+00],\n",
              "        [-9.88043097e+00, -6.05108146e+00],\n",
              "        [ 1.44867217e+00, -5.53713539e+00],\n",
              "        [-1.04422633e+01, -6.74549318e+00],\n",
              "        [ 6.83084725e-01, -6.91976383e+00],\n",
              "        [-8.45020142e+00, -7.32711070e+00],\n",
              "        [-9.73089464e-01, -4.06651907e+00],\n",
              "        [ 2.84503785e-01, -3.61576523e+00],\n",
              "        [-1.31673099e+00,  6.54706372e+00],\n",
              "        [ 2.05907384e+00,  4.80547205e+00],\n",
              "        [ 3.18199713e+00,  5.33264367e+00],\n",
              "        [ 2.48573450e+00,  6.91547152e+00],\n",
              "        [-6.73223235e+00, -4.23441407e+00],\n",
              "        [ 2.16784691e+00, -6.16570792e+00],\n",
              "        [ 2.34531543e+00,  6.74289385e+00],\n",
              "        [-1.02040585e+01, -7.97090751e+00],\n",
              "        [ 3.19485113e+00,  6.26478506e+00],\n",
              "        [-1.19228021e+00,  6.14310847e+00],\n",
              "        [-9.14758038e+00, -8.76805755e+00],\n",
              "        [ 3.53993567e+00,  5.45180895e+00],\n",
              "        [-9.61724546e+00, -7.90770302e+00],\n",
              "        [ 3.42501883e+00,  6.99734348e+00],\n",
              "        [-2.72690232e+00,  6.73825748e+00],\n",
              "        [ 3.76567451e+00,  6.38497839e+00],\n",
              "        [-1.05675606e+01, -4.10339044e+00],\n",
              "        [ 2.20129016e+00,  6.70519206e+00],\n",
              "        [-7.88653676e+00, -6.82121417e+00],\n",
              "        [ 5.36321701e-01, -5.12183028e+00],\n",
              "        [ 3.57358029e+00,  8.64954183e+00],\n",
              "        [ 1.28366703e+00,  6.78013179e+00],\n",
              "        [-8.38331511e+00, -7.74858090e+00],\n",
              "        [ 3.74605338e+00,  6.15055885e+00],\n",
              "        [ 1.64692124e+00, -4.00437943e+00],\n",
              "        [-1.05324768e+01, -7.84355739e+00],\n",
              "        [-9.49791635e+00, -8.39689798e+00],\n",
              "        [ 2.89273011e-01, -5.63206350e+00],\n",
              "        [ 4.30265348e+00,  6.60570489e+00],\n",
              "        [-2.12627756e+00,  7.65870629e+00],\n",
              "        [ 1.61855217e+00, -5.73960464e+00],\n",
              "        [-3.05026421e+00,  8.94223661e+00],\n",
              "        [ 1.55822031e+00, -3.74572223e+00],\n",
              "        [ 3.26013324e+00,  6.43099946e+00],\n",
              "        [-8.62817084e+00, -8.01420585e+00],\n",
              "        [-1.74836105e+00,  5.46645575e+00],\n",
              "        [-4.88300213e-01, -5.66504681e+00],\n",
              "        [-1.21747799e+01, -7.91678822e+00],\n",
              "        [-8.34630802e+00, -8.66130645e+00],\n",
              "        [-8.36552370e-01, -5.56887330e+00],\n",
              "        [ 3.07922486e+00,  6.38042572e+00],\n",
              "        [-4.15961535e-01,  6.66600489e+00],\n",
              "        [-9.81739294e+00, -8.17137695e+00],\n",
              "        [ 2.88933650e+00,  5.93216577e+00],\n",
              "        [-1.87511018e+00,  5.62449961e+00],\n",
              "        [ 6.19210169e-01, -4.88278873e+00],\n",
              "        [ 5.08677288e+00,  6.20404737e+00],\n",
              "        [ 5.65144983e-01,  6.55222496e+00],\n",
              "        [-1.28725738e+00,  6.21060091e+00],\n",
              "        [-7.45479667e-01, -2.96189843e+00],\n",
              "        [ 2.90270640e+00, -4.98332671e+00],\n",
              "        [ 4.01803539e+00,  5.45558747e+00],\n",
              "        [-3.39121202e-01,  8.97323488e+00],\n",
              "        [-3.52483690e+00,  6.81598206e+00],\n",
              "        [ 1.89502028e+00, -5.86480291e+00],\n",
              "        [ 2.09040360e+00,  6.75543975e+00],\n",
              "        [-2.80603999e+00,  6.99066209e+00],\n",
              "        [ 1.45801414e+00,  5.95257044e+00],\n",
              "        [ 2.74467226e+00, -4.80951565e+00],\n",
              "        [-2.72740300e-01,  6.66523797e+00],\n",
              "        [ 3.91373218e+00,  5.43922903e+00],\n",
              "        [-1.05007367e+01, -8.55142948e+00],\n",
              "        [-8.75816544e+00, -6.40864861e+00],\n",
              "        [-9.48216559e+00, -7.72813495e+00],\n",
              "        [ 4.90551479e+00,  6.11766373e+00],\n",
              "        [-1.15211263e-01, -4.07510454e+00],\n",
              "        [-8.30225088e+00, -6.55572135e+00],\n",
              "        [-8.66454079e+00, -5.90508127e+00],\n",
              "        [-3.19918761e-01, -4.98235849e+00],\n",
              "        [-2.10963123e+00,  8.47168937e+00],\n",
              "        [-7.19473257e-02, -5.26054466e+00],\n",
              "        [-1.92546452e+00,  5.53701971e+00],\n",
              "        [-2.92469111e+00,  6.25476272e+00],\n",
              "        [-2.90664753e+00,  5.79835066e+00],\n",
              "        [ 1.61854360e+00, -4.88855923e+00],\n",
              "        [ 1.05261753e+00, -3.49553010e+00],\n",
              "        [ 3.39585894e+00,  7.50999675e+00],\n",
              "        [ 1.08927851e+00, -5.50265563e+00],\n",
              "        [-7.60625341e+00, -8.50822003e+00],\n",
              "        [-7.72653016e-01,  7.33138990e+00],\n",
              "        [ 7.88487590e-01, -5.32234378e+00],\n",
              "        [-8.37853170e-01, -4.06344834e+00],\n",
              "        [-7.30021881e-01,  6.45740173e+00],\n",
              "        [ 1.11746530e-01, -3.61615829e+00],\n",
              "        [ 7.65227534e-02,  7.58891330e+00],\n",
              "        [ 4.20540979e+00,  7.60887101e+00],\n",
              "        [-9.50202446e+00, -9.45345197e+00],\n",
              "        [-8.78006742e+00, -6.64156429e+00],\n",
              "        [ 3.50775812e+00,  6.70677389e+00],\n",
              "        [ 3.95479461e+00,  7.06022828e+00],\n",
              "        [-9.05224646e-01,  5.98849223e+00],\n",
              "        [ 2.27830898e+00,  6.76554973e+00],\n",
              "        [ 7.89005756e-01,  6.73031309e+00],\n",
              "        [ 3.23608770e+00,  7.69529426e+00],\n",
              "        [-1.11759409e+01, -6.93311642e+00],\n",
              "        [-6.98588694e-01, -3.52763818e+00],\n",
              "        [-1.04953315e+01, -8.38204241e+00],\n",
              "        [-1.02817702e+01, -7.10826837e+00],\n",
              "        [ 6.78603005e-01, -4.17761085e+00],\n",
              "        [-2.02407808e+00,  6.67946253e+00],\n",
              "        [-9.17624916e-01,  6.45845823e+00],\n",
              "        [ 3.99191575e+00,  6.60357995e+00],\n",
              "        [-1.04334882e+00,  7.16550989e+00],\n",
              "        [ 3.30709252e+00,  7.52045266e+00],\n",
              "        [ 3.28538514e+00,  6.34622469e+00],\n",
              "        [ 4.37872623e+00,  7.77078124e+00],\n",
              "        [-1.82947923e+00,  5.74778105e+00],\n",
              "        [-1.01908037e+01, -7.08820617e+00],\n",
              "        [ 3.43857919e+00,  6.34659863e+00],\n",
              "        [-1.05304951e+01, -7.67861298e+00],\n",
              "        [ 1.10594346e+00, -4.41906375e+00],\n",
              "        [ 6.16219697e-01, -5.27504804e+00],\n",
              "        [-1.20859872e+00,  5.21062268e+00],\n",
              "        [ 4.61164315e+00,  6.05221253e+00],\n",
              "        [-1.96557020e+00,  7.54469557e+00],\n",
              "        [ 3.21718440e+00,  5.66238231e+00],\n",
              "        [ 1.93975803e-01,  6.17337188e+00],\n",
              "        [ 5.87148931e-03, -3.18314256e+00],\n",
              "        [ 4.33614078e-01,  5.44808653e+00],\n",
              "        [-3.01723335e+00,  7.00340678e+00],\n",
              "        [ 2.84271780e+00,  9.26217307e+00],\n",
              "        [-9.42853058e+00, -8.99838025e+00],\n",
              "        [-8.51802106e+00, -9.30400873e+00],\n",
              "        [ 6.13631530e+00,  4.54419105e+00],\n",
              "        [ 1.43136075e+00,  6.68419189e+00],\n",
              "        [-1.51854685e+00,  6.35232464e+00],\n",
              "        [ 1.59909918e+00, -3.07105617e+00],\n",
              "        [-9.43762219e+00, -4.85961564e+00],\n",
              "        [-7.67430564e-01, -5.47682218e+00],\n",
              "        [ 2.14392371e+00,  7.44615522e+00],\n",
              "        [ 5.25950490e+00,  6.18091147e+00],\n",
              "        [ 4.27545710e+00,  6.27045780e+00],\n",
              "        [ 2.48708050e+00, -2.89100712e+00],\n",
              "        [ 2.97157371e+00,  7.25600900e+00],\n",
              "        [ 3.79877054e+00,  7.85178586e+00],\n",
              "        [ 2.05772110e+00, -6.12322912e+00],\n",
              "        [-1.02169699e+01, -8.99327317e+00],\n",
              "        [ 1.09049844e+00, -5.87582929e+00],\n",
              "        [-5.60643409e-01,  6.87612506e+00],\n",
              "        [-3.46772942e+00,  6.76072133e+00],\n",
              "        [-1.10001801e+01, -7.80996633e+00],\n",
              "        [ 1.89855120e+00,  6.84633761e+00],\n",
              "        [ 3.23659674e-01, -5.10078403e+00]]),\n",
              " array([2, 2, 2, 2, 1, 2, 3, 3, 1, 1, 0, 1, 1, 1, 1, 1, 2, 1, 2, 1, 2, 2,\n",
              "        0, 3, 0, 0, 1, 2, 1, 0, 0, 3, 0, 2, 2, 1, 0, 0, 2, 1, 2, 2, 0, 3,\n",
              "        0, 3, 0, 1, 0, 2, 2, 0, 2, 0, 2, 0, 0, 1, 3, 3, 3, 2, 0, 3, 2, 3,\n",
              "        1, 2, 3, 2, 3, 1, 3, 2, 3, 2, 0, 3, 3, 2, 3, 0, 2, 2, 0, 3, 1, 0,\n",
              "        1, 0, 3, 2, 1, 0, 2, 2, 0, 3, 1, 2, 3, 1, 0, 3, 1, 1, 0, 0, 3, 1,\n",
              "        1, 0, 3, 1, 3, 0, 1, 3, 2, 2, 2, 3, 0, 2, 2, 0, 1, 0, 1, 1, 1, 0,\n",
              "        0, 3, 0, 2, 1, 0, 0, 1, 0, 1, 3, 2, 2, 3, 3, 1, 3, 1, 3, 2, 0, 2,\n",
              "        2, 0, 1, 1, 3, 1, 3, 3, 3, 1, 2, 3, 2, 0, 0, 1, 3, 1, 3, 1, 0, 1,\n",
              "        1, 3, 2, 2, 3, 3, 1, 0, 2, 0, 3, 3, 3, 0, 3, 3, 0, 2, 0, 1, 1, 2,\n",
              "        3, 0]))"
            ]
          },
          "metadata": {},
          "execution_count": 4
        }
      ]
    },
    {
      "cell_type": "code",
      "source": [
        "#독립변수: 0으로 인덱스\n",
        "data[0]"
      ],
      "metadata": {
        "colab": {
          "base_uri": "https://localhost:8080/"
        },
        "id": "EdGLJpSTPpwQ",
        "outputId": "239b682b-9eac-45f7-c03e-bc668fb31b42"
      },
      "execution_count": 5,
      "outputs": [
        {
          "output_type": "execute_result",
          "data": {
            "text/plain": [
              "array([[-1.04541152e+01, -7.62125255e+00],\n",
              "       [-1.00696483e+01, -6.35203699e+00],\n",
              "       [-9.72925240e+00, -8.44434843e+00],\n",
              "       [-9.53601173e+00, -8.04924975e+00],\n",
              "       [-3.00736857e+00,  5.70163667e+00],\n",
              "       [-1.00825197e+01, -7.06157008e+00],\n",
              "       [ 1.48356884e+00,  6.54127044e+00],\n",
              "       [ 1.36630977e+00,  7.30084118e+00],\n",
              "       [-6.15050479e-01,  7.65521577e+00],\n",
              "       [-2.13385599e-01,  7.84779827e+00],\n",
              "       [ 3.36818459e-01, -3.40287961e+00],\n",
              "       [-1.37722038e+00,  6.91773657e+00],\n",
              "       [-1.08726796e+00,  5.80147972e+00],\n",
              "       [-1.63584937e+00,  8.88579630e+00],\n",
              "       [-7.62592530e-01,  7.32519908e+00],\n",
              "       [-1.93336328e+00,  5.70953908e+00],\n",
              "       [-9.51418426e+00, -7.24137223e+00],\n",
              "       [-9.86650380e-01,  6.87917724e+00],\n",
              "       [-9.37825374e+00, -7.94292047e+00],\n",
              "       [ 2.66345400e-01,  7.40859703e+00],\n",
              "       [-1.20385333e+01, -6.80941325e+00],\n",
              "       [-9.20343837e+00, -8.85252239e+00],\n",
              "       [ 4.10071850e-01, -3.99744881e+00],\n",
              "       [ 2.25174587e+00,  6.49587933e+00],\n",
              "       [ 7.92075370e-01, -4.42865470e+00],\n",
              "       [ 5.41860777e-01, -4.37693628e+00],\n",
              "       [-7.56585997e-01,  5.28608375e+00],\n",
              "       [-8.95266345e+00, -8.55198023e+00],\n",
              "       [-1.68442974e+00,  7.91278699e+00],\n",
              "       [ 1.48113772e+00, -3.69640708e+00],\n",
              "       [ 8.75413399e-01, -5.04555103e+00],\n",
              "       [ 3.00989843e+00,  7.05349904e+00],\n",
              "       [ 9.76962304e-01, -3.92480271e+00],\n",
              "       [-9.94328955e+00, -6.73708455e+00],\n",
              "       [-9.79380030e+00, -5.02918555e+00],\n",
              "       [-1.37939973e+00,  7.84488351e+00],\n",
              "       [-2.10521664e+00, -4.39929502e+00],\n",
              "       [ 4.29963213e-01, -5.55093054e+00],\n",
              "       [-1.01724010e+01, -8.42467961e+00],\n",
              "       [-1.40787241e+00,  8.20386947e+00],\n",
              "       [-8.86329013e+00, -6.46974160e+00],\n",
              "       [-1.17867375e+01, -7.38627486e+00],\n",
              "       [ 2.70003492e+00, -4.42959486e+00],\n",
              "       [ 3.74018799e+00,  5.86277425e+00],\n",
              "       [ 9.76970826e-01, -4.40432866e+00],\n",
              "       [ 3.53853432e+00,  8.06478420e+00],\n",
              "       [-1.36995537e-02, -4.41397335e+00],\n",
              "       [-2.21406638e+00,  6.30414753e+00],\n",
              "       [ 1.54081964e+00, -4.53702344e+00],\n",
              "       [-9.78801442e+00, -8.52678592e+00],\n",
              "       [-9.88043097e+00, -6.05108146e+00],\n",
              "       [ 1.44867217e+00, -5.53713539e+00],\n",
              "       [-1.04422633e+01, -6.74549318e+00],\n",
              "       [ 6.83084725e-01, -6.91976383e+00],\n",
              "       [-8.45020142e+00, -7.32711070e+00],\n",
              "       [-9.73089464e-01, -4.06651907e+00],\n",
              "       [ 2.84503785e-01, -3.61576523e+00],\n",
              "       [-1.31673099e+00,  6.54706372e+00],\n",
              "       [ 2.05907384e+00,  4.80547205e+00],\n",
              "       [ 3.18199713e+00,  5.33264367e+00],\n",
              "       [ 2.48573450e+00,  6.91547152e+00],\n",
              "       [-6.73223235e+00, -4.23441407e+00],\n",
              "       [ 2.16784691e+00, -6.16570792e+00],\n",
              "       [ 2.34531543e+00,  6.74289385e+00],\n",
              "       [-1.02040585e+01, -7.97090751e+00],\n",
              "       [ 3.19485113e+00,  6.26478506e+00],\n",
              "       [-1.19228021e+00,  6.14310847e+00],\n",
              "       [-9.14758038e+00, -8.76805755e+00],\n",
              "       [ 3.53993567e+00,  5.45180895e+00],\n",
              "       [-9.61724546e+00, -7.90770302e+00],\n",
              "       [ 3.42501883e+00,  6.99734348e+00],\n",
              "       [-2.72690232e+00,  6.73825748e+00],\n",
              "       [ 3.76567451e+00,  6.38497839e+00],\n",
              "       [-1.05675606e+01, -4.10339044e+00],\n",
              "       [ 2.20129016e+00,  6.70519206e+00],\n",
              "       [-7.88653676e+00, -6.82121417e+00],\n",
              "       [ 5.36321701e-01, -5.12183028e+00],\n",
              "       [ 3.57358029e+00,  8.64954183e+00],\n",
              "       [ 1.28366703e+00,  6.78013179e+00],\n",
              "       [-8.38331511e+00, -7.74858090e+00],\n",
              "       [ 3.74605338e+00,  6.15055885e+00],\n",
              "       [ 1.64692124e+00, -4.00437943e+00],\n",
              "       [-1.05324768e+01, -7.84355739e+00],\n",
              "       [-9.49791635e+00, -8.39689798e+00],\n",
              "       [ 2.89273011e-01, -5.63206350e+00],\n",
              "       [ 4.30265348e+00,  6.60570489e+00],\n",
              "       [-2.12627756e+00,  7.65870629e+00],\n",
              "       [ 1.61855217e+00, -5.73960464e+00],\n",
              "       [-3.05026421e+00,  8.94223661e+00],\n",
              "       [ 1.55822031e+00, -3.74572223e+00],\n",
              "       [ 3.26013324e+00,  6.43099946e+00],\n",
              "       [-8.62817084e+00, -8.01420585e+00],\n",
              "       [-1.74836105e+00,  5.46645575e+00],\n",
              "       [-4.88300213e-01, -5.66504681e+00],\n",
              "       [-1.21747799e+01, -7.91678822e+00],\n",
              "       [-8.34630802e+00, -8.66130645e+00],\n",
              "       [-8.36552370e-01, -5.56887330e+00],\n",
              "       [ 3.07922486e+00,  6.38042572e+00],\n",
              "       [-4.15961535e-01,  6.66600489e+00],\n",
              "       [-9.81739294e+00, -8.17137695e+00],\n",
              "       [ 2.88933650e+00,  5.93216577e+00],\n",
              "       [-1.87511018e+00,  5.62449961e+00],\n",
              "       [ 6.19210169e-01, -4.88278873e+00],\n",
              "       [ 5.08677288e+00,  6.20404737e+00],\n",
              "       [ 5.65144983e-01,  6.55222496e+00],\n",
              "       [-1.28725738e+00,  6.21060091e+00],\n",
              "       [-7.45479667e-01, -2.96189843e+00],\n",
              "       [ 2.90270640e+00, -4.98332671e+00],\n",
              "       [ 4.01803539e+00,  5.45558747e+00],\n",
              "       [-3.39121202e-01,  8.97323488e+00],\n",
              "       [-3.52483690e+00,  6.81598206e+00],\n",
              "       [ 1.89502028e+00, -5.86480291e+00],\n",
              "       [ 2.09040360e+00,  6.75543975e+00],\n",
              "       [-2.80603999e+00,  6.99066209e+00],\n",
              "       [ 1.45801414e+00,  5.95257044e+00],\n",
              "       [ 2.74467226e+00, -4.80951565e+00],\n",
              "       [-2.72740300e-01,  6.66523797e+00],\n",
              "       [ 3.91373218e+00,  5.43922903e+00],\n",
              "       [-1.05007367e+01, -8.55142948e+00],\n",
              "       [-8.75816544e+00, -6.40864861e+00],\n",
              "       [-9.48216559e+00, -7.72813495e+00],\n",
              "       [ 4.90551479e+00,  6.11766373e+00],\n",
              "       [-1.15211263e-01, -4.07510454e+00],\n",
              "       [-8.30225088e+00, -6.55572135e+00],\n",
              "       [-8.66454079e+00, -5.90508127e+00],\n",
              "       [-3.19918761e-01, -4.98235849e+00],\n",
              "       [-2.10963123e+00,  8.47168937e+00],\n",
              "       [-7.19473257e-02, -5.26054466e+00],\n",
              "       [-1.92546452e+00,  5.53701971e+00],\n",
              "       [-2.92469111e+00,  6.25476272e+00],\n",
              "       [-2.90664753e+00,  5.79835066e+00],\n",
              "       [ 1.61854360e+00, -4.88855923e+00],\n",
              "       [ 1.05261753e+00, -3.49553010e+00],\n",
              "       [ 3.39585894e+00,  7.50999675e+00],\n",
              "       [ 1.08927851e+00, -5.50265563e+00],\n",
              "       [-7.60625341e+00, -8.50822003e+00],\n",
              "       [-7.72653016e-01,  7.33138990e+00],\n",
              "       [ 7.88487590e-01, -5.32234378e+00],\n",
              "       [-8.37853170e-01, -4.06344834e+00],\n",
              "       [-7.30021881e-01,  6.45740173e+00],\n",
              "       [ 1.11746530e-01, -3.61615829e+00],\n",
              "       [ 7.65227534e-02,  7.58891330e+00],\n",
              "       [ 4.20540979e+00,  7.60887101e+00],\n",
              "       [-9.50202446e+00, -9.45345197e+00],\n",
              "       [-8.78006742e+00, -6.64156429e+00],\n",
              "       [ 3.50775812e+00,  6.70677389e+00],\n",
              "       [ 3.95479461e+00,  7.06022828e+00],\n",
              "       [-9.05224646e-01,  5.98849223e+00],\n",
              "       [ 2.27830898e+00,  6.76554973e+00],\n",
              "       [ 7.89005756e-01,  6.73031309e+00],\n",
              "       [ 3.23608770e+00,  7.69529426e+00],\n",
              "       [-1.11759409e+01, -6.93311642e+00],\n",
              "       [-6.98588694e-01, -3.52763818e+00],\n",
              "       [-1.04953315e+01, -8.38204241e+00],\n",
              "       [-1.02817702e+01, -7.10826837e+00],\n",
              "       [ 6.78603005e-01, -4.17761085e+00],\n",
              "       [-2.02407808e+00,  6.67946253e+00],\n",
              "       [-9.17624916e-01,  6.45845823e+00],\n",
              "       [ 3.99191575e+00,  6.60357995e+00],\n",
              "       [-1.04334882e+00,  7.16550989e+00],\n",
              "       [ 3.30709252e+00,  7.52045266e+00],\n",
              "       [ 3.28538514e+00,  6.34622469e+00],\n",
              "       [ 4.37872623e+00,  7.77078124e+00],\n",
              "       [-1.82947923e+00,  5.74778105e+00],\n",
              "       [-1.01908037e+01, -7.08820617e+00],\n",
              "       [ 3.43857919e+00,  6.34659863e+00],\n",
              "       [-1.05304951e+01, -7.67861298e+00],\n",
              "       [ 1.10594346e+00, -4.41906375e+00],\n",
              "       [ 6.16219697e-01, -5.27504804e+00],\n",
              "       [-1.20859872e+00,  5.21062268e+00],\n",
              "       [ 4.61164315e+00,  6.05221253e+00],\n",
              "       [-1.96557020e+00,  7.54469557e+00],\n",
              "       [ 3.21718440e+00,  5.66238231e+00],\n",
              "       [ 1.93975803e-01,  6.17337188e+00],\n",
              "       [ 5.87148931e-03, -3.18314256e+00],\n",
              "       [ 4.33614078e-01,  5.44808653e+00],\n",
              "       [-3.01723335e+00,  7.00340678e+00],\n",
              "       [ 2.84271780e+00,  9.26217307e+00],\n",
              "       [-9.42853058e+00, -8.99838025e+00],\n",
              "       [-8.51802106e+00, -9.30400873e+00],\n",
              "       [ 6.13631530e+00,  4.54419105e+00],\n",
              "       [ 1.43136075e+00,  6.68419189e+00],\n",
              "       [-1.51854685e+00,  6.35232464e+00],\n",
              "       [ 1.59909918e+00, -3.07105617e+00],\n",
              "       [-9.43762219e+00, -4.85961564e+00],\n",
              "       [-7.67430564e-01, -5.47682218e+00],\n",
              "       [ 2.14392371e+00,  7.44615522e+00],\n",
              "       [ 5.25950490e+00,  6.18091147e+00],\n",
              "       [ 4.27545710e+00,  6.27045780e+00],\n",
              "       [ 2.48708050e+00, -2.89100712e+00],\n",
              "       [ 2.97157371e+00,  7.25600900e+00],\n",
              "       [ 3.79877054e+00,  7.85178586e+00],\n",
              "       [ 2.05772110e+00, -6.12322912e+00],\n",
              "       [-1.02169699e+01, -8.99327317e+00],\n",
              "       [ 1.09049844e+00, -5.87582929e+00],\n",
              "       [-5.60643409e-01,  6.87612506e+00],\n",
              "       [-3.46772942e+00,  6.76072133e+00],\n",
              "       [-1.10001801e+01, -7.80996633e+00],\n",
              "       [ 1.89855120e+00,  6.84633761e+00],\n",
              "       [ 3.23659674e-01, -5.10078403e+00]])"
            ]
          },
          "metadata": {},
          "execution_count": 5
        }
      ]
    },
    {
      "cell_type": "code",
      "source": [
        "#비지도학습의 첫 시작(다 모른다)\n",
        "sns.scatterplot(x = data[0][:, 0], y = data[0][:, 1])"
      ],
      "metadata": {
        "colab": {
          "base_uri": "https://localhost:8080/",
          "height": 285
        },
        "id": "cokGvdYrPpyS",
        "outputId": "2df48a69-eabd-4789-ddb9-b0814344a7d4"
      },
      "execution_count": 6,
      "outputs": [
        {
          "output_type": "execute_result",
          "data": {
            "text/plain": [
              "<matplotlib.axes._subplots.AxesSubplot at 0x7f0bf7cdc0d0>"
            ]
          },
          "metadata": {},
          "execution_count": 6
        },
        {
          "output_type": "display_data",
          "data": {
            "text/plain": [
              "<Figure size 432x288 with 1 Axes>"
            ],
            "image/png": "[encoded data removed]"
          },
          "metadata": {
            "needs_background": "light"
          }
        }
      ]
    },
    {
      "cell_type": "markdown",
      "source": [
        "### KMeans Clustering Modeling"
      ],
      "metadata": {
        "id": "k3A7gkcUQtrR"
      }
    },
    {
      "cell_type": "code",
      "source": [
        "from sklearn.cluster import KMeans"
      ],
      "metadata": {
        "id": "yvdT4M_tPp0t"
      },
      "execution_count": 7,
      "outputs": []
    },
    {
      "cell_type": "code",
      "source": [
        "model = KMeans(n_clusters=4)"
      ],
      "metadata": {
        "id": "UJzg38BKQy2-"
      },
      "execution_count": 8,
      "outputs": []
    },
    {
      "cell_type": "code",
      "source": [
        "model.fit(data[0])"
      ],
      "metadata": {
        "colab": {
          "base_uri": "https://localhost:8080/"
        },
        "id": "lI0I36DLQy56",
        "outputId": "596ea434-6630-4fba-e283-aa99968c5619"
      },
      "execution_count": 9,
      "outputs": [
        {
          "output_type": "execute_result",
          "data": {
            "text/plain": [
              "KMeans(n_clusters=4)"
            ]
          },
          "metadata": {},
          "execution_count": 9
        }
      ]
    },
    {
      "cell_type": "code",
      "source": [
        "model.labels_"
      ],
      "metadata": {
        "colab": {
          "base_uri": "https://localhost:8080/"
        },
        "id": "PCNJL0KbPp27",
        "outputId": "23fc5b5c-4958-46a1-c3d9-2a18900a5cbe"
      },
      "execution_count": 10,
      "outputs": [
        {
          "output_type": "execute_result",
          "data": {
            "text/plain": [
              "array([1, 1, 1, 1, 3, 1, 0, 0, 3, 3, 2, 3, 3, 3, 3, 3, 1, 3, 1, 3, 1, 1,\n",
              "       2, 0, 2, 2, 3, 1, 3, 2, 2, 0, 2, 1, 1, 3, 2, 2, 1, 3, 1, 1, 2, 0,\n",
              "       2, 0, 2, 3, 2, 1, 1, 2, 1, 2, 1, 2, 2, 3, 0, 0, 0, 1, 2, 0, 1, 0,\n",
              "       3, 1, 0, 1, 0, 3, 0, 1, 0, 1, 2, 0, 0, 1, 0, 2, 1, 1, 2, 0, 3, 2,\n",
              "       3, 2, 0, 1, 3, 2, 1, 1, 2, 0, 3, 1, 0, 3, 2, 0, 3, 3, 2, 2, 0, 3,\n",
              "       3, 2, 0, 3, 0, 2, 3, 0, 1, 1, 1, 0, 2, 1, 1, 2, 3, 2, 3, 3, 3, 2,\n",
              "       2, 0, 2, 1, 3, 2, 2, 3, 2, 3, 0, 1, 1, 0, 0, 3, 0, 3, 0, 1, 2, 1,\n",
              "       1, 2, 3, 3, 0, 3, 0, 0, 0, 3, 1, 0, 1, 2, 2, 3, 0, 3, 0, 3, 2, 3,\n",
              "       3, 0, 1, 1, 0, 0, 3, 2, 1, 2, 0, 0, 0, 2, 0, 0, 2, 1, 2, 3, 3, 1,\n",
              "       0, 2], dtype=int32)"
            ]
          },
          "metadata": {},
          "execution_count": 10
        }
      ]
    },
    {
      "cell_type": "code",
      "source": [
        "data[1]"
      ],
      "metadata": {
        "colab": {
          "base_uri": "https://localhost:8080/"
        },
        "id": "A_1qoGNyPp5O",
        "outputId": "20392b97-917d-445d-e712-4b5974f943de"
      },
      "execution_count": 11,
      "outputs": [
        {
          "output_type": "execute_result",
          "data": {
            "text/plain": [
              "array([2, 2, 2, 2, 1, 2, 3, 3, 1, 1, 0, 1, 1, 1, 1, 1, 2, 1, 2, 1, 2, 2,\n",
              "       0, 3, 0, 0, 1, 2, 1, 0, 0, 3, 0, 2, 2, 1, 0, 0, 2, 1, 2, 2, 0, 3,\n",
              "       0, 3, 0, 1, 0, 2, 2, 0, 2, 0, 2, 0, 0, 1, 3, 3, 3, 2, 0, 3, 2, 3,\n",
              "       1, 2, 3, 2, 3, 1, 3, 2, 3, 2, 0, 3, 3, 2, 3, 0, 2, 2, 0, 3, 1, 0,\n",
              "       1, 0, 3, 2, 1, 0, 2, 2, 0, 3, 1, 2, 3, 1, 0, 3, 1, 1, 0, 0, 3, 1,\n",
              "       1, 0, 3, 1, 3, 0, 1, 3, 2, 2, 2, 3, 0, 2, 2, 0, 1, 0, 1, 1, 1, 0,\n",
              "       0, 3, 0, 2, 1, 0, 0, 1, 0, 1, 3, 2, 2, 3, 3, 1, 3, 1, 3, 2, 0, 2,\n",
              "       2, 0, 1, 1, 3, 1, 3, 3, 3, 1, 2, 3, 2, 0, 0, 1, 3, 1, 3, 1, 0, 1,\n",
              "       1, 3, 2, 2, 3, 3, 1, 0, 2, 0, 3, 3, 3, 0, 3, 3, 0, 2, 0, 1, 1, 2,\n",
              "       3, 0])"
            ]
          },
          "metadata": {},
          "execution_count": 11
        }
      ]
    },
    {
      "cell_type": "code",
      "source": [
        "#실제값으로 그리기:답안지\n",
        "sns.scatterplot(x=data[0][:,0], y=data[0][:,1], hue=data[1], palette='Set2')"
      ],
      "metadata": {
        "colab": {
          "base_uri": "https://localhost:8080/",
          "height": 285
        },
        "id": "YeFrZDtuRiXI",
        "outputId": "58e81ed8-b6c3-4688-907f-3871fe6384b2"
      },
      "execution_count": 12,
      "outputs": [
        {
          "output_type": "execute_result",
          "data": {
            "text/plain": [
              "<matplotlib.axes._subplots.AxesSubplot at 0x7f0bf56e5510>"
            ]
          },
          "metadata": {},
          "execution_count": 12
        },
        {
          "output_type": "display_data",
          "data": {
            "text/plain": [
              "<Figure size 432x288 with 1 Axes>"
            ],
            "image/png": "[encoded data removed]"
          },
          "metadata": {
            "needs_background": "light"
          }
        }
      ]
    },
    {
      "cell_type": "code",
      "source": [
        "# 모델링 결과로 그려본 scatter plot\n",
        "sns.scatterplot(x = data[0][:, 0], y = data[0][:, 1], hue = model.labels_, palette='Set2')"
      ],
      "metadata": {
        "colab": {
          "base_uri": "https://localhost:8080/",
          "height": 285
        },
        "id": "IkSZS4CIRxCl",
        "outputId": "997d38c3-bb8a-4943-ee9f-42a879ffd437"
      },
      "execution_count": 13,
      "outputs": [
        {
          "output_type": "execute_result",
          "data": {
            "text/plain": [
              "<matplotlib.axes._subplots.AxesSubplot at 0x7f0bf4e11c90>"
            ]
          },
          "metadata": {},
          "execution_count": 13
        },
        {
          "output_type": "display_data",
          "data": {
            "text/plain": [
              "<Figure size 432x288 with 1 Axes>"
            ],
            "image/png": "[encoded data removed]"
          },
          "metadata": {
            "needs_background": "light"
          }
        }
      ]
    },
    {
      "cell_type": "code",
      "source": [
        ""
      ],
      "metadata": {
        "id": "ZB_myTMlRjfm"
      },
      "execution_count": 13,
      "outputs": []
    },
    {
      "cell_type": "markdown",
      "source": [
        "### 다른 k값으로 클러스터링 해보기"
      ],
      "metadata": {
        "id": "hM3XGu26SE9y"
      }
    },
    {
      "cell_type": "code",
      "source": [
        "model = KMeans(n_clusters = 3)"
      ],
      "metadata": {
        "id": "EVQLGhkzRjh_"
      },
      "execution_count": 14,
      "outputs": []
    },
    {
      "cell_type": "code",
      "source": [
        "model.fit(data[0])"
      ],
      "metadata": {
        "colab": {
          "base_uri": "https://localhost:8080/"
        },
        "id": "-hO9QAZzRjmG",
        "outputId": "0923e9cd-330a-4f9b-c7c8-042c6fcad361"
      },
      "execution_count": 15,
      "outputs": [
        {
          "output_type": "execute_result",
          "data": {
            "text/plain": [
              "KMeans(n_clusters=3)"
            ]
          },
          "metadata": {},
          "execution_count": 15
        }
      ]
    },
    {
      "cell_type": "code",
      "source": [
        "sns.scatterplot(x=data[0][:,0], y=data[0][:, 1], hue=model.labels_, palette='Set2')"
      ],
      "metadata": {
        "colab": {
          "base_uri": "https://localhost:8080/",
          "height": 285
        },
        "id": "HswuL1XZRjof",
        "outputId": "7247ce9c-5ea4-4ae1-f041-4715554d3958"
      },
      "execution_count": 16,
      "outputs": [
        {
          "output_type": "execute_result",
          "data": {
            "text/plain": [
              "<matplotlib.axes._subplots.AxesSubplot at 0x7f0bf4dbf7d0>"
            ]
          },
          "metadata": {},
          "execution_count": 16
        },
        {
          "output_type": "display_data",
          "data": {
            "text/plain": [
              "<Figure size 432x288 with 1 Axes>"
            ],
            "image/png": "[encoded data removed]"
          },
          "metadata": {
            "needs_background": "light"
          }
        }
      ]
    },
    {
      "cell_type": "code",
      "source": [
        "model = KMeans(n_clusters = 5)\n",
        "model.fit(data[0])\n",
        "sns.scatterplot(x = data[0][:, 0], y = data[0][:, 1], hue = model.labels_, palette='Set2')"
      ],
      "metadata": {
        "colab": {
          "base_uri": "https://localhost:8080/",
          "height": 285
        },
        "id": "hB0lezDYSXBo",
        "outputId": "22aac192-2686-4f48-b4e1-28c88ef552af"
      },
      "execution_count": 17,
      "outputs": [
        {
          "output_type": "execute_result",
          "data": {
            "text/plain": [
              "<matplotlib.axes._subplots.AxesSubplot at 0x7f0bf4d39390>"
            ]
          },
          "metadata": {},
          "execution_count": 17
        },
        {
          "output_type": "display_data",
          "data": {
            "text/plain": [
              "<Figure size 432x288 with 1 Axes>"
            ],
            "image/png": "[encoded data removed]"
          },
          "metadata": {
            "needs_background": "light"
          }
        }
      ]
    },
    {
      "cell_type": "code",
      "source": [
        "model.cluster_centers_"
      ],
      "metadata": {
        "colab": {
          "base_uri": "https://localhost:8080/"
        },
        "id": "ynz5qnxiUgTQ",
        "outputId": "7ee5a827-b0b3-4d80-9df1-bd0dc5e624dc"
      },
      "execution_count": 18,
      "outputs": [
        {
          "output_type": "execute_result",
          "data": {
            "text/plain": [
              "array([[ 3.25526355,  6.63529725],\n",
              "       [-9.00925979, -5.96399219],\n",
              "       [ 0.72218432, -4.64441009],\n",
              "       [-1.3849113 ,  6.78514243],\n",
              "       [-9.89880155, -8.04428767]])"
            ]
          },
          "metadata": {},
          "execution_count": 18
        }
      ]
    },
    {
      "cell_type": "markdown",
      "source": [
        "## 최적의 K값 찾기: Elbow method"
      ],
      "metadata": {
        "id": "3DmP-PbnSc_X"
      }
    },
    {
      "cell_type": "code",
      "source": [
        "model.inertia_ #크다는 것 center끼리 거리가 멀다는 것이고, 작을 수록 좋다"
      ],
      "metadata": {
        "colab": {
          "base_uri": "https://localhost:8080/"
        },
        "id": "_j-l5C6oScNG",
        "outputId": "593f8931-3884-44ad-e66c-b411383546d7"
      },
      "execution_count": 19,
      "outputs": [
        {
          "output_type": "execute_result",
          "data": {
            "text/plain": [
              "377.0923630431554"
            ]
          },
          "metadata": {},
          "execution_count": 19
        }
      ]
    },
    {
      "cell_type": "code",
      "source": [
        "distance=[]\n",
        "\n",
        "for i in range(2,11):\n",
        "    model = KMeans(n_clusters=i)\n",
        "    model.fit(data[0])\n",
        "    distance.append(model.inertia_)"
      ],
      "metadata": {
        "id": "02_wG9avSkqO"
      },
      "execution_count": 20,
      "outputs": []
    },
    {
      "cell_type": "code",
      "source": [
        "distance"
      ],
      "metadata": {
        "colab": {
          "base_uri": "https://localhost:8080/"
        },
        "id": "l75kZmfGSt3S",
        "outputId": "f9eda489-e2ce-4a81-e0fc-063ce529a361"
      },
      "execution_count": 21,
      "outputs": [
        {
          "output_type": "execute_result",
          "data": {
            "text/plain": [
              "[3855.390858382052,\n",
              " 967.5329197924484,\n",
              " 428.69101432438094,\n",
              " 377.0923630431554,\n",
              " 334.5671756923972,\n",
              " 296.10292902072723,\n",
              " 266.5218435052459,\n",
              " 234.65459379976403,\n",
              " 207.1662838571902]"
            ]
          },
          "metadata": {},
          "execution_count": 21
        }
      ]
    },
    {
      "cell_type": "code",
      "source": [
        "sns.lineplot(x=list(range(2,11)), y=distance)\n",
        "#급격하게 꺾이는 부분이 최적의 k값"
      ],
      "metadata": {
        "colab": {
          "base_uri": "https://localhost:8080/",
          "height": 285
        },
        "id": "RWrkoah_SvKT",
        "outputId": "efbcd896-6c2b-4738-a32c-5c13eeed098d"
      },
      "execution_count": 22,
      "outputs": [
        {
          "output_type": "execute_result",
          "data": {
            "text/plain": [
              "<matplotlib.axes._subplots.AxesSubplot at 0x7f0bf4c70ad0>"
            ]
          },
          "metadata": {},
          "execution_count": 22
        },
        {
          "output_type": "display_data",
          "data": {
            "text/plain": [
              "<Figure size 432x288 with 1 Axes>"
            ],
            "image/png": "[encoded data removed]"
          },
          "metadata": {
            "needs_background": "light"
          }
        }
      ]
    },
    {
      "cell_type": "code",
      "source": [
        ""
      ],
      "metadata": {
        "id": "v4b5W5gTS2SF"
      },
      "execution_count": 22,
      "outputs": []
    },
    {
      "cell_type": "markdown",
      "source": [
        "### 실제 데이터를 활용\n"
      ],
      "metadata": {
        "id": "3YjvjIe4VoIP"
      }
    },
    {
      "cell_type": "code",
      "source": [
        "data = pd.read_csv('/content/Mall_Customers.csv')"
      ],
      "metadata": {
        "id": "F7E0jImPVqUx"
      },
      "execution_count": 23,
      "outputs": []
    },
    {
      "cell_type": "code",
      "source": [
        "data.head()"
      ],
      "metadata": {
        "colab": {
          "base_uri": "https://localhost:8080/",
          "height": 206
        },
        "id": "2m3biStkVyCr",
        "outputId": "574da83a-1104-40dd-aaa0-0a919c71a419"
      },
      "execution_count": 24,
      "outputs": [
        {
          "output_type": "execute_result",
          "data": {
            "text/plain": [
              "   CustomerID  Gender  Age  Annual Income (k$)  Spending Score (1-100)\n",
              "0           1    Male   19                  15                      39\n",
              "1           2    Male   21                  15                      81\n",
              "2           3  Female   20                  16                       6\n",
              "3           4  Female   23                  16                      77\n",
              "4           5  Female   31                  17                      40"
            ],
            "text/html": [
              "\n",
              "  <div id=\"df-7353979a-4d3d-4ef5-9099-633fd42f6654\">\n",
              "    <div class=\"colab-df-container\">\n",
              "      <div>\n",
              "<style scoped>\n",
              "    .dataframe tbody tr th:only-of-type {\n",
              "        vertical-align: middle;\n",
              "    }\n",
              "\n",
              "    .dataframe tbody tr th {\n",
              "        vertical-align: top;\n",
              "    }\n",
              "\n",
              "    .dataframe thead th {\n",
              "        text-align: right;\n",
              "    }\n",
              "</style>\n",
              "<table border=\"1\" class=\"dataframe\">\n",
              "  <thead>\n",
              "    <tr style=\"text-align: right;\">\n",
              "      <th></th>\n",
              "      <th>CustomerID</th>\n",
              "      <th>Gender</th>\n",
              "      <th>Age</th>\n",
              "      <th>Annual Income (k$)</th>\n",
              "      <th>Spending Score (1-100)</th>\n",
              "    </tr>\n",
              "  </thead>\n",
              "  <tbody>\n",
              "    <tr>\n",
              "      <th>0</th>\n",
              "      <td>1</td>\n",
              "      <td>Male</td>\n",
              "      <td>19</td>\n",
              "      <td>15</td>\n",
              "      <td>39</td>\n",
              "    </tr>\n",
              "    <tr>\n",
              "      <th>1</th>\n",
              "      <td>2</td>\n",
              "      <td>Male</td>\n",
              "      <td>21</td>\n",
              "      <td>15</td>\n",
              "      <td>81</td>\n",
              "    </tr>\n",
              "    <tr>\n",
              "      <th>2</th>\n",
              "      <td>3</td>\n",
              "      <td>Female</td>\n",
              "      <td>20</td>\n",
              "      <td>16</td>\n",
              "      <td>6</td>\n",
              "    </tr>\n",
              "    <tr>\n",
              "      <th>3</th>\n",
              "      <td>4</td>\n",
              "      <td>Female</td>\n",
              "      <td>23</td>\n",
              "      <td>16</td>\n",
              "      <td>77</td>\n",
              "    </tr>\n",
              "    <tr>\n",
              "      <th>4</th>\n",
              "      <td>5</td>\n",
              "      <td>Female</td>\n",
              "      <td>31</td>\n",
              "      <td>17</td>\n",
              "      <td>40</td>\n",
              "    </tr>\n",
              "  </tbody>\n",
              "</table>\n",
              "</div>\n",
              "      <button class=\"colab-df-convert\" onclick=\"convertToInteractive('df-7353979a-4d3d-4ef5-9099-633fd42f6654')\"\n",
              "              title=\"Convert this dataframe to an interactive table.\"\n",
              "              style=\"display:none;\">\n",
              "        \n",
              "  <svg xmlns=\"http://www.w3.org/2000/svg\" height=\"24px\"viewBox=\"0 0 24 24\"\n",
              "       width=\"24px\">\n",
              "    <path d=\"M0 0h24v24H0V0z\" fill=\"none\"/>\n",
              "    <path d=\"M18.56 5.44l.94 2.06.94-2.06 2.06-.94-2.06-.94-.94-2.06-.94 2.06-2.06.94zm-11 1L8.5 8.5l.94-2.06 2.06-.94-2.06-.94L8.5 2.5l-.94 2.06-2.06.94zm10 10l.94 2.06.94-2.06 2.06-.94-2.06-.94-.94-2.06-.94 2.06-2.06.94z\"/><path d=\"M17.41 7.96l-1.37-1.37c-.4-.4-.92-.59-1.43-.59-.52 0-1.04.2-1.43.59L10.3 9.45l-7.72 7.72c-.78.78-.78 2.05 0 2.83L4 21.41c.39.39.9.59 1.41.59.51 0 1.02-.2 1.41-.59l7.78-7.78 2.81-2.81c.8-.78.8-2.07 0-2.86zM5.41 20L4 18.59l7.72-7.72 1.47 1.35L5.41 20z\"/>\n",
              "  </svg>\n",
              "      </button>\n",
              "      \n",
              "  <style>\n",
              "    .colab-df-container {\n",
              "      display:flex;\n",
              "      flex-wrap:wrap;\n",
              "      gap: 12px;\n",
              "    }\n",
              "\n",
              "    .colab-df-convert {\n",
              "      background-color: #E8F0FE;\n",
              "      border: none;\n",
              "      border-radius: 50%;\n",
              "      cursor: pointer;\n",
              "      display: none;\n",
              "      fill: #1967D2;\n",
              "      height: 32px;\n",
              "      padding: 0 0 0 0;\n",
              "      width: 32px;\n",
              "    }\n",
              "\n",
              "    .colab-df-convert:hover {\n",
              "      background-color: #E2EBFA;\n",
              "      box-shadow: 0px 1px 2px rgba(60, 64, 67, 0.3), 0px 1px 3px 1px rgba(60, 64, 67, 0.15);\n",
              "      fill: #174EA6;\n",
              "    }\n",
              "\n",
              "    [theme=dark] .colab-df-convert {\n",
              "      background-color: #3B4455;\n",
              "      fill: #D2E3FC;\n",
              "    }\n",
              "\n",
              "    [theme=dark] .colab-df-convert:hover {\n",
              "      background-color: #434B5C;\n",
              "      box-shadow: 0px 1px 3px 1px rgba(0, 0, 0, 0.15);\n",
              "      filter: drop-shadow(0px 1px 2px rgba(0, 0, 0, 0.3));\n",
              "      fill: #FFFFFF;\n",
              "    }\n",
              "  </style>\n",
              "\n",
              "      <script>\n",
              "        const buttonEl =\n",
              "          document.querySelector('#df-7353979a-4d3d-4ef5-9099-633fd42f6654 button.colab-df-convert');\n",
              "        buttonEl.style.display =\n",
              "          google.colab.kernel.accessAllowed ? 'block' : 'none';\n",
              "\n",
              "        async function convertToInteractive(key) {\n",
              "          const element = document.querySelector('#df-7353979a-4d3d-4ef5-9099-633fd42f6654');\n",
              "          const dataTable =\n",
              "            await google.colab.kernel.invokeFunction('convertToInteractive',\n",
              "                                                     [key], {});\n",
              "          if (!dataTable) return;\n",
              "\n",
              "          const docLinkHtml = 'Like what you see? Visit the ' +\n",
              "            '<a target=\"_blank\" href=https://colab.research.google.com/notebooks/data_table.ipynb>data table notebook</a>'\n",
              "            + ' to learn more about interactive tables.';\n",
              "          element.innerHTML = '';\n",
              "          dataTable['output_type'] = 'display_data';\n",
              "          await google.colab.output.renderOutput(dataTable, element);\n",
              "          const docLink = document.createElement('div');\n",
              "          docLink.innerHTML = docLinkHtml;\n",
              "          element.appendChild(docLink);\n",
              "        }\n",
              "      </script>\n",
              "    </div>\n",
              "  </div>\n",
              "  "
            ]
          },
          "metadata": {},
          "execution_count": 24
        }
      ]
    },
    {
      "cell_type": "code",
      "source": [
        "data.info()"
      ],
      "metadata": {
        "colab": {
          "base_uri": "https://localhost:8080/"
        },
        "id": "38rie6twVy-r",
        "outputId": "d814437c-e534-451c-dd9f-2018ee0bba19"
      },
      "execution_count": 25,
      "outputs": [
        {
          "output_type": "stream",
          "name": "stdout",
          "text": [
            "<class 'pandas.core.frame.DataFrame'>\n",
            "RangeIndex: 200 entries, 0 to 199\n",
            "Data columns (total 5 columns):\n",
            " #   Column                  Non-Null Count  Dtype \n",
            "---  ------                  --------------  ----- \n",
            " 0   CustomerID              200 non-null    int64 \n",
            " 1   Gender                  200 non-null    object\n",
            " 2   Age                     200 non-null    int64 \n",
            " 3   Annual Income (k$)      200 non-null    int64 \n",
            " 4   Spending Score (1-100)  200 non-null    int64 \n",
            "dtypes: int64(4), object(1)\n",
            "memory usage: 7.9+ KB\n"
          ]
        }
      ]
    },
    {
      "cell_type": "code",
      "source": [
        "data.describe()"
      ],
      "metadata": {
        "colab": {
          "base_uri": "https://localhost:8080/",
          "height": 300
        },
        "id": "jLz5KtieV_wh",
        "outputId": "8d9667e8-7f5f-41ef-e1ea-7ca2043cb23d"
      },
      "execution_count": 26,
      "outputs": [
        {
          "output_type": "execute_result",
          "data": {
            "text/plain": [
              "       CustomerID         Age  Annual Income (k$)  Spending Score (1-100)\n",
              "count  200.000000  200.000000          200.000000              200.000000\n",
              "mean   100.500000   38.850000           60.560000               50.200000\n",
              "std     57.879185   13.969007           26.264721               25.823522\n",
              "min      1.000000   18.000000           15.000000                1.000000\n",
              "25%     50.750000   28.750000           41.500000               34.750000\n",
              "50%    100.500000   36.000000           61.500000               50.000000\n",
              "75%    150.250000   49.000000           78.000000               73.000000\n",
              "max    200.000000   70.000000          137.000000               99.000000"
            ],
            "text/html": [
              "\n",
              "  <div id=\"df-bd88054d-e94e-48d8-9801-9f291132c89f\">\n",
              "    <div class=\"colab-df-container\">\n",
              "      <div>\n",
              "<style scoped>\n",
              "    .dataframe tbody tr th:only-of-type {\n",
              "        vertical-align: middle;\n",
              "    }\n",
              "\n",
              "    .dataframe tbody tr th {\n",
              "        vertical-align: top;\n",
              "    }\n",
              "\n",
              "    .dataframe thead th {\n",
              "        text-align: right;\n",
              "    }\n",
              "</style>\n",
              "<table border=\"1\" class=\"dataframe\">\n",
              "  <thead>\n",
              "    <tr style=\"text-align: right;\">\n",
              "      <th></th>\n",
              "      <th>CustomerID</th>\n",
              "      <th>Age</th>\n",
              "      <th>Annual Income (k$)</th>\n",
              "      <th>Spending Score (1-100)</th>\n",
              "    </tr>\n",
              "  </thead>\n",
              "  <tbody>\n",
              "    <tr>\n",
              "      <th>count</th>\n",
              "      <td>200.000000</td>\n",
              "      <td>200.000000</td>\n",
              "      <td>200.000000</td>\n",
              "      <td>200.000000</td>\n",
              "    </tr>\n",
              "    <tr>\n",
              "      <th>mean</th>\n",
              "      <td>100.500000</td>\n",
              "      <td>38.850000</td>\n",
              "      <td>60.560000</td>\n",
              "      <td>50.200000</td>\n",
              "    </tr>\n",
              "    <tr>\n",
              "      <th>std</th>\n",
              "      <td>57.879185</td>\n",
              "      <td>13.969007</td>\n",
              "      <td>26.264721</td>\n",
              "      <td>25.823522</td>\n",
              "    </tr>\n",
              "    <tr>\n",
              "      <th>min</th>\n",
              "      <td>1.000000</td>\n",
              "      <td>18.000000</td>\n",
              "      <td>15.000000</td>\n",
              "      <td>1.000000</td>\n",
              "    </tr>\n",
              "    <tr>\n",
              "      <th>25%</th>\n",
              "      <td>50.750000</td>\n",
              "      <td>28.750000</td>\n",
              "      <td>41.500000</td>\n",
              "      <td>34.750000</td>\n",
              "    </tr>\n",
              "    <tr>\n",
              "      <th>50%</th>\n",
              "      <td>100.500000</td>\n",
              "      <td>36.000000</td>\n",
              "      <td>61.500000</td>\n",
              "      <td>50.000000</td>\n",
              "    </tr>\n",
              "    <tr>\n",
              "      <th>75%</th>\n",
              "      <td>150.250000</td>\n",
              "      <td>49.000000</td>\n",
              "      <td>78.000000</td>\n",
              "      <td>73.000000</td>\n",
              "    </tr>\n",
              "    <tr>\n",
              "      <th>max</th>\n",
              "      <td>200.000000</td>\n",
              "      <td>70.000000</td>\n",
              "      <td>137.000000</td>\n",
              "      <td>99.000000</td>\n",
              "    </tr>\n",
              "  </tbody>\n",
              "</table>\n",
              "</div>\n",
              "      <button class=\"colab-df-convert\" onclick=\"convertToInteractive('df-bd88054d-e94e-48d8-9801-9f291132c89f')\"\n",
              "              title=\"Convert this dataframe to an interactive table.\"\n",
              "              style=\"display:none;\">\n",
              "        \n",
              "  <svg xmlns=\"http://www.w3.org/2000/svg\" height=\"24px\"viewBox=\"0 0 24 24\"\n",
              "       width=\"24px\">\n",
              "    <path d=\"M0 0h24v24H0V0z\" fill=\"none\"/>\n",
              "    <path d=\"M18.56 5.44l.94 2.06.94-2.06 2.06-.94-2.06-.94-.94-2.06-.94 2.06-2.06.94zm-11 1L8.5 8.5l.94-2.06 2.06-.94-2.06-.94L8.5 2.5l-.94 2.06-2.06.94zm10 10l.94 2.06.94-2.06 2.06-.94-2.06-.94-.94-2.06-.94 2.06-2.06.94z\"/><path d=\"M17.41 7.96l-1.37-1.37c-.4-.4-.92-.59-1.43-.59-.52 0-1.04.2-1.43.59L10.3 9.45l-7.72 7.72c-.78.78-.78 2.05 0 2.83L4 21.41c.39.39.9.59 1.41.59.51 0 1.02-.2 1.41-.59l7.78-7.78 2.81-2.81c.8-.78.8-2.07 0-2.86zM5.41 20L4 18.59l7.72-7.72 1.47 1.35L5.41 20z\"/>\n",
              "  </svg>\n",
              "      </button>\n",
              "      \n",
              "  <style>\n",
              "    .colab-df-container {\n",
              "      display:flex;\n",
              "      flex-wrap:wrap;\n",
              "      gap: 12px;\n",
              "    }\n",
              "\n",
              "    .colab-df-convert {\n",
              "      background-color: #E8F0FE;\n",
              "      border: none;\n",
              "      border-radius: 50%;\n",
              "      cursor: pointer;\n",
              "      display: none;\n",
              "      fill: #1967D2;\n",
              "      height: 32px;\n",
              "      padding: 0 0 0 0;\n",
              "      width: 32px;\n",
              "    }\n",
              "\n",
              "    .colab-df-convert:hover {\n",
              "      background-color: #E2EBFA;\n",
              "      box-shadow: 0px 1px 2px rgba(60, 64, 67, 0.3), 0px 1px 3px 1px rgba(60, 64, 67, 0.15);\n",
              "      fill: #174EA6;\n",
              "    }\n",
              "\n",
              "    [theme=dark] .colab-df-convert {\n",
              "      background-color: #3B4455;\n",
              "      fill: #D2E3FC;\n",
              "    }\n",
              "\n",
              "    [theme=dark] .colab-df-convert:hover {\n",
              "      background-color: #434B5C;\n",
              "      box-shadow: 0px 1px 3px 1px rgba(0, 0, 0, 0.15);\n",
              "      filter: drop-shadow(0px 1px 2px rgba(0, 0, 0, 0.3));\n",
              "      fill: #FFFFFF;\n",
              "    }\n",
              "  </style>\n",
              "\n",
              "      <script>\n",
              "        const buttonEl =\n",
              "          document.querySelector('#df-bd88054d-e94e-48d8-9801-9f291132c89f button.colab-df-convert');\n",
              "        buttonEl.style.display =\n",
              "          google.colab.kernel.accessAllowed ? 'block' : 'none';\n",
              "\n",
              "        async function convertToInteractive(key) {\n",
              "          const element = document.querySelector('#df-bd88054d-e94e-48d8-9801-9f291132c89f');\n",
              "          const dataTable =\n",
              "            await google.colab.kernel.invokeFunction('convertToInteractive',\n",
              "                                                     [key], {});\n",
              "          if (!dataTable) return;\n",
              "\n",
              "          const docLinkHtml = 'Like what you see? Visit the ' +\n",
              "            '<a target=\"_blank\" href=https://colab.research.google.com/notebooks/data_table.ipynb>data table notebook</a>'\n",
              "            + ' to learn more about interactive tables.';\n",
              "          element.innerHTML = '';\n",
              "          dataTable['output_type'] = 'display_data';\n",
              "          await google.colab.output.renderOutput(dataTable, element);\n",
              "          const docLink = document.createElement('div');\n",
              "          docLink.innerHTML = docLinkHtml;\n",
              "          element.appendChild(docLink);\n",
              "        }\n",
              "      </script>\n",
              "    </div>\n",
              "  </div>\n",
              "  "
            ]
          },
          "metadata": {},
          "execution_count": 26
        }
      ]
    },
    {
      "cell_type": "markdown",
      "source": [
        "### 카테고리 변수처리"
      ],
      "metadata": {
        "id": "OdGu5_82Xcm6"
      }
    },
    {
      "cell_type": "code",
      "source": [
        "data = pd.get_dummies(data, columns=['Gender'], drop_first=True)"
      ],
      "metadata": {
        "id": "nw3AXrBQWJPo"
      },
      "execution_count": 27,
      "outputs": []
    },
    {
      "cell_type": "code",
      "source": [
        "data"
      ],
      "metadata": {
        "colab": {
          "base_uri": "https://localhost:8080/",
          "height": 424
        },
        "id": "UvVKrVXYWJSO",
        "outputId": "a2fa93c4-0cbe-4f3a-d769-60436d20989b"
      },
      "execution_count": 28,
      "outputs": [
        {
          "output_type": "execute_result",
          "data": {
            "text/plain": [
              "     CustomerID  Age  Annual Income (k$)  Spending Score (1-100)  Gender_Male\n",
              "0             1   19                  15                      39            1\n",
              "1             2   21                  15                      81            1\n",
              "2             3   20                  16                       6            0\n",
              "3             4   23                  16                      77            0\n",
              "4             5   31                  17                      40            0\n",
              "..          ...  ...                 ...                     ...          ...\n",
              "195         196   35                 120                      79            0\n",
              "196         197   45                 126                      28            0\n",
              "197         198   32                 126                      74            1\n",
              "198         199   32                 137                      18            1\n",
              "199         200   30                 137                      83            1\n",
              "\n",
              "[200 rows x 5 columns]"
            ],
            "text/html": [
              "\n",
              "  <div id=\"df-ab473293-31fb-45fd-8629-0a8efa90cce7\">\n",
              "    <div class=\"colab-df-container\">\n",
              "      <div>\n",
              "<style scoped>\n",
              "    .dataframe tbody tr th:only-of-type {\n",
              "        vertical-align: middle;\n",
              "    }\n",
              "\n",
              "    .dataframe tbody tr th {\n",
              "        vertical-align: top;\n",
              "    }\n",
              "\n",
              "    .dataframe thead th {\n",
              "        text-align: right;\n",
              "    }\n",
              "</style>\n",
              "<table border=\"1\" class=\"dataframe\">\n",
              "  <thead>\n",
              "    <tr style=\"text-align: right;\">\n",
              "      <th></th>\n",
              "      <th>CustomerID</th>\n",
              "      <th>Age</th>\n",
              "      <th>Annual Income (k$)</th>\n",
              "      <th>Spending Score (1-100)</th>\n",
              "      <th>Gender_Male</th>\n",
              "    </tr>\n",
              "  </thead>\n",
              "  <tbody>\n",
              "    <tr>\n",
              "      <th>0</th>\n",
              "      <td>1</td>\n",
              "      <td>19</td>\n",
              "      <td>15</td>\n",
              "      <td>39</td>\n",
              "      <td>1</td>\n",
              "    </tr>\n",
              "    <tr>\n",
              "      <th>1</th>\n",
              "      <td>2</td>\n",
              "      <td>21</td>\n",
              "      <td>15</td>\n",
              "      <td>81</td>\n",
              "      <td>1</td>\n",
              "    </tr>\n",
              "    <tr>\n",
              "      <th>2</th>\n",
              "      <td>3</td>\n",
              "      <td>20</td>\n",
              "      <td>16</td>\n",
              "      <td>6</td>\n",
              "      <td>0</td>\n",
              "    </tr>\n",
              "    <tr>\n",
              "      <th>3</th>\n",
              "      <td>4</td>\n",
              "      <td>23</td>\n",
              "      <td>16</td>\n",
              "      <td>77</td>\n",
              "      <td>0</td>\n",
              "    </tr>\n",
              "    <tr>\n",
              "      <th>4</th>\n",
              "      <td>5</td>\n",
              "      <td>31</td>\n",
              "      <td>17</td>\n",
              "      <td>40</td>\n",
              "      <td>0</td>\n",
              "    </tr>\n",
              "    <tr>\n",
              "      <th>...</th>\n",
              "      <td>...</td>\n",
              "      <td>...</td>\n",
              "      <td>...</td>\n",
              "      <td>...</td>\n",
              "      <td>...</td>\n",
              "    </tr>\n",
              "    <tr>\n",
              "      <th>195</th>\n",
              "      <td>196</td>\n",
              "      <td>35</td>\n",
              "      <td>120</td>\n",
              "      <td>79</td>\n",
              "      <td>0</td>\n",
              "    </tr>\n",
              "    <tr>\n",
              "      <th>196</th>\n",
              "      <td>197</td>\n",
              "      <td>45</td>\n",
              "      <td>126</td>\n",
              "      <td>28</td>\n",
              "      <td>0</td>\n",
              "    </tr>\n",
              "    <tr>\n",
              "      <th>197</th>\n",
              "      <td>198</td>\n",
              "      <td>32</td>\n",
              "      <td>126</td>\n",
              "      <td>74</td>\n",
              "      <td>1</td>\n",
              "    </tr>\n",
              "    <tr>\n",
              "      <th>198</th>\n",
              "      <td>199</td>\n",
              "      <td>32</td>\n",
              "      <td>137</td>\n",
              "      <td>18</td>\n",
              "      <td>1</td>\n",
              "    </tr>\n",
              "    <tr>\n",
              "      <th>199</th>\n",
              "      <td>200</td>\n",
              "      <td>30</td>\n",
              "      <td>137</td>\n",
              "      <td>83</td>\n",
              "      <td>1</td>\n",
              "    </tr>\n",
              "  </tbody>\n",
              "</table>\n",
              "<p>200 rows × 5 columns</p>\n",
              "</div>\n",
              "      <button class=\"colab-df-convert\" onclick=\"convertToInteractive('df-ab473293-31fb-45fd-8629-0a8efa90cce7')\"\n",
              "              title=\"Convert this dataframe to an interactive table.\"\n",
              "              style=\"display:none;\">\n",
              "        \n",
              "  <svg xmlns=\"http://www.w3.org/2000/svg\" height=\"24px\"viewBox=\"0 0 24 24\"\n",
              "       width=\"24px\">\n",
              "    <path d=\"M0 0h24v24H0V0z\" fill=\"none\"/>\n",
              "    <path d=\"M18.56 5.44l.94 2.06.94-2.06 2.06-.94-2.06-.94-.94-2.06-.94 2.06-2.06.94zm-11 1L8.5 8.5l.94-2.06 2.06-.94-2.06-.94L8.5 2.5l-.94 2.06-2.06.94zm10 10l.94 2.06.94-2.06 2.06-.94-2.06-.94-.94-2.06-.94 2.06-2.06.94z\"/><path d=\"M17.41 7.96l-1.37-1.37c-.4-.4-.92-.59-1.43-.59-.52 0-1.04.2-1.43.59L10.3 9.45l-7.72 7.72c-.78.78-.78 2.05 0 2.83L4 21.41c.39.39.9.59 1.41.59.51 0 1.02-.2 1.41-.59l7.78-7.78 2.81-2.81c.8-.78.8-2.07 0-2.86zM5.41 20L4 18.59l7.72-7.72 1.47 1.35L5.41 20z\"/>\n",
              "  </svg>\n",
              "      </button>\n",
              "      \n",
              "  <style>\n",
              "    .colab-df-container {\n",
              "      display:flex;\n",
              "      flex-wrap:wrap;\n",
              "      gap: 12px;\n",
              "    }\n",
              "\n",
              "    .colab-df-convert {\n",
              "      background-color: #E8F0FE;\n",
              "      border: none;\n",
              "      border-radius: 50%;\n",
              "      cursor: pointer;\n",
              "      display: none;\n",
              "      fill: #1967D2;\n",
              "      height: 32px;\n",
              "      padding: 0 0 0 0;\n",
              "      width: 32px;\n",
              "    }\n",
              "\n",
              "    .colab-df-convert:hover {\n",
              "      background-color: #E2EBFA;\n",
              "      box-shadow: 0px 1px 2px rgba(60, 64, 67, 0.3), 0px 1px 3px 1px rgba(60, 64, 67, 0.15);\n",
              "      fill: #174EA6;\n",
              "    }\n",
              "\n",
              "    [theme=dark] .colab-df-convert {\n",
              "      background-color: #3B4455;\n",
              "      fill: #D2E3FC;\n",
              "    }\n",
              "\n",
              "    [theme=dark] .colab-df-convert:hover {\n",
              "      background-color: #434B5C;\n",
              "      box-shadow: 0px 1px 3px 1px rgba(0, 0, 0, 0.15);\n",
              "      filter: drop-shadow(0px 1px 2px rgba(0, 0, 0, 0.3));\n",
              "      fill: #FFFFFF;\n",
              "    }\n",
              "  </style>\n",
              "\n",
              "      <script>\n",
              "        const buttonEl =\n",
              "          document.querySelector('#df-ab473293-31fb-45fd-8629-0a8efa90cce7 button.colab-df-convert');\n",
              "        buttonEl.style.display =\n",
              "          google.colab.kernel.accessAllowed ? 'block' : 'none';\n",
              "\n",
              "        async function convertToInteractive(key) {\n",
              "          const element = document.querySelector('#df-ab473293-31fb-45fd-8629-0a8efa90cce7');\n",
              "          const dataTable =\n",
              "            await google.colab.kernel.invokeFunction('convertToInteractive',\n",
              "                                                     [key], {});\n",
              "          if (!dataTable) return;\n",
              "\n",
              "          const docLinkHtml = 'Like what you see? Visit the ' +\n",
              "            '<a target=\"_blank\" href=https://colab.research.google.com/notebooks/data_table.ipynb>data table notebook</a>'\n",
              "            + ' to learn more about interactive tables.';\n",
              "          element.innerHTML = '';\n",
              "          dataTable['output_type'] = 'display_data';\n",
              "          await google.colab.output.renderOutput(dataTable, element);\n",
              "          const docLink = document.createElement('div');\n",
              "          docLink.innerHTML = docLinkHtml;\n",
              "          element.appendChild(docLink);\n",
              "        }\n",
              "      </script>\n",
              "    </div>\n",
              "  </div>\n",
              "  "
            ]
          },
          "metadata": {},
          "execution_count": 28
        }
      ]
    },
    {
      "cell_type": "markdown",
      "source": [
        "### KMeans Clustering Modeling\n"
      ],
      "metadata": {
        "id": "bnOFimulXgXr"
      }
    },
    {
      "cell_type": "code",
      "source": [
        "model = KMeans(n_clusters=3)"
      ],
      "metadata": {
        "id": "_hKuG99fWJVL"
      },
      "execution_count": 29,
      "outputs": []
    },
    {
      "cell_type": "code",
      "source": [
        "model.fit(data)"
      ],
      "metadata": {
        "colab": {
          "base_uri": "https://localhost:8080/"
        },
        "id": "UxFY_p9mXMnA",
        "outputId": "87f7a15f-d36f-4279-a252-1f58e4da8634"
      },
      "execution_count": 30,
      "outputs": [
        {
          "output_type": "execute_result",
          "data": {
            "text/plain": [
              "KMeans(n_clusters=3)"
            ]
          },
          "metadata": {},
          "execution_count": 30
        }
      ]
    },
    {
      "cell_type": "code",
      "source": [
        "model.labels_"
      ],
      "metadata": {
        "colab": {
          "base_uri": "https://localhost:8080/"
        },
        "id": "rZCEHTa4XNnu",
        "outputId": "18173f56-d623-49a2-99ba-bd9b62ca7cff"
      },
      "execution_count": 31,
      "outputs": [
        {
          "output_type": "execute_result",
          "data": {
            "text/plain": [
              "array([0, 0, 0, 0, 0, 0, 0, 0, 0, 0, 0, 0, 0, 0, 0, 0, 0, 0, 0, 0, 0, 0,\n",
              "       0, 0, 0, 0, 0, 0, 0, 0, 0, 0, 0, 0, 0, 0, 0, 0, 0, 0, 0, 0, 0, 0,\n",
              "       0, 0, 0, 0, 0, 0, 0, 0, 0, 0, 0, 0, 0, 0, 0, 0, 2, 0, 2, 2, 2, 2,\n",
              "       2, 2, 2, 2, 2, 2, 2, 2, 2, 2, 2, 2, 2, 2, 2, 2, 2, 2, 2, 2, 2, 2,\n",
              "       2, 2, 2, 2, 2, 2, 2, 2, 2, 2, 2, 2, 2, 2, 2, 2, 2, 2, 2, 2, 2, 2,\n",
              "       2, 2, 2, 2, 2, 2, 2, 2, 2, 2, 2, 2, 2, 2, 2, 2, 2, 2, 2, 2, 2, 2,\n",
              "       1, 1, 1, 1, 1, 1, 1, 1, 1, 1, 1, 1, 1, 1, 1, 1, 1, 1, 1, 1, 1, 1,\n",
              "       1, 1, 1, 1, 1, 1, 1, 1, 1, 1, 1, 1, 1, 1, 1, 1, 1, 1, 1, 1, 1, 1,\n",
              "       1, 1, 1, 1, 1, 1, 1, 1, 1, 1, 1, 1, 1, 1, 1, 1, 1, 1, 1, 1, 1, 1,\n",
              "       1, 1], dtype=int32)"
            ]
          },
          "metadata": {},
          "execution_count": 31
        }
      ]
    },
    {
      "cell_type": "markdown",
      "source": [
        "### 모델링 결과로 통계적 Summary 확인"
      ],
      "metadata": {
        "id": "LeMjjqn-X8py"
      }
    },
    {
      "cell_type": "code",
      "source": [
        "#기존 data유지\n",
        "result_df = data.copy()"
      ],
      "metadata": {
        "id": "9K7im0UxXPdG"
      },
      "execution_count": 32,
      "outputs": []
    },
    {
      "cell_type": "code",
      "source": [
        "#label컬럼에 모델링 결과값이 label할당\n",
        "result_df['label'] = model.labels_"
      ],
      "metadata": {
        "id": "KdcL3l0CYNOf"
      },
      "execution_count": 33,
      "outputs": []
    },
    {
      "cell_type": "code",
      "source": [
        "result_df"
      ],
      "metadata": {
        "colab": {
          "base_uri": "https://localhost:8080/",
          "height": 424
        },
        "id": "VGiyiym7YRR9",
        "outputId": "fffe783b-e72c-4bec-ba5e-2185c79b7c92"
      },
      "execution_count": 35,
      "outputs": [
        {
          "output_type": "execute_result",
          "data": {
            "text/plain": [
              "     CustomerID  Age  Annual Income (k$)  Spending Score (1-100)  Gender_Male  \\\n",
              "0             1   19                  15                      39            1   \n",
              "1             2   21                  15                      81            1   \n",
              "2             3   20                  16                       6            0   \n",
              "3             4   23                  16                      77            0   \n",
              "4             5   31                  17                      40            0   \n",
              "..          ...  ...                 ...                     ...          ...   \n",
              "195         196   35                 120                      79            0   \n",
              "196         197   45                 126                      28            0   \n",
              "197         198   32                 126                      74            1   \n",
              "198         199   32                 137                      18            1   \n",
              "199         200   30                 137                      83            1   \n",
              "\n",
              "     label  \n",
              "0        0  \n",
              "1        0  \n",
              "2        0  \n",
              "3        0  \n",
              "4        0  \n",
              "..     ...  \n",
              "195      1  \n",
              "196      1  \n",
              "197      1  \n",
              "198      1  \n",
              "199      1  \n",
              "\n",
              "[200 rows x 6 columns]"
            ],
            "text/html": [
              "\n",
              "  <div id=\"df-b0a6e0cb-3d1b-45ad-a0a6-d31658936d9a\">\n",
              "    <div class=\"colab-df-container\">\n",
              "      <div>\n",
              "<style scoped>\n",
              "    .dataframe tbody tr th:only-of-type {\n",
              "        vertical-align: middle;\n",
              "    }\n",
              "\n",
              "    .dataframe tbody tr th {\n",
              "        vertical-align: top;\n",
              "    }\n",
              "\n",
              "    .dataframe thead th {\n",
              "        text-align: right;\n",
              "    }\n",
              "</style>\n",
              "<table border=\"1\" class=\"dataframe\">\n",
              "  <thead>\n",
              "    <tr style=\"text-align: right;\">\n",
              "      <th></th>\n",
              "      <th>CustomerID</th>\n",
              "      <th>Age</th>\n",
              "      <th>Annual Income (k$)</th>\n",
              "      <th>Spending Score (1-100)</th>\n",
              "      <th>Gender_Male</th>\n",
              "      <th>label</th>\n",
              "    </tr>\n",
              "  </thead>\n",
              "  <tbody>\n",
              "    <tr>\n",
              "      <th>0</th>\n",
              "      <td>1</td>\n",
              "      <td>19</td>\n",
              "      <td>15</td>\n",
              "      <td>39</td>\n",
              "      <td>1</td>\n",
              "      <td>0</td>\n",
              "    </tr>\n",
              "    <tr>\n",
              "      <th>1</th>\n",
              "      <td>2</td>\n",
              "      <td>21</td>\n",
              "      <td>15</td>\n",
              "      <td>81</td>\n",
              "      <td>1</td>\n",
              "      <td>0</td>\n",
              "    </tr>\n",
              "    <tr>\n",
              "      <th>2</th>\n",
              "      <td>3</td>\n",
              "      <td>20</td>\n",
              "      <td>16</td>\n",
              "      <td>6</td>\n",
              "      <td>0</td>\n",
              "      <td>0</td>\n",
              "    </tr>\n",
              "    <tr>\n",
              "      <th>3</th>\n",
              "      <td>4</td>\n",
              "      <td>23</td>\n",
              "      <td>16</td>\n",
              "      <td>77</td>\n",
              "      <td>0</td>\n",
              "      <td>0</td>\n",
              "    </tr>\n",
              "    <tr>\n",
              "      <th>4</th>\n",
              "      <td>5</td>\n",
              "      <td>31</td>\n",
              "      <td>17</td>\n",
              "      <td>40</td>\n",
              "      <td>0</td>\n",
              "      <td>0</td>\n",
              "    </tr>\n",
              "    <tr>\n",
              "      <th>...</th>\n",
              "      <td>...</td>\n",
              "      <td>...</td>\n",
              "      <td>...</td>\n",
              "      <td>...</td>\n",
              "      <td>...</td>\n",
              "      <td>...</td>\n",
              "    </tr>\n",
              "    <tr>\n",
              "      <th>195</th>\n",
              "      <td>196</td>\n",
              "      <td>35</td>\n",
              "      <td>120</td>\n",
              "      <td>79</td>\n",
              "      <td>0</td>\n",
              "      <td>1</td>\n",
              "    </tr>\n",
              "    <tr>\n",
              "      <th>196</th>\n",
              "      <td>197</td>\n",
              "      <td>45</td>\n",
              "      <td>126</td>\n",
              "      <td>28</td>\n",
              "      <td>0</td>\n",
              "      <td>1</td>\n",
              "    </tr>\n",
              "    <tr>\n",
              "      <th>197</th>\n",
              "      <td>198</td>\n",
              "      <td>32</td>\n",
              "      <td>126</td>\n",
              "      <td>74</td>\n",
              "      <td>1</td>\n",
              "      <td>1</td>\n",
              "    </tr>\n",
              "    <tr>\n",
              "      <th>198</th>\n",
              "      <td>199</td>\n",
              "      <td>32</td>\n",
              "      <td>137</td>\n",
              "      <td>18</td>\n",
              "      <td>1</td>\n",
              "      <td>1</td>\n",
              "    </tr>\n",
              "    <tr>\n",
              "      <th>199</th>\n",
              "      <td>200</td>\n",
              "      <td>30</td>\n",
              "      <td>137</td>\n",
              "      <td>83</td>\n",
              "      <td>1</td>\n",
              "      <td>1</td>\n",
              "    </tr>\n",
              "  </tbody>\n",
              "</table>\n",
              "<p>200 rows × 6 columns</p>\n",
              "</div>\n",
              "      <button class=\"colab-df-convert\" onclick=\"convertToInteractive('df-b0a6e0cb-3d1b-45ad-a0a6-d31658936d9a')\"\n",
              "              title=\"Convert this dataframe to an interactive table.\"\n",
              "              style=\"display:none;\">\n",
              "        \n",
              "  <svg xmlns=\"http://www.w3.org/2000/svg\" height=\"24px\"viewBox=\"0 0 24 24\"\n",
              "       width=\"24px\">\n",
              "    <path d=\"M0 0h24v24H0V0z\" fill=\"none\"/>\n",
              "    <path d=\"M18.56 5.44l.94 2.06.94-2.06 2.06-.94-2.06-.94-.94-2.06-.94 2.06-2.06.94zm-11 1L8.5 8.5l.94-2.06 2.06-.94-2.06-.94L8.5 2.5l-.94 2.06-2.06.94zm10 10l.94 2.06.94-2.06 2.06-.94-2.06-.94-.94-2.06-.94 2.06-2.06.94z\"/><path d=\"M17.41 7.96l-1.37-1.37c-.4-.4-.92-.59-1.43-.59-.52 0-1.04.2-1.43.59L10.3 9.45l-7.72 7.72c-.78.78-.78 2.05 0 2.83L4 21.41c.39.39.9.59 1.41.59.51 0 1.02-.2 1.41-.59l7.78-7.78 2.81-2.81c.8-.78.8-2.07 0-2.86zM5.41 20L4 18.59l7.72-7.72 1.47 1.35L5.41 20z\"/>\n",
              "  </svg>\n",
              "      </button>\n",
              "      \n",
              "  <style>\n",
              "    .colab-df-container {\n",
              "      display:flex;\n",
              "      flex-wrap:wrap;\n",
              "      gap: 12px;\n",
              "    }\n",
              "\n",
              "    .colab-df-convert {\n",
              "      background-color: #E8F0FE;\n",
              "      border: none;\n",
              "      border-radius: 50%;\n",
              "      cursor: pointer;\n",
              "      display: none;\n",
              "      fill: #1967D2;\n",
              "      height: 32px;\n",
              "      padding: 0 0 0 0;\n",
              "      width: 32px;\n",
              "    }\n",
              "\n",
              "    .colab-df-convert:hover {\n",
              "      background-color: #E2EBFA;\n",
              "      box-shadow: 0px 1px 2px rgba(60, 64, 67, 0.3), 0px 1px 3px 1px rgba(60, 64, 67, 0.15);\n",
              "      fill: #174EA6;\n",
              "    }\n",
              "\n",
              "    [theme=dark] .colab-df-convert {\n",
              "      background-color: #3B4455;\n",
              "      fill: #D2E3FC;\n",
              "    }\n",
              "\n",
              "    [theme=dark] .colab-df-convert:hover {\n",
              "      background-color: #434B5C;\n",
              "      box-shadow: 0px 1px 3px 1px rgba(0, 0, 0, 0.15);\n",
              "      filter: drop-shadow(0px 1px 2px rgba(0, 0, 0, 0.3));\n",
              "      fill: #FFFFFF;\n",
              "    }\n",
              "  </style>\n",
              "\n",
              "      <script>\n",
              "        const buttonEl =\n",
              "          document.querySelector('#df-b0a6e0cb-3d1b-45ad-a0a6-d31658936d9a button.colab-df-convert');\n",
              "        buttonEl.style.display =\n",
              "          google.colab.kernel.accessAllowed ? 'block' : 'none';\n",
              "\n",
              "        async function convertToInteractive(key) {\n",
              "          const element = document.querySelector('#df-b0a6e0cb-3d1b-45ad-a0a6-d31658936d9a');\n",
              "          const dataTable =\n",
              "            await google.colab.kernel.invokeFunction('convertToInteractive',\n",
              "                                                     [key], {});\n",
              "          if (!dataTable) return;\n",
              "\n",
              "          const docLinkHtml = 'Like what you see? Visit the ' +\n",
              "            '<a target=\"_blank\" href=https://colab.research.google.com/notebooks/data_table.ipynb>data table notebook</a>'\n",
              "            + ' to learn more about interactive tables.';\n",
              "          element.innerHTML = '';\n",
              "          dataTable['output_type'] = 'display_data';\n",
              "          await google.colab.output.renderOutput(dataTable, element);\n",
              "          const docLink = document.createElement('div');\n",
              "          docLink.innerHTML = docLinkHtml;\n",
              "          element.appendChild(docLink);\n",
              "        }\n",
              "      </script>\n",
              "    </div>\n",
              "  </div>\n",
              "  "
            ]
          },
          "metadata": {},
          "execution_count": 35
        }
      ]
    },
    {
      "cell_type": "code",
      "source": [
        "#Groupby를 활용하여 각 클러스터별 통계적 차이/특징 확인\n",
        "result_df.groupby('label').mean()"
      ],
      "metadata": {
        "colab": {
          "base_uri": "https://localhost:8080/",
          "height": 175
        },
        "id": "ioRK0EbxYR6T",
        "outputId": "045adf6f-eb36-4a84-f442-38bd0d4ffb61"
      },
      "execution_count": 36,
      "outputs": [
        {
          "output_type": "execute_result",
          "data": {
            "text/plain": [
              "       CustomerID        Age  Annual Income (k$)  Spending Score (1-100)  \\\n",
              "label                                                                      \n",
              "0       31.016393  36.918033           30.360656               49.737705   \n",
              "1      166.500000  36.044118           88.911765               50.205882   \n",
              "2       96.985915  43.197183           59.352113               50.591549   \n",
              "\n",
              "       Gender_Male  \n",
              "label               \n",
              "0         0.393443  \n",
              "1         0.455882  \n",
              "2         0.464789  "
            ],
            "text/html": [
              "\n",
              "  <div id=\"df-1487e767-f82a-40b0-a8d0-6789b62f4f69\">\n",
              "    <div class=\"colab-df-container\">\n",
              "      <div>\n",
              "<style scoped>\n",
              "    .dataframe tbody tr th:only-of-type {\n",
              "        vertical-align: middle;\n",
              "    }\n",
              "\n",
              "    .dataframe tbody tr th {\n",
              "        vertical-align: top;\n",
              "    }\n",
              "\n",
              "    .dataframe thead th {\n",
              "        text-align: right;\n",
              "    }\n",
              "</style>\n",
              "<table border=\"1\" class=\"dataframe\">\n",
              "  <thead>\n",
              "    <tr style=\"text-align: right;\">\n",
              "      <th></th>\n",
              "      <th>CustomerID</th>\n",
              "      <th>Age</th>\n",
              "      <th>Annual Income (k$)</th>\n",
              "      <th>Spending Score (1-100)</th>\n",
              "      <th>Gender_Male</th>\n",
              "    </tr>\n",
              "    <tr>\n",
              "      <th>label</th>\n",
              "      <th></th>\n",
              "      <th></th>\n",
              "      <th></th>\n",
              "      <th></th>\n",
              "      <th></th>\n",
              "    </tr>\n",
              "  </thead>\n",
              "  <tbody>\n",
              "    <tr>\n",
              "      <th>0</th>\n",
              "      <td>31.016393</td>\n",
              "      <td>36.918033</td>\n",
              "      <td>30.360656</td>\n",
              "      <td>49.737705</td>\n",
              "      <td>0.393443</td>\n",
              "    </tr>\n",
              "    <tr>\n",
              "      <th>1</th>\n",
              "      <td>166.500000</td>\n",
              "      <td>36.044118</td>\n",
              "      <td>88.911765</td>\n",
              "      <td>50.205882</td>\n",
              "      <td>0.455882</td>\n",
              "    </tr>\n",
              "    <tr>\n",
              "      <th>2</th>\n",
              "      <td>96.985915</td>\n",
              "      <td>43.197183</td>\n",
              "      <td>59.352113</td>\n",
              "      <td>50.591549</td>\n",
              "      <td>0.464789</td>\n",
              "    </tr>\n",
              "  </tbody>\n",
              "</table>\n",
              "</div>\n",
              "      <button class=\"colab-df-convert\" onclick=\"convertToInteractive('df-1487e767-f82a-40b0-a8d0-6789b62f4f69')\"\n",
              "              title=\"Convert this dataframe to an interactive table.\"\n",
              "              style=\"display:none;\">\n",
              "        \n",
              "  <svg xmlns=\"http://www.w3.org/2000/svg\" height=\"24px\"viewBox=\"0 0 24 24\"\n",
              "       width=\"24px\">\n",
              "    <path d=\"M0 0h24v24H0V0z\" fill=\"none\"/>\n",
              "    <path d=\"M18.56 5.44l.94 2.06.94-2.06 2.06-.94-2.06-.94-.94-2.06-.94 2.06-2.06.94zm-11 1L8.5 8.5l.94-2.06 2.06-.94-2.06-.94L8.5 2.5l-.94 2.06-2.06.94zm10 10l.94 2.06.94-2.06 2.06-.94-2.06-.94-.94-2.06-.94 2.06-2.06.94z\"/><path d=\"M17.41 7.96l-1.37-1.37c-.4-.4-.92-.59-1.43-.59-.52 0-1.04.2-1.43.59L10.3 9.45l-7.72 7.72c-.78.78-.78 2.05 0 2.83L4 21.41c.39.39.9.59 1.41.59.51 0 1.02-.2 1.41-.59l7.78-7.78 2.81-2.81c.8-.78.8-2.07 0-2.86zM5.41 20L4 18.59l7.72-7.72 1.47 1.35L5.41 20z\"/>\n",
              "  </svg>\n",
              "      </button>\n",
              "      \n",
              "  <style>\n",
              "    .colab-df-container {\n",
              "      display:flex;\n",
              "      flex-wrap:wrap;\n",
              "      gap: 12px;\n",
              "    }\n",
              "\n",
              "    .colab-df-convert {\n",
              "      background-color: #E8F0FE;\n",
              "      border: none;\n",
              "      border-radius: 50%;\n",
              "      cursor: pointer;\n",
              "      display: none;\n",
              "      fill: #1967D2;\n",
              "      height: 32px;\n",
              "      padding: 0 0 0 0;\n",
              "      width: 32px;\n",
              "    }\n",
              "\n",
              "    .colab-df-convert:hover {\n",
              "      background-color: #E2EBFA;\n",
              "      box-shadow: 0px 1px 2px rgba(60, 64, 67, 0.3), 0px 1px 3px 1px rgba(60, 64, 67, 0.15);\n",
              "      fill: #174EA6;\n",
              "    }\n",
              "\n",
              "    [theme=dark] .colab-df-convert {\n",
              "      background-color: #3B4455;\n",
              "      fill: #D2E3FC;\n",
              "    }\n",
              "\n",
              "    [theme=dark] .colab-df-convert:hover {\n",
              "      background-color: #434B5C;\n",
              "      box-shadow: 0px 1px 3px 1px rgba(0, 0, 0, 0.15);\n",
              "      filter: drop-shadow(0px 1px 2px rgba(0, 0, 0, 0.3));\n",
              "      fill: #FFFFFF;\n",
              "    }\n",
              "  </style>\n",
              "\n",
              "      <script>\n",
              "        const buttonEl =\n",
              "          document.querySelector('#df-1487e767-f82a-40b0-a8d0-6789b62f4f69 button.colab-df-convert');\n",
              "        buttonEl.style.display =\n",
              "          google.colab.kernel.accessAllowed ? 'block' : 'none';\n",
              "\n",
              "        async function convertToInteractive(key) {\n",
              "          const element = document.querySelector('#df-1487e767-f82a-40b0-a8d0-6789b62f4f69');\n",
              "          const dataTable =\n",
              "            await google.colab.kernel.invokeFunction('convertToInteractive',\n",
              "                                                     [key], {});\n",
              "          if (!dataTable) return;\n",
              "\n",
              "          const docLinkHtml = 'Like what you see? Visit the ' +\n",
              "            '<a target=\"_blank\" href=https://colab.research.google.com/notebooks/data_table.ipynb>data table notebook</a>'\n",
              "            + ' to learn more about interactive tables.';\n",
              "          element.innerHTML = '';\n",
              "          dataTable['output_type'] = 'display_data';\n",
              "          await google.colab.output.renderOutput(dataTable, element);\n",
              "          const docLink = document.createElement('div');\n",
              "          docLink.innerHTML = docLinkHtml;\n",
              "          element.appendChild(docLink);\n",
              "        }\n",
              "      </script>\n",
              "    </div>\n",
              "  </div>\n",
              "  "
            ]
          },
          "metadata": {},
          "execution_count": 36
        }
      ]
    },
    {
      "cell_type": "code",
      "source": [
        "#Cluster별 관측치 갯수 확인\n",
        "result_df['label'].value_counts()\n"
      ],
      "metadata": {
        "colab": {
          "base_uri": "https://localhost:8080/"
        },
        "id": "cqG6nXc5YbB_",
        "outputId": "135209d5-a9ba-4133-faba-3d3ac99753b2"
      },
      "execution_count": 37,
      "outputs": [
        {
          "output_type": "execute_result",
          "data": {
            "text/plain": [
              "2    71\n",
              "1    68\n",
              "0    61\n",
              "Name: label, dtype: int64"
            ]
          },
          "metadata": {},
          "execution_count": 37
        }
      ]
    },
    {
      "cell_type": "code",
      "source": [
        ""
      ],
      "metadata": {
        "id": "z1maR03oYewx"
      },
      "execution_count": null,
      "outputs": []
    },
    {
      "cell_type": "markdown",
      "source": [
        "### Elbow Method"
      ],
      "metadata": {
        "id": "3ehpEWCEYj8X"
      }
    },
    {
      "cell_type": "code",
      "source": [
        "distance = []\n",
        "\n",
        "for i in range(2,11):\n",
        "    model = KMeans(n_clusters = i)\n",
        "    model.fit(data)\n",
        "    distance.append(model.inertia_)"
      ],
      "metadata": {
        "id": "-D0w62InYljF"
      },
      "execution_count": 38,
      "outputs": []
    },
    {
      "cell_type": "code",
      "source": [
        "distance"
      ],
      "metadata": {
        "colab": {
          "base_uri": "https://localhost:8080/"
        },
        "id": "N7ZYFKD9Ynw1",
        "outputId": "166b945c-96f3-40ad-eca7-dabb75adc1c9"
      },
      "execution_count": 39,
      "outputs": [
        {
          "output_type": "execute_result",
          "data": {
            "text/plain": [
              "[387065.71377137717,\n",
              " 271396.5629660315,\n",
              " 195401.19855991466,\n",
              " 157620.9714797914,\n",
              " 122601.93746732261,\n",
              " 103233.01724386725,\n",
              " 86053.67444777445,\n",
              " 76938.97565600359,\n",
              " 69058.29637689366]"
            ]
          },
          "metadata": {},
          "execution_count": 39
        }
      ]
    },
    {
      "cell_type": "code",
      "source": [
        "sns.lineplot(x=list(range(2,11)), y=distance)"
      ],
      "metadata": {
        "colab": {
          "base_uri": "https://localhost:8080/",
          "height": 285
        },
        "id": "TZNL4wO7Yo8u",
        "outputId": "12c1268d-2eaa-404e-84b7-d61bf6b48b4b"
      },
      "execution_count": 40,
      "outputs": [
        {
          "output_type": "execute_result",
          "data": {
            "text/plain": [
              "<matplotlib.axes._subplots.AxesSubplot at 0x7f0bf24e90d0>"
            ]
          },
          "metadata": {},
          "execution_count": 40
        },
        {
          "output_type": "display_data",
          "data": {
            "text/plain": [
              "<Figure size 432x288 with 1 Axes>"
            ],
            "image/png": "[encoded data removed]"
          },
          "metadata": {
            "needs_background": "light"
          }
        }
      ]
    },
    {
      "cell_type": "code",
      "source": [
        ""
      ],
      "metadata": {
        "id": "fX4znjFcYqhY"
      },
      "execution_count": null,
      "outputs": []
    },
    {
      "cell_type": "markdown",
      "source": [
        "### Silhoutte Score(Elbow Method로 최적값 찾기 어려울 때)"
      ],
      "metadata": {
        "id": "WRSJLRtXYq-l"
      }
    },
    {
      "cell_type": "code",
      "source": [
        "from sklearn.metrics import silhouette_score"
      ],
      "metadata": {
        "id": "tWvUpJGjZMxj"
      },
      "execution_count": 41,
      "outputs": []
    },
    {
      "cell_type": "code",
      "source": [
        "silhouette_score(data, model.labels_)\n",
        "#값이 클수록 좋음"
      ],
      "metadata": {
        "colab": {
          "base_uri": "https://localhost:8080/"
        },
        "id": "Ib8q1AK_Z9Wa",
        "outputId": "aa04407d-6481-4cc4-d0de-2526b37e3433"
      },
      "execution_count": 42,
      "outputs": [
        {
          "output_type": "execute_result",
          "data": {
            "text/plain": [
              "0.39175914775151327"
            ]
          },
          "metadata": {},
          "execution_count": 42
        }
      ]
    },
    {
      "cell_type": "code",
      "source": [
        "sil = []\n",
        "\n",
        "for i in range(2,11):\n",
        "    model = KMeans(n_clusters=i)\n",
        "    model.fit(data)\n",
        "    sil.append(silhouette_score(data, model.labels_))"
      ],
      "metadata": {
        "id": "E-qEAQO9aAcK"
      },
      "execution_count": 45,
      "outputs": []
    },
    {
      "cell_type": "code",
      "source": [
        "sil"
      ],
      "metadata": {
        "colab": {
          "base_uri": "https://localhost:8080/"
        },
        "id": "o1rom-j1aLDX",
        "outputId": "e649534b-a54e-44b6-8bfd-b720ee7b4519"
      },
      "execution_count": 46,
      "outputs": [
        {
          "output_type": "execute_result",
          "data": {
            "text/plain": [
              "[0.4793049017423563,\n",
              " 0.3749762788649241,\n",
              " 0.42245261332521894,\n",
              " 0.42513091704770617,\n",
              " 0.4102937178956943,\n",
              " 0.4073747089960844,\n",
              " 0.405681395067562,\n",
              " 0.38774384367742326,\n",
              " 0.3908356865308249]"
            ]
          },
          "metadata": {},
          "execution_count": 46
        }
      ]
    },
    {
      "cell_type": "code",
      "source": [
        "sns.lineplot(x=list(range(2,11)), y=sil)"
      ],
      "metadata": {
        "colab": {
          "base_uri": "https://localhost:8080/",
          "height": 283
        },
        "id": "GeSVciegaLdd",
        "outputId": "6bf7c8d1-1c54-4a2b-f1e6-c948e61b09d7"
      },
      "execution_count": 47,
      "outputs": [
        {
          "output_type": "execute_result",
          "data": {
            "text/plain": [
              "<matplotlib.axes._subplots.AxesSubplot at 0x7f0bf245b6d0>"
            ]
          },
          "metadata": {},
          "execution_count": 47
        },
        {
          "output_type": "display_data",
          "data": {
            "text/plain": [
              "<Figure size 432x288 with 1 Axes>"
            ],
            "image/png": "[encoded data removed]"
          },
          "metadata": {
            "needs_background": "light"
          }
        }
      ]
    },
    {
      "cell_type": "code",
      "source": [
        ""
      ],
      "metadata": {
        "id": "SzoSB0MlaSv9"
      },
      "execution_count": null,
      "outputs": []
    },
    {
      "cell_type": "markdown",
      "source": [
        "### 최적의 k값으로 다시 모델링"
      ],
      "metadata": {
        "id": "wM6XITabaUnk"
      }
    },
    {
      "cell_type": "code",
      "source": [
        "model = KMeans(n_clusters = 6)\n",
        "model.fit(data)\n",
        "data['label'] = model.labels_"
      ],
      "metadata": {
        "id": "OJYCYcRhaWIi"
      },
      "execution_count": 52,
      "outputs": []
    },
    {
      "cell_type": "code",
      "source": [
        "#통계적 summary\n",
        "data.groupby('label').mean()\n"
      ],
      "metadata": {
        "colab": {
          "base_uri": "https://localhost:8080/",
          "height": 269
        },
        "id": "704FvmGVaeEB",
        "outputId": "a3843566-c9d6-4d47-a722-73ed499613e0"
      },
      "execution_count": 53,
      "outputs": [
        {
          "output_type": "execute_result",
          "data": {
            "text/plain": [
              "       CustomerID        Age  Annual Income (k$)  Spending Score (1-100)  \\\n",
              "label                                                                      \n",
              "0      166.823529  32.264706           88.882353               82.764706   \n",
              "1       68.093023  46.232558           48.604651               50.651163   \n",
              "2      111.418605  38.186047           64.488372               50.930233   \n",
              "3       23.000000  45.217391           26.304348               20.913043   \n",
              "4      165.529412  41.647059           88.735294               16.764706   \n",
              "5       24.000000  25.521739           26.304348               78.565217   \n",
              "\n",
              "       Gender_Male  \n",
              "label               \n",
              "0         0.441176  \n",
              "1         0.418605  \n",
              "2         0.418605  \n",
              "3         0.391304  \n",
              "4         0.558824  \n",
              "5         0.391304  "
            ],
            "text/html": [
              "\n",
              "  <div id=\"df-bd766498-2e52-4cde-9803-bd18471ca256\">\n",
              "    <div class=\"colab-df-container\">\n",
              "      <div>\n",
              "<style scoped>\n",
              "    .dataframe tbody tr th:only-of-type {\n",
              "        vertical-align: middle;\n",
              "    }\n",
              "\n",
              "    .dataframe tbody tr th {\n",
              "        vertical-align: top;\n",
              "    }\n",
              "\n",
              "    .dataframe thead th {\n",
              "        text-align: right;\n",
              "    }\n",
              "</style>\n",
              "<table border=\"1\" class=\"dataframe\">\n",
              "  <thead>\n",
              "    <tr style=\"text-align: right;\">\n",
              "      <th></th>\n",
              "      <th>CustomerID</th>\n",
              "      <th>Age</th>\n",
              "      <th>Annual Income (k$)</th>\n",
              "      <th>Spending Score (1-100)</th>\n",
              "      <th>Gender_Male</th>\n",
              "    </tr>\n",
              "    <tr>\n",
              "      <th>label</th>\n",
              "      <th></th>\n",
              "      <th></th>\n",
              "      <th></th>\n",
              "      <th></th>\n",
              "      <th></th>\n",
              "    </tr>\n",
              "  </thead>\n",
              "  <tbody>\n",
              "    <tr>\n",
              "      <th>0</th>\n",
              "      <td>166.823529</td>\n",
              "      <td>32.264706</td>\n",
              "      <td>88.882353</td>\n",
              "      <td>82.764706</td>\n",
              "      <td>0.441176</td>\n",
              "    </tr>\n",
              "    <tr>\n",
              "      <th>1</th>\n",
              "      <td>68.093023</td>\n",
              "      <td>46.232558</td>\n",
              "      <td>48.604651</td>\n",
              "      <td>50.651163</td>\n",
              "      <td>0.418605</td>\n",
              "    </tr>\n",
              "    <tr>\n",
              "      <th>2</th>\n",
              "      <td>111.418605</td>\n",
              "      <td>38.186047</td>\n",
              "      <td>64.488372</td>\n",
              "      <td>50.930233</td>\n",
              "      <td>0.418605</td>\n",
              "    </tr>\n",
              "    <tr>\n",
              "      <th>3</th>\n",
              "      <td>23.000000</td>\n",
              "      <td>45.217391</td>\n",
              "      <td>26.304348</td>\n",
              "      <td>20.913043</td>\n",
              "      <td>0.391304</td>\n",
              "    </tr>\n",
              "    <tr>\n",
              "      <th>4</th>\n",
              "      <td>165.529412</td>\n",
              "      <td>41.647059</td>\n",
              "      <td>88.735294</td>\n",
              "      <td>16.764706</td>\n",
              "      <td>0.558824</td>\n",
              "    </tr>\n",
              "    <tr>\n",
              "      <th>5</th>\n",
              "      <td>24.000000</td>\n",
              "      <td>25.521739</td>\n",
              "      <td>26.304348</td>\n",
              "      <td>78.565217</td>\n",
              "      <td>0.391304</td>\n",
              "    </tr>\n",
              "  </tbody>\n",
              "</table>\n",
              "</div>\n",
              "      <button class=\"colab-df-convert\" onclick=\"convertToInteractive('df-bd766498-2e52-4cde-9803-bd18471ca256')\"\n",
              "              title=\"Convert this dataframe to an interactive table.\"\n",
              "              style=\"display:none;\">\n",
              "        \n",
              "  <svg xmlns=\"http://www.w3.org/2000/svg\" height=\"24px\"viewBox=\"0 0 24 24\"\n",
              "       width=\"24px\">\n",
              "    <path d=\"M0 0h24v24H0V0z\" fill=\"none\"/>\n",
              "    <path d=\"M18.56 5.44l.94 2.06.94-2.06 2.06-.94-2.06-.94-.94-2.06-.94 2.06-2.06.94zm-11 1L8.5 8.5l.94-2.06 2.06-.94-2.06-.94L8.5 2.5l-.94 2.06-2.06.94zm10 10l.94 2.06.94-2.06 2.06-.94-2.06-.94-.94-2.06-.94 2.06-2.06.94z\"/><path d=\"M17.41 7.96l-1.37-1.37c-.4-.4-.92-.59-1.43-.59-.52 0-1.04.2-1.43.59L10.3 9.45l-7.72 7.72c-.78.78-.78 2.05 0 2.83L4 21.41c.39.39.9.59 1.41.59.51 0 1.02-.2 1.41-.59l7.78-7.78 2.81-2.81c.8-.78.8-2.07 0-2.86zM5.41 20L4 18.59l7.72-7.72 1.47 1.35L5.41 20z\"/>\n",
              "  </svg>\n",
              "      </button>\n",
              "      \n",
              "  <style>\n",
              "    .colab-df-container {\n",
              "      display:flex;\n",
              "      flex-wrap:wrap;\n",
              "      gap: 12px;\n",
              "    }\n",
              "\n",
              "    .colab-df-convert {\n",
              "      background-color: #E8F0FE;\n",
              "      border: none;\n",
              "      border-radius: 50%;\n",
              "      cursor: pointer;\n",
              "      display: none;\n",
              "      fill: #1967D2;\n",
              "      height: 32px;\n",
              "      padding: 0 0 0 0;\n",
              "      width: 32px;\n",
              "    }\n",
              "\n",
              "    .colab-df-convert:hover {\n",
              "      background-color: #E2EBFA;\n",
              "      box-shadow: 0px 1px 2px rgba(60, 64, 67, 0.3), 0px 1px 3px 1px rgba(60, 64, 67, 0.15);\n",
              "      fill: #174EA6;\n",
              "    }\n",
              "\n",
              "    [theme=dark] .colab-df-convert {\n",
              "      background-color: #3B4455;\n",
              "      fill: #D2E3FC;\n",
              "    }\n",
              "\n",
              "    [theme=dark] .colab-df-convert:hover {\n",
              "      background-color: #434B5C;\n",
              "      box-shadow: 0px 1px 3px 1px rgba(0, 0, 0, 0.15);\n",
              "      filter: drop-shadow(0px 1px 2px rgba(0, 0, 0, 0.3));\n",
              "      fill: #FFFFFF;\n",
              "    }\n",
              "  </style>\n",
              "\n",
              "      <script>\n",
              "        const buttonEl =\n",
              "          document.querySelector('#df-bd766498-2e52-4cde-9803-bd18471ca256 button.colab-df-convert');\n",
              "        buttonEl.style.display =\n",
              "          google.colab.kernel.accessAllowed ? 'block' : 'none';\n",
              "\n",
              "        async function convertToInteractive(key) {\n",
              "          const element = document.querySelector('#df-bd766498-2e52-4cde-9803-bd18471ca256');\n",
              "          const dataTable =\n",
              "            await google.colab.kernel.invokeFunction('convertToInteractive',\n",
              "                                                     [key], {});\n",
              "          if (!dataTable) return;\n",
              "\n",
              "          const docLinkHtml = 'Like what you see? Visit the ' +\n",
              "            '<a target=\"_blank\" href=https://colab.research.google.com/notebooks/data_table.ipynb>data table notebook</a>'\n",
              "            + ' to learn more about interactive tables.';\n",
              "          element.innerHTML = '';\n",
              "          dataTable['output_type'] = 'display_data';\n",
              "          await google.colab.output.renderOutput(dataTable, element);\n",
              "          const docLink = document.createElement('div');\n",
              "          docLink.innerHTML = docLinkHtml;\n",
              "          element.appendChild(docLink);\n",
              "        }\n",
              "      </script>\n",
              "    </div>\n",
              "  </div>\n",
              "  "
            ]
          },
          "metadata": {},
          "execution_count": 53
        }
      ]
    },
    {
      "cell_type": "code",
      "source": [
        ""
      ],
      "metadata": {
        "id": "9ZqwcHWfamgU"
      },
      "execution_count": null,
      "outputs": []
    },
    {
      "cell_type": "markdown",
      "source": [
        "#### Box plot으로 각 변수 특성 차이 보기"
      ],
      "metadata": {
        "id": "iUxzkVaqbe_M"
      }
    },
    {
      "cell_type": "code",
      "source": [
        "sns.boxplot(x='label', y='Age', data=data)"
      ],
      "metadata": {
        "colab": {
          "base_uri": "https://localhost:8080/",
          "height": 297
        },
        "id": "SLfUsDwgbmTn",
        "outputId": "e5a7eca1-441a-4ddc-9023-dec15116ce44"
      },
      "execution_count": 54,
      "outputs": [
        {
          "output_type": "execute_result",
          "data": {
            "text/plain": [
              "<matplotlib.axes._subplots.AxesSubplot at 0x7f0befa14ed0>"
            ]
          },
          "metadata": {},
          "execution_count": 54
        },
        {
          "output_type": "display_data",
          "data": {
            "text/plain": [
              "<Figure size 432x288 with 1 Axes>"
            ],
            "image/png": "[encoded data removed]"
          },
          "metadata": {
            "needs_background": "light"
          }
        }
      ]
    },
    {
      "cell_type": "code",
      "source": [
        "sns.boxplot(x='label', y='Annual Income (k$)', data=data)"
      ],
      "metadata": {
        "colab": {
          "base_uri": "https://localhost:8080/",
          "height": 297
        },
        "id": "9XMxtJx6bpmd",
        "outputId": "d4c45660-34b5-4409-f3ab-488c4f634308"
      },
      "execution_count": 55,
      "outputs": [
        {
          "output_type": "execute_result",
          "data": {
            "text/plain": [
              "<matplotlib.axes._subplots.AxesSubplot at 0x7f0bef927650>"
            ]
          },
          "metadata": {},
          "execution_count": 55
        },
        {
          "output_type": "display_data",
          "data": {
            "text/plain": [
              "<Figure size 432x288 with 1 Axes>"
            ],
            "image/png": "[encoded data removed]"
          },
          "metadata": {
            "needs_background": "light"
          }
        }
      ]
    },
    {
      "cell_type": "code",
      "source": [
        "sns.boxplot(x='label', y='Spending Score (1-100)', data=data)"
      ],
      "metadata": {
        "colab": {
          "base_uri": "https://localhost:8080/",
          "height": 297
        },
        "id": "oURgKr0bbvsM",
        "outputId": "ad6ef271-748d-48da-cce9-b69d38c54351"
      },
      "execution_count": 56,
      "outputs": [
        {
          "output_type": "execute_result",
          "data": {
            "text/plain": [
              "<matplotlib.axes._subplots.AxesSubplot at 0x7f0bef8c9810>"
            ]
          },
          "metadata": {},
          "execution_count": 56
        },
        {
          "output_type": "display_data",
          "data": {
            "text/plain": [
              "<Figure size 432x288 with 1 Axes>"
            ],
            "image/png": "[encoded data removed]"
          },
          "metadata": {
            "needs_background": "light"
          }
        }
      ]
    },
    {
      "cell_type": "code",
      "source": [
        ""
      ],
      "metadata": {
        "id": "fKgMcMqZbx_c"
      },
      "execution_count": null,
      "outputs": []
    },
    {
      "cell_type": "markdown",
      "source": [
        "### PCA를 활용하여 변수를 줄이고 scatter plot 그리기"
      ],
      "metadata": {
        "id": "4hMaWEm0b0PP"
      }
    },
    {
      "cell_type": "code",
      "source": [
        "#Pca에 label정보가 들어가면 안되기에 해당컬럼 제거\n",
        "data.drop('label', axis=1, inplace=True)"
      ],
      "metadata": {
        "id": "usbTcVJnb2ki"
      },
      "execution_count": 57,
      "outputs": []
    },
    {
      "cell_type": "code",
      "source": [
        "from sklearn.decomposition import PCA"
      ],
      "metadata": {
        "id": "kExvwRitchKY"
      },
      "execution_count": 58,
      "outputs": []
    },
    {
      "cell_type": "code",
      "source": [
        "#몇 개의변수로 줄일것인지 파라미터 설정\n",
        "pca = PCA(n_components=2)"
      ],
      "metadata": {
        "id": "03dkIbHMckU5"
      },
      "execution_count": 59,
      "outputs": []
    },
    {
      "cell_type": "code",
      "source": [
        "pca.fit(data)"
      ],
      "metadata": {
        "colab": {
          "base_uri": "https://localhost:8080/"
        },
        "id": "U4_fL5eOczLR",
        "outputId": "062dfd9d-07c8-4dd2-8126-3834d4e6333a"
      },
      "execution_count": 60,
      "outputs": [
        {
          "output_type": "execute_result",
          "data": {
            "text/plain": [
              "PCA(n_components=2)"
            ]
          },
          "metadata": {},
          "execution_count": 60
        }
      ]
    },
    {
      "cell_type": "code",
      "source": [
        "pca_df =pca.transform(data)"
      ],
      "metadata": {
        "id": "2kp16y2Ic0FU"
      },
      "execution_count": 61,
      "outputs": []
    },
    {
      "cell_type": "code",
      "source": [
        "pca_df = pd.DataFrame(pca_df, columns=['PC1', \"PC2\"])"
      ],
      "metadata": {
        "id": "ZwCXgQy8c4pG"
      },
      "execution_count": 62,
      "outputs": []
    },
    {
      "cell_type": "code",
      "source": [
        "pca_df"
      ],
      "metadata": {
        "colab": {
          "base_uri": "https://localhost:8080/",
          "height": 424
        },
        "id": "0DH0aDthc9nj",
        "outputId": "c2d5a282-3ed6-48b7-e1b2-a5a2d6f4c7eb"
      },
      "execution_count": 63,
      "outputs": [
        {
          "output_type": "execute_result",
          "data": {
            "text/plain": [
              "            PC1        PC2\n",
              "0   -109.383941   5.478454\n",
              "1   -108.202857 -34.931765\n",
              "2   -107.376292  37.840872\n",
              "3   -106.007807 -30.562696\n",
              "4   -104.980323   7.296747\n",
              "..          ...        ...\n",
              "195  111.652574 -27.964645\n",
              "196  114.615358  24.017825\n",
              "197  115.911505 -23.729967\n",
              "198  120.939935  30.859889\n",
              "199  122.297753 -32.853069\n",
              "\n",
              "[200 rows x 2 columns]"
            ],
            "text/html": [
              "\n",
              "  <div id=\"df-448c9bd4-9a36-4eaf-90c8-41a1ef8a1935\">\n",
              "    <div class=\"colab-df-container\">\n",
              "      <div>\n",
              "<style scoped>\n",
              "    .dataframe tbody tr th:only-of-type {\n",
              "        vertical-align: middle;\n",
              "    }\n",
              "\n",
              "    .dataframe tbody tr th {\n",
              "        vertical-align: top;\n",
              "    }\n",
              "\n",
              "    .dataframe thead th {\n",
              "        text-align: right;\n",
              "    }\n",
              "</style>\n",
              "<table border=\"1\" class=\"dataframe\">\n",
              "  <thead>\n",
              "    <tr style=\"text-align: right;\">\n",
              "      <th></th>\n",
              "      <th>PC1</th>\n",
              "      <th>PC2</th>\n",
              "    </tr>\n",
              "  </thead>\n",
              "  <tbody>\n",
              "    <tr>\n",
              "      <th>0</th>\n",
              "      <td>-109.383941</td>\n",
              "      <td>5.478454</td>\n",
              "    </tr>\n",
              "    <tr>\n",
              "      <th>1</th>\n",
              "      <td>-108.202857</td>\n",
              "      <td>-34.931765</td>\n",
              "    </tr>\n",
              "    <tr>\n",
              "      <th>2</th>\n",
              "      <td>-107.376292</td>\n",
              "      <td>37.840872</td>\n",
              "    </tr>\n",
              "    <tr>\n",
              "      <th>3</th>\n",
              "      <td>-106.007807</td>\n",
              "      <td>-30.562696</td>\n",
              "    </tr>\n",
              "    <tr>\n",
              "      <th>4</th>\n",
              "      <td>-104.980323</td>\n",
              "      <td>7.296747</td>\n",
              "    </tr>\n",
              "    <tr>\n",
              "      <th>...</th>\n",
              "      <td>...</td>\n",
              "      <td>...</td>\n",
              "    </tr>\n",
              "    <tr>\n",
              "      <th>195</th>\n",
              "      <td>111.652574</td>\n",
              "      <td>-27.964645</td>\n",
              "    </tr>\n",
              "    <tr>\n",
              "      <th>196</th>\n",
              "      <td>114.615358</td>\n",
              "      <td>24.017825</td>\n",
              "    </tr>\n",
              "    <tr>\n",
              "      <th>197</th>\n",
              "      <td>115.911505</td>\n",
              "      <td>-23.729967</td>\n",
              "    </tr>\n",
              "    <tr>\n",
              "      <th>198</th>\n",
              "      <td>120.939935</td>\n",
              "      <td>30.859889</td>\n",
              "    </tr>\n",
              "    <tr>\n",
              "      <th>199</th>\n",
              "      <td>122.297753</td>\n",
              "      <td>-32.853069</td>\n",
              "    </tr>\n",
              "  </tbody>\n",
              "</table>\n",
              "<p>200 rows × 2 columns</p>\n",
              "</div>\n",
              "      <button class=\"colab-df-convert\" onclick=\"convertToInteractive('df-448c9bd4-9a36-4eaf-90c8-41a1ef8a1935')\"\n",
              "              title=\"Convert this dataframe to an interactive table.\"\n",
              "              style=\"display:none;\">\n",
              "        \n",
              "  <svg xmlns=\"http://www.w3.org/2000/svg\" height=\"24px\"viewBox=\"0 0 24 24\"\n",
              "       width=\"24px\">\n",
              "    <path d=\"M0 0h24v24H0V0z\" fill=\"none\"/>\n",
              "    <path d=\"M18.56 5.44l.94 2.06.94-2.06 2.06-.94-2.06-.94-.94-2.06-.94 2.06-2.06.94zm-11 1L8.5 8.5l.94-2.06 2.06-.94-2.06-.94L8.5 2.5l-.94 2.06-2.06.94zm10 10l.94 2.06.94-2.06 2.06-.94-2.06-.94-.94-2.06-.94 2.06-2.06.94z\"/><path d=\"M17.41 7.96l-1.37-1.37c-.4-.4-.92-.59-1.43-.59-.52 0-1.04.2-1.43.59L10.3 9.45l-7.72 7.72c-.78.78-.78 2.05 0 2.83L4 21.41c.39.39.9.59 1.41.59.51 0 1.02-.2 1.41-.59l7.78-7.78 2.81-2.81c.8-.78.8-2.07 0-2.86zM5.41 20L4 18.59l7.72-7.72 1.47 1.35L5.41 20z\"/>\n",
              "  </svg>\n",
              "      </button>\n",
              "      \n",
              "  <style>\n",
              "    .colab-df-container {\n",
              "      display:flex;\n",
              "      flex-wrap:wrap;\n",
              "      gap: 12px;\n",
              "    }\n",
              "\n",
              "    .colab-df-convert {\n",
              "      background-color: #E8F0FE;\n",
              "      border: none;\n",
              "      border-radius: 50%;\n",
              "      cursor: pointer;\n",
              "      display: none;\n",
              "      fill: #1967D2;\n",
              "      height: 32px;\n",
              "      padding: 0 0 0 0;\n",
              "      width: 32px;\n",
              "    }\n",
              "\n",
              "    .colab-df-convert:hover {\n",
              "      background-color: #E2EBFA;\n",
              "      box-shadow: 0px 1px 2px rgba(60, 64, 67, 0.3), 0px 1px 3px 1px rgba(60, 64, 67, 0.15);\n",
              "      fill: #174EA6;\n",
              "    }\n",
              "\n",
              "    [theme=dark] .colab-df-convert {\n",
              "      background-color: #3B4455;\n",
              "      fill: #D2E3FC;\n",
              "    }\n",
              "\n",
              "    [theme=dark] .colab-df-convert:hover {\n",
              "      background-color: #434B5C;\n",
              "      box-shadow: 0px 1px 3px 1px rgba(0, 0, 0, 0.15);\n",
              "      filter: drop-shadow(0px 1px 2px rgba(0, 0, 0, 0.3));\n",
              "      fill: #FFFFFF;\n",
              "    }\n",
              "  </style>\n",
              "\n",
              "      <script>\n",
              "        const buttonEl =\n",
              "          document.querySelector('#df-448c9bd4-9a36-4eaf-90c8-41a1ef8a1935 button.colab-df-convert');\n",
              "        buttonEl.style.display =\n",
              "          google.colab.kernel.accessAllowed ? 'block' : 'none';\n",
              "\n",
              "        async function convertToInteractive(key) {\n",
              "          const element = document.querySelector('#df-448c9bd4-9a36-4eaf-90c8-41a1ef8a1935');\n",
              "          const dataTable =\n",
              "            await google.colab.kernel.invokeFunction('convertToInteractive',\n",
              "                                                     [key], {});\n",
              "          if (!dataTable) return;\n",
              "\n",
              "          const docLinkHtml = 'Like what you see? Visit the ' +\n",
              "            '<a target=\"_blank\" href=https://colab.research.google.com/notebooks/data_table.ipynb>data table notebook</a>'\n",
              "            + ' to learn more about interactive tables.';\n",
              "          element.innerHTML = '';\n",
              "          dataTable['output_type'] = 'display_data';\n",
              "          await google.colab.output.renderOutput(dataTable, element);\n",
              "          const docLink = document.createElement('div');\n",
              "          docLink.innerHTML = docLinkHtml;\n",
              "          element.appendChild(docLink);\n",
              "        }\n",
              "      </script>\n",
              "    </div>\n",
              "  </div>\n",
              "  "
            ]
          },
          "metadata": {},
          "execution_count": 63
        }
      ]
    },
    {
      "cell_type": "code",
      "source": [
        "#모델의 값 기준\n",
        "plt.figure(figsize=(20,10))\n",
        "sns.scatterplot(x=pca_df['PC1'], y=pca_df['PC2'], hue = model.labels_, palette='Set2', s=100)"
      ],
      "metadata": {
        "colab": {
          "base_uri": "https://localhost:8080/",
          "height": 624
        },
        "id": "oHvqB2swc-FG",
        "outputId": "d72f1f8b-8566-4e9d-c3af-d3d9e1764f58"
      },
      "execution_count": 64,
      "outputs": [
        {
          "output_type": "execute_result",
          "data": {
            "text/plain": [
              "<matplotlib.axes._subplots.AxesSubplot at 0x7f0bef9f0910>"
            ]
          },
          "metadata": {},
          "execution_count": 64
        },
        {
          "output_type": "display_data",
          "data": {
            "text/plain": [
              "<Figure size 1440x720 with 1 Axes>"
            ],
            "image/png": "[encoded data removed]"
          },
          "metadata": {
            "needs_background": "light"
          }
        }
      ]
    },
    {
      "cell_type": "code",
      "source": [
        ""
      ],
      "metadata": {
        "id": "UlqsvChAdFNK"
      },
      "execution_count": null,
      "outputs": []
    }
  ]
}